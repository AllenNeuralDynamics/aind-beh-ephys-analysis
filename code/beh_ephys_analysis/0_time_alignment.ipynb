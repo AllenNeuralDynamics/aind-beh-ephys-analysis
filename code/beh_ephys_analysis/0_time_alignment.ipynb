{
 "cells": [
  {
   "cell_type": "markdown",
   "metadata": {},
   "source": [
    "### Prepare session for time alignment"
   ]
  },
  {
   "cell_type": "code",
   "execution_count": 17,
   "metadata": {},
   "outputs": [],
   "source": [
    "from harp.clock import decode_harp_clock\n",
    "from beh_functions import session_dirs, parseSessionID\n",
    "from open_ephys.analysis import Session\n",
    "import datetime\n",
    "from aind_ephys_rig_qc.temporal_alignment import search_harp_line\n",
    "import os\n",
    "import numpy as np"
   ]
  },
  {
   "cell_type": "code",
   "execution_count": 12,
   "metadata": {},
   "outputs": [],
   "source": [
    "session_id = 'behavior_716325_2024-05-31_10-31-14'\n",
    "session_dir = session_dirs(session_id)"
   ]
  },
  {
   "cell_type": "code",
   "execution_count": 15,
   "metadata": {},
   "outputs": [
    {
     "name": "stdout",
     "output_type": "stream",
     "text": [
      "Harp line [4] found in behavior_716325_2024-05-31_10-31-14\n"
     ]
    }
   ],
   "source": [
    "session = Session(session_dir['session_dir'])\n",
    "recording = session.recordnodes[0].recordings[0]\n",
    "harp_line, nidaq_stream_name, source_node_id, figure = search_harp_line(recording, session_dir['session_dir'])\n",
    "figure.savefig(os.path.join(session_dir['alignment_dir'], 'harp_line.png'))\n",
    "print(F'Harp line {harp_line} found in {session_id}')"
   ]
  },
  {
   "cell_type": "code",
   "execution_count": 19,
   "metadata": {},
   "outputs": [
    {
     "name": "stdout",
     "output_type": "stream",
     "text": [
      "Harp times saved to: /root/capsule/scratch/behavior_716325_2024-05-31_10-31-14/alignment/harp_times.npy\n",
      "Local times saved to: /root/capsule/scratch/behavior_716325_2024-05-31_10-31-14/alignment/local_times.npy\n"
     ]
    }
   ],
   "source": [
    "events = recording.events\n",
    "harp_events = events[\n",
    "    (events.stream_name == nidaq_stream_name)\n",
    "    & (events.processor_id == source_node_id)\n",
    "    & (events.line == harp_line[0])\n",
    "]\n",
    "\n",
    "harp_states = harp_events.state.values\n",
    "harp_timestamps_local = harp_events.timestamp.values\n",
    "local_times, harp_times = decode_harp_clock(\n",
    "    harp_timestamps_local, harp_states\n",
    ")\n",
    "np.save(os.path.join(session_dir['alignment_dir'], 'harp_times.npy'), harp_times)\n",
    "np.save(os.path.join(session_dir['alignment_dir'], 'local_times.npy'), local_times)\n",
    "\n",
    "print('Harp times saved to: {}'.format(os.path.join(session_dir['alignment_dir'], 'harp_times.npy')))\n",
    "print('Local times saved to: {}'.format(os.path.join(session_dir['alignment_dir'], 'local_times.npy')))"
   ]
  }
 ],
 "metadata": {
  "kernelspec": {
   "display_name": "base",
   "language": "python",
   "name": "python3"
  },
  "language_info": {
   "codemirror_mode": {
    "name": "ipython",
    "version": 3
   },
   "file_extension": ".py",
   "mimetype": "text/x-python",
   "name": "python",
   "nbconvert_exporter": "python",
   "pygments_lexer": "ipython3",
   "version": "3.9.12"
  }
 },
 "nbformat": 4,
 "nbformat_minor": 2
}
