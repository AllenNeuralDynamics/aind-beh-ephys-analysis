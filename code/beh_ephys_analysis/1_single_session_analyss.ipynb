{
 "cells": [
  {
   "cell_type": "code",
   "execution_count": 1,
   "metadata": {},
   "outputs": [],
   "source": [
    "from harp.clock import decode_harp_clock\n",
    "from open_ephys.analysis import Session\n",
    "import datetime\n",
    "from aind_ephys_rig_qc.temporal_alignment import search_harp_line\n",
    "import os\n",
    "import numpy as np\n",
    "import matplotlib.pyplot as plt\n",
    "import matplotlib.gridspec as gridspec\n",
    "import pandas as pd\n",
    "import os\n",
    "from pynwb import NWBFile, TimeSeries, NWBHDF5IO\n",
    "from scipy.io import loadmat\n",
    "from scipy.stats import zscore\n",
    "\n",
    "from open_ephys.analysis import Session\n",
    "from pathlib import Path\n",
    "import glob\n",
    "\n",
    "import spikeinterface as si\n",
    "import xarray as xr\n",
    "import json\n",
    "import seaborn as sns\n",
    "from PyPDF2 import PdfMerger\n",
    "from aind_ephys_utils import align \n",
    "from sklearn.linear_model import LinearRegression\n",
    "import statsmodels.api as sm\n",
    "import re\n",
    "from aind_dynamic_foraging_basic_analysis.lick_analysis import load_nwb, load_data\n",
    "from hdmf_zarr.nwb import NWBZarrIO\n",
    "from beh_functions import session_dirs, parseSessionID, load_model_dv, makeSessionDF\n",
    "\n",
    "%matplotlib inline\n",
    "%matplotlib widget"
   ]
  },
  {
   "cell_type": "markdown",
   "metadata": {},
   "source": [
    "### Load behavior and model data"
   ]
  },
  {
   "cell_type": "code",
   "execution_count": 2,
   "metadata": {},
   "outputs": [],
   "source": [
    "session_id = 'behavior_716325_2024-05-31_10-31-14'\n",
    "model_name = 'stan_qLearning_5params'"
   ]
  },
  {
   "cell_type": "code",
   "execution_count": 3,
   "metadata": {},
   "outputs": [
    {
     "data": {
      "text/html": [
       "<div>\n",
       "<style scoped>\n",
       "    .dataframe tbody tr th:only-of-type {\n",
       "        vertical-align: middle;\n",
       "    }\n",
       "\n",
       "    .dataframe tbody tr th {\n",
       "        vertical-align: top;\n",
       "    }\n",
       "\n",
       "    .dataframe thead th {\n",
       "        text-align: right;\n",
       "    }\n",
       "</style>\n",
       "<table border=\"1\" class=\"dataframe\">\n",
       "  <thead>\n",
       "    <tr style=\"text-align: right;\">\n",
       "      <th></th>\n",
       "      <th>outcome</th>\n",
       "      <th>choice</th>\n",
       "      <th>laser</th>\n",
       "      <th>outcome_prev</th>\n",
       "      <th>laser_prev</th>\n",
       "      <th>choices_prev</th>\n",
       "      <th>go_cue_time</th>\n",
       "      <th>choice_time</th>\n",
       "      <th>outcome_time</th>\n",
       "      <th>Q_r</th>\n",
       "      <th>Q_l</th>\n",
       "      <th>pe</th>\n",
       "      <th>pChoice</th>\n",
       "    </tr>\n",
       "  </thead>\n",
       "  <tbody>\n",
       "    <tr>\n",
       "      <th>0</th>\n",
       "      <td>1.0</td>\n",
       "      <td>1.0</td>\n",
       "      <td>0.0</td>\n",
       "      <td>NaN</td>\n",
       "      <td>NaN</td>\n",
       "      <td>NaN</td>\n",
       "      <td>3.892971e+06</td>\n",
       "      <td>3.892972e+06</td>\n",
       "      <td>3.892972e+06</td>\n",
       "      <td>0.000000</td>\n",
       "      <td>0.0</td>\n",
       "      <td>1.000000</td>\n",
       "      <td>0.297878</td>\n",
       "    </tr>\n",
       "    <tr>\n",
       "      <th>1</th>\n",
       "      <td>1.0</td>\n",
       "      <td>1.0</td>\n",
       "      <td>0.0</td>\n",
       "      <td>1.0</td>\n",
       "      <td>0.0</td>\n",
       "      <td>1.0</td>\n",
       "      <td>3.892984e+06</td>\n",
       "      <td>3.892985e+06</td>\n",
       "      <td>3.892985e+06</td>\n",
       "      <td>0.836632</td>\n",
       "      <td>0.0</td>\n",
       "      <td>0.163368</td>\n",
       "      <td>0.899718</td>\n",
       "    </tr>\n",
       "    <tr>\n",
       "      <th>2</th>\n",
       "      <td>1.0</td>\n",
       "      <td>1.0</td>\n",
       "      <td>0.0</td>\n",
       "      <td>1.0</td>\n",
       "      <td>0.0</td>\n",
       "      <td>1.0</td>\n",
       "      <td>3.893001e+06</td>\n",
       "      <td>3.893001e+06</td>\n",
       "      <td>3.893001e+06</td>\n",
       "      <td>0.960854</td>\n",
       "      <td>0.0</td>\n",
       "      <td>0.039146</td>\n",
       "      <td>0.937385</td>\n",
       "    </tr>\n",
       "    <tr>\n",
       "      <th>3</th>\n",
       "      <td>1.0</td>\n",
       "      <td>1.0</td>\n",
       "      <td>0.0</td>\n",
       "      <td>1.0</td>\n",
       "      <td>0.0</td>\n",
       "      <td>1.0</td>\n",
       "      <td>3.893035e+06</td>\n",
       "      <td>3.893035e+06</td>\n",
       "      <td>3.893035e+06</td>\n",
       "      <td>0.988901</td>\n",
       "      <td>0.0</td>\n",
       "      <td>0.011099</td>\n",
       "      <td>0.943527</td>\n",
       "    </tr>\n",
       "    <tr>\n",
       "      <th>4</th>\n",
       "      <td>0.0</td>\n",
       "      <td>1.0</td>\n",
       "      <td>0.0</td>\n",
       "      <td>1.0</td>\n",
       "      <td>0.0</td>\n",
       "      <td>1.0</td>\n",
       "      <td>3.893107e+06</td>\n",
       "      <td>3.893108e+06</td>\n",
       "      <td>3.893108e+06</td>\n",
       "      <td>0.996498</td>\n",
       "      <td>0.0</td>\n",
       "      <td>-0.996498</td>\n",
       "      <td>0.944997</td>\n",
       "    </tr>\n",
       "  </tbody>\n",
       "</table>\n",
       "</div>"
      ],
      "text/plain": [
       "   outcome  choice  laser  outcome_prev  laser_prev  choices_prev  \\\n",
       "0      1.0     1.0    0.0           NaN         NaN           NaN   \n",
       "1      1.0     1.0    0.0           1.0         0.0           1.0   \n",
       "2      1.0     1.0    0.0           1.0         0.0           1.0   \n",
       "3      1.0     1.0    0.0           1.0         0.0           1.0   \n",
       "4      0.0     1.0    0.0           1.0         0.0           1.0   \n",
       "\n",
       "    go_cue_time   choice_time  outcome_time       Q_r  Q_l        pe   pChoice  \n",
       "0  3.892971e+06  3.892972e+06  3.892972e+06  0.000000  0.0  1.000000  0.297878  \n",
       "1  3.892984e+06  3.892985e+06  3.892985e+06  0.836632  0.0  0.163368  0.899718  \n",
       "2  3.893001e+06  3.893001e+06  3.893001e+06  0.960854  0.0  0.039146  0.937385  \n",
       "3  3.893035e+06  3.893035e+06  3.893035e+06  0.988901  0.0  0.011099  0.943527  \n",
       "4  3.893107e+06  3.893108e+06  3.893108e+06  0.996498  0.0 -0.996498  0.944997  "
      ]
     },
     "execution_count": 3,
     "metadata": {},
     "output_type": "execute_result"
    }
   ],
   "source": [
    "session_dir = session_dirs(session_id, model_name)\n",
    "nwb = load_nwb(session_dir['nwb_dir'])\n",
    "model_dv, session_cut = load_model_dv(session_id, model_name)\n",
    "trial_df = makeSessionDF(nwb, cut=session_cut)\n",
    "session_df = pd.merge(trial_df, model_dv, left_index=True, right_index=True, suffixes=('', '_model'))\n",
    "for column in session_df.columns:\n",
    "    if '_model' in column:\n",
    "        session_df.drop(column, axis=1, inplace=True)\n",
    "session_df.head()"
   ]
  },
  {
   "cell_type": "markdown",
   "metadata": {},
   "source": [
    "### Load neuron data, realign if needed"
   ]
  },
  {
   "cell_type": "code",
   "execution_count": 8,
   "metadata": {},
   "outputs": [],
   "source": [
    "# detect if alignment timestamps exist\n",
    "units = nwb.units"
   ]
  },
  {
   "cell_type": "code",
   "execution_count": 27,
   "metadata": {},
   "outputs": [],
   "source": [
    "unit_spikes = units[:][['ks_unit_id', 'spike_times']]\n",
    "unit_qc = units[:][['ks_unit_id', 'isi_violations_ratio', 'firing_rate', 'presence_ratio', 'amplitude_cutoff', 'decoder_label']]\n",
    "unit_wf = units[:][['ks_unit_id', 'waveform_mean', 'waveform_sd']]"
   ]
  },
  {
   "cell_type": "markdown",
   "metadata": {},
   "source": [
    "### Infer major drift point of all units pass qc and cut session short"
   ]
  },
  {
   "cell_type": "markdown",
   "metadata": {},
   "source": [
    "### Plot all units pass qc"
   ]
  },
  {
   "cell_type": "markdown",
   "metadata": {},
   "source": [
    "### Plot all opto tagged units"
   ]
  }
 ],
 "metadata": {
  "kernelspec": {
   "display_name": "base",
   "language": "python",
   "name": "python3"
  },
  "language_info": {
   "codemirror_mode": {
    "name": "ipython",
    "version": 3
   },
   "file_extension": ".py",
   "mimetype": "text/x-python",
   "name": "python",
   "nbconvert_exporter": "python",
   "pygments_lexer": "ipython3",
   "version": "3.9.12"
  }
 },
 "nbformat": 4,
 "nbformat_minor": 2
}
