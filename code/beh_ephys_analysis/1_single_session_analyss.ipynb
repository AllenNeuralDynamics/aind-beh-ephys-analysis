{
 "cells": [
  {
   "cell_type": "code",
   "execution_count": 1,
   "metadata": {},
   "outputs": [],
   "source": [
    "from harp.clock import decode_harp_clock\n",
    "from beh_functions import session_dirs, parseSessionID, load_model_dv\n",
    "from open_ephys.analysis import Session\n",
    "import datetime\n",
    "from aind_ephys_rig_qc.temporal_alignment import search_harp_line\n",
    "import os\n",
    "import numpy as np\n",
    "import matplotlib.pyplot as plt\n",
    "import matplotlib.gridspec as gridspec\n",
    "import pandas as pd\n",
    "import os\n",
    "from pynwb import NWBFile, TimeSeries, NWBHDF5IO\n",
    "from scipy.io import loadmat\n",
    "from scipy.stats import zscore\n",
    "\n",
    "from open_ephys.analysis import Session\n",
    "from pathlib import Path\n",
    "import glob\n",
    "\n",
    "import spikeinterface as si\n",
    "import xarray as xr\n",
    "import json\n",
    "import seaborn as sns\n",
    "from PyPDF2 import PdfMerger\n",
    "from aind_ephys_utils import align \n",
    "from sklearn.linear_model import LinearRegression\n",
    "import statsmodels.api as sm\n",
    "import re\n",
    "\n",
    "%matplotlib inline\n",
    "%matplotlib widget"
   ]
  },
  {
   "cell_type": "code",
   "execution_count": 2,
   "metadata": {},
   "outputs": [],
   "source": [
    "session_id = 'behavior_716325_2024-05-31_10-31-14'\n",
    "model_name = 'stan_qLearning_5params'\n",
    "session_dir = session_dirs(session_id, model_name)"
   ]
  },
  {
   "cell_type": "code",
   "execution_count": 3,
   "metadata": {},
   "outputs": [
    {
     "ename": "AttributeError",
     "evalue": "'NoneType' object has no attribute 'to_dataframe'",
     "output_type": "error",
     "traceback": [
      "\u001b[0;31m---------------------------------------------------------------------------\u001b[0m",
      "\u001b[0;31mAttributeError\u001b[0m                            Traceback (most recent call last)",
      "\u001b[1;32m/root/capsule/code/beh_ephys_analysis/1_single_session_analyss.ipynb Cell 3\u001b[0m line \u001b[0;36m1\n\u001b[0;32m----> <a href='vscode-notebook-cell://codeocean.allenneuraldynamics.org/root/capsule/code/beh_ephys_analysis/1_single_session_analyss.ipynb#W2sdnNjb2RlLXJlbW90ZQ%3D%3D?line=0'>1</a>\u001b[0m model_dv \u001b[39m=\u001b[39m load_model_dv(session_dir)\n",
      "File \u001b[0;32m~/capsule/code/beh_ephys_analysis/beh_functions.py:97\u001b[0m, in \u001b[0;36mload_model_dv\u001b[0;34m(model_dirs)\u001b[0m\n\u001b[1;32m     95\u001b[0m model_dv_temp \u001b[39m=\u001b[39m pd\u001b[39m.\u001b[39mread_csv(model_dirs[\u001b[39m'\u001b[39m\u001b[39mmodel_file\u001b[39m\u001b[39m'\u001b[39m])\n\u001b[1;32m     96\u001b[0m nwb \u001b[39m=\u001b[39m load_nwb(model_dirs[\u001b[39m'\u001b[39m\u001b[39mnwb_dir\u001b[39m\u001b[39m'\u001b[39m])\n\u001b[0;32m---> 97\u001b[0m trial_df \u001b[39m=\u001b[39m nwb\u001b[39m.\u001b[39;49mtrials\u001b[39m.\u001b[39;49mto_dataframe()\n\u001b[1;32m     98\u001b[0m model_dv \u001b[39m=\u001b[39m pd\u001b[39m.\u001b[39mDataFrame(np\u001b[39m.\u001b[39mnan, index\u001b[39m=\u001b[39m\u001b[39mrange\u001b[39m(\u001b[39mlen\u001b[39m(trial_df)), columns\u001b[39m=\u001b[39mmodel_dv_temp\u001b[39m.\u001b[39mcolumns)\n\u001b[1;32m     99\u001b[0m session_curation \u001b[39m=\u001b[39m pd\u001b[39m.\u001b[39mread_csv(model_dirs[\u001b[39m'\u001b[39m\u001b[39msession_curation_file\u001b[39m\u001b[39m'\u001b[39m])\n",
      "\u001b[0;31mAttributeError\u001b[0m: 'NoneType' object has no attribute 'to_dataframe'"
     ]
    }
   ],
   "source": [
    "model_dv = load_model_dv(session_dir)"
   ]
  }
 ],
 "metadata": {
  "kernelspec": {
   "display_name": "base",
   "language": "python",
   "name": "python3"
  },
  "language_info": {
   "codemirror_mode": {
    "name": "ipython",
    "version": 3
   },
   "file_extension": ".py",
   "mimetype": "text/x-python",
   "name": "python",
   "nbconvert_exporter": "python",
   "pygments_lexer": "ipython3",
   "version": "3.9.12"
  }
 },
 "nbformat": 4,
 "nbformat_minor": 2
}
