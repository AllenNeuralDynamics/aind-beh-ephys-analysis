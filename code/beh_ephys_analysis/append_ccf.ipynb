{
 "cells": [
  {
   "cell_type": "code",
   "execution_count": 3,
   "metadata": {},
   "outputs": [],
   "source": [
    "import pickle\n",
    "import sys\n",
    "import os\n",
    "import json\n",
    "import pandas as pd\n",
    "import ast\n",
    "import numpy as np\n",
    "from utils.beh_functions import parseSessionID"
   ]
  },
  {
   "cell_type": "code",
   "execution_count": 4,
   "metadata": {},
   "outputs": [],
   "source": [
    "# Load the CCF summary CSV file\n",
    "ccf_file_path = '/root/capsule/code/data_management/combined_ephys_session_ccf_summary.csv'\n",
    "ccf_df = pd.read_csv(ccf_file_path)\n",
    "# load the combined pickle file\n",
    "combined_pickle_path = '/root/capsule/scratch/combined/combine_unit_tbl/combined_unit_tbl.pkl'\n",
    "with open(combined_pickle_path, 'rb') as f:\n",
    "    combined_unit_tbl = pickle.load(f)"
   ]
  },
  {
   "cell_type": "code",
   "execution_count": 5,
   "metadata": {},
   "outputs": [],
   "source": [
    "skipping_ani_ids = ['751004', '751769']"
   ]
  },
  {
   "cell_type": "code",
   "execution_count": 11,
   "metadata": {},
   "outputs": [],
   "source": [
    "for ind, row in ccf_df.iterrows():\n",
    "    session = row['session']\n",
    "    aniID, date_obj, raw_id = parseSessionID(session)\n",
    "    if aniID not in skipping_ani_ids:\n",
    "        units = ast.literal_eval(row['opto_units']) if isinstance(row['opto_units'], str) else None\n",
    "        ccfs = ast.literal_eval(row['opto_unit_ccf_pts']) if isinstance(row['opto_unit_ccf_pts'], str) else None\n",
    "        if ccfs is not None:\n",
    "            for unit, ccf in zip(units, ccfs):\n",
    "                if len(combined_unit_tbl[(combined_unit_tbl['unit'] == unit) & (combined_unit_tbl['session'] == session)]) > 0:\n",
    "                    combined_unit_tbl.loc[(combined_unit_tbl['unit'] == unit) & (combined_unit_tbl['session'] == session), 'x_ccf'] = ccf[0]\n",
    "                    combined_unit_tbl.loc[(combined_unit_tbl['unit'] == unit) & (combined_unit_tbl['session'] == session), 'y_ccf'] = ccf[1]\n",
    "                    combined_unit_tbl.loc[(combined_unit_tbl['unit'] == unit) & (combined_unit_tbl['session'] == session), 'z_ccf'] = ccf[2]\n",
    "                else:\n",
    "                    print(f\"Unit {unit} in session {session} not found in combined_unit_tbl. Skipping update.\")"
   ]
  },
  {
   "cell_type": "code",
   "execution_count": null,
   "metadata": {},
   "outputs": [],
   "source": [
    "# update the existing pickle file with the new CCF coordinates\n",
    "with open(combined_pickle_path, 'wb') as f:\n",
    "    pickle.dump(combined_unit_tbl, f)"
   ]
  }
 ],
 "metadata": {
  "kernelspec": {
   "display_name": "base",
   "language": "python",
   "name": "python3"
  },
  "language_info": {
   "codemirror_mode": {
    "name": "ipython",
    "version": 3
   },
   "file_extension": ".py",
   "mimetype": "text/x-python",
   "name": "python",
   "nbconvert_exporter": "python",
   "pygments_lexer": "ipython3",
   "version": "3.10.17"
  }
 },
 "nbformat": 4,
 "nbformat_minor": 2
}
