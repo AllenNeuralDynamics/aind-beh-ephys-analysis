{
 "cells": [
  {
   "cell_type": "code",
   "execution_count": 1,
   "metadata": {},
   "outputs": [],
   "source": [
    "from behavior_and_time_alignment import beh_and_time_alignment\n",
    "from session_preprocessing import ephys_opto_preprocessing, session_crosscorr, ephys_opto_crosscorr\n",
    "from opto_tagging import opto_plotting_session, opto_plotting_unit\n",
    "from opto_waveforms_preprocessing import opto_wf_preprocessing\n",
    "from drift_analysis import plot_session_opto_drift\n",
    "import matplotlib.pyplot as plt\n",
    "from utils.beh_functions import session_dirs, get_unit_tbl\n",
    "import numpy as np\n",
    "import pandas as pd\n",
    "import os\n",
    "from utils.plot_utils import combine_pdf_big\n",
    "import spikeinterface as si\n",
    "from joblib import Parallel, delayed\n",
    "import pickle"
   ]
  },
  {
   "cell_type": "code",
   "execution_count": 2,
   "metadata": {},
   "outputs": [],
   "source": [
    "file = '/root/capsule/scratch/684930/ecephys_684930_2023-09-27_10-04-04/ephys/opto/curated/ecephys_684930_2023-09-27_10-04-04_opto_waveform_metrics.pkl'\n",
    "with open(file, 'rb') as f:\n",
    "    wf_metrics = pickle.load(f)"
   ]
  },
  {
   "cell_type": "code",
   "execution_count": 3,
   "metadata": {},
   "outputs": [
    {
     "data": {
      "text/html": [
       "<div>\n",
       "<style scoped>\n",
       "    .dataframe tbody tr th:only-of-type {\n",
       "        vertical-align: middle;\n",
       "    }\n",
       "\n",
       "    .dataframe tbody tr th {\n",
       "        vertical-align: top;\n",
       "    }\n",
       "\n",
       "    .dataframe thead th {\n",
       "        text-align: right;\n",
       "    }\n",
       "</style>\n",
       "<table border=\"1\" class=\"dataframe\">\n",
       "  <thead>\n",
       "    <tr style=\"text-align: right;\">\n",
       "      <th></th>\n",
       "      <th>unit_id</th>\n",
       "      <th>power</th>\n",
       "      <th>site</th>\n",
       "      <th>duration</th>\n",
       "      <th>pre_post</th>\n",
       "      <th>template</th>\n",
       "      <th>peak_channel</th>\n",
       "      <th>peak_waveform</th>\n",
       "      <th>spont</th>\n",
       "      <th>count</th>\n",
       "      <th>euclidean_norm</th>\n",
       "      <th>correlation</th>\n",
       "    </tr>\n",
       "  </thead>\n",
       "  <tbody>\n",
       "    <tr>\n",
       "      <th>0</th>\n",
       "      <td>0</td>\n",
       "      <td>NaN</td>\n",
       "      <td>NaN</td>\n",
       "      <td>NaN</td>\n",
       "      <td>pre</td>\n",
       "      <td>[[6.617517948150635, 6.7672810554504395, 10.75...</td>\n",
       "      <td>AP3</td>\n",
       "      <td>[10.754636764526367, 10.398958206176758, 9.622...</td>\n",
       "      <td>1</td>\n",
       "      <td>250</td>\n",
       "      <td>NaN</td>\n",
       "      <td>NaN</td>\n",
       "    </tr>\n",
       "    <tr>\n",
       "      <th>1</th>\n",
       "      <td>1</td>\n",
       "      <td>NaN</td>\n",
       "      <td>NaN</td>\n",
       "      <td>NaN</td>\n",
       "      <td>pre</td>\n",
       "      <td>[[3.906782388687134, -0.6104354858398438, 4.76...</td>\n",
       "      <td>AP1</td>\n",
       "      <td>[3.906782388687134, 3.9678266048431396, 3.3166...</td>\n",
       "      <td>1</td>\n",
       "      <td>115</td>\n",
       "      <td>NaN</td>\n",
       "      <td>NaN</td>\n",
       "    </tr>\n",
       "    <tr>\n",
       "      <th>2</th>\n",
       "      <td>2</td>\n",
       "      <td>NaN</td>\n",
       "      <td>NaN</td>\n",
       "      <td>NaN</td>\n",
       "      <td>pre</td>\n",
       "      <td>[[4.754879951477051, 5.840639591217041, 5.8406...</td>\n",
       "      <td>AP4</td>\n",
       "      <td>[9.032401084899902, 11.044801712036133, 11.278...</td>\n",
       "      <td>1</td>\n",
       "      <td>250</td>\n",
       "      <td>NaN</td>\n",
       "      <td>NaN</td>\n",
       "    </tr>\n",
       "    <tr>\n",
       "      <th>3</th>\n",
       "      <td>3</td>\n",
       "      <td>NaN</td>\n",
       "      <td>NaN</td>\n",
       "      <td>NaN</td>\n",
       "      <td>pre</td>\n",
       "      <td>[[-17.75592803955078, -14.302083969116211, -17...</td>\n",
       "      <td>AP3</td>\n",
       "      <td>[-17.840160369873047, -17.484487533569336, -17...</td>\n",
       "      <td>1</td>\n",
       "      <td>250</td>\n",
       "      <td>NaN</td>\n",
       "      <td>NaN</td>\n",
       "    </tr>\n",
       "    <tr>\n",
       "      <th>4</th>\n",
       "      <td>4</td>\n",
       "      <td>NaN</td>\n",
       "      <td>NaN</td>\n",
       "      <td>NaN</td>\n",
       "      <td>pre</td>\n",
       "      <td>[[10.1080322265625, 9.187376022338867, 8.74623...</td>\n",
       "      <td>AP4</td>\n",
       "      <td>[8.28590202331543, 8.938031196594238, 10.62589...</td>\n",
       "      <td>1</td>\n",
       "      <td>122</td>\n",
       "      <td>NaN</td>\n",
       "      <td>NaN</td>\n",
       "    </tr>\n",
       "    <tr>\n",
       "      <th>...</th>\n",
       "      <td>...</td>\n",
       "      <td>...</td>\n",
       "      <td>...</td>\n",
       "      <td>...</td>\n",
       "      <td>...</td>\n",
       "      <td>...</td>\n",
       "      <td>...</td>\n",
       "      <td>...</td>\n",
       "      <td>...</td>\n",
       "      <td>...</td>\n",
       "      <td>...</td>\n",
       "      <td>...</td>\n",
       "    </tr>\n",
       "    <tr>\n",
       "      <th>2743</th>\n",
       "      <td>446</td>\n",
       "      <td>0.2</td>\n",
       "      <td>11</td>\n",
       "      <td>10</td>\n",
       "      <td>pre</td>\n",
       "      <td>[[0.0, 0.0, 0.0, 0.0, 0.0, 0.0, 0.0, 0.0, 0.0,...</td>\n",
       "      <td>AP89</td>\n",
       "      <td>[11.231999397277832, 10.06199836730957, 12.869...</td>\n",
       "      <td>0</td>\n",
       "      <td>10</td>\n",
       "      <td>0.082287</td>\n",
       "      <td>0.995836</td>\n",
       "    </tr>\n",
       "    <tr>\n",
       "      <th>2744</th>\n",
       "      <td>447</td>\n",
       "      <td>0.2</td>\n",
       "      <td>11</td>\n",
       "      <td>10</td>\n",
       "      <td>pre</td>\n",
       "      <td>[[0.0, 0.0, 0.0, 0.0, 0.0, 0.0, 0.0, 0.0, 0.0,...</td>\n",
       "      <td>AP84</td>\n",
       "      <td>[11.31639289855957, 14.078359603881836, 11.968...</td>\n",
       "      <td>0</td>\n",
       "      <td>61</td>\n",
       "      <td>0.379069</td>\n",
       "      <td>0.995592</td>\n",
       "    </tr>\n",
       "    <tr>\n",
       "      <th>2745</th>\n",
       "      <td>448</td>\n",
       "      <td>0.2</td>\n",
       "      <td>11</td>\n",
       "      <td>10</td>\n",
       "      <td>pre</td>\n",
       "      <td>[[0.0, 0.0, 0.0, 0.0, 0.0, 0.0, 0.0, 0.0, 0.0,...</td>\n",
       "      <td>AP74</td>\n",
       "      <td>[5.030999660491943, 4.972499847412109, 4.97249...</td>\n",
       "      <td>0</td>\n",
       "      <td>40</td>\n",
       "      <td>0.172746</td>\n",
       "      <td>0.989162</td>\n",
       "    </tr>\n",
       "    <tr>\n",
       "      <th>2746</th>\n",
       "      <td>449</td>\n",
       "      <td>0.2</td>\n",
       "      <td>11</td>\n",
       "      <td>10</td>\n",
       "      <td>pre</td>\n",
       "      <td>[[0.0, 0.0, 0.0, 0.0, 0.0, 0.0, 0.0, 0.0, 0.0,...</td>\n",
       "      <td>AP31</td>\n",
       "      <td>[1.508000135421753, 2.2879996299743652, 4.3160...</td>\n",
       "      <td>0</td>\n",
       "      <td>45</td>\n",
       "      <td>0.122741</td>\n",
       "      <td>0.986845</td>\n",
       "    </tr>\n",
       "    <tr>\n",
       "      <th>2747</th>\n",
       "      <td>450</td>\n",
       "      <td>0.2</td>\n",
       "      <td>11</td>\n",
       "      <td>10</td>\n",
       "      <td>pre</td>\n",
       "      <td>[[0.0, 0.0, 0.0, 0.0, 0.0, 0.0, 0.0, 0.0, 0.0,...</td>\n",
       "      <td>AP60</td>\n",
       "      <td>[9.610713005065918, 8.524285316467285, 6.76928...</td>\n",
       "      <td>0</td>\n",
       "      <td>28</td>\n",
       "      <td>0.182396</td>\n",
       "      <td>0.989037</td>\n",
       "    </tr>\n",
       "  </tbody>\n",
       "</table>\n",
       "<p>2748 rows × 12 columns</p>\n",
       "</div>"
      ],
      "text/plain": [
       "     unit_id power site duration pre_post  \\\n",
       "0          0   NaN  NaN      NaN      pre   \n",
       "1          1   NaN  NaN      NaN      pre   \n",
       "2          2   NaN  NaN      NaN      pre   \n",
       "3          3   NaN  NaN      NaN      pre   \n",
       "4          4   NaN  NaN      NaN      pre   \n",
       "...      ...   ...  ...      ...      ...   \n",
       "2743     446   0.2   11       10      pre   \n",
       "2744     447   0.2   11       10      pre   \n",
       "2745     448   0.2   11       10      pre   \n",
       "2746     449   0.2   11       10      pre   \n",
       "2747     450   0.2   11       10      pre   \n",
       "\n",
       "                                               template peak_channel  \\\n",
       "0     [[6.617517948150635, 6.7672810554504395, 10.75...          AP3   \n",
       "1     [[3.906782388687134, -0.6104354858398438, 4.76...          AP1   \n",
       "2     [[4.754879951477051, 5.840639591217041, 5.8406...          AP4   \n",
       "3     [[-17.75592803955078, -14.302083969116211, -17...          AP3   \n",
       "4     [[10.1080322265625, 9.187376022338867, 8.74623...          AP4   \n",
       "...                                                 ...          ...   \n",
       "2743  [[0.0, 0.0, 0.0, 0.0, 0.0, 0.0, 0.0, 0.0, 0.0,...         AP89   \n",
       "2744  [[0.0, 0.0, 0.0, 0.0, 0.0, 0.0, 0.0, 0.0, 0.0,...         AP84   \n",
       "2745  [[0.0, 0.0, 0.0, 0.0, 0.0, 0.0, 0.0, 0.0, 0.0,...         AP74   \n",
       "2746  [[0.0, 0.0, 0.0, 0.0, 0.0, 0.0, 0.0, 0.0, 0.0,...         AP31   \n",
       "2747  [[0.0, 0.0, 0.0, 0.0, 0.0, 0.0, 0.0, 0.0, 0.0,...         AP60   \n",
       "\n",
       "                                          peak_waveform spont count  \\\n",
       "0     [10.754636764526367, 10.398958206176758, 9.622...     1   250   \n",
       "1     [3.906782388687134, 3.9678266048431396, 3.3166...     1   115   \n",
       "2     [9.032401084899902, 11.044801712036133, 11.278...     1   250   \n",
       "3     [-17.840160369873047, -17.484487533569336, -17...     1   250   \n",
       "4     [8.28590202331543, 8.938031196594238, 10.62589...     1   122   \n",
       "...                                                 ...   ...   ...   \n",
       "2743  [11.231999397277832, 10.06199836730957, 12.869...     0    10   \n",
       "2744  [11.31639289855957, 14.078359603881836, 11.968...     0    61   \n",
       "2745  [5.030999660491943, 4.972499847412109, 4.97249...     0    40   \n",
       "2746  [1.508000135421753, 2.2879996299743652, 4.3160...     0    45   \n",
       "2747  [9.610713005065918, 8.524285316467285, 6.76928...     0    28   \n",
       "\n",
       "      euclidean_norm  correlation  \n",
       "0                NaN          NaN  \n",
       "1                NaN          NaN  \n",
       "2                NaN          NaN  \n",
       "3                NaN          NaN  \n",
       "4                NaN          NaN  \n",
       "...              ...          ...  \n",
       "2743        0.082287     0.995836  \n",
       "2744        0.379069     0.995592  \n",
       "2745        0.172746     0.989162  \n",
       "2746        0.122741     0.986845  \n",
       "2747        0.182396     0.989037  \n",
       "\n",
       "[2748 rows x 12 columns]"
      ]
     },
     "execution_count": 3,
     "metadata": {},
     "output_type": "execute_result"
    }
   ],
   "source": [
    "wf_metrics"
   ]
  },
  {
   "cell_type": "code",
   "execution_count": 3,
   "metadata": {},
   "outputs": [],
   "source": [
    "unit_tbl = get_unit_tbl('behavior_754897_2025-03-14_11-28-53', 'curated')"
   ]
  },
  {
   "cell_type": "code",
   "execution_count": 6,
   "metadata": {},
   "outputs": [
    {
     "data": {
      "text/plain": [
       "42    0.411369\n",
       "Name: isi_violations_ratio, dtype: float64"
      ]
     },
     "execution_count": 6,
     "metadata": {},
     "output_type": "execute_result"
    }
   ],
   "source": [
    "unit_tbl[unit_tbl['unit_id']==48]['isi_violations_ratio']"
   ]
  },
  {
   "cell_type": "code",
   "execution_count": 5,
   "metadata": {},
   "outputs": [
    {
     "data": {
      "text/plain": [
       "Index(['unit_id', 'bl_max_p', 'p_max', 'p_mean', 'lat_max_p', 'lat_mean',\n",
       "       'euc_max_p', 'corr_max_p', 'opto_pass', 'amp', 'peak', 'real_unit',\n",
       "       'y_loc', 'pass_count', 'spike_times', 'ks_unit_id',\n",
       "       'isi_violations_ratio', 'firing_rate', 'presence_ratio',\n",
       "       'amplitude_cutoff', 'decoder_label', 'depth', 'waveform_mean',\n",
       "       'waveform_sd', 'default_qc', 'LC_range_top', 'LC_range_bottom',\n",
       "       'tagged_loc', 'tagged', 'amplitude_opt', 'peak_wf_opt', 'mat_wf_opt'],\n",
       "      dtype='object')"
      ]
     },
     "execution_count": 5,
     "metadata": {},
     "output_type": "execute_result"
    }
   ],
   "source": [
    "unit_tbl.columns"
   ]
  },
  {
   "cell_type": "code",
   "execution_count": 2,
   "metadata": {},
   "outputs": [
    {
     "data": {
      "text/plain": [
       "0     ecephys_713854_2024-03-05_12-01-40\n",
       "1     ecephys_713854_2024-03-05_13-01-09\n",
       "2     ecephys_713854_2024-03-05_13-31-20\n",
       "3     ecephys_717120_2024-03-06_12-23-53\n",
       "4     ecephys_717120_2024-03-06_12-54-27\n",
       "5     ecephys_717120_2024-03-07_12-12-02\n",
       "6     ecephys_713854_2024-03-08_14-54-25\n",
       "7     ecephys_713854_2024-03-08_15-43-01\n",
       "8     ecephys_713854_2024-03-08_16-20-33\n",
       "9     ecephys_713854_2024-03-08_17-15-58\n",
       "10    ecephys_684930_2023-09-27_10-04-04\n",
       "11    ecephys_684930_2023-09-28_11-45-27\n",
       "12    ecephys_684930_2023-09-28_12-44-15\n",
       "13    ecephys_687697_2023-09-15_11-30-06\n",
       "14    ecephys_687697_2023-09-15_12-36-06\n",
       "15    ecephys_691893_2023-10-05_12-46-57\n",
       "16    ecephys_691893_2023-10-06_13-48-18\n",
       "Name: session_id, dtype: object"
      ]
     },
     "execution_count": 2,
     "metadata": {},
     "output_type": "execute_result"
    }
   ],
   "source": [
    "session_assets = pd.read_csv('/root/capsule/code/data_management/session_assets.csv')\n",
    "session_list = session_assets['session_id']\n",
    "session_list[:17]"
   ]
  },
  {
   "cell_type": "code",
   "execution_count": 4,
   "metadata": {},
   "outputs": [
    {
     "name": "stdout",
     "output_type": "stream",
     "text": [
      "behavior_754897_2025-03-12_12-23-15\n",
      "Processing 113 files in /root/capsule/scratch/754897/behavior_754897_2025-03-12_12-23-15/ephys/opto/raw/figures\n",
      "Combined PDF saved as: /root/capsule/scratch/754897/behavior_754897_2025-03-12_12-23-15/ephys/opto/raw/behavior_754897_2025-03-12_12-23-15_opto_tagging_png.pdf\n",
      "behavior_754897_2025-03-13_11-20-42\n",
      "Processing 273 files in /root/capsule/scratch/754897/behavior_754897_2025-03-13_11-20-42/ephys/opto/raw/figures\n",
      "Combined PDF saved as: /root/capsule/scratch/754897/behavior_754897_2025-03-13_11-20-42/ephys/opto/raw/behavior_754897_2025-03-13_11-20-42_opto_tagging_png.pdf\n",
      "behavior_754897_2025-03-14_11-28-53\n",
      "Processing 125 files in /root/capsule/scratch/754897/behavior_754897_2025-03-14_11-28-53/ephys/opto/raw/figures\n",
      "Combined PDF saved as: /root/capsule/scratch/754897/behavior_754897_2025-03-14_11-28-53/ephys/opto/raw/behavior_754897_2025-03-14_11-28-53_opto_tagging_png.pdf\n",
      "behavior_754897_2025-03-15_11-32-18\n",
      "Processing 155 files in /root/capsule/scratch/754897/behavior_754897_2025-03-15_11-32-18/ephys/opto/raw/figures\n",
      "Combined PDF saved as: /root/capsule/scratch/754897/behavior_754897_2025-03-15_11-32-18/ephys/opto/raw/behavior_754897_2025-03-15_11-32-18_opto_tagging_png.pdf\n",
      "Failed to process nan\n",
      "Failed to process nan\n"
     ]
    }
   ],
   "source": [
    "# combine opto pdfs\n",
    "data_type = 'curated'\n",
    "def process(session, data_type):\n",
    "    pdf_dir = session_dirs(session)[f'opto_dir_fig_{data_type}']\n",
    "    output_pdf = os.path.join(session_dirs(session)[f'opto_dir_{data_type}'], f'{session}_opto_tagging_png.pdf')\n",
    "    if os.path.exists(pdf_dir) and not os.path.exists(output_pdf):\n",
    "        print(session)\n",
    "        combine_pdf_big(pdf_dir, output_pdf)\n",
    "# Parallel(n_jobs=4)(delayed(process)(session, data_type) for session in session_list)\n",
    "for session in session_list[48:]:\n",
    "    try:\n",
    "        process(session, data_type)\n",
    "        plt.close('all')\n",
    "    except:\n",
    "        print(f'Failed to process {session}')"
   ]
  },
  {
   "cell_type": "code",
   "execution_count": 5,
   "metadata": {},
   "outputs": [
    {
     "name": "stderr",
     "output_type": "stream",
     "text": [
      "/opt/conda/lib/python3.10/site-packages/spikeinterface/core/base.py:1109: UserWarning: Versions are not the same. This might lead to compatibility errors. Using spikeinterface==0.100.7 is recommended\n",
      "  warnings.warn(\n",
      "/opt/conda/lib/python3.10/site-packages/spikeinterface/core/waveforms_extractor_backwards_compatibility.py:650: UserWarning: Removing legacy parameter return_scaled from spike_amplitudes extension\n",
      "  warnings.warn(f\"Removing legacy parameter {p} from {old_name} extension\")\n",
      "/opt/conda/lib/python3.10/site-packages/spikeinterface/core/waveforms_extractor_backwards_compatibility.py:650: UserWarning: Removing legacy parameter metrics_kwargs from template_metrics extension\n",
      "  warnings.warn(f\"Removing legacy parameter {p} from {old_name} extension\")\n",
      "/opt/conda/lib/python3.10/site-packages/spikeinterface/core/waveforms_extractor_backwards_compatibility.py:650: UserWarning: Removing legacy parameter method_kwargs from unit_locations extension\n",
      "  warnings.warn(f\"Removing legacy parameter {p} from {old_name} extension\")\n",
      "/opt/conda/lib/python3.10/site-packages/spikeinterface/core/waveforms_extractor_backwards_compatibility.py:650: UserWarning: Removing legacy parameter sparsity from quality_metrics extension\n",
      "  warnings.warn(f\"Removing legacy parameter {p} from {old_name} extension\")\n",
      "/opt/conda/lib/python3.10/site-packages/spikeinterface/core/waveforms_extractor_backwards_compatibility.py:650: UserWarning: Removing legacy parameter qm_params from quality_metrics extension\n",
      "  warnings.warn(f\"Removing legacy parameter {p} from {old_name} extension\")\n",
      "/opt/conda/lib/python3.10/site-packages/spikeinterface/core/waveforms_extractor_backwards_compatibility.py:650: UserWarning: Removing legacy parameter sparsity from principal_components extension\n",
      "  warnings.warn(f\"Removing legacy parameter {p} from {old_name} extension\")\n",
      "/opt/conda/lib/python3.10/site-packages/spikeinterface/core/waveforms_extractor_backwards_compatibility.py:650: UserWarning: Removing legacy parameter tmp_folder from principal_components extension\n",
      "  warnings.warn(f\"Removing legacy parameter {p} from {old_name} extension\")\n",
      "/opt/conda/lib/python3.10/site-packages/spikeinterface/core/base.py:1109: UserWarning: Versions are not the same. This might lead to compatibility errors. Using spikeinterface==0.100.7 is recommended\n",
      "  warnings.warn(\n",
      "/opt/conda/lib/python3.10/site-packages/spikeinterface/core/waveforms_extractor_backwards_compatibility.py:650: UserWarning: Removing legacy parameter return_scaled from spike_amplitudes extension\n",
      "  warnings.warn(f\"Removing legacy parameter {p} from {old_name} extension\")\n",
      "/opt/conda/lib/python3.10/site-packages/spikeinterface/core/waveforms_extractor_backwards_compatibility.py:650: UserWarning: Removing legacy parameter metrics_kwargs from template_metrics extension\n",
      "  warnings.warn(f\"Removing legacy parameter {p} from {old_name} extension\")\n",
      "/opt/conda/lib/python3.10/site-packages/spikeinterface/core/waveforms_extractor_backwards_compatibility.py:650: UserWarning: Removing legacy parameter method_kwargs from unit_locations extension\n",
      "  warnings.warn(f\"Removing legacy parameter {p} from {old_name} extension\")\n",
      "/opt/conda/lib/python3.10/site-packages/spikeinterface/core/waveforms_extractor_backwards_compatibility.py:650: UserWarning: Removing legacy parameter sparsity from quality_metrics extension\n",
      "  warnings.warn(f\"Removing legacy parameter {p} from {old_name} extension\")\n",
      "/opt/conda/lib/python3.10/site-packages/spikeinterface/core/waveforms_extractor_backwards_compatibility.py:650: UserWarning: Removing legacy parameter qm_params from quality_metrics extension\n",
      "  warnings.warn(f\"Removing legacy parameter {p} from {old_name} extension\")\n",
      "/opt/conda/lib/python3.10/site-packages/spikeinterface/core/waveforms_extractor_backwards_compatibility.py:650: UserWarning: Removing legacy parameter sparsity from principal_components extension\n",
      "  warnings.warn(f\"Removing legacy parameter {p} from {old_name} extension\")\n",
      "/opt/conda/lib/python3.10/site-packages/spikeinterface/core/waveforms_extractor_backwards_compatibility.py:650: UserWarning: Removing legacy parameter tmp_folder from principal_components extension\n",
      "  warnings.warn(f\"Removing legacy parameter {p} from {old_name} extension\")\n",
      "/opt/conda/lib/python3.10/site-packages/spikeinterface/core/base.py:1109: UserWarning: Versions are not the same. This might lead to compatibility errors. Using spikeinterface==0.100.7 is recommended\n",
      "  warnings.warn(\n",
      "/opt/conda/lib/python3.10/site-packages/spikeinterface/core/waveforms_extractor_backwards_compatibility.py:650: UserWarning: Removing legacy parameter return_scaled from spike_amplitudes extension\n",
      "  warnings.warn(f\"Removing legacy parameter {p} from {old_name} extension\")\n",
      "/opt/conda/lib/python3.10/site-packages/spikeinterface/core/waveforms_extractor_backwards_compatibility.py:650: UserWarning: Removing legacy parameter metrics_kwargs from template_metrics extension\n",
      "  warnings.warn(f\"Removing legacy parameter {p} from {old_name} extension\")\n",
      "/opt/conda/lib/python3.10/site-packages/spikeinterface/core/waveforms_extractor_backwards_compatibility.py:650: UserWarning: Removing legacy parameter method_kwargs from unit_locations extension\n",
      "  warnings.warn(f\"Removing legacy parameter {p} from {old_name} extension\")\n",
      "/opt/conda/lib/python3.10/site-packages/spikeinterface/core/waveforms_extractor_backwards_compatibility.py:650: UserWarning: Removing legacy parameter sparsity from quality_metrics extension\n",
      "  warnings.warn(f\"Removing legacy parameter {p} from {old_name} extension\")\n",
      "/opt/conda/lib/python3.10/site-packages/spikeinterface/core/waveforms_extractor_backwards_compatibility.py:650: UserWarning: Removing legacy parameter qm_params from quality_metrics extension\n",
      "  warnings.warn(f\"Removing legacy parameter {p} from {old_name} extension\")\n",
      "/opt/conda/lib/python3.10/site-packages/spikeinterface/core/waveforms_extractor_backwards_compatibility.py:650: UserWarning: Removing legacy parameter sparsity from principal_components extension\n",
      "  warnings.warn(f\"Removing legacy parameter {p} from {old_name} extension\")\n",
      "/opt/conda/lib/python3.10/site-packages/spikeinterface/core/waveforms_extractor_backwards_compatibility.py:650: UserWarning: Removing legacy parameter tmp_folder from principal_components extension\n",
      "  warnings.warn(f\"Removing legacy parameter {p} from {old_name} extension\")\n",
      "/opt/conda/lib/python3.10/site-packages/spikeinterface/core/base.py:1109: UserWarning: Versions are not the same. This might lead to compatibility errors. Using spikeinterface==0.100.7 is recommended\n",
      "  warnings.warn(\n",
      "/opt/conda/lib/python3.10/site-packages/spikeinterface/core/waveforms_extractor_backwards_compatibility.py:650: UserWarning: Removing legacy parameter return_scaled from spike_amplitudes extension\n",
      "  warnings.warn(f\"Removing legacy parameter {p} from {old_name} extension\")\n",
      "/opt/conda/lib/python3.10/site-packages/spikeinterface/core/waveforms_extractor_backwards_compatibility.py:650: UserWarning: Removing legacy parameter metrics_kwargs from template_metrics extension\n",
      "  warnings.warn(f\"Removing legacy parameter {p} from {old_name} extension\")\n",
      "/opt/conda/lib/python3.10/site-packages/spikeinterface/core/waveforms_extractor_backwards_compatibility.py:650: UserWarning: Removing legacy parameter method_kwargs from unit_locations extension\n",
      "  warnings.warn(f\"Removing legacy parameter {p} from {old_name} extension\")\n",
      "/opt/conda/lib/python3.10/site-packages/spikeinterface/core/waveforms_extractor_backwards_compatibility.py:650: UserWarning: Removing legacy parameter sparsity from quality_metrics extension\n",
      "  warnings.warn(f\"Removing legacy parameter {p} from {old_name} extension\")\n",
      "/opt/conda/lib/python3.10/site-packages/spikeinterface/core/waveforms_extractor_backwards_compatibility.py:650: UserWarning: Removing legacy parameter qm_params from quality_metrics extension\n",
      "  warnings.warn(f\"Removing legacy parameter {p} from {old_name} extension\")\n",
      "/opt/conda/lib/python3.10/site-packages/spikeinterface/core/waveforms_extractor_backwards_compatibility.py:650: UserWarning: Removing legacy parameter sparsity from principal_components extension\n",
      "  warnings.warn(f\"Removing legacy parameter {p} from {old_name} extension\")\n",
      "/opt/conda/lib/python3.10/site-packages/spikeinterface/core/waveforms_extractor_backwards_compatibility.py:650: UserWarning: Removing legacy parameter tmp_folder from principal_components extension\n",
      "  warnings.warn(f\"Removing legacy parameter {p} from {old_name} extension\")\n",
      "/opt/conda/lib/python3.10/site-packages/spikeinterface/core/base.py:1109: UserWarning: Versions are not the same. This might lead to compatibility errors. Using spikeinterface==0.100.7 is recommended\n",
      "  warnings.warn(\n",
      "/opt/conda/lib/python3.10/site-packages/spikeinterface/core/waveforms_extractor_backwards_compatibility.py:650: UserWarning: Removing legacy parameter return_scaled from spike_amplitudes extension\n",
      "  warnings.warn(f\"Removing legacy parameter {p} from {old_name} extension\")\n",
      "/opt/conda/lib/python3.10/site-packages/spikeinterface/core/waveforms_extractor_backwards_compatibility.py:650: UserWarning: Removing legacy parameter metrics_kwargs from template_metrics extension\n",
      "  warnings.warn(f\"Removing legacy parameter {p} from {old_name} extension\")\n",
      "/opt/conda/lib/python3.10/site-packages/spikeinterface/core/waveforms_extractor_backwards_compatibility.py:650: UserWarning: Removing legacy parameter method_kwargs from unit_locations extension\n",
      "  warnings.warn(f\"Removing legacy parameter {p} from {old_name} extension\")\n",
      "/opt/conda/lib/python3.10/site-packages/spikeinterface/core/waveforms_extractor_backwards_compatibility.py:650: UserWarning: Removing legacy parameter sparsity from quality_metrics extension\n",
      "  warnings.warn(f\"Removing legacy parameter {p} from {old_name} extension\")\n",
      "/opt/conda/lib/python3.10/site-packages/spikeinterface/core/waveforms_extractor_backwards_compatibility.py:650: UserWarning: Removing legacy parameter qm_params from quality_metrics extension\n",
      "  warnings.warn(f\"Removing legacy parameter {p} from {old_name} extension\")\n",
      "/opt/conda/lib/python3.10/site-packages/spikeinterface/core/waveforms_extractor_backwards_compatibility.py:650: UserWarning: Removing legacy parameter sparsity from principal_components extension\n",
      "  warnings.warn(f\"Removing legacy parameter {p} from {old_name} extension\")\n",
      "/opt/conda/lib/python3.10/site-packages/spikeinterface/core/waveforms_extractor_backwards_compatibility.py:650: UserWarning: Removing legacy parameter tmp_folder from principal_components extension\n",
      "  warnings.warn(f\"Removing legacy parameter {p} from {old_name} extension\")\n",
      "/opt/conda/lib/python3.10/site-packages/spikeinterface/core/base.py:1109: UserWarning: Versions are not the same. This might lead to compatibility errors. Using spikeinterface==0.100.7 is recommended\n",
      "  warnings.warn(\n",
      "/opt/conda/lib/python3.10/site-packages/spikeinterface/core/waveforms_extractor_backwards_compatibility.py:650: UserWarning: Removing legacy parameter return_scaled from spike_amplitudes extension\n",
      "  warnings.warn(f\"Removing legacy parameter {p} from {old_name} extension\")\n",
      "/opt/conda/lib/python3.10/site-packages/spikeinterface/core/waveforms_extractor_backwards_compatibility.py:650: UserWarning: Removing legacy parameter metrics_kwargs from template_metrics extension\n",
      "  warnings.warn(f\"Removing legacy parameter {p} from {old_name} extension\")\n",
      "/opt/conda/lib/python3.10/site-packages/spikeinterface/core/waveforms_extractor_backwards_compatibility.py:650: UserWarning: Removing legacy parameter method_kwargs from unit_locations extension\n",
      "  warnings.warn(f\"Removing legacy parameter {p} from {old_name} extension\")\n",
      "/opt/conda/lib/python3.10/site-packages/spikeinterface/core/waveforms_extractor_backwards_compatibility.py:650: UserWarning: Removing legacy parameter sparsity from quality_metrics extension\n",
      "  warnings.warn(f\"Removing legacy parameter {p} from {old_name} extension\")\n",
      "/opt/conda/lib/python3.10/site-packages/spikeinterface/core/waveforms_extractor_backwards_compatibility.py:650: UserWarning: Removing legacy parameter qm_params from quality_metrics extension\n",
      "  warnings.warn(f\"Removing legacy parameter {p} from {old_name} extension\")\n",
      "/opt/conda/lib/python3.10/site-packages/spikeinterface/core/waveforms_extractor_backwards_compatibility.py:650: UserWarning: Removing legacy parameter sparsity from principal_components extension\n",
      "  warnings.warn(f\"Removing legacy parameter {p} from {old_name} extension\")\n",
      "/opt/conda/lib/python3.10/site-packages/spikeinterface/core/waveforms_extractor_backwards_compatibility.py:650: UserWarning: Removing legacy parameter tmp_folder from principal_components extension\n",
      "  warnings.warn(f\"Removing legacy parameter {p} from {old_name} extension\")\n"
     ]
    }
   ],
   "source": [
    "# from joblib import Parallel, delayed\n",
    "# session_list = ['behavior_751181_2025-02-25_12-12-35',\n",
    "#                 'behavior_751181_2025-02-26_11-51-19']\n",
    "data_type = 'curated'\n",
    "def process(session, data_type='raw'):\n",
    "    plt.close('all')\n",
    "    print(f'{session} start')\n",
    "    # beh_and_time_alignment(session) # plot behavior, check alignment between behavior, sound, and ephys\n",
    "    plt.close('all')\n",
    "    ephys_opto_preprocessing(session, data_type, 'soma') \n",
    "    # # redo spiketimes if not aligned, make opto_table (laser time in nidaq); \n",
    "    # # generate a pkl file with opto_resp/lat to each condition\n",
    "    # plt.close('all')\n",
    "    # # ephys_opto_crosscorr(session, data_type)\n",
    "    # # separate session into opto/beh, cal cross-correlation\n",
    "    # plt.close('all')\n",
    "    # opto_wf_preprocessing(session, data_type, 'soma', load_sorting_analyzer=True)\n",
    "    # recal wf based on conditions. (pre/post, power), cal similarity, euclidean distance, correlation with spont\n",
    "    # pay attention to difference early and late in the session\n",
    "    \n",
    "    # opto_tagging_df = opto_plotting_session(session, data_type, 'soma', plot=True, resp_thresh=0.3, lat_thresh=0.02, save=True)\n",
    "    \n",
    "    # # save as pickle\n",
    "    # with open(os.path.join(session_dirs(session)[f'opto_dir_{data_type}'], f'{session}_opto_tagging_metrics.pkl'), 'wb') as f:\n",
    "    #     opto_tagging_df.to_pickle(f)\n",
    "    \n",
    "    # if '751004' in session:\n",
    "    #     plot_session_opto_drift(session, data_type, update_csv=False)\n",
    "    # else:     \n",
    "    #     plot_session_opto_drift(session, data_type, update_csv=True)\n",
    "    print(f'{session} stop')\n",
    "        \n",
    "\n",
    "# Parallel(n_jobs=4)(delayed(process)(session, data_type = data_type) for session in session_list[46:])\n",
    "\n",
    "for session in session_list[11:17]:\n",
    "    print(session)\n",
    "    session_dir = session_dirs(session)\n",
    "    if session_dir['curated_dir_curated'] is not None:\n",
    "        print('Curated')\n",
    "        process(session, data_type='curated') \n",
    "    # elif  session_dir['curated_dir_raw'] is not None:\n",
    "    #     print('Raw')\n",
    "    #     process(session, data_type='raw')\n",
    "        \n"
   ]
  },
  {
   "cell_type": "code",
   "execution_count": 3,
   "metadata": {},
   "outputs": [
    {
     "name": "stdout",
     "output_type": "stream",
     "text": [
      "ecephys_684930_2023-09-27_10-04-04\n"
     ]
    },
    {
     "name": "stderr",
     "output_type": "stream",
     "text": [
      "/opt/conda/lib/python3.10/site-packages/spikeinterface/core/base.py:1109: UserWarning: Versions are not the same. This might lead to compatibility errors. Using spikeinterface==0.100.7 is recommended\n",
      "  warnings.warn(\n",
      "/opt/conda/lib/python3.10/site-packages/spikeinterface/core/waveforms_extractor_backwards_compatibility.py:650: UserWarning: Removing legacy parameter return_scaled from spike_amplitudes extension\n",
      "  warnings.warn(f\"Removing legacy parameter {p} from {old_name} extension\")\n",
      "/opt/conda/lib/python3.10/site-packages/spikeinterface/core/waveforms_extractor_backwards_compatibility.py:650: UserWarning: Removing legacy parameter metrics_kwargs from template_metrics extension\n",
      "  warnings.warn(f\"Removing legacy parameter {p} from {old_name} extension\")\n",
      "/opt/conda/lib/python3.10/site-packages/spikeinterface/core/waveforms_extractor_backwards_compatibility.py:650: UserWarning: Removing legacy parameter method_kwargs from unit_locations extension\n",
      "  warnings.warn(f\"Removing legacy parameter {p} from {old_name} extension\")\n",
      "/opt/conda/lib/python3.10/site-packages/spikeinterface/core/waveforms_extractor_backwards_compatibility.py:650: UserWarning: Removing legacy parameter sparsity from quality_metrics extension\n",
      "  warnings.warn(f\"Removing legacy parameter {p} from {old_name} extension\")\n",
      "/opt/conda/lib/python3.10/site-packages/spikeinterface/core/waveforms_extractor_backwards_compatibility.py:650: UserWarning: Removing legacy parameter qm_params from quality_metrics extension\n",
      "  warnings.warn(f\"Removing legacy parameter {p} from {old_name} extension\")\n",
      "/opt/conda/lib/python3.10/site-packages/spikeinterface/core/waveforms_extractor_backwards_compatibility.py:650: UserWarning: Removing legacy parameter sparsity from principal_components extension\n",
      "  warnings.warn(f\"Removing legacy parameter {p} from {old_name} extension\")\n",
      "/opt/conda/lib/python3.10/site-packages/spikeinterface/core/waveforms_extractor_backwards_compatibility.py:650: UserWarning: Removing legacy parameter tmp_folder from principal_components extension\n",
      "  warnings.warn(f\"Removing legacy parameter {p} from {old_name} extension\")\n"
     ]
    }
   ],
   "source": [
    "ephys_opto_preprocessing('ecephys_684930_2023-09-27_10-04-04', 'curated', 'soma')"
   ]
  },
  {
   "cell_type": "code",
   "execution_count": null,
   "metadata": {},
   "outputs": [],
   "source": [
    "datatype = 'curated'\n",
    "list_exclude = ['716325', '717121', '717259', '717263', '714116', '724172', '722832', '739977', '744779', '739970', '751181', '751766_2025-02-15_12-08-11']\n",
    "def process(session, data_type):\n",
    "    if not any(exclude in session for exclude in list_exclude):\n",
    "        print(f'{session} start')\n",
    "        try:\n",
    "            plot_session_opto_drift(session, data_type, update_csv=True, plot=True)\n",
    "        except:\n",
    "            plot(f'{session} failed')   \n",
    "Parallel(n_jobs=4)(delayed(process)(session, data_type = datatype) for session in session_list)"
   ]
  },
  {
   "cell_type": "code",
   "execution_count": null,
   "metadata": {},
   "outputs": [],
   "source": [
    "for session in session_list:\n",
    "    try:\n",
    "        process(session, data_type)\n",
    "    except:\n",
    "        print(f'Failed to process {session}')"
   ]
  },
  {
   "cell_type": "code",
   "execution_count": null,
   "metadata": {},
   "outputs": [],
   "source": [
    "opto_tagging_df = opto_plotting_session('behavior_751004_2024-12-19_11-50-37', 'curated', 'soma', plot=False, resp_thresh=0.4, lat_thresh=0.02)"
   ]
  },
  {
   "cell_type": "code",
   "execution_count": null,
   "metadata": {},
   "outputs": [
    {
     "name": "stdout",
     "output_type": "stream",
     "text": [
      "behavior_717121_2024-06-15_10-00-58\n"
     ]
    },
    {
     "name": "stderr",
     "output_type": "stream",
     "text": [
      "/opt/conda/lib/python3.9/site-packages/spikeinterface/core/base.py:1129: UserWarning: Versions are not the same. This might lead to compatibility errors. Using spikeinterface==0.100.7 is recommended\n",
      "  warnings.warn(\n",
      "/opt/conda/lib/python3.9/site-packages/spikeinterface/core/waveforms_extractor_backwards_compatibility.py:650: UserWarning: Removing legacy parameter return_scaled from spike_amplitudes extension\n",
      "  warnings.warn(f\"Removing legacy parameter {p} from {old_name} extension\")\n",
      "/opt/conda/lib/python3.9/site-packages/spikeinterface/core/waveforms_extractor_backwards_compatibility.py:650: UserWarning: Removing legacy parameter method_kwargs from unit_locations extension\n",
      "  warnings.warn(f\"Removing legacy parameter {p} from {old_name} extension\")\n",
      "/opt/conda/lib/python3.9/site-packages/spikeinterface/core/waveforms_extractor_backwards_compatibility.py:650: UserWarning: Removing legacy parameter sparsity from quality_metrics extension\n",
      "  warnings.warn(f\"Removing legacy parameter {p} from {old_name} extension\")\n",
      "/opt/conda/lib/python3.9/site-packages/spikeinterface/core/waveforms_extractor_backwards_compatibility.py:650: UserWarning: Removing legacy parameter random_chunk_kwargs_dict from quality_metrics extension\n",
      "  warnings.warn(f\"Removing legacy parameter {p} from {old_name} extension\")\n",
      "/opt/conda/lib/python3.9/site-packages/spikeinterface/core/waveforms_extractor_backwards_compatibility.py:650: UserWarning: Removing legacy parameter sparsity from principal_components extension\n",
      "  warnings.warn(f\"Removing legacy parameter {p} from {old_name} extension\")\n",
      "/opt/conda/lib/python3.9/site-packages/spikeinterface/core/waveforms_extractor_backwards_compatibility.py:650: UserWarning: Removing legacy parameter tmp_folder from principal_components extension\n",
      "  warnings.warn(f\"Removing legacy parameter {p} from {old_name} extension\")\n"
     ]
    }
   ],
   "source": [
    "ephys_opto_preprocessing('behavior_717121_2024-06-15_10-00-58', 'curated', 'soma')"
   ]
  },
  {
   "cell_type": "code",
   "execution_count": null,
   "metadata": {},
   "outputs": [
    {
     "name": "stderr",
     "output_type": "stream",
     "text": [
      "/opt/conda/lib/python3.9/site-packages/spikeinterface/core/base.py:1129: UserWarning: Versions are not the same. This might lead to compatibility errors. Using spikeinterface==0.100.7 is recommended\n",
      "  warnings.warn(\n",
      "/opt/conda/lib/python3.9/site-packages/spikeinterface/core/waveforms_extractor_backwards_compatibility.py:650: UserWarning: Removing legacy parameter return_scaled from spike_amplitudes extension\n",
      "  warnings.warn(f\"Removing legacy parameter {p} from {old_name} extension\")\n",
      "/opt/conda/lib/python3.9/site-packages/spikeinterface/core/waveforms_extractor_backwards_compatibility.py:650: UserWarning: Removing legacy parameter method_kwargs from unit_locations extension\n",
      "  warnings.warn(f\"Removing legacy parameter {p} from {old_name} extension\")\n",
      "/opt/conda/lib/python3.9/site-packages/spikeinterface/core/waveforms_extractor_backwards_compatibility.py:650: UserWarning: Removing legacy parameter sparsity from quality_metrics extension\n",
      "  warnings.warn(f\"Removing legacy parameter {p} from {old_name} extension\")\n",
      "/opt/conda/lib/python3.9/site-packages/spikeinterface/core/waveforms_extractor_backwards_compatibility.py:650: UserWarning: Removing legacy parameter random_chunk_kwargs_dict from quality_metrics extension\n",
      "  warnings.warn(f\"Removing legacy parameter {p} from {old_name} extension\")\n",
      "/opt/conda/lib/python3.9/site-packages/spikeinterface/core/waveforms_extractor_backwards_compatibility.py:650: UserWarning: Removing legacy parameter sparsity from principal_components extension\n",
      "  warnings.warn(f\"Removing legacy parameter {p} from {old_name} extension\")\n",
      "/opt/conda/lib/python3.9/site-packages/spikeinterface/core/waveforms_extractor_backwards_compatibility.py:650: UserWarning: Removing legacy parameter tmp_folder from principal_components extension\n",
      "  warnings.warn(f\"Removing legacy parameter {p} from {old_name} extension\")\n",
      "/root/capsule/code/beh_ephys_analysis/opto_tagging.py:350: FutureWarning: errors='ignore' is deprecated and will raise in a future version. Use to_numeric without passing `errors` and catch exceptions explicitly instead\n",
      "  unit_qc = unit_qc.apply(pd.to_numeric, errors='ignore')\n",
      "/root/capsule/code/beh_ephys_analysis/opto_tagging.py:389: FutureWarning: errors='ignore' is deprecated and will raise in a future version. Use to_numeric without passing `errors` and catch exceptions explicitly instead\n",
      "  opto_wf = opto_wf.apply(pd.to_numeric, errors='ignore')\n"
     ]
    }
   ],
   "source": [
    "opto_tagging_df = opto_plotting_session('behavior_717121_2024-06-15_10-00-58', 'curated', 'soma', plot=True, resp_thresh=0.4, lat_thresh=0.02)"
   ]
  },
  {
   "cell_type": "code",
   "execution_count": null,
   "metadata": {},
   "outputs": [
    {
     "name": "stderr",
     "output_type": "stream",
     "text": [
      "/opt/conda/lib/python3.9/site-packages/spikeinterface/core/base.py:1129: UserWarning: Versions are not the same. This might lead to compatibility errors. Using spikeinterface==0.100.7 is recommended\n",
      "  warnings.warn(\n",
      "/opt/conda/lib/python3.9/site-packages/spikeinterface/core/waveforms_extractor_backwards_compatibility.py:650: UserWarning: Removing legacy parameter return_scaled from spike_amplitudes extension\n",
      "  warnings.warn(f\"Removing legacy parameter {p} from {old_name} extension\")\n",
      "/opt/conda/lib/python3.9/site-packages/spikeinterface/core/waveforms_extractor_backwards_compatibility.py:650: UserWarning: Removing legacy parameter method_kwargs from unit_locations extension\n",
      "  warnings.warn(f\"Removing legacy parameter {p} from {old_name} extension\")\n",
      "/opt/conda/lib/python3.9/site-packages/spikeinterface/core/waveforms_extractor_backwards_compatibility.py:650: UserWarning: Removing legacy parameter sparsity from quality_metrics extension\n",
      "  warnings.warn(f\"Removing legacy parameter {p} from {old_name} extension\")\n",
      "/opt/conda/lib/python3.9/site-packages/spikeinterface/core/waveforms_extractor_backwards_compatibility.py:650: UserWarning: Removing legacy parameter random_chunk_kwargs_dict from quality_metrics extension\n",
      "  warnings.warn(f\"Removing legacy parameter {p} from {old_name} extension\")\n",
      "/opt/conda/lib/python3.9/site-packages/spikeinterface/core/waveforms_extractor_backwards_compatibility.py:650: UserWarning: Removing legacy parameter sparsity from principal_components extension\n",
      "  warnings.warn(f\"Removing legacy parameter {p} from {old_name} extension\")\n",
      "/opt/conda/lib/python3.9/site-packages/spikeinterface/core/waveforms_extractor_backwards_compatibility.py:650: UserWarning: Removing legacy parameter tmp_folder from principal_components extension\n",
      "  warnings.warn(f\"Removing legacy parameter {p} from {old_name} extension\")\n",
      "/opt/conda/lib/python3.9/site-packages/spikeinterface/core/base.py:1129: UserWarning: Versions are not the same. This might lead to compatibility errors. Using spikeinterface==0.100.7 is recommended\n",
      "  warnings.warn(\n",
      "/opt/conda/lib/python3.9/site-packages/spikeinterface/core/job_tools.py:103: UserWarning: `n_jobs` is not set so parallel processing is disabled! To speed up computations, it is recommended to set n_jobs either globally (with the `spikeinterface.set_global_job_kwargs()` function) or locally (with the `n_jobs` argument). Use `spikeinterface.set_global_job_kwargs?` for more information about job_kwargs.\n",
      "  warnings.warn(\n",
      "/opt/conda/lib/python3.9/site-packages/spikeinterface/core/job_tools.py:103: UserWarning: `n_jobs` is not set so parallel processing is disabled! To speed up computations, it is recommended to set n_jobs either globally (with the `spikeinterface.set_global_job_kwargs()` function) or locally (with the `n_jobs` argument). Use `spikeinterface.set_global_job_kwargs?` for more information about job_kwargs.\n",
      "  warnings.warn(\n",
      "/opt/conda/lib/python3.9/site-packages/spikeinterface/core/base.py:1129: UserWarning: Versions are not the same. This might lead to compatibility errors. Using spikeinterface==0.100.7 is recommended\n",
      "  warnings.warn(\n",
      "/opt/conda/lib/python3.9/site-packages/spikeinterface/core/waveforms_extractor_backwards_compatibility.py:650: UserWarning: Removing legacy parameter return_scaled from spike_amplitudes extension\n",
      "  warnings.warn(f\"Removing legacy parameter {p} from {old_name} extension\")\n",
      "/opt/conda/lib/python3.9/site-packages/spikeinterface/core/waveforms_extractor_backwards_compatibility.py:650: UserWarning: Removing legacy parameter method_kwargs from unit_locations extension\n",
      "  warnings.warn(f\"Removing legacy parameter {p} from {old_name} extension\")\n",
      "/opt/conda/lib/python3.9/site-packages/spikeinterface/core/waveforms_extractor_backwards_compatibility.py:650: UserWarning: Removing legacy parameter sparsity from quality_metrics extension\n",
      "  warnings.warn(f\"Removing legacy parameter {p} from {old_name} extension\")\n",
      "/opt/conda/lib/python3.9/site-packages/spikeinterface/core/waveforms_extractor_backwards_compatibility.py:650: UserWarning: Removing legacy parameter random_chunk_kwargs_dict from quality_metrics extension\n",
      "  warnings.warn(f\"Removing legacy parameter {p} from {old_name} extension\")\n",
      "/opt/conda/lib/python3.9/site-packages/spikeinterface/core/waveforms_extractor_backwards_compatibility.py:650: UserWarning: Removing legacy parameter sparsity from principal_components extension\n",
      "  warnings.warn(f\"Removing legacy parameter {p} from {old_name} extension\")\n",
      "/opt/conda/lib/python3.9/site-packages/spikeinterface/core/waveforms_extractor_backwards_compatibility.py:650: UserWarning: Removing legacy parameter tmp_folder from principal_components extension\n",
      "  warnings.warn(f\"Removing legacy parameter {p} from {old_name} extension\")\n",
      "/opt/conda/lib/python3.9/site-packages/spikeinterface/core/base.py:1129: UserWarning: Versions are not the same. This might lead to compatibility errors. Using spikeinterface==0.100.7 is recommended\n",
      "  warnings.warn(\n",
      "/opt/conda/lib/python3.9/site-packages/spikeinterface/core/job_tools.py:103: UserWarning: `n_jobs` is not set so parallel processing is disabled! To speed up computations, it is recommended to set n_jobs either globally (with the `spikeinterface.set_global_job_kwargs()` function) or locally (with the `n_jobs` argument). Use `spikeinterface.set_global_job_kwargs?` for more information about job_kwargs.\n",
      "  warnings.warn(\n",
      "/opt/conda/lib/python3.9/site-packages/spikeinterface/core/base.py:1129: UserWarning: Versions are not the same. This might lead to compatibility errors. Using spikeinterface==0.100.7 is recommended\n",
      "  warnings.warn(\n",
      "/opt/conda/lib/python3.9/site-packages/spikeinterface/core/base.py:1129: UserWarning: Versions are not the same. This might lead to compatibility errors. Using spikeinterface==0.100.7 is recommended\n",
      "  warnings.warn(\n",
      "/opt/conda/lib/python3.9/site-packages/spikeinterface/core/waveforms_extractor_backwards_compatibility.py:650: UserWarning: Removing legacy parameter return_scaled from spike_amplitudes extension\n",
      "  warnings.warn(f\"Removing legacy parameter {p} from {old_name} extension\")\n",
      "/opt/conda/lib/python3.9/site-packages/spikeinterface/core/waveforms_extractor_backwards_compatibility.py:650: UserWarning: Removing legacy parameter method_kwargs from unit_locations extension\n",
      "  warnings.warn(f\"Removing legacy parameter {p} from {old_name} extension\")\n",
      "/opt/conda/lib/python3.9/site-packages/spikeinterface/core/waveforms_extractor_backwards_compatibility.py:650: UserWarning: Removing legacy parameter sparsity from quality_metrics extension\n",
      "  warnings.warn(f\"Removing legacy parameter {p} from {old_name} extension\")\n",
      "/opt/conda/lib/python3.9/site-packages/spikeinterface/core/waveforms_extractor_backwards_compatibility.py:650: UserWarning: Removing legacy parameter random_chunk_kwargs_dict from quality_metrics extension\n",
      "  warnings.warn(f\"Removing legacy parameter {p} from {old_name} extension\")\n",
      "/opt/conda/lib/python3.9/site-packages/spikeinterface/core/waveforms_extractor_backwards_compatibility.py:650: UserWarning: Removing legacy parameter sparsity from principal_components extension\n",
      "  warnings.warn(f\"Removing legacy parameter {p} from {old_name} extension\")\n",
      "/opt/conda/lib/python3.9/site-packages/spikeinterface/core/waveforms_extractor_backwards_compatibility.py:650: UserWarning: Removing legacy parameter tmp_folder from principal_components extension\n",
      "  warnings.warn(f\"Removing legacy parameter {p} from {old_name} extension\")\n"
     ]
    },
    {
     "data": {
      "application/json": {
       "ascii": false,
       "bar_format": null,
       "colour": null,
       "elapsed": 0.013016462326049805,
       "initial": 0,
       "n": 0,
       "ncols": null,
       "nrows": null,
       "postfix": null,
       "prefix": "compute_waveforms",
       "rate": null,
       "total": 6396,
       "unit": "it",
       "unit_divisor": 1000,
       "unit_scale": false
      },
      "application/vnd.jupyter.widget-view+json": {
       "model_id": "eaff5881fb284fffb1a55100c0ff4596",
       "version_major": 2,
       "version_minor": 0
      },
      "text/plain": [
       "compute_waveforms:   0%|          | 0/6396 [00:00<?, ?it/s]"
      ]
     },
     "metadata": {},
     "output_type": "display_data"
    },
    {
     "ename": "ValueError",
     "evalue": "Folder already exists /root/capsule/scratch/717121/behavior_717121_2024-06-15_10-00-58/ephys/opto/curated/opto_waveforms.zarr",
     "output_type": "error",
     "traceback": [
      "\u001b[0;31m---------------------------------------------------------------------------\u001b[0m",
      "\u001b[0;31mValueError\u001b[0m                                Traceback (most recent call last)",
      "\u001b[1;32m/root/capsule/code/beh_ephys_analysis/beh_ephys_processing.ipynb Cell 16\u001b[0m line \u001b[0;36m2\n\u001b[1;32m      <a href='vscode-notebook-cell://codeocean.allenneuraldynamics.org/root/capsule/code/beh_ephys_analysis/beh_ephys_processing.ipynb#X36sdnNjb2RlLXJlbW90ZQ%3D%3D?line=0'>1</a>\u001b[0m ephys_opto_crosscorr(\u001b[39m'\u001b[39m\u001b[39mbehavior_717121_2024-06-15_10-00-58\u001b[39m\u001b[39m'\u001b[39m, \u001b[39m'\u001b[39m\u001b[39mcurated\u001b[39m\u001b[39m'\u001b[39m)\n\u001b[0;32m----> <a href='vscode-notebook-cell://codeocean.allenneuraldynamics.org/root/capsule/code/beh_ephys_analysis/beh_ephys_processing.ipynb#X36sdnNjb2RlLXJlbW90ZQ%3D%3D?line=1'>2</a>\u001b[0m opto_wf_preprocessing(\u001b[39m'\u001b[39;49m\u001b[39mbehavior_717121_2024-06-15_10-00-58\u001b[39;49m\u001b[39m'\u001b[39;49m, \u001b[39m'\u001b[39;49m\u001b[39mcurated\u001b[39;49m\u001b[39m'\u001b[39;49m, \u001b[39m'\u001b[39;49m\u001b[39msoma\u001b[39;49m\u001b[39m'\u001b[39;49m, load_sorting_analyzer\u001b[39m=\u001b[39;49m\u001b[39mFalse\u001b[39;49;00m)\n",
      "File \u001b[0;32m~/capsule/code/beh_ephys_analysis/opto_waveforms_preprocessing.py:244\u001b[0m, in \u001b[0;36mopto_wf_preprocessing\u001b[0;34m(session, data_type, target, load_sorting_analyzer)\u001b[0m\n\u001b[1;32m    242\u001b[0m     _ \u001b[39m=\u001b[39m analyzer\u001b[39m.\u001b[39mcompute([\u001b[39m\"\u001b[39m\u001b[39mwaveforms\u001b[39m\u001b[39m\"\u001b[39m, \u001b[39m\"\u001b[39m\u001b[39mtemplates\u001b[39m\u001b[39m\"\u001b[39m])\n\u001b[1;32m    243\u001b[0m     waveform_zarr_folder \u001b[39m=\u001b[39m \u001b[39mf\u001b[39m\u001b[39m'\u001b[39m\u001b[39m{\u001b[39;00msession_dir[\u001b[39mf\u001b[39m\u001b[39m\"\u001b[39m\u001b[39mopto_dir_\u001b[39m\u001b[39m{\u001b[39;00mdata_type\u001b[39m}\u001b[39;00m\u001b[39m\"\u001b[39m]\u001b[39m}\u001b[39;00m\u001b[39m/opto_waveforms.zarr\u001b[39m\u001b[39m'\u001b[39m\n\u001b[0;32m--> 244\u001b[0m     analyzer_saved_zarr \u001b[39m=\u001b[39m analyzer\u001b[39m.\u001b[39;49msave_as(\u001b[39mformat\u001b[39;49m\u001b[39m=\u001b[39;49m\u001b[39m'\u001b[39;49m\u001b[39mzarr\u001b[39;49m\u001b[39m'\u001b[39;49m, folder \u001b[39m=\u001b[39;49m waveform_zarr_folder)\n\u001b[1;32m    245\u001b[0m     \u001b[39mprint\u001b[39m(\u001b[39mf\u001b[39m\u001b[39m'\u001b[39m\u001b[39mSaved analyzer to \u001b[39m\u001b[39m{\u001b[39;00mwaveform_zarr_folder\u001b[39m}\u001b[39;00m\u001b[39m'\u001b[39m)\n\u001b[1;32m    246\u001b[0m \u001b[39melse\u001b[39;00m:\n",
      "File \u001b[0;32m/opt/conda/lib/python3.9/site-packages/spikeinterface/core/sortinganalyzer.py:976\u001b[0m, in \u001b[0;36mSortingAnalyzer.save_as\u001b[0;34m(self, format, folder, backend_options)\u001b[0m\n\u001b[1;32m    974\u001b[0m \u001b[39mif\u001b[39;00m \u001b[39mformat\u001b[39m \u001b[39m==\u001b[39m \u001b[39m\"\u001b[39m\u001b[39mzarr\u001b[39m\u001b[39m\"\u001b[39m:\n\u001b[1;32m    975\u001b[0m     folder \u001b[39m=\u001b[39m clean_zarr_folder_name(folder)\n\u001b[0;32m--> 976\u001b[0m \u001b[39mreturn\u001b[39;00m \u001b[39mself\u001b[39;49m\u001b[39m.\u001b[39;49m_save_or_select_or_merge(\u001b[39mformat\u001b[39;49m\u001b[39m=\u001b[39;49m\u001b[39mformat\u001b[39;49m, folder\u001b[39m=\u001b[39;49mfolder, backend_options\u001b[39m=\u001b[39;49mbackend_options)\n",
      "File \u001b[0;32m/opt/conda/lib/python3.9/site-packages/spikeinterface/core/sortinganalyzer.py:907\u001b[0m, in \u001b[0;36mSortingAnalyzer._save_or_select_or_merge\u001b[0;34m(self, format, folder, unit_ids, merge_unit_groups, censor_ms, merging_mode, sparsity_overlap, verbose, new_unit_ids, backend_options, **job_kwargs)\u001b[0m\n\u001b[1;32m    905\u001b[0m     \u001b[39massert\u001b[39;00m folder \u001b[39mis\u001b[39;00m \u001b[39mnot\u001b[39;00m \u001b[39mNone\u001b[39;00m, \u001b[39m\"\u001b[39m\u001b[39mFor format=\u001b[39m\u001b[39m'\u001b[39m\u001b[39mzarr\u001b[39m\u001b[39m'\u001b[39m\u001b[39m folder must be provided\u001b[39m\u001b[39m\"\u001b[39m\n\u001b[1;32m    906\u001b[0m     folder \u001b[39m=\u001b[39m clean_zarr_folder_name(folder)\n\u001b[0;32m--> 907\u001b[0m     new_sorting_analyzer \u001b[39m=\u001b[39m SortingAnalyzer\u001b[39m.\u001b[39;49mcreate_zarr(\n\u001b[1;32m    908\u001b[0m         folder,\n\u001b[1;32m    909\u001b[0m         sorting_provenance,\n\u001b[1;32m    910\u001b[0m         recording,\n\u001b[1;32m    911\u001b[0m         sparsity,\n\u001b[1;32m    912\u001b[0m         \u001b[39mself\u001b[39;49m\u001b[39m.\u001b[39;49mreturn_scaled,\n\u001b[1;32m    913\u001b[0m         \u001b[39mself\u001b[39;49m\u001b[39m.\u001b[39;49mrec_attributes,\n\u001b[1;32m    914\u001b[0m         backend_options\u001b[39m=\u001b[39;49mbackend_options,\n\u001b[1;32m    915\u001b[0m     )\n\u001b[1;32m    916\u001b[0m \u001b[39melse\u001b[39;00m:\n\u001b[1;32m    917\u001b[0m     \u001b[39mraise\u001b[39;00m \u001b[39mValueError\u001b[39;00m(\u001b[39mf\u001b[39m\u001b[39m\"\u001b[39m\u001b[39mSortingAnalyzer.save: unsupported format: \u001b[39m\u001b[39m{\u001b[39;00m\u001b[39mformat\u001b[39m\u001b[39m}\u001b[39;00m\u001b[39m\"\u001b[39m)\n",
      "File \u001b[0;32m/opt/conda/lib/python3.9/site-packages/spikeinterface/core/sortinganalyzer.py:589\u001b[0m, in \u001b[0;36mSortingAnalyzer.create_zarr\u001b[0;34m(cls, folder, sorting, recording, sparsity, return_scaled, rec_attributes, backend_options)\u001b[0m\n\u001b[1;32m    587\u001b[0m     folder \u001b[39m=\u001b[39m clean_zarr_folder_name(folder)\n\u001b[1;32m    588\u001b[0m     \u001b[39mif\u001b[39;00m folder\u001b[39m.\u001b[39mis_dir():\n\u001b[0;32m--> 589\u001b[0m         \u001b[39mraise\u001b[39;00m \u001b[39mValueError\u001b[39;00m(\u001b[39mf\u001b[39m\u001b[39m\"\u001b[39m\u001b[39mFolder already exists \u001b[39m\u001b[39m{\u001b[39;00mfolder\u001b[39m}\u001b[39;00m\u001b[39m\"\u001b[39m)\n\u001b[1;32m    591\u001b[0m backend_options \u001b[39m=\u001b[39m {} \u001b[39mif\u001b[39;00m backend_options \u001b[39mis\u001b[39;00m \u001b[39mNone\u001b[39;00m \u001b[39melse\u001b[39;00m backend_options\n\u001b[1;32m    592\u001b[0m storage_options \u001b[39m=\u001b[39m backend_options\u001b[39m.\u001b[39mget(\u001b[39m\"\u001b[39m\u001b[39mstorage_options\u001b[39m\u001b[39m\"\u001b[39m, {})\n",
      "\u001b[0;31mValueError\u001b[0m: Folder already exists /root/capsule/scratch/717121/behavior_717121_2024-06-15_10-00-58/ephys/opto/curated/opto_waveforms.zarr"
     ]
    }
   ],
   "source": [
    "ephys_opto_crosscorr('behavior_717121_2024-06-15_10-00-58', 'curated')\n",
    "opto_wf_preprocessing('behavior_717121_2024-06-15_10-00-58', 'curated', 'soma', load_sorting_analyzer=False)"
   ]
  },
  {
   "cell_type": "code",
   "execution_count": null,
   "metadata": {},
   "outputs": [],
   "source": [
    "pip install ipykernel"
   ]
  },
  {
   "cell_type": "code",
   "execution_count": null,
   "metadata": {},
   "outputs": [],
   "source": [
    "pip install Ipykernel"
   ]
  },
  {
   "cell_type": "code",
   "execution_count": null,
   "metadata": {},
   "outputs": [],
   "source": [
    "\n",
    "Parallel(n_jobs=3)(delayed(process)(session) for session in session_list)"
   ]
  },
  {
   "cell_type": "code",
   "execution_count": null,
   "metadata": {},
   "outputs": [
    {
     "name": "stderr",
     "output_type": "stream",
     "text": [
      "/root/capsule/code/beh_ephys_analysis/opto_tagging.py:345: FutureWarning: errors='ignore' is deprecated and will raise in a future version. Use to_numeric without passing `errors` and catch exceptions explicitly instead\n",
      "  unit_qc = unit_qc.apply(pd.to_numeric, errors='ignore')\n"
     ]
    },
    {
     "name": "stdout",
     "output_type": "stream",
     "text": [
      "95 out of 271 units pass quality control\n",
      "{'samples_to_keep': [-30, 60], 'y_neighbors_to_keep': 3, 'orginal_loc': False}\n"
     ]
    },
    {
     "name": "stderr",
     "output_type": "stream",
     "text": [
      "/root/capsule/code/beh_ephys_analysis/opto_tagging.py:386: FutureWarning: errors='ignore' is deprecated and will raise in a future version. Use to_numeric without passing `errors` and catch exceptions explicitly instead\n",
      "  opto_wf = opto_wf.apply(pd.to_numeric, errors='ignore')\n"
     ]
    },
    {
     "name": "stdout",
     "output_type": "stream",
     "text": [
      "Merging file 0 out of 271\n",
      "Merging file 50 out of 271\n",
      "Merging file 100 out of 271\n",
      "Merging file 150 out of 271\n",
      "Merging file 200 out of 271\n",
      "Merging file 250 out of 271\n",
      "PDF files in '/root/capsule/scratch/751004/behavior_751004_2024-12-19_11-50-37/ephys/opto/raw/figures' merged into '/root/capsule/scratch/751004/behavior_751004_2024-12-19_11-50-37/ephys/opto/raw/behavior_751004_2024-12-19_11-50-37_opto_tagging.pdf' successfully.\n",
      "5 out of 271 units pass quality control and opto tagging\n"
     ]
    },
    {
     "name": "stderr",
     "output_type": "stream",
     "text": [
      "/root/capsule/code/beh_ephys_analysis/opto_tagging.py:458: UserWarning: Boolean Series key will be reindexed to match DataFrame index.\n",
      "  opto_tagging_df_focus = opto_tagging_df_sorted[(opto_tagging_df_sorted['opto_pass'] == True) & (opto_tagging_df['decoder_label'] != 'artifact') & (opto_tagging_df['decoder_label'] != 'noise')].copy()\n"
     ]
    }
   ],
   "source": [
    "plt.close('all')\n",
    "data_type = 'raw'\n",
    "session = session_list[0]\n",
    "opto_tagging_df = opto_plotting_session(session, data_type, 'soma', plot=True, resp_thresh=0.4, lat_thresh=0.02)\n",
    "plt.close('all')\n",
    "opto_tagged_spike_stability(session, data_type, 'soma', opto_tagging_df=opto_tagging_df)"
   ]
  },
  {
   "cell_type": "code",
   "execution_count": null,
   "metadata": {},
   "outputs": [],
   "source": [
    "session_list = ['']"
   ]
  },
  {
   "cell_type": "code",
   "execution_count": null,
   "metadata": {},
   "outputs": [],
   "source": [
    "for session in session_list:\n",
    "    ephys_opto_preprocessing(session, 'curated', 'soma')\n",
    "    opto_wf_preprocessing(session, 'curated', 'soma', load_sorting_analyzer=False)\n",
    "    opto_plotting_session(session, 'curated', plot=True)\n",
    "    plt.close('all')"
   ]
  },
  {
   "cell_type": "code",
   "execution_count": null,
   "metadata": {},
   "outputs": [],
   "source": [
    "session = 'behavior_751004_2024-12-20_13-26-11'\n",
    "data_type = 'raw'\n",
    "target = 'soma'\n",
    "target_unit_ids = [16]\n",
    "# pass_df = opto_plotting_session(session, data_type, target, plot=True,  resp_thresh=0.5, lat_thresh=0.015, target_unit_ids=target_unit_ids)"
   ]
  },
  {
   "cell_type": "code",
   "execution_count": null,
   "metadata": {},
   "outputs": [],
   "source": [
    "data_type = 'raw'\n",
    "target = 'soma'\n",
    "for session in session_list:\n",
    "    combine_qc = opto_plotting_session(session, data_type, target, plot=True,  resp_thresh=0.5, lat_thresh=0.015)"
   ]
  },
  {
   "cell_type": "code",
   "execution_count": null,
   "metadata": {},
   "outputs": [],
   "source": [
    "session_dir = session_dirs(session)\n",
    "opto_wf_csv = os.path.join(session_dir[f'opto_dir_{data_type}'], f'{session}_opto_waveform_metrics.csv')\n",
    "opto_wf = pd.read_csv(opto_wf_csv)"
   ]
  },
  {
   "cell_type": "code",
   "execution_count": null,
   "metadata": {},
   "outputs": [
    {
     "ename": "SyntaxError",
     "evalue": "invalid syntax (4263930493.py, line 1)",
     "output_type": "error",
     "traceback": [
      "\u001b[0;36m  Cell \u001b[0;32mIn[1], line 1\u001b[0;36m\u001b[0m\n\u001b[0;31m    pip3 install --no-cache-dir numpy\u001b[0m\n\u001b[0m         ^\u001b[0m\n\u001b[0;31mSyntaxError\u001b[0m\u001b[0;31m:\u001b[0m invalid syntax\n"
     ]
    }
   ],
   "source": [
    "pip3 install --no-cache-dir numpy"
   ]
  }
 ],
 "metadata": {
  "kernelspec": {
   "display_name": "base",
   "language": "python",
   "name": "python3"
  },
  "language_info": {
   "codemirror_mode": {
    "name": "ipython",
    "version": 3
   },
   "file_extension": ".py",
   "mimetype": "text/x-python",
   "name": "python",
   "nbconvert_exporter": "python",
   "pygments_lexer": "ipython3",
   "version": "3.10.16"
  }
 },
 "nbformat": 4,
 "nbformat_minor": 2
}
