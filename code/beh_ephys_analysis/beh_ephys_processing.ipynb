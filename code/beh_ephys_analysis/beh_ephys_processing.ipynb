{
 "cells": [
  {
   "cell_type": "code",
   "execution_count": 4,
   "metadata": {},
   "outputs": [],
   "source": [
    "from behavior_and_time_alignment import beh_and_time_alignment\n",
    "from session_preprocessing import ephys_opto_preprocessing, session_crosscorr, ephys_opto_crosscorr\n",
    "from opto_tagging import opto_plotting_session, opto_plotting_unit\n",
    "from opto_waveforms_preprocessing import opto_wf_preprocessing\n",
    "from drift_analysis import plot_session_opto_drift\n",
    "import matplotlib.pyplot as plt\n",
    "from utils.beh_functions import session_dirs, get_unit_tbl\n",
    "import numpy as np\n",
    "import pandas as pd\n",
    "import os\n",
    "from utils.plot_utils import combine_pdf_big\n",
    "import spikeinterface as si\n",
    "from joblib import Parallel, delayed\n",
    "import pickle"
   ]
  },
  {
   "cell_type": "code",
   "execution_count": 2,
   "metadata": {},
   "outputs": [
    {
     "data": {
      "text/plain": [
       "['behavior_784806_2025-06-18_13-39-50', 'behavior_784806_2025-06-20_13-39-16']"
      ]
     },
     "execution_count": 2,
     "metadata": {},
     "output_type": "execute_result"
    }
   ],
   "source": [
    "session_assets = pd.read_csv('/root/capsule/code/data_management/session_assets.csv')\n",
    "session_list = session_assets['session_id'].tolist()\n",
    "session_list[-8:-6]"
   ]
  },
  {
   "cell_type": "code",
   "execution_count": 3,
   "metadata": {},
   "outputs": [
    {
     "name": "stdout",
     "output_type": "stream",
     "text": [
      "Selected experiment1 recording1, length:4862.23\n"
     ]
    }
   ],
   "source": [
    "session_dir = session_dirs('behavior_791691_2025-06-24_13-21-29')"
   ]
  },
  {
   "cell_type": "code",
   "execution_count": 4,
   "metadata": {},
   "outputs": [],
   "source": [
    "# # combine opto pdfs\n",
    "# data_type = 'curated'\n",
    "# def process(session, data_type):\n",
    "#     pdf_dir = session_dirs(session)[f'opto_dir_fig_{data_type}']\n",
    "#     output_pdf = os.path.join(session_dirs(session)[f'opto_dir_{data_type}'], f'{session}_opto_tagging_png.pdf')\n",
    "#     if os.path.exists(pdf_dir) and not os.path.exists(output_pdf):\n",
    "#         print(session)\n",
    "#         combine_pdf_big(pdf_dir, output_pdf)\n",
    "# Parallel(n_jobs=4)(delayed(process)(session, data_type) for session in session_list[-14:-3])\n",
    "# # for session in session_list[-14:-3]:\n",
    "# #     try:\n",
    "# #         process(session, data_type)\n",
    "# #         plt.close('all')\n",
    "# #     except:\n",
    "# #         print(f'Failed to process {session}')"
   ]
  },
  {
   "cell_type": "code",
   "execution_count": 7,
   "metadata": {},
   "outputs": [],
   "source": [
    "# from joblib import Parallel, delayed\n",
    "# session_list = ['behavior_751181_2025-02-25_12-12-35',\n",
    "#                 'behavior_751181_2025-02-26_11-51-19']\n",
    "data_type = 'raw'\n",
    "def process(session, data_type='raw'):\n",
    "    plt.close('all')\n",
    "    session_dir = session_dirs(session)\n",
    "    print(session_dir[f'curated_dir_{data_type}'])\n",
    "    # if session_dir[f'curated_dir_{data_type}'] is None:\n",
    "    #     return None\n",
    "    print(f'{session} start')\n",
    "    beh_and_time_alignment(session) # plot behavior, check alignment between behavior, sound, and ephys\n",
    "    plt.close('all')\n",
    "    ephys_opto_preprocessing(session, data_type, 'soma') \n",
    "    # # redo spiketimes if not aligned, make opto_table (laser time in nidaq); \n",
    "    # # generate a pkl file with opto_resp/lat to each condition\n",
    "    # plt.close('all')\n",
    "    # ephys_opto_crosscorr(session, data_type)\n",
    "    # # separate session into opto/beh, cal cross-correlation\n",
    "    # plt.close('all')\n",
    "    # opto_wf_preprocessing(session, data_type, 'soma', load_sorting_analyzer=True)\n",
    "    # recal wf based on conditions. (pre/post, power), cal similarity, euclidean distance, correlation with spont\n",
    "    # pay attention to difference early and late in the session\n",
    "    \n",
    "    opto_plotting_session(session, data_type, 'soma', plot=True, resp_thresh=0.3, lat_thresh=0.02, save=True)    \n",
    "    # # save as pickle\n",
    "    # with open(os.path.join(session_dirs(session)[f'opto_dir_{data_type}'], f'{session}_opto_tagging_metrics.pkl'), 'wb') as f:\n",
    "    #     opto_tagging_df.to_pickle(f)\n",
    "    \n",
    "    # if '751004' in session:\n",
    "    #     plot_session_opto_drift(session, data_type, update_csv=False)\n",
    "    # else:     \n",
    "    #     plot_session_opto_drift(session, data_type, update_csv=True)\n",
    "    print(f'{session} stop')\n",
    "        \n",
    " \n",
    "# Parallel(n_jobs=6)(delayed(process)(session, data_type = data_type) for session in session_list[-13:])\n"
   ]
  },
  {
   "cell_type": "code",
   "execution_count": 8,
   "metadata": {},
   "outputs": [],
   "source": [
    "process('behavior_791691_2025-06-27_13-54-30')"
   ]
  },
  {
   "cell_type": "code",
   "execution_count": 8,
   "metadata": {},
   "outputs": [
    {
     "ename": "NameError",
     "evalue": "name 'session_list' is not defined",
     "output_type": "error",
     "traceback": [
      "\u001b[0;31m---------------------------------------------------------------------------\u001b[0m",
      "\u001b[0;31mNameError\u001b[0m                                 Traceback (most recent call last)",
      "\u001b[1;32m/root/capsule/code/beh_ephys_analysis/beh_ephys_processing.ipynb Cell 6\u001b[0m line \u001b[0;36m1\n\u001b[0;32m----> <a href='vscode-notebook-cell://codeocean.allenneuraldynamics.org/root/capsule/code/beh_ephys_analysis/beh_ephys_processing.ipynb#W5sdnNjb2RlLXJlbW90ZQ%3D%3D?line=0'>1</a>\u001b[0m \u001b[39mfor\u001b[39;00m session \u001b[39min\u001b[39;00m session_list[\u001b[39m61\u001b[39m:]:\n\u001b[1;32m      <a href='vscode-notebook-cell://codeocean.allenneuraldynamics.org/root/capsule/code/beh_ephys_analysis/beh_ephys_processing.ipynb#W5sdnNjb2RlLXJlbW90ZQ%3D%3D?line=1'>2</a>\u001b[0m     \u001b[39mprint\u001b[39m(\u001b[39mf\u001b[39m\u001b[39m'\u001b[39m\u001b[39mChecking \u001b[39m\u001b[39m{\u001b[39;00msession\u001b[39m}\u001b[39;00m\u001b[39m'\u001b[39m)\n\u001b[1;32m      <a href='vscode-notebook-cell://codeocean.allenneuraldynamics.org/root/capsule/code/beh_ephys_analysis/beh_ephys_processing.ipynb#W5sdnNjb2RlLXJlbW90ZQ%3D%3D?line=2'>3</a>\u001b[0m     session_dir \u001b[39m=\u001b[39m session_dirs(session)\n",
      "\u001b[0;31mNameError\u001b[0m: name 'session_list' is not defined"
     ]
    }
   ],
   "source": [
    "\n",
    "for session in session_list[61:]:\n",
    "    print(f'Checking {session}')\n",
    "    session_dir = session_dirs(session)\n",
    "    if get_unit_tbl(session, 'curated', summary=False) is None:\n",
    "        print('No curated unit table found.')\n",
    "        if get_unit_tbl(session, 'raw', summary=False) is None:\n",
    "            print('No raw unit table found, processing session')\n",
    "            process(session, data_type='raw') \n",
    "    # elif  session_dir['curated_dir_raw'] is not None:\n",
    "    #     print('Raw')\n",
    "    #     process(session, data_type='raw')\n",
    "# process(session_list[-7])\n",
    "        \n",
    " "
   ]
  },
  {
   "cell_type": "code",
   "execution_count": 3,
   "metadata": {},
   "outputs": [
    {
     "name": "stdout",
     "output_type": "stream",
     "text": [
      "Single experiment found: experiment1, recording1\n",
      "There is no nwb file in the raw directory.\n",
      "None\n",
      "behavior_751766_2025-02-15_12-08-11 start\n",
      "behavior_751766_2025-02-15_12-08-11\n",
      "Single experiment found: experiment1, recording1\n",
      "There is no nwb file in the raw directory.\n"
     ]
    },
    {
     "name": "stdout",
     "output_type": "stream",
     "text": [
      "behavior_751766_2025-02-15_12-08-11 stop\n"
     ]
    }
   ],
   "source": [
    "process('behavior_751766_2025-02-15_12-08-11', data_type='raw')"
   ]
  },
  {
   "cell_type": "code",
   "execution_count": 8,
   "metadata": {},
   "outputs": [
    {
     "name": "stdout",
     "output_type": "stream",
     "text": [
      "Single experiment found: experiment1, recording1\n"
     ]
    },
    {
     "data": {
      "text/plain": [
       "{'aniID': '744779',\n",
       " 'raw_id': '744779_2024-11-15_12-54-11',\n",
       " 'datetime': datetime.datetime(2024, 11, 15, 12, 54, 11),\n",
       " 'raw_dir': '/root/capsule/data/behavior_744779_2024-11-15_12-54-11_raw_data',\n",
       " 'raw_rec': '/root/capsule/data/behavior_744779_2024-11-15_12-54-11_raw_data/ecephys/ecephys_compressed/experiment1_Record Node 104#Neuropix-PXI-100.ProbeA.zarr',\n",
       " 'session_dir': '/root/capsule/data/behavior_744779_2024-11-15_12-54-11_raw_data/ecephys/ecephys_clipped',\n",
       " 'session_dir_raw': '/root/capsule/data/behavior_744779_2024-11-15_12-54-11_raw_data/ecephys/ecephys_compressed',\n",
       " 'processed_dir': '/root/capsule/scratch/744779/behavior_744779_2024-11-15_12-54-11',\n",
       " 'alignment_dir': '/root/capsule/scratch/744779/behavior_744779_2024-11-15_12-54-11/alignment',\n",
       " 'beh_fig_dir': '/root/capsule/scratch/744779/behavior_744779_2024-11-15_12-54-11/behavior',\n",
       " 'ephys_dir_raw': '/root/capsule/scratch/744779/behavior_744779_2024-11-15_12-54-11/ephys/raw',\n",
       " 'ephys_processed_dir_raw': '/root/capsule/scratch/744779/behavior_744779_2024-11-15_12-54-11/ephys/raw/processed',\n",
       " 'ephys_fig_dir_raw': '/root/capsule/scratch/744779/behavior_744779_2024-11-15_12-54-11/ephys/raw/figures',\n",
       " 'ephys_dir_curated': '/root/capsule/scratch/744779/behavior_744779_2024-11-15_12-54-11/ephys/curated',\n",
       " 'ephys_processed_dir_curated': '/root/capsule/scratch/744779/behavior_744779_2024-11-15_12-54-11/ephys/curated/processed',\n",
       " 'ephys_fig_dir_curated': '/root/capsule/scratch/744779/behavior_744779_2024-11-15_12-54-11/ephys/curated/figures',\n",
       " 'opto_dir': '/root/capsule/scratch/744779/behavior_744779_2024-11-15_12-54-11/ephys/opto',\n",
       " 'opto_dir_raw': '/root/capsule/scratch/744779/behavior_744779_2024-11-15_12-54-11/ephys/opto/raw',\n",
       " 'opto_dir_curated': '/root/capsule/scratch/744779/behavior_744779_2024-11-15_12-54-11/ephys/opto/curated',\n",
       " 'opto_dir_fig_raw': '/root/capsule/scratch/744779/behavior_744779_2024-11-15_12-54-11/ephys/opto/raw/figures',\n",
       " 'opto_dir_fig_curated': '/root/capsule/scratch/744779/behavior_744779_2024-11-15_12-54-11/ephys/opto/curated/figures',\n",
       " 'nwb_dir_raw': None,\n",
       " 'nwb_dir_curated': None,\n",
       " 'postprocessed_dir_raw': None,\n",
       " 'postprocessed_dir_curated': None,\n",
       " 'curated_dir_raw': None,\n",
       " 'curated_dir_curated': None,\n",
       " 'model_dir': None,\n",
       " 'model_file': None,\n",
       " 'session_curation_file': None,\n",
       " 'nwb_beh': '/root/capsule/scratch/744779/behavior_744779_2024-11-15_12-54-11/behavior/behavior_744779_2024-11-15_12-54-11.nwb',\n",
       " 'sorted_dir_curated': '/root/capsule/data/behavior_744779_2024-11-15_12-54-11_sorted_curated',\n",
       " 'sorted_dir_raw': '/root/capsule/data/behavior_744779_2024-11-15_12-54-11_sorted',\n",
       " 'opto_csvs': ['/root/capsule/data/behavior_744779_2024-11-15_12-54-11_raw_data/ecephys/ecephys_clipped/241114131457_744779_combined.opto.csv'],\n",
       " 'stream_name': 'experiment1_Record Node 104#Neuropix-PXI-100.ProbeA',\n",
       " 'experiment_id': 1,\n",
       " 'seg_id': 1,\n",
       " 'rec_id_all': 0}"
      ]
     },
     "execution_count": 8,
     "metadata": {},
     "output_type": "execute_result"
    }
   ],
   "source": [
    "session_dirs('behavior_744779_2024-11-15_12-54-11')"
   ]
  },
  {
   "cell_type": "code",
   "execution_count": 9,
   "metadata": {},
   "outputs": [
    {
     "data": {
      "text/plain": [
       "['behavior_751181_2025-02-25_12-12-35',\n",
       " 'behavior_751181_2025-02-26_11-51-19',\n",
       " 'behavior_751181_2025-02-27_11-24-47',\n",
       " 'behavior_754897_2025-03-11_12-07-41',\n",
       " 'behavior_754897_2025-03-12_12-23-15',\n",
       " 'behavior_754897_2025-03-13_11-20-42',\n",
       " 'behavior_754897_2025-03-14_11-28-53',\n",
       " 'behavior_754897_2025-03-15_11-32-18',\n",
       " 'behavior_758018_2025-03-19_11-16-44',\n",
       " 'behavior_758018_2025-03-20_11-53-05',\n",
       " 'behavior_758018_2025-03-21_11-00-34',\n",
       " 'behavior_752014_2025-03-25_12-09-20',\n",
       " 'behavior_752014_2025-03-26_11-18-57',\n",
       " 'behavior_752014_2025-03-27_12-03-59',\n",
       " 'behavior_752014_2025-03-28_11-04-59',\n",
       " 'behavior_761038_2025-04-15_10-25-11',\n",
       " 'behavior_761038_2025-04-16_10-39-10',\n",
       " 'behavior_761038_2025-04-17_11-03-16',\n",
       " 'behavior_761038_2025-04-18_12-37-39',\n",
       " 'ecephys_763360_2025-04-15_12-16-29',\n",
       " 'ecephys_763360_2025-04-16_13-29-55',\n",
       " 'behavior_782394_2025-04-22_10-53-28',\n",
       " 'behavior_782394_2025-04-23_10-51-17',\n",
       " 'behavior_782394_2025-04-24_12-07-34',\n",
       " 'behavior_782394_2025-04-25_11-13-21',\n",
       " 'behavior_763590_2025-05-01_10-59-18',\n",
       " 'behavior_763590_2025-05-02_11-07-09',\n",
       " 'behavior_781166_2025-05-13_14-04-27',\n",
       " 'behavior_781166_2025-05-14_14-18-28',\n",
       " 'behavior_781166_2025-05-15_14-20-51',\n",
       " 'behavior_781166_2025-05-16_14-16-34',\n",
       " 'behavior_785956_2025-05-20_14-15-19',\n",
       " 'behavior_785956_2025-05-21_13-42-02',\n",
       " 'behavior_785956_2025-05-23_13-45-21',\n",
       " 'behavior_784806_2025-06-17_14-59-23',\n",
       " 'behavior_784806_2025-06-18_13-39-50',\n",
       " 'behavior_784806_2025-06-20_13-39-16',\n",
       " 'behavior_791691_2025-06-24_13-21-29',\n",
       " 'behavior_791691_2025-06-25_14-06-10',\n",
       " 'behavior_791691_2025-06-26_13-39-26',\n",
       " 'behavior_791691_2025-06-27_13-54-30',\n",
       " 'behavior_784803_2025-07-01_13-58-26',\n",
       " 'behavior_784803_2025-07-02_13-41-41']"
      ]
     },
     "execution_count": 9,
     "metadata": {},
     "output_type": "execute_result"
    }
   ],
   "source": [
    "session_list[61:]"
   ]
  },
  {
   "cell_type": "code",
   "execution_count": 25,
   "metadata": {},
   "outputs": [
    {
     "ename": "OSError",
     "evalue": "[Errno 5] Input/output error",
     "output_type": "error",
     "traceback": [
      "\u001b[0;31m---------------------------------------------------------------------------\u001b[0m",
      "\u001b[0;31mOSError\u001b[0m                                   Traceback (most recent call last)",
      "\u001b[1;32m/root/capsule/code/beh_ephys_analysis/beh_ephys_processing.ipynb Cell 6\u001b[0m line \u001b[0;36m1\n\u001b[0;32m----> <a href='vscode-notebook-cell://codeocean.allenneuraldynamics.org/root/capsule/code/beh_ephys_analysis/beh_ephys_processing.ipynb#W5sdnNjb2RlLXJlbW90ZQ%3D%3D?line=0'>1</a>\u001b[0m rec \u001b[39m=\u001b[39m si\u001b[39m.\u001b[39;49mload(\u001b[39m'\u001b[39;49m\u001b[39m/root/capsule/data/ecephys_713854_2024-03-05_13-31-20_raw_data/ecephys_compressed/experiment1_Record Node 104#Neuropix-PXI-100.ProbeA.zarr\u001b[39;49m\u001b[39m'\u001b[39;49m)\n",
      "File \u001b[0;32m/opt/conda/lib/python3.10/site-packages/spikeinterface/core/loading.py:111\u001b[0m, in \u001b[0;36mload\u001b[0;34m(file_or_folder_or_dict, **kwargs)\u001b[0m\n\u001b[1;32m    109\u001b[0m     \u001b[39mif\u001b[39;00m object_type \u001b[39mis\u001b[39;00m \u001b[39mNone\u001b[39;00m:\n\u001b[1;32m    110\u001b[0m         \u001b[39mraise\u001b[39;00m \u001b[39mValueError\u001b[39;00m(_error_msg\u001b[39m.\u001b[39mformat(file_path\u001b[39m=\u001b[39mfile_path))\n\u001b[0;32m--> 111\u001b[0m     loaded_object \u001b[39m=\u001b[39m _load_object_from_zarr(folder, object_type, \u001b[39m*\u001b[39;49m\u001b[39m*\u001b[39;49mkwargs)\n\u001b[1;32m    112\u001b[0m     \u001b[39mreturn\u001b[39;00m loaded_object\n\u001b[1;32m    114\u001b[0m \u001b[39melse\u001b[39;00m:\n\u001b[1;32m    115\u001b[0m     \u001b[39m# Local folder can be\u001b[39;00m\n\u001b[1;32m    116\u001b[0m     \u001b[39m# Sorting / Recording / SortingAnalyzer / Motion\u001b[39;00m\n",
      "File \u001b[0;32m/opt/conda/lib/python3.10/site-packages/spikeinterface/core/loading.py:287\u001b[0m, in \u001b[0;36m_load_object_from_zarr\u001b[0;34m(folder_or_url, object_type, **kwargs)\u001b[0m\n\u001b[1;32m    284\u001b[0m     \u001b[39mfrom\u001b[39;00m\u001b[39m \u001b[39m\u001b[39m.\u001b[39;00m\u001b[39mzarrextractors\u001b[39;00m\u001b[39m \u001b[39m\u001b[39mimport\u001b[39;00m read_zarr_recording\n\u001b[1;32m    286\u001b[0m     storage_options \u001b[39m=\u001b[39m kwargs\u001b[39m.\u001b[39mget(\u001b[39m\"\u001b[39m\u001b[39mstorage_options\u001b[39m\u001b[39m\"\u001b[39m, \u001b[39mNone\u001b[39;00m)\n\u001b[0;32m--> 287\u001b[0m     recording \u001b[39m=\u001b[39m read_zarr_recording(folder_or_url, storage_options\u001b[39m=\u001b[39;49mstorage_options)\n\u001b[1;32m    288\u001b[0m     \u001b[39mreturn\u001b[39;00m recording\n\u001b[1;32m    289\u001b[0m \u001b[39melif\u001b[39;00m object_type \u001b[39m==\u001b[39m \u001b[39m\"\u001b[39m\u001b[39mSorting\u001b[39m\u001b[39m\"\u001b[39m:\n",
      "File \u001b[0;32m/opt/conda/lib/python3.10/site-packages/spikeinterface/core/zarrextractors.py:120\u001b[0m, in \u001b[0;36mZarrRecordingExtractor.__init__\u001b[0;34m(self, folder_path, storage_options)\u001b[0m\n\u001b[1;32m    118\u001b[0m num_segments \u001b[39m=\u001b[39m \u001b[39mself\u001b[39m\u001b[39m.\u001b[39m_root\u001b[39m.\u001b[39mattrs\u001b[39m.\u001b[39mget(\u001b[39m\"\u001b[39m\u001b[39mnum_segments\u001b[39m\u001b[39m\"\u001b[39m, \u001b[39mNone\u001b[39;00m)\n\u001b[1;32m    119\u001b[0m \u001b[39massert\u001b[39;00m \u001b[39m\"\u001b[39m\u001b[39mchannel_ids\u001b[39m\u001b[39m\"\u001b[39m \u001b[39min\u001b[39;00m \u001b[39mself\u001b[39m\u001b[39m.\u001b[39m_root\u001b[39m.\u001b[39mkeys(), \u001b[39m\"\u001b[39m\u001b[39m'\u001b[39m\u001b[39mchannel_ids\u001b[39m\u001b[39m'\u001b[39m\u001b[39m dataset not found!\u001b[39m\u001b[39m\"\u001b[39m\n\u001b[0;32m--> 120\u001b[0m channel_ids \u001b[39m=\u001b[39m \u001b[39mself\u001b[39;49m\u001b[39m.\u001b[39;49m_root[\u001b[39m\"\u001b[39;49m\u001b[39mchannel_ids\u001b[39;49m\u001b[39m\"\u001b[39;49m][:]\n\u001b[1;32m    122\u001b[0m \u001b[39massert\u001b[39;00m sampling_frequency \u001b[39mis\u001b[39;00m \u001b[39mnot\u001b[39;00m \u001b[39mNone\u001b[39;00m, \u001b[39m\"\u001b[39m\u001b[39m'\u001b[39m\u001b[39msampling_frequency\u001b[39m\u001b[39m'\u001b[39m\u001b[39m attiribute not found!\u001b[39m\u001b[39m\"\u001b[39m\n\u001b[1;32m    123\u001b[0m \u001b[39massert\u001b[39;00m num_segments \u001b[39mis\u001b[39;00m \u001b[39mnot\u001b[39;00m \u001b[39mNone\u001b[39;00m, \u001b[39m\"\u001b[39m\u001b[39m'\u001b[39m\u001b[39mnum_segments\u001b[39m\u001b[39m'\u001b[39m\u001b[39m attiribute not found!\u001b[39m\u001b[39m\"\u001b[39m\n",
      "File \u001b[0;32m/opt/conda/lib/python3.10/site-packages/zarr/hierarchy.py:467\u001b[0m, in \u001b[0;36mGroup.__getitem__\u001b[0;34m(self, item)\u001b[0m\n\u001b[1;32m    465\u001b[0m path \u001b[39m=\u001b[39m \u001b[39mself\u001b[39m\u001b[39m.\u001b[39m_item_path(item)\n\u001b[1;32m    466\u001b[0m \u001b[39mtry\u001b[39;00m:\n\u001b[0;32m--> 467\u001b[0m     \u001b[39mreturn\u001b[39;00m Array(\n\u001b[1;32m    468\u001b[0m         \u001b[39mself\u001b[39;49m\u001b[39m.\u001b[39;49m_store,\n\u001b[1;32m    469\u001b[0m         read_only\u001b[39m=\u001b[39;49m\u001b[39mself\u001b[39;49m\u001b[39m.\u001b[39;49m_read_only,\n\u001b[1;32m    470\u001b[0m         path\u001b[39m=\u001b[39;49mpath,\n\u001b[1;32m    471\u001b[0m         chunk_store\u001b[39m=\u001b[39;49m\u001b[39mself\u001b[39;49m\u001b[39m.\u001b[39;49m_chunk_store,\n\u001b[1;32m    472\u001b[0m         synchronizer\u001b[39m=\u001b[39;49m\u001b[39mself\u001b[39;49m\u001b[39m.\u001b[39;49m_synchronizer,\n\u001b[1;32m    473\u001b[0m         cache_attrs\u001b[39m=\u001b[39;49m\u001b[39mself\u001b[39;49m\u001b[39m.\u001b[39;49mattrs\u001b[39m.\u001b[39;49mcache,\n\u001b[1;32m    474\u001b[0m         zarr_version\u001b[39m=\u001b[39;49m\u001b[39mself\u001b[39;49m\u001b[39m.\u001b[39;49m_version,\n\u001b[1;32m    475\u001b[0m         meta_array\u001b[39m=\u001b[39;49m\u001b[39mself\u001b[39;49m\u001b[39m.\u001b[39;49m_meta_array,\n\u001b[1;32m    476\u001b[0m     )\n\u001b[1;32m    477\u001b[0m \u001b[39mexcept\u001b[39;00m ArrayNotFoundError:\n\u001b[1;32m    478\u001b[0m     \u001b[39mpass\u001b[39;00m\n",
      "File \u001b[0;32m/opt/conda/lib/python3.10/site-packages/zarr/core.py:170\u001b[0m, in \u001b[0;36mArray.__init__\u001b[0;34m(self, store, path, read_only, chunk_store, synchronizer, cache_metadata, cache_attrs, partial_decompress, write_empty_chunks, zarr_version, meta_array)\u001b[0m\n\u001b[1;32m    167\u001b[0m     \u001b[39mself\u001b[39m\u001b[39m.\u001b[39m_metadata_key_suffix \u001b[39m=\u001b[39m \u001b[39mself\u001b[39m\u001b[39m.\u001b[39m_hierarchy_metadata[\u001b[39m\"\u001b[39m\u001b[39mmetadata_key_suffix\u001b[39m\u001b[39m\"\u001b[39m]\n\u001b[1;32m    169\u001b[0m \u001b[39m# initialize metadata\u001b[39;00m\n\u001b[0;32m--> 170\u001b[0m \u001b[39mself\u001b[39;49m\u001b[39m.\u001b[39;49m_load_metadata()\n\u001b[1;32m    172\u001b[0m \u001b[39m# initialize attributes\u001b[39;00m\n\u001b[1;32m    173\u001b[0m akey \u001b[39m=\u001b[39m _prefix_to_attrs_key(\u001b[39mself\u001b[39m\u001b[39m.\u001b[39m_store, \u001b[39mself\u001b[39m\u001b[39m.\u001b[39m_key_prefix)\n",
      "File \u001b[0;32m/opt/conda/lib/python3.10/site-packages/zarr/core.py:193\u001b[0m, in \u001b[0;36mArray._load_metadata\u001b[0;34m(self)\u001b[0m\n\u001b[1;32m    191\u001b[0m \u001b[39m\u001b[39m\u001b[39m\"\"\"(Re)load metadata from store.\"\"\"\u001b[39;00m\n\u001b[1;32m    192\u001b[0m \u001b[39mif\u001b[39;00m \u001b[39mself\u001b[39m\u001b[39m.\u001b[39m_synchronizer \u001b[39mis\u001b[39;00m \u001b[39mNone\u001b[39;00m:\n\u001b[0;32m--> 193\u001b[0m     \u001b[39mself\u001b[39;49m\u001b[39m.\u001b[39;49m_load_metadata_nosync()\n\u001b[1;32m    194\u001b[0m \u001b[39melse\u001b[39;00m:\n\u001b[1;32m    195\u001b[0m     mkey \u001b[39m=\u001b[39m _prefix_to_array_key(\u001b[39mself\u001b[39m\u001b[39m.\u001b[39m_store, \u001b[39mself\u001b[39m\u001b[39m.\u001b[39m_key_prefix)\n",
      "File \u001b[0;32m/opt/conda/lib/python3.10/site-packages/zarr/core.py:202\u001b[0m, in \u001b[0;36mArray._load_metadata_nosync\u001b[0;34m(self)\u001b[0m\n\u001b[1;32m    200\u001b[0m \u001b[39mtry\u001b[39;00m:\n\u001b[1;32m    201\u001b[0m     mkey \u001b[39m=\u001b[39m _prefix_to_array_key(\u001b[39mself\u001b[39m\u001b[39m.\u001b[39m_store, \u001b[39mself\u001b[39m\u001b[39m.\u001b[39m_key_prefix)\n\u001b[0;32m--> 202\u001b[0m     meta_bytes \u001b[39m=\u001b[39m \u001b[39mself\u001b[39;49m\u001b[39m.\u001b[39;49m_store[mkey]\n\u001b[1;32m    203\u001b[0m \u001b[39mexcept\u001b[39;00m \u001b[39mKeyError\u001b[39;00m \u001b[39mas\u001b[39;00m e:\n\u001b[1;32m    204\u001b[0m     \u001b[39mraise\u001b[39;00m ArrayNotFoundError(\u001b[39mself\u001b[39m\u001b[39m.\u001b[39m_path) \u001b[39mfrom\u001b[39;00m\u001b[39m \u001b[39m\u001b[39me\u001b[39;00m\n",
      "File \u001b[0;32m/opt/conda/lib/python3.10/site-packages/zarr/storage.py:1118\u001b[0m, in \u001b[0;36mDirectoryStore.__getitem__\u001b[0;34m(self, key)\u001b[0m\n\u001b[1;32m   1116\u001b[0m filepath \u001b[39m=\u001b[39m os\u001b[39m.\u001b[39mpath\u001b[39m.\u001b[39mjoin(\u001b[39mself\u001b[39m\u001b[39m.\u001b[39mpath, key)\n\u001b[1;32m   1117\u001b[0m \u001b[39mif\u001b[39;00m os\u001b[39m.\u001b[39mpath\u001b[39m.\u001b[39misfile(filepath):\n\u001b[0;32m-> 1118\u001b[0m     \u001b[39mreturn\u001b[39;00m \u001b[39mself\u001b[39;49m\u001b[39m.\u001b[39;49m_fromfile(filepath)\n\u001b[1;32m   1119\u001b[0m \u001b[39melse\u001b[39;00m:\n\u001b[1;32m   1120\u001b[0m     \u001b[39mraise\u001b[39;00m \u001b[39mKeyError\u001b[39;00m(key)\n",
      "File \u001b[0;32m/opt/conda/lib/python3.10/site-packages/zarr/storage.py:1093\u001b[0m, in \u001b[0;36mDirectoryStore._fromfile\u001b[0;34m(fn)\u001b[0m\n\u001b[1;32m   1080\u001b[0m \u001b[39m\u001b[39m\u001b[39m\"\"\"Read data from a file\u001b[39;00m\n\u001b[1;32m   1081\u001b[0m \n\u001b[1;32m   1082\u001b[0m \u001b[39mParameters\u001b[39;00m\n\u001b[0;32m   (...)\u001b[0m\n\u001b[1;32m   1090\u001b[0m \u001b[39mfile reading logic.\u001b[39;00m\n\u001b[1;32m   1091\u001b[0m \u001b[39m\"\"\"\u001b[39;00m\n\u001b[1;32m   1092\u001b[0m \u001b[39mwith\u001b[39;00m \u001b[39mopen\u001b[39m(fn, \u001b[39m\"\u001b[39m\u001b[39mrb\u001b[39m\u001b[39m\"\u001b[39m) \u001b[39mas\u001b[39;00m f:\n\u001b[0;32m-> 1093\u001b[0m     \u001b[39mreturn\u001b[39;00m f\u001b[39m.\u001b[39;49mread()\n",
      "\u001b[0;31mOSError\u001b[0m: [Errno 5] Input/output error"
     ]
    }
   ],
   "source": [
    "rec = si.load('/root/capsule/data/ecephys_713854_2024-03-05_13-31-20_raw_data/ecephys_compressed/experiment1_Record Node 104#Neuropix-PXI-100.ProbeA.zarr')"
   ]
  },
  {
   "cell_type": "code",
   "execution_count": 10,
   "metadata": {},
   "outputs": [
    {
     "data": {
      "text/plain": [
       "[]"
      ]
     },
     "execution_count": 10,
     "metadata": {},
     "output_type": "execute_result"
    }
   ],
   "source": [
    "len(os.listdir(os.path.join(session_dir['opto_dir_raw'], 'figures')))"
   ]
  },
  {
   "cell_type": "code",
   "execution_count": 12,
   "metadata": {},
   "outputs": [
    {
     "name": "stdout",
     "output_type": "stream",
     "text": [
      "Selected experiment1 recording1, length:3442.18\n",
      "No unit table found for behavior_716325_2024-05-30_11-33-46 in raw data.\n"
     ]
    }
   ],
   "source": [
    "tbl = get_unit_tbl('behavior_716325_2024-05-30_11-33-46', 'raw')"
   ]
  },
  {
   "cell_type": "code",
   "execution_count": 14,
   "metadata": {},
   "outputs": [
    {
     "data": {
      "text/plain": [
       "True"
      ]
     },
     "execution_count": 14,
     "metadata": {},
     "output_type": "execute_result"
    }
   ],
   "source": [
    "tbl is None"
   ]
  },
  {
   "cell_type": "code",
   "execution_count": 6,
   "metadata": {},
   "outputs": [
    {
     "ename": "NameError",
     "evalue": "name 'process' is not defined",
     "output_type": "error",
     "traceback": [
      "\u001b[0;31m---------------------------------------------------------------------------\u001b[0m",
      "\u001b[0;31mNameError\u001b[0m                                 Traceback (most recent call last)",
      "\u001b[1;32m/root/capsule/code/beh_ephys_analysis/beh_ephys_processing.ipynb Cell 10\u001b[0m line \u001b[0;36m2\n\u001b[1;32m      <a href='vscode-notebook-cell://codeocean.allenneuraldynamics.org/root/capsule/code/beh_ephys_analysis/beh_ephys_processing.ipynb#X13sdnNjb2RlLXJlbW90ZQ%3D%3D?line=0'>1</a>\u001b[0m session \u001b[39m=\u001b[39m \u001b[39m'\u001b[39m\u001b[39mbehavior_791691_2025-06-24_13-21-29\u001b[39m\u001b[39m'\u001b[39m\n\u001b[0;32m----> <a href='vscode-notebook-cell://codeocean.allenneuraldynamics.org/root/capsule/code/beh_ephys_analysis/beh_ephys_processing.ipynb#X13sdnNjb2RlLXJlbW90ZQ%3D%3D?line=1'>2</a>\u001b[0m process(session)\n\u001b[1;32m      <a href='vscode-notebook-cell://codeocean.allenneuraldynamics.org/root/capsule/code/beh_ephys_analysis/beh_ephys_processing.ipynb#X13sdnNjb2RlLXJlbW90ZQ%3D%3D?line=2'>3</a>\u001b[0m \u001b[39m# session_dir = session_dirs(session)\u001b[39;00m\n",
      "\u001b[0;31mNameError\u001b[0m: name 'process' is not defined"
     ]
    }
   ],
   "source": [
    "session = 'behavior_791691_2025-06-24_13-21-29'\n",
    "process(session)\n",
    "# session_dir = session_dirs(session)"
   ]
  },
  {
   "cell_type": "code",
   "execution_count": 8,
   "metadata": {},
   "outputs": [
    {
     "data": {
      "text/plain": [
       "'/root/capsule/data/behavior_791691_2025-06-24_13-21-29_sorted/nwb/behavior_791691_2025-06-24_13-21-26_experiment2_recording1.nwb'"
      ]
     },
     "execution_count": 8,
     "metadata": {},
     "output_type": "execute_result"
    }
   ],
   "source": [
    "session_dir['nwb_dir_raw']"
   ]
  },
  {
   "cell_type": "code",
   "execution_count": 4,
   "metadata": {},
   "outputs": [
    {
     "name": "stdout",
     "output_type": "stream",
     "text": [
      "Selected experiment1 recording1, length:4862.23\n"
     ]
    }
   ],
   "source": [
    "session = 'behavior_791691_2025-06-24_13-21-29'\n",
    "session_dir = session_dirs(session)"
   ]
  },
  {
   "cell_type": "code",
   "execution_count": 4,
   "metadata": {},
   "outputs": [
    {
     "data": {
      "text/plain": [
       "'/root/capsule/data/behavior_782394_2025-04-22_10-53-28_sorted/curated/experiment1_Record Node 104#Neuropix-PXI-100.ProbeA_recording1'"
      ]
     },
     "execution_count": 4,
     "metadata": {},
     "output_type": "execute_result"
    }
   ],
   "source": [
    "session_dir['curated_dir_raw']"
   ]
  },
  {
   "cell_type": "code",
   "execution_count": null,
   "metadata": {},
   "outputs": [
    {
     "data": {
      "text/plain": [
       "True"
      ]
     },
     "execution_count": 9,
     "metadata": {},
     "output_type": "execute_result"
    }
   ],
   "source": [
    "os.path.exists(session_dir['sorted_dir_raw'])"
   ]
  },
  {
   "cell_type": "code",
   "execution_count": 4,
   "metadata": {},
   "outputs": [],
   "source": [
    "from open_ephys.analysis import Session"
   ]
  },
  {
   "cell_type": "code",
   "execution_count": 5,
   "metadata": {},
   "outputs": [],
   "source": [
    "rec_file = '/root/capsule/data/behavior_791691_2025-06-24_13-21-29_raw_data/ecephys/ecephys_clipped'\n",
    "rec_clipped = Session(rec_file)"
   ]
  },
  {
   "cell_type": "code",
   "execution_count": 29,
   "metadata": {},
   "outputs": [],
   "source": [
    "stream_info = get_stream_info(\"/root/capsule/data/ecephys_713854_2024-03-05_13-31-20_raw_data/ecephys_clipped\")"
   ]
  },
  {
   "cell_type": "code",
   "execution_count": 30,
   "metadata": {},
   "outputs": [
    {
     "data": {
      "text/html": [
       "<div>\n",
       "<style scoped>\n",
       "    .dataframe tbody tr th:only-of-type {\n",
       "        vertical-align: middle;\n",
       "    }\n",
       "\n",
       "    .dataframe tbody tr th {\n",
       "        vertical-align: top;\n",
       "    }\n",
       "\n",
       "    .dataframe thead th {\n",
       "        text-align: right;\n",
       "    }\n",
       "</style>\n",
       "<table border=\"1\" class=\"dataframe\">\n",
       "  <thead>\n",
       "    <tr style=\"text-align: right;\">\n",
       "      <th></th>\n",
       "      <th>Record Node</th>\n",
       "      <th>Rec Idx</th>\n",
       "      <th>Exp Idx</th>\n",
       "      <th>Stream</th>\n",
       "      <th>Duration (s)</th>\n",
       "      <th>Channels</th>\n",
       "    </tr>\n",
       "  </thead>\n",
       "  <tbody>\n",
       "    <tr>\n",
       "      <th>0</th>\n",
       "      <td>104</td>\n",
       "      <td>0</td>\n",
       "      <td>0</td>\n",
       "      <td>ProbeA</td>\n",
       "      <td>0.003333</td>\n",
       "      <td>384</td>\n",
       "    </tr>\n",
       "    <tr>\n",
       "      <th>1</th>\n",
       "      <td>104</td>\n",
       "      <td>0</td>\n",
       "      <td>0</td>\n",
       "      <td>PXIe-6341</td>\n",
       "      <td>0.003333</td>\n",
       "      <td>8</td>\n",
       "    </tr>\n",
       "  </tbody>\n",
       "</table>\n",
       "</div>"
      ],
      "text/plain": [
       "  Record Node  Rec Idx  Exp Idx     Stream  Duration (s)  Channels\n",
       "0         104        0        0     ProbeA      0.003333       384\n",
       "1         104        0        0  PXIe-6341      0.003333         8"
      ]
     },
     "execution_count": 30,
     "metadata": {},
     "output_type": "execute_result"
    }
   ],
   "source": [
    "stream_info"
   ]
  },
  {
   "cell_type": "code",
   "execution_count": 19,
   "metadata": {},
   "outputs": [
    {
     "data": {
      "text/plain": [
       "np.float64(5118.98209682107)"
      ]
     },
     "execution_count": 19,
     "metadata": {},
     "output_type": "execute_result"
    }
   ],
   "source": [
    "rec_clipped.recordnodes[0].recordings[0].continuous[0].timestamps[-1]-rec_clipped.recordnodes[0].recordings[0].continuous[0].timestamps[0]"
   ]
  },
  {
   "cell_type": "code",
   "execution_count": 22,
   "metadata": {},
   "outputs": [
    {
     "ename": "AttributeError",
     "evalue": "'RecordNode' object has no attribute 'metadata'",
     "output_type": "error",
     "traceback": [
      "\u001b[0;31m---------------------------------------------------------------------------\u001b[0m",
      "\u001b[0;31mAttributeError\u001b[0m                            Traceback (most recent call last)",
      "\u001b[1;32m/root/capsule/code/beh_ephys_analysis/beh_ephys_processing.ipynb Cell 18\u001b[0m line \u001b[0;36m1\n\u001b[0;32m----> <a href='vscode-notebook-cell://codeocean.allenneuraldynamics.org/root/capsule/code/beh_ephys_analysis/beh_ephys_processing.ipynb#X22sdnNjb2RlLXJlbW90ZQ%3D%3D?line=0'>1</a>\u001b[0m rec_clipped\u001b[39m.\u001b[39;49mrecordnodes[\u001b[39m0\u001b[39;49m]\u001b[39m.\u001b[39;49mmetadata\n",
      "\u001b[0;31mAttributeError\u001b[0m: 'RecordNode' object has no attribute 'metadata'"
     ]
    }
   ],
   "source": [
    "rec_clipped.recordnodes[0]"
   ]
  },
  {
   "cell_type": "code",
   "execution_count": null,
   "metadata": {},
   "outputs": [],
   "source": [
    "# make a df from all_Tm, columns correspond to focus regressors\n",
    " "
   ]
  }
 ],
 "metadata": {
  "kernelspec": {
   "display_name": "base",
   "language": "python",
   "name": "python3"
  },
  "language_info": {
   "codemirror_mode": {
    "name": "ipython",
    "version": 3
   },
   "file_extension": ".py",
   "mimetype": "text/x-python",
   "name": "python",
   "nbconvert_exporter": "python",
   "pygments_lexer": "ipython3",
   "version": "3.10.18"
  }
 },
 "nbformat": 4,
 "nbformat_minor": 2
}
