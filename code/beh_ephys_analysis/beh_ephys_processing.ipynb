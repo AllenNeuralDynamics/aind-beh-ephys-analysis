{
 "cells": [
  {
   "cell_type": "code",
   "execution_count": 1,
   "metadata": {},
   "outputs": [],
   "source": [
    "from behavior_and_time_alignment import beh_and_time_alignment\n",
    "from session_preprocessing import ephys_opto_preprocessing, session_crosscorr, ephys_opto_crosscorr\n",
    "from opto_tagging import opto_plotting_session, opto_plotting_unit, opto_tagged_spike_stability\n",
    "from opto_waveforms_preprocessing import opto_wf_preprocessing\n",
    "from drift_analysis import plot_session_opto_drift\n",
    "import matplotlib.pyplot as plt\n",
    "from utils.beh_functions import session_dirs\n",
    "import numpy as np\n",
    "import pandas as pd\n",
    "import os\n",
    "from utils.plot_utils import combine_pdf_big\n",
    "import spikeinterface as si\n",
    "from joblib import Parallel, delayed\n",
    "\n"
   ]
  },
  {
   "cell_type": "code",
   "execution_count": 2,
   "metadata": {},
   "outputs": [],
   "source": [
    "session_assets = pd.read_csv('/root/capsule/code/data_management/session_assets.csv')\n",
    "session_list = session_assets['session_id']\n",
    "ani_list = []"
   ]
  },
  {
   "cell_type": "code",
   "execution_count": 3,
   "metadata": {},
   "outputs": [
    {
     "name": "stdout",
     "output_type": "stream",
     "text": [
      "behavior_716325_2024-05-29_10-33-32\n",
      "No PDFs found in the directory!\n",
      "behavior_716325_2024-05-30_11-33-46\n",
      "No PDFs found in the directory!\n",
      "behavior_716325_2024-05-31_10-31-14\n",
      "No PDFs found in the directory!\n",
      "behavior_716325_2024-06-01_09-25-37\n",
      "No PDFs found in the directory!\n",
      "behavior_717121_2024-06-11_10-23-31\n",
      "No PDFs found in the directory!\n",
      "behavior_717121_2024-06-13_12-21-20\n",
      "No PDFs found in the directory!\n",
      "behavior_717121_2024-06-14_10-23-49\n",
      "No PDFs found in the directory!\n",
      "behavior_717121_2024-06-16_11-45-02\n",
      "No PDFs found in the directory!\n",
      "behavior_717259_2024-06-25_10-09-25\n",
      "No PDFs found in the directory!\n",
      "behavior_717259_2024-06-26_10-23-07\n",
      "No PDFs found in the directory!\n",
      "behavior_717259_2024-06-28_11-17-19\n",
      "No PDFs found in the directory!\n",
      "behavior_717263_2024-07-23_11-46-42\n",
      "No PDFs found in the directory!\n",
      "behavior_717263_2024-07-24_10-40-05\n",
      "No PDFs found in the directory!\n",
      "behavior_717263_2024-07-25_10-02-21\n",
      "No PDFs found in the directory!\n",
      "behavior_714116_2024-08-27_11-29-48\n",
      "No PDFs found in the directory!\n",
      "behavior_714116_2024-08-28_12-11-55\n",
      "No PDFs found in the directory!\n",
      "behavior_714116_2024-08-29_11-46-43\n",
      "No PDFs found in the directory!\n",
      "behavior_722832_2024-09-13_11-55-58\n",
      "No PDFs found in the directory!\n",
      "There are multiple recordings in the curated nwb directory. Please specify the recording you would like to use.\n",
      "There are multiple recordings in the curated nwb directory. Please specify the recording you would like to use.\n",
      "behavior_724172_2024-10-01_11-20-11\n",
      "No PDFs found in the directory!\n",
      "behavior_724172_2024-10-03_11-02-53\n",
      "No PDFs found in the directory!\n",
      "behavior_739970_2024-10-15_10-04-12\n",
      "No PDFs found in the directory!\n",
      "behavior_739970_2024-10-16_12-15-24\n",
      "No PDFs found in the directory!\n",
      "behavior_739977_2024-10-24_12-58-26\n",
      "No PDFs found in the directory!\n",
      "behavior_744779_2024-11-12_13-10-14\n",
      "No PDFs found in the directory!\n",
      "behavior_744779_2024-11-13_13-35-38\n",
      "No PDFs found in the directory!\n",
      "behavior_744779_2024-11-14_13-13-37\n",
      "No PDFs found in the directory!\n",
      "behavior_744779_2024-11-15_12-54-11\n",
      "No PDFs found in the directory!\n",
      "behavior_751004_2024-12-21_13-28-28\n",
      "Failed to process behavior_751004_2024-12-21_13-28-28\n",
      "behavior_758017_2025-02-07_14-11-08\n",
      "Combined PDF saved as: /root/capsule/scratch/758017/behavior_758017_2025-02-07_14-11-08/ephys/opto/curated/behavior_758017_2025-02-07_14-11-08_opto_tagging_png.pdf\n",
      "behavior_751766_2025-02-11_11-53-38\n",
      "Combined PDF saved as: /root/capsule/scratch/751766/behavior_751766_2025-02-11_11-53-38/ephys/opto/curated/behavior_751766_2025-02-11_11-53-38_opto_tagging_png.pdf\n",
      "behavior_751766_2025-02-13_11-31-21\n",
      "Failed to process behavior_751766_2025-02-13_11-31-21\n",
      "behavior_751766_2025-02-14_11-37-11\n",
      "No PDFs found in the directory!\n",
      "There is no nwb file in the curated directory.\n",
      "There is no nwb file in the curated directory.\n",
      "behavior_751766_2025-02-15_12-08-11\n",
      "No PDFs found in the directory!\n"
     ]
    }
   ],
   "source": [
    "# combine opto pdfs\n",
    "data_type = 'curated'\n",
    "def process(session, data_type):\n",
    "    pdf_dir = session_dirs(session)[f'opto_dir_fig_{data_type}']\n",
    "    output_pdf = os.path.join(session_dirs(session)[f'opto_dir_{data_type}'], f'{session}_opto_tagging_png.pdf')\n",
    "    if os.path.exists(pdf_dir) and not os.path.exists(output_pdf):\n",
    "        print(session)\n",
    "        combine_pdf_big(pdf_dir, output_pdf)\n",
    "# Parallel(n_jobs=4)(delayed(process)(session, data_type) for session in session_list)\n",
    "for session in session_list:\n",
    "    try:\n",
    "        process(session, data_type)\n",
    "        plt.close('all')\n",
    "    except:\n",
    "        print(f'Failed to process {session}')"
   ]
  },
  {
   "cell_type": "code",
   "execution_count": 9,
   "metadata": {},
   "outputs": [
    {
     "name": "stdout",
     "output_type": "stream",
     "text": [
      "behavior_751004_2024-12-19_11-50-37\n",
      "Combined PDF saved as: /root/capsule/scratch/751004/behavior_751004_2024-12-19_11-50-37/ephys/opto/curated/behavior_751004_2024-12-19_11-50-37_opto_tagging_png.pdf\n"
     ]
    }
   ],
   "source": [
    "process('behavior_751004_2024-12-19_11-50-37', data_type) "
   ]
  },
  {
   "cell_type": "code",
   "execution_count": null,
   "metadata": {},
   "outputs": [],
   "source": []
  },
  {
   "cell_type": "code",
   "execution_count": 9,
   "metadata": {},
   "outputs": [
    {
     "name": "stdout",
     "output_type": "stream",
     "text": [
      "behavior_751004_2024-12-22_13-09-17 start\n",
      "behavior_751004_2024-12-21_13-28-28 start\n"
     ]
    },
    {
     "name": "stderr",
     "output_type": "stream",
     "text": [
      "/opt/conda/lib/python3.10/site-packages/spikeinterface/core/base.py:1109: UserWarning: Versions are not the same. This might lead to compatibility errors. Using spikeinterface==0.101.2 is recommended\n",
      "  warnings.warn(\n",
      "/opt/conda/lib/python3.10/site-packages/spikeinterface/core/base.py:1109: UserWarning: Versions are not the same. This might lead to compatibility errors. Using spikeinterface==0.101.2 is recommended\n",
      "  warnings.warn(\n",
      "/root/capsule/code/beh_ephys_analysis/opto_tagging.py:351: FutureWarning: errors='ignore' is deprecated and will raise in a future version. Use to_numeric without passing `errors` and catch exceptions explicitly instead\n",
      "  unit_qc = unit_qc.apply(pd.to_numeric, errors='ignore')\n",
      "/root/capsule/code/beh_ephys_analysis/opto_tagging.py:390: FutureWarning: errors='ignore' is deprecated and will raise in a future version. Use to_numeric without passing `errors` and catch exceptions explicitly instead\n",
      "  opto_wf = opto_wf.apply(pd.to_numeric, errors='ignore')\n"
     ]
    },
    {
     "name": "stdout",
     "output_type": "stream",
     "text": [
      "25 out of 110 units pass quality control\n",
      "{'samples_to_keep': [-30, 60], 'y_neighbors_to_keep': 3, 'orginal_loc': False}\n"
     ]
    },
    {
     "name": "stderr",
     "output_type": "stream",
     "text": [
      "/root/capsule/code/beh_ephys_analysis/opto_tagging.py:351: FutureWarning: errors='ignore' is deprecated and will raise in a future version. Use to_numeric without passing `errors` and catch exceptions explicitly instead\n",
      "  unit_qc = unit_qc.apply(pd.to_numeric, errors='ignore')\n"
     ]
    },
    {
     "name": "stdout",
     "output_type": "stream",
     "text": [
      "65 out of 176 units pass quality control\n",
      "{'samples_to_keep': [-30, 60], 'y_neighbors_to_keep': 3, 'orginal_loc': False}\n"
     ]
    },
    {
     "name": "stderr",
     "output_type": "stream",
     "text": [
      "/root/capsule/code/beh_ephys_analysis/opto_tagging.py:390: FutureWarning: errors='ignore' is deprecated and will raise in a future version. Use to_numeric without passing `errors` and catch exceptions explicitly instead\n",
      "  opto_wf = opto_wf.apply(pd.to_numeric, errors='ignore')\n"
     ]
    },
    {
     "ename": "KeyboardInterrupt",
     "evalue": "",
     "output_type": "error",
     "traceback": [
      "\u001b[0;31m---------------------------------------------------------------------------\u001b[0m",
      "\u001b[0;31mKeyboardInterrupt\u001b[0m                         Traceback (most recent call last)",
      "\u001b[1;32m/root/capsule/code/beh_ephys_analysis/beh_ephys_processing.ipynb Cell 15\u001b[0m line \u001b[0;36m2\n\u001b[1;32m     <a href='vscode-notebook-cell://codeocean.allenneuraldynamics.org/root/capsule/code/beh_ephys_analysis/beh_ephys_processing.ipynb#X15sdnNjb2RlLXJlbW90ZQ%3D%3D?line=19'>20</a>\u001b[0m     \u001b[39m# plt.close('all')                               \u001b[39;00m\n\u001b[1;32m     <a href='vscode-notebook-cell://codeocean.allenneuraldynamics.org/root/capsule/code/beh_ephys_analysis/beh_ephys_processing.ipynb#X15sdnNjb2RlLXJlbW90ZQ%3D%3D?line=20'>21</a>\u001b[0m     \u001b[39m# opto_tagged_spike_stability(session, data_type, 'soma', opto_tagging_df=opto_tagging_df)\u001b[39;00m\n\u001b[1;32m     <a href='vscode-notebook-cell://codeocean.allenneuraldynamics.org/root/capsule/code/beh_ephys_analysis/beh_ephys_processing.ipynb#X15sdnNjb2RlLXJlbW90ZQ%3D%3D?line=21'>22</a>\u001b[0m     \u001b[39m# if '751004' in session:\u001b[39;00m\n\u001b[1;32m     <a href='vscode-notebook-cell://codeocean.allenneuraldynamics.org/root/capsule/code/beh_ephys_analysis/beh_ephys_processing.ipynb#X15sdnNjb2RlLXJlbW90ZQ%3D%3D?line=22'>23</a>\u001b[0m     \u001b[39m#     plot_session_opto_drift(session, data_type, update_csv=False)\u001b[39;00m\n\u001b[1;32m     <a href='vscode-notebook-cell://codeocean.allenneuraldynamics.org/root/capsule/code/beh_ephys_analysis/beh_ephys_processing.ipynb#X15sdnNjb2RlLXJlbW90ZQ%3D%3D?line=23'>24</a>\u001b[0m     \u001b[39m# else:\u001b[39;00m\n\u001b[1;32m     <a href='vscode-notebook-cell://codeocean.allenneuraldynamics.org/root/capsule/code/beh_ephys_analysis/beh_ephys_processing.ipynb#X15sdnNjb2RlLXJlbW90ZQ%3D%3D?line=24'>25</a>\u001b[0m     \u001b[39m#     plot_session_opto_drift(session, data_type, update_csv=True)\u001b[39;00m\n\u001b[1;32m     <a href='vscode-notebook-cell://codeocean.allenneuraldynamics.org/root/capsule/code/beh_ephys_analysis/beh_ephys_processing.ipynb#X15sdnNjb2RlLXJlbW90ZQ%3D%3D?line=25'>26</a>\u001b[0m     \u001b[39mprint\u001b[39m(\u001b[39mf\u001b[39m\u001b[39m'\u001b[39m\u001b[39m{\u001b[39;00msession\u001b[39m}\u001b[39;00m\u001b[39m stop\u001b[39m\u001b[39m'\u001b[39m)\n\u001b[0;32m---> <a href='vscode-notebook-cell://codeocean.allenneuraldynamics.org/root/capsule/code/beh_ephys_analysis/beh_ephys_processing.ipynb#X15sdnNjb2RlLXJlbW90ZQ%3D%3D?line=28'>29</a>\u001b[0m Parallel(n_jobs\u001b[39m=\u001b[39;49m\u001b[39m2\u001b[39;49m)(delayed(process)(session, data_type \u001b[39m=\u001b[39;49m data_type) \u001b[39mfor\u001b[39;49;00m session \u001b[39min\u001b[39;49;00m session_list[\u001b[39m2\u001b[39;49m:])\n",
      "File \u001b[0;32m/opt/conda/lib/python3.10/site-packages/joblib/parallel.py:2007\u001b[0m, in \u001b[0;36mParallel.__call__\u001b[0;34m(self, iterable)\u001b[0m\n\u001b[1;32m   2001\u001b[0m \u001b[39m# The first item from the output is blank, but it makes the interpreter\u001b[39;00m\n\u001b[1;32m   2002\u001b[0m \u001b[39m# progress until it enters the Try/Except block of the generator and\u001b[39;00m\n\u001b[1;32m   2003\u001b[0m \u001b[39m# reaches the first `yield` statement. This starts the asynchronous\u001b[39;00m\n\u001b[1;32m   2004\u001b[0m \u001b[39m# dispatch of the tasks to the workers.\u001b[39;00m\n\u001b[1;32m   2005\u001b[0m \u001b[39mnext\u001b[39m(output)\n\u001b[0;32m-> 2007\u001b[0m \u001b[39mreturn\u001b[39;00m output \u001b[39mif\u001b[39;00m \u001b[39mself\u001b[39m\u001b[39m.\u001b[39mreturn_generator \u001b[39melse\u001b[39;00m \u001b[39mlist\u001b[39;49m(output)\n",
      "File \u001b[0;32m/opt/conda/lib/python3.10/site-packages/joblib/parallel.py:1650\u001b[0m, in \u001b[0;36mParallel._get_outputs\u001b[0;34m(self, iterator, pre_dispatch)\u001b[0m\n\u001b[1;32m   1647\u001b[0m     \u001b[39myield\u001b[39;00m\n\u001b[1;32m   1649\u001b[0m     \u001b[39mwith\u001b[39;00m \u001b[39mself\u001b[39m\u001b[39m.\u001b[39m_backend\u001b[39m.\u001b[39mretrieval_context():\n\u001b[0;32m-> 1650\u001b[0m         \u001b[39myield from\u001b[39;00m \u001b[39mself\u001b[39m\u001b[39m.\u001b[39m_retrieve()\n\u001b[1;32m   1652\u001b[0m \u001b[39mexcept\u001b[39;00m \u001b[39mGeneratorExit\u001b[39;00m:\n\u001b[1;32m   1653\u001b[0m     \u001b[39m# The generator has been garbage collected before being fully\u001b[39;00m\n\u001b[1;32m   1654\u001b[0m     \u001b[39m# consumed. This aborts the remaining tasks if possible and warn\u001b[39;00m\n\u001b[1;32m   1655\u001b[0m     \u001b[39m# the user if necessary.\u001b[39;00m\n\u001b[1;32m   1656\u001b[0m     \u001b[39mself\u001b[39m\u001b[39m.\u001b[39m_exception \u001b[39m=\u001b[39m \u001b[39mTrue\u001b[39;00m\n",
      "File \u001b[0;32m/opt/conda/lib/python3.10/site-packages/joblib/parallel.py:1762\u001b[0m, in \u001b[0;36mParallel._retrieve\u001b[0;34m(self)\u001b[0m\n\u001b[1;32m   1757\u001b[0m \u001b[39m# If the next job is not ready for retrieval yet, we just wait for\u001b[39;00m\n\u001b[1;32m   1758\u001b[0m \u001b[39m# async callbacks to progress.\u001b[39;00m\n\u001b[1;32m   1759\u001b[0m \u001b[39mif\u001b[39;00m ((\u001b[39mlen\u001b[39m(\u001b[39mself\u001b[39m\u001b[39m.\u001b[39m_jobs) \u001b[39m==\u001b[39m \u001b[39m0\u001b[39m) \u001b[39mor\u001b[39;00m\n\u001b[1;32m   1760\u001b[0m     (\u001b[39mself\u001b[39m\u001b[39m.\u001b[39m_jobs[\u001b[39m0\u001b[39m]\u001b[39m.\u001b[39mget_status(\n\u001b[1;32m   1761\u001b[0m         timeout\u001b[39m=\u001b[39m\u001b[39mself\u001b[39m\u001b[39m.\u001b[39mtimeout) \u001b[39m==\u001b[39m TASK_PENDING)):\n\u001b[0;32m-> 1762\u001b[0m     time\u001b[39m.\u001b[39;49msleep(\u001b[39m0.01\u001b[39;49m)\n\u001b[1;32m   1763\u001b[0m     \u001b[39mcontinue\u001b[39;00m\n\u001b[1;32m   1765\u001b[0m \u001b[39m# We need to be careful: the job list can be filling up as\u001b[39;00m\n\u001b[1;32m   1766\u001b[0m \u001b[39m# we empty it and Python list are not thread-safe by\u001b[39;00m\n\u001b[1;32m   1767\u001b[0m \u001b[39m# default hence the use of the lock\u001b[39;00m\n",
      "\u001b[0;31mKeyboardInterrupt\u001b[0m: "
     ]
    }
   ],
   "source": [
    "from joblib import Parallel, delayed\n",
    "# session_list = ['behavior_717121_2024-06-15_10-00-58',\n",
    "#                 'behavior_716325_2024-05-31_10-31-14']\n",
    "data_type = 'curated'\n",
    "def process(session, data_type='raw'):\n",
    "    # beh_and_time_alignment(session)\n",
    "    # plt.close('all')\n",
    "    # ephys_opto_preprocessing(session, data_type, 'soma')\n",
    "    # plt.close('all')\n",
    "    # ephys_opto_crosscorr(session, data_type)\n",
    "    # plt.close('all')\n",
    "    # opto_wf_preprocessing(session, data_type, 'soma', load_sorting_analyzer=True)\n",
    "    \n",
    "    plt.close('all')\n",
    "    print(f'{session} start')\n",
    "    opto_tagging_df = opto_plotting_session(session, data_type, 'soma', plot=True, resp_thresh=0.4, lat_thresh=0.02)\n",
    "    # save as pickle\n",
    "    with open(os.path.join(session_dirs(session)[f'opto_dir_{data_type}'], f'{session}_opto_tagging_metrics.pkl'), 'wb') as f:\n",
    "        opto_tagging_df.to_pickle(f)\n",
    "    # plt.close('all')                               \n",
    "    # opto_tagged_spike_stability(session, data_type, 'soma', opto_tagging_df=opto_tagging_df)\n",
    "    # if '751004' in session:\n",
    "    #     plot_session_opto_drift(session, data_type, update_csv=False)\n",
    "    # else:\n",
    "    #     plot_session_opto_drift(session, data_type, update_csv=True)\n",
    "    print(f'{session} stop')\n",
    "        \n",
    "\n",
    "Parallel(n_jobs=2)(delayed(process)(session, data_type = data_type) for session in session_list[2:])\n"
   ]
  },
  {
   "cell_type": "code",
   "execution_count": 5,
   "metadata": {},
   "outputs": [
    {
     "data": {
      "text/plain": [
       "['behavior_751004_2024-12-19_11-50-37',\n",
       " 'behavior_751004_2024-12-20_13-26-11',\n",
       " 'behavior_751004_2024-12-21_13-28-28',\n",
       " 'behavior_751004_2024-12-22_13-09-17',\n",
       " 'behavior_751004_2024-12-23_14-20-03',\n",
       " 'behavior_751769_2025-01-16_11-32-05',\n",
       " 'behavior_751769_2025-01-17_11-37-39',\n",
       " 'behavior_751769_2025-01-18_10-15-25',\n",
       " 'behavior_758017_2025-02-04_11-57-38',\n",
       " 'behavior_758017_2025-02-05_11-42-34',\n",
       " 'behavior_758017_2025-02-06_11-26-14',\n",
       " 'behavior_758017_2025-02-07_14-11-08',\n",
       " 'behavior_751766_2025-02-11_11-53-38',\n",
       " 'behavior_751766_2025-02-13_11-31-21',\n",
       " 'behavior_751766_2025-02-14_11-37-11',\n",
       " 'behavior_751766_2025-02-15_12-08-11']"
      ]
     },
     "execution_count": 5,
     "metadata": {},
     "output_type": "execute_result"
    }
   ],
   "source": [
    "session_list"
   ]
  },
  {
   "cell_type": "code",
   "execution_count": null,
   "metadata": {},
   "outputs": [
    {
     "data": {
      "text/plain": [
       "['behavior_717121_2024-06-15_10-00-58', 'behavior_716325_2024-05-31_10-31-14']"
      ]
     },
     "execution_count": 4,
     "metadata": {},
     "output_type": "execute_result"
    }
   ],
   "source": [
    "session_list"
   ]
  },
  {
   "cell_type": "code",
   "execution_count": 5,
   "metadata": {},
   "outputs": [
    {
     "name": "stderr",
     "output_type": "stream",
     "text": [
      "/opt/conda/lib/python3.9/site-packages/scipy/stats/_stats_py.py:7985: RuntimeWarning: invalid value encountered in divide\n",
      "  terms = (f_obs_float - f_exp)**2 / f_exp\n",
      "/opt/conda/lib/python3.9/site-packages/spikeinterface/core/base.py:1129: UserWarning: Versions are not the same. This might lead to compatibility errors. Using spikeinterface==0.100.7 is recommended\n",
      "  warnings.warn(\n",
      "/opt/conda/lib/python3.9/site-packages/spikeinterface/core/waveforms_extractor_backwards_compatibility.py:650: UserWarning: Removing legacy parameter return_scaled from spike_amplitudes extension\n",
      "  warnings.warn(f\"Removing legacy parameter {p} from {old_name} extension\")\n",
      "/opt/conda/lib/python3.9/site-packages/spikeinterface/core/waveforms_extractor_backwards_compatibility.py:650: UserWarning: Removing legacy parameter method_kwargs from unit_locations extension\n",
      "  warnings.warn(f\"Removing legacy parameter {p} from {old_name} extension\")\n",
      "/opt/conda/lib/python3.9/site-packages/spikeinterface/core/waveforms_extractor_backwards_compatibility.py:650: UserWarning: Removing legacy parameter sparsity from quality_metrics extension\n",
      "  warnings.warn(f\"Removing legacy parameter {p} from {old_name} extension\")\n",
      "/opt/conda/lib/python3.9/site-packages/spikeinterface/core/waveforms_extractor_backwards_compatibility.py:650: UserWarning: Removing legacy parameter random_chunk_kwargs_dict from quality_metrics extension\n",
      "  warnings.warn(f\"Removing legacy parameter {p} from {old_name} extension\")\n",
      "/opt/conda/lib/python3.9/site-packages/spikeinterface/core/waveforms_extractor_backwards_compatibility.py:650: UserWarning: Removing legacy parameter sparsity from principal_components extension\n",
      "  warnings.warn(f\"Removing legacy parameter {p} from {old_name} extension\")\n",
      "/opt/conda/lib/python3.9/site-packages/spikeinterface/core/waveforms_extractor_backwards_compatibility.py:650: UserWarning: Removing legacy parameter tmp_folder from principal_components extension\n",
      "  warnings.warn(f\"Removing legacy parameter {p} from {old_name} extension\")\n",
      "/opt/conda/lib/python3.9/site-packages/spikeinterface/core/base.py:1129: UserWarning: Versions are not the same. This might lead to compatibility errors. Using spikeinterface==0.100.7 is recommended\n",
      "  warnings.warn(\n",
      "/opt/conda/lib/python3.9/site-packages/spikeinterface/core/waveforms_extractor_backwards_compatibility.py:650: UserWarning: Removing legacy parameter return_scaled from spike_amplitudes extension\n",
      "  warnings.warn(f\"Removing legacy parameter {p} from {old_name} extension\")\n",
      "/opt/conda/lib/python3.9/site-packages/spikeinterface/core/waveforms_extractor_backwards_compatibility.py:650: UserWarning: Removing legacy parameter method_kwargs from unit_locations extension\n",
      "  warnings.warn(f\"Removing legacy parameter {p} from {old_name} extension\")\n",
      "/opt/conda/lib/python3.9/site-packages/spikeinterface/core/waveforms_extractor_backwards_compatibility.py:650: UserWarning: Removing legacy parameter sparsity from quality_metrics extension\n",
      "  warnings.warn(f\"Removing legacy parameter {p} from {old_name} extension\")\n",
      "/opt/conda/lib/python3.9/site-packages/spikeinterface/core/waveforms_extractor_backwards_compatibility.py:650: UserWarning: Removing legacy parameter random_chunk_kwargs_dict from quality_metrics extension\n",
      "  warnings.warn(f\"Removing legacy parameter {p} from {old_name} extension\")\n",
      "/opt/conda/lib/python3.9/site-packages/spikeinterface/core/waveforms_extractor_backwards_compatibility.py:650: UserWarning: Removing legacy parameter sparsity from principal_components extension\n",
      "  warnings.warn(f\"Removing legacy parameter {p} from {old_name} extension\")\n",
      "/opt/conda/lib/python3.9/site-packages/spikeinterface/core/waveforms_extractor_backwards_compatibility.py:650: UserWarning: Removing legacy parameter tmp_folder from principal_components extension\n",
      "  warnings.warn(f\"Removing legacy parameter {p} from {old_name} extension\")\n",
      "/opt/conda/lib/python3.9/site-packages/spikeinterface/core/base.py:1129: UserWarning: Versions are not the same. This might lead to compatibility errors. Using spikeinterface==0.100.7 is recommended\n",
      "  warnings.warn(\n",
      "/opt/conda/lib/python3.9/site-packages/spikeinterface/core/base.py:1129: UserWarning: Versions are not the same. This might lead to compatibility errors. Using spikeinterface==0.100.7 is recommended\n",
      "  warnings.warn(\n",
      "/opt/conda/lib/python3.9/site-packages/spikeinterface/core/waveforms_extractor_backwards_compatibility.py:650: UserWarning: Removing legacy parameter return_scaled from spike_amplitudes extension\n",
      "  warnings.warn(f\"Removing legacy parameter {p} from {old_name} extension\")\n",
      "/opt/conda/lib/python3.9/site-packages/spikeinterface/core/waveforms_extractor_backwards_compatibility.py:650: UserWarning: Removing legacy parameter method_kwargs from unit_locations extension\n",
      "  warnings.warn(f\"Removing legacy parameter {p} from {old_name} extension\")\n",
      "/opt/conda/lib/python3.9/site-packages/spikeinterface/core/waveforms_extractor_backwards_compatibility.py:650: UserWarning: Removing legacy parameter sparsity from quality_metrics extension\n",
      "  warnings.warn(f\"Removing legacy parameter {p} from {old_name} extension\")\n",
      "/opt/conda/lib/python3.9/site-packages/spikeinterface/core/waveforms_extractor_backwards_compatibility.py:650: UserWarning: Removing legacy parameter random_chunk_kwargs_dict from quality_metrics extension\n",
      "  warnings.warn(f\"Removing legacy parameter {p} from {old_name} extension\")\n",
      "/opt/conda/lib/python3.9/site-packages/spikeinterface/core/waveforms_extractor_backwards_compatibility.py:650: UserWarning: Removing legacy parameter sparsity from principal_components extension\n",
      "  warnings.warn(f\"Removing legacy parameter {p} from {old_name} extension\")\n",
      "/opt/conda/lib/python3.9/site-packages/spikeinterface/core/waveforms_extractor_backwards_compatibility.py:650: UserWarning: Removing legacy parameter tmp_folder from principal_components extension\n",
      "  warnings.warn(f\"Removing legacy parameter {p} from {old_name} extension\")\n",
      "/opt/conda/lib/python3.9/site-packages/spikeinterface/core/base.py:1129: UserWarning: Versions are not the same. This might lead to compatibility errors. Using spikeinterface==0.100.7 is recommended\n",
      "  warnings.warn(\n",
      "/opt/conda/lib/python3.9/site-packages/spikeinterface/core/base.py:1129: UserWarning: Versions are not the same. This might lead to compatibility errors. Using spikeinterface==0.100.7 is recommended\n",
      "  warnings.warn(\n",
      "/opt/conda/lib/python3.9/site-packages/spikeinterface/core/base.py:1129: UserWarning: Versions are not the same. This might lead to compatibility errors. Using spikeinterface==0.100.7 is recommended\n",
      "  warnings.warn(\n",
      "/opt/conda/lib/python3.9/site-packages/spikeinterface/core/waveforms_extractor_backwards_compatibility.py:650: UserWarning: Removing legacy parameter return_scaled from spike_amplitudes extension\n",
      "  warnings.warn(f\"Removing legacy parameter {p} from {old_name} extension\")\n",
      "/opt/conda/lib/python3.9/site-packages/spikeinterface/core/waveforms_extractor_backwards_compatibility.py:650: UserWarning: Removing legacy parameter method_kwargs from unit_locations extension\n",
      "  warnings.warn(f\"Removing legacy parameter {p} from {old_name} extension\")\n",
      "/opt/conda/lib/python3.9/site-packages/spikeinterface/core/waveforms_extractor_backwards_compatibility.py:650: UserWarning: Removing legacy parameter sparsity from quality_metrics extension\n",
      "  warnings.warn(f\"Removing legacy parameter {p} from {old_name} extension\")\n",
      "/opt/conda/lib/python3.9/site-packages/spikeinterface/core/waveforms_extractor_backwards_compatibility.py:650: UserWarning: Removing legacy parameter random_chunk_kwargs_dict from quality_metrics extension\n",
      "  warnings.warn(f\"Removing legacy parameter {p} from {old_name} extension\")\n",
      "/opt/conda/lib/python3.9/site-packages/spikeinterface/core/waveforms_extractor_backwards_compatibility.py:650: UserWarning: Removing legacy parameter sparsity from principal_components extension\n",
      "  warnings.warn(f\"Removing legacy parameter {p} from {old_name} extension\")\n",
      "/opt/conda/lib/python3.9/site-packages/spikeinterface/core/waveforms_extractor_backwards_compatibility.py:650: UserWarning: Removing legacy parameter tmp_folder from principal_components extension\n",
      "  warnings.warn(f\"Removing legacy parameter {p} from {old_name} extension\")\n"
     ]
    },
    {
     "data": {
      "application/json": {
       "ascii": false,
       "bar_format": null,
       "colour": null,
       "elapsed": 0.018629074096679688,
       "initial": 0,
       "n": 0,
       "ncols": null,
       "nrows": null,
       "postfix": null,
       "prefix": "compute_waveforms",
       "rate": null,
       "total": 6396,
       "unit": "it",
       "unit_divisor": 1000,
       "unit_scale": false
      },
      "application/vnd.jupyter.widget-view+json": {
       "model_id": "7ede0f25a781431298202cd7649dfc77",
       "version_major": 2,
       "version_minor": 0
      },
      "text/plain": [
       "compute_waveforms:   0%|          | 0/6396 [00:00<?, ?it/s]"
      ]
     },
     "metadata": {},
     "output_type": "display_data"
    },
    {
     "name": "stderr",
     "output_type": "stream",
     "text": [
      "/opt/conda/lib/python3.9/site-packages/numpy/lib/function_base.py:2897: RuntimeWarning: invalid value encountered in divide\n",
      "  c /= stddev[:, None]\n",
      "/opt/conda/lib/python3.9/site-packages/numpy/lib/function_base.py:2898: RuntimeWarning: invalid value encountered in divide\n",
      "  c /= stddev[None, :]\n",
      "/opt/conda/lib/python3.9/site-packages/numpy/lib/function_base.py:2897: RuntimeWarning: invalid value encountered in divide\n",
      "  c /= stddev[:, None]\n",
      "/opt/conda/lib/python3.9/site-packages/numpy/lib/function_base.py:2898: RuntimeWarning: invalid value encountered in divide\n",
      "  c /= stddev[None, :]\n",
      "/opt/conda/lib/python3.9/site-packages/numpy/lib/function_base.py:2897: RuntimeWarning: invalid value encountered in divide\n",
      "  c /= stddev[:, None]\n",
      "/opt/conda/lib/python3.9/site-packages/numpy/lib/function_base.py:2898: RuntimeWarning: invalid value encountered in divide\n",
      "  c /= stddev[None, :]\n",
      "/opt/conda/lib/python3.9/site-packages/numpy/lib/function_base.py:2897: RuntimeWarning: invalid value encountered in divide\n",
      "  c /= stddev[:, None]\n",
      "/opt/conda/lib/python3.9/site-packages/numpy/lib/function_base.py:2898: RuntimeWarning: invalid value encountered in divide\n",
      "  c /= stddev[None, :]\n",
      "/opt/conda/lib/python3.9/site-packages/spikeinterface/core/base.py:1129: UserWarning: Versions are not the same. This might lead to compatibility errors. Using spikeinterface==0.100.7 is recommended\n",
      "  warnings.warn(\n",
      "/opt/conda/lib/python3.9/site-packages/spikeinterface/core/waveforms_extractor_backwards_compatibility.py:650: UserWarning: Removing legacy parameter return_scaled from spike_amplitudes extension\n",
      "  warnings.warn(f\"Removing legacy parameter {p} from {old_name} extension\")\n",
      "/opt/conda/lib/python3.9/site-packages/spikeinterface/core/waveforms_extractor_backwards_compatibility.py:650: UserWarning: Removing legacy parameter method_kwargs from unit_locations extension\n",
      "  warnings.warn(f\"Removing legacy parameter {p} from {old_name} extension\")\n",
      "/opt/conda/lib/python3.9/site-packages/spikeinterface/core/waveforms_extractor_backwards_compatibility.py:650: UserWarning: Removing legacy parameter sparsity from quality_metrics extension\n",
      "  warnings.warn(f\"Removing legacy parameter {p} from {old_name} extension\")\n",
      "/opt/conda/lib/python3.9/site-packages/spikeinterface/core/waveforms_extractor_backwards_compatibility.py:650: UserWarning: Removing legacy parameter random_chunk_kwargs_dict from quality_metrics extension\n",
      "  warnings.warn(f\"Removing legacy parameter {p} from {old_name} extension\")\n",
      "/opt/conda/lib/python3.9/site-packages/spikeinterface/core/waveforms_extractor_backwards_compatibility.py:650: UserWarning: Removing legacy parameter sparsity from principal_components extension\n",
      "  warnings.warn(f\"Removing legacy parameter {p} from {old_name} extension\")\n",
      "/opt/conda/lib/python3.9/site-packages/spikeinterface/core/waveforms_extractor_backwards_compatibility.py:650: UserWarning: Removing legacy parameter tmp_folder from principal_components extension\n",
      "  warnings.warn(f\"Removing legacy parameter {p} from {old_name} extension\")\n",
      "/root/capsule/code/beh_ephys_analysis/opto_tagging.py:350: FutureWarning: errors='ignore' is deprecated and will raise in a future version. Use to_numeric without passing `errors` and catch exceptions explicitly instead\n",
      "  unit_qc = unit_qc.apply(pd.to_numeric, errors='ignore')\n",
      "/root/capsule/code/beh_ephys_analysis/opto_tagging.py:389: FutureWarning: errors='ignore' is deprecated and will raise in a future version. Use to_numeric without passing `errors` and catch exceptions explicitly instead\n",
      "  opto_wf = opto_wf.apply(pd.to_numeric, errors='ignore')\n"
     ]
    },
    {
     "ename": "ValueError",
     "evalue": "zero-size array to reduction operation minimum which has no identity",
     "output_type": "error",
     "traceback": [
      "\u001b[0;31m---------------------------------------------------------------------------\u001b[0m",
      "\u001b[0;31mValueError\u001b[0m                                Traceback (most recent call last)",
      "\u001b[1;32m/root/capsule/code/beh_ephys_analysis/beh_ephys_processing.ipynb Cell 14\u001b[0m line \u001b[0;36m1\n\u001b[0;32m----> <a href='vscode-notebook-cell://codeocean.allenneuraldynamics.org/root/capsule/code/beh_ephys_analysis/beh_ephys_processing.ipynb#X15sdnNjb2RlLXJlbW90ZQ%3D%3D?line=0'>1</a>\u001b[0m process(\u001b[39m'\u001b[39;49m\u001b[39mbehavior_717121_2024-06-15_10-00-58\u001b[39;49m\u001b[39m'\u001b[39;49m, data_type\u001b[39m=\u001b[39;49m\u001b[39m'\u001b[39;49m\u001b[39mcurated\u001b[39;49m\u001b[39m'\u001b[39;49m)\n\u001b[1;32m      <a href='vscode-notebook-cell://codeocean.allenneuraldynamics.org/root/capsule/code/beh_ephys_analysis/beh_ephys_processing.ipynb#X15sdnNjb2RlLXJlbW90ZQ%3D%3D?line=1'>2</a>\u001b[0m \u001b[39m# process('behavior_717121_2024-06-15_10-00-58')\u001b[39;00m\n",
      "\u001b[1;32m/root/capsule/code/beh_ephys_analysis/beh_ephys_processing.ipynb Cell 14\u001b[0m line \u001b[0;36m1\n\u001b[1;32m      <a href='vscode-notebook-cell://codeocean.allenneuraldynamics.org/root/capsule/code/beh_ephys_analysis/beh_ephys_processing.ipynb#X15sdnNjb2RlLXJlbW90ZQ%3D%3D?line=8'>9</a>\u001b[0m opto_wf_preprocessing(session, data_type, \u001b[39m'\u001b[39m\u001b[39msoma\u001b[39m\u001b[39m'\u001b[39m, load_sorting_analyzer\u001b[39m=\u001b[39m\u001b[39mFalse\u001b[39;00m)\n\u001b[1;32m     <a href='vscode-notebook-cell://codeocean.allenneuraldynamics.org/root/capsule/code/beh_ephys_analysis/beh_ephys_processing.ipynb#X15sdnNjb2RlLXJlbW90ZQ%3D%3D?line=10'>11</a>\u001b[0m plt\u001b[39m.\u001b[39mclose(\u001b[39m'\u001b[39m\u001b[39mall\u001b[39m\u001b[39m'\u001b[39m)\n\u001b[0;32m---> <a href='vscode-notebook-cell://codeocean.allenneuraldynamics.org/root/capsule/code/beh_ephys_analysis/beh_ephys_processing.ipynb#X15sdnNjb2RlLXJlbW90ZQ%3D%3D?line=11'>12</a>\u001b[0m opto_tagging_df \u001b[39m=\u001b[39m opto_plotting_session(session, data_type, \u001b[39m'\u001b[39;49m\u001b[39msoma\u001b[39;49m\u001b[39m'\u001b[39;49m, plot\u001b[39m=\u001b[39;49m\u001b[39mTrue\u001b[39;49;00m, resp_thresh\u001b[39m=\u001b[39;49m\u001b[39m0.4\u001b[39;49m, lat_thresh\u001b[39m=\u001b[39;49m\u001b[39m0.02\u001b[39;49m)\n\u001b[1;32m     <a href='vscode-notebook-cell://codeocean.allenneuraldynamics.org/root/capsule/code/beh_ephys_analysis/beh_ephys_processing.ipynb#X15sdnNjb2RlLXJlbW90ZQ%3D%3D?line=12'>13</a>\u001b[0m plt\u001b[39m.\u001b[39mclose(\u001b[39m'\u001b[39m\u001b[39mall\u001b[39m\u001b[39m'\u001b[39m)\n",
      "File \u001b[0;32m~/capsule/code/beh_ephys_analysis/opto_tagging.py:433\u001b[0m, in \u001b[0;36mopto_plotting_session\u001b[0;34m(session, data_type, target, resp_thresh, lat_thresh, plot, target_unit_ids, ephys_cut)\u001b[0m\n\u001b[1;32m    431\u001b[0m \u001b[39m#     if pass_qc[unit_id]:   \u001b[39;00m\n\u001b[1;32m    432\u001b[0m     qc_dict \u001b[39m=\u001b[39m unit_qc\u001b[39m.\u001b[39mloc[unit_qc[\u001b[39m'\u001b[39m\u001b[39mks_unit_id\u001b[39m\u001b[39m'\u001b[39m] \u001b[39m==\u001b[39m unit_id]\u001b[39m.\u001b[39miloc[\u001b[39m0\u001b[39m]\u001b[39m.\u001b[39mto_dict()\n\u001b[0;32m--> 433\u001b[0m     fig, opto_tagging_dict_curr \u001b[39m=\u001b[39m opto_plotting_unit(unit_id, spiketimes_curr, spike_amplitude_curr, \n\u001b[1;32m    434\u001b[0m                                                     waveforms[unit_id], opto_wf, qc_dict, crosscorr,\n\u001b[1;32m    435\u001b[0m                                                     opto_responses[\u001b[39m'\u001b[39;49m\u001b[39mresp_p\u001b[39;49m\u001b[39m'\u001b[39;49m][unit_id], opto_responses[\u001b[39m'\u001b[39;49m\u001b[39mresp_lat\u001b[39;49m\u001b[39m'\u001b[39;49m][unit_id], \n\u001b[1;32m    436\u001b[0m                                                     opto_df_curr, opto_info, \n\u001b[1;32m    437\u001b[0m                                                     waveform_params, \n\u001b[1;32m    438\u001b[0m                                                     dim_1 \u001b[39m=\u001b[39;49m \u001b[39m'\u001b[39;49m\u001b[39mpowers\u001b[39;49m\u001b[39m'\u001b[39;49m, resp_thresh\u001b[39m=\u001b[39;49mresp_thresh, lat_thresh\u001b[39m=\u001b[39;49mlat_thresh, plot\u001b[39m=\u001b[39;49mplot)\n\u001b[1;32m    439\u001b[0m     \u001b[39mif\u001b[39;00m fig \u001b[39mis\u001b[39;00m \u001b[39mnot\u001b[39;00m \u001b[39mNone\u001b[39;00m:\n\u001b[1;32m    440\u001b[0m         fig\u001b[39m.\u001b[39msavefig(os\u001b[39m.\u001b[39mpath\u001b[39m.\u001b[39mjoin(session_dir[\u001b[39mf\u001b[39m\u001b[39m'\u001b[39m\u001b[39mopto_dir_fig_\u001b[39m\u001b[39m{\u001b[39;00mdata_type\u001b[39m}\u001b[39;00m\u001b[39m'\u001b[39m], \u001b[39mf\u001b[39m\u001b[39m'\u001b[39m\u001b[39munit_\u001b[39m\u001b[39m{\u001b[39;00munit_id\u001b[39m}\u001b[39;00m\u001b[39m_pulse_width_\u001b[39m\u001b[39m{\u001b[39;00mpulse_width\u001b[39m}\u001b[39;00m\u001b[39m_opto_tagging.pdf\u001b[39m\u001b[39m'\u001b[39m))\n",
      "File \u001b[0;32m~/capsule/code/beh_ephys_analysis/opto_tagging.py:147\u001b[0m, in \u001b[0;36mopto_plotting_unit\u001b[0;34m(unit_id, spike_times, spike_amplitude, waveform, opto_wf, qc_dict, crosscorr, resp_p, resp_lat, opto_df, opto_info, waveform_params, dim_1, resp_thresh, lat_thresh, plot)\u001b[0m\n\u001b[1;32m    145\u001b[0m gs_basic \u001b[39m=\u001b[39m gridspec\u001b[39m.\u001b[39mGridSpecFromSubplotSpec(\u001b[39m2\u001b[39m, \u001b[39m3\u001b[39m, width_ratios\u001b[39m=\u001b[39m[\u001b[39m1\u001b[39m, \u001b[39m1\u001b[39m, \u001b[39m2\u001b[39m], subplot_spec\u001b[39m=\u001b[39mgs_all[\u001b[39m0\u001b[39m])\n\u001b[1;32m    146\u001b[0m ax \u001b[39m=\u001b[39m fig\u001b[39m.\u001b[39madd_subplot(gs_basic[\u001b[39m0\u001b[39m, \u001b[39m2\u001b[39m])\n\u001b[0;32m--> 147\u001b[0m bins \u001b[39m=\u001b[39m np\u001b[39m.\u001b[39mlinspace(np\u001b[39m.\u001b[39;49mmin(spike_times), np\u001b[39m.\u001b[39mmax(spike_times), \u001b[39m200\u001b[39m)\n\u001b[1;32m    148\u001b[0m ax\u001b[39m.\u001b[39mhist(spike_times, bins\u001b[39m=\u001b[39mbins, color\u001b[39m=\u001b[39m\u001b[39m'\u001b[39m\u001b[39mblack\u001b[39m\u001b[39m'\u001b[39m, alpha\u001b[39m=\u001b[39m\u001b[39m0.5\u001b[39m)\n\u001b[1;32m    149\u001b[0m ax\u001b[39m.\u001b[39mset_xlim(bins[\u001b[39m0\u001b[39m], bins[\u001b[39m-\u001b[39m\u001b[39m1\u001b[39m])\n",
      "File \u001b[0;32m/opt/conda/lib/python3.9/site-packages/numpy/core/fromnumeric.py:2953\u001b[0m, in \u001b[0;36mmin\u001b[0;34m(a, axis, out, keepdims, initial, where)\u001b[0m\n\u001b[1;32m   2836\u001b[0m \u001b[39m@array_function_dispatch\u001b[39m(_min_dispatcher)\n\u001b[1;32m   2837\u001b[0m \u001b[39mdef\u001b[39;00m \u001b[39mmin\u001b[39m(a, axis\u001b[39m=\u001b[39m\u001b[39mNone\u001b[39;00m, out\u001b[39m=\u001b[39m\u001b[39mNone\u001b[39;00m, keepdims\u001b[39m=\u001b[39mnp\u001b[39m.\u001b[39m_NoValue, initial\u001b[39m=\u001b[39mnp\u001b[39m.\u001b[39m_NoValue,\n\u001b[1;32m   2838\u001b[0m         where\u001b[39m=\u001b[39mnp\u001b[39m.\u001b[39m_NoValue):\n\u001b[1;32m   2839\u001b[0m \u001b[39m    \u001b[39m\u001b[39m\"\"\"\u001b[39;00m\n\u001b[1;32m   2840\u001b[0m \u001b[39m    Return the minimum of an array or minimum along an axis.\u001b[39;00m\n\u001b[1;32m   2841\u001b[0m \n\u001b[0;32m   (...)\u001b[0m\n\u001b[1;32m   2951\u001b[0m \u001b[39m    6\u001b[39;00m\n\u001b[1;32m   2952\u001b[0m \u001b[39m    \"\"\"\u001b[39;00m\n\u001b[0;32m-> 2953\u001b[0m     \u001b[39mreturn\u001b[39;00m _wrapreduction(a, np\u001b[39m.\u001b[39;49mminimum, \u001b[39m'\u001b[39;49m\u001b[39mmin\u001b[39;49m\u001b[39m'\u001b[39;49m, axis, \u001b[39mNone\u001b[39;49;00m, out,\n\u001b[1;32m   2954\u001b[0m                           keepdims\u001b[39m=\u001b[39;49mkeepdims, initial\u001b[39m=\u001b[39;49minitial, where\u001b[39m=\u001b[39;49mwhere)\n",
      "File \u001b[0;32m/opt/conda/lib/python3.9/site-packages/numpy/core/fromnumeric.py:88\u001b[0m, in \u001b[0;36m_wrapreduction\u001b[0;34m(obj, ufunc, method, axis, dtype, out, **kwargs)\u001b[0m\n\u001b[1;32m     85\u001b[0m         \u001b[39melse\u001b[39;00m:\n\u001b[1;32m     86\u001b[0m             \u001b[39mreturn\u001b[39;00m reduction(axis\u001b[39m=\u001b[39maxis, out\u001b[39m=\u001b[39mout, \u001b[39m*\u001b[39m\u001b[39m*\u001b[39mpasskwargs)\n\u001b[0;32m---> 88\u001b[0m \u001b[39mreturn\u001b[39;00m ufunc\u001b[39m.\u001b[39;49mreduce(obj, axis, dtype, out, \u001b[39m*\u001b[39;49m\u001b[39m*\u001b[39;49mpasskwargs)\n",
      "\u001b[0;31mValueError\u001b[0m: zero-size array to reduction operation minimum which has no identity"
     ]
    }
   ],
   "source": [
    "process('behavior_717121_2024-06-15_10-00-58', data_type='curated')\n",
    "# process('behavior_717121_2024-06-15_10-00-58')"
   ]
  },
  {
   "cell_type": "code",
   "execution_count": 2,
   "metadata": {},
   "outputs": [
    {
     "name": "stdout",
     "output_type": "stream",
     "text": [
      "behavior_717121_2024-06-15_10-00-58\n"
     ]
    },
    {
     "name": "stderr",
     "output_type": "stream",
     "text": [
      "/opt/conda/lib/python3.9/site-packages/spikeinterface/core/base.py:1129: UserWarning: Versions are not the same. This might lead to compatibility errors. Using spikeinterface==0.100.7 is recommended\n",
      "  warnings.warn(\n",
      "/opt/conda/lib/python3.9/site-packages/spikeinterface/core/waveforms_extractor_backwards_compatibility.py:650: UserWarning: Removing legacy parameter return_scaled from spike_amplitudes extension\n",
      "  warnings.warn(f\"Removing legacy parameter {p} from {old_name} extension\")\n",
      "/opt/conda/lib/python3.9/site-packages/spikeinterface/core/waveforms_extractor_backwards_compatibility.py:650: UserWarning: Removing legacy parameter method_kwargs from unit_locations extension\n",
      "  warnings.warn(f\"Removing legacy parameter {p} from {old_name} extension\")\n",
      "/opt/conda/lib/python3.9/site-packages/spikeinterface/core/waveforms_extractor_backwards_compatibility.py:650: UserWarning: Removing legacy parameter sparsity from quality_metrics extension\n",
      "  warnings.warn(f\"Removing legacy parameter {p} from {old_name} extension\")\n",
      "/opt/conda/lib/python3.9/site-packages/spikeinterface/core/waveforms_extractor_backwards_compatibility.py:650: UserWarning: Removing legacy parameter random_chunk_kwargs_dict from quality_metrics extension\n",
      "  warnings.warn(f\"Removing legacy parameter {p} from {old_name} extension\")\n",
      "/opt/conda/lib/python3.9/site-packages/spikeinterface/core/waveforms_extractor_backwards_compatibility.py:650: UserWarning: Removing legacy parameter sparsity from principal_components extension\n",
      "  warnings.warn(f\"Removing legacy parameter {p} from {old_name} extension\")\n",
      "/opt/conda/lib/python3.9/site-packages/spikeinterface/core/waveforms_extractor_backwards_compatibility.py:650: UserWarning: Removing legacy parameter tmp_folder from principal_components extension\n",
      "  warnings.warn(f\"Removing legacy parameter {p} from {old_name} extension\")\n"
     ]
    }
   ],
   "source": [
    "ephys_opto_preprocessing('behavior_717121_2024-06-15_10-00-58', 'curated', 'soma')"
   ]
  },
  {
   "cell_type": "code",
   "execution_count": 4,
   "metadata": {},
   "outputs": [
    {
     "name": "stderr",
     "output_type": "stream",
     "text": [
      "/opt/conda/lib/python3.9/site-packages/spikeinterface/core/base.py:1129: UserWarning: Versions are not the same. This might lead to compatibility errors. Using spikeinterface==0.100.7 is recommended\n",
      "  warnings.warn(\n",
      "/opt/conda/lib/python3.9/site-packages/spikeinterface/core/waveforms_extractor_backwards_compatibility.py:650: UserWarning: Removing legacy parameter return_scaled from spike_amplitudes extension\n",
      "  warnings.warn(f\"Removing legacy parameter {p} from {old_name} extension\")\n",
      "/opt/conda/lib/python3.9/site-packages/spikeinterface/core/waveforms_extractor_backwards_compatibility.py:650: UserWarning: Removing legacy parameter method_kwargs from unit_locations extension\n",
      "  warnings.warn(f\"Removing legacy parameter {p} from {old_name} extension\")\n",
      "/opt/conda/lib/python3.9/site-packages/spikeinterface/core/waveforms_extractor_backwards_compatibility.py:650: UserWarning: Removing legacy parameter sparsity from quality_metrics extension\n",
      "  warnings.warn(f\"Removing legacy parameter {p} from {old_name} extension\")\n",
      "/opt/conda/lib/python3.9/site-packages/spikeinterface/core/waveforms_extractor_backwards_compatibility.py:650: UserWarning: Removing legacy parameter random_chunk_kwargs_dict from quality_metrics extension\n",
      "  warnings.warn(f\"Removing legacy parameter {p} from {old_name} extension\")\n",
      "/opt/conda/lib/python3.9/site-packages/spikeinterface/core/waveforms_extractor_backwards_compatibility.py:650: UserWarning: Removing legacy parameter sparsity from principal_components extension\n",
      "  warnings.warn(f\"Removing legacy parameter {p} from {old_name} extension\")\n",
      "/opt/conda/lib/python3.9/site-packages/spikeinterface/core/waveforms_extractor_backwards_compatibility.py:650: UserWarning: Removing legacy parameter tmp_folder from principal_components extension\n",
      "  warnings.warn(f\"Removing legacy parameter {p} from {old_name} extension\")\n",
      "/root/capsule/code/beh_ephys_analysis/opto_tagging.py:350: FutureWarning: errors='ignore' is deprecated and will raise in a future version. Use to_numeric without passing `errors` and catch exceptions explicitly instead\n",
      "  unit_qc = unit_qc.apply(pd.to_numeric, errors='ignore')\n",
      "/root/capsule/code/beh_ephys_analysis/opto_tagging.py:389: FutureWarning: errors='ignore' is deprecated and will raise in a future version. Use to_numeric without passing `errors` and catch exceptions explicitly instead\n",
      "  opto_wf = opto_wf.apply(pd.to_numeric, errors='ignore')\n"
     ]
    }
   ],
   "source": [
    "opto_tagging_df = opto_plotting_session('behavior_717121_2024-06-15_10-00-58', 'curated', 'soma', plot=True, resp_thresh=0.4, lat_thresh=0.02)"
   ]
  },
  {
   "cell_type": "code",
   "execution_count": 3,
   "metadata": {},
   "outputs": [
    {
     "name": "stderr",
     "output_type": "stream",
     "text": [
      "/opt/conda/lib/python3.9/site-packages/spikeinterface/core/base.py:1129: UserWarning: Versions are not the same. This might lead to compatibility errors. Using spikeinterface==0.100.7 is recommended\n",
      "  warnings.warn(\n",
      "/opt/conda/lib/python3.9/site-packages/spikeinterface/core/waveforms_extractor_backwards_compatibility.py:650: UserWarning: Removing legacy parameter return_scaled from spike_amplitudes extension\n",
      "  warnings.warn(f\"Removing legacy parameter {p} from {old_name} extension\")\n",
      "/opt/conda/lib/python3.9/site-packages/spikeinterface/core/waveforms_extractor_backwards_compatibility.py:650: UserWarning: Removing legacy parameter method_kwargs from unit_locations extension\n",
      "  warnings.warn(f\"Removing legacy parameter {p} from {old_name} extension\")\n",
      "/opt/conda/lib/python3.9/site-packages/spikeinterface/core/waveforms_extractor_backwards_compatibility.py:650: UserWarning: Removing legacy parameter sparsity from quality_metrics extension\n",
      "  warnings.warn(f\"Removing legacy parameter {p} from {old_name} extension\")\n",
      "/opt/conda/lib/python3.9/site-packages/spikeinterface/core/waveforms_extractor_backwards_compatibility.py:650: UserWarning: Removing legacy parameter random_chunk_kwargs_dict from quality_metrics extension\n",
      "  warnings.warn(f\"Removing legacy parameter {p} from {old_name} extension\")\n",
      "/opt/conda/lib/python3.9/site-packages/spikeinterface/core/waveforms_extractor_backwards_compatibility.py:650: UserWarning: Removing legacy parameter sparsity from principal_components extension\n",
      "  warnings.warn(f\"Removing legacy parameter {p} from {old_name} extension\")\n",
      "/opt/conda/lib/python3.9/site-packages/spikeinterface/core/waveforms_extractor_backwards_compatibility.py:650: UserWarning: Removing legacy parameter tmp_folder from principal_components extension\n",
      "  warnings.warn(f\"Removing legacy parameter {p} from {old_name} extension\")\n",
      "/opt/conda/lib/python3.9/site-packages/spikeinterface/core/base.py:1129: UserWarning: Versions are not the same. This might lead to compatibility errors. Using spikeinterface==0.100.7 is recommended\n",
      "  warnings.warn(\n",
      "/opt/conda/lib/python3.9/site-packages/spikeinterface/core/job_tools.py:103: UserWarning: `n_jobs` is not set so parallel processing is disabled! To speed up computations, it is recommended to set n_jobs either globally (with the `spikeinterface.set_global_job_kwargs()` function) or locally (with the `n_jobs` argument). Use `spikeinterface.set_global_job_kwargs?` for more information about job_kwargs.\n",
      "  warnings.warn(\n",
      "/opt/conda/lib/python3.9/site-packages/spikeinterface/core/job_tools.py:103: UserWarning: `n_jobs` is not set so parallel processing is disabled! To speed up computations, it is recommended to set n_jobs either globally (with the `spikeinterface.set_global_job_kwargs()` function) or locally (with the `n_jobs` argument). Use `spikeinterface.set_global_job_kwargs?` for more information about job_kwargs.\n",
      "  warnings.warn(\n",
      "/opt/conda/lib/python3.9/site-packages/spikeinterface/core/base.py:1129: UserWarning: Versions are not the same. This might lead to compatibility errors. Using spikeinterface==0.100.7 is recommended\n",
      "  warnings.warn(\n",
      "/opt/conda/lib/python3.9/site-packages/spikeinterface/core/waveforms_extractor_backwards_compatibility.py:650: UserWarning: Removing legacy parameter return_scaled from spike_amplitudes extension\n",
      "  warnings.warn(f\"Removing legacy parameter {p} from {old_name} extension\")\n",
      "/opt/conda/lib/python3.9/site-packages/spikeinterface/core/waveforms_extractor_backwards_compatibility.py:650: UserWarning: Removing legacy parameter method_kwargs from unit_locations extension\n",
      "  warnings.warn(f\"Removing legacy parameter {p} from {old_name} extension\")\n",
      "/opt/conda/lib/python3.9/site-packages/spikeinterface/core/waveforms_extractor_backwards_compatibility.py:650: UserWarning: Removing legacy parameter sparsity from quality_metrics extension\n",
      "  warnings.warn(f\"Removing legacy parameter {p} from {old_name} extension\")\n",
      "/opt/conda/lib/python3.9/site-packages/spikeinterface/core/waveforms_extractor_backwards_compatibility.py:650: UserWarning: Removing legacy parameter random_chunk_kwargs_dict from quality_metrics extension\n",
      "  warnings.warn(f\"Removing legacy parameter {p} from {old_name} extension\")\n",
      "/opt/conda/lib/python3.9/site-packages/spikeinterface/core/waveforms_extractor_backwards_compatibility.py:650: UserWarning: Removing legacy parameter sparsity from principal_components extension\n",
      "  warnings.warn(f\"Removing legacy parameter {p} from {old_name} extension\")\n",
      "/opt/conda/lib/python3.9/site-packages/spikeinterface/core/waveforms_extractor_backwards_compatibility.py:650: UserWarning: Removing legacy parameter tmp_folder from principal_components extension\n",
      "  warnings.warn(f\"Removing legacy parameter {p} from {old_name} extension\")\n",
      "/opt/conda/lib/python3.9/site-packages/spikeinterface/core/base.py:1129: UserWarning: Versions are not the same. This might lead to compatibility errors. Using spikeinterface==0.100.7 is recommended\n",
      "  warnings.warn(\n",
      "/opt/conda/lib/python3.9/site-packages/spikeinterface/core/job_tools.py:103: UserWarning: `n_jobs` is not set so parallel processing is disabled! To speed up computations, it is recommended to set n_jobs either globally (with the `spikeinterface.set_global_job_kwargs()` function) or locally (with the `n_jobs` argument). Use `spikeinterface.set_global_job_kwargs?` for more information about job_kwargs.\n",
      "  warnings.warn(\n",
      "/opt/conda/lib/python3.9/site-packages/spikeinterface/core/base.py:1129: UserWarning: Versions are not the same. This might lead to compatibility errors. Using spikeinterface==0.100.7 is recommended\n",
      "  warnings.warn(\n",
      "/opt/conda/lib/python3.9/site-packages/spikeinterface/core/base.py:1129: UserWarning: Versions are not the same. This might lead to compatibility errors. Using spikeinterface==0.100.7 is recommended\n",
      "  warnings.warn(\n",
      "/opt/conda/lib/python3.9/site-packages/spikeinterface/core/waveforms_extractor_backwards_compatibility.py:650: UserWarning: Removing legacy parameter return_scaled from spike_amplitudes extension\n",
      "  warnings.warn(f\"Removing legacy parameter {p} from {old_name} extension\")\n",
      "/opt/conda/lib/python3.9/site-packages/spikeinterface/core/waveforms_extractor_backwards_compatibility.py:650: UserWarning: Removing legacy parameter method_kwargs from unit_locations extension\n",
      "  warnings.warn(f\"Removing legacy parameter {p} from {old_name} extension\")\n",
      "/opt/conda/lib/python3.9/site-packages/spikeinterface/core/waveforms_extractor_backwards_compatibility.py:650: UserWarning: Removing legacy parameter sparsity from quality_metrics extension\n",
      "  warnings.warn(f\"Removing legacy parameter {p} from {old_name} extension\")\n",
      "/opt/conda/lib/python3.9/site-packages/spikeinterface/core/waveforms_extractor_backwards_compatibility.py:650: UserWarning: Removing legacy parameter random_chunk_kwargs_dict from quality_metrics extension\n",
      "  warnings.warn(f\"Removing legacy parameter {p} from {old_name} extension\")\n",
      "/opt/conda/lib/python3.9/site-packages/spikeinterface/core/waveforms_extractor_backwards_compatibility.py:650: UserWarning: Removing legacy parameter sparsity from principal_components extension\n",
      "  warnings.warn(f\"Removing legacy parameter {p} from {old_name} extension\")\n",
      "/opt/conda/lib/python3.9/site-packages/spikeinterface/core/waveforms_extractor_backwards_compatibility.py:650: UserWarning: Removing legacy parameter tmp_folder from principal_components extension\n",
      "  warnings.warn(f\"Removing legacy parameter {p} from {old_name} extension\")\n"
     ]
    },
    {
     "data": {
      "application/json": {
       "ascii": false,
       "bar_format": null,
       "colour": null,
       "elapsed": 0.013016462326049805,
       "initial": 0,
       "n": 0,
       "ncols": null,
       "nrows": null,
       "postfix": null,
       "prefix": "compute_waveforms",
       "rate": null,
       "total": 6396,
       "unit": "it",
       "unit_divisor": 1000,
       "unit_scale": false
      },
      "application/vnd.jupyter.widget-view+json": {
       "model_id": "eaff5881fb284fffb1a55100c0ff4596",
       "version_major": 2,
       "version_minor": 0
      },
      "text/plain": [
       "compute_waveforms:   0%|          | 0/6396 [00:00<?, ?it/s]"
      ]
     },
     "metadata": {},
     "output_type": "display_data"
    },
    {
     "ename": "ValueError",
     "evalue": "Folder already exists /root/capsule/scratch/717121/behavior_717121_2024-06-15_10-00-58/ephys/opto/curated/opto_waveforms.zarr",
     "output_type": "error",
     "traceback": [
      "\u001b[0;31m---------------------------------------------------------------------------\u001b[0m",
      "\u001b[0;31mValueError\u001b[0m                                Traceback (most recent call last)",
      "\u001b[1;32m/root/capsule/code/beh_ephys_analysis/beh_ephys_processing.ipynb Cell 16\u001b[0m line \u001b[0;36m2\n\u001b[1;32m      <a href='vscode-notebook-cell://codeocean.allenneuraldynamics.org/root/capsule/code/beh_ephys_analysis/beh_ephys_processing.ipynb#X36sdnNjb2RlLXJlbW90ZQ%3D%3D?line=0'>1</a>\u001b[0m ephys_opto_crosscorr(\u001b[39m'\u001b[39m\u001b[39mbehavior_717121_2024-06-15_10-00-58\u001b[39m\u001b[39m'\u001b[39m, \u001b[39m'\u001b[39m\u001b[39mcurated\u001b[39m\u001b[39m'\u001b[39m)\n\u001b[0;32m----> <a href='vscode-notebook-cell://codeocean.allenneuraldynamics.org/root/capsule/code/beh_ephys_analysis/beh_ephys_processing.ipynb#X36sdnNjb2RlLXJlbW90ZQ%3D%3D?line=1'>2</a>\u001b[0m opto_wf_preprocessing(\u001b[39m'\u001b[39;49m\u001b[39mbehavior_717121_2024-06-15_10-00-58\u001b[39;49m\u001b[39m'\u001b[39;49m, \u001b[39m'\u001b[39;49m\u001b[39mcurated\u001b[39;49m\u001b[39m'\u001b[39;49m, \u001b[39m'\u001b[39;49m\u001b[39msoma\u001b[39;49m\u001b[39m'\u001b[39;49m, load_sorting_analyzer\u001b[39m=\u001b[39;49m\u001b[39mFalse\u001b[39;49;00m)\n",
      "File \u001b[0;32m~/capsule/code/beh_ephys_analysis/opto_waveforms_preprocessing.py:244\u001b[0m, in \u001b[0;36mopto_wf_preprocessing\u001b[0;34m(session, data_type, target, load_sorting_analyzer)\u001b[0m\n\u001b[1;32m    242\u001b[0m     _ \u001b[39m=\u001b[39m analyzer\u001b[39m.\u001b[39mcompute([\u001b[39m\"\u001b[39m\u001b[39mwaveforms\u001b[39m\u001b[39m\"\u001b[39m, \u001b[39m\"\u001b[39m\u001b[39mtemplates\u001b[39m\u001b[39m\"\u001b[39m])\n\u001b[1;32m    243\u001b[0m     waveform_zarr_folder \u001b[39m=\u001b[39m \u001b[39mf\u001b[39m\u001b[39m'\u001b[39m\u001b[39m{\u001b[39;00msession_dir[\u001b[39mf\u001b[39m\u001b[39m\"\u001b[39m\u001b[39mopto_dir_\u001b[39m\u001b[39m{\u001b[39;00mdata_type\u001b[39m}\u001b[39;00m\u001b[39m\"\u001b[39m]\u001b[39m}\u001b[39;00m\u001b[39m/opto_waveforms.zarr\u001b[39m\u001b[39m'\u001b[39m\n\u001b[0;32m--> 244\u001b[0m     analyzer_saved_zarr \u001b[39m=\u001b[39m analyzer\u001b[39m.\u001b[39;49msave_as(\u001b[39mformat\u001b[39;49m\u001b[39m=\u001b[39;49m\u001b[39m'\u001b[39;49m\u001b[39mzarr\u001b[39;49m\u001b[39m'\u001b[39;49m, folder \u001b[39m=\u001b[39;49m waveform_zarr_folder)\n\u001b[1;32m    245\u001b[0m     \u001b[39mprint\u001b[39m(\u001b[39mf\u001b[39m\u001b[39m'\u001b[39m\u001b[39mSaved analyzer to \u001b[39m\u001b[39m{\u001b[39;00mwaveform_zarr_folder\u001b[39m}\u001b[39;00m\u001b[39m'\u001b[39m)\n\u001b[1;32m    246\u001b[0m \u001b[39melse\u001b[39;00m:\n",
      "File \u001b[0;32m/opt/conda/lib/python3.9/site-packages/spikeinterface/core/sortinganalyzer.py:976\u001b[0m, in \u001b[0;36mSortingAnalyzer.save_as\u001b[0;34m(self, format, folder, backend_options)\u001b[0m\n\u001b[1;32m    974\u001b[0m \u001b[39mif\u001b[39;00m \u001b[39mformat\u001b[39m \u001b[39m==\u001b[39m \u001b[39m\"\u001b[39m\u001b[39mzarr\u001b[39m\u001b[39m\"\u001b[39m:\n\u001b[1;32m    975\u001b[0m     folder \u001b[39m=\u001b[39m clean_zarr_folder_name(folder)\n\u001b[0;32m--> 976\u001b[0m \u001b[39mreturn\u001b[39;00m \u001b[39mself\u001b[39;49m\u001b[39m.\u001b[39;49m_save_or_select_or_merge(\u001b[39mformat\u001b[39;49m\u001b[39m=\u001b[39;49m\u001b[39mformat\u001b[39;49m, folder\u001b[39m=\u001b[39;49mfolder, backend_options\u001b[39m=\u001b[39;49mbackend_options)\n",
      "File \u001b[0;32m/opt/conda/lib/python3.9/site-packages/spikeinterface/core/sortinganalyzer.py:907\u001b[0m, in \u001b[0;36mSortingAnalyzer._save_or_select_or_merge\u001b[0;34m(self, format, folder, unit_ids, merge_unit_groups, censor_ms, merging_mode, sparsity_overlap, verbose, new_unit_ids, backend_options, **job_kwargs)\u001b[0m\n\u001b[1;32m    905\u001b[0m     \u001b[39massert\u001b[39;00m folder \u001b[39mis\u001b[39;00m \u001b[39mnot\u001b[39;00m \u001b[39mNone\u001b[39;00m, \u001b[39m\"\u001b[39m\u001b[39mFor format=\u001b[39m\u001b[39m'\u001b[39m\u001b[39mzarr\u001b[39m\u001b[39m'\u001b[39m\u001b[39m folder must be provided\u001b[39m\u001b[39m\"\u001b[39m\n\u001b[1;32m    906\u001b[0m     folder \u001b[39m=\u001b[39m clean_zarr_folder_name(folder)\n\u001b[0;32m--> 907\u001b[0m     new_sorting_analyzer \u001b[39m=\u001b[39m SortingAnalyzer\u001b[39m.\u001b[39;49mcreate_zarr(\n\u001b[1;32m    908\u001b[0m         folder,\n\u001b[1;32m    909\u001b[0m         sorting_provenance,\n\u001b[1;32m    910\u001b[0m         recording,\n\u001b[1;32m    911\u001b[0m         sparsity,\n\u001b[1;32m    912\u001b[0m         \u001b[39mself\u001b[39;49m\u001b[39m.\u001b[39;49mreturn_scaled,\n\u001b[1;32m    913\u001b[0m         \u001b[39mself\u001b[39;49m\u001b[39m.\u001b[39;49mrec_attributes,\n\u001b[1;32m    914\u001b[0m         backend_options\u001b[39m=\u001b[39;49mbackend_options,\n\u001b[1;32m    915\u001b[0m     )\n\u001b[1;32m    916\u001b[0m \u001b[39melse\u001b[39;00m:\n\u001b[1;32m    917\u001b[0m     \u001b[39mraise\u001b[39;00m \u001b[39mValueError\u001b[39;00m(\u001b[39mf\u001b[39m\u001b[39m\"\u001b[39m\u001b[39mSortingAnalyzer.save: unsupported format: \u001b[39m\u001b[39m{\u001b[39;00m\u001b[39mformat\u001b[39m\u001b[39m}\u001b[39;00m\u001b[39m\"\u001b[39m)\n",
      "File \u001b[0;32m/opt/conda/lib/python3.9/site-packages/spikeinterface/core/sortinganalyzer.py:589\u001b[0m, in \u001b[0;36mSortingAnalyzer.create_zarr\u001b[0;34m(cls, folder, sorting, recording, sparsity, return_scaled, rec_attributes, backend_options)\u001b[0m\n\u001b[1;32m    587\u001b[0m     folder \u001b[39m=\u001b[39m clean_zarr_folder_name(folder)\n\u001b[1;32m    588\u001b[0m     \u001b[39mif\u001b[39;00m folder\u001b[39m.\u001b[39mis_dir():\n\u001b[0;32m--> 589\u001b[0m         \u001b[39mraise\u001b[39;00m \u001b[39mValueError\u001b[39;00m(\u001b[39mf\u001b[39m\u001b[39m\"\u001b[39m\u001b[39mFolder already exists \u001b[39m\u001b[39m{\u001b[39;00mfolder\u001b[39m}\u001b[39;00m\u001b[39m\"\u001b[39m)\n\u001b[1;32m    591\u001b[0m backend_options \u001b[39m=\u001b[39m {} \u001b[39mif\u001b[39;00m backend_options \u001b[39mis\u001b[39;00m \u001b[39mNone\u001b[39;00m \u001b[39melse\u001b[39;00m backend_options\n\u001b[1;32m    592\u001b[0m storage_options \u001b[39m=\u001b[39m backend_options\u001b[39m.\u001b[39mget(\u001b[39m\"\u001b[39m\u001b[39mstorage_options\u001b[39m\u001b[39m\"\u001b[39m, {})\n",
      "\u001b[0;31mValueError\u001b[0m: Folder already exists /root/capsule/scratch/717121/behavior_717121_2024-06-15_10-00-58/ephys/opto/curated/opto_waveforms.zarr"
     ]
    }
   ],
   "source": [
    "ephys_opto_crosscorr('behavior_717121_2024-06-15_10-00-58', 'curated')\n",
    "opto_wf_preprocessing('behavior_717121_2024-06-15_10-00-58', 'curated', 'soma', load_sorting_analyzer=False)"
   ]
  },
  {
   "cell_type": "code",
   "execution_count": 6,
   "metadata": {},
   "outputs": [],
   "source": [
    "pip install ipykernel"
   ]
  },
  {
   "cell_type": "code",
   "execution_count": 10,
   "metadata": {},
   "outputs": [],
   "source": [
    "pip install Ipykernel"
   ]
  },
  {
   "cell_type": "code",
   "execution_count": null,
   "metadata": {},
   "outputs": [],
   "source": [
    "\n",
    "Parallel(n_jobs=3)(delayed(process)(session) for session in session_list)"
   ]
  },
  {
   "cell_type": "code",
   "execution_count": 8,
   "metadata": {},
   "outputs": [
    {
     "name": "stderr",
     "output_type": "stream",
     "text": [
      "/root/capsule/code/beh_ephys_analysis/opto_tagging.py:345: FutureWarning: errors='ignore' is deprecated and will raise in a future version. Use to_numeric without passing `errors` and catch exceptions explicitly instead\n",
      "  unit_qc = unit_qc.apply(pd.to_numeric, errors='ignore')\n"
     ]
    },
    {
     "name": "stdout",
     "output_type": "stream",
     "text": [
      "95 out of 271 units pass quality control\n",
      "{'samples_to_keep': [-30, 60], 'y_neighbors_to_keep': 3, 'orginal_loc': False}\n"
     ]
    },
    {
     "name": "stderr",
     "output_type": "stream",
     "text": [
      "/root/capsule/code/beh_ephys_analysis/opto_tagging.py:386: FutureWarning: errors='ignore' is deprecated and will raise in a future version. Use to_numeric without passing `errors` and catch exceptions explicitly instead\n",
      "  opto_wf = opto_wf.apply(pd.to_numeric, errors='ignore')\n"
     ]
    },
    {
     "name": "stdout",
     "output_type": "stream",
     "text": [
      "Merging file 0 out of 271\n",
      "Merging file 50 out of 271\n",
      "Merging file 100 out of 271\n",
      "Merging file 150 out of 271\n",
      "Merging file 200 out of 271\n",
      "Merging file 250 out of 271\n",
      "PDF files in '/root/capsule/scratch/751004/behavior_751004_2024-12-19_11-50-37/ephys/opto/raw/figures' merged into '/root/capsule/scratch/751004/behavior_751004_2024-12-19_11-50-37/ephys/opto/raw/behavior_751004_2024-12-19_11-50-37_opto_tagging.pdf' successfully.\n",
      "5 out of 271 units pass quality control and opto tagging\n"
     ]
    },
    {
     "name": "stderr",
     "output_type": "stream",
     "text": [
      "/root/capsule/code/beh_ephys_analysis/opto_tagging.py:458: UserWarning: Boolean Series key will be reindexed to match DataFrame index.\n",
      "  opto_tagging_df_focus = opto_tagging_df_sorted[(opto_tagging_df_sorted['opto_pass'] == True) & (opto_tagging_df['decoder_label'] != 'artifact') & (opto_tagging_df['decoder_label'] != 'noise')].copy()\n"
     ]
    }
   ],
   "source": [
    "plt.close('all')\n",
    "data_type = 'raw'\n",
    "session = session_list[0]\n",
    "opto_tagging_df = opto_plotting_session(session, data_type, 'soma', plot=True, resp_thresh=0.4, lat_thresh=0.02)\n",
    "plt.close('all')\n",
    "opto_tagged_spike_stability(session, data_type, 'soma', opto_tagging_df=opto_tagging_df)"
   ]
  },
  {
   "cell_type": "code",
   "execution_count": null,
   "metadata": {},
   "outputs": [],
   "source": [
    "session_list = ['']"
   ]
  },
  {
   "cell_type": "code",
   "execution_count": null,
   "metadata": {},
   "outputs": [],
   "source": [
    "for session in session_list:\n",
    "    ephys_opto_preprocessing(session, 'curated', 'soma')\n",
    "    opto_wf_preprocessing(session, 'curated', 'soma', load_sorting_analyzer=False)\n",
    "    opto_plotting_session(session, 'curated', plot=True)\n",
    "    plt.close('all')"
   ]
  },
  {
   "cell_type": "code",
   "execution_count": 7,
   "metadata": {},
   "outputs": [],
   "source": [
    "session = 'behavior_751004_2024-12-20_13-26-11'\n",
    "data_type = 'raw'\n",
    "target = 'soma'\n",
    "target_unit_ids = [16]\n",
    "# pass_df = opto_plotting_session(session, data_type, target, plot=True,  resp_thresh=0.5, lat_thresh=0.015, target_unit_ids=target_unit_ids)"
   ]
  },
  {
   "cell_type": "code",
   "execution_count": null,
   "metadata": {},
   "outputs": [],
   "source": [
    "data_type = 'raw'\n",
    "target = 'soma'\n",
    "for session in session_list:\n",
    "    combine_qc = opto_plotting_session(session, data_type, target, plot=True,  resp_thresh=0.5, lat_thresh=0.015)"
   ]
  },
  {
   "cell_type": "code",
   "execution_count": 8,
   "metadata": {},
   "outputs": [],
   "source": [
    "session_dir = session_dirs(session)\n",
    "opto_wf_csv = os.path.join(session_dir[f'opto_dir_{data_type}'], f'{session}_opto_waveform_metrics.csv')\n",
    "opto_wf = pd.read_csv(opto_wf_csv)"
   ]
  },
  {
   "cell_type": "code",
   "execution_count": 1,
   "metadata": {},
   "outputs": [
    {
     "ename": "SyntaxError",
     "evalue": "invalid syntax (4263930493.py, line 1)",
     "output_type": "error",
     "traceback": [
      "\u001b[0;36m  Cell \u001b[0;32mIn[1], line 1\u001b[0;36m\u001b[0m\n\u001b[0;31m    pip3 install --no-cache-dir numpy\u001b[0m\n\u001b[0m         ^\u001b[0m\n\u001b[0;31mSyntaxError\u001b[0m\u001b[0;31m:\u001b[0m invalid syntax\n"
     ]
    }
   ],
   "source": [
    "pip3 install --no-cache-dir numpy"
   ]
  }
 ],
 "metadata": {
  "kernelspec": {
   "display_name": "base",
   "language": "python",
   "name": "python3"
  },
  "language_info": {
   "codemirror_mode": {
    "name": "ipython",
    "version": 3
   },
   "file_extension": ".py",
   "mimetype": "text/x-python",
   "name": "python",
   "nbconvert_exporter": "python",
   "pygments_lexer": "ipython3",
   "version": "3.10.16"
  }
 },
 "nbformat": 4,
 "nbformat_minor": 2
}
