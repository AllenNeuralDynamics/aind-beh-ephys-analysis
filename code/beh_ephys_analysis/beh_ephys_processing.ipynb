{
 "cells": [
  {
   "cell_type": "code",
   "execution_count": 1,
   "metadata": {},
   "outputs": [],
   "source": [
    "from behavior_and_time_alignment import beh_and_time_alignment\n",
    "from session_preprocessing import ephys_opto_preprocessing\n",
    "from opto_tagging import opto_plotting_session, opto_plotting_unit\n",
    "from opto_waveforms_preprocessing import opto_wf_preprocessing\n",
    "import matplotlib.pyplot as plt"
   ]
  },
  {
   "cell_type": "code",
   "execution_count": 2,
   "metadata": {},
   "outputs": [],
   "source": [
    "session_list = ['behavior_758017_2025-02-04_11-57-38',\n",
    "                'behavior_758017_2025-02-05_11-42-34',\n",
    "                'behavior_758017_2025-02-06_11-26-14',\n",
    "                'behavior_758017_2025-02-07_14-11-08']"
   ]
  },
  {
   "cell_type": "code",
   "execution_count": 3,
   "metadata": {},
   "outputs": [
    {
     "name": "stdout",
     "output_type": "stream",
     "text": [
      "behavior_758017_2025-02-04_11-57-38\n",
      "behavior_758017_2025-02-05_11-42-34\n"
     ]
    },
    {
     "ename": "KeyboardInterrupt",
     "evalue": "",
     "output_type": "error",
     "traceback": [
      "\u001b[0;31m---------------------------------------------------------------------------\u001b[0m",
      "\u001b[0;31mKeyboardInterrupt\u001b[0m                         Traceback (most recent call last)",
      "\u001b[1;32m/root/capsule/code/beh_ephys_analysis/beh_ephys_processing.ipynb Cell 3\u001b[0m line \u001b[0;36m2\n\u001b[1;32m      <a href='vscode-notebook-cell://codeocean.allenneuraldynamics.org/root/capsule/code/beh_ephys_analysis/beh_ephys_processing.ipynb#W2sdnNjb2RlLXJlbW90ZQ%3D%3D?line=0'>1</a>\u001b[0m \u001b[39mfor\u001b[39;00m session \u001b[39min\u001b[39;00m session_list:\n\u001b[0;32m----> <a href='vscode-notebook-cell://codeocean.allenneuraldynamics.org/root/capsule/code/beh_ephys_analysis/beh_ephys_processing.ipynb#W2sdnNjb2RlLXJlbW90ZQ%3D%3D?line=1'>2</a>\u001b[0m     beh_and_time_alignment(session)\n\u001b[1;32m      <a href='vscode-notebook-cell://codeocean.allenneuraldynamics.org/root/capsule/code/beh_ephys_analysis/beh_ephys_processing.ipynb#W2sdnNjb2RlLXJlbW90ZQ%3D%3D?line=2'>3</a>\u001b[0m     plt\u001b[39m.\u001b[39mclose(\u001b[39m'\u001b[39m\u001b[39mall\u001b[39m\u001b[39m'\u001b[39m)\n",
      "File \u001b[0;32m~/capsule/code/beh_ephys_analysis/behavior_and_time_alignment.py:70\u001b[0m, in \u001b[0;36mbeh_and_time_alignment\u001b[0;34m(session, ephys_cut)\u001b[0m\n\u001b[1;32m     67\u001b[0m fig\u001b[39m.\u001b[39msavefig(os\u001b[39m.\u001b[39mpath\u001b[39m.\u001b[39mjoin(session_dir[\u001b[39m'\u001b[39m\u001b[39mbeh_fig_dir\u001b[39m\u001b[39m'\u001b[39m], session \u001b[39m+\u001b[39m \u001b[39m'\u001b[39m\u001b[39m_choice_reward.pdf\u001b[39m\u001b[39m'\u001b[39m))\n\u001b[1;32m     68\u001b[0m \u001b[39m# display(fig)\u001b[39;00m\n\u001b[0;32m---> 70\u001b[0m fig, _ \u001b[39m=\u001b[39m plot_lick_analysis(nwb)\n\u001b[1;32m     71\u001b[0m fig\u001b[39m.\u001b[39msavefig(os\u001b[39m.\u001b[39mpath\u001b[39m.\u001b[39mjoin(session_dir[\u001b[39m'\u001b[39m\u001b[39mbeh_fig_dir\u001b[39m\u001b[39m'\u001b[39m], session \u001b[39m+\u001b[39m \u001b[39m'\u001b[39m\u001b[39m_lick_analysis.pdf\u001b[39m\u001b[39m'\u001b[39m))\n\u001b[1;32m     72\u001b[0m \u001b[39m# display(fig)\u001b[39;00m\n",
      "File \u001b[0;32m/opt/conda/lib/python3.9/site-packages/aind_dynamic_foraging_basic_analysis/licks/lick_analysis.py:137\u001b[0m, in \u001b[0;36mplot_lick_analysis\u001b[0;34m(nwb)\u001b[0m\n\u001b[1;32m    133\u001b[0m r_align \u001b[39m=\u001b[39m r_align[sort_ind_r\u001b[39m.\u001b[39mvalues]\n\u001b[1;32m    135\u001b[0m \u001b[39mif\u001b[39;00m \u001b[39mlen\u001b[39m(l_align) \u001b[39m>\u001b[39m \u001b[39m0\u001b[39m:\n\u001b[1;32m    136\u001b[0m     \u001b[39m# Left lick aligned to left choices\u001b[39;00m\n\u001b[0;32m--> 137\u001b[0m     fig, ax1, ax2 \u001b[39m=\u001b[39m plot_raster_rate(\n\u001b[1;32m    138\u001b[0m         left_licks, l_align, fig, gs[\u001b[39m1\u001b[39;49m, \u001b[39m0\u001b[39;49m], \u001b[39m\"\u001b[39;49m\u001b[39mL licks on L choice trials\u001b[39;49m\u001b[39m\"\u001b[39;49m\n\u001b[1;32m    139\u001b[0m     )\n\u001b[1;32m    140\u001b[0m     ax1\u001b[39m.\u001b[39mscatter(\n\u001b[1;32m    141\u001b[0m         \u001b[39m-\u001b[39mnp\u001b[39m.\u001b[39msort(tbl_trials\u001b[39m.\u001b[39mloc[tbl_trials[\u001b[39m\"\u001b[39m\u001b[39manimal_response\u001b[39m\u001b[39m\"\u001b[39m] \u001b[39m==\u001b[39m \u001b[39m0\u001b[39m, \u001b[39m\"\u001b[39m\u001b[39mdelay_duration\u001b[39m\u001b[39m\"\u001b[39m]),\n\u001b[1;32m    142\u001b[0m         \u001b[39mrange\u001b[39m(\u001b[39mlen\u001b[39m(tbl_trials\u001b[39m.\u001b[39mloc[tbl_trials[\u001b[39m\"\u001b[39m\u001b[39manimal_response\u001b[39m\u001b[39m\"\u001b[39m] \u001b[39m==\u001b[39m \u001b[39m0\u001b[39m, \u001b[39m\"\u001b[39m\u001b[39mdelay_max\u001b[39m\u001b[39m\"\u001b[39m])),\n\u001b[0;32m   (...)\u001b[0m\n\u001b[1;32m    146\u001b[0m         zorder\u001b[39m=\u001b[39m\u001b[39m1\u001b[39m,\n\u001b[1;32m    147\u001b[0m     )\n\u001b[1;32m    148\u001b[0m     ax2\u001b[39m.\u001b[39mset_ylabel(\u001b[39m\"\u001b[39m\u001b[39mLicks/s\u001b[39m\u001b[39m\"\u001b[39m)\n",
      "File \u001b[0;32m/opt/conda/lib/python3.9/site-packages/aind_dynamic_foraging_basic_analysis/licks/lick_analysis.py:558\u001b[0m, in \u001b[0;36mplot_raster_rate\u001b[0;34m(events, align_events, fig, subplot_spec, title, tb, tf, bin_size, step_size)\u001b[0m\n\u001b[1;32m    555\u001b[0m ax2 \u001b[39m=\u001b[39m fig\u001b[39m.\u001b[39madd_subplot(nested_gs[\u001b[39m1\u001b[39m, \u001b[39m0\u001b[39m])\n\u001b[1;32m    557\u001b[0m df \u001b[39m=\u001b[39m align\u001b[39m.\u001b[39mto_events(events, align_events, (tb, tf), return_df\u001b[39m=\u001b[39m\u001b[39mTrue\u001b[39;00m)\n\u001b[0;32m--> 558\u001b[0m ax1\u001b[39m.\u001b[39;49mscatter(df\u001b[39m.\u001b[39;49mtime, df\u001b[39m.\u001b[39;49mevent_index, c\u001b[39m=\u001b[39;49m\u001b[39m\"\u001b[39;49m\u001b[39mk\u001b[39;49m\u001b[39m\"\u001b[39;49m, marker\u001b[39m=\u001b[39;49m\u001b[39m\"\u001b[39;49m\u001b[39m|\u001b[39;49m\u001b[39m\"\u001b[39;49m, s\u001b[39m=\u001b[39;49m\u001b[39m1\u001b[39;49m, zorder\u001b[39m=\u001b[39;49m\u001b[39m2\u001b[39;49m)\n\u001b[1;32m    559\u001b[0m ax1\u001b[39m.\u001b[39maxvline(x\u001b[39m=\u001b[39m\u001b[39m0\u001b[39m, c\u001b[39m=\u001b[39m\u001b[39m\"\u001b[39m\u001b[39mr\u001b[39m\u001b[39m\"\u001b[39m, ls\u001b[39m=\u001b[39m\u001b[39m\"\u001b[39m\u001b[39m--\u001b[39m\u001b[39m\"\u001b[39m, lw\u001b[39m=\u001b[39m\u001b[39m1\u001b[39m, zorder\u001b[39m=\u001b[39m\u001b[39m3\u001b[39m)\n\u001b[1;32m    560\u001b[0m ax1\u001b[39m.\u001b[39mset_title(title)\n",
      "File \u001b[0;32m/opt/conda/lib/python3.9/site-packages/matplotlib/__init__.py:1465\u001b[0m, in \u001b[0;36m_preprocess_data.<locals>.inner\u001b[0;34m(ax, data, *args, **kwargs)\u001b[0m\n\u001b[1;32m   1462\u001b[0m \u001b[39m@functools\u001b[39m\u001b[39m.\u001b[39mwraps(func)\n\u001b[1;32m   1463\u001b[0m \u001b[39mdef\u001b[39;00m \u001b[39minner\u001b[39m(ax, \u001b[39m*\u001b[39margs, data\u001b[39m=\u001b[39m\u001b[39mNone\u001b[39;00m, \u001b[39m*\u001b[39m\u001b[39m*\u001b[39mkwargs):\n\u001b[1;32m   1464\u001b[0m     \u001b[39mif\u001b[39;00m data \u001b[39mis\u001b[39;00m \u001b[39mNone\u001b[39;00m:\n\u001b[0;32m-> 1465\u001b[0m         \u001b[39mreturn\u001b[39;00m func(ax, \u001b[39m*\u001b[39;49m\u001b[39mmap\u001b[39;49m(sanitize_sequence, args), \u001b[39m*\u001b[39;49m\u001b[39m*\u001b[39;49mkwargs)\n\u001b[1;32m   1467\u001b[0m     bound \u001b[39m=\u001b[39m new_sig\u001b[39m.\u001b[39mbind(ax, \u001b[39m*\u001b[39margs, \u001b[39m*\u001b[39m\u001b[39m*\u001b[39mkwargs)\n\u001b[1;32m   1468\u001b[0m     auto_label \u001b[39m=\u001b[39m (bound\u001b[39m.\u001b[39marguments\u001b[39m.\u001b[39mget(label_namer)\n\u001b[1;32m   1469\u001b[0m                   \u001b[39mor\u001b[39;00m bound\u001b[39m.\u001b[39mkwargs\u001b[39m.\u001b[39mget(label_namer))\n",
      "File \u001b[0;32m/opt/conda/lib/python3.9/site-packages/matplotlib/axes/_axes.py:4741\u001b[0m, in \u001b[0;36mAxes.scatter\u001b[0;34m(self, x, y, s, c, marker, cmap, norm, vmin, vmax, alpha, linewidths, edgecolors, plotnonfinite, **kwargs)\u001b[0m\n\u001b[1;32m   4735\u001b[0m         linewidths \u001b[39m=\u001b[39m [\n\u001b[1;32m   4736\u001b[0m             lw \u001b[39mif\u001b[39;00m lw \u001b[39mis\u001b[39;00m \u001b[39mnot\u001b[39;00m \u001b[39mNone\u001b[39;00m \u001b[39melse\u001b[39;00m mpl\u001b[39m.\u001b[39mrcParams[\u001b[39m'\u001b[39m\u001b[39mlines.linewidth\u001b[39m\u001b[39m'\u001b[39m]\n\u001b[1;32m   4737\u001b[0m             \u001b[39mfor\u001b[39;00m lw \u001b[39min\u001b[39;00m linewidths]\n\u001b[1;32m   4739\u001b[0m offsets \u001b[39m=\u001b[39m np\u001b[39m.\u001b[39mma\u001b[39m.\u001b[39mcolumn_stack([x, y])\n\u001b[0;32m-> 4741\u001b[0m collection \u001b[39m=\u001b[39m mcoll\u001b[39m.\u001b[39;49mPathCollection(\n\u001b[1;32m   4742\u001b[0m     (path,), scales,\n\u001b[1;32m   4743\u001b[0m     facecolors\u001b[39m=\u001b[39;49mcolors,\n\u001b[1;32m   4744\u001b[0m     edgecolors\u001b[39m=\u001b[39;49medgecolors,\n\u001b[1;32m   4745\u001b[0m     linewidths\u001b[39m=\u001b[39;49mlinewidths,\n\u001b[1;32m   4746\u001b[0m     offsets\u001b[39m=\u001b[39;49moffsets,\n\u001b[1;32m   4747\u001b[0m     offset_transform\u001b[39m=\u001b[39;49mkwargs\u001b[39m.\u001b[39;49mpop(\u001b[39m'\u001b[39;49m\u001b[39mtransform\u001b[39;49m\u001b[39m'\u001b[39;49m, \u001b[39mself\u001b[39;49m\u001b[39m.\u001b[39;49mtransData),\n\u001b[1;32m   4748\u001b[0m     alpha\u001b[39m=\u001b[39;49malpha,\n\u001b[1;32m   4749\u001b[0m )\n\u001b[1;32m   4750\u001b[0m collection\u001b[39m.\u001b[39mset_transform(mtransforms\u001b[39m.\u001b[39mIdentityTransform())\n\u001b[1;32m   4751\u001b[0m \u001b[39mif\u001b[39;00m colors \u001b[39mis\u001b[39;00m \u001b[39mNone\u001b[39;00m:\n",
      "File \u001b[0;32m/opt/conda/lib/python3.9/site-packages/matplotlib/collections.py:1027\u001b[0m, in \u001b[0;36mPathCollection.__init__\u001b[0;34m(self, paths, sizes, **kwargs)\u001b[0m\n\u001b[1;32m   1013\u001b[0m \u001b[39mdef\u001b[39;00m \u001b[39m__init__\u001b[39m(\u001b[39mself\u001b[39m, paths, sizes\u001b[39m=\u001b[39m\u001b[39mNone\u001b[39;00m, \u001b[39m*\u001b[39m\u001b[39m*\u001b[39mkwargs):\n\u001b[1;32m   1014\u001b[0m \u001b[39m    \u001b[39m\u001b[39m\"\"\"\u001b[39;00m\n\u001b[1;32m   1015\u001b[0m \u001b[39m    Parameters\u001b[39;00m\n\u001b[1;32m   1016\u001b[0m \u001b[39m    ----------\u001b[39;00m\n\u001b[0;32m   (...)\u001b[0m\n\u001b[1;32m   1024\u001b[0m \u001b[39m        Forwarded to `.Collection`.\u001b[39;00m\n\u001b[1;32m   1025\u001b[0m \u001b[39m    \"\"\"\u001b[39;00m\n\u001b[0;32m-> 1027\u001b[0m     \u001b[39msuper\u001b[39;49m()\u001b[39m.\u001b[39;49m\u001b[39m__init__\u001b[39;49m(\u001b[39m*\u001b[39;49m\u001b[39m*\u001b[39;49mkwargs)\n\u001b[1;32m   1028\u001b[0m     \u001b[39mself\u001b[39m\u001b[39m.\u001b[39mset_paths(paths)\n\u001b[1;32m   1029\u001b[0m     \u001b[39mself\u001b[39m\u001b[39m.\u001b[39mset_sizes(sizes)\n",
      "File \u001b[0;32m/opt/conda/lib/python3.9/site-packages/matplotlib/collections.py:173\u001b[0m, in \u001b[0;36mCollection.__init__\u001b[0;34m(self, edgecolors, facecolors, linewidths, linestyles, capstyle, joinstyle, antialiaseds, offsets, offset_transform, norm, cmap, pickradius, hatch, urls, zorder, **kwargs)\u001b[0m\n\u001b[1;32m    171\u001b[0m \u001b[39mself\u001b[39m\u001b[39m.\u001b[39m_mapped_colors \u001b[39m=\u001b[39m \u001b[39mNone\u001b[39;00m  \u001b[39m# calculated in update_scalarmappable\u001b[39;00m\n\u001b[1;32m    172\u001b[0m \u001b[39mself\u001b[39m\u001b[39m.\u001b[39m_hatch_color \u001b[39m=\u001b[39m mcolors\u001b[39m.\u001b[39mto_rgba(mpl\u001b[39m.\u001b[39mrcParams[\u001b[39m'\u001b[39m\u001b[39mhatch.color\u001b[39m\u001b[39m'\u001b[39m])\n\u001b[0;32m--> 173\u001b[0m \u001b[39mself\u001b[39;49m\u001b[39m.\u001b[39;49mset_facecolor(facecolors)\n\u001b[1;32m    174\u001b[0m \u001b[39mself\u001b[39m\u001b[39m.\u001b[39mset_edgecolor(edgecolors)\n\u001b[1;32m    175\u001b[0m \u001b[39mself\u001b[39m\u001b[39m.\u001b[39mset_linewidth(linewidths)\n",
      "File \u001b[0;32m/opt/conda/lib/python3.9/site-packages/matplotlib/collections.py:784\u001b[0m, in \u001b[0;36mCollection.set_facecolor\u001b[0;34m(self, c)\u001b[0m\n\u001b[1;32m    782\u001b[0m     c \u001b[39m=\u001b[39m c\u001b[39m.\u001b[39mlower()\n\u001b[1;32m    783\u001b[0m \u001b[39mself\u001b[39m\u001b[39m.\u001b[39m_original_facecolor \u001b[39m=\u001b[39m c\n\u001b[0;32m--> 784\u001b[0m \u001b[39mself\u001b[39;49m\u001b[39m.\u001b[39;49m_set_facecolor(c)\n",
      "File \u001b[0;32m/opt/conda/lib/python3.9/site-packages/matplotlib/collections.py:766\u001b[0m, in \u001b[0;36mCollection._set_facecolor\u001b[0;34m(self, c)\u001b[0m\n\u001b[1;32m    763\u001b[0m \u001b[39mif\u001b[39;00m c \u001b[39mis\u001b[39;00m \u001b[39mNone\u001b[39;00m:\n\u001b[1;32m    764\u001b[0m     c \u001b[39m=\u001b[39m \u001b[39mself\u001b[39m\u001b[39m.\u001b[39m_get_default_facecolor()\n\u001b[0;32m--> 766\u001b[0m \u001b[39mself\u001b[39m\u001b[39m.\u001b[39m_facecolors \u001b[39m=\u001b[39m mcolors\u001b[39m.\u001b[39;49mto_rgba_array(c, \u001b[39mself\u001b[39;49m\u001b[39m.\u001b[39;49m_alpha)\n\u001b[1;32m    767\u001b[0m \u001b[39mself\u001b[39m\u001b[39m.\u001b[39mstale \u001b[39m=\u001b[39m \u001b[39mTrue\u001b[39;00m\n",
      "File \u001b[0;32m/opt/conda/lib/python3.9/site-packages/matplotlib/colors.py:468\u001b[0m, in \u001b[0;36mto_rgba_array\u001b[0;34m(c, alpha)\u001b[0m\n\u001b[1;32m    466\u001b[0m \u001b[39mif\u001b[39;00m mask \u001b[39mis\u001b[39;00m \u001b[39mnot\u001b[39;00m \u001b[39mNone\u001b[39;00m:\n\u001b[1;32m    467\u001b[0m     result[mask] \u001b[39m=\u001b[39m \u001b[39m0\u001b[39m\n\u001b[0;32m--> 468\u001b[0m \u001b[39mif\u001b[39;00m np\u001b[39m.\u001b[39many((result \u001b[39m<\u001b[39m \u001b[39m0\u001b[39m) \u001b[39m|\u001b[39m (result \u001b[39m>\u001b[39;49m \u001b[39m1\u001b[39;49m)):\n\u001b[1;32m    469\u001b[0m     \u001b[39mraise\u001b[39;00m \u001b[39mValueError\u001b[39;00m(\u001b[39m\"\u001b[39m\u001b[39mRGBA values should be within 0-1 range\u001b[39m\u001b[39m\"\u001b[39m)\n\u001b[1;32m    470\u001b[0m \u001b[39mreturn\u001b[39;00m result\n",
      "\u001b[0;31mKeyboardInterrupt\u001b[0m: "
     ]
    }
   ],
   "source": [
    "for session in session_list:\n",
    "    beh_and_time_alignment(session)\n",
    "    plt.close('all')"
   ]
  },
  {
   "cell_type": "code",
   "execution_count": 5,
   "metadata": {},
   "outputs": [],
   "source": [
    "for session in session_list:\n",
    "    ephys_opto_preprocessing(session, 'raw', 'soma')"
   ]
  },
  {
   "cell_type": "code",
   "execution_count": null,
   "metadata": {},
   "outputs": [],
   "source": [
    "for session in session_list:\n",
    "    opto_plotting_session(session, 'raw', plot=True)"
   ]
  },
  {
   "cell_type": "code",
   "execution_count": 3,
   "metadata": {},
   "outputs": [],
   "source": [
    "session = 'behavior_751004_2024-12-20_13-26-11'\n",
    "data_type = 'raw'\n",
    "target = 'soma'\n",
    "# beh_and_time_alignment(session)\n",
    "# ephys_opto_preprocessing(session, data_type, target)\n",
    "# opto_wf_preprocessing(session, data_type, target, load_sorting_analyzer=False)\n",
    "# opto_plotting_session(session, data_type, target, plot=True)\n",
    "data_type = 'curated'\n",
    "# ephys_opto_preprocessing(session, data_type, target)\n",
    "# opto_wf_preprocessing(session, data_type, target, load_sorting_analyzer=False)\n",
    "opto_plotting_session(session, data_type, target, plot=True)"
   ]
  },
  {
   "cell_type": "code",
   "execution_count": 4,
   "metadata": {},
   "outputs": [
    {
     "name": "stderr",
     "output_type": "stream",
     "text": [
      "/root/capsule/code/beh_ephys_analysis/opto_tagging.py:214: FutureWarning: errors='ignore' is deprecated and will raise in a future version. Use to_numeric without passing `errors` and catch exceptions explicitly instead\n",
      "  unit_qc = unit_qc.apply(pd.to_numeric, errors='ignore')\n"
     ]
    },
    {
     "name": "stdout",
     "output_type": "stream",
     "text": [
      "80 out of 260 units pass quality control\n",
      "{'samples_to_keep': [-30, 60], 'y_neighbors_to_keep': 3, 'orginal_loc': False}\n",
      "Merging file 0 out of 260\n",
      "Merging file 50 out of 260\n",
      "Merging file 100 out of 260\n",
      "Merging file 150 out of 260\n",
      "Merging file 200 out of 260\n",
      "Merging file 250 out of 260\n",
      "PDF files in '/root/capsule/scratch/751004/behavior_751004_2024-12-20_13-26-11/ephys/opto/raw/figures' merged into '/root/capsule/scratch/751004/behavior_751004_2024-12-20_13-26-11/ephys/opto/raw/behavior_751004_2024-12-20_13-26-11_opto_tagging.pdf' successfully.\n",
      "7 out of 260 units pass quality control and opto tagging\n"
     ]
    }
   ],
   "source": [
    "session = 'behavior_751004_2024-12-20_13-26-11'\n",
    "data_type = 'raw'\n",
    "target = 'soma'\n",
    "pass_dict = opto_plotting_session(session, data_type, target, plot=False)"
   ]
  },
  {
   "cell_type": "code",
   "execution_count": 6,
   "metadata": {},
   "outputs": [],
   "source": [
    "pip install ipykernel"
   ]
  }
 ],
 "metadata": {
  "kernelspec": {
   "display_name": "base",
   "language": "python",
   "name": "python3"
  },
  "language_info": {
   "codemirror_mode": {
    "name": "ipython",
    "version": 3
   },
   "file_extension": ".py",
   "mimetype": "text/x-python",
   "name": "python",
   "nbconvert_exporter": "python",
   "pygments_lexer": "ipython3",
   "version": "3.9.12"
  }
 },
 "nbformat": 4,
 "nbformat_minor": 2
}
