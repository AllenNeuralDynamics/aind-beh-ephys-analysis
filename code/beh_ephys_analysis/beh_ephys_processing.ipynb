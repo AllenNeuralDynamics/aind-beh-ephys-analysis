{
 "cells": [
  {
   "cell_type": "code",
   "execution_count": 2,
   "metadata": {},
   "outputs": [],
   "source": [
    "from behavior_and_time_alignment import beh_and_time_alignment\n",
    "from session_preprocessing import ephys_opto_preprocessing, session_crosscorr\n",
    "from opto_tagging import opto_plotting_session, opto_plotting_unit, opto_tagged_spike_stability\n",
    "from opto_waveforms_preprocessing import opto_wf_preprocessing\n",
    "import matplotlib.pyplot as plt\n",
    "from utils.beh_functions import session_dirs\n",
    "import numpy as np\n",
    "import pandas as pd\n",
    "import os\n",
    "from utils.plot_utils import combine_pdf_big"
   ]
  },
  {
   "cell_type": "code",
   "execution_count": 3,
   "metadata": {},
   "outputs": [],
   "source": [
    "session_list = ['behavior_758017_2025-02-04_11-57-38',\n",
    "                'behavior_758017_2025-02-05_11-42-34',\n",
    "                'behavior_758017_2025-02-06_11-26-14',\n",
    "                'behavior_758017_2025-02-07_14-11-08']"
   ]
  },
  {
   "cell_type": "code",
   "execution_count": 4,
   "metadata": {},
   "outputs": [],
   "source": [
    "session_list = ['behavior_751004_2024-12-19_11-50-37',\n",
    "'behavior_751004_2024-12-20_13-26-11',\n",
    "'behavior_751004_2024-12-21_13-28-28',\n",
    "'behavior_751004_2024-12-22_13-09-17',\n",
    "'behavior_751004_2024-12-23_14-20-03']\n"
   ]
  },
  {
   "cell_type": "code",
   "execution_count": 3,
   "metadata": {},
   "outputs": [],
   "source": [
    "session_assets = pd.read_csv('/root/capsule/code/data_management/session_assets.csv')\n",
    "session_list = session_assets['session_id']"
   ]
  },
  {
   "cell_type": "code",
   "execution_count": 4,
   "metadata": {},
   "outputs": [
    {
     "data": {
      "text/plain": [
       "['behavior_751004_2024-12-19_11-50-37',\n",
       " 'behavior_751004_2024-12-20_13-26-11',\n",
       " 'behavior_751004_2024-12-21_13-28-28',\n",
       " 'behavior_751004_2024-12-22_13-09-17',\n",
       " 'behavior_751004_2024-12-23_14-20-03']"
      ]
     },
     "execution_count": 4,
     "metadata": {},
     "output_type": "execute_result"
    }
   ],
   "source": [
    "aniIDs = ['751004']\n",
    "session_list = [session for session in session_list if any(aniID in session for aniID in aniIDs)]\n",
    "session_list"
   ]
  },
  {
   "cell_type": "code",
   "execution_count": 2,
   "metadata": {},
   "outputs": [],
   "source": [
    "session_list = ['behavior_751766_2025-02-11_11-53-38',\n",
    "                'behavior_751766_2025-02-14_11-37-11',\n",
    "                'behavior_751769_2025-01-16_11-32-05',\n",
    "                'behavior_751769_2025-01-17_11-37-39',\n",
    "                'behavior_751769_2025-01-18_10-15-25',]"
   ]
  },
  {
   "cell_type": "code",
   "execution_count": 3,
   "metadata": {},
   "outputs": [
    {
     "name": "stdout",
     "output_type": "stream",
     "text": [
      "Combined PDF saved as: /root/capsule/scratch/751766/behavior_751766_2025-02-11_11-53-38/ephys/opto/raw/behavior_751766_2025-02-11_11-53-38_opto_tagging_png.pdf\n",
      "Combined PDF saved as: /root/capsule/scratch/751766/behavior_751766_2025-02-14_11-37-11/ephys/opto/raw/behavior_751766_2025-02-14_11-37-11_opto_tagging_png.pdf\n",
      "Combined PDF saved as: /root/capsule/scratch/751769/behavior_751769_2025-01-16_11-32-05/ephys/opto/raw/behavior_751769_2025-01-16_11-32-05_opto_tagging_png.pdf\n",
      "Combined PDF saved as: /root/capsule/scratch/751769/behavior_751769_2025-01-17_11-37-39/ephys/opto/raw/behavior_751769_2025-01-17_11-37-39_opto_tagging_png.pdf\n",
      "Combined PDF saved as: /root/capsule/scratch/751769/behavior_751769_2025-01-18_10-15-25/ephys/opto/raw/behavior_751769_2025-01-18_10-15-25_opto_tagging_png.pdf\n"
     ]
    }
   ],
   "source": [
    "data_type = 'raw'\n",
    "for session in session_list:\n",
    "    pdf_dir = session_dirs(session)[f'opto_dir_fig_{data_type}']\n",
    "    output_pdf = os.path.join(session_dirs(session)[f'opto_dir_{data_type}'], f'{session}_opto_tagging_png.pdf')\n",
    "    combine_pdf_big(pdf_dir, output_pdf)"
   ]
  },
  {
   "cell_type": "code",
   "execution_count": 6,
   "metadata": {},
   "outputs": [],
   "source": [
    "from joblib import Parallel, delayed\n",
    "# session_list = ['behavior_717121_2024-06-15_10-00-58',\n",
    "#                 'behavior_716325_2024-05-31_10-31-14']\n",
    "data_type = 'curated'\n",
    "def process(session, data_type='raw'):\n",
    "    # beh_and_time_alignment(session)\n",
    "    ephys_opto_preprocessing(session, data_type, 'soma')\n",
    "    # ephys_opto_crosscorr(session, data_type)\n",
    "    # opto_wf_preprocessing(session, data_type, 'soma', load_sorting_analyzer=True)\n",
    "    \n",
    "    plt.close('all')\n",
    "    opto_tagging_df = opto_plotting_session(session, data_type, 'soma', plot=True, resp_thresh=0.4, lat_thresh=0.02)\n",
    "    plt.close('all')\n",
    "    opto_tagged_spike_stability(session, data_type, 'soma', opto_tagging_df=opto_tagging_df)\n",
    "\n",
    "# Parallel(n_jobs=3)(delayed(process)(session) for session in session_list)\n"
   ]
  },
  {
   "cell_type": "code",
   "execution_count": 7,
   "metadata": {},
   "outputs": [
    {
     "name": "stdout",
     "output_type": "stream",
     "text": [
      "behavior_716325_2024-05-31_10-31-14\n"
     ]
    },
    {
     "name": "stderr",
     "output_type": "stream",
     "text": [
      "/opt/conda/lib/python3.9/site-packages/spikeinterface/core/base.py:1129: UserWarning: Versions are not the same. This might lead to compatibility errors. Using spikeinterface==0.100.0 is recommended\n",
      "  warnings.warn(\n",
      "/opt/conda/lib/python3.9/site-packages/spikeinterface/core/waveforms_extractor_backwards_compatibility.py:650: UserWarning: Removing legacy parameter return_scaled from spike_amplitudes extension\n",
      "  warnings.warn(f\"Removing legacy parameter {p} from {old_name} extension\")\n",
      "/opt/conda/lib/python3.9/site-packages/spikeinterface/core/waveforms_extractor_backwards_compatibility.py:650: UserWarning: Removing legacy parameter method_kwargs from unit_locations extension\n",
      "  warnings.warn(f\"Removing legacy parameter {p} from {old_name} extension\")\n",
      "/opt/conda/lib/python3.9/site-packages/spikeinterface/core/waveforms_extractor_backwards_compatibility.py:650: UserWarning: Removing legacy parameter sparsity from quality_metrics extension\n",
      "  warnings.warn(f\"Removing legacy parameter {p} from {old_name} extension\")\n",
      "/opt/conda/lib/python3.9/site-packages/spikeinterface/core/waveforms_extractor_backwards_compatibility.py:650: UserWarning: Removing legacy parameter random_chunk_kwargs_dict from quality_metrics extension\n",
      "  warnings.warn(f\"Removing legacy parameter {p} from {old_name} extension\")\n",
      "/opt/conda/lib/python3.9/site-packages/spikeinterface/core/waveforms_extractor_backwards_compatibility.py:650: UserWarning: Removing legacy parameter sparsity from principal_components extension\n",
      "  warnings.warn(f\"Removing legacy parameter {p} from {old_name} extension\")\n",
      "/opt/conda/lib/python3.9/site-packages/spikeinterface/core/waveforms_extractor_backwards_compatibility.py:650: UserWarning: Removing legacy parameter tmp_folder from principal_components extension\n",
      "  warnings.warn(f\"Removing legacy parameter {p} from {old_name} extension\")\n",
      "/opt/conda/lib/python3.9/site-packages/spikeinterface/core/base.py:1129: UserWarning: Versions are not the same. This might lead to compatibility errors. Using spikeinterface==0.100.0 is recommended\n",
      "  warnings.warn(\n",
      "/opt/conda/lib/python3.9/site-packages/spikeinterface/core/waveforms_extractor_backwards_compatibility.py:650: UserWarning: Removing legacy parameter return_scaled from spike_amplitudes extension\n",
      "  warnings.warn(f\"Removing legacy parameter {p} from {old_name} extension\")\n",
      "/opt/conda/lib/python3.9/site-packages/spikeinterface/core/waveforms_extractor_backwards_compatibility.py:650: UserWarning: Removing legacy parameter method_kwargs from unit_locations extension\n",
      "  warnings.warn(f\"Removing legacy parameter {p} from {old_name} extension\")\n",
      "/opt/conda/lib/python3.9/site-packages/spikeinterface/core/waveforms_extractor_backwards_compatibility.py:650: UserWarning: Removing legacy parameter sparsity from quality_metrics extension\n",
      "  warnings.warn(f\"Removing legacy parameter {p} from {old_name} extension\")\n",
      "/opt/conda/lib/python3.9/site-packages/spikeinterface/core/waveforms_extractor_backwards_compatibility.py:650: UserWarning: Removing legacy parameter random_chunk_kwargs_dict from quality_metrics extension\n",
      "  warnings.warn(f\"Removing legacy parameter {p} from {old_name} extension\")\n",
      "/opt/conda/lib/python3.9/site-packages/spikeinterface/core/waveforms_extractor_backwards_compatibility.py:650: UserWarning: Removing legacy parameter sparsity from principal_components extension\n",
      "  warnings.warn(f\"Removing legacy parameter {p} from {old_name} extension\")\n",
      "/opt/conda/lib/python3.9/site-packages/spikeinterface/core/waveforms_extractor_backwards_compatibility.py:650: UserWarning: Removing legacy parameter tmp_folder from principal_components extension\n",
      "  warnings.warn(f\"Removing legacy parameter {p} from {old_name} extension\")\n",
      "/opt/conda/lib/python3.9/site-packages/spikeinterface/core/base.py:1129: UserWarning: Versions are not the same. This might lead to compatibility errors. Using spikeinterface==0.100.1 is recommended\n",
      "  warnings.warn(\n",
      "/opt/conda/lib/python3.9/site-packages/spikeinterface/core/job_tools.py:103: UserWarning: `n_jobs` is not set so parallel processing is disabled! To speed up computations, it is recommended to set n_jobs either globally (with the `spikeinterface.set_global_job_kwargs()` function) or locally (with the `n_jobs` argument). Use `spikeinterface.set_global_job_kwargs?` for more information about job_kwargs.\n",
      "  warnings.warn(\n",
      "/opt/conda/lib/python3.9/site-packages/spikeinterface/core/base.py:1129: UserWarning: Versions are not the same. This might lead to compatibility errors. Using spikeinterface==0.100.0 is recommended\n",
      "  warnings.warn(\n",
      "/opt/conda/lib/python3.9/site-packages/spikeinterface/core/waveforms_extractor_backwards_compatibility.py:650: UserWarning: Removing legacy parameter return_scaled from spike_amplitudes extension\n",
      "  warnings.warn(f\"Removing legacy parameter {p} from {old_name} extension\")\n",
      "/opt/conda/lib/python3.9/site-packages/spikeinterface/core/waveforms_extractor_backwards_compatibility.py:650: UserWarning: Removing legacy parameter method_kwargs from unit_locations extension\n",
      "  warnings.warn(f\"Removing legacy parameter {p} from {old_name} extension\")\n",
      "/opt/conda/lib/python3.9/site-packages/spikeinterface/core/waveforms_extractor_backwards_compatibility.py:650: UserWarning: Removing legacy parameter sparsity from quality_metrics extension\n",
      "  warnings.warn(f\"Removing legacy parameter {p} from {old_name} extension\")\n",
      "/opt/conda/lib/python3.9/site-packages/spikeinterface/core/waveforms_extractor_backwards_compatibility.py:650: UserWarning: Removing legacy parameter random_chunk_kwargs_dict from quality_metrics extension\n",
      "  warnings.warn(f\"Removing legacy parameter {p} from {old_name} extension\")\n",
      "/opt/conda/lib/python3.9/site-packages/spikeinterface/core/waveforms_extractor_backwards_compatibility.py:650: UserWarning: Removing legacy parameter sparsity from principal_components extension\n",
      "  warnings.warn(f\"Removing legacy parameter {p} from {old_name} extension\")\n",
      "/opt/conda/lib/python3.9/site-packages/spikeinterface/core/waveforms_extractor_backwards_compatibility.py:650: UserWarning: Removing legacy parameter tmp_folder from principal_components extension\n",
      "  warnings.warn(f\"Removing legacy parameter {p} from {old_name} extension\")\n",
      "/opt/conda/lib/python3.9/site-packages/spikeinterface/core/base.py:1129: UserWarning: Versions are not the same. This might lead to compatibility errors. Using spikeinterface==0.100.1 is recommended\n",
      "  warnings.warn(\n",
      "/opt/conda/lib/python3.9/site-packages/spikeinterface/core/job_tools.py:103: UserWarning: `n_jobs` is not set so parallel processing is disabled! To speed up computations, it is recommended to set n_jobs either globally (with the `spikeinterface.set_global_job_kwargs()` function) or locally (with the `n_jobs` argument). Use `spikeinterface.set_global_job_kwargs?` for more information about job_kwargs.\n",
      "  warnings.warn(\n",
      "/opt/conda/lib/python3.9/site-packages/spikeinterface/core/base.py:1129: UserWarning: Versions are not the same. This might lead to compatibility errors. Using spikeinterface==0.100.1 is recommended\n",
      "  warnings.warn(\n",
      "/opt/conda/lib/python3.9/site-packages/spikeinterface/core/base.py:1129: UserWarning: Versions are not the same. This might lead to compatibility errors. Using spikeinterface==0.100.0 is recommended\n",
      "  warnings.warn(\n",
      "/opt/conda/lib/python3.9/site-packages/spikeinterface/core/waveforms_extractor_backwards_compatibility.py:650: UserWarning: Removing legacy parameter return_scaled from spike_amplitudes extension\n",
      "  warnings.warn(f\"Removing legacy parameter {p} from {old_name} extension\")\n",
      "/opt/conda/lib/python3.9/site-packages/spikeinterface/core/waveforms_extractor_backwards_compatibility.py:650: UserWarning: Removing legacy parameter method_kwargs from unit_locations extension\n",
      "  warnings.warn(f\"Removing legacy parameter {p} from {old_name} extension\")\n",
      "/opt/conda/lib/python3.9/site-packages/spikeinterface/core/waveforms_extractor_backwards_compatibility.py:650: UserWarning: Removing legacy parameter sparsity from quality_metrics extension\n",
      "  warnings.warn(f\"Removing legacy parameter {p} from {old_name} extension\")\n",
      "/opt/conda/lib/python3.9/site-packages/spikeinterface/core/waveforms_extractor_backwards_compatibility.py:650: UserWarning: Removing legacy parameter random_chunk_kwargs_dict from quality_metrics extension\n",
      "  warnings.warn(f\"Removing legacy parameter {p} from {old_name} extension\")\n",
      "/opt/conda/lib/python3.9/site-packages/spikeinterface/core/waveforms_extractor_backwards_compatibility.py:650: UserWarning: Removing legacy parameter sparsity from principal_components extension\n",
      "  warnings.warn(f\"Removing legacy parameter {p} from {old_name} extension\")\n",
      "/opt/conda/lib/python3.9/site-packages/spikeinterface/core/waveforms_extractor_backwards_compatibility.py:650: UserWarning: Removing legacy parameter tmp_folder from principal_components extension\n",
      "  warnings.warn(f\"Removing legacy parameter {p} from {old_name} extension\")\n"
     ]
    },
    {
     "data": {
      "application/json": {
       "ascii": false,
       "bar_format": null,
       "colour": null,
       "elapsed": 0.010461807250976562,
       "initial": 0,
       "n": 0,
       "ncols": null,
       "nrows": null,
       "postfix": null,
       "prefix": "compute_waveforms",
       "rate": null,
       "total": 7025,
       "unit": "it",
       "unit_divisor": 1000,
       "unit_scale": false
      },
      "application/vnd.jupyter.widget-view+json": {
       "model_id": "0227e69ae62846968698d3cf7b8b1522",
       "version_major": 2,
       "version_minor": 0
      },
      "text/plain": [
       "compute_waveforms:   0%|          | 0/7025 [00:00<?, ?it/s]"
      ]
     },
     "metadata": {},
     "output_type": "display_data"
    },
    {
     "name": "stderr",
     "output_type": "stream",
     "text": [
      "/opt/conda/lib/python3.9/site-packages/numpy/lib/function_base.py:2897: RuntimeWarning: invalid value encountered in divide\n",
      "  c /= stddev[:, None]\n",
      "/opt/conda/lib/python3.9/site-packages/numpy/lib/function_base.py:2898: RuntimeWarning: invalid value encountered in divide\n",
      "  c /= stddev[None, :]\n",
      "/opt/conda/lib/python3.9/site-packages/spikeinterface/core/base.py:1129: UserWarning: Versions are not the same. This might lead to compatibility errors. Using spikeinterface==0.100.1 is recommended\n",
      "  warnings.warn(\n",
      "/opt/conda/lib/python3.9/site-packages/spikeinterface/core/base.py:1129: UserWarning: Versions are not the same. This might lead to compatibility errors. Using spikeinterface==0.100.0 is recommended\n",
      "  warnings.warn(\n",
      "/opt/conda/lib/python3.9/site-packages/spikeinterface/core/waveforms_extractor_backwards_compatibility.py:650: UserWarning: Removing legacy parameter return_scaled from spike_amplitudes extension\n",
      "  warnings.warn(f\"Removing legacy parameter {p} from {old_name} extension\")\n",
      "/opt/conda/lib/python3.9/site-packages/spikeinterface/core/waveforms_extractor_backwards_compatibility.py:650: UserWarning: Removing legacy parameter method_kwargs from unit_locations extension\n",
      "  warnings.warn(f\"Removing legacy parameter {p} from {old_name} extension\")\n",
      "/opt/conda/lib/python3.9/site-packages/spikeinterface/core/waveforms_extractor_backwards_compatibility.py:650: UserWarning: Removing legacy parameter sparsity from quality_metrics extension\n",
      "  warnings.warn(f\"Removing legacy parameter {p} from {old_name} extension\")\n",
      "/opt/conda/lib/python3.9/site-packages/spikeinterface/core/waveforms_extractor_backwards_compatibility.py:650: UserWarning: Removing legacy parameter random_chunk_kwargs_dict from quality_metrics extension\n",
      "  warnings.warn(f\"Removing legacy parameter {p} from {old_name} extension\")\n",
      "/opt/conda/lib/python3.9/site-packages/spikeinterface/core/waveforms_extractor_backwards_compatibility.py:650: UserWarning: Removing legacy parameter sparsity from principal_components extension\n",
      "  warnings.warn(f\"Removing legacy parameter {p} from {old_name} extension\")\n",
      "/opt/conda/lib/python3.9/site-packages/spikeinterface/core/waveforms_extractor_backwards_compatibility.py:650: UserWarning: Removing legacy parameter tmp_folder from principal_components extension\n",
      "  warnings.warn(f\"Removing legacy parameter {p} from {old_name} extension\")\n",
      "/root/capsule/code/beh_ephys_analysis/opto_tagging.py:345: FutureWarning: errors='ignore' is deprecated and will raise in a future version. Use to_numeric without passing `errors` and catch exceptions explicitly instead\n",
      "  unit_qc = unit_qc.apply(pd.to_numeric, errors='ignore')\n"
     ]
    },
    {
     "name": "stdout",
     "output_type": "stream",
     "text": [
      "80 out of 359 units pass quality control\n",
      "{'samples_to_keep': [-30, 60], 'y_neighbors_to_keep': 3, 'orginal_loc': False}\n"
     ]
    },
    {
     "name": "stderr",
     "output_type": "stream",
     "text": [
      "/root/capsule/code/beh_ephys_analysis/opto_tagging.py:386: FutureWarning: errors='ignore' is deprecated and will raise in a future version. Use to_numeric without passing `errors` and catch exceptions explicitly instead\n",
      "  opto_wf = opto_wf.apply(pd.to_numeric, errors='ignore')\n"
     ]
    },
    {
     "name": "stdout",
     "output_type": "stream",
     "text": [
      "Merging file 0 out of 359\n",
      "Merging file 50 out of 359\n",
      "Merging file 100 out of 359\n",
      "Merging file 150 out of 359\n",
      "Merging file 200 out of 359\n",
      "Merging file 250 out of 359\n",
      "Merging file 300 out of 359\n",
      "Merging file 350 out of 359\n",
      "PDF files in '/root/capsule/scratch/716325/behavior_716325_2024-05-31_10-31-14/ephys/opto/raw/figures' merged into '/root/capsule/scratch/716325/behavior_716325_2024-05-31_10-31-14/ephys/opto/raw/behavior_716325_2024-05-31_10-31-14_opto_tagging.pdf' successfully.\n",
      "16 out of 359 units pass quality control and opto tagging\n"
     ]
    },
    {
     "name": "stderr",
     "output_type": "stream",
     "text": [
      "/opt/conda/lib/python3.9/site-packages/spikeinterface/core/base.py:1129: UserWarning: Versions are not the same. This might lead to compatibility errors. Using spikeinterface==0.100.0 is recommended\n",
      "  warnings.warn(\n",
      "/opt/conda/lib/python3.9/site-packages/spikeinterface/core/waveforms_extractor_backwards_compatibility.py:650: UserWarning: Removing legacy parameter return_scaled from spike_amplitudes extension\n",
      "  warnings.warn(f\"Removing legacy parameter {p} from {old_name} extension\")\n",
      "/opt/conda/lib/python3.9/site-packages/spikeinterface/core/waveforms_extractor_backwards_compatibility.py:650: UserWarning: Removing legacy parameter method_kwargs from unit_locations extension\n",
      "  warnings.warn(f\"Removing legacy parameter {p} from {old_name} extension\")\n",
      "/opt/conda/lib/python3.9/site-packages/spikeinterface/core/waveforms_extractor_backwards_compatibility.py:650: UserWarning: Removing legacy parameter sparsity from quality_metrics extension\n",
      "  warnings.warn(f\"Removing legacy parameter {p} from {old_name} extension\")\n",
      "/opt/conda/lib/python3.9/site-packages/spikeinterface/core/waveforms_extractor_backwards_compatibility.py:650: UserWarning: Removing legacy parameter random_chunk_kwargs_dict from quality_metrics extension\n",
      "  warnings.warn(f\"Removing legacy parameter {p} from {old_name} extension\")\n",
      "/opt/conda/lib/python3.9/site-packages/spikeinterface/core/waveforms_extractor_backwards_compatibility.py:650: UserWarning: Removing legacy parameter sparsity from principal_components extension\n",
      "  warnings.warn(f\"Removing legacy parameter {p} from {old_name} extension\")\n",
      "/opt/conda/lib/python3.9/site-packages/spikeinterface/core/waveforms_extractor_backwards_compatibility.py:650: UserWarning: Removing legacy parameter tmp_folder from principal_components extension\n",
      "  warnings.warn(f\"Removing legacy parameter {p} from {old_name} extension\")\n",
      "/root/capsule/code/beh_ephys_analysis/opto_tagging.py:457: UserWarning: Boolean Series key will be reindexed to match DataFrame index.\n",
      "  opto_tagging_df_focus = opto_tagging_df_sorted[(opto_tagging_df_sorted['opto_pass'] == True) & (opto_tagging_df['decoder_label'] != 'artifact') & (opto_tagging_df['decoder_label'] != 'noise')].copy()\n"
     ]
    }
   ],
   "source": [
    "process('behavior_716325_2024-05-31_10-31-14')"
   ]
  },
  {
   "cell_type": "code",
   "execution_count": null,
   "metadata": {},
   "outputs": [],
   "source": [
    "\n",
    "Parallel(n_jobs=3)(delayed(process)(session) for session in session_list)"
   ]
  },
  {
   "cell_type": "code",
   "execution_count": 8,
   "metadata": {},
   "outputs": [
    {
     "name": "stderr",
     "output_type": "stream",
     "text": [
      "/root/capsule/code/beh_ephys_analysis/opto_tagging.py:345: FutureWarning: errors='ignore' is deprecated and will raise in a future version. Use to_numeric without passing `errors` and catch exceptions explicitly instead\n",
      "  unit_qc = unit_qc.apply(pd.to_numeric, errors='ignore')\n"
     ]
    },
    {
     "name": "stdout",
     "output_type": "stream",
     "text": [
      "95 out of 271 units pass quality control\n",
      "{'samples_to_keep': [-30, 60], 'y_neighbors_to_keep': 3, 'orginal_loc': False}\n"
     ]
    },
    {
     "name": "stderr",
     "output_type": "stream",
     "text": [
      "/root/capsule/code/beh_ephys_analysis/opto_tagging.py:386: FutureWarning: errors='ignore' is deprecated and will raise in a future version. Use to_numeric without passing `errors` and catch exceptions explicitly instead\n",
      "  opto_wf = opto_wf.apply(pd.to_numeric, errors='ignore')\n"
     ]
    },
    {
     "name": "stdout",
     "output_type": "stream",
     "text": [
      "Merging file 0 out of 271\n",
      "Merging file 50 out of 271\n",
      "Merging file 100 out of 271\n",
      "Merging file 150 out of 271\n",
      "Merging file 200 out of 271\n",
      "Merging file 250 out of 271\n",
      "PDF files in '/root/capsule/scratch/751004/behavior_751004_2024-12-19_11-50-37/ephys/opto/raw/figures' merged into '/root/capsule/scratch/751004/behavior_751004_2024-12-19_11-50-37/ephys/opto/raw/behavior_751004_2024-12-19_11-50-37_opto_tagging.pdf' successfully.\n",
      "5 out of 271 units pass quality control and opto tagging\n"
     ]
    },
    {
     "name": "stderr",
     "output_type": "stream",
     "text": [
      "/root/capsule/code/beh_ephys_analysis/opto_tagging.py:458: UserWarning: Boolean Series key will be reindexed to match DataFrame index.\n",
      "  opto_tagging_df_focus = opto_tagging_df_sorted[(opto_tagging_df_sorted['opto_pass'] == True) & (opto_tagging_df['decoder_label'] != 'artifact') & (opto_tagging_df['decoder_label'] != 'noise')].copy()\n"
     ]
    }
   ],
   "source": [
    "plt.close('all')\n",
    "data_type = 'raw'\n",
    "session = session_list[0]\n",
    "opto_tagging_df = opto_plotting_session(session, data_type, 'soma', plot=True, resp_thresh=0.4, lat_thresh=0.02)\n",
    "plt.close('all')\n",
    "opto_tagged_spike_stability(session, data_type, 'soma', opto_tagging_df=opto_tagging_df)"
   ]
  },
  {
   "cell_type": "code",
   "execution_count": null,
   "metadata": {},
   "outputs": [],
   "source": [
    "for session in session_list:\n",
    "    ephys_opto_preprocessing(session, 'curated', 'soma')\n",
    "    opto_wf_preprocessing(session, 'curated', 'soma', load_sorting_analyzer=False)\n",
    "    opto_plotting_session(session, 'curated', plot=True)\n",
    "    plt.close('all')"
   ]
  },
  {
   "cell_type": "code",
   "execution_count": 7,
   "metadata": {},
   "outputs": [],
   "source": [
    "session = 'behavior_751004_2024-12-20_13-26-11'\n",
    "data_type = 'raw'\n",
    "target = 'soma'\n",
    "target_unit_ids = [16]\n",
    "# pass_df = opto_plotting_session(session, data_type, target, plot=True,  resp_thresh=0.5, lat_thresh=0.015, target_unit_ids=target_unit_ids)"
   ]
  },
  {
   "cell_type": "code",
   "execution_count": null,
   "metadata": {},
   "outputs": [],
   "source": [
    "data_type = 'raw'\n",
    "target = 'soma'\n",
    "for session in session_list:\n",
    "    combine_qc = opto_plotting_session(session, data_type, target, plot=True,  resp_thresh=0.5, lat_thresh=0.015)"
   ]
  },
  {
   "cell_type": "code",
   "execution_count": 8,
   "metadata": {},
   "outputs": [],
   "source": [
    "session_dir = session_dirs(session)\n",
    "opto_wf_csv = os.path.join(session_dir[f'opto_dir_{data_type}'], f'{session}_opto_waveform_metrics.csv')\n",
    "opto_wf = pd.read_csv(opto_wf_csv)"
   ]
  },
  {
   "cell_type": "code",
   "execution_count": 7,
   "metadata": {},
   "outputs": [],
   "source": [
    "pip install ipykernel"
   ]
  }
 ],
 "metadata": {
  "kernelspec": {
   "display_name": "base",
   "language": "python",
   "name": "python3"
  },
  "language_info": {
   "codemirror_mode": {
    "name": "ipython",
    "version": 3
   },
   "file_extension": ".py",
   "mimetype": "text/x-python",
   "name": "python",
   "nbconvert_exporter": "python",
   "pygments_lexer": "ipython3",
   "version": "3.9.12"
  }
 },
 "nbformat": 4,
 "nbformat_minor": 2
}
