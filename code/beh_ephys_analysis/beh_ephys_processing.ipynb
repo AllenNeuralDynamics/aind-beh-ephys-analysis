{
 "cells": [
  {
   "cell_type": "code",
   "execution_count": 1,
   "metadata": {},
   "outputs": [],
   "source": [
    "from behavior_and_time_alignment import beh_and_time_alignment\n",
<<<<<<< HEAD
    "from session_preprocessing import ephys_opto_preprocessing, session_crosscorr\n",
=======
    "from session_preprocessing import ephys_opto_preprocessing, session_crosscorr, ephys_opto_crosscorr\n",
>>>>>>> origin/main
    "from opto_tagging import opto_plotting_session, opto_plotting_unit, opto_tagged_spike_stability\n",
    "from opto_waveforms_preprocessing import opto_wf_preprocessing\n",
    "from drift_analysis import plot_session_opto_drift\n",
    "import matplotlib.pyplot as plt\n",
    "from utils.beh_functions import session_dirs\n",
    "import numpy as np\n",
    "import pandas as pd\n",
    "import os\n",
<<<<<<< HEAD
    "from utils.plot_utils import combine_pdf_big"
=======
    "from utils.plot_utils import combine_pdf_big\n",
    "import spikeinterface as si\n",
    "from joblib import Parallel, delayed"
>>>>>>> origin/main
   ]
  },
  {
   "cell_type": "code",
   "execution_count": 2,
   "metadata": {},
<<<<<<< HEAD
   "outputs": [],
   "source": [
    "session_list = ['behavior_758017_2025-02-04_11-57-38',\n",
    "                'behavior_758017_2025-02-05_11-42-34',\n",
    "                'behavior_758017_2025-02-06_11-26-14',\n",
    "                'behavior_758017_2025-02-07_14-11-08']"
=======
   "outputs": [
    {
     "data": {
      "text/plain": [
       "46    behavior_751181_2025-02-27_11-24-47\n",
       "47    behavior_754897_2025-03-11_12-07-41\n",
       "48    behavior_754897_2025-03-12_12-23-15\n",
       "49    behavior_754897_2025-03-13_11-20-42\n",
       "50    behavior_754897_2025-03-14_11-28-53\n",
       "51    behavior_754897_2025-03-15_11-32-18\n",
       "Name: session_id, dtype: object"
      ]
     },
     "execution_count": 2,
     "metadata": {},
     "output_type": "execute_result"
    }
   ],
   "source": [
    "session_assets = pd.read_csv('/root/capsule/code/data_management/session_assets.csv')\n",
    "session_list = session_assets['session_id']\n",
    "session_list[46:]"
>>>>>>> origin/main
   ]
  },
  {
   "cell_type": "code",
<<<<<<< HEAD
   "execution_count": 3,
   "metadata": {},
   "outputs": [],
   "source": [
    "session_list = ['behavior_751004_2024-12-19_11-50-37',\n",
    "'behavior_751004_2024-12-20_13-26-11',\n",
    "'behavior_751004_2024-12-21_13-28-28',\n",
    "'behavior_751004_2024-12-22_13-09-17',\n",
    "'behavior_751004_2024-12-23_14-20-03']\n"
=======
   "execution_count": 4,
   "metadata": {},
   "outputs": [
    {
     "name": "stdout",
     "output_type": "stream",
     "text": [
      "behavior_754897_2025-03-12_12-23-15\n",
      "Processing 113 files in /root/capsule/scratch/754897/behavior_754897_2025-03-12_12-23-15/ephys/opto/raw/figures\n",
      "Combined PDF saved as: /root/capsule/scratch/754897/behavior_754897_2025-03-12_12-23-15/ephys/opto/raw/behavior_754897_2025-03-12_12-23-15_opto_tagging_png.pdf\n",
      "behavior_754897_2025-03-13_11-20-42\n",
      "Processing 273 files in /root/capsule/scratch/754897/behavior_754897_2025-03-13_11-20-42/ephys/opto/raw/figures\n",
      "Combined PDF saved as: /root/capsule/scratch/754897/behavior_754897_2025-03-13_11-20-42/ephys/opto/raw/behavior_754897_2025-03-13_11-20-42_opto_tagging_png.pdf\n",
      "behavior_754897_2025-03-14_11-28-53\n",
      "Processing 125 files in /root/capsule/scratch/754897/behavior_754897_2025-03-14_11-28-53/ephys/opto/raw/figures\n",
      "Combined PDF saved as: /root/capsule/scratch/754897/behavior_754897_2025-03-14_11-28-53/ephys/opto/raw/behavior_754897_2025-03-14_11-28-53_opto_tagging_png.pdf\n",
      "behavior_754897_2025-03-15_11-32-18\n",
      "Processing 155 files in /root/capsule/scratch/754897/behavior_754897_2025-03-15_11-32-18/ephys/opto/raw/figures\n",
      "Combined PDF saved as: /root/capsule/scratch/754897/behavior_754897_2025-03-15_11-32-18/ephys/opto/raw/behavior_754897_2025-03-15_11-32-18_opto_tagging_png.pdf\n",
      "Failed to process nan\n",
      "Failed to process nan\n"
     ]
    }
   ],
   "source": [
    "# combine opto pdfs\n",
    "data_type = 'curated'\n",
    "def process(session, data_type):\n",
    "    pdf_dir = session_dirs(session)[f'opto_dir_fig_{data_type}']\n",
    "    output_pdf = os.path.join(session_dirs(session)[f'opto_dir_{data_type}'], f'{session}_opto_tagging_png.pdf')\n",
    "    if os.path.exists(pdf_dir) and not os.path.exists(output_pdf):\n",
    "        print(session)\n",
    "        combine_pdf_big(pdf_dir, output_pdf)\n",
    "# Parallel(n_jobs=4)(delayed(process)(session, data_type) for session in session_list)\n",
    "for session in session_list[48:]:\n",
    "    try:\n",
    "        process(session, data_type)\n",
    "        plt.close('all')\n",
    "    except:\n",
    "        print(f'Failed to process {session}')"
>>>>>>> origin/main
   ]
  },
  {
   "cell_type": "code",
<<<<<<< HEAD
   "execution_count": 2,
=======
   "execution_count": null,
>>>>>>> origin/main
   "metadata": {},
   "outputs": [
    {
     "name": "stdout",
     "output_type": "stream",
     "text": [
      "behavior_751004_2024-12-19_11-50-37\n",
<<<<<<< HEAD
      "behavior_751004_2024-12-19_11-50-37\n"
=======
      "Combined PDF saved as: /root/capsule/scratch/751004/behavior_751004_2024-12-19_11-50-37/ephys/opto/curated/behavior_751004_2024-12-19_11-50-37_opto_tagging_png.pdf\n"
>>>>>>> origin/main
     ]
    }
   ],
   "source": [
<<<<<<< HEAD
    "beh_and_time_alignment('behavior_751004_2024-12-19_11-50-37')\n",
    "ephys_opto_preprocessing('behavior_751004_2024-12-19_11-50-37', 'curated', 'soma')\n"
=======
    "process('behavior_751004_2024-12-19_11-50-37', data_type) "
>>>>>>> origin/main
   ]
  },
  {
   "cell_type": "code",
<<<<<<< HEAD
   "execution_count": 3,
   "metadata": {},
   "outputs": [],
   "source": [
    "session_assets = pd.read_csv('/root/capsule/code/data_management/session_assets.csv')\n",
    "session_list = session_assets['session_id']"
=======
   "execution_count": 5,
   "metadata": {},
   "outputs": [
    {
     "ename": "MemoryError",
     "evalue": "std::bad_alloc",
     "output_type": "error",
     "traceback": [
      "\u001b[0;31m---------------------------------------------------------------------------\u001b[0m",
      "\u001b[0;31mMemoryError\u001b[0m                               Traceback (most recent call last)",
      "\u001b[1;32m/root/capsule/code/beh_ephys_analysis/beh_ephys_processing.ipynb Cell 5\u001b[0m line \u001b[0;36m4\n\u001b[1;32m     <a href='vscode-notebook-cell://codeocean.allenneuraldynamics.org/root/capsule/code/beh_ephys_analysis/beh_ephys_processing.ipynb#W4sdnNjb2RlLXJlbW90ZQ%3D%3D?line=38'>39</a>\u001b[0m \u001b[39mif\u001b[39;00m session_dir[\u001b[39m'\u001b[39m\u001b[39mcurated_dir_curated\u001b[39m\u001b[39m'\u001b[39m] \u001b[39mis\u001b[39;00m \u001b[39mnot\u001b[39;00m \u001b[39mNone\u001b[39;00m:\n\u001b[1;32m     <a href='vscode-notebook-cell://codeocean.allenneuraldynamics.org/root/capsule/code/beh_ephys_analysis/beh_ephys_processing.ipynb#W4sdnNjb2RlLXJlbW90ZQ%3D%3D?line=39'>40</a>\u001b[0m     \u001b[39mprint\u001b[39m(\u001b[39m'\u001b[39m\u001b[39mCurated\u001b[39m\u001b[39m'\u001b[39m)\n\u001b[0;32m---> <a href='vscode-notebook-cell://codeocean.allenneuraldynamics.org/root/capsule/code/beh_ephys_analysis/beh_ephys_processing.ipynb#W4sdnNjb2RlLXJlbW90ZQ%3D%3D?line=40'>41</a>\u001b[0m     process(session, data_type\u001b[39m=\u001b[39;49m\u001b[39m'\u001b[39;49m\u001b[39mcurated\u001b[39;49m\u001b[39m'\u001b[39;49m) \n\u001b[1;32m     <a href='vscode-notebook-cell://codeocean.allenneuraldynamics.org/root/capsule/code/beh_ephys_analysis/beh_ephys_processing.ipynb#W4sdnNjb2RlLXJlbW90ZQ%3D%3D?line=41'>42</a>\u001b[0m \u001b[39m# elif  session_dir['curated_dir_raw'] is not None:\u001b[39;00m\n\u001b[1;32m     <a href='vscode-notebook-cell://codeocean.allenneuraldynamics.org/root/capsule/code/beh_ephys_analysis/beh_ephys_processing.ipynb#W4sdnNjb2RlLXJlbW90ZQ%3D%3D?line=42'>43</a>\u001b[0m \u001b[39m#     print('Raw')\u001b[39;00m\n\u001b[1;32m     <a href='vscode-notebook-cell://codeocean.allenneuraldynamics.org/root/capsule/code/beh_ephys_analysis/beh_ephys_processing.ipynb#W4sdnNjb2RlLXJlbW90ZQ%3D%3D?line=43'>44</a>\u001b[0m \u001b[39m#     process(session, data_type='raw')\u001b[39;00m\n",
      "\u001b[1;32m/root/capsule/code/beh_ephys_analysis/beh_ephys_processing.ipynb Cell 5\u001b[0m line \u001b[0;36m1\n\u001b[1;32m      <a href='vscode-notebook-cell://codeocean.allenneuraldynamics.org/root/capsule/code/beh_ephys_analysis/beh_ephys_processing.ipynb#W4sdnNjb2RlLXJlbW90ZQ%3D%3D?line=7'>8</a>\u001b[0m \u001b[39m# beh_and_time_alignment(session) # plot behavior, check alignment between behavior, sound, and ephys\u001b[39;00m\n\u001b[1;32m      <a href='vscode-notebook-cell://codeocean.allenneuraldynamics.org/root/capsule/code/beh_ephys_analysis/beh_ephys_processing.ipynb#W4sdnNjb2RlLXJlbW90ZQ%3D%3D?line=8'>9</a>\u001b[0m plt\u001b[39m.\u001b[39mclose(\u001b[39m'\u001b[39m\u001b[39mall\u001b[39m\u001b[39m'\u001b[39m)\n\u001b[0;32m---> <a href='vscode-notebook-cell://codeocean.allenneuraldynamics.org/root/capsule/code/beh_ephys_analysis/beh_ephys_processing.ipynb#W4sdnNjb2RlLXJlbW90ZQ%3D%3D?line=9'>10</a>\u001b[0m ephys_opto_preprocessing(session, data_type, \u001b[39m'\u001b[39;49m\u001b[39msoma\u001b[39;49m\u001b[39m'\u001b[39;49m) \n\u001b[1;32m     <a href='vscode-notebook-cell://codeocean.allenneuraldynamics.org/root/capsule/code/beh_ephys_analysis/beh_ephys_processing.ipynb#W4sdnNjb2RlLXJlbW90ZQ%3D%3D?line=10'>11</a>\u001b[0m \u001b[39m# redo spiketimes if not aligned, make opto_table (laser time in nidaq); \u001b[39;00m\n\u001b[1;32m     <a href='vscode-notebook-cell://codeocean.allenneuraldynamics.org/root/capsule/code/beh_ephys_analysis/beh_ephys_processing.ipynb#W4sdnNjb2RlLXJlbW90ZQ%3D%3D?line=11'>12</a>\u001b[0m \u001b[39m# generate a pkl file with opto_resp/lat to each condition\u001b[39;00m\n\u001b[1;32m     <a href='vscode-notebook-cell://codeocean.allenneuraldynamics.org/root/capsule/code/beh_ephys_analysis/beh_ephys_processing.ipynb#W4sdnNjb2RlLXJlbW90ZQ%3D%3D?line=12'>13</a>\u001b[0m plt\u001b[39m.\u001b[39mclose(\u001b[39m'\u001b[39m\u001b[39mall\u001b[39m\u001b[39m'\u001b[39m)\n",
      "File \u001b[0;32m~/capsule/code/beh_ephys_analysis/session_preprocessing.py:170\u001b[0m, in \u001b[0;36mephys_opto_preprocessing\u001b[0;34m(session, data_type, target)\u001b[0m\n\u001b[1;32m    168\u001b[0m plt\u001b[39m.\u001b[39mtitle(\u001b[39m'\u001b[39m\u001b[39mSample numbers\u001b[39m\u001b[39m'\u001b[39m)\n\u001b[1;32m    169\u001b[0m plt\u001b[39m.\u001b[39msuptitle(\u001b[39mf\u001b[39m\u001b[39m'\u001b[39m\u001b[39m{\u001b[39;00msession\u001b[39m}\u001b[39;00m\u001b[39m s: length \u001b[39m\u001b[39m{\u001b[39;00m\u001b[39mlen\u001b[39m(timestamps)\u001b[39m/\u001b[39m\u001b[39m30000\u001b[39m\u001b[39m}\u001b[39;00m\u001b[39m s\u001b[39m\u001b[39m'\u001b[39m)\n\u001b[0;32m--> 170\u001b[0m plt\u001b[39m.\u001b[39;49msavefig(os\u001b[39m.\u001b[39;49mpath\u001b[39m.\u001b[39;49mjoin(session_dir[\u001b[39m'\u001b[39;49m\u001b[39malignment_dir\u001b[39;49m\u001b[39m'\u001b[39;49m], \u001b[39mf\u001b[39;49m\u001b[39m'\u001b[39;49m\u001b[39m{\u001b[39;49;00msession\u001b[39m}\u001b[39;49;00m\u001b[39m_timestamps.pdf\u001b[39;49m\u001b[39m'\u001b[39;49m))\n\u001b[1;32m    171\u001b[0m plt\u001b[39m.\u001b[39mshow()\n\u001b[1;32m    172\u001b[0m qm[\u001b[39m'\u001b[39m\u001b[39mephys_local_sync\u001b[39m\u001b[39m'\u001b[39m] \u001b[39m=\u001b[39m \u001b[39mTrue\u001b[39;00m\n",
      "File \u001b[0;32m/opt/conda/lib/python3.10/site-packages/matplotlib/pyplot.py:1228\u001b[0m, in \u001b[0;36msavefig\u001b[0;34m(*args, **kwargs)\u001b[0m\n\u001b[1;32m   1225\u001b[0m fig \u001b[39m=\u001b[39m gcf()\n\u001b[1;32m   1226\u001b[0m \u001b[39m# savefig default implementation has no return, so mypy is unhappy\u001b[39;00m\n\u001b[1;32m   1227\u001b[0m \u001b[39m# presumably this is here because subclasses can return?\u001b[39;00m\n\u001b[0;32m-> 1228\u001b[0m res \u001b[39m=\u001b[39m fig\u001b[39m.\u001b[39;49msavefig(\u001b[39m*\u001b[39;49margs, \u001b[39m*\u001b[39;49m\u001b[39m*\u001b[39;49mkwargs)  \u001b[39m# type: ignore[func-returns-value]\u001b[39;00m\n\u001b[1;32m   1229\u001b[0m fig\u001b[39m.\u001b[39mcanvas\u001b[39m.\u001b[39mdraw_idle()  \u001b[39m# Need this if 'transparent=True', to reset colors.\u001b[39;00m\n\u001b[1;32m   1230\u001b[0m \u001b[39mreturn\u001b[39;00m res\n",
      "File \u001b[0;32m/opt/conda/lib/python3.10/site-packages/matplotlib/figure.py:3395\u001b[0m, in \u001b[0;36mFigure.savefig\u001b[0;34m(self, fname, transparent, **kwargs)\u001b[0m\n\u001b[1;32m   3393\u001b[0m     \u001b[39mfor\u001b[39;00m ax \u001b[39min\u001b[39;00m \u001b[39mself\u001b[39m\u001b[39m.\u001b[39maxes:\n\u001b[1;32m   3394\u001b[0m         _recursively_make_axes_transparent(stack, ax)\n\u001b[0;32m-> 3395\u001b[0m \u001b[39mself\u001b[39;49m\u001b[39m.\u001b[39;49mcanvas\u001b[39m.\u001b[39;49mprint_figure(fname, \u001b[39m*\u001b[39;49m\u001b[39m*\u001b[39;49mkwargs)\n",
      "File \u001b[0;32m/opt/conda/lib/python3.10/site-packages/matplotlib/backend_bases.py:2204\u001b[0m, in \u001b[0;36mFigureCanvasBase.print_figure\u001b[0;34m(self, filename, dpi, facecolor, edgecolor, orientation, format, bbox_inches, pad_inches, bbox_extra_artists, backend, **kwargs)\u001b[0m\n\u001b[1;32m   2200\u001b[0m \u001b[39mtry\u001b[39;00m:\n\u001b[1;32m   2201\u001b[0m     \u001b[39m# _get_renderer may change the figure dpi (as vector formats\u001b[39;00m\n\u001b[1;32m   2202\u001b[0m     \u001b[39m# force the figure dpi to 72), so we need to set it again here.\u001b[39;00m\n\u001b[1;32m   2203\u001b[0m     \u001b[39mwith\u001b[39;00m cbook\u001b[39m.\u001b[39m_setattr_cm(\u001b[39mself\u001b[39m\u001b[39m.\u001b[39mfigure, dpi\u001b[39m=\u001b[39mdpi):\n\u001b[0;32m-> 2204\u001b[0m         result \u001b[39m=\u001b[39m print_method(\n\u001b[1;32m   2205\u001b[0m             filename,\n\u001b[1;32m   2206\u001b[0m             facecolor\u001b[39m=\u001b[39;49mfacecolor,\n\u001b[1;32m   2207\u001b[0m             edgecolor\u001b[39m=\u001b[39;49medgecolor,\n\u001b[1;32m   2208\u001b[0m             orientation\u001b[39m=\u001b[39;49morientation,\n\u001b[1;32m   2209\u001b[0m             bbox_inches_restore\u001b[39m=\u001b[39;49m_bbox_inches_restore,\n\u001b[1;32m   2210\u001b[0m             \u001b[39m*\u001b[39;49m\u001b[39m*\u001b[39;49mkwargs)\n\u001b[1;32m   2211\u001b[0m \u001b[39mfinally\u001b[39;00m:\n\u001b[1;32m   2212\u001b[0m     \u001b[39mif\u001b[39;00m bbox_inches \u001b[39mand\u001b[39;00m restore_bbox:\n",
      "File \u001b[0;32m/opt/conda/lib/python3.10/site-packages/matplotlib/backend_bases.py:2054\u001b[0m, in \u001b[0;36mFigureCanvasBase._switch_canvas_and_return_print_method.<locals>.<lambda>\u001b[0;34m(*args, **kwargs)\u001b[0m\n\u001b[1;32m   2050\u001b[0m     optional_kws \u001b[39m=\u001b[39m {  \u001b[39m# Passed by print_figure for other renderers.\u001b[39;00m\n\u001b[1;32m   2051\u001b[0m         \u001b[39m\"\u001b[39m\u001b[39mdpi\u001b[39m\u001b[39m\"\u001b[39m, \u001b[39m\"\u001b[39m\u001b[39mfacecolor\u001b[39m\u001b[39m\"\u001b[39m, \u001b[39m\"\u001b[39m\u001b[39medgecolor\u001b[39m\u001b[39m\"\u001b[39m, \u001b[39m\"\u001b[39m\u001b[39morientation\u001b[39m\u001b[39m\"\u001b[39m,\n\u001b[1;32m   2052\u001b[0m         \u001b[39m\"\u001b[39m\u001b[39mbbox_inches_restore\u001b[39m\u001b[39m\"\u001b[39m}\n\u001b[1;32m   2053\u001b[0m     skip \u001b[39m=\u001b[39m optional_kws \u001b[39m-\u001b[39m {\u001b[39m*\u001b[39minspect\u001b[39m.\u001b[39msignature(meth)\u001b[39m.\u001b[39mparameters}\n\u001b[0;32m-> 2054\u001b[0m     print_method \u001b[39m=\u001b[39m functools\u001b[39m.\u001b[39mwraps(meth)(\u001b[39mlambda\u001b[39;00m \u001b[39m*\u001b[39margs, \u001b[39m*\u001b[39m\u001b[39m*\u001b[39mkwargs: meth(\n\u001b[1;32m   2055\u001b[0m         \u001b[39m*\u001b[39;49margs, \u001b[39m*\u001b[39;49m\u001b[39m*\u001b[39;49m{k: v \u001b[39mfor\u001b[39;49;00m k, v \u001b[39min\u001b[39;49;00m kwargs\u001b[39m.\u001b[39;49mitems() \u001b[39mif\u001b[39;49;00m k \u001b[39mnot\u001b[39;49;00m \u001b[39min\u001b[39;49;00m skip}))\n\u001b[1;32m   2056\u001b[0m \u001b[39melse\u001b[39;00m:  \u001b[39m# Let third-parties do as they see fit.\u001b[39;00m\n\u001b[1;32m   2057\u001b[0m     print_method \u001b[39m=\u001b[39m meth\n",
      "File \u001b[0;32m/opt/conda/lib/python3.10/site-packages/matplotlib/backends/backend_pdf.py:2799\u001b[0m, in \u001b[0;36mFigureCanvasPdf.print_pdf\u001b[0;34m(self, filename, bbox_inches_restore, metadata)\u001b[0m\n\u001b[1;32m   2794\u001b[0m file\u001b[39m.\u001b[39mnewPage(width, height)\n\u001b[1;32m   2795\u001b[0m renderer \u001b[39m=\u001b[39m MixedModeRenderer(\n\u001b[1;32m   2796\u001b[0m     \u001b[39mself\u001b[39m\u001b[39m.\u001b[39mfigure, width, height, dpi,\n\u001b[1;32m   2797\u001b[0m     RendererPdf(file, dpi, height, width),\n\u001b[1;32m   2798\u001b[0m     bbox_inches_restore\u001b[39m=\u001b[39mbbox_inches_restore)\n\u001b[0;32m-> 2799\u001b[0m \u001b[39mself\u001b[39;49m\u001b[39m.\u001b[39;49mfigure\u001b[39m.\u001b[39;49mdraw(renderer)\n\u001b[1;32m   2800\u001b[0m renderer\u001b[39m.\u001b[39mfinalize()\n\u001b[1;32m   2801\u001b[0m \u001b[39mif\u001b[39;00m \u001b[39mnot\u001b[39;00m \u001b[39misinstance\u001b[39m(filename, PdfPages):\n",
      "File \u001b[0;32m/opt/conda/lib/python3.10/site-packages/matplotlib/artist.py:95\u001b[0m, in \u001b[0;36m_finalize_rasterization.<locals>.draw_wrapper\u001b[0;34m(artist, renderer, *args, **kwargs)\u001b[0m\n\u001b[1;32m     93\u001b[0m \u001b[39m@wraps\u001b[39m(draw)\n\u001b[1;32m     94\u001b[0m \u001b[39mdef\u001b[39;00m\u001b[39m \u001b[39m\u001b[39mdraw_wrapper\u001b[39m(artist, renderer, \u001b[39m*\u001b[39margs, \u001b[39m*\u001b[39m\u001b[39m*\u001b[39mkwargs):\n\u001b[0;32m---> 95\u001b[0m     result \u001b[39m=\u001b[39m draw(artist, renderer, \u001b[39m*\u001b[39;49margs, \u001b[39m*\u001b[39;49m\u001b[39m*\u001b[39;49mkwargs)\n\u001b[1;32m     96\u001b[0m     \u001b[39mif\u001b[39;00m renderer\u001b[39m.\u001b[39m_rasterizing:\n\u001b[1;32m     97\u001b[0m         renderer\u001b[39m.\u001b[39mstop_rasterizing()\n",
      "File \u001b[0;32m/opt/conda/lib/python3.10/site-packages/matplotlib/artist.py:72\u001b[0m, in \u001b[0;36mallow_rasterization.<locals>.draw_wrapper\u001b[0;34m(artist, renderer)\u001b[0m\n\u001b[1;32m     69\u001b[0m     \u001b[39mif\u001b[39;00m artist\u001b[39m.\u001b[39mget_agg_filter() \u001b[39mis\u001b[39;00m \u001b[39mnot\u001b[39;00m \u001b[39mNone\u001b[39;00m:\n\u001b[1;32m     70\u001b[0m         renderer\u001b[39m.\u001b[39mstart_filter()\n\u001b[0;32m---> 72\u001b[0m     \u001b[39mreturn\u001b[39;00m draw(artist, renderer)\n\u001b[1;32m     73\u001b[0m \u001b[39mfinally\u001b[39;00m:\n\u001b[1;32m     74\u001b[0m     \u001b[39mif\u001b[39;00m artist\u001b[39m.\u001b[39mget_agg_filter() \u001b[39mis\u001b[39;00m \u001b[39mnot\u001b[39;00m \u001b[39mNone\u001b[39;00m:\n",
      "File \u001b[0;32m/opt/conda/lib/python3.10/site-packages/matplotlib/figure.py:3162\u001b[0m, in \u001b[0;36mFigure.draw\u001b[0;34m(self, renderer)\u001b[0m\n\u001b[1;32m   3159\u001b[0m             \u001b[39m# ValueError can occur when resizing a window.\u001b[39;00m\n\u001b[1;32m   3161\u001b[0m     \u001b[39mself\u001b[39m\u001b[39m.\u001b[39mpatch\u001b[39m.\u001b[39mdraw(renderer)\n\u001b[0;32m-> 3162\u001b[0m     mimage\u001b[39m.\u001b[39;49m_draw_list_compositing_images(\n\u001b[1;32m   3163\u001b[0m         renderer, \u001b[39mself\u001b[39;49m, artists, \u001b[39mself\u001b[39;49m\u001b[39m.\u001b[39;49msuppressComposite)\n\u001b[1;32m   3165\u001b[0m     renderer\u001b[39m.\u001b[39mclose_group(\u001b[39m'\u001b[39m\u001b[39mfigure\u001b[39m\u001b[39m'\u001b[39m)\n\u001b[1;32m   3166\u001b[0m \u001b[39mfinally\u001b[39;00m:\n",
      "File \u001b[0;32m/opt/conda/lib/python3.10/site-packages/matplotlib/image.py:132\u001b[0m, in \u001b[0;36m_draw_list_compositing_images\u001b[0;34m(renderer, parent, artists, suppress_composite)\u001b[0m\n\u001b[1;32m    130\u001b[0m \u001b[39mif\u001b[39;00m not_composite \u001b[39mor\u001b[39;00m \u001b[39mnot\u001b[39;00m has_images:\n\u001b[1;32m    131\u001b[0m     \u001b[39mfor\u001b[39;00m a \u001b[39min\u001b[39;00m artists:\n\u001b[0;32m--> 132\u001b[0m         a\u001b[39m.\u001b[39;49mdraw(renderer)\n\u001b[1;32m    133\u001b[0m \u001b[39melse\u001b[39;00m:\n\u001b[1;32m    134\u001b[0m     \u001b[39m# Composite any adjacent images together\u001b[39;00m\n\u001b[1;32m    135\u001b[0m     image_group \u001b[39m=\u001b[39m []\n",
      "File \u001b[0;32m/opt/conda/lib/python3.10/site-packages/matplotlib/artist.py:72\u001b[0m, in \u001b[0;36mallow_rasterization.<locals>.draw_wrapper\u001b[0;34m(artist, renderer)\u001b[0m\n\u001b[1;32m     69\u001b[0m     \u001b[39mif\u001b[39;00m artist\u001b[39m.\u001b[39mget_agg_filter() \u001b[39mis\u001b[39;00m \u001b[39mnot\u001b[39;00m \u001b[39mNone\u001b[39;00m:\n\u001b[1;32m     70\u001b[0m         renderer\u001b[39m.\u001b[39mstart_filter()\n\u001b[0;32m---> 72\u001b[0m     \u001b[39mreturn\u001b[39;00m draw(artist, renderer)\n\u001b[1;32m     73\u001b[0m \u001b[39mfinally\u001b[39;00m:\n\u001b[1;32m     74\u001b[0m     \u001b[39mif\u001b[39;00m artist\u001b[39m.\u001b[39mget_agg_filter() \u001b[39mis\u001b[39;00m \u001b[39mnot\u001b[39;00m \u001b[39mNone\u001b[39;00m:\n",
      "File \u001b[0;32m/opt/conda/lib/python3.10/site-packages/matplotlib/axes/_base.py:3143\u001b[0m, in \u001b[0;36m_AxesBase.draw\u001b[0;34m(self, renderer)\u001b[0m\n\u001b[1;32m   3140\u001b[0m \u001b[39mif\u001b[39;00m artists_rasterized:\n\u001b[1;32m   3141\u001b[0m     _draw_rasterized(\u001b[39mself\u001b[39m\u001b[39m.\u001b[39mfigure, artists_rasterized, renderer)\n\u001b[0;32m-> 3143\u001b[0m mimage\u001b[39m.\u001b[39;49m_draw_list_compositing_images(\n\u001b[1;32m   3144\u001b[0m     renderer, \u001b[39mself\u001b[39;49m, artists, \u001b[39mself\u001b[39;49m\u001b[39m.\u001b[39;49mfigure\u001b[39m.\u001b[39;49msuppressComposite)\n\u001b[1;32m   3146\u001b[0m renderer\u001b[39m.\u001b[39mclose_group(\u001b[39m'\u001b[39m\u001b[39maxes\u001b[39m\u001b[39m'\u001b[39m)\n\u001b[1;32m   3147\u001b[0m \u001b[39mself\u001b[39m\u001b[39m.\u001b[39mstale \u001b[39m=\u001b[39m \u001b[39mFalse\u001b[39;00m\n",
      "File \u001b[0;32m/opt/conda/lib/python3.10/site-packages/matplotlib/image.py:132\u001b[0m, in \u001b[0;36m_draw_list_compositing_images\u001b[0;34m(renderer, parent, artists, suppress_composite)\u001b[0m\n\u001b[1;32m    130\u001b[0m \u001b[39mif\u001b[39;00m not_composite \u001b[39mor\u001b[39;00m \u001b[39mnot\u001b[39;00m has_images:\n\u001b[1;32m    131\u001b[0m     \u001b[39mfor\u001b[39;00m a \u001b[39min\u001b[39;00m artists:\n\u001b[0;32m--> 132\u001b[0m         a\u001b[39m.\u001b[39;49mdraw(renderer)\n\u001b[1;32m    133\u001b[0m \u001b[39melse\u001b[39;00m:\n\u001b[1;32m    134\u001b[0m     \u001b[39m# Composite any adjacent images together\u001b[39;00m\n\u001b[1;32m    135\u001b[0m     image_group \u001b[39m=\u001b[39m []\n",
      "File \u001b[0;32m/opt/conda/lib/python3.10/site-packages/matplotlib/artist.py:72\u001b[0m, in \u001b[0;36mallow_rasterization.<locals>.draw_wrapper\u001b[0;34m(artist, renderer)\u001b[0m\n\u001b[1;32m     69\u001b[0m     \u001b[39mif\u001b[39;00m artist\u001b[39m.\u001b[39mget_agg_filter() \u001b[39mis\u001b[39;00m \u001b[39mnot\u001b[39;00m \u001b[39mNone\u001b[39;00m:\n\u001b[1;32m     70\u001b[0m         renderer\u001b[39m.\u001b[39mstart_filter()\n\u001b[0;32m---> 72\u001b[0m     \u001b[39mreturn\u001b[39;00m draw(artist, renderer)\n\u001b[1;32m     73\u001b[0m \u001b[39mfinally\u001b[39;00m:\n\u001b[1;32m     74\u001b[0m     \u001b[39mif\u001b[39;00m artist\u001b[39m.\u001b[39mget_agg_filter() \u001b[39mis\u001b[39;00m \u001b[39mnot\u001b[39;00m \u001b[39mNone\u001b[39;00m:\n",
      "File \u001b[0;32m/opt/conda/lib/python3.10/site-packages/matplotlib/lines.py:806\u001b[0m, in \u001b[0;36mLine2D.draw\u001b[0;34m(self, renderer)\u001b[0m\n\u001b[1;32m    803\u001b[0m         gc\u001b[39m.\u001b[39mset_foreground(lc_rgba, isRGBA\u001b[39m=\u001b[39m\u001b[39mTrue\u001b[39;00m)\n\u001b[1;32m    805\u001b[0m         gc\u001b[39m.\u001b[39mset_dashes(\u001b[39m*\u001b[39m\u001b[39mself\u001b[39m\u001b[39m.\u001b[39m_dash_pattern)\n\u001b[0;32m--> 806\u001b[0m         renderer\u001b[39m.\u001b[39;49mdraw_path(gc, tpath, affine\u001b[39m.\u001b[39;49mfrozen())\n\u001b[1;32m    807\u001b[0m         gc\u001b[39m.\u001b[39mrestore()\n\u001b[1;32m    809\u001b[0m \u001b[39mif\u001b[39;00m \u001b[39mself\u001b[39m\u001b[39m.\u001b[39m_marker \u001b[39mand\u001b[39;00m \u001b[39mself\u001b[39m\u001b[39m.\u001b[39m_markersize \u001b[39m>\u001b[39m \u001b[39m0\u001b[39m:\n",
      "File \u001b[0;32m/opt/conda/lib/python3.10/site-packages/matplotlib/backends/backend_pdf.py:2021\u001b[0m, in \u001b[0;36mRendererPdf.draw_path\u001b[0;34m(self, gc, path, transform, rgbFace)\u001b[0m\n\u001b[1;32m   2018\u001b[0m \u001b[39mdef\u001b[39;00m\u001b[39m \u001b[39m\u001b[39mdraw_path\u001b[39m(\u001b[39mself\u001b[39m, gc, path, transform, rgbFace\u001b[39m=\u001b[39m\u001b[39mNone\u001b[39;00m):\n\u001b[1;32m   2019\u001b[0m     \u001b[39m# docstring inherited\u001b[39;00m\n\u001b[1;32m   2020\u001b[0m     \u001b[39mself\u001b[39m\u001b[39m.\u001b[39mcheck_gc(gc, rgbFace)\n\u001b[0;32m-> 2021\u001b[0m     \u001b[39mself\u001b[39;49m\u001b[39m.\u001b[39;49mfile\u001b[39m.\u001b[39;49mwritePath(\n\u001b[1;32m   2022\u001b[0m         path, transform,\n\u001b[1;32m   2023\u001b[0m         rgbFace \u001b[39mis\u001b[39;49;00m \u001b[39mNone\u001b[39;49;00m \u001b[39mand\u001b[39;49;00m gc\u001b[39m.\u001b[39;49mget_hatch_path() \u001b[39mis\u001b[39;49;00m \u001b[39mNone\u001b[39;49;00m,\n\u001b[1;32m   2024\u001b[0m         gc\u001b[39m.\u001b[39;49mget_sketch_params())\n\u001b[1;32m   2025\u001b[0m     \u001b[39mself\u001b[39m\u001b[39m.\u001b[39mfile\u001b[39m.\u001b[39moutput(\u001b[39mself\u001b[39m\u001b[39m.\u001b[39mgc\u001b[39m.\u001b[39mpaint())\n",
      "File \u001b[0;32m/opt/conda/lib/python3.10/site-packages/matplotlib/backends/backend_pdf.py:1891\u001b[0m, in \u001b[0;36mPdfFile.writePath\u001b[0;34m(self, path, transform, clip, sketch)\u001b[0m\n\u001b[1;32m   1889\u001b[0m     clip \u001b[39m=\u001b[39m \u001b[39mNone\u001b[39;00m\n\u001b[1;32m   1890\u001b[0m     simplify \u001b[39m=\u001b[39m \u001b[39mFalse\u001b[39;00m\n\u001b[0;32m-> 1891\u001b[0m cmds \u001b[39m=\u001b[39m \u001b[39mself\u001b[39;49m\u001b[39m.\u001b[39;49mpathOperations(path, transform, clip, simplify\u001b[39m=\u001b[39;49msimplify,\n\u001b[1;32m   1892\u001b[0m                            sketch\u001b[39m=\u001b[39;49msketch)\n\u001b[1;32m   1893\u001b[0m \u001b[39mself\u001b[39m\u001b[39m.\u001b[39moutput(\u001b[39m*\u001b[39mcmds)\n",
      "File \u001b[0;32m/opt/conda/lib/python3.10/site-packages/matplotlib/backends/backend_pdf.py:1877\u001b[0m, in \u001b[0;36mPdfFile.pathOperations\u001b[0;34m(path, transform, clip, simplify, sketch)\u001b[0m\n\u001b[1;32m   1875\u001b[0m \u001b[39m@staticmethod\u001b[39m\n\u001b[1;32m   1876\u001b[0m \u001b[39mdef\u001b[39;00m\u001b[39m \u001b[39m\u001b[39mpathOperations\u001b[39m(path, transform, clip\u001b[39m=\u001b[39m\u001b[39mNone\u001b[39;00m, simplify\u001b[39m=\u001b[39m\u001b[39mNone\u001b[39;00m, sketch\u001b[39m=\u001b[39m\u001b[39mNone\u001b[39;00m):\n\u001b[0;32m-> 1877\u001b[0m     \u001b[39mreturn\u001b[39;00m [Verbatim(_path\u001b[39m.\u001b[39;49mconvert_to_string(\n\u001b[1;32m   1878\u001b[0m         path, transform, clip, simplify, sketch,\n\u001b[1;32m   1879\u001b[0m         \u001b[39m6\u001b[39;49m,\n\u001b[1;32m   1880\u001b[0m         [Op\u001b[39m.\u001b[39;49mmoveto\u001b[39m.\u001b[39;49mvalue, Op\u001b[39m.\u001b[39;49mlineto\u001b[39m.\u001b[39;49mvalue, \u001b[39mb\u001b[39;49m\u001b[39m'\u001b[39;49m\u001b[39m'\u001b[39;49m, Op\u001b[39m.\u001b[39;49mcurveto\u001b[39m.\u001b[39;49mvalue,\n\u001b[1;32m   1881\u001b[0m          Op\u001b[39m.\u001b[39;49mclosepath\u001b[39m.\u001b[39;49mvalue],\n\u001b[1;32m   1882\u001b[0m         \u001b[39mTrue\u001b[39;49;00m))]\n",
      "\u001b[0;31mMemoryError\u001b[0m: std::bad_alloc"
     ]
    }
   ],
   "source": [
    "# from joblib import Parallel, delayed\n",
    "# session_list = ['behavior_751181_2025-02-25_12-12-35',\n",
    "#                 'behavior_751181_2025-02-26_11-51-19']\n",
    "data_type = 'curated'\n",
    "def process(session, data_type='raw'):\n",
    "    plt.close('all')\n",
    "    print(f'{session} start')\n",
    "    # beh_and_time_alignment(session) # plot behavior, check alignment between behavior, sound, and ephys\n",
    "    plt.close('all')\n",
    "    ephys_opto_preprocessing(session, data_type, 'soma') \n",
    "    # redo spiketimes if not aligned, make opto_table (laser time in nidaq); \n",
    "    # generate a pkl file with opto_resp/lat to each condition\n",
    "    plt.close('all')\n",
    "    # ephys_opto_crosscorr(session, data_type)\n",
    "    # separate session into opto/beh, cal cross-correlation\n",
    "    plt.close('all')\n",
    "    # opto_wf_preprocessing(session, data_type, 'soma', load_sorting_analyzer=True)\n",
    "    # recal wf based on conditions. (pre/post, power), cal similarity, euclidean distance, correlation with spont\n",
    "    # pay attention to difference early and late in the session\n",
    "    \n",
    "    # opto_tagging_df = opto_plotting_session(session, data_type, 'soma', plot=True, resp_thresh=0.3, lat_thresh=0.02, save=True)\n",
    "    \n",
    "    # # save as pickle\n",
    "    # with open(os.path.join(session_dirs(session)[f'opto_dir_{data_type}'], f'{session}_opto_tagging_metrics.pkl'), 'wb') as f:\n",
    "    #     opto_tagging_df.to_pickle(f)\n",
    "    \n",
    "    # if '751004' in session:\n",
    "    #     plot_session_opto_drift(session, data_type, update_csv=False)\n",
    "    # else:     \n",
    "    #     plot_session_opto_drift(session, data_type, update_csv=True)\n",
    "    print(f'{session} stop')\n",
    "        \n",
    "\n",
    "# Parallel(n_jobs=4)(delayed(process)(session, data_type = data_type) for session in session_list[46:])\n",
    "\n",
    "for session in session_list[48:]:\n",
    "    print(session)\n",
    "    session_dir = session_dirs(session)\n",
    "    if session_dir['curated_dir_curated'] is not None:\n",
    "        print('Curated')\n",
    "        process(session, data_type='curated') \n",
    "    # elif  session_dir['curated_dir_raw'] is not None:\n",
    "    #     print('Raw')\n",
    "    #     process(session, data_type='raw')\n",
    "        \n"
>>>>>>> origin/main
   ]
  },
  {
   "cell_type": "code",
<<<<<<< HEAD
   "execution_count": 4,
=======
   "execution_count": 12,
>>>>>>> origin/main
   "metadata": {},
   "outputs": [
    {
     "data": {
      "text/plain": [
<<<<<<< HEAD
       "['behavior_751004_2024-12-19_11-50-37',\n",
       " 'behavior_751004_2024-12-20_13-26-11',\n",
       " 'behavior_751004_2024-12-21_13-28-28',\n",
       " 'behavior_751004_2024-12-22_13-09-17',\n",
       " 'behavior_751004_2024-12-23_14-20-03']"
      ]
     },
     "execution_count": 4,
=======
       "nan"
      ]
     },
     "execution_count": 12,
>>>>>>> origin/main
     "metadata": {},
     "output_type": "execute_result"
    }
   ],
   "source": [
<<<<<<< HEAD
    "aniIDs = ['751004']\n",
    "session_list = [session for session in session_list if any(aniID in session for aniID in aniIDs)]\n",
    "# session_list.append('behavior_716325_2024-05-31_10-31-14')\n",
    "# session_list.append('behavior_717121_2024-06-15_10-00-58')\n",
    "session_list"
=======
    "session"
   ]
  },
  {
   "cell_type": "code",
   "execution_count": 3,
   "metadata": {},
   "outputs": [
    {
     "name": "stdout",
     "output_type": "stream",
     "text": [
      "behavior_717121_2024-06-15_10-00-58 start\n"
     ]
    },
    {
     "name": "stderr",
     "output_type": "stream",
     "text": [
      "/opt/conda/lib/python3.10/site-packages/spikeinterface/core/base.py:1109: UserWarning: Versions are not the same. This might lead to compatibility errors. Using spikeinterface==0.100.7 is recommended\n",
      "  warnings.warn(\n",
      "/opt/conda/lib/python3.10/site-packages/spikeinterface/core/waveforms_extractor_backwards_compatibility.py:650: UserWarning: Removing legacy parameter return_scaled from spike_amplitudes extension\n",
      "  warnings.warn(f\"Removing legacy parameter {p} from {old_name} extension\")\n",
      "/opt/conda/lib/python3.10/site-packages/spikeinterface/core/waveforms_extractor_backwards_compatibility.py:650: UserWarning: Removing legacy parameter metrics_kwargs from template_metrics extension\n",
      "  warnings.warn(f\"Removing legacy parameter {p} from {old_name} extension\")\n",
      "/opt/conda/lib/python3.10/site-packages/spikeinterface/core/waveforms_extractor_backwards_compatibility.py:650: UserWarning: Removing legacy parameter method_kwargs from unit_locations extension\n",
      "  warnings.warn(f\"Removing legacy parameter {p} from {old_name} extension\")\n",
      "/opt/conda/lib/python3.10/site-packages/spikeinterface/core/waveforms_extractor_backwards_compatibility.py:650: UserWarning: Removing legacy parameter sparsity from quality_metrics extension\n",
      "  warnings.warn(f\"Removing legacy parameter {p} from {old_name} extension\")\n",
      "/opt/conda/lib/python3.10/site-packages/spikeinterface/core/waveforms_extractor_backwards_compatibility.py:650: UserWarning: Removing legacy parameter qm_params from quality_metrics extension\n",
      "  warnings.warn(f\"Removing legacy parameter {p} from {old_name} extension\")\n",
      "/opt/conda/lib/python3.10/site-packages/spikeinterface/core/waveforms_extractor_backwards_compatibility.py:650: UserWarning: Removing legacy parameter sparsity from principal_components extension\n",
      "  warnings.warn(f\"Removing legacy parameter {p} from {old_name} extension\")\n",
      "/opt/conda/lib/python3.10/site-packages/spikeinterface/core/waveforms_extractor_backwards_compatibility.py:650: UserWarning: Removing legacy parameter tmp_folder from principal_components extension\n",
      "  warnings.warn(f\"Removing legacy parameter {p} from {old_name} extension\")\n",
      "/opt/conda/lib/python3.10/site-packages/spikeinterface/core/base.py:1109: UserWarning: Versions are not the same. This might lead to compatibility errors. Using spikeinterface==0.100.7 is recommended\n",
      "  warnings.warn(\n",
      "/opt/conda/lib/python3.10/site-packages/spikeinterface/core/base.py:1109: UserWarning: Versions are not the same. This might lead to compatibility errors. Using spikeinterface==0.100.7 is recommended\n",
      "  warnings.warn(\n",
      "/opt/conda/lib/python3.10/site-packages/spikeinterface/core/waveforms_extractor_backwards_compatibility.py:650: UserWarning: Removing legacy parameter return_scaled from spike_amplitudes extension\n",
      "  warnings.warn(f\"Removing legacy parameter {p} from {old_name} extension\")\n",
      "/opt/conda/lib/python3.10/site-packages/spikeinterface/core/waveforms_extractor_backwards_compatibility.py:650: UserWarning: Removing legacy parameter metrics_kwargs from template_metrics extension\n",
      "  warnings.warn(f\"Removing legacy parameter {p} from {old_name} extension\")\n",
      "/opt/conda/lib/python3.10/site-packages/spikeinterface/core/waveforms_extractor_backwards_compatibility.py:650: UserWarning: Removing legacy parameter method_kwargs from unit_locations extension\n",
      "  warnings.warn(f\"Removing legacy parameter {p} from {old_name} extension\")\n",
      "/opt/conda/lib/python3.10/site-packages/spikeinterface/core/waveforms_extractor_backwards_compatibility.py:650: UserWarning: Removing legacy parameter sparsity from quality_metrics extension\n",
      "  warnings.warn(f\"Removing legacy parameter {p} from {old_name} extension\")\n",
      "/opt/conda/lib/python3.10/site-packages/spikeinterface/core/waveforms_extractor_backwards_compatibility.py:650: UserWarning: Removing legacy parameter qm_params from quality_metrics extension\n",
      "  warnings.warn(f\"Removing legacy parameter {p} from {old_name} extension\")\n",
      "/opt/conda/lib/python3.10/site-packages/spikeinterface/core/waveforms_extractor_backwards_compatibility.py:650: UserWarning: Removing legacy parameter sparsity from principal_components extension\n",
      "  warnings.warn(f\"Removing legacy parameter {p} from {old_name} extension\")\n",
      "/opt/conda/lib/python3.10/site-packages/spikeinterface/core/waveforms_extractor_backwards_compatibility.py:650: UserWarning: Removing legacy parameter tmp_folder from principal_components extension\n",
      "  warnings.warn(f\"Removing legacy parameter {p} from {old_name} extension\")\n",
      "/opt/conda/lib/python3.10/site-packages/spikeinterface/core/base.py:1109: UserWarning: Versions are not the same. This might lead to compatibility errors. Using spikeinterface==0.100.7 is recommended\n",
      "  warnings.warn(\n",
      "/opt/conda/lib/python3.10/site-packages/spikeinterface/core/base.py:1109: UserWarning: Versions are not the same. This might lead to compatibility errors. Using spikeinterface==0.100.7 is recommended\n",
      "  warnings.warn(\n",
      "/opt/conda/lib/python3.10/site-packages/spikeinterface/core/base.py:1109: UserWarning: Versions are not the same. This might lead to compatibility errors. Using spikeinterface==0.100.7 is recommended\n",
      "  warnings.warn(\n",
      "/opt/conda/lib/python3.10/site-packages/spikeinterface/core/waveforms_extractor_backwards_compatibility.py:650: UserWarning: Removing legacy parameter return_scaled from spike_amplitudes extension\n",
      "  warnings.warn(f\"Removing legacy parameter {p} from {old_name} extension\")\n",
      "/opt/conda/lib/python3.10/site-packages/spikeinterface/core/waveforms_extractor_backwards_compatibility.py:650: UserWarning: Removing legacy parameter metrics_kwargs from template_metrics extension\n",
      "  warnings.warn(f\"Removing legacy parameter {p} from {old_name} extension\")\n",
      "/opt/conda/lib/python3.10/site-packages/spikeinterface/core/waveforms_extractor_backwards_compatibility.py:650: UserWarning: Removing legacy parameter method_kwargs from unit_locations extension\n",
      "  warnings.warn(f\"Removing legacy parameter {p} from {old_name} extension\")\n",
      "/opt/conda/lib/python3.10/site-packages/spikeinterface/core/waveforms_extractor_backwards_compatibility.py:650: UserWarning: Removing legacy parameter sparsity from quality_metrics extension\n",
      "  warnings.warn(f\"Removing legacy parameter {p} from {old_name} extension\")\n",
      "/opt/conda/lib/python3.10/site-packages/spikeinterface/core/waveforms_extractor_backwards_compatibility.py:650: UserWarning: Removing legacy parameter qm_params from quality_metrics extension\n",
      "  warnings.warn(f\"Removing legacy parameter {p} from {old_name} extension\")\n",
      "/opt/conda/lib/python3.10/site-packages/spikeinterface/core/waveforms_extractor_backwards_compatibility.py:650: UserWarning: Removing legacy parameter sparsity from principal_components extension\n",
      "  warnings.warn(f\"Removing legacy parameter {p} from {old_name} extension\")\n",
      "/opt/conda/lib/python3.10/site-packages/spikeinterface/core/waveforms_extractor_backwards_compatibility.py:650: UserWarning: Removing legacy parameter tmp_folder from principal_components extension\n",
      "  warnings.warn(f\"Removing legacy parameter {p} from {old_name} extension\")\n"
     ]
    },
    {
     "data": {
      "application/vnd.jupyter.widget-view+json": {
       "model_id": "4641a99910ba433b857df935d70d0b86",
       "version_major": 2,
       "version_minor": 0
      },
      "text/plain": [
       "compute_waveforms (workers: 16 processes):   0%|          | 0/6396 [00:00<?, ?it/s]"
      ]
     },
     "metadata": {},
     "output_type": "display_data"
    },
    {
     "name": "stderr",
     "output_type": "stream",
     "text": [
      "/opt/conda/lib/python3.10/site-packages/numpy/lib/_function_base_impl.py:2999: RuntimeWarning: invalid value encountered in divide\n",
      "  c /= stddev[:, None]\n",
      "/opt/conda/lib/python3.10/site-packages/numpy/lib/_function_base_impl.py:3000: RuntimeWarning: invalid value encountered in divide\n",
      "  c /= stddev[None, :]\n",
      "/opt/conda/lib/python3.10/site-packages/spikeinterface/core/base.py:1109: UserWarning: Versions are not the same. This might lead to compatibility errors. Using spikeinterface==0.100.7 is recommended\n",
      "  warnings.warn(\n",
      "/opt/conda/lib/python3.10/site-packages/spikeinterface/core/waveforms_extractor_backwards_compatibility.py:650: UserWarning: Removing legacy parameter return_scaled from spike_amplitudes extension\n",
      "  warnings.warn(f\"Removing legacy parameter {p} from {old_name} extension\")\n",
      "/opt/conda/lib/python3.10/site-packages/spikeinterface/core/waveforms_extractor_backwards_compatibility.py:650: UserWarning: Removing legacy parameter metrics_kwargs from template_metrics extension\n",
      "  warnings.warn(f\"Removing legacy parameter {p} from {old_name} extension\")\n",
      "/opt/conda/lib/python3.10/site-packages/spikeinterface/core/waveforms_extractor_backwards_compatibility.py:650: UserWarning: Removing legacy parameter method_kwargs from unit_locations extension\n",
      "  warnings.warn(f\"Removing legacy parameter {p} from {old_name} extension\")\n",
      "/opt/conda/lib/python3.10/site-packages/spikeinterface/core/waveforms_extractor_backwards_compatibility.py:650: UserWarning: Removing legacy parameter sparsity from quality_metrics extension\n",
      "  warnings.warn(f\"Removing legacy parameter {p} from {old_name} extension\")\n",
      "/opt/conda/lib/python3.10/site-packages/spikeinterface/core/waveforms_extractor_backwards_compatibility.py:650: UserWarning: Removing legacy parameter qm_params from quality_metrics extension\n",
      "  warnings.warn(f\"Removing legacy parameter {p} from {old_name} extension\")\n",
      "/opt/conda/lib/python3.10/site-packages/spikeinterface/core/waveforms_extractor_backwards_compatibility.py:650: UserWarning: Removing legacy parameter sparsity from principal_components extension\n",
      "  warnings.warn(f\"Removing legacy parameter {p} from {old_name} extension\")\n",
      "/opt/conda/lib/python3.10/site-packages/spikeinterface/core/waveforms_extractor_backwards_compatibility.py:650: UserWarning: Removing legacy parameter tmp_folder from principal_components extension\n",
      "  warnings.warn(f\"Removing legacy parameter {p} from {old_name} extension\")\n",
      "/opt/conda/lib/python3.10/site-packages/hdmf/spec/namespace.py:535: UserWarning: Ignoring cached namespace 'core' version 2.6.0-alpha because version 2.7.0 is already loaded.\n",
      "  warn(\"Ignoring cached namespace '%s' version %s because version %s is already loaded.\"\n",
      "/root/capsule/code/beh_ephys_analysis/opto_tagging.py:353: FutureWarning: errors='ignore' is deprecated and will raise in a future version. Use to_numeric without passing `errors` and catch exceptions explicitly instead\n",
      "  unit_qc = unit_qc.apply(pd.to_numeric, errors='ignore')\n"
     ]
    },
    {
     "name": "stdout",
     "output_type": "stream",
     "text": [
      "48 out of 243 units pass quality control\n",
      "{'samples_to_keep': [-30, 60], 'y_neighbors_to_keep': 3, 'orginal_loc': False}\n"
     ]
    },
    {
     "name": "stderr",
     "output_type": "stream",
     "text": [
      "/root/capsule/code/beh_ephys_analysis/opto_tagging.py:392: FutureWarning: errors='ignore' is deprecated and will raise in a future version. Use to_numeric without passing `errors` and catch exceptions explicitly instead\n",
      "  opto_wf = opto_wf.apply(pd.to_numeric, errors='ignore')\n"
     ]
    },
    {
     "name": "stdout",
     "output_type": "stream",
     "text": [
      "Merging file 0 out of 243\n",
      "Merging file 50 out of 243\n",
      "Merging file 100 out of 243\n",
      "Merging file 150 out of 243\n",
      "Merging file 200 out of 243\n",
      "PDF files in '/root/capsule/scratch/717121/behavior_717121_2024-06-15_10-00-58/ephys/opto/curated/figures' merged into '/root/capsule/scratch/717121/behavior_717121_2024-06-15_10-00-58/ephys/opto/curated/behavior_717121_2024-06-15_10-00-58_opto_tagging.pdf' successfully.\n",
      "8 out of 243 units pass quality control and opto tagging\n"
     ]
    },
    {
     "name": "stdout",
     "output_type": "stream",
     "text": [
      "behavior_717121_2024-06-15_10-00-58 stop\n"
     ]
    }
   ],
   "source": [
    "process('behavior_717121_2024-06-15_10-00-58', data_type = 'curated')"
   ]
  },
  {
   "cell_type": "code",
   "execution_count": 6,
   "metadata": {},
   "outputs": [
    {
     "name": "stdout",
     "output_type": "stream",
     "text": [
      "behavior_751004_2024-12-19_11-50-37 start\n",
      "behavior_751004_2024-12-21_13-28-28 start\n",
      "behavior_751004_2024-12-23_14-20-03 start\n",
      "behavior_751769_2025-01-17_11-37-39 start\n"
     ]
    },
    {
     "name": "stderr",
     "output_type": "stream",
     "text": [
      "/opt/conda/lib/python3.10/site-packages/aind_dynamic_foraging_basic_analysis/plot/plot_foraging_session.py:504: UserWarning: Tight layout not applied. The left and right margins cannot be made large enough to accommodate all Axes decorations.\n",
      "  plt.tight_layout()\n",
      "/opt/conda/lib/python3.10/site-packages/aind_dynamic_foraging_basic_analysis/plot/plot_foraging_session.py:504: UserWarning: Tight layout not applied. The left and right margins cannot be made large enough to accommodate all Axes decorations.\n",
      "  plt.tight_layout()\n",
      "/opt/conda/lib/python3.10/site-packages/aind_dynamic_foraging_basic_analysis/plot/plot_foraging_session.py:504: UserWarning: Tight layout not applied. The left and right margins cannot be made large enough to accommodate all Axes decorations.\n",
      "  plt.tight_layout()\n",
      "/opt/conda/lib/python3.10/site-packages/aind_dynamic_foraging_basic_analysis/plot/plot_foraging_session.py:504: UserWarning: Tight layout not applied. The left and right margins cannot be made large enough to accommodate all Axes decorations.\n",
      "  plt.tight_layout()\n",
      "/opt/conda/lib/python3.10/site-packages/spikeinterface/core/base.py:1109: UserWarning: Versions are not the same. This might lead to compatibility errors. Using spikeinterface==0.101.2 is recommended\n",
      "  warnings.warn(\n",
      "/root/capsule/code/beh_ephys_analysis/drift_analysis.py:422: UserWarning: No artists with labels found to put in legend.  Note that artists whose label start with an underscore are ignored when legend() is called with no argument.\n",
      "  plt.legend()\n",
      "/opt/conda/lib/python3.10/site-packages/spikeinterface/core/base.py:1109: UserWarning: Versions are not the same. This might lead to compatibility errors. Using spikeinterface==0.101.2 is recommended\n",
      "  warnings.warn(\n",
      "/opt/conda/lib/python3.10/site-packages/spikeinterface/core/base.py:1109: UserWarning: Versions are not the same. This might lead to compatibility errors. Using spikeinterface==0.101.2 is recommended\n",
      "  warnings.warn(\n",
      "/root/capsule/code/beh_ephys_analysis/drift_analysis.py:422: UserWarning: No artists with labels found to put in legend.  Note that artists whose label start with an underscore are ignored when legend() is called with no argument.\n",
      "  plt.legend()\n",
      "/root/capsule/code/beh_ephys_analysis/drift_analysis.py:422: UserWarning: No artists with labels found to put in legend.  Note that artists whose label start with an underscore are ignored when legend() is called with no argument.\n",
      "  plt.legend()\n"
     ]
    },
    {
     "name": "stdout",
     "output_type": "stream",
     "text": [
      "Merging file 0 out of 3\n",
      "PDF files in '/root/capsule/scratch/751004/behavior_751004_2024-12-21_13-28-28/ephys/opto/curated/drift' merged into '/root/capsule/scratch/751004/behavior_751004_2024-12-21_13-28-28/ephys/opto/curated/behavior_751004_2024-12-21_13-28-28_drift.pdf' successfully.\n",
      "behavior_751004_2024-12-22_13-09-17 start\n"
     ]
    },
    {
     "name": "stderr",
     "output_type": "stream",
     "text": [
      "/root/capsule/code/beh_ephys_analysis/drift_analysis.py:422: UserWarning: No artists with labels found to put in legend.  Note that artists whose label start with an underscore are ignored when legend() is called with no argument.\n",
      "  plt.legend()\n",
      "/root/capsule/code/beh_ephys_analysis/drift_analysis.py:422: UserWarning: No artists with labels found to put in legend.  Note that artists whose label start with an underscore are ignored when legend() is called with no argument.\n",
      "  plt.legend()\n",
      "/root/capsule/code/beh_ephys_analysis/drift_analysis.py:422: UserWarning: No artists with labels found to put in legend.  Note that artists whose label start with an underscore are ignored when legend() is called with no argument.\n",
      "  plt.legend()\n",
      "/opt/conda/lib/python3.10/site-packages/aind_dynamic_foraging_basic_analysis/plot/plot_foraging_session.py:504: UserWarning: Tight layout not applied. The left and right margins cannot be made large enough to accommodate all Axes decorations.\n",
      "  plt.tight_layout()\n",
      "/root/capsule/code/beh_ephys_analysis/drift_analysis.py:422: UserWarning: No artists with labels found to put in legend.  Note that artists whose label start with an underscore are ignored when legend() is called with no argument.\n",
      "  plt.legend()\n",
      "/root/capsule/code/beh_ephys_analysis/drift_analysis.py:422: UserWarning: No artists with labels found to put in legend.  Note that artists whose label start with an underscore are ignored when legend() is called with no argument.\n",
      "  plt.legend()\n",
      "/root/capsule/code/beh_ephys_analysis/drift_analysis.py:422: UserWarning: No artists with labels found to put in legend.  Note that artists whose label start with an underscore are ignored when legend() is called with no argument.\n",
      "  plt.legend()\n",
      "/root/capsule/code/beh_ephys_analysis/drift_analysis.py:422: UserWarning: No artists with labels found to put in legend.  Note that artists whose label start with an underscore are ignored when legend() is called with no argument.\n",
      "  plt.legend()\n",
      "/root/capsule/code/beh_ephys_analysis/drift_analysis.py:422: UserWarning: No artists with labels found to put in legend.  Note that artists whose label start with an underscore are ignored when legend() is called with no argument.\n",
      "  plt.legend()\n",
      "/root/capsule/code/beh_ephys_analysis/drift_analysis.py:422: UserWarning: No artists with labels found to put in legend.  Note that artists whose label start with an underscore are ignored when legend() is called with no argument.\n",
      "  plt.legend()\n",
      "/root/capsule/code/beh_ephys_analysis/drift_analysis.py:422: UserWarning: No artists with labels found to put in legend.  Note that artists whose label start with an underscore are ignored when legend() is called with no argument.\n",
      "  plt.legend()\n"
     ]
    },
    {
     "name": "stdout",
     "output_type": "stream",
     "text": [
      "Merging file 0 out of 3\n",
      "PDF files in '/root/capsule/scratch/751004/behavior_751004_2024-12-23_14-20-03/ephys/opto/curated/drift' merged into '/root/capsule/scratch/751004/behavior_751004_2024-12-23_14-20-03/ephys/opto/curated/behavior_751004_2024-12-23_14-20-03_drift.pdf' successfully.\n",
      "behavior_751769_2025-01-16_11-32-05 start\n"
     ]
    },
    {
     "name": "stderr",
     "output_type": "stream",
     "text": [
      "/root/capsule/code/beh_ephys_analysis/drift_analysis.py:422: UserWarning: No artists with labels found to put in legend.  Note that artists whose label start with an underscore are ignored when legend() is called with no argument.\n",
      "  plt.legend()\n",
      "/root/capsule/code/beh_ephys_analysis/drift_analysis.py:422: UserWarning: No artists with labels found to put in legend.  Note that artists whose label start with an underscore are ignored when legend() is called with no argument.\n",
      "  plt.legend()\n"
     ]
    },
    {
     "name": "stdout",
     "output_type": "stream",
     "text": [
      "Merging file 0 out of 5\n",
      "Merging file 0 out of 8\n",
      "PDF files in '/root/capsule/scratch/751769/behavior_751769_2025-01-17_11-37-39/ephys/opto/curated/drift' merged into '/root/capsule/scratch/751769/behavior_751769_2025-01-17_11-37-39/ephys/opto/curated/behavior_751769_2025-01-17_11-37-39_drift.pdf' successfully.\n",
      "behavior_751769_2025-01-18_10-15-25 start\n",
      "PDF files in '/root/capsule/scratch/751004/behavior_751004_2024-12-19_11-50-37/ephys/opto/curated/drift' merged into '/root/capsule/scratch/751004/behavior_751004_2024-12-19_11-50-37/ephys/opto/curated/behavior_751004_2024-12-19_11-50-37_drift.pdf' successfully.\n",
      "behavior_751004_2024-12-20_13-26-11 start\n"
     ]
    },
    {
     "name": "stderr",
     "output_type": "stream",
     "text": [
      "/opt/conda/lib/python3.10/site-packages/aind_dynamic_foraging_basic_analysis/plot/plot_foraging_session.py:504: UserWarning: Tight layout not applied. The left and right margins cannot be made large enough to accommodate all Axes decorations.\n",
      "  plt.tight_layout()\n",
      "/opt/conda/lib/python3.10/site-packages/aind_dynamic_foraging_basic_analysis/plot/plot_foraging_session.py:504: UserWarning: Tight layout not applied. The left and right margins cannot be made large enough to accommodate all Axes decorations.\n",
      "  plt.tight_layout()\n",
      "/opt/conda/lib/python3.10/site-packages/spikeinterface/core/base.py:1109: UserWarning: Versions are not the same. This might lead to compatibility errors. Using spikeinterface==0.101.2 is recommended\n",
      "  warnings.warn(\n",
      "/root/capsule/code/beh_ephys_analysis/drift_analysis.py:422: UserWarning: No artists with labels found to put in legend.  Note that artists whose label start with an underscore are ignored when legend() is called with no argument.\n",
      "  plt.legend()\n",
      "/root/capsule/code/beh_ephys_analysis/drift_analysis.py:312: RuntimeWarning: invalid value encountered in divide\n",
      "  z_diff_abs_fast = np.abs((spike_counts_fast - spike_counts_slow_pre)/(0.5*(spike_counts_fast + spike_counts_slow_pre))) # firing rate change\n",
      "/root/capsule/code/beh_ephys_analysis/drift_analysis.py:318: RuntimeWarning: invalid value encountered in divide\n",
      "  z_diff_abs_slow = np.abs(spike_counts_slow_post - spike_counts_slow_pre)/(0.5*(spike_counts_slow_post+spike_counts_slow_pre)) # firing rate change\n",
      "/root/capsule/code/beh_ephys_analysis/drift_analysis.py:380: RuntimeWarning: invalid value encountered in divide\n",
      "  plt.plot(temp_bins, (spike_counts_fast-spike_counts_slow_pre)/(0.5*(spike_counts_fast+spike_counts_slow_pre)), label='fast-slow')\n",
      "/root/capsule/code/beh_ephys_analysis/drift_analysis.py:381: RuntimeWarning: invalid value encountered in divide\n",
      "  plt.plot(temp_bins_slow_spike, (spike_counts_slow_post - spike_counts_slow_pre)/(0.5*(spike_counts_slow_pre + spike_counts_slow_post)), label = 'diff(slow)', c='r')\n",
      "/root/capsule/code/beh_ephys_analysis/drift_analysis.py:385: RuntimeWarning: invalid value encountered in divide\n",
      "  plt.plot(temp_bins, np.abs(spike_counts_fast - spike_counts_slow_pre)/(0.5*(spike_counts_fast+spike_counts_slow_pre)), label='abs(fast-slow)')\n",
      "/root/capsule/code/beh_ephys_analysis/drift_analysis.py:386: RuntimeWarning: invalid value encountered in divide\n",
      "  plt.plot(temp_bins_slow_spike, np.abs(spike_counts_slow_post - spike_counts_slow_pre)/(0.5*(spike_counts_slow_pre + spike_counts_slow_post)), label = 'abs(diff(slow))', c='r')\n",
      "/root/capsule/code/beh_ephys_analysis/drift_analysis.py:422: UserWarning: No artists with labels found to put in legend.  Note that artists whose label start with an underscore are ignored when legend() is called with no argument.\n",
      "  plt.legend()\n"
     ]
    },
    {
     "name": "stdout",
     "output_type": "stream",
     "text": [
      "Merging file 0 out of 2\n",
      "PDF files in '/root/capsule/scratch/751004/behavior_751004_2024-12-22_13-09-17/ephys/opto/curated/drift' merged into '/root/capsule/scratch/751004/behavior_751004_2024-12-22_13-09-17/ephys/opto/curated/behavior_751004_2024-12-22_13-09-17_drift.pdf' successfully.\n"
     ]
    },
    {
     "name": "stderr",
     "output_type": "stream",
     "text": [
      "/opt/conda/lib/python3.10/site-packages/joblib/externals/loky/process_executor.py:752: UserWarning: A worker stopped while some jobs were given to the executor. This can be caused by a too short worker timeout or by a memory leak.\n",
      "  warnings.warn(\n",
      "/opt/conda/lib/python3.10/site-packages/spikeinterface/core/base.py:1109: UserWarning: Versions are not the same. This might lead to compatibility errors. Using spikeinterface==0.101.2 is recommended\n",
      "  warnings.warn(\n"
     ]
    },
    {
     "name": "stdout",
     "output_type": "stream",
     "text": [
      "behavior_758017_2025-02-04_11-57-38 start\n"
     ]
    },
    {
     "name": "stderr",
     "output_type": "stream",
     "text": [
      "/root/capsule/code/beh_ephys_analysis/drift_analysis.py:312: RuntimeWarning: invalid value encountered in divide\n",
      "  z_diff_abs_fast = np.abs((spike_counts_fast - spike_counts_slow_pre)/(0.5*(spike_counts_fast + spike_counts_slow_pre))) # firing rate change\n",
      "/root/capsule/code/beh_ephys_analysis/drift_analysis.py:380: RuntimeWarning: invalid value encountered in divide\n",
      "  plt.plot(temp_bins, (spike_counts_fast-spike_counts_slow_pre)/(0.5*(spike_counts_fast+spike_counts_slow_pre)), label='fast-slow')\n",
      "/opt/conda/lib/python3.10/site-packages/aind_dynamic_foraging_basic_analysis/plot/plot_foraging_session.py:504: UserWarning: Tight layout not applied. The left and right margins cannot be made large enough to accommodate all Axes decorations.\n",
      "  plt.tight_layout()\n",
      "/root/capsule/code/beh_ephys_analysis/drift_analysis.py:385: RuntimeWarning: invalid value encountered in divide\n",
      "  plt.plot(temp_bins, np.abs(spike_counts_fast - spike_counts_slow_pre)/(0.5*(spike_counts_fast+spike_counts_slow_pre)), label='abs(fast-slow)')\n",
      "/root/capsule/code/beh_ephys_analysis/drift_analysis.py:422: UserWarning: No artists with labels found to put in legend.  Note that artists whose label start with an underscore are ignored when legend() is called with no argument.\n",
      "  plt.legend()\n",
      "/root/capsule/code/beh_ephys_analysis/drift_analysis.py:422: UserWarning: No artists with labels found to put in legend.  Note that artists whose label start with an underscore are ignored when legend() is called with no argument.\n",
      "  plt.legend()\n",
      "/root/capsule/code/beh_ephys_analysis/drift_analysis.py:422: UserWarning: No artists with labels found to put in legend.  Note that artists whose label start with an underscore are ignored when legend() is called with no argument.\n",
      "  plt.legend()\n",
      "/root/capsule/code/beh_ephys_analysis/drift_analysis.py:312: RuntimeWarning: invalid value encountered in divide\n",
      "  z_diff_abs_fast = np.abs((spike_counts_fast - spike_counts_slow_pre)/(0.5*(spike_counts_fast + spike_counts_slow_pre))) # firing rate change\n",
      "/root/capsule/code/beh_ephys_analysis/drift_analysis.py:380: RuntimeWarning: invalid value encountered in divide\n",
      "  plt.plot(temp_bins, (spike_counts_fast-spike_counts_slow_pre)/(0.5*(spike_counts_fast+spike_counts_slow_pre)), label='fast-slow')\n",
      "/root/capsule/code/beh_ephys_analysis/drift_analysis.py:385: RuntimeWarning: invalid value encountered in divide\n",
      "  plt.plot(temp_bins, np.abs(spike_counts_fast - spike_counts_slow_pre)/(0.5*(spike_counts_fast+spike_counts_slow_pre)), label='abs(fast-slow)')\n",
      "/root/capsule/code/beh_ephys_analysis/drift_analysis.py:422: UserWarning: No artists with labels found to put in legend.  Note that artists whose label start with an underscore are ignored when legend() is called with no argument.\n",
      "  plt.legend()\n",
      "/root/capsule/code/beh_ephys_analysis/drift_analysis.py:422: UserWarning: No artists with labels found to put in legend.  Note that artists whose label start with an underscore are ignored when legend() is called with no argument.\n",
      "  plt.legend()\n",
      "/root/capsule/code/beh_ephys_analysis/drift_analysis.py:422: UserWarning: No artists with labels found to put in legend.  Note that artists whose label start with an underscore are ignored when legend() is called with no argument.\n",
      "  plt.legend()\n",
      "/root/capsule/code/beh_ephys_analysis/drift_analysis.py:422: UserWarning: No artists with labels found to put in legend.  Note that artists whose label start with an underscore are ignored when legend() is called with no argument.\n",
      "  plt.legend()\n"
     ]
    },
    {
     "name": "stdout",
     "output_type": "stream",
     "text": [
      "Merging file 0 out of 5\n",
      "PDF files in '/root/capsule/scratch/751004/behavior_751004_2024-12-20_13-26-11/ephys/opto/curated/drift' merged into '/root/capsule/scratch/751004/behavior_751004_2024-12-20_13-26-11/ephys/opto/curated/behavior_751004_2024-12-20_13-26-11_drift.pdf' successfully.\n"
     ]
    },
    {
     "name": "stderr",
     "output_type": "stream",
     "text": [
      "/root/capsule/code/beh_ephys_analysis/drift_analysis.py:422: UserWarning: No artists with labels found to put in legend.  Note that artists whose label start with an underscore are ignored when legend() is called with no argument.\n",
      "  plt.legend()\n",
      "/root/capsule/code/beh_ephys_analysis/drift_analysis.py:422: UserWarning: No artists with labels found to put in legend.  Note that artists whose label start with an underscore are ignored when legend() is called with no argument.\n",
      "  plt.legend()\n",
      "/root/capsule/code/beh_ephys_analysis/drift_analysis.py:422: UserWarning: No artists with labels found to put in legend.  Note that artists whose label start with an underscore are ignored when legend() is called with no argument.\n",
      "  plt.legend()\n",
      "/root/capsule/code/beh_ephys_analysis/drift_analysis.py:422: UserWarning: No artists with labels found to put in legend.  Note that artists whose label start with an underscore are ignored when legend() is called with no argument.\n",
      "  plt.legend()\n",
      "/root/capsule/code/beh_ephys_analysis/drift_analysis.py:422: UserWarning: No artists with labels found to put in legend.  Note that artists whose label start with an underscore are ignored when legend() is called with no argument.\n",
      "  plt.legend()\n",
      "/root/capsule/code/beh_ephys_analysis/drift_analysis.py:312: RuntimeWarning: invalid value encountered in divide\n",
      "  z_diff_abs_fast = np.abs((spike_counts_fast - spike_counts_slow_pre)/(0.5*(spike_counts_fast + spike_counts_slow_pre))) # firing rate change\n",
      "/root/capsule/code/beh_ephys_analysis/drift_analysis.py:318: RuntimeWarning: invalid value encountered in divide\n",
      "  z_diff_abs_slow = np.abs(spike_counts_slow_post - spike_counts_slow_pre)/(0.5*(spike_counts_slow_post+spike_counts_slow_pre)) # firing rate change\n",
      "/root/capsule/code/beh_ephys_analysis/drift_analysis.py:380: RuntimeWarning: invalid value encountered in divide\n",
      "  plt.plot(temp_bins, (spike_counts_fast-spike_counts_slow_pre)/(0.5*(spike_counts_fast+spike_counts_slow_pre)), label='fast-slow')\n",
      "/root/capsule/code/beh_ephys_analysis/drift_analysis.py:381: RuntimeWarning: invalid value encountered in divide\n",
      "  plt.plot(temp_bins_slow_spike, (spike_counts_slow_post - spike_counts_slow_pre)/(0.5*(spike_counts_slow_pre + spike_counts_slow_post)), label = 'diff(slow)', c='r')\n",
      "/root/capsule/code/beh_ephys_analysis/drift_analysis.py:385: RuntimeWarning: invalid value encountered in divide\n",
      "  plt.plot(temp_bins, np.abs(spike_counts_fast - spike_counts_slow_pre)/(0.5*(spike_counts_fast+spike_counts_slow_pre)), label='abs(fast-slow)')\n",
      "/root/capsule/code/beh_ephys_analysis/drift_analysis.py:386: RuntimeWarning: invalid value encountered in divide\n",
      "  plt.plot(temp_bins_slow_spike, np.abs(spike_counts_slow_post - spike_counts_slow_pre)/(0.5*(spike_counts_slow_pre + spike_counts_slow_post)), label = 'abs(diff(slow))', c='r')\n",
      "/root/capsule/code/beh_ephys_analysis/drift_analysis.py:422: UserWarning: No artists with labels found to put in legend.  Note that artists whose label start with an underscore are ignored when legend() is called with no argument.\n",
      "  plt.legend()\n"
     ]
    },
    {
     "name": "stdout",
     "output_type": "stream",
     "text": [
      "behavior_758017_2025-02-06_11-26-14 start\n"
     ]
    },
    {
     "name": "stderr",
     "output_type": "stream",
     "text": [
      "/root/capsule/code/beh_ephys_analysis/drift_analysis.py:422: UserWarning: No artists with labels found to put in legend.  Note that artists whose label start with an underscore are ignored when legend() is called with no argument.\n",
      "  plt.legend()\n",
      "/root/capsule/code/beh_ephys_analysis/drift_analysis.py:422: UserWarning: No artists with labels found to put in legend.  Note that artists whose label start with an underscore are ignored when legend() is called with no argument.\n",
      "  plt.legend()\n",
      "/root/capsule/code/beh_ephys_analysis/drift_analysis.py:422: UserWarning: No artists with labels found to put in legend.  Note that artists whose label start with an underscore are ignored when legend() is called with no argument.\n",
      "  plt.legend()\n",
      "/root/capsule/code/beh_ephys_analysis/drift_analysis.py:422: UserWarning: No artists with labels found to put in legend.  Note that artists whose label start with an underscore are ignored when legend() is called with no argument.\n",
      "  plt.legend()\n",
      "/root/capsule/code/beh_ephys_analysis/drift_analysis.py:422: UserWarning: No artists with labels found to put in legend.  Note that artists whose label start with an underscore are ignored when legend() is called with no argument.\n",
      "  plt.legend()\n",
      "/root/capsule/code/beh_ephys_analysis/drift_analysis.py:422: UserWarning: No artists with labels found to put in legend.  Note that artists whose label start with an underscore are ignored when legend() is called with no argument.\n",
      "  plt.legend()\n",
      "/root/capsule/code/beh_ephys_analysis/drift_analysis.py:422: UserWarning: No artists with labels found to put in legend.  Note that artists whose label start with an underscore are ignored when legend() is called with no argument.\n",
      "  plt.legend()\n",
      "/opt/conda/lib/python3.10/site-packages/aind_dynamic_foraging_basic_analysis/plot/plot_foraging_session.py:504: UserWarning: Tight layout not applied. The left and right margins cannot be made large enough to accommodate all Axes decorations.\n",
      "  plt.tight_layout()\n",
      "/root/capsule/code/beh_ephys_analysis/drift_analysis.py:422: UserWarning: No artists with labels found to put in legend.  Note that artists whose label start with an underscore are ignored when legend() is called with no argument.\n",
      "  plt.legend()\n",
      "/root/capsule/code/beh_ephys_analysis/drift_analysis.py:422: UserWarning: No artists with labels found to put in legend.  Note that artists whose label start with an underscore are ignored when legend() is called with no argument.\n",
      "  plt.legend()\n",
      "/root/capsule/code/beh_ephys_analysis/drift_analysis.py:422: UserWarning: No artists with labels found to put in legend.  Note that artists whose label start with an underscore are ignored when legend() is called with no argument.\n",
      "  plt.legend()\n",
      "/root/capsule/code/beh_ephys_analysis/drift_analysis.py:422: UserWarning: No artists with labels found to put in legend.  Note that artists whose label start with an underscore are ignored when legend() is called with no argument.\n",
      "  plt.legend()\n",
      "/root/capsule/code/beh_ephys_analysis/drift_analysis.py:422: UserWarning: No artists with labels found to put in legend.  Note that artists whose label start with an underscore are ignored when legend() is called with no argument.\n",
      "  plt.legend()\n",
      "/root/capsule/code/beh_ephys_analysis/drift_analysis.py:422: UserWarning: No artists with labels found to put in legend.  Note that artists whose label start with an underscore are ignored when legend() is called with no argument.\n",
      "  plt.legend()\n"
     ]
    },
    {
     "name": "stdout",
     "output_type": "stream",
     "text": [
      "Merging file 0 out of 5\n",
      "PDF files in '/root/capsule/scratch/751769/behavior_751769_2025-01-16_11-32-05/ephys/opto/curated/drift' merged into '/root/capsule/scratch/751769/behavior_751769_2025-01-16_11-32-05/ephys/opto/curated/behavior_751769_2025-01-16_11-32-05_drift.pdf' successfully.\n"
     ]
    },
    {
     "name": "stderr",
     "output_type": "stream",
     "text": [
      "/root/capsule/code/beh_ephys_analysis/drift_analysis.py:422: UserWarning: No artists with labels found to put in legend.  Note that artists whose label start with an underscore are ignored when legend() is called with no argument.\n",
      "  plt.legend()\n",
      "/root/capsule/code/beh_ephys_analysis/drift_analysis.py:422: UserWarning: No artists with labels found to put in legend.  Note that artists whose label start with an underscore are ignored when legend() is called with no argument.\n",
      "  plt.legend()\n",
      "/root/capsule/code/beh_ephys_analysis/drift_analysis.py:422: UserWarning: No artists with labels found to put in legend.  Note that artists whose label start with an underscore are ignored when legend() is called with no argument.\n",
      "  plt.legend()\n",
      "/root/capsule/code/beh_ephys_analysis/drift_analysis.py:312: RuntimeWarning: invalid value encountered in divide\n",
      "  z_diff_abs_fast = np.abs((spike_counts_fast - spike_counts_slow_pre)/(0.5*(spike_counts_fast + spike_counts_slow_pre))) # firing rate change\n",
      "/root/capsule/code/beh_ephys_analysis/drift_analysis.py:318: RuntimeWarning: invalid value encountered in divide\n",
      "  z_diff_abs_slow = np.abs(spike_counts_slow_post - spike_counts_slow_pre)/(0.5*(spike_counts_slow_post+spike_counts_slow_pre)) # firing rate change\n",
      "/root/capsule/code/beh_ephys_analysis/drift_analysis.py:380: RuntimeWarning: invalid value encountered in divide\n",
      "  plt.plot(temp_bins, (spike_counts_fast-spike_counts_slow_pre)/(0.5*(spike_counts_fast+spike_counts_slow_pre)), label='fast-slow')\n",
      "/root/capsule/code/beh_ephys_analysis/drift_analysis.py:381: RuntimeWarning: invalid value encountered in divide\n",
      "  plt.plot(temp_bins_slow_spike, (spike_counts_slow_post - spike_counts_slow_pre)/(0.5*(spike_counts_slow_pre + spike_counts_slow_post)), label = 'diff(slow)', c='r')\n",
      "/root/capsule/code/beh_ephys_analysis/drift_analysis.py:385: RuntimeWarning: invalid value encountered in divide\n",
      "  plt.plot(temp_bins, np.abs(spike_counts_fast - spike_counts_slow_pre)/(0.5*(spike_counts_fast+spike_counts_slow_pre)), label='abs(fast-slow)')\n",
      "/root/capsule/code/beh_ephys_analysis/drift_analysis.py:386: RuntimeWarning: invalid value encountered in divide\n",
      "  plt.plot(temp_bins_slow_spike, np.abs(spike_counts_slow_post - spike_counts_slow_pre)/(0.5*(spike_counts_slow_pre + spike_counts_slow_post)), label = 'abs(diff(slow))', c='r')\n",
      "/root/capsule/code/beh_ephys_analysis/drift_analysis.py:422: UserWarning: No artists with labels found to put in legend.  Note that artists whose label start with an underscore are ignored when legend() is called with no argument.\n",
      "  plt.legend()\n",
      "/root/capsule/code/beh_ephys_analysis/drift_analysis.py:422: UserWarning: No artists with labels found to put in legend.  Note that artists whose label start with an underscore are ignored when legend() is called with no argument.\n",
      "  plt.legend()\n"
     ]
    },
    {
     "name": "stdout",
     "output_type": "stream",
     "text": [
      "Merging file 0 out of 11\n",
      "PDF files in '/root/capsule/scratch/758017/behavior_758017_2025-02-04_11-57-38/ephys/opto/curated/drift' merged into '/root/capsule/scratch/758017/behavior_758017_2025-02-04_11-57-38/ephys/opto/curated/behavior_758017_2025-02-04_11-57-38_drift.pdf' successfully.\n",
      "behavior_758017_2025-02-05_11-42-34 start\n",
      "behavior_751766_2025-02-11_11-53-38 start\n"
     ]
    },
    {
     "name": "stderr",
     "output_type": "stream",
     "text": [
      "/root/capsule/code/beh_ephys_analysis/drift_analysis.py:312: RuntimeWarning: invalid value encountered in divide\n",
      "  z_diff_abs_fast = np.abs((spike_counts_fast - spike_counts_slow_pre)/(0.5*(spike_counts_fast + spike_counts_slow_pre))) # firing rate change\n",
      "/root/capsule/code/beh_ephys_analysis/drift_analysis.py:318: RuntimeWarning: invalid value encountered in divide\n",
      "  z_diff_abs_slow = np.abs(spike_counts_slow_post - spike_counts_slow_pre)/(0.5*(spike_counts_slow_post+spike_counts_slow_pre)) # firing rate change\n",
      "/root/capsule/code/beh_ephys_analysis/drift_analysis.py:380: RuntimeWarning: invalid value encountered in divide\n",
      "  plt.plot(temp_bins, (spike_counts_fast-spike_counts_slow_pre)/(0.5*(spike_counts_fast+spike_counts_slow_pre)), label='fast-slow')\n",
      "/root/capsule/code/beh_ephys_analysis/drift_analysis.py:381: RuntimeWarning: invalid value encountered in divide\n",
      "  plt.plot(temp_bins_slow_spike, (spike_counts_slow_post - spike_counts_slow_pre)/(0.5*(spike_counts_slow_pre + spike_counts_slow_post)), label = 'diff(slow)', c='r')\n",
      "/root/capsule/code/beh_ephys_analysis/drift_analysis.py:385: RuntimeWarning: invalid value encountered in divide\n",
      "  plt.plot(temp_bins, np.abs(spike_counts_fast - spike_counts_slow_pre)/(0.5*(spike_counts_fast+spike_counts_slow_pre)), label='abs(fast-slow)')\n",
      "/root/capsule/code/beh_ephys_analysis/drift_analysis.py:386: RuntimeWarning: invalid value encountered in divide\n",
      "  plt.plot(temp_bins_slow_spike, np.abs(spike_counts_slow_post - spike_counts_slow_pre)/(0.5*(spike_counts_slow_pre + spike_counts_slow_post)), label = 'abs(diff(slow))', c='r')\n",
      "/root/capsule/code/beh_ephys_analysis/drift_analysis.py:422: UserWarning: No artists with labels found to put in legend.  Note that artists whose label start with an underscore are ignored when legend() is called with no argument.\n",
      "  plt.legend()\n"
     ]
    },
    {
     "name": "stdout",
     "output_type": "stream",
     "text": [
      "Merging file 0 out of 9\n",
      "PDF files in '/root/capsule/scratch/751769/behavior_751769_2025-01-18_10-15-25/ephys/opto/curated/drift' merged into '/root/capsule/scratch/751769/behavior_751769_2025-01-18_10-15-25/ephys/opto/curated/behavior_751769_2025-01-18_10-15-25_drift.pdf' successfully.\n",
      "Merging file 0 out of 2\n",
      "PDF files in '/root/capsule/scratch/758017/behavior_758017_2025-02-06_11-26-14/ephys/opto/curated/drift' merged into '/root/capsule/scratch/758017/behavior_758017_2025-02-06_11-26-14/ephys/opto/curated/behavior_758017_2025-02-06_11-26-14_drift.pdf' successfully.\n",
      "behavior_758017_2025-02-07_14-11-08 start\n"
     ]
    },
    {
     "name": "stderr",
     "output_type": "stream",
     "text": [
      "/opt/conda/lib/python3.10/site-packages/aind_dynamic_foraging_basic_analysis/plot/plot_foraging_session.py:504: UserWarning: Tight layout not applied. The left and right margins cannot be made large enough to accommodate all Axes decorations.\n",
      "  plt.tight_layout()\n",
      "/opt/conda/lib/python3.10/site-packages/aind_dynamic_foraging_basic_analysis/plot/plot_foraging_session.py:504: UserWarning: Tight layout not applied. The left and right margins cannot be made large enough to accommodate all Axes decorations.\n",
      "  plt.tight_layout()\n"
     ]
    },
    {
     "name": "stdout",
     "output_type": "stream",
     "text": [
      "behavior_751766_2025-02-14_11-37-11 start\n"
     ]
    },
    {
     "name": "stderr",
     "output_type": "stream",
     "text": [
      "/opt/conda/lib/python3.10/site-packages/aind_dynamic_foraging_basic_analysis/plot/plot_foraging_session.py:504: UserWarning: Tight layout not applied. The left and right margins cannot be made large enough to accommodate all Axes decorations.\n",
      "  plt.tight_layout()\n",
      "/opt/conda/lib/python3.10/site-packages/aind_dynamic_foraging_basic_analysis/plot/plot_foraging_session.py:504: UserWarning: Tight layout not applied. The left and right margins cannot be made large enough to accommodate all Axes decorations.\n",
      "  plt.tight_layout()\n",
      "/root/capsule/code/beh_ephys_analysis/drift_analysis.py:422: UserWarning: No artists with labels found to put in legend.  Note that artists whose label start with an underscore are ignored when legend() is called with no argument.\n",
      "  plt.legend()\n",
      "/root/capsule/code/beh_ephys_analysis/drift_analysis.py:422: UserWarning: No artists with labels found to put in legend.  Note that artists whose label start with an underscore are ignored when legend() is called with no argument.\n",
      "  plt.legend()\n",
      "/root/capsule/code/beh_ephys_analysis/drift_analysis.py:422: UserWarning: No artists with labels found to put in legend.  Note that artists whose label start with an underscore are ignored when legend() is called with no argument.\n",
      "  plt.legend()\n",
      "/root/capsule/code/beh_ephys_analysis/drift_analysis.py:422: UserWarning: No artists with labels found to put in legend.  Note that artists whose label start with an underscore are ignored when legend() is called with no argument.\n",
      "  plt.legend()\n",
      "/root/capsule/code/beh_ephys_analysis/drift_analysis.py:422: UserWarning: No artists with labels found to put in legend.  Note that artists whose label start with an underscore are ignored when legend() is called with no argument.\n",
      "  plt.legend()\n",
      "/root/capsule/code/beh_ephys_analysis/drift_analysis.py:422: UserWarning: No artists with labels found to put in legend.  Note that artists whose label start with an underscore are ignored when legend() is called with no argument.\n",
      "  plt.legend()\n",
      "/root/capsule/code/beh_ephys_analysis/drift_analysis.py:422: UserWarning: No artists with labels found to put in legend.  Note that artists whose label start with an underscore are ignored when legend() is called with no argument.\n",
      "  plt.legend()\n"
     ]
    },
    {
     "name": "stdout",
     "output_type": "stream",
     "text": [
      "Merging file 0 out of 3\n",
      "PDF files in '/root/capsule/scratch/758017/behavior_758017_2025-02-07_14-11-08/ephys/opto/curated/drift' merged into '/root/capsule/scratch/758017/behavior_758017_2025-02-07_14-11-08/ephys/opto/curated/behavior_758017_2025-02-07_14-11-08_drift.pdf' successfully.\n",
      "Merging file 0 out of 4\n",
      "PDF files in '/root/capsule/scratch/758017/behavior_758017_2025-02-05_11-42-34/ephys/opto/curated/drift' merged into '/root/capsule/scratch/758017/behavior_758017_2025-02-05_11-42-34/ephys/opto/curated/behavior_758017_2025-02-05_11-42-34_drift.pdf' successfully.\n"
     ]
    },
    {
     "name": "stderr",
     "output_type": "stream",
     "text": [
      "/root/capsule/code/beh_ephys_analysis/drift_analysis.py:422: UserWarning: No artists with labels found to put in legend.  Note that artists whose label start with an underscore are ignored when legend() is called with no argument.\n",
      "  plt.legend()\n",
      "/root/capsule/code/beh_ephys_analysis/drift_analysis.py:422: UserWarning: No artists with labels found to put in legend.  Note that artists whose label start with an underscore are ignored when legend() is called with no argument.\n",
      "  plt.legend()\n",
      "/root/capsule/code/beh_ephys_analysis/drift_analysis.py:422: UserWarning: No artists with labels found to put in legend.  Note that artists whose label start with an underscore are ignored when legend() is called with no argument.\n",
      "  plt.legend()\n",
      "/root/capsule/code/beh_ephys_analysis/drift_analysis.py:422: UserWarning: No artists with labels found to put in legend.  Note that artists whose label start with an underscore are ignored when legend() is called with no argument.\n",
      "  plt.legend()\n",
      "/root/capsule/code/beh_ephys_analysis/drift_analysis.py:422: UserWarning: No artists with labels found to put in legend.  Note that artists whose label start with an underscore are ignored when legend() is called with no argument.\n",
      "  plt.legend()\n",
      "/root/capsule/code/beh_ephys_analysis/drift_analysis.py:422: UserWarning: No artists with labels found to put in legend.  Note that artists whose label start with an underscore are ignored when legend() is called with no argument.\n",
      "  plt.legend()\n",
      "/root/capsule/code/beh_ephys_analysis/drift_analysis.py:422: UserWarning: No artists with labels found to put in legend.  Note that artists whose label start with an underscore are ignored when legend() is called with no argument.\n",
      "  plt.legend()\n",
      "/root/capsule/code/beh_ephys_analysis/drift_analysis.py:422: UserWarning: No artists with labels found to put in legend.  Note that artists whose label start with an underscore are ignored when legend() is called with no argument.\n",
      "  plt.legend()\n",
      "/root/capsule/code/beh_ephys_analysis/drift_analysis.py:422: UserWarning: No artists with labels found to put in legend.  Note that artists whose label start with an underscore are ignored when legend() is called with no argument.\n",
      "  plt.legend()\n",
      "/root/capsule/code/beh_ephys_analysis/drift_analysis.py:422: UserWarning: No artists with labels found to put in legend.  Note that artists whose label start with an underscore are ignored when legend() is called with no argument.\n",
      "  plt.legend()\n"
     ]
    },
    {
     "name": "stdout",
     "output_type": "stream",
     "text": [
      "Merging file 0 out of 7\n",
      "PDF files in '/root/capsule/scratch/751766/behavior_751766_2025-02-11_11-53-38/ephys/opto/curated/drift' merged into '/root/capsule/scratch/751766/behavior_751766_2025-02-11_11-53-38/ephys/opto/curated/behavior_751766_2025-02-11_11-53-38_drift.pdf' successfully.\n",
      "behavior_751766_2025-02-13_11-31-21 start\n"
     ]
    },
    {
     "name": "stderr",
     "output_type": "stream",
     "text": [
      "/root/capsule/code/beh_ephys_analysis/drift_analysis.py:422: UserWarning: No artists with labels found to put in legend.  Note that artists whose label start with an underscore are ignored when legend() is called with no argument.\n",
      "  plt.legend()\n",
      "/root/capsule/code/beh_ephys_analysis/drift_analysis.py:422: UserWarning: No artists with labels found to put in legend.  Note that artists whose label start with an underscore are ignored when legend() is called with no argument.\n",
      "  plt.legend()\n",
      "/opt/conda/lib/python3.10/site-packages/aind_dynamic_foraging_basic_analysis/plot/plot_foraging_session.py:504: UserWarning: Tight layout not applied. The left and right margins cannot be made large enough to accommodate all Axes decorations.\n",
      "  plt.tight_layout()\n",
      "/root/capsule/code/beh_ephys_analysis/drift_analysis.py:422: UserWarning: No artists with labels found to put in legend.  Note that artists whose label start with an underscore are ignored when legend() is called with no argument.\n",
      "  plt.legend()\n",
      "/root/capsule/code/beh_ephys_analysis/drift_analysis.py:422: UserWarning: No artists with labels found to put in legend.  Note that artists whose label start with an underscore are ignored when legend() is called with no argument.\n",
      "  plt.legend()\n",
      "/root/capsule/code/beh_ephys_analysis/drift_analysis.py:422: UserWarning: No artists with labels found to put in legend.  Note that artists whose label start with an underscore are ignored when legend() is called with no argument.\n",
      "  plt.legend()\n",
      "/root/capsule/code/beh_ephys_analysis/drift_analysis.py:422: UserWarning: No artists with labels found to put in legend.  Note that artists whose label start with an underscore are ignored when legend() is called with no argument.\n",
      "  plt.legend()\n"
     ]
    },
    {
     "name": "stdout",
     "output_type": "stream",
     "text": [
      "Merging file 0 out of 9\n",
      "PDF files in '/root/capsule/scratch/751766/behavior_751766_2025-02-14_11-37-11/ephys/opto/curated/drift' merged into '/root/capsule/scratch/751766/behavior_751766_2025-02-14_11-37-11/ephys/opto/curated/behavior_751766_2025-02-14_11-37-11_drift.pdf' successfully.\n"
     ]
    },
    {
     "name": "stderr",
     "output_type": "stream",
     "text": [
      "/root/capsule/code/beh_ephys_analysis/drift_analysis.py:422: UserWarning: No artists with labels found to put in legend.  Note that artists whose label start with an underscore are ignored when legend() is called with no argument.\n",
      "  plt.legend()\n",
      "/root/capsule/code/beh_ephys_analysis/drift_analysis.py:422: UserWarning: No artists with labels found to put in legend.  Note that artists whose label start with an underscore are ignored when legend() is called with no argument.\n",
      "  plt.legend()\n",
      "/root/capsule/code/beh_ephys_analysis/drift_analysis.py:422: UserWarning: No artists with labels found to put in legend.  Note that artists whose label start with an underscore are ignored when legend() is called with no argument.\n",
      "  plt.legend()\n"
     ]
    },
    {
     "name": "stdout",
     "output_type": "stream",
     "text": [
      "Merging file 0 out of 3\n",
      "PDF files in '/root/capsule/scratch/751766/behavior_751766_2025-02-13_11-31-21/ephys/opto/curated/drift' merged into '/root/capsule/scratch/751766/behavior_751766_2025-02-13_11-31-21/ephys/opto/curated/behavior_751766_2025-02-13_11-31-21_drift.pdf' successfully.\n"
     ]
    },
    {
     "data": {
      "text/plain": [
       "[None,\n",
       " None,\n",
       " None,\n",
       " None,\n",
       " None,\n",
       " None,\n",
       " None,\n",
       " None,\n",
       " None,\n",
       " None,\n",
       " None,\n",
       " None,\n",
       " None,\n",
       " None,\n",
       " None,\n",
       " None,\n",
       " None,\n",
       " None,\n",
       " None,\n",
       " None,\n",
       " None,\n",
       " None,\n",
       " None,\n",
       " None,\n",
       " None,\n",
       " None,\n",
       " None,\n",
       " None,\n",
       " None,\n",
       " None,\n",
       " None,\n",
       " None,\n",
       " None,\n",
       " None,\n",
       " None,\n",
       " None,\n",
       " None,\n",
       " None,\n",
       " None,\n",
       " None,\n",
       " None,\n",
       " None,\n",
       " None,\n",
       " None,\n",
       " None,\n",
       " None,\n",
       " None]"
      ]
     },
     "execution_count": 6,
     "metadata": {},
     "output_type": "execute_result"
    }
   ],
   "source": [
    "datatype = 'curated'\n",
    "list_exclude = ['716325', '717121', '717259', '717263', '714116', '724172', '722832', '739977', '744779', '739970', '751181', '751766_2025-02-15_12-08-11']\n",
    "def process(session, data_type):\n",
    "    if not any(exclude in session for exclude in list_exclude):\n",
    "        print(f'{session} start')\n",
    "        try:\n",
    "            plot_session_opto_drift(session, data_type, update_csv=True, plot=True)\n",
    "        except:\n",
    "            plot(f'{session} failed')   \n",
    "Parallel(n_jobs=4)(delayed(process)(session, data_type = datatype) for session in session_list)"
   ]
  },
  {
   "cell_type": "code",
   "execution_count": null,
   "metadata": {},
   "outputs": [
    {
     "name": "stdout",
     "output_type": "stream",
     "text": [
      "behavior_717121_2024-06-15_10-00-58 start\n",
      "behavior_717121_2024-06-15_10-00-58\n"
     ]
    },
    {
     "name": "stderr",
     "output_type": "stream",
     "text": [
      "/opt/conda/lib/python3.10/site-packages/scipy/stats/_stats_py.py:7335: RuntimeWarning: invalid value encountered in divide\n",
      "  terms = (f_obs - f_exp)**2 / f_exp\n"
     ]
    },
    {
     "name": "stdout",
     "output_type": "stream",
     "text": [
      "behavior_717121_2024-06-15_10-00-58\n"
     ]
    },
    {
     "name": "stderr",
     "output_type": "stream",
     "text": [
      "/opt/conda/lib/python3.10/site-packages/hdmf/spec/namespace.py:535: UserWarning: Ignoring cached namespace 'core' version 2.6.0-alpha because version 2.7.0 is already loaded.\n",
      "  warn(\"Ignoring cached namespace '%s' version %s because version %s is already loaded.\"\n",
      "/opt/conda/lib/python3.10/site-packages/spikeinterface/core/base.py:1109: UserWarning: Versions are not the same. This might lead to compatibility errors. Using spikeinterface==0.100.7 is recommended\n",
      "  warnings.warn(\n",
      "/opt/conda/lib/python3.10/site-packages/spikeinterface/core/waveforms_extractor_backwards_compatibility.py:650: UserWarning: Removing legacy parameter return_scaled from spike_amplitudes extension\n",
      "  warnings.warn(f\"Removing legacy parameter {p} from {old_name} extension\")\n",
      "/opt/conda/lib/python3.10/site-packages/spikeinterface/core/waveforms_extractor_backwards_compatibility.py:650: UserWarning: Removing legacy parameter metrics_kwargs from template_metrics extension\n",
      "  warnings.warn(f\"Removing legacy parameter {p} from {old_name} extension\")\n",
      "/opt/conda/lib/python3.10/site-packages/spikeinterface/core/waveforms_extractor_backwards_compatibility.py:650: UserWarning: Removing legacy parameter method_kwargs from unit_locations extension\n",
      "  warnings.warn(f\"Removing legacy parameter {p} from {old_name} extension\")\n",
      "/opt/conda/lib/python3.10/site-packages/spikeinterface/core/waveforms_extractor_backwards_compatibility.py:650: UserWarning: Removing legacy parameter sparsity from quality_metrics extension\n",
      "  warnings.warn(f\"Removing legacy parameter {p} from {old_name} extension\")\n",
      "/opt/conda/lib/python3.10/site-packages/spikeinterface/core/waveforms_extractor_backwards_compatibility.py:650: UserWarning: Removing legacy parameter qm_params from quality_metrics extension\n",
      "  warnings.warn(f\"Removing legacy parameter {p} from {old_name} extension\")\n",
      "/opt/conda/lib/python3.10/site-packages/spikeinterface/core/waveforms_extractor_backwards_compatibility.py:650: UserWarning: Removing legacy parameter sparsity from principal_components extension\n",
      "  warnings.warn(f\"Removing legacy parameter {p} from {old_name} extension\")\n",
      "/opt/conda/lib/python3.10/site-packages/spikeinterface/core/waveforms_extractor_backwards_compatibility.py:650: UserWarning: Removing legacy parameter tmp_folder from principal_components extension\n",
      "  warnings.warn(f\"Removing legacy parameter {p} from {old_name} extension\")\n",
      "/opt/conda/lib/python3.10/site-packages/spikeinterface/core/base.py:1109: UserWarning: Versions are not the same. This might lead to compatibility errors. Using spikeinterface==0.100.7 is recommended\n",
      "  warnings.warn(\n",
      "/opt/conda/lib/python3.10/site-packages/spikeinterface/core/waveforms_extractor_backwards_compatibility.py:650: UserWarning: Removing legacy parameter return_scaled from spike_amplitudes extension\n",
      "  warnings.warn(f\"Removing legacy parameter {p} from {old_name} extension\")\n",
      "/opt/conda/lib/python3.10/site-packages/spikeinterface/core/waveforms_extractor_backwards_compatibility.py:650: UserWarning: Removing legacy parameter metrics_kwargs from template_metrics extension\n",
      "  warnings.warn(f\"Removing legacy parameter {p} from {old_name} extension\")\n",
      "/opt/conda/lib/python3.10/site-packages/spikeinterface/core/waveforms_extractor_backwards_compatibility.py:650: UserWarning: Removing legacy parameter method_kwargs from unit_locations extension\n",
      "  warnings.warn(f\"Removing legacy parameter {p} from {old_name} extension\")\n",
      "/opt/conda/lib/python3.10/site-packages/spikeinterface/core/waveforms_extractor_backwards_compatibility.py:650: UserWarning: Removing legacy parameter sparsity from quality_metrics extension\n",
      "  warnings.warn(f\"Removing legacy parameter {p} from {old_name} extension\")\n",
      "/opt/conda/lib/python3.10/site-packages/spikeinterface/core/waveforms_extractor_backwards_compatibility.py:650: UserWarning: Removing legacy parameter qm_params from quality_metrics extension\n",
      "  warnings.warn(f\"Removing legacy parameter {p} from {old_name} extension\")\n",
      "/opt/conda/lib/python3.10/site-packages/spikeinterface/core/waveforms_extractor_backwards_compatibility.py:650: UserWarning: Removing legacy parameter sparsity from principal_components extension\n",
      "  warnings.warn(f\"Removing legacy parameter {p} from {old_name} extension\")\n",
      "/opt/conda/lib/python3.10/site-packages/spikeinterface/core/waveforms_extractor_backwards_compatibility.py:650: UserWarning: Removing legacy parameter tmp_folder from principal_components extension\n",
      "  warnings.warn(f\"Removing legacy parameter {p} from {old_name} extension\")\n",
      "/opt/conda/lib/python3.10/site-packages/spikeinterface/core/base.py:1109: UserWarning: Versions are not the same. This might lead to compatibility errors. Using spikeinterface==0.100.7 is recommended\n",
      "  warnings.warn(\n",
      "/opt/conda/lib/python3.10/site-packages/spikeinterface/core/base.py:1109: UserWarning: Versions are not the same. This might lead to compatibility errors. Using spikeinterface==0.100.7 is recommended\n",
      "  warnings.warn(\n",
      "/opt/conda/lib/python3.10/site-packages/spikeinterface/core/waveforms_extractor_backwards_compatibility.py:650: UserWarning: Removing legacy parameter return_scaled from spike_amplitudes extension\n",
      "  warnings.warn(f\"Removing legacy parameter {p} from {old_name} extension\")\n",
      "/opt/conda/lib/python3.10/site-packages/spikeinterface/core/waveforms_extractor_backwards_compatibility.py:650: UserWarning: Removing legacy parameter metrics_kwargs from template_metrics extension\n",
      "  warnings.warn(f\"Removing legacy parameter {p} from {old_name} extension\")\n",
      "/opt/conda/lib/python3.10/site-packages/spikeinterface/core/waveforms_extractor_backwards_compatibility.py:650: UserWarning: Removing legacy parameter method_kwargs from unit_locations extension\n",
      "  warnings.warn(f\"Removing legacy parameter {p} from {old_name} extension\")\n",
      "/opt/conda/lib/python3.10/site-packages/spikeinterface/core/waveforms_extractor_backwards_compatibility.py:650: UserWarning: Removing legacy parameter sparsity from quality_metrics extension\n",
      "  warnings.warn(f\"Removing legacy parameter {p} from {old_name} extension\")\n",
      "/opt/conda/lib/python3.10/site-packages/spikeinterface/core/waveforms_extractor_backwards_compatibility.py:650: UserWarning: Removing legacy parameter qm_params from quality_metrics extension\n",
      "  warnings.warn(f\"Removing legacy parameter {p} from {old_name} extension\")\n",
      "/opt/conda/lib/python3.10/site-packages/spikeinterface/core/waveforms_extractor_backwards_compatibility.py:650: UserWarning: Removing legacy parameter sparsity from principal_components extension\n",
      "  warnings.warn(f\"Removing legacy parameter {p} from {old_name} extension\")\n",
      "/opt/conda/lib/python3.10/site-packages/spikeinterface/core/waveforms_extractor_backwards_compatibility.py:650: UserWarning: Removing legacy parameter tmp_folder from principal_components extension\n",
      "  warnings.warn(f\"Removing legacy parameter {p} from {old_name} extension\")\n",
      "/opt/conda/lib/python3.10/site-packages/spikeinterface/core/base.py:1109: UserWarning: Versions are not the same. This might lead to compatibility errors. Using spikeinterface==0.100.7 is recommended\n",
      "  warnings.warn(\n",
      "/opt/conda/lib/python3.10/site-packages/spikeinterface/core/base.py:1109: UserWarning: Versions are not the same. This might lead to compatibility errors. Using spikeinterface==0.101.2 is recommended\n",
      "  warnings.warn(\n",
      "/opt/conda/lib/python3.10/site-packages/numpy/lib/_function_base_impl.py:2999: RuntimeWarning: invalid value encountered in divide\n",
      "  c /= stddev[:, None]\n",
      "/opt/conda/lib/python3.10/site-packages/numpy/lib/_function_base_impl.py:3000: RuntimeWarning: invalid value encountered in divide\n",
      "  c /= stddev[None, :]\n",
      "/opt/conda/lib/python3.10/site-packages/numpy/lib/_function_base_impl.py:2999: RuntimeWarning: invalid value encountered in divide\n",
      "  c /= stddev[:, None]\n",
      "/opt/conda/lib/python3.10/site-packages/numpy/lib/_function_base_impl.py:3000: RuntimeWarning: invalid value encountered in divide\n",
      "  c /= stddev[None, :]\n",
      "/opt/conda/lib/python3.10/site-packages/numpy/lib/_function_base_impl.py:2999: RuntimeWarning: invalid value encountered in divide\n",
      "  c /= stddev[:, None]\n",
      "/opt/conda/lib/python3.10/site-packages/numpy/lib/_function_base_impl.py:3000: RuntimeWarning: invalid value encountered in divide\n",
      "  c /= stddev[None, :]\n",
      "/opt/conda/lib/python3.10/site-packages/numpy/lib/_function_base_impl.py:2999: RuntimeWarning: invalid value encountered in divide\n",
      "  c /= stddev[:, None]\n",
      "/opt/conda/lib/python3.10/site-packages/numpy/lib/_function_base_impl.py:3000: RuntimeWarning: invalid value encountered in divide\n",
      "  c /= stddev[None, :]\n",
      "/opt/conda/lib/python3.10/site-packages/spikeinterface/core/base.py:1109: UserWarning: Versions are not the same. This might lead to compatibility errors. Using spikeinterface==0.100.7 is recommended\n",
      "  warnings.warn(\n",
      "/opt/conda/lib/python3.10/site-packages/spikeinterface/core/waveforms_extractor_backwards_compatibility.py:650: UserWarning: Removing legacy parameter return_scaled from spike_amplitudes extension\n",
      "  warnings.warn(f\"Removing legacy parameter {p} from {old_name} extension\")\n",
      "/opt/conda/lib/python3.10/site-packages/spikeinterface/core/waveforms_extractor_backwards_compatibility.py:650: UserWarning: Removing legacy parameter metrics_kwargs from template_metrics extension\n",
      "  warnings.warn(f\"Removing legacy parameter {p} from {old_name} extension\")\n",
      "/opt/conda/lib/python3.10/site-packages/spikeinterface/core/waveforms_extractor_backwards_compatibility.py:650: UserWarning: Removing legacy parameter method_kwargs from unit_locations extension\n",
      "  warnings.warn(f\"Removing legacy parameter {p} from {old_name} extension\")\n",
      "/opt/conda/lib/python3.10/site-packages/spikeinterface/core/waveforms_extractor_backwards_compatibility.py:650: UserWarning: Removing legacy parameter sparsity from quality_metrics extension\n",
      "  warnings.warn(f\"Removing legacy parameter {p} from {old_name} extension\")\n",
      "/opt/conda/lib/python3.10/site-packages/spikeinterface/core/waveforms_extractor_backwards_compatibility.py:650: UserWarning: Removing legacy parameter qm_params from quality_metrics extension\n",
      "  warnings.warn(f\"Removing legacy parameter {p} from {old_name} extension\")\n",
      "/opt/conda/lib/python3.10/site-packages/spikeinterface/core/waveforms_extractor_backwards_compatibility.py:650: UserWarning: Removing legacy parameter sparsity from principal_components extension\n",
      "  warnings.warn(f\"Removing legacy parameter {p} from {old_name} extension\")\n",
      "/opt/conda/lib/python3.10/site-packages/spikeinterface/core/waveforms_extractor_backwards_compatibility.py:650: UserWarning: Removing legacy parameter tmp_folder from principal_components extension\n",
      "  warnings.warn(f\"Removing legacy parameter {p} from {old_name} extension\")\n",
      "/opt/conda/lib/python3.10/site-packages/hdmf/spec/namespace.py:535: UserWarning: Ignoring cached namespace 'core' version 2.6.0-alpha because version 2.7.0 is already loaded.\n",
      "  warn(\"Ignoring cached namespace '%s' version %s because version %s is already loaded.\"\n",
      "/root/capsule/code/beh_ephys_analysis/opto_tagging.py:351: FutureWarning: errors='ignore' is deprecated and will raise in a future version. Use to_numeric without passing `errors` and catch exceptions explicitly instead\n",
      "  unit_qc = unit_qc.apply(pd.to_numeric, errors='ignore')\n"
     ]
    },
    {
     "name": "stdout",
     "output_type": "stream",
     "text": [
      "48 out of 243 units pass quality control\n",
      "{'samples_to_keep': [-30, 60], 'y_neighbors_to_keep': 3, 'orginal_loc': False}\n"
     ]
    },
    {
     "name": "stderr",
     "output_type": "stream",
     "text": [
      "/root/capsule/code/beh_ephys_analysis/opto_tagging.py:390: FutureWarning: errors='ignore' is deprecated and will raise in a future version. Use to_numeric without passing `errors` and catch exceptions explicitly instead\n",
      "  opto_wf = opto_wf.apply(pd.to_numeric, errors='ignore')\n"
     ]
    },
    {
     "name": "stdout",
     "output_type": "stream",
     "text": [
      "Merging file 0 out of 243\n",
      "Merging file 50 out of 243\n",
      "Merging file 100 out of 243\n",
      "Merging file 150 out of 243\n",
      "Merging file 200 out of 243\n",
      "PDF files in '/root/capsule/scratch/717121/behavior_717121_2024-06-15_10-00-58/ephys/opto/curated/figures' merged into '/root/capsule/scratch/717121/behavior_717121_2024-06-15_10-00-58/ephys/opto/curated/behavior_717121_2024-06-15_10-00-58_opto_tagging.pdf' successfully.\n",
      "0 out of 243 units pass quality control and opto tagging\n",
      "Failed to process behavior_717121_2024-06-15_10-00-58\n",
      "behavior_716325_2024-05-31_10-31-14 start\n",
      "behavior_716325_2024-05-31_10-31-14\n",
      "behavior_716325_2024-05-31_10-31-14\n"
     ]
    },
    {
     "name": "stderr",
     "output_type": "stream",
     "text": [
      "/opt/conda/lib/python3.10/site-packages/hdmf/spec/namespace.py:535: UserWarning: Ignoring cached namespace 'core' version 2.6.0-alpha because version 2.7.0 is already loaded.\n",
      "  warn(\"Ignoring cached namespace '%s' version %s because version %s is already loaded.\"\n",
      "/opt/conda/lib/python3.10/site-packages/spikeinterface/core/base.py:1109: UserWarning: Versions are not the same. This might lead to compatibility errors. Using spikeinterface==0.100.7 is recommended\n",
      "  warnings.warn(\n",
      "/opt/conda/lib/python3.10/site-packages/spikeinterface/core/waveforms_extractor_backwards_compatibility.py:650: UserWarning: Removing legacy parameter return_scaled from spike_amplitudes extension\n",
      "  warnings.warn(f\"Removing legacy parameter {p} from {old_name} extension\")\n",
      "/opt/conda/lib/python3.10/site-packages/spikeinterface/core/waveforms_extractor_backwards_compatibility.py:650: UserWarning: Removing legacy parameter metrics_kwargs from template_metrics extension\n",
      "  warnings.warn(f\"Removing legacy parameter {p} from {old_name} extension\")\n",
      "/opt/conda/lib/python3.10/site-packages/spikeinterface/core/waveforms_extractor_backwards_compatibility.py:650: UserWarning: Removing legacy parameter method_kwargs from unit_locations extension\n",
      "  warnings.warn(f\"Removing legacy parameter {p} from {old_name} extension\")\n",
      "/opt/conda/lib/python3.10/site-packages/spikeinterface/core/waveforms_extractor_backwards_compatibility.py:650: UserWarning: Removing legacy parameter sparsity from quality_metrics extension\n",
      "  warnings.warn(f\"Removing legacy parameter {p} from {old_name} extension\")\n",
      "/opt/conda/lib/python3.10/site-packages/spikeinterface/core/waveforms_extractor_backwards_compatibility.py:650: UserWarning: Removing legacy parameter qm_params from quality_metrics extension\n",
      "  warnings.warn(f\"Removing legacy parameter {p} from {old_name} extension\")\n",
      "/opt/conda/lib/python3.10/site-packages/spikeinterface/core/waveforms_extractor_backwards_compatibility.py:650: UserWarning: Removing legacy parameter sparsity from principal_components extension\n",
      "  warnings.warn(f\"Removing legacy parameter {p} from {old_name} extension\")\n",
      "/opt/conda/lib/python3.10/site-packages/spikeinterface/core/waveforms_extractor_backwards_compatibility.py:650: UserWarning: Removing legacy parameter tmp_folder from principal_components extension\n",
      "  warnings.warn(f\"Removing legacy parameter {p} from {old_name} extension\")\n",
      "/opt/conda/lib/python3.10/site-packages/spikeinterface/core/base.py:1109: UserWarning: Versions are not the same. This might lead to compatibility errors. Using spikeinterface==0.100.7 is recommended\n",
      "  warnings.warn(\n",
      "/opt/conda/lib/python3.10/site-packages/spikeinterface/core/waveforms_extractor_backwards_compatibility.py:650: UserWarning: Removing legacy parameter return_scaled from spike_amplitudes extension\n",
      "  warnings.warn(f\"Removing legacy parameter {p} from {old_name} extension\")\n",
      "/opt/conda/lib/python3.10/site-packages/spikeinterface/core/waveforms_extractor_backwards_compatibility.py:650: UserWarning: Removing legacy parameter metrics_kwargs from template_metrics extension\n",
      "  warnings.warn(f\"Removing legacy parameter {p} from {old_name} extension\")\n",
      "/opt/conda/lib/python3.10/site-packages/spikeinterface/core/waveforms_extractor_backwards_compatibility.py:650: UserWarning: Removing legacy parameter method_kwargs from unit_locations extension\n",
      "  warnings.warn(f\"Removing legacy parameter {p} from {old_name} extension\")\n",
      "/opt/conda/lib/python3.10/site-packages/spikeinterface/core/waveforms_extractor_backwards_compatibility.py:650: UserWarning: Removing legacy parameter sparsity from quality_metrics extension\n",
      "  warnings.warn(f\"Removing legacy parameter {p} from {old_name} extension\")\n",
      "/opt/conda/lib/python3.10/site-packages/spikeinterface/core/waveforms_extractor_backwards_compatibility.py:650: UserWarning: Removing legacy parameter qm_params from quality_metrics extension\n",
      "  warnings.warn(f\"Removing legacy parameter {p} from {old_name} extension\")\n",
      "/opt/conda/lib/python3.10/site-packages/spikeinterface/core/waveforms_extractor_backwards_compatibility.py:650: UserWarning: Removing legacy parameter sparsity from principal_components extension\n",
      "  warnings.warn(f\"Removing legacy parameter {p} from {old_name} extension\")\n",
      "/opt/conda/lib/python3.10/site-packages/spikeinterface/core/waveforms_extractor_backwards_compatibility.py:650: UserWarning: Removing legacy parameter tmp_folder from principal_components extension\n",
      "  warnings.warn(f\"Removing legacy parameter {p} from {old_name} extension\")\n",
      "/opt/conda/lib/python3.10/site-packages/spikeinterface/core/base.py:1109: UserWarning: Versions are not the same. This might lead to compatibility errors. Using spikeinterface==0.100.7 is recommended\n",
      "  warnings.warn(\n",
      "/opt/conda/lib/python3.10/site-packages/spikeinterface/core/base.py:1109: UserWarning: Versions are not the same. This might lead to compatibility errors. Using spikeinterface==0.100.7 is recommended\n",
      "  warnings.warn(\n",
      "/opt/conda/lib/python3.10/site-packages/spikeinterface/core/waveforms_extractor_backwards_compatibility.py:650: UserWarning: Removing legacy parameter return_scaled from spike_amplitudes extension\n",
      "  warnings.warn(f\"Removing legacy parameter {p} from {old_name} extension\")\n",
      "/opt/conda/lib/python3.10/site-packages/spikeinterface/core/waveforms_extractor_backwards_compatibility.py:650: UserWarning: Removing legacy parameter metrics_kwargs from template_metrics extension\n",
      "  warnings.warn(f\"Removing legacy parameter {p} from {old_name} extension\")\n",
      "/opt/conda/lib/python3.10/site-packages/spikeinterface/core/waveforms_extractor_backwards_compatibility.py:650: UserWarning: Removing legacy parameter method_kwargs from unit_locations extension\n",
      "  warnings.warn(f\"Removing legacy parameter {p} from {old_name} extension\")\n",
      "/opt/conda/lib/python3.10/site-packages/spikeinterface/core/waveforms_extractor_backwards_compatibility.py:650: UserWarning: Removing legacy parameter sparsity from quality_metrics extension\n",
      "  warnings.warn(f\"Removing legacy parameter {p} from {old_name} extension\")\n",
      "/opt/conda/lib/python3.10/site-packages/spikeinterface/core/waveforms_extractor_backwards_compatibility.py:650: UserWarning: Removing legacy parameter qm_params from quality_metrics extension\n",
      "  warnings.warn(f\"Removing legacy parameter {p} from {old_name} extension\")\n",
      "/opt/conda/lib/python3.10/site-packages/spikeinterface/core/waveforms_extractor_backwards_compatibility.py:650: UserWarning: Removing legacy parameter sparsity from principal_components extension\n",
      "  warnings.warn(f\"Removing legacy parameter {p} from {old_name} extension\")\n",
      "/opt/conda/lib/python3.10/site-packages/spikeinterface/core/waveforms_extractor_backwards_compatibility.py:650: UserWarning: Removing legacy parameter tmp_folder from principal_components extension\n",
      "  warnings.warn(f\"Removing legacy parameter {p} from {old_name} extension\")\n",
      "/opt/conda/lib/python3.10/site-packages/spikeinterface/core/base.py:1109: UserWarning: Versions are not the same. This might lead to compatibility errors. Using spikeinterface==0.100.7 is recommended\n",
      "  warnings.warn(\n",
      "/opt/conda/lib/python3.10/site-packages/spikeinterface/core/base.py:1109: UserWarning: Versions are not the same. This might lead to compatibility errors. Using spikeinterface==0.100.7 is recommended\n",
      "  warnings.warn(\n",
      "/opt/conda/lib/python3.10/site-packages/spikeinterface/core/base.py:1109: UserWarning: Versions are not the same. This might lead to compatibility errors. Using spikeinterface==0.100.7 is recommended\n",
      "  warnings.warn(\n",
      "/opt/conda/lib/python3.10/site-packages/spikeinterface/core/waveforms_extractor_backwards_compatibility.py:650: UserWarning: Removing legacy parameter return_scaled from spike_amplitudes extension\n",
      "  warnings.warn(f\"Removing legacy parameter {p} from {old_name} extension\")\n",
      "/opt/conda/lib/python3.10/site-packages/spikeinterface/core/waveforms_extractor_backwards_compatibility.py:650: UserWarning: Removing legacy parameter metrics_kwargs from template_metrics extension\n",
      "  warnings.warn(f\"Removing legacy parameter {p} from {old_name} extension\")\n",
      "/opt/conda/lib/python3.10/site-packages/spikeinterface/core/waveforms_extractor_backwards_compatibility.py:650: UserWarning: Removing legacy parameter method_kwargs from unit_locations extension\n",
      "  warnings.warn(f\"Removing legacy parameter {p} from {old_name} extension\")\n",
      "/opt/conda/lib/python3.10/site-packages/spikeinterface/core/waveforms_extractor_backwards_compatibility.py:650: UserWarning: Removing legacy parameter sparsity from quality_metrics extension\n",
      "  warnings.warn(f\"Removing legacy parameter {p} from {old_name} extension\")\n",
      "/opt/conda/lib/python3.10/site-packages/spikeinterface/core/waveforms_extractor_backwards_compatibility.py:650: UserWarning: Removing legacy parameter qm_params from quality_metrics extension\n",
      "  warnings.warn(f\"Removing legacy parameter {p} from {old_name} extension\")\n",
      "/opt/conda/lib/python3.10/site-packages/spikeinterface/core/waveforms_extractor_backwards_compatibility.py:650: UserWarning: Removing legacy parameter sparsity from principal_components extension\n",
      "  warnings.warn(f\"Removing legacy parameter {p} from {old_name} extension\")\n",
      "/opt/conda/lib/python3.10/site-packages/spikeinterface/core/waveforms_extractor_backwards_compatibility.py:650: UserWarning: Removing legacy parameter tmp_folder from principal_components extension\n",
      "  warnings.warn(f\"Removing legacy parameter {p} from {old_name} extension\")\n"
     ]
    },
    {
     "data": {
      "application/vnd.jupyter.widget-view+json": {
       "model_id": "0fba862f401240b6ae87e386d5082220",
       "version_major": 2,
       "version_minor": 0
      },
      "text/plain": [
       "compute_waveforms (workers: 16 processes):   0%|          | 0/7025 [00:00<?, ?it/s]"
      ]
     },
     "metadata": {},
     "output_type": "display_data"
    },
    {
     "name": "stderr",
     "output_type": "stream",
     "text": [
      "/opt/conda/lib/python3.10/site-packages/numpy/lib/_function_base_impl.py:2999: RuntimeWarning: invalid value encountered in divide\n",
      "  c /= stddev[:, None]\n",
      "/opt/conda/lib/python3.10/site-packages/numpy/lib/_function_base_impl.py:3000: RuntimeWarning: invalid value encountered in divide\n",
      "  c /= stddev[None, :]\n",
      "/opt/conda/lib/python3.10/site-packages/spikeinterface/core/base.py:1109: UserWarning: Versions are not the same. This might lead to compatibility errors. Using spikeinterface==0.100.7 is recommended\n",
      "  warnings.warn(\n",
      "/opt/conda/lib/python3.10/site-packages/spikeinterface/core/waveforms_extractor_backwards_compatibility.py:650: UserWarning: Removing legacy parameter return_scaled from spike_amplitudes extension\n",
      "  warnings.warn(f\"Removing legacy parameter {p} from {old_name} extension\")\n",
      "/opt/conda/lib/python3.10/site-packages/spikeinterface/core/waveforms_extractor_backwards_compatibility.py:650: UserWarning: Removing legacy parameter metrics_kwargs from template_metrics extension\n",
      "  warnings.warn(f\"Removing legacy parameter {p} from {old_name} extension\")\n",
      "/opt/conda/lib/python3.10/site-packages/spikeinterface/core/waveforms_extractor_backwards_compatibility.py:650: UserWarning: Removing legacy parameter method_kwargs from unit_locations extension\n",
      "  warnings.warn(f\"Removing legacy parameter {p} from {old_name} extension\")\n",
      "/opt/conda/lib/python3.10/site-packages/spikeinterface/core/waveforms_extractor_backwards_compatibility.py:650: UserWarning: Removing legacy parameter sparsity from quality_metrics extension\n",
      "  warnings.warn(f\"Removing legacy parameter {p} from {old_name} extension\")\n",
      "/opt/conda/lib/python3.10/site-packages/spikeinterface/core/waveforms_extractor_backwards_compatibility.py:650: UserWarning: Removing legacy parameter qm_params from quality_metrics extension\n",
      "  warnings.warn(f\"Removing legacy parameter {p} from {old_name} extension\")\n",
      "/opt/conda/lib/python3.10/site-packages/spikeinterface/core/waveforms_extractor_backwards_compatibility.py:650: UserWarning: Removing legacy parameter sparsity from principal_components extension\n",
      "  warnings.warn(f\"Removing legacy parameter {p} from {old_name} extension\")\n",
      "/opt/conda/lib/python3.10/site-packages/spikeinterface/core/waveforms_extractor_backwards_compatibility.py:650: UserWarning: Removing legacy parameter tmp_folder from principal_components extension\n",
      "  warnings.warn(f\"Removing legacy parameter {p} from {old_name} extension\")\n",
      "/opt/conda/lib/python3.10/site-packages/hdmf/spec/namespace.py:535: UserWarning: Ignoring cached namespace 'core' version 2.6.0-alpha because version 2.7.0 is already loaded.\n",
      "  warn(\"Ignoring cached namespace '%s' version %s because version %s is already loaded.\"\n",
      "/root/capsule/code/beh_ephys_analysis/opto_tagging.py:351: FutureWarning: errors='ignore' is deprecated and will raise in a future version. Use to_numeric without passing `errors` and catch exceptions explicitly instead\n",
      "  unit_qc = unit_qc.apply(pd.to_numeric, errors='ignore')\n"
     ]
    },
    {
     "name": "stdout",
     "output_type": "stream",
     "text": [
      "76 out of 281 units pass quality control\n",
      "{'samples_to_keep': [-30, 60], 'y_neighbors_to_keep': 3, 'orginal_loc': False}\n"
     ]
    },
    {
     "name": "stderr",
     "output_type": "stream",
     "text": [
      "/root/capsule/code/beh_ephys_analysis/opto_tagging.py:390: FutureWarning: errors='ignore' is deprecated and will raise in a future version. Use to_numeric without passing `errors` and catch exceptions explicitly instead\n",
      "  opto_wf = opto_wf.apply(pd.to_numeric, errors='ignore')\n"
     ]
    },
    {
     "name": "stdout",
     "output_type": "stream",
     "text": [
      "Merging file 0 out of 281\n",
      "Merging file 50 out of 281\n",
      "Merging file 100 out of 281\n",
      "Merging file 150 out of 281\n",
      "Merging file 200 out of 281\n",
      "Merging file 250 out of 281\n",
      "PDF files in '/root/capsule/scratch/716325/behavior_716325_2024-05-31_10-31-14/ephys/opto/curated/figures' merged into '/root/capsule/scratch/716325/behavior_716325_2024-05-31_10-31-14/ephys/opto/curated/behavior_716325_2024-05-31_10-31-14_opto_tagging.pdf' successfully.\n",
      "15 out of 281 units pass quality control and opto tagging\n"
     ]
    },
    {
     "name": "stdout",
     "output_type": "stream",
     "text": [
      "Failed to process behavior_716325_2024-05-31_10-31-14\n",
      "behavior_716325_2024-05-31_10-31-14\n",
      "Combined PDF saved as: /root/capsule/scratch/716325/behavior_716325_2024-05-31_10-31-14/ephys/opto/curated/behavior_716325_2024-05-31_10-31-14_opto_tagging_png.pdf\n",
      "There are multiple recordings in the curated nwb directory. Please specify the recording you would like to use.\n",
      "Merging file 0 out of 8\n",
      "Merging file 0 out of 3\n",
      "PDF files in '/root/capsule/scratch/751004/behavior_751004_2024-12-19_11-50-37/ephys/opto/curated/drift' merged into '/root/capsule/scratch/751004/behavior_751004_2024-12-19_11-50-37/ephys/opto/curated/behavior_751004_2024-12-19_11-50-37_drift.pdf' successfully.\n",
      "PDF files in '/root/capsule/scratch/751004/behavior_751004_2024-12-23_14-20-03/ephys/opto/curated/drift' merged into '/root/capsule/scratch/751004/behavior_751004_2024-12-23_14-20-03/ephys/opto/curated/behavior_751004_2024-12-23_14-20-03_drift.pdf' successfully.\n",
      "Merging file 0 out of 5\n",
      "PDF files in '/root/capsule/scratch/751004/behavior_751004_2024-12-20_13-26-11/ephys/opto/curated/drift' merged into '/root/capsule/scratch/751004/behavior_751004_2024-12-20_13-26-11/ephys/opto/curated/behavior_751004_2024-12-20_13-26-11_drift.pdf' successfully.\n",
      "Merging file 0 out of 5\n",
      "PDF files in '/root/capsule/scratch/751769/behavior_751769_2025-01-16_11-32-05/ephys/opto/curated/drift' merged into '/root/capsule/scratch/751769/behavior_751769_2025-01-16_11-32-05/ephys/opto/curated/behavior_751769_2025-01-16_11-32-05_drift.pdf' successfully.\n",
      "Merging file 0 out of 3\n",
      "PDF files in '/root/capsule/scratch/751004/behavior_751004_2024-12-21_13-28-28/ephys/opto/curated/drift' merged into '/root/capsule/scratch/751004/behavior_751004_2024-12-21_13-28-28/ephys/opto/curated/behavior_751004_2024-12-21_13-28-28_drift.pdf' successfully.\n",
      "Merging file 0 out of 2\n",
      "PDF files in '/root/capsule/scratch/751004/behavior_751004_2024-12-22_13-09-17/ephys/opto/curated/drift' merged into '/root/capsule/scratch/751004/behavior_751004_2024-12-22_13-09-17/ephys/opto/curated/behavior_751004_2024-12-22_13-09-17_drift.pdf' successfully.\n",
      "Merging file 0 out of 5\n",
      "PDF files in '/root/capsule/scratch/751769/behavior_751769_2025-01-17_11-37-39/ephys/opto/curated/drift' merged into '/root/capsule/scratch/751769/behavior_751769_2025-01-17_11-37-39/ephys/opto/curated/behavior_751769_2025-01-17_11-37-39_drift.pdf' successfully.\n",
      "Merging file 0 out of 11\n",
      "PDF files in '/root/capsule/scratch/758017/behavior_758017_2025-02-04_11-57-38/ephys/opto/curated/drift' merged into '/root/capsule/scratch/758017/behavior_758017_2025-02-04_11-57-38/ephys/opto/curated/behavior_758017_2025-02-04_11-57-38_drift.pdf' successfully.\n",
      "Merging file 0 out of 4\n",
      "PDF files in '/root/capsule/scratch/758017/behavior_758017_2025-02-05_11-42-34/ephys/opto/curated/drift' merged into '/root/capsule/scratch/758017/behavior_758017_2025-02-05_11-42-34/ephys/opto/curated/behavior_758017_2025-02-05_11-42-34_drift.pdf' successfully.\n",
      "Merging file 0 out of 9\n",
      "PDF files in '/root/capsule/scratch/751769/behavior_751769_2025-01-18_10-15-25/ephys/opto/curated/drift' merged into '/root/capsule/scratch/751769/behavior_751769_2025-01-18_10-15-25/ephys/opto/curated/behavior_751769_2025-01-18_10-15-25_drift.pdf' successfully.\n",
      "Merging file 0 out of 2\n",
      "PDF files in '/root/capsule/scratch/758017/behavior_758017_2025-02-06_11-26-14/ephys/opto/curated/drift' merged into '/root/capsule/scratch/758017/behavior_758017_2025-02-06_11-26-14/ephys/opto/curated/behavior_758017_2025-02-06_11-26-14_drift.pdf' successfully.\n",
      "Merging file 0 out of 3\n",
      "PDF files in '/root/capsule/scratch/758017/behavior_758017_2025-02-07_14-11-08/ephys/opto/curated/drift' merged into '/root/capsule/scratch/758017/behavior_758017_2025-02-07_14-11-08/ephys/opto/curated/behavior_758017_2025-02-07_14-11-08_drift.pdf' successfully.\n",
      "Merging file 0 out of 3\n",
      "PDF files in '/root/capsule/scratch/751004/behavior_751004_2024-12-23_14-20-03/ephys/opto/curated/drift' merged into '/root/capsule/scratch/751004/behavior_751004_2024-12-23_14-20-03/ephys/opto/curated/behavior_751004_2024-12-23_14-20-03_drift.pdf' successfully.\n",
      "Merging file 0 out of 8\n",
      "PDF files in '/root/capsule/scratch/751004/behavior_751004_2024-12-19_11-50-37/ephys/opto/curated/drift' merged into '/root/capsule/scratch/751004/behavior_751004_2024-12-19_11-50-37/ephys/opto/curated/behavior_751004_2024-12-19_11-50-37_drift.pdf' successfully.\n",
      "Merging file 0 out of 5\n",
      "PDF files in '/root/capsule/scratch/751004/behavior_751004_2024-12-20_13-26-11/ephys/opto/curated/drift' merged into '/root/capsule/scratch/751004/behavior_751004_2024-12-20_13-26-11/ephys/opto/curated/behavior_751004_2024-12-20_13-26-11_drift.pdf' successfully.\n",
      "Merging file 0 out of 5\n",
      "PDF files in '/root/capsule/scratch/751769/behavior_751769_2025-01-16_11-32-05/ephys/opto/curated/drift' merged into '/root/capsule/scratch/751769/behavior_751769_2025-01-16_11-32-05/ephys/opto/curated/behavior_751769_2025-01-16_11-32-05_drift.pdf' successfully.\n",
      "Merging file 0 out of 3\n",
      "PDF files in '/root/capsule/scratch/751004/behavior_751004_2024-12-21_13-28-28/ephys/opto/curated/drift' merged into '/root/capsule/scratch/751004/behavior_751004_2024-12-21_13-28-28/ephys/opto/curated/behavior_751004_2024-12-21_13-28-28_drift.pdf' successfully.\n",
      "Merging file 0 out of 5\n",
      "PDF files in '/root/capsule/scratch/751769/behavior_751769_2025-01-17_11-37-39/ephys/opto/curated/drift' merged into '/root/capsule/scratch/751769/behavior_751769_2025-01-17_11-37-39/ephys/opto/curated/behavior_751769_2025-01-17_11-37-39_drift.pdf' successfully.\n",
      "Merging file 0 out of 2\n",
      "PDF files in '/root/capsule/scratch/751004/behavior_751004_2024-12-22_13-09-17/ephys/opto/curated/drift' merged into '/root/capsule/scratch/751004/behavior_751004_2024-12-22_13-09-17/ephys/opto/curated/behavior_751004_2024-12-22_13-09-17_drift.pdf' successfully.\n",
      "Merging file 0 out of 9\n",
      "PDF files in '/root/capsule/scratch/751769/behavior_751769_2025-01-18_10-15-25/ephys/opto/curated/drift' merged into '/root/capsule/scratch/751769/behavior_751769_2025-01-18_10-15-25/ephys/opto/curated/behavior_751769_2025-01-18_10-15-25_drift.pdf' successfully.\n",
      "Merging file 0 out of 11\n",
      "PDF files in '/root/capsule/scratch/758017/behavior_758017_2025-02-04_11-57-38/ephys/opto/curated/drift' merged into '/root/capsule/scratch/758017/behavior_758017_2025-02-04_11-57-38/ephys/opto/curated/behavior_758017_2025-02-04_11-57-38_drift.pdf' successfully.\n",
      "Merging file 0 out of 4\n",
      "PDF files in '/root/capsule/scratch/758017/behavior_758017_2025-02-05_11-42-34/ephys/opto/curated/drift' merged into '/root/capsule/scratch/758017/behavior_758017_2025-02-05_11-42-34/ephys/opto/curated/behavior_758017_2025-02-05_11-42-34_drift.pdf' successfully.\n",
      "Merging file 0 out of 2\n",
      "PDF files in '/root/capsule/scratch/758017/behavior_758017_2025-02-06_11-26-14/ephys/opto/curated/drift' merged into '/root/capsule/scratch/758017/behavior_758017_2025-02-06_11-26-14/ephys/opto/curated/behavior_758017_2025-02-06_11-26-14_drift.pdf' successfully.\n",
      "Merging file 0 out of 7\n",
      "PDF files in '/root/capsule/scratch/751766/behavior_751766_2025-02-11_11-53-38/ephys/opto/curated/drift' merged into '/root/capsule/scratch/751766/behavior_751766_2025-02-11_11-53-38/ephys/opto/curated/behavior_751766_2025-02-11_11-53-38_drift.pdf' successfully.\n",
      "Merging file 0 out of 3\n",
      "PDF files in '/root/capsule/scratch/751004/behavior_751004_2024-12-21_13-28-28/ephys/opto/curated/drift' merged into '/root/capsule/scratch/751004/behavior_751004_2024-12-21_13-28-28/ephys/opto/curated/behavior_751004_2024-12-21_13-28-28_drift.pdf' successfully.\n",
      "Merging file 0 out of 3\n",
      "PDF files in '/root/capsule/scratch/751004/behavior_751004_2024-12-23_14-20-03/ephys/opto/curated/drift' merged into '/root/capsule/scratch/751004/behavior_751004_2024-12-23_14-20-03/ephys/opto/curated/behavior_751004_2024-12-23_14-20-03_drift.pdf' successfully.\n",
      "Merging file 0 out of 5\n",
      "PDF files in '/root/capsule/scratch/751769/behavior_751769_2025-01-17_11-37-39/ephys/opto/curated/drift' merged into '/root/capsule/scratch/751769/behavior_751769_2025-01-17_11-37-39/ephys/opto/curated/behavior_751769_2025-01-17_11-37-39_drift.pdf' successfully.\n",
      "Merging file 0 out of 8\n",
      "PDF files in '/root/capsule/scratch/751004/behavior_751004_2024-12-19_11-50-37/ephys/opto/curated/drift' merged into '/root/capsule/scratch/751004/behavior_751004_2024-12-19_11-50-37/ephys/opto/curated/behavior_751004_2024-12-19_11-50-37_drift.pdf' successfully.\n",
      "Merging file 0 out of 2\n",
      "PDF files in '/root/capsule/scratch/751004/behavior_751004_2024-12-22_13-09-17/ephys/opto/curated/drift' merged into '/root/capsule/scratch/751004/behavior_751004_2024-12-22_13-09-17/ephys/opto/curated/behavior_751004_2024-12-22_13-09-17_drift.pdf' successfully.\n",
      "Merging file 0 out of 5\n",
      "PDF files in '/root/capsule/scratch/751004/behavior_751004_2024-12-20_13-26-11/ephys/opto/curated/drift' merged into '/root/capsule/scratch/751004/behavior_751004_2024-12-20_13-26-11/ephys/opto/curated/behavior_751004_2024-12-20_13-26-11_drift.pdf' successfully.\n",
      "Merging file 0 out of 5\n",
      "PDF files in '/root/capsule/scratch/751769/behavior_751769_2025-01-16_11-32-05/ephys/opto/curated/drift' merged into '/root/capsule/scratch/751769/behavior_751769_2025-01-16_11-32-05/ephys/opto/curated/behavior_751769_2025-01-16_11-32-05_drift.pdf' successfully.\n",
      "Merging file 0 out of 9\n",
      "PDF files in '/root/capsule/scratch/751769/behavior_751769_2025-01-18_10-15-25/ephys/opto/curated/drift' merged into '/root/capsule/scratch/751769/behavior_751769_2025-01-18_10-15-25/ephys/opto/curated/behavior_751769_2025-01-18_10-15-25_drift.pdf' successfully.\n",
      "Merging file 0 out of 2\n",
      "PDF files in '/root/capsule/scratch/758017/behavior_758017_2025-02-06_11-26-14/ephys/opto/curated/drift' merged into '/root/capsule/scratch/758017/behavior_758017_2025-02-06_11-26-14/ephys/opto/curated/behavior_758017_2025-02-06_11-26-14_drift.pdf' successfully.\n",
      "Merging file 0 out of 11\n",
      "PDF files in '/root/capsule/scratch/758017/behavior_758017_2025-02-04_11-57-38/ephys/opto/curated/drift' merged into '/root/capsule/scratch/758017/behavior_758017_2025-02-04_11-57-38/ephys/opto/curated/behavior_758017_2025-02-04_11-57-38_drift.pdf' successfully.\n",
      "Merging file 0 out of 3\n",
      "PDF files in '/root/capsule/scratch/758017/behavior_758017_2025-02-07_14-11-08/ephys/opto/curated/drift' merged into '/root/capsule/scratch/758017/behavior_758017_2025-02-07_14-11-08/ephys/opto/curated/behavior_758017_2025-02-07_14-11-08_drift.pdf' successfully.\n",
      "Merging file 0 out of 4\n",
      "PDF files in '/root/capsule/scratch/758017/behavior_758017_2025-02-05_11-42-34/ephys/opto/curated/drift' merged into '/root/capsule/scratch/758017/behavior_758017_2025-02-05_11-42-34/ephys/opto/curated/behavior_758017_2025-02-05_11-42-34_drift.pdf' successfully.\n",
      "Merging file 0 out of 7\n",
      "PDF files in '/root/capsule/scratch/751766/behavior_751766_2025-02-11_11-53-38/ephys/opto/curated/drift' merged into '/root/capsule/scratch/751766/behavior_751766_2025-02-11_11-53-38/ephys/opto/curated/behavior_751766_2025-02-11_11-53-38_drift.pdf' successfully.\n",
      "Merging file 0 out of 9\n",
      "PDF files in '/root/capsule/scratch/751766/behavior_751766_2025-02-14_11-37-11/ephys/opto/curated/drift' merged into '/root/capsule/scratch/751766/behavior_751766_2025-02-14_11-37-11/ephys/opto/curated/behavior_751766_2025-02-14_11-37-11_drift.pdf' successfully.\n",
      "There is no nwb file in the curated directory.\n",
      "Merging file 0 out of 3\n",
      "PDF files in '/root/capsule/scratch/751766/behavior_751766_2025-02-13_11-31-21/ephys/opto/curated/drift' merged into '/root/capsule/scratch/751766/behavior_751766_2025-02-13_11-31-21/ephys/opto/curated/behavior_751766_2025-02-13_11-31-21_drift.pdf' successfully.\n",
      "There is no nwb file in the curated directory.\n",
      "Merging file 0 out of 3\n",
      "PDF files in '/root/capsule/scratch/751004/behavior_751004_2024-12-21_13-28-28/ephys/opto/curated/drift' merged into '/root/capsule/scratch/751004/behavior_751004_2024-12-21_13-28-28/ephys/opto/curated/behavior_751004_2024-12-21_13-28-28_drift.pdf' successfully.\n",
      "Merging file 0 out of 3\n",
      "PDF files in '/root/capsule/scratch/751004/behavior_751004_2024-12-23_14-20-03/ephys/opto/curated/drift' merged into '/root/capsule/scratch/751004/behavior_751004_2024-12-23_14-20-03/ephys/opto/curated/behavior_751004_2024-12-23_14-20-03_drift.pdf' successfully.\n",
      "Merging file 0 out of 8\n",
      "PDF files in '/root/capsule/scratch/751004/behavior_751004_2024-12-19_11-50-37/ephys/opto/curated/drift' merged into '/root/capsule/scratch/751004/behavior_751004_2024-12-19_11-50-37/ephys/opto/curated/behavior_751004_2024-12-19_11-50-37_drift.pdf' successfully.\n",
      "Merging file 0 out of 5\n",
      "PDF files in '/root/capsule/scratch/751769/behavior_751769_2025-01-17_11-37-39/ephys/opto/curated/drift' merged into '/root/capsule/scratch/751769/behavior_751769_2025-01-17_11-37-39/ephys/opto/curated/behavior_751769_2025-01-17_11-37-39_drift.pdf' successfully.\n",
      "Merging file 0 out of 2\n",
      "PDF files in '/root/capsule/scratch/751004/behavior_751004_2024-12-22_13-09-17/ephys/opto/curated/drift' merged into '/root/capsule/scratch/751004/behavior_751004_2024-12-22_13-09-17/ephys/opto/curated/behavior_751004_2024-12-22_13-09-17_drift.pdf' successfully.\n",
      "Merging file 0 out of 5\n",
      "PDF files in '/root/capsule/scratch/751004/behavior_751004_2024-12-20_13-26-11/ephys/opto/curated/drift' merged into '/root/capsule/scratch/751004/behavior_751004_2024-12-20_13-26-11/ephys/opto/curated/behavior_751004_2024-12-20_13-26-11_drift.pdf' successfully.\n",
      "Merging file 0 out of 5\n",
      "PDF files in '/root/capsule/scratch/751769/behavior_751769_2025-01-16_11-32-05/ephys/opto/curated/drift' merged into '/root/capsule/scratch/751769/behavior_751769_2025-01-16_11-32-05/ephys/opto/curated/behavior_751769_2025-01-16_11-32-05_drift.pdf' successfully.\n",
      "Merging file 0 out of 11\n",
      "PDF files in '/root/capsule/scratch/758017/behavior_758017_2025-02-04_11-57-38/ephys/opto/curated/drift' merged into '/root/capsule/scratch/758017/behavior_758017_2025-02-04_11-57-38/ephys/opto/curated/behavior_758017_2025-02-04_11-57-38_drift.pdf' successfully.\n",
      "Merging file 0 out of 9\n",
      "PDF files in '/root/capsule/scratch/751769/behavior_751769_2025-01-18_10-15-25/ephys/opto/curated/drift' merged into '/root/capsule/scratch/751769/behavior_751769_2025-01-18_10-15-25/ephys/opto/curated/behavior_751769_2025-01-18_10-15-25_drift.pdf' successfully.\n",
      "Merging file 0 out of 2\n",
      "PDF files in '/root/capsule/scratch/758017/behavior_758017_2025-02-06_11-26-14/ephys/opto/curated/drift' merged into '/root/capsule/scratch/758017/behavior_758017_2025-02-06_11-26-14/ephys/opto/curated/behavior_758017_2025-02-06_11-26-14_drift.pdf' successfully.\n",
      "Merging file 0 out of 3\n",
      "PDF files in '/root/capsule/scratch/758017/behavior_758017_2025-02-07_14-11-08/ephys/opto/curated/drift' merged into '/root/capsule/scratch/758017/behavior_758017_2025-02-07_14-11-08/ephys/opto/curated/behavior_758017_2025-02-07_14-11-08_drift.pdf' successfully.\n",
      "Merging file 0 out of 4\n",
      "PDF files in '/root/capsule/scratch/758017/behavior_758017_2025-02-05_11-42-34/ephys/opto/curated/drift' merged into '/root/capsule/scratch/758017/behavior_758017_2025-02-05_11-42-34/ephys/opto/curated/behavior_758017_2025-02-05_11-42-34_drift.pdf' successfully.\n",
      "Merging file 0 out of 7\n",
      "PDF files in '/root/capsule/scratch/751766/behavior_751766_2025-02-11_11-53-38/ephys/opto/curated/drift' merged into '/root/capsule/scratch/751766/behavior_751766_2025-02-11_11-53-38/ephys/opto/curated/behavior_751766_2025-02-11_11-53-38_drift.pdf' successfully.\n",
      "Merging file 0 out of 9\n",
      "PDF files in '/root/capsule/scratch/751766/behavior_751766_2025-02-14_11-37-11/ephys/opto/curated/drift' merged into '/root/capsule/scratch/751766/behavior_751766_2025-02-14_11-37-11/ephys/opto/curated/behavior_751766_2025-02-14_11-37-11_drift.pdf' successfully.\n",
      "There is no nwb file in the curated directory.\n",
      "There is no nwb file in the curated directory.\n",
      "behavior_751004_2024-12-19_11-50-37 start\n",
      "behavior_751004_2024-12-21_13-28-28 start\n",
      "behavior_751004_2024-12-23_14-20-03 start\n",
      "behavior_751769_2025-01-17_11-37-39 start\n",
      "Merging file 0 out of 3\n",
      "PDF files in '/root/capsule/scratch/751004/behavior_751004_2024-12-21_13-28-28/ephys/opto/curated/drift' merged into '/root/capsule/scratch/751004/behavior_751004_2024-12-21_13-28-28/ephys/opto/curated/behavior_751004_2024-12-21_13-28-28_drift.pdf' successfully.\n",
      "behavior_751004_2024-12-22_13-09-17 start\n",
      "Merging file 0 out of 3\n",
      "PDF files in '/root/capsule/scratch/751004/behavior_751004_2024-12-23_14-20-03/ephys/opto/curated/drift' merged into '/root/capsule/scratch/751004/behavior_751004_2024-12-23_14-20-03/ephys/opto/curated/behavior_751004_2024-12-23_14-20-03_drift.pdf' successfully.\n",
      "behavior_751769_2025-01-16_11-32-05 start\n",
      "Merging file 0 out of 5\n",
      "PDF files in '/root/capsule/scratch/751769/behavior_751769_2025-01-17_11-37-39/ephys/opto/curated/drift' merged into '/root/capsule/scratch/751769/behavior_751769_2025-01-17_11-37-39/ephys/opto/curated/behavior_751769_2025-01-17_11-37-39_drift.pdf' successfully.\n",
      "behavior_751769_2025-01-18_10-15-25 start\n",
      "Merging file 0 out of 8\n",
      "PDF files in '/root/capsule/scratch/751004/behavior_751004_2024-12-19_11-50-37/ephys/opto/curated/drift' merged into '/root/capsule/scratch/751004/behavior_751004_2024-12-19_11-50-37/ephys/opto/curated/behavior_751004_2024-12-19_11-50-37_drift.pdf' successfully.\n",
      "behavior_751004_2024-12-20_13-26-11 start\n",
      "Merging file 0 out of 2\n",
      "PDF files in '/root/capsule/scratch/751004/behavior_751004_2024-12-22_13-09-17/ephys/opto/curated/drift' merged into '/root/capsule/scratch/751004/behavior_751004_2024-12-22_13-09-17/ephys/opto/curated/behavior_751004_2024-12-22_13-09-17_drift.pdf' successfully.\n",
      "behavior_758017_2025-02-04_11-57-38 start\n",
      "Merging file 0 out of 5\n",
      "PDF files in '/root/capsule/scratch/751004/behavior_751004_2024-12-20_13-26-11/ephys/opto/curated/drift' merged into '/root/capsule/scratch/751004/behavior_751004_2024-12-20_13-26-11/ephys/opto/curated/behavior_751004_2024-12-20_13-26-11_drift.pdf' successfully.\n",
      "behavior_758017_2025-02-06_11-26-14 start\n",
      "Merging file 0 out of 5\n",
      "PDF files in '/root/capsule/scratch/751769/behavior_751769_2025-01-16_11-32-05/ephys/opto/curated/drift' merged into '/root/capsule/scratch/751769/behavior_751769_2025-01-16_11-32-05/ephys/opto/curated/behavior_751769_2025-01-16_11-32-05_drift.pdf' successfully.\n",
      "Merging file 0 out of 9\n",
      "PDF files in '/root/capsule/scratch/751769/behavior_751769_2025-01-18_10-15-25/ephys/opto/curated/drift' merged into '/root/capsule/scratch/751769/behavior_751769_2025-01-18_10-15-25/ephys/opto/curated/behavior_751769_2025-01-18_10-15-25_drift.pdf' successfully.\n",
      "behavior_751766_2025-02-11_11-53-38 start\n",
      "Merging file 0 out of 11\n",
      "PDF files in '/root/capsule/scratch/758017/behavior_758017_2025-02-04_11-57-38/ephys/opto/curated/drift' merged into '/root/capsule/scratch/758017/behavior_758017_2025-02-04_11-57-38/ephys/opto/curated/behavior_758017_2025-02-04_11-57-38_drift.pdf' successfully.\n",
      "behavior_758017_2025-02-05_11-42-34 start\n",
      "Merging file 0 out of 2\n",
      "PDF files in '/root/capsule/scratch/758017/behavior_758017_2025-02-06_11-26-14/ephys/opto/curated/drift' merged into '/root/capsule/scratch/758017/behavior_758017_2025-02-06_11-26-14/ephys/opto/curated/behavior_758017_2025-02-06_11-26-14_drift.pdf' successfully.\n",
      "behavior_758017_2025-02-07_14-11-08 start\n",
      "behavior_751766_2025-02-14_11-37-11 start\n",
      "Merging file 0 out of 3\n",
      "PDF files in '/root/capsule/scratch/758017/behavior_758017_2025-02-07_14-11-08/ephys/opto/curated/drift' merged into '/root/capsule/scratch/758017/behavior_758017_2025-02-07_14-11-08/ephys/opto/curated/behavior_758017_2025-02-07_14-11-08_drift.pdf' successfully.\n",
      "Merging file 0 out of 4\n",
      "PDF files in '/root/capsule/scratch/758017/behavior_758017_2025-02-05_11-42-34/ephys/opto/curated/drift' merged into '/root/capsule/scratch/758017/behavior_758017_2025-02-05_11-42-34/ephys/opto/curated/behavior_758017_2025-02-05_11-42-34_drift.pdf' successfully.\n",
      "Merging file 0 out of 7\n",
      "PDF files in '/root/capsule/scratch/751766/behavior_751766_2025-02-11_11-53-38/ephys/opto/curated/drift' merged into '/root/capsule/scratch/751766/behavior_751766_2025-02-11_11-53-38/ephys/opto/curated/behavior_751766_2025-02-11_11-53-38_drift.pdf' successfully.\n",
      "behavior_751766_2025-02-13_11-31-21 start\n",
      "Merging file 0 out of 9\n",
      "PDF files in '/root/capsule/scratch/751766/behavior_751766_2025-02-14_11-37-11/ephys/opto/curated/drift' merged into '/root/capsule/scratch/751766/behavior_751766_2025-02-14_11-37-11/ephys/opto/curated/behavior_751766_2025-02-14_11-37-11_drift.pdf' successfully.\n",
      "behavior_751766_2025-02-15_12-08-11 start\n",
      "There is no nwb file in the curated directory.\n",
      "There is no nwb file in the curated directory.\n"
     ]
    }
   ],
   "source": [
    "for session in session_list:\n",
    "    try:\n",
    "        process(session, data_type)\n",
    "    except:\n",
    "        print(f'Failed to process {session}')"
>>>>>>> origin/main
   ]
  },
  {
   "cell_type": "code",
<<<<<<< HEAD
   "execution_count": 2,
=======
   "execution_count": null,
>>>>>>> origin/main
   "metadata": {},
   "outputs": [
    {
     "name": "stderr",
     "output_type": "stream",
     "text": [
<<<<<<< HEAD
      "No artists with labels found to put in legend.  Note that artists whose label start with an underscore are ignored when legend() is called with no argument.\n"
     ]
    },
    {
     "name": "stdout",
     "output_type": "stream",
     "text": [
      "Random Forest R² Score fast: 0.8809\n",
      "Feature Importance fast - motion: 0.46, amp: 0.17, motion*fr: 0.37\n",
      "Random Forest R² Score slow: 0.8675\n",
      "Feature Importance slow - motion: 0.05, amp: 0.02, motion*fr: 0.94\n",
      "Random Forest R² Score fast: 0.8180\n",
      "Feature Importance fast - motion: 0.39, amp: 0.37, motion*fr: 0.24\n",
      "Random Forest R² Score slow: 0.9620\n",
      "Feature Importance slow - motion: 0.10, amp: 0.60, motion*fr: 0.30\n"
     ]
    },
    {
     "name": "stderr",
     "output_type": "stream",
     "text": [
      "No artists with labels found to put in legend.  Note that artists whose label start with an underscore are ignored when legend() is called with no argument.\n",
      "No artists with labels found to put in legend.  Note that artists whose label start with an underscore are ignored when legend() is called with no argument.\n"
=======
      "/opt/conda/lib/python3.10/site-packages/spikeinterface/core/base.py:1109: UserWarning: Versions are not the same. This might lead to compatibility errors. Using spikeinterface==0.101.2 is recommended\n",
      "  warnings.warn(\n",
      "/root/capsule/code/beh_ephys_analysis/opto_tagging.py:351: FutureWarning: errors='ignore' is deprecated and will raise in a future version. Use to_numeric without passing `errors` and catch exceptions explicitly instead\n",
      "  unit_qc = unit_qc.apply(pd.to_numeric, errors='ignore')\n"
>>>>>>> origin/main
     ]
    },
    {
     "name": "stdout",
     "output_type": "stream",
     "text": [
<<<<<<< HEAD
      "Random Forest R² Score fast: 0.8269\n",
      "Feature Importance fast - motion: 0.40, amp: 0.26, motion*fr: 0.34\n",
      "Random Forest R² Score slow: 0.9444\n",
      "Feature Importance slow - motion: 0.14, amp: 0.51, motion*fr: 0.35\n"
=======
      "91 out of 267 units pass quality control\n",
      "{'samples_to_keep': [-30, 60], 'y_neighbors_to_keep': 3, 'orginal_loc': False}\n"
>>>>>>> origin/main
     ]
    },
    {
     "name": "stderr",
     "output_type": "stream",
     "text": [
<<<<<<< HEAD
      "No artists with labels found to put in legend.  Note that artists whose label start with an underscore are ignored when legend() is called with no argument.\n"
=======
      "/root/capsule/code/beh_ephys_analysis/opto_tagging.py:390: FutureWarning: errors='ignore' is deprecated and will raise in a future version. Use to_numeric without passing `errors` and catch exceptions explicitly instead\n",
      "  opto_wf = opto_wf.apply(pd.to_numeric, errors='ignore')\n"
>>>>>>> origin/main
     ]
    },
    {
     "name": "stdout",
     "output_type": "stream",
     "text": [
<<<<<<< HEAD
      "Random Forest R² Score fast: 0.7771\n",
      "Feature Importance fast - motion: 0.28, amp: 0.25, motion*fr: 0.48\n",
      "Random Forest R² Score slow: 0.8780\n",
      "Feature Importance slow - motion: 0.22, amp: 0.31, motion*fr: 0.48\n",
      "Merging file 0 out of 8\n",
      "PDF files in '/root/capsule/scratch/751004/behavior_751004_2024-12-19_11-50-37/ephys/opto/curated/drift' merged into '/root/capsule/scratch/751004/behavior_751004_2024-12-19_11-50-37/ephys/opto/curated/behavior_751004_2024-12-19_11-50-37_drift.pdf' successfully.\n"
=======
      "Merging file 0 out of 267\n",
      "Merging file 50 out of 267\n",
      "Merging file 100 out of 267\n",
      "Merging file 150 out of 267\n",
      "Merging file 200 out of 267\n",
      "Merging file 250 out of 267\n",
      "PDF files in '/root/capsule/scratch/751004/behavior_751004_2024-12-19_11-50-37/ephys/opto/curated/figures' merged into '/root/capsule/scratch/751004/behavior_751004_2024-12-19_11-50-37/ephys/opto/curated/behavior_751004_2024-12-19_11-50-37_opto_tagging.pdf' successfully.\n",
      "4 out of 267 units pass quality control and opto tagging\n"
>>>>>>> origin/main
     ]
    }
   ],
   "source": [
<<<<<<< HEAD
    "opto_drift_tbl = plot_session_opto_drift('behavior_751004_2024-12-19_11-50-37', 'curated', update_csv = False)"
=======
    "opto_tagging_df = opto_plotting_session('behavior_751004_2024-12-19_11-50-37', 'curated', 'soma', plot=False, resp_thresh=0.4, lat_thresh=0.02)"
>>>>>>> origin/main
   ]
  },
  {
   "cell_type": "code",
<<<<<<< HEAD
   "execution_count": 2,
   "metadata": {},
   "outputs": [],
   "source": [
    "session_list = ['behavior_751766_2025-02-11_11-53-38',\n",
    "                'behavior_751766_2025-02-14_11-37-11',\n",
    "                'behavior_751769_2025-01-16_11-32-05',\n",
    "                'behavior_751769_2025-01-17_11-37-39',\n",
    "                'behavior_751769_2025-01-18_10-15-25',]"
=======
   "execution_count": null,
   "metadata": {},
   "outputs": [],
   "source": [
    "# input: sessio_id\n",
    "# output: data_frame, columns: unit_id, anti_sti metrics, plots"
>>>>>>> origin/main
   ]
  },
  {
   "cell_type": "code",
<<<<<<< HEAD
   "execution_count": 3,
   "metadata": {},
   "outputs": [
    {
     "name": "stdout",
     "output_type": "stream",
     "text": [
      "Combined PDF saved as: /root/capsule/scratch/751766/behavior_751766_2025-02-11_11-53-38/ephys/opto/raw/behavior_751766_2025-02-11_11-53-38_opto_tagging_png.pdf\n",
      "Combined PDF saved as: /root/capsule/scratch/751766/behavior_751766_2025-02-14_11-37-11/ephys/opto/raw/behavior_751766_2025-02-14_11-37-11_opto_tagging_png.pdf\n",
      "Combined PDF saved as: /root/capsule/scratch/751769/behavior_751769_2025-01-16_11-32-05/ephys/opto/raw/behavior_751769_2025-01-16_11-32-05_opto_tagging_png.pdf\n",
      "Combined PDF saved as: /root/capsule/scratch/751769/behavior_751769_2025-01-17_11-37-39/ephys/opto/raw/behavior_751769_2025-01-17_11-37-39_opto_tagging_png.pdf\n",
      "Combined PDF saved as: /root/capsule/scratch/751769/behavior_751769_2025-01-18_10-15-25/ephys/opto/raw/behavior_751769_2025-01-18_10-15-25_opto_tagging_png.pdf\n"
     ]
    }
   ],
   "source": [
    "# combine opto pdfs\n",
    "data_type = 'raw'\n",
    "for session in session_list:\n",
    "    pdf_dir = session_dirs(session)[f'opto_dir_fig_{data_type}']\n",
    "    output_pdf = os.path.join(session_dirs(session)[f'opto_dir_{data_type}'], f'{session}_opto_tagging_png.pdf')\n",
    "    combine_pdf_big(pdf_dir, output_pdf)"
=======
   "execution_count": null,
   "metadata": {},
   "outputs": [
    {
     "data": {
      "text/html": [
       "<div>\n",
       "<style scoped>\n",
       "    .dataframe tbody tr th:only-of-type {\n",
       "        vertical-align: middle;\n",
       "    }\n",
       "\n",
       "    .dataframe tbody tr th {\n",
       "        vertical-align: top;\n",
       "    }\n",
       "\n",
       "    .dataframe thead th {\n",
       "        text-align: right;\n",
       "    }\n",
       "</style>\n",
       "<table border=\"1\" class=\"dataframe\">\n",
       "  <thead>\n",
       "    <tr style=\"text-align: right;\">\n",
       "      <th></th>\n",
       "      <th>unit_id</th>\n",
       "      <th>resp_p</th>\n",
       "      <th>resp_lat</th>\n",
       "      <th>powers</th>\n",
       "      <th>sites</th>\n",
       "      <th>num_pulses</th>\n",
       "      <th>durations</th>\n",
       "      <th>freqs</th>\n",
       "      <th>stim_times</th>\n",
       "      <th>opto_pass</th>\n",
       "      <th>...</th>\n",
       "      <th>ks_unit_id</th>\n",
       "      <th>isi_violations_ratio</th>\n",
       "      <th>firing_rate</th>\n",
       "      <th>presence_ratio</th>\n",
       "      <th>amplitude_cutoff</th>\n",
       "      <th>decoder_label</th>\n",
       "      <th>depth</th>\n",
       "      <th>euclidean_norm</th>\n",
       "      <th>correlation</th>\n",
       "      <th>default_qc</th>\n",
       "    </tr>\n",
       "  </thead>\n",
       "  <tbody>\n",
       "    <tr>\n",
       "      <th>0</th>\n",
       "      <td>0</td>\n",
       "      <td>None</td>\n",
       "      <td>None</td>\n",
       "      <td>None</td>\n",
       "      <td>None</td>\n",
       "      <td>None</td>\n",
       "      <td>None</td>\n",
       "      <td>None</td>\n",
       "      <td>None</td>\n",
       "      <td>False</td>\n",
       "      <td>...</td>\n",
       "      <td>0</td>\n",
       "      <td>0.000000</td>\n",
       "      <td>0.072709</td>\n",
       "      <td>0.808511</td>\n",
       "      <td>NaN</td>\n",
       "      <td>mua</td>\n",
       "      <td>170.43</td>\n",
       "      <td>NaN</td>\n",
       "      <td>NaN</td>\n",
       "      <td>False</td>\n",
       "    </tr>\n",
       "    <tr>\n",
       "      <th>1</th>\n",
       "      <td>1</td>\n",
       "      <td>None</td>\n",
       "      <td>None</td>\n",
       "      <td>None</td>\n",
       "      <td>None</td>\n",
       "      <td>None</td>\n",
       "      <td>None</td>\n",
       "      <td>None</td>\n",
       "      <td>None</td>\n",
       "      <td>False</td>\n",
       "      <td>...</td>\n",
       "      <td>1</td>\n",
       "      <td>0.486594</td>\n",
       "      <td>0.918804</td>\n",
       "      <td>0.872340</td>\n",
       "      <td>0.000383</td>\n",
       "      <td>mua</td>\n",
       "      <td>3.40</td>\n",
       "      <td>NaN</td>\n",
       "      <td>NaN</td>\n",
       "      <td>False</td>\n",
       "    </tr>\n",
       "    <tr>\n",
       "      <th>2</th>\n",
       "      <td>2</td>\n",
       "      <td>[0.72]</td>\n",
       "      <td>[0.011866555440285469]</td>\n",
       "      <td>[50]</td>\n",
       "      <td>[surface_LC]</td>\n",
       "      <td>[5]</td>\n",
       "      <td>[5]</td>\n",
       "      <td>[5]</td>\n",
       "      <td>[post]</td>\n",
       "      <td>True</td>\n",
       "      <td>...</td>\n",
       "      <td>2</td>\n",
       "      <td>0.048411</td>\n",
       "      <td>4.799117</td>\n",
       "      <td>1.000000</td>\n",
       "      <td>0.000168</td>\n",
       "      <td>sua</td>\n",
       "      <td>78.83</td>\n",
       "      <td>[0.011572034337162935]</td>\n",
       "      <td>[0.9979395187981891]</td>\n",
       "      <td>True</td>\n",
       "    </tr>\n",
       "    <tr>\n",
       "      <th>3</th>\n",
       "      <td>3</td>\n",
       "      <td>[0.9, 0.9, 0.7, 0.8]</td>\n",
       "      <td>[0.0108739817788934, 0.01263726076493705, 0.01...</td>\n",
       "      <td>[10, 20, 30, 50]</td>\n",
       "      <td>[surface_LC, surface_LC, surface_LC, surface_LC]</td>\n",
       "      <td>[5, 5, 5, 5]</td>\n",
       "      <td>[4, 4, 4, 4]</td>\n",
       "      <td>[5, 5, 5, 5]</td>\n",
       "      <td>[post, post, post, post]</td>\n",
       "      <td>True</td>\n",
       "      <td>...</td>\n",
       "      <td>3</td>\n",
       "      <td>0.074913</td>\n",
       "      <td>10.321623</td>\n",
       "      <td>1.000000</td>\n",
       "      <td>0.000033</td>\n",
       "      <td>sua</td>\n",
       "      <td>94.24</td>\n",
       "      <td>[0.019803436709564345, 0.020649075605866287, 0...</td>\n",
       "      <td>[0.9864396155122652, 0.9864571959817784, 0.983...</td>\n",
       "      <td>True</td>\n",
       "    </tr>\n",
       "    <tr>\n",
       "      <th>4</th>\n",
       "      <td>5</td>\n",
       "      <td>None</td>\n",
       "      <td>None</td>\n",
       "      <td>None</td>\n",
       "      <td>None</td>\n",
       "      <td>None</td>\n",
       "      <td>None</td>\n",
       "      <td>None</td>\n",
       "      <td>None</td>\n",
       "      <td>False</td>\n",
       "      <td>...</td>\n",
       "      <td>5</td>\n",
       "      <td>0.000326</td>\n",
       "      <td>60.011850</td>\n",
       "      <td>1.000000</td>\n",
       "      <td>0.000288</td>\n",
       "      <td>sua</td>\n",
       "      <td>160.25</td>\n",
       "      <td>NaN</td>\n",
       "      <td>NaN</td>\n",
       "      <td>True</td>\n",
       "    </tr>\n",
       "    <tr>\n",
       "      <th>...</th>\n",
       "      <td>...</td>\n",
       "      <td>...</td>\n",
       "      <td>...</td>\n",
       "      <td>...</td>\n",
       "      <td>...</td>\n",
       "      <td>...</td>\n",
       "      <td>...</td>\n",
       "      <td>...</td>\n",
       "      <td>...</td>\n",
       "      <td>...</td>\n",
       "      <td>...</td>\n",
       "      <td>...</td>\n",
       "      <td>...</td>\n",
       "      <td>...</td>\n",
       "      <td>...</td>\n",
       "      <td>...</td>\n",
       "      <td>...</td>\n",
       "      <td>...</td>\n",
       "      <td>...</td>\n",
       "      <td>...</td>\n",
       "      <td>...</td>\n",
       "    </tr>\n",
       "    <tr>\n",
       "      <th>262</th>\n",
       "      <td>295</td>\n",
       "      <td>None</td>\n",
       "      <td>None</td>\n",
       "      <td>None</td>\n",
       "      <td>None</td>\n",
       "      <td>None</td>\n",
       "      <td>None</td>\n",
       "      <td>None</td>\n",
       "      <td>None</td>\n",
       "      <td>False</td>\n",
       "      <td>...</td>\n",
       "      <td>295</td>\n",
       "      <td>0.000000</td>\n",
       "      <td>0.032921</td>\n",
       "      <td>0.744681</td>\n",
       "      <td>NaN</td>\n",
       "      <td>mua</td>\n",
       "      <td>1482.47</td>\n",
       "      <td>NaN</td>\n",
       "      <td>NaN</td>\n",
       "      <td>False</td>\n",
       "    </tr>\n",
       "    <tr>\n",
       "      <th>263</th>\n",
       "      <td>296</td>\n",
       "      <td>None</td>\n",
       "      <td>None</td>\n",
       "      <td>None</td>\n",
       "      <td>None</td>\n",
       "      <td>None</td>\n",
       "      <td>None</td>\n",
       "      <td>None</td>\n",
       "      <td>None</td>\n",
       "      <td>False</td>\n",
       "      <td>...</td>\n",
       "      <td>296</td>\n",
       "      <td>0.081666</td>\n",
       "      <td>2.397622</td>\n",
       "      <td>1.000000</td>\n",
       "      <td>0.000098</td>\n",
       "      <td>mua</td>\n",
       "      <td>285.57</td>\n",
       "      <td>NaN</td>\n",
       "      <td>NaN</td>\n",
       "      <td>True</td>\n",
       "    </tr>\n",
       "    <tr>\n",
       "      <th>264</th>\n",
       "      <td>297</td>\n",
       "      <td>[0.6, 0.7, 0.7, 0.65]</td>\n",
       "      <td>[0.010918277435121127, 0.014782509271753952, 0...</td>\n",
       "      <td>[30, 30, 40, 50]</td>\n",
       "      <td>[surface_LC, surface_LC, surface_LC, surface_LC]</td>\n",
       "      <td>[5, 5, 5, 5]</td>\n",
       "      <td>[4, 4, 4, 4]</td>\n",
       "      <td>[5, 5, 5, 5]</td>\n",
       "      <td>[post, pre, post, post]</td>\n",
       "      <td>True</td>\n",
       "      <td>...</td>\n",
       "      <td>297</td>\n",
       "      <td>0.042272</td>\n",
       "      <td>2.040769</td>\n",
       "      <td>1.000000</td>\n",
       "      <td>0.000446</td>\n",
       "      <td>sua</td>\n",
       "      <td>442.97</td>\n",
       "      <td>[0.036943320655190535, 0.04178034356952288, 0....</td>\n",
       "      <td>[0.9648659025702908, 0.9512776482486792, 0.944...</td>\n",
       "      <td>True</td>\n",
       "    </tr>\n",
       "    <tr>\n",
       "      <th>265</th>\n",
       "      <td>298</td>\n",
       "      <td>[0.55, 0.5, 0.55, 0.55]</td>\n",
       "      <td>[0.01620521015932106, 0.016074350674171, 0.013...</td>\n",
       "      <td>[30, 30, 40, 50]</td>\n",
       "      <td>[surface_LC, surface_LC, surface_LC, surface_LC]</td>\n",
       "      <td>[5, 5, 5, 5]</td>\n",
       "      <td>[4, 4, 4, 4]</td>\n",
       "      <td>[5, 5, 5, 5]</td>\n",
       "      <td>[post, pre, post, post]</td>\n",
       "      <td>True</td>\n",
       "      <td>...</td>\n",
       "      <td>298</td>\n",
       "      <td>0.028097</td>\n",
       "      <td>3.540009</td>\n",
       "      <td>1.000000</td>\n",
       "      <td>0.000093</td>\n",
       "      <td>noise</td>\n",
       "      <td>455.52</td>\n",
       "      <td>[0.032577321618421376, 0.042002259768385626, 0...</td>\n",
       "      <td>[0.9618594891829754, 0.9716869200463271, 0.955...</td>\n",
       "      <td>False</td>\n",
       "    </tr>\n",
       "    <tr>\n",
       "      <th>266</th>\n",
       "      <td>299</td>\n",
       "      <td>None</td>\n",
       "      <td>None</td>\n",
       "      <td>None</td>\n",
       "      <td>None</td>\n",
       "      <td>None</td>\n",
       "      <td>None</td>\n",
       "      <td>None</td>\n",
       "      <td>None</td>\n",
       "      <td>False</td>\n",
       "      <td>...</td>\n",
       "      <td>299</td>\n",
       "      <td>0.350794</td>\n",
       "      <td>1.918414</td>\n",
       "      <td>1.000000</td>\n",
       "      <td>0.000090</td>\n",
       "      <td>mua</td>\n",
       "      <td>576.65</td>\n",
       "      <td>NaN</td>\n",
       "      <td>NaN</td>\n",
       "      <td>True</td>\n",
       "    </tr>\n",
       "  </tbody>\n",
       "</table>\n",
       "<p>267 rows × 21 columns</p>\n",
       "</div>"
      ],
      "text/plain": [
       "     unit_id                   resp_p  \\\n",
       "0          0                     None   \n",
       "1          1                     None   \n",
       "2          2                   [0.72]   \n",
       "3          3     [0.9, 0.9, 0.7, 0.8]   \n",
       "4          5                     None   \n",
       "..       ...                      ...   \n",
       "262      295                     None   \n",
       "263      296                     None   \n",
       "264      297    [0.6, 0.7, 0.7, 0.65]   \n",
       "265      298  [0.55, 0.5, 0.55, 0.55]   \n",
       "266      299                     None   \n",
       "\n",
       "                                              resp_lat            powers  \\\n",
       "0                                                 None              None   \n",
       "1                                                 None              None   \n",
       "2                               [0.011866555440285469]              [50]   \n",
       "3    [0.0108739817788934, 0.01263726076493705, 0.01...  [10, 20, 30, 50]   \n",
       "4                                                 None              None   \n",
       "..                                                 ...               ...   \n",
       "262                                               None              None   \n",
       "263                                               None              None   \n",
       "264  [0.010918277435121127, 0.014782509271753952, 0...  [30, 30, 40, 50]   \n",
       "265  [0.01620521015932106, 0.016074350674171, 0.013...  [30, 30, 40, 50]   \n",
       "266                                               None              None   \n",
       "\n",
       "                                                sites    num_pulses  \\\n",
       "0                                                None          None   \n",
       "1                                                None          None   \n",
       "2                                        [surface_LC]           [5]   \n",
       "3    [surface_LC, surface_LC, surface_LC, surface_LC]  [5, 5, 5, 5]   \n",
       "4                                                None          None   \n",
       "..                                                ...           ...   \n",
       "262                                              None          None   \n",
       "263                                              None          None   \n",
       "264  [surface_LC, surface_LC, surface_LC, surface_LC]  [5, 5, 5, 5]   \n",
       "265  [surface_LC, surface_LC, surface_LC, surface_LC]  [5, 5, 5, 5]   \n",
       "266                                              None          None   \n",
       "\n",
       "        durations         freqs                stim_times  opto_pass  ...  \\\n",
       "0            None          None                      None      False  ...   \n",
       "1            None          None                      None      False  ...   \n",
       "2             [5]           [5]                    [post]       True  ...   \n",
       "3    [4, 4, 4, 4]  [5, 5, 5, 5]  [post, post, post, post]       True  ...   \n",
       "4            None          None                      None      False  ...   \n",
       "..            ...           ...                       ...        ...  ...   \n",
       "262          None          None                      None      False  ...   \n",
       "263          None          None                      None      False  ...   \n",
       "264  [4, 4, 4, 4]  [5, 5, 5, 5]   [post, pre, post, post]       True  ...   \n",
       "265  [4, 4, 4, 4]  [5, 5, 5, 5]   [post, pre, post, post]       True  ...   \n",
       "266          None          None                      None      False  ...   \n",
       "\n",
       "    ks_unit_id  isi_violations_ratio  firing_rate  presence_ratio  \\\n",
       "0            0              0.000000     0.072709        0.808511   \n",
       "1            1              0.486594     0.918804        0.872340   \n",
       "2            2              0.048411     4.799117        1.000000   \n",
       "3            3              0.074913    10.321623        1.000000   \n",
       "4            5              0.000326    60.011850        1.000000   \n",
       "..         ...                   ...          ...             ...   \n",
       "262        295              0.000000     0.032921        0.744681   \n",
       "263        296              0.081666     2.397622        1.000000   \n",
       "264        297              0.042272     2.040769        1.000000   \n",
       "265        298              0.028097     3.540009        1.000000   \n",
       "266        299              0.350794     1.918414        1.000000   \n",
       "\n",
       "     amplitude_cutoff  decoder_label    depth  \\\n",
       "0                 NaN            mua   170.43   \n",
       "1            0.000383            mua     3.40   \n",
       "2            0.000168            sua    78.83   \n",
       "3            0.000033            sua    94.24   \n",
       "4            0.000288            sua   160.25   \n",
       "..                ...            ...      ...   \n",
       "262               NaN            mua  1482.47   \n",
       "263          0.000098            mua   285.57   \n",
       "264          0.000446            sua   442.97   \n",
       "265          0.000093          noise   455.52   \n",
       "266          0.000090            mua   576.65   \n",
       "\n",
       "                                        euclidean_norm  \\\n",
       "0                                                  NaN   \n",
       "1                                                  NaN   \n",
       "2                               [0.011572034337162935]   \n",
       "3    [0.019803436709564345, 0.020649075605866287, 0...   \n",
       "4                                                  NaN   \n",
       "..                                                 ...   \n",
       "262                                                NaN   \n",
       "263                                                NaN   \n",
       "264  [0.036943320655190535, 0.04178034356952288, 0....   \n",
       "265  [0.032577321618421376, 0.042002259768385626, 0...   \n",
       "266                                                NaN   \n",
       "\n",
       "                                           correlation default_qc  \n",
       "0                                                  NaN      False  \n",
       "1                                                  NaN      False  \n",
       "2                                 [0.9979395187981891]       True  \n",
       "3    [0.9864396155122652, 0.9864571959817784, 0.983...       True  \n",
       "4                                                  NaN       True  \n",
       "..                                                 ...        ...  \n",
       "262                                                NaN      False  \n",
       "263                                                NaN       True  \n",
       "264  [0.9648659025702908, 0.9512776482486792, 0.944...       True  \n",
       "265  [0.9618594891829754, 0.9716869200463271, 0.955...      False  \n",
       "266                                                NaN       True  \n",
       "\n",
       "[267 rows x 21 columns]"
      ]
     },
     "execution_count": 11,
     "metadata": {},
     "output_type": "execute_result"
    }
   ],
   "source": [
    "opto_tagging_df"
>>>>>>> origin/main
   ]
  },
  {
   "cell_type": "code",
<<<<<<< HEAD
   "execution_count": 5,
=======
   "execution_count": null,
   "metadata": {},
   "outputs": [
    {
     "data": {
      "text/plain": [
       "['behavior_717121_2024-06-15_10-00-58', 'behavior_716325_2024-05-31_10-31-14']"
      ]
     },
     "execution_count": 4,
     "metadata": {},
     "output_type": "execute_result"
    }
   ],
   "source": [
    "session_list"
   ]
  },
  {
   "cell_type": "code",
   "execution_count": null,
>>>>>>> origin/main
   "metadata": {},
   "outputs": [
    {
     "name": "stdout",
     "output_type": "stream",
     "text": [
<<<<<<< HEAD
      "Random Forest R² Score fast: 0.8578\n",
      "Feature Importance fast - motion: 0.35, amp: 0.44, motion*fr: 0.21\n",
      "Random Forest R² Score slow: 0.9373\n",
      "Feature Importance slow - motion: 0.10, amp: 0.70, motion*fr: 0.20\n"
=======
      "behavior_751766_2025-02-14_11-37-11 start\n"
>>>>>>> origin/main
     ]
    },
    {
     "name": "stderr",
     "output_type": "stream",
     "text": [
<<<<<<< HEAD
      "No artists with labels found to put in legend.  Note that artists whose label start with an underscore are ignored when legend() is called with no argument.\n",
      "/root/capsule/code/beh_ephys_analysis/drift_analysis.py:260: RuntimeWarning: invalid value encountered in divide\n",
      "  z_rf_fast = np.abs((spike_counts_fast - spike_counts_slow_pre)/(0.5*(spike_counts_fast + spike_counts_slow_pre))) # firing rate change\n",
      "/root/capsule/code/beh_ephys_analysis/drift_analysis.py:278: RuntimeWarning: invalid value encountered in divide\n",
      "  z_rf = spike_counts_slow_post - spike_counts_slow_pre/(0.5*(spike_counts_slow_post+spike_counts_slow_pre)) # firing rate change\n",
      "/root/capsule/code/beh_ephys_analysis/drift_analysis.py:317: RuntimeWarning: invalid value encountered in divide\n",
      "  plt.plot(temp_bins, (spike_counts_fast-spike_counts_slow_pre)/(0.5*(spike_counts_fast+spike_counts_slow_pre)), label='fast-slow')\n",
      "/root/capsule/code/beh_ephys_analysis/drift_analysis.py:318: RuntimeWarning: invalid value encountered in divide\n",
      "  plt.plot(temp_bins_slow_spike, (spike_counts_slow_post - spike_counts_slow_pre)/(0.5*(spike_counts_slow_pre + spike_counts_slow_post)), label = 'diff(slow)', c='r')\n",
      "/root/capsule/code/beh_ephys_analysis/drift_analysis.py:322: RuntimeWarning: invalid value encountered in divide\n",
      "  plt.plot(temp_bins, np.abs(spike_counts_fast - spike_counts_slow_pre)/(0.5*(spike_counts_fast+spike_counts_slow_pre)), label='abs(fast-slow)')\n",
      "/root/capsule/code/beh_ephys_analysis/drift_analysis.py:323: RuntimeWarning: invalid value encountered in divide\n",
      "  plt.plot(temp_bins_slow_spike, np.abs(spike_counts_slow_post - spike_counts_slow_pre)/(0.5*(spike_counts_slow_pre + spike_counts_slow_post)), label = 'abs(diff(slow))', c='r')\n",
      "No artists with labels found to put in legend.  Note that artists whose label start with an underscore are ignored when legend() is called with no argument.\n"
=======
      "/root/capsule/code/beh_ephys_analysis/opto_tagging.py:351: FutureWarning: errors='ignore' is deprecated and will raise in a future version. Use to_numeric without passing `errors` and catch exceptions explicitly instead\n",
      "  unit_qc = unit_qc.apply(pd.to_numeric, errors='ignore')\n"
>>>>>>> origin/main
     ]
    },
    {
     "name": "stdout",
     "output_type": "stream",
     "text": [
<<<<<<< HEAD
      "Random Forest R² Score fast: 0.9008\n",
      "Feature Importance fast - motion: 0.37, amp: 0.15, motion*fr: 0.48\n",
      "Random Forest R² Score slow: 0.9699\n",
      "Feature Importance slow - motion: 0.13, amp: 0.10, motion*fr: 0.77\n",
      "Merging file 0 out of 2\n",
      "PDF files in '/root/capsule/scratch/751004/behavior_751004_2024-12-22_13-09-17/ephys/opto/curated/drift' merged into '/root/capsule/scratch/751004/behavior_751004_2024-12-22_13-09-17/ephys/opto/curated/behavior_751004_2024-12-22_13-09-17_drift.pdf' successfully.\n",
      "Random Forest R² Score fast: 0.8447\n",
      "Feature Importance fast - motion: 0.26, amp: 0.55, motion*fr: 0.19\n",
      "Random Forest R² Score slow: 0.8409\n",
      "Feature Importance slow - motion: 0.32, amp: 0.43, motion*fr: 0.25\n"
=======
      "78 out of 205 units pass quality control\n",
      "{'samples_to_keep': [-30, 60], 'y_neighbors_to_keep': 3, 'orginal_loc': False}\n",
      "Merging file 0 out of 205\n",
      "Merging file 50 out of 205\n",
      "Merging file 100 out of 205\n",
      "Merging file 150 out of 205\n",
      "Merging file 200 out of 205\n",
      "PDF files in '/root/capsule/scratch/751766/behavior_751766_2025-02-14_11-37-11/ephys/opto/curated/figures' merged into '/root/capsule/scratch/751766/behavior_751766_2025-02-14_11-37-11/ephys/opto/curated/behavior_751766_2025-02-14_11-37-11_opto_tagging.pdf' successfully.\n",
      "14 out of 205 units pass quality control and opto tagging\n"
>>>>>>> origin/main
     ]
    },
    {
     "name": "stderr",
     "output_type": "stream",
     "text": [
<<<<<<< HEAD
      "No artists with labels found to put in legend.  Note that artists whose label start with an underscore are ignored when legend() is called with no argument.\n"
=======
      "/root/capsule/code/beh_ephys_analysis/opto_tagging.py:351: FutureWarning: errors='ignore' is deprecated and will raise in a future version. Use to_numeric without passing `errors` and catch exceptions explicitly instead\n",
      "  unit_qc = unit_qc.apply(pd.to_numeric, errors='ignore')\n"
>>>>>>> origin/main
     ]
    },
    {
     "name": "stdout",
     "output_type": "stream",
     "text": [
<<<<<<< HEAD
      "Random Forest R² Score fast: 0.7982\n",
      "Feature Importance fast - motion: 0.30, amp: 0.38, motion*fr: 0.32\n",
      "Random Forest R² Score slow: 0.8084\n",
      "Feature Importance slow - motion: 0.21, amp: 0.52, motion*fr: 0.27\n"
=======
      "78 out of 205 units pass quality control\n",
      "{'samples_to_keep': [-30, 60], 'y_neighbors_to_keep': 3, 'orginal_loc': False}\n",
      "Merging file 0 out of 205\n",
      "Merging file 50 out of 205\n",
      "Merging file 100 out of 205\n",
      "Merging file 150 out of 205\n",
      "Merging file 200 out of 205\n",
      "PDF files in '/root/capsule/scratch/751766/behavior_751766_2025-02-14_11-37-11/ephys/opto/curated/figures' merged into '/root/capsule/scratch/751766/behavior_751766_2025-02-14_11-37-11/ephys/opto/curated/behavior_751766_2025-02-14_11-37-11_opto_tagging.pdf' successfully.\n",
      "18 out of 205 units pass quality control and opto tagging\n",
      "Random Forest R² Score fast: 0.7925\n",
      "Feature Importance fast - motion: 0.40, amp: 0.33, motion*fr: 0.27\n",
      "Random Forest R² Score slow: 0.8171\n",
      "Feature Importance slow - motion: 0.50, amp: 0.39, motion*fr: 0.11\n"
>>>>>>> origin/main
     ]
    },
    {
     "name": "stderr",
     "output_type": "stream",
     "text": [
<<<<<<< HEAD
      "No artists with labels found to put in legend.  Note that artists whose label start with an underscore are ignored when legend() is called with no argument.\n"
=======
      "/root/capsule/code/beh_ephys_analysis/drift_analysis.py:348: UserWarning: No artists with labels found to put in legend.  Note that artists whose label start with an underscore are ignored when legend() is called with no argument.\n",
      "  plt.plot(temp_bins, np.abs(spike_counts_fast - spike_counts_slow_pre)/(0.5*(spike_counts_fast+spike_counts_slow_pre)), label='abs(fast-slow)')\n"
>>>>>>> origin/main
     ]
    },
    {
     "name": "stdout",
     "output_type": "stream",
     "text": [
<<<<<<< HEAD
      "Random Forest R² Score fast: 0.8527\n",
      "Feature Importance fast - motion: 0.22, amp: 0.62, motion*fr: 0.16\n",
      "Random Forest R² Score slow: 0.8633\n",
      "Feature Importance slow - motion: 0.08, amp: 0.88, motion*fr: 0.04\n"
=======
      "Random Forest R² Score fast: 0.8741\n",
      "Feature Importance fast - motion: 0.60, amp: 0.27, motion*fr: 0.13\n",
      "Random Forest R² Score slow: 0.8078\n",
      "Feature Importance slow - motion: 0.33, amp: 0.13, motion*fr: 0.54\n"
>>>>>>> origin/main
     ]
    },
    {
     "name": "stderr",
     "output_type": "stream",
     "text": [
<<<<<<< HEAD
      "No artists with labels found to put in legend.  Note that artists whose label start with an underscore are ignored when legend() is called with no argument.\n"
=======
      "/root/capsule/code/beh_ephys_analysis/drift_analysis.py:348: UserWarning: No artists with labels found to put in legend.  Note that artists whose label start with an underscore are ignored when legend() is called with no argument.\n",
      "  plt.plot(temp_bins, np.abs(spike_counts_fast - spike_counts_slow_pre)/(0.5*(spike_counts_fast+spike_counts_slow_pre)), label='abs(fast-slow)')\n"
>>>>>>> origin/main
     ]
    },
    {
     "name": "stdout",
     "output_type": "stream",
     "text": [
<<<<<<< HEAD
      "Merging file 0 out of 3\n",
      "PDF files in '/root/capsule/scratch/751004/behavior_751004_2024-12-21_13-28-28/ephys/opto/curated/drift' merged into '/root/capsule/scratch/751004/behavior_751004_2024-12-21_13-28-28/ephys/opto/curated/behavior_751004_2024-12-21_13-28-28_drift.pdf' successfully.\n"
=======
      "Random Forest R² Score fast: 0.7969\n",
      "Feature Importance fast - motion: 0.36, amp: 0.40, motion*fr: 0.23\n",
      "Random Forest R² Score slow: 0.8638\n",
      "Feature Importance slow - motion: 0.59, amp: 0.17, motion*fr: 0.24\n"
>>>>>>> origin/main
     ]
    },
    {
     "name": "stderr",
     "output_type": "stream",
     "text": [
<<<<<<< HEAD
      "/root/capsule/code/beh_ephys_analysis/drift_analysis.py:260: RuntimeWarning: invalid value encountered in divide\n",
      "  z_rf_fast = np.abs((spike_counts_fast - spike_counts_slow_pre)/(0.5*(spike_counts_fast + spike_counts_slow_pre))) # firing rate change\n",
      "/root/capsule/code/beh_ephys_analysis/drift_analysis.py:317: RuntimeWarning: invalid value encountered in divide\n",
      "  plt.plot(temp_bins, (spike_counts_fast-spike_counts_slow_pre)/(0.5*(spike_counts_fast+spike_counts_slow_pre)), label='fast-slow')\n",
      "/root/capsule/code/beh_ephys_analysis/drift_analysis.py:322: RuntimeWarning: invalid value encountered in divide\n",
=======
      "/root/capsule/code/beh_ephys_analysis/drift_analysis.py:348: UserWarning: No artists with labels found to put in legend.  Note that artists whose label start with an underscore are ignored when legend() is called with no argument.\n",
>>>>>>> origin/main
      "  plt.plot(temp_bins, np.abs(spike_counts_fast - spike_counts_slow_pre)/(0.5*(spike_counts_fast+spike_counts_slow_pre)), label='abs(fast-slow)')\n"
     ]
    },
    {
     "name": "stdout",
     "output_type": "stream",
     "text": [
<<<<<<< HEAD
      "Random Forest R² Score fast: 0.8793\n",
      "Feature Importance fast - motion: 0.47, amp: 0.26, motion*fr: 0.27\n",
      "Random Forest R² Score slow: 0.9361\n",
      "Feature Importance slow - motion: 0.10, amp: 0.37, motion*fr: 0.53\n"
=======
      "Random Forest R² Score fast: 0.7959\n",
      "Feature Importance fast - motion: 0.45, amp: 0.19, motion*fr: 0.37\n",
      "Random Forest R² Score slow: 0.8168\n",
      "Feature Importance slow - motion: 0.23, amp: 0.51, motion*fr: 0.25\n"
>>>>>>> origin/main
     ]
    },
    {
     "name": "stderr",
     "output_type": "stream",
     "text": [
<<<<<<< HEAD
      "No artists with labels found to put in legend.  Note that artists whose label start with an underscore are ignored when legend() is called with no argument.\n"
=======
      "/root/capsule/code/beh_ephys_analysis/drift_analysis.py:348: UserWarning: No artists with labels found to put in legend.  Note that artists whose label start with an underscore are ignored when legend() is called with no argument.\n",
      "  plt.plot(temp_bins, np.abs(spike_counts_fast - spike_counts_slow_pre)/(0.5*(spike_counts_fast+spike_counts_slow_pre)), label='abs(fast-slow)')\n"
>>>>>>> origin/main
     ]
    },
    {
     "name": "stdout",
     "output_type": "stream",
     "text": [
<<<<<<< HEAD
      "Random Forest R² Score fast: 0.8688\n",
      "Feature Importance fast - motion: 0.47, amp: 0.43, motion*fr: 0.10\n",
      "Random Forest R² Score slow: 0.9793\n",
      "Feature Importance slow - motion: 0.75, amp: 0.22, motion*fr: 0.02\n"
=======
      "Random Forest R² Score fast: 0.7670\n",
      "Feature Importance fast - motion: 0.31, amp: 0.38, motion*fr: 0.31\n",
      "Random Forest R² Score slow: 0.8273\n",
      "Feature Importance slow - motion: 0.16, amp: 0.62, motion*fr: 0.22\n"
>>>>>>> origin/main
     ]
    },
    {
     "name": "stderr",
     "output_type": "stream",
     "text": [
<<<<<<< HEAD
      "No artists with labels found to put in legend.  Note that artists whose label start with an underscore are ignored when legend() is called with no argument.\n"
=======
      "/root/capsule/code/beh_ephys_analysis/drift_analysis.py:348: UserWarning: No artists with labels found to put in legend.  Note that artists whose label start with an underscore are ignored when legend() is called with no argument.\n",
      "  plt.plot(temp_bins, np.abs(spike_counts_fast - spike_counts_slow_pre)/(0.5*(spike_counts_fast+spike_counts_slow_pre)), label='abs(fast-slow)')\n"
>>>>>>> origin/main
     ]
    },
    {
     "name": "stdout",
     "output_type": "stream",
     "text": [
<<<<<<< HEAD
      "Random Forest R² Score fast: 0.8821\n",
      "Feature Importance fast - motion: 0.40, amp: 0.55, motion*fr: 0.05\n",
      "Random Forest R² Score slow: 0.9395\n",
      "Feature Importance slow - motion: 0.45, amp: 0.22, motion*fr: 0.33\n"
=======
      "Random Forest R² Score fast: 0.7342\n",
      "Feature Importance fast - motion: 0.34, amp: 0.31, motion*fr: 0.35\n",
      "Random Forest R² Score slow: 0.9385\n",
      "Feature Importance slow - motion: 0.34, amp: 0.20, motion*fr: 0.46\n"
>>>>>>> origin/main
     ]
    },
    {
     "name": "stderr",
     "output_type": "stream",
     "text": [
<<<<<<< HEAD
      "No artists with labels found to put in legend.  Note that artists whose label start with an underscore are ignored when legend() is called with no argument.\n",
      "/root/capsule/code/beh_ephys_analysis/drift_analysis.py:260: RuntimeWarning: invalid value encountered in divide\n",
      "  z_rf_fast = np.abs((spike_counts_fast - spike_counts_slow_pre)/(0.5*(spike_counts_fast + spike_counts_slow_pre))) # firing rate change\n",
      "/root/capsule/code/beh_ephys_analysis/drift_analysis.py:317: RuntimeWarning: invalid value encountered in divide\n",
      "  plt.plot(temp_bins, (spike_counts_fast-spike_counts_slow_pre)/(0.5*(spike_counts_fast+spike_counts_slow_pre)), label='fast-slow')\n",
      "/root/capsule/code/beh_ephys_analysis/drift_analysis.py:322: RuntimeWarning: invalid value encountered in divide\n",
=======
      "/root/capsule/code/beh_ephys_analysis/drift_analysis.py:348: UserWarning: No artists with labels found to put in legend.  Note that artists whose label start with an underscore are ignored when legend() is called with no argument.\n",
>>>>>>> origin/main
      "  plt.plot(temp_bins, np.abs(spike_counts_fast - spike_counts_slow_pre)/(0.5*(spike_counts_fast+spike_counts_slow_pre)), label='abs(fast-slow)')\n"
     ]
    },
    {
     "name": "stdout",
     "output_type": "stream",
     "text": [
<<<<<<< HEAD
      "Random Forest R² Score fast: 0.8156\n",
      "Feature Importance fast - motion: 0.22, amp: 0.65, motion*fr: 0.13\n",
      "Random Forest R² Score slow: 0.9730\n",
      "Feature Importance slow - motion: 0.42, amp: 0.04, motion*fr: 0.54\n"
=======
      "Random Forest R² Score fast: 0.8155\n",
      "Feature Importance fast - motion: 0.27, amp: 0.22, motion*fr: 0.51\n",
      "Random Forest R² Score slow: 0.9929\n",
      "Feature Importance slow - motion: 0.13, amp: 0.06, motion*fr: 0.82\n"
>>>>>>> origin/main
     ]
    },
    {
     "name": "stderr",
     "output_type": "stream",
     "text": [
<<<<<<< HEAD
      "No artists with labels found to put in legend.  Note that artists whose label start with an underscore are ignored when legend() is called with no argument.\n"
=======
      "/root/capsule/code/beh_ephys_analysis/drift_analysis.py:348: UserWarning: No artists with labels found to put in legend.  Note that artists whose label start with an underscore are ignored when legend() is called with no argument.\n",
      "  plt.plot(temp_bins, np.abs(spike_counts_fast - spike_counts_slow_pre)/(0.5*(spike_counts_fast+spike_counts_slow_pre)), label='abs(fast-slow)')\n"
>>>>>>> origin/main
     ]
    },
    {
     "name": "stdout",
     "output_type": "stream",
     "text": [
<<<<<<< HEAD
      "Random Forest R² Score fast: 0.9313\n",
      "Feature Importance fast - motion: 0.48, amp: 0.22, motion*fr: 0.30\n",
      "Random Forest R² Score slow: 0.9548\n",
      "Feature Importance slow - motion: 0.08, amp: 0.83, motion*fr: 0.09\n"
=======
      "Random Forest R² Score fast: 0.8659\n",
      "Feature Importance fast - motion: 0.22, amp: 0.33, motion*fr: 0.45\n",
      "Random Forest R² Score slow: 0.9722\n",
      "Feature Importance slow - motion: 0.05, amp: 0.18, motion*fr: 0.77\n"
>>>>>>> origin/main
     ]
    },
    {
     "name": "stderr",
     "output_type": "stream",
     "text": [
<<<<<<< HEAD
      "No artists with labels found to put in legend.  Note that artists whose label start with an underscore are ignored when legend() is called with no argument.\n"
=======
      "/root/capsule/code/beh_ephys_analysis/drift_analysis.py:348: UserWarning: No artists with labels found to put in legend.  Note that artists whose label start with an underscore are ignored when legend() is called with no argument.\n",
      "  plt.plot(temp_bins, np.abs(spike_counts_fast - spike_counts_slow_pre)/(0.5*(spike_counts_fast+spike_counts_slow_pre)), label='abs(fast-slow)')\n"
>>>>>>> origin/main
     ]
    },
    {
     "name": "stdout",
     "output_type": "stream",
     "text": [
<<<<<<< HEAD
      "Merging file 0 out of 5\n",
      "PDF files in '/root/capsule/scratch/751004/behavior_751004_2024-12-20_13-26-11/ephys/opto/curated/drift' merged into '/root/capsule/scratch/751004/behavior_751004_2024-12-20_13-26-11/ephys/opto/curated/behavior_751004_2024-12-20_13-26-11_drift.pdf' successfully.\n",
      "Random Forest R² Score fast: 0.6181\n",
      "Feature Importance fast - motion: 0.39, amp: 0.27, motion*fr: 0.34\n",
      "Random Forest R² Score slow: 0.9280\n",
      "Feature Importance slow - motion: 0.24, amp: 0.43, motion*fr: 0.33\n"
=======
      "Random Forest R² Score fast: 0.8033\n",
      "Feature Importance fast - motion: 0.21, amp: 0.52, motion*fr: 0.27\n",
      "Random Forest R² Score slow: 0.8947\n",
      "Feature Importance slow - motion: 0.16, amp: 0.50, motion*fr: 0.34\n"
>>>>>>> origin/main
     ]
    },
    {
     "name": "stderr",
     "output_type": "stream",
     "text": [
<<<<<<< HEAD
      "No artists with labels found to put in legend.  Note that artists whose label start with an underscore are ignored when legend() is called with no argument.\n"
=======
      "/root/capsule/code/beh_ephys_analysis/drift_analysis.py:348: UserWarning: No artists with labels found to put in legend.  Note that artists whose label start with an underscore are ignored when legend() is called with no argument.\n",
      "  plt.plot(temp_bins, np.abs(spike_counts_fast - spike_counts_slow_pre)/(0.5*(spike_counts_fast+spike_counts_slow_pre)), label='abs(fast-slow)')\n"
>>>>>>> origin/main
     ]
    },
    {
     "name": "stdout",
     "output_type": "stream",
     "text": [
<<<<<<< HEAD
      "Random Forest R² Score fast: 0.7825\n",
      "Feature Importance fast - motion: 0.22, amp: 0.49, motion*fr: 0.29\n",
      "Random Forest R² Score slow: 0.8269\n",
      "Feature Importance slow - motion: 0.30, amp: 0.44, motion*fr: 0.26\n"
     ]
    },
    {
     "name": "stderr",
     "output_type": "stream",
     "text": [
      "No artists with labels found to put in legend.  Note that artists whose label start with an underscore are ignored when legend() is called with no argument.\n"
     ]
    },
=======
      "Merging file 0 out of 9\n",
      "PDF files in '/root/capsule/scratch/751766/behavior_751766_2025-02-14_11-37-11/ephys/opto/curated/drift' merged into '/root/capsule/scratch/751766/behavior_751766_2025-02-14_11-37-11/ephys/opto/curated/behavior_751766_2025-02-14_11-37-11_drift.pdf' successfully.\n",
      "behavior_751766_2025-02-14_11-37-11 stop\n"
     ]
    }
   ],
   "source": [
    "process('behavior_751766_2025-02-14_11-37-11', data_type='curated')\n",
    "# process('behavior_717121_2024-06-15_10-00-58')"
   ]
  },
  {
   "cell_type": "code",
   "execution_count": null,
   "metadata": {},
   "outputs": [
>>>>>>> origin/main
    {
     "name": "stdout",
     "output_type": "stream",
     "text": [
<<<<<<< HEAD
      "Random Forest R² Score fast: 0.8330\n",
      "Feature Importance fast - motion: 0.22, amp: 0.31, motion*fr: 0.47\n",
      "Random Forest R² Score slow: 0.9445\n",
      "Feature Importance slow - motion: 0.27, amp: 0.44, motion*fr: 0.29\n"
=======
      "behavior_717121_2024-06-15_10-00-58\n"
>>>>>>> origin/main
     ]
    },
    {
     "name": "stderr",
     "output_type": "stream",
     "text": [
<<<<<<< HEAD
      "No artists with labels found to put in legend.  Note that artists whose label start with an underscore are ignored when legend() is called with no argument.\n"
     ]
    },
    {
     "name": "stdout",
     "output_type": "stream",
     "text": [
      "Merging file 0 out of 3\n",
      "PDF files in '/root/capsule/scratch/751004/behavior_751004_2024-12-23_14-20-03/ephys/opto/curated/drift' merged into '/root/capsule/scratch/751004/behavior_751004_2024-12-23_14-20-03/ephys/opto/curated/behavior_751004_2024-12-23_14-20-03_drift.pdf' successfully.\n"
     ]
    },
    {
     "data": {
      "text/plain": [
       "[None, None, None, None]"
      ]
     },
     "execution_count": 5,
     "metadata": {},
     "output_type": "execute_result"
    }
   ],
   "source": [
    "from joblib import Parallel, delayed\n",
    "# session_list = ['behavior_717121_2024-06-15_10-00-58',\n",
    "#                 'behavior_716325_2024-05-31_10-31-14']\n",
    "data_type = 'curated'\n",
    "def process(session, data_type='raw'):\n",
    "    beh_and_time_alignment(session)\n",
    "    # ephys_opto_preprocessing(session, data_type, 'soma')\n",
    "    # # ephys_opto_crosscorr(session, data_type)\n",
    "    # # opto_wf_preprocessing(session, data_type, 'soma', load_sorting_analyzer=True)\n",
    "    \n",
    "    # plt.close('all')\n",
    "    # opto_tagging_df = opto_plotting_session(session, data_type, 'soma', plot=True, resp_thresh=0.4, lat_thresh=0.02)\n",
    "    # plt.close('all')\n",
    "    # opto_tagged_spike_stability(session, data_type, 'soma', opto_tagging_df=opto_tagging_df)\n",
    "    plot_session_opto_drift(session, data_type, update_csv=False)\n",
    "\n",
    "Parallel(n_jobs=3)(delayed(process)(session, data_type = data_type) for session in session_list[1:])\n"
=======
      "/opt/conda/lib/python3.9/site-packages/spikeinterface/core/base.py:1129: UserWarning: Versions are not the same. This might lead to compatibility errors. Using spikeinterface==0.100.7 is recommended\n",
      "  warnings.warn(\n",
      "/opt/conda/lib/python3.9/site-packages/spikeinterface/core/waveforms_extractor_backwards_compatibility.py:650: UserWarning: Removing legacy parameter return_scaled from spike_amplitudes extension\n",
      "  warnings.warn(f\"Removing legacy parameter {p} from {old_name} extension\")\n",
      "/opt/conda/lib/python3.9/site-packages/spikeinterface/core/waveforms_extractor_backwards_compatibility.py:650: UserWarning: Removing legacy parameter method_kwargs from unit_locations extension\n",
      "  warnings.warn(f\"Removing legacy parameter {p} from {old_name} extension\")\n",
      "/opt/conda/lib/python3.9/site-packages/spikeinterface/core/waveforms_extractor_backwards_compatibility.py:650: UserWarning: Removing legacy parameter sparsity from quality_metrics extension\n",
      "  warnings.warn(f\"Removing legacy parameter {p} from {old_name} extension\")\n",
      "/opt/conda/lib/python3.9/site-packages/spikeinterface/core/waveforms_extractor_backwards_compatibility.py:650: UserWarning: Removing legacy parameter random_chunk_kwargs_dict from quality_metrics extension\n",
      "  warnings.warn(f\"Removing legacy parameter {p} from {old_name} extension\")\n",
      "/opt/conda/lib/python3.9/site-packages/spikeinterface/core/waveforms_extractor_backwards_compatibility.py:650: UserWarning: Removing legacy parameter sparsity from principal_components extension\n",
      "  warnings.warn(f\"Removing legacy parameter {p} from {old_name} extension\")\n",
      "/opt/conda/lib/python3.9/site-packages/spikeinterface/core/waveforms_extractor_backwards_compatibility.py:650: UserWarning: Removing legacy parameter tmp_folder from principal_components extension\n",
      "  warnings.warn(f\"Removing legacy parameter {p} from {old_name} extension\")\n"
     ]
    }
   ],
   "source": [
    "ephys_opto_preprocessing('behavior_717121_2024-06-15_10-00-58', 'curated', 'soma')"
>>>>>>> origin/main
   ]
  },
  {
   "cell_type": "code",
<<<<<<< HEAD
   "execution_count": 7,
   "metadata": {},
   "outputs": [
    {
     "name": "stdout",
     "output_type": "stream",
     "text": [
      "behavior_716325_2024-05-31_10-31-14\n"
     ]
    },
    {
     "name": "stderr",
     "output_type": "stream",
     "text": [
      "/opt/conda/lib/python3.9/site-packages/spikeinterface/core/base.py:1129: UserWarning: Versions are not the same. This might lead to compatibility errors. Using spikeinterface==0.100.0 is recommended\n",
=======
   "execution_count": null,
   "metadata": {},
   "outputs": [
    {
     "name": "stderr",
     "output_type": "stream",
     "text": [
      "/opt/conda/lib/python3.9/site-packages/spikeinterface/core/base.py:1129: UserWarning: Versions are not the same. This might lead to compatibility errors. Using spikeinterface==0.100.7 is recommended\n",
>>>>>>> origin/main
      "  warnings.warn(\n",
      "/opt/conda/lib/python3.9/site-packages/spikeinterface/core/waveforms_extractor_backwards_compatibility.py:650: UserWarning: Removing legacy parameter return_scaled from spike_amplitudes extension\n",
      "  warnings.warn(f\"Removing legacy parameter {p} from {old_name} extension\")\n",
      "/opt/conda/lib/python3.9/site-packages/spikeinterface/core/waveforms_extractor_backwards_compatibility.py:650: UserWarning: Removing legacy parameter method_kwargs from unit_locations extension\n",
      "  warnings.warn(f\"Removing legacy parameter {p} from {old_name} extension\")\n",
      "/opt/conda/lib/python3.9/site-packages/spikeinterface/core/waveforms_extractor_backwards_compatibility.py:650: UserWarning: Removing legacy parameter sparsity from quality_metrics extension\n",
      "  warnings.warn(f\"Removing legacy parameter {p} from {old_name} extension\")\n",
      "/opt/conda/lib/python3.9/site-packages/spikeinterface/core/waveforms_extractor_backwards_compatibility.py:650: UserWarning: Removing legacy parameter random_chunk_kwargs_dict from quality_metrics extension\n",
      "  warnings.warn(f\"Removing legacy parameter {p} from {old_name} extension\")\n",
      "/opt/conda/lib/python3.9/site-packages/spikeinterface/core/waveforms_extractor_backwards_compatibility.py:650: UserWarning: Removing legacy parameter sparsity from principal_components extension\n",
      "  warnings.warn(f\"Removing legacy parameter {p} from {old_name} extension\")\n",
      "/opt/conda/lib/python3.9/site-packages/spikeinterface/core/waveforms_extractor_backwards_compatibility.py:650: UserWarning: Removing legacy parameter tmp_folder from principal_components extension\n",
      "  warnings.warn(f\"Removing legacy parameter {p} from {old_name} extension\")\n",
<<<<<<< HEAD
      "/opt/conda/lib/python3.9/site-packages/spikeinterface/core/base.py:1129: UserWarning: Versions are not the same. This might lead to compatibility errors. Using spikeinterface==0.100.0 is recommended\n",
=======
      "/root/capsule/code/beh_ephys_analysis/opto_tagging.py:350: FutureWarning: errors='ignore' is deprecated and will raise in a future version. Use to_numeric without passing `errors` and catch exceptions explicitly instead\n",
      "  unit_qc = unit_qc.apply(pd.to_numeric, errors='ignore')\n",
      "/root/capsule/code/beh_ephys_analysis/opto_tagging.py:389: FutureWarning: errors='ignore' is deprecated and will raise in a future version. Use to_numeric without passing `errors` and catch exceptions explicitly instead\n",
      "  opto_wf = opto_wf.apply(pd.to_numeric, errors='ignore')\n"
     ]
    }
   ],
   "source": [
    "opto_tagging_df = opto_plotting_session('behavior_717121_2024-06-15_10-00-58', 'curated', 'soma', plot=True, resp_thresh=0.4, lat_thresh=0.02)"
   ]
  },
  {
   "cell_type": "code",
   "execution_count": null,
   "metadata": {},
   "outputs": [
    {
     "name": "stderr",
     "output_type": "stream",
     "text": [
      "/opt/conda/lib/python3.9/site-packages/spikeinterface/core/base.py:1129: UserWarning: Versions are not the same. This might lead to compatibility errors. Using spikeinterface==0.100.7 is recommended\n",
>>>>>>> origin/main
      "  warnings.warn(\n",
      "/opt/conda/lib/python3.9/site-packages/spikeinterface/core/waveforms_extractor_backwards_compatibility.py:650: UserWarning: Removing legacy parameter return_scaled from spike_amplitudes extension\n",
      "  warnings.warn(f\"Removing legacy parameter {p} from {old_name} extension\")\n",
      "/opt/conda/lib/python3.9/site-packages/spikeinterface/core/waveforms_extractor_backwards_compatibility.py:650: UserWarning: Removing legacy parameter method_kwargs from unit_locations extension\n",
      "  warnings.warn(f\"Removing legacy parameter {p} from {old_name} extension\")\n",
      "/opt/conda/lib/python3.9/site-packages/spikeinterface/core/waveforms_extractor_backwards_compatibility.py:650: UserWarning: Removing legacy parameter sparsity from quality_metrics extension\n",
      "  warnings.warn(f\"Removing legacy parameter {p} from {old_name} extension\")\n",
      "/opt/conda/lib/python3.9/site-packages/spikeinterface/core/waveforms_extractor_backwards_compatibility.py:650: UserWarning: Removing legacy parameter random_chunk_kwargs_dict from quality_metrics extension\n",
      "  warnings.warn(f\"Removing legacy parameter {p} from {old_name} extension\")\n",
      "/opt/conda/lib/python3.9/site-packages/spikeinterface/core/waveforms_extractor_backwards_compatibility.py:650: UserWarning: Removing legacy parameter sparsity from principal_components extension\n",
      "  warnings.warn(f\"Removing legacy parameter {p} from {old_name} extension\")\n",
      "/opt/conda/lib/python3.9/site-packages/spikeinterface/core/waveforms_extractor_backwards_compatibility.py:650: UserWarning: Removing legacy parameter tmp_folder from principal_components extension\n",
      "  warnings.warn(f\"Removing legacy parameter {p} from {old_name} extension\")\n",
<<<<<<< HEAD
      "/opt/conda/lib/python3.9/site-packages/spikeinterface/core/base.py:1129: UserWarning: Versions are not the same. This might lead to compatibility errors. Using spikeinterface==0.100.1 is recommended\n",
      "  warnings.warn(\n",
      "/opt/conda/lib/python3.9/site-packages/spikeinterface/core/job_tools.py:103: UserWarning: `n_jobs` is not set so parallel processing is disabled! To speed up computations, it is recommended to set n_jobs either globally (with the `spikeinterface.set_global_job_kwargs()` function) or locally (with the `n_jobs` argument). Use `spikeinterface.set_global_job_kwargs?` for more information about job_kwargs.\n",
      "  warnings.warn(\n",
      "/opt/conda/lib/python3.9/site-packages/spikeinterface/core/base.py:1129: UserWarning: Versions are not the same. This might lead to compatibility errors. Using spikeinterface==0.100.0 is recommended\n",
=======
      "/opt/conda/lib/python3.9/site-packages/spikeinterface/core/base.py:1129: UserWarning: Versions are not the same. This might lead to compatibility errors. Using spikeinterface==0.100.7 is recommended\n",
      "  warnings.warn(\n",
      "/opt/conda/lib/python3.9/site-packages/spikeinterface/core/job_tools.py:103: UserWarning: `n_jobs` is not set so parallel processing is disabled! To speed up computations, it is recommended to set n_jobs either globally (with the `spikeinterface.set_global_job_kwargs()` function) or locally (with the `n_jobs` argument). Use `spikeinterface.set_global_job_kwargs?` for more information about job_kwargs.\n",
      "  warnings.warn(\n",
      "/opt/conda/lib/python3.9/site-packages/spikeinterface/core/job_tools.py:103: UserWarning: `n_jobs` is not set so parallel processing is disabled! To speed up computations, it is recommended to set n_jobs either globally (with the `spikeinterface.set_global_job_kwargs()` function) or locally (with the `n_jobs` argument). Use `spikeinterface.set_global_job_kwargs?` for more information about job_kwargs.\n",
      "  warnings.warn(\n",
      "/opt/conda/lib/python3.9/site-packages/spikeinterface/core/base.py:1129: UserWarning: Versions are not the same. This might lead to compatibility errors. Using spikeinterface==0.100.7 is recommended\n",
>>>>>>> origin/main
      "  warnings.warn(\n",
      "/opt/conda/lib/python3.9/site-packages/spikeinterface/core/waveforms_extractor_backwards_compatibility.py:650: UserWarning: Removing legacy parameter return_scaled from spike_amplitudes extension\n",
      "  warnings.warn(f\"Removing legacy parameter {p} from {old_name} extension\")\n",
      "/opt/conda/lib/python3.9/site-packages/spikeinterface/core/waveforms_extractor_backwards_compatibility.py:650: UserWarning: Removing legacy parameter method_kwargs from unit_locations extension\n",
      "  warnings.warn(f\"Removing legacy parameter {p} from {old_name} extension\")\n",
      "/opt/conda/lib/python3.9/site-packages/spikeinterface/core/waveforms_extractor_backwards_compatibility.py:650: UserWarning: Removing legacy parameter sparsity from quality_metrics extension\n",
      "  warnings.warn(f\"Removing legacy parameter {p} from {old_name} extension\")\n",
      "/opt/conda/lib/python3.9/site-packages/spikeinterface/core/waveforms_extractor_backwards_compatibility.py:650: UserWarning: Removing legacy parameter random_chunk_kwargs_dict from quality_metrics extension\n",
      "  warnings.warn(f\"Removing legacy parameter {p} from {old_name} extension\")\n",
      "/opt/conda/lib/python3.9/site-packages/spikeinterface/core/waveforms_extractor_backwards_compatibility.py:650: UserWarning: Removing legacy parameter sparsity from principal_components extension\n",
      "  warnings.warn(f\"Removing legacy parameter {p} from {old_name} extension\")\n",
      "/opt/conda/lib/python3.9/site-packages/spikeinterface/core/waveforms_extractor_backwards_compatibility.py:650: UserWarning: Removing legacy parameter tmp_folder from principal_components extension\n",
      "  warnings.warn(f\"Removing legacy parameter {p} from {old_name} extension\")\n",
<<<<<<< HEAD
      "/opt/conda/lib/python3.9/site-packages/spikeinterface/core/base.py:1129: UserWarning: Versions are not the same. This might lead to compatibility errors. Using spikeinterface==0.100.1 is recommended\n",
      "  warnings.warn(\n",
      "/opt/conda/lib/python3.9/site-packages/spikeinterface/core/job_tools.py:103: UserWarning: `n_jobs` is not set so parallel processing is disabled! To speed up computations, it is recommended to set n_jobs either globally (with the `spikeinterface.set_global_job_kwargs()` function) or locally (with the `n_jobs` argument). Use `spikeinterface.set_global_job_kwargs?` for more information about job_kwargs.\n",
      "  warnings.warn(\n",
      "/opt/conda/lib/python3.9/site-packages/spikeinterface/core/base.py:1129: UserWarning: Versions are not the same. This might lead to compatibility errors. Using spikeinterface==0.100.1 is recommended\n",
      "  warnings.warn(\n",
      "/opt/conda/lib/python3.9/site-packages/spikeinterface/core/base.py:1129: UserWarning: Versions are not the same. This might lead to compatibility errors. Using spikeinterface==0.100.0 is recommended\n",
=======
      "/opt/conda/lib/python3.9/site-packages/spikeinterface/core/base.py:1129: UserWarning: Versions are not the same. This might lead to compatibility errors. Using spikeinterface==0.100.7 is recommended\n",
      "  warnings.warn(\n",
      "/opt/conda/lib/python3.9/site-packages/spikeinterface/core/job_tools.py:103: UserWarning: `n_jobs` is not set so parallel processing is disabled! To speed up computations, it is recommended to set n_jobs either globally (with the `spikeinterface.set_global_job_kwargs()` function) or locally (with the `n_jobs` argument). Use `spikeinterface.set_global_job_kwargs?` for more information about job_kwargs.\n",
      "  warnings.warn(\n",
      "/opt/conda/lib/python3.9/site-packages/spikeinterface/core/base.py:1129: UserWarning: Versions are not the same. This might lead to compatibility errors. Using spikeinterface==0.100.7 is recommended\n",
      "  warnings.warn(\n",
      "/opt/conda/lib/python3.9/site-packages/spikeinterface/core/base.py:1129: UserWarning: Versions are not the same. This might lead to compatibility errors. Using spikeinterface==0.100.7 is recommended\n",
>>>>>>> origin/main
      "  warnings.warn(\n",
      "/opt/conda/lib/python3.9/site-packages/spikeinterface/core/waveforms_extractor_backwards_compatibility.py:650: UserWarning: Removing legacy parameter return_scaled from spike_amplitudes extension\n",
      "  warnings.warn(f\"Removing legacy parameter {p} from {old_name} extension\")\n",
      "/opt/conda/lib/python3.9/site-packages/spikeinterface/core/waveforms_extractor_backwards_compatibility.py:650: UserWarning: Removing legacy parameter method_kwargs from unit_locations extension\n",
      "  warnings.warn(f\"Removing legacy parameter {p} from {old_name} extension\")\n",
      "/opt/conda/lib/python3.9/site-packages/spikeinterface/core/waveforms_extractor_backwards_compatibility.py:650: UserWarning: Removing legacy parameter sparsity from quality_metrics extension\n",
      "  warnings.warn(f\"Removing legacy parameter {p} from {old_name} extension\")\n",
      "/opt/conda/lib/python3.9/site-packages/spikeinterface/core/waveforms_extractor_backwards_compatibility.py:650: UserWarning: Removing legacy parameter random_chunk_kwargs_dict from quality_metrics extension\n",
      "  warnings.warn(f\"Removing legacy parameter {p} from {old_name} extension\")\n",
      "/opt/conda/lib/python3.9/site-packages/spikeinterface/core/waveforms_extractor_backwards_compatibility.py:650: UserWarning: Removing legacy parameter sparsity from principal_components extension\n",
      "  warnings.warn(f\"Removing legacy parameter {p} from {old_name} extension\")\n",
      "/opt/conda/lib/python3.9/site-packages/spikeinterface/core/waveforms_extractor_backwards_compatibility.py:650: UserWarning: Removing legacy parameter tmp_folder from principal_components extension\n",
      "  warnings.warn(f\"Removing legacy parameter {p} from {old_name} extension\")\n"
     ]
    },
    {
     "data": {
      "application/json": {
       "ascii": false,
       "bar_format": null,
       "colour": null,
<<<<<<< HEAD
       "elapsed": 0.010461807250976562,
=======
       "elapsed": 0.013016462326049805,
>>>>>>> origin/main
       "initial": 0,
       "n": 0,
       "ncols": null,
       "nrows": null,
       "postfix": null,
       "prefix": "compute_waveforms",
       "rate": null,
<<<<<<< HEAD
       "total": 7025,
=======
       "total": 6396,
>>>>>>> origin/main
       "unit": "it",
       "unit_divisor": 1000,
       "unit_scale": false
      },
      "application/vnd.jupyter.widget-view+json": {
<<<<<<< HEAD
       "model_id": "0227e69ae62846968698d3cf7b8b1522",
=======
       "model_id": "eaff5881fb284fffb1a55100c0ff4596",
>>>>>>> origin/main
       "version_major": 2,
       "version_minor": 0
      },
      "text/plain": [
<<<<<<< HEAD
       "compute_waveforms:   0%|          | 0/7025 [00:00<?, ?it/s]"
=======
       "compute_waveforms:   0%|          | 0/6396 [00:00<?, ?it/s]"
>>>>>>> origin/main
      ]
     },
     "metadata": {},
     "output_type": "display_data"
    },
    {
<<<<<<< HEAD
     "name": "stderr",
     "output_type": "stream",
     "text": [
      "/opt/conda/lib/python3.9/site-packages/numpy/lib/function_base.py:2897: RuntimeWarning: invalid value encountered in divide\n",
      "  c /= stddev[:, None]\n",
      "/opt/conda/lib/python3.9/site-packages/numpy/lib/function_base.py:2898: RuntimeWarning: invalid value encountered in divide\n",
      "  c /= stddev[None, :]\n",
      "/opt/conda/lib/python3.9/site-packages/spikeinterface/core/base.py:1129: UserWarning: Versions are not the same. This might lead to compatibility errors. Using spikeinterface==0.100.1 is recommended\n",
      "  warnings.warn(\n",
      "/opt/conda/lib/python3.9/site-packages/spikeinterface/core/base.py:1129: UserWarning: Versions are not the same. This might lead to compatibility errors. Using spikeinterface==0.100.0 is recommended\n",
      "  warnings.warn(\n",
      "/opt/conda/lib/python3.9/site-packages/spikeinterface/core/waveforms_extractor_backwards_compatibility.py:650: UserWarning: Removing legacy parameter return_scaled from spike_amplitudes extension\n",
      "  warnings.warn(f\"Removing legacy parameter {p} from {old_name} extension\")\n",
      "/opt/conda/lib/python3.9/site-packages/spikeinterface/core/waveforms_extractor_backwards_compatibility.py:650: UserWarning: Removing legacy parameter method_kwargs from unit_locations extension\n",
      "  warnings.warn(f\"Removing legacy parameter {p} from {old_name} extension\")\n",
      "/opt/conda/lib/python3.9/site-packages/spikeinterface/core/waveforms_extractor_backwards_compatibility.py:650: UserWarning: Removing legacy parameter sparsity from quality_metrics extension\n",
      "  warnings.warn(f\"Removing legacy parameter {p} from {old_name} extension\")\n",
      "/opt/conda/lib/python3.9/site-packages/spikeinterface/core/waveforms_extractor_backwards_compatibility.py:650: UserWarning: Removing legacy parameter random_chunk_kwargs_dict from quality_metrics extension\n",
      "  warnings.warn(f\"Removing legacy parameter {p} from {old_name} extension\")\n",
      "/opt/conda/lib/python3.9/site-packages/spikeinterface/core/waveforms_extractor_backwards_compatibility.py:650: UserWarning: Removing legacy parameter sparsity from principal_components extension\n",
      "  warnings.warn(f\"Removing legacy parameter {p} from {old_name} extension\")\n",
      "/opt/conda/lib/python3.9/site-packages/spikeinterface/core/waveforms_extractor_backwards_compatibility.py:650: UserWarning: Removing legacy parameter tmp_folder from principal_components extension\n",
      "  warnings.warn(f\"Removing legacy parameter {p} from {old_name} extension\")\n",
      "/root/capsule/code/beh_ephys_analysis/opto_tagging.py:345: FutureWarning: errors='ignore' is deprecated and will raise in a future version. Use to_numeric without passing `errors` and catch exceptions explicitly instead\n",
      "  unit_qc = unit_qc.apply(pd.to_numeric, errors='ignore')\n"
     ]
    },
    {
     "name": "stdout",
     "output_type": "stream",
     "text": [
      "80 out of 359 units pass quality control\n",
      "{'samples_to_keep': [-30, 60], 'y_neighbors_to_keep': 3, 'orginal_loc': False}\n"
     ]
    },
    {
     "name": "stderr",
     "output_type": "stream",
     "text": [
      "/root/capsule/code/beh_ephys_analysis/opto_tagging.py:386: FutureWarning: errors='ignore' is deprecated and will raise in a future version. Use to_numeric without passing `errors` and catch exceptions explicitly instead\n",
      "  opto_wf = opto_wf.apply(pd.to_numeric, errors='ignore')\n"
     ]
    },
    {
     "name": "stdout",
     "output_type": "stream",
     "text": [
      "Merging file 0 out of 359\n",
      "Merging file 50 out of 359\n",
      "Merging file 100 out of 359\n",
      "Merging file 150 out of 359\n",
      "Merging file 200 out of 359\n",
      "Merging file 250 out of 359\n",
      "Merging file 300 out of 359\n",
      "Merging file 350 out of 359\n",
      "PDF files in '/root/capsule/scratch/716325/behavior_716325_2024-05-31_10-31-14/ephys/opto/raw/figures' merged into '/root/capsule/scratch/716325/behavior_716325_2024-05-31_10-31-14/ephys/opto/raw/behavior_716325_2024-05-31_10-31-14_opto_tagging.pdf' successfully.\n",
      "16 out of 359 units pass quality control and opto tagging\n"
     ]
    },
    {
     "name": "stderr",
     "output_type": "stream",
     "text": [
      "/opt/conda/lib/python3.9/site-packages/spikeinterface/core/base.py:1129: UserWarning: Versions are not the same. This might lead to compatibility errors. Using spikeinterface==0.100.0 is recommended\n",
      "  warnings.warn(\n",
      "/opt/conda/lib/python3.9/site-packages/spikeinterface/core/waveforms_extractor_backwards_compatibility.py:650: UserWarning: Removing legacy parameter return_scaled from spike_amplitudes extension\n",
      "  warnings.warn(f\"Removing legacy parameter {p} from {old_name} extension\")\n",
      "/opt/conda/lib/python3.9/site-packages/spikeinterface/core/waveforms_extractor_backwards_compatibility.py:650: UserWarning: Removing legacy parameter method_kwargs from unit_locations extension\n",
      "  warnings.warn(f\"Removing legacy parameter {p} from {old_name} extension\")\n",
      "/opt/conda/lib/python3.9/site-packages/spikeinterface/core/waveforms_extractor_backwards_compatibility.py:650: UserWarning: Removing legacy parameter sparsity from quality_metrics extension\n",
      "  warnings.warn(f\"Removing legacy parameter {p} from {old_name} extension\")\n",
      "/opt/conda/lib/python3.9/site-packages/spikeinterface/core/waveforms_extractor_backwards_compatibility.py:650: UserWarning: Removing legacy parameter random_chunk_kwargs_dict from quality_metrics extension\n",
      "  warnings.warn(f\"Removing legacy parameter {p} from {old_name} extension\")\n",
      "/opt/conda/lib/python3.9/site-packages/spikeinterface/core/waveforms_extractor_backwards_compatibility.py:650: UserWarning: Removing legacy parameter sparsity from principal_components extension\n",
      "  warnings.warn(f\"Removing legacy parameter {p} from {old_name} extension\")\n",
      "/opt/conda/lib/python3.9/site-packages/spikeinterface/core/waveforms_extractor_backwards_compatibility.py:650: UserWarning: Removing legacy parameter tmp_folder from principal_components extension\n",
      "  warnings.warn(f\"Removing legacy parameter {p} from {old_name} extension\")\n",
      "/root/capsule/code/beh_ephys_analysis/opto_tagging.py:457: UserWarning: Boolean Series key will be reindexed to match DataFrame index.\n",
      "  opto_tagging_df_focus = opto_tagging_df_sorted[(opto_tagging_df_sorted['opto_pass'] == True) & (opto_tagging_df['decoder_label'] != 'artifact') & (opto_tagging_df['decoder_label'] != 'noise')].copy()\n"
=======
     "ename": "ValueError",
     "evalue": "Folder already exists /root/capsule/scratch/717121/behavior_717121_2024-06-15_10-00-58/ephys/opto/curated/opto_waveforms.zarr",
     "output_type": "error",
     "traceback": [
      "\u001b[0;31m---------------------------------------------------------------------------\u001b[0m",
      "\u001b[0;31mValueError\u001b[0m                                Traceback (most recent call last)",
      "\u001b[1;32m/root/capsule/code/beh_ephys_analysis/beh_ephys_processing.ipynb Cell 16\u001b[0m line \u001b[0;36m2\n\u001b[1;32m      <a href='vscode-notebook-cell://codeocean.allenneuraldynamics.org/root/capsule/code/beh_ephys_analysis/beh_ephys_processing.ipynb#X36sdnNjb2RlLXJlbW90ZQ%3D%3D?line=0'>1</a>\u001b[0m ephys_opto_crosscorr(\u001b[39m'\u001b[39m\u001b[39mbehavior_717121_2024-06-15_10-00-58\u001b[39m\u001b[39m'\u001b[39m, \u001b[39m'\u001b[39m\u001b[39mcurated\u001b[39m\u001b[39m'\u001b[39m)\n\u001b[0;32m----> <a href='vscode-notebook-cell://codeocean.allenneuraldynamics.org/root/capsule/code/beh_ephys_analysis/beh_ephys_processing.ipynb#X36sdnNjb2RlLXJlbW90ZQ%3D%3D?line=1'>2</a>\u001b[0m opto_wf_preprocessing(\u001b[39m'\u001b[39;49m\u001b[39mbehavior_717121_2024-06-15_10-00-58\u001b[39;49m\u001b[39m'\u001b[39;49m, \u001b[39m'\u001b[39;49m\u001b[39mcurated\u001b[39;49m\u001b[39m'\u001b[39;49m, \u001b[39m'\u001b[39;49m\u001b[39msoma\u001b[39;49m\u001b[39m'\u001b[39;49m, load_sorting_analyzer\u001b[39m=\u001b[39;49m\u001b[39mFalse\u001b[39;49;00m)\n",
      "File \u001b[0;32m~/capsule/code/beh_ephys_analysis/opto_waveforms_preprocessing.py:244\u001b[0m, in \u001b[0;36mopto_wf_preprocessing\u001b[0;34m(session, data_type, target, load_sorting_analyzer)\u001b[0m\n\u001b[1;32m    242\u001b[0m     _ \u001b[39m=\u001b[39m analyzer\u001b[39m.\u001b[39mcompute([\u001b[39m\"\u001b[39m\u001b[39mwaveforms\u001b[39m\u001b[39m\"\u001b[39m, \u001b[39m\"\u001b[39m\u001b[39mtemplates\u001b[39m\u001b[39m\"\u001b[39m])\n\u001b[1;32m    243\u001b[0m     waveform_zarr_folder \u001b[39m=\u001b[39m \u001b[39mf\u001b[39m\u001b[39m'\u001b[39m\u001b[39m{\u001b[39;00msession_dir[\u001b[39mf\u001b[39m\u001b[39m\"\u001b[39m\u001b[39mopto_dir_\u001b[39m\u001b[39m{\u001b[39;00mdata_type\u001b[39m}\u001b[39;00m\u001b[39m\"\u001b[39m]\u001b[39m}\u001b[39;00m\u001b[39m/opto_waveforms.zarr\u001b[39m\u001b[39m'\u001b[39m\n\u001b[0;32m--> 244\u001b[0m     analyzer_saved_zarr \u001b[39m=\u001b[39m analyzer\u001b[39m.\u001b[39;49msave_as(\u001b[39mformat\u001b[39;49m\u001b[39m=\u001b[39;49m\u001b[39m'\u001b[39;49m\u001b[39mzarr\u001b[39;49m\u001b[39m'\u001b[39;49m, folder \u001b[39m=\u001b[39;49m waveform_zarr_folder)\n\u001b[1;32m    245\u001b[0m     \u001b[39mprint\u001b[39m(\u001b[39mf\u001b[39m\u001b[39m'\u001b[39m\u001b[39mSaved analyzer to \u001b[39m\u001b[39m{\u001b[39;00mwaveform_zarr_folder\u001b[39m}\u001b[39;00m\u001b[39m'\u001b[39m)\n\u001b[1;32m    246\u001b[0m \u001b[39melse\u001b[39;00m:\n",
      "File \u001b[0;32m/opt/conda/lib/python3.9/site-packages/spikeinterface/core/sortinganalyzer.py:976\u001b[0m, in \u001b[0;36mSortingAnalyzer.save_as\u001b[0;34m(self, format, folder, backend_options)\u001b[0m\n\u001b[1;32m    974\u001b[0m \u001b[39mif\u001b[39;00m \u001b[39mformat\u001b[39m \u001b[39m==\u001b[39m \u001b[39m\"\u001b[39m\u001b[39mzarr\u001b[39m\u001b[39m\"\u001b[39m:\n\u001b[1;32m    975\u001b[0m     folder \u001b[39m=\u001b[39m clean_zarr_folder_name(folder)\n\u001b[0;32m--> 976\u001b[0m \u001b[39mreturn\u001b[39;00m \u001b[39mself\u001b[39;49m\u001b[39m.\u001b[39;49m_save_or_select_or_merge(\u001b[39mformat\u001b[39;49m\u001b[39m=\u001b[39;49m\u001b[39mformat\u001b[39;49m, folder\u001b[39m=\u001b[39;49mfolder, backend_options\u001b[39m=\u001b[39;49mbackend_options)\n",
      "File \u001b[0;32m/opt/conda/lib/python3.9/site-packages/spikeinterface/core/sortinganalyzer.py:907\u001b[0m, in \u001b[0;36mSortingAnalyzer._save_or_select_or_merge\u001b[0;34m(self, format, folder, unit_ids, merge_unit_groups, censor_ms, merging_mode, sparsity_overlap, verbose, new_unit_ids, backend_options, **job_kwargs)\u001b[0m\n\u001b[1;32m    905\u001b[0m     \u001b[39massert\u001b[39;00m folder \u001b[39mis\u001b[39;00m \u001b[39mnot\u001b[39;00m \u001b[39mNone\u001b[39;00m, \u001b[39m\"\u001b[39m\u001b[39mFor format=\u001b[39m\u001b[39m'\u001b[39m\u001b[39mzarr\u001b[39m\u001b[39m'\u001b[39m\u001b[39m folder must be provided\u001b[39m\u001b[39m\"\u001b[39m\n\u001b[1;32m    906\u001b[0m     folder \u001b[39m=\u001b[39m clean_zarr_folder_name(folder)\n\u001b[0;32m--> 907\u001b[0m     new_sorting_analyzer \u001b[39m=\u001b[39m SortingAnalyzer\u001b[39m.\u001b[39;49mcreate_zarr(\n\u001b[1;32m    908\u001b[0m         folder,\n\u001b[1;32m    909\u001b[0m         sorting_provenance,\n\u001b[1;32m    910\u001b[0m         recording,\n\u001b[1;32m    911\u001b[0m         sparsity,\n\u001b[1;32m    912\u001b[0m         \u001b[39mself\u001b[39;49m\u001b[39m.\u001b[39;49mreturn_scaled,\n\u001b[1;32m    913\u001b[0m         \u001b[39mself\u001b[39;49m\u001b[39m.\u001b[39;49mrec_attributes,\n\u001b[1;32m    914\u001b[0m         backend_options\u001b[39m=\u001b[39;49mbackend_options,\n\u001b[1;32m    915\u001b[0m     )\n\u001b[1;32m    916\u001b[0m \u001b[39melse\u001b[39;00m:\n\u001b[1;32m    917\u001b[0m     \u001b[39mraise\u001b[39;00m \u001b[39mValueError\u001b[39;00m(\u001b[39mf\u001b[39m\u001b[39m\"\u001b[39m\u001b[39mSortingAnalyzer.save: unsupported format: \u001b[39m\u001b[39m{\u001b[39;00m\u001b[39mformat\u001b[39m\u001b[39m}\u001b[39;00m\u001b[39m\"\u001b[39m)\n",
      "File \u001b[0;32m/opt/conda/lib/python3.9/site-packages/spikeinterface/core/sortinganalyzer.py:589\u001b[0m, in \u001b[0;36mSortingAnalyzer.create_zarr\u001b[0;34m(cls, folder, sorting, recording, sparsity, return_scaled, rec_attributes, backend_options)\u001b[0m\n\u001b[1;32m    587\u001b[0m     folder \u001b[39m=\u001b[39m clean_zarr_folder_name(folder)\n\u001b[1;32m    588\u001b[0m     \u001b[39mif\u001b[39;00m folder\u001b[39m.\u001b[39mis_dir():\n\u001b[0;32m--> 589\u001b[0m         \u001b[39mraise\u001b[39;00m \u001b[39mValueError\u001b[39;00m(\u001b[39mf\u001b[39m\u001b[39m\"\u001b[39m\u001b[39mFolder already exists \u001b[39m\u001b[39m{\u001b[39;00mfolder\u001b[39m}\u001b[39;00m\u001b[39m\"\u001b[39m)\n\u001b[1;32m    591\u001b[0m backend_options \u001b[39m=\u001b[39m {} \u001b[39mif\u001b[39;00m backend_options \u001b[39mis\u001b[39;00m \u001b[39mNone\u001b[39;00m \u001b[39melse\u001b[39;00m backend_options\n\u001b[1;32m    592\u001b[0m storage_options \u001b[39m=\u001b[39m backend_options\u001b[39m.\u001b[39mget(\u001b[39m\"\u001b[39m\u001b[39mstorage_options\u001b[39m\u001b[39m\"\u001b[39m, {})\n",
      "\u001b[0;31mValueError\u001b[0m: Folder already exists /root/capsule/scratch/717121/behavior_717121_2024-06-15_10-00-58/ephys/opto/curated/opto_waveforms.zarr"
>>>>>>> origin/main
     ]
    }
   ],
   "source": [
<<<<<<< HEAD
    "process('behavior_716325_2024-05-31_10-31-14')"
=======
    "ephys_opto_crosscorr('behavior_717121_2024-06-15_10-00-58', 'curated')\n",
    "opto_wf_preprocessing('behavior_717121_2024-06-15_10-00-58', 'curated', 'soma', load_sorting_analyzer=False)"
   ]
  },
  {
   "cell_type": "code",
   "execution_count": null,
   "metadata": {},
   "outputs": [],
   "source": [
    "pip install ipykernel"
   ]
  },
  {
   "cell_type": "code",
   "execution_count": null,
   "metadata": {},
   "outputs": [],
   "source": [
    "pip install Ipykernel"
>>>>>>> origin/main
   ]
  },
  {
   "cell_type": "code",
   "execution_count": null,
   "metadata": {},
   "outputs": [],
   "source": [
    "\n",
    "Parallel(n_jobs=3)(delayed(process)(session) for session in session_list)"
   ]
  },
  {
   "cell_type": "code",
<<<<<<< HEAD
   "execution_count": 8,
=======
   "execution_count": null,
>>>>>>> origin/main
   "metadata": {},
   "outputs": [
    {
     "name": "stderr",
     "output_type": "stream",
     "text": [
      "/root/capsule/code/beh_ephys_analysis/opto_tagging.py:345: FutureWarning: errors='ignore' is deprecated and will raise in a future version. Use to_numeric without passing `errors` and catch exceptions explicitly instead\n",
      "  unit_qc = unit_qc.apply(pd.to_numeric, errors='ignore')\n"
     ]
    },
    {
     "name": "stdout",
     "output_type": "stream",
     "text": [
      "95 out of 271 units pass quality control\n",
      "{'samples_to_keep': [-30, 60], 'y_neighbors_to_keep': 3, 'orginal_loc': False}\n"
     ]
    },
    {
     "name": "stderr",
     "output_type": "stream",
     "text": [
      "/root/capsule/code/beh_ephys_analysis/opto_tagging.py:386: FutureWarning: errors='ignore' is deprecated and will raise in a future version. Use to_numeric without passing `errors` and catch exceptions explicitly instead\n",
      "  opto_wf = opto_wf.apply(pd.to_numeric, errors='ignore')\n"
     ]
    },
    {
     "name": "stdout",
     "output_type": "stream",
     "text": [
      "Merging file 0 out of 271\n",
      "Merging file 50 out of 271\n",
      "Merging file 100 out of 271\n",
      "Merging file 150 out of 271\n",
      "Merging file 200 out of 271\n",
      "Merging file 250 out of 271\n",
      "PDF files in '/root/capsule/scratch/751004/behavior_751004_2024-12-19_11-50-37/ephys/opto/raw/figures' merged into '/root/capsule/scratch/751004/behavior_751004_2024-12-19_11-50-37/ephys/opto/raw/behavior_751004_2024-12-19_11-50-37_opto_tagging.pdf' successfully.\n",
      "5 out of 271 units pass quality control and opto tagging\n"
     ]
    },
    {
     "name": "stderr",
     "output_type": "stream",
     "text": [
      "/root/capsule/code/beh_ephys_analysis/opto_tagging.py:458: UserWarning: Boolean Series key will be reindexed to match DataFrame index.\n",
      "  opto_tagging_df_focus = opto_tagging_df_sorted[(opto_tagging_df_sorted['opto_pass'] == True) & (opto_tagging_df['decoder_label'] != 'artifact') & (opto_tagging_df['decoder_label'] != 'noise')].copy()\n"
     ]
    }
   ],
   "source": [
    "plt.close('all')\n",
    "data_type = 'raw'\n",
    "session = session_list[0]\n",
    "opto_tagging_df = opto_plotting_session(session, data_type, 'soma', plot=True, resp_thresh=0.4, lat_thresh=0.02)\n",
    "plt.close('all')\n",
    "opto_tagged_spike_stability(session, data_type, 'soma', opto_tagging_df=opto_tagging_df)"
   ]
  },
  {
   "cell_type": "code",
   "execution_count": null,
   "metadata": {},
   "outputs": [],
   "source": [
<<<<<<< HEAD
=======
    "session_list = ['']"
   ]
  },
  {
   "cell_type": "code",
   "execution_count": null,
   "metadata": {},
   "outputs": [],
   "source": [
>>>>>>> origin/main
    "for session in session_list:\n",
    "    ephys_opto_preprocessing(session, 'curated', 'soma')\n",
    "    opto_wf_preprocessing(session, 'curated', 'soma', load_sorting_analyzer=False)\n",
    "    opto_plotting_session(session, 'curated', plot=True)\n",
    "    plt.close('all')"
   ]
  },
  {
   "cell_type": "code",
<<<<<<< HEAD
   "execution_count": 7,
=======
   "execution_count": null,
>>>>>>> origin/main
   "metadata": {},
   "outputs": [],
   "source": [
    "session = 'behavior_751004_2024-12-20_13-26-11'\n",
    "data_type = 'raw'\n",
    "target = 'soma'\n",
    "target_unit_ids = [16]\n",
    "# pass_df = opto_plotting_session(session, data_type, target, plot=True,  resp_thresh=0.5, lat_thresh=0.015, target_unit_ids=target_unit_ids)"
   ]
  },
  {
   "cell_type": "code",
   "execution_count": null,
   "metadata": {},
   "outputs": [],
   "source": [
    "data_type = 'raw'\n",
    "target = 'soma'\n",
    "for session in session_list:\n",
    "    combine_qc = opto_plotting_session(session, data_type, target, plot=True,  resp_thresh=0.5, lat_thresh=0.015)"
   ]
  },
  {
   "cell_type": "code",
<<<<<<< HEAD
   "execution_count": 8,
=======
   "execution_count": null,
>>>>>>> origin/main
   "metadata": {},
   "outputs": [],
   "source": [
    "session_dir = session_dirs(session)\n",
    "opto_wf_csv = os.path.join(session_dir[f'opto_dir_{data_type}'], f'{session}_opto_waveform_metrics.csv')\n",
    "opto_wf = pd.read_csv(opto_wf_csv)"
   ]
  },
  {
   "cell_type": "code",
<<<<<<< HEAD
   "execution_count": 7,
   "metadata": {},
   "outputs": [],
   "source": [
    "pip install ipykernel"
=======
   "execution_count": null,
   "metadata": {},
   "outputs": [
    {
     "ename": "SyntaxError",
     "evalue": "invalid syntax (4263930493.py, line 1)",
     "output_type": "error",
     "traceback": [
      "\u001b[0;36m  Cell \u001b[0;32mIn[1], line 1\u001b[0;36m\u001b[0m\n\u001b[0;31m    pip3 install --no-cache-dir numpy\u001b[0m\n\u001b[0m         ^\u001b[0m\n\u001b[0;31mSyntaxError\u001b[0m\u001b[0;31m:\u001b[0m invalid syntax\n"
     ]
    }
   ],
   "source": [
    "pip3 install --no-cache-dir numpy"
>>>>>>> origin/main
   ]
  }
 ],
 "metadata": {
  "kernelspec": {
   "display_name": "base",
   "language": "python",
   "name": "python3"
  },
  "language_info": {
   "codemirror_mode": {
    "name": "ipython",
    "version": 3
   },
   "file_extension": ".py",
   "mimetype": "text/x-python",
   "name": "python",
   "nbconvert_exporter": "python",
   "pygments_lexer": "ipython3",
   "version": "3.10.16"
  }
 },
 "nbformat": 4,
 "nbformat_minor": 2
}
