{
 "cells": [
  {
   "cell_type": "code",
   "execution_count": 1,
   "metadata": {},
   "outputs": [],
   "source": [
    "from behavior_and_time_alignment import beh_and_time_alignment\n",
    "from session_preprocessing import ephys_opto_preprocessing, session_crosscorr, ephys_opto_crosscorr\n",
    "from opto_tagging import opto_plotting_session, opto_plotting_unit\n",
    "from opto_waveforms_preprocessing import opto_wf_preprocessing\n",
    "from drift_analysis import plot_session_opto_drift\n",
    "import matplotlib.pyplot as plt\n",
    "from utils.beh_functions import session_dirs, get_unit_tbl\n",
    "import numpy as np\n",
    "import pandas as pd\n",
    "import os\n",
    "from utils.plot_utils import combine_pdf_big\n",
    "import spikeinterface as si\n",
    "from joblib import Parallel, delayed\n",
    "import pickle"
   ]
  },
  {
   "cell_type": "code",
   "execution_count": 3,
   "metadata": {},
   "outputs": [
    {
     "data": {
      "text/plain": [
       "69    behavior_758018_2025-03-19_11-16-44\n",
       "70    behavior_758018_2025-03-20_11-53-05\n",
       "71    behavior_758018_2025-03-21_11-00-34\n",
       "72    behavior_752014_2025-03-25_12-09-20\n",
       "73    behavior_752014_2025-03-26_11-18-57\n",
       "74    behavior_752014_2025-03-27_12-03-59\n",
       "75    behavior_752014_2025-03-28_11-04-59\n",
       "76    behavior_761038_2025-04-15_10-25-11\n",
       "77    behavior_761038_2025-04-16_10-39-10\n",
       "78    behavior_761038_2025-04-17_11-03-16\n",
       "79    behavior_761038_2025-04-18_12-37-39\n",
       "Name: session_id, dtype: object"
      ]
     },
     "execution_count": 3,
     "metadata": {},
     "output_type": "execute_result"
    }
   ],
   "source": [
    "session_assets = pd.read_csv('/root/capsule/code/data_management/session_assets.csv')\n",
    "session_list = session_assets['session_id']\n",
    "session_list[-14:-3]"
   ]
  },
  {
   "cell_type": "code",
   "execution_count": 4,
   "metadata": {},
   "outputs": [
    {
     "name": "stdout",
     "output_type": "stream",
     "text": [
      "behavior_758018_2025-03-19_11-16-44\n",
      "behavior_752014_2025-03-25_12-09-20\n",
      "behavior_758018_2025-03-20_11-53-05\n",
      "behavior_758018_2025-03-21_11-00-34\n",
      "Processing 202 files in /root/capsule/scratch/758018/behavior_758018_2025-03-19_11-16-44/ephys/opto/raw/figures\n",
      "Processing 195 files in /root/capsule/scratch/752014/behavior_752014_2025-03-25_12-09-20/ephys/opto/raw/figures\n",
      "Processing 157 files in /root/capsule/scratch/758018/behavior_758018_2025-03-20_11-53-05/ephys/opto/raw/figures\n",
      "Processing 248 files in /root/capsule/scratch/758018/behavior_758018_2025-03-21_11-00-34/ephys/opto/raw/figures\n",
      "Combined PDF saved as: /root/capsule/scratch/752014/behavior_752014_2025-03-25_12-09-20/ephys/opto/raw/behavior_752014_2025-03-25_12-09-20_opto_tagging_png.pdf\n",
      "behavior_752014_2025-03-26_11-18-57\n",
      "Processing 224 files in /root/capsule/scratch/752014/behavior_752014_2025-03-26_11-18-57/ephys/opto/raw/figures\n",
      "Combined PDF saved as: /root/capsule/scratch/758018/behavior_758018_2025-03-21_11-00-34/ephys/opto/raw/behavior_758018_2025-03-21_11-00-34_opto_tagging_png.pdf\n",
      "behavior_752014_2025-03-27_12-03-59\n",
      "Processing 79 files in /root/capsule/scratch/752014/behavior_752014_2025-03-27_12-03-59/ephys/opto/raw/figures\n",
      "Combined PDF saved as: /root/capsule/scratch/758018/behavior_758018_2025-03-20_11-53-05/ephys/opto/raw/behavior_758018_2025-03-20_11-53-05_opto_tagging_png.pdf\n",
      "behavior_752014_2025-03-28_11-04-59\n",
      "Processing 257 files in /root/capsule/scratch/752014/behavior_752014_2025-03-28_11-04-59/ephys/opto/raw/figures\n",
      "Combined PDF saved as: /root/capsule/scratch/752014/behavior_752014_2025-03-27_12-03-59/ephys/opto/raw/behavior_752014_2025-03-27_12-03-59_opto_tagging_png.pdf\n",
      "behavior_761038_2025-04-15_10-25-11\n",
      "Processing 238 files in /root/capsule/scratch/761038/behavior_761038_2025-04-15_10-25-11/ephys/opto/raw/figures\n",
      "Combined PDF saved as: /root/capsule/scratch/758018/behavior_758018_2025-03-19_11-16-44/ephys/opto/raw/behavior_758018_2025-03-19_11-16-44_opto_tagging_png.pdf\n",
      "behavior_761038_2025-04-16_10-39-10\n",
      "Processing 203 files in /root/capsule/scratch/761038/behavior_761038_2025-04-16_10-39-10/ephys/opto/raw/figures\n",
      "Combined PDF saved as: /root/capsule/scratch/752014/behavior_752014_2025-03-26_11-18-57/ephys/opto/raw/behavior_752014_2025-03-26_11-18-57_opto_tagging_png.pdf\n",
      "behavior_761038_2025-04-17_11-03-16\n",
      "Processing 154 files in /root/capsule/scratch/761038/behavior_761038_2025-04-17_11-03-16/ephys/opto/raw/figures\n",
      "Combined PDF saved as: /root/capsule/scratch/752014/behavior_752014_2025-03-28_11-04-59/ephys/opto/raw/behavior_752014_2025-03-28_11-04-59_opto_tagging_png.pdf\n",
      "behavior_761038_2025-04-18_12-37-39\n",
      "Processing 255 files in /root/capsule/scratch/761038/behavior_761038_2025-04-18_12-37-39/ephys/opto/raw/figures\n",
      "Combined PDF saved as: /root/capsule/scratch/761038/behavior_761038_2025-04-15_10-25-11/ephys/opto/raw/behavior_761038_2025-04-15_10-25-11_opto_tagging_png.pdf\n",
      "Combined PDF saved as: /root/capsule/scratch/761038/behavior_761038_2025-04-16_10-39-10/ephys/opto/raw/behavior_761038_2025-04-16_10-39-10_opto_tagging_png.pdf\n",
      "Combined PDF saved as: /root/capsule/scratch/761038/behavior_761038_2025-04-17_11-03-16/ephys/opto/raw/behavior_761038_2025-04-17_11-03-16_opto_tagging_png.pdf\n",
      "Combined PDF saved as: /root/capsule/scratch/761038/behavior_761038_2025-04-18_12-37-39/ephys/opto/raw/behavior_761038_2025-04-18_12-37-39_opto_tagging_png.pdf\n"
     ]
    },
    {
     "data": {
      "text/plain": [
       "[None, None, None, None, None, None, None, None, None, None, None]"
      ]
     },
     "execution_count": 4,
     "metadata": {},
     "output_type": "execute_result"
    }
   ],
   "source": [
    "# combine opto pdfs\n",
    "data_type = 'curated'\n",
    "def process(session, data_type):\n",
    "    pdf_dir = session_dirs(session)[f'opto_dir_fig_{data_type}']\n",
    "    output_pdf = os.path.join(session_dirs(session)[f'opto_dir_{data_type}'], f'{session}_opto_tagging_png.pdf')\n",
    "    if os.path.exists(pdf_dir) and not os.path.exists(output_pdf):\n",
    "        print(session)\n",
    "        combine_pdf_big(pdf_dir, output_pdf)\n",
    "Parallel(n_jobs=4)(delayed(process)(session, data_type) for session in session_list[-14:-3])\n",
    "# for session in session_list[-14:-3]:\n",
    "#     try:\n",
    "#         process(session, data_type)\n",
    "#         plt.close('all')\n",
    "#     except:\n",
    "#         print(f'Failed to process {session}')"
   ]
  },
  {
   "cell_type": "code",
   "execution_count": 5,
   "metadata": {},
   "outputs": [
    {
     "name": "stdout",
     "output_type": "stream",
     "text": [
      "behavior_758018_2025-03-20_11-53-05 start\n",
      "behavior_758018_2025-03-19_11-16-44 start\n",
      "behavior_758018_2025-03-19_11-16-44\n",
      "behavior_758018_2025-03-20_11-53-05\n",
      "behavior_758018_2025-03-20_11-53-05\n",
      "behavior_758018_2025-03-19_11-16-44\n"
     ]
    },
    {
     "name": "stderr",
     "output_type": "stream",
     "text": [
      "compute_waveforms (workers: 5 processes): 100%|██████████| 4988/4988 [25:43<00:00,  3.23it/s] \n",
      "compute_waveforms (workers: 5 processes):  91%|█████████ | 4444/4901 [21:22<04:01,  1.89it/s]/opt/conda/lib/python3.10/site-packages/numpy/lib/_function_base_impl.py:2999: RuntimeWarning: invalid value encountered in divide\n",
      "  c /= stddev[:, None]\n",
      "/opt/conda/lib/python3.10/site-packages/numpy/lib/_function_base_impl.py:3000: RuntimeWarning: invalid value encountered in divide\n",
      "  c /= stddev[None, :]\n",
      "/opt/conda/lib/python3.10/site-packages/numpy/lib/_function_base_impl.py:2999: RuntimeWarning: invalid value encountered in divide\n",
      "  c /= stddev[:, None]\n",
      "/opt/conda/lib/python3.10/site-packages/numpy/lib/_function_base_impl.py:3000: RuntimeWarning: invalid value encountered in divide\n",
      "  c /= stddev[None, :]\n",
      "compute_waveforms (workers: 5 processes):  93%|█████████▎| 4552/4901 [22:35<04:09,  1.40it/s]/root/capsule/code/beh_ephys_analysis/opto_tagging.py:417: FutureWarning: errors='ignore' is deprecated and will raise in a future version. Use to_numeric without passing `errors` and catch exceptions explicitly instead\n",
      "  unit_qc = unit_qc.apply(pd.to_numeric, errors='ignore')\n"
     ]
    },
    {
     "name": "stdout",
     "output_type": "stream",
     "text": [
      "82 out of 154 units pass quality control\n",
      "{'samples_to_keep': [-30, 60], 'y_neighbors_to_keep': 3, 'orginal_loc': False}\n"
     ]
    },
    {
     "name": "stderr",
     "output_type": "stream",
     "text": [
      "/root/capsule/code/beh_ephys_analysis/opto_tagging.py:456: FutureWarning: errors='ignore' is deprecated and will raise in a future version. Use to_numeric without passing `errors` and catch exceptions explicitly instead\n",
      "  opto_wf = opto_wf.apply(pd.to_numeric, errors='ignore')\n",
      "compute_waveforms (workers: 5 processes):  93%|█████████▎| 4567/4901 [22:44<03:18,  1.69it/s]/root/capsule/code/beh_ephys_analysis/opto_tagging.py:513: FutureWarning: The behavior of DataFrame concatenation with empty or all-NA entries is deprecated. In a future version, this will no longer exclude empty or all-NA columns when determining the result dtypes. To retain the old behavior, exclude the relevant entries before the concat operation.\n",
      "  opto_tagging_df_sess_metrics = pd.concat([opto_tagging_df_sess_metrics, opto_tagging_df_curr], ignore_index=True) # tidy\n",
      "compute_waveforms (workers: 5 processes):  93%|█████████▎| 4573/4901 [22:48<03:41,  1.48it/s]/root/capsule/code/beh_ephys_analysis/opto_tagging.py:513: FutureWarning: The behavior of DataFrame concatenation with empty or all-NA entries is deprecated. In a future version, this will no longer exclude empty or all-NA columns when determining the result dtypes. To retain the old behavior, exclude the relevant entries before the concat operation.\n",
      "  opto_tagging_df_sess_metrics = pd.concat([opto_tagging_df_sess_metrics, opto_tagging_df_curr], ignore_index=True) # tidy\n",
      "compute_waveforms (workers: 5 processes):  93%|█████████▎| 4577/4901 [22:51<03:43,  1.45it/s]/root/capsule/code/beh_ephys_analysis/opto_tagging.py:513: FutureWarning: The behavior of DataFrame concatenation with empty or all-NA entries is deprecated. In a future version, this will no longer exclude empty or all-NA columns when determining the result dtypes. To retain the old behavior, exclude the relevant entries before the concat operation.\n",
      "  opto_tagging_df_sess_metrics = pd.concat([opto_tagging_df_sess_metrics, opto_tagging_df_curr], ignore_index=True) # tidy\n",
      "compute_waveforms (workers: 5 processes):  94%|█████████▍| 4609/4901 [23:13<03:15,  1.50it/s]/root/capsule/code/beh_ephys_analysis/opto_tagging.py:513: FutureWarning: The behavior of DataFrame concatenation with empty or all-NA entries is deprecated. In a future version, this will no longer exclude empty or all-NA columns when determining the result dtypes. To retain the old behavior, exclude the relevant entries before the concat operation.\n",
      "  opto_tagging_df_sess_metrics = pd.concat([opto_tagging_df_sess_metrics, opto_tagging_df_curr], ignore_index=True) # tidy\n",
      "compute_waveforms (workers: 5 processes):  97%|█████████▋| 4754/4901 [24:51<01:47,  1.37it/s]/root/capsule/code/beh_ephys_analysis/opto_tagging.py:513: FutureWarning: The behavior of DataFrame concatenation with empty or all-NA entries is deprecated. In a future version, this will no longer exclude empty or all-NA columns when determining the result dtypes. To retain the old behavior, exclude the relevant entries before the concat operation.\n",
      "  opto_tagging_df_sess_metrics = pd.concat([opto_tagging_df_sess_metrics, opto_tagging_df_curr], ignore_index=True) # tidy\n",
      "compute_waveforms (workers: 5 processes):  99%|█████████▉| 4863/4901 [26:04<00:26,  1.45it/s]/root/capsule/code/beh_ephys_analysis/opto_tagging.py:513: FutureWarning: The behavior of DataFrame concatenation with empty or all-NA entries is deprecated. In a future version, this will no longer exclude empty or all-NA columns when determining the result dtypes. To retain the old behavior, exclude the relevant entries before the concat operation.\n",
      "  opto_tagging_df_sess_metrics = pd.concat([opto_tagging_df_sess_metrics, opto_tagging_df_curr], ignore_index=True) # tidy\n",
      "compute_waveforms (workers: 5 processes):  99%|█████████▉| 4868/4901 [26:08<00:25,  1.31it/s]/root/capsule/code/beh_ephys_analysis/opto_tagging.py:513: FutureWarning: The behavior of DataFrame concatenation with empty or all-NA entries is deprecated. In a future version, this will no longer exclude empty or all-NA columns when determining the result dtypes. To retain the old behavior, exclude the relevant entries before the concat operation.\n",
      "  opto_tagging_df_sess_metrics = pd.concat([opto_tagging_df_sess_metrics, opto_tagging_df_curr], ignore_index=True) # tidy\n",
      "compute_waveforms (workers: 5 processes): 100%|█████████▉| 4879/4901 [26:15<00:15,  1.44it/s]/root/capsule/code/beh_ephys_analysis/opto_tagging.py:513: FutureWarning: The behavior of DataFrame concatenation with empty or all-NA entries is deprecated. In a future version, this will no longer exclude empty or all-NA columns when determining the result dtypes. To retain the old behavior, exclude the relevant entries before the concat operation.\n",
      "  opto_tagging_df_sess_metrics = pd.concat([opto_tagging_df_sess_metrics, opto_tagging_df_curr], ignore_index=True) # tidy\n",
      "compute_waveforms (workers: 5 processes): 100%|██████████| 4901/4901 [26:29<00:00,  3.08it/s]\n",
      "/root/capsule/code/beh_ephys_analysis/opto_tagging.py:513: FutureWarning: The behavior of DataFrame concatenation with empty or all-NA entries is deprecated. In a future version, this will no longer exclude empty or all-NA columns when determining the result dtypes. To retain the old behavior, exclude the relevant entries before the concat operation.\n",
      "  opto_tagging_df_sess_metrics = pd.concat([opto_tagging_df_sess_metrics, opto_tagging_df_curr], ignore_index=True) # tidy\n",
      "/root/capsule/code/beh_ephys_analysis/opto_tagging.py:513: FutureWarning: The behavior of DataFrame concatenation with empty or all-NA entries is deprecated. In a future version, this will no longer exclude empty or all-NA columns when determining the result dtypes. To retain the old behavior, exclude the relevant entries before the concat operation.\n",
      "  opto_tagging_df_sess_metrics = pd.concat([opto_tagging_df_sess_metrics, opto_tagging_df_curr], ignore_index=True) # tidy\n"
     ]
    },
    {
     "ename": "UnboundLocalError",
     "evalue": "local variable 'peak_waveform_spont' referenced before assignment",
     "output_type": "error",
     "traceback": [
      "\u001b[0;31m---------------------------------------------------------------------------\u001b[0m",
      "\u001b[0;31m_RemoteTraceback\u001b[0m                          Traceback (most recent call last)",
      "\u001b[0;31m_RemoteTraceback\u001b[0m: \n\"\"\"\nTraceback (most recent call last):\n  File \"/opt/conda/lib/python3.10/site-packages/joblib/externals/loky/process_executor.py\", line 490, in _process_worker\n    r = call_item()\n  File \"/opt/conda/lib/python3.10/site-packages/joblib/externals/loky/process_executor.py\", line 291, in __call__\n    return self.fn(*self.args, **self.kwargs)\n  File \"/opt/conda/lib/python3.10/site-packages/joblib/parallel.py\", line 606, in __call__\n    return [func(*args, **kwargs) for func, args, kwargs in self.items]\n  File \"/opt/conda/lib/python3.10/site-packages/joblib/parallel.py\", line 606, in <listcomp>\n    return [func(*args, **kwargs) for func, args, kwargs in self.items]\n  File \"/tmp/ipykernel_5872/948299278.py\", line 20, in process\n  File \"/root/capsule/code/beh_ephys_analysis/opto_waveforms_preprocessing.py\", line 340, in opto_wf_preprocessing\n    peak_samp_ind = np.argmin(peak_waveform_spont)\nUnboundLocalError: local variable 'peak_waveform_spont' referenced before assignment\n\"\"\"",
      "\nThe above exception was the direct cause of the following exception:\n",
      "\u001b[0;31mUnboundLocalError\u001b[0m                         Traceback (most recent call last)",
      "\u001b[1;32m/root/capsule/code/beh_ephys_analysis/beh_ephys_processing.ipynb Cell 4\u001b[0m line \u001b[0;36m3\n\u001b[1;32m     <a href='vscode-notebook-cell://codeocean.allenneuraldynamics.org/root/capsule/code/beh_ephys_analysis/beh_ephys_processing.ipynb#W3sdnNjb2RlLXJlbW90ZQ%3D%3D?line=24'>25</a>\u001b[0m     \u001b[39m# # save as pickle\u001b[39;00m\n\u001b[1;32m     <a href='vscode-notebook-cell://codeocean.allenneuraldynamics.org/root/capsule/code/beh_ephys_analysis/beh_ephys_processing.ipynb#W3sdnNjb2RlLXJlbW90ZQ%3D%3D?line=25'>26</a>\u001b[0m     \u001b[39m# with open(os.path.join(session_dirs(session)[f'opto_dir_{data_type}'], f'{session}_opto_tagging_metrics.pkl'), 'wb') as f:\u001b[39;00m\n\u001b[1;32m     <a href='vscode-notebook-cell://codeocean.allenneuraldynamics.org/root/capsule/code/beh_ephys_analysis/beh_ephys_processing.ipynb#W3sdnNjb2RlLXJlbW90ZQ%3D%3D?line=26'>27</a>\u001b[0m     \u001b[39m#     opto_tagging_df.to_pickle(f)\u001b[39;00m\n\u001b[0;32m   (...)\u001b[0m\n\u001b[1;32m     <a href='vscode-notebook-cell://codeocean.allenneuraldynamics.org/root/capsule/code/beh_ephys_analysis/beh_ephys_processing.ipynb#W3sdnNjb2RlLXJlbW90ZQ%3D%3D?line=30'>31</a>\u001b[0m     \u001b[39m# else:     \u001b[39;00m\n\u001b[1;32m     <a href='vscode-notebook-cell://codeocean.allenneuraldynamics.org/root/capsule/code/beh_ephys_analysis/beh_ephys_processing.ipynb#W3sdnNjb2RlLXJlbW90ZQ%3D%3D?line=31'>32</a>\u001b[0m     \u001b[39m#     plot_session_opto_drift(session, data_type, update_csv=True)\u001b[39;00m\n\u001b[1;32m     <a href='vscode-notebook-cell://codeocean.allenneuraldynamics.org/root/capsule/code/beh_ephys_analysis/beh_ephys_processing.ipynb#W3sdnNjb2RlLXJlbW90ZQ%3D%3D?line=32'>33</a>\u001b[0m     \u001b[39mprint\u001b[39m(\u001b[39mf\u001b[39m\u001b[39m'\u001b[39m\u001b[39m{\u001b[39;00msession\u001b[39m}\u001b[39;00m\u001b[39m stop\u001b[39m\u001b[39m'\u001b[39m)\n\u001b[0;32m---> <a href='vscode-notebook-cell://codeocean.allenneuraldynamics.org/root/capsule/code/beh_ephys_analysis/beh_ephys_processing.ipynb#W3sdnNjb2RlLXJlbW90ZQ%3D%3D?line=35'>36</a>\u001b[0m Parallel(n_jobs\u001b[39m=\u001b[39;49m\u001b[39m2\u001b[39;49m)(delayed(process)(session, data_type \u001b[39m=\u001b[39;49m data_type) \u001b[39mfor\u001b[39;49;00m session \u001b[39min\u001b[39;49;00m session_list[\u001b[39m-\u001b[39;49m\u001b[39m14\u001b[39;49m:\u001b[39m-\u001b[39;49m\u001b[39m3\u001b[39;49m])\n\u001b[1;32m     <a href='vscode-notebook-cell://codeocean.allenneuraldynamics.org/root/capsule/code/beh_ephys_analysis/beh_ephys_processing.ipynb#W3sdnNjb2RlLXJlbW90ZQ%3D%3D?line=37'>38</a>\u001b[0m \u001b[39m# for session in session_list[-14:-3]:\u001b[39;00m\n\u001b[1;32m     <a href='vscode-notebook-cell://codeocean.allenneuraldynamics.org/root/capsule/code/beh_ephys_analysis/beh_ephys_processing.ipynb#W3sdnNjb2RlLXJlbW90ZQ%3D%3D?line=38'>39</a>\u001b[0m \u001b[39m#     print(session)\u001b[39;00m\n\u001b[1;32m     <a href='vscode-notebook-cell://codeocean.allenneuraldynamics.org/root/capsule/code/beh_ephys_analysis/beh_ephys_processing.ipynb#W3sdnNjb2RlLXJlbW90ZQ%3D%3D?line=39'>40</a>\u001b[0m \u001b[39m#     session_dir = session_dirs(session)\u001b[39;00m\n\u001b[0;32m   (...)\u001b[0m\n\u001b[1;32m     <a href='vscode-notebook-cell://codeocean.allenneuraldynamics.org/root/capsule/code/beh_ephys_analysis/beh_ephys_processing.ipynb#W3sdnNjb2RlLXJlbW90ZQ%3D%3D?line=43'>44</a>\u001b[0m \u001b[39m#     #     print('Raw')\u001b[39;00m\n\u001b[1;32m     <a href='vscode-notebook-cell://codeocean.allenneuraldynamics.org/root/capsule/code/beh_ephys_analysis/beh_ephys_processing.ipynb#W3sdnNjb2RlLXJlbW90ZQ%3D%3D?line=44'>45</a>\u001b[0m \u001b[39m#     #     process(session, data_type='raw')\u001b[39;00m\n\u001b[1;32m     <a href='vscode-notebook-cell://codeocean.allenneuraldynamics.org/root/capsule/code/beh_ephys_analysis/beh_ephys_processing.ipynb#W3sdnNjb2RlLXJlbW90ZQ%3D%3D?line=45'>46</a>\u001b[0m process(\u001b[39m'\u001b[39m\u001b[39mbehavior_761038_2025-04-15_10-25-11\u001b[39m\u001b[39m'\u001b[39m)\n",
      "File \u001b[0;32m/opt/conda/lib/python3.10/site-packages/joblib/parallel.py:2071\u001b[0m, in \u001b[0;36mParallel.__call__\u001b[0;34m(self, iterable)\u001b[0m\n\u001b[1;32m   2065\u001b[0m \u001b[39m# The first item from the output is blank, but it makes the interpreter\u001b[39;00m\n\u001b[1;32m   2066\u001b[0m \u001b[39m# progress until it enters the Try/Except block of the generator and\u001b[39;00m\n\u001b[1;32m   2067\u001b[0m \u001b[39m# reaches the first `yield` statement. This starts the asynchronous\u001b[39;00m\n\u001b[1;32m   2068\u001b[0m \u001b[39m# dispatch of the tasks to the workers.\u001b[39;00m\n\u001b[1;32m   2069\u001b[0m \u001b[39mnext\u001b[39m(output)\n\u001b[0;32m-> 2071\u001b[0m \u001b[39mreturn\u001b[39;00m output \u001b[39mif\u001b[39;00m \u001b[39mself\u001b[39m\u001b[39m.\u001b[39mreturn_generator \u001b[39melse\u001b[39;00m \u001b[39mlist\u001b[39;49m(output)\n",
      "File \u001b[0;32m/opt/conda/lib/python3.10/site-packages/joblib/parallel.py:1681\u001b[0m, in \u001b[0;36mParallel._get_outputs\u001b[0;34m(self, iterator, pre_dispatch)\u001b[0m\n\u001b[1;32m   1678\u001b[0m     \u001b[39myield\u001b[39;00m\n\u001b[1;32m   1680\u001b[0m     \u001b[39mwith\u001b[39;00m \u001b[39mself\u001b[39m\u001b[39m.\u001b[39m_backend\u001b[39m.\u001b[39mretrieval_context():\n\u001b[0;32m-> 1681\u001b[0m         \u001b[39myield from\u001b[39;00m \u001b[39mself\u001b[39m\u001b[39m.\u001b[39m_retrieve()\n\u001b[1;32m   1683\u001b[0m \u001b[39mexcept\u001b[39;00m \u001b[39mGeneratorExit\u001b[39;00m:\n\u001b[1;32m   1684\u001b[0m     \u001b[39m# The generator has been garbage collected before being fully\u001b[39;00m\n\u001b[1;32m   1685\u001b[0m     \u001b[39m# consumed. This aborts the remaining tasks if possible and warn\u001b[39;00m\n\u001b[1;32m   1686\u001b[0m     \u001b[39m# the user if necessary.\u001b[39;00m\n\u001b[1;32m   1687\u001b[0m     \u001b[39mself\u001b[39m\u001b[39m.\u001b[39m_exception \u001b[39m=\u001b[39m \u001b[39mTrue\u001b[39;00m\n",
      "File \u001b[0;32m/opt/conda/lib/python3.10/site-packages/joblib/parallel.py:1783\u001b[0m, in \u001b[0;36mParallel._retrieve\u001b[0;34m(self)\u001b[0m\n\u001b[1;32m   1777\u001b[0m \u001b[39mwhile\u001b[39;00m \u001b[39mself\u001b[39m\u001b[39m.\u001b[39m_wait_retrieval():\n\u001b[1;32m   1778\u001b[0m     \u001b[39m# If the callback thread of a worker has signaled that its task\u001b[39;00m\n\u001b[1;32m   1779\u001b[0m     \u001b[39m# triggered an exception, or if the retrieval loop has raised an\u001b[39;00m\n\u001b[1;32m   1780\u001b[0m     \u001b[39m# exception (e.g. `GeneratorExit`), exit the loop and surface the\u001b[39;00m\n\u001b[1;32m   1781\u001b[0m     \u001b[39m# worker traceback.\u001b[39;00m\n\u001b[1;32m   1782\u001b[0m     \u001b[39mif\u001b[39;00m \u001b[39mself\u001b[39m\u001b[39m.\u001b[39m_aborting:\n\u001b[0;32m-> 1783\u001b[0m         \u001b[39mself\u001b[39;49m\u001b[39m.\u001b[39;49m_raise_error_fast()\n\u001b[1;32m   1784\u001b[0m         \u001b[39mbreak\u001b[39;00m\n\u001b[1;32m   1786\u001b[0m     nb_jobs \u001b[39m=\u001b[39m \u001b[39mlen\u001b[39m(\u001b[39mself\u001b[39m\u001b[39m.\u001b[39m_jobs)\n",
      "File \u001b[0;32m/opt/conda/lib/python3.10/site-packages/joblib/parallel.py:1858\u001b[0m, in \u001b[0;36mParallel._raise_error_fast\u001b[0;34m(self)\u001b[0m\n\u001b[1;32m   1854\u001b[0m \u001b[39m# If this error job exists, immediately raise the error by\u001b[39;00m\n\u001b[1;32m   1855\u001b[0m \u001b[39m# calling get_result. This job might not exists if abort has been\u001b[39;00m\n\u001b[1;32m   1856\u001b[0m \u001b[39m# called directly or if the generator is gc'ed.\u001b[39;00m\n\u001b[1;32m   1857\u001b[0m \u001b[39mif\u001b[39;00m error_job \u001b[39mis\u001b[39;00m \u001b[39mnot\u001b[39;00m \u001b[39mNone\u001b[39;00m:\n\u001b[0;32m-> 1858\u001b[0m     error_job\u001b[39m.\u001b[39;49mget_result(\u001b[39mself\u001b[39;49m\u001b[39m.\u001b[39;49mtimeout)\n",
      "File \u001b[0;32m/opt/conda/lib/python3.10/site-packages/joblib/parallel.py:757\u001b[0m, in \u001b[0;36mBatchCompletionCallBack.get_result\u001b[0;34m(self, timeout)\u001b[0m\n\u001b[1;32m    751\u001b[0m backend \u001b[39m=\u001b[39m \u001b[39mself\u001b[39m\u001b[39m.\u001b[39mparallel\u001b[39m.\u001b[39m_backend\n\u001b[1;32m    753\u001b[0m \u001b[39mif\u001b[39;00m backend\u001b[39m.\u001b[39msupports_retrieve_callback:\n\u001b[1;32m    754\u001b[0m     \u001b[39m# We assume that the result has already been retrieved by the\u001b[39;00m\n\u001b[1;32m    755\u001b[0m     \u001b[39m# callback thread, and is stored internally. It's just waiting to\u001b[39;00m\n\u001b[1;32m    756\u001b[0m     \u001b[39m# be returned.\u001b[39;00m\n\u001b[0;32m--> 757\u001b[0m     \u001b[39mreturn\u001b[39;00m \u001b[39mself\u001b[39;49m\u001b[39m.\u001b[39;49m_return_or_raise()\n\u001b[1;32m    759\u001b[0m \u001b[39m# For other backends, the main thread needs to run the retrieval step.\u001b[39;00m\n\u001b[1;32m    760\u001b[0m \u001b[39mtry\u001b[39;00m:\n",
      "File \u001b[0;32m/opt/conda/lib/python3.10/site-packages/joblib/parallel.py:772\u001b[0m, in \u001b[0;36mBatchCompletionCallBack._return_or_raise\u001b[0;34m(self)\u001b[0m\n\u001b[1;32m    770\u001b[0m \u001b[39mtry\u001b[39;00m:\n\u001b[1;32m    771\u001b[0m     \u001b[39mif\u001b[39;00m \u001b[39mself\u001b[39m\u001b[39m.\u001b[39mstatus \u001b[39m==\u001b[39m TASK_ERROR:\n\u001b[0;32m--> 772\u001b[0m         \u001b[39mraise\u001b[39;00m \u001b[39mself\u001b[39m\u001b[39m.\u001b[39m_result\n\u001b[1;32m    773\u001b[0m     \u001b[39mreturn\u001b[39;00m \u001b[39mself\u001b[39m\u001b[39m.\u001b[39m_result\n\u001b[1;32m    774\u001b[0m \u001b[39mfinally\u001b[39;00m:\n",
      "\u001b[0;31mUnboundLocalError\u001b[0m: local variable 'peak_waveform_spont' referenced before assignment"
     ]
    }
   ],
   "source": [
    "# from joblib import Parallel, delayed\n",
    "# session_list = ['behavior_751181_2025-02-25_12-12-35',\n",
    "#                 'behavior_751181_2025-02-26_11-51-19']\n",
    "data_type = 'curated'\n",
    "def process(session, data_type='raw'):\n",
    "    plt.close('all')\n",
    "    session_dir = session_dirs(session)\n",
    "    if session_dir['curated_dir_curated'] is None:\n",
    "        return None\n",
    "    print(f'{session} start')\n",
    "    beh_and_time_alignment(session) # plot behavior, check alignment between behavior, sound, and ephys\n",
    "    plt.close('all')\n",
    "    ephys_opto_preprocessing(session, data_type, 'soma') \n",
    "    # # redo spiketimes if not aligned, make opto_table (laser time in nidaq); \n",
    "    # # generate a pkl file with opto_resp/lat to each condition\n",
    "    # plt.close('all')\n",
    "    ephys_opto_crosscorr(session, data_type)\n",
    "    # # separate session into opto/beh, cal cross-correlation\n",
    "    # plt.close('all')\n",
    "    opto_wf_preprocessing(session, data_type, 'soma', load_sorting_analyzer=True)\n",
    "    # recal wf based on conditions. (pre/post, power), cal similarity, euclidean distance, correlation with spont\n",
    "    # pay attention to difference early and late in the session\n",
    "    \n",
    "    opto_plotting_session(session, data_type, 'soma', plot=True, resp_thresh=0.3, lat_thresh=0.02, save=True)    \n",
    "    # # save as pickle\n",
    "    # with open(os.path.join(session_dirs(session)[f'opto_dir_{data_type}'], f'{session}_opto_tagging_metrics.pkl'), 'wb') as f:\n",
    "    #     opto_tagging_df.to_pickle(f)\n",
    "    \n",
    "    # if '751004' in session:\n",
    "    #     plot_session_opto_drift(session, data_type, update_csv=False)\n",
    "    # else:     \n",
    "    #     plot_session_opto_drift(session, data_type, update_csv=True)\n",
    "    print(f'{session} stop')\n",
    "        \n",
    " \n",
    "Parallel(n_jobs=2)(delayed(process)(session, data_type = data_type) for session in session_list[-14:-3])\n",
    "\n",
    "# for session in session_list[-14:-3]:\n",
    "#     print(session)\n",
    "#     session_dir = session_dirs(session)\n",
    "#     # if session_dir['curated_dir_curated'] is not None:\n",
    "#     process(session, data_type=data_type) \n",
    "#     # elif  session_dir['curated_dir_raw'] is not None:\n",
    "#     #     print('Raw')\n",
    "#     #     process(session, data_type='raw')\n",
    "process('behavior_761038_2025-04-15_10-25-11')\n",
    "        \n",
    " "
   ]
  },
  {
   "cell_type": "code",
   "execution_count": 4,
   "metadata": {},
   "outputs": [
    {
     "name": "stdout",
     "output_type": "stream",
     "text": [
      "behavior_758018_2025-03-19_11-16-44 start\n",
      "107 out of 201 units pass quality control\n",
      "{'samples_to_keep': [-30, 60], 'y_neighbors_to_keep': 3, 'orginal_loc': False}\n"
     ]
    },
    {
     "ename": "KeyboardInterrupt",
     "evalue": "",
     "output_type": "error",
     "traceback": [
      "\u001b[0;31m---------------------------------------------------------------------------\u001b[0m",
      "\u001b[0;31mKeyboardInterrupt\u001b[0m                         Traceback (most recent call last)",
      "\u001b[1;32m/root/capsule/code/beh_ephys_analysis/beh_ephys_processing.ipynb Cell 5\u001b[0m line \u001b[0;36m1\n\u001b[0;32m----> <a href='vscode-notebook-cell://codeocean.allenneuraldynamics.org/root/capsule/code/beh_ephys_analysis/beh_ephys_processing.ipynb#X35sdnNjb2RlLXJlbW90ZQ%3D%3D?line=0'>1</a>\u001b[0m process(\u001b[39m'\u001b[39;49m\u001b[39mbehavior_758018_2025-03-19_11-16-44\u001b[39;49m\u001b[39m'\u001b[39;49m, data_type\u001b[39m=\u001b[39;49m\u001b[39m'\u001b[39;49m\u001b[39mraw\u001b[39;49m\u001b[39m'\u001b[39;49m)\n",
      "\u001b[1;32m/root/capsule/code/beh_ephys_analysis/beh_ephys_processing.ipynb Cell 5\u001b[0m line \u001b[0;36m2\n\u001b[1;32m     <a href='vscode-notebook-cell://codeocean.allenneuraldynamics.org/root/capsule/code/beh_ephys_analysis/beh_ephys_processing.ipynb#X35sdnNjb2RlLXJlbW90ZQ%3D%3D?line=13'>14</a>\u001b[0m ephys_opto_crosscorr(session, data_type)\n\u001b[1;32m     <a href='vscode-notebook-cell://codeocean.allenneuraldynamics.org/root/capsule/code/beh_ephys_analysis/beh_ephys_processing.ipynb#X35sdnNjb2RlLXJlbW90ZQ%3D%3D?line=14'>15</a>\u001b[0m \u001b[39m# # separate session into opto/beh, cal cross-correlation\u001b[39;00m\n\u001b[1;32m     <a href='vscode-notebook-cell://codeocean.allenneuraldynamics.org/root/capsule/code/beh_ephys_analysis/beh_ephys_processing.ipynb#X35sdnNjb2RlLXJlbW90ZQ%3D%3D?line=15'>16</a>\u001b[0m \u001b[39m# plt.close('all')\u001b[39;00m\n\u001b[1;32m     <a href='vscode-notebook-cell://codeocean.allenneuraldynamics.org/root/capsule/code/beh_ephys_analysis/beh_ephys_processing.ipynb#X35sdnNjb2RlLXJlbW90ZQ%3D%3D?line=16'>17</a>\u001b[0m \u001b[39m# opto_wf_preprocessing(session, data_type, 'soma', load_sorting_analyzer=True)\u001b[39;00m\n\u001b[1;32m     <a href='vscode-notebook-cell://codeocean.allenneuraldynamics.org/root/capsule/code/beh_ephys_analysis/beh_ephys_processing.ipynb#X35sdnNjb2RlLXJlbW90ZQ%3D%3D?line=17'>18</a>\u001b[0m \u001b[39m# recal wf based on conditions. (pre/post, power), cal similarity, euclidean distance, correlation with spont\u001b[39;00m\n\u001b[1;32m     <a href='vscode-notebook-cell://codeocean.allenneuraldynamics.org/root/capsule/code/beh_ephys_analysis/beh_ephys_processing.ipynb#X35sdnNjb2RlLXJlbW90ZQ%3D%3D?line=18'>19</a>\u001b[0m \u001b[39m# pay attention to difference early and late in the session\u001b[39;00m\n\u001b[0;32m---> <a href='vscode-notebook-cell://codeocean.allenneuraldynamics.org/root/capsule/code/beh_ephys_analysis/beh_ephys_processing.ipynb#X35sdnNjb2RlLXJlbW90ZQ%3D%3D?line=20'>21</a>\u001b[0m opto_plotting_session(session, data_type, \u001b[39m'\u001b[39;49m\u001b[39msoma\u001b[39;49m\u001b[39m'\u001b[39;49m, plot\u001b[39m=\u001b[39;49m\u001b[39mTrue\u001b[39;49;00m, resp_thresh\u001b[39m=\u001b[39;49m\u001b[39m0.3\u001b[39;49m, lat_thresh\u001b[39m=\u001b[39;49m\u001b[39m0.02\u001b[39;49m, save\u001b[39m=\u001b[39;49m\u001b[39mTrue\u001b[39;49;00m)    \n\u001b[1;32m     <a href='vscode-notebook-cell://codeocean.allenneuraldynamics.org/root/capsule/code/beh_ephys_analysis/beh_ephys_processing.ipynb#X35sdnNjb2RlLXJlbW90ZQ%3D%3D?line=21'>22</a>\u001b[0m \u001b[39m# # save as pickle\u001b[39;00m\n\u001b[1;32m     <a href='vscode-notebook-cell://codeocean.allenneuraldynamics.org/root/capsule/code/beh_ephys_analysis/beh_ephys_processing.ipynb#X35sdnNjb2RlLXJlbW90ZQ%3D%3D?line=22'>23</a>\u001b[0m \u001b[39m# with open(os.path.join(session_dirs(session)[f'opto_dir_{data_type}'], f'{session}_opto_tagging_metrics.pkl'), 'wb') as f:\u001b[39;00m\n\u001b[1;32m     <a href='vscode-notebook-cell://codeocean.allenneuraldynamics.org/root/capsule/code/beh_ephys_analysis/beh_ephys_processing.ipynb#X35sdnNjb2RlLXJlbW90ZQ%3D%3D?line=23'>24</a>\u001b[0m \u001b[39m#     opto_tagging_df.to_pickle(f)\u001b[39;00m\n\u001b[0;32m   (...)\u001b[0m\n\u001b[1;32m     <a href='vscode-notebook-cell://codeocean.allenneuraldynamics.org/root/capsule/code/beh_ephys_analysis/beh_ephys_processing.ipynb#X35sdnNjb2RlLXJlbW90ZQ%3D%3D?line=27'>28</a>\u001b[0m \u001b[39m# else:     \u001b[39;00m\n\u001b[1;32m     <a href='vscode-notebook-cell://codeocean.allenneuraldynamics.org/root/capsule/code/beh_ephys_analysis/beh_ephys_processing.ipynb#X35sdnNjb2RlLXJlbW90ZQ%3D%3D?line=28'>29</a>\u001b[0m \u001b[39m#     plot_session_opto_drift(session, data_type, update_csv=True)\u001b[39;00m\n\u001b[1;32m     <a href='vscode-notebook-cell://codeocean.allenneuraldynamics.org/root/capsule/code/beh_ephys_analysis/beh_ephys_processing.ipynb#X35sdnNjb2RlLXJlbW90ZQ%3D%3D?line=29'>30</a>\u001b[0m \u001b[39mprint\u001b[39m(\u001b[39mf\u001b[39m\u001b[39m'\u001b[39m\u001b[39m{\u001b[39;00msession\u001b[39m}\u001b[39;00m\u001b[39m stop\u001b[39m\u001b[39m'\u001b[39m)\n",
      "File \u001b[0;32m~/capsule/code/beh_ephys_analysis/opto_tagging.py:508\u001b[0m, in \u001b[0;36mopto_plotting_session\u001b[0;34m(session, data_type, target, resp_thresh, lat_thresh, plot, target_unit_ids, ephys_cut, save)\u001b[0m\n\u001b[1;32m    501\u001b[0m fig, opto_tagging_dict_curr, opto_tagging_df_curr \u001b[39m=\u001b[39m opto_plotting_unit(unit_id, spiketimes_curr, spike_amplitude_curr, \n\u001b[1;32m    502\u001b[0m                                                     waveforms[unit_id], opto_wf, qc_dict, crosscorr,\n\u001b[1;32m    503\u001b[0m                                                     opto_responses[\u001b[39m'\u001b[39m\u001b[39mresp_p\u001b[39m\u001b[39m'\u001b[39m][unit_id], opto_responses[\u001b[39m'\u001b[39m\u001b[39mresp_lat\u001b[39m\u001b[39m'\u001b[39m][unit_id], \n\u001b[1;32m    504\u001b[0m                                                     opto_df_curr, opto_info, qm,\n\u001b[1;32m    505\u001b[0m                                                     waveform_params, \n\u001b[1;32m    506\u001b[0m                                                     dim_1 \u001b[39m=\u001b[39m \u001b[39m'\u001b[39m\u001b[39mpowers\u001b[39m\u001b[39m'\u001b[39m, resp_thresh\u001b[39m=\u001b[39mresp_thresh, lat_thresh\u001b[39m=\u001b[39mlat_thresh, plot\u001b[39m=\u001b[39mplot)\n\u001b[1;32m    507\u001b[0m \u001b[39mif\u001b[39;00m fig \u001b[39mis\u001b[39;00m \u001b[39mnot\u001b[39;00m \u001b[39mNone\u001b[39;00m:\n\u001b[0;32m--> 508\u001b[0m     fig\u001b[39m.\u001b[39;49msavefig(os\u001b[39m.\u001b[39;49mpath\u001b[39m.\u001b[39;49mjoin(session_dir[\u001b[39mf\u001b[39;49m\u001b[39m'\u001b[39;49m\u001b[39mopto_dir_fig_\u001b[39;49m\u001b[39m{\u001b[39;49;00mdata_type\u001b[39m}\u001b[39;49;00m\u001b[39m'\u001b[39;49m], \u001b[39mf\u001b[39;49m\u001b[39m'\u001b[39;49m\u001b[39munit_\u001b[39;49m\u001b[39m{\u001b[39;49;00munit_id\u001b[39m}\u001b[39;49;00m\u001b[39m_pulse_width_\u001b[39;49m\u001b[39m{\u001b[39;49;00mpulse_width\u001b[39m}\u001b[39;49;00m\u001b[39m_opto_tagging.pdf\u001b[39;49m\u001b[39m'\u001b[39;49m))\n\u001b[1;32m    509\u001b[0m plt\u001b[39m.\u001b[39mclose(\u001b[39m'\u001b[39m\u001b[39mall\u001b[39m\u001b[39m'\u001b[39m)\n\u001b[1;32m    510\u001b[0m opto_tagging_df_sess \u001b[39m=\u001b[39m pd\u001b[39m.\u001b[39mconcat([opto_tagging_df_sess, pd\u001b[39m.\u001b[39mDataFrame([opto_tagging_dict_curr])], ignore_index\u001b[39m=\u001b[39m\u001b[39mTrue\u001b[39;00m)\n",
      "File \u001b[0;32m/opt/conda/lib/python3.10/site-packages/matplotlib/figure.py:3395\u001b[0m, in \u001b[0;36mFigure.savefig\u001b[0;34m(self, fname, transparent, **kwargs)\u001b[0m\n\u001b[1;32m   3393\u001b[0m     \u001b[39mfor\u001b[39;00m ax \u001b[39min\u001b[39;00m \u001b[39mself\u001b[39m\u001b[39m.\u001b[39maxes:\n\u001b[1;32m   3394\u001b[0m         _recursively_make_axes_transparent(stack, ax)\n\u001b[0;32m-> 3395\u001b[0m \u001b[39mself\u001b[39;49m\u001b[39m.\u001b[39;49mcanvas\u001b[39m.\u001b[39;49mprint_figure(fname, \u001b[39m*\u001b[39;49m\u001b[39m*\u001b[39;49mkwargs)\n",
      "File \u001b[0;32m/opt/conda/lib/python3.10/site-packages/matplotlib/backend_bases.py:2204\u001b[0m, in \u001b[0;36mFigureCanvasBase.print_figure\u001b[0;34m(self, filename, dpi, facecolor, edgecolor, orientation, format, bbox_inches, pad_inches, bbox_extra_artists, backend, **kwargs)\u001b[0m\n\u001b[1;32m   2200\u001b[0m \u001b[39mtry\u001b[39;00m:\n\u001b[1;32m   2201\u001b[0m     \u001b[39m# _get_renderer may change the figure dpi (as vector formats\u001b[39;00m\n\u001b[1;32m   2202\u001b[0m     \u001b[39m# force the figure dpi to 72), so we need to set it again here.\u001b[39;00m\n\u001b[1;32m   2203\u001b[0m     \u001b[39mwith\u001b[39;00m cbook\u001b[39m.\u001b[39m_setattr_cm(\u001b[39mself\u001b[39m\u001b[39m.\u001b[39mfigure, dpi\u001b[39m=\u001b[39mdpi):\n\u001b[0;32m-> 2204\u001b[0m         result \u001b[39m=\u001b[39m print_method(\n\u001b[1;32m   2205\u001b[0m             filename,\n\u001b[1;32m   2206\u001b[0m             facecolor\u001b[39m=\u001b[39;49mfacecolor,\n\u001b[1;32m   2207\u001b[0m             edgecolor\u001b[39m=\u001b[39;49medgecolor,\n\u001b[1;32m   2208\u001b[0m             orientation\u001b[39m=\u001b[39;49morientation,\n\u001b[1;32m   2209\u001b[0m             bbox_inches_restore\u001b[39m=\u001b[39;49m_bbox_inches_restore,\n\u001b[1;32m   2210\u001b[0m             \u001b[39m*\u001b[39;49m\u001b[39m*\u001b[39;49mkwargs)\n\u001b[1;32m   2211\u001b[0m \u001b[39mfinally\u001b[39;00m:\n\u001b[1;32m   2212\u001b[0m     \u001b[39mif\u001b[39;00m bbox_inches \u001b[39mand\u001b[39;00m restore_bbox:\n",
      "File \u001b[0;32m/opt/conda/lib/python3.10/site-packages/matplotlib/backend_bases.py:2054\u001b[0m, in \u001b[0;36mFigureCanvasBase._switch_canvas_and_return_print_method.<locals>.<lambda>\u001b[0;34m(*args, **kwargs)\u001b[0m\n\u001b[1;32m   2050\u001b[0m     optional_kws \u001b[39m=\u001b[39m {  \u001b[39m# Passed by print_figure for other renderers.\u001b[39;00m\n\u001b[1;32m   2051\u001b[0m         \u001b[39m\"\u001b[39m\u001b[39mdpi\u001b[39m\u001b[39m\"\u001b[39m, \u001b[39m\"\u001b[39m\u001b[39mfacecolor\u001b[39m\u001b[39m\"\u001b[39m, \u001b[39m\"\u001b[39m\u001b[39medgecolor\u001b[39m\u001b[39m\"\u001b[39m, \u001b[39m\"\u001b[39m\u001b[39morientation\u001b[39m\u001b[39m\"\u001b[39m,\n\u001b[1;32m   2052\u001b[0m         \u001b[39m\"\u001b[39m\u001b[39mbbox_inches_restore\u001b[39m\u001b[39m\"\u001b[39m}\n\u001b[1;32m   2053\u001b[0m     skip \u001b[39m=\u001b[39m optional_kws \u001b[39m-\u001b[39m {\u001b[39m*\u001b[39minspect\u001b[39m.\u001b[39msignature(meth)\u001b[39m.\u001b[39mparameters}\n\u001b[0;32m-> 2054\u001b[0m     print_method \u001b[39m=\u001b[39m functools\u001b[39m.\u001b[39mwraps(meth)(\u001b[39mlambda\u001b[39;00m \u001b[39m*\u001b[39margs, \u001b[39m*\u001b[39m\u001b[39m*\u001b[39mkwargs: meth(\n\u001b[1;32m   2055\u001b[0m         \u001b[39m*\u001b[39;49margs, \u001b[39m*\u001b[39;49m\u001b[39m*\u001b[39;49m{k: v \u001b[39mfor\u001b[39;49;00m k, v \u001b[39min\u001b[39;49;00m kwargs\u001b[39m.\u001b[39;49mitems() \u001b[39mif\u001b[39;49;00m k \u001b[39mnot\u001b[39;49;00m \u001b[39min\u001b[39;49;00m skip}))\n\u001b[1;32m   2056\u001b[0m \u001b[39melse\u001b[39;00m:  \u001b[39m# Let third-parties do as they see fit.\u001b[39;00m\n\u001b[1;32m   2057\u001b[0m     print_method \u001b[39m=\u001b[39m meth\n",
      "File \u001b[0;32m/opt/conda/lib/python3.10/site-packages/matplotlib/backends/backend_pdf.py:2799\u001b[0m, in \u001b[0;36mFigureCanvasPdf.print_pdf\u001b[0;34m(self, filename, bbox_inches_restore, metadata)\u001b[0m\n\u001b[1;32m   2794\u001b[0m file\u001b[39m.\u001b[39mnewPage(width, height)\n\u001b[1;32m   2795\u001b[0m renderer \u001b[39m=\u001b[39m MixedModeRenderer(\n\u001b[1;32m   2796\u001b[0m     \u001b[39mself\u001b[39m\u001b[39m.\u001b[39mfigure, width, height, dpi,\n\u001b[1;32m   2797\u001b[0m     RendererPdf(file, dpi, height, width),\n\u001b[1;32m   2798\u001b[0m     bbox_inches_restore\u001b[39m=\u001b[39mbbox_inches_restore)\n\u001b[0;32m-> 2799\u001b[0m \u001b[39mself\u001b[39;49m\u001b[39m.\u001b[39;49mfigure\u001b[39m.\u001b[39;49mdraw(renderer)\n\u001b[1;32m   2800\u001b[0m renderer\u001b[39m.\u001b[39mfinalize()\n\u001b[1;32m   2801\u001b[0m \u001b[39mif\u001b[39;00m \u001b[39mnot\u001b[39;00m \u001b[39misinstance\u001b[39m(filename, PdfPages):\n",
      "File \u001b[0;32m/opt/conda/lib/python3.10/site-packages/matplotlib/artist.py:95\u001b[0m, in \u001b[0;36m_finalize_rasterization.<locals>.draw_wrapper\u001b[0;34m(artist, renderer, *args, **kwargs)\u001b[0m\n\u001b[1;32m     93\u001b[0m \u001b[39m@wraps\u001b[39m(draw)\n\u001b[1;32m     94\u001b[0m \u001b[39mdef\u001b[39;00m\u001b[39m \u001b[39m\u001b[39mdraw_wrapper\u001b[39m(artist, renderer, \u001b[39m*\u001b[39margs, \u001b[39m*\u001b[39m\u001b[39m*\u001b[39mkwargs):\n\u001b[0;32m---> 95\u001b[0m     result \u001b[39m=\u001b[39m draw(artist, renderer, \u001b[39m*\u001b[39;49margs, \u001b[39m*\u001b[39;49m\u001b[39m*\u001b[39;49mkwargs)\n\u001b[1;32m     96\u001b[0m     \u001b[39mif\u001b[39;00m renderer\u001b[39m.\u001b[39m_rasterizing:\n\u001b[1;32m     97\u001b[0m         renderer\u001b[39m.\u001b[39mstop_rasterizing()\n",
      "File \u001b[0;32m/opt/conda/lib/python3.10/site-packages/matplotlib/artist.py:72\u001b[0m, in \u001b[0;36mallow_rasterization.<locals>.draw_wrapper\u001b[0;34m(artist, renderer)\u001b[0m\n\u001b[1;32m     69\u001b[0m     \u001b[39mif\u001b[39;00m artist\u001b[39m.\u001b[39mget_agg_filter() \u001b[39mis\u001b[39;00m \u001b[39mnot\u001b[39;00m \u001b[39mNone\u001b[39;00m:\n\u001b[1;32m     70\u001b[0m         renderer\u001b[39m.\u001b[39mstart_filter()\n\u001b[0;32m---> 72\u001b[0m     \u001b[39mreturn\u001b[39;00m draw(artist, renderer)\n\u001b[1;32m     73\u001b[0m \u001b[39mfinally\u001b[39;00m:\n\u001b[1;32m     74\u001b[0m     \u001b[39mif\u001b[39;00m artist\u001b[39m.\u001b[39mget_agg_filter() \u001b[39mis\u001b[39;00m \u001b[39mnot\u001b[39;00m \u001b[39mNone\u001b[39;00m:\n",
      "File \u001b[0;32m/opt/conda/lib/python3.10/site-packages/matplotlib/figure.py:3162\u001b[0m, in \u001b[0;36mFigure.draw\u001b[0;34m(self, renderer)\u001b[0m\n\u001b[1;32m   3159\u001b[0m             \u001b[39m# ValueError can occur when resizing a window.\u001b[39;00m\n\u001b[1;32m   3161\u001b[0m     \u001b[39mself\u001b[39m\u001b[39m.\u001b[39mpatch\u001b[39m.\u001b[39mdraw(renderer)\n\u001b[0;32m-> 3162\u001b[0m     mimage\u001b[39m.\u001b[39;49m_draw_list_compositing_images(\n\u001b[1;32m   3163\u001b[0m         renderer, \u001b[39mself\u001b[39;49m, artists, \u001b[39mself\u001b[39;49m\u001b[39m.\u001b[39;49msuppressComposite)\n\u001b[1;32m   3165\u001b[0m     renderer\u001b[39m.\u001b[39mclose_group(\u001b[39m'\u001b[39m\u001b[39mfigure\u001b[39m\u001b[39m'\u001b[39m)\n\u001b[1;32m   3166\u001b[0m \u001b[39mfinally\u001b[39;00m:\n",
      "File \u001b[0;32m/opt/conda/lib/python3.10/site-packages/matplotlib/image.py:132\u001b[0m, in \u001b[0;36m_draw_list_compositing_images\u001b[0;34m(renderer, parent, artists, suppress_composite)\u001b[0m\n\u001b[1;32m    130\u001b[0m \u001b[39mif\u001b[39;00m not_composite \u001b[39mor\u001b[39;00m \u001b[39mnot\u001b[39;00m has_images:\n\u001b[1;32m    131\u001b[0m     \u001b[39mfor\u001b[39;00m a \u001b[39min\u001b[39;00m artists:\n\u001b[0;32m--> 132\u001b[0m         a\u001b[39m.\u001b[39;49mdraw(renderer)\n\u001b[1;32m    133\u001b[0m \u001b[39melse\u001b[39;00m:\n\u001b[1;32m    134\u001b[0m     \u001b[39m# Composite any adjacent images together\u001b[39;00m\n\u001b[1;32m    135\u001b[0m     image_group \u001b[39m=\u001b[39m []\n",
      "File \u001b[0;32m/opt/conda/lib/python3.10/site-packages/matplotlib/artist.py:72\u001b[0m, in \u001b[0;36mallow_rasterization.<locals>.draw_wrapper\u001b[0;34m(artist, renderer)\u001b[0m\n\u001b[1;32m     69\u001b[0m     \u001b[39mif\u001b[39;00m artist\u001b[39m.\u001b[39mget_agg_filter() \u001b[39mis\u001b[39;00m \u001b[39mnot\u001b[39;00m \u001b[39mNone\u001b[39;00m:\n\u001b[1;32m     70\u001b[0m         renderer\u001b[39m.\u001b[39mstart_filter()\n\u001b[0;32m---> 72\u001b[0m     \u001b[39mreturn\u001b[39;00m draw(artist, renderer)\n\u001b[1;32m     73\u001b[0m \u001b[39mfinally\u001b[39;00m:\n\u001b[1;32m     74\u001b[0m     \u001b[39mif\u001b[39;00m artist\u001b[39m.\u001b[39mget_agg_filter() \u001b[39mis\u001b[39;00m \u001b[39mnot\u001b[39;00m \u001b[39mNone\u001b[39;00m:\n",
      "File \u001b[0;32m/opt/conda/lib/python3.10/site-packages/matplotlib/axes/_base.py:3143\u001b[0m, in \u001b[0;36m_AxesBase.draw\u001b[0;34m(self, renderer)\u001b[0m\n\u001b[1;32m   3140\u001b[0m \u001b[39mif\u001b[39;00m artists_rasterized:\n\u001b[1;32m   3141\u001b[0m     _draw_rasterized(\u001b[39mself\u001b[39m\u001b[39m.\u001b[39mfigure, artists_rasterized, renderer)\n\u001b[0;32m-> 3143\u001b[0m mimage\u001b[39m.\u001b[39;49m_draw_list_compositing_images(\n\u001b[1;32m   3144\u001b[0m     renderer, \u001b[39mself\u001b[39;49m, artists, \u001b[39mself\u001b[39;49m\u001b[39m.\u001b[39;49mfigure\u001b[39m.\u001b[39;49msuppressComposite)\n\u001b[1;32m   3146\u001b[0m renderer\u001b[39m.\u001b[39mclose_group(\u001b[39m'\u001b[39m\u001b[39maxes\u001b[39m\u001b[39m'\u001b[39m)\n\u001b[1;32m   3147\u001b[0m \u001b[39mself\u001b[39m\u001b[39m.\u001b[39mstale \u001b[39m=\u001b[39m \u001b[39mFalse\u001b[39;00m\n",
      "File \u001b[0;32m/opt/conda/lib/python3.10/site-packages/matplotlib/image.py:132\u001b[0m, in \u001b[0;36m_draw_list_compositing_images\u001b[0;34m(renderer, parent, artists, suppress_composite)\u001b[0m\n\u001b[1;32m    130\u001b[0m \u001b[39mif\u001b[39;00m not_composite \u001b[39mor\u001b[39;00m \u001b[39mnot\u001b[39;00m has_images:\n\u001b[1;32m    131\u001b[0m     \u001b[39mfor\u001b[39;00m a \u001b[39min\u001b[39;00m artists:\n\u001b[0;32m--> 132\u001b[0m         a\u001b[39m.\u001b[39;49mdraw(renderer)\n\u001b[1;32m    133\u001b[0m \u001b[39melse\u001b[39;00m:\n\u001b[1;32m    134\u001b[0m     \u001b[39m# Composite any adjacent images together\u001b[39;00m\n\u001b[1;32m    135\u001b[0m     image_group \u001b[39m=\u001b[39m []\n",
      "File \u001b[0;32m/opt/conda/lib/python3.10/site-packages/matplotlib/artist.py:72\u001b[0m, in \u001b[0;36mallow_rasterization.<locals>.draw_wrapper\u001b[0;34m(artist, renderer)\u001b[0m\n\u001b[1;32m     69\u001b[0m     \u001b[39mif\u001b[39;00m artist\u001b[39m.\u001b[39mget_agg_filter() \u001b[39mis\u001b[39;00m \u001b[39mnot\u001b[39;00m \u001b[39mNone\u001b[39;00m:\n\u001b[1;32m     70\u001b[0m         renderer\u001b[39m.\u001b[39mstart_filter()\n\u001b[0;32m---> 72\u001b[0m     \u001b[39mreturn\u001b[39;00m draw(artist, renderer)\n\u001b[1;32m     73\u001b[0m \u001b[39mfinally\u001b[39;00m:\n\u001b[1;32m     74\u001b[0m     \u001b[39mif\u001b[39;00m artist\u001b[39m.\u001b[39mget_agg_filter() \u001b[39mis\u001b[39;00m \u001b[39mnot\u001b[39;00m \u001b[39mNone\u001b[39;00m:\n",
      "File \u001b[0;32m/opt/conda/lib/python3.10/site-packages/matplotlib/collections.py:1005\u001b[0m, in \u001b[0;36m_CollectionWithSizes.draw\u001b[0;34m(self, renderer)\u001b[0m\n\u001b[1;32m   1002\u001b[0m \u001b[39m@artist\u001b[39m\u001b[39m.\u001b[39mallow_rasterization\n\u001b[1;32m   1003\u001b[0m \u001b[39mdef\u001b[39;00m\u001b[39m \u001b[39m\u001b[39mdraw\u001b[39m(\u001b[39mself\u001b[39m, renderer):\n\u001b[1;32m   1004\u001b[0m     \u001b[39mself\u001b[39m\u001b[39m.\u001b[39mset_sizes(\u001b[39mself\u001b[39m\u001b[39m.\u001b[39m_sizes, \u001b[39mself\u001b[39m\u001b[39m.\u001b[39mfigure\u001b[39m.\u001b[39mdpi)\n\u001b[0;32m-> 1005\u001b[0m     \u001b[39msuper\u001b[39;49m()\u001b[39m.\u001b[39;49mdraw(renderer)\n",
      "File \u001b[0;32m/opt/conda/lib/python3.10/site-packages/matplotlib/artist.py:72\u001b[0m, in \u001b[0;36mallow_rasterization.<locals>.draw_wrapper\u001b[0;34m(artist, renderer)\u001b[0m\n\u001b[1;32m     69\u001b[0m     \u001b[39mif\u001b[39;00m artist\u001b[39m.\u001b[39mget_agg_filter() \u001b[39mis\u001b[39;00m \u001b[39mnot\u001b[39;00m \u001b[39mNone\u001b[39;00m:\n\u001b[1;32m     70\u001b[0m         renderer\u001b[39m.\u001b[39mstart_filter()\n\u001b[0;32m---> 72\u001b[0m     \u001b[39mreturn\u001b[39;00m draw(artist, renderer)\n\u001b[1;32m     73\u001b[0m \u001b[39mfinally\u001b[39;00m:\n\u001b[1;32m     74\u001b[0m     \u001b[39mif\u001b[39;00m artist\u001b[39m.\u001b[39mget_agg_filter() \u001b[39mis\u001b[39;00m \u001b[39mnot\u001b[39;00m \u001b[39mNone\u001b[39;00m:\n",
      "File \u001b[0;32m/opt/conda/lib/python3.10/site-packages/matplotlib/collections.py:426\u001b[0m, in \u001b[0;36mCollection.draw\u001b[0;34m(self, renderer)\u001b[0m\n\u001b[1;32m    417\u001b[0m         ipaths, ilinestyles \u001b[39m=\u001b[39m \u001b[39mself\u001b[39m\u001b[39m.\u001b[39m_get_inverse_paths_linestyles()\n\u001b[1;32m    418\u001b[0m         renderer\u001b[39m.\u001b[39mdraw_path_collection(\n\u001b[1;32m    419\u001b[0m             gc, transform\u001b[39m.\u001b[39mfrozen(), ipaths,\n\u001b[1;32m    420\u001b[0m             \u001b[39mself\u001b[39m\u001b[39m.\u001b[39mget_transforms(), offsets, offset_trf,\n\u001b[0;32m   (...)\u001b[0m\n\u001b[1;32m    423\u001b[0m             \u001b[39mself\u001b[39m\u001b[39m.\u001b[39m_antialiaseds, \u001b[39mself\u001b[39m\u001b[39m.\u001b[39m_urls,\n\u001b[1;32m    424\u001b[0m             \u001b[39m\"\u001b[39m\u001b[39mscreen\u001b[39m\u001b[39m\"\u001b[39m)\n\u001b[0;32m--> 426\u001b[0m     renderer\u001b[39m.\u001b[39;49mdraw_path_collection(\n\u001b[1;32m    427\u001b[0m         gc, transform\u001b[39m.\u001b[39;49mfrozen(), paths,\n\u001b[1;32m    428\u001b[0m         \u001b[39mself\u001b[39;49m\u001b[39m.\u001b[39;49mget_transforms(), offsets, offset_trf,\n\u001b[1;32m    429\u001b[0m         \u001b[39mself\u001b[39;49m\u001b[39m.\u001b[39;49mget_facecolor(), \u001b[39mself\u001b[39;49m\u001b[39m.\u001b[39;49mget_edgecolor(),\n\u001b[1;32m    430\u001b[0m         \u001b[39mself\u001b[39;49m\u001b[39m.\u001b[39;49m_linewidths, \u001b[39mself\u001b[39;49m\u001b[39m.\u001b[39;49m_linestyles,\n\u001b[1;32m    431\u001b[0m         \u001b[39mself\u001b[39;49m\u001b[39m.\u001b[39;49m_antialiaseds, \u001b[39mself\u001b[39;49m\u001b[39m.\u001b[39;49m_urls,\n\u001b[1;32m    432\u001b[0m         \u001b[39m\"\u001b[39;49m\u001b[39mscreen\u001b[39;49m\u001b[39m\"\u001b[39;49m)  \u001b[39m# offset_position, kept for backcompat.\u001b[39;00m\n\u001b[1;32m    434\u001b[0m gc\u001b[39m.\u001b[39mrestore()\n\u001b[1;32m    435\u001b[0m renderer\u001b[39m.\u001b[39mclose_group(\u001b[39mself\u001b[39m\u001b[39m.\u001b[39m\u001b[39m__class__\u001b[39m\u001b[39m.\u001b[39m\u001b[39m__name__\u001b[39m)\n",
      "File \u001b[0;32m/opt/conda/lib/python3.10/site-packages/matplotlib/backends/backend_pdf.py:2090\u001b[0m, in \u001b[0;36mRendererPdf.draw_path_collection\u001b[0;34m(self, gc, master_transform, paths, all_transforms, offsets, offset_trans, facecolors, edgecolors, linewidths, linestyles, antialiaseds, urls, offset_position)\u001b[0m\n\u001b[1;32m   2084\u001b[0m lastx, lasty \u001b[39m=\u001b[39m \u001b[39m0\u001b[39m, \u001b[39m0\u001b[39m\n\u001b[1;32m   2085\u001b[0m \u001b[39mfor\u001b[39;00m xo, yo, path_id, gc0, rgbFace \u001b[39min\u001b[39;00m \u001b[39mself\u001b[39m\u001b[39m.\u001b[39m_iter_collection(\n\u001b[1;32m   2086\u001b[0m         gc, path_codes, offsets, offset_trans,\n\u001b[1;32m   2087\u001b[0m         facecolors, edgecolors, linewidths, linestyles,\n\u001b[1;32m   2088\u001b[0m         antialiaseds, urls, offset_position):\n\u001b[0;32m-> 2090\u001b[0m     \u001b[39mself\u001b[39;49m\u001b[39m.\u001b[39;49mcheck_gc(gc0, rgbFace)\n\u001b[1;32m   2091\u001b[0m     dx, dy \u001b[39m=\u001b[39m xo \u001b[39m-\u001b[39m lastx, yo \u001b[39m-\u001b[39m lasty\n\u001b[1;32m   2092\u001b[0m     output(\u001b[39m1\u001b[39m, \u001b[39m0\u001b[39m, \u001b[39m0\u001b[39m, \u001b[39m1\u001b[39m, dx, dy, Op\u001b[39m.\u001b[39mconcat_matrix, path_id,\n\u001b[1;32m   2093\u001b[0m            Op\u001b[39m.\u001b[39muse_xobject)\n",
      "File \u001b[0;32m/opt/conda/lib/python3.10/site-packages/matplotlib/backends/backend_pdf.py:1977\u001b[0m, in \u001b[0;36mRendererPdf.check_gc\u001b[0;34m(self, gc, fillcolor)\u001b[0m\n\u001b[1;32m   1974\u001b[0m \u001b[39melse\u001b[39;00m:\n\u001b[1;32m   1975\u001b[0m     gc\u001b[39m.\u001b[39m_effective_alphas \u001b[39m=\u001b[39m (gc\u001b[39m.\u001b[39m_rgb[\u001b[39m3\u001b[39m], fillcolor[\u001b[39m3\u001b[39m])\n\u001b[0;32m-> 1977\u001b[0m delta \u001b[39m=\u001b[39m \u001b[39mself\u001b[39;49m\u001b[39m.\u001b[39;49mgc\u001b[39m.\u001b[39;49mdelta(gc)\n\u001b[1;32m   1978\u001b[0m \u001b[39mif\u001b[39;00m delta:\n\u001b[1;32m   1979\u001b[0m     \u001b[39mself\u001b[39m\u001b[39m.\u001b[39mfile\u001b[39m.\u001b[39moutput(\u001b[39m*\u001b[39mdelta)\n",
      "File \u001b[0;32m/opt/conda/lib/python3.10/site-packages/matplotlib/backends/backend_pdf.py:2615\u001b[0m, in \u001b[0;36mGraphicsContextPdf.delta\u001b[0;34m(self, other)\u001b[0m\n\u001b[1;32m   2612\u001b[0m \u001b[39mif\u001b[39;00m params \u001b[39m==\u001b[39m (\u001b[39m'\u001b[39m\u001b[39m_hatch\u001b[39m\u001b[39m'\u001b[39m, \u001b[39m'\u001b[39m\u001b[39m_hatch_color\u001b[39m\u001b[39m'\u001b[39m) \u001b[39mand\u001b[39;00m fill_performed:\n\u001b[1;32m   2613\u001b[0m     different \u001b[39m=\u001b[39m \u001b[39mTrue\u001b[39;00m\n\u001b[0;32m-> 2615\u001b[0m \u001b[39mif\u001b[39;00m different:\n\u001b[1;32m   2616\u001b[0m     \u001b[39mif\u001b[39;00m params \u001b[39m==\u001b[39m (\u001b[39m'\u001b[39m\u001b[39m_fillcolor\u001b[39m\u001b[39m'\u001b[39m,):\n\u001b[1;32m   2617\u001b[0m         fill_performed \u001b[39m=\u001b[39m \u001b[39mTrue\u001b[39;00m\n",
      "\u001b[0;31mKeyboardInterrupt\u001b[0m: "
     ]
    }
   ],
   "source": [
    "process('behavior_758018_2025-03-19_11-16-44', data_type='raw')"
   ]
  },
  {
   "cell_type": "code",
   "execution_count": null,
   "metadata": {},
   "outputs": [],
   "source": [
    "# make a df from all_Tm, columns correspond to focus regressors\n",
    " "
   ]
  }
 ],
 "metadata": {
  "kernelspec": {
   "display_name": "base",
   "language": "python",
   "name": "python3"
  },
  "language_info": {
   "codemirror_mode": {
    "name": "ipython",
    "version": 3
   },
   "file_extension": ".py",
   "mimetype": "text/x-python",
   "name": "python",
   "nbconvert_exporter": "python",
   "pygments_lexer": "ipython3",
   "version": "3.10.12"
  }
 },
 "nbformat": 4,
 "nbformat_minor": 2
}
