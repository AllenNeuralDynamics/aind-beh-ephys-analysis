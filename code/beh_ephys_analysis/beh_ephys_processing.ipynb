{
 "cells": [
  {
   "cell_type": "code",
   "execution_count": 1,
   "metadata": {},
   "outputs": [],
   "source": [
    "from behavior_and_time_alignment import beh_and_time_alignment\n",
    "from session_preprocessing import ephys_opto_preprocessing, session_crosscorr, ephys_opto_crosscorr\n",
    "from opto_tagging import opto_plotting_session, opto_plotting_unit\n",
    "from opto_waveforms_preprocessing import opto_wf_preprocessing\n",
    "from drift_analysis import plot_session_opto_drift\n",
    "import matplotlib.pyplot as plt\n",
    "from utils.beh_functions import session_dirs, get_unit_tbl\n",
    "import numpy as np\n",
    "import pandas as pd\n",
    "import os\n",
    "from utils.plot_utils import combine_pdf_big\n",
    "import spikeinterface as si\n",
    "from joblib import Parallel, delayed\n",
    "import pickle"
   ]
  },
  {
   "cell_type": "code",
   "execution_count": 9,
   "metadata": {},
   "outputs": [
    {
     "data": {
      "text/plain": [
       "['behavior_784806_2025-06-18_13-39-50', 'behavior_784806_2025-06-20_13-39-16']"
      ]
     },
     "execution_count": 9,
     "metadata": {},
     "output_type": "execute_result"
    }
   ],
   "source": [
    "session_assets = pd.read_csv('/root/capsule/code/data_management/session_assets.csv')\n",
    "session_list = session_assets['session_id'].tolist()\n",
    "session_list[-8:-6]"
   ]
  },
  {
   "cell_type": "code",
   "execution_count": 3,
   "metadata": {},
   "outputs": [],
   "source": [
    "# session_dir = session_dirs('behavior_791691_2025-06-24_13-21-29')"
   ]
  },
  {
   "cell_type": "code",
   "execution_count": 4,
   "metadata": {},
   "outputs": [],
   "source": [
    "# # combine opto pdfs\n",
    "# data_type = 'curated'\n",
    "# def process(session, data_type):\n",
    "#     pdf_dir = session_dirs(session)[f'opto_dir_fig_{data_type}']\n",
    "#     output_pdf = os.path.join(session_dirs(session)[f'opto_dir_{data_type}'], f'{session}_opto_tagging_png.pdf')\n",
    "#     if os.path.exists(pdf_dir) and not os.path.exists(output_pdf):\n",
    "#         print(session)\n",
    "#         combine_pdf_big(pdf_dir, output_pdf)\n",
    "# Parallel(n_jobs=4)(delayed(process)(session, data_type) for session in session_list[-14:-3])\n",
    "# # for session in session_list[-14:-3]:\n",
    "# #     try:\n",
    "# #         process(session, data_type)\n",
    "# #         plt.close('all')\n",
    "# #     except:\n",
    "# #         print(f'Failed to process {session}')"
   ]
  },
  {
   "cell_type": "code",
   "execution_count": 11,
   "metadata": {},
   "outputs": [],
   "source": [
    "# from joblib import Parallel, delayed\n",
    "# session_list = ['behavior_751181_2025-02-25_12-12-35',\n",
    "#                 'behavior_751181_2025-02-26_11-51-19']\n",
    "data_type = 'raw'\n",
    "def process(session, data_type='raw'):\n",
    "    plt.close('all')\n",
    "    session_dir = session_dirs(session)\n",
    "    print(session_dir[f'curated_dir_{data_type}'])\n",
    "    if session_dir[f'curated_dir_{data_type}'] is None:\n",
    "        return None\n",
    "    print(f'{session} start')\n",
    "    beh_and_time_alignment(session) # plot behavior, check alignment between behavior, sound, and ephys\n",
    "    plt.close('all')\n",
    "    ephys_opto_preprocessing(session, data_type, 'soma') \n",
    "    # # redo spiketimes if not aligned, make opto_table (laser time in nidaq); \n",
    "    # # generate a pkl file with opto_resp/lat to each condition\n",
    "    # plt.close('all')\n",
    "    # ephys_opto_crosscorr(session, data_type)\n",
    "    # # separate session into opto/beh, cal cross-correlation\n",
    "    # plt.close('all')\n",
    "    # opto_wf_preprocessing(session, data_type, 'soma', load_sorting_analyzer=True)\n",
    "    # recal wf based on conditions. (pre/post, power), cal similarity, euclidean distance, correlation with spont\n",
    "    # pay attention to difference early and late in the session\n",
    "    \n",
    "    # opto_plotting_session(session, data_type, 'soma', plot=True, resp_thresh=0.3, lat_thresh=0.02, save=True)    \n",
    "    # # save as pickle\n",
    "    # with open(os.path.join(session_dirs(session)[f'opto_dir_{data_type}'], f'{session}_opto_tagging_metrics.pkl'), 'wb') as f:\n",
    "    #     opto_tagging_df.to_pickle(f)\n",
    "    \n",
    "    # if '751004' in session:\n",
    "    #     plot_session_opto_drift(session, data_type, update_csv=False)\n",
    "    # else:     \n",
    "    #     plot_session_opto_drift(session, data_type, update_csv=True)\n",
    "    print(f'{session} stop')\n",
    "        \n",
    " \n",
    "# Parallel(n_jobs=6)(delayed(process)(session, data_type = data_type) for session in session_list[-13:])\n",
    "\n",
    "# for session in session_list[-10:]:\n",
    "#     print(session)\n",
    "#     session_dir = session_dirs(session)\n",
    "#     # if session_dir['curated_dir_curated'] is not None:\n",
    "#     process(session, data_type=data_type) \n",
    "#     # elif  session_dir['curated_dir_raw'] is not None:\n",
    "#     #     print('Raw')\n",
    "#     #     process(session, data_type='raw')\n",
    "# process(session_list[-7])\n",
    "        \n",
    " "
   ]
  },
  {
   "cell_type": "code",
   "execution_count": 6,
   "metadata": {},
   "outputs": [
    {
     "name": "stdout",
     "output_type": "stream",
     "text": [
      "Selected experiment1 recording1, length:4862.23\n",
      "/root/capsule/data/behavior_791691_2025-06-24_13-21-29_sorted/curated/experiment1_Record Node 101#Neuropix-PXI-100.ProbeA_recording1\n",
      "behavior_791691_2025-06-24_13-21-29 start\n",
      "Selected experiment1 recording1, length:4862.23\n",
      "behavior_791691_2025-06-24_13-21-29\n"
     ]
    },
    {
     "name": "stdout",
     "output_type": "stream",
     "text": [
      "behavior_791691_2025-06-24_13-21-29 stop\n",
      "behavior_784806_2025-06-17_14-59-23\n",
      "Selected experiment1 recording1, length:2944.58\n",
      "Selected experiment1 recording1, length:2944.58\n",
      "/root/capsule/data/behavior_784806_2025-06-17_14-59-23_sorted/curated/experiment1_Record Node 101#Neuropix-PXI-100.ProbeA_recording1\n",
      "behavior_784806_2025-06-17_14-59-23 start\n",
      "Selected experiment1 recording1, length:2944.58\n",
      "behavior_784806_2025-06-17_14-59-23\n",
      "behavior_784806_2025-06-17_14-59-23 stop\n",
      "behavior_784806_2025-06-18_13-39-50\n",
      "No raw session directory found for behavior_784806_2025-06-18_13-39-50.\n",
      "No raw session directory found for behavior_784806_2025-06-18_13-39-50.\n",
      "None\n",
      "behavior_784806_2025-06-20_13-39-16\n",
      "No raw session directory found for behavior_784806_2025-06-20_13-39-16.\n",
      "No raw session directory found for behavior_784806_2025-06-20_13-39-16.\n",
      "None\n",
      "behavior_791691_2025-06-24_13-21-29\n",
      "Selected experiment1 recording1, length:4862.23\n",
      "Selected experiment1 recording1, length:4862.23\n",
      "/root/capsule/data/behavior_791691_2025-06-24_13-21-29_sorted/curated/experiment1_Record Node 101#Neuropix-PXI-100.ProbeA_recording1\n",
      "behavior_791691_2025-06-24_13-21-29 start\n",
      "Selected experiment1 recording1, length:4862.23\n",
      "behavior_791691_2025-06-24_13-21-29\n",
      "behavior_791691_2025-06-24_13-21-29 stop\n",
      "behavior_791691_2025-06-25_14-06-10\n",
      "Selected experiment1 recording1, length:3910.93\n",
      "Selected experiment1 recording1, length:3910.93\n",
      "/root/capsule/data/behavior_791691_2025-06-25_14-06-10_sorted/curated/experiment1_Record Node 101#Neuropix-PXI-100.ProbeA_recording1\n",
      "behavior_791691_2025-06-25_14-06-10 start\n",
      "Selected experiment1 recording1, length:3910.93\n",
      "behavior_791691_2025-06-25_14-06-10\n",
      "behavior_791691_2025-06-25_14-06-10 stop\n",
      "behavior_791691_2025-06-26_13-39-26\n",
      "Selected experiment1 recording1, length:4926.98\n",
      "Selected experiment1 recording1, length:4926.98\n",
      "/root/capsule/data/behavior_791691_2025-06-26_13-39-26_sorted/curated/experiment1_Record Node 101#Neuropix-PXI-100.ProbeA_recording1\n",
      "behavior_791691_2025-06-26_13-39-26 start\n",
      "Selected experiment1 recording1, length:4926.98\n",
      "behavior_791691_2025-06-26_13-39-26\n",
      "behavior_791691_2025-06-26_13-39-26 stop\n",
      "behavior_791691_2025-06-27_13-54-30\n",
      "No raw session directory found for behavior_791691_2025-06-27_13-54-30.\n",
      "No raw session directory found for behavior_791691_2025-06-27_13-54-30.\n",
      "None\n",
      "behavior_784803_2025-07-01_13-58-26\n",
      "Selected experiment1 recording1, length:4097.49\n",
      "Selected experiment1 recording1, length:4097.49\n",
      "/root/capsule/data/behavior_784803_2025-07-01_13-58-26_sorted/curated/experiment1_Record Node 101#Neuropix-PXI-100.ProbeA_recording1\n",
      "behavior_784803_2025-07-01_13-58-26 start\n",
      "Selected experiment1 recording1, length:4097.49\n",
      "behavior_784803_2025-07-01_13-58-26\n",
      "behavior_784803_2025-07-01_13-58-26 stop\n",
      "behavior_784803_2025-07-02_13-41-41\n",
      "Selected experiment1 recording1, length:4350.40\n",
      "Selected experiment1 recording1, length:4350.40\n",
      "/root/capsule/data/behavior_784803_2025-07-02_13-41-41_sorted/curated/experiment1_Record Node 101#Neuropix-PXI-100.ProbeA_recording1\n",
      "behavior_784803_2025-07-02_13-41-41 start\n",
      "Selected experiment1 recording1, length:4350.40\n",
      "behavior_784803_2025-07-02_13-41-41\n",
      "behavior_784803_2025-07-02_13-41-41 stop\n",
      "behavior_784803_2025-07-03\n",
      "No raw session directory found for behavior_784803_2025-07-03.\n",
      "No raw session directory found for behavior_784803_2025-07-03.\n",
      "None\n",
      "Selected experiment1 recording1, length:2944.58\n",
      "/root/capsule/data/behavior_784806_2025-06-17_14-59-23_sorted/curated/experiment1_Record Node 101#Neuropix-PXI-100.ProbeA_recording1\n",
      "behavior_784806_2025-06-17_14-59-23 start\n",
      "behavior_784806_2025-06-17_14-59-23\n",
      "Selected experiment1 recording1, length:2944.58\n",
      "behavior_784806_2025-06-17_14-59-23 stop\n",
      "Selected experiment1 recording1, length:2944.58\n",
      "/root/capsule/data/behavior_784806_2025-06-17_14-59-23_sorted/curated/experiment1_Record Node 101#Neuropix-PXI-100.ProbeA_recording1\n",
      "behavior_784806_2025-06-17_14-59-23 start\n",
      "Selected experiment1 recording1, length:2944.58\n",
      "189 out of 565 units pass quality control\n",
      "{'samples_to_keep': [-30, 60], 'y_neighbors_to_keep': 3, 'orginal_loc': False}\n",
      "Selected experiment1 recording1, length:2944.58\n",
      "/root/capsule/data/behavior_784806_2025-06-17_14-59-23_sorted/curated/experiment1_Record Node 101#Neuropix-PXI-100.ProbeA_recording1\n",
      "behavior_784806_2025-06-17_14-59-23 start\n",
      "behavior_784806_2025-06-17_14-59-23\n",
      "Selected experiment1 recording1, length:2944.58\n",
      "behavior_784806_2025-06-17_14-59-23 stop\n",
      "Selected experiment1 recording1, length:2944.58\n",
      "/root/capsule/data/behavior_784806_2025-06-17_14-59-23_sorted/curated/experiment1_Record Node 101#Neuropix-PXI-100.ProbeA_recording1\n",
      "behavior_784806_2025-06-17_14-59-23 start\n",
      "Selected experiment1 recording1, length:2944.58\n",
      "189 out of 565 units pass quality control\n",
      "{'samples_to_keep': [-30, 60], 'y_neighbors_to_keep': 3, 'orginal_loc': False}\n"
     ]
    }
   ],
   "source": [
    "session = 'behavior_791691_2025-06-24_13-21-29'\n",
    "process(session)\n",
    "# session_dir = session_dirs(session)"
   ]
  },
  {
   "cell_type": "code",
   "execution_count": 8,
   "metadata": {},
   "outputs": [
    {
     "data": {
      "text/plain": [
       "'/root/capsule/data/behavior_791691_2025-06-24_13-21-29_sorted/nwb/behavior_791691_2025-06-24_13-21-26_experiment2_recording1.nwb'"
      ]
     },
     "execution_count": 8,
     "metadata": {},
     "output_type": "execute_result"
    }
   ],
   "source": [
    "session_dir['nwb_dir_raw']"
   ]
  },
  {
   "cell_type": "code",
   "execution_count": 3,
   "metadata": {},
   "outputs": [],
   "source": [
    "session = 'behavior_782394_2025-04-22_10-53-28'\n",
    "session_dir = session_dirs(session)"
   ]
  },
  {
   "cell_type": "code",
   "execution_count": 4,
   "metadata": {},
   "outputs": [
    {
     "data": {
      "text/plain": [
       "'/root/capsule/data/behavior_782394_2025-04-22_10-53-28_sorted/curated/experiment1_Record Node 104#Neuropix-PXI-100.ProbeA_recording1'"
      ]
     },
     "execution_count": 4,
     "metadata": {},
     "output_type": "execute_result"
    }
   ],
   "source": [
    "session_dir['curated_dir_raw']"
   ]
  },
  {
   "cell_type": "code",
   "execution_count": null,
   "metadata": {},
   "outputs": [
    {
     "data": {
      "text/plain": [
       "True"
      ]
     },
     "execution_count": 9,
     "metadata": {},
     "output_type": "execute_result"
    }
   ],
   "source": [
    "os.path.exists(session_dir['sorted_dir_raw'])"
   ]
  },
  {
   "cell_type": "code",
   "execution_count": null,
   "metadata": {},
   "outputs": [
    {
     "data": {
      "text/plain": [
       "'behavior_785956_2025-05-23_13-45-21'"
      ]
     },
     "execution_count": 8,
     "metadata": {},
     "output_type": "execute_result"
    }
   ],
   "source": [
    "session"
   ]
  },
  {
   "cell_type": "code",
   "execution_count": null,
   "metadata": {},
   "outputs": [
    {
     "name": "stdout",
     "output_type": "stream",
     "text": [
      "behavior_758018_2025-03-19_11-16-44 start\n",
      "107 out of 201 units pass quality control\n",
      "{'samples_to_keep': [-30, 60], 'y_neighbors_to_keep': 3, 'orginal_loc': False}\n"
     ]
    },
    {
     "ename": "KeyboardInterrupt",
     "evalue": "",
     "output_type": "error",
     "traceback": [
      "\u001b[0;31m---------------------------------------------------------------------------\u001b[0m",
      "\u001b[0;31mKeyboardInterrupt\u001b[0m                         Traceback (most recent call last)",
      "\u001b[1;32m/root/capsule/code/beh_ephys_analysis/beh_ephys_processing.ipynb Cell 5\u001b[0m line \u001b[0;36m1\n\u001b[0;32m----> <a href='vscode-notebook-cell://codeocean.allenneuraldynamics.org/root/capsule/code/beh_ephys_analysis/beh_ephys_processing.ipynb#X35sdnNjb2RlLXJlbW90ZQ%3D%3D?line=0'>1</a>\u001b[0m process(\u001b[39m'\u001b[39;49m\u001b[39mbehavior_758018_2025-03-19_11-16-44\u001b[39;49m\u001b[39m'\u001b[39;49m, data_type\u001b[39m=\u001b[39;49m\u001b[39m'\u001b[39;49m\u001b[39mraw\u001b[39;49m\u001b[39m'\u001b[39;49m)\n",
      "\u001b[1;32m/root/capsule/code/beh_ephys_analysis/beh_ephys_processing.ipynb Cell 5\u001b[0m line \u001b[0;36m2\n\u001b[1;32m     <a href='vscode-notebook-cell://codeocean.allenneuraldynamics.org/root/capsule/code/beh_ephys_analysis/beh_ephys_processing.ipynb#X35sdnNjb2RlLXJlbW90ZQ%3D%3D?line=13'>14</a>\u001b[0m ephys_opto_crosscorr(session, data_type)\n\u001b[1;32m     <a href='vscode-notebook-cell://codeocean.allenneuraldynamics.org/root/capsule/code/beh_ephys_analysis/beh_ephys_processing.ipynb#X35sdnNjb2RlLXJlbW90ZQ%3D%3D?line=14'>15</a>\u001b[0m \u001b[39m# # separate session into opto/beh, cal cross-correlation\u001b[39;00m\n\u001b[1;32m     <a href='vscode-notebook-cell://codeocean.allenneuraldynamics.org/root/capsule/code/beh_ephys_analysis/beh_ephys_processing.ipynb#X35sdnNjb2RlLXJlbW90ZQ%3D%3D?line=15'>16</a>\u001b[0m \u001b[39m# plt.close('all')\u001b[39;00m\n\u001b[1;32m     <a href='vscode-notebook-cell://codeocean.allenneuraldynamics.org/root/capsule/code/beh_ephys_analysis/beh_ephys_processing.ipynb#X35sdnNjb2RlLXJlbW90ZQ%3D%3D?line=16'>17</a>\u001b[0m \u001b[39m# opto_wf_preprocessing(session, data_type, 'soma', load_sorting_analyzer=True)\u001b[39;00m\n\u001b[1;32m     <a href='vscode-notebook-cell://codeocean.allenneuraldynamics.org/root/capsule/code/beh_ephys_analysis/beh_ephys_processing.ipynb#X35sdnNjb2RlLXJlbW90ZQ%3D%3D?line=17'>18</a>\u001b[0m \u001b[39m# recal wf based on conditions. (pre/post, power), cal similarity, euclidean distance, correlation with spont\u001b[39;00m\n\u001b[1;32m     <a href='vscode-notebook-cell://codeocean.allenneuraldynamics.org/root/capsule/code/beh_ephys_analysis/beh_ephys_processing.ipynb#X35sdnNjb2RlLXJlbW90ZQ%3D%3D?line=18'>19</a>\u001b[0m \u001b[39m# pay attention to difference early and late in the session\u001b[39;00m\n\u001b[0;32m---> <a href='vscode-notebook-cell://codeocean.allenneuraldynamics.org/root/capsule/code/beh_ephys_analysis/beh_ephys_processing.ipynb#X35sdnNjb2RlLXJlbW90ZQ%3D%3D?line=20'>21</a>\u001b[0m opto_plotting_session(session, data_type, \u001b[39m'\u001b[39;49m\u001b[39msoma\u001b[39;49m\u001b[39m'\u001b[39;49m, plot\u001b[39m=\u001b[39;49m\u001b[39mTrue\u001b[39;49;00m, resp_thresh\u001b[39m=\u001b[39;49m\u001b[39m0.3\u001b[39;49m, lat_thresh\u001b[39m=\u001b[39;49m\u001b[39m0.02\u001b[39;49m, save\u001b[39m=\u001b[39;49m\u001b[39mTrue\u001b[39;49;00m)    \n\u001b[1;32m     <a href='vscode-notebook-cell://codeocean.allenneuraldynamics.org/root/capsule/code/beh_ephys_analysis/beh_ephys_processing.ipynb#X35sdnNjb2RlLXJlbW90ZQ%3D%3D?line=21'>22</a>\u001b[0m \u001b[39m# # save as pickle\u001b[39;00m\n\u001b[1;32m     <a href='vscode-notebook-cell://codeocean.allenneuraldynamics.org/root/capsule/code/beh_ephys_analysis/beh_ephys_processing.ipynb#X35sdnNjb2RlLXJlbW90ZQ%3D%3D?line=22'>23</a>\u001b[0m \u001b[39m# with open(os.path.join(session_dirs(session)[f'opto_dir_{data_type}'], f'{session}_opto_tagging_metrics.pkl'), 'wb') as f:\u001b[39;00m\n\u001b[1;32m     <a href='vscode-notebook-cell://codeocean.allenneuraldynamics.org/root/capsule/code/beh_ephys_analysis/beh_ephys_processing.ipynb#X35sdnNjb2RlLXJlbW90ZQ%3D%3D?line=23'>24</a>\u001b[0m \u001b[39m#     opto_tagging_df.to_pickle(f)\u001b[39;00m\n\u001b[0;32m   (...)\u001b[0m\n\u001b[1;32m     <a href='vscode-notebook-cell://codeocean.allenneuraldynamics.org/root/capsule/code/beh_ephys_analysis/beh_ephys_processing.ipynb#X35sdnNjb2RlLXJlbW90ZQ%3D%3D?line=27'>28</a>\u001b[0m \u001b[39m# else:     \u001b[39;00m\n\u001b[1;32m     <a href='vscode-notebook-cell://codeocean.allenneuraldynamics.org/root/capsule/code/beh_ephys_analysis/beh_ephys_processing.ipynb#X35sdnNjb2RlLXJlbW90ZQ%3D%3D?line=28'>29</a>\u001b[0m \u001b[39m#     plot_session_opto_drift(session, data_type, update_csv=True)\u001b[39;00m\n\u001b[1;32m     <a href='vscode-notebook-cell://codeocean.allenneuraldynamics.org/root/capsule/code/beh_ephys_analysis/beh_ephys_processing.ipynb#X35sdnNjb2RlLXJlbW90ZQ%3D%3D?line=29'>30</a>\u001b[0m \u001b[39mprint\u001b[39m(\u001b[39mf\u001b[39m\u001b[39m'\u001b[39m\u001b[39m{\u001b[39;00msession\u001b[39m}\u001b[39;00m\u001b[39m stop\u001b[39m\u001b[39m'\u001b[39m)\n",
      "File \u001b[0;32m~/capsule/code/beh_ephys_analysis/opto_tagging.py:508\u001b[0m, in \u001b[0;36mopto_plotting_session\u001b[0;34m(session, data_type, target, resp_thresh, lat_thresh, plot, target_unit_ids, ephys_cut, save)\u001b[0m\n\u001b[1;32m    501\u001b[0m fig, opto_tagging_dict_curr, opto_tagging_df_curr \u001b[39m=\u001b[39m opto_plotting_unit(unit_id, spiketimes_curr, spike_amplitude_curr, \n\u001b[1;32m    502\u001b[0m                                                     waveforms[unit_id], opto_wf, qc_dict, crosscorr,\n\u001b[1;32m    503\u001b[0m                                                     opto_responses[\u001b[39m'\u001b[39m\u001b[39mresp_p\u001b[39m\u001b[39m'\u001b[39m][unit_id], opto_responses[\u001b[39m'\u001b[39m\u001b[39mresp_lat\u001b[39m\u001b[39m'\u001b[39m][unit_id], \n\u001b[1;32m    504\u001b[0m                                                     opto_df_curr, opto_info, qm,\n\u001b[1;32m    505\u001b[0m                                                     waveform_params, \n\u001b[1;32m    506\u001b[0m                                                     dim_1 \u001b[39m=\u001b[39m \u001b[39m'\u001b[39m\u001b[39mpowers\u001b[39m\u001b[39m'\u001b[39m, resp_thresh\u001b[39m=\u001b[39mresp_thresh, lat_thresh\u001b[39m=\u001b[39mlat_thresh, plot\u001b[39m=\u001b[39mplot)\n\u001b[1;32m    507\u001b[0m \u001b[39mif\u001b[39;00m fig \u001b[39mis\u001b[39;00m \u001b[39mnot\u001b[39;00m \u001b[39mNone\u001b[39;00m:\n\u001b[0;32m--> 508\u001b[0m     fig\u001b[39m.\u001b[39;49msavefig(os\u001b[39m.\u001b[39;49mpath\u001b[39m.\u001b[39;49mjoin(session_dir[\u001b[39mf\u001b[39;49m\u001b[39m'\u001b[39;49m\u001b[39mopto_dir_fig_\u001b[39;49m\u001b[39m{\u001b[39;49;00mdata_type\u001b[39m}\u001b[39;49;00m\u001b[39m'\u001b[39;49m], \u001b[39mf\u001b[39;49m\u001b[39m'\u001b[39;49m\u001b[39munit_\u001b[39;49m\u001b[39m{\u001b[39;49;00munit_id\u001b[39m}\u001b[39;49;00m\u001b[39m_pulse_width_\u001b[39;49m\u001b[39m{\u001b[39;49;00mpulse_width\u001b[39m}\u001b[39;49;00m\u001b[39m_opto_tagging.pdf\u001b[39;49m\u001b[39m'\u001b[39;49m))\n\u001b[1;32m    509\u001b[0m plt\u001b[39m.\u001b[39mclose(\u001b[39m'\u001b[39m\u001b[39mall\u001b[39m\u001b[39m'\u001b[39m)\n\u001b[1;32m    510\u001b[0m opto_tagging_df_sess \u001b[39m=\u001b[39m pd\u001b[39m.\u001b[39mconcat([opto_tagging_df_sess, pd\u001b[39m.\u001b[39mDataFrame([opto_tagging_dict_curr])], ignore_index\u001b[39m=\u001b[39m\u001b[39mTrue\u001b[39;00m)\n",
      "File \u001b[0;32m/opt/conda/lib/python3.10/site-packages/matplotlib/figure.py:3395\u001b[0m, in \u001b[0;36mFigure.savefig\u001b[0;34m(self, fname, transparent, **kwargs)\u001b[0m\n\u001b[1;32m   3393\u001b[0m     \u001b[39mfor\u001b[39;00m ax \u001b[39min\u001b[39;00m \u001b[39mself\u001b[39m\u001b[39m.\u001b[39maxes:\n\u001b[1;32m   3394\u001b[0m         _recursively_make_axes_transparent(stack, ax)\n\u001b[0;32m-> 3395\u001b[0m \u001b[39mself\u001b[39;49m\u001b[39m.\u001b[39;49mcanvas\u001b[39m.\u001b[39;49mprint_figure(fname, \u001b[39m*\u001b[39;49m\u001b[39m*\u001b[39;49mkwargs)\n",
      "File \u001b[0;32m/opt/conda/lib/python3.10/site-packages/matplotlib/backend_bases.py:2204\u001b[0m, in \u001b[0;36mFigureCanvasBase.print_figure\u001b[0;34m(self, filename, dpi, facecolor, edgecolor, orientation, format, bbox_inches, pad_inches, bbox_extra_artists, backend, **kwargs)\u001b[0m\n\u001b[1;32m   2200\u001b[0m \u001b[39mtry\u001b[39;00m:\n\u001b[1;32m   2201\u001b[0m     \u001b[39m# _get_renderer may change the figure dpi (as vector formats\u001b[39;00m\n\u001b[1;32m   2202\u001b[0m     \u001b[39m# force the figure dpi to 72), so we need to set it again here.\u001b[39;00m\n\u001b[1;32m   2203\u001b[0m     \u001b[39mwith\u001b[39;00m cbook\u001b[39m.\u001b[39m_setattr_cm(\u001b[39mself\u001b[39m\u001b[39m.\u001b[39mfigure, dpi\u001b[39m=\u001b[39mdpi):\n\u001b[0;32m-> 2204\u001b[0m         result \u001b[39m=\u001b[39m print_method(\n\u001b[1;32m   2205\u001b[0m             filename,\n\u001b[1;32m   2206\u001b[0m             facecolor\u001b[39m=\u001b[39;49mfacecolor,\n\u001b[1;32m   2207\u001b[0m             edgecolor\u001b[39m=\u001b[39;49medgecolor,\n\u001b[1;32m   2208\u001b[0m             orientation\u001b[39m=\u001b[39;49morientation,\n\u001b[1;32m   2209\u001b[0m             bbox_inches_restore\u001b[39m=\u001b[39;49m_bbox_inches_restore,\n\u001b[1;32m   2210\u001b[0m             \u001b[39m*\u001b[39;49m\u001b[39m*\u001b[39;49mkwargs)\n\u001b[1;32m   2211\u001b[0m \u001b[39mfinally\u001b[39;00m:\n\u001b[1;32m   2212\u001b[0m     \u001b[39mif\u001b[39;00m bbox_inches \u001b[39mand\u001b[39;00m restore_bbox:\n",
      "File \u001b[0;32m/opt/conda/lib/python3.10/site-packages/matplotlib/backend_bases.py:2054\u001b[0m, in \u001b[0;36mFigureCanvasBase._switch_canvas_and_return_print_method.<locals>.<lambda>\u001b[0;34m(*args, **kwargs)\u001b[0m\n\u001b[1;32m   2050\u001b[0m     optional_kws \u001b[39m=\u001b[39m {  \u001b[39m# Passed by print_figure for other renderers.\u001b[39;00m\n\u001b[1;32m   2051\u001b[0m         \u001b[39m\"\u001b[39m\u001b[39mdpi\u001b[39m\u001b[39m\"\u001b[39m, \u001b[39m\"\u001b[39m\u001b[39mfacecolor\u001b[39m\u001b[39m\"\u001b[39m, \u001b[39m\"\u001b[39m\u001b[39medgecolor\u001b[39m\u001b[39m\"\u001b[39m, \u001b[39m\"\u001b[39m\u001b[39morientation\u001b[39m\u001b[39m\"\u001b[39m,\n\u001b[1;32m   2052\u001b[0m         \u001b[39m\"\u001b[39m\u001b[39mbbox_inches_restore\u001b[39m\u001b[39m\"\u001b[39m}\n\u001b[1;32m   2053\u001b[0m     skip \u001b[39m=\u001b[39m optional_kws \u001b[39m-\u001b[39m {\u001b[39m*\u001b[39minspect\u001b[39m.\u001b[39msignature(meth)\u001b[39m.\u001b[39mparameters}\n\u001b[0;32m-> 2054\u001b[0m     print_method \u001b[39m=\u001b[39m functools\u001b[39m.\u001b[39mwraps(meth)(\u001b[39mlambda\u001b[39;00m \u001b[39m*\u001b[39margs, \u001b[39m*\u001b[39m\u001b[39m*\u001b[39mkwargs: meth(\n\u001b[1;32m   2055\u001b[0m         \u001b[39m*\u001b[39;49margs, \u001b[39m*\u001b[39;49m\u001b[39m*\u001b[39;49m{k: v \u001b[39mfor\u001b[39;49;00m k, v \u001b[39min\u001b[39;49;00m kwargs\u001b[39m.\u001b[39;49mitems() \u001b[39mif\u001b[39;49;00m k \u001b[39mnot\u001b[39;49;00m \u001b[39min\u001b[39;49;00m skip}))\n\u001b[1;32m   2056\u001b[0m \u001b[39melse\u001b[39;00m:  \u001b[39m# Let third-parties do as they see fit.\u001b[39;00m\n\u001b[1;32m   2057\u001b[0m     print_method \u001b[39m=\u001b[39m meth\n",
      "File \u001b[0;32m/opt/conda/lib/python3.10/site-packages/matplotlib/backends/backend_pdf.py:2799\u001b[0m, in \u001b[0;36mFigureCanvasPdf.print_pdf\u001b[0;34m(self, filename, bbox_inches_restore, metadata)\u001b[0m\n\u001b[1;32m   2794\u001b[0m file\u001b[39m.\u001b[39mnewPage(width, height)\n\u001b[1;32m   2795\u001b[0m renderer \u001b[39m=\u001b[39m MixedModeRenderer(\n\u001b[1;32m   2796\u001b[0m     \u001b[39mself\u001b[39m\u001b[39m.\u001b[39mfigure, width, height, dpi,\n\u001b[1;32m   2797\u001b[0m     RendererPdf(file, dpi, height, width),\n\u001b[1;32m   2798\u001b[0m     bbox_inches_restore\u001b[39m=\u001b[39mbbox_inches_restore)\n\u001b[0;32m-> 2799\u001b[0m \u001b[39mself\u001b[39;49m\u001b[39m.\u001b[39;49mfigure\u001b[39m.\u001b[39;49mdraw(renderer)\n\u001b[1;32m   2800\u001b[0m renderer\u001b[39m.\u001b[39mfinalize()\n\u001b[1;32m   2801\u001b[0m \u001b[39mif\u001b[39;00m \u001b[39mnot\u001b[39;00m \u001b[39misinstance\u001b[39m(filename, PdfPages):\n",
      "File \u001b[0;32m/opt/conda/lib/python3.10/site-packages/matplotlib/artist.py:95\u001b[0m, in \u001b[0;36m_finalize_rasterization.<locals>.draw_wrapper\u001b[0;34m(artist, renderer, *args, **kwargs)\u001b[0m\n\u001b[1;32m     93\u001b[0m \u001b[39m@wraps\u001b[39m(draw)\n\u001b[1;32m     94\u001b[0m \u001b[39mdef\u001b[39;00m\u001b[39m \u001b[39m\u001b[39mdraw_wrapper\u001b[39m(artist, renderer, \u001b[39m*\u001b[39margs, \u001b[39m*\u001b[39m\u001b[39m*\u001b[39mkwargs):\n\u001b[0;32m---> 95\u001b[0m     result \u001b[39m=\u001b[39m draw(artist, renderer, \u001b[39m*\u001b[39;49margs, \u001b[39m*\u001b[39;49m\u001b[39m*\u001b[39;49mkwargs)\n\u001b[1;32m     96\u001b[0m     \u001b[39mif\u001b[39;00m renderer\u001b[39m.\u001b[39m_rasterizing:\n\u001b[1;32m     97\u001b[0m         renderer\u001b[39m.\u001b[39mstop_rasterizing()\n",
      "File \u001b[0;32m/opt/conda/lib/python3.10/site-packages/matplotlib/artist.py:72\u001b[0m, in \u001b[0;36mallow_rasterization.<locals>.draw_wrapper\u001b[0;34m(artist, renderer)\u001b[0m\n\u001b[1;32m     69\u001b[0m     \u001b[39mif\u001b[39;00m artist\u001b[39m.\u001b[39mget_agg_filter() \u001b[39mis\u001b[39;00m \u001b[39mnot\u001b[39;00m \u001b[39mNone\u001b[39;00m:\n\u001b[1;32m     70\u001b[0m         renderer\u001b[39m.\u001b[39mstart_filter()\n\u001b[0;32m---> 72\u001b[0m     \u001b[39mreturn\u001b[39;00m draw(artist, renderer)\n\u001b[1;32m     73\u001b[0m \u001b[39mfinally\u001b[39;00m:\n\u001b[1;32m     74\u001b[0m     \u001b[39mif\u001b[39;00m artist\u001b[39m.\u001b[39mget_agg_filter() \u001b[39mis\u001b[39;00m \u001b[39mnot\u001b[39;00m \u001b[39mNone\u001b[39;00m:\n",
      "File \u001b[0;32m/opt/conda/lib/python3.10/site-packages/matplotlib/figure.py:3162\u001b[0m, in \u001b[0;36mFigure.draw\u001b[0;34m(self, renderer)\u001b[0m\n\u001b[1;32m   3159\u001b[0m             \u001b[39m# ValueError can occur when resizing a window.\u001b[39;00m\n\u001b[1;32m   3161\u001b[0m     \u001b[39mself\u001b[39m\u001b[39m.\u001b[39mpatch\u001b[39m.\u001b[39mdraw(renderer)\n\u001b[0;32m-> 3162\u001b[0m     mimage\u001b[39m.\u001b[39;49m_draw_list_compositing_images(\n\u001b[1;32m   3163\u001b[0m         renderer, \u001b[39mself\u001b[39;49m, artists, \u001b[39mself\u001b[39;49m\u001b[39m.\u001b[39;49msuppressComposite)\n\u001b[1;32m   3165\u001b[0m     renderer\u001b[39m.\u001b[39mclose_group(\u001b[39m'\u001b[39m\u001b[39mfigure\u001b[39m\u001b[39m'\u001b[39m)\n\u001b[1;32m   3166\u001b[0m \u001b[39mfinally\u001b[39;00m:\n",
      "File \u001b[0;32m/opt/conda/lib/python3.10/site-packages/matplotlib/image.py:132\u001b[0m, in \u001b[0;36m_draw_list_compositing_images\u001b[0;34m(renderer, parent, artists, suppress_composite)\u001b[0m\n\u001b[1;32m    130\u001b[0m \u001b[39mif\u001b[39;00m not_composite \u001b[39mor\u001b[39;00m \u001b[39mnot\u001b[39;00m has_images:\n\u001b[1;32m    131\u001b[0m     \u001b[39mfor\u001b[39;00m a \u001b[39min\u001b[39;00m artists:\n\u001b[0;32m--> 132\u001b[0m         a\u001b[39m.\u001b[39;49mdraw(renderer)\n\u001b[1;32m    133\u001b[0m \u001b[39melse\u001b[39;00m:\n\u001b[1;32m    134\u001b[0m     \u001b[39m# Composite any adjacent images together\u001b[39;00m\n\u001b[1;32m    135\u001b[0m     image_group \u001b[39m=\u001b[39m []\n",
      "File \u001b[0;32m/opt/conda/lib/python3.10/site-packages/matplotlib/artist.py:72\u001b[0m, in \u001b[0;36mallow_rasterization.<locals>.draw_wrapper\u001b[0;34m(artist, renderer)\u001b[0m\n\u001b[1;32m     69\u001b[0m     \u001b[39mif\u001b[39;00m artist\u001b[39m.\u001b[39mget_agg_filter() \u001b[39mis\u001b[39;00m \u001b[39mnot\u001b[39;00m \u001b[39mNone\u001b[39;00m:\n\u001b[1;32m     70\u001b[0m         renderer\u001b[39m.\u001b[39mstart_filter()\n\u001b[0;32m---> 72\u001b[0m     \u001b[39mreturn\u001b[39;00m draw(artist, renderer)\n\u001b[1;32m     73\u001b[0m \u001b[39mfinally\u001b[39;00m:\n\u001b[1;32m     74\u001b[0m     \u001b[39mif\u001b[39;00m artist\u001b[39m.\u001b[39mget_agg_filter() \u001b[39mis\u001b[39;00m \u001b[39mnot\u001b[39;00m \u001b[39mNone\u001b[39;00m:\n",
      "File \u001b[0;32m/opt/conda/lib/python3.10/site-packages/matplotlib/axes/_base.py:3143\u001b[0m, in \u001b[0;36m_AxesBase.draw\u001b[0;34m(self, renderer)\u001b[0m\n\u001b[1;32m   3140\u001b[0m \u001b[39mif\u001b[39;00m artists_rasterized:\n\u001b[1;32m   3141\u001b[0m     _draw_rasterized(\u001b[39mself\u001b[39m\u001b[39m.\u001b[39mfigure, artists_rasterized, renderer)\n\u001b[0;32m-> 3143\u001b[0m mimage\u001b[39m.\u001b[39;49m_draw_list_compositing_images(\n\u001b[1;32m   3144\u001b[0m     renderer, \u001b[39mself\u001b[39;49m, artists, \u001b[39mself\u001b[39;49m\u001b[39m.\u001b[39;49mfigure\u001b[39m.\u001b[39;49msuppressComposite)\n\u001b[1;32m   3146\u001b[0m renderer\u001b[39m.\u001b[39mclose_group(\u001b[39m'\u001b[39m\u001b[39maxes\u001b[39m\u001b[39m'\u001b[39m)\n\u001b[1;32m   3147\u001b[0m \u001b[39mself\u001b[39m\u001b[39m.\u001b[39mstale \u001b[39m=\u001b[39m \u001b[39mFalse\u001b[39;00m\n",
      "File \u001b[0;32m/opt/conda/lib/python3.10/site-packages/matplotlib/image.py:132\u001b[0m, in \u001b[0;36m_draw_list_compositing_images\u001b[0;34m(renderer, parent, artists, suppress_composite)\u001b[0m\n\u001b[1;32m    130\u001b[0m \u001b[39mif\u001b[39;00m not_composite \u001b[39mor\u001b[39;00m \u001b[39mnot\u001b[39;00m has_images:\n\u001b[1;32m    131\u001b[0m     \u001b[39mfor\u001b[39;00m a \u001b[39min\u001b[39;00m artists:\n\u001b[0;32m--> 132\u001b[0m         a\u001b[39m.\u001b[39;49mdraw(renderer)\n\u001b[1;32m    133\u001b[0m \u001b[39melse\u001b[39;00m:\n\u001b[1;32m    134\u001b[0m     \u001b[39m# Composite any adjacent images together\u001b[39;00m\n\u001b[1;32m    135\u001b[0m     image_group \u001b[39m=\u001b[39m []\n",
      "File \u001b[0;32m/opt/conda/lib/python3.10/site-packages/matplotlib/artist.py:72\u001b[0m, in \u001b[0;36mallow_rasterization.<locals>.draw_wrapper\u001b[0;34m(artist, renderer)\u001b[0m\n\u001b[1;32m     69\u001b[0m     \u001b[39mif\u001b[39;00m artist\u001b[39m.\u001b[39mget_agg_filter() \u001b[39mis\u001b[39;00m \u001b[39mnot\u001b[39;00m \u001b[39mNone\u001b[39;00m:\n\u001b[1;32m     70\u001b[0m         renderer\u001b[39m.\u001b[39mstart_filter()\n\u001b[0;32m---> 72\u001b[0m     \u001b[39mreturn\u001b[39;00m draw(artist, renderer)\n\u001b[1;32m     73\u001b[0m \u001b[39mfinally\u001b[39;00m:\n\u001b[1;32m     74\u001b[0m     \u001b[39mif\u001b[39;00m artist\u001b[39m.\u001b[39mget_agg_filter() \u001b[39mis\u001b[39;00m \u001b[39mnot\u001b[39;00m \u001b[39mNone\u001b[39;00m:\n",
      "File \u001b[0;32m/opt/conda/lib/python3.10/site-packages/matplotlib/collections.py:1005\u001b[0m, in \u001b[0;36m_CollectionWithSizes.draw\u001b[0;34m(self, renderer)\u001b[0m\n\u001b[1;32m   1002\u001b[0m \u001b[39m@artist\u001b[39m\u001b[39m.\u001b[39mallow_rasterization\n\u001b[1;32m   1003\u001b[0m \u001b[39mdef\u001b[39;00m\u001b[39m \u001b[39m\u001b[39mdraw\u001b[39m(\u001b[39mself\u001b[39m, renderer):\n\u001b[1;32m   1004\u001b[0m     \u001b[39mself\u001b[39m\u001b[39m.\u001b[39mset_sizes(\u001b[39mself\u001b[39m\u001b[39m.\u001b[39m_sizes, \u001b[39mself\u001b[39m\u001b[39m.\u001b[39mfigure\u001b[39m.\u001b[39mdpi)\n\u001b[0;32m-> 1005\u001b[0m     \u001b[39msuper\u001b[39;49m()\u001b[39m.\u001b[39;49mdraw(renderer)\n",
      "File \u001b[0;32m/opt/conda/lib/python3.10/site-packages/matplotlib/artist.py:72\u001b[0m, in \u001b[0;36mallow_rasterization.<locals>.draw_wrapper\u001b[0;34m(artist, renderer)\u001b[0m\n\u001b[1;32m     69\u001b[0m     \u001b[39mif\u001b[39;00m artist\u001b[39m.\u001b[39mget_agg_filter() \u001b[39mis\u001b[39;00m \u001b[39mnot\u001b[39;00m \u001b[39mNone\u001b[39;00m:\n\u001b[1;32m     70\u001b[0m         renderer\u001b[39m.\u001b[39mstart_filter()\n\u001b[0;32m---> 72\u001b[0m     \u001b[39mreturn\u001b[39;00m draw(artist, renderer)\n\u001b[1;32m     73\u001b[0m \u001b[39mfinally\u001b[39;00m:\n\u001b[1;32m     74\u001b[0m     \u001b[39mif\u001b[39;00m artist\u001b[39m.\u001b[39mget_agg_filter() \u001b[39mis\u001b[39;00m \u001b[39mnot\u001b[39;00m \u001b[39mNone\u001b[39;00m:\n",
      "File \u001b[0;32m/opt/conda/lib/python3.10/site-packages/matplotlib/collections.py:426\u001b[0m, in \u001b[0;36mCollection.draw\u001b[0;34m(self, renderer)\u001b[0m\n\u001b[1;32m    417\u001b[0m         ipaths, ilinestyles \u001b[39m=\u001b[39m \u001b[39mself\u001b[39m\u001b[39m.\u001b[39m_get_inverse_paths_linestyles()\n\u001b[1;32m    418\u001b[0m         renderer\u001b[39m.\u001b[39mdraw_path_collection(\n\u001b[1;32m    419\u001b[0m             gc, transform\u001b[39m.\u001b[39mfrozen(), ipaths,\n\u001b[1;32m    420\u001b[0m             \u001b[39mself\u001b[39m\u001b[39m.\u001b[39mget_transforms(), offsets, offset_trf,\n\u001b[0;32m   (...)\u001b[0m\n\u001b[1;32m    423\u001b[0m             \u001b[39mself\u001b[39m\u001b[39m.\u001b[39m_antialiaseds, \u001b[39mself\u001b[39m\u001b[39m.\u001b[39m_urls,\n\u001b[1;32m    424\u001b[0m             \u001b[39m\"\u001b[39m\u001b[39mscreen\u001b[39m\u001b[39m\"\u001b[39m)\n\u001b[0;32m--> 426\u001b[0m     renderer\u001b[39m.\u001b[39;49mdraw_path_collection(\n\u001b[1;32m    427\u001b[0m         gc, transform\u001b[39m.\u001b[39;49mfrozen(), paths,\n\u001b[1;32m    428\u001b[0m         \u001b[39mself\u001b[39;49m\u001b[39m.\u001b[39;49mget_transforms(), offsets, offset_trf,\n\u001b[1;32m    429\u001b[0m         \u001b[39mself\u001b[39;49m\u001b[39m.\u001b[39;49mget_facecolor(), \u001b[39mself\u001b[39;49m\u001b[39m.\u001b[39;49mget_edgecolor(),\n\u001b[1;32m    430\u001b[0m         \u001b[39mself\u001b[39;49m\u001b[39m.\u001b[39;49m_linewidths, \u001b[39mself\u001b[39;49m\u001b[39m.\u001b[39;49m_linestyles,\n\u001b[1;32m    431\u001b[0m         \u001b[39mself\u001b[39;49m\u001b[39m.\u001b[39;49m_antialiaseds, \u001b[39mself\u001b[39;49m\u001b[39m.\u001b[39;49m_urls,\n\u001b[1;32m    432\u001b[0m         \u001b[39m\"\u001b[39;49m\u001b[39mscreen\u001b[39;49m\u001b[39m\"\u001b[39;49m)  \u001b[39m# offset_position, kept for backcompat.\u001b[39;00m\n\u001b[1;32m    434\u001b[0m gc\u001b[39m.\u001b[39mrestore()\n\u001b[1;32m    435\u001b[0m renderer\u001b[39m.\u001b[39mclose_group(\u001b[39mself\u001b[39m\u001b[39m.\u001b[39m\u001b[39m__class__\u001b[39m\u001b[39m.\u001b[39m\u001b[39m__name__\u001b[39m)\n",
      "File \u001b[0;32m/opt/conda/lib/python3.10/site-packages/matplotlib/backends/backend_pdf.py:2090\u001b[0m, in \u001b[0;36mRendererPdf.draw_path_collection\u001b[0;34m(self, gc, master_transform, paths, all_transforms, offsets, offset_trans, facecolors, edgecolors, linewidths, linestyles, antialiaseds, urls, offset_position)\u001b[0m\n\u001b[1;32m   2084\u001b[0m lastx, lasty \u001b[39m=\u001b[39m \u001b[39m0\u001b[39m, \u001b[39m0\u001b[39m\n\u001b[1;32m   2085\u001b[0m \u001b[39mfor\u001b[39;00m xo, yo, path_id, gc0, rgbFace \u001b[39min\u001b[39;00m \u001b[39mself\u001b[39m\u001b[39m.\u001b[39m_iter_collection(\n\u001b[1;32m   2086\u001b[0m         gc, path_codes, offsets, offset_trans,\n\u001b[1;32m   2087\u001b[0m         facecolors, edgecolors, linewidths, linestyles,\n\u001b[1;32m   2088\u001b[0m         antialiaseds, urls, offset_position):\n\u001b[0;32m-> 2090\u001b[0m     \u001b[39mself\u001b[39;49m\u001b[39m.\u001b[39;49mcheck_gc(gc0, rgbFace)\n\u001b[1;32m   2091\u001b[0m     dx, dy \u001b[39m=\u001b[39m xo \u001b[39m-\u001b[39m lastx, yo \u001b[39m-\u001b[39m lasty\n\u001b[1;32m   2092\u001b[0m     output(\u001b[39m1\u001b[39m, \u001b[39m0\u001b[39m, \u001b[39m0\u001b[39m, \u001b[39m1\u001b[39m, dx, dy, Op\u001b[39m.\u001b[39mconcat_matrix, path_id,\n\u001b[1;32m   2093\u001b[0m            Op\u001b[39m.\u001b[39muse_xobject)\n",
      "File \u001b[0;32m/opt/conda/lib/python3.10/site-packages/matplotlib/backends/backend_pdf.py:1977\u001b[0m, in \u001b[0;36mRendererPdf.check_gc\u001b[0;34m(self, gc, fillcolor)\u001b[0m\n\u001b[1;32m   1974\u001b[0m \u001b[39melse\u001b[39;00m:\n\u001b[1;32m   1975\u001b[0m     gc\u001b[39m.\u001b[39m_effective_alphas \u001b[39m=\u001b[39m (gc\u001b[39m.\u001b[39m_rgb[\u001b[39m3\u001b[39m], fillcolor[\u001b[39m3\u001b[39m])\n\u001b[0;32m-> 1977\u001b[0m delta \u001b[39m=\u001b[39m \u001b[39mself\u001b[39;49m\u001b[39m.\u001b[39;49mgc\u001b[39m.\u001b[39;49mdelta(gc)\n\u001b[1;32m   1978\u001b[0m \u001b[39mif\u001b[39;00m delta:\n\u001b[1;32m   1979\u001b[0m     \u001b[39mself\u001b[39m\u001b[39m.\u001b[39mfile\u001b[39m.\u001b[39moutput(\u001b[39m*\u001b[39mdelta)\n",
      "File \u001b[0;32m/opt/conda/lib/python3.10/site-packages/matplotlib/backends/backend_pdf.py:2615\u001b[0m, in \u001b[0;36mGraphicsContextPdf.delta\u001b[0;34m(self, other)\u001b[0m\n\u001b[1;32m   2612\u001b[0m \u001b[39mif\u001b[39;00m params \u001b[39m==\u001b[39m (\u001b[39m'\u001b[39m\u001b[39m_hatch\u001b[39m\u001b[39m'\u001b[39m, \u001b[39m'\u001b[39m\u001b[39m_hatch_color\u001b[39m\u001b[39m'\u001b[39m) \u001b[39mand\u001b[39;00m fill_performed:\n\u001b[1;32m   2613\u001b[0m     different \u001b[39m=\u001b[39m \u001b[39mTrue\u001b[39;00m\n\u001b[0;32m-> 2615\u001b[0m \u001b[39mif\u001b[39;00m different:\n\u001b[1;32m   2616\u001b[0m     \u001b[39mif\u001b[39;00m params \u001b[39m==\u001b[39m (\u001b[39m'\u001b[39m\u001b[39m_fillcolor\u001b[39m\u001b[39m'\u001b[39m,):\n\u001b[1;32m   2617\u001b[0m         fill_performed \u001b[39m=\u001b[39m \u001b[39mTrue\u001b[39;00m\n",
      "\u001b[0;31mKeyboardInterrupt\u001b[0m: "
     ]
    }
   ],
   "source": [
    "process('behavior_758018_2025-03-19_11-16-44', data_type='raw')"
   ]
  },
  {
   "cell_type": "code",
   "execution_count": null,
   "metadata": {},
   "outputs": [],
   "source": [
    "# make a df from all_Tm, columns correspond to focus regressors\n",
    " "
   ]
  }
 ],
 "metadata": {
  "kernelspec": {
   "display_name": "base",
   "language": "python",
   "name": "python3"
  },
  "language_info": {
   "codemirror_mode": {
    "name": "ipython",
    "version": 3
   },
   "file_extension": ".py",
   "mimetype": "text/x-python",
   "name": "python",
   "nbconvert_exporter": "python",
   "pygments_lexer": "ipython3",
   "version": "3.10.18"
  }
 },
 "nbformat": 4,
 "nbformat_minor": 2
}
