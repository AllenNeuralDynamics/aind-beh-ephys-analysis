{
 "cells": [
  {
   "cell_type": "code",
   "execution_count": 1,
   "metadata": {},
   "outputs": [],
   "source": [
    "from behavior_and_time_alignment import beh_and_time_alignment\n",
    "from session_preprocessing import ephys_opto_preprocessing, session_crosscorr, ephys_opto_crosscorr\n",
    "from opto_tagging import opto_plotting_session, opto_plotting_unit\n",
    "from opto_waveforms_preprocessing import opto_wf_preprocessing\n",
    "from drift_analysis import plot_session_opto_drift\n",
    "import matplotlib.pyplot as plt\n",
    "from utils.beh_functions import session_dirs, get_unit_tbl\n",
    "import numpy as np\n",
    "import pandas as pd\n",
    "import os\n",
    "from utils.plot_utils import combine_pdf_big\n",
    "import spikeinterface as si\n",
    "from joblib import Parallel, delayed\n",
    "import pickle"
   ]
  },
  {
   "cell_type": "code",
   "execution_count": 2,
   "metadata": {},
   "outputs": [
    {
     "data": {
      "text/plain": [
       "['behavior_784806_2025-06-18_13-39-50', 'behavior_784806_2025-06-20_13-39-16']"
      ]
     },
     "execution_count": 2,
     "metadata": {},
     "output_type": "execute_result"
    }
   ],
   "source": [
    "session_assets = pd.read_csv('/root/capsule/code/data_management/session_assets.csv')\n",
    "session_list = session_assets['session_id'].tolist()\n",
    "session_list[-8:-6]"
   ]
  },
  {
   "cell_type": "code",
   "execution_count": 10,
   "metadata": {},
   "outputs": [
    {
     "name": "stdout",
     "output_type": "stream",
     "text": [
      "Selected experiment1 recording1, length:4862.23\n"
     ]
    }
   ],
   "source": [
    "session_dir = session_dirs('behavior_791691_2025-06-24_13-21-29')"
   ]
  },
  {
   "cell_type": "code",
   "execution_count": 11,
   "metadata": {},
   "outputs": [],
   "source": [
    "# # combine opto pdfs\n",
    "# data_type = 'curated'\n",
    "# def process(session, data_type):\n",
    "#     pdf_dir = session_dirs(session)[f'opto_dir_fig_{data_type}']\n",
    "#     output_pdf = os.path.join(session_dirs(session)[f'opto_dir_{data_type}'], f'{session}_opto_tagging_png.pdf')\n",
    "#     if os.path.exists(pdf_dir) and not os.path.exists(output_pdf):\n",
    "#         print(session)\n",
    "#         combine_pdf_big(pdf_dir, output_pdf)\n",
    "# Parallel(n_jobs=4)(delayed(process)(session, data_type) for session in session_list[-14:-3])\n",
    "# # for session in session_list[-14:-3]:\n",
    "# #     try:\n",
    "# #         process(session, data_type)\n",
    "# #         plt.close('all')\n",
    "# #     except:\n",
    "# #         print(f'Failed to process {session}')"
   ]
  },
  {
   "cell_type": "code",
   "execution_count": 3,
   "metadata": {},
   "outputs": [
    {
     "name": "stdout",
     "output_type": "stream",
     "text": [
      "Checking ecephys_684930_2023-09-28_12-44-15\n",
      "Single experiment found: experiment1, recording1\n",
      "There is no nwb file in the curated directory.\n",
      "Single experiment found: experiment1, recording1\n",
      "There is no nwb file in the curated directory.\n",
      "No unit table found for ecephys_684930_2023-09-28_12-44-15 in raw data.\n",
      "Single experiment found: experiment1, recording1\n",
      "There is no nwb file in the curated directory.\n",
      "Checking ecephys_687697_2023-09-15_11-30-06\n",
      "Single experiment found: experiment1, recording1\n",
      "There is no nwb file in the curated directory.\n",
      "Single experiment found: experiment1, recording1\n",
      "There is no nwb file in the curated directory.\n",
      "No unit table found for ecephys_687697_2023-09-15_11-30-06 in raw data.\n",
      "Single experiment found: experiment1, recording1\n",
      "There is no nwb file in the curated directory.\n",
      "Checking ecephys_687697_2023-09-15_12-36-06\n",
      "Single experiment found: experiment1, recording1\n",
      "There is no nwb file in the curated directory.\n",
      "Single experiment found: experiment1, recording1\n",
      "There is no nwb file in the curated directory.\n",
      "No unit table found for ecephys_687697_2023-09-15_12-36-06 in raw data.\n",
      "Single experiment found: experiment1, recording1\n",
      "There is no nwb file in the curated directory.\n",
      "Checking ecephys_691893_2023-10-05_12-46-57\n",
      "Single experiment found: experiment1, recording1\n",
      "There is no nwb file in the curated directory.\n",
      "Single experiment found: experiment1, recording1\n",
      "There is no nwb file in the curated directory.\n",
      "No unit table found for ecephys_691893_2023-10-05_12-46-57 in raw data.\n",
      "Single experiment found: experiment1, recording1\n",
      "There is no nwb file in the curated directory.\n",
      "Checking ecephys_691893_2023-10-06_13-48-18\n",
      "Single experiment found: experiment1, recording1\n",
      "There is no nwb file in the curated directory.\n",
      "Single experiment found: experiment1, recording1\n",
      "There is no nwb file in the curated directory.\n",
      "No unit table found for ecephys_691893_2023-10-06_13-48-18 in raw data.\n",
      "Single experiment found: experiment1, recording1\n",
      "There is no nwb file in the curated directory.\n",
      "Checking behavior_716325_2024-05-29_10-33-32\n",
      "Single experiment found: experiment1, recording1\n",
      "Single experiment found: experiment1, recording1\n",
      "Checking behavior_716325_2024-05-30_11-33-46\n",
      "Single experiment found: experiment1, recording1\n",
      "Single experiment found: experiment1, recording1\n",
      "Checking behavior_716325_2024-05-31_10-31-14\n",
      "Single experiment found: experiment1, recording1\n",
      "Single experiment found: experiment1, recording1\n",
      "No unit table found for behavior_716325_2024-05-31_10-31-14 in raw data.\n",
      "Single experiment found: experiment1, recording1\n",
      "Checking behavior_716325_2024-06-01_09-25-37\n",
      "Single experiment found: experiment1, recording1\n",
      "Single experiment found: experiment1, recording1\n",
      "Checking behavior_717121_2024-06-11_10-23-31\n",
      "Single experiment found: experiment1, recording1\n",
      "Single experiment found: experiment1, recording1\n",
      "Checking behavior_717121_2024-06-13_12-21-20\n",
      "Single experiment found: experiment1, recording1\n",
      "Single experiment found: experiment1, recording1\n",
      "Checking behavior_717121_2024-06-14_10-23-49\n",
      "Single experiment found: experiment1, recording1\n",
      "Single experiment found: experiment1, recording1\n",
      "Checking behavior_717121_2024-06-15_10-00-58\n",
      "Single experiment found: experiment1, recording1\n",
      "Single experiment found: experiment1, recording1\n",
      "No unit table found for behavior_717121_2024-06-15_10-00-58 in raw data.\n",
      "Single experiment found: experiment1, recording1\n",
      "Checking behavior_717121_2024-06-16_11-45-02\n",
      "Single experiment found: experiment1, recording1\n",
      "Single experiment found: experiment1, recording1\n",
      "No unit table found for behavior_717121_2024-06-16_11-45-02 in raw data.\n",
      "Single experiment found: experiment1, recording1\n",
      "No unit table found for behavior_717121_2024-06-16_11-45-02 in curated data.\n",
      "No processed unit table found, processing session\n",
      "Single experiment found: experiment1, recording1\n",
      "/root/capsule/data/behavior_717121_2024-06-16_11-45-02_sorted/curated/experiment1_Record Node 104#Neuropix-PXI-100.ProbeA_recording1\n",
      "behavior_717121_2024-06-16_11-45-02 start\n",
      "Single experiment found: experiment1, recording1\n",
      "behavior_717121_2024-06-16_11-45-02\n",
      "behavior_717121_2024-06-16_11-45-02\n",
      "Single experiment found: experiment1, recording1\n"
     ]
    },
    {
     "ename": "AttributeError",
     "evalue": "'NoneType' object has no attribute 'units'",
     "output_type": "error",
     "traceback": [
      "\u001b[0;31m---------------------------------------------------------------------------\u001b[0m",
      "\u001b[0;31mAttributeError\u001b[0m                            Traceback (most recent call last)",
      "\u001b[1;32m/root/capsule/code/beh_ephys_analysis/beh_ephys_processing.ipynb Cell 5\u001b[0m line \u001b[0;36m4\n\u001b[1;32m     <a href='vscode-notebook-cell://codeocean.allenneuraldynamics.org/root/capsule/code/beh_ephys_analysis/beh_ephys_processing.ipynb#W4sdnNjb2RlLXJlbW90ZQ%3D%3D?line=42'>43</a>\u001b[0m         \u001b[39mif\u001b[39;00m get_unit_tbl(session, \u001b[39m'\u001b[39m\u001b[39mcurated\u001b[39m\u001b[39m'\u001b[39m, summary\u001b[39m=\u001b[39m\u001b[39mFalse\u001b[39;00m) \u001b[39mis\u001b[39;00m \u001b[39mNone\u001b[39;00m:\n\u001b[1;32m     <a href='vscode-notebook-cell://codeocean.allenneuraldynamics.org/root/capsule/code/beh_ephys_analysis/beh_ephys_processing.ipynb#W4sdnNjb2RlLXJlbW90ZQ%3D%3D?line=43'>44</a>\u001b[0m             \u001b[39mprint\u001b[39m(\u001b[39m'\u001b[39m\u001b[39mNo processed unit table found, processing session\u001b[39m\u001b[39m'\u001b[39m)\n\u001b[0;32m---> <a href='vscode-notebook-cell://codeocean.allenneuraldynamics.org/root/capsule/code/beh_ephys_analysis/beh_ephys_processing.ipynb#W4sdnNjb2RlLXJlbW90ZQ%3D%3D?line=44'>45</a>\u001b[0m             process(session, data_type\u001b[39m=\u001b[39;49m\u001b[39m'\u001b[39;49m\u001b[39mraw\u001b[39;49m\u001b[39m'\u001b[39;49m) \n\u001b[1;32m     <a href='vscode-notebook-cell://codeocean.allenneuraldynamics.org/root/capsule/code/beh_ephys_analysis/beh_ephys_processing.ipynb#W4sdnNjb2RlLXJlbW90ZQ%3D%3D?line=45'>46</a>\u001b[0m     \u001b[39m# elif  session_dir['curated_dir_raw'] is not None:\u001b[39;00m\n\u001b[1;32m     <a href='vscode-notebook-cell://codeocean.allenneuraldynamics.org/root/capsule/code/beh_ephys_analysis/beh_ephys_processing.ipynb#W4sdnNjb2RlLXJlbW90ZQ%3D%3D?line=46'>47</a>\u001b[0m     \u001b[39m#     print('Raw')\u001b[39;00m\n\u001b[1;32m     <a href='vscode-notebook-cell://codeocean.allenneuraldynamics.org/root/capsule/code/beh_ephys_analysis/beh_ephys_processing.ipynb#W4sdnNjb2RlLXJlbW90ZQ%3D%3D?line=47'>48</a>\u001b[0m     \u001b[39m#     process(session, data_type='raw')\u001b[39;00m\n\u001b[1;32m     <a href='vscode-notebook-cell://codeocean.allenneuraldynamics.org/root/capsule/code/beh_ephys_analysis/beh_ephys_processing.ipynb#W4sdnNjb2RlLXJlbW90ZQ%3D%3D?line=48'>49</a>\u001b[0m \u001b[39m# process(session_list[-7])\u001b[39;00m\n",
      "\u001b[1;32m/root/capsule/code/beh_ephys_analysis/beh_ephys_processing.ipynb Cell 5\u001b[0m line \u001b[0;36m1\n\u001b[1;32m     <a href='vscode-notebook-cell://codeocean.allenneuraldynamics.org/root/capsule/code/beh_ephys_analysis/beh_ephys_processing.ipynb#W4sdnNjb2RlLXJlbW90ZQ%3D%3D?line=11'>12</a>\u001b[0m beh_and_time_alignment(session) \u001b[39m# plot behavior, check alignment between behavior, sound, and ephys\u001b[39;00m\n\u001b[1;32m     <a href='vscode-notebook-cell://codeocean.allenneuraldynamics.org/root/capsule/code/beh_ephys_analysis/beh_ephys_processing.ipynb#W4sdnNjb2RlLXJlbW90ZQ%3D%3D?line=12'>13</a>\u001b[0m plt\u001b[39m.\u001b[39mclose(\u001b[39m'\u001b[39m\u001b[39mall\u001b[39m\u001b[39m'\u001b[39m)\n\u001b[0;32m---> <a href='vscode-notebook-cell://codeocean.allenneuraldynamics.org/root/capsule/code/beh_ephys_analysis/beh_ephys_processing.ipynb#W4sdnNjb2RlLXJlbW90ZQ%3D%3D?line=13'>14</a>\u001b[0m ephys_opto_preprocessing(session, data_type, \u001b[39m'\u001b[39;49m\u001b[39msoma\u001b[39;49m\u001b[39m'\u001b[39;49m) \n\u001b[1;32m     <a href='vscode-notebook-cell://codeocean.allenneuraldynamics.org/root/capsule/code/beh_ephys_analysis/beh_ephys_processing.ipynb#W4sdnNjb2RlLXJlbW90ZQ%3D%3D?line=14'>15</a>\u001b[0m \u001b[39m# # redo spiketimes if not aligned, make opto_table (laser time in nidaq); \u001b[39;00m\n\u001b[1;32m     <a href='vscode-notebook-cell://codeocean.allenneuraldynamics.org/root/capsule/code/beh_ephys_analysis/beh_ephys_processing.ipynb#W4sdnNjb2RlLXJlbW90ZQ%3D%3D?line=15'>16</a>\u001b[0m \u001b[39m# # generate a pkl file with opto_resp/lat to each condition\u001b[39;00m\n\u001b[1;32m     <a href='vscode-notebook-cell://codeocean.allenneuraldynamics.org/root/capsule/code/beh_ephys_analysis/beh_ephys_processing.ipynb#W4sdnNjb2RlLXJlbW90ZQ%3D%3D?line=16'>17</a>\u001b[0m \u001b[39m# plt.close('all')\u001b[39;00m\n\u001b[1;32m     <a href='vscode-notebook-cell://codeocean.allenneuraldynamics.org/root/capsule/code/beh_ephys_analysis/beh_ephys_processing.ipynb#W4sdnNjb2RlLXJlbW90ZQ%3D%3D?line=17'>18</a>\u001b[0m \u001b[39m# ephys_opto_crosscorr(session, data_type)\u001b[39;00m\n\u001b[1;32m     <a href='vscode-notebook-cell://codeocean.allenneuraldynamics.org/root/capsule/code/beh_ephys_analysis/beh_ephys_processing.ipynb#W4sdnNjb2RlLXJlbW90ZQ%3D%3D?line=18'>19</a>\u001b[0m \u001b[39m# # separate session into opto/beh, cal cross-correlation\u001b[39;00m\n\u001b[1;32m     <a href='vscode-notebook-cell://codeocean.allenneuraldynamics.org/root/capsule/code/beh_ephys_analysis/beh_ephys_processing.ipynb#W4sdnNjb2RlLXJlbW90ZQ%3D%3D?line=19'>20</a>\u001b[0m \u001b[39m# plt.close('all')\u001b[39;00m\n\u001b[1;32m     <a href='vscode-notebook-cell://codeocean.allenneuraldynamics.org/root/capsule/code/beh_ephys_analysis/beh_ephys_processing.ipynb#W4sdnNjb2RlLXJlbW90ZQ%3D%3D?line=20'>21</a>\u001b[0m opto_wf_preprocessing(session, data_type, \u001b[39m'\u001b[39m\u001b[39msoma\u001b[39m\u001b[39m'\u001b[39m, load_sorting_analyzer\u001b[39m=\u001b[39m\u001b[39mTrue\u001b[39;00m)\n",
      "File \u001b[0;32m~/capsule/code/beh_ephys_analysis/session_preprocessing.py:294\u001b[0m, in \u001b[0;36mephys_opto_preprocessing\u001b[0;34m(session, data_type, target)\u001b[0m\n\u001b[1;32m    292\u001b[0m unit_spikes  \u001b[39m=\u001b[39m [timestamps[sorting\u001b[39m.\u001b[39mget_unit_spike_train(unit_id\u001b[39m=\u001b[39munit_id)] \u001b[39mfor\u001b[39;00m unit_id \u001b[39min\u001b[39;00m unit_ids]\n\u001b[1;32m    293\u001b[0m nwb \u001b[39m=\u001b[39m load_nwb_from_filename(session_dir[\u001b[39mf\u001b[39m\u001b[39m'\u001b[39m\u001b[39mnwb_dir_\u001b[39m\u001b[39m{\u001b[39;00mdata_type\u001b[39m}\u001b[39;00m\u001b[39m'\u001b[39m])\n\u001b[0;32m--> 294\u001b[0m unit_qc \u001b[39m=\u001b[39m nwb\u001b[39m.\u001b[39;49munits[:][[\u001b[39m'\u001b[39m\u001b[39mks_unit_id\u001b[39m\u001b[39m'\u001b[39m, \u001b[39m'\u001b[39m\u001b[39misi_violations_ratio\u001b[39m\u001b[39m'\u001b[39m, \u001b[39m'\u001b[39m\u001b[39mfiring_rate\u001b[39m\u001b[39m'\u001b[39m, \u001b[39m'\u001b[39m\u001b[39mpresence_ratio\u001b[39m\u001b[39m'\u001b[39m, \u001b[39m'\u001b[39m\u001b[39mamplitude_cutoff\u001b[39m\u001b[39m'\u001b[39m, \u001b[39m'\u001b[39m\u001b[39mdecoder_label\u001b[39m\u001b[39m'\u001b[39m]]\n\u001b[1;32m    296\u001b[0m \u001b[39m# %%\u001b[39;00m\n\u001b[1;32m    297\u001b[0m \u001b[39m# load spike times depending on if epyhs is synced\u001b[39;00m\n\u001b[1;32m    298\u001b[0m preprosess_qm \u001b[39m=\u001b[39m os\u001b[39m.\u001b[39mpath\u001b[39m.\u001b[39mjoin(session_dir[\u001b[39m'\u001b[39m\u001b[39mprocessed_dir\u001b[39m\u001b[39m'\u001b[39m], \u001b[39mf\u001b[39m\u001b[39m'\u001b[39m\u001b[39m{\u001b[39;00msession\u001b[39m}\u001b[39;00m\u001b[39m_qm.json\u001b[39m\u001b[39m'\u001b[39m)\n",
      "\u001b[0;31mAttributeError\u001b[0m: 'NoneType' object has no attribute 'units'"
     ]
    }
   ],
   "source": [
    "# from joblib import Parallel, delayed\n",
    "# session_list = ['behavior_751181_2025-02-25_12-12-35',\n",
    "#                 'behavior_751181_2025-02-26_11-51-19']\n",
    "data_type = 'raw'\n",
    "def process(session, data_type='raw'):\n",
    "    plt.close('all')\n",
    "    session_dir = session_dirs(session)\n",
    "    print(session_dir[f'curated_dir_{data_type}'])\n",
    "    if session_dir[f'curated_dir_{data_type}'] is None:\n",
    "        return None\n",
    "    print(f'{session} start')\n",
    "    beh_and_time_alignment(session) # plot behavior, check alignment between behavior, sound, and ephys\n",
    "    plt.close('all')\n",
    "    ephys_opto_preprocessing(session, data_type, 'soma') \n",
    "    # # redo spiketimes if not aligned, make opto_table (laser time in nidaq); \n",
    "    # # generate a pkl file with opto_resp/lat to each condition\n",
    "    # plt.close('all')\n",
    "    # ephys_opto_crosscorr(session, data_type)\n",
    "    # # separate session into opto/beh, cal cross-correlation\n",
    "    # plt.close('all')\n",
    "    opto_wf_preprocessing(session, data_type, 'soma', load_sorting_analyzer=True)\n",
    "    # recal wf based on conditions. (pre/post, power), cal similarity, euclidean distance, correlation with spont\n",
    "    # pay attention to difference early and late in the session\n",
    "    \n",
    "    # opto_plotting_session(session, data_type, 'soma', plot=True, resp_thresh=0.3, lat_thresh=0.02, save=True)    \n",
    "    # # save as pickle\n",
    "    # with open(os.path.join(session_dirs(session)[f'opto_dir_{data_type}'], f'{session}_opto_tagging_metrics.pkl'), 'wb') as f:\n",
    "    #     opto_tagging_df.to_pickle(f)\n",
    "    \n",
    "    # if '751004' in session:\n",
    "    #     plot_session_opto_drift(session, data_type, update_csv=False)\n",
    "    # else:     \n",
    "    #     plot_session_opto_drift(session, data_type, update_csv=True)\n",
    "    print(f'{session} stop')\n",
    "        \n",
    " \n",
    "# Parallel(n_jobs=6)(delayed(process)(session, data_type = data_type) for session in session_list[-13:])\n",
    "\n",
    "for session in session_list[12:]:\n",
    "    print(f'Checking {session}')\n",
    "    session_dir = session_dirs(session)\n",
    "    if get_unit_tbl(session, 'raw', summary=False) is None:\n",
    "        if get_unit_tbl(session, 'curated', summary=False) is None:\n",
    "            print('No processed unit table found, processing session')\n",
    "            process(session, data_type='raw') \n",
    "    # elif  session_dir['curated_dir_raw'] is not None:\n",
    "    #     print('Raw')\n",
    "    #     process(session, data_type='raw')\n",
    "# process(session_list[-7])\n",
    "        \n",
    " "
   ]
  },
  {
   "cell_type": "code",
   "execution_count": 20,
   "metadata": {},
   "outputs": [
    {
     "name": "stdout",
     "output_type": "stream",
     "text": [
      "Single experiment found: experiment1, recording1\n",
      "There is no nwb file in the curated directory.\n",
      "No unit table found for ecephys_684930_2023-09-27_10-04-04 in raw data.\n"
     ]
    }
   ],
   "source": [
    "get_unit_tbl('ecephys_684930_2023-09-27_10-04-04', 'raw', summary=False)"
   ]
  },
  {
   "cell_type": "code",
   "execution_count": 25,
   "metadata": {},
   "outputs": [
    {
     "ename": "OSError",
     "evalue": "[Errno 5] Input/output error",
     "output_type": "error",
     "traceback": [
      "\u001b[0;31m---------------------------------------------------------------------------\u001b[0m",
      "\u001b[0;31mOSError\u001b[0m                                   Traceback (most recent call last)",
      "\u001b[1;32m/root/capsule/code/beh_ephys_analysis/beh_ephys_processing.ipynb Cell 6\u001b[0m line \u001b[0;36m1\n\u001b[0;32m----> <a href='vscode-notebook-cell://codeocean.allenneuraldynamics.org/root/capsule/code/beh_ephys_analysis/beh_ephys_processing.ipynb#W5sdnNjb2RlLXJlbW90ZQ%3D%3D?line=0'>1</a>\u001b[0m rec \u001b[39m=\u001b[39m si\u001b[39m.\u001b[39;49mload(\u001b[39m'\u001b[39;49m\u001b[39m/root/capsule/data/ecephys_713854_2024-03-05_13-31-20_raw_data/ecephys_compressed/experiment1_Record Node 104#Neuropix-PXI-100.ProbeA.zarr\u001b[39;49m\u001b[39m'\u001b[39;49m)\n",
      "File \u001b[0;32m/opt/conda/lib/python3.10/site-packages/spikeinterface/core/loading.py:111\u001b[0m, in \u001b[0;36mload\u001b[0;34m(file_or_folder_or_dict, **kwargs)\u001b[0m\n\u001b[1;32m    109\u001b[0m     \u001b[39mif\u001b[39;00m object_type \u001b[39mis\u001b[39;00m \u001b[39mNone\u001b[39;00m:\n\u001b[1;32m    110\u001b[0m         \u001b[39mraise\u001b[39;00m \u001b[39mValueError\u001b[39;00m(_error_msg\u001b[39m.\u001b[39mformat(file_path\u001b[39m=\u001b[39mfile_path))\n\u001b[0;32m--> 111\u001b[0m     loaded_object \u001b[39m=\u001b[39m _load_object_from_zarr(folder, object_type, \u001b[39m*\u001b[39;49m\u001b[39m*\u001b[39;49mkwargs)\n\u001b[1;32m    112\u001b[0m     \u001b[39mreturn\u001b[39;00m loaded_object\n\u001b[1;32m    114\u001b[0m \u001b[39melse\u001b[39;00m:\n\u001b[1;32m    115\u001b[0m     \u001b[39m# Local folder can be\u001b[39;00m\n\u001b[1;32m    116\u001b[0m     \u001b[39m# Sorting / Recording / SortingAnalyzer / Motion\u001b[39;00m\n",
      "File \u001b[0;32m/opt/conda/lib/python3.10/site-packages/spikeinterface/core/loading.py:287\u001b[0m, in \u001b[0;36m_load_object_from_zarr\u001b[0;34m(folder_or_url, object_type, **kwargs)\u001b[0m\n\u001b[1;32m    284\u001b[0m     \u001b[39mfrom\u001b[39;00m\u001b[39m \u001b[39m\u001b[39m.\u001b[39;00m\u001b[39mzarrextractors\u001b[39;00m\u001b[39m \u001b[39m\u001b[39mimport\u001b[39;00m read_zarr_recording\n\u001b[1;32m    286\u001b[0m     storage_options \u001b[39m=\u001b[39m kwargs\u001b[39m.\u001b[39mget(\u001b[39m\"\u001b[39m\u001b[39mstorage_options\u001b[39m\u001b[39m\"\u001b[39m, \u001b[39mNone\u001b[39;00m)\n\u001b[0;32m--> 287\u001b[0m     recording \u001b[39m=\u001b[39m read_zarr_recording(folder_or_url, storage_options\u001b[39m=\u001b[39;49mstorage_options)\n\u001b[1;32m    288\u001b[0m     \u001b[39mreturn\u001b[39;00m recording\n\u001b[1;32m    289\u001b[0m \u001b[39melif\u001b[39;00m object_type \u001b[39m==\u001b[39m \u001b[39m\"\u001b[39m\u001b[39mSorting\u001b[39m\u001b[39m\"\u001b[39m:\n",
      "File \u001b[0;32m/opt/conda/lib/python3.10/site-packages/spikeinterface/core/zarrextractors.py:120\u001b[0m, in \u001b[0;36mZarrRecordingExtractor.__init__\u001b[0;34m(self, folder_path, storage_options)\u001b[0m\n\u001b[1;32m    118\u001b[0m num_segments \u001b[39m=\u001b[39m \u001b[39mself\u001b[39m\u001b[39m.\u001b[39m_root\u001b[39m.\u001b[39mattrs\u001b[39m.\u001b[39mget(\u001b[39m\"\u001b[39m\u001b[39mnum_segments\u001b[39m\u001b[39m\"\u001b[39m, \u001b[39mNone\u001b[39;00m)\n\u001b[1;32m    119\u001b[0m \u001b[39massert\u001b[39;00m \u001b[39m\"\u001b[39m\u001b[39mchannel_ids\u001b[39m\u001b[39m\"\u001b[39m \u001b[39min\u001b[39;00m \u001b[39mself\u001b[39m\u001b[39m.\u001b[39m_root\u001b[39m.\u001b[39mkeys(), \u001b[39m\"\u001b[39m\u001b[39m'\u001b[39m\u001b[39mchannel_ids\u001b[39m\u001b[39m'\u001b[39m\u001b[39m dataset not found!\u001b[39m\u001b[39m\"\u001b[39m\n\u001b[0;32m--> 120\u001b[0m channel_ids \u001b[39m=\u001b[39m \u001b[39mself\u001b[39;49m\u001b[39m.\u001b[39;49m_root[\u001b[39m\"\u001b[39;49m\u001b[39mchannel_ids\u001b[39;49m\u001b[39m\"\u001b[39;49m][:]\n\u001b[1;32m    122\u001b[0m \u001b[39massert\u001b[39;00m sampling_frequency \u001b[39mis\u001b[39;00m \u001b[39mnot\u001b[39;00m \u001b[39mNone\u001b[39;00m, \u001b[39m\"\u001b[39m\u001b[39m'\u001b[39m\u001b[39msampling_frequency\u001b[39m\u001b[39m'\u001b[39m\u001b[39m attiribute not found!\u001b[39m\u001b[39m\"\u001b[39m\n\u001b[1;32m    123\u001b[0m \u001b[39massert\u001b[39;00m num_segments \u001b[39mis\u001b[39;00m \u001b[39mnot\u001b[39;00m \u001b[39mNone\u001b[39;00m, \u001b[39m\"\u001b[39m\u001b[39m'\u001b[39m\u001b[39mnum_segments\u001b[39m\u001b[39m'\u001b[39m\u001b[39m attiribute not found!\u001b[39m\u001b[39m\"\u001b[39m\n",
      "File \u001b[0;32m/opt/conda/lib/python3.10/site-packages/zarr/hierarchy.py:467\u001b[0m, in \u001b[0;36mGroup.__getitem__\u001b[0;34m(self, item)\u001b[0m\n\u001b[1;32m    465\u001b[0m path \u001b[39m=\u001b[39m \u001b[39mself\u001b[39m\u001b[39m.\u001b[39m_item_path(item)\n\u001b[1;32m    466\u001b[0m \u001b[39mtry\u001b[39;00m:\n\u001b[0;32m--> 467\u001b[0m     \u001b[39mreturn\u001b[39;00m Array(\n\u001b[1;32m    468\u001b[0m         \u001b[39mself\u001b[39;49m\u001b[39m.\u001b[39;49m_store,\n\u001b[1;32m    469\u001b[0m         read_only\u001b[39m=\u001b[39;49m\u001b[39mself\u001b[39;49m\u001b[39m.\u001b[39;49m_read_only,\n\u001b[1;32m    470\u001b[0m         path\u001b[39m=\u001b[39;49mpath,\n\u001b[1;32m    471\u001b[0m         chunk_store\u001b[39m=\u001b[39;49m\u001b[39mself\u001b[39;49m\u001b[39m.\u001b[39;49m_chunk_store,\n\u001b[1;32m    472\u001b[0m         synchronizer\u001b[39m=\u001b[39;49m\u001b[39mself\u001b[39;49m\u001b[39m.\u001b[39;49m_synchronizer,\n\u001b[1;32m    473\u001b[0m         cache_attrs\u001b[39m=\u001b[39;49m\u001b[39mself\u001b[39;49m\u001b[39m.\u001b[39;49mattrs\u001b[39m.\u001b[39;49mcache,\n\u001b[1;32m    474\u001b[0m         zarr_version\u001b[39m=\u001b[39;49m\u001b[39mself\u001b[39;49m\u001b[39m.\u001b[39;49m_version,\n\u001b[1;32m    475\u001b[0m         meta_array\u001b[39m=\u001b[39;49m\u001b[39mself\u001b[39;49m\u001b[39m.\u001b[39;49m_meta_array,\n\u001b[1;32m    476\u001b[0m     )\n\u001b[1;32m    477\u001b[0m \u001b[39mexcept\u001b[39;00m ArrayNotFoundError:\n\u001b[1;32m    478\u001b[0m     \u001b[39mpass\u001b[39;00m\n",
      "File \u001b[0;32m/opt/conda/lib/python3.10/site-packages/zarr/core.py:170\u001b[0m, in \u001b[0;36mArray.__init__\u001b[0;34m(self, store, path, read_only, chunk_store, synchronizer, cache_metadata, cache_attrs, partial_decompress, write_empty_chunks, zarr_version, meta_array)\u001b[0m\n\u001b[1;32m    167\u001b[0m     \u001b[39mself\u001b[39m\u001b[39m.\u001b[39m_metadata_key_suffix \u001b[39m=\u001b[39m \u001b[39mself\u001b[39m\u001b[39m.\u001b[39m_hierarchy_metadata[\u001b[39m\"\u001b[39m\u001b[39mmetadata_key_suffix\u001b[39m\u001b[39m\"\u001b[39m]\n\u001b[1;32m    169\u001b[0m \u001b[39m# initialize metadata\u001b[39;00m\n\u001b[0;32m--> 170\u001b[0m \u001b[39mself\u001b[39;49m\u001b[39m.\u001b[39;49m_load_metadata()\n\u001b[1;32m    172\u001b[0m \u001b[39m# initialize attributes\u001b[39;00m\n\u001b[1;32m    173\u001b[0m akey \u001b[39m=\u001b[39m _prefix_to_attrs_key(\u001b[39mself\u001b[39m\u001b[39m.\u001b[39m_store, \u001b[39mself\u001b[39m\u001b[39m.\u001b[39m_key_prefix)\n",
      "File \u001b[0;32m/opt/conda/lib/python3.10/site-packages/zarr/core.py:193\u001b[0m, in \u001b[0;36mArray._load_metadata\u001b[0;34m(self)\u001b[0m\n\u001b[1;32m    191\u001b[0m \u001b[39m\u001b[39m\u001b[39m\"\"\"(Re)load metadata from store.\"\"\"\u001b[39;00m\n\u001b[1;32m    192\u001b[0m \u001b[39mif\u001b[39;00m \u001b[39mself\u001b[39m\u001b[39m.\u001b[39m_synchronizer \u001b[39mis\u001b[39;00m \u001b[39mNone\u001b[39;00m:\n\u001b[0;32m--> 193\u001b[0m     \u001b[39mself\u001b[39;49m\u001b[39m.\u001b[39;49m_load_metadata_nosync()\n\u001b[1;32m    194\u001b[0m \u001b[39melse\u001b[39;00m:\n\u001b[1;32m    195\u001b[0m     mkey \u001b[39m=\u001b[39m _prefix_to_array_key(\u001b[39mself\u001b[39m\u001b[39m.\u001b[39m_store, \u001b[39mself\u001b[39m\u001b[39m.\u001b[39m_key_prefix)\n",
      "File \u001b[0;32m/opt/conda/lib/python3.10/site-packages/zarr/core.py:202\u001b[0m, in \u001b[0;36mArray._load_metadata_nosync\u001b[0;34m(self)\u001b[0m\n\u001b[1;32m    200\u001b[0m \u001b[39mtry\u001b[39;00m:\n\u001b[1;32m    201\u001b[0m     mkey \u001b[39m=\u001b[39m _prefix_to_array_key(\u001b[39mself\u001b[39m\u001b[39m.\u001b[39m_store, \u001b[39mself\u001b[39m\u001b[39m.\u001b[39m_key_prefix)\n\u001b[0;32m--> 202\u001b[0m     meta_bytes \u001b[39m=\u001b[39m \u001b[39mself\u001b[39;49m\u001b[39m.\u001b[39;49m_store[mkey]\n\u001b[1;32m    203\u001b[0m \u001b[39mexcept\u001b[39;00m \u001b[39mKeyError\u001b[39;00m \u001b[39mas\u001b[39;00m e:\n\u001b[1;32m    204\u001b[0m     \u001b[39mraise\u001b[39;00m ArrayNotFoundError(\u001b[39mself\u001b[39m\u001b[39m.\u001b[39m_path) \u001b[39mfrom\u001b[39;00m\u001b[39m \u001b[39m\u001b[39me\u001b[39;00m\n",
      "File \u001b[0;32m/opt/conda/lib/python3.10/site-packages/zarr/storage.py:1118\u001b[0m, in \u001b[0;36mDirectoryStore.__getitem__\u001b[0;34m(self, key)\u001b[0m\n\u001b[1;32m   1116\u001b[0m filepath \u001b[39m=\u001b[39m os\u001b[39m.\u001b[39mpath\u001b[39m.\u001b[39mjoin(\u001b[39mself\u001b[39m\u001b[39m.\u001b[39mpath, key)\n\u001b[1;32m   1117\u001b[0m \u001b[39mif\u001b[39;00m os\u001b[39m.\u001b[39mpath\u001b[39m.\u001b[39misfile(filepath):\n\u001b[0;32m-> 1118\u001b[0m     \u001b[39mreturn\u001b[39;00m \u001b[39mself\u001b[39;49m\u001b[39m.\u001b[39;49m_fromfile(filepath)\n\u001b[1;32m   1119\u001b[0m \u001b[39melse\u001b[39;00m:\n\u001b[1;32m   1120\u001b[0m     \u001b[39mraise\u001b[39;00m \u001b[39mKeyError\u001b[39;00m(key)\n",
      "File \u001b[0;32m/opt/conda/lib/python3.10/site-packages/zarr/storage.py:1093\u001b[0m, in \u001b[0;36mDirectoryStore._fromfile\u001b[0;34m(fn)\u001b[0m\n\u001b[1;32m   1080\u001b[0m \u001b[39m\u001b[39m\u001b[39m\"\"\"Read data from a file\u001b[39;00m\n\u001b[1;32m   1081\u001b[0m \n\u001b[1;32m   1082\u001b[0m \u001b[39mParameters\u001b[39;00m\n\u001b[0;32m   (...)\u001b[0m\n\u001b[1;32m   1090\u001b[0m \u001b[39mfile reading logic.\u001b[39;00m\n\u001b[1;32m   1091\u001b[0m \u001b[39m\"\"\"\u001b[39;00m\n\u001b[1;32m   1092\u001b[0m \u001b[39mwith\u001b[39;00m \u001b[39mopen\u001b[39m(fn, \u001b[39m\"\u001b[39m\u001b[39mrb\u001b[39m\u001b[39m\"\u001b[39m) \u001b[39mas\u001b[39;00m f:\n\u001b[0;32m-> 1093\u001b[0m     \u001b[39mreturn\u001b[39;00m f\u001b[39m.\u001b[39;49mread()\n",
      "\u001b[0;31mOSError\u001b[0m: [Errno 5] Input/output error"
     ]
    }
   ],
   "source": [
    "rec = si.load('/root/capsule/data/ecephys_713854_2024-03-05_13-31-20_raw_data/ecephys_compressed/experiment1_Record Node 104#Neuropix-PXI-100.ProbeA.zarr')"
   ]
  },
  {
   "cell_type": "code",
   "execution_count": 10,
   "metadata": {},
   "outputs": [
    {
     "data": {
      "text/plain": [
       "[]"
      ]
     },
     "execution_count": 10,
     "metadata": {},
     "output_type": "execute_result"
    }
   ],
   "source": [
    "len(os.listdir(os.path.join(session_dir['opto_dir_raw'], 'figures')))"
   ]
  },
  {
   "cell_type": "code",
   "execution_count": 12,
   "metadata": {},
   "outputs": [
    {
     "name": "stdout",
     "output_type": "stream",
     "text": [
      "Selected experiment1 recording1, length:3442.18\n",
      "No unit table found for behavior_716325_2024-05-30_11-33-46 in raw data.\n"
     ]
    }
   ],
   "source": [
    "tbl = get_unit_tbl('behavior_716325_2024-05-30_11-33-46', 'raw')"
   ]
  },
  {
   "cell_type": "code",
   "execution_count": 14,
   "metadata": {},
   "outputs": [
    {
     "data": {
      "text/plain": [
       "True"
      ]
     },
     "execution_count": 14,
     "metadata": {},
     "output_type": "execute_result"
    }
   ],
   "source": [
    "tbl is None"
   ]
  },
  {
   "cell_type": "code",
   "execution_count": 6,
   "metadata": {},
   "outputs": [
    {
     "ename": "NameError",
     "evalue": "name 'process' is not defined",
     "output_type": "error",
     "traceback": [
      "\u001b[0;31m---------------------------------------------------------------------------\u001b[0m",
      "\u001b[0;31mNameError\u001b[0m                                 Traceback (most recent call last)",
      "\u001b[1;32m/root/capsule/code/beh_ephys_analysis/beh_ephys_processing.ipynb Cell 10\u001b[0m line \u001b[0;36m2\n\u001b[1;32m      <a href='vscode-notebook-cell://codeocean.allenneuraldynamics.org/root/capsule/code/beh_ephys_analysis/beh_ephys_processing.ipynb#X13sdnNjb2RlLXJlbW90ZQ%3D%3D?line=0'>1</a>\u001b[0m session \u001b[39m=\u001b[39m \u001b[39m'\u001b[39m\u001b[39mbehavior_791691_2025-06-24_13-21-29\u001b[39m\u001b[39m'\u001b[39m\n\u001b[0;32m----> <a href='vscode-notebook-cell://codeocean.allenneuraldynamics.org/root/capsule/code/beh_ephys_analysis/beh_ephys_processing.ipynb#X13sdnNjb2RlLXJlbW90ZQ%3D%3D?line=1'>2</a>\u001b[0m process(session)\n\u001b[1;32m      <a href='vscode-notebook-cell://codeocean.allenneuraldynamics.org/root/capsule/code/beh_ephys_analysis/beh_ephys_processing.ipynb#X13sdnNjb2RlLXJlbW90ZQ%3D%3D?line=2'>3</a>\u001b[0m \u001b[39m# session_dir = session_dirs(session)\u001b[39;00m\n",
      "\u001b[0;31mNameError\u001b[0m: name 'process' is not defined"
     ]
    }
   ],
   "source": [
    "session = 'behavior_791691_2025-06-24_13-21-29'\n",
    "process(session)\n",
    "# session_dir = session_dirs(session)"
   ]
  },
  {
   "cell_type": "code",
   "execution_count": 8,
   "metadata": {},
   "outputs": [
    {
     "data": {
      "text/plain": [
       "'/root/capsule/data/behavior_791691_2025-06-24_13-21-29_sorted/nwb/behavior_791691_2025-06-24_13-21-26_experiment2_recording1.nwb'"
      ]
     },
     "execution_count": 8,
     "metadata": {},
     "output_type": "execute_result"
    }
   ],
   "source": [
    "session_dir['nwb_dir_raw']"
   ]
  },
  {
   "cell_type": "code",
   "execution_count": 4,
   "metadata": {},
   "outputs": [
    {
     "name": "stdout",
     "output_type": "stream",
     "text": [
      "Selected experiment1 recording1, length:4862.23\n"
     ]
    }
   ],
   "source": [
    "session = 'behavior_791691_2025-06-24_13-21-29'\n",
    "session_dir = session_dirs(session)"
   ]
  },
  {
   "cell_type": "code",
   "execution_count": 4,
   "metadata": {},
   "outputs": [
    {
     "data": {
      "text/plain": [
       "'/root/capsule/data/behavior_782394_2025-04-22_10-53-28_sorted/curated/experiment1_Record Node 104#Neuropix-PXI-100.ProbeA_recording1'"
      ]
     },
     "execution_count": 4,
     "metadata": {},
     "output_type": "execute_result"
    }
   ],
   "source": [
    "session_dir['curated_dir_raw']"
   ]
  },
  {
   "cell_type": "code",
   "execution_count": null,
   "metadata": {},
   "outputs": [
    {
     "data": {
      "text/plain": [
       "True"
      ]
     },
     "execution_count": 9,
     "metadata": {},
     "output_type": "execute_result"
    }
   ],
   "source": [
    "os.path.exists(session_dir['sorted_dir_raw'])"
   ]
  },
  {
   "cell_type": "code",
   "execution_count": 4,
   "metadata": {},
   "outputs": [],
   "source": [
    "from open_ephys.analysis import Session"
   ]
  },
  {
   "cell_type": "code",
   "execution_count": 5,
   "metadata": {},
   "outputs": [],
   "source": [
    "rec_file = '/root/capsule/data/behavior_791691_2025-06-24_13-21-29_raw_data/ecephys/ecephys_clipped'\n",
    "rec_clipped = Session(rec_file)"
   ]
  },
  {
   "cell_type": "code",
   "execution_count": 29,
   "metadata": {},
   "outputs": [],
   "source": [
    "stream_info = get_stream_info(\"/root/capsule/data/ecephys_713854_2024-03-05_13-31-20_raw_data/ecephys_clipped\")"
   ]
  },
  {
   "cell_type": "code",
   "execution_count": 30,
   "metadata": {},
   "outputs": [
    {
     "data": {
      "text/html": [
       "<div>\n",
       "<style scoped>\n",
       "    .dataframe tbody tr th:only-of-type {\n",
       "        vertical-align: middle;\n",
       "    }\n",
       "\n",
       "    .dataframe tbody tr th {\n",
       "        vertical-align: top;\n",
       "    }\n",
       "\n",
       "    .dataframe thead th {\n",
       "        text-align: right;\n",
       "    }\n",
       "</style>\n",
       "<table border=\"1\" class=\"dataframe\">\n",
       "  <thead>\n",
       "    <tr style=\"text-align: right;\">\n",
       "      <th></th>\n",
       "      <th>Record Node</th>\n",
       "      <th>Rec Idx</th>\n",
       "      <th>Exp Idx</th>\n",
       "      <th>Stream</th>\n",
       "      <th>Duration (s)</th>\n",
       "      <th>Channels</th>\n",
       "    </tr>\n",
       "  </thead>\n",
       "  <tbody>\n",
       "    <tr>\n",
       "      <th>0</th>\n",
       "      <td>104</td>\n",
       "      <td>0</td>\n",
       "      <td>0</td>\n",
       "      <td>ProbeA</td>\n",
       "      <td>0.003333</td>\n",
       "      <td>384</td>\n",
       "    </tr>\n",
       "    <tr>\n",
       "      <th>1</th>\n",
       "      <td>104</td>\n",
       "      <td>0</td>\n",
       "      <td>0</td>\n",
       "      <td>PXIe-6341</td>\n",
       "      <td>0.003333</td>\n",
       "      <td>8</td>\n",
       "    </tr>\n",
       "  </tbody>\n",
       "</table>\n",
       "</div>"
      ],
      "text/plain": [
       "  Record Node  Rec Idx  Exp Idx     Stream  Duration (s)  Channels\n",
       "0         104        0        0     ProbeA      0.003333       384\n",
       "1         104        0        0  PXIe-6341      0.003333         8"
      ]
     },
     "execution_count": 30,
     "metadata": {},
     "output_type": "execute_result"
    }
   ],
   "source": [
    "stream_info"
   ]
  },
  {
   "cell_type": "code",
   "execution_count": 19,
   "metadata": {},
   "outputs": [
    {
     "data": {
      "text/plain": [
       "np.float64(5118.98209682107)"
      ]
     },
     "execution_count": 19,
     "metadata": {},
     "output_type": "execute_result"
    }
   ],
   "source": [
    "rec_clipped.recordnodes[0].recordings[0].continuous[0].timestamps[-1]-rec_clipped.recordnodes[0].recordings[0].continuous[0].timestamps[0]"
   ]
  },
  {
   "cell_type": "code",
   "execution_count": 22,
   "metadata": {},
   "outputs": [
    {
     "ename": "AttributeError",
     "evalue": "'RecordNode' object has no attribute 'metadata'",
     "output_type": "error",
     "traceback": [
      "\u001b[0;31m---------------------------------------------------------------------------\u001b[0m",
      "\u001b[0;31mAttributeError\u001b[0m                            Traceback (most recent call last)",
      "\u001b[1;32m/root/capsule/code/beh_ephys_analysis/beh_ephys_processing.ipynb Cell 18\u001b[0m line \u001b[0;36m1\n\u001b[0;32m----> <a href='vscode-notebook-cell://codeocean.allenneuraldynamics.org/root/capsule/code/beh_ephys_analysis/beh_ephys_processing.ipynb#X22sdnNjb2RlLXJlbW90ZQ%3D%3D?line=0'>1</a>\u001b[0m rec_clipped\u001b[39m.\u001b[39;49mrecordnodes[\u001b[39m0\u001b[39;49m]\u001b[39m.\u001b[39;49mmetadata\n",
      "\u001b[0;31mAttributeError\u001b[0m: 'RecordNode' object has no attribute 'metadata'"
     ]
    }
   ],
   "source": [
    "rec_clipped.recordnodes[0]"
   ]
  },
  {
   "cell_type": "code",
   "execution_count": null,
   "metadata": {},
   "outputs": [],
   "source": [
    "# make a df from all_Tm, columns correspond to focus regressors\n",
    " "
   ]
  }
 ],
 "metadata": {
  "kernelspec": {
   "display_name": "base",
   "language": "python",
   "name": "python3"
  },
  "language_info": {
   "codemirror_mode": {
    "name": "ipython",
    "version": 3
   },
   "file_extension": ".py",
   "mimetype": "text/x-python",
   "name": "python",
   "nbconvert_exporter": "python",
   "pygments_lexer": "ipython3",
   "version": "3.10.18"
  }
 },
 "nbformat": 4,
 "nbformat_minor": 2
}
