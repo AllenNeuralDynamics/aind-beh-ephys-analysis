{
 "cells": [
  {
   "cell_type": "code",
   "execution_count": 1,
   "metadata": {},
   "outputs": [],
   "source": [
    "from behavior_and_time_alignment import beh_and_time_alignment\n",
    "from session_preprocessing import ephys_opto_preprocessing\n",
    "from opto_tagging import opto_plotting_session, opto_plotting_unit\n",
    "from opto_waveforms_preprocessing import opto_wf_preprocessing\n",
    "import matplotlib.pyplot as plt"
   ]
  },
  {
   "cell_type": "code",
   "execution_count": 9,
   "metadata": {},
   "outputs": [],
   "source": [
    "session_list = ['behavior_751004_2024-12-20_13-26-11']"
   ]
  },
  {
   "cell_type": "code",
   "execution_count": 10,
   "metadata": {},
   "outputs": [
    {
     "ename": "UnboundLocalError",
     "evalue": "local variable 'datetime' referenced before assignment",
     "output_type": "error",
     "traceback": [
      "\u001b[0;31m---------------------------------------------------------------------------\u001b[0m",
      "\u001b[0;31mUnboundLocalError\u001b[0m                         Traceback (most recent call last)",
      "\u001b[1;32m/root/capsule/code/beh_ephys_analysis/beh_ephys_processing.ipynb Cell 3\u001b[0m line \u001b[0;36m2\n\u001b[1;32m      <a href='vscode-notebook-cell://codeocean.allenneuraldynamics.org/root/capsule/code/beh_ephys_analysis/beh_ephys_processing.ipynb#W2sdnNjb2RlLXJlbW90ZQ%3D%3D?line=0'>1</a>\u001b[0m \u001b[39mfor\u001b[39;00m session \u001b[39min\u001b[39;00m session_list:\n\u001b[0;32m----> <a href='vscode-notebook-cell://codeocean.allenneuraldynamics.org/root/capsule/code/beh_ephys_analysis/beh_ephys_processing.ipynb#W2sdnNjb2RlLXJlbW90ZQ%3D%3D?line=1'>2</a>\u001b[0m     beh_and_time_alignment(session)\n\u001b[1;32m      <a href='vscode-notebook-cell://codeocean.allenneuraldynamics.org/root/capsule/code/beh_ephys_analysis/beh_ephys_processing.ipynb#W2sdnNjb2RlLXJlbW90ZQ%3D%3D?line=2'>3</a>\u001b[0m     plt\u001b[39m.\u001b[39mclose(\u001b[39m'\u001b[39m\u001b[39mall\u001b[39m\u001b[39m'\u001b[39m)\n",
      "File \u001b[0;32m~/capsule/code/beh_ephys_analysis/behavior_and_time_alignment.py:28\u001b[0m, in \u001b[0;36mbeh_and_time_alignment\u001b[0;34m(session, ephys_cut)\u001b[0m\n\u001b[1;32m     26\u001b[0m \u001b[39mprint\u001b[39m(session)\n\u001b[1;32m     27\u001b[0m qm_dict \u001b[39m=\u001b[39m {\u001b[39m'\u001b[39m\u001b[39msoundcard_sync\u001b[39m\u001b[39m'\u001b[39m: \u001b[39mNone\u001b[39;00m, \u001b[39m'\u001b[39m\u001b[39mephys_sync\u001b[39m\u001b[39m'\u001b[39m: \u001b[39mNone\u001b[39;00m}\n\u001b[0;32m---> 28\u001b[0m timestamp \u001b[39m=\u001b[39m datetime\u001b[39m.\u001b[39mdatetime\u001b[39m.\u001b[39mnow()\u001b[39m.\u001b[39mstrftime(\u001b[39m\"\u001b[39m\u001b[39m%\u001b[39m\u001b[39mY-\u001b[39m\u001b[39m%\u001b[39m\u001b[39mm-\u001b[39m\u001b[39m%d\u001b[39;00m\u001b[39m_\u001b[39m\u001b[39m%\u001b[39m\u001b[39mH-\u001b[39m\u001b[39m%\u001b[39m\u001b[39mM-\u001b[39m\u001b[39m%\u001b[39m\u001b[39mS\u001b[39m\u001b[39m\"\u001b[39m)\n\u001b[1;32m     29\u001b[0m output_file \u001b[39m=\u001b[39m os\u001b[39m.\u001b[39mpath\u001b[39m.\u001b[39mjoin(session_dir[\u001b[39m'\u001b[39m\u001b[39mprocessed_dir\u001b[39m\u001b[39m'\u001b[39m], \u001b[39mf\u001b[39m\u001b[39m\"\u001b[39m\u001b[39m{\u001b[39;00msession\u001b[39m}\u001b[39;00m\u001b[39m_process_record.txt\u001b[39m\u001b[39m\"\u001b[39m)\n\u001b[1;32m     31\u001b[0m \u001b[39m# Redirect stdout to the file\u001b[39;00m\n",
      "\u001b[0;31mUnboundLocalError\u001b[0m: local variable 'datetime' referenced before assignment"
     ]
    }
   ],
   "source": [
    "for session in session_list:\n",
    "    beh_and_time_alignment(session)\n",
    "    plt.close('all')"
   ]
  },
  {
   "cell_type": "code",
   "execution_count": 11,
   "metadata": {},
   "outputs": [],
   "source": [
    "for session in session_list:\n",
    "    ephys_opto_preprocessing(session, 'raw', 'soma')"
   ]
  },
  {
   "cell_type": "code",
   "execution_count": 14,
   "metadata": {},
   "outputs": [
    {
     "ename": "FileNotFoundError",
     "evalue": "[Errno 2] No such file or directory: '/root/capsule/scratch/751004/behavior_751004_2024-12-20_13-26-11/ephys/opto/raw/behavior_751004_2024-12-20_13-26-11_opto_responses_curated.pkl'",
     "output_type": "error",
     "traceback": [
      "\u001b[0;31m---------------------------------------------------------------------------\u001b[0m",
      "\u001b[0;31mFileNotFoundError\u001b[0m                         Traceback (most recent call last)",
      "\u001b[1;32m/root/capsule/code/beh_ephys_analysis/beh_ephys_processing.ipynb Cell 5\u001b[0m line \u001b[0;36m1\n\u001b[1;32m      <a href='vscode-notebook-cell://codeocean.allenneuraldynamics.org/root/capsule/code/beh_ephys_analysis/beh_ephys_processing.ipynb#W4sdnNjb2RlLXJlbW90ZQ%3D%3D?line=7'>8</a>\u001b[0m data_type \u001b[39m=\u001b[39m \u001b[39m'\u001b[39m\u001b[39mcurated\u001b[39m\u001b[39m'\u001b[39m\n\u001b[1;32m      <a href='vscode-notebook-cell://codeocean.allenneuraldynamics.org/root/capsule/code/beh_ephys_analysis/beh_ephys_processing.ipynb#W4sdnNjb2RlLXJlbW90ZQ%3D%3D?line=8'>9</a>\u001b[0m \u001b[39m# ephys_opto_preprocessing(session, data_type, target)\u001b[39;00m\n\u001b[1;32m     <a href='vscode-notebook-cell://codeocean.allenneuraldynamics.org/root/capsule/code/beh_ephys_analysis/beh_ephys_processing.ipynb#W4sdnNjb2RlLXJlbW90ZQ%3D%3D?line=9'>10</a>\u001b[0m \u001b[39m# opto_wf_preprocessing(session, data_type, target, load_sorting_analyzer=False)\u001b[39;00m\n\u001b[0;32m---> <a href='vscode-notebook-cell://codeocean.allenneuraldynamics.org/root/capsule/code/beh_ephys_analysis/beh_ephys_processing.ipynb#W4sdnNjb2RlLXJlbW90ZQ%3D%3D?line=10'>11</a>\u001b[0m opto_plotting_session(session, data_type, target, plot\u001b[39m=\u001b[39;49m\u001b[39mTrue\u001b[39;49;00m)\n",
      "File \u001b[0;32m~/capsule/code/beh_ephys_analysis/opto_tagging.py:236\u001b[0m, in \u001b[0;36mopto_plotting_session\u001b[0;34m(session, target, resp_thresh, lat_thresh, plot)\u001b[0m\n\u001b[1;32m    234\u001b[0m \u001b[39mwith\u001b[39;00m \u001b[39mopen\u001b[39m(os\u001b[39m.\u001b[39mpath\u001b[39m.\u001b[39mjoin(session_dir[\u001b[39mf\u001b[39m\u001b[39m'\u001b[39m\u001b[39mephys_processed_dir_\u001b[39m\u001b[39m{\u001b[39;00mdata_type\u001b[39m}\u001b[39;00m\u001b[39m'\u001b[39m], \u001b[39m'\u001b[39m\u001b[39mspiketimes.pkl\u001b[39m\u001b[39m'\u001b[39m), \u001b[39m'\u001b[39m\u001b[39mrb\u001b[39m\u001b[39m'\u001b[39m) \u001b[39mas\u001b[39;00m f:\n\u001b[1;32m    235\u001b[0m     spiketimes \u001b[39m=\u001b[39m pickle\u001b[39m.\u001b[39mload(f)\n\u001b[0;32m--> 236\u001b[0m \u001b[39mwith\u001b[39;00m \u001b[39mopen\u001b[39;49m(os\u001b[39m.\u001b[39;49mpath\u001b[39m.\u001b[39;49mjoin(session_dir[\u001b[39mf\u001b[39;49m\u001b[39m'\u001b[39;49m\u001b[39mopto_dir_\u001b[39;49m\u001b[39m{\u001b[39;49;00mdata_type\u001b[39m}\u001b[39;49;00m\u001b[39m'\u001b[39;49m], \u001b[39mf\u001b[39;49m\u001b[39m'\u001b[39;49m\u001b[39m{\u001b[39;49;00msession\u001b[39m}\u001b[39;49;00m\u001b[39m_opto_responses_\u001b[39;49m\u001b[39m{\u001b[39;49;00mtarget\u001b[39m}\u001b[39;49;00m\u001b[39m.pkl\u001b[39;49m\u001b[39m'\u001b[39;49m), \u001b[39m'\u001b[39;49m\u001b[39mrb\u001b[39;49m\u001b[39m'\u001b[39;49m) \u001b[39mas\u001b[39;00m f:\n\u001b[1;32m    237\u001b[0m     opto_responses \u001b[39m=\u001b[39m pickle\u001b[39m.\u001b[39mload(f)\n\u001b[1;32m    238\u001b[0m \u001b[39mwith\u001b[39;00m \u001b[39mopen\u001b[39m(os\u001b[39m.\u001b[39mpath\u001b[39m.\u001b[39mjoin(session_dir[\u001b[39mf\u001b[39m\u001b[39m'\u001b[39m\u001b[39mopto_dir_\u001b[39m\u001b[39m{\u001b[39;00mdata_type\u001b[39m}\u001b[39;00m\u001b[39m'\u001b[39m], \u001b[39mf\u001b[39m\u001b[39m'\u001b[39m\u001b[39m{\u001b[39;00msession\u001b[39m}\u001b[39;00m\u001b[39m_waveforms_\u001b[39m\u001b[39m{\u001b[39;00mtarget\u001b[39m}\u001b[39;00m\u001b[39m.pkl\u001b[39m\u001b[39m'\u001b[39m), \u001b[39m'\u001b[39m\u001b[39mrb\u001b[39m\u001b[39m'\u001b[39m) \u001b[39mas\u001b[39;00m f:\n",
      "\u001b[0;31mFileNotFoundError\u001b[0m: [Errno 2] No such file or directory: '/root/capsule/scratch/751004/behavior_751004_2024-12-20_13-26-11/ephys/opto/raw/behavior_751004_2024-12-20_13-26-11_opto_responses_curated.pkl'"
     ]
    }
   ],
   "source": [
    "session = 'behavior_751004_2024-12-20_13-26-11'\n",
    "data_type = 'raw'\n",
    "target = 'soma'\n",
    "# beh_and_time_alignment(session)\n",
    "# ephys_opto_preprocessing(session, data_type, target)\n",
    "# opto_wf_preprocessing(session, data_type, target, load_sorting_analyzer=False)\n",
    "# opto_plotting_session(session, data_type, target, plot=True)\n",
    "data_type = 'curated'\n",
    "# ephys_opto_preprocessing(session, data_type, target)\n",
    "# opto_wf_preprocessing(session, data_type, target, load_sorting_analyzer=False)\n",
    "opto_plotting_session(session, data_type, target, plot=True)"
   ]
  },
  {
   "cell_type": "code",
   "execution_count": 37,
   "metadata": {},
   "outputs": [
    {
     "name": "stderr",
     "output_type": "stream",
     "text": [
      "/root/capsule/code/beh_ephys_analysis/opto_tagging.py:214: FutureWarning: errors='ignore' is deprecated and will raise in a future version. Use to_numeric without passing `errors` and catch exceptions explicitly instead\n",
      "  unit_qc = unit_qc.apply(pd.to_numeric, errors='ignore')\n"
     ]
    },
    {
     "name": "stdout",
     "output_type": "stream",
     "text": [
      "80 out of 260 units pass quality control\n",
      "{'samples_to_keep': [-30, 60], 'y_neighbors_to_keep': 3, 'orginal_loc': False}\n",
      "target soma\n",
      "data_type raw\n",
      "Merging file 0 out of 260\n",
      "Merging file 50 out of 260\n",
      "Merging file 100 out of 260\n",
      "Merging file 150 out of 260\n",
      "Merging file 200 out of 260\n",
      "Merging file 250 out of 260\n",
      "PDF files in '/root/capsule/scratch/751004/behavior_751004_2024-12-20_13-26-11/ephys/opto/raw/figures' merged into '/root/capsule/scratch/751004/behavior_751004_2024-12-20_13-26-11/ephys/opto/raw/behavior_751004_2024-12-20_13-26-11_opto_tagging.pdf' successfully.\n",
      "7 out of 260 units pass quality control and opto tagging\n"
     ]
    }
   ],
   "source": [
    "session = 'behavior_751004_2024-12-20_13-26-11'\n",
    "data_type = 'raw'\n",
    "target = 'soma'\n",
    "pass_dict = opto_plotting_session(session, data_type, target, plot=False)"
   ]
  },
  {
   "cell_type": "code",
   "execution_count": 48,
   "metadata": {},
   "outputs": [
    {
     "name": "stdout",
     "output_type": "stream",
     "text": [
      "32      32\n",
      "40      40\n",
      "57      58\n",
      "80      81\n",
      "87      88\n",
      "125    127\n",
      "206    209\n",
      "Name: unit_id, dtype: int64\n"
     ]
    }
   ],
   "source": [
    "import pandas as pd\n",
    "\n",
    "# Convert the dictionary to a DataFrame\n",
    "df = pd.DataFrame(pass_dict)\n",
    "\n",
    "# Use '&' for element-wise AND, and wrap each condition in parentheses\n",
    "result = df.loc[(df['opto_tagging'] == True) & (df['pass_qc'] == True), 'unit_id']\n",
    "print(result)"
   ]
  }
 ],
 "metadata": {
  "kernelspec": {
   "display_name": "base",
   "language": "python",
   "name": "python3"
  },
  "language_info": {
   "codemirror_mode": {
    "name": "ipython",
    "version": 3
   },
   "file_extension": ".py",
   "mimetype": "text/x-python",
   "name": "python",
   "nbconvert_exporter": "python",
   "pygments_lexer": "ipython3",
   "version": "3.9.12"
  }
 },
 "nbformat": 4,
 "nbformat_minor": 2
}
