{
 "cells": [
  {
   "cell_type": "code",
   "execution_count": 43,
   "metadata": {},
   "outputs": [],
   "source": [
    "from harp.clock import decode_harp_clock, align_timestamps_to_anchor_points\n",
    "from open_ephys.analysis import Session\n",
    "import datetime\n",
    "from aind_ephys_rig_qc.temporal_alignment import search_harp_line\n",
    "import os\n",
    "import numpy as np\n",
    "import matplotlib.pyplot as plt\n",
    "import matplotlib.gridspec as gridspec\n",
    "from matplotlib.colors import LinearSegmentedColormap\n",
    "import pandas as pd\n",
    "import os\n",
    "from pynwb import NWBFile, TimeSeries, NWBHDF5IO\n",
    "from scipy.io import loadmat\n",
    "from scipy.stats import zscore\n",
    "import ast\n",
    "\n",
    "from open_ephys.analysis import Session\n",
    "from pathlib import Path\n",
    "import glob\n",
    "\n",
    "import spikeinterface as si\n",
    "import xarray as xr\n",
    "import json\n",
    "import seaborn as sns\n",
    "from PyPDF2 import PdfMerger\n",
    "from aind_ephys_utils import align \n",
    "from sklearn.linear_model import LinearRegression\n",
    "import statsmodels.api as sm\n",
    "import re\n",
    "from aind_dynamic_foraging_basic_analysis.licks.lick_analysis import load_nwb, load_data\n",
    "from aind_dynamic_foraging_data_utils.nwb_utils import load_nwb_from_filename\n",
    "from hdmf_zarr.nwb import NWBZarrIO\n",
    "from utils.beh_functions import session_dirs, parseSessionID, load_model_dv, makeSessionDF, get_session_tbl, get_unit_tbl\n",
    "from utils.ephys_functions import build_time_window_domain, \\\n",
    "                            build_spike_histogram, \\\n",
    "                            build_spike_histogram_overlap, \\\n",
    "                            fitSpikeModelP, \\\n",
    "                            fitSpikeModelG\n",
    "import pandas as pd\n",
    "import pickle\n",
    "\n",
    "%matplotlib inline\n",
    "%matplotlib widget"
   ]
  },
  {
   "cell_type": "code",
   "execution_count": 44,
   "metadata": {},
   "outputs": [],
   "source": [
    "session = 'behavior_751004_2024-12-20_13-26-11'\n",
    "model_name = 'stan_qLearning_5params'\n",
    "session_dir = session_dirs(session, model_name = model_name)\n",
    "data_type = 'curated'\n",
    "curate_time = True"
   ]
  },
  {
   "cell_type": "code",
   "execution_count": 45,
   "metadata": {},
   "outputs": [],
   "source": [
    "# load behavior data\n",
    "session_df = makeSessionDF(session, model_name = model_name)"
   ]
  },
  {
   "cell_type": "code",
   "execution_count": 131,
   "metadata": {},
   "outputs": [],
   "source": [
    "def convert_values(value):\n",
    "    if isinstance(value, str):\n",
    "        try:\n",
    "            # Convert NumPy-like array strings into proper lists\n",
    "            if \"nan\" in value:\n",
    "                list_array = json.loads(value.replace(\"nan\", \"null\"))\n",
    "                return np.array(list_array)\n",
    "            elif \"[\" in value and \"]\" in value and \",\" in value:\n",
    "                string_list = value.replace(\"nan\", \"np.nan\")\n",
    "                return np.array(ast.literal_eval(string_list))\n",
    "            elif \"[\" in value and \"]\" in value and \",\" not in value:\n",
    "                # return np.array(ast.literal_eval(value.replace(\" \", \",\")))\n",
    "                return np.fromstring(value.strip(\"[]\"), sep=\" \")\n",
    "            else:\n",
    "                return ast.literal_eval(value)  # Convert regular lists\n",
    "        except (ValueError, SyntaxError):\n",
    "            return value  # If conversion fails, return original string\n",
    "    return value  # Return value as-is if not a string\n",
    "    \n",
    "def load_drift(session, unit_id, data_type='curated'):\n",
    "    session_dir = session_dirs(session)\n",
    "    drift_file = os.path.join(session_dir[f'opto_dir_{data_type}'], f'{session}_opto_drift_tbl.csv')\n",
    "    opto_drift_tbl = pd.read_csv(drift_file)    \n",
    "    opto_drift_tbl.reset_index(drop=True, inplace=True)\n",
    "    if unit_id==None:\n",
    "        return opto_drift_tbl\n",
    "    else:\n",
    "        if unit_id in opto_drift_tbl['unit_id'].values:\n",
    "            unit_drift = opto_drift_tbl[opto_drift_tbl['unit_id'] == unit_id].iloc[0].to_dict()\n",
    "            # Apply conversion\n",
    "            converted_data = {key: convert_values(val) for key, val in unit_drift.items()}\n",
    "            unit_drift = converted_data\n",
    "            return unit_drift\n",
    "        else:\n",
    "            return None\n",
    "\n",
    "def get_spike_matrix(spike_times, align_time, pre_event, post_event, binSize, stepSize):\n",
    "    bin_times = np.arange(pre_event, post_event, stepSize) - 0.5*stepSize\n",
    "    spike_matrix = np.zeros((len(align_time), len(bin_times)))\n",
    "    for i, t in enumerate(align_time):\n",
    "        for j, b in enumerate(bin_times):\n",
    "            spike_matrix[i, j] = np.sum((spike_times >= t + b - 0.5*binSize) & (spike_times < t + b + 0.5*binSize))\n",
    "    spike_matrix = spike_matrix / binSize\n",
    "    return spike_matrix, bin_times\n",
    "\n",
    "def plot_filled_sem(time, y_mat, color, ax, label):\n",
    "    ax.plot(time, np.nanmean(y_mat, 0), c = color, label = label)\n",
    "    sem = np.std(y_mat, axis = 0)/np.sqrt(np.shape(y_mat)[0])\n",
    "    ax.fill_between(time, np.nanmean(y_mat, 0) - sem, np.nanmean(y_mat, 0) + sem, color = color, alpha = 0.25, edgecolor = None)\n",
    "\n",
    "def plot_raster_rate(\n",
    "    spike_times,\n",
    "    currArray,\n",
    "    slide_times,\n",
    "    align_events, # sorted by certain value\n",
    "    map_value,\n",
    "    bins,\n",
    "    labels,\n",
    "    colormap,\n",
    "    fig,\n",
    "    subplot_spec,\n",
    "    tb=-2,\n",
    "    tf=3,\n",
    "):\n",
    "    n_colors = len(bins)-1\n",
    "    color_list = [colormap(i / (n_colors - 1)) for i in range(n_colors)]\n",
    "\n",
    "    \"\"\"Plot raster and rate aligned to events\"\"\"\n",
    "    nested_gs = gridspec.GridSpecFromSubplotSpec(2, 1, height_ratios= [3, 1], subplot_spec=subplot_spec)\n",
    "    ax1 = fig.add_subplot(nested_gs[0, 0])\n",
    "    ax2 = fig.add_subplot(nested_gs[1, 0])\n",
    "\n",
    "    # order events by values\n",
    "    sort_ind = np.argsort(map_value)\n",
    "    align_events = align_events[sort_ind]\n",
    "\n",
    "    df = align.to_events(spike_times, align_events, (tb, tf), return_df=True)\n",
    "    \n",
    "    # vertical line at time 0\n",
    "    ax1.axvline(x=0, c=\"r\", ls=\"--\", lw=1, zorder=1)\n",
    "\n",
    "    # raster plot\n",
    "    ax1.scatter(df.time, df.event_index, c=\"k\", marker=\"|\", s=1)\n",
    "\n",
    "    # horizontal line for each type if discrete\n",
    "    if len(np.unique(map_value)) <= 4:\n",
    "        discrete_types = np.sort(np.unique(map_value))\n",
    "    else:\n",
    "        discrete_types = bins\n",
    "    \n",
    "    for val in discrete_types:\n",
    "        level = np.sum(map_value <= val)\n",
    "        ax1.axhline(y=level, c=\"k\", ls=\"--\", lw=1)\n",
    "\n",
    "    ax1.set_title(' '.join(labels))\n",
    "    ax1.set_xlim(tb, tf)\n",
    "    ax1.set_ylabel('__'.join(labels))\n",
    "\n",
    "    # rate plot by binned values\n",
    "\n",
    "    for bin_ind in range(len(bins)-1): \n",
    "        currList = np.where((np.array(map_value)>=bins[bin_ind]) & (np.array(map_value)<bins[bin_ind + 1]))[0]\n",
    "        if len(currList) > 0:\n",
    "            M = currArray[currList, :]\n",
    "            plot_filled_sem(slide_times, M, color_list[bin_ind], ax2, labels[bin_ind])\n",
    "\n",
    "    ax2.legend()\n",
    "\n",
    "    ax2.set_title(\"spike rate\")\n",
    "    ax2.set_xlim(tb, tf)\n",
    "    ax2.set_xlabel(\"Time from alignment (s)\")\n",
    "\n",
    "    return fig, ax1, ax2\n",
    "\n",
    "def plot_rate(\n",
    "    currArray, \n",
    "    align_events, # sorted by certain value\n",
    "    map_value,\n",
    "    bins,\n",
    "    labels,\n",
    "    colormap,\n",
    "    fig,\n",
    "    subplot_spec,\n",
    "    tb,\n",
    "    tf,\n",
    "):\n",
    "    n_colors = len(bins)-1\n",
    "    color_list = [colormap(i / (n_colors - 1)) for i in range(n_colors)]\n",
    "\n",
    "    \"\"\"Plot raster and rate aligned to events\"\"\"\n",
    "    # order events by values\n",
    "    sort_ind = np.argsort(map_value)\n",
    "    align_events = align_events[sort_ind]\n",
    "\n",
    "    df = align.to_events(spike_times, align_events, (tb, tf), return_df=True)\n",
    "    ax = fig.add_subplot(subplot_spec)\n",
    "\n",
    "    # horizontal line for each type if discrete\n",
    "    if len(np.unique(map_value)) <= 4:\n",
    "        discrete_types = np.sort(np.unique(map_value))\n",
    "    else:\n",
    "        discrete_types = bins\n",
    "    \n",
    "    for val in discrete_types:\n",
    "        level = np.sum(map_value <= val)\n",
    "        ax.axhline(y=level, c=\"k\", ls=\"--\", lw=1)\n",
    "\n",
    "    ax.set_title(' '.join(labels))\n",
    "    ax.set_xlim(tb, tf)\n",
    "    ax.set_ylabel('__'.join(labels))\n",
    "\n",
    "    # rate plot by binned values\n",
    "\n",
    "    for bin_ind in range(len(bins)-1): \n",
    "        currList = np.where((np.array(map_value)>=bins[bin_ind]) & (np.array(map_value)<bins[bin_ind + 1]))[0]\n",
    "        M = currArray.sel(trialInd = currList).values\n",
    "        plot_filled_sem(currArray.trialTime, M, color_list[bin_ind], ax, labels[bin_ind])\n",
    "\n",
    "    ax.legend()\n",
    "\n",
    "    ax.set_title(\"spike rate\")\n",
    "    ax.set_xlim(tb, tf)\n",
    "    ax.set_xlabel(\"Time from alignment (s)\")\n",
    "\n",
    "    return fig, ax\n"
   ]
  },
  {
   "cell_type": "code",
   "execution_count": 47,
   "metadata": {},
   "outputs": [],
   "source": [
    "qm_dir = os.path.join(session_dir['processed_dir'], f'{session}_qm.json')\n",
    "with open(qm_dir, 'r') as f:\n",
    "    qm = json.load(f)"
   ]
  },
  {
   "cell_type": "code",
   "execution_count": 62,
   "metadata": {},
   "outputs": [],
   "source": [
    "unit_tbl = get_unit_tbl(session, data_type)"
   ]
  },
  {
   "cell_type": "code",
   "execution_count": 104,
   "metadata": {},
   "outputs": [],
   "source": [
    "pre_event=-1\n",
    "post_event=3\n",
    "binSize=0.2\n",
    "stepSize=0.05\n",
    "fs = 14\n",
    "fsLegend = 8\n",
    "formula = 'spikes ~ 1 + outcome + choice + Qchosen'"
   ]
  },
  {
   "cell_type": "code",
   "execution_count": 107,
   "metadata": {},
   "outputs": [
    {
     "data": {
      "text/plain": [
       "array([-1.025, -0.975, -0.925, -0.875, -0.825, -0.775, -0.725, -0.675,\n",
       "       -0.625, -0.575, -0.525, -0.475, -0.425, -0.375, -0.325, -0.275,\n",
       "       -0.225, -0.175, -0.125, -0.075, -0.025,  0.025,  0.075,  0.125,\n",
       "        0.175,  0.225,  0.275,  0.325,  0.375,  0.425,  0.475,  0.525,\n",
       "        0.575,  0.625,  0.675,  0.725,  0.775,  0.825,  0.875,  0.925,\n",
       "        0.975,  1.025,  1.075,  1.125,  1.175,  1.225,  1.275,  1.325,\n",
       "        1.375,  1.425])"
      ]
     },
     "execution_count": 107,
     "metadata": {},
     "output_type": "execute_result"
    }
   ],
   "source": [
    "slide_times"
   ]
  },
  {
   "cell_type": "code",
   "execution_count": 137,
   "metadata": {},
   "outputs": [],
   "source": [
    "colors = [\"blue\", \"white\", \"red\"]\n",
    "custom_cmap = LinearSegmentedColormap.from_list(\"blue_white_red\", colors)\n",
    " \n",
    "def plot_unit(unit_id, data_type = data_type, align_name=align_name):\n",
    "    unit_drift = load_drift(session, unit_id, data_type=data_type)\n",
    "    spike_times = unit_tbl.query('unit_id == @unit_id')['spike_times'].values[0]\n",
    "    qc_pass = unit_tbl.query('unit_id == @unit_id')['default_qc'].values[0]\n",
    "    opto_pass = unit_tbl.query('unit_id == @unit_id')['opto_pass'].values[0]\n",
    "    session_df_curr = session_df.copy()\n",
    "    spike_times_curr = spike_times.copy()\n",
    "    if curate_time:\n",
    "        if unit_drift is not None:\n",
    "            if unit_drift['ephys_cut'][0] is not None:\n",
    "                spike_times_curr = spike_times_curr[spike_times_curr >= unit_drift['ephys_cut'][0]]\n",
    "                session_df_curr = session_df_curr[session_df_curr['go_cue_time'] >= unit_drift['ephys_cut'][0]]\n",
    "            if unit_drift['ephys_cut'][1] is not None:\n",
    "                spike_times_curr = spike_times_curr[spike_times_curr <= unit_drift['ephys_cut'][1]]\n",
    "                session_df_curr = session_df_curr[session_df_curr['go_cue_time'] <= unit_drift['ephys_cut'][1]]\n",
    "    if align_name == 'go_cue':\n",
    "        align_time = session_df_curr['go_cue_time'].values\n",
    "    elif align_name == 'response':\n",
    "        align_time = session_df_curr['choice_time'].values\n",
    "    spike_matrix, slide_times = get_spike_matrix(spike_times_curr, align_time, \n",
    "                                                pre_event=pre_event, post_event=post_event, \n",
    "                                                binSize=binSize, stepSize=stepSize)\n",
    "    spike_matrix_LM, slide_times_LM = get_spike_matrix(spike_times_curr, align_time, \n",
    "                                                pre_event=-2, post_event=2.5, \n",
    "                                                binSize=0.5, stepSize=0.2)\n",
    "\n",
    "    fig = plt.figure(figsize=(20, 10))\n",
    "    gs = gridspec.GridSpec(2, 7, height_ratios=[3, 1])\n",
    "\n",
    "    # from start to end\n",
    "\n",
    "    ax = fig.add_subplot(gs[0, 1])  \n",
    "    df = align.to_events(spike_times_curr, align_time, (pre_event, post_event), return_df=True)\n",
    "    ax.scatter(df.time, df.event_index, c='k', marker= '|', s=1)\n",
    "    ax.set_xlim(pre_event, post_event)\n",
    "    ax.set_ylabel('Trial number', fontsize = fs)\n",
    "    ax.tick_params(axis='both', which='major', labelsize=fs)\n",
    "    plt.plot([0,0],[0,df.event_index.max()],'r')\n",
    "\n",
    "    # waveform\n",
    "    ax = fig.add_subplot(gs[1, 1])  \n",
    "    waveform = unit_tbl.query('unit_id == @unit_id')['waveform_mean'].values[0]\n",
    "    peakChannel = np.argmin(np.min(waveform, axis=0))\n",
    "    peakWaveform = waveform[:,peakChannel]\n",
    "    peakSD = unit_tbl.query('unit_id == @unit_id')['waveform_mean'].values[0][:,peakChannel]\n",
    "    timeWF = np.array(range(len(peakWaveform)))-90\n",
    "    ax.plot(timeWF, peakWaveform, color = 'k')\n",
    "    ax.fill_between(timeWF, peakWaveform - peakSD/np.sqrt(499), peakWaveform + peakSD/np.sqrt(499), color = 'k', alpha = 0.1)\n",
    "    ax.axhline(y=0, color = 'r', ls = '--')\n",
    "    ax.set_xlabel('Time (ms)', fontsize = fs)\n",
    "    ax.set_ylabel(r'$\\mu$-Plot')\n",
    "\n",
    "    # reward and no reward\n",
    "    outcome_int = [int(item) for item in session_df_curr['outcome'].tolist()]\n",
    "    bins = [-1, 0.5, 1.5]\n",
    "    labels = ['no reward', 'reward']\n",
    "    fig, ax1, ax2 = plot_raster_rate(spike_times_curr,\n",
    "                                    spike_matrix, \n",
    "                                    slide_times,\n",
    "                                    align_time, \n",
    "                                    outcome_int, # sorted by certain value\n",
    "                                    bins,\n",
    "                                    labels,\n",
    "                                    custom_cmap,\n",
    "                                    fig,\n",
    "                                    gs[0, 2],\n",
    "                                    tb=pre_event,\n",
    "                                    tf=post_event,\n",
    "                                    )\n",
    "    ax1.set_title('Reward vs No Reward', fontsize = fs+2)\n",
    "\n",
    "    # left and right\n",
    "    side_int = [int(item) for item in session_df_curr['choice'].tolist()]\n",
    "    bins = [-1.5, 0.5, 1.5]\n",
    "    labels = ['left', 'right']\n",
    "    fig, ax1, ax2 = plot_raster_rate(spike_times_curr,\n",
    "                                    spike_matrix,\n",
    "                                    slide_times, \n",
    "                                    align_time, \n",
    "                                    side_int, # sorted by certain value\n",
    "                                    bins,\n",
    "                                    labels,\n",
    "                                    custom_cmap,\n",
    "                                    fig,\n",
    "                                    gs[0, 3],\n",
    "                                    tb=pre_event,\n",
    "                                    tf=post_event,\n",
    "                                    )\n",
    "    ax1.set_title('Right vs Left', fontsize = fs+2)\n",
    "\n",
    "    # rpe\n",
    "    target_var = 'pe'\n",
    "    bin_counts = 4\n",
    "    bins = np.quantile(session_df_curr[target_var].values, np.linspace(0, 1, bin_counts+1))\n",
    "    # bins = [-1.0001, -0.5, 0, 0.5, 1.0001]\n",
    "    bins[0] = bins[0] - 0.0001\n",
    "    bins[-1] = bins[-1] + 0.0001\n",
    "    labels = ['1', '2', '3', '4']\n",
    "    fig, ax1, ax2 = plot_raster_rate(spike_times_curr,\n",
    "                                    spike_matrix, \n",
    "                                    slide_times,\n",
    "                                    align_time, \n",
    "                                    session_df_curr[target_var].values, # sorted by certain value\n",
    "                                    bins,\n",
    "                                    labels,\n",
    "                                    custom_cmap,\n",
    "                                    fig,\n",
    "                                    gs[0, 4],\n",
    "                                    tb=pre_event,\n",
    "                                    tf=post_event,\n",
    "                                    )\n",
    "    # ax.set_yticks([])\n",
    "    # ax.set_ylabel(label, fontsize = fs)\n",
    "    ax1.set_title(target_var, fontsize = fs+2)\n",
    "\n",
    "\n",
    "    # Qchosen\n",
    "    target_var = 'Qchosen'\n",
    "    bin_counts = 4\n",
    "    bins = np.quantile(session_df_curr[target_var].values, np.linspace(0, 1, bin_counts+1))\n",
    "    # bins = [-1.0001, -0.5, 0, 0.5, 1.0001]\n",
    "    bins[0] = bins[0] - 0.0001\n",
    "    bins[-1] = bins[-1] + 0.0001\n",
    "    labels = ['1', '2', '3', '4']\n",
    "    fig, ax1, ax2 = plot_raster_rate(spike_times_curr,\n",
    "                                    spike_matrix, \n",
    "                                    slide_times,\n",
    "                                    align_time, \n",
    "                                    session_df_curr[target_var].values, # sorted by certain value\n",
    "                                    bins,\n",
    "                                    labels,\n",
    "                                    custom_cmap,\n",
    "                                    fig,\n",
    "                                    gs[0, 5],\n",
    "                                    tb=pre_event,\n",
    "                                    tf=post_event,\n",
    "                                    )\n",
    "    # ax.set_yticks([])\n",
    "    # ax.set_ylabel(label, fontsize = fs)\n",
    "    ax1.set_title(target_var, fontsize = fs+2)\n",
    "\n",
    "    gs = gridspec.GridSpec(3, 7, height_ratios=[1, 1, 1])\n",
    "    ax = fig.add_subplot(gs[0,-1])\n",
    "    \n",
    "    if len(session_df_curr) > 100:\n",
    "        # plot regresssions\n",
    "        gs = gridspec.GridSpec(3, 7, height_ratios=[1, 1, 1])\n",
    "        ax = fig.add_subplot(gs[0,-1])\n",
    "        regressors, TvCurrU, PvCurrU, EvCurrU = fitSpikeModelP(session_df_curr, spike_matrix_LM, formula)\n",
    "        TvCurrUSig = TvCurrU.copy()\n",
    "        TvCurrUSig[PvCurrU>=0.05] = np.nan\n",
    "        cmap = plt.get_cmap('viridis')\n",
    "        colors = cmap(np.linspace(0, 1, len(regressors)))\n",
    "        for regress in range(1, len(regressors)):\n",
    "            ax.plot(slide_times_LM, TvCurrU[:, regress], lw = 2, color = colors[regress,], label = regressors[regress])\n",
    "            ax.plot(slide_times_LM, TvCurrUSig[:, regress], lw = 4, color = colors[regress,])\n",
    "        ax.legend(fontsize = fsLegend)\n",
    "        ax.set_xlabel(f'Time from {align_name} (s)', fontsize = fs)\n",
    "        ax.set_title('T-stats', fontsize = fs)\n",
    "\n",
    "        ax = fig.add_subplot(gs[1,-1])\n",
    "        for regress in range(1, len(regressors)):\n",
    "            ax.plot(slide_times_LM, -np.log10(PvCurrU[:, regress]), lw = 1, color = colors[regress,], label = regressors[regress])\n",
    "\n",
    "        plt.axhline(y = -np.log10(0.05), color='r', ls = '--')\n",
    "        ax.legend(fontsize = fsLegend)\n",
    "        ax.set_xlabel(f'Time from {align_name} (s)', fontsize = fs)\n",
    "        ax.set_title('p-value', fontsize = fs)\n",
    "        plt.suptitle(f'Unit{str(unit_id)} Aligned to {align_name} default qc: {qc_pass} maybe opto: {opto_pass}', fontsize = 20) \n",
    "    # # baseline \n",
    "    # gs = gridspec.GridSpec(3, 5, width_ratios=[1, 1, 1, 1,1], height_ratios=[1, 1, 1])\n",
    "    # ax = fig.add_subplot(gs[2,3])\n",
    "    # numBins = 3\n",
    "    # rInd = np.argsort(trialData['Qr'])\n",
    "    # M = []\n",
    "    # for b in range(numBins):\n",
    "    #     currM = currArrayBl.sel(trialInd = rInd[int(np.round(b*len(rInd)/numBins)): int(np.round((b+1)*len(rInd)/numBins))].values).mean(dim='trialInd')\n",
    "    #     M.append(currM)\n",
    "\n",
    "    # cmap = plt.get_cmap('coolwarm')\n",
    "    # colors = cmap(np.linspace(0.6, 1, len(M)))\n",
    "    # for b in range(numBins):\n",
    "    #     ax.plot(timeBl, M[b].values, c = colors[b,:])\n",
    "\n",
    "    # ax.set_title('Qr')\n",
    "\n",
    "    # ax = fig.add_subplot(gs[2, 4])\n",
    "    # numBins = 3\n",
    "    # rInd = np.argsort(trialData['Ql'])\n",
    "    # M = []\n",
    "    # for b in range(numBins):\n",
    "    #     currM = currArrayBl.sel(trialInd = rInd[int(np.round(b*len(rInd)/numBins)): int(np.round((b+1)*len(rInd)/numBins))].values).mean(dim='trialInd')\n",
    "    #     M.append(currM)\n",
    "\n",
    "    # cmap = plt.get_cmap('coolwarm')\n",
    "    # colors = cmap(np.linspace(0.6, 1, len(M)))\n",
    "    # for b in range(numBins):\n",
    "    #     ax.plot(timeBl, M[b].values, c = colors[b,:])\n",
    "\n",
    "    # ax.set_title('Ql')\n",
    "    # plt.show()\n",
    "    plt.tight_layout()  \n",
    "    return fig"
   ]
  },
  {
   "cell_type": "code",
   "execution_count": null,
   "metadata": {},
   "outputs": [],
   "source": [
    "fig = plot_unit(9, data_type = data_type, align_name='go_cue')"
   ]
  },
  {
   "cell_type": "code",
   "execution_count": 139,
   "metadata": {},
   "outputs": [
    {
     "name": "stderr",
     "output_type": "stream",
     "text": [
      "/tmp/ipykernel_18857/1190767024.py:205: UserWarning: tight_layout not applied: number of rows in subplot specifications must be multiples of one another.\n",
      "  plt.tight_layout()\n",
      "/tmp/ipykernel_18857/1190767024.py:205: UserWarning: tight_layout not applied: number of rows in subplot specifications must be multiples of one another.\n",
      "  plt.tight_layout()\n",
      "/tmp/ipykernel_18857/1190767024.py:205: UserWarning: tight_layout not applied: number of rows in subplot specifications must be multiples of one another.\n",
      "  plt.tight_layout()\n",
      "/tmp/ipykernel_18857/1190767024.py:205: UserWarning: tight_layout not applied: number of rows in subplot specifications must be multiples of one another.\n",
      "  plt.tight_layout()\n",
      "/tmp/ipykernel_18857/1190767024.py:205: UserWarning: tight_layout not applied: number of rows in subplot specifications must be multiples of one another.\n",
      "  plt.tight_layout()\n",
      "/tmp/ipykernel_18857/1190767024.py:205: UserWarning: tight_layout not applied: number of rows in subplot specifications must be multiples of one another.\n",
      "  plt.tight_layout()\n",
      "/tmp/ipykernel_18857/1190767024.py:205: UserWarning: tight_layout not applied: number of rows in subplot specifications must be multiples of one another.\n",
      "  plt.tight_layout()\n",
      "/tmp/ipykernel_18857/1190767024.py:205: UserWarning: tight_layout not applied: number of rows in subplot specifications must be multiples of one another.\n",
      "  plt.tight_layout()\n",
      "/tmp/ipykernel_18857/1190767024.py:205: UserWarning: tight_layout not applied: number of rows in subplot specifications must be multiples of one another.\n",
      "  plt.tight_layout()\n",
      "/opt/conda/lib/python3.10/site-packages/statsmodels/genmod/families/family.py:445: RuntimeWarning: invalid value encountered in divide\n",
      "  endog_mu = self._clean(endog / mu)\n"
     ]
    },
    {
     "name": "stdout",
     "output_type": "stream",
     "text": [
      "Unit 9 failed to plot\n"
     ]
    },
    {
     "name": "stderr",
     "output_type": "stream",
     "text": [
      "/opt/conda/lib/python3.10/site-packages/statsmodels/genmod/families/family.py:445: RuntimeWarning: invalid value encountered in divide\n",
      "  endog_mu = self._clean(endog / mu)\n"
     ]
    },
    {
     "name": "stdout",
     "output_type": "stream",
     "text": [
      "Unit 10 failed to plot\n"
     ]
    },
    {
     "name": "stderr",
     "output_type": "stream",
     "text": [
      "/opt/conda/lib/python3.10/site-packages/statsmodels/genmod/families/family.py:445: RuntimeWarning: invalid value encountered in divide\n",
      "  endog_mu = self._clean(endog / mu)\n"
     ]
    },
    {
     "name": "stdout",
     "output_type": "stream",
     "text": [
      "Unit 11 failed to plot\n"
     ]
    },
    {
     "name": "stderr",
     "output_type": "stream",
     "text": [
      "/tmp/ipykernel_18857/1190767024.py:205: UserWarning: tight_layout not applied: number of rows in subplot specifications must be multiples of one another.\n",
      "  plt.tight_layout()\n",
      "/opt/conda/lib/python3.10/site-packages/statsmodels/genmod/families/family.py:445: RuntimeWarning: invalid value encountered in divide\n",
      "  endog_mu = self._clean(endog / mu)\n"
     ]
    },
    {
     "name": "stdout",
     "output_type": "stream",
     "text": [
      "Unit 13 failed to plot\n"
     ]
    },
    {
     "name": "stderr",
     "output_type": "stream",
     "text": [
      "/tmp/ipykernel_18857/1190767024.py:205: UserWarning: tight_layout not applied: number of rows in subplot specifications must be multiples of one another.\n",
      "  plt.tight_layout()\n",
      "/tmp/ipykernel_18857/1190767024.py:205: UserWarning: tight_layout not applied: number of rows in subplot specifications must be multiples of one another.\n",
      "  plt.tight_layout()\n",
      "/tmp/ipykernel_18857/1190767024.py:205: UserWarning: tight_layout not applied: number of rows in subplot specifications must be multiples of one another.\n",
      "  plt.tight_layout()\n",
      "/opt/conda/lib/python3.10/site-packages/statsmodels/genmod/families/family.py:445: RuntimeWarning: invalid value encountered in divide\n",
      "  endog_mu = self._clean(endog / mu)\n"
     ]
    },
    {
     "name": "stdout",
     "output_type": "stream",
     "text": [
      "Unit 18 failed to plot\n"
     ]
    },
    {
     "name": "stderr",
     "output_type": "stream",
     "text": [
      "/opt/conda/lib/python3.10/site-packages/statsmodels/genmod/families/family.py:445: RuntimeWarning: invalid value encountered in divide\n",
      "  endog_mu = self._clean(endog / mu)\n"
     ]
    },
    {
     "name": "stdout",
     "output_type": "stream",
     "text": [
      "Unit 20 failed to plot\n"
     ]
    },
    {
     "name": "stderr",
     "output_type": "stream",
     "text": [
      "/tmp/ipykernel_18857/1190767024.py:205: UserWarning: tight_layout not applied: number of rows in subplot specifications must be multiples of one another.\n",
      "  plt.tight_layout()\n",
      "/opt/conda/lib/python3.10/site-packages/statsmodels/genmod/families/family.py:445: RuntimeWarning: invalid value encountered in divide\n",
      "  endog_mu = self._clean(endog / mu)\n"
     ]
    },
    {
     "name": "stdout",
     "output_type": "stream",
     "text": [
      "Unit 22 failed to plot\n"
     ]
    },
    {
     "name": "stderr",
     "output_type": "stream",
     "text": [
      "/tmp/ipykernel_18857/1190767024.py:205: UserWarning: tight_layout not applied: number of rows in subplot specifications must be multiples of one another.\n",
      "  plt.tight_layout()\n",
      "/tmp/ipykernel_18857/1190767024.py:205: UserWarning: tight_layout not applied: number of rows in subplot specifications must be multiples of one another.\n",
      "  plt.tight_layout()\n",
      "/tmp/ipykernel_18857/1190767024.py:205: UserWarning: tight_layout not applied: number of rows in subplot specifications must be multiples of one another.\n",
      "  plt.tight_layout()\n",
      "/tmp/ipykernel_18857/1190767024.py:205: UserWarning: tight_layout not applied: number of rows in subplot specifications must be multiples of one another.\n",
      "  plt.tight_layout()\n",
      "/opt/conda/lib/python3.10/site-packages/statsmodels/genmod/families/family.py:445: RuntimeWarning: invalid value encountered in divide\n",
      "  endog_mu = self._clean(endog / mu)\n"
     ]
    },
    {
     "name": "stdout",
     "output_type": "stream",
     "text": [
      "Unit 29 failed to plot\n"
     ]
    },
    {
     "name": "stderr",
     "output_type": "stream",
     "text": [
      "/opt/conda/lib/python3.10/site-packages/statsmodels/genmod/families/family.py:445: RuntimeWarning: invalid value encountered in divide\n",
      "  endog_mu = self._clean(endog / mu)\n"
     ]
    },
    {
     "name": "stdout",
     "output_type": "stream",
     "text": [
      "Unit 30 failed to plot\n"
     ]
    },
    {
     "name": "stderr",
     "output_type": "stream",
     "text": [
      "/tmp/ipykernel_18857/1190767024.py:205: UserWarning: tight_layout not applied: number of rows in subplot specifications must be multiples of one another.\n",
      "  plt.tight_layout()\n",
      "/tmp/ipykernel_18857/1190767024.py:205: UserWarning: tight_layout not applied: number of rows in subplot specifications must be multiples of one another.\n",
      "  plt.tight_layout()\n",
      "/tmp/ipykernel_18857/1190767024.py:205: UserWarning: tight_layout not applied: number of rows in subplot specifications must be multiples of one another.\n",
      "  plt.tight_layout()\n",
      "/tmp/ipykernel_18857/1190767024.py:205: UserWarning: tight_layout not applied: number of rows in subplot specifications must be multiples of one another.\n",
      "  plt.tight_layout()\n",
      "/tmp/ipykernel_18857/1190767024.py:205: UserWarning: tight_layout not applied: number of rows in subplot specifications must be multiples of one another.\n",
      "  plt.tight_layout()\n",
      "/tmp/ipykernel_18857/1190767024.py:205: UserWarning: tight_layout not applied: number of rows in subplot specifications must be multiples of one another.\n",
      "  plt.tight_layout()\n"
     ]
    },
    {
     "name": "stdout",
     "output_type": "stream",
     "text": [
      "Unit 40 failed to plot\n"
     ]
    },
    {
     "name": "stderr",
     "output_type": "stream",
     "text": [
      "/tmp/ipykernel_18857/1190767024.py:205: UserWarning: tight_layout not applied: number of rows in subplot specifications must be multiples of one another.\n",
      "  plt.tight_layout()\n",
      "/tmp/ipykernel_18857/1190767024.py:205: UserWarning: tight_layout not applied: number of rows in subplot specifications must be multiples of one another.\n",
      "  plt.tight_layout()\n",
      "/tmp/ipykernel_18857/1190767024.py:205: UserWarning: tight_layout not applied: number of rows in subplot specifications must be multiples of one another.\n",
      "  plt.tight_layout()\n",
      "/tmp/ipykernel_18857/1190767024.py:205: UserWarning: tight_layout not applied: number of rows in subplot specifications must be multiples of one another.\n",
      "  plt.tight_layout()\n",
      "/tmp/ipykernel_18857/1190767024.py:205: UserWarning: tight_layout not applied: number of rows in subplot specifications must be multiples of one another.\n",
      "  plt.tight_layout()\n",
      "/tmp/ipykernel_18857/1190767024.py:205: UserWarning: tight_layout not applied: number of rows in subplot specifications must be multiples of one another.\n",
      "  plt.tight_layout()\n",
      "/tmp/ipykernel_18857/1190767024.py:205: UserWarning: tight_layout not applied: number of rows in subplot specifications must be multiples of one another.\n",
      "  plt.tight_layout()\n",
      "/opt/conda/lib/python3.10/site-packages/statsmodels/genmod/families/family.py:445: RuntimeWarning: invalid value encountered in divide\n",
      "  endog_mu = self._clean(endog / mu)\n"
     ]
    },
    {
     "name": "stdout",
     "output_type": "stream",
     "text": [
      "Unit 48 failed to plot\n"
     ]
    },
    {
     "name": "stderr",
     "output_type": "stream",
     "text": [
      "/tmp/ipykernel_18857/1190767024.py:205: UserWarning: tight_layout not applied: number of rows in subplot specifications must be multiples of one another.\n",
      "  plt.tight_layout()\n",
      "/opt/conda/lib/python3.10/site-packages/statsmodels/genmod/families/family.py:445: RuntimeWarning: invalid value encountered in divide\n",
      "  endog_mu = self._clean(endog / mu)\n"
     ]
    },
    {
     "name": "stdout",
     "output_type": "stream",
     "text": [
      "Unit 51 failed to plot\n"
     ]
    },
    {
     "name": "stderr",
     "output_type": "stream",
     "text": [
      "/opt/conda/lib/python3.10/site-packages/statsmodels/genmod/families/family.py:445: RuntimeWarning: invalid value encountered in divide\n",
      "  endog_mu = self._clean(endog / mu)\n"
     ]
    },
    {
     "name": "stdout",
     "output_type": "stream",
     "text": [
      "Unit 52 failed to plot\n"
     ]
    },
    {
     "name": "stderr",
     "output_type": "stream",
     "text": [
      "/tmp/ipykernel_18857/1190767024.py:205: UserWarning: tight_layout not applied: number of rows in subplot specifications must be multiples of one another.\n",
      "  plt.tight_layout()\n",
      "/tmp/ipykernel_18857/1190767024.py:205: UserWarning: tight_layout not applied: number of rows in subplot specifications must be multiples of one another.\n",
      "  plt.tight_layout()\n",
      "/opt/conda/lib/python3.10/site-packages/statsmodels/genmod/families/family.py:445: RuntimeWarning: invalid value encountered in divide\n",
      "  endog_mu = self._clean(endog / mu)\n"
     ]
    },
    {
     "name": "stdout",
     "output_type": "stream",
     "text": [
      "Unit 56 failed to plot\n"
     ]
    },
    {
     "name": "stderr",
     "output_type": "stream",
     "text": [
      "/tmp/ipykernel_18857/1190767024.py:205: UserWarning: tight_layout not applied: number of rows in subplot specifications must be multiples of one another.\n",
      "  plt.tight_layout()\n",
      "/tmp/ipykernel_18857/1190767024.py:166: RuntimeWarning: divide by zero encountered in log10\n",
      "  ax.plot(slide_times_LM, -np.log10(PvCurrU[:, regress]), lw = 1, color = colors[regress,], label = regressors[regress])\n",
      "/tmp/ipykernel_18857/1190767024.py:205: UserWarning: tight_layout not applied: number of rows in subplot specifications must be multiples of one another.\n",
      "  plt.tight_layout()\n",
      "/tmp/ipykernel_18857/1190767024.py:205: UserWarning: tight_layout not applied: number of rows in subplot specifications must be multiples of one another.\n",
      "  plt.tight_layout()\n",
      "/tmp/ipykernel_18857/1190767024.py:205: UserWarning: tight_layout not applied: number of rows in subplot specifications must be multiples of one another.\n",
      "  plt.tight_layout()\n",
      "/opt/conda/lib/python3.10/site-packages/statsmodels/genmod/families/family.py:445: RuntimeWarning: invalid value encountered in divide\n",
      "  endog_mu = self._clean(endog / mu)\n"
     ]
    },
    {
     "name": "stdout",
     "output_type": "stream",
     "text": [
      "Unit 61 failed to plot\n"
     ]
    },
    {
     "name": "stderr",
     "output_type": "stream",
     "text": [
      "/tmp/ipykernel_18857/1190767024.py:205: UserWarning: tight_layout not applied: number of rows in subplot specifications must be multiples of one another.\n",
      "  plt.tight_layout()\n",
      "/tmp/ipykernel_18857/1190767024.py:205: UserWarning: tight_layout not applied: number of rows in subplot specifications must be multiples of one another.\n",
      "  plt.tight_layout()\n",
      "/tmp/ipykernel_18857/1190767024.py:205: UserWarning: tight_layout not applied: number of rows in subplot specifications must be multiples of one another.\n",
      "  plt.tight_layout()\n",
      "/tmp/ipykernel_18857/1190767024.py:205: UserWarning: tight_layout not applied: number of rows in subplot specifications must be multiples of one another.\n",
      "  plt.tight_layout()\n",
      "/opt/conda/lib/python3.10/site-packages/statsmodels/genmod/families/family.py:445: RuntimeWarning: invalid value encountered in divide\n",
      "  endog_mu = self._clean(endog / mu)\n"
     ]
    },
    {
     "name": "stdout",
     "output_type": "stream",
     "text": [
      "Unit 66 failed to plot\n"
     ]
    },
    {
     "name": "stderr",
     "output_type": "stream",
     "text": [
      "/tmp/ipykernel_18857/1190767024.py:205: UserWarning: tight_layout not applied: number of rows in subplot specifications must be multiples of one another.\n",
      "  plt.tight_layout()\n",
      "/tmp/ipykernel_18857/1190767024.py:205: UserWarning: tight_layout not applied: number of rows in subplot specifications must be multiples of one another.\n",
      "  plt.tight_layout()\n",
      "/tmp/ipykernel_18857/1190767024.py:205: UserWarning: tight_layout not applied: number of rows in subplot specifications must be multiples of one another.\n",
      "  plt.tight_layout()\n",
      "/opt/conda/lib/python3.10/site-packages/statsmodels/genmod/families/family.py:445: RuntimeWarning: invalid value encountered in divide\n",
      "  endog_mu = self._clean(endog / mu)\n"
     ]
    },
    {
     "name": "stdout",
     "output_type": "stream",
     "text": [
      "Unit 70 failed to plot\n"
     ]
    },
    {
     "name": "stderr",
     "output_type": "stream",
     "text": [
      "/tmp/ipykernel_18857/1190767024.py:205: UserWarning: tight_layout not applied: number of rows in subplot specifications must be multiples of one another.\n",
      "  plt.tight_layout()\n",
      "/tmp/ipykernel_18857/1190767024.py:205: UserWarning: tight_layout not applied: number of rows in subplot specifications must be multiples of one another.\n",
      "  plt.tight_layout()\n",
      "/tmp/ipykernel_18857/1190767024.py:205: UserWarning: tight_layout not applied: number of rows in subplot specifications must be multiples of one another.\n",
      "  plt.tight_layout()\n",
      "/tmp/ipykernel_18857/1190767024.py:205: UserWarning: tight_layout not applied: number of rows in subplot specifications must be multiples of one another.\n",
      "  plt.tight_layout()\n",
      "/tmp/ipykernel_18857/1190767024.py:205: UserWarning: tight_layout not applied: number of rows in subplot specifications must be multiples of one another.\n",
      "  plt.tight_layout()\n",
      "/tmp/ipykernel_18857/1190767024.py:205: UserWarning: tight_layout not applied: number of rows in subplot specifications must be multiples of one another.\n",
      "  plt.tight_layout()\n",
      "/tmp/ipykernel_18857/1190767024.py:205: UserWarning: tight_layout not applied: number of rows in subplot specifications must be multiples of one another.\n",
      "  plt.tight_layout()\n",
      "/tmp/ipykernel_18857/1190767024.py:205: UserWarning: tight_layout not applied: number of rows in subplot specifications must be multiples of one another.\n",
      "  plt.tight_layout()\n",
      "/tmp/ipykernel_18857/1190767024.py:205: UserWarning: tight_layout not applied: number of rows in subplot specifications must be multiples of one another.\n",
      "  plt.tight_layout()\n",
      "/tmp/ipykernel_18857/1190767024.py:205: UserWarning: tight_layout not applied: number of rows in subplot specifications must be multiples of one another.\n",
      "  plt.tight_layout()\n",
      "/tmp/ipykernel_18857/1190767024.py:205: UserWarning: tight_layout not applied: number of rows in subplot specifications must be multiples of one another.\n",
      "  plt.tight_layout()\n",
      "/tmp/ipykernel_18857/1190767024.py:205: UserWarning: tight_layout not applied: number of rows in subplot specifications must be multiples of one another.\n",
      "  plt.tight_layout()\n",
      "/tmp/ipykernel_18857/1190767024.py:205: UserWarning: tight_layout not applied: number of rows in subplot specifications must be multiples of one another.\n",
      "  plt.tight_layout()\n",
      "/tmp/ipykernel_18857/1190767024.py:205: UserWarning: tight_layout not applied: number of rows in subplot specifications must be multiples of one another.\n",
      "  plt.tight_layout()\n",
      "/tmp/ipykernel_18857/1190767024.py:205: UserWarning: tight_layout not applied: number of rows in subplot specifications must be multiples of one another.\n",
      "  plt.tight_layout()\n",
      "/tmp/ipykernel_18857/1190767024.py:205: UserWarning: tight_layout not applied: number of rows in subplot specifications must be multiples of one another.\n",
      "  plt.tight_layout()\n",
      "/opt/conda/lib/python3.10/site-packages/statsmodels/genmod/families/family.py:445: RuntimeWarning: invalid value encountered in divide\n",
      "  endog_mu = self._clean(endog / mu)\n"
     ]
    },
    {
     "name": "stdout",
     "output_type": "stream",
     "text": [
      "Unit 87 failed to plot\n"
     ]
    },
    {
     "name": "stderr",
     "output_type": "stream",
     "text": [
      "/tmp/ipykernel_18857/1190767024.py:205: UserWarning: tight_layout not applied: number of rows in subplot specifications must be multiples of one another.\n",
      "  plt.tight_layout()\n",
      "/tmp/ipykernel_18857/1190767024.py:205: UserWarning: tight_layout not applied: number of rows in subplot specifications must be multiples of one another.\n",
      "  plt.tight_layout()\n",
      "/tmp/ipykernel_18857/1190767024.py:205: UserWarning: tight_layout not applied: number of rows in subplot specifications must be multiples of one another.\n",
      "  plt.tight_layout()\n",
      "/opt/conda/lib/python3.10/site-packages/statsmodels/genmod/families/family.py:445: RuntimeWarning: invalid value encountered in divide\n",
      "  endog_mu = self._clean(endog / mu)\n"
     ]
    },
    {
     "name": "stdout",
     "output_type": "stream",
     "text": [
      "Unit 91 failed to plot\n"
     ]
    },
    {
     "name": "stderr",
     "output_type": "stream",
     "text": [
      "/tmp/ipykernel_18857/1190767024.py:205: UserWarning: tight_layout not applied: number of rows in subplot specifications must be multiples of one another.\n",
      "  plt.tight_layout()\n",
      "/opt/conda/lib/python3.10/site-packages/statsmodels/genmod/families/family.py:445: RuntimeWarning: invalid value encountered in divide\n",
      "  endog_mu = self._clean(endog / mu)\n"
     ]
    },
    {
     "name": "stdout",
     "output_type": "stream",
     "text": [
      "Unit 93 failed to plot\n"
     ]
    },
    {
     "name": "stderr",
     "output_type": "stream",
     "text": [
      "/tmp/ipykernel_18857/1190767024.py:205: UserWarning: tight_layout not applied: number of rows in subplot specifications must be multiples of one another.\n",
      "  plt.tight_layout()\n",
      "/tmp/ipykernel_18857/1190767024.py:205: UserWarning: tight_layout not applied: number of rows in subplot specifications must be multiples of one another.\n",
      "  plt.tight_layout()\n",
      "/tmp/ipykernel_18857/1190767024.py:205: UserWarning: tight_layout not applied: number of rows in subplot specifications must be multiples of one another.\n",
      "  plt.tight_layout()\n",
      "/tmp/ipykernel_18857/1190767024.py:166: RuntimeWarning: divide by zero encountered in log10\n",
      "  ax.plot(slide_times_LM, -np.log10(PvCurrU[:, regress]), lw = 1, color = colors[regress,], label = regressors[regress])\n",
      "/tmp/ipykernel_18857/1190767024.py:205: UserWarning: tight_layout not applied: number of rows in subplot specifications must be multiples of one another.\n",
      "  plt.tight_layout()\n",
      "/tmp/ipykernel_18857/1190767024.py:205: UserWarning: tight_layout not applied: number of rows in subplot specifications must be multiples of one another.\n",
      "  plt.tight_layout()\n",
      "/tmp/ipykernel_18857/1190767024.py:205: UserWarning: tight_layout not applied: number of rows in subplot specifications must be multiples of one another.\n",
      "  plt.tight_layout()\n",
      "/tmp/ipykernel_18857/1190767024.py:205: UserWarning: tight_layout not applied: number of rows in subplot specifications must be multiples of one another.\n",
      "  plt.tight_layout()\n",
      "/tmp/ipykernel_18857/1190767024.py:205: UserWarning: tight_layout not applied: number of rows in subplot specifications must be multiples of one another.\n",
      "  plt.tight_layout()\n",
      "/tmp/ipykernel_18857/1190767024.py:205: UserWarning: tight_layout not applied: number of rows in subplot specifications must be multiples of one another.\n",
      "  plt.tight_layout()\n",
      "/tmp/ipykernel_18857/1190767024.py:205: UserWarning: tight_layout not applied: number of rows in subplot specifications must be multiples of one another.\n",
      "  plt.tight_layout()\n",
      "/tmp/ipykernel_18857/1190767024.py:205: UserWarning: tight_layout not applied: number of rows in subplot specifications must be multiples of one another.\n",
      "  plt.tight_layout()\n",
      "/opt/conda/lib/python3.10/site-packages/statsmodels/genmod/families/family.py:445: RuntimeWarning: invalid value encountered in divide\n",
      "  endog_mu = self._clean(endog / mu)\n"
     ]
    },
    {
     "name": "stdout",
     "output_type": "stream",
     "text": [
      "Unit 105 failed to plot\n"
     ]
    },
    {
     "name": "stderr",
     "output_type": "stream",
     "text": [
      "/tmp/ipykernel_18857/1190767024.py:205: UserWarning: tight_layout not applied: number of rows in subplot specifications must be multiples of one another.\n",
      "  plt.tight_layout()\n",
      "/tmp/ipykernel_18857/1190767024.py:205: UserWarning: tight_layout not applied: number of rows in subplot specifications must be multiples of one another.\n",
      "  plt.tight_layout()\n",
      "/tmp/ipykernel_18857/1190767024.py:205: UserWarning: tight_layout not applied: number of rows in subplot specifications must be multiples of one another.\n",
      "  plt.tight_layout()\n",
      "/tmp/ipykernel_18857/1190767024.py:205: UserWarning: tight_layout not applied: number of rows in subplot specifications must be multiples of one another.\n",
      "  plt.tight_layout()\n",
      "/tmp/ipykernel_18857/1190767024.py:205: UserWarning: tight_layout not applied: number of rows in subplot specifications must be multiples of one another.\n",
      "  plt.tight_layout()\n",
      "/tmp/ipykernel_18857/1190767024.py:205: UserWarning: tight_layout not applied: number of rows in subplot specifications must be multiples of one another.\n",
      "  plt.tight_layout()\n",
      "/tmp/ipykernel_18857/1190767024.py:205: UserWarning: tight_layout not applied: number of rows in subplot specifications must be multiples of one another.\n",
      "  plt.tight_layout()\n",
      "/tmp/ipykernel_18857/1190767024.py:205: UserWarning: tight_layout not applied: number of rows in subplot specifications must be multiples of one another.\n",
      "  plt.tight_layout()\n",
      "/tmp/ipykernel_18857/1190767024.py:205: UserWarning: tight_layout not applied: number of rows in subplot specifications must be multiples of one another.\n",
      "  plt.tight_layout()\n",
      "/tmp/ipykernel_18857/1190767024.py:205: UserWarning: tight_layout not applied: number of rows in subplot specifications must be multiples of one another.\n",
      "  plt.tight_layout()\n",
      "/tmp/ipykernel_18857/1190767024.py:205: UserWarning: tight_layout not applied: number of rows in subplot specifications must be multiples of one another.\n",
      "  plt.tight_layout()\n",
      "/tmp/ipykernel_18857/1190767024.py:205: UserWarning: tight_layout not applied: number of rows in subplot specifications must be multiples of one another.\n",
      "  plt.tight_layout()\n",
      "/tmp/ipykernel_18857/1190767024.py:205: UserWarning: tight_layout not applied: number of rows in subplot specifications must be multiples of one another.\n",
      "  plt.tight_layout()\n",
      "/tmp/ipykernel_18857/1190767024.py:205: UserWarning: tight_layout not applied: number of rows in subplot specifications must be multiples of one another.\n",
      "  plt.tight_layout()\n",
      "/tmp/ipykernel_18857/1190767024.py:205: UserWarning: tight_layout not applied: number of rows in subplot specifications must be multiples of one another.\n",
      "  plt.tight_layout()\n",
      "/tmp/ipykernel_18857/1190767024.py:205: UserWarning: tight_layout not applied: number of rows in subplot specifications must be multiples of one another.\n",
      "  plt.tight_layout()\n",
      "/tmp/ipykernel_18857/1190767024.py:205: UserWarning: tight_layout not applied: number of rows in subplot specifications must be multiples of one another.\n",
      "  plt.tight_layout()\n",
      "/tmp/ipykernel_18857/1190767024.py:205: UserWarning: tight_layout not applied: number of rows in subplot specifications must be multiples of one another.\n",
      "  plt.tight_layout()\n",
      "/tmp/ipykernel_18857/1190767024.py:205: UserWarning: tight_layout not applied: number of rows in subplot specifications must be multiples of one another.\n",
      "  plt.tight_layout()\n",
      "/tmp/ipykernel_18857/1190767024.py:205: UserWarning: tight_layout not applied: number of rows in subplot specifications must be multiples of one another.\n",
      "  plt.tight_layout()\n",
      "/tmp/ipykernel_18857/1190767024.py:205: UserWarning: tight_layout not applied: number of rows in subplot specifications must be multiples of one another.\n",
      "  plt.tight_layout()\n",
      "/tmp/ipykernel_18857/1190767024.py:205: UserWarning: tight_layout not applied: number of rows in subplot specifications must be multiples of one another.\n",
      "  plt.tight_layout()\n",
      "/tmp/ipykernel_18857/1190767024.py:205: UserWarning: tight_layout not applied: number of rows in subplot specifications must be multiples of one another.\n",
      "  plt.tight_layout()\n",
      "/tmp/ipykernel_18857/1190767024.py:205: UserWarning: tight_layout not applied: number of rows in subplot specifications must be multiples of one another.\n",
      "  plt.tight_layout()\n",
      "/tmp/ipykernel_18857/1190767024.py:205: UserWarning: tight_layout not applied: number of rows in subplot specifications must be multiples of one another.\n",
      "  plt.tight_layout()\n",
      "/tmp/ipykernel_18857/1190767024.py:205: UserWarning: tight_layout not applied: number of rows in subplot specifications must be multiples of one another.\n",
      "  plt.tight_layout()\n",
      "/tmp/ipykernel_18857/1190767024.py:205: UserWarning: tight_layout not applied: number of rows in subplot specifications must be multiples of one another.\n",
      "  plt.tight_layout()\n",
      "/tmp/ipykernel_18857/1190767024.py:205: UserWarning: tight_layout not applied: number of rows in subplot specifications must be multiples of one another.\n",
      "  plt.tight_layout()\n",
      "/tmp/ipykernel_18857/1190767024.py:205: UserWarning: tight_layout not applied: number of rows in subplot specifications must be multiples of one another.\n",
      "  plt.tight_layout()\n",
      "/tmp/ipykernel_18857/1190767024.py:205: UserWarning: tight_layout not applied: number of rows in subplot specifications must be multiples of one another.\n",
      "  plt.tight_layout()\n",
      "/tmp/ipykernel_18857/1190767024.py:205: UserWarning: tight_layout not applied: number of rows in subplot specifications must be multiples of one another.\n",
      "  plt.tight_layout()\n",
      "/tmp/ipykernel_18857/1190767024.py:205: UserWarning: tight_layout not applied: number of rows in subplot specifications must be multiples of one another.\n",
      "  plt.tight_layout()\n",
      "/tmp/ipykernel_18857/1190767024.py:205: UserWarning: tight_layout not applied: number of rows in subplot specifications must be multiples of one another.\n",
      "  plt.tight_layout()\n",
      "/tmp/ipykernel_18857/1190767024.py:205: UserWarning: tight_layout not applied: number of rows in subplot specifications must be multiples of one another.\n",
      "  plt.tight_layout()\n",
      "/tmp/ipykernel_18857/1190767024.py:205: UserWarning: tight_layout not applied: number of rows in subplot specifications must be multiples of one another.\n",
      "  plt.tight_layout()\n",
      "/tmp/ipykernel_18857/1190767024.py:205: UserWarning: tight_layout not applied: number of rows in subplot specifications must be multiples of one another.\n",
      "  plt.tight_layout()\n",
      "/tmp/ipykernel_18857/1190767024.py:205: UserWarning: tight_layout not applied: number of rows in subplot specifications must be multiples of one another.\n",
      "  plt.tight_layout()\n",
      "/tmp/ipykernel_18857/1190767024.py:205: UserWarning: tight_layout not applied: number of rows in subplot specifications must be multiples of one another.\n",
      "  plt.tight_layout()\n",
      "/tmp/ipykernel_18857/1190767024.py:205: UserWarning: tight_layout not applied: number of rows in subplot specifications must be multiples of one another.\n",
      "  plt.tight_layout()\n",
      "/tmp/ipykernel_18857/1190767024.py:205: UserWarning: tight_layout not applied: number of rows in subplot specifications must be multiples of one another.\n",
      "  plt.tight_layout()\n",
      "/tmp/ipykernel_18857/1190767024.py:205: UserWarning: tight_layout not applied: number of rows in subplot specifications must be multiples of one another.\n",
      "  plt.tight_layout()\n",
      "/tmp/ipykernel_18857/1190767024.py:205: UserWarning: tight_layout not applied: number of rows in subplot specifications must be multiples of one another.\n",
      "  plt.tight_layout()\n",
      "/tmp/ipykernel_18857/1190767024.py:205: UserWarning: tight_layout not applied: number of rows in subplot specifications must be multiples of one another.\n",
      "  plt.tight_layout()\n",
      "/opt/conda/lib/python3.10/site-packages/statsmodels/genmod/families/family.py:445: RuntimeWarning: invalid value encountered in divide\n",
      "  endog_mu = self._clean(endog / mu)\n"
     ]
    },
    {
     "name": "stdout",
     "output_type": "stream",
     "text": [
      "Unit 151 failed to plot\n"
     ]
    },
    {
     "name": "stderr",
     "output_type": "stream",
     "text": [
      "/opt/conda/lib/python3.10/site-packages/statsmodels/genmod/families/family.py:445: RuntimeWarning: invalid value encountered in divide\n",
      "  endog_mu = self._clean(endog / mu)\n"
     ]
    },
    {
     "name": "stdout",
     "output_type": "stream",
     "text": [
      "Unit 152 failed to plot\n"
     ]
    },
    {
     "name": "stderr",
     "output_type": "stream",
     "text": [
      "/tmp/ipykernel_18857/1190767024.py:205: UserWarning: tight_layout not applied: number of rows in subplot specifications must be multiples of one another.\n",
      "  plt.tight_layout()\n",
      "/tmp/ipykernel_18857/1190767024.py:205: UserWarning: tight_layout not applied: number of rows in subplot specifications must be multiples of one another.\n",
      "  plt.tight_layout()\n",
      "/tmp/ipykernel_18857/1190767024.py:205: UserWarning: tight_layout not applied: number of rows in subplot specifications must be multiples of one another.\n",
      "  plt.tight_layout()\n",
      "/tmp/ipykernel_18857/1190767024.py:205: UserWarning: tight_layout not applied: number of rows in subplot specifications must be multiples of one another.\n",
      "  plt.tight_layout()\n",
      "/tmp/ipykernel_18857/1190767024.py:205: UserWarning: tight_layout not applied: number of rows in subplot specifications must be multiples of one another.\n",
      "  plt.tight_layout()\n",
      "/tmp/ipykernel_18857/1190767024.py:205: UserWarning: tight_layout not applied: number of rows in subplot specifications must be multiples of one another.\n",
      "  plt.tight_layout()\n",
      "/opt/conda/lib/python3.10/site-packages/statsmodels/genmod/families/family.py:445: RuntimeWarning: invalid value encountered in divide\n",
      "  endog_mu = self._clean(endog / mu)\n"
     ]
    },
    {
     "name": "stdout",
     "output_type": "stream",
     "text": [
      "Unit 159 failed to plot\n"
     ]
    },
    {
     "name": "stderr",
     "output_type": "stream",
     "text": [
      "/tmp/ipykernel_18857/1190767024.py:205: UserWarning: tight_layout not applied: number of rows in subplot specifications must be multiples of one another.\n",
      "  plt.tight_layout()\n",
      "/opt/conda/lib/python3.10/site-packages/statsmodels/genmod/families/family.py:445: RuntimeWarning: invalid value encountered in divide\n",
      "  endog_mu = self._clean(endog / mu)\n"
     ]
    },
    {
     "name": "stdout",
     "output_type": "stream",
     "text": [
      "Unit 161 failed to plot\n"
     ]
    },
    {
     "name": "stderr",
     "output_type": "stream",
     "text": [
      "/tmp/ipykernel_18857/1190767024.py:205: UserWarning: tight_layout not applied: number of rows in subplot specifications must be multiples of one another.\n",
      "  plt.tight_layout()\n",
      "/tmp/ipykernel_18857/1190767024.py:205: UserWarning: tight_layout not applied: number of rows in subplot specifications must be multiples of one another.\n",
      "  plt.tight_layout()\n",
      "/tmp/ipykernel_18857/1190767024.py:205: UserWarning: tight_layout not applied: number of rows in subplot specifications must be multiples of one another.\n",
      "  plt.tight_layout()\n",
      "/tmp/ipykernel_18857/1190767024.py:205: UserWarning: tight_layout not applied: number of rows in subplot specifications must be multiples of one another.\n",
      "  plt.tight_layout()\n",
      "/tmp/ipykernel_18857/1190767024.py:205: UserWarning: tight_layout not applied: number of rows in subplot specifications must be multiples of one another.\n",
      "  plt.tight_layout()\n",
      "/tmp/ipykernel_18857/1190767024.py:205: UserWarning: tight_layout not applied: number of rows in subplot specifications must be multiples of one another.\n",
      "  plt.tight_layout()\n",
      "/tmp/ipykernel_18857/1190767024.py:205: UserWarning: tight_layout not applied: number of rows in subplot specifications must be multiples of one another.\n",
      "  plt.tight_layout()\n",
      "/tmp/ipykernel_18857/1190767024.py:205: UserWarning: tight_layout not applied: number of rows in subplot specifications must be multiples of one another.\n",
      "  plt.tight_layout()\n",
      "/tmp/ipykernel_18857/1190767024.py:205: UserWarning: tight_layout not applied: number of rows in subplot specifications must be multiples of one another.\n",
      "  plt.tight_layout()\n",
      "/tmp/ipykernel_18857/1190767024.py:205: UserWarning: tight_layout not applied: number of rows in subplot specifications must be multiples of one another.\n",
      "  plt.tight_layout()\n",
      "/opt/conda/lib/python3.10/site-packages/statsmodels/genmod/families/family.py:445: RuntimeWarning: invalid value encountered in divide\n",
      "  endog_mu = self._clean(endog / mu)\n"
     ]
    },
    {
     "name": "stdout",
     "output_type": "stream",
     "text": [
      "Unit 174 failed to plot\n"
     ]
    },
    {
     "name": "stderr",
     "output_type": "stream",
     "text": [
      "/tmp/ipykernel_18857/1190767024.py:205: UserWarning: tight_layout not applied: number of rows in subplot specifications must be multiples of one another.\n",
      "  plt.tight_layout()\n",
      "/tmp/ipykernel_18857/1190767024.py:205: UserWarning: tight_layout not applied: number of rows in subplot specifications must be multiples of one another.\n",
      "  plt.tight_layout()\n",
      "/tmp/ipykernel_18857/1190767024.py:205: UserWarning: tight_layout not applied: number of rows in subplot specifications must be multiples of one another.\n",
      "  plt.tight_layout()\n",
      "/tmp/ipykernel_18857/1190767024.py:205: UserWarning: tight_layout not applied: number of rows in subplot specifications must be multiples of one another.\n",
      "  plt.tight_layout()\n",
      "/opt/conda/lib/python3.10/site-packages/statsmodels/genmod/families/family.py:445: RuntimeWarning: invalid value encountered in divide\n",
      "  endog_mu = self._clean(endog / mu)\n"
     ]
    },
    {
     "name": "stdout",
     "output_type": "stream",
     "text": [
      "Unit 183 failed to plot\n"
     ]
    },
    {
     "name": "stderr",
     "output_type": "stream",
     "text": [
      "/opt/conda/lib/python3.10/site-packages/statsmodels/genmod/families/family.py:445: RuntimeWarning: invalid value encountered in divide\n",
      "  endog_mu = self._clean(endog / mu)\n"
     ]
    },
    {
     "name": "stdout",
     "output_type": "stream",
     "text": [
      "Unit 184 failed to plot\n"
     ]
    },
    {
     "name": "stderr",
     "output_type": "stream",
     "text": [
      "/tmp/ipykernel_18857/1190767024.py:205: UserWarning: tight_layout not applied: number of rows in subplot specifications must be multiples of one another.\n",
      "  plt.tight_layout()\n",
      "/tmp/ipykernel_18857/1190767024.py:205: UserWarning: tight_layout not applied: number of rows in subplot specifications must be multiples of one another.\n",
      "  plt.tight_layout()\n",
      "/opt/conda/lib/python3.10/site-packages/statsmodels/genmod/families/family.py:445: RuntimeWarning: invalid value encountered in divide\n",
      "  endog_mu = self._clean(endog / mu)\n"
     ]
    },
    {
     "name": "stdout",
     "output_type": "stream",
     "text": [
      "Unit 187 failed to plot\n"
     ]
    },
    {
     "name": "stderr",
     "output_type": "stream",
     "text": [
      "/tmp/ipykernel_18857/1190767024.py:205: UserWarning: tight_layout not applied: number of rows in subplot specifications must be multiples of one another.\n",
      "  plt.tight_layout()\n",
      "/opt/conda/lib/python3.10/site-packages/statsmodels/genmod/families/family.py:445: RuntimeWarning: invalid value encountered in divide\n",
      "  endog_mu = self._clean(endog / mu)\n"
     ]
    },
    {
     "name": "stdout",
     "output_type": "stream",
     "text": [
      "Unit 189 failed to plot\n"
     ]
    },
    {
     "name": "stderr",
     "output_type": "stream",
     "text": [
      "/tmp/ipykernel_18857/1190767024.py:205: UserWarning: tight_layout not applied: number of rows in subplot specifications must be multiples of one another.\n",
      "  plt.tight_layout()\n",
      "/opt/conda/lib/python3.10/site-packages/statsmodels/genmod/families/family.py:445: RuntimeWarning: invalid value encountered in divide\n",
      "  endog_mu = self._clean(endog / mu)\n"
     ]
    },
    {
     "name": "stdout",
     "output_type": "stream",
     "text": [
      "Unit 191 failed to plot\n"
     ]
    },
    {
     "name": "stderr",
     "output_type": "stream",
     "text": [
      "/opt/conda/lib/python3.10/site-packages/statsmodels/genmod/families/family.py:445: RuntimeWarning: invalid value encountered in divide\n",
      "  endog_mu = self._clean(endog / mu)\n"
     ]
    },
    {
     "name": "stdout",
     "output_type": "stream",
     "text": [
      "Unit 192 failed to plot\n"
     ]
    },
    {
     "name": "stderr",
     "output_type": "stream",
     "text": [
      "/tmp/ipykernel_18857/1190767024.py:205: UserWarning: tight_layout not applied: number of rows in subplot specifications must be multiples of one another.\n",
      "  plt.tight_layout()\n",
      "/tmp/ipykernel_18857/1190767024.py:205: UserWarning: tight_layout not applied: number of rows in subplot specifications must be multiples of one another.\n",
      "  plt.tight_layout()\n",
      "/opt/conda/lib/python3.10/site-packages/statsmodels/genmod/families/family.py:445: RuntimeWarning: invalid value encountered in divide\n",
      "  endog_mu = self._clean(endog / mu)\n"
     ]
    },
    {
     "name": "stdout",
     "output_type": "stream",
     "text": [
      "Unit 195 failed to plot\n"
     ]
    },
    {
     "name": "stderr",
     "output_type": "stream",
     "text": [
      "/opt/conda/lib/python3.10/site-packages/statsmodels/genmod/families/family.py:445: RuntimeWarning: invalid value encountered in divide\n",
      "  endog_mu = self._clean(endog / mu)\n"
     ]
    },
    {
     "name": "stdout",
     "output_type": "stream",
     "text": [
      "Unit 196 failed to plot\n"
     ]
    },
    {
     "name": "stderr",
     "output_type": "stream",
     "text": [
      "/tmp/ipykernel_18857/1190767024.py:205: UserWarning: tight_layout not applied: number of rows in subplot specifications must be multiples of one another.\n",
      "  plt.tight_layout()\n",
      "/tmp/ipykernel_18857/1190767024.py:205: UserWarning: tight_layout not applied: number of rows in subplot specifications must be multiples of one another.\n",
      "  plt.tight_layout()\n",
      "/tmp/ipykernel_18857/1190767024.py:205: UserWarning: tight_layout not applied: number of rows in subplot specifications must be multiples of one another.\n",
      "  plt.tight_layout()\n",
      "/tmp/ipykernel_18857/1190767024.py:205: UserWarning: tight_layout not applied: number of rows in subplot specifications must be multiples of one another.\n",
      "  plt.tight_layout()\n",
      "/tmp/ipykernel_18857/1190767024.py:205: UserWarning: tight_layout not applied: number of rows in subplot specifications must be multiples of one another.\n",
      "  plt.tight_layout()\n",
      "/tmp/ipykernel_18857/1190767024.py:205: UserWarning: tight_layout not applied: number of rows in subplot specifications must be multiples of one another.\n",
      "  plt.tight_layout()\n",
      "/tmp/ipykernel_18857/1190767024.py:205: UserWarning: tight_layout not applied: number of rows in subplot specifications must be multiples of one another.\n",
      "  plt.tight_layout()\n",
      "/tmp/ipykernel_18857/1190767024.py:205: UserWarning: tight_layout not applied: number of rows in subplot specifications must be multiples of one another.\n",
      "  plt.tight_layout()\n",
      "/tmp/ipykernel_18857/1190767024.py:205: UserWarning: tight_layout not applied: number of rows in subplot specifications must be multiples of one another.\n",
      "  plt.tight_layout()\n",
      "/tmp/ipykernel_18857/1190767024.py:205: UserWarning: tight_layout not applied: number of rows in subplot specifications must be multiples of one another.\n",
      "  plt.tight_layout()\n",
      "/tmp/ipykernel_18857/1190767024.py:205: UserWarning: tight_layout not applied: number of rows in subplot specifications must be multiples of one another.\n",
      "  plt.tight_layout()\n",
      "/tmp/ipykernel_18857/1190767024.py:205: UserWarning: tight_layout not applied: number of rows in subplot specifications must be multiples of one another.\n",
      "  plt.tight_layout()\n",
      "/tmp/ipykernel_18857/1190767024.py:205: UserWarning: tight_layout not applied: number of rows in subplot specifications must be multiples of one another.\n",
      "  plt.tight_layout()\n",
      "/opt/conda/lib/python3.10/site-packages/statsmodels/genmod/families/family.py:445: RuntimeWarning: invalid value encountered in divide\n",
      "  endog_mu = self._clean(endog / mu)\n"
     ]
    },
    {
     "name": "stdout",
     "output_type": "stream",
     "text": [
      "Unit 210 failed to plot\n"
     ]
    },
    {
     "name": "stderr",
     "output_type": "stream",
     "text": [
      "/tmp/ipykernel_18857/1190767024.py:205: UserWarning: tight_layout not applied: number of rows in subplot specifications must be multiples of one another.\n",
      "  plt.tight_layout()\n",
      "/opt/conda/lib/python3.10/site-packages/statsmodels/genmod/families/family.py:445: RuntimeWarning: invalid value encountered in divide\n",
      "  endog_mu = self._clean(endog / mu)\n"
     ]
    },
    {
     "name": "stdout",
     "output_type": "stream",
     "text": [
      "Unit 212 failed to plot\n"
     ]
    },
    {
     "name": "stderr",
     "output_type": "stream",
     "text": [
      "/opt/conda/lib/python3.10/site-packages/statsmodels/genmod/families/family.py:445: RuntimeWarning: invalid value encountered in divide\n",
      "  endog_mu = self._clean(endog / mu)\n"
     ]
    },
    {
     "name": "stdout",
     "output_type": "stream",
     "text": [
      "Unit 213 failed to plot\n"
     ]
    },
    {
     "name": "stderr",
     "output_type": "stream",
     "text": [
      "/tmp/ipykernel_18857/1190767024.py:205: UserWarning: tight_layout not applied: number of rows in subplot specifications must be multiples of one another.\n",
      "  plt.tight_layout()\n",
      "/tmp/ipykernel_18857/1190767024.py:205: UserWarning: tight_layout not applied: number of rows in subplot specifications must be multiples of one another.\n",
      "  plt.tight_layout()\n",
      "/tmp/ipykernel_18857/1190767024.py:205: UserWarning: tight_layout not applied: number of rows in subplot specifications must be multiples of one another.\n",
      "  plt.tight_layout()\n",
      "/tmp/ipykernel_18857/1190767024.py:205: UserWarning: tight_layout not applied: number of rows in subplot specifications must be multiples of one another.\n",
      "  plt.tight_layout()\n",
      "/tmp/ipykernel_18857/1190767024.py:205: UserWarning: tight_layout not applied: number of rows in subplot specifications must be multiples of one another.\n",
      "  plt.tight_layout()\n",
      "/tmp/ipykernel_18857/1190767024.py:205: UserWarning: tight_layout not applied: number of rows in subplot specifications must be multiples of one another.\n",
      "  plt.tight_layout()\n",
      "/opt/conda/lib/python3.10/site-packages/statsmodels/genmod/families/family.py:445: RuntimeWarning: invalid value encountered in divide\n",
      "  endog_mu = self._clean(endog / mu)\n"
     ]
    },
    {
     "name": "stdout",
     "output_type": "stream",
     "text": [
      "Unit 220 failed to plot\n"
     ]
    },
    {
     "name": "stderr",
     "output_type": "stream",
     "text": [
      "/opt/conda/lib/python3.10/site-packages/statsmodels/genmod/families/family.py:445: RuntimeWarning: invalid value encountered in divide\n",
      "  endog_mu = self._clean(endog / mu)\n"
     ]
    },
    {
     "name": "stdout",
     "output_type": "stream",
     "text": [
      "Unit 221 failed to plot\n"
     ]
    },
    {
     "name": "stderr",
     "output_type": "stream",
     "text": [
      "/opt/conda/lib/python3.10/site-packages/statsmodels/genmod/families/family.py:445: RuntimeWarning: invalid value encountered in divide\n",
      "  endog_mu = self._clean(endog / mu)\n"
     ]
    },
    {
     "name": "stdout",
     "output_type": "stream",
     "text": [
      "Unit 222 failed to plot\n"
     ]
    },
    {
     "name": "stderr",
     "output_type": "stream",
     "text": [
      "/tmp/ipykernel_18857/1190767024.py:205: UserWarning: tight_layout not applied: number of rows in subplot specifications must be multiples of one another.\n",
      "  plt.tight_layout()\n",
      "/opt/conda/lib/python3.10/site-packages/statsmodels/genmod/families/family.py:445: RuntimeWarning: invalid value encountered in divide\n",
      "  endog_mu = self._clean(endog / mu)\n"
     ]
    },
    {
     "name": "stdout",
     "output_type": "stream",
     "text": [
      "Unit 224 failed to plot\n"
     ]
    },
    {
     "name": "stderr",
     "output_type": "stream",
     "text": [
      "/tmp/ipykernel_18857/1190767024.py:205: UserWarning: tight_layout not applied: number of rows in subplot specifications must be multiples of one another.\n",
      "  plt.tight_layout()\n",
      "/tmp/ipykernel_18857/1190767024.py:205: UserWarning: tight_layout not applied: number of rows in subplot specifications must be multiples of one another.\n",
      "  plt.tight_layout()\n",
      "/opt/conda/lib/python3.10/site-packages/statsmodels/genmod/families/family.py:445: RuntimeWarning: invalid value encountered in divide\n",
      "  endog_mu = self._clean(endog / mu)\n"
     ]
    },
    {
     "name": "stdout",
     "output_type": "stream",
     "text": [
      "Unit 231 failed to plot\n"
     ]
    },
    {
     "name": "stderr",
     "output_type": "stream",
     "text": [
      "/tmp/ipykernel_18857/1190767024.py:205: UserWarning: tight_layout not applied: number of rows in subplot specifications must be multiples of one another.\n",
      "  plt.tight_layout()\n",
      "/tmp/ipykernel_18857/1190767024.py:205: UserWarning: tight_layout not applied: number of rows in subplot specifications must be multiples of one another.\n",
      "  plt.tight_layout()\n",
      "/tmp/ipykernel_18857/1190767024.py:205: UserWarning: tight_layout not applied: number of rows in subplot specifications must be multiples of one another.\n",
      "  plt.tight_layout()\n",
      "/tmp/ipykernel_18857/1190767024.py:205: UserWarning: tight_layout not applied: number of rows in subplot specifications must be multiples of one another.\n",
      "  plt.tight_layout()\n",
      "/tmp/ipykernel_18857/1190767024.py:205: UserWarning: tight_layout not applied: number of rows in subplot specifications must be multiples of one another.\n",
      "  plt.tight_layout()\n",
      "/opt/conda/lib/python3.10/site-packages/statsmodels/genmod/families/family.py:445: RuntimeWarning: invalid value encountered in divide\n",
      "  endog_mu = self._clean(endog / mu)\n"
     ]
    },
    {
     "name": "stdout",
     "output_type": "stream",
     "text": [
      "Unit 238 failed to plot\n"
     ]
    },
    {
     "name": "stderr",
     "output_type": "stream",
     "text": [
      "/opt/conda/lib/python3.10/site-packages/statsmodels/genmod/families/family.py:445: RuntimeWarning: invalid value encountered in divide\n",
      "  endog_mu = self._clean(endog / mu)\n"
     ]
    },
    {
     "name": "stdout",
     "output_type": "stream",
     "text": [
      "Unit 239 failed to plot\n"
     ]
    },
    {
     "name": "stderr",
     "output_type": "stream",
     "text": [
      "/opt/conda/lib/python3.10/site-packages/statsmodels/genmod/families/family.py:445: RuntimeWarning: invalid value encountered in divide\n",
      "  endog_mu = self._clean(endog / mu)\n"
     ]
    },
    {
     "name": "stdout",
     "output_type": "stream",
     "text": [
      "Unit 240 failed to plot\n"
     ]
    },
    {
     "name": "stderr",
     "output_type": "stream",
     "text": [
      "/tmp/ipykernel_18857/1190767024.py:205: UserWarning: tight_layout not applied: number of rows in subplot specifications must be multiples of one another.\n",
      "  plt.tight_layout()\n",
      "/opt/conda/lib/python3.10/site-packages/statsmodels/genmod/families/family.py:445: RuntimeWarning: invalid value encountered in divide\n",
      "  endog_mu = self._clean(endog / mu)\n"
     ]
    },
    {
     "name": "stdout",
     "output_type": "stream",
     "text": [
      "Unit 242 failed to plot\n"
     ]
    },
    {
     "name": "stderr",
     "output_type": "stream",
     "text": [
      "/tmp/ipykernel_18857/1190767024.py:205: UserWarning: tight_layout not applied: number of rows in subplot specifications must be multiples of one another.\n",
      "  plt.tight_layout()\n",
      "/opt/conda/lib/python3.10/site-packages/statsmodels/genmod/families/family.py:445: RuntimeWarning: invalid value encountered in divide\n",
      "  endog_mu = self._clean(endog / mu)\n"
     ]
    },
    {
     "name": "stdout",
     "output_type": "stream",
     "text": [
      "Unit 244 failed to plot\n"
     ]
    },
    {
     "name": "stderr",
     "output_type": "stream",
     "text": [
      "/tmp/ipykernel_18857/1190767024.py:205: UserWarning: tight_layout not applied: number of rows in subplot specifications must be multiples of one another.\n",
      "  plt.tight_layout()\n",
      "/opt/conda/lib/python3.10/site-packages/statsmodels/genmod/families/family.py:445: RuntimeWarning: invalid value encountered in divide\n",
      "  endog_mu = self._clean(endog / mu)\n"
     ]
    },
    {
     "name": "stdout",
     "output_type": "stream",
     "text": [
      "Unit 246 failed to plot\n"
     ]
    },
    {
     "name": "stderr",
     "output_type": "stream",
     "text": [
      "/tmp/ipykernel_18857/1190767024.py:205: UserWarning: tight_layout not applied: number of rows in subplot specifications must be multiples of one another.\n",
      "  plt.tight_layout()\n",
      "/tmp/ipykernel_18857/1190767024.py:205: UserWarning: tight_layout not applied: number of rows in subplot specifications must be multiples of one another.\n",
      "  plt.tight_layout()\n",
      "/tmp/ipykernel_18857/1190767024.py:166: RuntimeWarning: divide by zero encountered in log10\n",
      "  ax.plot(slide_times_LM, -np.log10(PvCurrU[:, regress]), lw = 1, color = colors[regress,], label = regressors[regress])\n",
      "/tmp/ipykernel_18857/1190767024.py:205: UserWarning: tight_layout not applied: number of rows in subplot specifications must be multiples of one another.\n",
      "  plt.tight_layout()\n",
      "/tmp/ipykernel_18857/1190767024.py:166: RuntimeWarning: divide by zero encountered in log10\n",
      "  ax.plot(slide_times_LM, -np.log10(PvCurrU[:, regress]), lw = 1, color = colors[regress,], label = regressors[regress])\n",
      "/tmp/ipykernel_18857/1190767024.py:205: UserWarning: tight_layout not applied: number of rows in subplot specifications must be multiples of one another.\n",
      "  plt.tight_layout()\n",
      "/tmp/ipykernel_18857/1190767024.py:205: UserWarning: tight_layout not applied: number of rows in subplot specifications must be multiples of one another.\n",
      "  plt.tight_layout()\n",
      "/opt/conda/lib/python3.10/site-packages/statsmodels/genmod/families/family.py:445: RuntimeWarning: invalid value encountered in divide\n",
      "  endog_mu = self._clean(endog / mu)\n"
     ]
    },
    {
     "name": "stdout",
     "output_type": "stream",
     "text": [
      "Unit 252 failed to plot\n"
     ]
    },
    {
     "name": "stderr",
     "output_type": "stream",
     "text": [
      "/opt/conda/lib/python3.10/site-packages/statsmodels/genmod/families/family.py:445: RuntimeWarning: invalid value encountered in divide\n",
      "  endog_mu = self._clean(endog / mu)\n"
     ]
    },
    {
     "name": "stdout",
     "output_type": "stream",
     "text": [
      "Unit 253 failed to plot\n"
     ]
    },
    {
     "name": "stderr",
     "output_type": "stream",
     "text": [
      "/tmp/ipykernel_18857/1190767024.py:205: UserWarning: tight_layout not applied: number of rows in subplot specifications must be multiples of one another.\n",
      "  plt.tight_layout()\n",
      "/tmp/ipykernel_18857/1190767024.py:205: UserWarning: tight_layout not applied: number of rows in subplot specifications must be multiples of one another.\n",
      "  plt.tight_layout()\n",
      "/opt/conda/lib/python3.10/site-packages/statsmodels/genmod/families/family.py:445: RuntimeWarning: invalid value encountered in divide\n",
      "  endog_mu = self._clean(endog / mu)\n"
     ]
    },
    {
     "name": "stdout",
     "output_type": "stream",
     "text": [
      "Unit 256 failed to plot\n"
     ]
    },
    {
     "name": "stderr",
     "output_type": "stream",
     "text": [
      "/opt/conda/lib/python3.10/site-packages/statsmodels/genmod/families/family.py:445: RuntimeWarning: invalid value encountered in divide\n",
      "  endog_mu = self._clean(endog / mu)\n"
     ]
    },
    {
     "name": "stdout",
     "output_type": "stream",
     "text": [
      "Unit 257 failed to plot\n"
     ]
    },
    {
     "name": "stderr",
     "output_type": "stream",
     "text": [
      "/opt/conda/lib/python3.10/site-packages/statsmodels/genmod/families/family.py:445: RuntimeWarning: invalid value encountered in divide\n",
      "  endog_mu = self._clean(endog / mu)\n"
     ]
    },
    {
     "name": "stdout",
     "output_type": "stream",
     "text": [
      "Unit 258 failed to plot\n"
     ]
    },
    {
     "name": "stderr",
     "output_type": "stream",
     "text": [
      "/opt/conda/lib/python3.10/site-packages/statsmodels/genmod/families/family.py:445: RuntimeWarning: invalid value encountered in divide\n",
      "  endog_mu = self._clean(endog / mu)\n"
     ]
    },
    {
     "name": "stdout",
     "output_type": "stream",
     "text": [
      "Unit 259 failed to plot\n"
     ]
    },
    {
     "name": "stderr",
     "output_type": "stream",
     "text": [
      "/opt/conda/lib/python3.10/site-packages/statsmodels/genmod/families/family.py:445: RuntimeWarning: invalid value encountered in divide\n",
      "  endog_mu = self._clean(endog / mu)\n"
     ]
    },
    {
     "name": "stdout",
     "output_type": "stream",
     "text": [
      "Unit 260 failed to plot\n"
     ]
    },
    {
     "name": "stderr",
     "output_type": "stream",
     "text": [
      "/opt/conda/lib/python3.10/site-packages/statsmodels/genmod/families/family.py:445: RuntimeWarning: invalid value encountered in divide\n",
      "  endog_mu = self._clean(endog / mu)\n"
     ]
    },
    {
     "name": "stdout",
     "output_type": "stream",
     "text": [
      "Unit 261 failed to plot\n"
     ]
    },
    {
     "name": "stderr",
     "output_type": "stream",
     "text": [
      "/opt/conda/lib/python3.10/site-packages/statsmodels/genmod/families/family.py:445: RuntimeWarning: invalid value encountered in divide\n",
      "  endog_mu = self._clean(endog / mu)\n"
     ]
    },
    {
     "name": "stdout",
     "output_type": "stream",
     "text": [
      "Unit 262 failed to plot\n"
     ]
    },
    {
     "name": "stderr",
     "output_type": "stream",
     "text": [
      "/tmp/ipykernel_18857/1190767024.py:205: UserWarning: tight_layout not applied: number of rows in subplot specifications must be multiples of one another.\n",
      "  plt.tight_layout()\n",
      "/tmp/ipykernel_18857/1190767024.py:205: UserWarning: tight_layout not applied: number of rows in subplot specifications must be multiples of one another.\n",
      "  plt.tight_layout()\n",
      "/tmp/ipykernel_18857/1190767024.py:205: UserWarning: tight_layout not applied: number of rows in subplot specifications must be multiples of one another.\n",
      "  plt.tight_layout()\n",
      "/tmp/ipykernel_18857/1190767024.py:205: UserWarning: tight_layout not applied: number of rows in subplot specifications must be multiples of one another.\n",
      "  plt.tight_layout()\n",
      "/tmp/ipykernel_18857/1190767024.py:205: UserWarning: tight_layout not applied: number of rows in subplot specifications must be multiples of one another.\n",
      "  plt.tight_layout()\n",
      "/tmp/ipykernel_18857/1190767024.py:205: UserWarning: tight_layout not applied: number of rows in subplot specifications must be multiples of one another.\n",
      "  plt.tight_layout()\n",
      "/tmp/ipykernel_18857/1190767024.py:205: UserWarning: tight_layout not applied: number of rows in subplot specifications must be multiples of one another.\n",
      "  plt.tight_layout()\n"
     ]
    }
   ],
   "source": [
    "for unit_id in unit_tbl['unit_id'].values:\n",
    "    try:\n",
    "        fig = plot_unit(unit_id, data_type = data_type, align_name='go_cue')\n",
    "        fig.savefig(fname=os.path.join(session_dir[f'ephys_fig_dir_{data_type}'], f'unit_{unit_id}_goCue.pdf'))\n",
    "        plt.close('all')\n",
    "        # plt.show()\n",
    "    except:\n",
    "        print(f'Unit {unit_id} failed to plot')\n"
   ]
  }
 ],
 "metadata": {
  "kernelspec": {
   "display_name": "base",
   "language": "python",
   "name": "python3"
  },
  "language_info": {
   "codemirror_mode": {
    "name": "ipython",
    "version": 3
   },
   "file_extension": ".py",
   "mimetype": "text/x-python",
   "name": "python",
   "nbconvert_exporter": "python",
   "pygments_lexer": "ipython3",
   "version": "3.10.16"
  }
 },
 "nbformat": 4,
 "nbformat_minor": 2
}
