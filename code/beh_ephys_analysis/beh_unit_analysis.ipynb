{
 "cells": [
  {
   "cell_type": "code",
   "execution_count": 1,
   "metadata": {},
   "outputs": [],
   "source": [
    "from harp.clock import decode_harp_clock, align_timestamps_to_anchor_points\n",
    "from open_ephys.analysis import Session\n",
    "import datetime\n",
    "from aind_ephys_rig_qc.temporal_alignment import search_harp_line\n",
    "import os\n",
    "import numpy as np\n",
    "import matplotlib.pyplot as plt\n",
    "import matplotlib.gridspec as gridspec\n",
    "from matplotlib.colors import LinearSegmentedColormap\n",
    "import pandas as pd\n",
    "import os\n",
    "from pynwb import NWBFile, TimeSeries, NWBHDF5IO\n",
    "from scipy.io import loadmat\n",
    "from scipy.stats import zscore\n",
    "\n",
    "from open_ephys.analysis import Session\n",
    "from pathlib import Path\n",
    "import glob\n",
    "\n",
    "import spikeinterface as si\n",
    "import xarray as xr\n",
    "import json\n",
    "import seaborn as sns\n",
    "from PyPDF2 import PdfMerger\n",
    "from aind_ephys_utils import align \n",
    "from sklearn.linear_model import LinearRegression\n",
    "import statsmodels.api as sm\n",
    "import re\n",
    "from aind_dynamic_foraging_basic_analysis.licks.lick_analysis import load_nwb, load_data\n",
    "from aind_dynamic_foraging_data_utils.nwb_utils import load_nwb_from_filename\n",
    "from hdmf_zarr.nwb import NWBZarrIO\n",
    "from utils.beh_functions import session_dirs, parseSessionID, load_model_dv, makeSessionDF\n",
    "from utils.ephys_functions import build_time_window_domain, \\\n",
    "                            build_spike_histogram, \\\n",
    "                            build_spike_histogram_overlap, \\\n",
    "                            fitSpikeModelP, \\\n",
    "                            fitSpikeModelG\n",
    "import pandas as pd\n",
    "import pickle\n",
    "\n",
    "%matplotlib inline\n",
    "%matplotlib widget"
   ]
  },
  {
   "cell_type": "code",
   "execution_count": 2,
   "metadata": {},
   "outputs": [],
   "source": [
    "session = 'behavior_751004_2024-12-20_13-26-11'\n",
    "model_name = 'stan_qLearning_5params'\n",
    "session_dir = session_dirs(session, model_name = model_name)\n",
    "data_type = 'curated'\n",
    "curate_time = True"
   ]
  },
  {
   "cell_type": "code",
   "execution_count": 3,
   "metadata": {},
   "outputs": [],
   "source": [
    "# load behavior data\n",
    "nwb = load_nwb_from_filename(session_dir['nwb_beh'])\n",
    "session_df = makeSessionDF(nwb)"
   ]
  },
  {
   "cell_type": "code",
   "execution_count": 5,
   "metadata": {},
   "outputs": [
    {
     "ename": "KeyError",
     "evalue": "'beh_nwb_dir'",
     "output_type": "error",
     "traceback": [
      "\u001b[0;31m---------------------------------------------------------------------------\u001b[0m",
      "\u001b[0;31mKeyError\u001b[0m                                  Traceback (most recent call last)",
      "\u001b[1;32m/root/capsule/code/beh_ephys_analysis/beh_unit_analysis.ipynb Cell 4\u001b[0m line \u001b[0;36m1\n\u001b[0;32m----> <a href='vscode-notebook-cell://codeocean.allenneuraldynamics.org/root/capsule/code/beh_ephys_analysis/beh_unit_analysis.ipynb#X16sdnNjb2RlLXJlbW90ZQ%3D%3D?line=0'>1</a>\u001b[0m model_dv, session_cut \u001b[39m=\u001b[39m load_model_dv(session, model_name)\n\u001b[1;32m      <a href='vscode-notebook-cell://codeocean.allenneuraldynamics.org/root/capsule/code/beh_ephys_analysis/beh_unit_analysis.ipynb#X16sdnNjb2RlLXJlbW90ZQ%3D%3D?line=1'>2</a>\u001b[0m trial_df \u001b[39m=\u001b[39m makeSessionDF(nwb, cut\u001b[39m=\u001b[39msession_cut)\n\u001b[1;32m      <a href='vscode-notebook-cell://codeocean.allenneuraldynamics.org/root/capsule/code/beh_ephys_analysis/beh_unit_analysis.ipynb#X16sdnNjb2RlLXJlbW90ZQ%3D%3D?line=2'>3</a>\u001b[0m session_df \u001b[39m=\u001b[39m pd\u001b[39m.\u001b[39mmerge(trial_df, model_dv, left_index\u001b[39m=\u001b[39m\u001b[39mTrue\u001b[39;00m, right_index\u001b[39m=\u001b[39m\u001b[39mTrue\u001b[39;00m, suffixes\u001b[39m=\u001b[39m(\u001b[39m'\u001b[39m\u001b[39m'\u001b[39m, \u001b[39m'\u001b[39m\u001b[39m_model\u001b[39m\u001b[39m'\u001b[39m))\n",
      "File \u001b[0;32m~/capsule/code/beh_ephys_analysis/utils/beh_functions.py:759\u001b[0m, in \u001b[0;36mload_model_dv\u001b[0;34m(session_id, model_name, data_dir, scratch_dir)\u001b[0m\n\u001b[1;32m    757\u001b[0m \u001b[39mif\u001b[39;00m model_dirs[\u001b[39m'\u001b[39m\u001b[39mmodel_file\u001b[39m\u001b[39m'\u001b[39m] \u001b[39mis\u001b[39;00m \u001b[39mnot\u001b[39;00m \u001b[39mNone\u001b[39;00m:\n\u001b[1;32m    758\u001b[0m     model_dv_temp \u001b[39m=\u001b[39m pd\u001b[39m.\u001b[39mread_csv(model_dirs[\u001b[39m'\u001b[39m\u001b[39mmodel_file\u001b[39m\u001b[39m'\u001b[39m], index_col\u001b[39m=\u001b[39m\u001b[39m0\u001b[39m)\n\u001b[0;32m--> 759\u001b[0m     nwb \u001b[39m=\u001b[39m load_nwb_from_filename(model_dirs[\u001b[39m'\u001b[39;49m\u001b[39mbeh_nwb_dir\u001b[39;49m\u001b[39m'\u001b[39;49m])\n\u001b[1;32m    760\u001b[0m     trial_df \u001b[39m=\u001b[39m nwb\u001b[39m.\u001b[39mtrials\u001b[39m.\u001b[39mto_dataframe()\n\u001b[1;32m    761\u001b[0m     \u001b[39m# model_dv = pd.DataFrame(np.nan, index=range(len(trial_df)), columns=model_dv_temp.columns)\u001b[39;00m\n",
      "\u001b[0;31mKeyError\u001b[0m: 'beh_nwb_dir'"
     ]
    }
   ],
   "source": [
    "model_dv, session_cut = load_model_dv(session, model_name)\n",
    "trial_df = makeSessionDF(nwb, cut=session_cut)\n",
    "session_df = pd.merge(trial_df, model_dv, left_index=True, right_index=True, suffixes=('', '_model'))\n",
    "for column in session_df.columns:\n",
    "    if '_model' in column:\n",
    "        session_df.drop(column, axis=1, inplace=True)\n",
    "session_df.head()\n",
    "if 'Q_r' in session_df.columns:\n",
    "    Qchosen = session_df['Q_l'].values\n",
    "    Qchosen[np.where(session_df['choice']>0)] = session_df.loc[session_df['choice']>0, 'Q_r']\n",
    "    session_df['Qchosen'] = Qchosen"
   ]
  },
  {
   "cell_type": "code",
   "execution_count": 6,
   "metadata": {},
   "outputs": [
    {
     "ename": "KeyError",
     "evalue": "'nwb_dir'",
     "output_type": "error",
     "traceback": [
      "\u001b[0;31m---------------------------------------------------------------------------\u001b[0m",
      "\u001b[0;31mKeyError\u001b[0m                                  Traceback (most recent call last)",
      "\u001b[1;32m/root/capsule/code/beh_ephys_analysis/beh_unit_analysis.ipynb Cell 5\u001b[0m line \u001b[0;36m1\n\u001b[0;32m----> <a href='vscode-notebook-cell://codeocean.allenneuraldynamics.org/root/capsule/code/beh_ephys_analysis/beh_unit_analysis.ipynb#X23sdnNjb2RlLXJlbW90ZQ%3D%3D?line=0'>1</a>\u001b[0m model_dv, session_cut \u001b[39m=\u001b[39m load_model_dv(session, model_name)\n",
      "File \u001b[0;32m~/capsule/code/beh_ephys_analysis/utils/beh_functions.py:759\u001b[0m, in \u001b[0;36mload_model_dv\u001b[0;34m(session_id, model_name, data_dir, scratch_dir)\u001b[0m\n\u001b[1;32m    757\u001b[0m \u001b[39mif\u001b[39;00m model_dirs[\u001b[39m'\u001b[39m\u001b[39mmodel_file\u001b[39m\u001b[39m'\u001b[39m] \u001b[39mis\u001b[39;00m \u001b[39mnot\u001b[39;00m \u001b[39mNone\u001b[39;00m:\n\u001b[1;32m    758\u001b[0m     model_dv_temp \u001b[39m=\u001b[39m pd\u001b[39m.\u001b[39mread_csv(model_dirs[\u001b[39m'\u001b[39m\u001b[39mmodel_file\u001b[39m\u001b[39m'\u001b[39m], index_col\u001b[39m=\u001b[39m\u001b[39m0\u001b[39m)\n\u001b[0;32m--> 759\u001b[0m     nwb \u001b[39m=\u001b[39m load_nwb(model_dirs[\u001b[39m'\u001b[39;49m\u001b[39mnwb_dir\u001b[39;49m\u001b[39m'\u001b[39;49m])\n\u001b[1;32m    760\u001b[0m     trial_df \u001b[39m=\u001b[39m nwb\u001b[39m.\u001b[39mtrials\u001b[39m.\u001b[39mto_dataframe()\n\u001b[1;32m    761\u001b[0m     \u001b[39m# model_dv = pd.DataFrame(np.nan, index=range(len(trial_df)), columns=model_dv_temp.columns)\u001b[39;00m\n",
      "\u001b[0;31mKeyError\u001b[0m: 'nwb_dir'"
     ]
    }
   ],
   "source": [
    "model_dv, session_cut = load_model_dv(session, model_name)"
   ]
  },
  {
   "cell_type": "code",
   "execution_count": 6,
   "metadata": {},
   "outputs": [],
   "source": [
    "drift_file = os.path.join(session_dir[f'opto_dir_{data_type}'], f'{session}_opto_drift_tbl.csv')\n",
    "opto_drift_tbl = pd.read_csv(drift_file)\n",
    "opto_drift_tbl.reset_index(drop=True, inplace=True)\n",
    "qm_dir = os.path.join(session_dir['processed_dir'], f'{session}_qm.json')\n",
    "with open(qm_dir, 'r') as f:\n",
    "    qm = json.load(f)"
   ]
  },
  {
   "cell_type": "code",
   "execution_count": 10,
   "metadata": {},
   "outputs": [],
   "source": [
    "unit_id = 40\n",
    "spike_times_file = os.path.join(session_dir['ephys_processed_dir_curated'], f'spiketimes.pkl')\n",
    "with open(spike_times_file, 'rb') as f:\n",
    "    spike_times_all = pickle.load(f)\n",
    "spike_times_curr = spike_times_all[unit_id]"
   ]
  },
  {
   "cell_type": "code",
   "execution_count": 11,
   "metadata": {},
   "outputs": [
    {
     "name": "stdout",
     "output_type": "stream",
     "text": [
      "[5260.36099265 9400.        ]\n"
     ]
    }
   ],
   "source": [
    "if unit_id in opto_drift_tbl['unit_id'].values:\n",
    "    curr_unit_drift = opto_drift_tbl[opto_drift_tbl['unit_id'] == unit_id].to_dict()\n",
    "curr_unit_drift = {key: list(value.values())[0] for key, value in curr_unit_drift.items()}\n",
    "ephys_cut_curr = curr_unit_drift['ephys_cut']   \n",
    "string_list = ephys_cut_curr.replace(\"nan\", \"null\")\n",
    "ephys_cut_curr = json.loads(string_list)\n",
    "ephys_cut_curr = np.array([np.nan if x is None else x for x in ephys_cut_curr])\n",
    "\n",
    "ephys_cut_curr[np.isnan(ephys_cut_curr)] = np.array(qm['ephys_cut'])[np.isnan(ephys_cut_curr)]\n",
    "print(ephys_cut_curr)"
   ]
  },
  {
   "cell_type": "code",
   "execution_count": 12,
   "metadata": {},
   "outputs": [],
   "source": [
    "if curate_time:\n",
    "    spike_times_curr = spike_times_curr[(spike_times_curr >= ephys_cut_curr[0]) & (spike_times_curr <= ephys_cut_curr[1])]"
   ]
  },
  {
   "cell_type": "code",
   "execution_count": null,
   "metadata": {},
   "outputs": [],
   "source": []
  }
 ],
 "metadata": {
  "kernelspec": {
   "display_name": "base",
   "language": "python",
   "name": "python3"
  },
  "language_info": {
   "codemirror_mode": {
    "name": "ipython",
    "version": 3
   },
   "file_extension": ".py",
   "mimetype": "text/x-python",
   "name": "python",
   "nbconvert_exporter": "python",
   "pygments_lexer": "ipython3",
   "version": "3.9.12"
  }
 },
 "nbformat": 4,
 "nbformat_minor": 2
}
