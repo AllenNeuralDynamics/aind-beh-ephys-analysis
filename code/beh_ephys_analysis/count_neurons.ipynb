{
 "cells": [
  {
   "cell_type": "code",
   "execution_count": 3,
   "metadata": {},
   "outputs": [],
   "source": [
    "import sys\n",
    "import os\n",
    "sys.path.append('/root/capsule/code/beh_ephys_analysis')\n",
    "from harp.clock import decode_harp_clock, align_timestamps_to_anchor_points\n",
    "from open_ephys.analysis import Session\n",
    "import datetime\n",
    "from aind_ephys_rig_qc.temporal_alignment import search_harp_line\n",
    "import numpy as np\n",
    "import matplotlib.pyplot as plt\n",
    "import matplotlib.gridspec as gridspec\n",
    "from matplotlib.colors import LinearSegmentedColormap\n",
    "import pandas as pd\n",
    "from pynwb import NWBFile, TimeSeries, NWBHDF5IO\n",
    "from scipy.io import loadmat\n",
    "from scipy.stats import zscore\n",
    "import ast\n",
    "from utils.plot_utils import combine_pdf_big\n",
    "\n",
    "from open_ephys.analysis import Session\n",
    "from pathlib import Path\n",
    "import glob\n",
    "\n",
    "import json\n",
    "import seaborn as sns\n",
    "from PyPDF2 import PdfMerger\n",
    "from sklearn.linear_model import LinearRegression\n",
    "import statsmodels.api as sm\n",
    "import re\n",
    "from aind_dynamic_foraging_basic_analysis.plot.plot_foraging_session import plot_foraging_session\n",
    "from aind_dynamic_foraging_data_utils.nwb_utils import load_nwb_from_filename\n",
    "from hdmf_zarr.nwb import NWBZarrIO\n",
    "from utils.beh_functions import session_dirs, parseSessionID, load_model_dv, makeSessionDF, get_session_tbl, get_unit_tbl, get_history_from_nwb\n",
    "from utils.ephys_functions import*\n",
    "import pandas as pd\n",
    "import pickle\n",
    "import scipy.stats as stats\n",
    "from joblib import Parallel, delayed\n",
    "from multiprocessing import Pool\n",
    "from functools import partial\n",
    "import time\n",
    "import spikeinterface as si"
   ]
  },
  {
   "cell_type": "code",
   "execution_count": 2,
   "metadata": {},
   "outputs": [
    {
     "name": "stdout",
     "output_type": "stream",
     "text": [
      "Processing behavior_716325_2024-05-31_10-31-14\n",
      "Processing behavior_717121_2024-06-15_10-00-58\n",
      "There are multiple recordings in the curated nwb directory. Please specify the recording you would like to use.\n",
      "Processing behavior_751004_2024-12-19_11-50-37\n",
      "Processing behavior_751004_2024-12-20_13-26-11\n",
      "Processing behavior_751004_2024-12-21_13-28-28\n",
      "Processing behavior_751004_2024-12-22_13-09-17\n",
      "Processing behavior_751004_2024-12-23_14-20-03\n",
      "Processing behavior_751769_2025-01-16_11-32-05\n",
      "Processing behavior_751769_2025-01-17_11-37-39\n",
      "Processing behavior_751769_2025-01-18_10-15-25\n",
      "Processing behavior_758017_2025-02-04_11-57-38\n",
      "Processing behavior_758017_2025-02-05_11-42-34\n",
      "Processing behavior_758017_2025-02-06_11-26-14\n",
      "Processing behavior_758017_2025-02-07_14-11-08\n",
      "Processing behavior_751766_2025-02-11_11-53-38\n",
      "Processing behavior_751766_2025-02-13_11-31-21\n",
      "Processing behavior_751766_2025-02-14_11-37-11\n",
      "There is no nwb file in the curated directory.\n",
      "Processing behavior_751766_2025-02-15_12-08-11\n",
      "Processing behavior_751181_2025-02-25_12-12-35\n",
      "Processing behavior_751181_2025-02-26_11-51-19\n",
      "Processing behavior_751181_2025-02-27_11-24-47\n",
      "Processing behavior_754897_2025-03-11_12-07-41\n",
      "Processing behavior_754897_2025-03-12_12-23-15\n",
      "Processing behavior_754897_2025-03-13_11-20-42\n",
      "Processing behavior_754897_2025-03-14_11-28-53\n",
      "Processing behavior_754897_2025-03-15_11-32-18\n"
     ]
    }
   ],
   "source": [
    "# loop through all sessions\n",
    "# count number of units pass qc and opto qc\n",
    "# check if exist in longer than 100 sessions \n",
    "# check if exist in pre/post stimulation\n",
    "# check if exist in anti-dromic stimulation\n",
    "all_qc_pass_units = []\n",
    "all_tagged_units = []\n",
    "in_behavior = []\n",
    "opto_tagging_pre = []\n",
    "opto_tagging_post = []\n",
    "anti = []\n",
    "session_list_unit = []\n",
    "\n",
    "df = pd.read_csv('/root/capsule/code/data_management/session_assets.csv')\n",
    "session_ids = df['session_id'].values\n",
    "session_ids = [session for session in session_ids if isinstance(session, str)]\n",
    "\n",
    "p_resp_thresh = 0.5\n",
    "lat_resp_thresh = 0.02\n",
    "\n",
    "target = 'soma'\n",
    "for session in session_ids:\n",
    "    session_dir = session_dirs(session)\n",
    "    if os.path.exists(os.path.join(session_dir['beh_fig_dir'], f'{session}.nwb')):\n",
    "        print(f'Processing {session}')\n",
    "        if session_dir['curated_dir_curated'] is not None:\n",
    "            data_type = 'curated'\n",
    "        elif session_dir['curated_dir_raw'] is not None:\n",
    "            data_type = 'raw'\n",
    "        else:\n",
    "            continue\n",
    "        unit_tbl = get_unit_tbl(session, data_type)\n",
    "        session_df = get_session_tbl(session)\n",
    "        with open(os.path.join(session_dir[f'opto_dir_{data_type}'], f'{session}_opto_info_{target}.json')) as f:\n",
    "            opto_info = json.load(f)\n",
    "        opto_df = pd.read_csv(os.path.join(session_dir[f'opto_dir_{data_type}'], f'{session}_opto_session_{target}.csv'))\n",
    "        if len(opto_df[opto_df['pre_post'] == 'pre'])>0:\n",
    "            pre_end = np.max(opto_df[opto_df['pre_post'] == 'pre']['time'].values)\n",
    "        else:\n",
    "            pre_end = np.nan\n",
    "        \n",
    "        if len(opto_df[opto_df['pre_post'] == 'post'])>0:\n",
    "            post_start = np.min(opto_df[opto_df['pre_post'] == 'post']['time'].values)\n",
    "            post_end = np.max(opto_df[opto_df['pre_post'] == 'post']['time'].values)\n",
    "        else:\n",
    "            post_start = np.nan\n",
    "            post_end = np.nan\n",
    "        for unit_id in unit_tbl['unit_id'].values:\n",
    "            unit = unit_tbl[unit_tbl['unit_id'] == unit_id]\n",
    "            if unit['default_qc'].values[0]:\n",
    "                all_qc_pass_units.append(unit_id)\n",
    "                resp_p = unit['resp_p'].values[0]\n",
    "                lat = unit['resp_lat'].values[0]\n",
    "                baseline_p = unit['firing_rate'].values[0]*opto_info['resp_win']\n",
    "                ind = np.argmax(resp_p)\n",
    "                if resp_p[ind] > p_resp_thresh+baseline_p and lat[ind] < lat_resp_thresh and lat[ind] > 0.005:\n",
    "                    all_tagged_units.append(unit_id)\n",
    "                    unit_drift = load_drift(session, unit_id, data_type=data_type)\n",
    "                    curr_pre_opto = True\n",
    "                    curr_post_opto = True \n",
    "                    curr_anti_opto = True  \n",
    "                    curr_in_beh = True\n",
    "                    go_cue_times = session_df['goCue_start_time']\n",
    "                    if unit_drift is not None:\n",
    "                        if unit_drift['ephys_cut'][0] is not None:\n",
    "                            if unit_drift['ephys_cut'][0] > pre_end - 2*60:\n",
    "                                curr_pre_opto = False \n",
    "                            go_cue_times = go_cue_times[go_cue_times >= unit_drift['ephys_cut'][0]]         \n",
    "                        if unit_drift['ephys_cut'][1] is not None:\n",
    "                            if unit_drift['ephys_cut'][1] < post_start + 2*60:\n",
    "                                curr_post_opto = False\n",
    "                            if unit_drift['ephys_cut'][1] < post_end + 2*60:\n",
    "                                curr_anti_opto = False\n",
    "                            go_cue_times = go_cue_times[go_cue_times <= unit_drift['ephys_cut'][1]]\n",
    "                    if len(go_cue_times) < 100:\n",
    "                        curr_in_beh = False\n",
    "                    opto_tagging_pre.append(curr_pre_opto)\n",
    "                    opto_tagging_post.append(curr_post_opto)\n",
    "                    anti.append(curr_anti_opto)\n",
    "                    in_behavior.append(curr_in_beh)"
   ]
  },
  {
   "cell_type": "code",
   "execution_count": 4,
   "metadata": {},
   "outputs": [],
   "source": [
    "sorting_analyzer = si.load('/root/capsule/data/behavior_751769_2025-01-17_11-37-39_sorted_curated/postprocessed/experiment1_Record Node 104#Neuropix-PXI-100.ProbeA_recording1.zarr', load_extensions=False)"
   ]
  },
  {
   "cell_type": "code",
   "execution_count": 6,
   "metadata": {},
   "outputs": [
    {
     "data": {
      "text/plain": [
       "array([False, False,  True,  True,  True,  True, False,  True,  True,\n",
       "       False,  True,  True,  True,  True,  True, False, False,  True,\n",
       "        True,  True,  True,  True,  True,  True,  True,  True,  True,\n",
       "       False,  True, False,  True, False, False,  True, False,  True,\n",
       "        True,  True, False, False, False,  True,  True,  True,  True,\n",
       "        True,  True,  True, False, False,  True, False, False, False,\n",
       "        True,  True,  True,  True,  True,  True,  True,  True,  True,\n",
       "        True,  True,  True, False, False, False, False,  True,  True,\n",
       "       False, False,  True, False, False,  True,  True,  True,  True,\n",
       "        True,  True,  True,  True, False, False, False, False,  True,\n",
       "        True, False,  True, False, False, False, False,  True,  True,\n",
       "       False, False,  True,  True, False,  True, False,  True, False,\n",
       "       False, False, False,  True, False, False, False,  True, False,\n",
       "        True,  True, False, False,  True,  True, False,  True,  True,\n",
       "       False,  True,  True,  True,  True, False, False,  True, False,\n",
       "        True,  True, False, False,  True, False, False, False, False,\n",
       "        True, False,  True, False,  True, False,  True,  True, False,\n",
       "       False, False, False, False,  True,  True, False,  True,  True,\n",
       "        True,  True, False, False,  True,  True, False,  True, False,\n",
       "       False,  True, False, False, False, False, False, False, False,\n",
       "       False, False, False,  True, False, False, False,  True, False,\n",
       "       False,  True,  True,  True, False,  True, False, False,  True,\n",
       "       False, False, False, False,  True, False,  True, False, False,\n",
       "       False, False,  True, False, False,  True,  True, False,  True,\n",
       "       False, False, False, False,  True,  True,  True,  True, False,\n",
       "       False, False, False, False, False,  True, False, False, False,\n",
       "       False, False, False, False,  True, False,  True, False,  True,\n",
       "        True,  True,  True,  True, False, False,  True,  True, False,\n",
       "        True, False, False, False, False, False, False, False, False,\n",
       "       False, False, False, False,  True, False, False, False,  True,\n",
       "       False, False, False, False, False, False,  True,  True,  True])"
      ]
     },
     "execution_count": 6,
     "metadata": {},
     "output_type": "execute_result"
    }
   ],
   "source": [
    "sorting_analyzer.sorting.get_property(\"default_qc\")\n"
   ]
  },
  {
   "cell_type": "code",
   "execution_count": 15,
   "metadata": {},
   "outputs": [
    {
     "data": {
      "text/plain": [
       "(np.int64(196), np.int64(195), np.int64(198), 199, 1985)"
      ]
     },
     "execution_count": 15,
     "metadata": {},
     "output_type": "execute_result"
    }
   ],
   "source": [
    "np.sum(np.array(opto_tagging_post)), np.sum(np.array(opto_tagging_pre)), np.sum(np.array(in_behavior)), len(all_tagged_units), len(all_qc_pass_units)"
   ]
  }
 ],
 "metadata": {
  "kernelspec": {
   "display_name": "base",
   "language": "python",
   "name": "python3"
  },
  "language_info": {
   "codemirror_mode": {
    "name": "ipython",
    "version": 3
   },
   "file_extension": ".py",
   "mimetype": "text/x-python",
   "name": "python",
   "nbconvert_exporter": "python",
   "pygments_lexer": "ipython3",
   "version": "3.10.16"
  }
 },
 "nbformat": 4,
 "nbformat_minor": 2
}
