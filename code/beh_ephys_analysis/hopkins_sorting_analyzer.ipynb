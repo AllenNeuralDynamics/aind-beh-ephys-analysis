{
 "cells": [
  {
   "cell_type": "code",
   "execution_count": 1,
   "metadata": {},
   "outputs": [],
   "source": [
    "import os\n",
    "os.environ[\"HDF5_USE_FILE_LOCKING\"] = \"FALSE\"\n",
    "import sys\n",
    "sys.path.append('/root/capsule/code/beh_ephys_analysis')\n",
    "from utils.beh_functions import parseSessionID, session_dirs, plot_session_in_time_all, plot_session_glm, transfer_nwb, get_unit_tbl\n",
    "from utils.ephys_functions import make_summary_unit_tbl\n",
    "from utils.hdf5_extractor import HDF5Recording\n",
    "from utils.opto_utils import opto_metrics, load_opto_sig\n",
    "from unit_beh_analysis import plot_unit_beh_session, plot_alignments, burst_analysis\n",
    "from behavior_and_time_alignment import beh_and_time_alignment_hopkins\n",
    "import shutil\n",
    "from aind_dynamic_foraging_data_utils.nwb_utils import load_nwb_from_filename\n",
    "import pandas as  pd\n",
    "from joblib import Parallel, delayed\n",
    "from aind_dynamic_foraging_basic_analysis.plot.plot_foraging_session import plot_foraging_session, plot_foraging_session_nwb\n",
    "from aind_dynamic_foraging_basic_analysis.licks.lick_analysis import plot_lick_analysis\n",
    "import datetime\n",
    "import numpy as np\n",
    "import matplotlib.pyplot as plt\n",
    "import json\n",
    "import pickle\n",
    "import spikeinterface as si\n",
    "import spikeinterface.extractors as se\n",
    "import spikeinterface.preprocessing as spre\n",
    "from utils.hdf5_extractor import read_hdf5 \n",
    "import spikeinterface.widgets as sw"
   ]
  },
  {
   "cell_type": "code",
   "execution_count": 2,
   "metadata": {},
   "outputs": [
    {
     "name": "stdout",
     "output_type": "stream",
     "text": [
      "3.14.0\n"
     ]
    }
   ],
   "source": [
    "import h5py\n",
    "print(h5py.__version__)"
   ]
  },
  {
   "cell_type": "code",
   "execution_count": 3,
   "metadata": {},
   "outputs": [
    {
     "name": "stdout",
     "output_type": "stream",
     "text": [
      "Old data, using hopkins formats\n"
     ]
    }
   ],
   "source": [
    "session = 'behavior_ZS061_2021-03-28_16-35-51'\n",
    "session_dir = session_dirs(session)"
   ]
  },
  {
   "cell_type": "code",
   "execution_count": 4,
   "metadata": {},
   "outputs": [
    {
     "name": "stdout",
     "output_type": "stream",
     "text": [
      "(32, 95402336)\n"
     ]
    }
   ],
   "source": [
    "rec = read_hdf5(session_dir['raw_rec'])\n"
   ]
  },
  {
   "cell_type": "code",
   "execution_count": 5,
   "metadata": {},
   "outputs": [],
   "source": [
    "# traces = rec.get_traces(start_frame=int(1438*rec.sampling_frequency), end_frame=int(1453*rec.sampling_frequency))"
   ]
  },
  {
   "cell_type": "code",
   "execution_count": 6,
   "metadata": {},
   "outputs": [
    {
     "data": {
      "text/plain": [
       "(32,)"
      ]
     },
     "execution_count": 6,
     "metadata": {},
     "output_type": "execute_result"
    }
   ],
   "source": [
    "rec.get_property('offset_to_uV').shape"
   ]
  },
  {
   "cell_type": "code",
   "execution_count": 7,
   "metadata": {},
   "outputs": [
    {
     "data": {
      "text/plain": [
       "(10, 32)"
      ]
     },
     "execution_count": 7,
     "metadata": {},
     "output_type": "execute_result"
    }
   ],
   "source": [
    "sample = rec.get_traces(start_frame=0, end_frame=10, return_scaled=True)\n",
    "sample.shape"
   ]
  },
  {
   "cell_type": "code",
   "execution_count": 8,
   "metadata": {},
   "outputs": [
    {
     "data": {
      "text/plain": [
       "array(['0', '1', '2', '3', '4', '5', '6', '7', '8', '9', '10', '11', '12',\n",
       "       '13', '14', '15', '16', '17', '18', '19', '20', '21', '22', '23',\n",
       "       '24', '25', '26', '27', '28', '29', '30', '31'], dtype='<U2')"
      ]
     },
     "execution_count": 8,
     "metadata": {},
     "output_type": "execute_result"
    }
   ],
   "source": [
    "rec.get_channel_ids()"
   ]
  },
  {
   "cell_type": "code",
   "execution_count": 9,
   "metadata": {},
   "outputs": [],
   "source": [
    "bad_channels= ['10']\n",
    "rec = rec.remove_channels(bad_channels)"
   ]
  },
  {
   "cell_type": "code",
   "execution_count": 10,
   "metadata": {},
   "outputs": [],
   "source": [
    "recording_raw_fake = spre.bandpass_filter(rec, freq_min=50, freq_max=8000)\n",
    "recording_raw_fake = spre.common_reference(recording_raw_fake)"
   ]
  },
  {
   "cell_type": "code",
   "execution_count": 11,
   "metadata": {},
   "outputs": [
    {
     "data": {
      "text/html": [
       "<div style='border:1px solid #ddd; padding:10px;'><strong>CommonReferenceRecording: 31 channels - 32.0kHz - 1 segments - 95,402,336 samples - 2,981.32s (49.69 minutes) - int16 dtype - 5.51 GiB</strong></div><details style='margin-left: 10px;'>  <summary><strong>Channel IDs</strong></summary><ul>['0' '1' '2' '3' '4' '5' '6' '7' '8' '9' '11' '12' '13' '14' '15' '16'\n",
       " '17' '18' '19' '20' '21' '22' '23' '24' '25' '26' '27' '28' '29' '30'\n",
       " '31'] </details><details style='margin-left: 10px;'>  <summary><strong>Annotations</strong></summary><ul><li> <strong> is_filtered </strong>: True</li><li> <strong> probes_info </strong>: [{}, {}, {}, {}, {}, {}, {}, {}]</li></details><details style='margin-left: 10px;'><summary><strong>Properties</strong></summary><ul><details><summary><strong>contact_vector</strong></summary>[(0,  1.0000000e+01,  0.0000000e+00, 'circle', 6., '', '',  0, 'um', 1., 0., 0., 1.)\n",
       " (0,  6.1232340e-16,  1.0000000e+01, 'circle', 6., '', '',  1, 'um', 1., 0., 0., 1.)\n",
       " (0, -1.0000000e+01,  1.2246468e-15, 'circle', 6., '', '',  2, 'um', 1., 0., 0., 1.)\n",
       " (0, -1.8369702e-15, -1.0000000e+01, 'circle', 6., '', '',  3, 'um', 1., 0., 0., 1.)\n",
       " (1,  6.0000000e+01,  0.0000000e+00, 'circle', 6., '', '',  4, 'um', 1., 0., 0., 1.)\n",
       " (1,  5.0000000e+01,  1.0000000e+01, 'circle', 6., '', '',  5, 'um', 1., 0., 0., 1.)\n",
       " (1,  4.0000000e+01,  1.2246468e-15, 'circle', 6., '', '',  6, 'um', 1., 0., 0., 1.)\n",
       " (1,  5.0000000e+01, -1.0000000e+01, 'circle', 6., '', '',  7, 'um', 1., 0., 0., 1.)\n",
       " (2,  1.1000000e+02,  0.0000000e+00, 'circle', 6., '', '',  8, 'um', 1., 0., 0., 1.)\n",
       " (2,  1.0000000e+02,  1.0000000e+01, 'circle', 6., '', '',  9, 'um', 1., 0., 0., 1.)\n",
       " (2,  1.0000000e+02, -1.0000000e+01, 'circle', 6., '', '', 10, 'um', 1., 0., 0., 1.)\n",
       " (3,  1.6000000e+02,  0.0000000e+00, 'circle', 6., '', '', 11, 'um', 1., 0., 0., 1.)\n",
       " (3,  1.5000000e+02,  1.0000000e+01, 'circle', 6., '', '', 12, 'um', 1., 0., 0., 1.)\n",
       " (3,  1.4000000e+02,  1.2246468e-15, 'circle', 6., '', '', 13, 'um', 1., 0., 0., 1.)\n",
       " (3,  1.5000000e+02, -1.0000000e+01, 'circle', 6., '', '', 14, 'um', 1., 0., 0., 1.)\n",
       " (4,  2.1000000e+02,  0.0000000e+00, 'circle', 6., '', '', 15, 'um', 1., 0., 0., 1.)\n",
       " (4,  2.0000000e+02,  1.0000000e+01, 'circle', 6., '', '', 16, 'um', 1., 0., 0., 1.)\n",
       " (4,  1.9000000e+02,  1.2246468e-15, 'circle', 6., '', '', 17, 'um', 1., 0., 0., 1.)\n",
       " (4,  2.0000000e+02, -1.0000000e+01, 'circle', 6., '', '', 18, 'um', 1., 0., 0., 1.)\n",
       " (5,  2.6000000e+02,  0.0000000e+00, 'circle', 6., '', '', 19, 'um', 1., 0., 0., 1.)\n",
       " (5,  2.5000000e+02,  1.0000000e+01, 'circle', 6., '', '', 20, 'um', 1., 0., 0., 1.)\n",
       " (5,  2.4000000e+02,  1.2246468e-15, 'circle', 6., '', '', 21, 'um', 1., 0., 0., 1.)\n",
       " (5,  2.5000000e+02, -1.0000000e+01, 'circle', 6., '', '', 22, 'um', 1., 0., 0., 1.)\n",
       " (6,  3.1000000e+02,  0.0000000e+00, 'circle', 6., '', '', 23, 'um', 1., 0., 0., 1.)\n",
       " (6,  3.0000000e+02,  1.0000000e+01, 'circle', 6., '', '', 24, 'um', 1., 0., 0., 1.)\n",
       " (6,  2.9000000e+02,  1.2246468e-15, 'circle', 6., '', '', 25, 'um', 1., 0., 0., 1.)\n",
       " (6,  3.0000000e+02, -1.0000000e+01, 'circle', 6., '', '', 26, 'um', 1., 0., 0., 1.)\n",
       " (7,  3.6000000e+02,  0.0000000e+00, 'circle', 6., '', '', 27, 'um', 1., 0., 0., 1.)\n",
       " (7,  3.5000000e+02,  1.0000000e+01, 'circle', 6., '', '', 28, 'um', 1., 0., 0., 1.)\n",
       " (7,  3.4000000e+02,  1.2246468e-15, 'circle', 6., '', '', 29, 'um', 1., 0., 0., 1.)\n",
       " (7,  3.5000000e+02, -1.0000000e+01, 'circle', 6., '', '', 30, 'um', 1., 0., 0., 1.)]</details><details><summary><strong>location</strong></summary>[[ 1.0000000e+01  0.0000000e+00]\n",
       " [ 6.1232340e-16  1.0000000e+01]\n",
       " [-1.0000000e+01  1.2246468e-15]\n",
       " [-1.8369702e-15 -1.0000000e+01]\n",
       " [ 6.0000000e+01  0.0000000e+00]\n",
       " [ 5.0000000e+01  1.0000000e+01]\n",
       " [ 4.0000000e+01  1.2246468e-15]\n",
       " [ 5.0000000e+01 -1.0000000e+01]\n",
       " [ 1.1000000e+02  0.0000000e+00]\n",
       " [ 1.0000000e+02  1.0000000e+01]\n",
       " [ 1.0000000e+02 -1.0000000e+01]\n",
       " [ 1.6000000e+02  0.0000000e+00]\n",
       " [ 1.5000000e+02  1.0000000e+01]\n",
       " [ 1.4000000e+02  1.2246468e-15]\n",
       " [ 1.5000000e+02 -1.0000000e+01]\n",
       " [ 2.1000000e+02  0.0000000e+00]\n",
       " [ 2.0000000e+02  1.0000000e+01]\n",
       " [ 1.9000000e+02  1.2246468e-15]\n",
       " [ 2.0000000e+02 -1.0000000e+01]\n",
       " [ 2.6000000e+02  0.0000000e+00]\n",
       " [ 2.5000000e+02  1.0000000e+01]\n",
       " [ 2.4000000e+02  1.2246468e-15]\n",
       " [ 2.5000000e+02 -1.0000000e+01]\n",
       " [ 3.1000000e+02  0.0000000e+00]\n",
       " [ 3.0000000e+02  1.0000000e+01]\n",
       " [ 2.9000000e+02  1.2246468e-15]\n",
       " [ 3.0000000e+02 -1.0000000e+01]\n",
       " [ 3.6000000e+02  0.0000000e+00]\n",
       " [ 3.5000000e+02  1.0000000e+01]\n",
       " [ 3.4000000e+02  1.2246468e-15]\n",
       " [ 3.5000000e+02 -1.0000000e+01]]</details><details><summary><strong>group</strong></summary>[0 0 0 0 1 1 1 1 2 2 2 3 3 3 3 4 4 4 4 5 5 5 5 6 6 6 6 7 7 7 7]</details><details><summary><strong>gain_to_uV</strong></summary>[0.015625 0.015625 0.015625 0.015625 0.015625 0.015625 0.015625 0.015625\n",
       " 0.015625 0.015625 0.015625 0.015625 0.015625 0.015625 0.015625 0.015625\n",
       " 0.015625 0.015625 0.015625 0.015625 0.015625 0.015625 0.015625 0.015625\n",
       " 0.015625 0.015625 0.015625 0.015625 0.015625 0.015625 0.015625]</details><details><summary><strong>offset_to_uV</strong></summary>[0 0 0 0 0 0 0 0 0 0 0 0 0 0 0 0 0 0 0 0 0 0 0 0 0 0 0 0 0 0 0]</details></ul></details><details style='margin-left: 10px;'>  <summary><strong>Parent</strong></summary><ul><div style='border:1px solid #ddd; padding:10px;'><strong>BandpassFilterRecording: 31 channels - 32.0kHz - 1 segments - 95,402,336 samples - 2,981.32s (49.69 minutes) - int16 dtype - 5.51 GiB</strong></div><details style='margin-left: 10px;'>  <summary><strong>Channel IDs</strong></summary><ul>['0' '1' '2' '3' '4' '5' '6' '7' '8' '9' '11' '12' '13' '14' '15' '16'\n",
       " '17' '18' '19' '20' '21' '22' '23' '24' '25' '26' '27' '28' '29' '30'\n",
       " '31'] </details><details style='margin-left: 10px;'>  <summary><strong>Annotations</strong></summary><ul><li> <strong> is_filtered </strong>: True</li><li> <strong> probes_info </strong>: [{}, {}, {}, {}, {}, {}, {}, {}]</li></details><details style='margin-left: 10px;'><summary><strong>Properties</strong></summary><ul><details><summary><strong>contact_vector</strong></summary>[(0,  1.0000000e+01,  0.0000000e+00, 'circle', 6., '', '',  0, 'um', 1., 0., 0., 1.)\n",
       " (0,  6.1232340e-16,  1.0000000e+01, 'circle', 6., '', '',  1, 'um', 1., 0., 0., 1.)\n",
       " (0, -1.0000000e+01,  1.2246468e-15, 'circle', 6., '', '',  2, 'um', 1., 0., 0., 1.)\n",
       " (0, -1.8369702e-15, -1.0000000e+01, 'circle', 6., '', '',  3, 'um', 1., 0., 0., 1.)\n",
       " (1,  6.0000000e+01,  0.0000000e+00, 'circle', 6., '', '',  4, 'um', 1., 0., 0., 1.)\n",
       " (1,  5.0000000e+01,  1.0000000e+01, 'circle', 6., '', '',  5, 'um', 1., 0., 0., 1.)\n",
       " (1,  4.0000000e+01,  1.2246468e-15, 'circle', 6., '', '',  6, 'um', 1., 0., 0., 1.)\n",
       " (1,  5.0000000e+01, -1.0000000e+01, 'circle', 6., '', '',  7, 'um', 1., 0., 0., 1.)\n",
       " (2,  1.1000000e+02,  0.0000000e+00, 'circle', 6., '', '',  8, 'um', 1., 0., 0., 1.)\n",
       " (2,  1.0000000e+02,  1.0000000e+01, 'circle', 6., '', '',  9, 'um', 1., 0., 0., 1.)\n",
       " (2,  1.0000000e+02, -1.0000000e+01, 'circle', 6., '', '', 10, 'um', 1., 0., 0., 1.)\n",
       " (3,  1.6000000e+02,  0.0000000e+00, 'circle', 6., '', '', 11, 'um', 1., 0., 0., 1.)\n",
       " (3,  1.5000000e+02,  1.0000000e+01, 'circle', 6., '', '', 12, 'um', 1., 0., 0., 1.)\n",
       " (3,  1.4000000e+02,  1.2246468e-15, 'circle', 6., '', '', 13, 'um', 1., 0., 0., 1.)\n",
       " (3,  1.5000000e+02, -1.0000000e+01, 'circle', 6., '', '', 14, 'um', 1., 0., 0., 1.)\n",
       " (4,  2.1000000e+02,  0.0000000e+00, 'circle', 6., '', '', 15, 'um', 1., 0., 0., 1.)\n",
       " (4,  2.0000000e+02,  1.0000000e+01, 'circle', 6., '', '', 16, 'um', 1., 0., 0., 1.)\n",
       " (4,  1.9000000e+02,  1.2246468e-15, 'circle', 6., '', '', 17, 'um', 1., 0., 0., 1.)\n",
       " (4,  2.0000000e+02, -1.0000000e+01, 'circle', 6., '', '', 18, 'um', 1., 0., 0., 1.)\n",
       " (5,  2.6000000e+02,  0.0000000e+00, 'circle', 6., '', '', 19, 'um', 1., 0., 0., 1.)\n",
       " (5,  2.5000000e+02,  1.0000000e+01, 'circle', 6., '', '', 20, 'um', 1., 0., 0., 1.)\n",
       " (5,  2.4000000e+02,  1.2246468e-15, 'circle', 6., '', '', 21, 'um', 1., 0., 0., 1.)\n",
       " (5,  2.5000000e+02, -1.0000000e+01, 'circle', 6., '', '', 22, 'um', 1., 0., 0., 1.)\n",
       " (6,  3.1000000e+02,  0.0000000e+00, 'circle', 6., '', '', 23, 'um', 1., 0., 0., 1.)\n",
       " (6,  3.0000000e+02,  1.0000000e+01, 'circle', 6., '', '', 24, 'um', 1., 0., 0., 1.)\n",
       " (6,  2.9000000e+02,  1.2246468e-15, 'circle', 6., '', '', 25, 'um', 1., 0., 0., 1.)\n",
       " (6,  3.0000000e+02, -1.0000000e+01, 'circle', 6., '', '', 26, 'um', 1., 0., 0., 1.)\n",
       " (7,  3.6000000e+02,  0.0000000e+00, 'circle', 6., '', '', 27, 'um', 1., 0., 0., 1.)\n",
       " (7,  3.5000000e+02,  1.0000000e+01, 'circle', 6., '', '', 28, 'um', 1., 0., 0., 1.)\n",
       " (7,  3.4000000e+02,  1.2246468e-15, 'circle', 6., '', '', 29, 'um', 1., 0., 0., 1.)\n",
       " (7,  3.5000000e+02, -1.0000000e+01, 'circle', 6., '', '', 30, 'um', 1., 0., 0., 1.)]</details><details><summary><strong>location</strong></summary>[[ 1.0000000e+01  0.0000000e+00]\n",
       " [ 6.1232340e-16  1.0000000e+01]\n",
       " [-1.0000000e+01  1.2246468e-15]\n",
       " [-1.8369702e-15 -1.0000000e+01]\n",
       " [ 6.0000000e+01  0.0000000e+00]\n",
       " [ 5.0000000e+01  1.0000000e+01]\n",
       " [ 4.0000000e+01  1.2246468e-15]\n",
       " [ 5.0000000e+01 -1.0000000e+01]\n",
       " [ 1.1000000e+02  0.0000000e+00]\n",
       " [ 1.0000000e+02  1.0000000e+01]\n",
       " [ 1.0000000e+02 -1.0000000e+01]\n",
       " [ 1.6000000e+02  0.0000000e+00]\n",
       " [ 1.5000000e+02  1.0000000e+01]\n",
       " [ 1.4000000e+02  1.2246468e-15]\n",
       " [ 1.5000000e+02 -1.0000000e+01]\n",
       " [ 2.1000000e+02  0.0000000e+00]\n",
       " [ 2.0000000e+02  1.0000000e+01]\n",
       " [ 1.9000000e+02  1.2246468e-15]\n",
       " [ 2.0000000e+02 -1.0000000e+01]\n",
       " [ 2.6000000e+02  0.0000000e+00]\n",
       " [ 2.5000000e+02  1.0000000e+01]\n",
       " [ 2.4000000e+02  1.2246468e-15]\n",
       " [ 2.5000000e+02 -1.0000000e+01]\n",
       " [ 3.1000000e+02  0.0000000e+00]\n",
       " [ 3.0000000e+02  1.0000000e+01]\n",
       " [ 2.9000000e+02  1.2246468e-15]\n",
       " [ 3.0000000e+02 -1.0000000e+01]\n",
       " [ 3.6000000e+02  0.0000000e+00]\n",
       " [ 3.5000000e+02  1.0000000e+01]\n",
       " [ 3.4000000e+02  1.2246468e-15]\n",
       " [ 3.5000000e+02 -1.0000000e+01]]</details><details><summary><strong>group</strong></summary>[0 0 0 0 1 1 1 1 2 2 2 3 3 3 3 4 4 4 4 5 5 5 5 6 6 6 6 7 7 7 7]</details><details><summary><strong>gain_to_uV</strong></summary>[0.015625 0.015625 0.015625 0.015625 0.015625 0.015625 0.015625 0.015625\n",
       " 0.015625 0.015625 0.015625 0.015625 0.015625 0.015625 0.015625 0.015625\n",
       " 0.015625 0.015625 0.015625 0.015625 0.015625 0.015625 0.015625 0.015625\n",
       " 0.015625 0.015625 0.015625 0.015625 0.015625 0.015625 0.015625]</details><details><summary><strong>offset_to_uV</strong></summary>[0 0 0 0 0 0 0 0 0 0 0 0 0 0 0 0 0 0 0 0 0 0 0 0 0 0 0 0 0 0 0]</details></ul></details><details style='margin-left: 10px;'>  <summary><strong>Parent</strong></summary><ul><div style='border:1px solid #ddd; padding:10px;'><strong>ChannelSliceRecording: 31 channels - 32.0kHz - 1 segments - 95,402,336 samples - 2,981.32s (49.69 minutes) - int16 dtype - 5.51 GiB</strong></div><details style='margin-left: 10px;'>  <summary><strong>Channel IDs</strong></summary><ul>['0' '1' '2' '3' '4' '5' '6' '7' '8' '9' '11' '12' '13' '14' '15' '16'\n",
       " '17' '18' '19' '20' '21' '22' '23' '24' '25' '26' '27' '28' '29' '30'\n",
       " '31'] </details><details style='margin-left: 10px;'>  <summary><strong>Annotations</strong></summary><ul><li> <strong> is_filtered </strong>: False</li><li> <strong> probes_info </strong>: [{}, {}, {}, {}, {}, {}, {}, {}]</li></details><details style='margin-left: 10px;'><summary><strong>Properties</strong></summary><ul><details><summary><strong>contact_vector</strong></summary>[(0,  1.0000000e+01,  0.0000000e+00, 'circle', 6., '', '',  0, 'um', 1., 0., 0., 1.)\n",
       " (0,  6.1232340e-16,  1.0000000e+01, 'circle', 6., '', '',  1, 'um', 1., 0., 0., 1.)\n",
       " (0, -1.0000000e+01,  1.2246468e-15, 'circle', 6., '', '',  2, 'um', 1., 0., 0., 1.)\n",
       " (0, -1.8369702e-15, -1.0000000e+01, 'circle', 6., '', '',  3, 'um', 1., 0., 0., 1.)\n",
       " (1,  6.0000000e+01,  0.0000000e+00, 'circle', 6., '', '',  4, 'um', 1., 0., 0., 1.)\n",
       " (1,  5.0000000e+01,  1.0000000e+01, 'circle', 6., '', '',  5, 'um', 1., 0., 0., 1.)\n",
       " (1,  4.0000000e+01,  1.2246468e-15, 'circle', 6., '', '',  6, 'um', 1., 0., 0., 1.)\n",
       " (1,  5.0000000e+01, -1.0000000e+01, 'circle', 6., '', '',  7, 'um', 1., 0., 0., 1.)\n",
       " (2,  1.1000000e+02,  0.0000000e+00, 'circle', 6., '', '',  8, 'um', 1., 0., 0., 1.)\n",
       " (2,  1.0000000e+02,  1.0000000e+01, 'circle', 6., '', '',  9, 'um', 1., 0., 0., 1.)\n",
       " (2,  1.0000000e+02, -1.0000000e+01, 'circle', 6., '', '', 10, 'um', 1., 0., 0., 1.)\n",
       " (3,  1.6000000e+02,  0.0000000e+00, 'circle', 6., '', '', 11, 'um', 1., 0., 0., 1.)\n",
       " (3,  1.5000000e+02,  1.0000000e+01, 'circle', 6., '', '', 12, 'um', 1., 0., 0., 1.)\n",
       " (3,  1.4000000e+02,  1.2246468e-15, 'circle', 6., '', '', 13, 'um', 1., 0., 0., 1.)\n",
       " (3,  1.5000000e+02, -1.0000000e+01, 'circle', 6., '', '', 14, 'um', 1., 0., 0., 1.)\n",
       " (4,  2.1000000e+02,  0.0000000e+00, 'circle', 6., '', '', 15, 'um', 1., 0., 0., 1.)\n",
       " (4,  2.0000000e+02,  1.0000000e+01, 'circle', 6., '', '', 16, 'um', 1., 0., 0., 1.)\n",
       " (4,  1.9000000e+02,  1.2246468e-15, 'circle', 6., '', '', 17, 'um', 1., 0., 0., 1.)\n",
       " (4,  2.0000000e+02, -1.0000000e+01, 'circle', 6., '', '', 18, 'um', 1., 0., 0., 1.)\n",
       " (5,  2.6000000e+02,  0.0000000e+00, 'circle', 6., '', '', 19, 'um', 1., 0., 0., 1.)\n",
       " (5,  2.5000000e+02,  1.0000000e+01, 'circle', 6., '', '', 20, 'um', 1., 0., 0., 1.)\n",
       " (5,  2.4000000e+02,  1.2246468e-15, 'circle', 6., '', '', 21, 'um', 1., 0., 0., 1.)\n",
       " (5,  2.5000000e+02, -1.0000000e+01, 'circle', 6., '', '', 22, 'um', 1., 0., 0., 1.)\n",
       " (6,  3.1000000e+02,  0.0000000e+00, 'circle', 6., '', '', 23, 'um', 1., 0., 0., 1.)\n",
       " (6,  3.0000000e+02,  1.0000000e+01, 'circle', 6., '', '', 24, 'um', 1., 0., 0., 1.)\n",
       " (6,  2.9000000e+02,  1.2246468e-15, 'circle', 6., '', '', 25, 'um', 1., 0., 0., 1.)\n",
       " (6,  3.0000000e+02, -1.0000000e+01, 'circle', 6., '', '', 26, 'um', 1., 0., 0., 1.)\n",
       " (7,  3.6000000e+02,  0.0000000e+00, 'circle', 6., '', '', 27, 'um', 1., 0., 0., 1.)\n",
       " (7,  3.5000000e+02,  1.0000000e+01, 'circle', 6., '', '', 28, 'um', 1., 0., 0., 1.)\n",
       " (7,  3.4000000e+02,  1.2246468e-15, 'circle', 6., '', '', 29, 'um', 1., 0., 0., 1.)\n",
       " (7,  3.5000000e+02, -1.0000000e+01, 'circle', 6., '', '', 30, 'um', 1., 0., 0., 1.)]</details><details><summary><strong>location</strong></summary>[[ 1.0000000e+01  0.0000000e+00]\n",
       " [ 6.1232340e-16  1.0000000e+01]\n",
       " [-1.0000000e+01  1.2246468e-15]\n",
       " [-1.8369702e-15 -1.0000000e+01]\n",
       " [ 6.0000000e+01  0.0000000e+00]\n",
       " [ 5.0000000e+01  1.0000000e+01]\n",
       " [ 4.0000000e+01  1.2246468e-15]\n",
       " [ 5.0000000e+01 -1.0000000e+01]\n",
       " [ 1.1000000e+02  0.0000000e+00]\n",
       " [ 1.0000000e+02  1.0000000e+01]\n",
       " [ 1.0000000e+02 -1.0000000e+01]\n",
       " [ 1.6000000e+02  0.0000000e+00]\n",
       " [ 1.5000000e+02  1.0000000e+01]\n",
       " [ 1.4000000e+02  1.2246468e-15]\n",
       " [ 1.5000000e+02 -1.0000000e+01]\n",
       " [ 2.1000000e+02  0.0000000e+00]\n",
       " [ 2.0000000e+02  1.0000000e+01]\n",
       " [ 1.9000000e+02  1.2246468e-15]\n",
       " [ 2.0000000e+02 -1.0000000e+01]\n",
       " [ 2.6000000e+02  0.0000000e+00]\n",
       " [ 2.5000000e+02  1.0000000e+01]\n",
       " [ 2.4000000e+02  1.2246468e-15]\n",
       " [ 2.5000000e+02 -1.0000000e+01]\n",
       " [ 3.1000000e+02  0.0000000e+00]\n",
       " [ 3.0000000e+02  1.0000000e+01]\n",
       " [ 2.9000000e+02  1.2246468e-15]\n",
       " [ 3.0000000e+02 -1.0000000e+01]\n",
       " [ 3.6000000e+02  0.0000000e+00]\n",
       " [ 3.5000000e+02  1.0000000e+01]\n",
       " [ 3.4000000e+02  1.2246468e-15]\n",
       " [ 3.5000000e+02 -1.0000000e+01]]</details><details><summary><strong>group</strong></summary>[0 0 0 0 1 1 1 1 2 2 2 3 3 3 3 4 4 4 4 5 5 5 5 6 6 6 6 7 7 7 7]</details><details><summary><strong>gain_to_uV</strong></summary>[0.015625 0.015625 0.015625 0.015625 0.015625 0.015625 0.015625 0.015625\n",
       " 0.015625 0.015625 0.015625 0.015625 0.015625 0.015625 0.015625 0.015625\n",
       " 0.015625 0.015625 0.015625 0.015625 0.015625 0.015625 0.015625 0.015625\n",
       " 0.015625 0.015625 0.015625 0.015625 0.015625 0.015625 0.015625]</details><details><summary><strong>offset_to_uV</strong></summary>[0 0 0 0 0 0 0 0 0 0 0 0 0 0 0 0 0 0 0 0 0 0 0 0 0 0 0 0 0 0 0]</details></ul></details><details style='margin-left: 10px;'>  <summary><strong>Parent</strong></summary><ul><div style='border:1px solid #ddd; padding:10px;'><strong>HDF5Recording: 32 channels - 32.0kHz - 1 segments - 95,402,336 samples - 2,981.32s (49.69 minutes) - int16 dtype - 5.69 GiB</strong></div><details style='margin-left: 10px;'>  <summary><strong>Channel IDs</strong></summary><ul>['0' '1' '2' '3' '4' '5' '6' '7' '8' '9' '10' '11' '12' '13' '14' '15'\n",
       " '16' '17' '18' '19' '20' '21' '22' '23' '24' '25' '26' '27' '28' '29'\n",
       " '30' '31'] </details><details style='margin-left: 10px;'>  <summary><strong>Annotations</strong></summary><ul><li> <strong> is_filtered </strong>: False</li><li> <strong> probes_info </strong>: [{}, {}, {}, {}, {}, {}, {}, {}]</li></details><details style='margin-left: 10px;'><summary><strong>Properties</strong></summary><ul><details><summary><strong>contact_vector</strong></summary>[(0,  1.0000000e+01,  0.0000000e+00, 'circle', 6., '', '',  0, 'um', 1., 0., 0., 1.)\n",
       " (0,  6.1232340e-16,  1.0000000e+01, 'circle', 6., '', '',  1, 'um', 1., 0., 0., 1.)\n",
       " (0, -1.0000000e+01,  1.2246468e-15, 'circle', 6., '', '',  2, 'um', 1., 0., 0., 1.)\n",
       " (0, -1.8369702e-15, -1.0000000e+01, 'circle', 6., '', '',  3, 'um', 1., 0., 0., 1.)\n",
       " (1,  6.0000000e+01,  0.0000000e+00, 'circle', 6., '', '',  4, 'um', 1., 0., 0., 1.)\n",
       " (1,  5.0000000e+01,  1.0000000e+01, 'circle', 6., '', '',  5, 'um', 1., 0., 0., 1.)\n",
       " (1,  4.0000000e+01,  1.2246468e-15, 'circle', 6., '', '',  6, 'um', 1., 0., 0., 1.)\n",
       " (1,  5.0000000e+01, -1.0000000e+01, 'circle', 6., '', '',  7, 'um', 1., 0., 0., 1.)\n",
       " (2,  1.1000000e+02,  0.0000000e+00, 'circle', 6., '', '',  8, 'um', 1., 0., 0., 1.)\n",
       " (2,  1.0000000e+02,  1.0000000e+01, 'circle', 6., '', '',  9, 'um', 1., 0., 0., 1.)\n",
       " (2,  9.0000000e+01,  1.2246468e-15, 'circle', 6., '', '', 10, 'um', 1., 0., 0., 1.)\n",
       " (2,  1.0000000e+02, -1.0000000e+01, 'circle', 6., '', '', 11, 'um', 1., 0., 0., 1.)\n",
       " (3,  1.6000000e+02,  0.0000000e+00, 'circle', 6., '', '', 12, 'um', 1., 0., 0., 1.)\n",
       " (3,  1.5000000e+02,  1.0000000e+01, 'circle', 6., '', '', 13, 'um', 1., 0., 0., 1.)\n",
       " (3,  1.4000000e+02,  1.2246468e-15, 'circle', 6., '', '', 14, 'um', 1., 0., 0., 1.)\n",
       " (3,  1.5000000e+02, -1.0000000e+01, 'circle', 6., '', '', 15, 'um', 1., 0., 0., 1.)\n",
       " (4,  2.1000000e+02,  0.0000000e+00, 'circle', 6., '', '', 16, 'um', 1., 0., 0., 1.)\n",
       " (4,  2.0000000e+02,  1.0000000e+01, 'circle', 6., '', '', 17, 'um', 1., 0., 0., 1.)\n",
       " (4,  1.9000000e+02,  1.2246468e-15, 'circle', 6., '', '', 18, 'um', 1., 0., 0., 1.)\n",
       " (4,  2.0000000e+02, -1.0000000e+01, 'circle', 6., '', '', 19, 'um', 1., 0., 0., 1.)\n",
       " (5,  2.6000000e+02,  0.0000000e+00, 'circle', 6., '', '', 20, 'um', 1., 0., 0., 1.)\n",
       " (5,  2.5000000e+02,  1.0000000e+01, 'circle', 6., '', '', 21, 'um', 1., 0., 0., 1.)\n",
       " (5,  2.4000000e+02,  1.2246468e-15, 'circle', 6., '', '', 22, 'um', 1., 0., 0., 1.)\n",
       " (5,  2.5000000e+02, -1.0000000e+01, 'circle', 6., '', '', 23, 'um', 1., 0., 0., 1.)\n",
       " (6,  3.1000000e+02,  0.0000000e+00, 'circle', 6., '', '', 24, 'um', 1., 0., 0., 1.)\n",
       " (6,  3.0000000e+02,  1.0000000e+01, 'circle', 6., '', '', 25, 'um', 1., 0., 0., 1.)\n",
       " (6,  2.9000000e+02,  1.2246468e-15, 'circle', 6., '', '', 26, 'um', 1., 0., 0., 1.)\n",
       " (6,  3.0000000e+02, -1.0000000e+01, 'circle', 6., '', '', 27, 'um', 1., 0., 0., 1.)\n",
       " (7,  3.6000000e+02,  0.0000000e+00, 'circle', 6., '', '', 28, 'um', 1., 0., 0., 1.)\n",
       " (7,  3.5000000e+02,  1.0000000e+01, 'circle', 6., '', '', 29, 'um', 1., 0., 0., 1.)\n",
       " (7,  3.4000000e+02,  1.2246468e-15, 'circle', 6., '', '', 30, 'um', 1., 0., 0., 1.)\n",
       " (7,  3.5000000e+02, -1.0000000e+01, 'circle', 6., '', '', 31, 'um', 1., 0., 0., 1.)]</details><details><summary><strong>location</strong></summary>[[ 1.0000000e+01  0.0000000e+00]\n",
       " [ 6.1232340e-16  1.0000000e+01]\n",
       " [-1.0000000e+01  1.2246468e-15]\n",
       " [-1.8369702e-15 -1.0000000e+01]\n",
       " [ 6.0000000e+01  0.0000000e+00]\n",
       " [ 5.0000000e+01  1.0000000e+01]\n",
       " [ 4.0000000e+01  1.2246468e-15]\n",
       " [ 5.0000000e+01 -1.0000000e+01]\n",
       " [ 1.1000000e+02  0.0000000e+00]\n",
       " [ 1.0000000e+02  1.0000000e+01]\n",
       " [ 9.0000000e+01  1.2246468e-15]\n",
       " [ 1.0000000e+02 -1.0000000e+01]\n",
       " [ 1.6000000e+02  0.0000000e+00]\n",
       " [ 1.5000000e+02  1.0000000e+01]\n",
       " [ 1.4000000e+02  1.2246468e-15]\n",
       " [ 1.5000000e+02 -1.0000000e+01]\n",
       " [ 2.1000000e+02  0.0000000e+00]\n",
       " [ 2.0000000e+02  1.0000000e+01]\n",
       " [ 1.9000000e+02  1.2246468e-15]\n",
       " [ 2.0000000e+02 -1.0000000e+01]\n",
       " [ 2.6000000e+02  0.0000000e+00]\n",
       " [ 2.5000000e+02  1.0000000e+01]\n",
       " [ 2.4000000e+02  1.2246468e-15]\n",
       " [ 2.5000000e+02 -1.0000000e+01]\n",
       " [ 3.1000000e+02  0.0000000e+00]\n",
       " [ 3.0000000e+02  1.0000000e+01]\n",
       " [ 2.9000000e+02  1.2246468e-15]\n",
       " [ 3.0000000e+02 -1.0000000e+01]\n",
       " [ 3.6000000e+02  0.0000000e+00]\n",
       " [ 3.5000000e+02  1.0000000e+01]\n",
       " [ 3.4000000e+02  1.2246468e-15]\n",
       " [ 3.5000000e+02 -1.0000000e+01]]</details><details><summary><strong>group</strong></summary>[0 0 0 0 1 1 1 1 2 2 2 2 3 3 3 3 4 4 4 4 5 5 5 5 6 6 6 6 7 7 7 7]</details><details><summary><strong>gain_to_uV</strong></summary>[0.015625 0.015625 0.015625 0.015625 0.015625 0.015625 0.015625 0.015625\n",
       " 0.015625 0.015625 0.015625 0.015625 0.015625 0.015625 0.015625 0.015625\n",
       " 0.015625 0.015625 0.015625 0.015625 0.015625 0.015625 0.015625 0.015625\n",
       " 0.015625 0.015625 0.015625 0.015625 0.015625 0.015625 0.015625 0.015625]</details><details><summary><strong>offset_to_uV</strong></summary>[0 0 0 0 0 0 0 0 0 0 0 0 0 0 0 0 0 0 0 0 0 0 0 0 0 0 0 0 0 0 0 0]</details></ul></details></ul></details></ul></details></ul></details>"
      ],
      "text/plain": [
       "CommonReferenceRecording: 31 channels - 32.0kHz - 1 segments - 95,402,336 samples \n",
       "                          2,981.32s (49.69 minutes) - int16 dtype - 5.51 GiB"
      ]
     },
     "execution_count": 11,
     "metadata": {},
     "output_type": "execute_result"
    }
   ],
   "source": [
    "recording_raw_fake"
   ]
  },
  {
   "cell_type": "code",
   "execution_count": 12,
   "metadata": {},
   "outputs": [
    {
     "name": "stderr",
     "output_type": "stream",
     "text": [
      "/opt/conda/lib/python3.10/site-packages/spikeinterface/extractors/nwbextractors.py:1334: UserWarning: Skipping wf_2d_opto because of unequal shapes across units\n",
      "  warnings.warn(f\"Skipping {property_name} because of unequal shapes across units\")\n"
     ]
    }
   ],
   "source": [
    "sorting = se.read_nwb_sorting(\n",
    "    session_dir['nwb_dir_curated'], sampling_frequency=rec.sampling_frequency, t_start=rec.get_start_time(), load_unit_properties=True\n",
    ")"
   ]
  },
  {
   "cell_type": "code",
   "execution_count": 13,
   "metadata": {},
   "outputs": [],
   "source": [
    "sorting = sorting.rename_units(sorting.get_property('unit_id'))"
   ]
  },
  {
   "cell_type": "code",
   "execution_count": 14,
   "metadata": {},
   "outputs": [],
   "source": [
    "units = list(sorting.unit_ids)\n",
    "group = [int(unit_id[2])-1 for unit_id in units]\n",
    "sorting.set_property('group', group)"
   ]
  },
  {
   "cell_type": "code",
   "execution_count": 15,
   "metadata": {},
   "outputs": [
    {
     "data": {
      "text/plain": [
       "array([0, 0, 2, 2, 2, 3, 4])"
      ]
     },
     "execution_count": 15,
     "metadata": {},
     "output_type": "execute_result"
    }
   ],
   "source": [
    "sorting.get_property('group')"
   ]
  },
  {
   "cell_type": "code",
   "execution_count": 1,
   "metadata": {},
   "outputs": [
    {
     "ename": "NameError",
     "evalue": "name 'json' is not defined",
     "output_type": "error",
     "traceback": [
      "\u001b[0;31m---------------------------------------------------------------------------\u001b[0m",
      "\u001b[0;31mNameError\u001b[0m                                 Traceback (most recent call last)",
      "\u001b[1;32m/root/capsule/code/beh_ephys_analysis/hopkins_sorting_analyzer.ipynb Cell 16\u001b[0m line \u001b[0;36m3\n\u001b[1;32m      <a href='vscode-notebook-cell://codeocean.allenneuraldynamics.org/root/capsule/code/beh_ephys_analysis/hopkins_sorting_analyzer.ipynb#X21sdnNjb2RlLXJlbW90ZQ%3D%3D?line=0'>1</a>\u001b[0m sparsity_params_file \u001b[39m=\u001b[39m \u001b[39m'\u001b[39m\u001b[39m/root/capsule/code/beh_ephys_analysis/params.json\u001b[39m\u001b[39m'\u001b[39m\n\u001b[1;32m      <a href='vscode-notebook-cell://codeocean.allenneuraldynamics.org/root/capsule/code/beh_ephys_analysis/hopkins_sorting_analyzer.ipynb#X21sdnNjb2RlLXJlbW90ZQ%3D%3D?line=1'>2</a>\u001b[0m \u001b[39mwith\u001b[39;00m \u001b[39mopen\u001b[39m(sparsity_params_file, \u001b[39m'\u001b[39m\u001b[39mr\u001b[39m\u001b[39m'\u001b[39m) \u001b[39mas\u001b[39;00m f:\n\u001b[0;32m----> <a href='vscode-notebook-cell://codeocean.allenneuraldynamics.org/root/capsule/code/beh_ephys_analysis/hopkins_sorting_analyzer.ipynb#X21sdnNjb2RlLXJlbW90ZQ%3D%3D?line=2'>3</a>\u001b[0m     postprocessing_params \u001b[39m=\u001b[39m json\u001b[39m.\u001b[39mload(f)\n\u001b[1;32m      <a href='vscode-notebook-cell://codeocean.allenneuraldynamics.org/root/capsule/code/beh_ephys_analysis/hopkins_sorting_analyzer.ipynb#X21sdnNjb2RlLXJlbW90ZQ%3D%3D?line=3'>4</a>\u001b[0m job_kwargs \u001b[39m=\u001b[39m postprocessing_params\u001b[39m.\u001b[39mpop(\u001b[39m\"\u001b[39m\u001b[39mjob_kwargs\u001b[39m\u001b[39m\"\u001b[39m)\n\u001b[1;32m      <a href='vscode-notebook-cell://codeocean.allenneuraldynamics.org/root/capsule/code/beh_ephys_analysis/hopkins_sorting_analyzer.ipynb#X21sdnNjb2RlLXJlbW90ZQ%3D%3D?line=4'>5</a>\u001b[0m job_kwargs[\u001b[39m\"\u001b[39m\u001b[39mn_jobs\u001b[39m\u001b[39m\"\u001b[39m] \u001b[39m=\u001b[39m \u001b[39m8\u001b[39m\n",
      "\u001b[0;31mNameError\u001b[0m: name 'json' is not defined"
     ]
    }
   ],
   "source": [
    "sparsity_params_file = '/root/capsule/code/beh_ephys_analysis/params.json'\n",
    "with open(sparsity_params_file, 'r') as f:\n",
    "    postprocessing_params = json.load(f)\n",
    "job_kwargs = postprocessing_params.pop(\"job_kwargs\")\n",
    "job_kwargs[\"n_jobs\"] = 8\n",
    "# si.set_global_job_kwargs(**job_kwargs)\n",
    "\n",
    "sparsity_params = postprocessing_params.pop(\"sparsity\")\n",
    "quality_metrics_names = postprocessing_params.pop(\"quality_metrics_names\")\n",
    "quality_metrics_params = postprocessing_params.pop(\"quality_metrics\")\n",
    "\n",
    "analyzer_dict = postprocessing_params.copy()\n",
    "analyzer_dict.pop(\"duplicate_threshold\")\n",
    "analyzer_dict.pop(\"return_scaled\")"
   ]
  },
  {
   "cell_type": "code",
   "execution_count": null,
   "metadata": {},
   "outputs": [],
   "source": []
  },
  {
   "cell_type": "code",
   "execution_count": 19,
   "metadata": {},
   "outputs": [],
   "source": [
    "si.set_global_job_kwargs(n_jobs=-1, progress_bar=True)"
   ]
  },
  {
   "cell_type": "code",
   "execution_count": 18,
   "metadata": {},
   "outputs": [],
   "source": [
    "analyzer = si.create_sorting_analyzer(\n",
    "    sorting=sorting,\n",
    "    recording=recording_raw_fake,\n",
    "    method=\"by_property\",\n",
    "    by_property=\"group\")"
   ]
  },
  {
   "cell_type": "code",
   "execution_count": 20,
   "metadata": {},
   "outputs": [
    {
     "data": {
      "application/vnd.jupyter.widget-view+json": {
       "model_id": "3dcd24ae94954de49277d26a0b9e80e2",
       "version_major": 2,
       "version_minor": 0
      },
      "text/plain": [
       "compute_waveforms (workers: 16 processes):   0%|          | 0/2982 [00:00<?, ?it/s]"
      ]
     },
     "metadata": {},
     "output_type": "display_data"
    },
    {
     "ename": "AssertionError",
     "evalue": "Extension quality_metrics requires noise_levels to be computed first",
     "output_type": "error",
     "traceback": [
      "\u001b[0;31m---------------------------------------------------------------------------\u001b[0m",
      "\u001b[0;31mAssertionError\u001b[0m                            Traceback (most recent call last)",
      "\u001b[1;32m/root/capsule/code/beh_ephys_analysis/hopkins_sorting_analyzer.ipynb Cell 19\u001b[0m line \u001b[0;36m3\n\u001b[1;32m      <a href='vscode-notebook-cell://codeocean.allenneuraldynamics.org/root/capsule/code/beh_ephys_analysis/hopkins_sorting_analyzer.ipynb#X16sdnNjb2RlLXJlbW90ZQ%3D%3D?line=0'>1</a>\u001b[0m _ \u001b[39m=\u001b[39m analyzer\u001b[39m.\u001b[39mcompute(\u001b[39m\"\u001b[39m\u001b[39mrandom_spikes\u001b[39m\u001b[39m\"\u001b[39m, method\u001b[39m=\u001b[39m\u001b[39m\"\u001b[39m\u001b[39muniform\u001b[39m\u001b[39m\"\u001b[39m)\n\u001b[1;32m      <a href='vscode-notebook-cell://codeocean.allenneuraldynamics.org/root/capsule/code/beh_ephys_analysis/hopkins_sorting_analyzer.ipynb#X16sdnNjb2RlLXJlbW90ZQ%3D%3D?line=1'>2</a>\u001b[0m _ \u001b[39m=\u001b[39m analyzer\u001b[39m.\u001b[39mcompute([\u001b[39m\"\u001b[39m\u001b[39mwaveforms\u001b[39m\u001b[39m\"\u001b[39m, \u001b[39m\"\u001b[39m\u001b[39mtemplates\u001b[39m\u001b[39m\"\u001b[39m])\n\u001b[0;32m----> <a href='vscode-notebook-cell://codeocean.allenneuraldynamics.org/root/capsule/code/beh_ephys_analysis/hopkins_sorting_analyzer.ipynb#X16sdnNjb2RlLXJlbW90ZQ%3D%3D?line=2'>3</a>\u001b[0m _ \u001b[39m=\u001b[39m analyzer\u001b[39m.\u001b[39;49mcompute(\n\u001b[1;32m      <a href='vscode-notebook-cell://codeocean.allenneuraldynamics.org/root/capsule/code/beh_ephys_analysis/hopkins_sorting_analyzer.ipynb#X16sdnNjb2RlLXJlbW90ZQ%3D%3D?line=3'>4</a>\u001b[0m     \u001b[39m\"\u001b[39;49m\u001b[39mquality_metrics\u001b[39;49m\u001b[39m\"\u001b[39;49m,\n\u001b[1;32m      <a href='vscode-notebook-cell://codeocean.allenneuraldynamics.org/root/capsule/code/beh_ephys_analysis/hopkins_sorting_analyzer.ipynb#X16sdnNjb2RlLXJlbW90ZQ%3D%3D?line=4'>5</a>\u001b[0m     metric_names\u001b[39m=\u001b[39;49mquality_metrics_names,\n\u001b[1;32m      <a href='vscode-notebook-cell://codeocean.allenneuraldynamics.org/root/capsule/code/beh_ephys_analysis/hopkins_sorting_analyzer.ipynb#X16sdnNjb2RlLXJlbW90ZQ%3D%3D?line=5'>6</a>\u001b[0m     qm_params\u001b[39m=\u001b[39;49mquality_metrics_params\n\u001b[1;32m      <a href='vscode-notebook-cell://codeocean.allenneuraldynamics.org/root/capsule/code/beh_ephys_analysis/hopkins_sorting_analyzer.ipynb#X16sdnNjb2RlLXJlbW90ZQ%3D%3D?line=6'>7</a>\u001b[0m )\n\u001b[1;32m      <a href='vscode-notebook-cell://codeocean.allenneuraldynamics.org/root/capsule/code/beh_ephys_analysis/hopkins_sorting_analyzer.ipynb#X16sdnNjb2RlLXJlbW90ZQ%3D%3D?line=7'>8</a>\u001b[0m waveform_zarr_folder \u001b[39m=\u001b[39m \u001b[39mf\u001b[39m\u001b[39m'\u001b[39m\u001b[39m{\u001b[39;00msession_dir[\u001b[39mf\u001b[39m\u001b[39m\"\u001b[39m\u001b[39mephys_dir_\u001b[39m\u001b[39m{\u001b[39;00mdata_type\u001b[39m}\u001b[39;00m\u001b[39m\"\u001b[39m]\u001b[39m}\u001b[39;00m\u001b[39m/waveforms.zarr\u001b[39m\u001b[39m'\u001b[39m\n\u001b[1;32m      <a href='vscode-notebook-cell://codeocean.allenneuraldynamics.org/root/capsule/code/beh_ephys_analysis/hopkins_sorting_analyzer.ipynb#X16sdnNjb2RlLXJlbW90ZQ%3D%3D?line=8'>9</a>\u001b[0m \u001b[39mif\u001b[39;00m os\u001b[39m.\u001b[39mpath\u001b[39m.\u001b[39mexists(waveform_zarr_folder):\n",
      "File \u001b[0;32m/opt/conda/lib/python3.10/site-packages/spikeinterface/core/sortinganalyzer.py:1388\u001b[0m, in \u001b[0;36mSortingAnalyzer.compute\u001b[0;34m(self, input, save, extension_params, verbose, **kwargs)\u001b[0m\n\u001b[1;32m   1341\u001b[0m \u001b[39m\u001b[39m\u001b[39m\"\"\"\u001b[39;00m\n\u001b[1;32m   1342\u001b[0m \u001b[39mCompute one extension or several extensiosn.\u001b[39;00m\n\u001b[1;32m   1343\u001b[0m \u001b[39mInternally calls compute_one_extension() or compute_several_extensions() depending on the input type.\u001b[39;00m\n\u001b[0;32m   (...)\u001b[0m\n\u001b[1;32m   1385\u001b[0m \n\u001b[1;32m   1386\u001b[0m \u001b[39m\"\"\"\u001b[39;00m\n\u001b[1;32m   1387\u001b[0m \u001b[39mif\u001b[39;00m \u001b[39misinstance\u001b[39m(\u001b[39minput\u001b[39m, \u001b[39mstr\u001b[39m):\n\u001b[0;32m-> 1388\u001b[0m     \u001b[39mreturn\u001b[39;00m \u001b[39mself\u001b[39;49m\u001b[39m.\u001b[39;49mcompute_one_extension(extension_name\u001b[39m=\u001b[39;49m\u001b[39minput\u001b[39;49m, save\u001b[39m=\u001b[39;49msave, verbose\u001b[39m=\u001b[39;49mverbose, \u001b[39m*\u001b[39;49m\u001b[39m*\u001b[39;49mkwargs)\n\u001b[1;32m   1389\u001b[0m \u001b[39melif\u001b[39;00m \u001b[39misinstance\u001b[39m(\u001b[39minput\u001b[39m, \u001b[39mdict\u001b[39m):\n\u001b[1;32m   1390\u001b[0m     params_, job_kwargs \u001b[39m=\u001b[39m split_job_kwargs(kwargs)\n",
      "File \u001b[0;32m/opt/conda/lib/python3.10/site-packages/spikeinterface/core/sortinganalyzer.py:1462\u001b[0m, in \u001b[0;36mSortingAnalyzer.compute_one_extension\u001b[0;34m(self, extension_name, save, verbose, **kwargs)\u001b[0m\n\u001b[1;32m   1460\u001b[0m     \u001b[39melse\u001b[39;00m:\n\u001b[1;32m   1461\u001b[0m         ok \u001b[39m=\u001b[39m \u001b[39mself\u001b[39m\u001b[39m.\u001b[39mget_extension(dependency_name) \u001b[39mis\u001b[39;00m \u001b[39mnot\u001b[39;00m \u001b[39mNone\u001b[39;00m\n\u001b[0;32m-> 1462\u001b[0m     \u001b[39massert\u001b[39;00m ok, \u001b[39mf\u001b[39m\u001b[39m\"\u001b[39m\u001b[39mExtension \u001b[39m\u001b[39m{\u001b[39;00mextension_name\u001b[39m}\u001b[39;00m\u001b[39m requires \u001b[39m\u001b[39m{\u001b[39;00mdependency_name\u001b[39m}\u001b[39;00m\u001b[39m to be computed first\u001b[39m\u001b[39m\"\u001b[39m\n\u001b[1;32m   1464\u001b[0m extension_instance \u001b[39m=\u001b[39m extension_class(\u001b[39mself\u001b[39m)\n\u001b[1;32m   1465\u001b[0m extension_instance\u001b[39m.\u001b[39mset_params(save\u001b[39m=\u001b[39msave, \u001b[39m*\u001b[39m\u001b[39m*\u001b[39mparams)\n",
      "\u001b[0;31mAssertionError\u001b[0m: Extension quality_metrics requires noise_levels to be computed first"
     ]
    }
   ],
   "source": [
    "_ = analyzer.compute(\"random_spikes\", method=\"uniform\")\n",
    "_ = analyzer.compute([\"waveforms\", \"templates\"])\n",
    "_ = analyzer.compute(\n",
    "    \"quality_metrics\",\n",
    "    metric_names=quality_metrics_names,\n",
    "    qm_params=quality_metrics_params\n",
    ")\n",
    "waveform_zarr_folder = f'{session_dir[f\"ephys_dir_{data_type}\"]}/waveforms.zarr'\n",
    "if os.path.exists(waveform_zarr_folder):\n",
    "    print(\"Zarr folder already exists, deleting.\")\n",
    "    shutil.rmtree(waveform_zarr_folder)"
   ]
  },
  {
   "cell_type": "code",
   "execution_count": 13,
   "metadata": {},
   "outputs": [],
   "source": [
    "%matplotlib widget"
   ]
  },
  {
   "cell_type": "code",
   "execution_count": 25,
   "metadata": {},
   "outputs": [
    {
     "data": {
      "text/plain": [
       "<spikeinterface.widgets.unit_templates.UnitTemplatesWidget at 0x7fb22bf9cd30>"
      ]
     },
     "execution_count": 25,
     "metadata": {},
     "output_type": "execute_result"
    },
    {
     "data": {
      "application/vnd.jupyter.widget-view+json": {
       "model_id": "7cb06402077e401d837caa29d362c578",
       "version_major": 2,
       "version_minor": 0
      },
      "image/png": "[encoded data removed]",
      "text/html": [
       "\n",
       "            <div style=\"display: inline-block;\">\n",
       "                <div class=\"jupyter-widgets widget-label\" style=\"text-align: center;\">\n",
       "                    Figure\n",
       "                </div>\n",
       "                <img src='data:image/png;base64,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' width=640.0/>\n",
       "            </div>\n",
       "        "
      ],
      "text/plain": [
       "Canvas(toolbar=Toolbar(toolitems=[('Home', 'Reset original view', 'home', 'home'), ('Back', 'Back to previous …"
      ]
     },
     "metadata": {},
     "output_type": "display_data"
    }
   ],
   "source": [
    "sw.plot_unit_templates(analyzer)"
   ]
  },
  {
   "cell_type": "code",
   "execution_count": 15,
   "metadata": {},
   "outputs": [
    {
     "data": {
      "application/vnd.jupyter.widget-view+json": {
       "model_id": "a5fd51229ff64388b665608dc7040435",
       "version_major": 2,
       "version_minor": 0
      },
      "text/plain": [
       "AppLayout(children=(TimeSlider(children=(Dropdown(description='segment', options=(0,), value=0), Button(icon='…"
      ]
     },
     "metadata": {},
     "output_type": "display_data"
    },
    {
     "data": {
      "text/plain": [
       "<spikeinterface.widgets.traces.TracesWidget at 0x7f83b70b58d0>"
      ]
     },
     "execution_count": 15,
     "metadata": {},
     "output_type": "execute_result"
    }
   ],
   "source": [
    "sw.plot_traces(spre.highpass_filter(rec), backend='ipywidgets')"
   ]
  },
  {
   "cell_type": "code",
   "execution_count": 21,
   "metadata": {},
   "outputs": [
    {
     "data": {
      "text/plain": [
       "[]"
      ]
     },
     "execution_count": 21,
     "metadata": {},
     "output_type": "execute_result"
    }
   ],
   "source": [
    "sorting.set_sorting_info(recording_dict, params_dict, log_dict)"
   ]
  }
 ],
 "metadata": {
  "kernelspec": {
   "display_name": "base",
   "language": "python",
   "name": "python3"
  },
  "language_info": {
   "codemirror_mode": {
    "name": "ipython",
    "version": 3
   },
   "file_extension": ".py",
   "mimetype": "text/x-python",
   "name": "python",
   "nbconvert_exporter": "python",
   "pygments_lexer": "ipython3",
   "version": "3.10.18"
  }
 },
 "nbformat": 4,
 "nbformat_minor": 2
}
