{
 "cells": [
  {
   "cell_type": "code",
   "execution_count": 5,
   "metadata": {},
   "outputs": [],
   "source": [
    "import numpy as np\n",
    "import matplotlib.pyplot as plt\n",
    "from matplotlib.gridspec import GridSpec as gs\n",
    "from scipy.signal import welch\n",
    "import os\n",
    "import h5py\n",
    "from utils.beh_functions import session_dirs, get_session_tbl, parseSessionID, get_unit_tbl\n",
    "from utils.ephys_functions import plot_rate, get_spike_matrix, get_spike_matrix_filter\n",
    "from utils.plot_utils import combine_pdf_big\n",
    "from open_ephys.analysis import Session\n",
    "from unit_beh_analysis import plot_alignments\n",
    "import spikeinterface as si\n",
    "import spikeinterface.preprocessing as spre\n",
    "from spikeinterface.core.sorting_tools import random_spikes_selection\n",
    "import pandas as pd\n",
    "from matplotlib.colors import LinearSegmentedColormap\n",
    "import matplotlib.gridspec as gridspec\n",
    "from aind_ephys_utils import align\n",
    "%matplotlib inline"
   ]
  },
  {
   "cell_type": "code",
   "execution_count": 2,
   "metadata": {},
   "outputs": [],
   "source": [
    "session_assets = pd.read_csv('/root/capsule/code/data_management/session_assets.csv')\n",
    "session_list = session_assets['session_id'].tolist()"
   ]
  },
  {
   "cell_type": "code",
   "execution_count": 21,
   "metadata": {},
   "outputs": [
    {
     "name": "stdout",
     "output_type": "stream",
     "text": [
      "Starting ecephys_717120_2024-03-06_12-23-53\n",
      "Starting ecephys_713854_2024-03-08_14-54-25\n",
      "Starting ecephys_713854_2024-03-05_13-01-09\n",
      "Starting ecephys_713854_2024-03-08_17-15-58\n",
      "Starting ecephys_684930_2023-09-28_12-44-15\n",
      "Starting ecephys_687697_2023-09-15_11-30-06\n",
      "Starting ecephys_713854_2024-03-05_12-01-40\n",
      "Starting ecephys_684930_2023-09-28_11-45-27\n",
      "Starting ecephys_713854_2024-03-08_15-43-01\n",
      "Starting ecephys_713854_2024-03-05_13-31-20\n",
      "Starting ecephys_684930_2023-09-27_10-04-04\n",
      "Starting ecephys_691893_2023-10-05_12-46-57\n",
      "Starting ecephys_717120_2024-03-06_12-54-27\n",
      "Starting ecephys_713854_2024-03-08_16-20-33\n",
      "Starting ecephys_717120_2024-03-07_12-12-02\n",
      "Starting ecephys_687697_2023-09-15_12-36-06\n",
      "Selected experiment1 recording1, length:859.12\n",
      "Selected experiment1 recording1, length:928.60\n",
      "Selected experiment1 recording1, length:856.86\n",
      "Selected experiment1 recording1, length:858.82\n",
      "Selected experiment1 recording1, length:1160.63\n",
      "Selected experiment1 recording1, length:1559.46\n",
      "Selected experiment1 recording1, length:1211.16\n",
      "Selected experiment1 recording1, length:1145.17\n",
      "No curated data found for ecephys_713854_2024-03-05_13-01-09\n",
      "No curated data found for ecephys_713854_2024-03-05_12-01-40\n",
      "Selected experiment1 recording1, length:926.72\n",
      "No curated data found for ecephys_713854_2024-03-08_16-20-33\n",
      "No curated data found for ecephys_717120_2024-03-06_12-23-53\n",
      "No curated data found for ecephys_717120_2024-03-07_12-12-02\n",
      "Selected experiment1 recording1, length:1235.97\n",
      "No curated data found for ecephys_713854_2024-03-05_13-31-20\n",
      "Starting ecephys_691893_2023-10-06_13-48-18\n",
      "Starting behavior_716325_2024-05-29_10-33-32\n",
      "Starting behavior_716325_2024-05-30_11-33-46\n",
      "Starting behavior_716325_2024-05-31_10-31-14\n",
      "There is no nwb file in the curated directory.\n",
      "No curated data found for ecephys_713854_2024-03-08_15-43-01\n",
      "Starting behavior_716325_2024-06-01_09-25-37\n",
      "Starting behavior_717121_2024-06-11_10-23-31\n",
      "No curated data found for ecephys_717120_2024-03-06_12-54-27\n",
      "No curated data found for ecephys_713854_2024-03-08_17-15-58\n",
      "Starting behavior_717121_2024-06-13_12-21-20\n",
      "No curated data found for ecephys_713854_2024-03-08_14-54-25\n",
      "Starting behavior_717121_2024-06-14_10-23-49\n",
      "Starting behavior_717121_2024-06-15_10-00-58\n",
      "Starting behavior_717121_2024-06-16_11-45-02\n",
      "Selected experiment1 recording1, length:1557.90\n",
      "Selected experiment1 recording1, length:2248.20\n",
      "Selected experiment1 recording1, length:1694.47\n",
      "There is no nwb file in the curated directory.\n",
      "There is no nwb file in the curated directory.\n",
      "There is no nwb file in the curated directory.\n",
      "No curated data found for ecephys_691893_2023-10-05_12-46-57\n",
      "Selected experiment1 recording1, length:1605.84\n",
      "No curated data found for ecephys_684930_2023-09-27_10-04-04\n",
      "No curated data found for ecephys_687697_2023-09-15_11-30-06\n",
      "There is no nwb file in the curated directory.\n",
      "Starting behavior_717259_2024-06-25_10-09-25\n",
      "Starting behavior_717259_2024-06-26_10-23-07\n",
      "Starting behavior_717259_2024-06-28_11-17-19\n",
      "No curated data found for ecephys_684930_2023-09-28_12-44-15\n",
      "Starting behavior_717263_2024-07-23_11-46-42\n",
      "Selected experiment1 recording1, length:1359.54\n",
      "There is no nwb file in the curated directory.\n",
      "Selected experiment1 recording1, length:2252.74\n",
      "There is no nwb file in the curated directory.\n",
      "No curated data found for ecephys_684930_2023-09-28_11-45-27\n",
      "No curated data found for ecephys_687697_2023-09-15_12-36-06\n",
      "Selected experiment1 recording1, length:2013.33\n",
      "Starting behavior_717263_2024-07-24_10-40-05\n",
      "Starting behavior_717263_2024-07-25_10-02-21\n",
      "Selected experiment1 recording1, length:3442.18\n",
      "No curated data found for behavior_716325_2024-05-30_11-33-46\n",
      "Starting behavior_714116_2024-08-27_11-29-48\n",
      "No curated data found for behavior_717121_2024-06-11_10-23-31\n",
      "Starting behavior_714116_2024-08-28_12-11-55\n",
      "Selected experiment1 recording1, length:5005.19\n",
      "Selected experiment1 recording1, length:4604.62\n",
      "No curated data found for behavior_716325_2024-05-29_10-33-32\n",
      "Starting behavior_714116_2024-08-29_11-46-43\n",
      "No curated data found for behavior_717121_2024-06-14_10-23-49\n",
      "Starting behavior_722832_2024-09-13_11-55-58\n",
      "Selected experiment1 recording1, length:6645.29\n",
      "No curated data found for behavior_716325_2024-06-01_09-25-37\n",
      "Starting behavior_724172_2024-10-01_11-20-11\n",
      "Selected experiment1 recording1, length:5048.86\n",
      "Selected experiment1 recording1, length:6585.81\n",
      "Selected experiment1 recording1, length:5996.10\n",
      "No curated data found for behavior_717121_2024-06-13_12-21-20\n",
      "Starting behavior_724172_2024-10-03_11-02-53\n",
      "Selected experiment1 recording1, length:6871.93\n",
      "No curated data found for behavior_717121_2024-06-16_11-45-02\n",
      "Starting behavior_739970_2024-10-15_10-04-12\n",
      "Selected experiment1 recording1, length:6585.81\n",
      "Selected experiment1 recording1, length:5996.10\n",
      "Selected experiment1 recording1, length:6585.81\n",
      "Selected experiment1 recording1, length:1698.51\n",
      "There is no nwb file in the curated directory.\n",
      "Selected experiment1 recording1, length:5996.10\n",
      "No curated data found for ecephys_691893_2023-10-06_13-48-18\n",
      "Starting behavior_739970_2024-10-16_12-15-24\n",
      "Selected experiment1 recording1, length:4360.85\n",
      "Selected experiment1 recording1, length:1720.28\n",
      "Selected experiment1 recording1, length:6297.53\n",
      "No curated data found for behavior_717263_2024-07-23_11-46-42\n",
      "Starting behavior_739977_2024-10-24_12-58-26\n",
      "No curated data found for behavior_714116_2024-08-28_12-11-55\n",
      "Starting behavior_744779_2024-11-12_13-10-14\n",
      "No raw session directory found for behavior_744779_2024-11-12_13-10-14.\n",
      "Selected experiment1 recording1, length:6352.03\n",
      "No curated data found for behavior_717259_2024-06-28_11-17-19\n",
      "No curated data found for behavior_744779_2024-11-12_13-10-14\n",
      "Starting behavior_744779_2024-11-13_13-35-38\n",
      "No raw session directory found for behavior_744779_2024-11-13_13-35-38.\n",
      "Starting behavior_744779_2024-11-14_13-13-37\n",
      "No raw session directory found for behavior_744779_2024-11-14_13-13-37.\n",
      "No curated data found for behavior_744779_2024-11-13_13-35-38\n",
      "Starting behavior_744779_2024-11-15_12-54-11\n",
      "No curated data found for behavior_744779_2024-11-14_13-13-37\n",
      "Starting behavior_751004_2024-12-19_11-50-37\n",
      "Selected experiment1 recording1, length:6889.07\n",
      "No curated data found for behavior_717259_2024-06-25_10-09-25\n",
      "Starting behavior_751004_2024-12-20_13-26-11\n",
      "Selected experiment1 recording1, length:4515.28\n",
      "No curated data found for behavior_717259_2024-06-26_10-23-07\n",
      "Starting behavior_751004_2024-12-21_13-28-28\n",
      "Selected experiment1 recording1, length:6585.81\n",
      "Selected experiment1 recording1, length:5996.10\n",
      "No curated data found for behavior_714116_2024-08-27_11-29-48\n",
      "Starting behavior_751004_2024-12-22_13-09-17\n",
      "Selected experiment1 recording1, length:2761.81\n",
      "Selected experiment1 recording1, length:6019.35\n",
      "No curated data found for behavior_722832_2024-09-13_11-55-58\n",
      "Starting behavior_751004_2024-12-23_14-20-03\n",
      "Selected experiment1 recording1, length:4325.95\n",
      "No curated data found for behavior_717263_2024-07-24_10-40-05\n",
      "Starting behavior_751769_2025-01-16_11-32-05\n",
      "No curated data found for behavior_717263_2024-07-25_10-02-21\n",
      "Starting behavior_751769_2025-01-17_11-37-39\n",
      "Selected experiment1 recording1, length:4791.31\n",
      "No curated data found for behavior_714116_2024-08-29_11-46-43\n",
      "Starting behavior_751769_2025-01-18_10-15-25\n",
      "Selected experiment1 recording1, length:4910.85\n",
      "No curated data found for behavior_724172_2024-10-03_11-02-53\n",
      "Starting behavior_758017_2025-02-04_11-57-38\n",
      "Selected experiment1 recording1, length:4958.38\n",
      "No curated data found for behavior_739970_2024-10-15_10-04-12\n",
      "Starting behavior_758017_2025-02-05_11-42-34\n",
      "Selected experiment1 recording1, length:5883.17\n",
      "No curated data found for behavior_739970_2024-10-16_12-15-24\n",
      "Starting behavior_758017_2025-02-06_11-26-14\n",
      "Selected experiment2 recording1, length:5383.73\n",
      "No curated data found for behavior_724172_2024-10-01_11-20-11\n",
      "Starting behavior_758017_2025-02-07_14-11-08\n",
      "Selected experiment1 recording1, length:2297.42\n",
      "No curated data found for behavior_739977_2024-10-24_12-58-26\n",
      "Starting behavior_751766_2025-02-11_11-53-38\n",
      "Selected experiment1 recording1, length:3946.17\n",
      "No curated data found for behavior_744779_2024-11-15_12-54-11\n",
      "Starting behavior_751766_2025-02-13_11-31-21\n",
      "Selected experiment1 recording1, length:5325.20\n",
      "Selected experiment1 recording1, length:4823.22\n",
      "Selected experiment1 recording1, length:5402.22\n",
      "Selected experiment1 recording1, length:3838.32\n",
      "Selected experiment1 recording1, length:6279.21\n",
      "Selected experiment1 recording1, length:6190.34\n",
      "Selected experiment1 recording1, length:3590.28\n",
      "Selected experiment1 recording1, length:5155.75\n",
      "Selected experiment1 recording1, length:5325.20\n",
      "Selected experiment1 recording1, length:4038.14\n",
      "Selected experiment1 recording1, length:5402.22\n",
      "Selected experiment1 recording1, length:4823.22\n",
      "Selected experiment1 recording1, length:3838.32\n",
      "Selected experiment1 recording1, length:3590.28\n",
      "Selected experiment1 recording1, length:4516.25\n",
      "Selected experiment1 recording1, length:5325.20\n",
      "Selected experiment1 recording1, length:6190.34\n",
      "Selected experiment1 recording1, length:6279.21\n",
      "Selected experiment1 recording1, length:4823.22\n",
      "Selected experiment1 recording1, length:5155.75\n",
      "Selected experiment1 recording1, length:5402.22\n",
      "Selected experiment1 recording1, length:4038.14\n",
      "Selected experiment1 recording1, length:3838.32\n",
      "Selected experiment1 recording1, length:3590.28\n",
      "Selected experiment1 recording1, length:6279.21\n",
      "Selected experiment1 recording1, length:4516.25\n",
      "Selected experiment1 recording1, length:6190.34\n",
      "Selected experiment1 recording1, length:4906.85\n",
      "Selected experiment1 recording1, length:5155.75\n",
      "Selected experiment1 recording1, length:4038.14\n",
      "Selected experiment1 recording1, length:4516.25\n",
      "Selected experiment1 recording1, length:4470.26\n",
      "Selected experiment1 recording1, length:4689.60\n",
      "Selected experiment1 recording1, length:4695.82\n",
      "Selected experiment1 recording1, length:4906.85\n",
      "Selected experiment1 recording1, length:4470.26\n",
      "Selected experiment1 recording1, length:4689.60\n",
      "Selected experiment1 recording1, length:4906.85\n",
      "Selected experiment1 recording1, length:5402.22\n",
      "Selected experiment1 recording1, length:5325.20\n",
      "Selected experiment1 recording1, length:4695.82\n",
      "Selected experiment1 recording1, length:4689.60\n",
      "Selected experiment1 recording1, length:4470.26\n",
      "Selected experiment1 recording1, length:6190.34\n",
      "Selected experiment1 recording1, length:4823.22\n",
      "Selected experiment1 recording1, length:3590.28\n",
      "Selected experiment1 recording1, length:4695.82\n",
      "Selected experiment1 recording1, length:6279.21\n",
      "Selected experiment1 recording1, length:4516.25\n",
      "Selected experiment1 recording1, length:3838.32\n",
      "Selected experiment1 recording1, length:4038.14\n",
      "Selected experiment1 recording1, length:5155.75\n",
      "Selected experiment1 recording1, length:4906.85\n",
      "Selected experiment1 recording1, length:4689.60\n",
      "Selected experiment1 recording1, length:4695.82\n",
      "Selected experiment1 recording1, length:4470.26\n"
     ]
    },
    {
     "name": "stderr",
     "output_type": "stream",
     "text": [
      "/tmp/ipykernel_1985/1851935628.py:131: UserWarning: This figure includes Axes that are not compatible with tight_layout, so results might be incorrect.\n",
      "/tmp/ipykernel_1985/1851935628.py:131: UserWarning: This figure includes Axes that are not compatible with tight_layout, so results might be incorrect.\n",
      "/tmp/ipykernel_1985/1851935628.py:131: UserWarning: This figure includes Axes that are not compatible with tight_layout, so results might be incorrect.\n",
      "/tmp/ipykernel_1985/1851935628.py:131: UserWarning: This figure includes Axes that are not compatible with tight_layout, so results might be incorrect.\n",
      "/tmp/ipykernel_1985/1851935628.py:131: UserWarning: This figure includes Axes that are not compatible with tight_layout, so results might be incorrect.\n",
      "/tmp/ipykernel_1985/1851935628.py:131: UserWarning: This figure includes Axes that are not compatible with tight_layout, so results might be incorrect.\n",
      "/tmp/ipykernel_1985/1851935628.py:131: UserWarning: This figure includes Axes that are not compatible with tight_layout, so results might be incorrect.\n",
      "/tmp/ipykernel_1985/1851935628.py:131: UserWarning: This figure includes Axes that are not compatible with tight_layout, so results might be incorrect.\n",
      "/tmp/ipykernel_1985/1851935628.py:131: UserWarning: This figure includes Axes that are not compatible with tight_layout, so results might be incorrect.\n",
      "/tmp/ipykernel_1985/1851935628.py:131: UserWarning: This figure includes Axes that are not compatible with tight_layout, so results might be incorrect.\n",
      "/tmp/ipykernel_1985/1851935628.py:131: UserWarning: This figure includes Axes that are not compatible with tight_layout, so results might be incorrect.\n",
      "/tmp/ipykernel_1985/1851935628.py:131: UserWarning: This figure includes Axes that are not compatible with tight_layout, so results might be incorrect.\n",
      "/tmp/ipykernel_1985/1851935628.py:131: UserWarning: This figure includes Axes that are not compatible with tight_layout, so results might be incorrect.\n",
      "/tmp/ipykernel_1985/1851935628.py:131: UserWarning: This figure includes Axes that are not compatible with tight_layout, so results might be incorrect.\n",
      "/tmp/ipykernel_1985/1851935628.py:131: UserWarning: This figure includes Axes that are not compatible with tight_layout, so results might be incorrect.\n",
      "/tmp/ipykernel_1985/1851935628.py:131: UserWarning: This figure includes Axes that are not compatible with tight_layout, so results might be incorrect.\n",
      "/tmp/ipykernel_1985/1851935628.py:131: UserWarning: This figure includes Axes that are not compatible with tight_layout, so results might be incorrect.\n",
      "/tmp/ipykernel_1985/1851935628.py:131: UserWarning: This figure includes Axes that are not compatible with tight_layout, so results might be incorrect.\n",
      "/tmp/ipykernel_1985/1851935628.py:131: UserWarning: This figure includes Axes that are not compatible with tight_layout, so results might be incorrect.\n",
      "/tmp/ipykernel_1985/1851935628.py:131: UserWarning: This figure includes Axes that are not compatible with tight_layout, so results might be incorrect.\n",
      "/tmp/ipykernel_1985/1851935628.py:131: UserWarning: This figure includes Axes that are not compatible with tight_layout, so results might be incorrect.\n",
      "/tmp/ipykernel_1985/1851935628.py:131: UserWarning: This figure includes Axes that are not compatible with tight_layout, so results might be incorrect.\n",
      "/tmp/ipykernel_1985/1851935628.py:131: UserWarning: This figure includes Axes that are not compatible with tight_layout, so results might be incorrect.\n",
      "/tmp/ipykernel_1985/1851935628.py:131: UserWarning: This figure includes Axes that are not compatible with tight_layout, so results might be incorrect.\n",
      "/tmp/ipykernel_1985/1851935628.py:131: UserWarning: This figure includes Axes that are not compatible with tight_layout, so results might be incorrect.\n",
      "/tmp/ipykernel_1985/1851935628.py:131: UserWarning: This figure includes Axes that are not compatible with tight_layout, so results might be incorrect.\n",
      "/tmp/ipykernel_1985/1851935628.py:131: UserWarning: This figure includes Axes that are not compatible with tight_layout, so results might be incorrect.\n",
      "/tmp/ipykernel_1985/1851935628.py:131: UserWarning: This figure includes Axes that are not compatible with tight_layout, so results might be incorrect.\n",
      "/tmp/ipykernel_1985/1851935628.py:131: UserWarning: This figure includes Axes that are not compatible with tight_layout, so results might be incorrect.\n",
      "/tmp/ipykernel_1985/1851935628.py:131: UserWarning: This figure includes Axes that are not compatible with tight_layout, so results might be incorrect.\n",
      "/tmp/ipykernel_1985/1851935628.py:131: UserWarning: This figure includes Axes that are not compatible with tight_layout, so results might be incorrect.\n",
      "/tmp/ipykernel_1985/1851935628.py:131: UserWarning: This figure includes Axes that are not compatible with tight_layout, so results might be incorrect.\n",
      "/tmp/ipykernel_1985/1851935628.py:131: UserWarning: This figure includes Axes that are not compatible with tight_layout, so results might be incorrect.\n",
      "/tmp/ipykernel_1985/1851935628.py:131: UserWarning: This figure includes Axes that are not compatible with tight_layout, so results might be incorrect.\n",
      "/tmp/ipykernel_1985/1851935628.py:131: UserWarning: This figure includes Axes that are not compatible with tight_layout, so results might be incorrect.\n",
      "/tmp/ipykernel_1985/1851935628.py:131: UserWarning: This figure includes Axes that are not compatible with tight_layout, so results might be incorrect.\n",
      "/tmp/ipykernel_1985/1851935628.py:131: UserWarning: This figure includes Axes that are not compatible with tight_layout, so results might be incorrect.\n",
      "/tmp/ipykernel_1985/1851935628.py:131: UserWarning: This figure includes Axes that are not compatible with tight_layout, so results might be incorrect.\n",
      "/tmp/ipykernel_1985/1851935628.py:131: UserWarning: This figure includes Axes that are not compatible with tight_layout, so results might be incorrect.\n",
      "/tmp/ipykernel_1985/1851935628.py:131: UserWarning: This figure includes Axes that are not compatible with tight_layout, so results might be incorrect.\n",
      "/tmp/ipykernel_1985/1851935628.py:131: UserWarning: This figure includes Axes that are not compatible with tight_layout, so results might be incorrect.\n",
      "/tmp/ipykernel_1985/1851935628.py:131: UserWarning: This figure includes Axes that are not compatible with tight_layout, so results might be incorrect.\n",
      "/tmp/ipykernel_1985/1851935628.py:131: UserWarning: This figure includes Axes that are not compatible with tight_layout, so results might be incorrect.\n",
      "/tmp/ipykernel_1985/1851935628.py:131: UserWarning: This figure includes Axes that are not compatible with tight_layout, so results might be incorrect.\n",
      "/tmp/ipykernel_1985/1851935628.py:131: UserWarning: This figure includes Axes that are not compatible with tight_layout, so results might be incorrect.\n",
      "/tmp/ipykernel_1985/1851935628.py:131: UserWarning: This figure includes Axes that are not compatible with tight_layout, so results might be incorrect.\n",
      "/tmp/ipykernel_1985/1851935628.py:131: UserWarning: This figure includes Axes that are not compatible with tight_layout, so results might be incorrect.\n",
      "/tmp/ipykernel_1985/1851935628.py:131: UserWarning: This figure includes Axes that are not compatible with tight_layout, so results might be incorrect.\n",
      "/tmp/ipykernel_1985/1851935628.py:131: UserWarning: This figure includes Axes that are not compatible with tight_layout, so results might be incorrect.\n",
      "/tmp/ipykernel_1985/1851935628.py:131: UserWarning: This figure includes Axes that are not compatible with tight_layout, so results might be incorrect.\n",
      "/tmp/ipykernel_1985/1851935628.py:131: UserWarning: This figure includes Axes that are not compatible with tight_layout, so results might be incorrect.\n",
      "/tmp/ipykernel_1985/1851935628.py:131: UserWarning: This figure includes Axes that are not compatible with tight_layout, so results might be incorrect.\n",
      "/tmp/ipykernel_1985/1851935628.py:131: UserWarning: This figure includes Axes that are not compatible with tight_layout, so results might be incorrect.\n",
      "/tmp/ipykernel_1985/1851935628.py:131: UserWarning: This figure includes Axes that are not compatible with tight_layout, so results might be incorrect.\n",
      "/tmp/ipykernel_1985/1851935628.py:131: UserWarning: This figure includes Axes that are not compatible with tight_layout, so results might be incorrect.\n",
      "/tmp/ipykernel_1985/1851935628.py:131: UserWarning: This figure includes Axes that are not compatible with tight_layout, so results might be incorrect.\n",
      "/tmp/ipykernel_1985/1851935628.py:131: UserWarning: This figure includes Axes that are not compatible with tight_layout, so results might be incorrect.\n",
      "/tmp/ipykernel_1985/1851935628.py:131: UserWarning: This figure includes Axes that are not compatible with tight_layout, so results might be incorrect.\n",
      "/tmp/ipykernel_1985/1851935628.py:131: UserWarning: This figure includes Axes that are not compatible with tight_layout, so results might be incorrect.\n",
      "/tmp/ipykernel_1985/1851935628.py:131: UserWarning: This figure includes Axes that are not compatible with tight_layout, so results might be incorrect.\n",
      "/tmp/ipykernel_1985/1851935628.py:131: UserWarning: This figure includes Axes that are not compatible with tight_layout, so results might be incorrect.\n",
      "/tmp/ipykernel_1985/1851935628.py:131: UserWarning: This figure includes Axes that are not compatible with tight_layout, so results might be incorrect.\n",
      "/tmp/ipykernel_1985/1851935628.py:131: UserWarning: This figure includes Axes that are not compatible with tight_layout, so results might be incorrect.\n",
      "/tmp/ipykernel_1985/1851935628.py:131: UserWarning: This figure includes Axes that are not compatible with tight_layout, so results might be incorrect.\n",
      "/tmp/ipykernel_1985/1851935628.py:131: UserWarning: This figure includes Axes that are not compatible with tight_layout, so results might be incorrect.\n",
      "/tmp/ipykernel_1985/1851935628.py:131: UserWarning: This figure includes Axes that are not compatible with tight_layout, so results might be incorrect.\n",
      "/tmp/ipykernel_1985/1851935628.py:131: UserWarning: This figure includes Axes that are not compatible with tight_layout, so results might be incorrect.\n",
      "/tmp/ipykernel_1985/1851935628.py:131: UserWarning: This figure includes Axes that are not compatible with tight_layout, so results might be incorrect.\n",
      "/tmp/ipykernel_1985/1851935628.py:131: UserWarning: This figure includes Axes that are not compatible with tight_layout, so results might be incorrect.\n"
     ]
    },
    {
     "name": "stdout",
     "output_type": "stream",
     "text": [
      "Processing 4 files in /root/capsule/scratch/758017/behavior_758017_2025-02-06_11-26-14/ephys/curated/figures/go_cue_vs_response\n"
     ]
    },
    {
     "name": "stderr",
     "output_type": "stream",
     "text": [
      "/tmp/ipykernel_1985/1851935628.py:131: UserWarning: This figure includes Axes that are not compatible with tight_layout, so results might be incorrect.\n",
      "/tmp/ipykernel_1985/1851935628.py:131: UserWarning: This figure includes Axes that are not compatible with tight_layout, so results might be incorrect.\n",
      "/tmp/ipykernel_1985/1851935628.py:131: UserWarning: This figure includes Axes that are not compatible with tight_layout, so results might be incorrect.\n",
      "/tmp/ipykernel_1985/1851935628.py:131: UserWarning: This figure includes Axes that are not compatible with tight_layout, so results might be incorrect.\n",
      "/tmp/ipykernel_1985/1851935628.py:131: UserWarning: This figure includes Axes that are not compatible with tight_layout, so results might be incorrect.\n",
      "/tmp/ipykernel_1985/1851935628.py:131: UserWarning: This figure includes Axes that are not compatible with tight_layout, so results might be incorrect.\n",
      "/tmp/ipykernel_1985/1851935628.py:131: UserWarning: This figure includes Axes that are not compatible with tight_layout, so results might be incorrect.\n",
      "/tmp/ipykernel_1985/1851935628.py:131: UserWarning: This figure includes Axes that are not compatible with tight_layout, so results might be incorrect.\n",
      "/tmp/ipykernel_1985/1851935628.py:131: UserWarning: This figure includes Axes that are not compatible with tight_layout, so results might be incorrect.\n",
      "/tmp/ipykernel_1985/1851935628.py:131: UserWarning: This figure includes Axes that are not compatible with tight_layout, so results might be incorrect.\n"
     ]
    },
    {
     "name": "stdout",
     "output_type": "stream",
     "text": [
      "Combined PDF saved as: /root/capsule/scratch/758017/behavior_758017_2025-02-06_11-26-14/ephys/curated/figures/alignments_compare_combined.pdf\n",
      "Finished behavior_758017_2025-02-06_11-26-14\n"
     ]
    },
    {
     "name": "stderr",
     "output_type": "stream",
     "text": [
      "/opt/conda/lib/python3.10/site-packages/joblib/externals/loky/process_executor.py:782: UserWarning: A worker stopped while some jobs were given to the executor. This can be caused by a too short worker timeout or by a memory leak.\n",
      "  warnings.warn(\n",
      "/tmp/ipykernel_1985/1851935628.py:131: UserWarning: This figure includes Axes that are not compatible with tight_layout, so results might be incorrect.\n",
      "/tmp/ipykernel_1985/1851935628.py:131: UserWarning: This figure includes Axes that are not compatible with tight_layout, so results might be incorrect.\n",
      "/tmp/ipykernel_1985/1851935628.py:131: UserWarning: This figure includes Axes that are not compatible with tight_layout, so results might be incorrect.\n",
      "/tmp/ipykernel_1985/1851935628.py:131: UserWarning: This figure includes Axes that are not compatible with tight_layout, so results might be incorrect.\n"
     ]
    },
    {
     "name": "stdout",
     "output_type": "stream",
     "text": [
      "Starting behavior_751766_2025-02-14_11-37-11\n"
     ]
    },
    {
     "name": "stderr",
     "output_type": "stream",
     "text": [
      "/tmp/ipykernel_1985/1851935628.py:131: UserWarning: This figure includes Axes that are not compatible with tight_layout, so results might be incorrect.\n",
      "/tmp/ipykernel_1985/1851935628.py:131: UserWarning: This figure includes Axes that are not compatible with tight_layout, so results might be incorrect.\n",
      "/tmp/ipykernel_1985/1851935628.py:131: UserWarning: This figure includes Axes that are not compatible with tight_layout, so results might be incorrect.\n",
      "/tmp/ipykernel_1985/1851935628.py:131: UserWarning: This figure includes Axes that are not compatible with tight_layout, so results might be incorrect.\n",
      "/tmp/ipykernel_1985/1851935628.py:131: UserWarning: This figure includes Axes that are not compatible with tight_layout, so results might be incorrect.\n"
     ]
    },
    {
     "name": "stdout",
     "output_type": "stream",
     "text": [
      "Processing 9 files in /root/capsule/scratch/758017/behavior_758017_2025-02-07_14-11-08/ephys/curated/figures/go_cue_vs_response\n",
      "Selected experiment1 recording1, length:5394.60\n",
      "Selected experiment1 recording1, length:5394.60\n",
      "Selected experiment1 recording1, length:5394.60\n"
     ]
    },
    {
     "name": "stderr",
     "output_type": "stream",
     "text": [
      "/tmp/ipykernel_1985/1851935628.py:131: UserWarning: This figure includes Axes that are not compatible with tight_layout, so results might be incorrect.\n",
      "/tmp/ipykernel_1985/1851935628.py:131: UserWarning: This figure includes Axes that are not compatible with tight_layout, so results might be incorrect.\n"
     ]
    },
    {
     "name": "stdout",
     "output_type": "stream",
     "text": [
      "Selected experiment1 recording1, length:5394.60\n"
     ]
    },
    {
     "name": "stderr",
     "output_type": "stream",
     "text": [
      "/tmp/ipykernel_1985/1851935628.py:131: UserWarning: This figure includes Axes that are not compatible with tight_layout, so results might be incorrect.\n"
     ]
    },
    {
     "name": "stdout",
     "output_type": "stream",
     "text": [
      "Processing 7 files in /root/capsule/scratch/758017/behavior_758017_2025-02-05_11-42-34/ephys/curated/figures/go_cue_vs_response\n"
     ]
    },
    {
     "name": "stderr",
     "output_type": "stream",
     "text": [
      "/tmp/ipykernel_1985/1851935628.py:131: UserWarning: This figure includes Axes that are not compatible with tight_layout, so results might be incorrect.\n",
      "/tmp/ipykernel_1985/1851935628.py:131: UserWarning: This figure includes Axes that are not compatible with tight_layout, so results might be incorrect.\n",
      "/tmp/ipykernel_1985/1851935628.py:131: UserWarning: This figure includes Axes that are not compatible with tight_layout, so results might be incorrect.\n",
      "/tmp/ipykernel_1985/1851935628.py:131: UserWarning: This figure includes Axes that are not compatible with tight_layout, so results might be incorrect.\n",
      "/tmp/ipykernel_1985/1851935628.py:131: UserWarning: This figure includes Axes that are not compatible with tight_layout, so results might be incorrect.\n"
     ]
    },
    {
     "name": "stdout",
     "output_type": "stream",
     "text": [
      "Processing 8 files in /root/capsule/scratch/751769/behavior_751769_2025-01-16_11-32-05/ephys/curated/figures/go_cue_vs_response\n",
      "Processing 12 files in /root/capsule/scratch/751769/behavior_751769_2025-01-17_11-37-39/ephys/curated/figures/go_cue_vs_response\n"
     ]
    },
    {
     "name": "stderr",
     "output_type": "stream",
     "text": [
      "/tmp/ipykernel_1985/1851935628.py:131: UserWarning: This figure includes Axes that are not compatible with tight_layout, so results might be incorrect.\n",
      "/tmp/ipykernel_1985/1851935628.py:131: UserWarning: This figure includes Axes that are not compatible with tight_layout, so results might be incorrect.\n",
      "/tmp/ipykernel_1985/1851935628.py:131: UserWarning: This figure includes Axes that are not compatible with tight_layout, so results might be incorrect.\n",
      "/tmp/ipykernel_1985/1851935628.py:131: UserWarning: This figure includes Axes that are not compatible with tight_layout, so results might be incorrect.\n",
      "/tmp/ipykernel_1985/1851935628.py:131: UserWarning: This figure includes Axes that are not compatible with tight_layout, so results might be incorrect.\n"
     ]
    },
    {
     "name": "stdout",
     "output_type": "stream",
     "text": [
      "Processing 9 files in /root/capsule/scratch/751004/behavior_751004_2024-12-19_11-50-37/ephys/curated/figures/go_cue_vs_response\n"
     ]
    },
    {
     "name": "stderr",
     "output_type": "stream",
     "text": [
      "/tmp/ipykernel_1985/1851935628.py:131: UserWarning: This figure includes Axes that are not compatible with tight_layout, so results might be incorrect.\n",
      "/tmp/ipykernel_1985/1851935628.py:131: UserWarning: This figure includes Axes that are not compatible with tight_layout, so results might be incorrect.\n",
      "/tmp/ipykernel_1985/1851935628.py:131: UserWarning: This figure includes Axes that are not compatible with tight_layout, so results might be incorrect.\n",
      "/tmp/ipykernel_1985/1851935628.py:131: UserWarning: This figure includes Axes that are not compatible with tight_layout, so results might be incorrect.\n",
      "/tmp/ipykernel_1985/1851935628.py:131: UserWarning: This figure includes Axes that are not compatible with tight_layout, so results might be incorrect.\n",
      "/tmp/ipykernel_1985/1851935628.py:131: UserWarning: This figure includes Axes that are not compatible with tight_layout, so results might be incorrect.\n"
     ]
    },
    {
     "name": "stdout",
     "output_type": "stream",
     "text": [
      "Combined PDF saved as: /root/capsule/scratch/758017/behavior_758017_2025-02-05_11-42-34/ephys/curated/figures/alignments_compare_combined.pdf\n",
      "Finished behavior_758017_2025-02-05_11-42-34\n",
      "Combined PDF saved as: /root/capsule/scratch/758017/behavior_758017_2025-02-07_14-11-08/ephys/curated/figures/alignments_compare_combined.pdf\n",
      "Finished behavior_758017_2025-02-07_14-11-08\n"
     ]
    },
    {
     "name": "stderr",
     "output_type": "stream",
     "text": [
      "/tmp/ipykernel_1985/1851935628.py:131: UserWarning: This figure includes Axes that are not compatible with tight_layout, so results might be incorrect.\n",
      "/tmp/ipykernel_1985/1851935628.py:131: UserWarning: This figure includes Axes that are not compatible with tight_layout, so results might be incorrect.\n"
     ]
    },
    {
     "name": "stdout",
     "output_type": "stream",
     "text": [
      "Combined PDF saved as: /root/capsule/scratch/751769/behavior_751769_2025-01-16_11-32-05/ephys/curated/figures/alignments_compare_combined.pdf\n",
      "Finished behavior_751769_2025-01-16_11-32-05\n",
      "Starting behavior_751766_2025-02-15_12-08-11\n"
     ]
    },
    {
     "name": "stderr",
     "output_type": "stream",
     "text": [
      "/tmp/ipykernel_1985/1851935628.py:131: UserWarning: This figure includes Axes that are not compatible with tight_layout, so results might be incorrect.\n",
      "/tmp/ipykernel_1985/1851935628.py:131: UserWarning: This figure includes Axes that are not compatible with tight_layout, so results might be incorrect.\n"
     ]
    },
    {
     "name": "stdout",
     "output_type": "stream",
     "text": [
      "Starting behavior_751181_2025-02-25_12-12-35\n"
     ]
    },
    {
     "name": "stderr",
     "output_type": "stream",
     "text": [
      "/tmp/ipykernel_1985/1851935628.py:131: UserWarning: This figure includes Axes that are not compatible with tight_layout, so results might be incorrect.\n",
      "/tmp/ipykernel_1985/1851935628.py:131: UserWarning: This figure includes Axes that are not compatible with tight_layout, so results might be incorrect.\n",
      "/tmp/ipykernel_1985/1851935628.py:131: UserWarning: This figure includes Axes that are not compatible with tight_layout, so results might be incorrect.\n"
     ]
    },
    {
     "name": "stdout",
     "output_type": "stream",
     "text": [
      "Selected experiment1 recording1, length:5531.91\n",
      "There is no nwb file in the raw directory.\n",
      "No curated data found for behavior_751766_2025-02-15_12-08-11\n"
     ]
    },
    {
     "name": "stderr",
     "output_type": "stream",
     "text": [
      "/tmp/ipykernel_1985/1851935628.py:131: UserWarning: This figure includes Axes that are not compatible with tight_layout, so results might be incorrect.\n"
     ]
    },
    {
     "name": "stdout",
     "output_type": "stream",
     "text": [
      "Starting behavior_751181_2025-02-27_11-24-47\n",
      "Starting behavior_751181_2025-02-26_11-51-19\n",
      "Combined PDF saved as: /root/capsule/scratch/751004/behavior_751004_2024-12-19_11-50-37/ephys/curated/figures/alignments_compare_combined.pdf\n",
      "Finished behavior_751004_2024-12-19_11-50-37\n",
      "Selected experiment1 recording1, length:4646.78\n"
     ]
    },
    {
     "name": "stderr",
     "output_type": "stream",
     "text": [
      "/tmp/ipykernel_1985/1851935628.py:131: UserWarning: This figure includes Axes that are not compatible with tight_layout, so results might be incorrect.\n"
     ]
    },
    {
     "name": "stdout",
     "output_type": "stream",
     "text": [
      "Selected experiment1 recording1, length:4646.78\n",
      "Selected experiment1 recording1, length:3407.21\n",
      "Selected experiment1 recording1, length:4646.78\n",
      "Selected experiment1 recording1, length:3407.21\n",
      "Combined PDF saved as: /root/capsule/scratch/751769/behavior_751769_2025-01-17_11-37-39/ephys/curated/figures/alignments_compare_combined.pdf\n",
      "Finished behavior_751769_2025-01-17_11-37-39\n",
      "Selected experiment1 recording1, length:4646.78\n",
      "Selected experiment1 recording1, length:3407.21\n",
      "Selected experiment1 recording1, length:3845.55\n",
      "Selected experiment1 recording1, length:3407.21\n",
      "Selected experiment1 recording1, length:3845.55\n",
      "Selected experiment1 recording1, length:3845.55\n"
     ]
    },
    {
     "name": "stderr",
     "output_type": "stream",
     "text": [
      "/tmp/ipykernel_1985/1851935628.py:131: UserWarning: This figure includes Axes that are not compatible with tight_layout, so results might be incorrect.\n"
     ]
    },
    {
     "name": "stdout",
     "output_type": "stream",
     "text": [
      "Starting behavior_754897_2025-03-11_12-07-41\n",
      "Selected experiment1 recording1, length:3845.55\n"
     ]
    },
    {
     "name": "stderr",
     "output_type": "stream",
     "text": [
      "/tmp/ipykernel_1985/1851935628.py:131: UserWarning: This figure includes Axes that are not compatible with tight_layout, so results might be incorrect.\n",
      "/tmp/ipykernel_1985/1851935628.py:131: UserWarning: This figure includes Axes that are not compatible with tight_layout, so results might be incorrect.\n",
      "/tmp/ipykernel_1985/1851935628.py:131: UserWarning: This figure includes Axes that are not compatible with tight_layout, so results might be incorrect.\n"
     ]
    },
    {
     "name": "stdout",
     "output_type": "stream",
     "text": [
      "Starting behavior_754897_2025-03-12_12-23-15\n"
     ]
    },
    {
     "name": "stderr",
     "output_type": "stream",
     "text": [
      "/tmp/ipykernel_1985/1851935628.py:131: UserWarning: This figure includes Axes that are not compatible with tight_layout, so results might be incorrect.\n",
      "/tmp/ipykernel_1985/1851935628.py:131: UserWarning: This figure includes Axes that are not compatible with tight_layout, so results might be incorrect.\n"
     ]
    },
    {
     "name": "stdout",
     "output_type": "stream",
     "text": [
      "Selected experiment1 recording1, length:3919.23\n"
     ]
    },
    {
     "name": "stderr",
     "output_type": "stream",
     "text": [
      "/tmp/ipykernel_1985/1851935628.py:131: UserWarning: This figure includes Axes that are not compatible with tight_layout, so results might be incorrect.\n"
     ]
    },
    {
     "name": "stdout",
     "output_type": "stream",
     "text": [
      "Selected experiment1 recording1, length:3919.23\n",
      "Selected experiment1 recording1, length:3919.23\n"
     ]
    },
    {
     "name": "stderr",
     "output_type": "stream",
     "text": [
      "/tmp/ipykernel_1985/1851935628.py:131: UserWarning: This figure includes Axes that are not compatible with tight_layout, so results might be incorrect.\n"
     ]
    },
    {
     "name": "stdout",
     "output_type": "stream",
     "text": [
      "Selected experiment1 recording1, length:3374.46\n",
      "Selected experiment1 recording1, length:3919.23\n"
     ]
    },
    {
     "name": "stderr",
     "output_type": "stream",
     "text": [
      "/tmp/ipykernel_1985/1851935628.py:131: UserWarning: This figure includes Axes that are not compatible with tight_layout, so results might be incorrect.\n"
     ]
    },
    {
     "name": "stdout",
     "output_type": "stream",
     "text": [
      "Selected experiment1 recording1, length:3374.46\n"
     ]
    },
    {
     "name": "stderr",
     "output_type": "stream",
     "text": [
      "/tmp/ipykernel_1985/1851935628.py:131: UserWarning: This figure includes Axes that are not compatible with tight_layout, so results might be incorrect.\n"
     ]
    },
    {
     "name": "stdout",
     "output_type": "stream",
     "text": [
      "Selected experiment1 recording1, length:3374.46\n",
      "Selected experiment1 recording1, length:3374.46\n"
     ]
    },
    {
     "name": "stderr",
     "output_type": "stream",
     "text": [
      "/tmp/ipykernel_1985/1851935628.py:131: UserWarning: This figure includes Axes that are not compatible with tight_layout, so results might be incorrect.\n",
      "/tmp/ipykernel_1985/1851935628.py:131: UserWarning: This figure includes Axes that are not compatible with tight_layout, so results might be incorrect.\n",
      "/tmp/ipykernel_1985/1851935628.py:131: UserWarning: This figure includes Axes that are not compatible with tight_layout, so results might be incorrect.\n",
      "/tmp/ipykernel_1985/1851935628.py:131: UserWarning: This figure includes Axes that are not compatible with tight_layout, so results might be incorrect.\n",
      "/tmp/ipykernel_1985/1851935628.py:131: UserWarning: This figure includes Axes that are not compatible with tight_layout, so results might be incorrect.\n",
      "/tmp/ipykernel_1985/1851935628.py:131: UserWarning: This figure includes Axes that are not compatible with tight_layout, so results might be incorrect.\n",
      "/tmp/ipykernel_1985/1851935628.py:131: UserWarning: This figure includes Axes that are not compatible with tight_layout, so results might be incorrect.\n",
      "/tmp/ipykernel_1985/1851935628.py:131: UserWarning: This figure includes Axes that are not compatible with tight_layout, so results might be incorrect.\n",
      "/tmp/ipykernel_1985/1851935628.py:131: UserWarning: This figure includes Axes that are not compatible with tight_layout, so results might be incorrect.\n",
      "/tmp/ipykernel_1985/1851935628.py:131: UserWarning: This figure includes Axes that are not compatible with tight_layout, so results might be incorrect.\n",
      "/tmp/ipykernel_1985/1851935628.py:131: UserWarning: This figure includes Axes that are not compatible with tight_layout, so results might be incorrect.\n",
      "/tmp/ipykernel_1985/1851935628.py:131: UserWarning: This figure includes Axes that are not compatible with tight_layout, so results might be incorrect.\n",
      "/tmp/ipykernel_1985/1851935628.py:131: UserWarning: This figure includes Axes that are not compatible with tight_layout, so results might be incorrect.\n",
      "/tmp/ipykernel_1985/1851935628.py:131: UserWarning: This figure includes Axes that are not compatible with tight_layout, so results might be incorrect.\n",
      "/tmp/ipykernel_1985/1851935628.py:131: UserWarning: This figure includes Axes that are not compatible with tight_layout, so results might be incorrect.\n",
      "/tmp/ipykernel_1985/1851935628.py:131: UserWarning: This figure includes Axes that are not compatible with tight_layout, so results might be incorrect.\n",
      "/tmp/ipykernel_1985/1851935628.py:131: UserWarning: This figure includes Axes that are not compatible with tight_layout, so results might be incorrect.\n",
      "/tmp/ipykernel_1985/1851935628.py:131: UserWarning: This figure includes Axes that are not compatible with tight_layout, so results might be incorrect.\n",
      "/tmp/ipykernel_1985/1851935628.py:131: UserWarning: This figure includes Axes that are not compatible with tight_layout, so results might be incorrect.\n",
      "/tmp/ipykernel_1985/1851935628.py:131: UserWarning: This figure includes Axes that are not compatible with tight_layout, so results might be incorrect.\n",
      "/tmp/ipykernel_1985/1851935628.py:131: UserWarning: This figure includes Axes that are not compatible with tight_layout, so results might be incorrect.\n",
      "/tmp/ipykernel_1985/1851935628.py:131: UserWarning: This figure includes Axes that are not compatible with tight_layout, so results might be incorrect.\n",
      "/tmp/ipykernel_1985/1851935628.py:131: UserWarning: This figure includes Axes that are not compatible with tight_layout, so results might be incorrect.\n",
      "/tmp/ipykernel_1985/1851935628.py:131: UserWarning: This figure includes Axes that are not compatible with tight_layout, so results might be incorrect.\n",
      "/tmp/ipykernel_1985/1851935628.py:131: UserWarning: This figure includes Axes that are not compatible with tight_layout, so results might be incorrect.\n",
      "/tmp/ipykernel_1985/1851935628.py:131: UserWarning: This figure includes Axes that are not compatible with tight_layout, so results might be incorrect.\n",
      "/tmp/ipykernel_1985/1851935628.py:131: UserWarning: This figure includes Axes that are not compatible with tight_layout, so results might be incorrect.\n",
      "/tmp/ipykernel_1985/1851935628.py:131: UserWarning: This figure includes Axes that are not compatible with tight_layout, so results might be incorrect.\n"
     ]
    },
    {
     "name": "stdout",
     "output_type": "stream",
     "text": [
      "Processing 11 files in /root/capsule/scratch/751766/behavior_751766_2025-02-13_11-31-21/ephys/curated/figures/go_cue_vs_response\n"
     ]
    },
    {
     "name": "stderr",
     "output_type": "stream",
     "text": [
      "/tmp/ipykernel_1985/1851935628.py:131: UserWarning: This figure includes Axes that are not compatible with tight_layout, so results might be incorrect.\n",
      "/tmp/ipykernel_1985/1851935628.py:131: UserWarning: This figure includes Axes that are not compatible with tight_layout, so results might be incorrect.\n",
      "/tmp/ipykernel_1985/1851935628.py:131: UserWarning: This figure includes Axes that are not compatible with tight_layout, so results might be incorrect.\n",
      "/tmp/ipykernel_1985/1851935628.py:131: UserWarning: This figure includes Axes that are not compatible with tight_layout, so results might be incorrect.\n",
      "/tmp/ipykernel_1985/1851935628.py:131: UserWarning: This figure includes Axes that are not compatible with tight_layout, so results might be incorrect.\n",
      "/tmp/ipykernel_1985/1851935628.py:131: UserWarning: This figure includes Axes that are not compatible with tight_layout, so results might be incorrect.\n",
      "/tmp/ipykernel_1985/1851935628.py:131: UserWarning: This figure includes Axes that are not compatible with tight_layout, so results might be incorrect.\n",
      "/tmp/ipykernel_1985/1851935628.py:131: UserWarning: This figure includes Axes that are not compatible with tight_layout, so results might be incorrect.\n",
      "/tmp/ipykernel_1985/1851935628.py:131: UserWarning: This figure includes Axes that are not compatible with tight_layout, so results might be incorrect.\n",
      "/tmp/ipykernel_1985/1851935628.py:131: UserWarning: This figure includes Axes that are not compatible with tight_layout, so results might be incorrect.\n",
      "/tmp/ipykernel_1985/1851935628.py:131: UserWarning: This figure includes Axes that are not compatible with tight_layout, so results might be incorrect.\n",
      "/tmp/ipykernel_1985/1851935628.py:131: UserWarning: This figure includes Axes that are not compatible with tight_layout, so results might be incorrect.\n",
      "/tmp/ipykernel_1985/1851935628.py:131: UserWarning: This figure includes Axes that are not compatible with tight_layout, so results might be incorrect.\n",
      "/tmp/ipykernel_1985/1851935628.py:131: UserWarning: This figure includes Axes that are not compatible with tight_layout, so results might be incorrect.\n",
      "/tmp/ipykernel_1985/1851935628.py:131: UserWarning: This figure includes Axes that are not compatible with tight_layout, so results might be incorrect.\n",
      "/tmp/ipykernel_1985/1851935628.py:131: UserWarning: This figure includes Axes that are not compatible with tight_layout, so results might be incorrect.\n",
      "/tmp/ipykernel_1985/1851935628.py:131: UserWarning: This figure includes Axes that are not compatible with tight_layout, so results might be incorrect.\n",
      "/tmp/ipykernel_1985/1851935628.py:131: UserWarning: This figure includes Axes that are not compatible with tight_layout, so results might be incorrect.\n",
      "/tmp/ipykernel_1985/1851935628.py:131: UserWarning: This figure includes Axes that are not compatible with tight_layout, so results might be incorrect.\n",
      "/tmp/ipykernel_1985/1851935628.py:131: UserWarning: This figure includes Axes that are not compatible with tight_layout, so results might be incorrect.\n",
      "/tmp/ipykernel_1985/1851935628.py:131: UserWarning: This figure includes Axes that are not compatible with tight_layout, so results might be incorrect.\n",
      "/tmp/ipykernel_1985/1851935628.py:131: UserWarning: This figure includes Axes that are not compatible with tight_layout, so results might be incorrect.\n",
      "/tmp/ipykernel_1985/1851935628.py:131: UserWarning: This figure includes Axes that are not compatible with tight_layout, so results might be incorrect.\n"
     ]
    },
    {
     "name": "stdout",
     "output_type": "stream",
     "text": [
      "Processing 4 files in /root/capsule/scratch/754897/behavior_754897_2025-03-11_12-07-41/ephys/curated/figures/go_cue_vs_response\n"
     ]
    },
    {
     "name": "stderr",
     "output_type": "stream",
     "text": [
      "/tmp/ipykernel_1985/1851935628.py:131: UserWarning: This figure includes Axes that are not compatible with tight_layout, so results might be incorrect.\n",
      "/tmp/ipykernel_1985/1851935628.py:131: UserWarning: This figure includes Axes that are not compatible with tight_layout, so results might be incorrect.\n"
     ]
    },
    {
     "name": "stdout",
     "output_type": "stream",
     "text": [
      "Processing 18 files in /root/capsule/scratch/751769/behavior_751769_2025-01-18_10-15-25/ephys/curated/figures/go_cue_vs_response\n"
     ]
    },
    {
     "name": "stderr",
     "output_type": "stream",
     "text": [
      "/tmp/ipykernel_1985/1851935628.py:131: UserWarning: This figure includes Axes that are not compatible with tight_layout, so results might be incorrect.\n",
      "/tmp/ipykernel_1985/1851935628.py:131: UserWarning: This figure includes Axes that are not compatible with tight_layout, so results might be incorrect.\n",
      "/tmp/ipykernel_1985/1851935628.py:131: UserWarning: This figure includes Axes that are not compatible with tight_layout, so results might be incorrect.\n",
      "/tmp/ipykernel_1985/1851935628.py:131: UserWarning: This figure includes Axes that are not compatible with tight_layout, so results might be incorrect.\n",
      "/tmp/ipykernel_1985/1851935628.py:131: UserWarning: This figure includes Axes that are not compatible with tight_layout, so results might be incorrect.\n"
     ]
    },
    {
     "name": "stdout",
     "output_type": "stream",
     "text": [
      "Processing 5 files in /root/capsule/scratch/751004/behavior_751004_2024-12-22_13-09-17/ephys/curated/figures/go_cue_vs_response\n"
     ]
    },
    {
     "name": "stderr",
     "output_type": "stream",
     "text": [
      "/tmp/ipykernel_1985/1851935628.py:131: UserWarning: This figure includes Axes that are not compatible with tight_layout, so results might be incorrect.\n",
      "/tmp/ipykernel_1985/1851935628.py:131: UserWarning: This figure includes Axes that are not compatible with tight_layout, so results might be incorrect.\n",
      "/tmp/ipykernel_1985/1851935628.py:131: UserWarning: This figure includes Axes that are not compatible with tight_layout, so results might be incorrect.\n",
      "/tmp/ipykernel_1985/1851935628.py:131: UserWarning: This figure includes Axes that are not compatible with tight_layout, so results might be incorrect.\n"
     ]
    },
    {
     "name": "stdout",
     "output_type": "stream",
     "text": [
      "Combined PDF saved as: /root/capsule/scratch/754897/behavior_754897_2025-03-11_12-07-41/ephys/curated/figures/alignments_compare_combined.pdf\n",
      "Finished behavior_754897_2025-03-11_12-07-41\n"
     ]
    },
    {
     "name": "stderr",
     "output_type": "stream",
     "text": [
      "/tmp/ipykernel_1985/1851935628.py:131: UserWarning: This figure includes Axes that are not compatible with tight_layout, so results might be incorrect.\n"
     ]
    },
    {
     "name": "stdout",
     "output_type": "stream",
     "text": [
      "Starting behavior_754897_2025-03-13_11-20-42\n",
      "Combined PDF saved as: /root/capsule/scratch/751766/behavior_751766_2025-02-13_11-31-21/ephys/curated/figures/alignments_compare_combined.pdf\n",
      "Finished behavior_751766_2025-02-13_11-31-21\n"
     ]
    },
    {
     "name": "stderr",
     "output_type": "stream",
     "text": [
      "/tmp/ipykernel_1985/1851935628.py:131: UserWarning: This figure includes Axes that are not compatible with tight_layout, so results might be incorrect.\n",
      "/tmp/ipykernel_1985/1851935628.py:131: UserWarning: This figure includes Axes that are not compatible with tight_layout, so results might be incorrect.\n"
     ]
    },
    {
     "name": "stdout",
     "output_type": "stream",
     "text": [
      "Processing 6 files in /root/capsule/scratch/754897/behavior_754897_2025-03-12_12-23-15/ephys/curated/figures/go_cue_vs_response\n"
     ]
    },
    {
     "name": "stderr",
     "output_type": "stream",
     "text": [
      "/tmp/ipykernel_1985/1851935628.py:131: UserWarning: This figure includes Axes that are not compatible with tight_layout, so results might be incorrect.\n",
      "/tmp/ipykernel_1985/1851935628.py:131: UserWarning: This figure includes Axes that are not compatible with tight_layout, so results might be incorrect.\n",
      "/tmp/ipykernel_1985/1851935628.py:131: UserWarning: This figure includes Axes that are not compatible with tight_layout, so results might be incorrect.\n",
      "/tmp/ipykernel_1985/1851935628.py:131: UserWarning: This figure includes Axes that are not compatible with tight_layout, so results might be incorrect.\n"
     ]
    },
    {
     "name": "stdout",
     "output_type": "stream",
     "text": [
      "Selected experiment1 recording1, length:5856.14\n",
      "Starting behavior_754897_2025-03-14_11-28-53\n",
      "Selected experiment1 recording1, length:5856.14\n",
      "Selected experiment1 recording1, length:5856.14\n",
      "Selected experiment1 recording1, length:5856.14\n",
      "Combined PDF saved as: /root/capsule/scratch/751004/behavior_751004_2024-12-22_13-09-17/ephys/curated/figures/alignments_compare_combined.pdf\n",
      "Finished behavior_751004_2024-12-22_13-09-17\n"
     ]
    },
    {
     "name": "stderr",
     "output_type": "stream",
     "text": [
      "/tmp/ipykernel_1985/1851935628.py:131: UserWarning: This figure includes Axes that are not compatible with tight_layout, so results might be incorrect.\n"
     ]
    },
    {
     "name": "stdout",
     "output_type": "stream",
     "text": [
      "Selected experiment1 recording1, length:4663.95\n"
     ]
    },
    {
     "name": "stderr",
     "output_type": "stream",
     "text": [
      "/tmp/ipykernel_1985/1851935628.py:131: UserWarning: This figure includes Axes that are not compatible with tight_layout, so results might be incorrect.\n",
      "/tmp/ipykernel_1985/1851935628.py:131: UserWarning: This figure includes Axes that are not compatible with tight_layout, so results might be incorrect.\n",
      "/tmp/ipykernel_1985/1851935628.py:131: UserWarning: This figure includes Axes that are not compatible with tight_layout, so results might be incorrect.\n"
     ]
    },
    {
     "name": "stdout",
     "output_type": "stream",
     "text": [
      "Selected experiment1 recording1, length:4663.95\n",
      "Selected experiment1 recording1, length:4663.95\n"
     ]
    },
    {
     "name": "stderr",
     "output_type": "stream",
     "text": [
      "/tmp/ipykernel_1985/1851935628.py:131: UserWarning: This figure includes Axes that are not compatible with tight_layout, so results might be incorrect.\n"
     ]
    },
    {
     "name": "stdout",
     "output_type": "stream",
     "text": [
      "Selected experiment1 recording1, length:4663.95Processing 18 files in /root/capsule/scratch/758017/behavior_758017_2025-02-04_11-57-38/ephys/curated/figures/go_cue_vs_response\n",
      "\n"
     ]
    },
    {
     "name": "stderr",
     "output_type": "stream",
     "text": [
      "/tmp/ipykernel_1985/1851935628.py:131: UserWarning: This figure includes Axes that are not compatible with tight_layout, so results might be incorrect.\n"
     ]
    },
    {
     "name": "stdout",
     "output_type": "stream",
     "text": [
      "Starting behavior_754897_2025-03-15_11-32-18\n"
     ]
    },
    {
     "name": "stderr",
     "output_type": "stream",
     "text": [
      "/tmp/ipykernel_1985/1851935628.py:131: UserWarning: This figure includes Axes that are not compatible with tight_layout, so results might be incorrect.\n",
      "/tmp/ipykernel_1985/1851935628.py:131: UserWarning: This figure includes Axes that are not compatible with tight_layout, so results might be incorrect.\n",
      "/tmp/ipykernel_1985/1851935628.py:131: UserWarning: This figure includes Axes that are not compatible with tight_layout, so results might be incorrect.\n"
     ]
    },
    {
     "name": "stdout",
     "output_type": "stream",
     "text": [
      "Combined PDF saved as: /root/capsule/scratch/754897/behavior_754897_2025-03-12_12-23-15/ephys/curated/figures/alignments_compare_combined.pdf\n",
      "Finished behavior_754897_2025-03-12_12-23-15\n",
      "Processing 13 files in /root/capsule/scratch/751181/behavior_751181_2025-02-27_11-24-47/ephys/curated/figures/go_cue_vs_response\n",
      "Starting behavior_758018_2025-03-19_11-16-44\n",
      "Selected experiment1 recording1, length:3943.05\n",
      "Selected experiment1 recording1, length:3943.05\n",
      "Selected experiment1 recording1, length:3943.05\n"
     ]
    },
    {
     "name": "stderr",
     "output_type": "stream",
     "text": [
      "/tmp/ipykernel_1985/1851935628.py:131: UserWarning: This figure includes Axes that are not compatible with tight_layout, so results might be incorrect.\n"
     ]
    },
    {
     "name": "stdout",
     "output_type": "stream",
     "text": [
      "Selected experiment1 recording1, length:3943.05\n"
     ]
    },
    {
     "name": "stderr",
     "output_type": "stream",
     "text": [
      "/tmp/ipykernel_1985/1851935628.py:131: UserWarning: This figure includes Axes that are not compatible with tight_layout, so results might be incorrect.\n",
      "/tmp/ipykernel_1985/1851935628.py:131: UserWarning: This figure includes Axes that are not compatible with tight_layout, so results might be incorrect.\n"
     ]
    },
    {
     "name": "stdout",
     "output_type": "stream",
     "text": [
      "Finished behavior_754897_2025-03-15_11-32-18\n",
      "Starting behavior_758018_2025-03-20_11-53-05\n",
      "Selected experiment1 recording1, length:4593.92\n",
      "Processing 11 files in /root/capsule/scratch/751004/behavior_751004_2024-12-23_14-20-03/ephys/curated/figures/go_cue_vs_response\n",
      "Selected experiment1 recording1, length:4593.92\n",
      "Selected experiment1 recording1, length:4593.92\n"
     ]
    },
    {
     "name": "stderr",
     "output_type": "stream",
     "text": [
      "/tmp/ipykernel_1985/1851935628.py:131: UserWarning: This figure includes Axes that are not compatible with tight_layout, so results might be incorrect.\n"
     ]
    },
    {
     "name": "stdout",
     "output_type": "stream",
     "text": [
      "Selected experiment1 recording1, length:4593.92\n"
     ]
    },
    {
     "name": "stderr",
     "output_type": "stream",
     "text": [
      "/tmp/ipykernel_1985/1851935628.py:131: UserWarning: This figure includes Axes that are not compatible with tight_layout, so results might be incorrect.\n",
      "/tmp/ipykernel_1985/1851935628.py:131: UserWarning: This figure includes Axes that are not compatible with tight_layout, so results might be incorrect.\n"
     ]
    },
    {
     "name": "stdout",
     "output_type": "stream",
     "text": [
      "Selected experiment1 recording1, length:4676.18\n"
     ]
    },
    {
     "name": "stderr",
     "output_type": "stream",
     "text": [
      "/tmp/ipykernel_1985/1851935628.py:131: UserWarning: This figure includes Axes that are not compatible with tight_layout, so results might be incorrect.\n"
     ]
    },
    {
     "name": "stdout",
     "output_type": "stream",
     "text": [
      "Selected experiment1 recording1, length:4676.18\n"
     ]
    },
    {
     "name": "stderr",
     "output_type": "stream",
     "text": [
      "/tmp/ipykernel_1985/1851935628.py:131: UserWarning: This figure includes Axes that are not compatible with tight_layout, so results might be incorrect.\n",
      "/tmp/ipykernel_1985/1851935628.py:131: UserWarning: This figure includes Axes that are not compatible with tight_layout, so results might be incorrect.\n"
     ]
    },
    {
     "name": "stdout",
     "output_type": "stream",
     "text": [
      "Selected experiment1 recording1, length:4676.18\n",
      "Selected experiment1 recording1, length:4676.18\n"
     ]
    },
    {
     "name": "stderr",
     "output_type": "stream",
     "text": [
      "/tmp/ipykernel_1985/1851935628.py:131: UserWarning: This figure includes Axes that are not compatible with tight_layout, so results might be incorrect.\n",
      "/tmp/ipykernel_1985/1851935628.py:131: UserWarning: This figure includes Axes that are not compatible with tight_layout, so results might be incorrect.\n"
     ]
    },
    {
     "name": "stdout",
     "output_type": "stream",
     "text": [
      "Processing 10 files in /root/capsule/scratch/751181/behavior_751181_2025-02-25_12-12-35/ephys/curated/figures/go_cue_vs_response\n"
     ]
    },
    {
     "name": "stderr",
     "output_type": "stream",
     "text": [
      "/tmp/ipykernel_1985/1851935628.py:131: UserWarning: This figure includes Axes that are not compatible with tight_layout, so results might be incorrect.\n",
      "/tmp/ipykernel_1985/1851935628.py:131: UserWarning: This figure includes Axes that are not compatible with tight_layout, so results might be incorrect.\n",
      "/tmp/ipykernel_1985/1851935628.py:131: UserWarning: This figure includes Axes that are not compatible with tight_layout, so results might be incorrect.\n"
     ]
    },
    {
     "name": "stdout",
     "output_type": "stream",
     "text": [
      "Combined PDF saved as: /root/capsule/scratch/751769/behavior_751769_2025-01-18_10-15-25/ephys/curated/figures/alignments_compare_combined.pdf\n",
      "Finished behavior_751769_2025-01-18_10-15-25\n"
     ]
    },
    {
     "name": "stderr",
     "output_type": "stream",
     "text": [
      "/tmp/ipykernel_1985/1851935628.py:131: UserWarning: This figure includes Axes that are not compatible with tight_layout, so results might be incorrect.\n",
      "/tmp/ipykernel_1985/1851935628.py:131: UserWarning: This figure includes Axes that are not compatible with tight_layout, so results might be incorrect.\n",
      "/tmp/ipykernel_1985/1851935628.py:131: UserWarning: This figure includes Axes that are not compatible with tight_layout, so results might be incorrect.\n",
      "/tmp/ipykernel_1985/1851935628.py:131: UserWarning: This figure includes Axes that are not compatible with tight_layout, so results might be incorrect.\n",
      "/tmp/ipykernel_1985/1851935628.py:131: UserWarning: This figure includes Axes that are not compatible with tight_layout, so results might be incorrect.\n"
     ]
    },
    {
     "name": "stdout",
     "output_type": "stream",
     "text": [
      "Starting behavior_758018_2025-03-21_11-00-34\n",
      "Processing 14 files in /root/capsule/scratch/716325/behavior_716325_2024-05-31_10-31-14/ephys/curated/figures/go_cue_vs_response\n",
      "Combined PDF saved as: /root/capsule/scratch/751181/behavior_751181_2025-02-27_11-24-47/ephys/curated/figures/alignments_compare_combined.pdf\n",
      "Finished behavior_751181_2025-02-27_11-24-47\n",
      "Selected experiment1 recording1, length:4954.88\n",
      "Combined PDF saved as: /root/capsule/scratch/751004/behavior_751004_2024-12-23_14-20-03/ephys/curated/figures/alignments_compare_combined.pdf\n",
      "Finished behavior_751004_2024-12-23_14-20-03\n",
      "Selected experiment1 recording1, length:4954.88\n"
     ]
    },
    {
     "name": "stderr",
     "output_type": "stream",
     "text": [
      "/tmp/ipykernel_1985/1851935628.py:131: UserWarning: This figure includes Axes that are not compatible with tight_layout, so results might be incorrect.\n"
     ]
    },
    {
     "name": "stdout",
     "output_type": "stream",
     "text": [
      "Selected experiment1 recording1, length:4954.88\n",
      "Selected experiment1 recording1, length:4954.88\n"
     ]
    },
    {
     "name": "stderr",
     "output_type": "stream",
     "text": [
      "/tmp/ipykernel_1985/1851935628.py:131: UserWarning: This figure includes Axes that are not compatible with tight_layout, so results might be incorrect.\n",
      "/tmp/ipykernel_1985/1851935628.py:131: UserWarning: This figure includes Axes that are not compatible with tight_layout, so results might be incorrect.\n",
      "/tmp/ipykernel_1985/1851935628.py:131: UserWarning: This figure includes Axes that are not compatible with tight_layout, so results might be incorrect.\n",
      "/tmp/ipykernel_1985/1851935628.py:131: UserWarning: This figure includes Axes that are not compatible with tight_layout, so results might be incorrect.\n"
     ]
    },
    {
     "name": "stdout",
     "output_type": "stream",
     "text": [
      "Starting behavior_752014_2025-03-25_12-09-20\n"
     ]
    },
    {
     "name": "stderr",
     "output_type": "stream",
     "text": [
      "/tmp/ipykernel_1985/1851935628.py:131: UserWarning: This figure includes Axes that are not compatible with tight_layout, so results might be incorrect.\n",
      "/tmp/ipykernel_1985/1851935628.py:131: UserWarning: This figure includes Axes that are not compatible with tight_layout, so results might be incorrect.\n"
     ]
    },
    {
     "name": "stdout",
     "output_type": "stream",
     "text": [
      "Combined PDF saved as: /root/capsule/scratch/751181/behavior_751181_2025-02-25_12-12-35/ephys/curated/figures/alignments_compare_combined.pdf\n",
      "Finished behavior_751181_2025-02-25_12-12-35\n",
      "Starting behavior_752014_2025-03-27_12-03-59\n",
      "Starting behavior_752014_2025-03-26_11-18-57\n",
      "Selected experiment1 recording1, length:2881.83\n",
      "Combined PDF saved as: /root/capsule/scratch/758017/behavior_758017_2025-02-04_11-57-38/ephys/curated/figures/alignments_compare_combined.pdf\n",
      "Finished behavior_758017_2025-02-04_11-57-38\n",
      "Selected experiment1 recording1, length:2881.83\n",
      "Selected experiment1 recording1, length:2881.83\n"
     ]
    },
    {
     "name": "stderr",
     "output_type": "stream",
     "text": [
      "/tmp/ipykernel_1985/1851935628.py:131: UserWarning: This figure includes Axes that are not compatible with tight_layout, so results might be incorrect.\n",
      "/tmp/ipykernel_1985/1851935628.py:131: UserWarning: This figure includes Axes that are not compatible with tight_layout, so results might be incorrect.\n",
      "/tmp/ipykernel_1985/1851935628.py:131: UserWarning: This figure includes Axes that are not compatible with tight_layout, so results might be incorrect.\n"
     ]
    },
    {
     "name": "stdout",
     "output_type": "stream",
     "text": [
      "Selected experiment1 recording1, length:4012.95\n",
      "Selected experiment1 recording1, length:2881.83\n"
     ]
    },
    {
     "name": "stderr",
     "output_type": "stream",
     "text": [
      "/tmp/ipykernel_1985/1851935628.py:131: UserWarning: This figure includes Axes that are not compatible with tight_layout, so results might be incorrect.\n"
     ]
    },
    {
     "name": "stdout",
     "output_type": "stream",
     "text": [
      "Selected experiment1 recording1, length:4196.91\n",
      "Selected experiment1 recording1, length:4012.95\n",
      "Selected experiment1 recording1, length:4196.91\n",
      "Selected experiment1 recording1, length:4012.95\n",
      "Selected experiment1 recording1, length:4196.91\n",
      "Selected experiment1 recording1, length:4012.95\n",
      "Selected experiment1 recording1, length:4196.91\n"
     ]
    },
    {
     "name": "stderr",
     "output_type": "stream",
     "text": [
      "/tmp/ipykernel_1985/1851935628.py:131: UserWarning: This figure includes Axes that are not compatible with tight_layout, so results might be incorrect.\n"
     ]
    },
    {
     "name": "stdout",
     "output_type": "stream",
     "text": [
      "Finished behavior_752014_2025-03-27_12-03-59\n",
      "Starting behavior_761038_2025-04-15_10-25-11\n"
     ]
    },
    {
     "name": "stderr",
     "output_type": "stream",
     "text": [
      "/tmp/ipykernel_1985/1851935628.py:131: UserWarning: This figure includes Axes that are not compatible with tight_layout, so results might be incorrect.\n"
     ]
    },
    {
     "name": "stdout",
     "output_type": "stream",
     "text": [
      "Processing 2 files in /root/capsule/scratch/758018/behavior_758018_2025-03-21_11-00-34/ephys/curated/figures/go_cue_vs_response\n",
      "Starting behavior_752014_2025-03-28_11-04-59\n"
     ]
    },
    {
     "name": "stderr",
     "output_type": "stream",
     "text": [
      "/tmp/ipykernel_1985/1851935628.py:131: UserWarning: This figure includes Axes that are not compatible with tight_layout, so results might be incorrect.\n",
      "/tmp/ipykernel_1985/1851935628.py:131: UserWarning: This figure includes Axes that are not compatible with tight_layout, so results might be incorrect.\n"
     ]
    },
    {
     "name": "stdout",
     "output_type": "stream",
     "text": [
      "Combined PDF saved as: /root/capsule/scratch/758018/behavior_758018_2025-03-21_11-00-34/ephys/curated/figures/alignments_compare_combined.pdf\n",
      "Finished behavior_758018_2025-03-21_11-00-34\n",
      "Starting behavior_761038_2025-04-16_10-39-10\n",
      "Selected experiment1 recording1, length:3362.95\n"
     ]
    },
    {
     "name": "stderr",
     "output_type": "stream",
     "text": [
      "/tmp/ipykernel_1985/1851935628.py:131: UserWarning: This figure includes Axes that are not compatible with tight_layout, so results might be incorrect.\n"
     ]
    },
    {
     "name": "stdout",
     "output_type": "stream",
     "text": [
      "Selected experiment1 recording1, length:3362.95\n",
      "Selected experiment1 recording1, length:3362.95\n",
      "Selected experiment1 recording1, length:3942.35\n"
     ]
    },
    {
     "name": "stderr",
     "output_type": "stream",
     "text": [
      "/tmp/ipykernel_1985/1851935628.py:131: UserWarning: This figure includes Axes that are not compatible with tight_layout, so results might be incorrect.\n"
     ]
    },
    {
     "name": "stdout",
     "output_type": "stream",
     "text": [
      "Selected experiment1 recording1, length:3942.35\n",
      "Selected experiment1 recording1, length:3362.95\n",
      "Selected experiment1 recording1, length:3942.35\n"
     ]
    },
    {
     "name": "stderr",
     "output_type": "stream",
     "text": [
      "/tmp/ipykernel_1985/1851935628.py:131: UserWarning: This figure includes Axes that are not compatible with tight_layout, so results might be incorrect.\n",
      "/tmp/ipykernel_1985/1851935628.py:131: UserWarning: This figure includes Axes that are not compatible with tight_layout, so results might be incorrect.\n"
     ]
    },
    {
     "name": "stdout",
     "output_type": "stream",
     "text": [
      "Selected experiment1 recording1, length:4884.54\n"
     ]
    },
    {
     "name": "stderr",
     "output_type": "stream",
     "text": [
      "/tmp/ipykernel_1985/1851935628.py:131: UserWarning: This figure includes Axes that are not compatible with tight_layout, so results might be incorrect.\n"
     ]
    },
    {
     "name": "stdout",
     "output_type": "stream",
     "text": [
      "Selected experiment1 recording1, length:3942.35\n",
      "Selected experiment1 recording1, length:4884.54\n",
      "Selected experiment1 recording1, length:4884.54\n",
      "Selected experiment1 recording1, length:4884.54\n"
     ]
    },
    {
     "name": "stderr",
     "output_type": "stream",
     "text": [
      "/tmp/ipykernel_1985/1851935628.py:131: UserWarning: This figure includes Axes that are not compatible with tight_layout, so results might be incorrect.\n",
      "/tmp/ipykernel_1985/1851935628.py:131: UserWarning: This figure includes Axes that are not compatible with tight_layout, so results might be incorrect.\n",
      "/tmp/ipykernel_1985/1851935628.py:131: UserWarning: This figure includes Axes that are not compatible with tight_layout, so results might be incorrect.\n",
      "/tmp/ipykernel_1985/1851935628.py:131: UserWarning: This figure includes Axes that are not compatible with tight_layout, so results might be incorrect.\n",
      "/tmp/ipykernel_1985/1851935628.py:131: UserWarning: This figure includes Axes that are not compatible with tight_layout, so results might be incorrect.\n",
      "/tmp/ipykernel_1985/1851935628.py:131: UserWarning: This figure includes Axes that are not compatible with tight_layout, so results might be incorrect.\n",
      "/tmp/ipykernel_1985/1851935628.py:131: UserWarning: This figure includes Axes that are not compatible with tight_layout, so results might be incorrect.\n",
      "/tmp/ipykernel_1985/1851935628.py:131: UserWarning: This figure includes Axes that are not compatible with tight_layout, so results might be incorrect.\n",
      "/tmp/ipykernel_1985/1851935628.py:131: UserWarning: This figure includes Axes that are not compatible with tight_layout, so results might be incorrect.\n",
      "/tmp/ipykernel_1985/1851935628.py:131: UserWarning: This figure includes Axes that are not compatible with tight_layout, so results might be incorrect.\n",
      "/tmp/ipykernel_1985/1851935628.py:131: UserWarning: This figure includes Axes that are not compatible with tight_layout, so results might be incorrect.\n",
      "/tmp/ipykernel_1985/1851935628.py:131: UserWarning: This figure includes Axes that are not compatible with tight_layout, so results might be incorrect.\n"
     ]
    },
    {
     "name": "stdout",
     "output_type": "stream",
     "text": [
      "Combined PDF saved as: /root/capsule/scratch/716325/behavior_716325_2024-05-31_10-31-14/ephys/curated/figures/alignments_compare_combined.pdf\n",
      "Finished behavior_716325_2024-05-31_10-31-14\n"
     ]
    },
    {
     "name": "stderr",
     "output_type": "stream",
     "text": [
      "/tmp/ipykernel_1985/1851935628.py:131: UserWarning: This figure includes Axes that are not compatible with tight_layout, so results might be incorrect.\n",
      "/tmp/ipykernel_1985/1851935628.py:131: UserWarning: This figure includes Axes that are not compatible with tight_layout, so results might be incorrect.\n",
      "/tmp/ipykernel_1985/1851935628.py:131: UserWarning: This figure includes Axes that are not compatible with tight_layout, so results might be incorrect.\n",
      "/tmp/ipykernel_1985/1851935628.py:131: UserWarning: This figure includes Axes that are not compatible with tight_layout, so results might be incorrect.\n"
     ]
    },
    {
     "name": "stdout",
     "output_type": "stream",
     "text": [
      "Processing 21 files in /root/capsule/scratch/751181/behavior_751181_2025-02-26_11-51-19/ephys/curated/figures/go_cue_vs_response\n"
     ]
    },
    {
     "name": "stderr",
     "output_type": "stream",
     "text": [
      "/tmp/ipykernel_1985/1851935628.py:131: UserWarning: This figure includes Axes that are not compatible with tight_layout, so results might be incorrect.\n",
      "/tmp/ipykernel_1985/1851935628.py:131: UserWarning: This figure includes Axes that are not compatible with tight_layout, so results might be incorrect.\n",
      "/tmp/ipykernel_1985/1851935628.py:131: UserWarning: This figure includes Axes that are not compatible with tight_layout, so results might be incorrect.\n"
     ]
    },
    {
     "name": "stdout",
     "output_type": "stream",
     "text": [
      "Processing 5 files in /root/capsule/scratch/752014/behavior_752014_2025-03-25_12-09-20/ephys/curated/figures/go_cue_vs_response\n",
      "Starting behavior_761038_2025-04-17_11-03-16\n"
     ]
    },
    {
     "name": "stderr",
     "output_type": "stream",
     "text": [
      "/tmp/ipykernel_1985/1851935628.py:131: UserWarning: This figure includes Axes that are not compatible with tight_layout, so results might be incorrect.\n"
     ]
    },
    {
     "name": "stdout",
     "output_type": "stream",
     "text": [
      "Selected experiment1 recording1, length:5099.26\n"
     ]
    },
    {
     "name": "stderr",
     "output_type": "stream",
     "text": [
      "/tmp/ipykernel_1985/1851935628.py:131: UserWarning: This figure includes Axes that are not compatible with tight_layout, so results might be incorrect.\n",
      "/tmp/ipykernel_1985/1851935628.py:131: UserWarning: This figure includes Axes that are not compatible with tight_layout, so results might be incorrect.\n"
     ]
    },
    {
     "name": "stdout",
     "output_type": "stream",
     "text": [
      "Selected experiment1 recording1, length:5099.26\n",
      "Selected experiment1 recording1, length:5099.26\n",
      "Selected experiment1 recording1, length:5099.26\n"
     ]
    },
    {
     "name": "stderr",
     "output_type": "stream",
     "text": [
      "/tmp/ipykernel_1985/1851935628.py:131: UserWarning: This figure includes Axes that are not compatible with tight_layout, so results might be incorrect.\n",
      "/tmp/ipykernel_1985/1851935628.py:131: UserWarning: This figure includes Axes that are not compatible with tight_layout, so results might be incorrect.\n",
      "/tmp/ipykernel_1985/1851935628.py:131: UserWarning: This figure includes Axes that are not compatible with tight_layout, so results might be incorrect.\n",
      "/tmp/ipykernel_1985/1851935628.py:131: UserWarning: This figure includes Axes that are not compatible with tight_layout, so results might be incorrect.\n",
      "/tmp/ipykernel_1985/1851935628.py:131: UserWarning: This figure includes Axes that are not compatible with tight_layout, so results might be incorrect.\n",
      "/tmp/ipykernel_1985/1851935628.py:131: UserWarning: This figure includes Axes that are not compatible with tight_layout, so results might be incorrect.\n"
     ]
    },
    {
     "name": "stdout",
     "output_type": "stream",
     "text": [
      "Combined PDF saved as: /root/capsule/scratch/752014/behavior_752014_2025-03-25_12-09-20/ephys/curated/figures/alignments_compare_combined.pdf\n",
      "Finished behavior_752014_2025-03-25_12-09-20\n",
      "Starting behavior_761038_2025-04-18_12-37-39\n",
      "Processing 16 files in /root/capsule/scratch/751004/behavior_751004_2024-12-21_13-28-28/ephys/curated/figures/go_cue_vs_response\n",
      "Processing 4 files in /root/capsule/scratch/752014/behavior_752014_2025-03-26_11-18-57/ephys/curated/figures/go_cue_vs_response\n"
     ]
    },
    {
     "name": "stderr",
     "output_type": "stream",
     "text": [
      "/tmp/ipykernel_1985/1851935628.py:131: UserWarning: This figure includes Axes that are not compatible with tight_layout, so results might be incorrect.\n",
      "/tmp/ipykernel_1985/1851935628.py:131: UserWarning: This figure includes Axes that are not compatible with tight_layout, so results might be incorrect.\n",
      "/tmp/ipykernel_1985/1851935628.py:131: UserWarning: This figure includes Axes that are not compatible with tight_layout, so results might be incorrect.\n",
      "/tmp/ipykernel_1985/1851935628.py:131: UserWarning: This figure includes Axes that are not compatible with tight_layout, so results might be incorrect.\n"
     ]
    },
    {
     "name": "stdout",
     "output_type": "stream",
     "text": [
      "Selected experiment1 recording1, length:4791.76\n",
      "Selected experiment1 recording1, length:4791.76\n"
     ]
    },
    {
     "name": "stderr",
     "output_type": "stream",
     "text": [
      "/tmp/ipykernel_1985/1851935628.py:131: UserWarning: This figure includes Axes that are not compatible with tight_layout, so results might be incorrect.\n",
      "/tmp/ipykernel_1985/1851935628.py:131: UserWarning: This figure includes Axes that are not compatible with tight_layout, so results might be incorrect.\n"
     ]
    },
    {
     "name": "stdout",
     "output_type": "stream",
     "text": [
      "Selected experiment1 recording1, length:4791.76\n"
     ]
    },
    {
     "name": "stderr",
     "output_type": "stream",
     "text": [
      "/tmp/ipykernel_1985/1851935628.py:131: UserWarning: This figure includes Axes that are not compatible with tight_layout, so results might be incorrect.\n"
     ]
    },
    {
     "name": "stdout",
     "output_type": "stream",
     "text": [
      "Selected experiment1 recording1, length:4791.76\n",
      "Processing 20 files in /root/capsule/scratch/751004/behavior_751004_2024-12-20_13-26-11/ephys/curated/figures/go_cue_vs_response\n"
     ]
    },
    {
     "name": "stderr",
     "output_type": "stream",
     "text": [
      "/tmp/ipykernel_1985/1851935628.py:131: UserWarning: This figure includes Axes that are not compatible with tight_layout, so results might be incorrect.\n",
      "/tmp/ipykernel_1985/1851935628.py:131: UserWarning: This figure includes Axes that are not compatible with tight_layout, so results might be incorrect.\n"
     ]
    },
    {
     "name": "stdout",
     "output_type": "stream",
     "text": [
      "Combined PDF saved as: /root/capsule/scratch/752014/behavior_752014_2025-03-26_11-18-57/ephys/curated/figures/alignments_compare_combined.pdf\n",
      "Finished behavior_752014_2025-03-26_11-18-57\n",
      "Starting ecephys_763360_2025-04-15_12-16-29\n"
     ]
    },
    {
     "name": "stderr",
     "output_type": "stream",
     "text": [
      "/tmp/ipykernel_1985/1851935628.py:131: UserWarning: This figure includes Axes that are not compatible with tight_layout, so results might be incorrect.\n",
      "/tmp/ipykernel_1985/1851935628.py:131: UserWarning: This figure includes Axes that are not compatible with tight_layout, so results might be incorrect.\n",
      "/tmp/ipykernel_1985/1851935628.py:131: UserWarning: This figure includes Axes that are not compatible with tight_layout, so results might be incorrect.\n",
      "/tmp/ipykernel_1985/1851935628.py:131: UserWarning: This figure includes Axes that are not compatible with tight_layout, so results might be incorrect.\n"
     ]
    },
    {
     "name": "stdout",
     "output_type": "stream",
     "text": [
      "Selected experiment1 recording1, length:1771.75\n",
      "No curated data found for ecephys_763360_2025-04-15_12-16-29\n",
      "Starting ecephys_763360_2025-04-16_13-29-55\n"
     ]
    },
    {
     "name": "stderr",
     "output_type": "stream",
     "text": [
      "/tmp/ipykernel_1985/1851935628.py:131: UserWarning: This figure includes Axes that are not compatible with tight_layout, so results might be incorrect.\n",
      "/tmp/ipykernel_1985/1851935628.py:131: UserWarning: This figure includes Axes that are not compatible with tight_layout, so results might be incorrect.\n"
     ]
    },
    {
     "name": "stdout",
     "output_type": "stream",
     "text": [
      "Selected experiment1 recording1, length:1638.64\n",
      "No curated data found for ecephys_763360_2025-04-16_13-29-55\n",
      "Starting behavior_782394_2025-04-22_10-53-28\n"
     ]
    },
    {
     "name": "stderr",
     "output_type": "stream",
     "text": [
      "/tmp/ipykernel_1985/1851935628.py:131: UserWarning: This figure includes Axes that are not compatible with tight_layout, so results might be incorrect.\n",
      "/tmp/ipykernel_1985/1851935628.py:131: UserWarning: This figure includes Axes that are not compatible with tight_layout, so results might be incorrect.\n",
      "/tmp/ipykernel_1985/1851935628.py:131: UserWarning: This figure includes Axes that are not compatible with tight_layout, so results might be incorrect.\n",
      "/tmp/ipykernel_1985/1851935628.py:52: RuntimeWarning: More than 20 figures have been opened. Figures created through the pyplot interface (`matplotlib.pyplot.figure`) are retained until explicitly closed and may consume too much memory. (To control this warning, see the rcParam `figure.max_open_warning`). Consider using `matplotlib.pyplot.close()`.\n",
      "/tmp/ipykernel_1985/1851935628.py:131: UserWarning: This figure includes Axes that are not compatible with tight_layout, so results might be incorrect.\n",
      "/tmp/ipykernel_1985/1851935628.py:131: UserWarning: This figure includes Axes that are not compatible with tight_layout, so results might be incorrect.\n",
      "/tmp/ipykernel_1985/1851935628.py:131: UserWarning: This figure includes Axes that are not compatible with tight_layout, so results might be incorrect.\n"
     ]
    },
    {
     "name": "stdout",
     "output_type": "stream",
     "text": [
      "Processing 22 files in /root/capsule/scratch/751766/behavior_751766_2025-02-11_11-53-38/ephys/curated/figures/go_cue_vs_response\n",
      "Selected experiment1 recording1, length:3757.55\n",
      "Selected experiment1 recording1, length:3757.55\n"
     ]
    },
    {
     "name": "stderr",
     "output_type": "stream",
     "text": [
      "/tmp/ipykernel_1985/1851935628.py:131: UserWarning: This figure includes Axes that are not compatible with tight_layout, so results might be incorrect.\n"
     ]
    },
    {
     "name": "stdout",
     "output_type": "stream",
     "text": [
      "Selected experiment1 recording1, length:3757.55\n"
     ]
    },
    {
     "name": "stderr",
     "output_type": "stream",
     "text": [
      "/tmp/ipykernel_1985/1851935628.py:131: UserWarning: This figure includes Axes that are not compatible with tight_layout, so results might be incorrect.\n",
      "/tmp/ipykernel_1985/1851935628.py:131: UserWarning: This figure includes Axes that are not compatible with tight_layout, so results might be incorrect.\n"
     ]
    },
    {
     "name": "stdout",
     "output_type": "stream",
     "text": [
      "Selected experiment1 recording1, length:3757.55\n"
     ]
    },
    {
     "name": "stderr",
     "output_type": "stream",
     "text": [
      "/tmp/ipykernel_1985/1851935628.py:131: UserWarning: This figure includes Axes that are not compatible with tight_layout, so results might be incorrect.\n",
      "/tmp/ipykernel_1985/1851935628.py:131: UserWarning: This figure includes Axes that are not compatible with tight_layout, so results might be incorrect.\n",
      "/tmp/ipykernel_1985/1851935628.py:131: UserWarning: This figure includes Axes that are not compatible with tight_layout, so results might be incorrect.\n",
      "/tmp/ipykernel_1985/1851935628.py:131: UserWarning: This figure includes Axes that are not compatible with tight_layout, so results might be incorrect.\n",
      "/tmp/ipykernel_1985/1851935628.py:131: UserWarning: This figure includes Axes that are not compatible with tight_layout, so results might be incorrect.\n"
     ]
    },
    {
     "name": "stdout",
     "output_type": "stream",
     "text": [
      "Processing 13 files in /root/capsule/scratch/751766/behavior_751766_2025-02-14_11-37-11/ephys/curated/figures/go_cue_vs_response\n"
     ]
    },
    {
     "name": "stderr",
     "output_type": "stream",
     "text": [
      "/tmp/ipykernel_1985/1851935628.py:131: UserWarning: This figure includes Axes that are not compatible with tight_layout, so results might be incorrect.\n",
      "/tmp/ipykernel_1985/1851935628.py:131: UserWarning: This figure includes Axes that are not compatible with tight_layout, so results might be incorrect.\n",
      "/tmp/ipykernel_1985/1851935628.py:131: UserWarning: This figure includes Axes that are not compatible with tight_layout, so results might be incorrect.\n",
      "/tmp/ipykernel_1985/1851935628.py:131: UserWarning: This figure includes Axes that are not compatible with tight_layout, so results might be incorrect.\n",
      "/tmp/ipykernel_1985/1851935628.py:131: UserWarning: This figure includes Axes that are not compatible with tight_layout, so results might be incorrect.\n",
      "/tmp/ipykernel_1985/1851935628.py:131: UserWarning: This figure includes Axes that are not compatible with tight_layout, so results might be incorrect.\n",
      "/tmp/ipykernel_1985/1851935628.py:131: UserWarning: This figure includes Axes that are not compatible with tight_layout, so results might be incorrect.\n",
      "/tmp/ipykernel_1985/1851935628.py:131: UserWarning: This figure includes Axes that are not compatible with tight_layout, so results might be incorrect.\n"
     ]
    },
    {
     "name": "stdout",
     "output_type": "stream",
     "text": [
      "Combined PDF saved as: /root/capsule/scratch/751181/behavior_751181_2025-02-26_11-51-19/ephys/curated/figures/alignments_compare_combined.pdf\n",
      "Finished behavior_751181_2025-02-26_11-51-19\n"
     ]
    },
    {
     "name": "stderr",
     "output_type": "stream",
     "text": [
      "/tmp/ipykernel_1985/1851935628.py:131: UserWarning: This figure includes Axes that are not compatible with tight_layout, so results might be incorrect.\n"
     ]
    },
    {
     "name": "stdout",
     "output_type": "stream",
     "text": [
      "Starting behavior_782394_2025-04-23_10-51-17\n"
     ]
    },
    {
     "name": "stderr",
     "output_type": "stream",
     "text": [
      "/tmp/ipykernel_1985/1851935628.py:131: UserWarning: This figure includes Axes that are not compatible with tight_layout, so results might be incorrect.\n"
     ]
    },
    {
     "name": "stdout",
     "output_type": "stream",
     "text": [
      "Combined PDF saved as: /root/capsule/scratch/751004/behavior_751004_2024-12-21_13-28-28/ephys/curated/figures/alignments_compare_combined.pdf\n",
      "Finished behavior_751004_2024-12-21_13-28-28\n"
     ]
    },
    {
     "name": "stderr",
     "output_type": "stream",
     "text": [
      "/tmp/ipykernel_1985/1851935628.py:131: UserWarning: This figure includes Axes that are not compatible with tight_layout, so results might be incorrect.\n",
      "/tmp/ipykernel_1985/1851935628.py:131: UserWarning: This figure includes Axes that are not compatible with tight_layout, so results might be incorrect.\n"
     ]
    },
    {
     "name": "stdout",
     "output_type": "stream",
     "text": [
      "Selected experiment1 recording1, length:3702.47\n"
     ]
    },
    {
     "name": "stderr",
     "output_type": "stream",
     "text": [
      "/tmp/ipykernel_1985/1851935628.py:131: UserWarning: This figure includes Axes that are not compatible with tight_layout, so results might be incorrect.\n"
     ]
    },
    {
     "name": "stdout",
     "output_type": "stream",
     "text": [
      "Selected experiment1 recording1, length:3702.47\n",
      "Selected experiment1 recording1, length:3702.47\n"
     ]
    },
    {
     "name": "stderr",
     "output_type": "stream",
     "text": [
      "/tmp/ipykernel_1985/1851935628.py:131: UserWarning: This figure includes Axes that are not compatible with tight_layout, so results might be incorrect.\n"
     ]
    },
    {
     "name": "stdout",
     "output_type": "stream",
     "text": [
      "Selected experiment1 recording1, length:3702.47\n",
      "Processing 18 files in /root/capsule/scratch/717121/behavior_717121_2024-06-15_10-00-58/ephys/curated/figures/go_cue_vs_response\n"
     ]
    },
    {
     "name": "stderr",
     "output_type": "stream",
     "text": [
      "/tmp/ipykernel_1985/1851935628.py:131: UserWarning: This figure includes Axes that are not compatible with tight_layout, so results might be incorrect.\n"
     ]
    },
    {
     "name": "stdout",
     "output_type": "stream",
     "text": [
      "Starting behavior_782394_2025-04-24_12-07-34\n"
     ]
    },
    {
     "name": "stderr",
     "output_type": "stream",
     "text": [
      "/tmp/ipykernel_1985/1851935628.py:131: UserWarning: This figure includes Axes that are not compatible with tight_layout, so results might be incorrect.\n",
      "/tmp/ipykernel_1985/1851935628.py:131: UserWarning: This figure includes Axes that are not compatible with tight_layout, so results might be incorrect.\n",
      "/tmp/ipykernel_1985/1851935628.py:131: UserWarning: This figure includes Axes that are not compatible with tight_layout, so results might be incorrect.\n"
     ]
    },
    {
     "name": "stdout",
     "output_type": "stream",
     "text": [
      "Selected experiment1 recording1, length:4258.40\n"
     ]
    },
    {
     "name": "stderr",
     "output_type": "stream",
     "text": [
      "/tmp/ipykernel_1985/1851935628.py:131: UserWarning: This figure includes Axes that are not compatible with tight_layout, so results might be incorrect.\n"
     ]
    },
    {
     "name": "stdout",
     "output_type": "stream",
     "text": [
      "Selected experiment1 recording1, length:4258.40\n",
      "Selected experiment1 recording1, length:4258.40\n"
     ]
    },
    {
     "name": "stderr",
     "output_type": "stream",
     "text": [
      "/tmp/ipykernel_1985/1851935628.py:131: UserWarning: This figure includes Axes that are not compatible with tight_layout, so results might be incorrect.\n"
     ]
    },
    {
     "name": "stdout",
     "output_type": "stream",
     "text": [
      "Selected experiment1 recording1, length:4258.40\n"
     ]
    },
    {
     "name": "stderr",
     "output_type": "stream",
     "text": [
      "/tmp/ipykernel_1985/1851935628.py:52: RuntimeWarning: More than 20 figures have been opened. Figures created through the pyplot interface (`matplotlib.pyplot.figure`) are retained until explicitly closed and may consume too much memory. (To control this warning, see the rcParam `figure.max_open_warning`). Consider using `matplotlib.pyplot.close()`.\n",
      "/tmp/ipykernel_1985/1851935628.py:131: UserWarning: This figure includes Axes that are not compatible with tight_layout, so results might be incorrect.\n",
      "/tmp/ipykernel_1985/1851935628.py:131: UserWarning: This figure includes Axes that are not compatible with tight_layout, so results might be incorrect.\n",
      "/tmp/ipykernel_1985/1851935628.py:52: RuntimeWarning: More than 20 figures have been opened. Figures created through the pyplot interface (`matplotlib.pyplot.figure`) are retained until explicitly closed and may consume too much memory. (To control this warning, see the rcParam `figure.max_open_warning`). Consider using `matplotlib.pyplot.close()`.\n"
     ]
    },
    {
     "name": "stdout",
     "output_type": "stream",
     "text": [
      "Processing 4 files in /root/capsule/scratch/761038/behavior_761038_2025-04-17_11-03-16/ephys/curated/figures/go_cue_vs_response\n"
     ]
    },
    {
     "name": "stderr",
     "output_type": "stream",
     "text": [
      "/tmp/ipykernel_1985/1851935628.py:131: UserWarning: This figure includes Axes that are not compatible with tight_layout, so results might be incorrect.\n"
     ]
    },
    {
     "name": "stdout",
     "output_type": "stream",
     "text": [
      "Combined PDF saved as: /root/capsule/scratch/751004/behavior_751004_2024-12-20_13-26-11/ephys/curated/figures/alignments_compare_combined.pdf\n",
      "Finished behavior_751004_2024-12-20_13-26-11\n"
     ]
    },
    {
     "name": "stderr",
     "output_type": "stream",
     "text": [
      "/tmp/ipykernel_1985/1851935628.py:131: UserWarning: This figure includes Axes that are not compatible with tight_layout, so results might be incorrect.\n",
      "/tmp/ipykernel_1985/1851935628.py:131: UserWarning: This figure includes Axes that are not compatible with tight_layout, so results might be incorrect.\n",
      "/tmp/ipykernel_1985/1851935628.py:131: UserWarning: This figure includes Axes that are not compatible with tight_layout, so results might be incorrect.\n",
      "/tmp/ipykernel_1985/1851935628.py:131: UserWarning: This figure includes Axes that are not compatible with tight_layout, so results might be incorrect.\n",
      "/tmp/ipykernel_1985/1851935628.py:131: UserWarning: This figure includes Axes that are not compatible with tight_layout, so results might be incorrect.\n",
      "/tmp/ipykernel_1985/1851935628.py:131: UserWarning: This figure includes Axes that are not compatible with tight_layout, so results might be incorrect.\n"
     ]
    },
    {
     "name": "stdout",
     "output_type": "stream",
     "text": [
      "Starting behavior_782394_2025-04-25_11-13-21\n",
      "Combined PDF saved as: /root/capsule/scratch/751766/behavior_751766_2025-02-14_11-37-11/ephys/curated/figures/alignments_compare_combined.pdf\n",
      "Finished behavior_751766_2025-02-14_11-37-11\n",
      "Starting behavior_763590_2025-05-01_10-59-18\n"
     ]
    },
    {
     "name": "stderr",
     "output_type": "stream",
     "text": [
      "/tmp/ipykernel_1985/1851935628.py:131: UserWarning: This figure includes Axes that are not compatible with tight_layout, so results might be incorrect.\n"
     ]
    },
    {
     "name": "stdout",
     "output_type": "stream",
     "text": [
      "Combined PDF saved as: /root/capsule/scratch/761038/behavior_761038_2025-04-17_11-03-16/ephys/curated/figures/alignments_compare_combined.pdf\n",
      "Finished behavior_761038_2025-04-17_11-03-16\n",
      "Starting behavior_763590_2025-05-02_11-07-09\n"
     ]
    },
    {
     "name": "stderr",
     "output_type": "stream",
     "text": [
      "/tmp/ipykernel_1985/1851935628.py:131: UserWarning: This figure includes Axes that are not compatible with tight_layout, so results might be incorrect.\n",
      "/tmp/ipykernel_1985/1851935628.py:131: UserWarning: This figure includes Axes that are not compatible with tight_layout, so results might be incorrect.\n",
      "/tmp/ipykernel_1985/1851935628.py:131: UserWarning: This figure includes Axes that are not compatible with tight_layout, so results might be incorrect.\n"
     ]
    },
    {
     "name": "stdout",
     "output_type": "stream",
     "text": [
      "Selected experiment1 recording1, length:3612.59\n",
      "Processing 9 files in /root/capsule/scratch/758018/behavior_758018_2025-03-20_11-53-05/ephys/curated/figures/go_cue_vs_response\n"
     ]
    },
    {
     "name": "stderr",
     "output_type": "stream",
     "text": [
      "/tmp/ipykernel_1985/1851935628.py:131: UserWarning: This figure includes Axes that are not compatible with tight_layout, so results might be incorrect.\n",
      "/tmp/ipykernel_1985/1851935628.py:131: UserWarning: This figure includes Axes that are not compatible with tight_layout, so results might be incorrect.\n"
     ]
    },
    {
     "name": "stdout",
     "output_type": "stream",
     "text": [
      "Selected experiment1 recording1, length:3612.59\n",
      "Selected experiment1 recording1, length:3510.58\n",
      "Selected experiment1 recording1, length:3612.59\n",
      "Selected experiment1 recording1, length:3510.58\n",
      "Selected experiment1 recording1, length:3612.59\n",
      "Selected experiment1 recording1, length:3510.58\n",
      "Selected experiment1 recording1, length:3639.20\n"
     ]
    },
    {
     "name": "stderr",
     "output_type": "stream",
     "text": [
      "/tmp/ipykernel_1985/1851935628.py:131: UserWarning: This figure includes Axes that are not compatible with tight_layout, so results might be incorrect.\n"
     ]
    },
    {
     "name": "stdout",
     "output_type": "stream",
     "text": [
      "Selected experiment1 recording1, length:3639.20\n",
      "Selected experiment1 recording1, length:3510.58\n",
      "Selected experiment1 recording1, length:3639.20\n"
     ]
    },
    {
     "name": "stderr",
     "output_type": "stream",
     "text": [
      "/tmp/ipykernel_1985/1851935628.py:131: UserWarning: This figure includes Axes that are not compatible with tight_layout, so results might be incorrect.\n"
     ]
    },
    {
     "name": "stdout",
     "output_type": "stream",
     "text": [
      "Selected experiment1 recording1, length:3639.20\n"
     ]
    },
    {
     "name": "stderr",
     "output_type": "stream",
     "text": [
      "/tmp/ipykernel_1985/1851935628.py:131: UserWarning: This figure includes Axes that are not compatible with tight_layout, so results might be incorrect.\n",
      "/tmp/ipykernel_1985/1851935628.py:131: UserWarning: This figure includes Axes that are not compatible with tight_layout, so results might be incorrect.\n",
      "/tmp/ipykernel_1985/1851935628.py:131: UserWarning: This figure includes Axes that are not compatible with tight_layout, so results might be incorrect.\n",
      "/tmp/ipykernel_1985/1851935628.py:131: UserWarning: This figure includes Axes that are not compatible with tight_layout, so results might be incorrect.\n",
      "/tmp/ipykernel_1985/1851935628.py:131: UserWarning: This figure includes Axes that are not compatible with tight_layout, so results might be incorrect.\n"
     ]
    },
    {
     "name": "stdout",
     "output_type": "stream",
     "text": [
      "Processing 8 files in /root/capsule/scratch/752014/behavior_752014_2025-03-28_11-04-59/ephys/curated/figures/go_cue_vs_response\n"
     ]
    },
    {
     "name": "stderr",
     "output_type": "stream",
     "text": [
      "/tmp/ipykernel_1985/1851935628.py:131: UserWarning: This figure includes Axes that are not compatible with tight_layout, so results might be incorrect.\n",
      "/tmp/ipykernel_1985/1851935628.py:131: UserWarning: This figure includes Axes that are not compatible with tight_layout, so results might be incorrect.\n",
      "/tmp/ipykernel_1985/1851935628.py:131: UserWarning: This figure includes Axes that are not compatible with tight_layout, so results might be incorrect.\n",
      "/tmp/ipykernel_1985/1851935628.py:131: UserWarning: This figure includes Axes that are not compatible with tight_layout, so results might be incorrect.\n"
     ]
    },
    {
     "name": "stdout",
     "output_type": "stream",
     "text": [
      "Combined PDF saved as: /root/capsule/scratch/751766/behavior_751766_2025-02-11_11-53-38/ephys/curated/figures/alignments_compare_combined.pdf\n",
      "Finished behavior_751766_2025-02-11_11-53-38\n"
     ]
    },
    {
     "name": "stderr",
     "output_type": "stream",
     "text": [
      "/tmp/ipykernel_1985/1851935628.py:131: UserWarning: This figure includes Axes that are not compatible with tight_layout, so results might be incorrect.\n",
      "/tmp/ipykernel_1985/1851935628.py:131: UserWarning: This figure includes Axes that are not compatible with tight_layout, so results might be incorrect.\n",
      "/tmp/ipykernel_1985/1851935628.py:131: UserWarning: This figure includes Axes that are not compatible with tight_layout, so results might be incorrect.\n",
      "/tmp/ipykernel_1985/1851935628.py:131: UserWarning: This figure includes Axes that are not compatible with tight_layout, so results might be incorrect.\n",
      "/tmp/ipykernel_1985/1851935628.py:131: UserWarning: This figure includes Axes that are not compatible with tight_layout, so results might be incorrect.\n",
      "/tmp/ipykernel_1985/1851935628.py:131: UserWarning: This figure includes Axes that are not compatible with tight_layout, so results might be incorrect.\n",
      "/tmp/ipykernel_1985/1851935628.py:131: UserWarning: This figure includes Axes that are not compatible with tight_layout, so results might be incorrect.\n"
     ]
    },
    {
     "name": "stdout",
     "output_type": "stream",
     "text": [
      "Starting behavior_781166_2025-05-13_14-04-27\n"
     ]
    },
    {
     "name": "stderr",
     "output_type": "stream",
     "text": [
      "/tmp/ipykernel_1985/1851935628.py:131: UserWarning: This figure includes Axes that are not compatible with tight_layout, so results might be incorrect.\n",
      "/tmp/ipykernel_1985/1851935628.py:131: UserWarning: This figure includes Axes that are not compatible with tight_layout, so results might be incorrect.\n",
      "/tmp/ipykernel_1985/1851935628.py:131: UserWarning: This figure includes Axes that are not compatible with tight_layout, so results might be incorrect.\n",
      "/tmp/ipykernel_1985/1851935628.py:131: UserWarning: This figure includes Axes that are not compatible with tight_layout, so results might be incorrect.\n",
      "/tmp/ipykernel_1985/1851935628.py:131: UserWarning: This figure includes Axes that are not compatible with tight_layout, so results might be incorrect.\n"
     ]
    },
    {
     "name": "stdout",
     "output_type": "stream",
     "text": [
      "Selected experiment1 recording1, length:4489.29\n",
      "Combined PDF saved as: /root/capsule/scratch/758018/behavior_758018_2025-03-20_11-53-05/ephys/curated/figures/alignments_compare_combined.pdf\n",
      "Finished behavior_758018_2025-03-20_11-53-05\n"
     ]
    },
    {
     "name": "stderr",
     "output_type": "stream",
     "text": [
      "/tmp/ipykernel_1985/1851935628.py:131: UserWarning: This figure includes Axes that are not compatible with tight_layout, so results might be incorrect.\n"
     ]
    },
    {
     "name": "stdout",
     "output_type": "stream",
     "text": [
      "Selected experiment1 recording1, length:4489.29\n",
      "Selected experiment1 recording1, length:4489.29\n",
      "Combined PDF saved as: /root/capsule/scratch/717121/behavior_717121_2024-06-15_10-00-58/ephys/curated/figures/alignments_compare_combined.pdf\n",
      "Finished behavior_717121_2024-06-15_10-00-58\n"
     ]
    },
    {
     "name": "stderr",
     "output_type": "stream",
     "text": [
      "/tmp/ipykernel_1985/1851935628.py:131: UserWarning: This figure includes Axes that are not compatible with tight_layout, so results might be incorrect.\n"
     ]
    },
    {
     "name": "stdout",
     "output_type": "stream",
     "text": [
      "Selected experiment1 recording1, length:4489.29\n"
     ]
    },
    {
     "name": "stderr",
     "output_type": "stream",
     "text": [
      "/tmp/ipykernel_1985/1851935628.py:131: UserWarning: This figure includes Axes that are not compatible with tight_layout, so results might be incorrect.\n",
      "/tmp/ipykernel_1985/1851935628.py:131: UserWarning: This figure includes Axes that are not compatible with tight_layout, so results might be incorrect.\n",
      "/tmp/ipykernel_1985/1851935628.py:131: UserWarning: This figure includes Axes that are not compatible with tight_layout, so results might be incorrect.\n",
      "/tmp/ipykernel_1985/1851935628.py:131: UserWarning: This figure includes Axes that are not compatible with tight_layout, so results might be incorrect.\n"
     ]
    },
    {
     "name": "stdout",
     "output_type": "stream",
     "text": [
      "Starting behavior_781166_2025-05-14_14-18-28\n",
      "Combined PDF saved as: /root/capsule/scratch/752014/behavior_752014_2025-03-28_11-04-59/ephys/curated/figures/alignments_compare_combined.pdf\n",
      "Finished behavior_752014_2025-03-28_11-04-59\n",
      "Starting behavior_781166_2025-05-16_14-16-34\n"
     ]
    },
    {
     "name": "stderr",
     "output_type": "stream",
     "text": [
      "/tmp/ipykernel_1985/1851935628.py:131: UserWarning: This figure includes Axes that are not compatible with tight_layout, so results might be incorrect.\n",
      "/tmp/ipykernel_1985/1851935628.py:131: UserWarning: This figure includes Axes that are not compatible with tight_layout, so results might be incorrect.\n",
      "/tmp/ipykernel_1985/1851935628.py:131: UserWarning: This figure includes Axes that are not compatible with tight_layout, so results might be incorrect.\n"
     ]
    },
    {
     "name": "stdout",
     "output_type": "stream",
     "text": [
      "Starting behavior_781166_2025-05-15_14-20-51\n"
     ]
    },
    {
     "name": "stderr",
     "output_type": "stream",
     "text": [
      "/tmp/ipykernel_1985/1851935628.py:131: UserWarning: This figure includes Axes that are not compatible with tight_layout, so results might be incorrect.\n",
      "/tmp/ipykernel_1985/1851935628.py:131: UserWarning: This figure includes Axes that are not compatible with tight_layout, so results might be incorrect.\n"
     ]
    },
    {
     "name": "stdout",
     "output_type": "stream",
     "text": [
      "Selected experiment1 recording1, length:4553.79\n"
     ]
    },
    {
     "name": "stderr",
     "output_type": "stream",
     "text": [
      "/tmp/ipykernel_1985/1851935628.py:131: UserWarning: This figure includes Axes that are not compatible with tight_layout, so results might be incorrect.\n"
     ]
    },
    {
     "name": "stdout",
     "output_type": "stream",
     "text": [
      "Selected experiment1 recording1, length:4553.79\n"
     ]
    },
    {
     "name": "stderr",
     "output_type": "stream",
     "text": [
      "/tmp/ipykernel_1985/1851935628.py:131: UserWarning: This figure includes Axes that are not compatible with tight_layout, so results might be incorrect.\n"
     ]
    },
    {
     "name": "stdout",
     "output_type": "stream",
     "text": [
      "Selected experiment1 recording1, length:4861.51\n",
      "Selected experiment1 recording1, length:4553.79\n",
      "Selected experiment1 recording1, length:4861.51\n",
      "Selected experiment1 recording1, length:4553.79\n",
      "Selected experiment1 recording1, length:4861.51\n"
     ]
    },
    {
     "name": "stderr",
     "output_type": "stream",
     "text": [
      "/tmp/ipykernel_1985/1851935628.py:131: UserWarning: This figure includes Axes that are not compatible with tight_layout, so results might be incorrect.\n"
     ]
    },
    {
     "name": "stdout",
     "output_type": "stream",
     "text": [
      "Selected experiment1 recording1, length:4861.51\n"
     ]
    },
    {
     "name": "stderr",
     "output_type": "stream",
     "text": [
      "/tmp/ipykernel_1985/1851935628.py:131: UserWarning: This figure includes Axes that are not compatible with tight_layout, so results might be incorrect.\n"
     ]
    },
    {
     "name": "stdout",
     "output_type": "stream",
     "text": [
      "Selected experiment1 recording1, length:4637.83\n"
     ]
    },
    {
     "name": "stderr",
     "output_type": "stream",
     "text": [
      "/tmp/ipykernel_1985/1851935628.py:131: UserWarning: This figure includes Axes that are not compatible with tight_layout, so results might be incorrect.\n",
      "/tmp/ipykernel_1985/1851935628.py:131: UserWarning: This figure includes Axes that are not compatible with tight_layout, so results might be incorrect.\n",
      "/tmp/ipykernel_1985/1851935628.py:131: UserWarning: This figure includes Axes that are not compatible with tight_layout, so results might be incorrect.\n"
     ]
    },
    {
     "name": "stdout",
     "output_type": "stream",
     "text": [
      "Selected experiment1 recording1, length:4637.83\n",
      "Selected experiment1 recording1, length:4637.83\n",
      "Selected experiment1 recording1, length:4637.83\n"
     ]
    },
    {
     "name": "stderr",
     "output_type": "stream",
     "text": [
      "/tmp/ipykernel_1985/1851935628.py:131: UserWarning: This figure includes Axes that are not compatible with tight_layout, so results might be incorrect.\n",
      "/tmp/ipykernel_1985/1851935628.py:131: UserWarning: This figure includes Axes that are not compatible with tight_layout, so results might be incorrect.\n",
      "/tmp/ipykernel_1985/1851935628.py:131: UserWarning: This figure includes Axes that are not compatible with tight_layout, so results might be incorrect.\n",
      "/tmp/ipykernel_1985/1851935628.py:131: UserWarning: This figure includes Axes that are not compatible with tight_layout, so results might be incorrect.\n"
     ]
    },
    {
     "name": "stdout",
     "output_type": "stream",
     "text": [
      "Processing 5 files in /root/capsule/scratch/782394/behavior_782394_2025-04-25_11-13-21/ephys/curated/figures/go_cue_vs_response\n"
     ]
    },
    {
     "name": "stderr",
     "output_type": "stream",
     "text": [
      "/tmp/ipykernel_1985/1851935628.py:131: UserWarning: This figure includes Axes that are not compatible with tight_layout, so results might be incorrect.\n",
      "/tmp/ipykernel_1985/1851935628.py:131: UserWarning: This figure includes Axes that are not compatible with tight_layout, so results might be incorrect.\n",
      "/tmp/ipykernel_1985/1851935628.py:131: UserWarning: This figure includes Axes that are not compatible with tight_layout, so results might be incorrect.\n",
      "/tmp/ipykernel_1985/1851935628.py:131: UserWarning: This figure includes Axes that are not compatible with tight_layout, so results might be incorrect.\n",
      "/tmp/ipykernel_1985/1851935628.py:131: UserWarning: This figure includes Axes that are not compatible with tight_layout, so results might be incorrect.\n",
      "/tmp/ipykernel_1985/1851935628.py:131: UserWarning: This figure includes Axes that are not compatible with tight_layout, so results might be incorrect.\n",
      "/tmp/ipykernel_1985/1851935628.py:131: UserWarning: This figure includes Axes that are not compatible with tight_layout, so results might be incorrect.\n",
      "/tmp/ipykernel_1985/1851935628.py:131: UserWarning: This figure includes Axes that are not compatible with tight_layout, so results might be incorrect.\n",
      "/tmp/ipykernel_1985/1851935628.py:131: UserWarning: This figure includes Axes that are not compatible with tight_layout, so results might be incorrect.\n",
      "/tmp/ipykernel_1985/1851935628.py:131: UserWarning: This figure includes Axes that are not compatible with tight_layout, so results might be incorrect.\n",
      "/tmp/ipykernel_1985/1851935628.py:131: UserWarning: This figure includes Axes that are not compatible with tight_layout, so results might be incorrect.\n",
      "/tmp/ipykernel_1985/1851935628.py:131: UserWarning: This figure includes Axes that are not compatible with tight_layout, so results might be incorrect.\n",
      "/tmp/ipykernel_1985/1851935628.py:131: UserWarning: This figure includes Axes that are not compatible with tight_layout, so results might be incorrect.\n",
      "/tmp/ipykernel_1985/1851935628.py:131: UserWarning: This figure includes Axes that are not compatible with tight_layout, so results might be incorrect.\n",
      "/tmp/ipykernel_1985/1851935628.py:131: UserWarning: This figure includes Axes that are not compatible with tight_layout, so results might be incorrect.\n",
      "/tmp/ipykernel_1985/1851935628.py:131: UserWarning: This figure includes Axes that are not compatible with tight_layout, so results might be incorrect.\n"
     ]
    },
    {
     "name": "stdout",
     "output_type": "stream",
     "text": [
      "Combined PDF saved as: /root/capsule/scratch/782394/behavior_782394_2025-04-25_11-13-21/ephys/curated/figures/alignments_compare_combined.pdf\n",
      "Finished behavior_782394_2025-04-25_11-13-21\n",
      "Starting behavior_785956_2025-05-20_14-15-19\n"
     ]
    },
    {
     "name": "stderr",
     "output_type": "stream",
     "text": [
      "/tmp/ipykernel_1985/1851935628.py:131: UserWarning: This figure includes Axes that are not compatible with tight_layout, so results might be incorrect.\n",
      "/tmp/ipykernel_1985/1851935628.py:131: UserWarning: This figure includes Axes that are not compatible with tight_layout, so results might be incorrect.\n",
      "/tmp/ipykernel_1985/1851935628.py:131: UserWarning: This figure includes Axes that are not compatible with tight_layout, so results might be incorrect.\n",
      "/tmp/ipykernel_1985/1851935628.py:131: UserWarning: This figure includes Axes that are not compatible with tight_layout, so results might be incorrect.\n",
      "/tmp/ipykernel_1985/1851935628.py:131: UserWarning: This figure includes Axes that are not compatible with tight_layout, so results might be incorrect.\n"
     ]
    },
    {
     "name": "stdout",
     "output_type": "stream",
     "text": [
      "Selected experiment1 recording1, length:3892.00\n"
     ]
    },
    {
     "name": "stderr",
     "output_type": "stream",
     "text": [
      "/tmp/ipykernel_1985/1851935628.py:131: UserWarning: This figure includes Axes that are not compatible with tight_layout, so results might be incorrect.\n"
     ]
    },
    {
     "name": "stdout",
     "output_type": "stream",
     "text": [
      "Selected experiment1 recording1, length:3892.00\n",
      "Selected experiment1 recording1, length:3892.00\n"
     ]
    },
    {
     "name": "stderr",
     "output_type": "stream",
     "text": [
      "/tmp/ipykernel_1985/1851935628.py:131: UserWarning: This figure includes Axes that are not compatible with tight_layout, so results might be incorrect.\n",
      "/tmp/ipykernel_1985/1851935628.py:131: UserWarning: This figure includes Axes that are not compatible with tight_layout, so results might be incorrect.\n",
      "/tmp/ipykernel_1985/1851935628.py:131: UserWarning: This figure includes Axes that are not compatible with tight_layout, so results might be incorrect.\n",
      "/tmp/ipykernel_1985/1851935628.py:131: UserWarning: This figure includes Axes that are not compatible with tight_layout, so results might be incorrect.\n"
     ]
    },
    {
     "name": "stdout",
     "output_type": "stream",
     "text": [
      "Selected experiment1 recording1, length:3892.00\n",
      "Processing 23 files in /root/capsule/scratch/761038/behavior_761038_2025-04-15_10-25-11/ephys/curated/figures/go_cue_vs_response\n",
      "Processing 14 files in /root/capsule/scratch/782394/behavior_782394_2025-04-22_10-53-28/ephys/curated/figures/go_cue_vs_response\n"
     ]
    },
    {
     "name": "stderr",
     "output_type": "stream",
     "text": [
      "/tmp/ipykernel_1985/1851935628.py:131: UserWarning: This figure includes Axes that are not compatible with tight_layout, so results might be incorrect.\n",
      "/tmp/ipykernel_1985/1851935628.py:131: UserWarning: This figure includes Axes that are not compatible with tight_layout, so results might be incorrect.\n",
      "/tmp/ipykernel_1985/1851935628.py:131: UserWarning: This figure includes Axes that are not compatible with tight_layout, so results might be incorrect.\n",
      "/tmp/ipykernel_1985/1851935628.py:131: UserWarning: This figure includes Axes that are not compatible with tight_layout, so results might be incorrect.\n",
      "/tmp/ipykernel_1985/1851935628.py:131: UserWarning: This figure includes Axes that are not compatible with tight_layout, so results might be incorrect.\n",
      "/tmp/ipykernel_1985/1851935628.py:131: UserWarning: This figure includes Axes that are not compatible with tight_layout, so results might be incorrect.\n",
      "/tmp/ipykernel_1985/1851935628.py:131: UserWarning: This figure includes Axes that are not compatible with tight_layout, so results might be incorrect.\n",
      "/tmp/ipykernel_1985/1851935628.py:52: RuntimeWarning: More than 20 figures have been opened. Figures created through the pyplot interface (`matplotlib.pyplot.figure`) are retained until explicitly closed and may consume too much memory. (To control this warning, see the rcParam `figure.max_open_warning`). Consider using `matplotlib.pyplot.close()`.\n",
      "/tmp/ipykernel_1985/1851935628.py:131: UserWarning: This figure includes Axes that are not compatible with tight_layout, so results might be incorrect.\n",
      "/tmp/ipykernel_1985/1851935628.py:131: UserWarning: This figure includes Axes that are not compatible with tight_layout, so results might be incorrect.\n",
      "/tmp/ipykernel_1985/1851935628.py:131: UserWarning: This figure includes Axes that are not compatible with tight_layout, so results might be incorrect.\n"
     ]
    },
    {
     "name": "stdout",
     "output_type": "stream",
     "text": [
      "Processing 8 files in /root/capsule/scratch/763590/behavior_763590_2025-05-02_11-07-09/ephys/curated/figures/go_cue_vs_response\n"
     ]
    },
    {
     "name": "stderr",
     "output_type": "stream",
     "text": [
      "/tmp/ipykernel_1985/1851935628.py:131: UserWarning: This figure includes Axes that are not compatible with tight_layout, so results might be incorrect.\n",
      "/tmp/ipykernel_1985/1851935628.py:131: UserWarning: This figure includes Axes that are not compatible with tight_layout, so results might be incorrect.\n",
      "/tmp/ipykernel_1985/1851935628.py:131: UserWarning: This figure includes Axes that are not compatible with tight_layout, so results might be incorrect.\n",
      "/tmp/ipykernel_1985/1851935628.py:131: UserWarning: This figure includes Axes that are not compatible with tight_layout, so results might be incorrect.\n",
      "/tmp/ipykernel_1985/1851935628.py:131: UserWarning: This figure includes Axes that are not compatible with tight_layout, so results might be incorrect.\n",
      "/tmp/ipykernel_1985/1851935628.py:131: UserWarning: This figure includes Axes that are not compatible with tight_layout, so results might be incorrect.\n",
      "/tmp/ipykernel_1985/1851935628.py:131: UserWarning: This figure includes Axes that are not compatible with tight_layout, so results might be incorrect.\n",
      "/tmp/ipykernel_1985/1851935628.py:131: UserWarning: This figure includes Axes that are not compatible with tight_layout, so results might be incorrect.\n",
      "/tmp/ipykernel_1985/1851935628.py:131: UserWarning: This figure includes Axes that are not compatible with tight_layout, so results might be incorrect.\n",
      "/tmp/ipykernel_1985/1851935628.py:131: UserWarning: This figure includes Axes that are not compatible with tight_layout, so results might be incorrect.\n",
      "/tmp/ipykernel_1985/1851935628.py:131: UserWarning: This figure includes Axes that are not compatible with tight_layout, so results might be incorrect.\n",
      "/tmp/ipykernel_1985/1851935628.py:131: UserWarning: This figure includes Axes that are not compatible with tight_layout, so results might be incorrect.\n"
     ]
    },
    {
     "name": "stdout",
     "output_type": "stream",
     "text": [
      "Processing 4 files in /root/capsule/scratch/781166/behavior_781166_2025-05-16_14-16-34/ephys/curated/figures/go_cue_vs_response\n"
     ]
    },
    {
     "name": "stderr",
     "output_type": "stream",
     "text": [
      "/tmp/ipykernel_1985/1851935628.py:131: UserWarning: This figure includes Axes that are not compatible with tight_layout, so results might be incorrect.\n",
      "/tmp/ipykernel_1985/1851935628.py:131: UserWarning: This figure includes Axes that are not compatible with tight_layout, so results might be incorrect.\n",
      "/tmp/ipykernel_1985/1851935628.py:131: UserWarning: This figure includes Axes that are not compatible with tight_layout, so results might be incorrect.\n",
      "/tmp/ipykernel_1985/1851935628.py:131: UserWarning: This figure includes Axes that are not compatible with tight_layout, so results might be incorrect.\n"
     ]
    },
    {
     "name": "stdout",
     "output_type": "stream",
     "text": [
      "Combined PDF saved as: /root/capsule/scratch/763590/behavior_763590_2025-05-02_11-07-09/ephys/curated/figures/alignments_compare_combined.pdf\n",
      "Finished behavior_763590_2025-05-02_11-07-09\n"
     ]
    },
    {
     "name": "stderr",
     "output_type": "stream",
     "text": [
      "/tmp/ipykernel_1985/1851935628.py:131: UserWarning: This figure includes Axes that are not compatible with tight_layout, so results might be incorrect.\n",
      "/tmp/ipykernel_1985/1851935628.py:131: UserWarning: This figure includes Axes that are not compatible with tight_layout, so results might be incorrect.\n"
     ]
    },
    {
     "name": "stdout",
     "output_type": "stream",
     "text": [
      "Combined PDF saved as: /root/capsule/scratch/781166/behavior_781166_2025-05-16_14-16-34/ephys/curated/figures/alignments_compare_combined.pdf\n",
      "Finished behavior_781166_2025-05-16_14-16-34\n",
      "Starting behavior_785956_2025-05-23_13-45-21\n"
     ]
    },
    {
     "name": "stderr",
     "output_type": "stream",
     "text": [
      "/tmp/ipykernel_1985/1851935628.py:131: UserWarning: This figure includes Axes that are not compatible with tight_layout, so results might be incorrect.\n",
      "/tmp/ipykernel_1985/1851935628.py:131: UserWarning: This figure includes Axes that are not compatible with tight_layout, so results might be incorrect.\n",
      "/tmp/ipykernel_1985/1851935628.py:131: UserWarning: This figure includes Axes that are not compatible with tight_layout, so results might be incorrect.\n"
     ]
    },
    {
     "name": "stdout",
     "output_type": "stream",
     "text": [
      "Combined PDF saved as: /root/capsule/scratch/782394/behavior_782394_2025-04-22_10-53-28/ephys/curated/figures/alignments_compare_combined.pdf\n",
      "Finished behavior_782394_2025-04-22_10-53-28\n",
      "Starting behavior_785956_2025-05-21_13-42-02\n",
      "Selected experiment1 recording1, length:4678.22\n",
      "Selected experiment1 recording1, length:4678.22\n",
      "Selected experiment1 recording1, length:4678.22\n",
      "Selected experiment1 recording1, length:4678.22\n",
      "Selected experiment1 recording1, length:4226.86\n",
      "Starting behavior_784806_2025-06-17_14-59-23\n",
      "Selected experiment1 recording1, length:4226.86\n"
     ]
    },
    {
     "name": "stderr",
     "output_type": "stream",
     "text": [
      "/tmp/ipykernel_1985/1851935628.py:131: UserWarning: This figure includes Axes that are not compatible with tight_layout, so results might be incorrect.\n"
     ]
    },
    {
     "name": "stdout",
     "output_type": "stream",
     "text": [
      "Selected experiment1 recording1, length:4226.86\n"
     ]
    },
    {
     "name": "stderr",
     "output_type": "stream",
     "text": [
      "/tmp/ipykernel_1985/1851935628.py:131: UserWarning: This figure includes Axes that are not compatible with tight_layout, so results might be incorrect.\n",
      "/tmp/ipykernel_1985/1851935628.py:131: UserWarning: This figure includes Axes that are not compatible with tight_layout, so results might be incorrect.\n"
     ]
    },
    {
     "name": "stdout",
     "output_type": "stream",
     "text": [
      "Processing 21 files in /root/capsule/scratch/754897/behavior_754897_2025-03-14_11-28-53/ephys/curated/figures/go_cue_vs_response\n",
      "Selected experiment1 recording1, length:4226.86\n"
     ]
    },
    {
     "name": "stderr",
     "output_type": "stream",
     "text": [
      "/tmp/ipykernel_1985/1851935628.py:52: RuntimeWarning: More than 20 figures have been opened. Figures created through the pyplot interface (`matplotlib.pyplot.figure`) are retained until explicitly closed and may consume too much memory. (To control this warning, see the rcParam `figure.max_open_warning`). Consider using `matplotlib.pyplot.close()`.\n"
     ]
    },
    {
     "name": "stdout",
     "output_type": "stream",
     "text": [
      "Selected experiment1 recording1, length:2944.58\n",
      "No curated data found for behavior_784806_2025-06-17_14-59-23\n"
     ]
    },
    {
     "name": "stderr",
     "output_type": "stream",
     "text": [
      "/tmp/ipykernel_1985/1851935628.py:131: UserWarning: This figure includes Axes that are not compatible with tight_layout, so results might be incorrect.\n",
      "/tmp/ipykernel_1985/1851935628.py:131: UserWarning: This figure includes Axes that are not compatible with tight_layout, so results might be incorrect.\n"
     ]
    },
    {
     "name": "stdout",
     "output_type": "stream",
     "text": [
      "Starting behavior_784806_2025-06-18_13-39-50\n"
     ]
    },
    {
     "name": "stderr",
     "output_type": "stream",
     "text": [
      "/tmp/ipykernel_1985/1851935628.py:131: UserWarning: This figure includes Axes that are not compatible with tight_layout, so results might be incorrect.\n",
      "/tmp/ipykernel_1985/1851935628.py:131: UserWarning: This figure includes Axes that are not compatible with tight_layout, so results might be incorrect.\n",
      "/tmp/ipykernel_1985/1851935628.py:131: UserWarning: This figure includes Axes that are not compatible with tight_layout, so results might be incorrect.\n"
     ]
    },
    {
     "name": "stdout",
     "output_type": "stream",
     "text": [
      "Selected experiment1 recording1, length:3902.46\n",
      "No curated data found for behavior_784806_2025-06-18_13-39-50\n",
      "Starting behavior_784806_2025-06-20_13-39-16\n"
     ]
    },
    {
     "name": "stderr",
     "output_type": "stream",
     "text": [
      "/tmp/ipykernel_1985/1851935628.py:131: UserWarning: This figure includes Axes that are not compatible with tight_layout, so results might be incorrect.\n"
     ]
    },
    {
     "name": "stdout",
     "output_type": "stream",
     "text": [
      "Processing 5 files in /root/capsule/scratch/781166/behavior_781166_2025-05-15_14-20-51/ephys/curated/figures/go_cue_vs_response\n"
     ]
    },
    {
     "name": "stderr",
     "output_type": "stream",
     "text": [
      "/tmp/ipykernel_1985/1851935628.py:131: UserWarning: This figure includes Axes that are not compatible with tight_layout, so results might be incorrect.\n",
      "/tmp/ipykernel_1985/1851935628.py:131: UserWarning: This figure includes Axes that are not compatible with tight_layout, so results might be incorrect.\n",
      "/tmp/ipykernel_1985/1851935628.py:131: UserWarning: This figure includes Axes that are not compatible with tight_layout, so results might be incorrect.\n"
     ]
    },
    {
     "name": "stdout",
     "output_type": "stream",
     "text": [
      "Processing 16 files in /root/capsule/scratch/761038/behavior_761038_2025-04-18_12-37-39/ephys/curated/figures/go_cue_vs_response\n",
      "Selected experiment1 recording1, length:4810.40\n",
      "No curated data found for behavior_784806_2025-06-20_13-39-16\n",
      "Starting behavior_791691_2025-06-24_13-21-29\n"
     ]
    },
    {
     "name": "stderr",
     "output_type": "stream",
     "text": [
      "/tmp/ipykernel_1985/1851935628.py:131: UserWarning: This figure includes Axes that are not compatible with tight_layout, so results might be incorrect.\n",
      "/tmp/ipykernel_1985/1851935628.py:131: UserWarning: This figure includes Axes that are not compatible with tight_layout, so results might be incorrect.\n",
      "/tmp/ipykernel_1985/1851935628.py:131: UserWarning: This figure includes Axes that are not compatible with tight_layout, so results might be incorrect.\n",
      "/tmp/ipykernel_1985/1851935628.py:131: UserWarning: This figure includes Axes that are not compatible with tight_layout, so results might be incorrect.\n",
      "/tmp/ipykernel_1985/1851935628.py:131: UserWarning: This figure includes Axes that are not compatible with tight_layout, so results might be incorrect.\n",
      "/tmp/ipykernel_1985/1851935628.py:131: UserWarning: This figure includes Axes that are not compatible with tight_layout, so results might be incorrect.\n",
      "/tmp/ipykernel_1985/1851935628.py:131: UserWarning: This figure includes Axes that are not compatible with tight_layout, so results might be incorrect.\n"
     ]
    },
    {
     "name": "stdout",
     "output_type": "stream",
     "text": [
      "Processing 12 files in /root/capsule/scratch/763590/behavior_763590_2025-05-01_10-59-18/ephys/curated/figures/go_cue_vs_response\n",
      "Selected experiment1 recording1, length:4862.23\n",
      "No curated data found for behavior_791691_2025-06-24_13-21-29\n",
      "Starting behavior_791691_2025-06-25_14-06-10\n"
     ]
    },
    {
     "name": "stderr",
     "output_type": "stream",
     "text": [
      "/tmp/ipykernel_1985/1851935628.py:131: UserWarning: This figure includes Axes that are not compatible with tight_layout, so results might be incorrect.\n"
     ]
    },
    {
     "name": "stdout",
     "output_type": "stream",
     "text": [
      "Combined PDF saved as: /root/capsule/scratch/761038/behavior_761038_2025-04-15_10-25-11/ephys/curated/figures/alignments_compare_combined.pdf\n",
      "Finished behavior_761038_2025-04-15_10-25-11\n",
      "Combined PDF saved as: /root/capsule/scratch/781166/behavior_781166_2025-05-15_14-20-51/ephys/curated/figures/alignments_compare_combined.pdf\n",
      "Finished behavior_781166_2025-05-15_14-20-51\n",
      "Starting behavior_791691_2025-06-26_13-39-26\n"
     ]
    },
    {
     "name": "stderr",
     "output_type": "stream",
     "text": [
      "/tmp/ipykernel_1985/1851935628.py:131: UserWarning: This figure includes Axes that are not compatible with tight_layout, so results might be incorrect.\n",
      "/tmp/ipykernel_1985/1851935628.py:131: UserWarning: This figure includes Axes that are not compatible with tight_layout, so results might be incorrect.\n",
      "/tmp/ipykernel_1985/1851935628.py:131: UserWarning: This figure includes Axes that are not compatible with tight_layout, so results might be incorrect.\n",
      "/tmp/ipykernel_1985/1851935628.py:131: UserWarning: This figure includes Axes that are not compatible with tight_layout, so results might be incorrect.\n",
      "/tmp/ipykernel_1985/1851935628.py:131: UserWarning: This figure includes Axes that are not compatible with tight_layout, so results might be incorrect.\n"
     ]
    },
    {
     "name": "stdout",
     "output_type": "stream",
     "text": [
      "Selected experiment1 recording1, length:3910.93\n",
      "No curated data found for behavior_791691_2025-06-25_14-06-10\n",
      "Starting behavior_784803_2025-07-01_13-58-26\n",
      "Starting behavior_791691_2025-06-27_13-54-30\n"
     ]
    },
    {
     "name": "stderr",
     "output_type": "stream",
     "text": [
      "/tmp/ipykernel_1985/1851935628.py:131: UserWarning: This figure includes Axes that are not compatible with tight_layout, so results might be incorrect.\n",
      "/tmp/ipykernel_1985/1851935628.py:131: UserWarning: This figure includes Axes that are not compatible with tight_layout, so results might be incorrect.\n"
     ]
    },
    {
     "name": "stdout",
     "output_type": "stream",
     "text": [
      "Selected experiment1 recording1, length:4926.98\n",
      "No curated data found for behavior_791691_2025-06-26_13-39-26\n",
      "Starting behavior_784803_2025-07-02_13-41-41\n",
      "Selected experiment1 recording1, length:4500.67\n",
      "No curated data found for behavior_791691_2025-06-27_13-54-30\n",
      "Selected experiment1 recording1, length:4097.49\n",
      "No curated data found for behavior_784803_2025-07-01_13-58-26\n"
     ]
    },
    {
     "name": "stderr",
     "output_type": "stream",
     "text": [
      "/tmp/ipykernel_1985/1851935628.py:131: UserWarning: This figure includes Axes that are not compatible with tight_layout, so results might be incorrect.\n",
      "/tmp/ipykernel_1985/1851935628.py:131: UserWarning: This figure includes Axes that are not compatible with tight_layout, so results might be incorrect.\n",
      "/tmp/ipykernel_1985/1851935628.py:131: UserWarning: This figure includes Axes that are not compatible with tight_layout, so results might be incorrect.\n",
      "/tmp/ipykernel_1985/1851935628.py:131: UserWarning: This figure includes Axes that are not compatible with tight_layout, so results might be incorrect.\n"
     ]
    },
    {
     "name": "stdout",
     "output_type": "stream",
     "text": [
      "Selected experiment1 recording1, length:4350.40\n",
      "No curated data found for behavior_784803_2025-07-02_13-41-41\n"
     ]
    },
    {
     "name": "stderr",
     "output_type": "stream",
     "text": [
      "/tmp/ipykernel_1985/1851935628.py:131: UserWarning: This figure includes Axes that are not compatible with tight_layout, so results might be incorrect.\n"
     ]
    },
    {
     "name": "stdout",
     "output_type": "stream",
     "text": [
      "Processing 19 files in /root/capsule/scratch/758018/behavior_758018_2025-03-19_11-16-44/ephys/curated/figures/go_cue_vs_response\n"
     ]
    },
    {
     "name": "stderr",
     "output_type": "stream",
     "text": [
      "/tmp/ipykernel_1985/1851935628.py:131: UserWarning: This figure includes Axes that are not compatible with tight_layout, so results might be incorrect.\n",
      "/tmp/ipykernel_1985/1851935628.py:131: UserWarning: This figure includes Axes that are not compatible with tight_layout, so results might be incorrect.\n",
      "/tmp/ipykernel_1985/1851935628.py:131: UserWarning: This figure includes Axes that are not compatible with tight_layout, so results might be incorrect.\n",
      "/tmp/ipykernel_1985/1851935628.py:131: UserWarning: This figure includes Axes that are not compatible with tight_layout, so results might be incorrect.\n",
      "/tmp/ipykernel_1985/1851935628.py:131: UserWarning: This figure includes Axes that are not compatible with tight_layout, so results might be incorrect.\n"
     ]
    },
    {
     "name": "stdout",
     "output_type": "stream",
     "text": [
      "Combined PDF saved as: /root/capsule/scratch/763590/behavior_763590_2025-05-01_10-59-18/ephys/curated/figures/alignments_compare_combined.pdf\n",
      "Finished behavior_763590_2025-05-01_10-59-18\n"
     ]
    },
    {
     "name": "stderr",
     "output_type": "stream",
     "text": [
      "/tmp/ipykernel_1985/1851935628.py:131: UserWarning: This figure includes Axes that are not compatible with tight_layout, so results might be incorrect.\n"
     ]
    },
    {
     "name": "stdout",
     "output_type": "stream",
     "text": [
      "Combined PDF saved as: /root/capsule/scratch/761038/behavior_761038_2025-04-18_12-37-39/ephys/curated/figures/alignments_compare_combined.pdf\n",
      "Finished behavior_761038_2025-04-18_12-37-39\n"
     ]
    },
    {
     "name": "stderr",
     "output_type": "stream",
     "text": [
      "/tmp/ipykernel_1985/1851935628.py:131: UserWarning: This figure includes Axes that are not compatible with tight_layout, so results might be incorrect.\n",
      "/tmp/ipykernel_1985/1851935628.py:131: UserWarning: This figure includes Axes that are not compatible with tight_layout, so results might be incorrect.\n",
      "/tmp/ipykernel_1985/1851935628.py:131: UserWarning: This figure includes Axes that are not compatible with tight_layout, so results might be incorrect.\n",
      "/tmp/ipykernel_1985/1851935628.py:131: UserWarning: This figure includes Axes that are not compatible with tight_layout, so results might be incorrect.\n"
     ]
    },
    {
     "name": "stdout",
     "output_type": "stream",
     "text": [
      "Combined PDF saved as: /root/capsule/scratch/754897/behavior_754897_2025-03-14_11-28-53/ephys/curated/figures/alignments_compare_combined.pdf\n",
      "Finished behavior_754897_2025-03-14_11-28-53\n"
     ]
    },
    {
     "name": "stderr",
     "output_type": "stream",
     "text": [
      "/tmp/ipykernel_1985/1851935628.py:52: RuntimeWarning: More than 20 figures have been opened. Figures created through the pyplot interface (`matplotlib.pyplot.figure`) are retained until explicitly closed and may consume too much memory. (To control this warning, see the rcParam `figure.max_open_warning`). Consider using `matplotlib.pyplot.close()`.\n",
      "/tmp/ipykernel_1985/1851935628.py:131: UserWarning: This figure includes Axes that are not compatible with tight_layout, so results might be incorrect.\n",
      "/tmp/ipykernel_1985/1851935628.py:131: UserWarning: This figure includes Axes that are not compatible with tight_layout, so results might be incorrect.\n",
      "/tmp/ipykernel_1985/1851935628.py:131: UserWarning: This figure includes Axes that are not compatible with tight_layout, so results might be incorrect.\n",
      "/tmp/ipykernel_1985/1851935628.py:131: UserWarning: This figure includes Axes that are not compatible with tight_layout, so results might be incorrect.\n"
     ]
    },
    {
     "name": "stdout",
     "output_type": "stream",
     "text": [
      "Processing 8 files in /root/capsule/scratch/785956/behavior_785956_2025-05-20_14-15-19/ephys/curated/figures/go_cue_vs_response\n"
     ]
    },
    {
     "name": "stderr",
     "output_type": "stream",
     "text": [
      "/tmp/ipykernel_1985/1851935628.py:131: UserWarning: This figure includes Axes that are not compatible with tight_layout, so results might be incorrect.\n",
      "/tmp/ipykernel_1985/1851935628.py:131: UserWarning: This figure includes Axes that are not compatible with tight_layout, so results might be incorrect.\n",
      "/tmp/ipykernel_1985/1851935628.py:131: UserWarning: This figure includes Axes that are not compatible with tight_layout, so results might be incorrect.\n",
      "/tmp/ipykernel_1985/1851935628.py:131: UserWarning: This figure includes Axes that are not compatible with tight_layout, so results might be incorrect.\n",
      "/tmp/ipykernel_1985/1851935628.py:131: UserWarning: This figure includes Axes that are not compatible with tight_layout, so results might be incorrect.\n",
      "/tmp/ipykernel_1985/1851935628.py:131: UserWarning: This figure includes Axes that are not compatible with tight_layout, so results might be incorrect.\n",
      "/tmp/ipykernel_1985/1851935628.py:131: UserWarning: This figure includes Axes that are not compatible with tight_layout, so results might be incorrect.\n",
      "/tmp/ipykernel_1985/1851935628.py:131: UserWarning: This figure includes Axes that are not compatible with tight_layout, so results might be incorrect.\n",
      "/tmp/ipykernel_1985/1851935628.py:52: RuntimeWarning: More than 20 figures have been opened. Figures created through the pyplot interface (`matplotlib.pyplot.figure`) are retained until explicitly closed and may consume too much memory. (To control this warning, see the rcParam `figure.max_open_warning`). Consider using `matplotlib.pyplot.close()`.\n",
      "/tmp/ipykernel_1985/1851935628.py:131: UserWarning: This figure includes Axes that are not compatible with tight_layout, so results might be incorrect.\n"
     ]
    },
    {
     "name": "stdout",
     "output_type": "stream",
     "text": [
      "Processing 6 files in /root/capsule/scratch/785956/behavior_785956_2025-05-21_13-42-02/ephys/curated/figures/go_cue_vs_response\n"
     ]
    },
    {
     "name": "stderr",
     "output_type": "stream",
     "text": [
      "/tmp/ipykernel_1985/1851935628.py:131: UserWarning: This figure includes Axes that are not compatible with tight_layout, so results might be incorrect.\n"
     ]
    },
    {
     "name": "stdout",
     "output_type": "stream",
     "text": [
      "Processing 5 files in /root/capsule/scratch/781166/behavior_781166_2025-05-14_14-18-28/ephys/curated/figures/go_cue_vs_response\n"
     ]
    },
    {
     "name": "stderr",
     "output_type": "stream",
     "text": [
      "/tmp/ipykernel_1985/1851935628.py:131: UserWarning: This figure includes Axes that are not compatible with tight_layout, so results might be incorrect.\n"
     ]
    },
    {
     "name": "stdout",
     "output_type": "stream",
     "text": [
      "Combined PDF saved as: /root/capsule/scratch/785956/behavior_785956_2025-05-20_14-15-19/ephys/curated/figures/alignments_compare_combined.pdf\n",
      "Finished behavior_785956_2025-05-20_14-15-19\n"
     ]
    },
    {
     "name": "stderr",
     "output_type": "stream",
     "text": [
      "/tmp/ipykernel_1985/1851935628.py:131: UserWarning: This figure includes Axes that are not compatible with tight_layout, so results might be incorrect.\n",
      "/tmp/ipykernel_1985/1851935628.py:131: UserWarning: This figure includes Axes that are not compatible with tight_layout, so results might be incorrect.\n",
      "/tmp/ipykernel_1985/1851935628.py:131: UserWarning: This figure includes Axes that are not compatible with tight_layout, so results might be incorrect.\n",
      "/tmp/ipykernel_1985/1851935628.py:131: UserWarning: This figure includes Axes that are not compatible with tight_layout, so results might be incorrect.\n",
      "/tmp/ipykernel_1985/1851935628.py:131: UserWarning: This figure includes Axes that are not compatible with tight_layout, so results might be incorrect.\n"
     ]
    },
    {
     "name": "stdout",
     "output_type": "stream",
     "text": [
      "Combined PDF saved as: /root/capsule/scratch/781166/behavior_781166_2025-05-14_14-18-28/ephys/curated/figures/alignments_compare_combined.pdf\n",
      "Finished behavior_781166_2025-05-14_14-18-28\n"
     ]
    },
    {
     "name": "stderr",
     "output_type": "stream",
     "text": [
      "/tmp/ipykernel_1985/1851935628.py:131: UserWarning: This figure includes Axes that are not compatible with tight_layout, so results might be incorrect.\n"
     ]
    },
    {
     "name": "stdout",
     "output_type": "stream",
     "text": [
      "Combined PDF saved as: /root/capsule/scratch/785956/behavior_785956_2025-05-21_13-42-02/ephys/curated/figures/alignments_compare_combined.pdf\n",
      "Finished behavior_785956_2025-05-21_13-42-02\n"
     ]
    },
    {
     "name": "stderr",
     "output_type": "stream",
     "text": [
      "/tmp/ipykernel_1985/1851935628.py:131: UserWarning: This figure includes Axes that are not compatible with tight_layout, so results might be incorrect.\n",
      "/tmp/ipykernel_1985/1851935628.py:131: UserWarning: This figure includes Axes that are not compatible with tight_layout, so results might be incorrect.\n"
     ]
    },
    {
     "name": "stdout",
     "output_type": "stream",
     "text": [
      "Combined PDF saved as: /root/capsule/scratch/758018/behavior_758018_2025-03-19_11-16-44/ephys/curated/figures/alignments_compare_combined.pdf\n",
      "Finished behavior_758018_2025-03-19_11-16-44\n"
     ]
    },
    {
     "name": "stderr",
     "output_type": "stream",
     "text": [
      "/tmp/ipykernel_1985/1851935628.py:131: UserWarning: This figure includes Axes that are not compatible with tight_layout, so results might be incorrect.\n",
      "/tmp/ipykernel_1985/1851935628.py:131: UserWarning: This figure includes Axes that are not compatible with tight_layout, so results might be incorrect.\n",
      "/tmp/ipykernel_1985/1851935628.py:131: UserWarning: This figure includes Axes that are not compatible with tight_layout, so results might be incorrect.\n",
      "/tmp/ipykernel_1985/1851935628.py:131: UserWarning: This figure includes Axes that are not compatible with tight_layout, so results might be incorrect.\n",
      "/tmp/ipykernel_1985/1851935628.py:131: UserWarning: This figure includes Axes that are not compatible with tight_layout, so results might be incorrect.\n",
      "/tmp/ipykernel_1985/1851935628.py:131: UserWarning: This figure includes Axes that are not compatible with tight_layout, so results might be incorrect.\n",
      "/tmp/ipykernel_1985/1851935628.py:131: UserWarning: This figure includes Axes that are not compatible with tight_layout, so results might be incorrect.\n",
      "/tmp/ipykernel_1985/1851935628.py:131: UserWarning: This figure includes Axes that are not compatible with tight_layout, so results might be incorrect.\n",
      "/tmp/ipykernel_1985/1851935628.py:131: UserWarning: This figure includes Axes that are not compatible with tight_layout, so results might be incorrect.\n",
      "/tmp/ipykernel_1985/1851935628.py:131: UserWarning: This figure includes Axes that are not compatible with tight_layout, so results might be incorrect.\n",
      "/tmp/ipykernel_1985/1851935628.py:131: UserWarning: This figure includes Axes that are not compatible with tight_layout, so results might be incorrect.\n",
      "/tmp/ipykernel_1985/1851935628.py:52: RuntimeWarning: More than 20 figures have been opened. Figures created through the pyplot interface (`matplotlib.pyplot.figure`) are retained until explicitly closed and may consume too much memory. (To control this warning, see the rcParam `figure.max_open_warning`). Consider using `matplotlib.pyplot.close()`.\n",
      "/tmp/ipykernel_1985/1851935628.py:131: UserWarning: This figure includes Axes that are not compatible with tight_layout, so results might be incorrect.\n",
      "/tmp/ipykernel_1985/1851935628.py:131: UserWarning: This figure includes Axes that are not compatible with tight_layout, so results might be incorrect.\n",
      "/tmp/ipykernel_1985/1851935628.py:131: UserWarning: This figure includes Axes that are not compatible with tight_layout, so results might be incorrect.\n",
      "/tmp/ipykernel_1985/1851935628.py:131: UserWarning: This figure includes Axes that are not compatible with tight_layout, so results might be incorrect.\n",
      "/tmp/ipykernel_1985/1851935628.py:131: UserWarning: This figure includes Axes that are not compatible with tight_layout, so results might be incorrect.\n",
      "/tmp/ipykernel_1985/1851935628.py:131: UserWarning: This figure includes Axes that are not compatible with tight_layout, so results might be incorrect.\n",
      "/tmp/ipykernel_1985/1851935628.py:131: UserWarning: This figure includes Axes that are not compatible with tight_layout, so results might be incorrect.\n",
      "/tmp/ipykernel_1985/1851935628.py:131: UserWarning: This figure includes Axes that are not compatible with tight_layout, so results might be incorrect.\n",
      "/tmp/ipykernel_1985/1851935628.py:131: UserWarning: This figure includes Axes that are not compatible with tight_layout, so results might be incorrect.\n",
      "/tmp/ipykernel_1985/1851935628.py:131: UserWarning: This figure includes Axes that are not compatible with tight_layout, so results might be incorrect.\n"
     ]
    },
    {
     "name": "stdout",
     "output_type": "stream",
     "text": [
      "Processing 14 files in /root/capsule/scratch/781166/behavior_781166_2025-05-13_14-04-27/ephys/curated/figures/go_cue_vs_response\n"
     ]
    },
    {
     "name": "stderr",
     "output_type": "stream",
     "text": [
      "/tmp/ipykernel_1985/1851935628.py:131: UserWarning: This figure includes Axes that are not compatible with tight_layout, so results might be incorrect.\n",
      "/tmp/ipykernel_1985/1851935628.py:131: UserWarning: This figure includes Axes that are not compatible with tight_layout, so results might be incorrect.\n",
      "/tmp/ipykernel_1985/1851935628.py:131: UserWarning: This figure includes Axes that are not compatible with tight_layout, so results might be incorrect.\n",
      "/tmp/ipykernel_1985/1851935628.py:131: UserWarning: This figure includes Axes that are not compatible with tight_layout, so results might be incorrect.\n",
      "/tmp/ipykernel_1985/1851935628.py:131: UserWarning: This figure includes Axes that are not compatible with tight_layout, so results might be incorrect.\n",
      "/tmp/ipykernel_1985/1851935628.py:131: UserWarning: This figure includes Axes that are not compatible with tight_layout, so results might be incorrect.\n",
      "/tmp/ipykernel_1985/1851935628.py:131: UserWarning: This figure includes Axes that are not compatible with tight_layout, so results might be incorrect.\n",
      "/tmp/ipykernel_1985/1851935628.py:131: UserWarning: This figure includes Axes that are not compatible with tight_layout, so results might be incorrect.\n",
      "/tmp/ipykernel_1985/1851935628.py:52: RuntimeWarning: More than 20 figures have been opened. Figures created through the pyplot interface (`matplotlib.pyplot.figure`) are retained until explicitly closed and may consume too much memory. (To control this warning, see the rcParam `figure.max_open_warning`). Consider using `matplotlib.pyplot.close()`.\n",
      "/tmp/ipykernel_1985/1851935628.py:131: UserWarning: This figure includes Axes that are not compatible with tight_layout, so results might be incorrect.\n",
      "/tmp/ipykernel_1985/1851935628.py:131: UserWarning: This figure includes Axes that are not compatible with tight_layout, so results might be incorrect.\n"
     ]
    },
    {
     "name": "stdout",
     "output_type": "stream",
     "text": [
      "Processing 12 files in /root/capsule/scratch/785956/behavior_785956_2025-05-23_13-45-21/ephys/curated/figures/go_cue_vs_response\n"
     ]
    },
    {
     "name": "stderr",
     "output_type": "stream",
     "text": [
      "/tmp/ipykernel_1985/1851935628.py:131: UserWarning: This figure includes Axes that are not compatible with tight_layout, so results might be incorrect.\n",
      "/tmp/ipykernel_1985/1851935628.py:131: UserWarning: This figure includes Axes that are not compatible with tight_layout, so results might be incorrect.\n"
     ]
    },
    {
     "name": "stdout",
     "output_type": "stream",
     "text": [
      "Combined PDF saved as: /root/capsule/scratch/781166/behavior_781166_2025-05-13_14-04-27/ephys/curated/figures/alignments_compare_combined.pdf\n",
      "Finished behavior_781166_2025-05-13_14-04-27\n"
     ]
    },
    {
     "name": "stderr",
     "output_type": "stream",
     "text": [
      "/tmp/ipykernel_1985/1851935628.py:131: UserWarning: This figure includes Axes that are not compatible with tight_layout, so results might be incorrect.\n",
      "/tmp/ipykernel_1985/1851935628.py:131: UserWarning: This figure includes Axes that are not compatible with tight_layout, so results might be incorrect.\n",
      "/tmp/ipykernel_1985/1851935628.py:131: UserWarning: This figure includes Axes that are not compatible with tight_layout, so results might be incorrect.\n",
      "/tmp/ipykernel_1985/1851935628.py:131: UserWarning: This figure includes Axes that are not compatible with tight_layout, so results might be incorrect.\n",
      "/tmp/ipykernel_1985/1851935628.py:131: UserWarning: This figure includes Axes that are not compatible with tight_layout, so results might be incorrect.\n",
      "/tmp/ipykernel_1985/1851935628.py:131: UserWarning: This figure includes Axes that are not compatible with tight_layout, so results might be incorrect.\n",
      "/tmp/ipykernel_1985/1851935628.py:131: UserWarning: This figure includes Axes that are not compatible with tight_layout, so results might be incorrect.\n"
     ]
    },
    {
     "name": "stdout",
     "output_type": "stream",
     "text": [
      "Combined PDF saved as: /root/capsule/scratch/785956/behavior_785956_2025-05-23_13-45-21/ephys/curated/figures/alignments_compare_combined.pdf\n",
      "Finished behavior_785956_2025-05-23_13-45-21\n"
     ]
    },
    {
     "name": "stderr",
     "output_type": "stream",
     "text": [
      "/tmp/ipykernel_1985/1851935628.py:131: UserWarning: This figure includes Axes that are not compatible with tight_layout, so results might be incorrect.\n",
      "/tmp/ipykernel_1985/1851935628.py:131: UserWarning: This figure includes Axes that are not compatible with tight_layout, so results might be incorrect.\n",
      "/tmp/ipykernel_1985/1851935628.py:131: UserWarning: This figure includes Axes that are not compatible with tight_layout, so results might be incorrect.\n",
      "/tmp/ipykernel_1985/1851935628.py:131: UserWarning: This figure includes Axes that are not compatible with tight_layout, so results might be incorrect.\n",
      "/tmp/ipykernel_1985/1851935628.py:131: UserWarning: This figure includes Axes that are not compatible with tight_layout, so results might be incorrect.\n",
      "/tmp/ipykernel_1985/1851935628.py:131: UserWarning: This figure includes Axes that are not compatible with tight_layout, so results might be incorrect.\n",
      "/tmp/ipykernel_1985/1851935628.py:131: UserWarning: This figure includes Axes that are not compatible with tight_layout, so results might be incorrect.\n",
      "/tmp/ipykernel_1985/1851935628.py:131: UserWarning: This figure includes Axes that are not compatible with tight_layout, so results might be incorrect.\n",
      "/tmp/ipykernel_1985/1851935628.py:131: UserWarning: This figure includes Axes that are not compatible with tight_layout, so results might be incorrect.\n",
      "/tmp/ipykernel_1985/1851935628.py:131: UserWarning: This figure includes Axes that are not compatible with tight_layout, so results might be incorrect.\n",
      "/tmp/ipykernel_1985/1851935628.py:131: UserWarning: This figure includes Axes that are not compatible with tight_layout, so results might be incorrect.\n",
      "/tmp/ipykernel_1985/1851935628.py:131: UserWarning: This figure includes Axes that are not compatible with tight_layout, so results might be incorrect.\n",
      "/tmp/ipykernel_1985/1851935628.py:131: UserWarning: This figure includes Axes that are not compatible with tight_layout, so results might be incorrect.\n",
      "/tmp/ipykernel_1985/1851935628.py:131: UserWarning: This figure includes Axes that are not compatible with tight_layout, so results might be incorrect.\n",
      "/tmp/ipykernel_1985/1851935628.py:131: UserWarning: This figure includes Axes that are not compatible with tight_layout, so results might be incorrect.\n",
      "/tmp/ipykernel_1985/1851935628.py:131: UserWarning: This figure includes Axes that are not compatible with tight_layout, so results might be incorrect.\n",
      "/tmp/ipykernel_1985/1851935628.py:131: UserWarning: This figure includes Axes that are not compatible with tight_layout, so results might be incorrect.\n"
     ]
    },
    {
     "name": "stdout",
     "output_type": "stream",
     "text": [
      "Processing 40 files in /root/capsule/scratch/782394/behavior_782394_2025-04-23_10-51-17/ephys/curated/figures/go_cue_vs_response\n"
     ]
    },
    {
     "name": "stderr",
     "output_type": "stream",
     "text": [
      "/tmp/ipykernel_1985/1851935628.py:131: UserWarning: This figure includes Axes that are not compatible with tight_layout, so results might be incorrect.\n",
      "/tmp/ipykernel_1985/1851935628.py:131: UserWarning: This figure includes Axes that are not compatible with tight_layout, so results might be incorrect.\n"
     ]
    },
    {
     "name": "stdout",
     "output_type": "stream",
     "text": [
      "Processing 35 files in /root/capsule/scratch/761038/behavior_761038_2025-04-16_10-39-10/ephys/curated/figures/go_cue_vs_response\n"
     ]
    },
    {
     "name": "stderr",
     "output_type": "stream",
     "text": [
      "/tmp/ipykernel_1985/1851935628.py:131: UserWarning: This figure includes Axes that are not compatible with tight_layout, so results might be incorrect.\n",
      "/tmp/ipykernel_1985/1851935628.py:131: UserWarning: This figure includes Axes that are not compatible with tight_layout, so results might be incorrect.\n",
      "/tmp/ipykernel_1985/1851935628.py:131: UserWarning: This figure includes Axes that are not compatible with tight_layout, so results might be incorrect.\n"
     ]
    },
    {
     "name": "stdout",
     "output_type": "stream",
     "text": [
      "Processing 32 files in /root/capsule/scratch/754897/behavior_754897_2025-03-13_11-20-42/ephys/curated/figures/go_cue_vs_response\n"
     ]
    },
    {
     "name": "stderr",
     "output_type": "stream",
     "text": [
      "/tmp/ipykernel_1985/1851935628.py:131: UserWarning: This figure includes Axes that are not compatible with tight_layout, so results might be incorrect.\n",
      "/tmp/ipykernel_1985/1851935628.py:131: UserWarning: This figure includes Axes that are not compatible with tight_layout, so results might be incorrect.\n",
      "/tmp/ipykernel_1985/1851935628.py:131: UserWarning: This figure includes Axes that are not compatible with tight_layout, so results might be incorrect.\n",
      "/tmp/ipykernel_1985/1851935628.py:131: UserWarning: This figure includes Axes that are not compatible with tight_layout, so results might be incorrect.\n"
     ]
    },
    {
     "name": "stdout",
     "output_type": "stream",
     "text": [
      "Combined PDF saved as: /root/capsule/scratch/761038/behavior_761038_2025-04-16_10-39-10/ephys/curated/figures/alignments_compare_combined.pdf\n",
      "Finished behavior_761038_2025-04-16_10-39-10\n",
      "Combined PDF saved as: /root/capsule/scratch/782394/behavior_782394_2025-04-23_10-51-17/ephys/curated/figures/alignments_compare_combined.pdf\n",
      "Finished behavior_782394_2025-04-23_10-51-17\n"
     ]
    },
    {
     "name": "stderr",
     "output_type": "stream",
     "text": [
      "/tmp/ipykernel_1985/1851935628.py:131: UserWarning: This figure includes Axes that are not compatible with tight_layout, so results might be incorrect.\n",
      "/tmp/ipykernel_1985/1851935628.py:131: UserWarning: This figure includes Axes that are not compatible with tight_layout, so results might be incorrect.\n",
      "/tmp/ipykernel_1985/1851935628.py:131: UserWarning: This figure includes Axes that are not compatible with tight_layout, so results might be incorrect.\n"
     ]
    },
    {
     "name": "stdout",
     "output_type": "stream",
     "text": [
      "Combined PDF saved as: /root/capsule/scratch/754897/behavior_754897_2025-03-13_11-20-42/ephys/curated/figures/alignments_compare_combined.pdf\n",
      "Finished behavior_754897_2025-03-13_11-20-42\n"
     ]
    },
    {
     "name": "stderr",
     "output_type": "stream",
     "text": [
      "/tmp/ipykernel_1985/1851935628.py:131: UserWarning: This figure includes Axes that are not compatible with tight_layout, so results might be incorrect.\n"
     ]
    },
    {
     "name": "stdout",
     "output_type": "stream",
     "text": [
      "Processing 39 files in /root/capsule/scratch/782394/behavior_782394_2025-04-24_12-07-34/ephys/curated/figures/go_cue_vs_response\n",
      "Combined PDF saved as: /root/capsule/scratch/782394/behavior_782394_2025-04-24_12-07-34/ephys/curated/figures/alignments_compare_combined.pdf\n",
      "Finished behavior_782394_2025-04-24_12-07-34\n"
     ]
    },
    {
     "data": {
      "text/plain": [
       "[None,\n",
       " None,\n",
       " None,\n",
       " None,\n",
       " None,\n",
       " None,\n",
       " None,\n",
       " None,\n",
       " None,\n",
       " None,\n",
       " None,\n",
       " None,\n",
       " None,\n",
       " None,\n",
       " None,\n",
       " None,\n",
       " None,\n",
       " None,\n",
       " None,\n",
       " None,\n",
       " None,\n",
       " None,\n",
       " None,\n",
       " None,\n",
       " None,\n",
       " None,\n",
       " None,\n",
       " None,\n",
       " None,\n",
       " None,\n",
       " None,\n",
       " None,\n",
       " None,\n",
       " None,\n",
       " None,\n",
       " None,\n",
       " None,\n",
       " None,\n",
       " None,\n",
       " None,\n",
       " None,\n",
       " None,\n",
       " None,\n",
       " None,\n",
       " None,\n",
       " None,\n",
       " None,\n",
       " None,\n",
       " None,\n",
       " None,\n",
       " None,\n",
       " None,\n",
       " None,\n",
       " None,\n",
       " None,\n",
       " None,\n",
       " None,\n",
       " None,\n",
       " None,\n",
       " None,\n",
       " None,\n",
       " None,\n",
       " None,\n",
       " None,\n",
       " None,\n",
       " None,\n",
       " None,\n",
       " None,\n",
       " None,\n",
       " None,\n",
       " None,\n",
       " None,\n",
       " None,\n",
       " None,\n",
       " None,\n",
       " None,\n",
       " None,\n",
       " None,\n",
       " None,\n",
       " None,\n",
       " None,\n",
       " None,\n",
       " None,\n",
       " None,\n",
       " None,\n",
       " None,\n",
       " None,\n",
       " None,\n",
       " None,\n",
       " None,\n",
       " None,\n",
       " None,\n",
       " None,\n",
       " None,\n",
       " None,\n",
       " None,\n",
       " None,\n",
       " None,\n",
       " None,\n",
       " None,\n",
       " None,\n",
       " None,\n",
       " None,\n",
       " None]"
      ]
     },
     "execution_count": 21,
     "metadata": {},
     "output_type": "execute_result"
    }
   ],
   "source": [
    "from joblib import Parallel, delayed\n",
    "data_type = 'curated'\n",
    "def process(session, data_type): \n",
    "    print(f'Starting {session}')\n",
    "    session_dir = session_dirs(session)\n",
    "    # if os.path.exists(os.path.join(session_dir['beh_fig_dir'], f'{session}.nwb')):\n",
    "    # print(session_dir[f'curated_dir_{data_type}'])\n",
    "    if session_dir[f'curated_dir_{data_type}'] is not None and os.path.exists(session_dir['nwb_beh']):\n",
    "        plot_alignments(session, data_type=data_type)\n",
    "        print(f'Finished {session}')\n",
    "    else:\n",
    "        print(f'No curated data found for {session}') \n",
    "    # elif session_dir['curated_dir_raw'] is not None:\n",
    "    #     data_type = 'raw' \n",
    "    #     opto_tagging_df_sess = opto_plotting_session(session, data_type, target, resp_thresh=resp_thresh, lat_thresh=lat_thresh, target_unit_ids= None, plot = True, save=True)\n",
    "Parallel(n_jobs=-1)(delayed(process)(session, data_type) for session in session_list)\n",
    "# for session in session_list:\n",
    "#     process(session, data_type)"
   ]
  },
  {
   "cell_type": "code",
   "execution_count": 8,
   "metadata": {},
   "outputs": [
    {
     "name": "stdout",
     "output_type": "stream",
     "text": [
      "Selected experiment1 recording1, length:5856.14\n",
      "Selected experiment1 recording1, length:5856.14\n",
      "Selected experiment1 recording1, length:5856.14\n"
     ]
    }
   ],
   "source": [
    "session = 'behavior_754897_2025-03-13_11-20-42'\n",
    "data_type = 'curated'\n",
    "session_tbl = get_session_tbl(session)\n",
    "unit_tbl = get_unit_tbl(session, data_type=data_type)\n",
    "session_dir = session_dirs(session)\n",
    "unit_id = 11\n",
    "spike_times = unit_tbl[unit_tbl['unit_id'] == unit_id]['spike_times'].values[0]\n",
    "reward_time = session_tbl[session_tbl['animal_response']!=2]['reward_outcome_time'].values\n",
    "win_len = 0.5  # seconds\n",
    "spikes_df = align.to_events(spike_times,`   ` reward_time, (0, win_len), return_df=True)"
   ]
  }
 ],
 "metadata": {
  "kernelspec": {
   "display_name": "base",
   "language": "python",
   "name": "python3"
  },
  "language_info": {
   "codemirror_mode": {
    "name": "ipython",
    "version": 3
   },
   "file_extension": ".py",
   "mimetype": "text/x-python",
   "name": "python",
   "nbconvert_exporter": "python",
   "pygments_lexer": "ipython3",
   "version": "3.10.18"
  }
 },
 "nbformat": 4,
 "nbformat_minor": 2
}
