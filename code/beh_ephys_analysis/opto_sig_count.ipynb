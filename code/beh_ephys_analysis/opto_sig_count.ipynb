{
 "cells": [
  {
   "cell_type": "code",
   "execution_count": 63,
   "metadata": {},
   "outputs": [],
   "source": [
    "import sys\n",
    "import os\n",
    "sys.path.append('/root/capsule/code/beh_ephys_analysis')\n",
    "from utils.beh_functions import parseSessionID, session_dirs, get_unit_tbl, get_session_tbl\n",
    "from utils.plot_utils import shiftedColorMap, template_reorder, get_gradient_colors\n",
    "from utils.opto_utils import opto_metrics, get_opto_tbl\n",
    "from utils.ephys_functions import cross_corr_train, auto_corr_train, load_drift\n",
    "import json\n",
    "import matplotlib.pyplot as plt\n",
    "import pandas as pd\n",
    "import pickle\n",
    "from aind_ephys_utils import align\n",
    "from scipy.stats import wilcoxon\n",
    "%matplotlib inline"
   ]
  },
  {
   "cell_type": "code",
   "execution_count": 66,
   "metadata": {},
   "outputs": [],
   "source": [
    "def cal_opto_sigs(session, data_type):\n",
    "    unit_tbl = get_unit_tbl(session, data_type)\n",
    "    opto_tbl = get_opto_tbl(session, data_type, loc = 'soma')\n",
    "    # loop through all conditions\n",
    "    powers = opto_tbl['power'].unique().tolist()\n",
    "    sites = opto_tbl['site'].unique().tolist()\n",
    "    pre_posts = opto_tbl['pre_post'].unique().tolist()\n",
    "    freqs = opto_tbl['freq'].unique().tolist()\n",
    "    opto_sigs = pd.DataFrame()\n",
    "    filter = unit_tbl['default_qc'] == 1\n",
    "    unit_ids_focus = unit_tbl[filter]['unit_id'].unique().tolist()\n",
    "    for unit in unit_ids_focus:\n",
    "        # print(f\"Processing unit {unit}...\")\n",
    "        spike_times = unit_tbl[unit_tbl['unit_id']== unit]['spike_times'].values[0]\n",
    "        opto_tbl_curr = opto_tbl.copy()\n",
    "        unit_drift = load_drift(session, unit)\n",
    "        pulse_num = 5\n",
    "        pre_win_ratio = 0.5\n",
    "        post_win = 0.05\n",
    "        if unit_drift is not None:\n",
    "            if unit_drift['ephys_cut'][0] is not None:\n",
    "                spike_times = spike_times[spike_times >= unit_drift['ephys_cut'][0]]\n",
    "                opto_tbl_curr = opto_tbl_curr[opto_tbl_curr['time'] >= unit_drift['ephys_cut'][0]]\n",
    "            if unit_drift['ephys_cut'][1] is not None:\n",
    "                spike_times = spike_times[spike_times <= unit_drift['ephys_cut'][1]]\n",
    "                opto_tbl_curr = opto_tbl_curr[opto_tbl_curr['time'] <= unit_drift['ephys_cut'][1]]\n",
    "        for power_ind, power in enumerate(powers):\n",
    "            for site_ind, site in enumerate(sites):\n",
    "                for freq_ind, freq in enumerate(freqs):\n",
    "                    for pre_post_ind, pre_post in enumerate(pre_posts):\n",
    "                        # get the trials for this condition\n",
    "                        trials = opto_tbl[(opto_tbl['power'] == power) & (opto_tbl['site'] == site) & (opto_tbl['pre_post'] == pre_post) & (opto_tbl['freq'] == freq)]\n",
    "                        if len(trials) == 0:\n",
    "                            # print(f\"No trials for power {power}, site {site}, freq {freq}, pre_post {pre_post}\")\n",
    "                            continue\n",
    "                        # get the pulse times\n",
    "                        train_times = trials['time'].values\n",
    "                        p_unit_condition = []\n",
    "                        for pulse_ind in range(pulse_num):\n",
    "                            pulse_times = train_times + (pulse_ind * 1/freq)  # assuming freq is in Hz and pulse_ind starts from 0\n",
    "                            # get the opto signal\n",
    "                            pre_win_counts = align.to_events(spike_times, pulse_times, [-1/freq * pre_win_ratio, 0], return_df=True)\n",
    "                            post_win_counts = align.to_events(spike_times, pulse_times, [0, post_win], return_df=True)\n",
    "                            pre_win_freq = [len(pre_win_counts[pre_win_counts['event_index'] == event_ind]) / (1/freq * pre_win_ratio) for event_ind in range(len(pulse_times))]\n",
    "                            post_win_freq = [len(post_win_counts[post_win_counts['event_index'] == event_ind]) / (post_win) for event_ind in range(len(pulse_times))]\n",
    "                            # paired non-parametric test\n",
    "                            stat, p = wilcoxon(pre_win_freq, post_win_freq)\n",
    "                            p_unit_condition.append(p)\n",
    "                        # store the results\n",
    "                        opto_sigs = pd.concat([opto_sigs, pd.DataFrame({\n",
    "                                            'unit_id': [unit],\n",
    "                                            'power': [power],\n",
    "                                            'site': [site],\n",
    "                                            'freq': [freq],\n",
    "                                            'pre_post': [pre_post],\n",
    "                                            'p_unit_condition': [p_unit_condition],  # wrap list of dicts in a list to keep in one cell\n",
    "                                            'p_sig_count': [sum(p < 0.05 for p in p_unit_condition)],\n",
    "                                        })], ignore_index=True)\n",
    "    # save the results\n",
    "    opto_sigs_file = os.path.join(session_dirs(session, data_type)[f'opto_dir_{data_type}'], f'{session}_opto_sigs.pkl')\n",
    "    with open(opto_sigs_file, 'wb') as f:\n",
    "        pickle.dump(opto_sigs, f)\n",
    "    return opto_sigs"
   ]
  },
  {
   "cell_type": "code",
   "execution_count": 65,
   "metadata": {},
   "outputs": [
    {
     "name": "stdout",
     "output_type": "stream",
     "text": [
      "Processing unit 4...\n",
      "Processing unit 10...\n",
      "Processing unit 11...\n",
      "Processing unit 12...\n",
      "Processing unit 15...\n",
      "Processing unit 18...\n",
      "Processing unit 23...\n",
      "Processing unit 24...\n",
      "Processing unit 25...\n"
     ]
    },
    {
     "name": "stderr",
     "output_type": "stream",
     "text": [
      "/opt/conda/lib/python3.10/site-packages/scipy/stats/_wilcoxon.py:172: RuntimeWarning: invalid value encountered in scalar divide\n",
      "  z = (r_plus - mn) / se\n"
     ]
    },
    {
     "name": "stdout",
     "output_type": "stream",
     "text": [
      "Processing unit 26...\n",
      "Processing unit 27...\n",
      "Processing unit 28...\n",
      "Processing unit 30...\n",
      "Processing unit 32...\n"
     ]
    },
    {
     "name": "stderr",
     "output_type": "stream",
     "text": [
      "/opt/conda/lib/python3.10/site-packages/scipy/stats/_wilcoxon.py:172: RuntimeWarning: invalid value encountered in scalar divide\n",
      "  z = (r_plus - mn) / se\n"
     ]
    },
    {
     "name": "stdout",
     "output_type": "stream",
     "text": [
      "Processing unit 33...\n"
     ]
    },
    {
     "name": "stderr",
     "output_type": "stream",
     "text": [
      "/opt/conda/lib/python3.10/site-packages/scipy/stats/_wilcoxon.py:172: RuntimeWarning: invalid value encountered in scalar divide\n",
      "  z = (r_plus - mn) / se\n"
     ]
    },
    {
     "name": "stdout",
     "output_type": "stream",
     "text": [
      "Processing unit 34...\n"
     ]
    },
    {
     "name": "stderr",
     "output_type": "stream",
     "text": [
      "/opt/conda/lib/python3.10/site-packages/scipy/stats/_wilcoxon.py:172: RuntimeWarning: invalid value encountered in scalar divide\n",
      "  z = (r_plus - mn) / se\n"
     ]
    },
    {
     "name": "stdout",
     "output_type": "stream",
     "text": [
      "Processing unit 35...\n",
      "Processing unit 36...\n",
      "Processing unit 37...\n",
      "Processing unit 41...\n",
      "Processing unit 42...\n"
     ]
    },
    {
     "name": "stderr",
     "output_type": "stream",
     "text": [
      "/opt/conda/lib/python3.10/site-packages/scipy/stats/_wilcoxon.py:172: RuntimeWarning: invalid value encountered in scalar divide\n",
      "  z = (r_plus - mn) / se\n"
     ]
    },
    {
     "name": "stdout",
     "output_type": "stream",
     "text": [
      "Processing unit 44...\n",
      "Processing unit 46...\n",
      "Processing unit 47...\n",
      "Processing unit 48...\n",
      "Processing unit 49...\n",
      "Processing unit 50...\n",
      "Processing unit 51...\n"
     ]
    },
    {
     "name": "stderr",
     "output_type": "stream",
     "text": [
      "/opt/conda/lib/python3.10/site-packages/scipy/stats/_wilcoxon.py:172: RuntimeWarning: invalid value encountered in scalar divide\n",
      "  z = (r_plus - mn) / se\n"
     ]
    },
    {
     "name": "stdout",
     "output_type": "stream",
     "text": [
      "Processing unit 54...\n",
      "Processing unit 55...\n",
      "Processing unit 56...\n",
      "Processing unit 61...\n",
      "Processing unit 62...\n",
      "Processing unit 63...\n",
      "Processing unit 64...\n",
      "Processing unit 65...\n"
     ]
    },
    {
     "name": "stderr",
     "output_type": "stream",
     "text": [
      "/opt/conda/lib/python3.10/site-packages/scipy/stats/_wilcoxon.py:172: RuntimeWarning: invalid value encountered in scalar divide\n",
      "  z = (r_plus - mn) / se\n"
     ]
    },
    {
     "name": "stdout",
     "output_type": "stream",
     "text": [
      "Processing unit 69...\n",
      "Processing unit 71...\n"
     ]
    },
    {
     "name": "stderr",
     "output_type": "stream",
     "text": [
      "/opt/conda/lib/python3.10/site-packages/scipy/stats/_wilcoxon.py:172: RuntimeWarning: invalid value encountered in scalar divide\n",
      "  z = (r_plus - mn) / se\n"
     ]
    },
    {
     "name": "stdout",
     "output_type": "stream",
     "text": [
      "Processing unit 74...\n",
      "Processing unit 75...\n"
     ]
    },
    {
     "name": "stderr",
     "output_type": "stream",
     "text": [
      "/opt/conda/lib/python3.10/site-packages/scipy/stats/_wilcoxon.py:172: RuntimeWarning: invalid value encountered in scalar divide\n",
      "  z = (r_plus - mn) / se\n"
     ]
    },
    {
     "name": "stdout",
     "output_type": "stream",
     "text": [
      "Processing unit 76...\n"
     ]
    },
    {
     "name": "stderr",
     "output_type": "stream",
     "text": [
      "/opt/conda/lib/python3.10/site-packages/scipy/stats/_wilcoxon.py:172: RuntimeWarning: invalid value encountered in scalar divide\n",
      "  z = (r_plus - mn) / se\n"
     ]
    },
    {
     "name": "stdout",
     "output_type": "stream",
     "text": [
      "Processing unit 77...\n",
      "Processing unit 79...\n",
      "Processing unit 81...\n"
     ]
    },
    {
     "name": "stderr",
     "output_type": "stream",
     "text": [
      "/opt/conda/lib/python3.10/site-packages/scipy/stats/_wilcoxon.py:172: RuntimeWarning: invalid value encountered in scalar divide\n",
      "  z = (r_plus - mn) / se\n"
     ]
    },
    {
     "name": "stdout",
     "output_type": "stream",
     "text": [
      "Processing unit 83...\n",
      "Processing unit 109...\n",
      "Processing unit 110...\n",
      "Processing unit 112...\n",
      "Processing unit 113...\n",
      "Processing unit 115...\n",
      "Processing unit 116...\n"
     ]
    },
    {
     "name": "stderr",
     "output_type": "stream",
     "text": [
      "/opt/conda/lib/python3.10/site-packages/scipy/stats/_wilcoxon.py:172: RuntimeWarning: invalid value encountered in scalar divide\n",
      "  z = (r_plus - mn) / se\n"
     ]
    },
    {
     "name": "stdout",
     "output_type": "stream",
     "text": [
      "Processing unit 117...\n",
      "Processing unit 118...\n",
      "Processing unit 121...\n"
     ]
    },
    {
     "name": "stderr",
     "output_type": "stream",
     "text": [
      "/opt/conda/lib/python3.10/site-packages/scipy/stats/_wilcoxon.py:172: RuntimeWarning: invalid value encountered in scalar divide\n",
      "  z = (r_plus - mn) / se\n"
     ]
    },
    {
     "name": "stdout",
     "output_type": "stream",
     "text": [
      "Processing unit 122...\n",
      "Processing unit 123...\n",
      "Processing unit 126...\n"
     ]
    },
    {
     "name": "stderr",
     "output_type": "stream",
     "text": [
      "/opt/conda/lib/python3.10/site-packages/scipy/stats/_wilcoxon.py:172: RuntimeWarning: invalid value encountered in scalar divide\n",
      "  z = (r_plus - mn) / se\n"
     ]
    },
    {
     "name": "stdout",
     "output_type": "stream",
     "text": [
      "Processing unit 131...\n",
      "Processing unit 133...\n",
      "Processing unit 134...\n",
      "Processing unit 136...\n",
      "Processing unit 137...\n",
      "Processing unit 138...\n"
     ]
    },
    {
     "name": "stderr",
     "output_type": "stream",
     "text": [
      "/opt/conda/lib/python3.10/site-packages/scipy/stats/_wilcoxon.py:172: RuntimeWarning: invalid value encountered in scalar divide\n",
      "  z = (r_plus - mn) / se\n"
     ]
    },
    {
     "name": "stdout",
     "output_type": "stream",
     "text": [
      "Processing unit 139...\n",
      "Processing unit 140...\n",
      "Processing unit 141...\n"
     ]
    },
    {
     "name": "stderr",
     "output_type": "stream",
     "text": [
      "/opt/conda/lib/python3.10/site-packages/scipy/stats/_wilcoxon.py:172: RuntimeWarning: invalid value encountered in scalar divide\n",
      "  z = (r_plus - mn) / se\n"
     ]
    },
    {
     "name": "stdout",
     "output_type": "stream",
     "text": [
      "Processing unit 142...\n"
     ]
    },
    {
     "name": "stderr",
     "output_type": "stream",
     "text": [
      "/opt/conda/lib/python3.10/site-packages/scipy/stats/_wilcoxon.py:172: RuntimeWarning: invalid value encountered in scalar divide\n",
      "  z = (r_plus - mn) / se\n"
     ]
    },
    {
     "name": "stdout",
     "output_type": "stream",
     "text": [
      "Processing unit 143...\n",
      "Processing unit 144...\n"
     ]
    },
    {
     "name": "stderr",
     "output_type": "stream",
     "text": [
      "/opt/conda/lib/python3.10/site-packages/scipy/stats/_wilcoxon.py:172: RuntimeWarning: invalid value encountered in scalar divide\n",
      "  z = (r_plus - mn) / se\n"
     ]
    },
    {
     "name": "stdout",
     "output_type": "stream",
     "text": [
      "Processing unit 147...\n",
      "Processing unit 151...\n"
     ]
    },
    {
     "name": "stderr",
     "output_type": "stream",
     "text": [
      "/opt/conda/lib/python3.10/site-packages/scipy/stats/_wilcoxon.py:172: RuntimeWarning: invalid value encountered in scalar divide\n",
      "  z = (r_plus - mn) / se\n"
     ]
    },
    {
     "name": "stdout",
     "output_type": "stream",
     "text": [
      "Processing unit 153...\n",
      "Processing unit 155...\n",
      "Processing unit 157...\n",
      "Processing unit 158...\n",
      "Processing unit 159...\n",
      "Processing unit 160...\n",
      "Processing unit 162...\n",
      "Processing unit 164...\n",
      "Processing unit 166...\n",
      "Processing unit 167...\n"
     ]
    },
    {
     "name": "stderr",
     "output_type": "stream",
     "text": [
      "/opt/conda/lib/python3.10/site-packages/scipy/stats/_wilcoxon.py:172: RuntimeWarning: invalid value encountered in scalar divide\n",
      "  z = (r_plus - mn) / se\n"
     ]
    },
    {
     "name": "stdout",
     "output_type": "stream",
     "text": [
      "Processing unit 169...\n",
      "Processing unit 171...\n"
     ]
    },
    {
     "name": "stderr",
     "output_type": "stream",
     "text": [
      "/opt/conda/lib/python3.10/site-packages/scipy/stats/_wilcoxon.py:172: RuntimeWarning: invalid value encountered in scalar divide\n",
      "  z = (r_plus - mn) / se\n"
     ]
    },
    {
     "name": "stdout",
     "output_type": "stream",
     "text": [
      "Processing unit 175...\n",
      "Processing unit 178...\n",
      "Processing unit 179...\n",
      "Processing unit 180...\n"
     ]
    },
    {
     "name": "stderr",
     "output_type": "stream",
     "text": [
      "/opt/conda/lib/python3.10/site-packages/scipy/stats/_wilcoxon.py:172: RuntimeWarning: invalid value encountered in scalar divide\n",
      "  z = (r_plus - mn) / se\n"
     ]
    },
    {
     "name": "stdout",
     "output_type": "stream",
     "text": [
      "Processing unit 182...\n",
      "Processing unit 184...\n"
     ]
    },
    {
     "name": "stderr",
     "output_type": "stream",
     "text": [
      "/opt/conda/lib/python3.10/site-packages/scipy/stats/_wilcoxon.py:172: RuntimeWarning: invalid value encountered in scalar divide\n",
      "  z = (r_plus - mn) / se\n"
     ]
    },
    {
     "name": "stdout",
     "output_type": "stream",
     "text": [
      "Processing unit 186...\n"
     ]
    },
    {
     "name": "stderr",
     "output_type": "stream",
     "text": [
      "/opt/conda/lib/python3.10/site-packages/scipy/stats/_wilcoxon.py:172: RuntimeWarning: invalid value encountered in scalar divide\n",
      "  z = (r_plus - mn) / se\n"
     ]
    },
    {
     "name": "stdout",
     "output_type": "stream",
     "text": [
      "Processing unit 190...\n"
     ]
    },
    {
     "name": "stderr",
     "output_type": "stream",
     "text": [
      "/opt/conda/lib/python3.10/site-packages/scipy/stats/_wilcoxon.py:172: RuntimeWarning: invalid value encountered in scalar divide\n",
      "  z = (r_plus - mn) / se\n"
     ]
    },
    {
     "name": "stdout",
     "output_type": "stream",
     "text": [
      "Processing unit 191...\n"
     ]
    },
    {
     "name": "stderr",
     "output_type": "stream",
     "text": [
      "/opt/conda/lib/python3.10/site-packages/scipy/stats/_wilcoxon.py:172: RuntimeWarning: invalid value encountered in scalar divide\n",
      "  z = (r_plus - mn) / se\n"
     ]
    },
    {
     "name": "stdout",
     "output_type": "stream",
     "text": [
      "Processing unit 192...\n"
     ]
    },
    {
     "name": "stderr",
     "output_type": "stream",
     "text": [
      "/opt/conda/lib/python3.10/site-packages/scipy/stats/_wilcoxon.py:172: RuntimeWarning: invalid value encountered in scalar divide\n",
      "  z = (r_plus - mn) / se\n",
      "/opt/conda/lib/python3.10/site-packages/scipy/stats/_wilcoxon.py:172: RuntimeWarning: invalid value encountered in scalar divide\n",
      "  z = (r_plus - mn) / se\n"
     ]
    },
    {
     "name": "stdout",
     "output_type": "stream",
     "text": [
      "Processing unit 193...\n",
      "Processing unit 194...\n"
     ]
    },
    {
     "name": "stderr",
     "output_type": "stream",
     "text": [
      "/opt/conda/lib/python3.10/site-packages/scipy/stats/_wilcoxon.py:172: RuntimeWarning: invalid value encountered in scalar divide\n",
      "  z = (r_plus - mn) / se\n"
     ]
    },
    {
     "name": "stdout",
     "output_type": "stream",
     "text": [
      "Processing unit 195...\n",
      "Processing unit 196...\n",
      "Processing unit 197...\n"
     ]
    },
    {
     "name": "stderr",
     "output_type": "stream",
     "text": [
      "/opt/conda/lib/python3.10/site-packages/scipy/stats/_wilcoxon.py:172: RuntimeWarning: invalid value encountered in scalar divide\n",
      "  z = (r_plus - mn) / se\n"
     ]
    },
    {
     "name": "stdout",
     "output_type": "stream",
     "text": [
      "Processing unit 198...\n"
     ]
    },
    {
     "name": "stderr",
     "output_type": "stream",
     "text": [
      "/opt/conda/lib/python3.10/site-packages/scipy/stats/_wilcoxon.py:172: RuntimeWarning: invalid value encountered in scalar divide\n",
      "  z = (r_plus - mn) / se\n"
     ]
    },
    {
     "name": "stdout",
     "output_type": "stream",
     "text": [
      "Processing unit 199...\n",
      "Processing unit 204...\n",
      "Processing unit 205...\n"
     ]
    },
    {
     "name": "stderr",
     "output_type": "stream",
     "text": [
      "/opt/conda/lib/python3.10/site-packages/scipy/stats/_wilcoxon.py:172: RuntimeWarning: invalid value encountered in scalar divide\n",
      "  z = (r_plus - mn) / se\n"
     ]
    },
    {
     "name": "stdout",
     "output_type": "stream",
     "text": [
      "Processing unit 206...\n"
     ]
    },
    {
     "name": "stderr",
     "output_type": "stream",
     "text": [
      "/opt/conda/lib/python3.10/site-packages/scipy/stats/_wilcoxon.py:172: RuntimeWarning: invalid value encountered in scalar divide\n",
      "  z = (r_plus - mn) / se\n"
     ]
    },
    {
     "name": "stdout",
     "output_type": "stream",
     "text": [
      "Processing unit 207...\n"
     ]
    },
    {
     "name": "stderr",
     "output_type": "stream",
     "text": [
      "/opt/conda/lib/python3.10/site-packages/scipy/stats/_wilcoxon.py:172: RuntimeWarning: invalid value encountered in scalar divide\n",
      "  z = (r_plus - mn) / se\n"
     ]
    },
    {
     "name": "stdout",
     "output_type": "stream",
     "text": [
      "Processing unit 208...\n",
      "Processing unit 211...\n"
     ]
    },
    {
     "name": "stderr",
     "output_type": "stream",
     "text": [
      "/opt/conda/lib/python3.10/site-packages/scipy/stats/_wilcoxon.py:172: RuntimeWarning: invalid value encountered in scalar divide\n",
      "  z = (r_plus - mn) / se\n"
     ]
    },
    {
     "name": "stdout",
     "output_type": "stream",
     "text": [
      "Processing unit 212...\n"
     ]
    },
    {
     "name": "stderr",
     "output_type": "stream",
     "text": [
      "/opt/conda/lib/python3.10/site-packages/scipy/stats/_wilcoxon.py:172: RuntimeWarning: invalid value encountered in scalar divide\n",
      "  z = (r_plus - mn) / se\n"
     ]
    },
    {
     "name": "stdout",
     "output_type": "stream",
     "text": [
      "Processing unit 214...\n",
      "Processing unit 217...\n"
     ]
    },
    {
     "name": "stderr",
     "output_type": "stream",
     "text": [
      "/opt/conda/lib/python3.10/site-packages/scipy/stats/_wilcoxon.py:172: RuntimeWarning: invalid value encountered in scalar divide\n",
      "  z = (r_plus - mn) / se\n"
     ]
    },
    {
     "name": "stdout",
     "output_type": "stream",
     "text": [
      "Processing unit 218...\n"
     ]
    },
    {
     "name": "stderr",
     "output_type": "stream",
     "text": [
      "/opt/conda/lib/python3.10/site-packages/scipy/stats/_wilcoxon.py:172: RuntimeWarning: invalid value encountered in scalar divide\n",
      "  z = (r_plus - mn) / se\n"
     ]
    },
    {
     "name": "stdout",
     "output_type": "stream",
     "text": [
      "Processing unit 223...\n",
      "Processing unit 229...\n",
      "Processing unit 231...\n",
      "Processing unit 232...\n",
      "Processing unit 236...\n"
     ]
    },
    {
     "name": "stderr",
     "output_type": "stream",
     "text": [
      "/opt/conda/lib/python3.10/site-packages/scipy/stats/_wilcoxon.py:172: RuntimeWarning: invalid value encountered in scalar divide\n",
      "  z = (r_plus - mn) / se\n"
     ]
    },
    {
     "name": "stdout",
     "output_type": "stream",
     "text": [
      "Processing unit 237...\n",
      "Processing unit 238...\n"
     ]
    },
    {
     "name": "stderr",
     "output_type": "stream",
     "text": [
      "/opt/conda/lib/python3.10/site-packages/scipy/stats/_wilcoxon.py:172: RuntimeWarning: invalid value encountered in scalar divide\n",
      "  z = (r_plus - mn) / se\n"
     ]
    },
    {
     "name": "stdout",
     "output_type": "stream",
     "text": [
      "Processing unit 240...\n",
      "Processing unit 242...\n",
      "Processing unit 243...\n",
      "Processing unit 244...\n",
      "Processing unit 249...\n"
     ]
    },
    {
     "name": "stderr",
     "output_type": "stream",
     "text": [
      "/opt/conda/lib/python3.10/site-packages/scipy/stats/_wilcoxon.py:172: RuntimeWarning: invalid value encountered in scalar divide\n",
      "  z = (r_plus - mn) / se\n"
     ]
    },
    {
     "name": "stdout",
     "output_type": "stream",
     "text": [
      "Processing unit 254...\n"
     ]
    },
    {
     "name": "stderr",
     "output_type": "stream",
     "text": [
      "/opt/conda/lib/python3.10/site-packages/scipy/stats/_wilcoxon.py:172: RuntimeWarning: invalid value encountered in scalar divide\n",
      "  z = (r_plus - mn) / se\n"
     ]
    },
    {
     "name": "stdout",
     "output_type": "stream",
     "text": [
      "Processing unit 255...\n"
     ]
    },
    {
     "name": "stderr",
     "output_type": "stream",
     "text": [
      "/opt/conda/lib/python3.10/site-packages/scipy/stats/_wilcoxon.py:172: RuntimeWarning: invalid value encountered in scalar divide\n",
      "  z = (r_plus - mn) / se\n"
     ]
    },
    {
     "name": "stdout",
     "output_type": "stream",
     "text": [
      "Processing unit 258...\n"
     ]
    },
    {
     "name": "stderr",
     "output_type": "stream",
     "text": [
      "/opt/conda/lib/python3.10/site-packages/scipy/stats/_wilcoxon.py:172: RuntimeWarning: invalid value encountered in scalar divide\n",
      "  z = (r_plus - mn) / se\n"
     ]
    },
    {
     "name": "stdout",
     "output_type": "stream",
     "text": [
      "Processing unit 263...\n"
     ]
    },
    {
     "name": "stderr",
     "output_type": "stream",
     "text": [
      "/opt/conda/lib/python3.10/site-packages/scipy/stats/_wilcoxon.py:172: RuntimeWarning: invalid value encountered in scalar divide\n",
      "  z = (r_plus - mn) / se\n"
     ]
    },
    {
     "name": "stdout",
     "output_type": "stream",
     "text": [
      "Processing unit 266...\n"
     ]
    },
    {
     "name": "stderr",
     "output_type": "stream",
     "text": [
      "/opt/conda/lib/python3.10/site-packages/scipy/stats/_wilcoxon.py:172: RuntimeWarning: invalid value encountered in scalar divide\n",
      "  z = (r_plus - mn) / se\n"
     ]
    },
    {
     "name": "stdout",
     "output_type": "stream",
     "text": [
      "Processing unit 267...\n"
     ]
    },
    {
     "name": "stderr",
     "output_type": "stream",
     "text": [
      "/opt/conda/lib/python3.10/site-packages/scipy/stats/_wilcoxon.py:172: RuntimeWarning: invalid value encountered in scalar divide\n",
      "  z = (r_plus - mn) / se\n"
     ]
    },
    {
     "name": "stdout",
     "output_type": "stream",
     "text": [
      "Processing unit 268...\n"
     ]
    },
    {
     "name": "stderr",
     "output_type": "stream",
     "text": [
      "/opt/conda/lib/python3.10/site-packages/scipy/stats/_wilcoxon.py:172: RuntimeWarning: invalid value encountered in scalar divide\n",
      "  z = (r_plus - mn) / se\n"
     ]
    },
    {
     "name": "stdout",
     "output_type": "stream",
     "text": [
      "Processing unit 269...\n",
      "Processing unit 270...\n"
     ]
    },
    {
     "name": "stderr",
     "output_type": "stream",
     "text": [
      "/opt/conda/lib/python3.10/site-packages/scipy/stats/_wilcoxon.py:172: RuntimeWarning: invalid value encountered in scalar divide\n",
      "  z = (r_plus - mn) / se\n"
     ]
    },
    {
     "name": "stdout",
     "output_type": "stream",
     "text": [
      "Processing unit 271...\n",
      "Processing unit 273...\n"
     ]
    },
    {
     "name": "stderr",
     "output_type": "stream",
     "text": [
      "/opt/conda/lib/python3.10/site-packages/scipy/stats/_wilcoxon.py:172: RuntimeWarning: invalid value encountered in scalar divide\n",
      "  z = (r_plus - mn) / se\n"
     ]
    },
    {
     "name": "stdout",
     "output_type": "stream",
     "text": [
      "Processing unit 277...\n"
     ]
    },
    {
     "name": "stderr",
     "output_type": "stream",
     "text": [
      "/opt/conda/lib/python3.10/site-packages/scipy/stats/_wilcoxon.py:172: RuntimeWarning: invalid value encountered in scalar divide\n",
      "  z = (r_plus - mn) / se\n"
     ]
    },
    {
     "name": "stdout",
     "output_type": "stream",
     "text": [
      "Processing unit 278...\n"
     ]
    },
    {
     "name": "stderr",
     "output_type": "stream",
     "text": [
      "/opt/conda/lib/python3.10/site-packages/scipy/stats/_wilcoxon.py:172: RuntimeWarning: invalid value encountered in scalar divide\n",
      "  z = (r_plus - mn) / se\n"
     ]
    },
    {
     "name": "stdout",
     "output_type": "stream",
     "text": [
      "Processing unit 282...\n",
      "Processing unit 283...\n"
     ]
    },
    {
     "data": {
      "text/html": [
       "<div>\n",
       "<style scoped>\n",
       "    .dataframe tbody tr th:only-of-type {\n",
       "        vertical-align: middle;\n",
       "    }\n",
       "\n",
       "    .dataframe tbody tr th {\n",
       "        vertical-align: top;\n",
       "    }\n",
       "\n",
       "    .dataframe thead th {\n",
       "        text-align: right;\n",
       "    }\n",
       "</style>\n",
       "<table border=\"1\" class=\"dataframe\">\n",
       "  <thead>\n",
       "    <tr style=\"text-align: right;\">\n",
       "      <th></th>\n",
       "      <th>unit_id</th>\n",
       "      <th>power</th>\n",
       "      <th>site</th>\n",
       "      <th>freq</th>\n",
       "      <th>pre_post</th>\n",
       "      <th>p_unit_condition</th>\n",
       "      <th>p_sig_count</th>\n",
       "    </tr>\n",
       "  </thead>\n",
       "  <tbody>\n",
       "    <tr>\n",
       "      <th>0</th>\n",
       "      <td>4</td>\n",
       "      <td>50</td>\n",
       "      <td>surface_LC</td>\n",
       "      <td>5</td>\n",
       "      <td>pre</td>\n",
       "      <td>[0.838188625026738, 0.057394761418403314, 0.50...</td>\n",
       "      <td>0</td>\n",
       "    </tr>\n",
       "    <tr>\n",
       "      <th>1</th>\n",
       "      <td>4</td>\n",
       "      <td>50</td>\n",
       "      <td>surface_LC</td>\n",
       "      <td>5</td>\n",
       "      <td>post</td>\n",
       "      <td>[0.6142946646634824, 0.7815112949987133, 0.670...</td>\n",
       "      <td>0</td>\n",
       "    </tr>\n",
       "    <tr>\n",
       "      <th>2</th>\n",
       "      <td>4</td>\n",
       "      <td>30</td>\n",
       "      <td>surface_LC</td>\n",
       "      <td>5</td>\n",
       "      <td>pre</td>\n",
       "      <td>[0.6417580893423203, 0.863791257068895, 0.6250...</td>\n",
       "      <td>0</td>\n",
       "    </tr>\n",
       "    <tr>\n",
       "      <th>3</th>\n",
       "      <td>4</td>\n",
       "      <td>30</td>\n",
       "      <td>surface_LC</td>\n",
       "      <td>5</td>\n",
       "      <td>post</td>\n",
       "      <td>[0.10829365589900912, 0.18229232651282867, 0.6...</td>\n",
       "      <td>0</td>\n",
       "    </tr>\n",
       "    <tr>\n",
       "      <th>4</th>\n",
       "      <td>4</td>\n",
       "      <td>10</td>\n",
       "      <td>surface_LC</td>\n",
       "      <td>5</td>\n",
       "      <td>post</td>\n",
       "      <td>[0.7702877264736667, 0.9269603529511417, 0.025...</td>\n",
       "      <td>1</td>\n",
       "    </tr>\n",
       "    <tr>\n",
       "      <th>...</th>\n",
       "      <td>...</td>\n",
       "      <td>...</td>\n",
       "      <td>...</td>\n",
       "      <td>...</td>\n",
       "      <td>...</td>\n",
       "      <td>...</td>\n",
       "      <td>...</td>\n",
       "    </tr>\n",
       "    <tr>\n",
       "      <th>954</th>\n",
       "      <td>283</td>\n",
       "      <td>30</td>\n",
       "      <td>surface_LC</td>\n",
       "      <td>5</td>\n",
       "      <td>pre</td>\n",
       "      <td>[0.00017533020440085103, 9.599730148021778e-05...</td>\n",
       "      <td>5</td>\n",
       "    </tr>\n",
       "    <tr>\n",
       "      <th>955</th>\n",
       "      <td>283</td>\n",
       "      <td>30</td>\n",
       "      <td>surface_LC</td>\n",
       "      <td>5</td>\n",
       "      <td>post</td>\n",
       "      <td>[0.00017614138090729764, 7.934772672716567e-05...</td>\n",
       "      <td>5</td>\n",
       "    </tr>\n",
       "    <tr>\n",
       "      <th>956</th>\n",
       "      <td>283</td>\n",
       "      <td>10</td>\n",
       "      <td>surface_LC</td>\n",
       "      <td>5</td>\n",
       "      <td>post</td>\n",
       "      <td>[4.809547412854571e-05, 4.7894534681727224e-05...</td>\n",
       "      <td>5</td>\n",
       "    </tr>\n",
       "    <tr>\n",
       "      <th>957</th>\n",
       "      <td>283</td>\n",
       "      <td>20</td>\n",
       "      <td>surface_LC</td>\n",
       "      <td>5</td>\n",
       "      <td>post</td>\n",
       "      <td>[3.6597037477988786e-05, 3.833012152637274e-05...</td>\n",
       "      <td>5</td>\n",
       "    </tr>\n",
       "    <tr>\n",
       "      <th>958</th>\n",
       "      <td>283</td>\n",
       "      <td>40</td>\n",
       "      <td>surface_LC</td>\n",
       "      <td>5</td>\n",
       "      <td>post</td>\n",
       "      <td>[5.0217328927346004e-05, 5.624201509968444e-05...</td>\n",
       "      <td>5</td>\n",
       "    </tr>\n",
       "  </tbody>\n",
       "</table>\n",
       "<p>959 rows × 7 columns</p>\n",
       "</div>"
      ],
      "text/plain": [
       "     unit_id  power        site  freq pre_post  \\\n",
       "0          4     50  surface_LC     5      pre   \n",
       "1          4     50  surface_LC     5     post   \n",
       "2          4     30  surface_LC     5      pre   \n",
       "3          4     30  surface_LC     5     post   \n",
       "4          4     10  surface_LC     5     post   \n",
       "..       ...    ...         ...   ...      ...   \n",
       "954      283     30  surface_LC     5      pre   \n",
       "955      283     30  surface_LC     5     post   \n",
       "956      283     10  surface_LC     5     post   \n",
       "957      283     20  surface_LC     5     post   \n",
       "958      283     40  surface_LC     5     post   \n",
       "\n",
       "                                      p_unit_condition  p_sig_count  \n",
       "0    [0.838188625026738, 0.057394761418403314, 0.50...            0  \n",
       "1    [0.6142946646634824, 0.7815112949987133, 0.670...            0  \n",
       "2    [0.6417580893423203, 0.863791257068895, 0.6250...            0  \n",
       "3    [0.10829365589900912, 0.18229232651282867, 0.6...            0  \n",
       "4    [0.7702877264736667, 0.9269603529511417, 0.025...            1  \n",
       "..                                                 ...          ...  \n",
       "954  [0.00017533020440085103, 9.599730148021778e-05...            5  \n",
       "955  [0.00017614138090729764, 7.934772672716567e-05...            5  \n",
       "956  [4.809547412854571e-05, 4.7894534681727224e-05...            5  \n",
       "957  [3.6597037477988786e-05, 3.833012152637274e-05...            5  \n",
       "958  [5.0217328927346004e-05, 5.624201509968444e-05...            5  \n",
       "\n",
       "[959 rows x 7 columns]"
      ]
     },
     "execution_count": 65,
     "metadata": {},
     "output_type": "execute_result"
    }
   ],
   "source": [
    "cal_opto_sigs('behavior_754897_2025-03-13_11-20-42','curated')"
   ]
  },
  {
   "cell_type": "code",
   "execution_count": null,
   "metadata": {},
   "outputs": [],
   "source": [
    "session_assets = pd.read_csv('/root/capsule/code/data_management/session_assets.csv')\n",
    "session_list = session_assets['session_id']\n",
    "probe_list = session_assets['probe']\n",
    "probe_list = [probe for probe, session in zip(probe_list, session_list) if isinstance(session, str)]\n",
    "session_list = [session for session in session_list if isinstance(session, str)]    \n",
    "from joblib import Parallel, delayed\n",
    "data_type = 'curated'\n",
    "def process(session, data_type): \n",
    "    print(f'Starting {session}')\n",
    "    session_dir = session_dirs(session)\n",
    "    # if os.path.exists(os.path.join(session_dir['beh_fig_dir'], f'{session}.nwb')):\n",
    "    print(session_dir[f'curated_dir_{data_type}'])\n",
    "    if session_dir[f'curated_dir_{data_type}'] is not None:\n",
    "        try:\n",
    "            # plot_ephys_probe(session, data_type=data_type, probe=probe) \n",
    "            cal_opto_sigs(session, data_type)\n",
    "            plt.close('all')\n",
    "            print(f'Finished {session}')\n",
    "        except:\n",
    "            print(f'Error processing {session}')\n",
    "            plt.close('all')\n",
    "    else: \n",
    "        print(f'No curated data found for {session}') \n",
    "    # elif session\\_dir['curated_dir_raw'] is not None:\n",
    "    #     data_type = 'raw' \n",
    "    #     opto_tagging_df_sess = opto_plotting_session(session, data_type, target, resp_thresh=resp_thresh, lat_thresh=lat_thresh, target_unit_ids= None, plot = True, save=True)\n",
    "Parallel(n_jobs=-8)(\n",
    "    delayed(process)(session, data_type) \n",
    "    for session in session_list\n",
    ")"
   ]
  },
  {
   "cell_type": "code",
   "execution_count": 68,
   "metadata": {},
   "outputs": [],
   "source": [
    "class load_opto_sig():\n",
    "    def __init__(self, session, data_type):\n",
    "        self.session = session\n",
    "        self.data_type = data_type\n",
    "        self.opto_sigs = self.load_opto_sigs()\n",
    "\n",
    "    def load_opto_sigs(self):\n",
    "        opto_sigs_file = os.path.join(session_dirs(self.session)[f'opto_dir_{self.data_type}'], f'{self.session}_opto_sigs.pkl')\n",
    "        if os.path.exists(opto_sigs_file):\n",
    "            with open(opto_sigs_file, 'rb') as f:\n",
    "                return pickle.load(f)\n",
    "        else:\n",
    "            print(f'No opto sigs found for {self.session}')\n",
    "            return None\n",
    "\n",
    "    def get_opto_sigs(self, unit):\n",
    "        if self.opto_sigs is not None:\n",
    "            unit_opto_sigs = self.opto_sigs[self.opto_sigs['unit_id'] == unit]\n",
    "            if not unit_opto_sigs.empty:\n",
    "                return unit_opto_sigs\n",
    "            else:\n",
    "                print(f'No opto sigs found for unit {unit} in session {self.session}')\n",
    "                return None\n",
    "        else:\n",
    "            print(f'No opto sigs loaded for session {self.session}')\n",
    "            return None"
   ]
  },
  {
   "cell_type": "code",
   "execution_count": 71,
   "metadata": {},
   "outputs": [
    {
     "data": {
      "text/html": [
       "<div>\n",
       "<style scoped>\n",
       "    .dataframe tbody tr th:only-of-type {\n",
       "        vertical-align: middle;\n",
       "    }\n",
       "\n",
       "    .dataframe tbody tr th {\n",
       "        vertical-align: top;\n",
       "    }\n",
       "\n",
       "    .dataframe thead th {\n",
       "        text-align: right;\n",
       "    }\n",
       "</style>\n",
       "<table border=\"1\" class=\"dataframe\">\n",
       "  <thead>\n",
       "    <tr style=\"text-align: right;\">\n",
       "      <th></th>\n",
       "      <th>unit_id</th>\n",
       "      <th>power</th>\n",
       "      <th>site</th>\n",
       "      <th>freq</th>\n",
       "      <th>pre_post</th>\n",
       "      <th>p_unit_condition</th>\n",
       "      <th>p_sig_count</th>\n",
       "    </tr>\n",
       "  </thead>\n",
       "  <tbody>\n",
       "    <tr>\n",
       "      <th>7</th>\n",
       "      <td>10</td>\n",
       "      <td>50</td>\n",
       "      <td>surface_LC</td>\n",
       "      <td>5</td>\n",
       "      <td>pre</td>\n",
       "      <td>[3.808961977046787e-05, 0.00014159510770021393...</td>\n",
       "      <td>5</td>\n",
       "    </tr>\n",
       "    <tr>\n",
       "      <th>8</th>\n",
       "      <td>10</td>\n",
       "      <td>50</td>\n",
       "      <td>surface_LC</td>\n",
       "      <td>5</td>\n",
       "      <td>post</td>\n",
       "      <td>[0.008299215995280766, 0.0004087524092441004, ...</td>\n",
       "      <td>5</td>\n",
       "    </tr>\n",
       "    <tr>\n",
       "      <th>9</th>\n",
       "      <td>10</td>\n",
       "      <td>30</td>\n",
       "      <td>surface_LC</td>\n",
       "      <td>5</td>\n",
       "      <td>pre</td>\n",
       "      <td>[0.0028375448887923154, 0.03582047350421736, 0...</td>\n",
       "      <td>5</td>\n",
       "    </tr>\n",
       "    <tr>\n",
       "      <th>10</th>\n",
       "      <td>10</td>\n",
       "      <td>30</td>\n",
       "      <td>surface_LC</td>\n",
       "      <td>5</td>\n",
       "      <td>post</td>\n",
       "      <td>[0.0047315429964332155, 6.887215595255096e-05,...</td>\n",
       "      <td>5</td>\n",
       "    </tr>\n",
       "    <tr>\n",
       "      <th>11</th>\n",
       "      <td>10</td>\n",
       "      <td>10</td>\n",
       "      <td>surface_LC</td>\n",
       "      <td>5</td>\n",
       "      <td>post</td>\n",
       "      <td>[0.806968367170738, 0.27257111883252894, 0.045...</td>\n",
       "      <td>3</td>\n",
       "    </tr>\n",
       "    <tr>\n",
       "      <th>12</th>\n",
       "      <td>10</td>\n",
       "      <td>20</td>\n",
       "      <td>surface_LC</td>\n",
       "      <td>5</td>\n",
       "      <td>post</td>\n",
       "      <td>[0.05500883362926572, 0.006492857745083879, 0....</td>\n",
       "      <td>4</td>\n",
       "    </tr>\n",
       "    <tr>\n",
       "      <th>13</th>\n",
       "      <td>10</td>\n",
       "      <td>40</td>\n",
       "      <td>surface_LC</td>\n",
       "      <td>5</td>\n",
       "      <td>post</td>\n",
       "      <td>[0.00010417979413217688, 0.0001438636130358712...</td>\n",
       "      <td>5</td>\n",
       "    </tr>\n",
       "  </tbody>\n",
       "</table>\n",
       "</div>"
      ],
      "text/plain": [
       "    unit_id  power        site  freq pre_post  \\\n",
       "7        10     50  surface_LC     5      pre   \n",
       "8        10     50  surface_LC     5     post   \n",
       "9        10     30  surface_LC     5      pre   \n",
       "10       10     30  surface_LC     5     post   \n",
       "11       10     10  surface_LC     5     post   \n",
       "12       10     20  surface_LC     5     post   \n",
       "13       10     40  surface_LC     5     post   \n",
       "\n",
       "                                     p_unit_condition  p_sig_count  \n",
       "7   [3.808961977046787e-05, 0.00014159510770021393...            5  \n",
       "8   [0.008299215995280766, 0.0004087524092441004, ...            5  \n",
       "9   [0.0028375448887923154, 0.03582047350421736, 0...            5  \n",
       "10  [0.0047315429964332155, 6.887215595255096e-05,...            5  \n",
       "11  [0.806968367170738, 0.27257111883252894, 0.045...            3  \n",
       "12  [0.05500883362926572, 0.006492857745083879, 0....            4  \n",
       "13  [0.00010417979413217688, 0.0001438636130358712...            5  "
      ]
     },
     "execution_count": 71,
     "metadata": {},
     "output_type": "execute_result"
    }
   ],
   "source": [
    "opto_sigs = load_opto_sig('behavior_754897_2025-03-13_11-20-42', 'curated')\n",
    "curr_unit_sigs = opto_sigs.get_opto_sigs(10)\n",
    "curr_unit_sigs"
   ]
  },
  {
   "cell_type": "code",
   "execution_count": 73,
   "metadata": {},
   "outputs": [
    {
     "data": {
      "text/html": [
       "<div>\n",
       "<style scoped>\n",
       "    .dataframe tbody tr th:only-of-type {\n",
       "        vertical-align: middle;\n",
       "    }\n",
       "\n",
       "    .dataframe tbody tr th {\n",
       "        vertical-align: top;\n",
       "    }\n",
       "\n",
       "    .dataframe thead th {\n",
       "        text-align: right;\n",
       "    }\n",
       "</style>\n",
       "<table border=\"1\" class=\"dataframe\">\n",
       "  <thead>\n",
       "    <tr style=\"text-align: right;\">\n",
       "      <th></th>\n",
       "      <th>unit_id</th>\n",
       "      <th>resp_p</th>\n",
       "      <th>resp_p_bl</th>\n",
       "      <th>resp_lat</th>\n",
       "      <th>powers</th>\n",
       "      <th>sites</th>\n",
       "      <th>num_pulses</th>\n",
       "      <th>durations</th>\n",
       "      <th>freqs</th>\n",
       "      <th>stim_times</th>\n",
       "      <th>opto_pass</th>\n",
       "      <th>mean_p</th>\n",
       "      <th>euclidean_norm</th>\n",
       "      <th>correlation</th>\n",
       "    </tr>\n",
       "  </thead>\n",
       "  <tbody>\n",
       "    <tr>\n",
       "      <th>56</th>\n",
       "      <td>10</td>\n",
       "      <td>0.40</td>\n",
       "      <td>0.305467</td>\n",
       "      <td>0.017459</td>\n",
       "      <td>20</td>\n",
       "      <td>surface_LC</td>\n",
       "      <td>5</td>\n",
       "      <td>4</td>\n",
       "      <td>5</td>\n",
       "      <td>post</td>\n",
       "      <td>True</td>\n",
       "      <td>0.175467</td>\n",
       "      <td>0.190139</td>\n",
       "      <td>0.982910</td>\n",
       "    </tr>\n",
       "    <tr>\n",
       "      <th>57</th>\n",
       "      <td>10</td>\n",
       "      <td>0.50</td>\n",
       "      <td>0.409505</td>\n",
       "      <td>0.015760</td>\n",
       "      <td>30</td>\n",
       "      <td>surface_LC</td>\n",
       "      <td>5</td>\n",
       "      <td>4</td>\n",
       "      <td>5</td>\n",
       "      <td>pre</td>\n",
       "      <td>True</td>\n",
       "      <td>0.302486</td>\n",
       "      <td>0.135288</td>\n",
       "      <td>0.986911</td>\n",
       "    </tr>\n",
       "    <tr>\n",
       "      <th>58</th>\n",
       "      <td>10</td>\n",
       "      <td>0.55</td>\n",
       "      <td>0.455467</td>\n",
       "      <td>0.016305</td>\n",
       "      <td>30</td>\n",
       "      <td>surface_LC</td>\n",
       "      <td>5</td>\n",
       "      <td>4</td>\n",
       "      <td>5</td>\n",
       "      <td>post</td>\n",
       "      <td>True</td>\n",
       "      <td>0.302486</td>\n",
       "      <td>0.151615</td>\n",
       "      <td>0.986995</td>\n",
       "    </tr>\n",
       "    <tr>\n",
       "      <th>59</th>\n",
       "      <td>10</td>\n",
       "      <td>0.50</td>\n",
       "      <td>0.405467</td>\n",
       "      <td>0.016863</td>\n",
       "      <td>30</td>\n",
       "      <td>surface_LC</td>\n",
       "      <td>5</td>\n",
       "      <td>4</td>\n",
       "      <td>5</td>\n",
       "      <td>post</td>\n",
       "      <td>True</td>\n",
       "      <td>0.302486</td>\n",
       "      <td>0.151615</td>\n",
       "      <td>0.986995</td>\n",
       "    </tr>\n",
       "    <tr>\n",
       "      <th>60</th>\n",
       "      <td>10</td>\n",
       "      <td>0.50</td>\n",
       "      <td>0.405467</td>\n",
       "      <td>0.013983</td>\n",
       "      <td>30</td>\n",
       "      <td>surface_LC</td>\n",
       "      <td>5</td>\n",
       "      <td>4</td>\n",
       "      <td>5</td>\n",
       "      <td>post</td>\n",
       "      <td>True</td>\n",
       "      <td>0.302486</td>\n",
       "      <td>0.151615</td>\n",
       "      <td>0.986995</td>\n",
       "    </tr>\n",
       "    <tr>\n",
       "      <th>61</th>\n",
       "      <td>10</td>\n",
       "      <td>0.45</td>\n",
       "      <td>0.355467</td>\n",
       "      <td>0.016462</td>\n",
       "      <td>30</td>\n",
       "      <td>surface_LC</td>\n",
       "      <td>5</td>\n",
       "      <td>4</td>\n",
       "      <td>5</td>\n",
       "      <td>post</td>\n",
       "      <td>True</td>\n",
       "      <td>0.302486</td>\n",
       "      <td>0.151615</td>\n",
       "      <td>0.986995</td>\n",
       "    </tr>\n",
       "    <tr>\n",
       "      <th>62</th>\n",
       "      <td>10</td>\n",
       "      <td>0.45</td>\n",
       "      <td>0.355467</td>\n",
       "      <td>0.013426</td>\n",
       "      <td>30</td>\n",
       "      <td>surface_LC</td>\n",
       "      <td>5</td>\n",
       "      <td>4</td>\n",
       "      <td>5</td>\n",
       "      <td>post</td>\n",
       "      <td>True</td>\n",
       "      <td>0.302486</td>\n",
       "      <td>0.151615</td>\n",
       "      <td>0.986995</td>\n",
       "    </tr>\n",
       "    <tr>\n",
       "      <th>63</th>\n",
       "      <td>10</td>\n",
       "      <td>0.70</td>\n",
       "      <td>0.605467</td>\n",
       "      <td>0.016810</td>\n",
       "      <td>40</td>\n",
       "      <td>surface_LC</td>\n",
       "      <td>5</td>\n",
       "      <td>4</td>\n",
       "      <td>5</td>\n",
       "      <td>post</td>\n",
       "      <td>True</td>\n",
       "      <td>0.455467</td>\n",
       "      <td>0.145236</td>\n",
       "      <td>0.986634</td>\n",
       "    </tr>\n",
       "    <tr>\n",
       "      <th>64</th>\n",
       "      <td>10</td>\n",
       "      <td>0.55</td>\n",
       "      <td>0.455467</td>\n",
       "      <td>0.017369</td>\n",
       "      <td>40</td>\n",
       "      <td>surface_LC</td>\n",
       "      <td>5</td>\n",
       "      <td>4</td>\n",
       "      <td>5</td>\n",
       "      <td>post</td>\n",
       "      <td>True</td>\n",
       "      <td>0.455467</td>\n",
       "      <td>0.145236</td>\n",
       "      <td>0.986634</td>\n",
       "    </tr>\n",
       "    <tr>\n",
       "      <th>65</th>\n",
       "      <td>10</td>\n",
       "      <td>0.45</td>\n",
       "      <td>0.355467</td>\n",
       "      <td>0.019567</td>\n",
       "      <td>40</td>\n",
       "      <td>surface_LC</td>\n",
       "      <td>5</td>\n",
       "      <td>4</td>\n",
       "      <td>5</td>\n",
       "      <td>post</td>\n",
       "      <td>True</td>\n",
       "      <td>0.455467</td>\n",
       "      <td>0.145236</td>\n",
       "      <td>0.986634</td>\n",
       "    </tr>\n",
       "    <tr>\n",
       "      <th>66</th>\n",
       "      <td>10</td>\n",
       "      <td>0.65</td>\n",
       "      <td>0.555467</td>\n",
       "      <td>0.018094</td>\n",
       "      <td>40</td>\n",
       "      <td>surface_LC</td>\n",
       "      <td>5</td>\n",
       "      <td>4</td>\n",
       "      <td>5</td>\n",
       "      <td>post</td>\n",
       "      <td>True</td>\n",
       "      <td>0.455467</td>\n",
       "      <td>0.145236</td>\n",
       "      <td>0.986634</td>\n",
       "    </tr>\n",
       "    <tr>\n",
       "      <th>67</th>\n",
       "      <td>10</td>\n",
       "      <td>0.40</td>\n",
       "      <td>0.305467</td>\n",
       "      <td>0.018955</td>\n",
       "      <td>40</td>\n",
       "      <td>surface_LC</td>\n",
       "      <td>5</td>\n",
       "      <td>4</td>\n",
       "      <td>5</td>\n",
       "      <td>post</td>\n",
       "      <td>True</td>\n",
       "      <td>0.455467</td>\n",
       "      <td>0.145236</td>\n",
       "      <td>0.986634</td>\n",
       "    </tr>\n",
       "    <tr>\n",
       "      <th>68</th>\n",
       "      <td>10</td>\n",
       "      <td>0.60</td>\n",
       "      <td>0.509505</td>\n",
       "      <td>0.015306</td>\n",
       "      <td>50</td>\n",
       "      <td>surface_LC</td>\n",
       "      <td>5</td>\n",
       "      <td>4</td>\n",
       "      <td>5</td>\n",
       "      <td>pre</td>\n",
       "      <td>True</td>\n",
       "      <td>0.482486</td>\n",
       "      <td>0.120720</td>\n",
       "      <td>0.991688</td>\n",
       "    </tr>\n",
       "    <tr>\n",
       "      <th>69</th>\n",
       "      <td>10</td>\n",
       "      <td>0.65</td>\n",
       "      <td>0.559505</td>\n",
       "      <td>0.018149</td>\n",
       "      <td>50</td>\n",
       "      <td>surface_LC</td>\n",
       "      <td>5</td>\n",
       "      <td>4</td>\n",
       "      <td>5</td>\n",
       "      <td>pre</td>\n",
       "      <td>True</td>\n",
       "      <td>0.482486</td>\n",
       "      <td>0.120720</td>\n",
       "      <td>0.991688</td>\n",
       "    </tr>\n",
       "    <tr>\n",
       "      <th>70</th>\n",
       "      <td>10</td>\n",
       "      <td>0.45</td>\n",
       "      <td>0.359505</td>\n",
       "      <td>0.017287</td>\n",
       "      <td>50</td>\n",
       "      <td>surface_LC</td>\n",
       "      <td>5</td>\n",
       "      <td>4</td>\n",
       "      <td>5</td>\n",
       "      <td>pre</td>\n",
       "      <td>True</td>\n",
       "      <td>0.482486</td>\n",
       "      <td>0.120720</td>\n",
       "      <td>0.991688</td>\n",
       "    </tr>\n",
       "    <tr>\n",
       "      <th>71</th>\n",
       "      <td>10</td>\n",
       "      <td>0.65</td>\n",
       "      <td>0.559505</td>\n",
       "      <td>0.017844</td>\n",
       "      <td>50</td>\n",
       "      <td>surface_LC</td>\n",
       "      <td>5</td>\n",
       "      <td>4</td>\n",
       "      <td>5</td>\n",
       "      <td>pre</td>\n",
       "      <td>True</td>\n",
       "      <td>0.482486</td>\n",
       "      <td>0.120720</td>\n",
       "      <td>0.991688</td>\n",
       "    </tr>\n",
       "    <tr>\n",
       "      <th>72</th>\n",
       "      <td>10</td>\n",
       "      <td>0.40</td>\n",
       "      <td>0.309505</td>\n",
       "      <td>0.019066</td>\n",
       "      <td>50</td>\n",
       "      <td>surface_LC</td>\n",
       "      <td>5</td>\n",
       "      <td>4</td>\n",
       "      <td>5</td>\n",
       "      <td>pre</td>\n",
       "      <td>True</td>\n",
       "      <td>0.482486</td>\n",
       "      <td>0.120720</td>\n",
       "      <td>0.991688</td>\n",
       "    </tr>\n",
       "    <tr>\n",
       "      <th>73</th>\n",
       "      <td>10</td>\n",
       "      <td>0.55</td>\n",
       "      <td>0.455467</td>\n",
       "      <td>0.015948</td>\n",
       "      <td>50</td>\n",
       "      <td>surface_LC</td>\n",
       "      <td>5</td>\n",
       "      <td>4</td>\n",
       "      <td>5</td>\n",
       "      <td>post</td>\n",
       "      <td>True</td>\n",
       "      <td>0.482486</td>\n",
       "      <td>0.145691</td>\n",
       "      <td>0.986859</td>\n",
       "    </tr>\n",
       "    <tr>\n",
       "      <th>74</th>\n",
       "      <td>10</td>\n",
       "      <td>0.65</td>\n",
       "      <td>0.555467</td>\n",
       "      <td>0.016294</td>\n",
       "      <td>50</td>\n",
       "      <td>surface_LC</td>\n",
       "      <td>5</td>\n",
       "      <td>4</td>\n",
       "      <td>5</td>\n",
       "      <td>post</td>\n",
       "      <td>True</td>\n",
       "      <td>0.482486</td>\n",
       "      <td>0.145691</td>\n",
       "      <td>0.986859</td>\n",
       "    </tr>\n",
       "    <tr>\n",
       "      <th>75</th>\n",
       "      <td>10</td>\n",
       "      <td>0.50</td>\n",
       "      <td>0.405467</td>\n",
       "      <td>0.015241</td>\n",
       "      <td>50</td>\n",
       "      <td>surface_LC</td>\n",
       "      <td>5</td>\n",
       "      <td>4</td>\n",
       "      <td>5</td>\n",
       "      <td>post</td>\n",
       "      <td>True</td>\n",
       "      <td>0.482486</td>\n",
       "      <td>0.145691</td>\n",
       "      <td>0.986859</td>\n",
       "    </tr>\n",
       "    <tr>\n",
       "      <th>76</th>\n",
       "      <td>10</td>\n",
       "      <td>0.65</td>\n",
       "      <td>0.555467</td>\n",
       "      <td>0.015984</td>\n",
       "      <td>50</td>\n",
       "      <td>surface_LC</td>\n",
       "      <td>5</td>\n",
       "      <td>4</td>\n",
       "      <td>5</td>\n",
       "      <td>post</td>\n",
       "      <td>True</td>\n",
       "      <td>0.482486</td>\n",
       "      <td>0.145691</td>\n",
       "      <td>0.986859</td>\n",
       "    </tr>\n",
       "    <tr>\n",
       "      <th>77</th>\n",
       "      <td>10</td>\n",
       "      <td>0.65</td>\n",
       "      <td>0.555467</td>\n",
       "      <td>0.014851</td>\n",
       "      <td>50</td>\n",
       "      <td>surface_LC</td>\n",
       "      <td>5</td>\n",
       "      <td>4</td>\n",
       "      <td>5</td>\n",
       "      <td>post</td>\n",
       "      <td>True</td>\n",
       "      <td>0.482486</td>\n",
       "      <td>0.145691</td>\n",
       "      <td>0.986859</td>\n",
       "    </tr>\n",
       "  </tbody>\n",
       "</table>\n",
       "</div>"
      ],
      "text/plain": [
       "    unit_id  resp_p  resp_p_bl  resp_lat  powers       sites  num_pulses  \\\n",
       "56       10    0.40   0.305467  0.017459      20  surface_LC           5   \n",
       "57       10    0.50   0.409505  0.015760      30  surface_LC           5   \n",
       "58       10    0.55   0.455467  0.016305      30  surface_LC           5   \n",
       "59       10    0.50   0.405467  0.016863      30  surface_LC           5   \n",
       "60       10    0.50   0.405467  0.013983      30  surface_LC           5   \n",
       "61       10    0.45   0.355467  0.016462      30  surface_LC           5   \n",
       "62       10    0.45   0.355467  0.013426      30  surface_LC           5   \n",
       "63       10    0.70   0.605467  0.016810      40  surface_LC           5   \n",
       "64       10    0.55   0.455467  0.017369      40  surface_LC           5   \n",
       "65       10    0.45   0.355467  0.019567      40  surface_LC           5   \n",
       "66       10    0.65   0.555467  0.018094      40  surface_LC           5   \n",
       "67       10    0.40   0.305467  0.018955      40  surface_LC           5   \n",
       "68       10    0.60   0.509505  0.015306      50  surface_LC           5   \n",
       "69       10    0.65   0.559505  0.018149      50  surface_LC           5   \n",
       "70       10    0.45   0.359505  0.017287      50  surface_LC           5   \n",
       "71       10    0.65   0.559505  0.017844      50  surface_LC           5   \n",
       "72       10    0.40   0.309505  0.019066      50  surface_LC           5   \n",
       "73       10    0.55   0.455467  0.015948      50  surface_LC           5   \n",
       "74       10    0.65   0.555467  0.016294      50  surface_LC           5   \n",
       "75       10    0.50   0.405467  0.015241      50  surface_LC           5   \n",
       "76       10    0.65   0.555467  0.015984      50  surface_LC           5   \n",
       "77       10    0.65   0.555467  0.014851      50  surface_LC           5   \n",
       "\n",
       "    durations  freqs stim_times  opto_pass    mean_p  euclidean_norm  \\\n",
       "56          4      5       post       True  0.175467        0.190139   \n",
       "57          4      5        pre       True  0.302486        0.135288   \n",
       "58          4      5       post       True  0.302486        0.151615   \n",
       "59          4      5       post       True  0.302486        0.151615   \n",
       "60          4      5       post       True  0.302486        0.151615   \n",
       "61          4      5       post       True  0.302486        0.151615   \n",
       "62          4      5       post       True  0.302486        0.151615   \n",
       "63          4      5       post       True  0.455467        0.145236   \n",
       "64          4      5       post       True  0.455467        0.145236   \n",
       "65          4      5       post       True  0.455467        0.145236   \n",
       "66          4      5       post       True  0.455467        0.145236   \n",
       "67          4      5       post       True  0.455467        0.145236   \n",
       "68          4      5        pre       True  0.482486        0.120720   \n",
       "69          4      5        pre       True  0.482486        0.120720   \n",
       "70          4      5        pre       True  0.482486        0.120720   \n",
       "71          4      5        pre       True  0.482486        0.120720   \n",
       "72          4      5        pre       True  0.482486        0.120720   \n",
       "73          4      5       post       True  0.482486        0.145691   \n",
       "74          4      5       post       True  0.482486        0.145691   \n",
       "75          4      5       post       True  0.482486        0.145691   \n",
       "76          4      5       post       True  0.482486        0.145691   \n",
       "77          4      5       post       True  0.482486        0.145691   \n",
       "\n",
       "    correlation  \n",
       "56     0.982910  \n",
       "57     0.986911  \n",
       "58     0.986995  \n",
       "59     0.986995  \n",
       "60     0.986995  \n",
       "61     0.986995  \n",
       "62     0.986995  \n",
       "63     0.986634  \n",
       "64     0.986634  \n",
       "65     0.986634  \n",
       "66     0.986634  \n",
       "67     0.986634  \n",
       "68     0.991688  \n",
       "69     0.991688  \n",
       "70     0.991688  \n",
       "71     0.991688  \n",
       "72     0.991688  \n",
       "73     0.986859  \n",
       "74     0.986859  \n",
       "75     0.986859  \n",
       "76     0.986859  \n",
       "77     0.986859  "
      ]
     },
     "execution_count": 73,
     "metadata": {},
     "output_type": "execute_result"
    }
   ],
   "source": [
    "opto_response = opto_metrics('behavior_754897_2025-03-13_11-20-42', 'curated')\n",
    "unit_opto_response = opto_response.load_unit(10)\n",
    "unit_opto_response"
   ]
  }
 ],
 "metadata": {
  "kernelspec": {
   "display_name": "base",
   "language": "python",
   "name": "python3"
  },
  "language_info": {
   "codemirror_mode": {
    "name": "ipython",
    "version": 3
   },
   "file_extension": ".py",
   "mimetype": "text/x-python",
   "name": "python",
   "nbconvert_exporter": "python",
   "pygments_lexer": "ipython3",
   "version": "3.10.18"
  }
 },
 "nbformat": 4,
 "nbformat_minor": 2
}
