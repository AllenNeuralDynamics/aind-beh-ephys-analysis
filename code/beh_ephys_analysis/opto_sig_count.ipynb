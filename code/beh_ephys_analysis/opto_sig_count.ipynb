{
 "cells": [
  {
   "cell_type": "code",
   "execution_count": null,
   "metadata": {},
   "outputs": [],
   "source": [
    "import sys\n",
    "import os\n",
    "sys.path.append('/root/capsule/code/beh_ephys_analysis')\n",
    "from utils.beh_functions import parseSessionID, session_dirs, get_unit_tbl, get_session_tbl\n",
    "from utils.plot_utils import shiftedColorMap, template_reorder, get_gradient_colors\n",
    "from utils.opto_utils import opto_metrics\n",
    "from utils.ephys_functions import cross_corr_train, auto_corr_train, load_drift\n",
    "import json\n",
    "import matplotlib.pyplot as plt\n",
    "import pandas as pd\n",
    "import pickle\n",
    "from aind_ephys_utils import align\n",
    "%matplotlib inline"
   ]
  },
  {
   "cell_type": "code",
   "execution_count": null,
   "metadata": {},
   "outputs": [],
   "source": [
    "session = 'behavior_754897_2025-03-13_11-20-42'\n",
    "data_type = 'curated'"
   ]
  },
  {
   "cell_type": "code",
   "execution_count": null,
   "metadata": {},
   "outputs": [],
   "source": [
    "unit_tbl = get_unit_tbl(session, data_type)\n",
    "opto_tbl = get_opto_tbl(session, data_type)"
   ]
  }
 ],
 "metadata": {
  "language_info": {
   "name": "python"
  }
 },
 "nbformat": 4,
 "nbformat_minor": 2
}
