{
 "cells": [
  {
   "cell_type": "code",
   "execution_count": 1,
   "metadata": {},
   "outputs": [],
   "source": [
    "%matplotlib inline\n",
    "import os\n",
    "import sys\n",
    "sys.path.append('/root/capsule/aind-beh-ephys-analysis/code/beh_ephys_analysis')\n",
    "import pandas as pd\n",
    "import xarray as xr\n",
    "import numpy as np\n",
    "import matplotlib.pyplot as plt\n",
    "import matplotlib.gridspec as gridspec\n",
    "import matplotlib.patches as patches\n",
    "import json\n",
    "from sklearn.decomposition import PCA\n",
    "from sklearn.cluster import KMeans\n",
    "import re\n",
    "from utils.beh_functions import session_dirs\n",
    "from utils.plot_utils import shiftedColorMap, template_reorder, plot_raster_bar,merge_pdfs\n",
    "from open_ephys.analysis import Session\n",
    "import spikeinterface as si\n",
    "import spikeinterface.extractors as se\n",
    "import spikeinterface.postprocessing as spost\n",
    "import spikeinterface.widgets as sw\n",
    "from aind_ephys_utils import align\n",
    "from matplotlib.colors import LinearSegmentedColormap\n",
    "from matplotlib import colormaps\n",
    "import pickle\n",
    "\n",
    "from aind_dynamic_foraging_basic_analysis.licks.lick_analysis import load_nwb\n",
    "from aind_dynamic_foraging_data_utils.nwb_utils import load_nwb_from_filename\n",
    "\n",
    " \n",
    "# Create a white-to-bright red colormap\n",
    "colors = [(1, 1, 1), (1, 0, 0)]  # white to red\n",
    "my_red = LinearSegmentedColormap.from_list(\"white_to_red\", colors)"
   ]
  },
  {
   "cell_type": "code",
   "execution_count": 2,
   "metadata": {},
   "outputs": [],
   "source": [
    "session = 'behavior_758017_2025-02-04_11-57-38'\n",
    "session_dir = session_dirs(session)\n",
    "data_type = 'raw'\n",
    "target = 'soma'\n",
    "\n",
    "resp_thresh = 0.8\n",
    "lat_thresh = 0.015\n",
    "pulse_width = 4"
   ]
  },
  {
   "cell_type": "code",
   "execution_count": 37,
   "metadata": {},
   "outputs": [
    {
     "name": "stdout",
     "output_type": "stream",
     "text": [
      "82 out of 194 units pass quality control\n"
     ]
    }
   ],
   "source": [
    "# load quality metrics from nwb\n",
    "# load quality metrics\n",
    "if os.path.exists(session_dir[f'nwb_dir_{data_type}']):\n",
    "    nwb = load_nwb(session_dir[f'nwb_dir_{data_type}'])\n",
    "    unit_qc = nwb.units[:][['ks_unit_id', 'isi_violations_ratio', 'firing_rate', 'presence_ratio', 'amplitude_cutoff', 'decoder_label']]\n",
    "else:\n",
    "    print('No nwb file found.')\n",
    "#     qm = pd.read_csv(session_dir['qm_dir'], index_col=0)\n",
    "#     unit_qc = qm[:][['isi_violations_ratio', 'firing_rate', 'presence_ratio', 'amplitude_cutoff']]\n",
    "#     unit_qc['ks_unit_id'] = unit_qc.index\n",
    "#     sorting = si.load_extractor(session_dir['curated_dir'])\n",
    "#     label = sorting.get_property('decoder_label')\n",
    "#     unit_qc['decoder_label'] = label\n",
    "\n",
    "pass_qc = (unit_qc['isi_violations_ratio'] < 0.5) & \\\n",
    "          (unit_qc['firing_rate'] > 0.1) & \\\n",
    "          (unit_qc['presence_ratio'] > 0.95) & \\\n",
    "          (unit_qc['amplitude_cutoff'] < 0.05) & \\\n",
    "          (unit_qc['decoder_label'] != 'noise') & \\\n",
    "          (unit_qc['decoder_label'] != 'artifact')\n",
    "pass_qc = pass_qc.values\n",
    "pass_qc = {unit_id: pass_qc_curr for unit_id, pass_qc_curr in zip(unit_ids, pass_qc)}\n",
    "print(f'{sum(pass_qc.values())} out of {len(pass_qc)} units pass quality control')"
   ]
  },
  {
   "cell_type": "code",
   "execution_count": 11,
   "metadata": {},
   "outputs": [
    {
     "ename": "FileNotFoundError",
     "evalue": "[Errno 2] No such file or directory: '/root/capsule/scratch/758017/behavior_758017_2025-02-04_11-57-38/ephys/opto/raw/behavior_758017_2025-02-04_11-57-38_waveform_params.json'",
     "output_type": "error",
     "traceback": [
      "\u001b[0;31m---------------------------------------------------------------------------\u001b[0m",
      "\u001b[0;31mFileNotFoundError\u001b[0m                         Traceback (most recent call last)",
      "\u001b[1;32m/root/capsule/code/beh_ephys_analysis/opto_tagging.ipynb Cell 5\u001b[0m line \u001b[0;36m6\n\u001b[1;32m      <a href='vscode-notebook-cell://codeocean.allenneuraldynamics.org/root/capsule/code/beh_ephys_analysis/opto_tagging.ipynb#W4sdnNjb2RlLXJlbW90ZQ%3D%3D?line=3'>4</a>\u001b[0m channel_locations \u001b[39m=\u001b[39m we\u001b[39m.\u001b[39mget_channel_locations()\n\u001b[1;32m      <a href='vscode-notebook-cell://codeocean.allenneuraldynamics.org/root/capsule/code/beh_ephys_analysis/opto_tagging.ipynb#W4sdnNjb2RlLXJlbW90ZQ%3D%3D?line=4'>5</a>\u001b[0m right_left \u001b[39m=\u001b[39m channel_locations[:, \u001b[39m0\u001b[39m]\u001b[39m<\u001b[39m\u001b[39m20\u001b[39m\n\u001b[0;32m----> <a href='vscode-notebook-cell://codeocean.allenneuraldynamics.org/root/capsule/code/beh_ephys_analysis/opto_tagging.ipynb#W4sdnNjb2RlLXJlbW90ZQ%3D%3D?line=5'>6</a>\u001b[0m \u001b[39mwith\u001b[39;00m \u001b[39mopen\u001b[39;49m(os\u001b[39m.\u001b[39;49mpath\u001b[39m.\u001b[39;49mjoin(session_dir[\u001b[39mf\u001b[39;49m\u001b[39m'\u001b[39;49m\u001b[39mopto_dir_\u001b[39;49m\u001b[39m{\u001b[39;49;00mdata_type\u001b[39m}\u001b[39;49;00m\u001b[39m'\u001b[39;49m], session\u001b[39m+\u001b[39;49m\u001b[39m'\u001b[39;49m\u001b[39m_waveform_params.json\u001b[39;49m\u001b[39m'\u001b[39;49m)) \u001b[39mas\u001b[39;00m f:\n\u001b[1;32m      <a href='vscode-notebook-cell://codeocean.allenneuraldynamics.org/root/capsule/code/beh_ephys_analysis/opto_tagging.ipynb#W4sdnNjb2RlLXJlbW90ZQ%3D%3D?line=6'>7</a>\u001b[0m     waveform_params \u001b[39m=\u001b[39m json\u001b[39m.\u001b[39mload(f)\n\u001b[1;32m      <a href='vscode-notebook-cell://codeocean.allenneuraldynamics.org/root/capsule/code/beh_ephys_analysis/opto_tagging.ipynb#W4sdnNjb2RlLXJlbW90ZQ%3D%3D?line=7'>8</a>\u001b[0m \u001b[39mprint\u001b[39m(waveform_params)\n",
      "File \u001b[0;32m/opt/conda/lib/python3.9/site-packages/IPython/core/interactiveshell.py:282\u001b[0m, in \u001b[0;36m_modified_open\u001b[0;34m(file, *args, **kwargs)\u001b[0m\n\u001b[1;32m    275\u001b[0m \u001b[39mif\u001b[39;00m file \u001b[39min\u001b[39;00m {\u001b[39m0\u001b[39m, \u001b[39m1\u001b[39m, \u001b[39m2\u001b[39m}:\n\u001b[1;32m    276\u001b[0m     \u001b[39mraise\u001b[39;00m \u001b[39mValueError\u001b[39;00m(\n\u001b[1;32m    277\u001b[0m         \u001b[39mf\u001b[39m\u001b[39m\"\u001b[39m\u001b[39mIPython won\u001b[39m\u001b[39m'\u001b[39m\u001b[39mt let you open fd=\u001b[39m\u001b[39m{\u001b[39;00mfile\u001b[39m}\u001b[39;00m\u001b[39m by default \u001b[39m\u001b[39m\"\u001b[39m\n\u001b[1;32m    278\u001b[0m         \u001b[39m\"\u001b[39m\u001b[39mas it is likely to crash IPython. If you know what you are doing, \u001b[39m\u001b[39m\"\u001b[39m\n\u001b[1;32m    279\u001b[0m         \u001b[39m\"\u001b[39m\u001b[39myou can use builtins\u001b[39m\u001b[39m'\u001b[39m\u001b[39m open.\u001b[39m\u001b[39m\"\u001b[39m\n\u001b[1;32m    280\u001b[0m     )\n\u001b[0;32m--> 282\u001b[0m \u001b[39mreturn\u001b[39;00m io_open(file, \u001b[39m*\u001b[39;49margs, \u001b[39m*\u001b[39;49m\u001b[39m*\u001b[39;49mkwargs)\n",
      "\u001b[0;31mFileNotFoundError\u001b[0m: [Errno 2] No such file or directory: '/root/capsule/scratch/758017/behavior_758017_2025-02-04_11-57-38/ephys/opto/raw/behavior_758017_2025-02-04_11-57-38_waveform_params.json'"
     ]
    }
   ],
   "source": [
    "# load waveforms info\n",
    "we = si.load_sorting_analyzer_or_waveforms(session_dir[f'postprocessed_dir_{data_type}'])\n",
    "unit_locations = we.load_extension(\"unit_locations\").get_data(outputs=\"by_unit\")\n",
    "channel_locations = we.get_channel_locations()\n",
    "right_left = channel_locations[:, 0]<20\n",
    "with open(os.path.join(session_dir[f'opto_dir_{data_type}'], session+'_waveform_params.json')) as f:\n",
    "    waveform_params = json.load(f)\n",
    "print(waveform_params)"
   ]
  },
  {
   "cell_type": "code",
   "execution_count": null,
   "metadata": {},
   "outputs": [],
   "source": [
    "# prepare for heatmap\n",
    "colors = [\"blue\", \"white\", \"red\"]\n",
    "b_w_r_cmap = LinearSegmentedColormap.from_list(\"b_w_r\", colors)"
   ]
  },
  {
   "cell_type": "code",
   "execution_count": null,
   "metadata": {},
   "outputs": [],
   "source": [
    "with open(os.path.join(session_dir[f'ephys_processed_dir_{data_type}'], 'spiketimes.pkl'), 'rb') as f:\n",
    "    spiketimes = pickle.load(f)\n",
    "with open(os.path.join(session_dir[f'opto_dir_{data_type}'], f'{session}_opto_responses_{target}.pkl'), 'rb') as f:\n",
    "    opto_responses = pickle.load(f)\n",
    "with open(os.path.join(session_dir[f'opto_dir_{data_type}'], f'{session}_waveforms_{target}.pkl'), 'rb') as f:\n",
    "    waveforms = pickle.load(f)\n",
    "\n",
    "opto_df = pd.read_csv(os.path.join(session_dir[f'opto_dir_{data_type}'], f'{session}_opto_session_{target}.csv'))\n",
    "with open(os.path.join(session_dir[f'opto_dir_{data_type}'], f'{session}_opto_info_{target}.json')) as f:\n",
    "    opto_info = json.load(f)"
   ]
  },
  {
   "cell_type": "code",
   "execution_count": null,
   "metadata": {},
   "outputs": [],
   "source": [
    "def max_index_ndarray(arr):\n",
    "    \"\"\"\n",
    "    Find the index of the maximum value in an N-dimensional array.\n",
    "\n",
    "    Parameters:\n",
    "        arr (numpy.ndarray): Input N-dimensional array.\n",
    "\n",
    "    Returns:\n",
    "        tuple: Indices of the maximum value in each dimension.\n",
    "    \"\"\"\n",
    "    if not isinstance(arr, np.ndarray):\n",
    "        raise ValueError(\"Input must be a NumPy array\")\n",
    "\n",
    "    # Find the flattened index of the max value\n",
    "    max_flat_index = np.argmax(arr)\n",
    "\n",
    "    # Convert flattened index back to multi-dimensional index\n",
    "    max_nd_index = np.unravel_index(max_flat_index, arr.shape)\n",
    "\n",
    "    return max_nd_index "
   ]
  },
  {
   "cell_type": "code",
   "execution_count": null,
   "metadata": {},
   "outputs": [],
   "source": [
    "def plot_opto_tagging(session_id, unit_id, dim_1 = 'powers', dim_2 = 'sites'):\n",
    "    session_dir = session_dirs(session_id)\n",
    "    # load spike times\n",
    "    spike_times = spiketimes[unit_id]\n",
    "    # calculate baseline\n",
    "    baseline = unit_qc.query('ks_unit_id == @unit_id')['firing_rate'].values[0]*opto_info['resp_win']\n",
    "    # load response p file\n",
    "    resp_p = opto_responses['resp_p'][unit_id]\n",
    "    # load response lat file\n",
    "    resp_lat = opto_responses['resp_lat'][unit_id]\n",
    "\n",
    "    # load waveforms\n",
    "    waveform = waveforms[unit_id]\n",
    "\n",
    "    # plot\n",
    "    fig = plt.figure(figsize=(12, 8))\n",
    "    # select the first dimension to separate by subplots\n",
    "    gs = gridspec.GridSpec(1, len(opto_info[dim_1]), width_ratios=[1]*len(opto_info[dim_1]))\n",
    "    max_p_all = []\n",
    "    max_lat_all = []\n",
    "    for power_ind, curr_power in enumerate(opto_info[dim_1]):\n",
    "        gs_sub_raster = gridspec.GridSpecFromSubplotSpec(2, 2, subplot_spec=gs[power_ind], height_ratios=[1, 1], width_ratios=[1,2])\n",
    "        curr_resp_p = resp_p[power_ind, :, :, np.sort(opto_info[opto_info['dimensions'][3]+'s'])==pulse_width, :]\n",
    "        curr_resp_lat = resp_lat[power_ind, :, :, np.array(opto_info[opto_info['dimensions'][3]+'s'])==pulse_width, :]\n",
    "        curr_resp_p = np.array(curr_resp_p.tolist())\n",
    "        curr_resp_lat = np.array(curr_resp_lat.tolist())\n",
    "        # remove rows that are all nan along last axis\n",
    "        mask = np.squeeze(~np.isnan(curr_resp_p).all(axis=-1, keepdims=True))\n",
    "        curr_resp_lat = curr_resp_lat[:, :, :, :, mask, :]\n",
    "        curr_resp_p = curr_resp_p[:, :, :, :, mask, :]\n",
    "        # if multi-sites, use sites as frist dimention to plot, else if multi-time, use multi-time as first dimension\n",
    "        # if curr_resp_p.shape[1] > 1:\n",
    "        #     curr_resp_p = np.squeeze(curr_resp_p)\n",
    "        #     curr_resp_lat = np.squeeze(curr_resp_lat)\n",
    "        # elif any(dim > 1 for dim in list(curr_resp_p.shape)[2:-1]):\n",
    "        # if more than 2 dimensions>1, remain the first dimension and max over the rest\n",
    "        if np.sum(np.array([dim > 1 for dim in list(curr_resp_p.shape)[0:-1]]))>1:\n",
    "            dims = tuple(i for i in range(curr_resp_p.ndim) if i != 0 and i != 1 and i !=curr_resp_p.ndim) # exclude site and power and pulses\n",
    "            curr_resp_p_colormap = np.max(curr_resp_p, axis = dims) # shape is 2d, sites x pulses\n",
    "            curr_resp_p_colormap = np.squeeze(curr_resp_p_colormap)\n",
    "        else:\n",
    "            curr_resp_p_colormap = np.squeeze(curr_resp_p)\n",
    "\n",
    "        if curr_resp_p_colormap.ndim == 1:\n",
    "            curr_resp_p_colormap = curr_resp_p_colormap[:, np.newaxis].T\n",
    "  \n",
    "\n",
    "        \n",
    "        # plot response p as heatmap\n",
    "        ax = fig.add_subplot(gs_sub_raster[0,0])\n",
    "        ax.imshow(curr_resp_p_colormap, cmap=my_red, aspect='auto', vmin=0, vmax=1)\n",
    "        # find max response p along last dimention (pulses) then find max conditions\n",
    "        max_ind = max_index_ndarray(curr_resp_p)\n",
    "        site_ind = max_ind[1]\n",
    "        max_site = opto_info['sites'][site_ind]\n",
    "        max_p_all.append(curr_resp_p[max_ind])\n",
    "        max_lat_all.append(curr_resp_lat[max_ind])\n",
    "\n",
    "        p_train_to_plot = curr_resp_p[max_ind[:-1]]\n",
    "        lat_train_to_plot = curr_resp_lat[max_ind[:-1]]\n",
    "\n",
    "\n",
    "\n",
    "        # curr_resp_p_max = np.max(curr_resp_p, axis = -1) # max P(resp) for each condition dimention is ndims-1\n",
    "        # dims = tuple(i for i in range(curr_resp_p_max.ndim) if i != 1 and i != 0) # exclude site and power\n",
    "        # curr_resp_max_p_site = np.max(curr_resp_p_max, axis = dims)\n",
    "        # site_ind = np.argmax(curr_resp_max_p_site[0,:])\n",
    "        # max_p_all.append(np.max(curr_resp_max_p_site[0,:])) # append different colors\n",
    "\n",
    "        # dims = tuple(i for i in range(curr_resp_p.ndim) if i != 1 and i != 0) # exclude site and power\n",
    "        # # first compute the max response p for each site\n",
    "        # curr_resp_p_max = np.max(curr_resp_p, axis = dims) # shape is 2d, sites x pulses\n",
    "        # curr_resp_p_max_ind = np.argmax(curr_resp_p, axis = dims)\n",
    "        # then find the site ind with max response p\n",
    "        # max_resp_p = np.max(curr_resp_p_max, axis = 1)\n",
    "        # max_p_ind = np.argmax(max_resp_p)\n",
    "        # max_p_curr = np.max(max_resp_p)\n",
    "         # store the max p for curr power\n",
    "        \n",
    "        laser_times_curr = np.sort(np.concatenate([opto_df.query('site == @max_site and power == @curr_power and pre_post == \"pre\"')['time'].values, \n",
    "                                      opto_df.query('site == @max_site and power == @curr_power and pre_post == \"post\"')['time'].values], axis = 0), )[::-1] \n",
    "        raster_df = align.to_events(spike_times, laser_times_curr, (-0.5, 1.5), return_df=True)\n",
    "        ax = fig.add_subplot(gs_sub_raster[0,1])\n",
    "        plot_raster_bar(raster_df, ax)\n",
    "        ax.set_title(f'Power: {curr_power}; Site: {max_site}')\n",
    "        ax.set_xlim(-0.5, 1)\n",
    "        ax.set_ylim(0, len(laser_times_curr)+1)\n",
    "        ax.set_yticks([])\n",
    "        # ax.axis('off')\n",
    "        ax.set(xlabel='Time (s)')\n",
    "        for spine in ax.spines.values():\n",
    "            spine.set_visible(False)\n",
    "        for j in range(opto_info['num_pulses'][0]):\n",
    "            x = j * 1/opto_info['freqs'][0]\n",
    "            rect = patches.Rectangle((x, 0), opto_info['durations'][0]/1000, len(laser_times_curr), color='r', alpha=0.5, edgecolor=None)\n",
    "            ax.add_patch(rect)\n",
    "\n",
    "        # plot waveform\n",
    "        gs_sub_waveform = gridspec.GridSpecFromSubplotSpec(6, 2, subplot_spec=gs[power_ind], hspace=0.75)\n",
    "        ax = fig.add_subplot(gs_sub_waveform[3,:])\n",
    "        shifted_cmap = shiftedColorMap(b_w_r_cmap, np.nanmin(waveform), np.nanmax(waveform), 'shifted_b_w_r');\n",
    "        cax = ax.imshow(waveform, extent = [waveform_params['samples_to_keep'][0], waveform_params['samples_to_keep'][0]+2*(waveform_params['samples_to_keep'][1]-waveform_params['samples_to_keep'][0]), 2*waveform_params['y_neighbors_to_keep']+1, 0], cmap=shifted_cmap, aspect='auto');\n",
    "        fig.colorbar(cax, ax=ax)\n",
    "        ax.axvline(0, color='black', linestyle='--', linewidth=0.5)\n",
    "        ax.axvline(waveform_params['samples_to_keep'][1]-waveform_params['samples_to_keep'][0], color='black', linestyle='--', linewidth=0.5)\n",
    "        ax.set_title(f'depth: {unit_locations[unit_id][1]:.2f}')\n",
    "        ax.spines['top'].set_visible(False)\n",
    "        ax.spines['right'].set_visible(False)\n",
    "        ax.spines['left'].set_visible(False)\n",
    "        ax.spines['bottom'].set_visible(False)\n",
    "        \n",
    "        # plot best response p and latency\n",
    "        # location_max = np.argmax(np.mean(curr_resp_p_max, axis = -1))\n",
    "        # max_site = opto_info['sites'][location_max]\n",
    "        ax = fig.add_subplot(gs_sub_waveform[4,:])\n",
    "        ax.plot(p_train_to_plot)\n",
    "        ax.set_ylim(baseline, 1)\n",
    "        ax.axhline(resp_thresh, color='black', linestyle='--', linewidth=0.5)\n",
    "        ax.set_title(f'P(resp) Site: {max_site}')\n",
    "        ax.spines['top'].set_visible(False)\n",
    "        ax.spines['right'].set_visible(False)\n",
    "        ax = fig.add_subplot(gs_sub_waveform[5,:])\n",
    "        ax.plot(1000*lat_train_to_plot)\n",
    "        ax.set_ylim(0, 1000*opto_info['resp_win'])\n",
    "        ax.axhline(1000*lat_thresh, color='black', linestyle='--', linewidth=0.5)\n",
    "        ax.set_title(f'Latency (ms)')\n",
    "        ax.spines['top'].set_visible(False)\n",
    "        ax.spines['right'].set_visible(False)\n",
    "    \n",
    "    max_p_all = np.max(np.array(max_p_all)) - baseline\n",
    "    max_lat_all = np.max(np.array(max_lat_all))\n",
    "    plt.suptitle(f\"Unit {unit_id} RespWin: {opto_info['resp_win']} s pResp: {max_p_all:.2f} Lat: {max_lat_all:.2f} pass_qc {pass_qc[unit_id]}\")\n",
    "    plt.tight_layout()\n",
    "    # plt.show()\n",
    "    fig.savefig(os.path.join(session_dir[f'opto_dir_fig_{data_type}'], f'unit_{unit_id}_pulse_width_{pulse_width}_opto_tagging.pdf'))\n",
    "    # plt.close()\n",
    " \n",
    "colors = [\"blue\", \"white\", \"red\"]\n",
    "b_w_r_cmap = LinearSegmentedColormap.from_list(\"b_w_r\", colors)"
   ]
  },
  {
   "cell_type": "code",
   "execution_count": null,
   "metadata": {},
   "outputs": [
    {
     "ename": "NameError",
     "evalue": "name 'spiketimes' is not defined",
     "output_type": "error",
     "traceback": [
      "\u001b[0;31m---------------------------------------------------------------------------\u001b[0m",
      "\u001b[0;31mNameError\u001b[0m                                 Traceback (most recent call last)",
      "\u001b[1;32m/root/capsule/code/beh_ephys_analysis/opto_tagging.ipynb Cell 10\u001b[0m line \u001b[0;36m3\n\u001b[1;32m      <a href='vscode-notebook-cell://codeocean.allenneuraldynamics.org/root/capsule/code/beh_ephys_analysis/opto_tagging.ipynb#X12sdnNjb2RlLXJlbW90ZQ%3D%3D?line=0'>1</a>\u001b[0m \u001b[39mfor\u001b[39;00m unit_id \u001b[39min\u001b[39;00m unit_ids:\n\u001b[1;32m      <a href='vscode-notebook-cell://codeocean.allenneuraldynamics.org/root/capsule/code/beh_ephys_analysis/opto_tagging.ipynb#X12sdnNjb2RlLXJlbW90ZQ%3D%3D?line=1'>2</a>\u001b[0m \u001b[39m#     if pass_qc[unit_id]:   \u001b[39;00m\n\u001b[0;32m----> <a href='vscode-notebook-cell://codeocean.allenneuraldynamics.org/root/capsule/code/beh_ephys_analysis/opto_tagging.ipynb#X12sdnNjb2RlLXJlbW90ZQ%3D%3D?line=2'>3</a>\u001b[0m     plot_opto_tagging(session, unit_id)\n\u001b[1;32m      <a href='vscode-notebook-cell://codeocean.allenneuraldynamics.org/root/capsule/code/beh_ephys_analysis/opto_tagging.ipynb#X12sdnNjb2RlLXJlbW90ZQ%3D%3D?line=3'>4</a>\u001b[0m     plt\u001b[39m.\u001b[39mclose(\u001b[39m'\u001b[39m\u001b[39mall\u001b[39m\u001b[39m'\u001b[39m)\n\u001b[1;32m      <a href='vscode-notebook-cell://codeocean.allenneuraldynamics.org/root/capsule/code/beh_ephys_analysis/opto_tagging.ipynb#X12sdnNjb2RlLXJlbW90ZQ%3D%3D?line=5'>6</a>\u001b[0m \u001b[39m# plot_opto_tagging(session_id, 14) \u001b[39;00m\n",
      "\u001b[1;32m/root/capsule/code/beh_ephys_analysis/opto_tagging.ipynb Cell 10\u001b[0m line \u001b[0;36m4\n\u001b[1;32m      <a href='vscode-notebook-cell://codeocean.allenneuraldynamics.org/root/capsule/code/beh_ephys_analysis/opto_tagging.ipynb#X12sdnNjb2RlLXJlbW90ZQ%3D%3D?line=1'>2</a>\u001b[0m session_dir \u001b[39m=\u001b[39m session_dirs(session_id)\n\u001b[1;32m      <a href='vscode-notebook-cell://codeocean.allenneuraldynamics.org/root/capsule/code/beh_ephys_analysis/opto_tagging.ipynb#X12sdnNjb2RlLXJlbW90ZQ%3D%3D?line=2'>3</a>\u001b[0m \u001b[39m# load spike times\u001b[39;00m\n\u001b[0;32m----> <a href='vscode-notebook-cell://codeocean.allenneuraldynamics.org/root/capsule/code/beh_ephys_analysis/opto_tagging.ipynb#X12sdnNjb2RlLXJlbW90ZQ%3D%3D?line=3'>4</a>\u001b[0m spike_times \u001b[39m=\u001b[39m spiketimes[unit_id]\n\u001b[1;32m      <a href='vscode-notebook-cell://codeocean.allenneuraldynamics.org/root/capsule/code/beh_ephys_analysis/opto_tagging.ipynb#X12sdnNjb2RlLXJlbW90ZQ%3D%3D?line=4'>5</a>\u001b[0m \u001b[39m# calculate baseline\u001b[39;00m\n\u001b[1;32m      <a href='vscode-notebook-cell://codeocean.allenneuraldynamics.org/root/capsule/code/beh_ephys_analysis/opto_tagging.ipynb#X12sdnNjb2RlLXJlbW90ZQ%3D%3D?line=5'>6</a>\u001b[0m baseline \u001b[39m=\u001b[39m unit_qc\u001b[39m.\u001b[39mquery(\u001b[39m'\u001b[39m\u001b[39mks_unit_id == @unit_id\u001b[39m\u001b[39m'\u001b[39m)[\u001b[39m'\u001b[39m\u001b[39mfiring_rate\u001b[39m\u001b[39m'\u001b[39m]\u001b[39m.\u001b[39mvalues[\u001b[39m0\u001b[39m]\u001b[39m*\u001b[39mopto_info[\u001b[39m'\u001b[39m\u001b[39mresp_win\u001b[39m\u001b[39m'\u001b[39m]\n",
      "\u001b[0;31mNameError\u001b[0m: name 'spiketimes' is not defined"
     ]
    }
   ],
   "source": [
    "for unit_id in unit_ids:\n",
    "#     if pass_qc[unit_id]:   \n",
    "    plot_opto_tagging(session, unit_id)\n",
    "    plt.close('all')\n",
    "\n",
    "# plot_opto_tagging(session_id, 14) "
   ]
  },
  {
   "cell_type": "code",
   "execution_count": null,
   "metadata": {},
   "outputs": [
    {
     "name": "stdout",
     "output_type": "stream",
     "text": [
      "Merging file 0 out of 260\n",
      "Merging file 50 out of 260\n",
      "Merging file 100 out of 260\n",
      "Merging file 150 out of 260\n",
      "Merging file 200 out of 260\n",
      "Merging file 250 out of 260\n"
     ]
    },
    {
     "name": "stdout",
     "output_type": "stream",
     "text": [
      "PDF files in '/root/capsule/scratch/751004/behavior_751004_2024-12-20_13-26-11/ephys/opto/raw/figures' merged into '/root/capsule/scratch/751004/behavior_751004_2024-12-20_13-26-11/ephys/opto/raw/behavior_751004_2024-12-20_13-26-11_opto_tagging.pdf' successfully.\n"
     ]
    }
   ],
   "source": [
    "merge_pdfs(session_dir[f'opto_dir_fig_{data_type}'], os.path.join(session_dir[f'opto_dir_{data_type}'], f'{session}_opto_tagging.pdf'))"
   ]
  },
  {
   "cell_type": "code",
   "execution_count": null,
   "metadata": {},
   "outputs": [],
   "source": []
  }
 ],
 "metadata": {
  "kernelspec": {
   "display_name": "base",
   "language": "python",
   "name": "python3"
  },
  "language_info": {
   "codemirror_mode": {
    "name": "ipython",
    "version": 3
   },
   "file_extension": ".py",
   "mimetype": "text/x-python",
   "name": "python",
   "nbconvert_exporter": "python",
   "pygments_lexer": "ipython3",
   "version": "3.9.12"
  }
 },
 "nbformat": 4,
 "nbformat_minor": 2
}
