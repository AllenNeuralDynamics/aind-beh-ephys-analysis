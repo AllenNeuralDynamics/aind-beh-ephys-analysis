{
 "cells": [
  {
   "cell_type": "code",
   "execution_count": 9,
   "metadata": {},
   "outputs": [],
   "source": [
    "from behavior_and_time_alignment import beh_and_time_alignment\n",
    "from session_preprocessing import ephys_opto_preprocessing, ephys_opto_crosscorr\n",
    "from opto_tagging import opto_plotting_session, opto_plotting_unit, opto_tagged_spike_stability\n",
    "from opto_waveforms_preprocessing import opto_wf_preprocessing\n",
    "from drift_analysis import plot_session_opto_drift\n",
    "import matplotlib.pyplot as plt\n",
    "from utils.beh_functions import session_dirs\n",
    "import numpy as np\n",
    "import pandas as pd\n",
    "import os\n",
    "from utils.plot_utils import combine_pdf_big"
   ]
  },
  {
   "cell_type": "code",
   "execution_count": 3,
   "metadata": {},
   "outputs": [
    {
     "data": {
      "text/plain": [
       "[]"
      ]
     },
     "execution_count": 3,
     "metadata": {},
     "output_type": "execute_result"
    }
   ],
   "source": [
    "from joblib import Parallel, delayed\n",
    "session_list = ['behavior_717121_2024-06-15_10-00-58']\n",
    "#                 'behavior_716325_2024-05-31_10-31-14']\n",
    "data_type = 'curated'\n",
    "def process(session, data_type='raw'):\n",
    "    beh_and_time_alignment(session)\n",
    "    ephys_opto_preprocessing(session, data_type, 'soma')\n",
    "    ephys_opto_crosscorr(session, data_type)\n",
    "    opto_wf_preprocessing(session, data_type, 'soma', load_sorting_analyzer=True)\n",
    "    \n",
    "    plt.close('all')\n",
    "    opto_tagging_df = opto_plotting_session(session, data_type, 'soma', plot=True, resp_thresh=0.4, lat_thresh=0.02)\n",
    "    plt.close('all')\n",
    "    opto_tagged_spike_stability(session, data_type, 'soma', opto_tagging_df=opto_tagging_df)\n",
    "    plot_session_opto_drift(session, data_type, update_csv=False)\n",
    "\n",
    "Parallel(n_jobs=3)(delayed(process)(session, data_type = data_type) for session in session_list[1:])"
   ]
  },
  {
   "cell_type": "code",
   "execution_count": 5,
   "metadata": {},
   "outputs": [
    {
     "name": "stderr",
     "output_type": "stream",
     "text": [
      "/opt/conda/lib/python3.9/site-packages/scipy/stats/_stats_py.py:7985: RuntimeWarning: invalid value encountered in divide\n",
      "  terms = (f_obs_float - f_exp)**2 / f_exp\n"
     ]
    }
   ],
   "source": [
    "beh_and_time_alignment('behavior_717121_2024-06-15_10-00-58')"
   ]
  },
  {
   "cell_type": "code",
   "execution_count": 6,
   "metadata": {},
   "outputs": [],
   "source": [
    "beh_and_time_alignment('behavior_716325_2024-05-31_10-31-14')"
   ]
  },
  {
   "cell_type": "code",
   "execution_count": 7,
   "metadata": {},
   "outputs": [
    {
     "name": "stderr",
     "output_type": "stream",
     "text": [
      "/opt/conda/lib/python3.9/site-packages/spikeinterface/core/base.py:1129: UserWarning: Versions are not the same. This might lead to compatibility errors. Using spikeinterface==0.100.7 is recommended\n",
      "  warnings.warn(\n",
      "/opt/conda/lib/python3.9/site-packages/spikeinterface/core/waveforms_extractor_backwards_compatibility.py:650: UserWarning: Removing legacy parameter return_scaled from spike_amplitudes extension\n",
      "  warnings.warn(f\"Removing legacy parameter {p} from {old_name} extension\")\n",
      "/opt/conda/lib/python3.9/site-packages/spikeinterface/core/waveforms_extractor_backwards_compatibility.py:650: UserWarning: Removing legacy parameter method_kwargs from unit_locations extension\n",
      "  warnings.warn(f\"Removing legacy parameter {p} from {old_name} extension\")\n",
      "/opt/conda/lib/python3.9/site-packages/spikeinterface/core/waveforms_extractor_backwards_compatibility.py:650: UserWarning: Removing legacy parameter sparsity from quality_metrics extension\n",
      "  warnings.warn(f\"Removing legacy parameter {p} from {old_name} extension\")\n",
      "/opt/conda/lib/python3.9/site-packages/spikeinterface/core/waveforms_extractor_backwards_compatibility.py:650: UserWarning: Removing legacy parameter random_chunk_kwargs_dict from quality_metrics extension\n",
      "  warnings.warn(f\"Removing legacy parameter {p} from {old_name} extension\")\n",
      "/opt/conda/lib/python3.9/site-packages/spikeinterface/core/waveforms_extractor_backwards_compatibility.py:650: UserWarning: Removing legacy parameter sparsity from principal_components extension\n",
      "  warnings.warn(f\"Removing legacy parameter {p} from {old_name} extension\")\n",
      "/opt/conda/lib/python3.9/site-packages/spikeinterface/core/waveforms_extractor_backwards_compatibility.py:650: UserWarning: Removing legacy parameter tmp_folder from principal_components extension\n",
      "  warnings.warn(f\"Removing legacy parameter {p} from {old_name} extension\")\n"
     ]
    }
   ],
   "source": [
    "ephys_opto_preprocessing('behavior_716325_2024-05-31_10-31-14', 'curated', 'soma')"
   ]
  },
  {
   "cell_type": "code",
   "execution_count": 10,
   "metadata": {},
   "outputs": [
    {
     "name": "stderr",
     "output_type": "stream",
     "text": [
      "/opt/conda/lib/python3.9/site-packages/spikeinterface/core/base.py:1129: UserWarning: Versions are not the same. This might lead to compatibility errors. Using spikeinterface==0.100.7 is recommended\n",
      "  warnings.warn(\n",
      "/opt/conda/lib/python3.9/site-packages/spikeinterface/core/waveforms_extractor_backwards_compatibility.py:650: UserWarning: Removing legacy parameter return_scaled from spike_amplitudes extension\n",
      "  warnings.warn(f\"Removing legacy parameter {p} from {old_name} extension\")\n",
      "/opt/conda/lib/python3.9/site-packages/spikeinterface/core/waveforms_extractor_backwards_compatibility.py:650: UserWarning: Removing legacy parameter method_kwargs from unit_locations extension\n",
      "  warnings.warn(f\"Removing legacy parameter {p} from {old_name} extension\")\n",
      "/opt/conda/lib/python3.9/site-packages/spikeinterface/core/waveforms_extractor_backwards_compatibility.py:650: UserWarning: Removing legacy parameter sparsity from quality_metrics extension\n",
      "  warnings.warn(f\"Removing legacy parameter {p} from {old_name} extension\")\n",
      "/opt/conda/lib/python3.9/site-packages/spikeinterface/core/waveforms_extractor_backwards_compatibility.py:650: UserWarning: Removing legacy parameter random_chunk_kwargs_dict from quality_metrics extension\n",
      "  warnings.warn(f\"Removing legacy parameter {p} from {old_name} extension\")\n",
      "/opt/conda/lib/python3.9/site-packages/spikeinterface/core/waveforms_extractor_backwards_compatibility.py:650: UserWarning: Removing legacy parameter sparsity from principal_components extension\n",
      "  warnings.warn(f\"Removing legacy parameter {p} from {old_name} extension\")\n",
      "/opt/conda/lib/python3.9/site-packages/spikeinterface/core/waveforms_extractor_backwards_compatibility.py:650: UserWarning: Removing legacy parameter tmp_folder from principal_components extension\n",
      "  warnings.warn(f\"Removing legacy parameter {p} from {old_name} extension\")\n",
      "/opt/conda/lib/python3.9/site-packages/spikeinterface/core/base.py:1129: UserWarning: Versions are not the same. This might lead to compatibility errors. Using spikeinterface==0.100.7 is recommended\n",
      "  warnings.warn(\n",
      "/opt/conda/lib/python3.9/site-packages/spikeinterface/core/job_tools.py:103: UserWarning: `n_jobs` is not set so parallel processing is disabled! To speed up computations, it is recommended to set n_jobs either globally (with the `spikeinterface.set_global_job_kwargs()` function) or locally (with the `n_jobs` argument). Use `spikeinterface.set_global_job_kwargs?` for more information about job_kwargs.\n",
      "  warnings.warn(\n",
      "/opt/conda/lib/python3.9/site-packages/spikeinterface/core/base.py:1129: UserWarning: Versions are not the same. This might lead to compatibility errors. Using spikeinterface==0.100.7 is recommended\n",
      "  warnings.warn(\n",
      "/opt/conda/lib/python3.9/site-packages/spikeinterface/core/waveforms_extractor_backwards_compatibility.py:650: UserWarning: Removing legacy parameter return_scaled from spike_amplitudes extension\n",
      "  warnings.warn(f\"Removing legacy parameter {p} from {old_name} extension\")\n",
      "/opt/conda/lib/python3.9/site-packages/spikeinterface/core/waveforms_extractor_backwards_compatibility.py:650: UserWarning: Removing legacy parameter method_kwargs from unit_locations extension\n",
      "  warnings.warn(f\"Removing legacy parameter {p} from {old_name} extension\")\n",
      "/opt/conda/lib/python3.9/site-packages/spikeinterface/core/waveforms_extractor_backwards_compatibility.py:650: UserWarning: Removing legacy parameter sparsity from quality_metrics extension\n",
      "  warnings.warn(f\"Removing legacy parameter {p} from {old_name} extension\")\n",
      "/opt/conda/lib/python3.9/site-packages/spikeinterface/core/waveforms_extractor_backwards_compatibility.py:650: UserWarning: Removing legacy parameter random_chunk_kwargs_dict from quality_metrics extension\n",
      "  warnings.warn(f\"Removing legacy parameter {p} from {old_name} extension\")\n",
      "/opt/conda/lib/python3.9/site-packages/spikeinterface/core/waveforms_extractor_backwards_compatibility.py:650: UserWarning: Removing legacy parameter sparsity from principal_components extension\n",
      "  warnings.warn(f\"Removing legacy parameter {p} from {old_name} extension\")\n",
      "/opt/conda/lib/python3.9/site-packages/spikeinterface/core/waveforms_extractor_backwards_compatibility.py:650: UserWarning: Removing legacy parameter tmp_folder from principal_components extension\n",
      "  warnings.warn(f\"Removing legacy parameter {p} from {old_name} extension\")\n",
      "/opt/conda/lib/python3.9/site-packages/spikeinterface/core/base.py:1129: UserWarning: Versions are not the same. This might lead to compatibility errors. Using spikeinterface==0.100.7 is recommended\n",
      "  warnings.warn(\n",
      "/opt/conda/lib/python3.9/site-packages/spikeinterface/core/job_tools.py:103: UserWarning: `n_jobs` is not set so parallel processing is disabled! To speed up computations, it is recommended to set n_jobs either globally (with the `spikeinterface.set_global_job_kwargs()` function) or locally (with the `n_jobs` argument). Use `spikeinterface.set_global_job_kwargs?` for more information about job_kwargs.\n",
      "  warnings.warn(\n"
     ]
    },
    {
     "ename": "NameError",
     "evalue": "name 'session_dir' is not defined",
     "output_type": "error",
     "traceback": [
      "\u001b[0;31m---------------------------------------------------------------------------\u001b[0m",
      "\u001b[0;31mNameError\u001b[0m                                 Traceback (most recent call last)",
      "\u001b[1;32m/root/capsule/code/beh_ephys_analysis/opto_tagging_kj.ipynb Cell 6\u001b[0m line \u001b[0;36m1\n\u001b[0;32m----> <a href='vscode-notebook-cell://codeocean.allenneuraldynamics.org/root/capsule/code/beh_ephys_analysis/opto_tagging_kj.ipynb#W5sdnNjb2RlLXJlbW90ZQ%3D%3D?line=0'>1</a>\u001b[0m ephys_opto_crosscorr(\u001b[39m'\u001b[39;49m\u001b[39mbehavior_716325_2024-05-31_10-31-14\u001b[39;49m\u001b[39m'\u001b[39;49m, \u001b[39m'\u001b[39;49m\u001b[39mcurated\u001b[39;49m\u001b[39m'\u001b[39;49m)\n",
      "File \u001b[0;32m~/capsule/code/beh_ephys_analysis/session_preprocessing.py:501\u001b[0m, in \u001b[0;36mephys_opto_crosscorr\u001b[0;34m(session, data_type)\u001b[0m\n\u001b[1;32m    499\u001b[0m session_crosscorr(session, data_type, window_ms\u001b[39m=\u001b[39m\u001b[39m100\u001b[39m, bin_ms\u001b[39m=\u001b[39m\u001b[39m1\u001b[39m, post_fix \u001b[39m=\u001b[39m \u001b[39m'\u001b[39m\u001b[39mshort\u001b[39m\u001b[39m'\u001b[39m)\n\u001b[1;32m    500\u001b[0m session_crosscorr(session, data_type, window_ms\u001b[39m=\u001b[39m\u001b[39m1000\u001b[39m, bin_ms\u001b[39m=\u001b[39m\u001b[39m10\u001b[39m, post_fix \u001b[39m=\u001b[39m \u001b[39m'\u001b[39m\u001b[39mlong\u001b[39m\u001b[39m'\u001b[39m)\n\u001b[0;32m--> 501\u001b[0m \u001b[39mprint\u001b[39m(\u001b[39mf\u001b[39m\u001b[39m\"\u001b[39m\u001b[39mCross-correlation saved to \u001b[39m\u001b[39m{\u001b[39;00msession_dir[\u001b[39mf\u001b[39m\u001b[39m'\u001b[39m\u001b[39mopto_dir_\u001b[39m\u001b[39m{\u001b[39;00mdata_type\u001b[39m}\u001b[39;00m\u001b[39m'\u001b[39m]\u001b[39m}\u001b[39;00m\u001b[39m\"\u001b[39m)\n",
      "\u001b[0;31mNameError\u001b[0m: name 'session_dir' is not defined"
     ]
    }
   ],
   "source": [
    "ephys_opto_crosscorr('behavior_716325_2024-05-31_10-31-14', 'curated')"
   ]
  },
  {
   "cell_type": "code",
   "execution_count": null,
   "metadata": {},
   "outputs": [],
   "source": [
    "opto_wf_preprocessing('behavior_716325_2024-05-31_10-31-14', 'curated', 'soma', load_sorting_analyzer=True)\n"
   ]
  },
  {
   "cell_type": "code",
   "execution_count": null,
   "metadata": {},
   "outputs": [],
   "source": [
    "session = 'behavior_716325_2024-05-31_10-31-14'\n",
    "data_type = 'curated'"
   ]
  },
  {
   "cell_type": "code",
   "execution_count": null,
   "metadata": {},
   "outputs": [],
   "source": [
    "plt.close('all')\n",
    "opto_tagging_df = opto_plotting_session(session, data_type, 'soma', plot=True, resp_thresh=0.4, lat_thresh=0.02)\n",
    "# plt.close('all')\n",
    "# opto_tagged_spike_stability(session, data_type, 'soma', opto_tagging_df=opto_tagging_df)\n",
    "# plot_session_opto_drift(session, data_type, update_csv=False)\n"
   ]
  }
 ],
 "metadata": {
  "kernelspec": {
   "display_name": "base",
   "language": "python",
   "name": "python3"
  },
  "language_info": {
   "codemirror_mode": {
    "name": "ipython",
    "version": 3
   },
   "file_extension": ".py",
   "mimetype": "text/x-python",
   "name": "python",
   "nbconvert_exporter": "python",
   "pygments_lexer": "ipython3",
   "version": "3.9.12"
  }
 },
 "nbformat": 4,
 "nbformat_minor": 2
}
