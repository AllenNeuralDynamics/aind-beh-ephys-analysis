{
 "cells": [
  {
   "cell_type": "code",
   "execution_count": 24,
   "metadata": {},
   "outputs": [],
   "source": [
    "import os\n",
    "import sys\n",
    "sys.path.append('/root/capsule/aind-beh-ephys-analysis/code/beh_ephys_analysis')\n",
    "import pandas as pd\n",
    "import xarray as xr\n",
    "import numpy as np\n",
    "import matplotlib.pyplot as plt\n",
    "import matplotlib.gridspec as gridspec\n",
    "import matplotlib.patches as patches\n",
    "import json\n",
    "from sklearn.decomposition import PCA\n",
    "from sklearn.cluster import KMeans\n",
    "import re \n",
    "from utils.beh_functions import session_dirs\n",
    "# from utils.plot_utils import shiftedColorMap, template_reorder, plot_raster_bar,merge_pdfs, combine_pdf_big\n",
    "from open_ephys.analysis import Session\n",
    "import spikeinterface as si\n",
    "import spikeinterface.extractors as se\n",
    "import spikeinterface.postprocessing as spost\n",
    "import spikeinterface.widgets as sw\n",
    "from aind_ephys_utils import align\n",
    "from matplotlib.colors import LinearSegmentedColormap\n",
    "from matplotlib import colormaps\n",
    "import pickle\n",
    "import json\n",
    "\n",
    "from aind_dynamic_foraging_basic_analysis.licks.lick_analysis import load_nwb\n",
    "from aind_dynamic_foraging_data_utils.nwb_utils import load_nwb_from_filename"
   ]
  },
  {
   "cell_type": "code",
   "execution_count": 2,
   "metadata": {},
   "outputs": [],
   "source": [
    "from opto_tagging import opto_plotting_session"
   ]
  },
  {
   "cell_type": "code",
   "execution_count": 30,
   "metadata": {},
   "outputs": [],
   "source": [
    "# session = 'behavior_716325_2024-05-31_10-31-14'\n",
    "session = 'behavior_717121_2024-06-15_10-00-58'\n",
    "subject_id = session.split('_')[1]\n",
    "session_dir = session_dirs(session)\n",
    "data_type = 'curated'\n",
    "target = 'soma'"
   ]
  },
  {
   "cell_type": "code",
   "execution_count": 31,
   "metadata": {},
   "outputs": [],
   "source": [
    "session_dir[f'opto_dir_{data_type}']\n",
    "data_folder = f'/data/LC-NE_scratch_data/{subject_id}/{session}/ephys/opto/curated'\n",
    "# load from pickle\n",
    "with open(os.path.join(data_folder, f'{session}_curated_soma_opto_tagging_summary.pkl'), 'rb') as f:\n",
    "        unit_tbl = pickle.load(f)\n",
    "        # unit_tbl = unit_data['opto_tagging_df']\n",
    "\n",
    "results_dir = '/root/capsule/results/'\n",
    "unit_tbl.to_csv(os.path.join(results_dir, f'{session}_unit_tbl.csv'))"
   ]
  },
  {
   "cell_type": "code",
   "execution_count": 12,
   "metadata": {},
   "outputs": [],
   "source": [
    "# data_type = 'curated'\n",
    "# if os.path.exists(os.path.join(session_dir[f'opto_dir_{data_type}'], f'{session}_opto_metrics.pkl')):\n",
    "#     # load from pickle\n",
    "#     with open(os.path.join(session_dir[f'opto_dir_{data_type}'], f'{session}_opto_tagging_metrics.pkl'), 'rb') as f:\n",
    "#         unit_tbl = pickle.load(f)\n",
    "# # else: \n",
    "# #     unit_tbl = opto_plotting_session(session, 'curated', 'soma', plot=False, resp_thresh=0.3, lat_thresh=0.025) \n",
    "# #     unit_tbl.to_pickle(os.path.join(session_dir[f'opto_dir_{data_type}'], f'{session}_opto_metrics.pkl'))\n"
   ]
  },
  {
   "cell_type": "code",
   "execution_count": 14,
   "metadata": {},
   "outputs": [
    {
     "ename": "FileNotFoundError",
     "evalue": "[Errno 2] No such file or directory: '/root/capsule/scratch/716325/behavior_716325_2024-05-31_10-31-14/ephys/opto/curated/behavior_716325_2024-05-31_10-31-14_opto_tagging_metrics.pkl'",
     "output_type": "error",
     "traceback": [
      "\u001b[0;31m---------------------------------------------------------------------------\u001b[0m",
      "\u001b[0;31mFileNotFoundError\u001b[0m                         Traceback (most recent call last)",
      "\u001b[1;32m/root/capsule/code/beh_ephys_analysis/opto_tagging_kj_unit_loations.ipynb Cell 7\u001b[0m line \u001b[0;36m2\n\u001b[1;32m      <a href='vscode-notebook-cell://codeocean.allenneuraldynamics.org/root/capsule/code/beh_ephys_analysis/opto_tagging_kj_unit_loations.ipynb#W5sdnNjb2RlLXJlbW90ZQ%3D%3D?line=0'>1</a>\u001b[0m \u001b[39mfrom\u001b[39;00m\u001b[39m \u001b[39m\u001b[39mutils\u001b[39;00m\u001b[39m.\u001b[39;00m\u001b[39mbeh_functions\u001b[39;00m\u001b[39m \u001b[39m\u001b[39mimport\u001b[39;00m get_unit_tbl\n\u001b[0;32m----> <a href='vscode-notebook-cell://codeocean.allenneuraldynamics.org/root/capsule/code/beh_ephys_analysis/opto_tagging_kj_unit_loations.ipynb#W5sdnNjb2RlLXJlbW90ZQ%3D%3D?line=1'>2</a>\u001b[0m unit_tbl \u001b[39m=\u001b[39m get_unit_tbl(session, data_type)\n",
      "File \u001b[0;32m~/capsule/code/beh_ephys_analysis/utils/beh_functions.py:1040\u001b[0m, in \u001b[0;36mget_unit_tbl\u001b[0;34m(session, data_type)\u001b[0m\n\u001b[1;32m   1038\u001b[0m session_dir \u001b[39m=\u001b[39m session_dirs(session)\n\u001b[1;32m   1039\u001b[0m unit_tbl_dir \u001b[39m=\u001b[39m os\u001b[39m.\u001b[39mpath\u001b[39m.\u001b[39mjoin(session_dir[\u001b[39mf\u001b[39m\u001b[39m'\u001b[39m\u001b[39mopto_dir_\u001b[39m\u001b[39m{\u001b[39;00mdata_type\u001b[39m}\u001b[39;00m\u001b[39m'\u001b[39m], \u001b[39mf\u001b[39m\u001b[39m'\u001b[39m\u001b[39m{\u001b[39;00msession\u001b[39m}\u001b[39;00m\u001b[39m_opto_tagging_metrics.pkl\u001b[39m\u001b[39m'\u001b[39m)\n\u001b[0;32m-> 1040\u001b[0m \u001b[39mwith\u001b[39;00m \u001b[39mopen\u001b[39;49m(unit_tbl_dir, \u001b[39m'\u001b[39;49m\u001b[39mrb\u001b[39;49m\u001b[39m'\u001b[39;49m) \u001b[39mas\u001b[39;00m f:\n\u001b[1;32m   1041\u001b[0m     unit_data \u001b[39m=\u001b[39m pickle\u001b[39m.\u001b[39mload(f)\n\u001b[1;32m   1042\u001b[0m unit_tbl \u001b[39m=\u001b[39m unit_data[\u001b[39m'\u001b[39m\u001b[39mopto_tagging_df\u001b[39m\u001b[39m'\u001b[39m]\n",
      "\u001b[0;31mFileNotFoundError\u001b[0m: [Errno 2] No such file or directory: '/root/capsule/scratch/716325/behavior_716325_2024-05-31_10-31-14/ephys/opto/curated/behavior_716325_2024-05-31_10-31-14_opto_tagging_metrics.pkl'"
     ]
    }
   ],
   "source": [
    "# from utils.beh_functions import get_unit_tbl\n",
    "# unit_tbl = get_unit_tbl(session, data_type)"
   ]
  }
 ],
 "metadata": {
  "kernelspec": {
   "display_name": "base",
   "language": "python",
   "name": "python3"
  },
  "language_info": {
   "codemirror_mode": {
    "name": "ipython",
    "version": 3
   },
   "file_extension": ".py",
   "mimetype": "text/x-python",
   "name": "python",
   "nbconvert_exporter": "python",
   "pygments_lexer": "ipython3",
   "version": "3.10.16"
  }
 },
 "nbformat": 4,
 "nbformat_minor": 2
}
