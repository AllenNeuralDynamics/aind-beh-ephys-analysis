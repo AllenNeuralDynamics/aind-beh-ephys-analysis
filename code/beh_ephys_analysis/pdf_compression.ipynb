{
 "cells": [
  {
   "cell_type": "code",
   "execution_count": 1,
   "metadata": {},
   "outputs": [],
   "source": [
    "from behavior_and_time_alignment import beh_and_time_alignment\n",
    "from session_preprocessing import ephys_opto_preprocessing, session_crosscorr\n",
    "from opto_tagging import opto_plotting_session, opto_plotting_unit, opto_tagged_spike_stability\n",
    "from opto_waveforms_preprocessing import opto_wf_preprocessing\n",
    "import matplotlib.pyplot as plt\n",
    "from utils.beh_functions import session_dirs\n",
    "import numpy as np\n",
    "import pandas as pd\n",
    "import os\n",
    "from utils.plot_utils import combine_pdf_big"
   ]
  },
  {
   "cell_type": "code",
   "execution_count": 13,
   "metadata": {},
   "outputs": [],
   "source": [
    "session_assets = pd.read_csv('/root/capsule/code/data_management/session_assets.csv')\n",
    "session_list = session_assets['session_id']"
   ]
  },
  {
   "cell_type": "code",
   "execution_count": 14,
   "metadata": {},
   "outputs": [
    {
     "data": {
      "text/plain": [
       "['behavior_716325_2024-05-29_10-33-32',\n",
       " 'behavior_716325_2024-05-30_11-33-46',\n",
       " 'behavior_716325_2024-05-31_10-31-14',\n",
       " 'behavior_716325_2024-06-01_09-25-37',\n",
       " 'behavior_717121_2024-06-11_10-23-31',\n",
       " 'behavior_717121_2024-06-13_12-21-20',\n",
       " 'behavior_717121_2024-06-14_10-23-49',\n",
       " 'behavior_717121_2024-06-15_10-00-58',\n",
       " 'behavior_717121_2024-06-16_11-45-02']"
      ]
     },
     "execution_count": 14,
     "metadata": {},
     "output_type": "execute_result"
    }
   ],
   "source": [
    "aniIDs = ['716325', '717121']\n",
    "session_list = [session for session in session_list if any(aniID in session for aniID in aniIDs)]\n",
    "session_list"
   ]
  },
  {
   "cell_type": "code",
   "execution_count": 6,
   "metadata": {},
   "outputs": [
    {
     "data": {
      "text/plain": [
       "{'aniID': '716325',\n",
       " 'raw_id': '716325_2024-05-29_10-33-32',\n",
       " 'datetime': datetime.datetime(2024, 5, 29, 0, 0),\n",
       " 'raw_dir': '/root/capsule/data/behavior_716325_2024-05-29_10-33-32_raw_data',\n",
       " 'session_dir': '/root/capsule/data/behavior_716325_2024-05-29_10-33-32_raw_data/ecephys_clipped',\n",
       " 'processed_dir': '/root/capsule/scratch/716325/behavior_716325_2024-05-29_10-33-32',\n",
       " 'alignment_dir': '/root/capsule/scratch/716325/behavior_716325_2024-05-29_10-33-32/alignment',\n",
       " 'beh_fig_dir': '/root/capsule/scratch/716325/behavior_716325_2024-05-29_10-33-32/behavior',\n",
       " 'ephys_dir_raw': '/root/capsule/scratch/716325/behavior_716325_2024-05-29_10-33-32/ephys/raw',\n",
       " 'ephys_processed_dir_raw': '/root/capsule/scratch/716325/behavior_716325_2024-05-29_10-33-32/ephys/raw/processed',\n",
       " 'ephys_fig_dir_raw': '/root/capsule/scratch/716325/behavior_716325_2024-05-29_10-33-32/ephys/raw/figures',\n",
       " 'ephys_dir_curated': '/root/capsule/scratch/716325/behavior_716325_2024-05-29_10-33-32/ephys/curated',\n",
       " 'ephys_processed_dir_curated': '/root/capsule/scratch/716325/behavior_716325_2024-05-29_10-33-32/ephys/curated/processed',\n",
       " 'ephys_fig_dir_curated': '/root/capsule/scratch/716325/behavior_716325_2024-05-29_10-33-32/ephys/curated/figures',\n",
       " 'opto_dir': '/root/capsule/scratch/716325/behavior_716325_2024-05-29_10-33-32/ephys/opto',\n",
       " 'opto_dir_raw': '/root/capsule/scratch/716325/behavior_716325_2024-05-29_10-33-32/ephys/opto/raw',\n",
       " 'opto_dir_curated': '/root/capsule/scratch/716325/behavior_716325_2024-05-29_10-33-32/ephys/opto/curated',\n",
       " 'opto_dir_fig_raw': '/root/capsule/scratch/716325/behavior_716325_2024-05-29_10-33-32/ephys/opto/raw/figures',\n",
       " 'opto_dir_fig_curated': '/root/capsule/scratch/716325/behavior_716325_2024-05-29_10-33-32/ephys/opto/curated/figures',\n",
       " 'nwb_dir_raw': '/root/capsule/data/behavior_716325_2024-05-29_10-33-32_sorted/nwb/behavior_716325_2024-05-29_10-33-32_experiment1_recording1.nwb',\n",
       " 'nwb_dir_curated': None,\n",
       " 'postprocessed_dir_raw': '/root/capsule/data/behavior_716325_2024-05-29_10-33-32_sorted/postprocessed/experiment1_Record Node 104#Neuropix-PXI-100.ProbeA_recording1',\n",
       " 'postprocessed_dir_curated': None,\n",
       " 'curated_dir_raw': '/root/capsule/data/behavior_716325_2024-05-29_10-33-32_sorted/curated/experiment1_Record Node 104#Neuropix-PXI-100.ProbeA_recording1',\n",
       " 'curated_dir_curated': None,\n",
       " 'model_dir': None,\n",
       " 'model_file': None,\n",
       " 'session_curation_file': None,\n",
       " 'beh_nwb_dir': None,\n",
       " 'sorted_dir_curated': '/root/capsule/data/behavior_716325_2024-05-29_10-33-32_sorted',\n",
       " 'opto_csvs': ['/root/capsule/data/behavior_716325_2024-05-29_10-33-32_raw_data/ecephys_clipped/240529103042_716325.opto.csv']}"
      ]
     },
     "execution_count": 6,
     "metadata": {},
     "output_type": "execute_result"
    }
   ],
   "source": [
    "session_dir = session_dirs(session_list[0])\n",
    "session_dir"
   ]
  },
  {
   "cell_type": "code",
   "execution_count": null,
   "metadata": {},
   "outputs": [],
   "source": [
    "session_list = ['751004_2023-01-31_16-00-00', '758017_2023-02-01_16-00-00']"
   ]
  },
  {
   "cell_type": "code",
   "execution_count": 19,
   "metadata": {},
   "outputs": [
    {
     "name": "stdout",
     "output_type": "stream",
     "text": [
      "Combined PDF saved as: /root/capsule/scratch/717121/behavior_717121_2024-06-15_10-00-58/ephys/opto/raw/behavior_717121_2024-06-15_10-00-58_opto_tagging_png.pdf\n",
      "Combined PDF saved as: /root/capsule/scratch/716325/behavior_716325_2024-05-31_10-31-14/ephys/opto/raw/behavior_716325_2024-05-31_10-31-14_opto_tagging_png.pdf\n"
     ]
    }
   ],
   "source": [
    "session_list = ['behavior_717121_2024-06-15_10-00-58', 'behavior_716325_2024-05-31_10-31-14']\n",
    "for session in session_list:\n",
    "    session_dir = session_dirs(session)\n",
    "    pdf_dir = session_dir[f'opto_dir_fig_{data_type}']\n",
    "    output_pdf = os.path.join(session_dirs(session)[f'opto_dir_{data_type}'], f'{session}_opto_tagging_png.pdf')\n",
    "    if os.path.exists(os.path.join(session_dir['beh_fig_dir'], f'{session}.nwb')):\n",
    "        combine_pdf_big(pdf_dir, output_pdf)"
   ]
  },
  {
   "cell_type": "code",
   "execution_count": 16,
   "metadata": {},
   "outputs": [
    {
     "data": {
      "text/plain": [
       "'/root/capsule/scratch/717121/behavior_717121_2024-06-16_11-45-02/ephys/opto/raw/figures'"
      ]
     },
     "execution_count": 16,
     "metadata": {},
     "output_type": "execute_result"
    }
   ],
   "source": [
    " session_dir[f'opto_dir_fig_{data_type}']"
   ]
  },
  {
   "cell_type": "code",
   "execution_count": 2,
   "metadata": {},
   "outputs": [
    {
     "name": "stdout",
     "output_type": "stream",
     "text": [
      "behavior_716325_2024-05-31_10-31-14\n",
      "behavior_717121_2024-06-15_10-00-58\n"
     ]
    },
    {
     "name": "stderr",
     "output_type": "stream",
     "text": [
      "/opt/conda/lib/python3.9/site-packages/scipy/stats/_stats_py.py:7985: RuntimeWarning: invalid value encountered in divide\n",
      "  terms = (f_obs_float - f_exp)**2 / f_exp\n"
     ]
    },
    {
     "name": "stdout",
     "output_type": "stream",
     "text": [
      "behavior_717121_2024-06-15_10-00-58\n",
      "behavior_716325_2024-05-31_10-31-14\n"
     ]
    }
   ],
   "source": [
    "from joblib import Parallel, delayed\n",
    "session_list = ['behavior_717121_2024-06-15_10-00-58',\n",
    "                'behavior_716325_2024-05-31_10-31-14']\n",
    "\n",
    "def process(session, data_type='raw'):\n",
    "    beh_and_time_alignment(session)\n",
    "    ephys_opto_preprocessing(session, data_type, 'soma')\n",
    "    opto_wf_preprocessing(session, data_type, 'soma', load_sorting_analyzer=True)\n",
    "    \n",
    "    plt.close('all')\n",
    "    opto_tagging_df = opto_plotting_session(session, data_type, 'soma', plot=True, resp_thresh=0.4, lat_thresh=0.02)\n",
    "    plt.close('all')\n",
    "    opto_tagged_spike_stability(session, data_type, 'soma', opto_tagging_df=opto_tagging_df)\n",
    "\n",
    "Parallel(n_jobs=3)(delayed(process)(session) for session in session_list)"
   ]
  },
  {
   "cell_type": "code",
   "execution_count": 8,
   "metadata": {},
   "outputs": [
    {
     "name": "stderr",
     "output_type": "stream",
     "text": [
      "/root/capsule/code/beh_ephys_analysis/opto_tagging.py:345: FutureWarning: errors='ignore' is deprecated and will raise in a future version. Use to_numeric without passing `errors` and catch exceptions explicitly instead\n",
      "  unit_qc = unit_qc.apply(pd.to_numeric, errors='ignore')\n"
     ]
    },
    {
     "name": "stdout",
     "output_type": "stream",
     "text": [
      "95 out of 271 units pass quality control\n",
      "{'samples_to_keep': [-30, 60], 'y_neighbors_to_keep': 3, 'orginal_loc': False}\n"
     ]
    },
    {
     "name": "stderr",
     "output_type": "stream",
     "text": [
      "/root/capsule/code/beh_ephys_analysis/opto_tagging.py:386: FutureWarning: errors='ignore' is deprecated and will raise in a future version. Use to_numeric without passing `errors` and catch exceptions explicitly instead\n",
      "  opto_wf = opto_wf.apply(pd.to_numeric, errors='ignore')\n"
     ]
    },
    {
     "name": "stdout",
     "output_type": "stream",
     "text": [
      "Merging file 0 out of 271\n",
      "Merging file 50 out of 271\n",
      "Merging file 100 out of 271\n",
      "Merging file 150 out of 271\n",
      "Merging file 200 out of 271\n",
      "Merging file 250 out of 271\n",
      "PDF files in '/root/capsule/scratch/751004/behavior_751004_2024-12-19_11-50-37/ephys/opto/raw/figures' merged into '/root/capsule/scratch/751004/behavior_751004_2024-12-19_11-50-37/ephys/opto/raw/behavior_751004_2024-12-19_11-50-37_opto_tagging.pdf' successfully.\n",
      "5 out of 271 units pass quality control and opto tagging\n"
     ]
    },
    {
     "name": "stderr",
     "output_type": "stream",
     "text": [
      "/root/capsule/code/beh_ephys_analysis/opto_tagging.py:458: UserWarning: Boolean Series key will be reindexed to match DataFrame index.\n",
      "  opto_tagging_df_focus = opto_tagging_df_sorted[(opto_tagging_df_sorted['opto_pass'] == True) & (opto_tagging_df['decoder_label'] != 'artifact') & (opto_tagging_df['decoder_label'] != 'noise')].copy()\n"
     ]
    }
   ],
   "source": [
    "plt.close('all')\n",
    "data_type = 'raw'\n",
    "session = session_list[0]\n",
    "opto_tagging_df = opto_plotting_session(session, data_type, 'soma', plot=True, resp_thresh=0.4, lat_thresh=0.02)\n",
    "plt.close('all')\n",
    "opto_tagged_spike_stability(session, data_type, 'soma', opto_tagging_df=opto_tagging_df)"
   ]
  },
  {
   "cell_type": "code",
   "execution_count": null,
   "metadata": {},
   "outputs": [],
   "source": [
    "for session in session_list:\n",
    "    ephys_opto_preprocessing(session, 'curated', 'soma')\n",
    "    opto_wf_preprocessing(session, 'curated', 'soma', load_sorting_analyzer=False)\n",
    "    opto_plotting_session(session, 'curated', plot=True)\n",
    "    plt.close('all')"
   ]
  },
  {
   "cell_type": "code",
   "execution_count": 7,
   "metadata": {},
   "outputs": [],
   "source": [
    "session = 'behavior_751004_2024-12-20_13-26-11'\n",
    "data_type = 'raw'\n",
    "target = 'soma'\n",
    "target_unit_ids = [16]\n",
    "# pass_df = opto_plotting_session(session, data_type, target, plot=True,  resp_thresh=0.5, lat_thresh=0.015, target_unit_ids=target_unit_ids)"
   ]
  },
  {
   "cell_type": "code",
   "execution_count": null,
   "metadata": {},
   "outputs": [],
   "source": [
    "data_type = 'raw'\n",
    "target = 'soma'\n",
    "for session in session_list:\n",
    "    combine_qc = opto_plotting_session(session, data_type, target, plot=True,  resp_thresh=0.5, lat_thresh=0.015)"
   ]
  },
  {
   "cell_type": "code",
   "execution_count": 8,
   "metadata": {},
   "outputs": [],
   "source": [
    "session_dir = session_dirs(session)\n",
    "opto_wf_csv = os.path.join(session_dir[f'opto_dir_{data_type}'], f'{session}_opto_waveform_metrics.csv')\n",
    "opto_wf = pd.read_csv(opto_wf_csv)"
   ]
  },
  {
   "cell_type": "code",
   "execution_count": 7,
   "metadata": {},
   "outputs": [],
   "source": [
    "pip install ipykernel"
   ]
  }
 ],
 "metadata": {
  "kernelspec": {
   "display_name": "base",
   "language": "python",
   "name": "python3"
  },
  "language_info": {
   "codemirror_mode": {
    "name": "ipython",
    "version": 3
   },
   "file_extension": ".py",
   "mimetype": "text/x-python",
   "name": "python",
   "nbconvert_exporter": "python",
   "pygments_lexer": "ipython3",
   "version": "3.9.12"
  }
 },
 "nbformat": 4,
 "nbformat_minor": 2
}
