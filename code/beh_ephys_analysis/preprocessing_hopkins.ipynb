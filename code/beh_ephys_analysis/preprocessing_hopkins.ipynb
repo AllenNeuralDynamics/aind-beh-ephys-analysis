{
 "cells": [
  {
   "cell_type": "code",
   "execution_count": 1,
   "metadata": {},
   "outputs": [],
   "source": [
    "import os\n",
    "import sys\n",
    "sys.path.append('/root/capsule/code/beh_ephys_analysis')\n",
    "from utils.beh_functions import parseSessionID, session_dirs, plot_session_in_time_all, plot_session_glm, transfer_nwb, get_unit_tbl\n",
    "from utils.ephys_functions import make_summary_unit_tbl\n",
    "from unit_beh_analysis import plot_unit_beh_session, plot_alignments\n",
    "from behavior_and_time_alignment import beh_and_time_alignment_hopkins\n",
    "import shutil\n",
    "from aind_dynamic_foraging_data_utils.nwb_utils import load_nwb_from_filename\n",
    "import pandas as pd\n",
    "from joblib import Parallel, delayed\n",
    "from aind_dynamic_foraging_basic_analysis.plot.plot_foraging_session import plot_foraging_session, plot_foraging_session_nwb\n",
    "from aind_dynamic_foraging_basic_analysis.licks.lick_analysis import plot_lick_analysis\n",
    "import datetime\n",
    "import numpy as np\n",
    "import matplotlib.pyplot as plt\n",
    "import json"
   ]
  },
  {
   "cell_type": "code",
   "execution_count": 2,
   "metadata": {},
   "outputs": [
    {
     "name": "stdout",
     "output_type": "stream",
     "text": [
      "Old data, using hopkins formats\n"
     ]
    },
    {
     "data": {
      "text/plain": [
       "'/root/capsule/data/behavior_ZS061_2021-04-17_16-50-25_raw_data/ecephys/sorted/session/mZS061d20210417_sessionData_nL.mat'"
      ]
     },
     "execution_count": 2,
     "metadata": {},
     "output_type": "execute_result"
    }
   ],
   "source": [
    "session_id = 'behavior_ZS061_2021-04-17_16-50-25'\n",
    "session_dir = session_dirs(session_id)\n",
    "session_dir['ephys_mat']"
   ]
  },
  {
   "cell_type": "code",
   "execution_count": 3,
   "metadata": {},
   "outputs": [
    {
     "name": "stdout",
     "output_type": "stream",
     "text": [
      "Old data, using hopkins formats\n"
     ]
    }
   ],
   "source": [
    "# transfer behavior nwb\n",
    "transfer_nwb(session_id) "
   ]
  },
  {
   "cell_type": "code",
   "execution_count": 4,
   "metadata": {},
   "outputs": [
    {
     "name": "stdout",
     "output_type": "stream",
     "text": [
      "Old data, using hopkins formats\n",
      "behavior_ZS061_2021-04-17_16-50-25\n"
     ]
    }
   ],
   "source": [
    "# check time alignment\n",
    "beh_and_time_alignment_hopkins(session_id)"
   ]
  },
  {
   "cell_type": "code",
   "execution_count": 5,
   "metadata": {},
   "outputs": [
    {
     "name": "stdout",
     "output_type": "stream",
     "text": [
      "Old data, using hopkins formats\n",
      "Selected experiment1 recording1, length:3362.95\n",
      "Old data, using hopkins formats\n",
      "Old data, using hopkins formats\n",
      "Old data, using hopkins formats\n",
      "Old data, using hopkins formats\n",
      "Old data, using hopkins formats\n",
      "Old data, using hopkins formats\n",
      "Plotting unit TT4_SS_01\n",
      "Old data, using hopkins formats\n",
      "Combining behavior_ZS061_2021-04-20_15-49-57\n",
      "Processing 2 files in /root/capsule/scratch/ZS061/behavior_ZS061_2021-04-20_15-49-57/ephys/curated/figures/go_cue\n",
      "Combined PDF saved as: /root/capsule/scratch/ZS061/behavior_ZS061_2021-04-20_15-49-57/ephys/curated/behavior_ZS061_2021-04-20_15-49-57_unit_beh_go_cue.pdf\n",
      "Old data, using hopkins formats\n",
      "behavior_ZS061_2021-03-18_17-39-19\n",
      "Old data, using hopkins formats\n",
      "Old data, using hopkins formats\n",
      "Old data, using hopkins formats\n",
      "behavior_ZS059_2021-03-29_14-41-57\n",
      "Processed behavior_ZS059_2021-03-29_14-41-57\n",
      "Old data, using hopkins formats\n",
      "Old data, using hopkins formats\n",
      "Old data, using hopkins formats\n",
      "behavior_ZS059_2021-03-30_14-57-13\n",
      "Processed behavior_ZS059_2021-03-30_14-57-13\n",
      "Old data, using hopkins formats\n",
      "Old data, using hopkins formats\n",
      "Old data, using hopkins formats\n",
      "behavior_ZS059_2021-03-31_14-32-51\n",
      "Processed behavior_ZS059_2021-03-31_14-32-51\n",
      "Old data, using hopkins formats\n",
      "Old data, using hopkins formats\n",
      "Old data, using hopkins formats\n",
      "behavior_ZS059_2021-04-02_15-05-16\n",
      "Processed behavior_ZS059_2021-04-02_15-05-16\n",
      "Old data, using hopkins formats\n",
      "Old data, using hopkins formats\n",
      "Old data, using hopkins formats\n",
      "behavior_ZS059_2021-04-01_14-17-46\n",
      "Processed behavior_ZS059_2021-04-01_14-17-46\n",
      "Old data, using hopkins formats\n",
      "Old data, using hopkins formats\n",
      "Old data, using hopkins formats\n",
      "behavior_ZS059_2021-04-04_15-23-14\n",
      "Processed behavior_ZS059_2021-04-04_15-23-14\n",
      "Old data, using hopkins formats\n",
      "Old data, using hopkins formats\n",
      "Old data, using hopkins formats\n",
      "behavior_ZS059_2021-04-03_16-30-45\n",
      "Processed behavior_ZS059_2021-04-03_16-30-45\n",
      "Old data, using hopkins formats\n",
      "Old data, using hopkins formats\n",
      "Old data, using hopkins formats\n",
      "behavior_ZS059_2021-04-05_14-33-48\n",
      "Processed behavior_ZS059_2021-04-05_14-33-48\n",
      "Old data, using hopkins formats\n",
      "Old data, using hopkins formats\n",
      "Old data, using hopkins formats\n",
      "behavior_ZS059_2021-04-07_13-58-21\n",
      "Processed behavior_ZS059_2021-04-07_13-58-21\n",
      "Old data, using hopkins formats\n",
      "Old data, using hopkins formats\n",
      "Old data, using hopkins formats\n",
      "behavior_ZS059_2021-04-06_14-30-26\n",
      "Processed behavior_ZS059_2021-04-06_14-30-26\n",
      "Old data, using hopkins formats\n",
      "Old data, using hopkins formats\n",
      "Old data, using hopkins formats\n",
      "behavior_ZS059_2021-04-09_15-53-45\n",
      "Processed behavior_ZS059_2021-04-09_15-53-45\n",
      "Old data, using hopkins formats\n",
      "Old data, using hopkins formats\n",
      "Old data, using hopkins formats\n",
      "behavior_ZS059_2021-04-08_15-53-36\n",
      "Processed behavior_ZS059_2021-04-08_15-53-36\n",
      "Old data, using hopkins formats\n",
      "Old data, using hopkins formats\n",
      "Old data, using hopkins formats\n",
      "behavior_ZS059_2021-04-11_15-41-45\n",
      "Processed behavior_ZS059_2021-04-11_15-41-45\n",
      "Old data, using hopkins formats\n",
      "Old data, using hopkins formats\n",
      "Old data, using hopkins formats\n",
      "behavior_ZS059_2021-04-12_14-57-43\n",
      "Processed behavior_ZS059_2021-04-12_14-57-43\n",
      "Old data, using hopkins formats\n",
      "Old data, using hopkins formats\n",
      "Old data, using hopkins formats\n",
      "behavior_ZS059_2021-04-10_15-55-11\n",
      "Processed behavior_ZS059_2021-04-10_15-55-11\n",
      "Old data, using hopkins formats\n",
      "Old data, using hopkins formats\n",
      "Old data, using hopkins formats\n",
      "behavior_ZS059_2021-04-13_15-43-53\n",
      "Processed behavior_ZS059_2021-04-13_15-43-53\n",
      "Old data, using hopkins formats\n",
      "Old data, using hopkins formats\n",
      "Old data, using hopkins formats\n",
      "behavior_ZS059_2021-04-15_15-29-28\n",
      "Processed behavior_ZS059_2021-04-15_15-29-28\n",
      "Old data, using hopkins formats\n",
      "Old data, using hopkins formats\n",
      "Old data, using hopkins formats\n",
      "behavior_ZS059_2021-04-16_14-50-15\n",
      "Processed behavior_ZS059_2021-04-16_14-50-15\n",
      "Old data, using hopkins formats\n",
      "Old data, using hopkins formats\n",
      "Old data, using hopkins formats\n",
      "behavior_ZS059_2021-04-14_14-51-04\n",
      "Processed behavior_ZS059_2021-04-14_14-51-04\n",
      "Old data, using hopkins formats\n",
      "Old data, using hopkins formats\n",
      "Old data, using hopkins formats\n",
      "behavior_ZS059_2021-04-20_14-50-03\n",
      "Processed behavior_ZS059_2021-04-20_14-50-03\n",
      "Old data, using hopkins formats\n",
      "Old data, using hopkins formats\n",
      "Old data, using hopkins formats\n",
      "behavior_ZS059_2021-04-17_15-44-53\n",
      "Processed behavior_ZS059_2021-04-17_15-44-53\n",
      "Old data, using hopkins formats\n",
      "Old data, using hopkins formats\n",
      "Old data, using hopkins formats\n",
      "behavior_ZS059_2021-04-21_15-58-55\n",
      "Processed behavior_ZS059_2021-04-21_15-58-55\n",
      "Old data, using hopkins formats\n",
      "No raw session directory found for behavior_ZS059_2021-04-18_17-26-19.\n",
      "Old data, using hopkins formats\n",
      "No raw session directory found for behavior_ZS059_2021-04-18_17-26-19.\n",
      "Old data, using hopkins formats\n",
      "No raw session directory found for behavior_ZS059_2021-04-18_17-26-19.\n",
      "behavior_ZS059_2021-04-18_17-26-19\n"
     ]
    }
   ],
   "source": [
    "# make summary unit table\n",
    "make_summary_unit_tbl(session_id)"
   ]
  },
  {
   "cell_type": "code",
   "execution_count": 6,
   "metadata": {},
   "outputs": [],
   "source": [
    "# get summary unit table's columns\n",
    "example_tbl = get_unit_tbl('behavior_761038_2025-04-15_10-25-11', 'curated')\n",
    "col_list = example_tbl.columns.tolist()\n",
    "with open(\"summary_col_list.json\", \"w\") as f:\n",
    "    json.dump(col_list, f)"
   ]
  },
  {
   "cell_type": "code",
   "execution_count": 7,
   "metadata": {},
   "outputs": [
    {
     "name": "stderr",
     "output_type": "stream",
     "text": [
      "/opt/conda/lib/python3.10/site-packages/aind_dynamic_foraging_basic_analysis/plot/plot_foraging_session.py:497: UserWarning: This figure includes Axes that are not compatible with tight_layout, so results might be incorrect.\n",
      "  plt.tight_layout()\n"
     ]
    }
   ],
   "source": [
    "plot_unit_beh_session('behavior_ZS061_2021-04-20_15-49-57', align_name='go_cue')"
   ]
  },
  {
   "cell_type": "code",
   "execution_count": 2,
   "metadata": {},
   "outputs": [],
   "source": [
    "# get session list\n",
    "session_df = pd.read_csv('/root/capsule/code/data_management/hopkins_session_assets.csv')\n",
    "session_ids = session_df['session_id'].to_list()"
   ]
  },
  {
   "cell_type": "code",
   "execution_count": 3,
   "metadata": {},
   "outputs": [],
   "source": [
    "def process(session_id):\n",
    "    session_dir = session_dirs(session_id);\n",
    "    if os.path.exists(session_dir['nwb_dir_raw']) and get_unit_tbl(session_id, 'curated') is not None:\n",
    "        # try:\n",
    "        # transfer_nwb(session_id);\n",
    "        # beh_and_time_alignment_hopkins(session_id, ephys_cut=[0, 0]);\n",
    "        # make_summary_unit_tbl(session)\n",
    "        # plot_unit_beh_session(session_id, align_name='go_cue')\n",
    "        # plot_unit_beh_session(session_id, align_name='response')\n",
    "        plot_alignments(session_id)\n",
    "        print(f'Processed {session_id}')\n",
    "        plt.close('all')\n",
    "        # except:\n",
    "        #     print(f'{session_id} failed')"
   ]
  },
  {
   "cell_type": "code",
   "execution_count": 11,
   "metadata": {},
   "outputs": [],
   "source": [
    "beh_and_time_alignment_hopkins('behavior_ZS061_2021-03-18_17-39-19', ephys_cut=[0, 0])"
   ]
  },
  {
   "cell_type": "code",
   "execution_count": 9,
   "metadata": {},
   "outputs": [
    {
     "name": "stdout",
     "output_type": "stream",
     "text": [
      "Old data, using hopkins formats\n",
      "No raw session directory found for behavior_ZS059_2021-04-18_17-26-19.\n",
      "Old data, using hopkins formats\n",
      "No raw session directory found for behavior_ZS059_2021-04-18_17-26-19.\n",
      "Old data, using hopkins formats\n",
      "No raw session directory found for behavior_ZS059_2021-04-18_17-26-19.\n",
      "behavior_ZS059_2021-04-18_17-26-19\n",
      "Processed behavior_ZS059_2021-04-18_17-26-19\n",
      "Old data, using hopkins formats\n",
      "Old data, using hopkins formats\n",
      "Old data, using hopkins formats\n",
      "behavior_ZS059_2021-04-19_14-42-16\n",
      "Processed behavior_ZS059_2021-04-19_14-42-16\n",
      "Old data, using hopkins formats\n",
      "Old data, using hopkins formats\n",
      "Old data, using hopkins formats\n",
      "behavior_ZS059_2021-04-24_15-38-10\n",
      "Processed behavior_ZS059_2021-04-24_15-38-10\n",
      "Old data, using hopkins formats\n",
      "Old data, using hopkins formats\n",
      "Old data, using hopkins formats\n",
      "behavior_ZS059_2021-04-23_14-57-50\n",
      "Processed behavior_ZS059_2021-04-23_14-57-50\n",
      "Old data, using hopkins formats\n",
      "Old data, using hopkins formats\n",
      "Old data, using hopkins formats\n",
      "behavior_ZS059_2021-04-22_15-11-25\n",
      "Processed behavior_ZS059_2021-04-22_15-11-25\n",
      "Old data, using hopkins formats\n",
      "Old data, using hopkins formats\n",
      "Old data, using hopkins formats\n",
      "behavior_ZS059_2021-04-25_16-22-31\n",
      "Processed behavior_ZS059_2021-04-25_16-22-31\n",
      "Old data, using hopkins formats\n",
      "Old data, using hopkins formats\n",
      "Old data, using hopkins formats\n",
      "behavior_ZS059_2021-04-26_14-44-03\n",
      "Processed behavior_ZS059_2021-04-26_14-44-03\n",
      "Old data, using hopkins formats\n",
      "Old data, using hopkins formats\n",
      "Old data, using hopkins formats\n",
      "behavior_ZS059_2021-04-27_15-12-43\n",
      "Processed behavior_ZS059_2021-04-27_15-12-43\n",
      "Old data, using hopkins formats\n",
      "Old data, using hopkins formats\n",
      "Old data, using hopkins formats\n",
      "behavior_ZS059_2021-04-28_14-00-12\n",
      "Processed behavior_ZS059_2021-04-28_14-00-12\n",
      "Old data, using hopkins formats\n",
      "Old data, using hopkins formats\n",
      "Old data, using hopkins formats\n",
      "behavior_ZS059_2021-04-29_14-02-45\n",
      "Processed behavior_ZS059_2021-04-29_14-02-45\n",
      "Old data, using hopkins formats\n",
      "Old data, using hopkins formats\n",
      "Old data, using hopkins formats\n",
      "behavior_ZS059_2021-03-27_16-03-00\n",
      "Processed behavior_ZS059_2021-03-27_16-03-00\n",
      "Old data, using hopkins formats\n",
      "Old data, using hopkins formats\n",
      "Old data, using hopkins formats\n",
      "behavior_ZS059_2021-03-24_14-22-04\n",
      "Processed behavior_ZS059_2021-03-24_14-22-04\n",
      "Old data, using hopkins formats\n",
      "Old data, using hopkins formats\n",
      "Old data, using hopkins formats\n",
      "behavior_ZS059_2021-03-28_14-18-58\n",
      "Processed behavior_ZS059_2021-03-28_14-18-58\n",
      "Old data, using hopkins formats\n",
      "Old data, using hopkins formats\n",
      "Old data, using hopkins formats\n",
      "behavior_ZS059_2021-03-26_13-52-11\n",
      "Processed behavior_ZS059_2021-03-26_13-52-11\n",
      "Old data, using hopkins formats\n",
      "Old data, using hopkins formats\n",
      "Old data, using hopkins formats\n",
      "behavior_ZS059_2021-03-25_14-40-45\n",
      "Processed behavior_ZS059_2021-03-25_14-40-45\n",
      "Old data, using hopkins formats\n",
      "No raw session directory found for behavior_ZS060_2021-04-14_18-15-27.\n",
      "Old data, using hopkins formats\n",
      "No raw session directory found for behavior_ZS060_2021-04-14_18-15-27.\n",
      "Old data, using hopkins formats\n",
      "No raw session directory found for behavior_ZS060_2021-04-14_18-15-27.\n",
      "behavior_ZS060_2021-04-14_18-15-27\n",
      "Processed behavior_ZS060_2021-04-14_18-15-27\n",
      "Old data, using hopkins formats\n",
      "Old data, using hopkins formats\n",
      "Old data, using hopkins formats\n",
      "behavior_ZS060_2021-04-09_17-07-51\n",
      "Processed behavior_ZS060_2021-04-09_17-07-51\n",
      "Old data, using hopkins formats\n",
      "Old data, using hopkins formats\n",
      "Old data, using hopkins formats\n",
      "behavior_ZS060_2021-04-15_19-06-02\n",
      "Processed behavior_ZS060_2021-04-15_19-06-02\n",
      "Old data, using hopkins formats\n",
      "No raw session directory found for behavior_ZS060_2021-04-21_19-23-52.\n",
      "Old data, using hopkins formats\n",
      "No raw session directory found for behavior_ZS060_2021-04-21_19-23-52.\n",
      "Old data, using hopkins formats\n",
      "No raw session directory found for behavior_ZS060_2021-04-21_19-23-52.\n",
      "behavior_ZS060_2021-04-21_19-23-52\n",
      "Processed behavior_ZS060_2021-04-21_19-23-52\n",
      "Old data, using hopkins formats\n",
      "Old data, using hopkins formats\n",
      "Old data, using hopkins formats\n",
      "behavior_ZS060_2021-04-22_18-30-00\n",
      "Processed behavior_ZS060_2021-04-22_18-30-00\n",
      "Old data, using hopkins formats\n",
      "No raw session directory found for behavior_ZS060_2021-04-11_16-41-30.\n",
      "Old data, using hopkins formats\n",
      "No raw session directory found for behavior_ZS060_2021-04-11_16-41-30.\n",
      "Old data, using hopkins formats\n",
      "No raw session directory found for behavior_ZS060_2021-04-11_16-41-30.\n",
      "behavior_ZS060_2021-04-11_16-41-30\n",
      "Processed behavior_ZS060_2021-04-11_16-41-30\n",
      "Old data, using hopkins formats\n",
      "No raw session directory found for behavior_ZS060_2021-04-12_15-57-59.\n",
      "Old data, using hopkins formats\n",
      "No raw session directory found for behavior_ZS060_2021-04-12_15-57-59.\n",
      "Old data, using hopkins formats\n",
      "No raw session directory found for behavior_ZS060_2021-04-12_15-57-59.\n",
      "behavior_ZS060_2021-04-12_15-57-59\n",
      "Processed behavior_ZS060_2021-04-12_15-57-59\n",
      "Old data, using hopkins formats\n",
      "No raw session directory found for behavior_ZS060_2021-04-10_16-58-41.\n",
      "Old data, using hopkins formats\n",
      "No raw session directory found for behavior_ZS060_2021-04-10_16-58-41.\n",
      "Old data, using hopkins formats\n",
      "No raw session directory found for behavior_ZS060_2021-04-10_16-58-41.\n",
      "behavior_ZS060_2021-04-10_16-58-41\n",
      "Processed behavior_ZS060_2021-04-10_16-58-41\n",
      "Old data, using hopkins formats\n",
      "Old data, using hopkins formats\n",
      "Old data, using hopkins formats\n",
      "behavior_ZS060_2021-04-16_16-09-11\n",
      "Processed behavior_ZS060_2021-04-16_16-09-11\n",
      "Old data, using hopkins formats\n",
      "No raw session directory found for behavior_ZS060_2021-04-27_16-21-43.\n",
      "Old data, using hopkins formats\n",
      "No raw session directory found for behavior_ZS060_2021-04-27_16-21-43.\n",
      "Old data, using hopkins formats\n",
      "No raw session directory found for behavior_ZS060_2021-04-27_16-21-43.\n",
      "behavior_ZS060_2021-04-27_16-21-43\n",
      "Processed behavior_ZS060_2021-04-27_16-21-43\n",
      "Old data, using hopkins formats\n",
      "Old data, using hopkins formats\n",
      "Old data, using hopkins formats\n",
      "behavior_ZS060_2021-04-23_18-34-53\n",
      "Processed behavior_ZS060_2021-04-23_18-34-53\n",
      "Old data, using hopkins formats\n",
      "Old data, using hopkins formats\n",
      "Old data, using hopkins formats\n",
      "behavior_ZS060_2021-04-28_15-16-45\n",
      "Processed behavior_ZS060_2021-04-28_15-16-45\n",
      "Old data, using hopkins formats\n",
      "Old data, using hopkins formats\n",
      "Old data, using hopkins formats\n",
      "behavior_ZS060_2021-04-24_18-50-00\n",
      "Processed behavior_ZS060_2021-04-24_18-50-00\n",
      "Old data, using hopkins formats\n",
      "Old data, using hopkins formats\n",
      "Old data, using hopkins formats\n",
      "behavior_ZS060_2021-04-25_19-51-06\n",
      "Processed behavior_ZS060_2021-04-25_19-51-06\n",
      "Old data, using hopkins formats\n",
      "Old data, using hopkins formats\n",
      "Old data, using hopkins formats\n",
      "behavior_ZS060_2021-04-26_19-24-52\n",
      "Processed behavior_ZS060_2021-04-26_19-24-52\n",
      "Old data, using hopkins formats\n",
      "Old data, using hopkins formats\n",
      "Old data, using hopkins formats\n",
      "behavior_ZS060_2021-04-29_15-15-00\n",
      "Processed behavior_ZS060_2021-04-29_15-15-00\n",
      "Old data, using hopkins formats\n",
      "Old data, using hopkins formats\n",
      "Old data, using hopkins formats\n",
      "behavior_ZS060_2021-03-20_16-20-00\n",
      "Processed behavior_ZS060_2021-03-20_16-20-00\n",
      "Old data, using hopkins formats\n",
      "Old data, using hopkins formats\n",
      "Old data, using hopkins formats\n",
      "behavior_ZS060_2021-03-21_16-15-00\n",
      "Processed behavior_ZS060_2021-03-21_16-15-00\n",
      "Old data, using hopkins formats\n",
      "Old data, using hopkins formats\n",
      "Old data, using hopkins formats\n",
      "behavior_ZS060_2021-03-22_16-25-00\n",
      "Processed behavior_ZS060_2021-03-22_16-25-00\n",
      "Old data, using hopkins formats\n",
      "Old data, using hopkins formats\n",
      "Old data, using hopkins formats\n",
      "behavior_ZS060_2021-03-25_16-00-00\n",
      "Processed behavior_ZS060_2021-03-25_16-00-00\n",
      "Old data, using hopkins formats\n",
      "Old data, using hopkins formats\n",
      "Old data, using hopkins formats\n",
      "behavior_ZS060_2021-03-23_15-15-00\n",
      "Processed behavior_ZS060_2021-03-23_15-15-00\n",
      "Old data, using hopkins formats\n",
      "Old data, using hopkins formats\n",
      "Old data, using hopkins formats\n",
      "behavior_ZS060_2021-03-27_17-11-43\n",
      "Processed behavior_ZS060_2021-03-27_17-11-43\n",
      "Old data, using hopkins formats\n",
      "Old data, using hopkins formats\n",
      "Old data, using hopkins formats\n",
      "behavior_ZS060_2021-03-24_15-40-00\n",
      "Processed behavior_ZS060_2021-03-24_15-40-00\n",
      "Old data, using hopkins formats\n",
      "Old data, using hopkins formats\n",
      "Old data, using hopkins formats\n",
      "behavior_ZS060_2021-03-29_16-21-37\n",
      "Processed behavior_ZS060_2021-03-29_16-21-37\n",
      "Old data, using hopkins formats\n",
      "Old data, using hopkins formats\n",
      "Old data, using hopkins formats\n",
      "behavior_ZS060_2021-03-26_14-50-00\n",
      "Processed behavior_ZS060_2021-03-26_14-50-00\n",
      "Old data, using hopkins formats\n",
      "Old data, using hopkins formats\n",
      "Old data, using hopkins formats\n",
      "behavior_ZS060_2021-03-28_15-27-56\n",
      "Processed behavior_ZS060_2021-03-28_15-27-56\n",
      "Old data, using hopkins formats\n",
      "Old data, using hopkins formats\n",
      "Old data, using hopkins formats\n",
      "behavior_ZS060_2021-03-30_16-13-03\n",
      "Processed behavior_ZS060_2021-03-30_16-13-03\n",
      "Old data, using hopkins formats\n",
      "Old data, using hopkins formats\n",
      "Old data, using hopkins formats\n",
      "behavior_ZS060_2021-03-31_15-45-00\n",
      "Processed behavior_ZS060_2021-03-31_15-45-00\n",
      "Old data, using hopkins formats\n",
      "Old data, using hopkins formats\n",
      "Old data, using hopkins formats\n",
      "behavior_ZS060_2021-04-01_15-30-00\n",
      "Processed behavior_ZS060_2021-04-01_15-30-00\n",
      "Old data, using hopkins formats\n",
      "Old data, using hopkins formats\n",
      "Old data, using hopkins formats\n",
      "behavior_ZS060_2021-04-02_16-30-00\n",
      "Processed behavior_ZS060_2021-04-02_16-30-00\n",
      "Old data, using hopkins formats\n",
      "Old data, using hopkins formats\n",
      "Old data, using hopkins formats\n",
      "behavior_ZS060_2021-04-03_17-45-00\n",
      "Processed behavior_ZS060_2021-04-03_17-45-00\n",
      "Old data, using hopkins formats\n",
      "Old data, using hopkins formats\n",
      "Old data, using hopkins formats\n",
      "behavior_ZS060_2021-04-04_16-30-00\n",
      "Processed behavior_ZS060_2021-04-04_16-30-00\n",
      "Old data, using hopkins formats\n",
      "Old data, using hopkins formats\n",
      "Old data, using hopkins formats\n",
      "behavior_ZS060_2021-04-07_15-21-40\n",
      "Processed behavior_ZS060_2021-04-07_15-21-40\n",
      "Old data, using hopkins formats\n",
      "Old data, using hopkins formats\n",
      "Old data, using hopkins formats\n",
      "behavior_ZS060_2021-04-08_16-55-35\n",
      "Processed behavior_ZS060_2021-04-08_16-55-35\n",
      "Old data, using hopkins formats\n",
      "Old data, using hopkins formats\n",
      "Old data, using hopkins formats\n",
      "behavior_ZS061_2021-03-16_15-30-00\n",
      "Processed behavior_ZS061_2021-03-16_15-30-00\n",
      "Old data, using hopkins formats\n",
      "Old data, using hopkins formats\n",
      "Old data, using hopkins formats\n",
      "behavior_ZS061_2021-03-17_16-00-53\n",
      "Processed behavior_ZS061_2021-03-17_16-00-53\n",
      "Old data, using hopkins formats\n",
      "Old data, using hopkins formats\n",
      "Old data, using hopkins formats\n",
      "behavior_ZS061_2021-03-21_17-37-00\n",
      "Processed behavior_ZS061_2021-03-21_17-37-00\n",
      "Old data, using hopkins formats\n",
      "Old data, using hopkins formats\n",
      "Old data, using hopkins formats\n",
      "behavior_ZS061_2021-03-18_17-39-19\n",
      "Processed behavior_ZS061_2021-03-18_17-39-19\n",
      "Old data, using hopkins formats\n",
      "Old data, using hopkins formats\n",
      "Old data, using hopkins formats\n",
      "behavior_ZS061_2021-03-23_16-08-12\n",
      "Processed behavior_ZS061_2021-03-23_16-08-12\n",
      "Old data, using hopkins formats\n",
      "Old data, using hopkins formats\n",
      "Old data, using hopkins formats\n",
      "behavior_ZS061_2021-03-19_17-52-45\n",
      "Processed behavior_ZS061_2021-03-19_17-52-45\n",
      "Old data, using hopkins formats\n",
      "Old data, using hopkins formats\n",
      "Old data, using hopkins formats\n",
      "behavior_ZS061_2021-03-20_18-03-26\n",
      "Processed behavior_ZS061_2021-03-20_18-03-26\n",
      "Old data, using hopkins formats\n",
      "Old data, using hopkins formats\n",
      "Old data, using hopkins formats\n",
      "behavior_ZS061_2021-03-22_17-35-53\n",
      "Processed behavior_ZS061_2021-03-22_17-35-53\n",
      "Old data, using hopkins formats\n",
      "Old data, using hopkins formats\n",
      "Old data, using hopkins formats\n",
      "behavior_ZS061_2021-03-26_17-28-33\n",
      "Processed behavior_ZS061_2021-03-26_17-28-33\n",
      "Old data, using hopkins formats\n",
      "Old data, using hopkins formats\n",
      "Old data, using hopkins formats\n",
      "behavior_ZS061_2021-03-24_17-24-09\n",
      "Processed behavior_ZS061_2021-03-24_17-24-09\n",
      "Old data, using hopkins formats\n",
      "Old data, using hopkins formats\n",
      "Old data, using hopkins formats\n",
      "behavior_ZS061_2021-04-28_16-35-50\n",
      "Processed behavior_ZS061_2021-04-28_16-35-50\n",
      "Old data, using hopkins formats\n",
      "Old data, using hopkins formats\n",
      "Old data, using hopkins formats\n",
      "behavior_ZS061_2021-04-29_16-18-51\n",
      "Processed behavior_ZS061_2021-04-29_16-18-51\n",
      "Old data, using hopkins formats\n",
      "Old data, using hopkins formats\n",
      "Old data, using hopkins formats\n",
      "behavior_ZS061_2021-04-19_18-31-40\n",
      "Processed behavior_ZS061_2021-04-19_18-31-40\n",
      "Old data, using hopkins formats\n",
      "Old data, using hopkins formats\n",
      "Old data, using hopkins formats\n",
      "behavior_ZS061_2021-04-24_16-48-52\n",
      "Processed behavior_ZS061_2021-04-24_16-48-52\n",
      "Old data, using hopkins formats\n",
      "Old data, using hopkins formats\n",
      "Old data, using hopkins formats\n",
      "behavior_ZS061_2021-04-21_17-03-09\n",
      "Processed behavior_ZS061_2021-04-21_17-03-09\n",
      "Old data, using hopkins formats\n",
      "Old data, using hopkins formats\n",
      "Old data, using hopkins formats\n",
      "behavior_ZS061_2021-04-20_15-49-57\n",
      "Processed behavior_ZS061_2021-04-20_15-49-57\n",
      "Old data, using hopkins formats\n",
      "Old data, using hopkins formats\n",
      "Old data, using hopkins formats\n",
      "behavior_ZS061_2021-04-26_18-08-01\n",
      "Processed behavior_ZS061_2021-04-26_18-08-01\n",
      "Old data, using hopkins formats\n",
      "Old data, using hopkins formats\n",
      "Old data, using hopkins formats\n",
      "behavior_ZS061_2021-04-22_16-25-00\n",
      "Processed behavior_ZS061_2021-04-22_16-25-00\n",
      "Old data, using hopkins formats\n",
      "Old data, using hopkins formats\n",
      "Old data, using hopkins formats\n",
      "behavior_ZS061_2021-04-23_16-13-13\n",
      "Processed behavior_ZS061_2021-04-23_16-13-13\n",
      "Old data, using hopkins formats\n",
      "Old data, using hopkins formats\n",
      "Old data, using hopkins formats\n",
      "behavior_ZS061_2021-04-30_17-06-18\n",
      "Processed behavior_ZS061_2021-04-30_17-06-18\n",
      "Old data, using hopkins formats\n",
      "Old data, using hopkins formats\n",
      "Old data, using hopkins formats\n",
      "behavior_ZS061_2021-04-25_17-45-36\n",
      "Processed behavior_ZS061_2021-04-25_17-45-36\n",
      "Old data, using hopkins formats\n",
      "Old data, using hopkins formats\n",
      "Old data, using hopkins formats\n",
      "behavior_ZS061_2021-05-01_18-28-14\n",
      "Processed behavior_ZS061_2021-05-01_18-28-14\n",
      "Old data, using hopkins formats\n",
      "Old data, using hopkins formats\n",
      "Old data, using hopkins formats\n",
      "behavior_ZS061_2021-04-27_18-19-52\n",
      "Processed behavior_ZS061_2021-04-27_18-19-52\n",
      "Old data, using hopkins formats\n",
      "Old data, using hopkins formats\n",
      "Old data, using hopkins formats\n",
      "behavior_ZS061_2021-03-25_17-12-27\n",
      "Processed behavior_ZS061_2021-03-25_17-12-27\n",
      "Old data, using hopkins formats\n",
      "Old data, using hopkins formats\n",
      "Old data, using hopkins formats\n",
      "behavior_ZS061_2021-03-27_18-20-45\n",
      "Processed behavior_ZS061_2021-03-27_18-20-45\n",
      "Old data, using hopkins formats\n",
      "Old data, using hopkins formats\n",
      "Old data, using hopkins formats\n",
      "behavior_ZS061_2021-03-29_17-48-18\n",
      "Processed behavior_ZS061_2021-03-29_17-48-18\n",
      "Old data, using hopkins formats\n",
      "Old data, using hopkins formats\n",
      "Old data, using hopkins formats\n",
      "behavior_ZS061_2021-03-28_16-35-51\n",
      "Processed behavior_ZS061_2021-03-28_16-35-51\n",
      "Old data, using hopkins formats\n",
      "Old data, using hopkins formats\n",
      "Old data, using hopkins formats\n",
      "behavior_ZS061_2021-03-30_16-57-26\n",
      "Processed behavior_ZS061_2021-03-30_16-57-26\n",
      "Old data, using hopkins formats\n",
      "Old data, using hopkins formats\n",
      "Old data, using hopkins formats\n",
      "behavior_ZS061_2021-03-31_17-15-48\n",
      "Processed behavior_ZS061_2021-03-31_17-15-48\n",
      "Old data, using hopkins formats\n",
      "Old data, using hopkins formats\n",
      "Old data, using hopkins formats\n",
      "behavior_ZS061_2021-04-01_16-38-03\n",
      "Processed behavior_ZS061_2021-04-01_16-38-03\n",
      "Old data, using hopkins formats\n",
      "Old data, using hopkins formats\n",
      "Old data, using hopkins formats\n",
      "behavior_ZS061_2021-04-02_17-53-41\n",
      "Processed behavior_ZS061_2021-04-02_17-53-41\n",
      "Old data, using hopkins formats\n",
      "No raw session directory found for behavior_ZS061_2021-04-03_18-50-29.\n",
      "Old data, using hopkins formats\n",
      "No raw session directory found for behavior_ZS061_2021-04-03_18-50-29.\n",
      "Old data, using hopkins formats\n",
      "No raw session directory found for behavior_ZS061_2021-04-03_18-50-29.\n",
      "behavior_ZS061_2021-04-03_18-50-29\n",
      "Processed behavior_ZS061_2021-04-03_18-50-29\n",
      "Old data, using hopkins formats\n",
      "Old data, using hopkins formats\n",
      "Old data, using hopkins formats\n",
      "behavior_ZS061_2021-04-04_17-43-18\n",
      "Processed behavior_ZS061_2021-04-04_17-43-18\n",
      "Old data, using hopkins formats\n",
      "Old data, using hopkins formats\n",
      "Old data, using hopkins formats\n",
      "behavior_ZS061_2021-04-06_16-13-38\n",
      "Processed behavior_ZS061_2021-04-06_16-13-38\n",
      "Old data, using hopkins formats\n",
      "Old data, using hopkins formats\n",
      "Old data, using hopkins formats\n",
      "behavior_ZS061_2021-04-05_18-01-32\n",
      "Processed behavior_ZS061_2021-04-05_18-01-32\n",
      "Old data, using hopkins formats\n",
      "Old data, using hopkins formats\n",
      "Old data, using hopkins formats\n",
      "behavior_ZS061_2021-04-07_16-47-22\n",
      "Processed behavior_ZS061_2021-04-07_16-47-22\n",
      "Old data, using hopkins formats\n",
      "Old data, using hopkins formats\n",
      "Old data, using hopkins formats\n",
      "behavior_ZS061_2021-04-08_18-01-30\n",
      "Processed behavior_ZS061_2021-04-08_18-01-30\n",
      "Old data, using hopkins formats\n",
      "Old data, using hopkins formats\n",
      "Old data, using hopkins formats\n",
      "behavior_ZS061_2021-04-11_17-44-56\n",
      "Processed behavior_ZS061_2021-04-11_17-44-56\n",
      "Old data, using hopkins formats\n",
      "Old data, using hopkins formats\n",
      "Old data, using hopkins formats\n",
      "behavior_ZS061_2021-04-09_18-19-29\n",
      "Processed behavior_ZS061_2021-04-09_18-19-29\n",
      "Old data, using hopkins formats\n",
      "Old data, using hopkins formats\n",
      "Old data, using hopkins formats\n",
      "behavior_ZS061_2021-04-10_18-01-14\n",
      "Processed behavior_ZS061_2021-04-10_18-01-14\n",
      "Old data, using hopkins formats\n",
      "Old data, using hopkins formats\n",
      "Old data, using hopkins formats\n",
      "behavior_ZS061_2021-04-15_16-45-44\n",
      "Processed behavior_ZS061_2021-04-15_16-45-44\n",
      "Old data, using hopkins formats\n",
      "Old data, using hopkins formats\n",
      "Old data, using hopkins formats\n",
      "behavior_ZS061_2021-04-16_17-08-59\n",
      "Processed behavior_ZS061_2021-04-16_17-08-59\n",
      "Old data, using hopkins formats\n",
      "Old data, using hopkins formats\n",
      "Old data, using hopkins formats\n",
      "behavior_ZS061_2021-04-12_17-26-54\n",
      "Processed behavior_ZS061_2021-04-12_17-26-54\n",
      "Old data, using hopkins formats\n",
      "Old data, using hopkins formats\n",
      "Old data, using hopkins formats\n",
      "behavior_ZS061_2021-04-13_18-14-05\n",
      "Processed behavior_ZS061_2021-04-13_18-14-05\n",
      "Old data, using hopkins formats\n",
      "Old data, using hopkins formats\n",
      "Old data, using hopkins formats\n",
      "behavior_ZS061_2021-04-14_16-04-22\n",
      "Processed behavior_ZS061_2021-04-14_16-04-22\n",
      "Old data, using hopkins formats\n",
      "Old data, using hopkins formats\n",
      "Old data, using hopkins formats\n",
      "behavior_ZS061_2021-04-17_16-50-25\n",
      "Processed behavior_ZS061_2021-04-17_16-50-25\n",
      "Old data, using hopkins formats\n",
      "Old data, using hopkins formats\n",
      "Old data, using hopkins formats\n",
      "behavior_ZS061_2021-04-18_18-32-58\n",
      "Processed behavior_ZS061_2021-04-18_18-32-58\n",
      "Old data, using hopkins formats\n",
      "Old data, using hopkins formats\n",
      "Old data, using hopkins formats\n",
      "behavior_ZS062_2021-05-07_17-38-21\n",
      "Processed behavior_ZS062_2021-05-07_17-38-21\n",
      "Old data, using hopkins formats\n",
      "Old data, using hopkins formats\n",
      "Old data, using hopkins formats\n",
      "behavior_ZS062_2021-05-11_20-10-59\n",
      "Processed behavior_ZS062_2021-05-11_20-10-59\n",
      "Old data, using hopkins formats\n",
      "Old data, using hopkins formats\n",
      "Old data, using hopkins formats\n",
      "behavior_ZS062_2021-05-09_17-15-10\n",
      "Processed behavior_ZS062_2021-05-09_17-15-10\n",
      "Old data, using hopkins formats\n",
      "Old data, using hopkins formats\n",
      "Old data, using hopkins formats\n",
      "behavior_ZS062_2021-05-10_19-15-51\n",
      "Processed behavior_ZS062_2021-05-10_19-15-51\n",
      "Old data, using hopkins formats\n",
      "Old data, using hopkins formats\n",
      "Old data, using hopkins formats\n",
      "behavior_ZS062_2021-05-03_13-58-20\n",
      "Processed behavior_ZS062_2021-05-03_13-58-20\n",
      "Old data, using hopkins formats\n",
      "Old data, using hopkins formats\n",
      "Old data, using hopkins formats\n",
      "behavior_ZS062_2021-05-05_16-34-46\n",
      "Processed behavior_ZS062_2021-05-05_16-34-46\n",
      "Old data, using hopkins formats\n",
      "Old data, using hopkins formats\n",
      "Old data, using hopkins formats\n",
      "behavior_ZS062_2021-05-08_18-43-47\n",
      "Processed behavior_ZS062_2021-05-08_18-43-47\n",
      "Old data, using hopkins formats\n",
      "No raw session directory found for behavior_ZS062_2021-04-07_17-58-07.\n",
      "Old data, using hopkins formats\n",
      "No raw session directory found for behavior_ZS062_2021-04-07_17-58-07.\n",
      "Old data, using hopkins formats\n",
      "No raw session directory found for behavior_ZS062_2021-04-07_17-58-07.\n",
      "behavior_ZS062_2021-04-07_17-58-07\n",
      "Processed behavior_ZS062_2021-04-07_17-58-07\n",
      "Old data, using hopkins formats\n",
      "Old data, using hopkins formats\n",
      "Old data, using hopkins formats\n",
      "behavior_ZS062_2021-04-15_17-52-49\n",
      "Processed behavior_ZS062_2021-04-15_17-52-49\n",
      "Old data, using hopkins formats\n",
      "Old data, using hopkins formats\n",
      "Old data, using hopkins formats\n",
      "behavior_ZS062_2021-04-21_18-15-30\n",
      "Processed behavior_ZS062_2021-04-21_18-15-30\n",
      "Old data, using hopkins formats\n",
      "Old data, using hopkins formats\n",
      "Old data, using hopkins formats\n",
      "behavior_ZS062_2021-04-23_17-27-03\n",
      "Processed behavior_ZS062_2021-04-23_17-27-03\n",
      "Old data, using hopkins formats\n",
      "Old data, using hopkins formats\n",
      "Old data, using hopkins formats\n",
      "behavior_ZS062_2021-04-24_17-54-39\n",
      "Processed behavior_ZS062_2021-04-24_17-54-39\n",
      "Old data, using hopkins formats\n",
      "Old data, using hopkins formats\n",
      "Old data, using hopkins formats\n",
      "behavior_ZS062_2021-04-25_18-53-35\n",
      "Processed behavior_ZS062_2021-04-25_18-53-35\n",
      "Old data, using hopkins formats\n",
      "Old data, using hopkins formats\n",
      "Old data, using hopkins formats\n",
      "behavior_ZS062_2021-05-01_19-48-01\n",
      "Processed behavior_ZS062_2021-05-01_19-48-01\n",
      "Old data, using hopkins formats\n",
      "Old data, using hopkins formats\n",
      "Old data, using hopkins formats\n",
      "behavior_ZS062_2021-05-02_19-20-50\n",
      "Processed behavior_ZS062_2021-05-02_19-20-50\n",
      "Old data, using hopkins formats\n",
      "Old data, using hopkins formats\n",
      "Old data, using hopkins formats\n",
      "behavior_ZS062_2021-05-06_15-46-14\n",
      "Processed behavior_ZS062_2021-05-06_15-46-14\n",
      "Old data, using hopkins formats\n",
      "Old data, using hopkins formats\n",
      "Old data, using hopkins formats\n",
      "behavior_ZS062_2021-05-04_14-29-20\n",
      "Processed behavior_ZS062_2021-05-04_14-29-20\n",
      "Old data, using hopkins formats\n",
      "Old data, using hopkins formats\n",
      "Old data, using hopkins formats\n",
      "behavior_ZS062_2021-04-29_17-36-37\n",
      "Processed behavior_ZS062_2021-04-29_17-36-37\n",
      "Old data, using hopkins formats\n",
      "Old data, using hopkins formats\n",
      "Old data, using hopkins formats\n",
      "behavior_ZS062_2021-04-30_18-11-39\n",
      "Processed behavior_ZS062_2021-04-30_18-11-39\n",
      "Old data, using hopkins formats\n",
      "No raw session directory found for behavior_ZS062_2021-03-27_19-15-29.\n",
      "Old data, using hopkins formats\n",
      "No raw session directory found for behavior_ZS062_2021-03-27_19-15-29.\n",
      "Old data, using hopkins formats\n",
      "No raw session directory found for behavior_ZS062_2021-03-27_19-15-29.\n",
      "behavior_ZS062_2021-03-27_19-15-29\n",
      "Processed behavior_ZS062_2021-03-27_19-15-29\n",
      "Old data, using hopkins formats\n",
      "No raw session directory found for behavior_ZS062_2021-03-28_17-40-42.\n",
      "Old data, using hopkins formats\n",
      "No raw session directory found for behavior_ZS062_2021-03-28_17-40-42.\n",
      "Old data, using hopkins formats\n",
      "No raw session directory found for behavior_ZS062_2021-03-28_17-40-42.\n",
      "behavior_ZS062_2021-03-28_17-40-42\n",
      "Processed behavior_ZS062_2021-03-28_17-40-42\n",
      "Old data, using hopkins formats\n",
      "Old data, using hopkins formats\n",
      "Old data, using hopkins formats\n",
      "behavior_ZS062_2021-03-29_18-50-00\n",
      "Processed behavior_ZS062_2021-03-29_18-50-00\n",
      "Old data, using hopkins formats\n",
      "No raw session directory found for behavior_ZS062_2021-03-26_18-45-54.\n",
      "Old data, using hopkins formats\n",
      "No raw session directory found for behavior_ZS062_2021-03-26_18-45-54.\n",
      "Old data, using hopkins formats\n",
      "No raw session directory found for behavior_ZS062_2021-03-26_18-45-54.\n",
      "behavior_ZS062_2021-03-26_18-45-54\n",
      "Processed behavior_ZS062_2021-03-26_18-45-54\n",
      "Old data, using hopkins formats\n",
      "No raw session directory found for behavior_ZS062_2021-03-25_18-44-20.\n",
      "Old data, using hopkins formats\n",
      "No raw session directory found for behavior_ZS062_2021-03-25_18-44-20.\n",
      "Old data, using hopkins formats\n",
      "No raw session directory found for behavior_ZS062_2021-03-25_18-44-20.\n",
      "behavior_ZS062_2021-03-25_18-44-20\n",
      "Processed behavior_ZS062_2021-03-25_18-44-20\n",
      "Old data, using hopkins formats\n",
      "No raw session directory found for behavior_ZS062_2021-03-30_18-30-24.\n",
      "Old data, using hopkins formats\n",
      "No raw session directory found for behavior_ZS062_2021-03-30_18-30-24.\n",
      "Old data, using hopkins formats\n",
      "No raw session directory found for behavior_ZS062_2021-03-30_18-30-24.\n",
      "behavior_ZS062_2021-03-30_18-30-24\n",
      "Processed behavior_ZS062_2021-03-30_18-30-24\n",
      "Old data, using hopkins formats\n",
      "No raw session directory found for behavior_ZS062_2021-04-06_18-46-42.\n",
      "Old data, using hopkins formats\n",
      "No raw session directory found for behavior_ZS062_2021-04-06_18-46-42.\n",
      "Old data, using hopkins formats\n",
      "No raw session directory found for behavior_ZS062_2021-04-06_18-46-42.\n",
      "behavior_ZS062_2021-04-06_18-46-42\n",
      "Processed behavior_ZS062_2021-04-06_18-46-42\n",
      "Old data, using hopkins formats\n",
      "No raw session directory found for behavior_ZS062_2021-04-05_19-25-39.\n",
      "Old data, using hopkins formats\n",
      "No raw session directory found for behavior_ZS062_2021-04-05_19-25-39.\n",
      "Old data, using hopkins formats\n",
      "No raw session directory found for behavior_ZS062_2021-04-05_19-25-39.\n",
      "behavior_ZS062_2021-04-05_19-25-39\n",
      "Processed behavior_ZS062_2021-04-05_19-25-39\n",
      "Old data, using hopkins formats\n",
      "No raw session directory found for behavior_ZS062_2021-04-01_17-49-36.\n",
      "Old data, using hopkins formats\n",
      "No raw session directory found for behavior_ZS062_2021-04-01_17-49-36.\n",
      "Old data, using hopkins formats\n",
      "No raw session directory found for behavior_ZS062_2021-04-01_17-49-36.\n",
      "behavior_ZS062_2021-04-01_17-49-36\n",
      "Processed behavior_ZS062_2021-04-01_17-49-36\n",
      "Old data, using hopkins formats\n",
      "No raw session directory found for behavior_ZS062_2021-04-03_20-26-34.\n",
      "Old data, using hopkins formats\n",
      "No raw session directory found for behavior_ZS062_2021-04-03_20-26-34.\n",
      "Old data, using hopkins formats\n",
      "No raw session directory found for behavior_ZS062_2021-04-03_20-26-34.\n",
      "behavior_ZS062_2021-04-03_20-26-34\n",
      "Processed behavior_ZS062_2021-04-03_20-26-34\n",
      "Old data, using hopkins formats\n",
      "Old data, using hopkins formats\n",
      "Old data, using hopkins formats\n",
      "behavior_ZS062_2021-04-20_18-23-52\n",
      "Processed behavior_ZS062_2021-04-20_18-23-52\n",
      "Old data, using hopkins formats\n",
      "Old data, using hopkins formats\n",
      "Old data, using hopkins formats\n",
      "behavior_ZS062_2021-04-22_17-18-06\n",
      "Processed behavior_ZS062_2021-04-22_17-18-06\n",
      "Old data, using hopkins formats\n",
      "Old data, using hopkins formats\n",
      "Old data, using hopkins formats\n",
      "behavior_ZS062_2021-04-26_20-26-29\n",
      "Processed behavior_ZS062_2021-04-26_20-26-29\n",
      "Old data, using hopkins formats\n",
      "Old data, using hopkins formats\n",
      "Old data, using hopkins formats\n",
      "behavior_ZS062_2021-04-27_19-23-36\n",
      "Processed behavior_ZS062_2021-04-27_19-23-36\n",
      "Old data, using hopkins formats\n",
      "Old data, using hopkins formats\n",
      "Old data, using hopkins formats\n",
      "behavior_ZS062_2021-04-28_17-53-01\n",
      "Processed behavior_ZS062_2021-04-28_17-53-01\n",
      "Old data, using hopkins formats\n",
      "No raw session directory found for behavior_ZS062_2021-03-24_18-52-34.\n",
      "Old data, using hopkins formats\n",
      "No raw session directory found for behavior_ZS062_2021-03-24_18-52-34.\n",
      "Old data, using hopkins formats\n",
      "No raw session directory found for behavior_ZS062_2021-03-24_18-52-34.\n",
      "behavior_ZS062_2021-03-24_18-52-34\n",
      "Processed behavior_ZS062_2021-03-24_18-52-34\n",
      "Old data, using hopkins formats\n",
      "No raw session directory found for behavior_ZS062_2021-03-31_18-40-52.\n",
      "Old data, using hopkins formats\n",
      "No raw session directory found for behavior_ZS062_2021-03-31_18-40-52.\n",
      "Old data, using hopkins formats\n",
      "No raw session directory found for behavior_ZS062_2021-03-31_18-40-52.\n",
      "behavior_ZS062_2021-03-31_18-40-52\n",
      "Processed behavior_ZS062_2021-03-31_18-40-52\n",
      "Old data, using hopkins formats\n",
      "No raw session directory found for behavior_ZS062_2021-04-02_19-08-52.\n",
      "Old data, using hopkins formats\n",
      "No raw session directory found for behavior_ZS062_2021-04-02_19-08-52.\n",
      "Old data, using hopkins formats\n",
      "No raw session directory found for behavior_ZS062_2021-04-02_19-08-52.\n",
      "behavior_ZS062_2021-04-02_19-08-52\n",
      "Processed behavior_ZS062_2021-04-02_19-08-52\n",
      "Old data, using hopkins formats\n",
      "No raw session directory found for behavior_ZS062_2021-04-04_18-59-47.\n",
      "Old data, using hopkins formats\n",
      "No raw session directory found for behavior_ZS062_2021-04-04_18-59-47.\n",
      "Old data, using hopkins formats\n",
      "No raw session directory found for behavior_ZS062_2021-04-04_18-59-47.\n",
      "behavior_ZS062_2021-04-04_18-59-47\n",
      "Processed behavior_ZS062_2021-04-04_18-59-47\n",
      "Old data, using hopkins formats\n",
      "No raw session directory found for behavior_ZS062_2021-04-08_19-07-10.\n",
      "Old data, using hopkins formats\n",
      "No raw session directory found for behavior_ZS062_2021-04-08_19-07-10.\n",
      "Old data, using hopkins formats\n",
      "No raw session directory found for behavior_ZS062_2021-04-08_19-07-10.\n",
      "behavior_ZS062_2021-04-08_19-07-10\n",
      "Processed behavior_ZS062_2021-04-08_19-07-10\n",
      "Old data, using hopkins formats\n",
      "Old data, using hopkins formats\n",
      "Old data, using hopkins formats\n",
      "behavior_ZS062_2021-04-12_18-46-29\n",
      "Processed behavior_ZS062_2021-04-12_18-46-29\n",
      "Old data, using hopkins formats\n",
      "Old data, using hopkins formats\n",
      "Old data, using hopkins formats\n",
      "behavior_ZS062_2021-04-11_18-58-53\n",
      "Processed behavior_ZS062_2021-04-11_18-58-53\n",
      "Old data, using hopkins formats\n",
      "Old data, using hopkins formats\n",
      "Old data, using hopkins formats\n",
      "behavior_ZS062_2021-04-16_18-17-09\n",
      "Processed behavior_ZS062_2021-04-16_18-17-09\n",
      "Old data, using hopkins formats\n",
      "Old data, using hopkins formats\n",
      "Old data, using hopkins formats\n",
      "behavior_ZS062_2021-04-13_19-35-13\n",
      "Processed behavior_ZS062_2021-04-13_19-35-13\n",
      "Old data, using hopkins formats\n",
      "Old data, using hopkins formats\n",
      "Old data, using hopkins formats\n",
      "behavior_ZS062_2021-04-14_17-07-51\n",
      "Processed behavior_ZS062_2021-04-14_17-07-51\n",
      "Old data, using hopkins formats\n",
      "No raw session directory found for behavior_ZS062_2021-04-09_19-27-26.\n",
      "Old data, using hopkins formats\n",
      "No raw session directory found for behavior_ZS062_2021-04-09_19-27-26.\n",
      "Old data, using hopkins formats\n",
      "No raw session directory found for behavior_ZS062_2021-04-09_19-27-26.\n",
      "behavior_ZS062_2021-04-09_19-27-26\n",
      "Processed behavior_ZS062_2021-04-09_19-27-26\n",
      "Old data, using hopkins formats\n",
      "Old data, using hopkins formats\n",
      "Old data, using hopkins formats\n",
      "behavior_ZS062_2021-04-17_18-06-40\n",
      "Processed behavior_ZS062_2021-04-17_18-06-40\n",
      "Old data, using hopkins formats\n",
      "Old data, using hopkins formats\n",
      "Old data, using hopkins formats\n",
      "behavior_ZS062_2021-04-18_19-52-39\n",
      "Processed behavior_ZS062_2021-04-18_19-52-39\n",
      "Old data, using hopkins formats\n",
      "No raw session directory found for behavior_ZS062_2021-04-10_19-16-30.\n",
      "Old data, using hopkins formats\n",
      "No raw session directory found for behavior_ZS062_2021-04-10_19-16-30.\n",
      "Old data, using hopkins formats\n",
      "No raw session directory found for behavior_ZS062_2021-04-10_19-16-30.\n",
      "behavior_ZS062_2021-04-10_19-16-30\n",
      "Processed behavior_ZS062_2021-04-10_19-16-30\n",
      "Old data, using hopkins formats\n",
      "Old data, using hopkins formats\n",
      "Old data, using hopkins formats\n",
      "behavior_ZS062_2021-04-19_19-36-48\n"
     ]
    },
    {
     "name": "stdout",
     "output_type": "stream",
     "text": [
      "Processed behavior_ZS062_2021-04-19_19-36-48\n",
      "Old data, using hopkins formats\n",
      "Old data, using hopkins formats\n",
      "Old data, using hopkins formatsOld data, using hopkins formats\n",
      "\n",
      "Old data, using hopkins formats\n",
      "Old data, using hopkins formats\n",
      "Old data, using hopkins formats\n",
      "Old data, using hopkins formats\n",
      "Old data, using hopkins formats\n",
      "Old data, using hopkins formats\n",
      "Old data, using hopkins formats\n",
      "Old data, using hopkins formats\n",
      "Old data, using hopkins formats\n",
      "Old data, using hopkins formats\n",
      "Old data, using hopkins formats\n",
      "Old data, using hopkins formats\n",
      "Old data, using hopkins formats\n",
      "Old data, using hopkins formats\n",
      "Old data, using hopkins formats\n",
      "Old data, using hopkins formats\n",
      "Old data, using hopkins formats\n",
      "Old data, using hopkins formats\n",
      "No unit table found for behavior_ZS059_2021-04-03_16-30-45 in curated data.\n",
      "Old data, using hopkins formats\n",
      "Old data, using hopkins formats\n",
      "Old data, using hopkins formats\n",
      "Old data, using hopkins formats\n",
      "Old data, using hopkins formats\n",
      "Old data, using hopkins formats\n",
      "Old data, using hopkins formats\n",
      "Old data, using hopkins formats\n",
      "Old data, using hopkins formats\n",
      "Old data, using hopkins formats\n",
      "Old data, using hopkins formats\n",
      "Old data, using hopkins formats\n",
      "No unit table found for behavior_ZS059_2021-04-07_13-58-21 in curated data.\n",
      "Old data, using hopkins formats\n",
      "Old data, using hopkins formats\n",
      "Old data, using hopkins formats\n",
      "Old data, using hopkins formats\n",
      "Old data, using hopkins formats\n",
      "No unit table found for behavior_ZS059_2021-04-05_14-33-48 in curated data.\n",
      "Old data, using hopkins formats\n",
      "Old data, using hopkins formats\n",
      "Old data, using hopkins formats\n",
      "Old data, using hopkins formats\n",
      "Old data, using hopkins formats\n",
      "No unit table found for behavior_ZS059_2021-04-02_15-05-16 in curated data.\n",
      "Old data, using hopkins formats\n",
      "Old data, using hopkins formats\n",
      "Old data, using hopkins formats\n",
      "Old data, using hopkins formats\n",
      "Old data, using hopkins formats\n",
      "Old data, using hopkins formats\n",
      "Old data, using hopkins formats\n",
      "Old data, using hopkins formats\n",
      "Old data, using hopkins formats\n",
      "Old data, using hopkins formats\n",
      "Old data, using hopkins formats\n",
      "Old data, using hopkins formats\n",
      "Old data, using hopkins formats\n",
      "Old data, using hopkins formats\n",
      "Old data, using hopkins formats\n",
      "Old data, using hopkins formats\n",
      "No unit table found for behavior_ZS059_2021-04-04_15-23-14 in curated data.\n",
      "Old data, using hopkins formats\n",
      "Old data, using hopkins formats\n",
      "Old data, using hopkins formats\n",
      "Old data, using hopkins formats\n",
      "Old data, using hopkins formats\n",
      "No unit table found for behavior_ZS059_2021-04-03_16-30-45 in curated data.\n",
      "Old data, using hopkins formats\n",
      "Old data, using hopkins formatsOld data, using hopkins formats\n",
      "\n",
      "Old data, using hopkins formatsOld data, using hopkins formats\n",
      "\n",
      "Old data, using hopkins formats\n",
      "No unit table found for behavior_ZS059_2021-04-02_15-05-16 in curated data.\n",
      "Old data, using hopkins formats\n",
      "Old data, using hopkins formats\n",
      "No unit table found for behavior_ZS059_2021-04-05_14-33-48 in curated data.\n",
      "Old data, using hopkins formats\n",
      "Old data, using hopkins formats\n",
      "No unit table found for behavior_ZS059_2021-04-07_13-58-21 in curated data.\n",
      "Old data, using hopkins formats\n",
      "Old data, using hopkins formats\n",
      "Old data, using hopkins formats\n",
      "Old data, using hopkins formats\n",
      "Old data, using hopkins formats\n",
      "Old data, using hopkins formats\n",
      "Old data, using hopkins formats\n",
      "Old data, using hopkins formats\n",
      "Old data, using hopkins formats\n",
      "Old data, using hopkins formats\n",
      "Old data, using hopkins formats\n",
      "Old data, using hopkins formats\n",
      "Old data, using hopkins formats\n",
      "Old data, using hopkins formats\n",
      "Old data, using hopkins formatsOld data, using hopkins formats\n",
      "\n",
      "Old data, using hopkins formats\n",
      "Old data, using hopkins formats\n",
      "No unit table found for behavior_ZS059_2021-04-04_15-23-14 in curated data.\n",
      "Old data, using hopkins formats\n",
      "Old data, using hopkins formats\n",
      "Old data, using hopkins formats\n",
      "Old data, using hopkins formats\n",
      "Old data, using hopkins formats\n",
      "Old data, using hopkins formats\n",
      "Old data, using hopkins formats\n",
      "Old data, using hopkins formats\n",
      "Old data, using hopkins formatsOld data, using hopkins formats\n",
      "Old data, using hopkins formats\n",
      "\n",
      "Old data, using hopkins formats\n",
      "Old data, using hopkins formats\n",
      "Old data, using hopkins formats\n",
      "Old data, using hopkins formats\n",
      "Old data, using hopkins formats\n",
      "Old data, using hopkins formats\n",
      "Old data, using hopkins formats\n",
      "Old data, using hopkins formats\n",
      "Old data, using hopkins formats\n",
      "Old data, using hopkins formats\n",
      "Old data, using hopkins formats\n",
      "Old data, using hopkins formats\n",
      "Old data, using hopkins formats\n",
      "Old data, using hopkins formats\n",
      "Old data, using hopkins formats\n",
      "Old data, using hopkins formats\n",
      "Old data, using hopkins formats\n",
      "Old data, using hopkins formats\n",
      "Old data, using hopkins formats\n",
      "Old data, using hopkins formats\n",
      "Old data, using hopkins formats\n",
      "No unit table found for behavior_ZS059_2021-04-03_16-30-45 in curated data.\n",
      "Old data, using hopkins formats\n",
      "Old data, using hopkins formats\n",
      "No unit table found for behavior_ZS059_2021-04-05_14-33-48 in curated data.\n",
      "Old data, using hopkins formats\n",
      "No unit table found for behavior_ZS059_2021-04-04_15-23-14 in curated data.\n",
      "Old data, using hopkins formats\n",
      "Old data, using hopkins formats\n",
      "No unit table found for behavior_ZS059_2021-04-07_13-58-21 in curated data.\n",
      "Old data, using hopkins formats\n",
      "Old data, using hopkins formats\n",
      "Old data, using hopkins formats\n",
      "Old data, using hopkins formats\n",
      "Old data, using hopkins formats\n",
      "Old data, using hopkins formats\n",
      "Old data, using hopkins formats\n",
      "Old data, using hopkins formats\n",
      "Old data, using hopkins formats\n",
      "Old data, using hopkins formats\n",
      "Old data, using hopkins formats\n",
      "No unit table found for behavior_ZS059_2021-04-02_15-05-16 in curated data.\n",
      "Old data, using hopkins formats\n",
      "Old data, using hopkins formats\n",
      "Old data, using hopkins formats\n",
      "Old data, using hopkins formats\n",
      "Old data, using hopkins formats\n",
      "Old data, using hopkins formats\n",
      "Old data, using hopkins formats\n",
      "Old data, using hopkins formats\n",
      "Old data, using hopkins formats\n",
      "Old data, using hopkins formats\n",
      "Old data, using hopkins formats\n",
      "Old data, using hopkins formats\n",
      "Old data, using hopkins formats\n",
      "Old data, using hopkins formats\n",
      "Old data, using hopkins formats\n",
      "Old data, using hopkins formats\n",
      "Old data, using hopkins formats\n",
      "Old data, using hopkins formats\n",
      "Old data, using hopkins formats\n",
      "Old data, using hopkins formats\n",
      "Old data, using hopkins formats\n",
      "Old data, using hopkins formats\n",
      "Old data, using hopkins formats\n",
      "Old data, using hopkins formats\n",
      "Old data, using hopkins formats\n",
      "Old data, using hopkins formats\n",
      "Old data, using hopkins formats\n",
      "Old data, using hopkins formats\n",
      "Old data, using hopkins formats\n",
      "Old data, using hopkins formats\n",
      "Old data, using hopkins formats\n",
      "Old data, using hopkins formats\n",
      "Old data, using hopkins formats\n",
      "Old data, using hopkins formats\n",
      "Old data, using hopkins formats\n",
      "No unit table found for behavior_ZS059_2021-04-14_14-51-04 in curated data.\n",
      "Old data, using hopkins formats\n",
      "Old data, using hopkins formats\n",
      "Old data, using hopkins formats\n",
      "Old data, using hopkins formats\n",
      "Old data, using hopkins formats\n",
      "Old data, using hopkins formats\n",
      "No unit table found for behavior_ZS059_2021-04-17_15-44-53 in curated data.\n",
      "Old data, using hopkins formats\n",
      "Old data, using hopkins formats\n",
      "Old data, using hopkins formats\n",
      "Old data, using hopkins formats\n",
      "Old data, using hopkins formats\n",
      "Old data, using hopkins formats\n",
      "Old data, using hopkins formats\n",
      "No raw session directory found for behavior_ZS059_2021-04-18_17-26-19.\n",
      "Old data, using hopkins formats\n",
      "No unit table found for behavior_ZS059_2021-04-16_14-50-15 in curated data.\n",
      "Old data, using hopkins formats\n",
      "Old data, using hopkins formats\n",
      "Old data, using hopkins formats\n",
      "Old data, using hopkins formats\n",
      "Old data, using hopkins formats\n",
      "Old data, using hopkins formats\n",
      "Old data, using hopkins formats\n",
      "No raw session directory found for behavior_ZS059_2021-04-18_17-26-19.\n",
      "No unit table found for behavior_ZS059_2021-04-18_17-26-19 in curated data.\n",
      "Old data, using hopkins formats\n",
      "Old data, using hopkins formats\n",
      "Old data, using hopkins formats\n",
      "Old data, using hopkins formats\n",
      "Old data, using hopkins formats\n",
      "Old data, using hopkins formats\n",
      "Old data, using hopkins formats\n",
      "Old data, using hopkins formats\n",
      "Old data, using hopkins formats\n",
      "Old data, using hopkins formats\n",
      "Old data, using hopkins formats\n",
      "Old data, using hopkins formats\n",
      "Old data, using hopkins formats\n",
      "Old data, using hopkins formats\n",
      "Old data, using hopkins formats\n",
      "Old data, using hopkins formats\n",
      "Old data, using hopkins formats\n",
      "No unit table found for behavior_ZS059_2021-04-19_14-42-16 in curated data.\n",
      "Old data, using hopkins formats\n",
      "Old data, using hopkins formats\n",
      "No unit table found for behavior_ZS059_2021-04-24_15-38-10 in curated data.\n",
      "Old data, using hopkins formats\n",
      "Old data, using hopkins formats\n",
      "Old data, using hopkins formats\n",
      "Old data, using hopkins formats\n",
      "Old data, using hopkins formats\n",
      "Old data, using hopkins formats\n",
      "Processed behavior_ZS059_2021-04-11_15-41-45\n",
      "Old data, using hopkins formats\n",
      "Old data, using hopkins formats\n",
      "Old data, using hopkins formats\n",
      "Old data, using hopkins formats\n",
      "Old data, using hopkins formats\n",
      "Old data, using hopkins formats\n",
      "Old data, using hopkins formats\n",
      "Old data, using hopkins formats\n",
      "Old data, using hopkins formats\n",
      "Old data, using hopkins formats\n",
      "Old data, using hopkins formats\n",
      "Old data, using hopkins formats\n",
      "Old data, using hopkins formats\n",
      "Old data, using hopkins formats\n",
      "Old data, using hopkins formats\n",
      "Old data, using hopkins formats\n",
      "Old data, using hopkins formats\n",
      "Old data, using hopkins formats\n",
      "Old data, using hopkins formats\n",
      "Old data, using hopkins formats\n",
      "Old data, using hopkins formats\n",
      "Old data, using hopkins formats\n",
      "Old data, using hopkins formats\n",
      "Old data, using hopkins formats\n",
      "Old data, using hopkins formats\n",
      "Old data, using hopkins formats\n",
      "Processed behavior_ZS059_2021-04-08_15-53-36\n",
      "Old data, using hopkins formats\n",
      "Old data, using hopkins formats\n",
      "Old data, using hopkins formats\n",
      "Old data, using hopkins formats\n",
      "Old data, using hopkins formats\n",
      "Old data, using hopkins formats\n",
      "Old data, using hopkins formats\n",
      "Old data, using hopkins formats\n",
      "Old data, using hopkins formats\n",
      "Old data, using hopkins formats\n",
      "No unit table found for behavior_ZS059_2021-04-26_14-44-03 in curated data.\n",
      "Old data, using hopkins formats\n",
      "Old data, using hopkins formats\n",
      "Old data, using hopkins formats\n",
      "Old data, using hopkins formats\n",
      "Old data, using hopkins formats\n",
      "No unit table found for behavior_ZS059_2021-04-27_15-12-43 in curated data.\n",
      "Old data, using hopkins formats\n",
      "Old data, using hopkins formats\n",
      "Old data, using hopkins formats\n",
      "Old data, using hopkins formats\n",
      "Old data, using hopkins formats\n",
      "Old data, using hopkins formats\n",
      "Old data, using hopkins formats\n",
      "No unit table found for behavior_ZS059_2021-04-28_14-00-12 in curated data.\n",
      "Old data, using hopkins formats\n",
      "Old data, using hopkins formats\n",
      "Old data, using hopkins formats\n",
      "Old data, using hopkins formats\n",
      "No unit table found for behavior_ZS059_2021-04-29_14-02-45 in curated data.\n",
      "Old data, using hopkins formats\n",
      "Old data, using hopkins formats\n",
      "Old data, using hopkins formats\n",
      "Old data, using hopkins formats\n",
      "Old data, using hopkins formats\n",
      "Old data, using hopkins formats\n",
      "Old data, using hopkins formats\n",
      "Old data, using hopkins formats\n",
      "Old data, using hopkins formats\n",
      "Old data, using hopkins formats\n",
      "Old data, using hopkins formats\n",
      "Old data, using hopkins formats\n",
      "Old data, using hopkins formats\n",
      "Old data, using hopkins formats\n",
      "Old data, using hopkins formats\n",
      "Processed behavior_ZS059_2021-04-12_14-57-43\n",
      "Old data, using hopkins formats\n",
      "Old data, using hopkins formats\n",
      "Old data, using hopkins formats\n",
      "Old data, using hopkins formats\n",
      "No unit table found for behavior_ZS059_2021-03-24_14-22-04 in curated data.\n",
      "Old data, using hopkins formats\n",
      "Old data, using hopkins formats\n",
      "Old data, using hopkins formats\n",
      "Old data, using hopkins formats\n",
      "Old data, using hopkins formats\n",
      "Old data, using hopkins formats\n",
      "Old data, using hopkins formats\n",
      "Old data, using hopkins formats\n",
      "Old data, using hopkins formats\n",
      "Processed behavior_ZS059_2021-04-10_15-55-11\n",
      "Old data, using hopkins formats\n",
      "Processed behavior_ZS059_2021-03-29_14-41-57\n",
      "Old data, using hopkins formats\n",
      "No unit table found for behavior_ZS059_2021-03-26_13-52-11 in curated data.\n",
      "Old data, using hopkins formats\n",
      "Old data, using hopkins formats\n",
      "No raw session directory found for behavior_ZS060_2021-04-14_18-15-27.\n",
      "Old data, using hopkins formats\n",
      "No unit table found for behavior_ZS059_2021-03-25_14-40-45 in curated data.\n",
      "Old data, using hopkins formats\n",
      "Old data, using hopkins formats\n",
      "No raw session directory found for behavior_ZS060_2021-04-14_18-15-27.\n",
      "No unit table found for behavior_ZS060_2021-04-14_18-15-27 in curated data.\n",
      "Old data, using hopkins formats\n",
      "Old data, using hopkins formats\n",
      "No unit table found for behavior_ZS060_2021-04-09_17-07-51 in curated data.\n",
      "Old data, using hopkins formats\n",
      "Old data, using hopkins formats\n",
      "Old data, using hopkins formats\n",
      "Old data, using hopkins formats\n",
      "Old data, using hopkins formats\n",
      "Processed behavior_ZS059_2021-04-09_15-53-45\n",
      "No raw session directory found for behavior_ZS060_2021-04-21_19-23-52.\n",
      "Old data, using hopkins formats\n",
      "Old data, using hopkins formats\n",
      "No raw session directory found for behavior_ZS060_2021-04-21_19-23-52.\n",
      "No unit table found for behavior_ZS060_2021-04-21_19-23-52 in curated data.\n",
      "Old data, using hopkins formats\n",
      "Old data, using hopkins formats\n",
      "No raw session directory found for behavior_ZS060_2021-04-11_16-41-30.\n",
      "No unit table found for behavior_ZS060_2021-04-22_18-30-00 in curated data.\n",
      "Old data, using hopkins formats\n",
      "Old data, using hopkins formats\n",
      "No raw session directory found for behavior_ZS060_2021-04-11_16-41-30.\n",
      "No unit table found for behavior_ZS060_2021-04-11_16-41-30 in curated data.\n",
      "Old data, using hopkins formats\n",
      "No raw session directory found for behavior_ZS060_2021-04-12_15-57-59.\n",
      "Old data, using hopkins formats\n",
      "No raw session directory found for behavior_ZS060_2021-04-10_16-58-41.\n",
      "No raw session directory found for behavior_ZS060_2021-04-12_15-57-59.\n",
      "No unit table found for behavior_ZS060_2021-04-12_15-57-59 in curated data.\n",
      "Old data, using hopkins formats\n",
      "Old data, using hopkins formats\n",
      "No raw session directory found for behavior_ZS060_2021-04-10_16-58-41.\n",
      "No unit table found for behavior_ZS060_2021-04-10_16-58-41 in curated data.\n",
      "Old data, using hopkins formats\n",
      "Old data, using hopkins formats\n",
      "Old data, using hopkins formats\n",
      "No raw session directory found for behavior_ZS060_2021-04-27_16-21-43.\n",
      "Old data, using hopkins formats\n",
      "No unit table found for behavior_ZS060_2021-04-16_16-09-11 in curated data.\n",
      "Old data, using hopkins formats\n",
      "Old data, using hopkins formats\n",
      "No raw session directory found for behavior_ZS060_2021-04-27_16-21-43.\n",
      "No unit table found for behavior_ZS060_2021-04-27_16-21-43 in curated data.\n",
      "Old data, using hopkins formats\n",
      "Processed behavior_ZS059_2021-04-20_14-50-03\n",
      "Old data, using hopkins formats\n",
      "Old data, using hopkins formats\n",
      "No unit table found for behavior_ZS060_2021-04-23_18-34-53 in curated data.\n",
      "Old data, using hopkins formats\n",
      "Processed behavior_ZS059_2021-03-30_14-57-13\n",
      "Old data, using hopkins formats\n",
      "No unit table found for behavior_ZS060_2021-04-28_15-16-45 in curated data.\n",
      "Old data, using hopkins formats\n",
      "Processed behavior_ZS059_2021-04-25_16-22-31\n",
      "Old data, using hopkins formats\n",
      "Old data, using hopkins formats\n",
      "No unit table found for behavior_ZS060_2021-04-24_18-50-00 in curated data.\n",
      "Old data, using hopkins formats\n",
      "Old data, using hopkins formats\n",
      "Processed behavior_ZS059_2021-04-13_15-43-53\n",
      "Old data, using hopkins formats\n",
      "Old data, using hopkins formats\n",
      "Old data, using hopkins formats\n",
      "No unit table found for behavior_ZS060_2021-04-25_19-51-06 in curated data.\n",
      "Old data, using hopkins formats\n",
      "No unit table found for behavior_ZS060_2021-04-29_15-15-00 in curated data.\n",
      "Old data, using hopkins formats\n",
      "Old data, using hopkins formats\n",
      "Processed behavior_ZS059_2021-04-01_14-17-46\n",
      "Old data, using hopkins formats\n",
      "No unit table found for behavior_ZS060_2021-04-26_19-24-52 in curated data.\n",
      "Old data, using hopkins formats\n",
      "Old data, using hopkins formats\n",
      "Old data, using hopkins formats\n",
      "Processed behavior_ZS059_2021-04-15_15-29-28\n",
      "Old data, using hopkins formats\n",
      "No unit table found for behavior_ZS060_2021-03-21_16-15-00 in curated data.\n",
      "Old data, using hopkins formats\n",
      "Old data, using hopkins formats\n",
      "Processed behavior_ZS059_2021-04-21_15-58-55\n",
      "Old data, using hopkins formats\n",
      "No unit table found for behavior_ZS060_2021-03-20_16-20-00 in curated data.\n",
      "Old data, using hopkins formats\n",
      "Old data, using hopkins formats\n",
      "No unit table found for behavior_ZS060_2021-03-22_16-25-00 in curated data.\n",
      "Old data, using hopkins formats\n",
      "Old data, using hopkins formats\n",
      "Processed behavior_ZS059_2021-03-31_14-32-51\n",
      "Old data, using hopkins formats\n",
      "Processed behavior_ZS059_2021-04-22_15-11-25\n",
      "Old data, using hopkins formats\n",
      "No unit table found for behavior_ZS060_2021-03-23_15-15-00 in curated data.\n",
      "Old data, using hopkins formats\n",
      "Old data, using hopkins formats\n",
      "Old data, using hopkins formats\n",
      "No unit table found for behavior_ZS060_2021-03-27_17-11-43 in curated data.\n",
      "Old data, using hopkins formats\n",
      "No unit table found for behavior_ZS060_2021-03-24_15-40-00 in curated data.\n",
      "Old data, using hopkins formats\n",
      "Old data, using hopkins formats\n",
      "Old data, using hopkins formats\n",
      "Old data, using hopkins formats\n",
      "Old data, using hopkins formats\n",
      "Old data, using hopkins formats\n",
      "Old data, using hopkins formats\n",
      "Old data, using hopkins formats\n",
      "No unit table found for behavior_ZS060_2021-03-26_14-50-00 in curated data.\n",
      "Old data, using hopkins formats\n",
      "Old data, using hopkins formats\n",
      "No unit table found for behavior_ZS060_2021-03-31_15-45-00 in curated data.\n",
      "Old data, using hopkins formats\n",
      "Old data, using hopkins formats\n",
      "Old data, using hopkins formats\n",
      "Old data, using hopkins formats\n",
      "Old data, using hopkins formats\n",
      "Old data, using hopkins formats\n",
      "Old data, using hopkins formats\n",
      "No unit table found for behavior_ZS060_2021-03-25_16-00-00 in curated data.\n",
      "Old data, using hopkins formats\n",
      "Old data, using hopkins formats\n",
      "No unit table found for behavior_ZS060_2021-04-02_16-30-00 in curated data.\n",
      "Old data, using hopkins formats\n",
      "No unit table found for behavior_ZS060_2021-03-30_16-13-03 in curated data.\n",
      "Old data, using hopkins formats\n",
      "No unit table found for behavior_ZS060_2021-04-01_15-30-00 in curated data.\n",
      "Old data, using hopkins formats\n",
      "Old data, using hopkins formats\n",
      "No unit table found for behavior_ZS060_2021-04-04_16-30-00 in curated data.\n",
      "Old data, using hopkins formats\n",
      "Old data, using hopkins formats\n",
      "No unit table found for behavior_ZS060_2021-04-03_17-45-00 in curated data.\n",
      "Old data, using hopkins formats\n",
      "Old data, using hopkins formats\n",
      "No unit table found for behavior_ZS061_2021-03-16_15-30-00 in curated data.\n",
      "Old data, using hopkins formats\n",
      "Old data, using hopkins formats\n",
      "Old data, using hopkins formats\n",
      "Old data, using hopkins formats\n",
      "Old data, using hopkins formats\n",
      "Old data, using hopkins formats\n",
      "No unit table found for behavior_ZS061_2021-03-17_16-00-53 in curated data.\n",
      "Old data, using hopkins formats\n",
      "Old data, using hopkins formats\n",
      "Old data, using hopkins formats\n",
      "Old data, using hopkins formats\n",
      "Old data, using hopkins formats\n",
      "Old data, using hopkins formats\n",
      "Old data, using hopkins formats\n",
      "Old data, using hopkins formats\n",
      "Old data, using hopkins formats\n",
      "Old data, using hopkins formats\n",
      "Old data, using hopkins formats\n",
      "No unit table found for behavior_ZS061_2021-03-18_17-39-19 in curated data.\n",
      "Old data, using hopkins formats\n",
      "Old data, using hopkins formats\n",
      "No unit table found for behavior_ZS061_2021-03-21_17-37-00 in curated data.\n",
      "Old data, using hopkins formats\n",
      "Old data, using hopkins formats\n",
      "Old data, using hopkins formats\n",
      "Old data, using hopkins formats\n",
      "Old data, using hopkins formats\n",
      "No unit table found for behavior_ZS061_2021-03-19_17-52-45 in curated data.\n",
      "Old data, using hopkins formats\n",
      "Old data, using hopkins formats\n",
      "Old data, using hopkins formats\n",
      "Old data, using hopkins formats\n",
      "Old data, using hopkins formats\n",
      "Old data, using hopkins formats\n",
      "Old data, using hopkins formats\n",
      "Old data, using hopkins formats\n",
      "Old data, using hopkins formats\n",
      "Old data, using hopkins formats\n",
      "Old data, using hopkins formats\n",
      "Old data, using hopkins formats\n",
      "Old data, using hopkins formats\n",
      "Old data, using hopkins formats\n",
      "Old data, using hopkins formats\n",
      "Old data, using hopkins formats\n",
      "Old data, using hopkins formats\n",
      "Old data, using hopkins formats\n",
      "Old data, using hopkins formats\n",
      "Old data, using hopkins formats\n",
      "Old data, using hopkins formats\n",
      "Old data, using hopkins formats\n",
      "Old data, using hopkins formats\n",
      "Old data, using hopkins formats\n",
      "Old data, using hopkins formats\n",
      "Old data, using hopkins formats\n",
      "Old data, using hopkins formats\n",
      "Old data, using hopkins formats\n",
      "Old data, using hopkins formats\n",
      "Old data, using hopkins formats\n",
      "Old data, using hopkins formats\n",
      "Old data, using hopkins formats\n",
      "Old data, using hopkins formats\n",
      "Old data, using hopkins formats\n",
      "Old data, using hopkins formats\n",
      "Old data, using hopkins formats\n",
      "Old data, using hopkins formats\n",
      "Old data, using hopkins formats\n",
      "Old data, using hopkins formats\n",
      "Old data, using hopkins formats\n",
      "Old data, using hopkins formats\n",
      "Old data, using hopkins formats\n",
      "Processed behavior_ZS059_2021-04-23_14-57-50\n",
      "Old data, using hopkins formats\n",
      "Old data, using hopkins formats\n",
      "Old data, using hopkins formats\n",
      "Old data, using hopkins formats\n",
      "Old data, using hopkins formats\n",
      "Processed behavior_ZS059_2021-04-06_14-30-26\n",
      "Old data, using hopkins formats\n",
      "Old data, using hopkins formats\n"
     ]
    }
   ],
   "source": [
    "for session_id  in session_ids[22:]:\n",
    "    session_dir = session_dirs(session_id);\n",
    "    if os.path.exists(session_dir['nwb_dir_raw']):\n",
    "        process(session_id)"
   ]
  },
  {
   "cell_type": "code",
   "execution_count": 4,
   "metadata": {},
   "outputs": [
    {
     "name": "stdout",
     "output_type": "stream",
     "text": [
      "Old data, using hopkins formats\n",
      "Old data, using hopkins formats\n",
      "Old data, using hopkins formats\n",
      "Old data, using hopkins formats\n",
      "Old data, using hopkins formats\n",
      "Old data, using hopkins formats\n",
      "Old data, using hopkins formats\n",
      "Old data, using hopkins formats\n",
      "Old data, using hopkins formats\n",
      "Old data, using hopkins formats\n",
      "Old data, using hopkins formats\n",
      "Old data, using hopkins formats\n",
      "Old data, using hopkins formats\n",
      "Old data, using hopkins formats\n",
      "Old data, using hopkins formats\n",
      "Old data, using hopkins formats\n",
      "Old data, using hopkins formats\n",
      "Old data, using hopkins formats\n",
      "No unit table found for behavior_ZS059_2021-04-05_14-33-48 in curated data.\n",
      "Old data, using hopkins formats\n",
      "Old data, using hopkins formats\n",
      "Old data, using hopkins formats\n",
      "Old data, using hopkins formats\n",
      "Old data, using hopkins formats\n",
      "Old data, using hopkins formats\n",
      "Old data, using hopkins formats\n",
      "Old data, using hopkins formats\n",
      "No unit table found for behavior_ZS059_2021-04-07_13-58-21 in curated data.\n",
      "Old data, using hopkins formats\n",
      "Old data, using hopkins formats\n",
      "Old data, using hopkins formats\n",
      "Old data, using hopkins formats\n",
      "Old data, using hopkins formats\n",
      "Old data, using hopkins formats\n",
      "Old data, using hopkins formats\n",
      "Old data, using hopkins formats\n",
      "Old data, using hopkins formats\n",
      "Old data, using hopkins formats\n",
      "Old data, using hopkins formats\n",
      "Old data, using hopkins formats\n",
      "Old data, using hopkins formats\n",
      "Old data, using hopkins formats\n",
      "Old data, using hopkins formats\n",
      "Old data, using hopkins formats\n",
      "Old data, using hopkins formats\n",
      "Old data, using hopkins formats\n",
      "Old data, using hopkins formats\n",
      "Old data, using hopkins formats\n",
      "Old data, using hopkins formats\n",
      "Old data, using hopkins formats\n",
      "No unit table found for behavior_ZS059_2021-04-02_15-05-16 in curated data.\n",
      "Old data, using hopkins formats\n",
      "Old data, using hopkins formats\n",
      "Old data, using hopkins formats\n",
      "Old data, using hopkins formats\n",
      "Old data, using hopkins formats\n",
      "Old data, using hopkins formats\n",
      "Old data, using hopkins formats\n",
      "Old data, using hopkins formats\n",
      "Old data, using hopkins formats\n",
      "Old data, using hopkins formats\n",
      "No unit table found for behavior_ZS059_2021-04-04_15-23-14 in curated data.\n",
      "Old data, using hopkins formats\n",
      "Old data, using hopkins formats\n",
      "Old data, using hopkins formats\n",
      "Old data, using hopkins formats\n",
      "Old data, using hopkins formats\n",
      "Old data, using hopkins formats\n",
      "Old data, using hopkins formats\n",
      "No unit table found for behavior_ZS059_2021-04-16_14-50-15 in curated data.\n",
      "Old data, using hopkins formats\n",
      "Old data, using hopkins formats\n",
      "No unit table found for behavior_ZS059_2021-04-14_14-51-04 in curated data.\n",
      "Old data, using hopkins formats\n",
      "Old data, using hopkins formats\n",
      "Old data, using hopkins formats\n",
      "Old data, using hopkins formats\n",
      "Old data, using hopkins formats\n",
      "Old data, using hopkins formats\n",
      "Old data, using hopkins formats\n",
      "Old data, using hopkins formats\n",
      "Old data, using hopkins formats\n",
      "Old data, using hopkins formats\n",
      "Old data, using hopkins formats\n",
      "Old data, using hopkins formats\n",
      "No unit table found for behavior_ZS059_2021-04-17_15-44-53 in curated data.\n",
      "Old data, using hopkins formats\n",
      "Old data, using hopkins formats\n",
      "Old data, using hopkins formats\n",
      "Old data, using hopkins formats\n",
      "Old data, using hopkins formats\n",
      "Old data, using hopkins formats\n",
      "Old data, using hopkins formats\n",
      "Old data, using hopkins formats\n",
      "Old data, using hopkins formats\n",
      "Old data, using hopkins formats\n",
      "Old data, using hopkins formats\n",
      "Old data, using hopkins formats\n",
      "Old data, using hopkins formats\n",
      "Old data, using hopkins formats\n",
      "Old data, using hopkins formats\n",
      "Old data, using hopkins formats\n",
      "Old data, using hopkins formats\n",
      "Old data, using hopkins formats\n",
      "Old data, using hopkins formats\n",
      "Old data, using hopkins formats\n",
      "Old data, using hopkins formats\n",
      "Old data, using hopkins formats\n",
      "No unit table found for behavior_ZS059_2021-04-03_16-30-45 in curated data.\n",
      "Old data, using hopkins formats\n",
      "Old data, using hopkins formats\n",
      "Old data, using hopkins formats\n",
      "Old data, using hopkins formats\n",
      "Old data, using hopkins formats\n",
      "No raw session directory found for behavior_ZS059_2021-04-18_17-26-19.\n",
      "Old data, using hopkins formats\n",
      "Old data, using hopkins formats\n",
      "Old data, using hopkins formats\n",
      "No unit table found for behavior_ZS059_2021-04-19_14-42-16 in curated data.\n",
      "Old data, using hopkins formats\n",
      "No raw session directory found for behavior_ZS059_2021-04-18_17-26-19.\n",
      "No unit table found for behavior_ZS059_2021-04-18_17-26-19 in curated data.\n",
      "Old data, using hopkins formats\n",
      "Old data, using hopkins formats\n",
      "Old data, using hopkins formats\n",
      "Old data, using hopkins formats\n",
      "Old data, using hopkins formats\n",
      "Old data, using hopkins formats\n",
      "Old data, using hopkins formats\n",
      "Processed behavior_ZS059_2021-04-11_15-41-45\n",
      "Old data, using hopkins formats\n",
      "Old data, using hopkins formats\n",
      "Old data, using hopkins formats\n",
      "Old data, using hopkins formats\n",
      "Old data, using hopkins formats\n",
      "Old data, using hopkins formats\n",
      "Processed behavior_ZS059_2021-04-08_15-53-36\n",
      "Old data, using hopkins formats\n",
      "No unit table found for behavior_ZS059_2021-04-24_15-38-10 in curated data.\n",
      "Old data, using hopkins formats\n",
      "Old data, using hopkins formats\n",
      "Old data, using hopkins formats\n",
      "Old data, using hopkins formats\n",
      "Old data, using hopkins formats\n",
      "Old data, using hopkins formats\n",
      "Old data, using hopkins formats\n",
      "Old data, using hopkins formats\n",
      "Old data, using hopkins formats\n",
      "Old data, using hopkins formats\n",
      "Old data, using hopkins formats\n",
      "Old data, using hopkins formats\n",
      "Old data, using hopkins formats\n",
      "Old data, using hopkins formats\n",
      "Old data, using hopkins formats\n",
      "Old data, using hopkins formats\n",
      "Old data, using hopkins formats\n",
      "Old data, using hopkins formats\n",
      "Old data, using hopkins formats\n",
      "Old data, using hopkins formats\n",
      "Old data, using hopkins formats\n",
      "Old data, using hopkins formats\n",
      "Old data, using hopkins formats\n",
      "Old data, using hopkins formats\n",
      "Old data, using hopkins formats\n",
      "No unit table found for behavior_ZS059_2021-04-26_14-44-03 in curated data.\n",
      "Old data, using hopkins formats\n",
      "Old data, using hopkins formats\n",
      "Old data, using hopkins formats\n",
      "Old data, using hopkins formats\n",
      "No unit table found for behavior_ZS059_2021-04-27_15-12-43 in curated data.\n",
      "Old data, using hopkins formats\n",
      "Old data, using hopkins formats\n",
      "Old data, using hopkins formats\n",
      "Old data, using hopkins formats\n",
      "Old data, using hopkins formats\n",
      "Old data, using hopkins formats\n",
      "Old data, using hopkins formats\n",
      "Old data, using hopkins formats\n",
      "Old data, using hopkins formats\n",
      "Old data, using hopkins formats\n",
      "Old data, using hopkins formats\n",
      "Old data, using hopkins formats\n",
      "Old data, using hopkins formats\n",
      "Old data, using hopkins formats\n",
      "Old data, using hopkins formats\n",
      "Old data, using hopkins formats\n",
      "Old data, using hopkins formats\n"
     ]
    },
    {
     "name": "stderr",
     "output_type": "stream",
     "text": [
      "/root/capsule/code/beh_ephys_analysis/unit_beh_analysis.py:958: UserWarning: This figure includes Axes that are not compatible with tight_layout, so results might be incorrect.\n",
      "  fig.tight_layout()\n"
     ]
    },
    {
     "name": "stdout",
     "output_type": "stream",
     "text": [
      "Old data, using hopkins formats\n",
      "Old data, using hopkins formats\n",
      "Old data, using hopkins formats\n",
      "Old data, using hopkins formats\n",
      "Old data, using hopkins formats\n",
      "Old data, using hopkins formats\n",
      "Old data, using hopkins formats\n",
      "Old data, using hopkins formats\n",
      "Processed behavior_ZS059_2021-04-12_14-57-43\n",
      "Old data, using hopkins formats\n",
      "Old data, using hopkins formats\n",
      "No unit table found for behavior_ZS059_2021-04-28_14-00-12 in curated data.\n",
      "Old data, using hopkins formats\n",
      "Old data, using hopkins formats\n",
      "No unit table found for behavior_ZS059_2021-04-29_14-02-45 in curated data.\n",
      "Old data, using hopkins formats\n",
      "Old data, using hopkins formats\n",
      "No unit table found for behavior_ZS059_2021-03-24_14-22-04 in curated data.\n",
      "Old data, using hopkins formats\n",
      "Old data, using hopkins formats\n",
      "Old data, using hopkins formats\n",
      "Old data, using hopkins formats\n",
      "Old data, using hopkins formats\n",
      "Old data, using hopkins formats\n",
      "Old data, using hopkins formats\n",
      "Old data, using hopkins formats\n",
      "Old data, using hopkins formats\n"
     ]
    },
    {
     "name": "stderr",
     "output_type": "stream",
     "text": [
      "/root/capsule/code/beh_ephys_analysis/unit_beh_analysis.py:958: UserWarning: This figure includes Axes that are not compatible with tight_layout, so results might be incorrect.\n",
      "  fig.tight_layout()\n",
      "/root/capsule/code/beh_ephys_analysis/unit_beh_analysis.py:958: UserWarning: This figure includes Axes that are not compatible with tight_layout, so results might be incorrect.\n",
      "  fig.tight_layout()\n",
      "/root/capsule/code/beh_ephys_analysis/unit_beh_analysis.py:958: UserWarning: This figure includes Axes that are not compatible with tight_layout, so results might be incorrect.\n",
      "  fig.tight_layout()\n"
     ]
    },
    {
     "name": "stdout",
     "output_type": "stream",
     "text": [
      "Old data, using hopkins formats\n",
      "Old data, using hopkins formats\n",
      "Old data, using hopkins formats\n",
      "Old data, using hopkins formats\n"
     ]
    },
    {
     "name": "stderr",
     "output_type": "stream",
     "text": [
      "/root/capsule/code/beh_ephys_analysis/unit_beh_analysis.py:958: UserWarning: This figure includes Axes that are not compatible with tight_layout, so results might be incorrect.\n",
      "  fig.tight_layout()\n",
      "/root/capsule/code/beh_ephys_analysis/unit_beh_analysis.py:958: UserWarning: This figure includes Axes that are not compatible with tight_layout, so results might be incorrect.\n",
      "  fig.tight_layout()\n",
      "/root/capsule/code/beh_ephys_analysis/unit_beh_analysis.py:958: UserWarning: This figure includes Axes that are not compatible with tight_layout, so results might be incorrect.\n",
      "  fig.tight_layout()\n"
     ]
    },
    {
     "name": "stdout",
     "output_type": "stream",
     "text": [
      "Processed behavior_ZS059_2021-03-29_14-41-57\n",
      "Old data, using hopkins formats\n",
      "Old data, using hopkins formats\n",
      "Old data, using hopkins formats\n"
     ]
    },
    {
     "name": "stderr",
     "output_type": "stream",
     "text": [
      "/root/capsule/code/beh_ephys_analysis/unit_beh_analysis.py:958: UserWarning: This figure includes Axes that are not compatible with tight_layout, so results might be incorrect.\n",
      "  fig.tight_layout()\n"
     ]
    },
    {
     "name": "stdout",
     "output_type": "stream",
     "text": [
      "Processed behavior_ZS059_2021-04-25_16-22-31\n",
      "Old data, using hopkins formats\n",
      "Old data, using hopkins formats\n",
      "Old data, using hopkins formats\n",
      "Old data, using hopkins formats\n",
      "No unit table found for behavior_ZS059_2021-03-25_14-40-45 in curated data.\n",
      "Old data, using hopkins formats\n",
      "Processed behavior_ZS059_2021-04-09_15-53-45\n",
      "No raw session directory found for behavior_ZS060_2021-04-14_18-15-27.\n",
      "Old data, using hopkins formats\n",
      "No raw session directory found for behavior_ZS060_2021-04-14_18-15-27.\n",
      "No unit table found for behavior_ZS060_2021-04-14_18-15-27 in curated data.\n",
      "Old data, using hopkins formats\n",
      "Old data, using hopkins formats\n"
     ]
    },
    {
     "name": "stderr",
     "output_type": "stream",
     "text": [
      "/root/capsule/code/beh_ephys_analysis/unit_beh_analysis.py:958: UserWarning: This figure includes Axes that are not compatible with tight_layout, so results might be incorrect.\n",
      "  fig.tight_layout()\n"
     ]
    },
    {
     "name": "stdout",
     "output_type": "stream",
     "text": [
      "Processed behavior_ZS059_2021-03-31_14-32-51\n",
      "Old data, using hopkins formats\n",
      "No unit table found for behavior_ZS060_2021-04-09_17-07-51 in curated data.\n",
      "Old data, using hopkins formats\n",
      "Old data, using hopkins formats\n",
      "Old data, using hopkins formats\n",
      "Old data, using hopkins formats\n",
      "Old data, using hopkins formats\n",
      "Old data, using hopkins formats\n"
     ]
    },
    {
     "name": "stderr",
     "output_type": "stream",
     "text": [
      "/root/capsule/code/beh_ephys_analysis/unit_beh_analysis.py:958: UserWarning: This figure includes Axes that are not compatible with tight_layout, so results might be incorrect.\n",
      "  fig.tight_layout()\n",
      "/root/capsule/code/beh_ephys_analysis/unit_beh_analysis.py:958: UserWarning: This figure includes Axes that are not compatible with tight_layout, so results might be incorrect.\n",
      "  fig.tight_layout()\n",
      "/root/capsule/code/beh_ephys_analysis/unit_beh_analysis.py:958: UserWarning: This figure includes Axes that are not compatible with tight_layout, so results might be incorrect.\n",
      "  fig.tight_layout()\n"
     ]
    },
    {
     "name": "stdout",
     "output_type": "stream",
     "text": [
      "Processed behavior_ZS059_2021-04-10_15-55-11\n",
      "No raw session directory found for behavior_ZS060_2021-04-21_19-23-52.\n",
      "Old data, using hopkins formats\n",
      "No raw session directory found for behavior_ZS060_2021-04-21_19-23-52.\n",
      "No unit table found for behavior_ZS060_2021-04-21_19-23-52 in curated data.\n",
      "Old data, using hopkins formats\n",
      "Old data, using hopkins formats\n",
      "No unit table found for behavior_ZS060_2021-04-22_18-30-00 in curated data.\n",
      "Old data, using hopkins formats\n",
      "Old data, using hopkins formats\n",
      "No raw session directory found for behavior_ZS060_2021-04-11_16-41-30.\n",
      "Old data, using hopkins formats\n",
      "No raw session directory found for behavior_ZS060_2021-04-11_16-41-30.\n",
      "No unit table found for behavior_ZS060_2021-04-11_16-41-30 in curated data.\n",
      "Old data, using hopkins formats\n",
      "No raw session directory found for behavior_ZS060_2021-04-12_15-57-59.\n",
      "Old data, using hopkins formats\n",
      "No raw session directory found for behavior_ZS060_2021-04-12_15-57-59.\n",
      "No unit table found for behavior_ZS060_2021-04-12_15-57-59 in curated data.\n",
      "Old data, using hopkins formats\n",
      "Old data, using hopkins formats\n",
      "No unit table found for behavior_ZS060_2021-04-16_16-09-11 in curated data.\n",
      "Old data, using hopkins formats\n",
      "No raw session directory found for behavior_ZS060_2021-04-27_16-21-43.\n",
      "Old data, using hopkins formats\n",
      "Processed behavior_ZS059_2021-04-20_14-50-03\n",
      "Old data, using hopkins formats\n",
      "No raw session directory found for behavior_ZS060_2021-04-27_16-21-43.\n",
      "No unit table found for behavior_ZS060_2021-04-27_16-21-43 in curated data.\n",
      "Old data, using hopkins formats\n",
      "Old data, using hopkins formats\n",
      "Old data, using hopkins formats\n",
      "Old data, using hopkins formats\n",
      "No unit table found for behavior_ZS060_2021-04-23_18-34-53 in curated data.\n",
      "Old data, using hopkins formats\n",
      "Old data, using hopkins formats\n",
      "No unit table found for behavior_ZS060_2021-04-28_15-16-45 in curated data.\n",
      "Old data, using hopkins formats\n",
      "Old data, using hopkins formats\n",
      "No unit table found for behavior_ZS060_2021-04-24_18-50-00 in curated data.\n",
      "Old data, using hopkins formats\n",
      "Processed behavior_ZS059_2021-04-21_15-58-55\n",
      "Old data, using hopkins formats\n"
     ]
    },
    {
     "name": "stderr",
     "output_type": "stream",
     "text": [
      "/root/capsule/code/beh_ephys_analysis/unit_beh_analysis.py:958: UserWarning: This figure includes Axes that are not compatible with tight_layout, so results might be incorrect.\n",
      "  fig.tight_layout()\n"
     ]
    },
    {
     "name": "stdout",
     "output_type": "stream",
     "text": [
      "Old data, using hopkins formats\n",
      "No unit table found for behavior_ZS060_2021-04-25_19-51-06 in curated data.\n",
      "Old data, using hopkins formats\n",
      "Processed behavior_ZS059_2021-04-13_15-43-53\n",
      "Old data, using hopkins formats\n",
      "No unit table found for behavior_ZS060_2021-04-26_19-24-52 in curated data.\n",
      "Old data, using hopkins formats\n",
      "Old data, using hopkins formats\n",
      "No unit table found for behavior_ZS060_2021-04-29_15-15-00 in curated data.\n",
      "Old data, using hopkins formats\n",
      "Old data, using hopkins formats\n",
      "Old data, using hopkins formats\n",
      "Old data, using hopkins formats\n",
      "No unit table found for behavior_ZS060_2021-03-21_16-15-00 in curated data.\n",
      "Old data, using hopkins formats\n",
      "No raw session directory found for behavior_ZS060_2021-04-10_16-58-41.\n",
      "No unit table found for behavior_ZS060_2021-03-20_16-20-00 in curated data.\n",
      "Old data, using hopkins formats\n",
      "Old data, using hopkins formats\n",
      "Old data, using hopkins formats\n",
      "No unit table found for behavior_ZS060_2021-03-22_16-25-00 in curated data.\n",
      "Old data, using hopkins formats\n",
      "No raw session directory found for behavior_ZS060_2021-04-10_16-58-41.\n",
      "No unit table found for behavior_ZS060_2021-04-10_16-58-41 in curated data.\n",
      "Old data, using hopkins formats\n",
      "Old data, using hopkins formats\n",
      "Old data, using hopkins formats\n",
      "Old data, using hopkins formats\n",
      "No unit table found for behavior_ZS060_2021-03-25_16-00-00 in curated data.\n",
      "Old data, using hopkins formats\n",
      "Old data, using hopkins formats\n",
      "No unit table found for behavior_ZS060_2021-03-23_15-15-00 in curated data.\n",
      "Old data, using hopkins formats\n",
      "Old data, using hopkins formats\n",
      "No unit table found for behavior_ZS060_2021-03-27_17-11-43 in curated data.\n",
      "Old data, using hopkins formats\n",
      "Old data, using hopkins formats\n",
      "Old data, using hopkins formats\n",
      "Old data, using hopkins formats\n",
      "No unit table found for behavior_ZS059_2021-03-26_13-52-11 in curated data.\n",
      "Old data, using hopkins formats\n",
      "No unit table found for behavior_ZS060_2021-03-26_14-50-00 in curated data.\n",
      "Old data, using hopkins formats\n",
      "Old data, using hopkins formats\n",
      "Old data, using hopkins formats\n",
      "Old data, using hopkins formats\n",
      "Old data, using hopkins formats\n",
      "No unit table found for behavior_ZS060_2021-03-31_15-45-00 in curated data.\n",
      "Old data, using hopkins formats\n",
      "Old data, using hopkins formats\n",
      "Old data, using hopkins formats\n",
      "Old data, using hopkins formats\n",
      "Old data, using hopkins formats\n",
      "Old data, using hopkins formats\n",
      "Old data, using hopkins formats\n",
      "No unit table found for behavior_ZS060_2021-03-30_16-13-03 in curated data.\n",
      "Old data, using hopkins formats\n",
      "Old data, using hopkins formats\n",
      "No unit table found for behavior_ZS060_2021-04-02_16-30-00 in curated data.\n",
      "Old data, using hopkins formats\n",
      "Processed behavior_ZS059_2021-04-15_15-29-28\n",
      "Old data, using hopkins formats\n",
      "Old data, using hopkins formats\n"
     ]
    },
    {
     "name": "stderr",
     "output_type": "stream",
     "text": [
      "/root/capsule/code/beh_ephys_analysis/unit_beh_analysis.py:958: UserWarning: This figure includes Axes that are not compatible with tight_layout, so results might be incorrect.\n",
      "  fig.tight_layout()\n"
     ]
    },
    {
     "name": "stdout",
     "output_type": "stream",
     "text": [
      "Processed behavior_ZS059_2021-03-30_14-57-13\n",
      "No unit table found for behavior_ZS060_2021-04-01_15-30-00 in curated data.\n",
      "Old data, using hopkins formats\n",
      "Old data, using hopkins formats\n",
      "Old data, using hopkins formats\n",
      "No unit table found for behavior_ZS060_2021-04-03_17-45-00 in curated data.\n",
      "Old data, using hopkins formats\n",
      "No unit table found for behavior_ZS060_2021-04-04_16-30-00 in curated data.\n",
      "Old data, using hopkins formats\n",
      "No unit table found for behavior_ZS060_2021-03-24_15-40-00 in curated data.\n",
      "Old data, using hopkins formats\n",
      "Old data, using hopkins formats\n",
      "Old data, using hopkins formats\n",
      "Old data, using hopkins formats\n",
      "Old data, using hopkins formats\n",
      "Old data, using hopkins formats\n",
      "No unit table found for behavior_ZS061_2021-03-16_15-30-00 in curated data.\n",
      "Old data, using hopkins formats\n",
      "Old data, using hopkins formats\n",
      "Old data, using hopkins formats\n",
      "No unit table found for behavior_ZS061_2021-03-17_16-00-53 in curated data.\n",
      "Old data, using hopkins formats\n",
      "Old data, using hopkins formats\n",
      "No unit table found for behavior_ZS061_2021-03-21_17-37-00 in curated data.\n",
      "Old data, using hopkins formats\n",
      "Processed behavior_ZS059_2021-04-22_15-11-25\n",
      "Old data, using hopkins formats\n",
      "Old data, using hopkins formats\n",
      "No unit table found for behavior_ZS061_2021-03-18_17-39-19 in curated data.\n",
      "Old data, using hopkins formats\n",
      "Old data, using hopkins formats\n",
      "Old data, using hopkins formats\n",
      "Old data, using hopkins formats\n",
      "No unit table found for behavior_ZS061_2021-03-19_17-52-45 in curated data.\n",
      "Old data, using hopkins formats\n",
      "Old data, using hopkins formats\n",
      "Old data, using hopkins formats\n",
      "Old data, using hopkins formats\n",
      "Old data, using hopkins formats\n",
      "Old data, using hopkins formats\n",
      "Old data, using hopkins formats\n",
      "Old data, using hopkins formats\n",
      "Old data, using hopkins formats\n",
      "Old data, using hopkins formats\n",
      "Old data, using hopkins formats\n"
     ]
    },
    {
     "name": "stderr",
     "output_type": "stream",
     "text": [
      "/root/capsule/code/beh_ephys_analysis/unit_beh_analysis.py:958: UserWarning: This figure includes Axes that are not compatible with tight_layout, so results might be incorrect.\n",
      "  fig.tight_layout()\n"
     ]
    },
    {
     "name": "stdout",
     "output_type": "stream",
     "text": [
      "Old data, using hopkins formats\n",
      "Old data, using hopkins formats\n",
      "Old data, using hopkins formats\n",
      "Old data, using hopkins formats\n",
      "Old data, using hopkins formats\n",
      "Old data, using hopkins formats\n",
      "Old data, using hopkins formats\n",
      "Old data, using hopkins formats\n",
      "Old data, using hopkins formats\n",
      "Old data, using hopkins formats\n",
      "Old data, using hopkins formats\n",
      "Old data, using hopkins formats\n",
      "Processed behavior_ZS059_2021-04-01_14-17-46\n",
      "Old data, using hopkins formats\n",
      "Old data, using hopkins formats\n",
      "Old data, using hopkins formats\n",
      "Old data, using hopkins formats\n",
      "Old data, using hopkins formats\n",
      "Old data, using hopkins formats\n",
      "Old data, using hopkins formats\n",
      "Old data, using hopkins formats\n",
      "Old data, using hopkins formats\n",
      "Old data, using hopkins formats\n",
      "Old data, using hopkins formats\n"
     ]
    },
    {
     "name": "stderr",
     "output_type": "stream",
     "text": [
      "/root/capsule/code/beh_ephys_analysis/unit_beh_analysis.py:958: UserWarning: This figure includes Axes that are not compatible with tight_layout, so results might be incorrect.\n",
      "  fig.tight_layout()\n"
     ]
    },
    {
     "name": "stdout",
     "output_type": "stream",
     "text": [
      "Old data, using hopkins formats\n",
      "Old data, using hopkins formats\n",
      "Old data, using hopkins formats\n",
      "Old data, using hopkins formats\n",
      "Old data, using hopkins formats\n",
      "Old data, using hopkins formats\n",
      "Old data, using hopkins formats\n",
      "Old data, using hopkins formats\n",
      "Old data, using hopkins formats\n",
      "Old data, using hopkins formats\n",
      "Old data, using hopkins formats\n",
      "Old data, using hopkins formats\n",
      "Old data, using hopkins formats\n",
      "Old data, using hopkins formats\n",
      "Old data, using hopkins formats\n",
      "Old data, using hopkins formats\n",
      "Old data, using hopkins formats\n",
      "Old data, using hopkins formats\n",
      "Old data, using hopkins formats\n",
      "Old data, using hopkins formats\n",
      "Old data, using hopkins formats\n",
      "Old data, using hopkins formats\n",
      "Old data, using hopkins formats\n",
      "Old data, using hopkins formats\n",
      "Processed behavior_ZS059_2021-04-23_14-57-50\n",
      "Old data, using hopkins formats\n",
      "Old data, using hopkins formats\n",
      "Old data, using hopkins formats\n",
      "Old data, using hopkins formats\n",
      "Old data, using hopkins formats\n",
      "Processed behavior_ZS059_2021-04-06_14-30-26\n",
      "Old data, using hopkins formats\n",
      "Old data, using hopkins formats\n",
      "Old data, using hopkins formats\n",
      "Old data, using hopkins formats\n",
      "Old data, using hopkins formats\n",
      "Old data, using hopkins formats\n",
      "Old data, using hopkins formats\n",
      "Old data, using hopkins formats\n",
      "Old data, using hopkins formats\n",
      "Old data, using hopkins formats\n",
      "Old data, using hopkins formats\n",
      "Old data, using hopkins formats\n",
      "Old data, using hopkins formats\n",
      "Old data, using hopkins formats\n",
      "Old data, using hopkins formats\n",
      "Old data, using hopkins formats\n",
      "Old data, using hopkins formats\n",
      "Old data, using hopkins formats\n",
      "Old data, using hopkins formats\n",
      "Old data, using hopkins formats\n",
      "Old data, using hopkins formats\n",
      "Old data, using hopkins formats\n",
      "Old data, using hopkins formats\n",
      "Processed behavior_ZS059_2021-03-28_14-18-58\n",
      "Old data, using hopkins formats\n",
      "Old data, using hopkins formats\n",
      "Old data, using hopkins formats\n",
      "Old data, using hopkins formats\n",
      "Old data, using hopkins formats\n",
      "Old data, using hopkins formats\n",
      "Old data, using hopkins formats\n",
      "Old data, using hopkins formats\n",
      "Old data, using hopkins formats\n"
     ]
    },
    {
     "name": "stderr",
     "output_type": "stream",
     "text": [
      "/root/capsule/code/beh_ephys_analysis/unit_beh_analysis.py:958: UserWarning: This figure includes Axes that are not compatible with tight_layout, so results might be incorrect.\n",
      "  fig.tight_layout()\n"
     ]
    },
    {
     "name": "stdout",
     "output_type": "stream",
     "text": [
      "Old data, using hopkins formats\n",
      "Old data, using hopkins formats\n",
      "Old data, using hopkins formats\n",
      "Old data, using hopkins formats\n",
      "Old data, using hopkins formats\n",
      "Old data, using hopkins formats\n",
      "Old data, using hopkins formats\n",
      "Old data, using hopkins formats\n",
      "Old data, using hopkins formats\n"
     ]
    },
    {
     "name": "stderr",
     "output_type": "stream",
     "text": [
      "/root/capsule/code/beh_ephys_analysis/unit_beh_analysis.py:958: UserWarning: This figure includes Axes that are not compatible with tight_layout, so results might be incorrect.\n",
      "  fig.tight_layout()\n",
      "/root/capsule/code/beh_ephys_analysis/unit_beh_analysis.py:958: UserWarning: This figure includes Axes that are not compatible with tight_layout, so results might be incorrect.\n",
      "  fig.tight_layout()\n",
      "/root/capsule/code/beh_ephys_analysis/unit_beh_analysis.py:958: UserWarning: This figure includes Axes that are not compatible with tight_layout, so results might be incorrect.\n",
      "  fig.tight_layout()\n"
     ]
    },
    {
     "name": "stdout",
     "output_type": "stream",
     "text": [
      "Processed behavior_ZS060_2021-04-15_19-06-02\n",
      "Old data, using hopkins formats\n",
      "Old data, using hopkins formats\n",
      "Old data, using hopkins formats\n",
      "Old data, using hopkins formats\n",
      "Old data, using hopkins formats\n",
      "Processed behavior_ZS059_2021-03-27_16-03-00\n",
      "Old data, using hopkins formats\n",
      "Old data, using hopkins formats\n",
      "Old data, using hopkins formats\n",
      "Old data, using hopkins formats\n",
      "Old data, using hopkins formats\n",
      "Old data, using hopkins formats\n",
      "Old data, using hopkins formats\n",
      "Processed behavior_ZS060_2021-03-28_15-27-56\n",
      "Old data, using hopkins formats\n",
      "Old data, using hopkins formats\n",
      "No unit table found for behavior_ZS061_2021-04-22_16-25-00 in curated data.\n",
      "Old data, using hopkins formats\n",
      "Old data, using hopkins formats\n",
      "Old data, using hopkins formats\n"
     ]
    },
    {
     "name": "stderr",
     "output_type": "stream",
     "text": [
      "/root/capsule/code/beh_ephys_analysis/unit_beh_analysis.py:958: UserWarning: This figure includes Axes that are not compatible with tight_layout, so results might be incorrect.\n",
      "  fig.tight_layout()\n",
      "/root/capsule/code/beh_ephys_analysis/unit_beh_analysis.py:958: UserWarning: This figure includes Axes that are not compatible with tight_layout, so results might be incorrect.\n",
      "  fig.tight_layout()\n",
      "/root/capsule/code/beh_ephys_analysis/unit_beh_analysis.py:958: UserWarning: This figure includes Axes that are not compatible with tight_layout, so results might be incorrect.\n",
      "  fig.tight_layout()\n"
     ]
    },
    {
     "name": "stdout",
     "output_type": "stream",
     "text": [
      "Old data, using hopkins formats\n",
      "Old data, using hopkins formats\n",
      "Old data, using hopkins formats\n",
      "Old data, using hopkins formats\n",
      "Old data, using hopkins formats\n",
      "Old data, using hopkins formats\n"
     ]
    },
    {
     "name": "stderr",
     "output_type": "stream",
     "text": [
      "/root/capsule/code/beh_ephys_analysis/unit_beh_analysis.py:958: UserWarning: This figure includes Axes that are not compatible with tight_layout, so results might be incorrect.\n",
      "  fig.tight_layout()\n"
     ]
    },
    {
     "name": "stdout",
     "output_type": "stream",
     "text": [
      "Old data, using hopkins formats\n",
      "Old data, using hopkins formats\n"
     ]
    },
    {
     "name": "stderr",
     "output_type": "stream",
     "text": [
      "/root/capsule/code/beh_ephys_analysis/unit_beh_analysis.py:958: UserWarning: This figure includes Axes that are not compatible with tight_layout, so results might be incorrect.\n",
      "  fig.tight_layout()\n"
     ]
    },
    {
     "name": "stdout",
     "output_type": "stream",
     "text": [
      "Old data, using hopkins formats\n",
      "Old data, using hopkins formats\n",
      "Processed behavior_ZS061_2021-04-29_16-18-51\n",
      "Old data, using hopkins formats\n",
      "Old data, using hopkins formats\n",
      "Old data, using hopkins formats\n"
     ]
    },
    {
     "name": "stderr",
     "output_type": "stream",
     "text": [
      "/root/capsule/code/beh_ephys_analysis/unit_beh_analysis.py:958: UserWarning: This figure includes Axes that are not compatible with tight_layout, so results might be incorrect.\n",
      "  fig.tight_layout()\n",
      "/root/capsule/code/beh_ephys_analysis/unit_beh_analysis.py:958: UserWarning: This figure includes Axes that are not compatible with tight_layout, so results might be incorrect.\n",
      "  fig.tight_layout()\n"
     ]
    },
    {
     "name": "stdout",
     "output_type": "stream",
     "text": [
      "Processed behavior_ZS060_2021-03-29_16-21-37\n",
      "Old data, using hopkins formats\n",
      "Old data, using hopkins formats\n",
      "Old data, using hopkins formats\n",
      "Old data, using hopkins formats\n",
      "Old data, using hopkins formats\n",
      "Old data, using hopkins formats\n",
      "Old data, using hopkins formats\n"
     ]
    },
    {
     "name": "stderr",
     "output_type": "stream",
     "text": [
      "/root/capsule/code/beh_ephys_analysis/unit_beh_analysis.py:958: UserWarning: This figure includes Axes that are not compatible with tight_layout, so results might be incorrect.\n",
      "  fig.tight_layout()\n"
     ]
    },
    {
     "name": "stdout",
     "output_type": "stream",
     "text": [
      "Old data, using hopkins formats\n",
      "Old data, using hopkins formats\n",
      "Old data, using hopkins formats\n",
      "Old data, using hopkins formats\n"
     ]
    },
    {
     "name": "stderr",
     "output_type": "stream",
     "text": [
      "/root/capsule/code/beh_ephys_analysis/unit_beh_analysis.py:958: UserWarning: This figure includes Axes that are not compatible with tight_layout, so results might be incorrect.\n",
      "  fig.tight_layout()\n",
      "/root/capsule/code/beh_ephys_analysis/unit_beh_analysis.py:958: UserWarning: This figure includes Axes that are not compatible with tight_layout, so results might be incorrect.\n",
      "  fig.tight_layout()\n",
      "/root/capsule/code/beh_ephys_analysis/unit_beh_analysis.py:958: UserWarning: This figure includes Axes that are not compatible with tight_layout, so results might be incorrect.\n",
      "  fig.tight_layout()\n"
     ]
    },
    {
     "name": "stdout",
     "output_type": "stream",
     "text": [
      "Old data, using hopkins formats\n"
     ]
    },
    {
     "name": "stderr",
     "output_type": "stream",
     "text": [
      "/root/capsule/code/beh_ephys_analysis/unit_beh_analysis.py:958: UserWarning: This figure includes Axes that are not compatible with tight_layout, so results might be incorrect.\n",
      "  fig.tight_layout()\n"
     ]
    },
    {
     "name": "stdout",
     "output_type": "stream",
     "text": [
      "Old data, using hopkins formats\n",
      "Old data, using hopkins formats\n",
      "Old data, using hopkins formats\n",
      "Old data, using hopkins formats\n",
      "Processed behavior_ZS061_2021-04-28_16-35-50\n",
      "Old data, using hopkins formats\n",
      "Processed behavior_ZS060_2021-04-08_16-55-35\n",
      "Old data, using hopkins formats\n",
      "Old data, using hopkins formats\n",
      "No unit table found for behavior_ZS061_2021-04-27_18-19-52 in curated data.\n",
      "Old data, using hopkins formats\n",
      "Old data, using hopkins formats\n",
      "Old data, using hopkins formats\n",
      "Old data, using hopkins formats\n"
     ]
    },
    {
     "name": "stderr",
     "output_type": "stream",
     "text": [
      "/root/capsule/code/beh_ephys_analysis/unit_beh_analysis.py:958: UserWarning: This figure includes Axes that are not compatible with tight_layout, so results might be incorrect.\n",
      "  fig.tight_layout()\n",
      "/root/capsule/code/beh_ephys_analysis/unit_beh_analysis.py:958: UserWarning: This figure includes Axes that are not compatible with tight_layout, so results might be incorrect.\n",
      "  fig.tight_layout()\n",
      "/root/capsule/code/beh_ephys_analysis/unit_beh_analysis.py:958: UserWarning: This figure includes Axes that are not compatible with tight_layout, so results might be incorrect.\n",
      "  fig.tight_layout()\n"
     ]
    },
    {
     "name": "stdout",
     "output_type": "stream",
     "text": [
      "Old data, using hopkins formats\n",
      "Old data, using hopkins formats\n",
      "Old data, using hopkins formats\n",
      "Old data, using hopkins formats\n",
      "Old data, using hopkins formats\n",
      "Old data, using hopkins formats\n",
      "Old data, using hopkins formats\n",
      "Processed behavior_ZS061_2021-04-24_16-48-52\n",
      "Old data, using hopkins formats\n",
      "Processed behavior_ZS061_2021-04-19_18-31-40\n",
      "Old data, using hopkins formats\n",
      "Old data, using hopkins formats\n",
      "Old data, using hopkins formats\n",
      "Old data, using hopkins formats\n",
      "Old data, using hopkins formats\n",
      "Old data, using hopkins formats\n",
      "Old data, using hopkins formats\n",
      "Old data, using hopkins formats\n",
      "Old data, using hopkins formats\n",
      "Old data, using hopkins formats\n",
      "Old data, using hopkins formats\n",
      "Old data, using hopkins formats\n",
      "Old data, using hopkins formats\n",
      "Old data, using hopkins formats\n",
      "Old data, using hopkins formats\n",
      "Old data, using hopkins formats\n"
     ]
    },
    {
     "name": "stderr",
     "output_type": "stream",
     "text": [
      "/root/capsule/code/beh_ephys_analysis/unit_beh_analysis.py:958: UserWarning: This figure includes Axes that are not compatible with tight_layout, so results might be incorrect.\n",
      "  fig.tight_layout()\n"
     ]
    },
    {
     "name": "stdout",
     "output_type": "stream",
     "text": [
      "Old data, using hopkins formats\n",
      "Old data, using hopkins formats\n",
      "Old data, using hopkins formats\n",
      "Processed behavior_ZS061_2021-04-21_17-03-09\n",
      "Old data, using hopkins formats\n",
      "Old data, using hopkins formats\n",
      "Old data, using hopkins formats\n",
      "Old data, using hopkins formats\n",
      "Old data, using hopkins formats\n",
      "Old data, using hopkins formats\n",
      "Old data, using hopkins formats\n",
      "Old data, using hopkins formats\n",
      "Old data, using hopkins formats\n",
      "Old data, using hopkins formats\n",
      "Old data, using hopkins formats\n",
      "Old data, using hopkins formats\n",
      "Old data, using hopkins formats\n",
      "Old data, using hopkins formats\n",
      "Old data, using hopkins formats\n",
      "Old data, using hopkins formats\n",
      "Old data, using hopkins formats\n",
      "Old data, using hopkins formats\n"
     ]
    },
    {
     "name": "stderr",
     "output_type": "stream",
     "text": [
      "/root/capsule/code/beh_ephys_analysis/unit_beh_analysis.py:958: UserWarning: This figure includes Axes that are not compatible with tight_layout, so results might be incorrect.\n",
      "  fig.tight_layout()\n"
     ]
    },
    {
     "name": "stdout",
     "output_type": "stream",
     "text": [
      "Old data, using hopkins formats\n",
      "Old data, using hopkins formats\n",
      "Old data, using hopkins formats\n"
     ]
    },
    {
     "name": "stderr",
     "output_type": "stream",
     "text": [
      "/root/capsule/code/beh_ephys_analysis/unit_beh_analysis.py:958: UserWarning: This figure includes Axes that are not compatible with tight_layout, so results might be incorrect.\n",
      "  fig.tight_layout()\n",
      "/root/capsule/code/beh_ephys_analysis/unit_beh_analysis.py:958: UserWarning: This figure includes Axes that are not compatible with tight_layout, so results might be incorrect.\n",
      "  fig.tight_layout()\n",
      "/root/capsule/code/beh_ephys_analysis/unit_beh_analysis.py:958: UserWarning: This figure includes Axes that are not compatible with tight_layout, so results might be incorrect.\n",
      "  fig.tight_layout()\n"
     ]
    },
    {
     "name": "stdout",
     "output_type": "stream",
     "text": [
      "Old data, using hopkins formats\n",
      "Old data, using hopkins formats\n",
      "Processed behavior_ZS060_2021-04-07_15-21-40\n",
      "Old data, using hopkins formats\n"
     ]
    },
    {
     "name": "stderr",
     "output_type": "stream",
     "text": [
      "/root/capsule/code/beh_ephys_analysis/unit_beh_analysis.py:958: UserWarning: This figure includes Axes that are not compatible with tight_layout, so results might be incorrect.\n",
      "  fig.tight_layout()\n",
      "/root/capsule/code/beh_ephys_analysis/unit_beh_analysis.py:958: UserWarning: This figure includes Axes that are not compatible with tight_layout, so results might be incorrect.\n",
      "  fig.tight_layout()\n"
     ]
    },
    {
     "name": "stdout",
     "output_type": "stream",
     "text": [
      "Old data, using hopkins formats\n",
      "Old data, using hopkins formats\n",
      "Old data, using hopkins formats\n",
      "Old data, using hopkins formats\n",
      "Old data, using hopkins formats\n",
      "Old data, using hopkins formats\n"
     ]
    },
    {
     "name": "stderr",
     "output_type": "stream",
     "text": [
      "/root/capsule/code/beh_ephys_analysis/unit_beh_analysis.py:958: UserWarning: This figure includes Axes that are not compatible with tight_layout, so results might be incorrect.\n",
      "  fig.tight_layout()\n"
     ]
    },
    {
     "name": "stdout",
     "output_type": "stream",
     "text": [
      "Old data, using hopkins formats\n",
      "Old data, using hopkins formats\n",
      "Old data, using hopkins formats\n",
      "Old data, using hopkins formats\n",
      "Processed behavior_ZS061_2021-04-20_15-49-57\n",
      "Old data, using hopkins formats\n",
      "Old data, using hopkins formats\n",
      "Old data, using hopkins formats\n",
      "Old data, using hopkins formats\n",
      "Old data, using hopkins formats\n",
      "Old data, using hopkins formats\n",
      "Old data, using hopkins formats\n"
     ]
    },
    {
     "name": "stderr",
     "output_type": "stream",
     "text": [
      "/root/capsule/code/beh_ephys_analysis/unit_beh_analysis.py:958: UserWarning: This figure includes Axes that are not compatible with tight_layout, so results might be incorrect.\n",
      "  fig.tight_layout()\n"
     ]
    },
    {
     "name": "stdout",
     "output_type": "stream",
     "text": [
      "Old data, using hopkins formats\n"
     ]
    },
    {
     "name": "stderr",
     "output_type": "stream",
     "text": [
      "/root/capsule/code/beh_ephys_analysis/unit_beh_analysis.py:958: UserWarning: This figure includes Axes that are not compatible with tight_layout, so results might be incorrect.\n",
      "  fig.tight_layout()\n"
     ]
    },
    {
     "name": "stdout",
     "output_type": "stream",
     "text": [
      "Old data, using hopkins formats\n",
      "Old data, using hopkins formats\n"
     ]
    },
    {
     "name": "stderr",
     "output_type": "stream",
     "text": [
      "/root/capsule/code/beh_ephys_analysis/unit_beh_analysis.py:958: UserWarning: This figure includes Axes that are not compatible with tight_layout, so results might be incorrect.\n",
      "  fig.tight_layout()\n",
      "/root/capsule/code/beh_ephys_analysis/unit_beh_analysis.py:958: UserWarning: This figure includes Axes that are not compatible with tight_layout, so results might be incorrect.\n",
      "  fig.tight_layout()\n"
     ]
    },
    {
     "name": "stdout",
     "output_type": "stream",
     "text": [
      "Old data, using hopkins formats\n",
      "Old data, using hopkins formats\n"
     ]
    },
    {
     "name": "stderr",
     "output_type": "stream",
     "text": [
      "/root/capsule/code/beh_ephys_analysis/unit_beh_analysis.py:958: UserWarning: This figure includes Axes that are not compatible with tight_layout, so results might be incorrect.\n",
      "  fig.tight_layout()\n",
      "/root/capsule/code/beh_ephys_analysis/unit_beh_analysis.py:958: UserWarning: This figure includes Axes that are not compatible with tight_layout, so results might be incorrect.\n",
      "  fig.tight_layout()\n"
     ]
    },
    {
     "name": "stdout",
     "output_type": "stream",
     "text": [
      "Processed behavior_ZS061_2021-04-26_18-08-01\n",
      "Old data, using hopkins formats\n",
      "Processed behavior_ZS061_2021-04-23_16-13-13\n",
      "Old data, using hopkins formats\n"
     ]
    },
    {
     "name": "stderr",
     "output_type": "stream",
     "text": [
      "/root/capsule/code/beh_ephys_analysis/unit_beh_analysis.py:958: UserWarning: This figure includes Axes that are not compatible with tight_layout, so results might be incorrect.\n",
      "  fig.tight_layout()\n"
     ]
    },
    {
     "name": "stdout",
     "output_type": "stream",
     "text": [
      "Old data, using hopkins formats\n",
      "Old data, using hopkins formats\n",
      "Old data, using hopkins formats\n",
      "Old data, using hopkins formats\n",
      "Processed behavior_ZS061_2021-03-20_18-03-26\n",
      "Old data, using hopkins formats\n",
      "Old data, using hopkins formats\n",
      "Old data, using hopkins formats\n",
      "Old data, using hopkins formats\n",
      "Old data, using hopkins formats\n",
      "No raw session directory found for behavior_ZS061_2021-04-03_18-50-29.\n",
      "Old data, using hopkins formats\n",
      "No raw session directory found for behavior_ZS061_2021-04-03_18-50-29.\n",
      "No unit table found for behavior_ZS061_2021-04-03_18-50-29 in curated data.\n",
      "Old data, using hopkins formats\n",
      "Old data, using hopkins formats\n",
      "Old data, using hopkins formats\n",
      "Old data, using hopkins formats\n",
      "Old data, using hopkins formats\n",
      "Old data, using hopkins formats\n",
      "Old data, using hopkins formats\n"
     ]
    },
    {
     "name": "stderr",
     "output_type": "stream",
     "text": [
      "/root/capsule/code/beh_ephys_analysis/unit_beh_analysis.py:958: UserWarning: This figure includes Axes that are not compatible with tight_layout, so results might be incorrect.\n",
      "  fig.tight_layout()\n",
      "/root/capsule/code/beh_ephys_analysis/unit_beh_analysis.py:958: UserWarning: This figure includes Axes that are not compatible with tight_layout, so results might be incorrect.\n",
      "  fig.tight_layout()\n",
      "/root/capsule/code/beh_ephys_analysis/unit_beh_analysis.py:958: UserWarning: This figure includes Axes that are not compatible with tight_layout, so results might be incorrect.\n",
      "  fig.tight_layout()\n"
     ]
    },
    {
     "name": "stdout",
     "output_type": "stream",
     "text": [
      "Old data, using hopkins formats\n",
      "Old data, using hopkins formats\n",
      "Old data, using hopkins formats\n",
      "Old data, using hopkins formats\n",
      "Old data, using hopkins formats\n",
      "Processed behavior_ZS061_2021-04-30_17-06-18\n",
      "Old data, using hopkins formats\n",
      "Old data, using hopkins formats\n",
      "Old data, using hopkins formats\n"
     ]
    },
    {
     "name": "stderr",
     "output_type": "stream",
     "text": [
      "/root/capsule/code/beh_ephys_analysis/unit_beh_analysis.py:958: UserWarning: This figure includes Axes that are not compatible with tight_layout, so results might be incorrect.\n",
      "  fig.tight_layout()\n"
     ]
    },
    {
     "name": "stdout",
     "output_type": "stream",
     "text": [
      "Old data, using hopkins formats\n",
      "Old data, using hopkins formats\n",
      "Old data, using hopkins formats\n",
      "Old data, using hopkins formats\n",
      "Old data, using hopkins formats\n",
      "Old data, using hopkins formats\n",
      "Old data, using hopkins formats\n",
      "Old data, using hopkins formats\n",
      "Processed behavior_ZS061_2021-04-25_17-45-36\n",
      "Old data, using hopkins formats\n",
      "Processed behavior_ZS061_2021-03-22_17-35-53\n",
      "Old data, using hopkins formats\n",
      "Old data, using hopkins formats\n",
      "Old data, using hopkins formats\n",
      "Old data, using hopkins formats\n",
      "Old data, using hopkins formats\n",
      "Old data, using hopkins formats\n",
      "Old data, using hopkins formats\n",
      "Old data, using hopkins formats\n",
      "Old data, using hopkins formats\n",
      "Old data, using hopkins formats\n",
      "Old data, using hopkins formats\n",
      "Old data, using hopkins formats\n"
     ]
    },
    {
     "name": "stderr",
     "output_type": "stream",
     "text": [
      "/root/capsule/code/beh_ephys_analysis/unit_beh_analysis.py:958: UserWarning: This figure includes Axes that are not compatible with tight_layout, so results might be incorrect.\n",
      "  fig.tight_layout()\n",
      "/root/capsule/code/beh_ephys_analysis/unit_beh_analysis.py:958: UserWarning: This figure includes Axes that are not compatible with tight_layout, so results might be incorrect.\n",
      "  fig.tight_layout()\n"
     ]
    },
    {
     "name": "stdout",
     "output_type": "stream",
     "text": [
      "Old data, using hopkins formats\n",
      "Old data, using hopkins formats\n"
     ]
    },
    {
     "name": "stderr",
     "output_type": "stream",
     "text": [
      "/root/capsule/code/beh_ephys_analysis/unit_beh_analysis.py:958: UserWarning: This figure includes Axes that are not compatible with tight_layout, so results might be incorrect.\n",
      "  fig.tight_layout()\n",
      "/root/capsule/code/beh_ephys_analysis/unit_beh_analysis.py:958: UserWarning: This figure includes Axes that are not compatible with tight_layout, so results might be incorrect.\n",
      "  fig.tight_layout()\n"
     ]
    },
    {
     "name": "stdout",
     "output_type": "stream",
     "text": [
      "Old data, using hopkins formats\n"
     ]
    },
    {
     "name": "stderr",
     "output_type": "stream",
     "text": [
      "/root/capsule/code/beh_ephys_analysis/unit_beh_analysis.py:958: UserWarning: This figure includes Axes that are not compatible with tight_layout, so results might be incorrect.\n",
      "  fig.tight_layout()\n",
      "/root/capsule/code/beh_ephys_analysis/unit_beh_analysis.py:958: UserWarning: This figure includes Axes that are not compatible with tight_layout, so results might be incorrect.\n",
      "  fig.tight_layout()\n"
     ]
    },
    {
     "name": "stdout",
     "output_type": "stream",
     "text": [
      "Old data, using hopkins formats\n",
      "Old data, using hopkins formats\n",
      "Old data, using hopkins formats\n",
      "Old data, using hopkins formats\n",
      "Old data, using hopkins formats\n",
      "Old data, using hopkins formats\n",
      "Processed behavior_ZS061_2021-05-01_18-28-14\n",
      "Old data, using hopkins formats\n",
      "Old data, using hopkins formats\n",
      "Old data, using hopkins formats\n",
      "Old data, using hopkins formats\n",
      "Old data, using hopkins formats\n",
      "Old data, using hopkins formats\n",
      "Old data, using hopkins formats\n",
      "Old data, using hopkins formats\n",
      "Old data, using hopkins formats\n",
      "Old data, using hopkins formats\n",
      "Old data, using hopkins formats\n"
     ]
    },
    {
     "name": "stderr",
     "output_type": "stream",
     "text": [
      "/root/capsule/code/beh_ephys_analysis/unit_beh_analysis.py:958: UserWarning: This figure includes Axes that are not compatible with tight_layout, so results might be incorrect.\n",
      "  fig.tight_layout()\n"
     ]
    },
    {
     "name": "stdout",
     "output_type": "stream",
     "text": [
      "Old data, using hopkins formats\n",
      "Old data, using hopkins formats\n",
      "Old data, using hopkins formats\n",
      "Old data, using hopkins formats\n",
      "Old data, using hopkins formats\n",
      "Old data, using hopkins formats\n"
     ]
    },
    {
     "name": "stderr",
     "output_type": "stream",
     "text": [
      "/root/capsule/code/beh_ephys_analysis/unit_beh_analysis.py:958: UserWarning: This figure includes Axes that are not compatible with tight_layout, so results might be incorrect.\n",
      "  fig.tight_layout()\n"
     ]
    },
    {
     "name": "stdout",
     "output_type": "stream",
     "text": [
      "Old data, using hopkins formats\n",
      "Old data, using hopkins formats\n"
     ]
    },
    {
     "name": "stderr",
     "output_type": "stream",
     "text": [
      "/root/capsule/code/beh_ephys_analysis/unit_beh_analysis.py:958: UserWarning: This figure includes Axes that are not compatible with tight_layout, so results might be incorrect.\n",
      "  fig.tight_layout()\n",
      "/root/capsule/code/beh_ephys_analysis/unit_beh_analysis.py:958: UserWarning: This figure includes Axes that are not compatible with tight_layout, so results might be incorrect.\n",
      "  fig.tight_layout()\n",
      "/root/capsule/code/beh_ephys_analysis/unit_beh_analysis.py:958: UserWarning: This figure includes Axes that are not compatible with tight_layout, so results might be incorrect.\n",
      "  fig.tight_layout()\n"
     ]
    },
    {
     "name": "stdout",
     "output_type": "stream",
     "text": [
      "Old data, using hopkins formats\n"
     ]
    },
    {
     "name": "stderr",
     "output_type": "stream",
     "text": [
      "/root/capsule/code/beh_ephys_analysis/unit_beh_analysis.py:958: UserWarning: This figure includes Axes that are not compatible with tight_layout, so results might be incorrect.\n",
      "  fig.tight_layout()\n",
      "/root/capsule/code/beh_ephys_analysis/unit_beh_analysis.py:958: UserWarning: This figure includes Axes that are not compatible with tight_layout, so results might be incorrect.\n",
      "  fig.tight_layout()\n",
      "/root/capsule/code/beh_ephys_analysis/unit_beh_analysis.py:958: UserWarning: This figure includes Axes that are not compatible with tight_layout, so results might be incorrect.\n",
      "  fig.tight_layout()\n",
      "/root/capsule/code/beh_ephys_analysis/unit_beh_analysis.py:958: UserWarning: This figure includes Axes that are not compatible with tight_layout, so results might be incorrect.\n",
      "  fig.tight_layout()\n"
     ]
    },
    {
     "name": "stdout",
     "output_type": "stream",
     "text": [
      "Old data, using hopkins formats\n",
      "Processed behavior_ZS061_2021-03-23_16-08-12\n",
      "Old data, using hopkins formats\n",
      "Old data, using hopkins formats\n",
      "Old data, using hopkins formats\n",
      "Old data, using hopkins formats\n",
      "Old data, using hopkins formats\n",
      "Old data, using hopkins formats\n",
      "Old data, using hopkins formats\n",
      "Old data, using hopkins formats\n",
      "Old data, using hopkins formats\n"
     ]
    },
    {
     "name": "stderr",
     "output_type": "stream",
     "text": [
      "/root/capsule/code/beh_ephys_analysis/unit_beh_analysis.py:958: UserWarning: This figure includes Axes that are not compatible with tight_layout, so results might be incorrect.\n",
      "  fig.tight_layout()\n",
      "/root/capsule/code/beh_ephys_analysis/unit_beh_analysis.py:958: UserWarning: This figure includes Axes that are not compatible with tight_layout, so results might be incorrect.\n",
      "  fig.tight_layout()\n"
     ]
    },
    {
     "name": "stdout",
     "output_type": "stream",
     "text": [
      "Old data, using hopkins formats\n"
     ]
    },
    {
     "name": "stderr",
     "output_type": "stream",
     "text": [
      "/root/capsule/code/beh_ephys_analysis/unit_beh_analysis.py:958: UserWarning: This figure includes Axes that are not compatible with tight_layout, so results might be incorrect.\n",
      "  fig.tight_layout()\n"
     ]
    },
    {
     "name": "stdout",
     "output_type": "stream",
     "text": [
      "Old data, using hopkins formats\n",
      "Old data, using hopkins formats\n"
     ]
    },
    {
     "name": "stderr",
     "output_type": "stream",
     "text": [
      "/root/capsule/code/beh_ephys_analysis/unit_beh_analysis.py:958: UserWarning: This figure includes Axes that are not compatible with tight_layout, so results might be incorrect.\n",
      "  fig.tight_layout()\n",
      "/root/capsule/code/beh_ephys_analysis/unit_beh_analysis.py:958: UserWarning: This figure includes Axes that are not compatible with tight_layout, so results might be incorrect.\n",
      "  fig.tight_layout()\n",
      "/root/capsule/code/beh_ephys_analysis/unit_beh_analysis.py:958: UserWarning: This figure includes Axes that are not compatible with tight_layout, so results might be incorrect.\n",
      "  fig.tight_layout()\n"
     ]
    },
    {
     "name": "stdout",
     "output_type": "stream",
     "text": [
      "Old data, using hopkins formats\n",
      "Old data, using hopkins formats\n",
      "Old data, using hopkins formats\n",
      "Old data, using hopkins formats\n"
     ]
    },
    {
     "name": "stderr",
     "output_type": "stream",
     "text": [
      "/root/capsule/code/beh_ephys_analysis/unit_beh_analysis.py:958: UserWarning: This figure includes Axes that are not compatible with tight_layout, so results might be incorrect.\n",
      "  fig.tight_layout()\n"
     ]
    },
    {
     "name": "stdout",
     "output_type": "stream",
     "text": [
      "Old data, using hopkins formats\n"
     ]
    },
    {
     "name": "stderr",
     "output_type": "stream",
     "text": [
      "/root/capsule/code/beh_ephys_analysis/unit_beh_analysis.py:958: UserWarning: This figure includes Axes that are not compatible with tight_layout, so results might be incorrect.\n",
      "  fig.tight_layout()\n",
      "/root/capsule/code/beh_ephys_analysis/unit_beh_analysis.py:958: UserWarning: This figure includes Axes that are not compatible with tight_layout, so results might be incorrect.\n",
      "  fig.tight_layout()\n",
      "/root/capsule/code/beh_ephys_analysis/unit_beh_analysis.py:958: UserWarning: This figure includes Axes that are not compatible with tight_layout, so results might be incorrect.\n",
      "  fig.tight_layout()\n"
     ]
    },
    {
     "name": "stdout",
     "output_type": "stream",
     "text": [
      "Processed behavior_ZS061_2021-03-26_17-28-33\n",
      "Old data, using hopkins formats\n",
      "Old data, using hopkins formats\n"
     ]
    },
    {
     "name": "stderr",
     "output_type": "stream",
     "text": [
      "/root/capsule/code/beh_ephys_analysis/unit_beh_analysis.py:958: UserWarning: This figure includes Axes that are not compatible with tight_layout, so results might be incorrect.\n",
      "  fig.tight_layout()\n"
     ]
    },
    {
     "name": "stdout",
     "output_type": "stream",
     "text": [
      "Old data, using hopkins formats\n",
      "Old data, using hopkins formats\n",
      "Old data, using hopkins formats\n"
     ]
    },
    {
     "name": "stderr",
     "output_type": "stream",
     "text": [
      "/root/capsule/code/beh_ephys_analysis/unit_beh_analysis.py:958: UserWarning: This figure includes Axes that are not compatible with tight_layout, so results might be incorrect.\n",
      "  fig.tight_layout()\n",
      "/opt/conda/lib/python3.10/site-packages/joblib/externals/loky/process_executor.py:782: UserWarning: A worker stopped while some jobs were given to the executor. This can be caused by a too short worker timeout or by a memory leak.\n",
      "  warnings.warn(\n",
      "/root/capsule/code/beh_ephys_analysis/unit_beh_analysis.py:958: UserWarning: This figure includes Axes that are not compatible with tight_layout, so results might be incorrect.\n",
      "  fig.tight_layout()\n"
     ]
    },
    {
     "name": "stdout",
     "output_type": "stream",
     "text": [
      "Old data, using hopkins formats\n"
     ]
    },
    {
     "name": "stderr",
     "output_type": "stream",
     "text": [
      "/root/capsule/code/beh_ephys_analysis/unit_beh_analysis.py:958: UserWarning: This figure includes Axes that are not compatible with tight_layout, so results might be incorrect.\n",
      "  fig.tight_layout()\n",
      "/root/capsule/code/beh_ephys_analysis/unit_beh_analysis.py:958: UserWarning: This figure includes Axes that are not compatible with tight_layout, so results might be incorrect.\n",
      "  fig.tight_layout()\n"
     ]
    },
    {
     "name": "stdout",
     "output_type": "stream",
     "text": [
      "Processed behavior_ZS061_2021-03-24_17-24-09\n"
     ]
    },
    {
     "name": "stderr",
     "output_type": "stream",
     "text": [
      "/root/capsule/code/beh_ephys_analysis/unit_beh_analysis.py:958: UserWarning: This figure includes Axes that are not compatible with tight_layout, so results might be incorrect.\n",
      "  fig.tight_layout()\n"
     ]
    },
    {
     "name": "stdout",
     "output_type": "stream",
     "text": [
      "Old data, using hopkins formats\n"
     ]
    },
    {
     "name": "stderr",
     "output_type": "stream",
     "text": [
      "/root/capsule/code/beh_ephys_analysis/unit_beh_analysis.py:958: UserWarning: This figure includes Axes that are not compatible with tight_layout, so results might be incorrect.\n",
      "  fig.tight_layout()\n"
     ]
    },
    {
     "name": "stdout",
     "output_type": "stream",
     "text": [
      "Old data, using hopkins formats\n",
      "Old data, using hopkins formats\n",
      "Old data, using hopkins formats\n",
      "Old data, using hopkins formats\n",
      "Old data, using hopkins formats\n"
     ]
    },
    {
     "name": "stderr",
     "output_type": "stream",
     "text": [
      "/root/capsule/code/beh_ephys_analysis/unit_beh_analysis.py:958: UserWarning: This figure includes Axes that are not compatible with tight_layout, so results might be incorrect.\n",
      "  fig.tight_layout()\n",
      "/root/capsule/code/beh_ephys_analysis/unit_beh_analysis.py:958: UserWarning: This figure includes Axes that are not compatible with tight_layout, so results might be incorrect.\n",
      "  fig.tight_layout()\n",
      "/root/capsule/code/beh_ephys_analysis/unit_beh_analysis.py:958: UserWarning: This figure includes Axes that are not compatible with tight_layout, so results might be incorrect.\n",
      "  fig.tight_layout()\n",
      "/root/capsule/code/beh_ephys_analysis/unit_beh_analysis.py:958: UserWarning: This figure includes Axes that are not compatible with tight_layout, so results might be incorrect.\n",
      "  fig.tight_layout()\n"
     ]
    },
    {
     "name": "stdout",
     "output_type": "stream",
     "text": [
      "Old data, using hopkins formats\n",
      "Old data, using hopkins formats\n",
      "Old data, using hopkins formats\n"
     ]
    },
    {
     "name": "stderr",
     "output_type": "stream",
     "text": [
      "/root/capsule/code/beh_ephys_analysis/unit_beh_analysis.py:958: UserWarning: This figure includes Axes that are not compatible with tight_layout, so results might be incorrect.\n",
      "  fig.tight_layout()\n",
      "/root/capsule/code/beh_ephys_analysis/unit_beh_analysis.py:958: UserWarning: This figure includes Axes that are not compatible with tight_layout, so results might be incorrect.\n",
      "  fig.tight_layout()\n"
     ]
    },
    {
     "name": "stdout",
     "output_type": "stream",
     "text": [
      "Old data, using hopkins formats\n",
      "Old data, using hopkins formats\n",
      "Old data, using hopkins formats\n",
      "Old data, using hopkins formats\n"
     ]
    },
    {
     "name": "stderr",
     "output_type": "stream",
     "text": [
      "/root/capsule/code/beh_ephys_analysis/unit_beh_analysis.py:958: UserWarning: This figure includes Axes that are not compatible with tight_layout, so results might be incorrect.\n",
      "  fig.tight_layout()\n"
     ]
    },
    {
     "name": "stdout",
     "output_type": "stream",
     "text": [
      "Old data, using hopkins formats\n",
      "Old data, using hopkins formats\n",
      "Old data, using hopkins formats\n",
      "Old data, using hopkins formats\n",
      "Old data, using hopkins formats\n",
      "Old data, using hopkins formats\n",
      "Old data, using hopkins formats\n",
      "Processed behavior_ZS061_2021-03-28_16-35-51\n",
      "Old data, using hopkins formats\n"
     ]
    },
    {
     "name": "stderr",
     "output_type": "stream",
     "text": [
      "/root/capsule/code/beh_ephys_analysis/unit_beh_analysis.py:958: UserWarning: This figure includes Axes that are not compatible with tight_layout, so results might be incorrect.\n",
      "  fig.tight_layout()\n",
      "/root/capsule/code/beh_ephys_analysis/unit_beh_analysis.py:958: UserWarning: This figure includes Axes that are not compatible with tight_layout, so results might be incorrect.\n",
      "  fig.tight_layout()\n"
     ]
    },
    {
     "name": "stdout",
     "output_type": "stream",
     "text": [
      "Old data, using hopkins formats\n",
      "Old data, using hopkins formats\n",
      "Old data, using hopkins formats\n",
      "Old data, using hopkins formats\n",
      "Old data, using hopkins formats\n",
      "Old data, using hopkins formats\n"
     ]
    },
    {
     "name": "stderr",
     "output_type": "stream",
     "text": [
      "/root/capsule/code/beh_ephys_analysis/unit_beh_analysis.py:958: UserWarning: This figure includes Axes that are not compatible with tight_layout, so results might be incorrect.\n",
      "  fig.tight_layout()\n",
      "/root/capsule/code/beh_ephys_analysis/unit_beh_analysis.py:958: UserWarning: This figure includes Axes that are not compatible with tight_layout, so results might be incorrect.\n",
      "  fig.tight_layout()\n",
      "/root/capsule/code/beh_ephys_analysis/unit_beh_analysis.py:958: UserWarning: This figure includes Axes that are not compatible with tight_layout, so results might be incorrect.\n",
      "  fig.tight_layout()\n"
     ]
    },
    {
     "name": "stdout",
     "output_type": "stream",
     "text": [
      "Old data, using hopkins formats\n",
      "Old data, using hopkins formats\n",
      "Old data, using hopkins formats\n",
      "Old data, using hopkins formats\n",
      "Old data, using hopkins formats\n",
      "Old data, using hopkins formats\n"
     ]
    },
    {
     "name": "stderr",
     "output_type": "stream",
     "text": [
      "/root/capsule/code/beh_ephys_analysis/unit_beh_analysis.py:958: UserWarning: This figure includes Axes that are not compatible with tight_layout, so results might be incorrect.\n",
      "  fig.tight_layout()\n"
     ]
    },
    {
     "name": "stdout",
     "output_type": "stream",
     "text": [
      "Old data, using hopkins formats\n"
     ]
    },
    {
     "name": "stderr",
     "output_type": "stream",
     "text": [
      "/root/capsule/code/beh_ephys_analysis/unit_beh_analysis.py:958: UserWarning: This figure includes Axes that are not compatible with tight_layout, so results might be incorrect.\n",
      "  fig.tight_layout()\n",
      "/root/capsule/code/beh_ephys_analysis/unit_beh_analysis.py:958: UserWarning: This figure includes Axes that are not compatible with tight_layout, so results might be incorrect.\n",
      "  fig.tight_layout()\n"
     ]
    },
    {
     "name": "stdout",
     "output_type": "stream",
     "text": [
      "Old data, using hopkins formats\n",
      "Old data, using hopkins formats\n",
      "Processed behavior_ZS061_2021-04-07_16-47-22\n",
      "Old data, using hopkins formats\n",
      "Old data, using hopkins formats\n",
      "Old data, using hopkins formats\n",
      "Old data, using hopkins formats\n"
     ]
    },
    {
     "name": "stderr",
     "output_type": "stream",
     "text": [
      "/root/capsule/code/beh_ephys_analysis/unit_beh_analysis.py:958: UserWarning: This figure includes Axes that are not compatible with tight_layout, so results might be incorrect.\n",
      "  fig.tight_layout()\n",
      "/root/capsule/code/beh_ephys_analysis/unit_beh_analysis.py:958: UserWarning: This figure includes Axes that are not compatible with tight_layout, so results might be incorrect.\n",
      "  fig.tight_layout()\n"
     ]
    },
    {
     "name": "stdout",
     "output_type": "stream",
     "text": [
      "Old data, using hopkins formats\n",
      "Old data, using hopkins formats\n",
      "Old data, using hopkins formats\n",
      "Old data, using hopkins formats\n",
      "Old data, using hopkins formats\n"
     ]
    },
    {
     "name": "stderr",
     "output_type": "stream",
     "text": [
      "/root/capsule/code/beh_ephys_analysis/unit_beh_analysis.py:958: UserWarning: This figure includes Axes that are not compatible with tight_layout, so results might be incorrect.\n",
      "  fig.tight_layout()\n"
     ]
    },
    {
     "name": "stdout",
     "output_type": "stream",
     "text": [
      "Processed behavior_ZS061_2021-04-08_18-01-30\n",
      "Old data, using hopkins formats\n",
      "Old data, using hopkins formats\n",
      "Processed behavior_ZS061_2021-04-09_18-19-29\n",
      "Old data, using hopkins formats\n",
      "Old data, using hopkins formats\n",
      "Old data, using hopkins formats\n",
      "Old data, using hopkins formats\n",
      "Old data, using hopkins formats\n",
      "Old data, using hopkins formats\n"
     ]
    },
    {
     "name": "stderr",
     "output_type": "stream",
     "text": [
      "/root/capsule/code/beh_ephys_analysis/unit_beh_analysis.py:958: UserWarning: This figure includes Axes that are not compatible with tight_layout, so results might be incorrect.\n",
      "  fig.tight_layout()\n"
     ]
    },
    {
     "name": "stdout",
     "output_type": "stream",
     "text": [
      "Processed behavior_ZS061_2021-04-11_17-44-56\n",
      "Old data, using hopkins formats\n",
      "Old data, using hopkins formats\n",
      "No unit table found for behavior_ZS061_2021-04-13_18-14-05 in curated data.\n",
      "Old data, using hopkins formats\n",
      "Old data, using hopkins formats\n",
      "Old data, using hopkins formats\n",
      "Old data, using hopkins formats\n",
      "Old data, using hopkins formats\n",
      "Processed behavior_ZS061_2021-03-29_17-48-18\n",
      "Old data, using hopkins formats\n",
      "Old data, using hopkins formats\n",
      "Old data, using hopkins formats\n",
      "Old data, using hopkins formats\n",
      "Old data, using hopkins formats\n",
      "Old data, using hopkins formats\n",
      "Old data, using hopkins formats\n",
      "Old data, using hopkins formats\n",
      "Old data, using hopkins formats\n",
      "Old data, using hopkins formats\n",
      "Old data, using hopkins formats\n",
      "Old data, using hopkins formats\n",
      "Old data, using hopkins formats\n"
     ]
    },
    {
     "name": "stderr",
     "output_type": "stream",
     "text": [
      "/root/capsule/code/beh_ephys_analysis/unit_beh_analysis.py:958: UserWarning: This figure includes Axes that are not compatible with tight_layout, so results might be incorrect.\n",
      "  fig.tight_layout()\n"
     ]
    },
    {
     "name": "stdout",
     "output_type": "stream",
     "text": [
      "Old data, using hopkins formats\n",
      "Old data, using hopkins formats\n",
      "Old data, using hopkins formats\n",
      "Old data, using hopkins formats\n",
      "Old data, using hopkins formats\n",
      "Old data, using hopkins formats\n",
      "Old data, using hopkins formats\n",
      "Old data, using hopkins formats\n",
      "Old data, using hopkins formats\n"
     ]
    },
    {
     "name": "stderr",
     "output_type": "stream",
     "text": [
      "/root/capsule/code/beh_ephys_analysis/unit_beh_analysis.py:958: UserWarning: This figure includes Axes that are not compatible with tight_layout, so results might be incorrect.\n",
      "  fig.tight_layout()\n",
      "/root/capsule/code/beh_ephys_analysis/unit_beh_analysis.py:958: UserWarning: This figure includes Axes that are not compatible with tight_layout, so results might be incorrect.\n",
      "  fig.tight_layout()\n",
      "/root/capsule/code/beh_ephys_analysis/unit_beh_analysis.py:958: UserWarning: This figure includes Axes that are not compatible with tight_layout, so results might be incorrect.\n",
      "  fig.tight_layout()\n"
     ]
    },
    {
     "name": "stdout",
     "output_type": "stream",
     "text": [
      "Old data, using hopkins formats\n",
      "Old data, using hopkins formats\n",
      "Old data, using hopkins formats\n",
      "Old data, using hopkins formats\n",
      "Old data, using hopkins formats\n"
     ]
    },
    {
     "name": "stderr",
     "output_type": "stream",
     "text": [
      "/root/capsule/code/beh_ephys_analysis/unit_beh_analysis.py:958: UserWarning: This figure includes Axes that are not compatible with tight_layout, so results might be incorrect.\n",
      "  fig.tight_layout()\n"
     ]
    },
    {
     "name": "stdout",
     "output_type": "stream",
     "text": [
      "Old data, using hopkins formats\n",
      "Old data, using hopkins formats\n",
      "Old data, using hopkins formats\n",
      "Old data, using hopkins formats\n"
     ]
    },
    {
     "name": "stderr",
     "output_type": "stream",
     "text": [
      "/root/capsule/code/beh_ephys_analysis/unit_beh_analysis.py:958: UserWarning: This figure includes Axes that are not compatible with tight_layout, so results might be incorrect.\n",
      "  fig.tight_layout()\n"
     ]
    },
    {
     "name": "stdout",
     "output_type": "stream",
     "text": [
      "Old data, using hopkins formats\n",
      "Old data, using hopkins formats\n",
      "Processed behavior_ZS061_2021-04-18_18-32-58\n",
      "Old data, using hopkins formats\n",
      "Processed behavior_ZS061_2021-04-04_17-43-18\n",
      "Old data, using hopkins formats\n",
      "Old data, using hopkins formats\n",
      "Old data, using hopkins formats\n",
      "Old data, using hopkins formats\n",
      "Old data, using hopkins formats\n",
      "Old data, using hopkins formats\n"
     ]
    },
    {
     "name": "stderr",
     "output_type": "stream",
     "text": [
      "/root/capsule/code/beh_ephys_analysis/unit_beh_analysis.py:958: UserWarning: This figure includes Axes that are not compatible with tight_layout, so results might be incorrect.\n",
      "  fig.tight_layout()\n"
     ]
    },
    {
     "name": "stdout",
     "output_type": "stream",
     "text": [
      "Old data, using hopkins formats\n",
      "Old data, using hopkins formats\n",
      "Old data, using hopkins formats\n",
      "Old data, using hopkins formats\n",
      "Old data, using hopkins formats\n",
      "Old data, using hopkins formats\n"
     ]
    },
    {
     "name": "stderr",
     "output_type": "stream",
     "text": [
      "/root/capsule/code/beh_ephys_analysis/unit_beh_analysis.py:958: UserWarning: This figure includes Axes that are not compatible with tight_layout, so results might be incorrect.\n",
      "  fig.tight_layout()\n",
      "/root/capsule/code/beh_ephys_analysis/unit_beh_analysis.py:958: UserWarning: This figure includes Axes that are not compatible with tight_layout, so results might be incorrect.\n",
      "  fig.tight_layout()\n"
     ]
    },
    {
     "name": "stdout",
     "output_type": "stream",
     "text": [
      "Old data, using hopkins formats\n",
      "Old data, using hopkins formats\n",
      "Old data, using hopkins formats\n",
      "Old data, using hopkins formats\n",
      "Old data, using hopkins formats\n",
      "Processed behavior_ZS061_2021-03-30_16-57-26\n",
      "Old data, using hopkins formats\n"
     ]
    },
    {
     "name": "stderr",
     "output_type": "stream",
     "text": [
      "/root/capsule/code/beh_ephys_analysis/unit_beh_analysis.py:958: UserWarning: This figure includes Axes that are not compatible with tight_layout, so results might be incorrect.\n",
      "  fig.tight_layout()\n",
      "/root/capsule/code/beh_ephys_analysis/unit_beh_analysis.py:958: UserWarning: This figure includes Axes that are not compatible with tight_layout, so results might be incorrect.\n",
      "  fig.tight_layout()\n"
     ]
    },
    {
     "name": "stdout",
     "output_type": "stream",
     "text": [
      "Old data, using hopkins formats\n",
      "Old data, using hopkins formats\n",
      "Old data, using hopkins formats\n",
      "Old data, using hopkins formats\n",
      "Old data, using hopkins formats\n",
      "Old data, using hopkins formatsOld data, using hopkins formats\n",
      "\n",
      "Old data, using hopkins formats\n",
      "Old data, using hopkins formats\n",
      "Old data, using hopkins formats\n"
     ]
    },
    {
     "name": "stderr",
     "output_type": "stream",
     "text": [
      "/root/capsule/code/beh_ephys_analysis/unit_beh_analysis.py:958: UserWarning: This figure includes Axes that are not compatible with tight_layout, so results might be incorrect.\n",
      "  fig.tight_layout()\n"
     ]
    },
    {
     "name": "stdout",
     "output_type": "stream",
     "text": [
      "Old data, using hopkins formats\n",
      "Old data, using hopkins formats\n",
      "Old data, using hopkins formats\n"
     ]
    },
    {
     "name": "stderr",
     "output_type": "stream",
     "text": [
      "/root/capsule/code/beh_ephys_analysis/unit_beh_analysis.py:958: UserWarning: This figure includes Axes that are not compatible with tight_layout, so results might be incorrect.\n",
      "  fig.tight_layout()\n",
      "/root/capsule/code/beh_ephys_analysis/unit_beh_analysis.py:958: UserWarning: This figure includes Axes that are not compatible with tight_layout, so results might be incorrect.\n",
      "  fig.tight_layout()\n",
      "/root/capsule/code/beh_ephys_analysis/unit_beh_analysis.py:958: UserWarning: This figure includes Axes that are not compatible with tight_layout, so results might be incorrect.\n",
      "  fig.tight_layout()\n"
     ]
    },
    {
     "name": "stdout",
     "output_type": "stream",
     "text": [
      "Old data, using hopkins formats\n",
      "Old data, using hopkins formats\n",
      "Processed behavior_ZS061_2021-03-27_18-20-45\n",
      "Old data, using hopkins formats\n",
      "Old data, using hopkins formats\n",
      "Old data, using hopkins formats\n",
      "Old data, using hopkins formats\n",
      "Old data, using hopkins formats\n",
      "Old data, using hopkins formats\n"
     ]
    },
    {
     "name": "stderr",
     "output_type": "stream",
     "text": [
      "/root/capsule/code/beh_ephys_analysis/unit_beh_analysis.py:958: UserWarning: This figure includes Axes that are not compatible with tight_layout, so results might be incorrect.\n",
      "  fig.tight_layout()\n",
      "/root/capsule/code/beh_ephys_analysis/unit_beh_analysis.py:958: UserWarning: This figure includes Axes that are not compatible with tight_layout, so results might be incorrect.\n",
      "  fig.tight_layout()\n"
     ]
    },
    {
     "name": "stdout",
     "output_type": "stream",
     "text": [
      "Processed behavior_ZS061_2021-04-10_18-01-14\n",
      "Old data, using hopkins formats\n",
      "Old data, using hopkins formats\n"
     ]
    },
    {
     "name": "stderr",
     "output_type": "stream",
     "text": [
      "/root/capsule/code/beh_ephys_analysis/unit_beh_analysis.py:958: UserWarning: This figure includes Axes that are not compatible with tight_layout, so results might be incorrect.\n",
      "  fig.tight_layout()\n"
     ]
    },
    {
     "name": "stdout",
     "output_type": "stream",
     "text": [
      "Old data, using hopkins formats\n",
      "Old data, using hopkins formats\n",
      "Old data, using hopkins formats\n",
      "Old data, using hopkins formats\n",
      "Old data, using hopkins formats\n",
      "Old data, using hopkins formats\n",
      "Old data, using hopkins formats\n"
     ]
    },
    {
     "name": "stderr",
     "output_type": "stream",
     "text": [
      "/root/capsule/code/beh_ephys_analysis/unit_beh_analysis.py:958: UserWarning: This figure includes Axes that are not compatible with tight_layout, so results might be incorrect.\n",
      "  fig.tight_layout()\n",
      "/root/capsule/code/beh_ephys_analysis/unit_beh_analysis.py:958: UserWarning: This figure includes Axes that are not compatible with tight_layout, so results might be incorrect.\n",
      "  fig.tight_layout()\n"
     ]
    },
    {
     "name": "stdout",
     "output_type": "stream",
     "text": [
      "Old data, using hopkins formats\n",
      "Old data, using hopkins formats\n",
      "Old data, using hopkins formats\n"
     ]
    },
    {
     "name": "stderr",
     "output_type": "stream",
     "text": [
      "/root/capsule/code/beh_ephys_analysis/unit_beh_analysis.py:958: UserWarning: This figure includes Axes that are not compatible with tight_layout, so results might be incorrect.\n",
      "  fig.tight_layout()\n"
     ]
    },
    {
     "name": "stdout",
     "output_type": "stream",
     "text": [
      "Old data, using hopkins formats\n",
      "Old data, using hopkins formats\n",
      "Processed behavior_ZS061_2021-04-15_16-45-44\n",
      "Old data, using hopkins formats\n",
      "Processed behavior_ZS061_2021-04-05_18-01-32\n",
      "Old data, using hopkins formats\n",
      "Old data, using hopkins formats\n",
      "Old data, using hopkins formats\n",
      "Old data, using hopkins formats\n",
      "Old data, using hopkins formats\n",
      "Old data, using hopkins formats\n",
      "Old data, using hopkins formats\n",
      "Old data, using hopkins formats\n",
      "Old data, using hopkins formats\n",
      "Old data, using hopkins formats\n",
      "Old data, using hopkins formats\n",
      "Old data, using hopkins formats\n",
      "Processed behavior_ZS061_2021-04-14_16-04-22\n",
      "Old data, using hopkins formats\n",
      "No raw session directory found for behavior_ZS062_2021-04-07_17-58-07.\n",
      "Old data, using hopkins formats\n",
      "No raw session directory found for behavior_ZS062_2021-04-07_17-58-07.\n",
      "Old data, using hopkins formats\n",
      "No raw session directory found for behavior_ZS062_2021-04-07_17-58-07.\n",
      "Old data, using hopkins formats\n",
      "No raw session directory found for behavior_ZS062_2021-04-07_17-58-07.\n",
      "Old data, using hopkins formats\n",
      "No raw session directory found for behavior_ZS062_2021-04-07_17-58-07.\n"
     ]
    },
    {
     "name": "stderr",
     "output_type": "stream",
     "text": [
      "/root/capsule/code/beh_ephys_analysis/unit_beh_analysis.py:958: UserWarning: This figure includes Axes that are not compatible with tight_layout, so results might be incorrect.\n",
      "  fig.tight_layout()\n",
      "/root/capsule/code/beh_ephys_analysis/unit_beh_analysis.py:958: UserWarning: This figure includes Axes that are not compatible with tight_layout, so results might be incorrect.\n",
      "  fig.tight_layout()\n"
     ]
    },
    {
     "name": "stdout",
     "output_type": "stream",
     "text": [
      "Old data, using hopkins formats\n",
      "Old data, using hopkins formats\n",
      "Processed behavior_ZS061_2021-04-06_16-13-38\n",
      "Old data, using hopkins formats\n",
      "Old data, using hopkins formats\n",
      "Old data, using hopkins formats\n"
     ]
    },
    {
     "name": "stderr",
     "output_type": "stream",
     "text": [
      "/root/capsule/code/beh_ephys_analysis/unit_beh_analysis.py:958: UserWarning: This figure includes Axes that are not compatible with tight_layout, so results might be incorrect.\n",
      "  fig.tight_layout()\n"
     ]
    },
    {
     "name": "stdout",
     "output_type": "stream",
     "text": [
      "Old data, using hopkins formats\n",
      "Old data, using hopkins formats\n",
      "Old data, using hopkins formats\n",
      "Old data, using hopkins formats\n"
     ]
    },
    {
     "name": "stderr",
     "output_type": "stream",
     "text": [
      "/root/capsule/code/beh_ephys_analysis/unit_beh_analysis.py:958: UserWarning: This figure includes Axes that are not compatible with tight_layout, so results might be incorrect.\n",
      "  fig.tight_layout()\n"
     ]
    },
    {
     "name": "stdout",
     "output_type": "stream",
     "text": [
      "Old data, using hopkins formats\n",
      "No raw session directory found for behavior_ZS062_2021-04-07_17-58-07.\n",
      "Old data, using hopkins formats\n",
      "No raw session directory found for behavior_ZS062_2021-04-07_17-58-07.\n",
      "Old data, using hopkins formats\n",
      "Old data, using hopkins formats\n",
      "Old data, using hopkins formats\n",
      "Old data, using hopkins formats\n",
      "Processed behavior_ZS061_2021-03-31_17-15-48\n",
      "Old data, using hopkins formats\n",
      "Processed behavior_ZS061_2021-03-25_17-12-27\n"
     ]
    },
    {
     "name": "stderr",
     "output_type": "stream",
     "text": [
      "/root/capsule/code/beh_ephys_analysis/unit_beh_analysis.py:958: UserWarning: This figure includes Axes that are not compatible with tight_layout, so results might be incorrect.\n",
      "  fig.tight_layout()\n",
      "/root/capsule/code/beh_ephys_analysis/unit_beh_analysis.py:958: UserWarning: This figure includes Axes that are not compatible with tight_layout, so results might be incorrect.\n",
      "  fig.tight_layout()\n",
      "/root/capsule/code/beh_ephys_analysis/unit_beh_analysis.py:958: UserWarning: This figure includes Axes that are not compatible with tight_layout, so results might be incorrect.\n",
      "  fig.tight_layout()\n"
     ]
    },
    {
     "name": "stdout",
     "output_type": "stream",
     "text": [
      "Old data, using hopkins formats\n",
      "Old data, using hopkins formats\n",
      "Old data, using hopkins formats\n",
      "Old data, using hopkins formats\n",
      "No raw session directory found for behavior_ZS062_2021-04-07_17-58-07.\n",
      "Old data, using hopkins formats\n",
      "Old data, using hopkins formats\n",
      "No raw session directory found for behavior_ZS062_2021-04-07_17-58-07.\n"
     ]
    },
    {
     "name": "stderr",
     "output_type": "stream",
     "text": [
      "/root/capsule/code/beh_ephys_analysis/unit_beh_analysis.py:958: UserWarning: This figure includes Axes that are not compatible with tight_layout, so results might be incorrect.\n",
      "  fig.tight_layout()\n"
     ]
    },
    {
     "name": "stdout",
     "output_type": "stream",
     "text": [
      "Old data, using hopkins formats\n",
      "Old data, using hopkins formats\n",
      "Processed behavior_ZS061_2021-04-16_17-08-59\n",
      "Old data, using hopkins formats\n",
      "Processed behavior_ZS061_2021-04-12_17-26-54\n",
      "Old data, using hopkins formats\n",
      "Old data, using hopkins formats\n",
      "Old data, using hopkins formats\n",
      "Old data, using hopkins formats\n",
      "Old data, using hopkins formats\n",
      "Old data, using hopkins formats\n",
      "Old data, using hopkins formats\n",
      "Old data, using hopkins formats\n",
      "Old data, using hopkins formats\n",
      "Old data, using hopkins formats\n",
      "Old data, using hopkins formats\n",
      "Processed behavior_ZS062_2021-05-11_20-10-59\n",
      "Old data, using hopkins formats\n",
      "Old data, using hopkins formats\n",
      "Old data, using hopkins formats\n",
      "Processed behavior_ZS061_2021-04-02_17-53-41\n",
      "Old data, using hopkins formats\n",
      "Old data, using hopkins formats\n",
      "Old data, using hopkins formats\n",
      "Old data, using hopkins formats\n",
      "Old data, using hopkins formats\n",
      "Old data, using hopkins formats\n",
      "Old data, using hopkins formats\n",
      "Processed behavior_ZS061_2021-04-01_16-38-03\n",
      "Old data, using hopkins formats\n",
      "Old data, using hopkins formats\n",
      "Old data, using hopkins formats\n",
      "Old data, using hopkins formats\n",
      "Old data, using hopkins formats\n",
      "Old data, using hopkins formats\n"
     ]
    },
    {
     "name": "stderr",
     "output_type": "stream",
     "text": [
      "/root/capsule/code/beh_ephys_analysis/unit_beh_analysis.py:958: UserWarning: This figure includes Axes that are not compatible with tight_layout, so results might be incorrect.\n",
      "  fig.tight_layout()\n"
     ]
    },
    {
     "name": "stdout",
     "output_type": "stream",
     "text": [
      "Old data, using hopkins formats\n",
      "Old data, using hopkins formats\n",
      "Old data, using hopkins formats\n",
      "Processed behavior_ZS062_2021-05-09_17-15-10\n",
      "Old data, using hopkins formats\n",
      "Old data, using hopkins formats\n",
      "Old data, using hopkins formats\n",
      "Old data, using hopkins formats\n",
      "Old data, using hopkins formats\n",
      "Old data, using hopkins formats\n",
      "Old data, using hopkins formats\n",
      "Old data, using hopkins formats\n",
      "Old data, using hopkins formats\n",
      "Old data, using hopkins formats\n",
      "Old data, using hopkins formats\n",
      "Old data, using hopkins formats\n",
      "Old data, using hopkins formats\n",
      "Old data, using hopkins formats\n",
      "Old data, using hopkins formats\n",
      "Old data, using hopkins formats\n",
      "Old data, using hopkins formats\n"
     ]
    },
    {
     "name": "stderr",
     "output_type": "stream",
     "text": [
      "/root/capsule/code/beh_ephys_analysis/unit_beh_analysis.py:958: UserWarning: This figure includes Axes that are not compatible with tight_layout, so results might be incorrect.\n",
      "  fig.tight_layout()\n"
     ]
    },
    {
     "name": "stdout",
     "output_type": "stream",
     "text": [
      "Old data, using hopkins formats\n",
      "Old data, using hopkins formats\n",
      "Old data, using hopkins formats\n",
      "Old data, using hopkins formats\n",
      "Old data, using hopkins formats\n",
      "Old data, using hopkins formats\n",
      "Old data, using hopkins formats\n",
      "Old data, using hopkins formats\n",
      "Old data, using hopkins formats\n",
      "Old data, using hopkins formats\n",
      "Old data, using hopkins formats\n",
      "Old data, using hopkins formats\n",
      "Old data, using hopkins formats\n",
      "Processed behavior_ZS061_2021-04-17_16-50-25\n",
      "Old data, using hopkins formats\n",
      "Old data, using hopkins formats\n",
      "Old data, using hopkins formats\n",
      "Old data, using hopkins formats\n",
      "Old data, using hopkins formats\n"
     ]
    },
    {
     "name": "stderr",
     "output_type": "stream",
     "text": [
      "/root/capsule/code/beh_ephys_analysis/unit_beh_analysis.py:958: UserWarning: This figure includes Axes that are not compatible with tight_layout, so results might be incorrect.\n",
      "  fig.tight_layout()\n"
     ]
    },
    {
     "name": "stdout",
     "output_type": "stream",
     "text": [
      "Old data, using hopkins formats\n",
      "Old data, using hopkins formats\n",
      "Old data, using hopkins formats\n",
      "Old data, using hopkins formats\n",
      "Old data, using hopkins formats\n",
      "Old data, using hopkins formats\n",
      "Old data, using hopkins formats\n",
      "Old data, using hopkins formats\n",
      "Old data, using hopkins formats\n",
      "Old data, using hopkins formats\n"
     ]
    },
    {
     "name": "stderr",
     "output_type": "stream",
     "text": [
      "/root/capsule/code/beh_ephys_analysis/unit_beh_analysis.py:958: UserWarning: This figure includes Axes that are not compatible with tight_layout, so results might be incorrect.\n",
      "  fig.tight_layout()\n"
     ]
    },
    {
     "name": "stdout",
     "output_type": "stream",
     "text": [
      "Old data, using hopkins formats\n",
      "Old data, using hopkins formats\n"
     ]
    },
    {
     "name": "stderr",
     "output_type": "stream",
     "text": [
      "/root/capsule/code/beh_ephys_analysis/unit_beh_analysis.py:958: UserWarning: This figure includes Axes that are not compatible with tight_layout, so results might be incorrect.\n",
      "  fig.tight_layout()\n",
      "/root/capsule/code/beh_ephys_analysis/unit_beh_analysis.py:958: UserWarning: This figure includes Axes that are not compatible with tight_layout, so results might be incorrect.\n",
      "  fig.tight_layout()\n",
      "/root/capsule/code/beh_ephys_analysis/unit_beh_analysis.py:958: UserWarning: This figure includes Axes that are not compatible with tight_layout, so results might be incorrect.\n",
      "  fig.tight_layout()\n"
     ]
    },
    {
     "name": "stdout",
     "output_type": "stream",
     "text": [
      "Old data, using hopkins formats\n",
      "Old data, using hopkins formats\n",
      "Processed behavior_ZS062_2021-04-15_17-52-49\n",
      "Old data, using hopkins formats\n",
      "Processed behavior_ZS062_2021-05-07_17-38-21\n"
     ]
    },
    {
     "name": "stderr",
     "output_type": "stream",
     "text": [
      "/root/capsule/code/beh_ephys_analysis/unit_beh_analysis.py:958: UserWarning: This figure includes Axes that are not compatible with tight_layout, so results might be incorrect.\n",
      "  fig.tight_layout()\n"
     ]
    },
    {
     "name": "stdout",
     "output_type": "stream",
     "text": [
      "Old data, using hopkins formats\n",
      "Old data, using hopkins formats\n",
      "Old data, using hopkins formats\n",
      "Old data, using hopkins formats\n",
      "Old data, using hopkins formats\n"
     ]
    },
    {
     "name": "stderr",
     "output_type": "stream",
     "text": [
      "/root/capsule/code/beh_ephys_analysis/unit_beh_analysis.py:958: UserWarning: This figure includes Axes that are not compatible with tight_layout, so results might be incorrect.\n",
      "  fig.tight_layout()\n"
     ]
    },
    {
     "name": "stdout",
     "output_type": "stream",
     "text": [
      "Old data, using hopkins formats\n",
      "No raw session directory found for behavior_ZS062_2021-04-07_17-58-07.\n"
     ]
    },
    {
     "name": "stderr",
     "output_type": "stream",
     "text": [
      "/root/capsule/code/beh_ephys_analysis/unit_beh_analysis.py:958: UserWarning: This figure includes Axes that are not compatible with tight_layout, so results might be incorrect.\n",
      "  fig.tight_layout()\n",
      "/root/capsule/code/beh_ephys_analysis/unit_beh_analysis.py:958: UserWarning: This figure includes Axes that are not compatible with tight_layout, so results might be incorrect.\n",
      "  fig.tight_layout()\n"
     ]
    },
    {
     "name": "stdout",
     "output_type": "stream",
     "text": [
      "Old data, using hopkins formats\n",
      "Old data, using hopkins formats\n",
      "Old data, using hopkins formats\n",
      "Old data, using hopkins formats\n"
     ]
    },
    {
     "name": "stderr",
     "output_type": "stream",
     "text": [
      "/root/capsule/code/beh_ephys_analysis/unit_beh_analysis.py:958: UserWarning: This figure includes Axes that are not compatible with tight_layout, so results might be incorrect.\n",
      "  fig.tight_layout()\n",
      "/root/capsule/code/beh_ephys_analysis/unit_beh_analysis.py:958: UserWarning: This figure includes Axes that are not compatible with tight_layout, so results might be incorrect.\n",
      "  fig.tight_layout()\n",
      "/root/capsule/code/beh_ephys_analysis/unit_beh_analysis.py:958: UserWarning: This figure includes Axes that are not compatible with tight_layout, so results might be incorrect.\n",
      "  fig.tight_layout()\n"
     ]
    },
    {
     "name": "stdout",
     "output_type": "stream",
     "text": [
      "Old data, using hopkins formats\n",
      "Old data, using hopkins formats\n"
     ]
    },
    {
     "name": "stderr",
     "output_type": "stream",
     "text": [
      "/root/capsule/code/beh_ephys_analysis/unit_beh_analysis.py:958: UserWarning: This figure includes Axes that are not compatible with tight_layout, so results might be incorrect.\n",
      "  fig.tight_layout()\n"
     ]
    },
    {
     "name": "stdout",
     "output_type": "stream",
     "text": [
      "Processed behavior_ZS062_2021-05-08_18-43-47\n",
      "Old data, using hopkins formats\n",
      "Processed behavior_ZS062_2021-04-24_17-54-39\n",
      "Old data, using hopkins formats\n",
      "No raw session directory found for behavior_ZS062_2021-03-28_17-40-42.\n",
      "Old data, using hopkins formats\n",
      "No raw session directory found for behavior_ZS062_2021-03-28_17-40-42.\n",
      "Old data, using hopkins formats\n",
      "No raw session directory found for behavior_ZS062_2021-03-28_17-40-42.\n",
      "Old data, using hopkins formats\n",
      "No raw session directory found for behavior_ZS062_2021-03-28_17-40-42.\n",
      "Old data, using hopkins formats\n",
      "No raw session directory found for behavior_ZS062_2021-03-28_17-40-42.\n",
      "Old data, using hopkins formats\n",
      "No unit table found for behavior_ZS062_2021-03-29_18-50-00 in curated data.\n",
      "Old data, using hopkins formats\n",
      "Processed behavior_ZS062_2021-04-25_18-53-35\n",
      "Old data, using hopkins formats\n",
      "Old data, using hopkins formats\n"
     ]
    },
    {
     "name": "stderr",
     "output_type": "stream",
     "text": [
      "/root/capsule/code/beh_ephys_analysis/unit_beh_analysis.py:958: UserWarning: This figure includes Axes that are not compatible with tight_layout, so results might be incorrect.\n",
      "  fig.tight_layout()\n"
     ]
    },
    {
     "name": "stdout",
     "output_type": "stream",
     "text": [
      "No raw session directory found for behavior_ZS062_2021-03-26_18-45-54.\n",
      "Old data, using hopkins formats\n",
      "No raw session directory found for behavior_ZS062_2021-03-25_18-44-20.\n",
      "No raw session directory found for behavior_ZS062_2021-03-26_18-45-54.\n",
      "Old data, using hopkins formats\n",
      "No raw session directory found for behavior_ZS062_2021-03-26_18-45-54.\n",
      "Old data, using hopkins formats\n",
      "Old data, using hopkins formats\n",
      "No raw session directory found for behavior_ZS062_2021-03-26_18-45-54.\n",
      "Old data, using hopkins formats\n",
      "Processed behavior_ZS062_2021-04-23_17-27-03\n",
      "Old data, using hopkins formats\n",
      "No raw session directory found for behavior_ZS062_2021-03-25_18-44-20.\n",
      "Old data, using hopkins formats\n",
      "No raw session directory found for behavior_ZS062_2021-03-26_18-45-54.\n",
      "No raw session directory found for behavior_ZS062_2021-03-25_18-44-20.\n",
      "Old data, using hopkins formats\n",
      "No raw session directory found for behavior_ZS062_2021-03-25_18-44-20.\n",
      "Old data, using hopkins formats\n",
      "No raw session directory found for behavior_ZS062_2021-03-25_18-44-20.\n",
      "No raw session directory found for behavior_ZS062_2021-03-30_18-30-24.\n",
      "Old data, using hopkins formats\n",
      "No raw session directory found for behavior_ZS062_2021-03-30_18-30-24.\n"
     ]
    },
    {
     "name": "stderr",
     "output_type": "stream",
     "text": [
      "/root/capsule/code/beh_ephys_analysis/unit_beh_analysis.py:958: UserWarning: This figure includes Axes that are not compatible with tight_layout, so results might be incorrect.\n",
      "  fig.tight_layout()\n",
      "/root/capsule/code/beh_ephys_analysis/unit_beh_analysis.py:958: UserWarning: This figure includes Axes that are not compatible with tight_layout, so results might be incorrect.\n",
      "  fig.tight_layout()\n"
     ]
    },
    {
     "name": "stdout",
     "output_type": "stream",
     "text": [
      "No unit table found for behavior_ZS062_2021-03-30_18-30-24 in curated data.\n",
      "Old data, using hopkins formats\n",
      "No raw session directory found for behavior_ZS062_2021-04-06_18-46-42.\n",
      "Old data, using hopkins formats\n"
     ]
    },
    {
     "name": "stderr",
     "output_type": "stream",
     "text": [
      "/root/capsule/code/beh_ephys_analysis/unit_beh_analysis.py:958: UserWarning: This figure includes Axes that are not compatible with tight_layout, so results might be incorrect.\n",
      "  fig.tight_layout()\n"
     ]
    },
    {
     "name": "stdout",
     "output_type": "stream",
     "text": [
      "Old data, using hopkins formats\n",
      "No raw session directory found for behavior_ZS062_2021-04-06_18-46-42.\n",
      "Old data, using hopkins formats\n",
      "Old data, using hopkins formats\n",
      "No raw session directory found for behavior_ZS062_2021-04-06_18-46-42.\n",
      "Old data, using hopkins formats\n",
      "No raw session directory found for behavior_ZS062_2021-03-28_17-40-42.\n",
      "Old data, using hopkins formats\n",
      "No raw session directory found for behavior_ZS062_2021-04-06_18-46-42.\n",
      "Old data, using hopkins formats\n",
      "No raw session directory found for behavior_ZS062_2021-04-06_18-46-42.\n",
      "No raw session directory found for behavior_ZS062_2021-03-28_17-40-42.\n",
      "Old data, using hopkins formats\n",
      "No raw session directory found for behavior_ZS062_2021-03-25_18-44-20.\n",
      "Old data, using hopkins formats\n",
      "No raw session directory found for behavior_ZS062_2021-03-25_18-44-20.\n",
      "Old data, using hopkins formats\n",
      "Processed behavior_ZS062_2021-05-03_13-58-20\n",
      "Old data, using hopkins formats\n",
      "Old data, using hopkins formats\n",
      "No raw session directory found for behavior_ZS062_2021-03-26_18-45-54.\n",
      "Old data, using hopkins formats\n",
      "Old data, using hopkins formats\n"
     ]
    },
    {
     "name": "stderr",
     "output_type": "stream",
     "text": [
      "/root/capsule/code/beh_ephys_analysis/unit_beh_analysis.py:958: UserWarning: This figure includes Axes that are not compatible with tight_layout, so results might be incorrect.\n",
      "  fig.tight_layout()\n"
     ]
    },
    {
     "name": "stdout",
     "output_type": "stream",
     "text": [
      "No raw session directory found for behavior_ZS062_2021-03-26_18-45-54.\n",
      "No raw session directory found for behavior_ZS062_2021-03-28_17-40-42.\n",
      "Old data, using hopkins formats\n",
      "No raw session directory found for behavior_ZS062_2021-03-28_17-40-42.\n",
      "No raw session directory found for behavior_ZS062_2021-03-27_19-15-29.\n",
      "No raw session directory found for behavior_ZS062_2021-04-05_19-25-39.\n",
      "Old data, using hopkins formats\n",
      "Old data, using hopkins formats\n",
      "No raw session directory found for behavior_ZS062_2021-03-27_19-15-29.\n",
      "Old data, using hopkins formats\n"
     ]
    },
    {
     "name": "stderr",
     "output_type": "stream",
     "text": [
      "/root/capsule/code/beh_ephys_analysis/unit_beh_analysis.py:958: UserWarning: This figure includes Axes that are not compatible with tight_layout, so results might be incorrect.\n",
      "  fig.tight_layout()\n"
     ]
    },
    {
     "name": "stdout",
     "output_type": "stream",
     "text": [
      "No raw session directory found for behavior_ZS062_2021-04-05_19-25-39.\n",
      "Old data, using hopkins formats\n",
      "No raw session directory found for behavior_ZS062_2021-03-27_19-15-29.\n",
      "Old data, using hopkins formats\n",
      "Old data, using hopkins formats\n",
      "No raw session directory found for behavior_ZS062_2021-03-27_19-15-29.\n",
      "Old data, using hopkins formats\n",
      "No raw session directory found for behavior_ZS062_2021-04-05_19-25-39.\n",
      "Old data, using hopkins formats\n",
      "No raw session directory found for behavior_ZS062_2021-04-06_18-46-42.\n",
      "Old data, using hopkins formats\n",
      "No raw session directory found for behavior_ZS062_2021-04-05_19-25-39.\n",
      "Old data, using hopkins formats\n",
      "No raw session directory found for behavior_ZS062_2021-03-27_19-15-29.\n",
      "No raw session directory found for behavior_ZS062_2021-04-06_18-46-42.\n",
      "No raw session directory found for behavior_ZS062_2021-04-05_19-25-39.\n",
      "Processed behavior_ZS062_2021-04-07_17-58-07\n",
      "Old data, using hopkins formats\n",
      "Old data, using hopkins formats\n",
      "Old data, using hopkins formats\n",
      "No raw session directory found for behavior_ZS062_2021-04-01_17-49-36.\n",
      "No raw session directory found for behavior_ZS062_2021-03-25_18-44-20.\n",
      "Old data, using hopkins formats\n",
      "No raw session directory found for behavior_ZS062_2021-03-25_18-44-20.\n",
      "Old data, using hopkins formats\n",
      "No raw session directory found for behavior_ZS062_2021-04-01_17-49-36.\n",
      "Old data, using hopkins formats\n",
      "Old data, using hopkins formats\n",
      "No raw session directory found for behavior_ZS062_2021-04-01_17-49-36.\n",
      "Old data, using hopkins formats\n",
      "No raw session directory found for behavior_ZS062_2021-04-01_17-49-36.\n",
      "Old data, using hopkins formats\n",
      "Old data, using hopkins formats\n",
      "No raw session directory found for behavior_ZS062_2021-04-01_17-49-36.\n"
     ]
    },
    {
     "name": "stderr",
     "output_type": "stream",
     "text": [
      "/root/capsule/code/beh_ephys_analysis/unit_beh_analysis.py:958: UserWarning: This figure includes Axes that are not compatible with tight_layout, so results might be incorrect.\n",
      "  fig.tight_layout()\n",
      "/root/capsule/code/beh_ephys_analysis/unit_beh_analysis.py:958: UserWarning: This figure includes Axes that are not compatible with tight_layout, so results might be incorrect.\n",
      "  fig.tight_layout()\n"
     ]
    },
    {
     "name": "stdout",
     "output_type": "stream",
     "text": [
      "No raw session directory found for behavior_ZS062_2021-03-26_18-45-54.\n",
      "Old data, using hopkins formats\n",
      "No raw session directory found for behavior_ZS062_2021-03-26_18-45-54.\n",
      "Old data, using hopkins formats\n",
      "No raw session directory found for behavior_ZS062_2021-04-06_18-46-42.\n",
      "Old data, using hopkins formats\n",
      "No raw session directory found for behavior_ZS062_2021-04-06_18-46-42.\n",
      "Old data, using hopkins formats\n",
      "No raw session directory found for behavior_ZS062_2021-03-27_19-15-29.\n",
      "Old data, using hopkins formats\n",
      "No raw session directory found for behavior_ZS062_2021-03-27_19-15-29.\n",
      "Old data, using hopkins formats\n",
      "Processed behavior_ZS062_2021-04-21_18-15-30\n",
      "No raw session directory found for behavior_ZS062_2021-04-05_19-25-39.\n",
      "Old data, using hopkins formats\n",
      "Old data, using hopkins formats\n",
      "No raw session directory found for behavior_ZS062_2021-04-05_19-25-39.\n",
      "Old data, using hopkins formats\n",
      "No raw session directory found for behavior_ZS062_2021-04-03_20-26-34.\n",
      "Old data, using hopkins formats\n",
      "No raw session directory found for behavior_ZS062_2021-04-01_17-49-36.\n",
      "Old data, using hopkins formats\n",
      "Old data, using hopkins formats\n",
      "No raw session directory found for behavior_ZS062_2021-04-01_17-49-36.\n",
      "No raw session directory found for behavior_ZS062_2021-04-03_20-26-34.\n",
      "Old data, using hopkins formats\n",
      "No raw session directory found for behavior_ZS062_2021-04-03_20-26-34.\n",
      "Old data, using hopkins formats\n",
      "No raw session directory found for behavior_ZS062_2021-04-03_20-26-34.\n",
      "Old data, using hopkins formats\n",
      "No raw session directory found for behavior_ZS062_2021-04-03_20-26-34.\n",
      "Old data, using hopkins formats\n"
     ]
    },
    {
     "name": "stderr",
     "output_type": "stream",
     "text": [
      "/root/capsule/code/beh_ephys_analysis/unit_beh_analysis.py:958: UserWarning: This figure includes Axes that are not compatible with tight_layout, so results might be incorrect.\n",
      "  fig.tight_layout()\n"
     ]
    },
    {
     "name": "stdout",
     "output_type": "stream",
     "text": [
      "No raw session directory found for behavior_ZS062_2021-03-27_19-15-29.\n",
      "Old data, using hopkins formats\n",
      "No raw session directory found for behavior_ZS062_2021-03-27_19-15-29.\n",
      "Old data, using hopkins formats\n",
      "Old data, using hopkins formats\n",
      "No raw session directory found for behavior_ZS062_2021-04-05_19-25-39.\n",
      "Old data, using hopkins formats\n",
      "No raw session directory found for behavior_ZS062_2021-04-05_19-25-39.\n",
      "Old data, using hopkins formats\n",
      "Old data, using hopkins formats\n",
      "No raw session directory found for behavior_ZS062_2021-04-01_17-49-36.\n",
      "Old data, using hopkins formats\n",
      "No raw session directory found for behavior_ZS062_2021-04-01_17-49-36.\n"
     ]
    },
    {
     "name": "stderr",
     "output_type": "stream",
     "text": [
      "/root/capsule/code/beh_ephys_analysis/unit_beh_analysis.py:958: UserWarning: This figure includes Axes that are not compatible with tight_layout, so results might be incorrect.\n",
      "  fig.tight_layout()\n"
     ]
    },
    {
     "name": "stdout",
     "output_type": "stream",
     "text": [
      "Old data, using hopkins formats\n",
      "No raw session directory found for behavior_ZS062_2021-04-03_20-26-34.\n",
      "Old data, using hopkins formats\n",
      "No raw session directory found for behavior_ZS062_2021-04-03_20-26-34.\n"
     ]
    },
    {
     "name": "stderr",
     "output_type": "stream",
     "text": [
      "/root/capsule/code/beh_ephys_analysis/unit_beh_analysis.py:958: UserWarning: This figure includes Axes that are not compatible with tight_layout, so results might be incorrect.\n",
      "  fig.tight_layout()\n",
      "/root/capsule/code/beh_ephys_analysis/unit_beh_analysis.py:958: UserWarning: This figure includes Axes that are not compatible with tight_layout, so results might be incorrect.\n",
      "  fig.tight_layout()\n",
      "/root/capsule/code/beh_ephys_analysis/unit_beh_analysis.py:958: UserWarning: This figure includes Axes that are not compatible with tight_layout, so results might be incorrect.\n",
      "  fig.tight_layout()\n"
     ]
    },
    {
     "name": "stdout",
     "output_type": "stream",
     "text": [
      "Old data, using hopkins formats\n",
      "No raw session directory found for behavior_ZS062_2021-04-03_20-26-34.\n",
      "Old data, using hopkins formats\n",
      "No raw session directory found for behavior_ZS062_2021-04-03_20-26-34.\n",
      "Old data, using hopkins formats\n",
      "Processed behavior_ZS062_2021-05-05_16-34-46\n",
      "Old data, using hopkins formats\n",
      "Old data, using hopkins formats\n",
      "Old data, using hopkins formats\n",
      "Old data, using hopkins formats\n",
      "Old data, using hopkins formats\n",
      "Old data, using hopkins formats\n",
      "Processed behavior_ZS062_2021-04-29_17-36-37\n",
      "Old data, using hopkins formats\n",
      "Processed behavior_ZS062_2021-05-06_15-46-14\n",
      "Old data, using hopkins formats\n"
     ]
    },
    {
     "name": "stderr",
     "output_type": "stream",
     "text": [
      "/root/capsule/code/beh_ephys_analysis/unit_beh_analysis.py:958: UserWarning: This figure includes Axes that are not compatible with tight_layout, so results might be incorrect.\n",
      "  fig.tight_layout()\n",
      "/root/capsule/code/beh_ephys_analysis/unit_beh_analysis.py:958: UserWarning: This figure includes Axes that are not compatible with tight_layout, so results might be incorrect.\n",
      "  fig.tight_layout()\n"
     ]
    },
    {
     "name": "stdout",
     "output_type": "stream",
     "text": [
      "Old data, using hopkins formats\n",
      "Old data, using hopkins formats\n",
      "Old data, using hopkins formats\n",
      "Old data, using hopkins formats\n",
      "Old data, using hopkins formats\n",
      "No unit table found for behavior_ZS062_2021-04-26_20-26-29 in curated data.\n",
      "Old data, using hopkins formats\n",
      "Old data, using hopkins formats\n",
      "Old data, using hopkins formats\n",
      "Old data, using hopkins formats\n",
      "Old data, using hopkins formats\n",
      "Old data, using hopkins formats\n",
      "Old data, using hopkins formats\n"
     ]
    },
    {
     "name": "stderr",
     "output_type": "stream",
     "text": [
      "/root/capsule/code/beh_ephys_analysis/unit_beh_analysis.py:958: UserWarning: This figure includes Axes that are not compatible with tight_layout, so results might be incorrect.\n",
      "  fig.tight_layout()\n",
      "/root/capsule/code/beh_ephys_analysis/unit_beh_analysis.py:958: UserWarning: This figure includes Axes that are not compatible with tight_layout, so results might be incorrect.\n",
      "  fig.tight_layout()\n"
     ]
    },
    {
     "name": "stdout",
     "output_type": "stream",
     "text": [
      "Old data, using hopkins formats\n",
      "Old data, using hopkins formats\n",
      "Old data, using hopkins formats\n",
      "Old data, using hopkins formats\n",
      "Old data, using hopkins formats\n",
      "Old data, using hopkins formats\n",
      "Old data, using hopkins formats\n",
      "Old data, using hopkins formats\n"
     ]
    },
    {
     "name": "stderr",
     "output_type": "stream",
     "text": [
      "/root/capsule/code/beh_ephys_analysis/unit_beh_analysis.py:958: UserWarning: This figure includes Axes that are not compatible with tight_layout, so results might be incorrect.\n",
      "  fig.tight_layout()\n"
     ]
    },
    {
     "name": "stdout",
     "output_type": "stream",
     "text": [
      "Old data, using hopkins formats\n",
      "Old data, using hopkins formats\n"
     ]
    },
    {
     "name": "stderr",
     "output_type": "stream",
     "text": [
      "/root/capsule/code/beh_ephys_analysis/unit_beh_analysis.py:958: UserWarning: This figure includes Axes that are not compatible with tight_layout, so results might be incorrect.\n",
      "  fig.tight_layout()\n",
      "/root/capsule/code/beh_ephys_analysis/unit_beh_analysis.py:958: UserWarning: This figure includes Axes that are not compatible with tight_layout, so results might be incorrect.\n",
      "  fig.tight_layout()\n"
     ]
    },
    {
     "name": "stdout",
     "output_type": "stream",
     "text": [
      "Old data, using hopkins formats\n",
      "Old data, using hopkins formats\n",
      "Processed behavior_ZS062_2021-05-10_19-15-51\n",
      "Old data, using hopkins formats\n",
      "Processed behavior_ZS062_2021-05-02_19-20-50\n",
      "Old data, using hopkins formats\n"
     ]
    },
    {
     "name": "stderr",
     "output_type": "stream",
     "text": [
      "/root/capsule/code/beh_ephys_analysis/unit_beh_analysis.py:958: UserWarning: This figure includes Axes that are not compatible with tight_layout, so results might be incorrect.\n",
      "  fig.tight_layout()\n",
      "/root/capsule/code/beh_ephys_analysis/unit_beh_analysis.py:958: UserWarning: This figure includes Axes that are not compatible with tight_layout, so results might be incorrect.\n",
      "  fig.tight_layout()\n"
     ]
    },
    {
     "name": "stdout",
     "output_type": "stream",
     "text": [
      "Processed behavior_ZS062_2021-04-05_19-25-39\n",
      "Old data, using hopkins formats\n",
      "Old data, using hopkins formats\n",
      "Old data, using hopkins formats\n",
      "Old data, using hopkins formats\n",
      "Old data, using hopkins formats\n",
      "Processed behavior_ZS062_2021-04-06_18-46-42\n",
      "Old data, using hopkins formats\n",
      "No raw session directory found for behavior_ZS062_2021-03-31_18-40-52.\n",
      "Old data, using hopkins formats\n",
      "No raw session directory found for behavior_ZS062_2021-04-02_19-08-52.\n",
      "No raw session directory found for behavior_ZS062_2021-03-31_18-40-52.\n",
      "No unit table found for behavior_ZS062_2021-03-31_18-40-52 in curated data.\n",
      "Old data, using hopkins formats\n",
      "Old data, using hopkins formats\n",
      "No raw session directory found for behavior_ZS062_2021-04-02_19-08-52.\n",
      "Old data, using hopkins formats\n",
      "No raw session directory found for behavior_ZS062_2021-04-02_19-08-52.\n",
      "Old data, using hopkins formats\n",
      "No raw session directory found for behavior_ZS062_2021-04-02_19-08-52.\n",
      "Old data, using hopkins formats\n",
      "No raw session directory found for behavior_ZS062_2021-04-02_19-08-52.\n",
      "No raw session directory found for behavior_ZS062_2021-04-04_18-59-47.\n",
      "Old data, using hopkins formats\n"
     ]
    },
    {
     "name": "stderr",
     "output_type": "stream",
     "text": [
      "/root/capsule/code/beh_ephys_analysis/unit_beh_analysis.py:958: UserWarning: This figure includes Axes that are not compatible with tight_layout, so results might be incorrect.\n",
      "  fig.tight_layout()\n",
      "/root/capsule/code/beh_ephys_analysis/unit_beh_analysis.py:958: UserWarning: This figure includes Axes that are not compatible with tight_layout, so results might be incorrect.\n",
      "  fig.tight_layout()\n",
      "/root/capsule/code/beh_ephys_analysis/unit_beh_analysis.py:958: UserWarning: This figure includes Axes that are not compatible with tight_layout, so results might be incorrect.\n",
      "  fig.tight_layout()\n"
     ]
    },
    {
     "name": "stdout",
     "output_type": "stream",
     "text": [
      "No raw session directory found for behavior_ZS062_2021-04-04_18-59-47.\n",
      "Old data, using hopkins formats\n",
      "No raw session directory found for behavior_ZS062_2021-04-04_18-59-47.\n",
      "Old data, using hopkins formats\n",
      "No raw session directory found for behavior_ZS062_2021-04-04_18-59-47.\n",
      "Old data, using hopkins formats\n",
      "No raw session directory found for behavior_ZS062_2021-04-04_18-59-47.\n",
      "Old data, using hopkins formats\n",
      "Old data, using hopkins formats\n",
      "Old data, using hopkins formats\n",
      "No raw session directory found for behavior_ZS062_2021-03-26_18-45-54.\n"
     ]
    },
    {
     "name": "stderr",
     "output_type": "stream",
     "text": [
      "/root/capsule/code/beh_ephys_analysis/unit_beh_analysis.py:958: UserWarning: This figure includes Axes that are not compatible with tight_layout, so results might be incorrect.\n",
      "  fig.tight_layout()\n",
      "/root/capsule/code/beh_ephys_analysis/unit_beh_analysis.py:958: UserWarning: This figure includes Axes that are not compatible with tight_layout, so results might be incorrect.\n",
      "  fig.tight_layout()\n",
      "/root/capsule/code/beh_ephys_analysis/unit_beh_analysis.py:958: UserWarning: This figure includes Axes that are not compatible with tight_layout, so results might be incorrect.\n",
      "  fig.tight_layout()\n"
     ]
    },
    {
     "name": "stdout",
     "output_type": "stream",
     "text": [
      "Old data, using hopkins formats\n",
      "No raw session directory found for behavior_ZS062_2021-03-25_18-44-20.\n",
      "Old data, using hopkins formats\n",
      "No raw session directory found for behavior_ZS062_2021-04-02_19-08-52.\n",
      "Old data, using hopkins formats\n",
      "No raw session directory found for behavior_ZS062_2021-04-02_19-08-52.\n",
      "Old data, using hopkins formats\n",
      "Old data, using hopkins formats\n",
      "Old data, using hopkins formats\n",
      "No raw session directory found for behavior_ZS062_2021-04-04_18-59-47.\n",
      "Old data, using hopkins formats\n",
      "No raw session directory found for behavior_ZS062_2021-04-04_18-59-47.\n",
      "Processed behavior_ZS062_2021-05-04_14-29-20\n",
      "Old data, using hopkins formats\n",
      "Processed behavior_ZS062_2021-05-01_19-48-01\n",
      "Old data, using hopkins formats\n",
      "No raw session directory found for behavior_ZS062_2021-03-28_17-40-42.\n",
      "No raw session directory found for behavior_ZS062_2021-04-08_19-07-10.\n",
      "Old data, using hopkins formats\n",
      "Processed behavior_ZS062_2021-04-03_20-26-34\n",
      "Old data, using hopkins formats\n",
      "Old data, using hopkins formats\n",
      "No raw session directory found for behavior_ZS062_2021-04-08_19-07-10.\n",
      "Old data, using hopkins formats\n",
      "No raw session directory found for behavior_ZS062_2021-04-02_19-08-52.\n",
      "No raw session directory found for behavior_ZS062_2021-04-08_19-07-10.\n",
      "Old data, using hopkins formats\n",
      "No raw session directory found for behavior_ZS062_2021-04-08_19-07-10.\n",
      "Processed behavior_ZS062_2021-04-01_17-49-36\n",
      "Old data, using hopkins formats\n",
      "Old data, using hopkins formats\n",
      "Old data, using hopkins formats\n",
      "Old data, using hopkins formats\n",
      "No raw session directory found for behavior_ZS062_2021-04-02_19-08-52.\n",
      "Old data, using hopkins formats\n",
      "No raw session directory found for behavior_ZS062_2021-04-08_19-07-10.\n",
      "No raw session directory found for behavior_ZS062_2021-04-04_18-59-47.\n",
      "Processed behavior_ZS062_2021-04-04_18-59-47\n",
      "Old data, using hopkins formats\n",
      "Old data, using hopkins formats\n",
      "Old data, using hopkins formats\n",
      "Old data, using hopkins formats\n",
      "Old data, using hopkins formats\n",
      "Processed behavior_ZS062_2021-04-30_18-11-39\n",
      "Old data, using hopkins formats\n",
      "Old data, using hopkins formats\n",
      "Old data, using hopkins formats\n",
      "Old data, using hopkins formats\n",
      "Old data, using hopkins formats\n",
      "Old data, using hopkins formats\n",
      "Old data, using hopkins formats\n",
      "Old data, using hopkins formats\n",
      "Old data, using hopkins formats\n",
      "Old data, using hopkins formats\n",
      "Old data, using hopkins formats\n",
      "Old data, using hopkins formats\n",
      "Old data, using hopkins formats\n",
      "Old data, using hopkins formats\n",
      "Old data, using hopkins formats\n",
      "Old data, using hopkins formats\n",
      "Old data, using hopkins formats\n"
     ]
    },
    {
     "name": "stderr",
     "output_type": "stream",
     "text": [
      "/root/capsule/code/beh_ephys_analysis/unit_beh_analysis.py:958: UserWarning: This figure includes Axes that are not compatible with tight_layout, so results might be incorrect.\n",
      "  fig.tight_layout()\n"
     ]
    },
    {
     "name": "stdout",
     "output_type": "stream",
     "text": [
      "Old data, using hopkins formats\n",
      "No raw session directory found for behavior_ZS062_2021-04-08_19-07-10.\n",
      "Old data, using hopkins formats\n",
      "No raw session directory found for behavior_ZS062_2021-04-08_19-07-10.\n",
      "Old data, using hopkins formats\n",
      "Old data, using hopkins formats\n",
      "Old data, using hopkins formats\n",
      "Old data, using hopkins formats\n"
     ]
    },
    {
     "name": "stderr",
     "output_type": "stream",
     "text": [
      "/root/capsule/code/beh_ephys_analysis/unit_beh_analysis.py:958: UserWarning: This figure includes Axes that are not compatible with tight_layout, so results might be incorrect.\n",
      "  fig.tight_layout()\n"
     ]
    },
    {
     "name": "stdout",
     "output_type": "stream",
     "text": [
      "Old data, using hopkins formats\n",
      "Old data, using hopkins formats\n",
      "Old data, using hopkins formats\n",
      "Old data, using hopkins formats\n",
      "Old data, using hopkins formats\n",
      "Old data, using hopkins formats\n",
      "Old data, using hopkins formats\n",
      "No raw session directory found for behavior_ZS062_2021-03-24_18-52-34.\n",
      "Old data, using hopkins formats\n",
      "No raw session directory found for behavior_ZS062_2021-03-24_18-52-34.\n",
      "No unit table found for behavior_ZS062_2021-03-24_18-52-34 in curated data.\n",
      "Old data, using hopkins formats\n",
      "No raw session directory found for behavior_ZS062_2021-03-25_18-44-20.\n",
      "Old data, using hopkins formats\n",
      "Old data, using hopkins formats\n",
      "Old data, using hopkins formats\n",
      "No raw session directory found for behavior_ZS062_2021-04-08_19-07-10.\n",
      "Old data, using hopkins formats\n",
      "Old data, using hopkins formats\n",
      "No raw session directory found for behavior_ZS062_2021-04-08_19-07-10.\n",
      "No raw session directory found for behavior_ZS062_2021-04-09_19-27-26.\n",
      "Old data, using hopkins formats\n",
      "Old data, using hopkins formats\n"
     ]
    },
    {
     "name": "stderr",
     "output_type": "stream",
     "text": [
      "/root/capsule/code/beh_ephys_analysis/unit_beh_analysis.py:958: UserWarning: This figure includes Axes that are not compatible with tight_layout, so results might be incorrect.\n",
      "  fig.tight_layout()\n"
     ]
    },
    {
     "name": "stdout",
     "output_type": "stream",
     "text": [
      "No raw session directory found for behavior_ZS062_2021-04-09_19-27-26.\n",
      "Old data, using hopkins formats\n",
      "Old data, using hopkins formats\n",
      "Old data, using hopkins formats\n",
      "Old data, using hopkins formats\n",
      "No raw session directory found for behavior_ZS062_2021-04-09_19-27-26.\n",
      "Old data, using hopkins formats\n",
      "Old data, using hopkins formats\n",
      "No raw session directory found for behavior_ZS062_2021-04-09_19-27-26.\n",
      "Old data, using hopkins formats\n",
      "Old data, using hopkins formats\n",
      "No raw session directory found for behavior_ZS062_2021-04-09_19-27-26.\n",
      "Old data, using hopkins formats\n",
      "Old data, using hopkins formats\n",
      "Processed behavior_ZS062_2021-03-26_18-45-54\n",
      "Old data, using hopkins formats\n",
      "Old data, using hopkins formats\n",
      "Old data, using hopkins formats\n",
      "Old data, using hopkins formats\n",
      "Old data, using hopkins formats\n",
      "Old data, using hopkins formats\n",
      "No raw session directory found for behavior_ZS062_2021-04-09_19-27-26.\n",
      "Old data, using hopkins formats\n",
      "No raw session directory found for behavior_ZS062_2021-04-09_19-27-26.\n",
      "Processed behavior_ZS062_2021-03-28_17-40-42\n",
      "Old data, using hopkins formats\n",
      "Old data, using hopkins formats\n",
      "Old data, using hopkins formats\n"
     ]
    },
    {
     "name": "stderr",
     "output_type": "stream",
     "text": [
      "/root/capsule/code/beh_ephys_analysis/unit_beh_analysis.py:958: UserWarning: This figure includes Axes that are not compatible with tight_layout, so results might be incorrect.\n",
      "  fig.tight_layout()\n",
      "/root/capsule/code/beh_ephys_analysis/unit_beh_analysis.py:958: UserWarning: This figure includes Axes that are not compatible with tight_layout, so results might be incorrect.\n",
      "  fig.tight_layout()\n"
     ]
    },
    {
     "name": "stdout",
     "output_type": "stream",
     "text": [
      "Old data, using hopkins formats\n",
      "Old data, using hopkins formats\n",
      "Old data, using hopkins formats\n",
      "Old data, using hopkins formats\n",
      "Old data, using hopkins formats\n",
      "No raw session directory found for behavior_ZS062_2021-04-09_19-27-26.\n",
      "Old data, using hopkins formats\n",
      "No raw session directory found for behavior_ZS062_2021-04-09_19-27-26.\n"
     ]
    },
    {
     "name": "stderr",
     "output_type": "stream",
     "text": [
      "/root/capsule/code/beh_ephys_analysis/unit_beh_analysis.py:958: UserWarning: This figure includes Axes that are not compatible with tight_layout, so results might be incorrect.\n",
      "  fig.tight_layout()\n",
      "/root/capsule/code/beh_ephys_analysis/unit_beh_analysis.py:958: UserWarning: This figure includes Axes that are not compatible with tight_layout, so results might be incorrect.\n",
      "  fig.tight_layout()\n"
     ]
    },
    {
     "name": "stdout",
     "output_type": "stream",
     "text": [
      "Old data, using hopkins formats\n",
      "Old data, using hopkins formats\n"
     ]
    },
    {
     "name": "stderr",
     "output_type": "stream",
     "text": [
      "/root/capsule/code/beh_ephys_analysis/unit_beh_analysis.py:958: UserWarning: This figure includes Axes that are not compatible with tight_layout, so results might be incorrect.\n",
      "  fig.tight_layout()\n"
     ]
    },
    {
     "name": "stdout",
     "output_type": "stream",
     "text": [
      "Processed behavior_ZS062_2021-03-25_18-44-20\n",
      "Old data, using hopkins formats\n",
      "Old data, using hopkins formats\n",
      "Old data, using hopkins formats\n",
      "No raw session directory found for behavior_ZS062_2021-04-10_19-16-30.\n",
      "Old data, using hopkins formats\n",
      "No raw session directory found for behavior_ZS062_2021-04-10_19-16-30.\n",
      "Old data, using hopkins formats\n",
      "No raw session directory found for behavior_ZS062_2021-04-10_19-16-30.\n",
      "Old data, using hopkins formats\n",
      "No raw session directory found for behavior_ZS062_2021-04-10_19-16-30.\n",
      "Old data, using hopkins formats\n",
      "Old data, using hopkins formats\n",
      "No raw session directory found for behavior_ZS062_2021-04-10_19-16-30.\n",
      "No raw session directory found for behavior_ZS062_2021-03-27_19-15-29.\n"
     ]
    },
    {
     "name": "stderr",
     "output_type": "stream",
     "text": [
      "/root/capsule/code/beh_ephys_analysis/unit_beh_analysis.py:958: UserWarning: This figure includes Axes that are not compatible with tight_layout, so results might be incorrect.\n",
      "  fig.tight_layout()\n"
     ]
    },
    {
     "name": "stdout",
     "output_type": "stream",
     "text": [
      "Old data, using hopkins formats\n",
      "Old data, using hopkins formats\n",
      "Processed behavior_ZS062_2021-04-27_19-23-36\n",
      "Old data, using hopkins formats\n",
      "Processed behavior_ZS062_2021-04-22_17-18-06\n",
      "Old data, using hopkins formats\n",
      "Old data, using hopkins formats\n",
      "Old data, using hopkins formats\n",
      "Old data, using hopkins formats\n",
      "Old data, using hopkins formats\n",
      "Old data, using hopkins formats\n",
      "No raw session directory found for behavior_ZS062_2021-04-10_19-16-30.\n",
      "Old data, using hopkins formats\n",
      "No raw session directory found for behavior_ZS062_2021-04-10_19-16-30.\n",
      "Old data, using hopkins formats\n",
      "Old data, using hopkins formats\n",
      "Old data, using hopkins formats\n",
      "Old data, using hopkins formats\n",
      "No raw session directory found for behavior_ZS062_2021-04-10_19-16-30.\n",
      "Old data, using hopkins formats\n",
      "No raw session directory found for behavior_ZS062_2021-04-10_19-16-30.\n"
     ]
    },
    {
     "name": "stderr",
     "output_type": "stream",
     "text": [
      "/root/capsule/code/beh_ephys_analysis/unit_beh_analysis.py:958: UserWarning: This figure includes Axes that are not compatible with tight_layout, so results might be incorrect.\n",
      "  fig.tight_layout()\n",
      "/root/capsule/code/beh_ephys_analysis/unit_beh_analysis.py:958: UserWarning: This figure includes Axes that are not compatible with tight_layout, so results might be incorrect.\n",
      "  fig.tight_layout()\n",
      "/root/capsule/code/beh_ephys_analysis/unit_beh_analysis.py:958: UserWarning: This figure includes Axes that are not compatible with tight_layout, so results might be incorrect.\n",
      "  fig.tight_layout()\n",
      "/root/capsule/code/beh_ephys_analysis/unit_beh_analysis.py:958: UserWarning: This figure includes Axes that are not compatible with tight_layout, so results might be incorrect.\n",
      "  fig.tight_layout()\n",
      "/root/capsule/code/beh_ephys_analysis/unit_beh_analysis.py:958: UserWarning: This figure includes Axes that are not compatible with tight_layout, so results might be incorrect.\n",
      "  fig.tight_layout()\n"
     ]
    },
    {
     "name": "stdout",
     "output_type": "stream",
     "text": [
      "Old data, using hopkins formats\n",
      "Old data, using hopkins formats\n"
     ]
    },
    {
     "name": "stderr",
     "output_type": "stream",
     "text": [
      "/root/capsule/code/beh_ephys_analysis/unit_beh_analysis.py:958: UserWarning: This figure includes Axes that are not compatible with tight_layout, so results might be incorrect.\n",
      "  fig.tight_layout()\n",
      "/root/capsule/code/beh_ephys_analysis/unit_beh_analysis.py:958: UserWarning: This figure includes Axes that are not compatible with tight_layout, so results might be incorrect.\n",
      "  fig.tight_layout()\n",
      "/root/capsule/code/beh_ephys_analysis/unit_beh_analysis.py:958: UserWarning: This figure includes Axes that are not compatible with tight_layout, so results might be incorrect.\n",
      "  fig.tight_layout()\n"
     ]
    },
    {
     "name": "stdout",
     "output_type": "stream",
     "text": [
      "Old data, using hopkins formats\n",
      "Old data, using hopkins formats\n",
      "Old data, using hopkins formats\n",
      "No raw session directory found for behavior_ZS062_2021-04-02_19-08-52.\n",
      "Processed behavior_ZS062_2021-03-27_19-15-29\n",
      "Processed behavior_ZS062_2021-04-20_18-23-52\n",
      "Processed behavior_ZS062_2021-04-16_18-17-09\n",
      "Processed behavior_ZS062_2021-04-14_17-07-51\n"
     ]
    },
    {
     "name": "stderr",
     "output_type": "stream",
     "text": [
      "/root/capsule/code/beh_ephys_analysis/unit_beh_analysis.py:958: UserWarning: This figure includes Axes that are not compatible with tight_layout, so results might be incorrect.\n",
      "  fig.tight_layout()\n"
     ]
    },
    {
     "name": "stdout",
     "output_type": "stream",
     "text": [
      "Processed behavior_ZS062_2021-04-11_18-58-53\n"
     ]
    },
    {
     "name": "stderr",
     "output_type": "stream",
     "text": [
      "/root/capsule/code/beh_ephys_analysis/unit_beh_analysis.py:958: UserWarning: This figure includes Axes that are not compatible with tight_layout, so results might be incorrect.\n",
      "  fig.tight_layout()\n",
      "/root/capsule/code/beh_ephys_analysis/unit_beh_analysis.py:958: UserWarning: This figure includes Axes that are not compatible with tight_layout, so results might be incorrect.\n",
      "  fig.tight_layout()\n",
      "/root/capsule/code/beh_ephys_analysis/unit_beh_analysis.py:958: UserWarning: This figure includes Axes that are not compatible with tight_layout, so results might be incorrect.\n",
      "  fig.tight_layout()\n",
      "/root/capsule/code/beh_ephys_analysis/unit_beh_analysis.py:958: UserWarning: This figure includes Axes that are not compatible with tight_layout, so results might be incorrect.\n",
      "  fig.tight_layout()\n",
      "/root/capsule/code/beh_ephys_analysis/unit_beh_analysis.py:958: UserWarning: This figure includes Axes that are not compatible with tight_layout, so results might be incorrect.\n",
      "  fig.tight_layout()\n"
     ]
    },
    {
     "name": "stdout",
     "output_type": "stream",
     "text": [
      "Old data, using hopkins formats\n",
      "No raw session directory found for behavior_ZS062_2021-04-08_19-07-10.\n",
      "Processed behavior_ZS062_2021-04-12_18-46-29\n"
     ]
    },
    {
     "name": "stderr",
     "output_type": "stream",
     "text": [
      "/root/capsule/code/beh_ephys_analysis/unit_beh_analysis.py:958: UserWarning: This figure includes Axes that are not compatible with tight_layout, so results might be incorrect.\n",
      "  fig.tight_layout()\n",
      "/root/capsule/code/beh_ephys_analysis/unit_beh_analysis.py:958: UserWarning: This figure includes Axes that are not compatible with tight_layout, so results might be incorrect.\n",
      "  fig.tight_layout()\n"
     ]
    },
    {
     "name": "stdout",
     "output_type": "stream",
     "text": [
      "Processed behavior_ZS062_2021-04-28_17-53-01\n",
      "Processed behavior_ZS062_2021-04-09_19-27-26\n",
      "Processed behavior_ZS062_2021-04-13_19-35-13\n",
      "Old data, using hopkins formats\n",
      "Old data, using hopkins formats\n"
     ]
    },
    {
     "name": "stderr",
     "output_type": "stream",
     "text": [
      "/root/capsule/code/beh_ephys_analysis/unit_beh_analysis.py:958: UserWarning: This figure includes Axes that are not compatible with tight_layout, so results might be incorrect.\n",
      "  fig.tight_layout()\n",
      "/root/capsule/code/beh_ephys_analysis/unit_beh_analysis.py:958: UserWarning: This figure includes Axes that are not compatible with tight_layout, so results might be incorrect.\n",
      "  fig.tight_layout()\n"
     ]
    },
    {
     "name": "stdout",
     "output_type": "stream",
     "text": [
      "Processed behavior_ZS062_2021-04-02_19-08-52\n"
     ]
    },
    {
     "name": "stderr",
     "output_type": "stream",
     "text": [
      "/root/capsule/code/beh_ephys_analysis/unit_beh_analysis.py:958: UserWarning: This figure includes Axes that are not compatible with tight_layout, so results might be incorrect.\n",
      "  fig.tight_layout()\n",
      "/root/capsule/code/beh_ephys_analysis/unit_beh_analysis.py:958: UserWarning: This figure includes Axes that are not compatible with tight_layout, so results might be incorrect.\n",
      "  fig.tight_layout()\n"
     ]
    },
    {
     "name": "stdout",
     "output_type": "stream",
     "text": [
      "Processed behavior_ZS062_2021-04-08_19-07-10\n",
      "Old data, using hopkins formats\n",
      "No raw session directory found for behavior_ZS062_2021-04-10_19-16-30.\n",
      "Processed behavior_ZS062_2021-04-18_19-52-39\n"
     ]
    },
    {
     "name": "stderr",
     "output_type": "stream",
     "text": [
      "/root/capsule/code/beh_ephys_analysis/unit_beh_analysis.py:958: UserWarning: This figure includes Axes that are not compatible with tight_layout, so results might be incorrect.\n",
      "  fig.tight_layout()\n"
     ]
    },
    {
     "name": "stdout",
     "output_type": "stream",
     "text": [
      "Old data, using hopkins formats\n",
      "Processed behavior_ZS062_2021-04-17_18-06-40\n"
     ]
    },
    {
     "name": "stderr",
     "output_type": "stream",
     "text": [
      "/root/capsule/code/beh_ephys_analysis/unit_beh_analysis.py:958: UserWarning: This figure includes Axes that are not compatible with tight_layout, so results might be incorrect.\n",
      "  fig.tight_layout()\n",
      "/root/capsule/code/beh_ephys_analysis/unit_beh_analysis.py:958: UserWarning: This figure includes Axes that are not compatible with tight_layout, so results might be incorrect.\n",
      "  fig.tight_layout()\n"
     ]
    },
    {
     "name": "stdout",
     "output_type": "stream",
     "text": [
      "Processed behavior_ZS062_2021-04-10_19-16-30\n",
      "Processed behavior_ZS062_2021-04-19_19-36-48\n"
     ]
    },
    {
     "data": {
      "text/plain": [
       "[None,\n",
       " None,\n",
       " None,\n",
       " None,\n",
       " None,\n",
       " None,\n",
       " None,\n",
       " None,\n",
       " None,\n",
       " None,\n",
       " None,\n",
       " None,\n",
       " None,\n",
       " None,\n",
       " None,\n",
       " None,\n",
       " None,\n",
       " None,\n",
       " None,\n",
       " None,\n",
       " None,\n",
       " None,\n",
       " None,\n",
       " None,\n",
       " None,\n",
       " None,\n",
       " None,\n",
       " None,\n",
       " None,\n",
       " None,\n",
       " None,\n",
       " None,\n",
       " None,\n",
       " None,\n",
       " None,\n",
       " None,\n",
       " None,\n",
       " None,\n",
       " None,\n",
       " None,\n",
       " None,\n",
       " None,\n",
       " None,\n",
       " None,\n",
       " None,\n",
       " None,\n",
       " None,\n",
       " None,\n",
       " None,\n",
       " None,\n",
       " None,\n",
       " None,\n",
       " None,\n",
       " None,\n",
       " None,\n",
       " None,\n",
       " None,\n",
       " None,\n",
       " None,\n",
       " None,\n",
       " None,\n",
       " None,\n",
       " None,\n",
       " None,\n",
       " None,\n",
       " None,\n",
       " None,\n",
       " None,\n",
       " None,\n",
       " None,\n",
       " None,\n",
       " None,\n",
       " None,\n",
       " None,\n",
       " None,\n",
       " None,\n",
       " None,\n",
       " None,\n",
       " None,\n",
       " None,\n",
       " None,\n",
       " None,\n",
       " None,\n",
       " None,\n",
       " None,\n",
       " None,\n",
       " None,\n",
       " None,\n",
       " None,\n",
       " None,\n",
       " None,\n",
       " None,\n",
       " None,\n",
       " None,\n",
       " None,\n",
       " None,\n",
       " None,\n",
       " None,\n",
       " None,\n",
       " None,\n",
       " None,\n",
       " None,\n",
       " None,\n",
       " None,\n",
       " None,\n",
       " None,\n",
       " None,\n",
       " None,\n",
       " None,\n",
       " None,\n",
       " None,\n",
       " None,\n",
       " None,\n",
       " None,\n",
       " None,\n",
       " None,\n",
       " None,\n",
       " None,\n",
       " None,\n",
       " None,\n",
       " None,\n",
       " None,\n",
       " None,\n",
       " None,\n",
       " None,\n",
       " None,\n",
       " None,\n",
       " None,\n",
       " None,\n",
       " None,\n",
       " None,\n",
       " None,\n",
       " None,\n",
       " None,\n",
       " None,\n",
       " None,\n",
       " None,\n",
       " None,\n",
       " None,\n",
       " None,\n",
       " None,\n",
       " None,\n",
       " None,\n",
       " None,\n",
       " None,\n",
       " None,\n",
       " None,\n",
       " None,\n",
       " None,\n",
       " None,\n",
       " None,\n",
       " None,\n",
       " None,\n",
       " None,\n",
       " None,\n",
       " None,\n",
       " None,\n",
       " None,\n",
       " None,\n",
       " None,\n",
       " None,\n",
       " None,\n",
       " None,\n",
       " None,\n",
       " None,\n",
       " None,\n",
       " None]"
      ]
     },
     "execution_count": 4,
     "metadata": {},
     "output_type": "execute_result"
    }
   ],
   "source": [
    "# Parallel(n_jobs=5)(delayed(process)(session, data_type) for session in session_list[82:94])\n",
    "Parallel(n_jobs=-1)(delayed(process)(session_id) for session_id in session_ids)"
   ]
  },
  {
   "cell_type": "code",
   "execution_count": null,
   "metadata": {},
   "outputs": [],
   "source": []
  }
 ],
 "metadata": {
  "kernelspec": {
   "display_name": "base",
   "language": "python",
   "name": "python3"
  },
  "language_info": {
   "codemirror_mode": {
    "name": "ipython",
    "version": 3
   },
   "file_extension": ".py",
   "mimetype": "text/x-python",
   "name": "python",
   "nbconvert_exporter": "python",
   "pygments_lexer": "ipython3",
   "version": "3.10.18"
  }
 },
 "nbformat": 4,
 "nbformat_minor": 2
}
