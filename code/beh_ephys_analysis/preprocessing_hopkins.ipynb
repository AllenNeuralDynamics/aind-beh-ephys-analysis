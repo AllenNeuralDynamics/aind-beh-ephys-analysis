{
 "cells": [
  {
   "cell_type": "code",
   "execution_count": 1,
   "metadata": {},
   "outputs": [],
   "source": [
    "import os\n",
    "import sys\n",
    "sys.path.append('/root/capsule/code/beh_ephys_analysis')\n",
    "from utils.beh_functions import parseSessionID, session_dirs, plot_session_in_time_all, plot_session_glm, transfer_nwb, get_unit_tbl\n",
    "from utils.ephys_functions import make_summary_unit_tbl\n",
    "from unit_beh_analysis import plot_unit_beh_session, plot_alignments\n",
    "from behavior_and_time_alignment import beh_and_time_alignment_hopkins\n",
    "import shutil\n",
    "from aind_dynamic_foraging_data_utils.nwb_utils import load_nwb_from_filename\n",
    "import pandas as pd\n",
    "from joblib import Parallel, delayed\n",
    "from aind_dynamic_foraging_basic_analysis.plot.plot_foraging_session import plot_foraging_session, plot_foraging_session_nwb\n",
    "from aind_dynamic_foraging_basic_analysis.licks.lick_analysis import plot_lick_analysis\n",
    "import datetime\n",
    "import numpy as np\n",
    "import matplotlib.pyplot as plt\n",
    "import json"
   ]
  },
  {
   "cell_type": "code",
   "execution_count": 2,
   "metadata": {},
   "outputs": [
    {
     "name": "stdout",
     "output_type": "stream",
     "text": [
      "Old data, using hopkins formats\n"
     ]
    },
    {
     "data": {
      "text/plain": [
       "'/root/capsule/data/behavior_ZS061_2021-04-17_16-50-25_raw_data/ecephys/sorted/session/mZS061d20210417_sessionData_nL.mat'"
      ]
     },
     "execution_count": 2,
     "metadata": {},
     "output_type": "execute_result"
    }
   ],
   "source": [
    "session_id = 'behavior_ZS061_2021-04-17_16-50-25'\n",
    "session_dir = session_dirs(session_id)\n",
    "session_dir['ephys_mat']"
   ]
  },
  {
   "cell_type": "code",
   "execution_count": 3,
   "metadata": {},
   "outputs": [
    {
     "name": "stdout",
     "output_type": "stream",
     "text": [
      "Old data, using hopkins formats\n"
     ]
    }
   ],
   "source": [
    "# transfer behavior nwb\n",
    "transfer_nwb(session_id) "
   ]
  },
  {
   "cell_type": "code",
   "execution_count": 4,
   "metadata": {},
   "outputs": [
    {
     "name": "stdout",
     "output_type": "stream",
     "text": [
      "Old data, using hopkins formats\n",
      "behavior_ZS061_2021-04-17_16-50-25\n"
     ]
    }
   ],
   "source": [
    "# check time alignment\n",
    "beh_and_time_alignment_hopkins(session_id)"
   ]
  },
  {
   "cell_type": "code",
   "execution_count": 12,
   "metadata": {},
   "outputs": [
    {
     "name": "stdout",
     "output_type": "stream",
     "text": [
      "Old data, using hopkins formats\n"
     ]
    }
   ],
   "source": [
    "# make summary unit table\n",
    "make_summary_unit_tbl(session_id)"
   ]
  },
  {
   "cell_type": "code",
   "execution_count": null,
   "metadata": {},
   "outputs": [
    {
     "name": "stdout",
     "output_type": "stream",
     "text": [
      "Selected experiment1 recording1, length:3362.95\n"
     ]
    }
   ],
   "source": [
    "# get summary unit table's columns\n",
    "example_tbl = get_unit_tbl('behavior_761038_2025-04-15_10-25-11', 'curated')\n",
    "col_list = example_tbl.columns.tolist()\n",
    "with open(\"summary_col_list.json\", \"w\") as f:\n",
    "    json.dump(col_list, f)"
   ]
  },
  {
   "cell_type": "code",
   "execution_count": 2,
   "metadata": {},
   "outputs": [
    {
     "name": "stdout",
     "output_type": "stream",
     "text": [
      "Old data, using hopkins formats\n",
      "Old data, using hopkins formats\n",
      "Old data, using hopkins formats\n",
      "Old data, using hopkins formats\n",
      "Old data, using hopkins formats\n",
      "Old data, using hopkins formats\n",
      "Plotting unit TT4_SS_01\n"
     ]
    },
    {
     "name": "stderr",
     "output_type": "stream",
     "text": [
      "/opt/conda/lib/python3.10/site-packages/aind_dynamic_foraging_basic_analysis/plot/plot_foraging_session.py:497: UserWarning: This figure includes Axes that are not compatible with tight_layout, so results might be incorrect.\n",
      "  plt.tight_layout()\n"
     ]
    },
    {
     "name": "stdout",
     "output_type": "stream",
     "text": [
      "Old data, using hopkins formats\n",
      "Combining behavior_ZS061_2021-04-20_15-49-57\n",
      "Processing 2 files in /root/capsule/scratch/ZS061/behavior_ZS061_2021-04-20_15-49-57/ephys/curated/figures/go_cue\n",
      "Combined PDF saved as: /root/capsule/scratch/ZS061/behavior_ZS061_2021-04-20_15-49-57/ephys/curated/behavior_ZS061_2021-04-20_15-49-57_unit_beh_go_cue.pdf\n"
     ]
    }
   ],
   "source": [
    "plot_unit_beh_session('behavior_ZS061_2021-04-20_15-49-57', align_name='go_cue')"
   ]
  },
  {
   "cell_type": "code",
   "execution_count": 4,
   "metadata": {},
   "outputs": [
    {
     "name": "stdout",
     "output_type": "stream",
     "text": [
      "Old data, using hopkins formats\n",
      "behavior_ZS061_2021-04-17_16-50-25\n"
     ]
    }
   ],
   "source": [
    "# check time alignment\n",
    "beh_and_time_alignment_hopkins(session_id)"
   ]
  },
  {
   "cell_type": "code",
   "execution_count": 5,
   "metadata": {},
   "outputs": [
    {
     "name": "stdout",
     "output_type": "stream",
     "text": [
      "Old data, using hopkins formats\n",
      "Selected experiment1 recording1, length:3362.95\n",
      "Old data, using hopkins formats\n",
      "Old data, using hopkins formats\n",
      "Old data, using hopkins formats\n",
      "Old data, using hopkins formats\n",
      "Old data, using hopkins formats\n",
      "Old data, using hopkins formats\n",
      "Plotting unit TT4_SS_01\n",
      "Old data, using hopkins formats\n",
      "Combining behavior_ZS061_2021-04-20_15-49-57\n",
      "Processing 2 files in /root/capsule/scratch/ZS061/behavior_ZS061_2021-04-20_15-49-57/ephys/curated/figures/go_cue\n",
      "Combined PDF saved as: /root/capsule/scratch/ZS061/behavior_ZS061_2021-04-20_15-49-57/ephys/curated/behavior_ZS061_2021-04-20_15-49-57_unit_beh_go_cue.pdf\n",
      "Old data, using hopkins formats\n",
      "behavior_ZS061_2021-03-18_17-39-19\n",
      "Old data, using hopkins formats\n",
      "Old data, using hopkins formats\n",
      "Old data, using hopkins formats\n",
      "behavior_ZS059_2021-03-29_14-41-57\n",
      "Processed behavior_ZS059_2021-03-29_14-41-57\n",
      "Old data, using hopkins formats\n",
      "Old data, using hopkins formats\n",
      "Old data, using hopkins formats\n",
      "behavior_ZS059_2021-03-30_14-57-13\n",
      "Processed behavior_ZS059_2021-03-30_14-57-13\n",
      "Old data, using hopkins formats\n",
      "Old data, using hopkins formats\n",
      "Old data, using hopkins formats\n",
      "behavior_ZS059_2021-03-31_14-32-51\n",
      "Processed behavior_ZS059_2021-03-31_14-32-51\n",
      "Old data, using hopkins formats\n",
      "Old data, using hopkins formats\n",
      "Old data, using hopkins formats\n",
      "behavior_ZS059_2021-04-02_15-05-16\n",
      "Processed behavior_ZS059_2021-04-02_15-05-16\n",
      "Old data, using hopkins formats\n",
      "Old data, using hopkins formats\n",
      "Old data, using hopkins formats\n",
      "behavior_ZS059_2021-04-01_14-17-46\n",
      "Processed behavior_ZS059_2021-04-01_14-17-46\n",
      "Old data, using hopkins formats\n",
      "Old data, using hopkins formats\n",
      "Old data, using hopkins formats\n",
      "behavior_ZS059_2021-04-04_15-23-14\n",
      "Processed behavior_ZS059_2021-04-04_15-23-14\n",
      "Old data, using hopkins formats\n",
      "Old data, using hopkins formats\n",
      "Old data, using hopkins formats\n",
      "behavior_ZS059_2021-04-03_16-30-45\n",
      "Processed behavior_ZS059_2021-04-03_16-30-45\n",
      "Old data, using hopkins formats\n",
      "Old data, using hopkins formats\n",
      "Old data, using hopkins formats\n",
      "behavior_ZS059_2021-04-05_14-33-48\n",
      "Processed behavior_ZS059_2021-04-05_14-33-48\n",
      "Old data, using hopkins formats\n",
      "Old data, using hopkins formats\n",
      "Old data, using hopkins formats\n",
      "behavior_ZS059_2021-04-07_13-58-21\n",
      "Processed behavior_ZS059_2021-04-07_13-58-21\n",
      "Old data, using hopkins formats\n",
      "Old data, using hopkins formats\n",
      "Old data, using hopkins formats\n",
      "behavior_ZS059_2021-04-06_14-30-26\n",
      "Processed behavior_ZS059_2021-04-06_14-30-26\n",
      "Old data, using hopkins formats\n",
      "Old data, using hopkins formats\n",
      "Old data, using hopkins formats\n",
      "behavior_ZS059_2021-04-09_15-53-45\n",
      "Processed behavior_ZS059_2021-04-09_15-53-45\n",
      "Old data, using hopkins formats\n",
      "Old data, using hopkins formats\n",
      "Old data, using hopkins formats\n",
      "behavior_ZS059_2021-04-08_15-53-36\n",
      "Processed behavior_ZS059_2021-04-08_15-53-36\n",
      "Old data, using hopkins formats\n",
      "Old data, using hopkins formats\n",
      "Old data, using hopkins formats\n",
      "behavior_ZS059_2021-04-11_15-41-45\n",
      "Processed behavior_ZS059_2021-04-11_15-41-45\n",
      "Old data, using hopkins formats\n",
      "Old data, using hopkins formats\n",
      "Old data, using hopkins formats\n",
      "behavior_ZS059_2021-04-12_14-57-43\n",
      "Processed behavior_ZS059_2021-04-12_14-57-43\n",
      "Old data, using hopkins formats\n",
      "Old data, using hopkins formats\n",
      "Old data, using hopkins formats\n",
      "behavior_ZS059_2021-04-10_15-55-11\n",
      "Processed behavior_ZS059_2021-04-10_15-55-11\n",
      "Old data, using hopkins formats\n",
      "Old data, using hopkins formats\n",
      "Old data, using hopkins formats\n",
      "behavior_ZS059_2021-04-13_15-43-53\n",
      "Processed behavior_ZS059_2021-04-13_15-43-53\n",
      "Old data, using hopkins formats\n",
      "Old data, using hopkins formats\n",
      "Old data, using hopkins formats\n",
      "behavior_ZS059_2021-04-15_15-29-28\n",
      "Processed behavior_ZS059_2021-04-15_15-29-28\n",
      "Old data, using hopkins formats\n",
      "Old data, using hopkins formats\n",
      "Old data, using hopkins formats\n",
      "behavior_ZS059_2021-04-16_14-50-15\n",
      "Processed behavior_ZS059_2021-04-16_14-50-15\n",
      "Old data, using hopkins formats\n",
      "Old data, using hopkins formats\n",
      "Old data, using hopkins formats\n",
      "behavior_ZS059_2021-04-14_14-51-04\n",
      "Processed behavior_ZS059_2021-04-14_14-51-04\n",
      "Old data, using hopkins formats\n",
      "Old data, using hopkins formats\n",
      "Old data, using hopkins formats\n",
      "behavior_ZS059_2021-04-20_14-50-03\n",
      "Processed behavior_ZS059_2021-04-20_14-50-03\n",
      "Old data, using hopkins formats\n",
      "Old data, using hopkins formats\n",
      "Old data, using hopkins formats\n",
      "behavior_ZS059_2021-04-17_15-44-53\n",
      "Processed behavior_ZS059_2021-04-17_15-44-53\n",
      "Old data, using hopkins formats\n",
      "Old data, using hopkins formats\n",
      "Old data, using hopkins formats\n",
      "behavior_ZS059_2021-04-21_15-58-55\n",
      "Processed behavior_ZS059_2021-04-21_15-58-55\n",
      "Old data, using hopkins formats\n",
      "No raw session directory found for behavior_ZS059_2021-04-18_17-26-19.\n",
      "Old data, using hopkins formats\n",
      "No raw session directory found for behavior_ZS059_2021-04-18_17-26-19.\n",
      "Old data, using hopkins formats\n",
      "No raw session directory found for behavior_ZS059_2021-04-18_17-26-19.\n",
      "behavior_ZS059_2021-04-18_17-26-19\n"
     ]
    }
   ],
   "source": [
    "# make summary unit table\n",
    "make_summary_unit_tbl(session_id)"
   ]
  },
  {
   "cell_type": "code",
   "execution_count": 6,
   "metadata": {},
   "outputs": [],
   "source": [
    "# get summary unit table's columns\n",
    "example_tbl = get_unit_tbl('behavior_761038_2025-04-15_10-25-11', 'curated')\n",
    "col_list = example_tbl.columns.tolist()\n",
    "with open(\"summary_col_list.json\", \"w\") as f:\n",
    "    json.dump(col_list, f)"
   ]
  },
  {
   "cell_type": "code",
   "execution_count": 7,
   "metadata": {},
   "outputs": [
    {
     "name": "stderr",
     "output_type": "stream",
     "text": [
      "/opt/conda/lib/python3.10/site-packages/aind_dynamic_foraging_basic_analysis/plot/plot_foraging_session.py:497: UserWarning: This figure includes Axes that are not compatible with tight_layout, so results might be incorrect.\n",
      "  plt.tight_layout()\n"
     ]
    }
   ],
   "source": [
    "plot_unit_beh_session('behavior_ZS061_2021-04-20_15-49-57', align_name='go_cue')"
   ]
  },
  {
   "cell_type": "code",
   "execution_count": 2,
   "metadata": {},
   "outputs": [],
   "source": [
    "# get session list\n",
    "session_df = pd.read_csv('/root/capsule/code/data_management/hopkins_session_assets.csv')\n",
    "session_ids = session_df['session_id'].to_list()"
   ]
  },
  {
   "cell_type": "code",
   "execution_count": 4,
   "metadata": {},
   "outputs": [],
   "source": [
    "def process(session_id):\n",
    "    session_dir = session_dirs(session_id);\n",
    "    if os.path.exists(session_dir['nwb_dir_raw']) and get_unit_tbl(session_id, 'curated') is not None:\n",
    "        # try:\n",
    "        # transfer_nwb(session_id);\n",
    "        # beh_and_time_alignment_hopkins(session_id, ephys_cut=[0, 0]);\n",
    "        # make_summary_unit_tbl(session)\n",
    "        plot_unit_beh_session(session_id, align_name='go_cue')\n",
    "        plot_unit_beh_session(session_id, align_name='response')\n",
    "        # plot_alignments(session_id)\n",
    "        print(f'Processed {session_id}')\n",
    "        plt.close('all')\n",
    "        # except:\n",
    "        #     print(f'{session_id} failed')"
   ]
  },
  {
   "cell_type": "code",
   "execution_count": 11,
   "metadata": {},
   "outputs": [],
   "source": [
    "beh_and_time_alignment_hopkins('behavior_ZS061_2021-03-18_17-39-19', ephys_cut=[0, 0])"
   ]
  },
  {
   "cell_type": "code",
   "execution_count": 5,
   "metadata": {},
   "outputs": [
    {
     "name": "stdout",
     "output_type": "stream",
     "text": [
      "Old data, using hopkins formats\n",
      "Old data, using hopkins formats\n",
      "Old data, using hopkins formats\n",
      "Old data, using hopkins formats\n",
      "Old data, using hopkins formats\n",
      "Old data, using hopkins formats\n",
      "Old data, using hopkins formats\n",
      "Old data, using hopkins formats\n",
      "Old data, using hopkins formats\n",
      "Plotting unit TT4_SS_01\n"
     ]
    },
    {
     "name": "stderr",
     "output_type": "stream",
     "text": [
      "/opt/conda/lib/python3.10/site-packages/aind_dynamic_foraging_basic_analysis/plot/plot_foraging_session.py:497: UserWarning: This figure includes Axes that are not compatible with tight_layout, so results might be incorrect.\n",
      "  plt.tight_layout()\n"
     ]
    },
    {
     "name": "stdout",
     "output_type": "stream",
     "text": [
      "Old data, using hopkins formats\n",
      "Combining behavior_ZS059_2021-03-29_14-41-57\n",
      "Processing 2 files in /root/capsule/scratch/ZS059/behavior_ZS059_2021-03-29_14-41-57/ephys/curated/figures/go_cue\n",
      "Combined PDF saved as: /root/capsule/scratch/ZS059/behavior_ZS059_2021-03-29_14-41-57/ephys/curated/behavior_ZS059_2021-03-29_14-41-57_unit_beh_go_cue.pdf\n",
      "Old data, using hopkins formats\n",
      "Old data, using hopkins formats\n",
      "Old data, using hopkins formats\n",
      "Old data, using hopkins formats\n",
      "Old data, using hopkins formats\n",
      "Old data, using hopkins formats\n",
      "Plotting unit TT4_SS_01\n"
     ]
    },
    {
     "name": "stderr",
     "output_type": "stream",
     "text": [
      "/opt/conda/lib/python3.10/site-packages/aind_dynamic_foraging_basic_analysis/plot/plot_foraging_session.py:497: UserWarning: This figure includes Axes that are not compatible with tight_layout, so results might be incorrect.\n",
      "  plt.tight_layout()\n"
     ]
    },
    {
     "name": "stdout",
     "output_type": "stream",
     "text": [
      "Old data, using hopkins formats\n",
      "Combining behavior_ZS059_2021-03-29_14-41-57\n",
      "Processing 2 files in /root/capsule/scratch/ZS059/behavior_ZS059_2021-03-29_14-41-57/ephys/curated/figures/response\n",
      "Combined PDF saved as: /root/capsule/scratch/ZS059/behavior_ZS059_2021-03-29_14-41-57/ephys/curated/behavior_ZS059_2021-03-29_14-41-57_unit_beh_response.pdf\n",
      "Processed behavior_ZS059_2021-03-29_14-41-57\n",
      "Old data, using hopkins formats\n",
      "Old data, using hopkins formats\n",
      "Old data, using hopkins formats\n",
      "Old data, using hopkins formats\n",
      "Old data, using hopkins formats\n",
      "Old data, using hopkins formats\n",
      "Old data, using hopkins formats\n",
      "Old data, using hopkins formats\n",
      "Old data, using hopkins formats\n",
      "Old data, using hopkins formats\n",
      "Plotting unit TT4_SS_04\n",
      "Plotting unit TT4_SS_01\n"
     ]
    },
    {
     "name": "stderr",
     "output_type": "stream",
     "text": [
      "/opt/conda/lib/python3.10/site-packages/aind_dynamic_foraging_basic_analysis/plot/plot_foraging_session.py:497: UserWarning: This figure includes Axes that are not compatible with tight_layout, so results might be incorrect.\n",
      "  plt.tight_layout()\n",
      "/opt/conda/lib/python3.10/site-packages/aind_dynamic_foraging_basic_analysis/plot/plot_foraging_session.py:497: UserWarning: This figure includes Axes that are not compatible with tight_layout, so results might be incorrect.\n",
      "  plt.tight_layout()\n"
     ]
    },
    {
     "name": "stdout",
     "output_type": "stream",
     "text": [
      "Old data, using hopkins formats\n",
      "Combining behavior_ZS059_2021-03-30_14-57-13\n",
      "Processing 3 files in /root/capsule/scratch/ZS059/behavior_ZS059_2021-03-30_14-57-13/ephys/curated/figures/go_cue\n",
      "Combined PDF saved as: /root/capsule/scratch/ZS059/behavior_ZS059_2021-03-30_14-57-13/ephys/curated/behavior_ZS059_2021-03-30_14-57-13_unit_beh_go_cue.pdf\n",
      "Old data, using hopkins formats\n",
      "Old data, using hopkins formats\n",
      "Old data, using hopkins formats\n",
      "Old data, using hopkins formats\n",
      "Old data, using hopkins formats\n",
      "Old data, using hopkins formats\n",
      "Old data, using hopkins formats\n",
      "Plotting unit TT4_SS_01\n",
      "Plotting unit TT4_SS_04\n"
     ]
    },
    {
     "name": "stderr",
     "output_type": "stream",
     "text": [
      "/opt/conda/lib/python3.10/site-packages/aind_dynamic_foraging_basic_analysis/plot/plot_foraging_session.py:497: UserWarning: This figure includes Axes that are not compatible with tight_layout, so results might be incorrect.\n",
      "  plt.tight_layout()\n",
      "/opt/conda/lib/python3.10/site-packages/aind_dynamic_foraging_basic_analysis/plot/plot_foraging_session.py:497: UserWarning: This figure includes Axes that are not compatible with tight_layout, so results might be incorrect.\n",
      "  plt.tight_layout()\n"
     ]
    },
    {
     "name": "stdout",
     "output_type": "stream",
     "text": [
      "Old data, using hopkins formats\n",
      "Combining behavior_ZS059_2021-03-30_14-57-13\n",
      "Processing 3 files in /root/capsule/scratch/ZS059/behavior_ZS059_2021-03-30_14-57-13/ephys/curated/figures/response\n",
      "Combined PDF saved as: /root/capsule/scratch/ZS059/behavior_ZS059_2021-03-30_14-57-13/ephys/curated/behavior_ZS059_2021-03-30_14-57-13_unit_beh_response.pdf\n",
      "Processed behavior_ZS059_2021-03-30_14-57-13\n",
      "Old data, using hopkins formats\n",
      "Old data, using hopkins formats\n",
      "Old data, using hopkins formats\n",
      "Old data, using hopkins formats\n",
      "Old data, using hopkins formats\n",
      "Old data, using hopkins formats\n",
      "Old data, using hopkins formats\n",
      "Old data, using hopkins formats\n",
      "Old data, using hopkins formats\n",
      "Plotting unit TT4_SS_02\n"
     ]
    },
    {
     "name": "stderr",
     "output_type": "stream",
     "text": [
      "/opt/conda/lib/python3.10/site-packages/aind_dynamic_foraging_basic_analysis/plot/plot_foraging_session.py:497: UserWarning: This figure includes Axes that are not compatible with tight_layout, so results might be incorrect.\n",
      "  plt.tight_layout()\n"
     ]
    },
    {
     "name": "stdout",
     "output_type": "stream",
     "text": [
      "Old data, using hopkins formats\n",
      "Combining behavior_ZS059_2021-03-31_14-32-51\n",
      "Processing 2 files in /root/capsule/scratch/ZS059/behavior_ZS059_2021-03-31_14-32-51/ephys/curated/figures/go_cue\n",
      "Combined PDF saved as: /root/capsule/scratch/ZS059/behavior_ZS059_2021-03-31_14-32-51/ephys/curated/behavior_ZS059_2021-03-31_14-32-51_unit_beh_go_cue.pdf\n",
      "Old data, using hopkins formats\n",
      "Old data, using hopkins formats\n",
      "Old data, using hopkins formats\n",
      "Old data, using hopkins formats\n",
      "Old data, using hopkins formats\n",
      "Old data, using hopkins formats\n",
      "Plotting unit TT4_SS_02\n"
     ]
    },
    {
     "name": "stderr",
     "output_type": "stream",
     "text": [
      "/opt/conda/lib/python3.10/site-packages/aind_dynamic_foraging_basic_analysis/plot/plot_foraging_session.py:497: UserWarning: This figure includes Axes that are not compatible with tight_layout, so results might be incorrect.\n",
      "  plt.tight_layout()\n"
     ]
    },
    {
     "name": "stdout",
     "output_type": "stream",
     "text": [
      "Old data, using hopkins formats\n",
      "Combining behavior_ZS059_2021-03-31_14-32-51\n",
      "Processing 2 files in /root/capsule/scratch/ZS059/behavior_ZS059_2021-03-31_14-32-51/ephys/curated/figures/response\n",
      "Combined PDF saved as: /root/capsule/scratch/ZS059/behavior_ZS059_2021-03-31_14-32-51/ephys/curated/behavior_ZS059_2021-03-31_14-32-51_unit_beh_response.pdf\n",
      "Processed behavior_ZS059_2021-03-31_14-32-51\n",
      "Old data, using hopkins formats\n",
      "Old data, using hopkins formats\n",
      "Old data, using hopkins formats\n",
      "No unit table found for behavior_ZS059_2021-04-02_15-05-16 in curated data.\n",
      "Old data, using hopkins formats\n",
      "Old data, using hopkins formats\n",
      "Old data, using hopkins formats\n",
      "Old data, using hopkins formats\n",
      "Old data, using hopkins formats\n",
      "Old data, using hopkins formats\n",
      "Old data, using hopkins formats\n",
      "Old data, using hopkins formats\n",
      "Old data, using hopkins formats\n",
      "Plotting unit TT4_SS_01\n"
     ]
    },
    {
     "name": "stderr",
     "output_type": "stream",
     "text": [
      "/opt/conda/lib/python3.10/site-packages/aind_dynamic_foraging_basic_analysis/plot/plot_foraging_session.py:497: UserWarning: This figure includes Axes that are not compatible with tight_layout, so results might be incorrect.\n",
      "  plt.tight_layout()\n"
     ]
    },
    {
     "name": "stdout",
     "output_type": "stream",
     "text": [
      "Old data, using hopkins formats\n",
      "Combining behavior_ZS059_2021-04-01_14-17-46\n",
      "Processing 2 files in /root/capsule/scratch/ZS059/behavior_ZS059_2021-04-01_14-17-46/ephys/curated/figures/go_cue\n",
      "Combined PDF saved as: /root/capsule/scratch/ZS059/behavior_ZS059_2021-04-01_14-17-46/ephys/curated/behavior_ZS059_2021-04-01_14-17-46_unit_beh_go_cue.pdf\n",
      "Old data, using hopkins formats\n",
      "Old data, using hopkins formats\n",
      "Old data, using hopkins formats\n",
      "Old data, using hopkins formats\n",
      "Old data, using hopkins formats\n",
      "Old data, using hopkins formats\n",
      "Plotting unit TT4_SS_01\n"
     ]
    },
    {
     "name": "stderr",
     "output_type": "stream",
     "text": [
      "/opt/conda/lib/python3.10/site-packages/aind_dynamic_foraging_basic_analysis/plot/plot_foraging_session.py:497: UserWarning: This figure includes Axes that are not compatible with tight_layout, so results might be incorrect.\n",
      "  plt.tight_layout()\n"
     ]
    },
    {
     "name": "stdout",
     "output_type": "stream",
     "text": [
      "Old data, using hopkins formats\n",
      "Combining behavior_ZS059_2021-04-01_14-17-46\n",
      "Processing 2 files in /root/capsule/scratch/ZS059/behavior_ZS059_2021-04-01_14-17-46/ephys/curated/figures/response\n",
      "Combined PDF saved as: /root/capsule/scratch/ZS059/behavior_ZS059_2021-04-01_14-17-46/ephys/curated/behavior_ZS059_2021-04-01_14-17-46_unit_beh_response.pdf\n",
      "Processed behavior_ZS059_2021-04-01_14-17-46\n",
      "Old data, using hopkins formats\n",
      "Old data, using hopkins formats\n",
      "Old data, using hopkins formats\n",
      "No unit table found for behavior_ZS059_2021-04-04_15-23-14 in curated data.\n",
      "Old data, using hopkins formats\n",
      "Old data, using hopkins formats\n",
      "Old data, using hopkins formats\n",
      "No unit table found for behavior_ZS059_2021-04-03_16-30-45 in curated data.\n",
      "Old data, using hopkins formats\n",
      "Old data, using hopkins formats\n",
      "Old data, using hopkins formats\n",
      "No unit table found for behavior_ZS059_2021-04-05_14-33-48 in curated data.\n",
      "Old data, using hopkins formats\n",
      "Old data, using hopkins formats\n",
      "Old data, using hopkins formats\n",
      "No unit table found for behavior_ZS059_2021-04-07_13-58-21 in curated data.\n",
      "Old data, using hopkins formats\n",
      "Old data, using hopkins formats\n",
      "Old data, using hopkins formats\n",
      "Old data, using hopkins formats\n",
      "Old data, using hopkins formats\n",
      "Old data, using hopkins formats\n",
      "Old data, using hopkins formats\n",
      "Old data, using hopkins formats\n",
      "Old data, using hopkins formats\n",
      "Old data, using hopkins formats\n",
      "Plotting unit TT4_SS_01\n",
      "Plotting unit TT4_SS_02\n"
     ]
    },
    {
     "name": "stderr",
     "output_type": "stream",
     "text": [
      "/opt/conda/lib/python3.10/site-packages/aind_dynamic_foraging_basic_analysis/plot/plot_foraging_session.py:497: UserWarning: This figure includes Axes that are not compatible with tight_layout, so results might be incorrect.\n",
      "  plt.tight_layout()\n",
      "/opt/conda/lib/python3.10/site-packages/aind_dynamic_foraging_basic_analysis/plot/plot_foraging_session.py:497: UserWarning: This figure includes Axes that are not compatible with tight_layout, so results might be incorrect.\n",
      "  plt.tight_layout()\n"
     ]
    },
    {
     "name": "stdout",
     "output_type": "stream",
     "text": [
      "Old data, using hopkins formats\n",
      "Combining behavior_ZS059_2021-04-06_14-30-26\n",
      "Processing 3 files in /root/capsule/scratch/ZS059/behavior_ZS059_2021-04-06_14-30-26/ephys/curated/figures/go_cue\n",
      "Combined PDF saved as: /root/capsule/scratch/ZS059/behavior_ZS059_2021-04-06_14-30-26/ephys/curated/behavior_ZS059_2021-04-06_14-30-26_unit_beh_go_cue.pdf\n",
      "Old data, using hopkins formats\n",
      "Old data, using hopkins formats\n",
      "Old data, using hopkins formats\n",
      "Old data, using hopkins formats\n",
      "Old data, using hopkins formats\n",
      "Old data, using hopkins formats\n",
      "Old data, using hopkins formats\n",
      "Plotting unit TT4_SS_01\n",
      "Plotting unit TT4_SS_02\n"
     ]
    },
    {
     "name": "stderr",
     "output_type": "stream",
     "text": [
      "/opt/conda/lib/python3.10/site-packages/aind_dynamic_foraging_basic_analysis/plot/plot_foraging_session.py:497: UserWarning: This figure includes Axes that are not compatible with tight_layout, so results might be incorrect.\n",
      "  plt.tight_layout()\n",
      "/opt/conda/lib/python3.10/site-packages/aind_dynamic_foraging_basic_analysis/plot/plot_foraging_session.py:497: UserWarning: This figure includes Axes that are not compatible with tight_layout, so results might be incorrect.\n",
      "  plt.tight_layout()\n"
     ]
    },
    {
     "name": "stdout",
     "output_type": "stream",
     "text": [
      "Old data, using hopkins formats\n",
      "Combining behavior_ZS059_2021-04-06_14-30-26\n",
      "Processing 3 files in /root/capsule/scratch/ZS059/behavior_ZS059_2021-04-06_14-30-26/ephys/curated/figures/response\n",
      "Combined PDF saved as: /root/capsule/scratch/ZS059/behavior_ZS059_2021-04-06_14-30-26/ephys/curated/behavior_ZS059_2021-04-06_14-30-26_unit_beh_response.pdf\n",
      "Processed behavior_ZS059_2021-04-06_14-30-26\n",
      "Old data, using hopkins formats\n",
      "Old data, using hopkins formats\n",
      "Old data, using hopkins formats\n",
      "Old data, using hopkins formats\n",
      "Old data, using hopkins formats\n",
      "Old data, using hopkins formats\n",
      "Old data, using hopkins formats\n",
      "Old data, using hopkins formats\n",
      "Old data, using hopkins formats\n",
      "Plotting unit TT4_SS_01\n"
     ]
    },
    {
     "name": "stderr",
     "output_type": "stream",
     "text": [
      "/opt/conda/lib/python3.10/site-packages/aind_dynamic_foraging_basic_analysis/plot/plot_foraging_session.py:497: UserWarning: This figure includes Axes that are not compatible with tight_layout, so results might be incorrect.\n",
      "  plt.tight_layout()\n"
     ]
    },
    {
     "name": "stdout",
     "output_type": "stream",
     "text": [
      "Old data, using hopkins formats\n",
      "Combining behavior_ZS059_2021-04-09_15-53-45\n",
      "Processing 2 files in /root/capsule/scratch/ZS059/behavior_ZS059_2021-04-09_15-53-45/ephys/curated/figures/go_cue\n",
      "Combined PDF saved as: /root/capsule/scratch/ZS059/behavior_ZS059_2021-04-09_15-53-45/ephys/curated/behavior_ZS059_2021-04-09_15-53-45_unit_beh_go_cue.pdf\n",
      "Old data, using hopkins formats\n",
      "Old data, using hopkins formats\n",
      "Old data, using hopkins formats\n",
      "Old data, using hopkins formats\n",
      "Old data, using hopkins formats\n",
      "Old data, using hopkins formats\n",
      "Plotting unit TT4_SS_01\n"
     ]
    },
    {
     "name": "stderr",
     "output_type": "stream",
     "text": [
      "/opt/conda/lib/python3.10/site-packages/aind_dynamic_foraging_basic_analysis/plot/plot_foraging_session.py:497: UserWarning: This figure includes Axes that are not compatible with tight_layout, so results might be incorrect.\n",
      "  plt.tight_layout()\n"
     ]
    },
    {
     "name": "stdout",
     "output_type": "stream",
     "text": [
      "Old data, using hopkins formats\n",
      "Combining behavior_ZS059_2021-04-09_15-53-45\n",
      "Processing 2 files in /root/capsule/scratch/ZS059/behavior_ZS059_2021-04-09_15-53-45/ephys/curated/figures/response\n",
      "Combined PDF saved as: /root/capsule/scratch/ZS059/behavior_ZS059_2021-04-09_15-53-45/ephys/curated/behavior_ZS059_2021-04-09_15-53-45_unit_beh_response.pdf\n",
      "Processed behavior_ZS059_2021-04-09_15-53-45\n",
      "Old data, using hopkins formats\n",
      "Old data, using hopkins formats\n",
      "Old data, using hopkins formats\n",
      "Old data, using hopkins formats\n",
      "Old data, using hopkins formats\n",
      "Old data, using hopkins formats\n",
      "Old data, using hopkins formats\n",
      "Old data, using hopkins formats\n",
      "Old data, using hopkins formats\n",
      "Plotting unit TT4_SS_01\n"
     ]
    },
    {
     "name": "stderr",
     "output_type": "stream",
     "text": [
      "/opt/conda/lib/python3.10/site-packages/aind_dynamic_foraging_basic_analysis/plot/plot_foraging_session.py:497: UserWarning: This figure includes Axes that are not compatible with tight_layout, so results might be incorrect.\n",
      "  plt.tight_layout()\n"
     ]
    },
    {
     "name": "stdout",
     "output_type": "stream",
     "text": [
      "Old data, using hopkins formats\n",
      "Combining behavior_ZS059_2021-04-08_15-53-36\n",
      "Processing 2 files in /root/capsule/scratch/ZS059/behavior_ZS059_2021-04-08_15-53-36/ephys/curated/figures/go_cue\n",
      "Combined PDF saved as: /root/capsule/scratch/ZS059/behavior_ZS059_2021-04-08_15-53-36/ephys/curated/behavior_ZS059_2021-04-08_15-53-36_unit_beh_go_cue.pdf\n",
      "Old data, using hopkins formats\n",
      "Old data, using hopkins formats\n",
      "Old data, using hopkins formats\n",
      "Old data, using hopkins formats\n",
      "Old data, using hopkins formats\n",
      "Old data, using hopkins formats\n",
      "Plotting unit TT4_SS_01\n"
     ]
    },
    {
     "name": "stderr",
     "output_type": "stream",
     "text": [
      "/opt/conda/lib/python3.10/site-packages/aind_dynamic_foraging_basic_analysis/plot/plot_foraging_session.py:497: UserWarning: This figure includes Axes that are not compatible with tight_layout, so results might be incorrect.\n",
      "  plt.tight_layout()\n"
     ]
    },
    {
     "name": "stdout",
     "output_type": "stream",
     "text": [
      "Old data, using hopkins formats\n",
      "Combining behavior_ZS059_2021-04-08_15-53-36\n",
      "Processing 2 files in /root/capsule/scratch/ZS059/behavior_ZS059_2021-04-08_15-53-36/ephys/curated/figures/response\n",
      "Combined PDF saved as: /root/capsule/scratch/ZS059/behavior_ZS059_2021-04-08_15-53-36/ephys/curated/behavior_ZS059_2021-04-08_15-53-36_unit_beh_response.pdf\n",
      "Processed behavior_ZS059_2021-04-08_15-53-36\n",
      "Old data, using hopkins formats\n",
      "Old data, using hopkins formats\n",
      "Old data, using hopkins formats\n",
      "Old data, using hopkins formats\n",
      "Old data, using hopkins formats\n",
      "Old data, using hopkins formats\n",
      "Old data, using hopkins formats\n",
      "Old data, using hopkins formats\n",
      "Old data, using hopkins formats\n",
      "Plotting unit TT4_SS_01\n"
     ]
    },
    {
     "name": "stderr",
     "output_type": "stream",
     "text": [
      "/opt/conda/lib/python3.10/site-packages/aind_dynamic_foraging_basic_analysis/plot/plot_foraging_session.py:497: UserWarning: This figure includes Axes that are not compatible with tight_layout, so results might be incorrect.\n",
      "  plt.tight_layout()\n"
     ]
    },
    {
     "name": "stdout",
     "output_type": "stream",
     "text": [
      "Old data, using hopkins formats\n",
      "Combining behavior_ZS059_2021-04-11_15-41-45\n",
      "Processing 2 files in /root/capsule/scratch/ZS059/behavior_ZS059_2021-04-11_15-41-45/ephys/curated/figures/go_cue\n",
      "Combined PDF saved as: /root/capsule/scratch/ZS059/behavior_ZS059_2021-04-11_15-41-45/ephys/curated/behavior_ZS059_2021-04-11_15-41-45_unit_beh_go_cue.pdf\n",
      "Old data, using hopkins formats\n",
      "Old data, using hopkins formats\n",
      "Old data, using hopkins formats\n",
      "Old data, using hopkins formats\n",
      "Old data, using hopkins formats\n",
      "Old data, using hopkins formats\n",
      "Plotting unit TT4_SS_01\n"
     ]
    },
    {
     "name": "stderr",
     "output_type": "stream",
     "text": [
      "/opt/conda/lib/python3.10/site-packages/aind_dynamic_foraging_basic_analysis/plot/plot_foraging_session.py:497: UserWarning: This figure includes Axes that are not compatible with tight_layout, so results might be incorrect.\n",
      "  plt.tight_layout()\n"
     ]
    },
    {
     "name": "stdout",
     "output_type": "stream",
     "text": [
      "Old data, using hopkins formats\n",
      "Combining behavior_ZS059_2021-04-11_15-41-45\n",
      "Processing 2 files in /root/capsule/scratch/ZS059/behavior_ZS059_2021-04-11_15-41-45/ephys/curated/figures/response\n",
      "Combined PDF saved as: /root/capsule/scratch/ZS059/behavior_ZS059_2021-04-11_15-41-45/ephys/curated/behavior_ZS059_2021-04-11_15-41-45_unit_beh_response.pdf\n",
      "Processed behavior_ZS059_2021-04-11_15-41-45\n",
      "Old data, using hopkins formats\n",
      "Old data, using hopkins formats\n",
      "Old data, using hopkins formats\n",
      "Old data, using hopkins formats\n",
      "Old data, using hopkins formats\n",
      "Old data, using hopkins formats\n",
      "Old data, using hopkins formats\n",
      "Old data, using hopkins formats\n",
      "Old data, using hopkins formats\n",
      "Plotting unit TT4_SS_01\n"
     ]
    },
    {
     "name": "stderr",
     "output_type": "stream",
     "text": [
      "/opt/conda/lib/python3.10/site-packages/aind_dynamic_foraging_basic_analysis/plot/plot_foraging_session.py:497: UserWarning: This figure includes Axes that are not compatible with tight_layout, so results might be incorrect.\n",
      "  plt.tight_layout()\n"
     ]
    },
    {
     "name": "stdout",
     "output_type": "stream",
     "text": [
      "Old data, using hopkins formats\n",
      "Combining behavior_ZS059_2021-04-12_14-57-43\n",
      "Processing 2 files in /root/capsule/scratch/ZS059/behavior_ZS059_2021-04-12_14-57-43/ephys/curated/figures/go_cue\n",
      "Combined PDF saved as: /root/capsule/scratch/ZS059/behavior_ZS059_2021-04-12_14-57-43/ephys/curated/behavior_ZS059_2021-04-12_14-57-43_unit_beh_go_cue.pdf\n",
      "Old data, using hopkins formats\n",
      "Old data, using hopkins formats\n",
      "Old data, using hopkins formats\n",
      "Old data, using hopkins formats\n",
      "Old data, using hopkins formats\n",
      "Old data, using hopkins formats\n",
      "Plotting unit TT4_SS_01\n"
     ]
    },
    {
     "name": "stderr",
     "output_type": "stream",
     "text": [
      "/opt/conda/lib/python3.10/site-packages/aind_dynamic_foraging_basic_analysis/plot/plot_foraging_session.py:497: UserWarning: This figure includes Axes that are not compatible with tight_layout, so results might be incorrect.\n",
      "  plt.tight_layout()\n"
     ]
    },
    {
     "name": "stdout",
     "output_type": "stream",
     "text": [
      "Old data, using hopkins formats\n",
      "Combining behavior_ZS059_2021-04-12_14-57-43\n",
      "Processing 2 files in /root/capsule/scratch/ZS059/behavior_ZS059_2021-04-12_14-57-43/ephys/curated/figures/response\n",
      "Combined PDF saved as: /root/capsule/scratch/ZS059/behavior_ZS059_2021-04-12_14-57-43/ephys/curated/behavior_ZS059_2021-04-12_14-57-43_unit_beh_response.pdf\n",
      "Processed behavior_ZS059_2021-04-12_14-57-43\n",
      "Old data, using hopkins formats\n",
      "Old data, using hopkins formats\n",
      "Old data, using hopkins formats\n",
      "Old data, using hopkins formats\n",
      "Old data, using hopkins formats\n",
      "Old data, using hopkins formats\n",
      "Old data, using hopkins formats\n",
      "Old data, using hopkins formats\n",
      "Old data, using hopkins formats\n",
      "Plotting unit TT4_SS_01\n"
     ]
    },
    {
     "name": "stderr",
     "output_type": "stream",
     "text": [
      "/opt/conda/lib/python3.10/site-packages/aind_dynamic_foraging_basic_analysis/plot/plot_foraging_session.py:497: UserWarning: This figure includes Axes that are not compatible with tight_layout, so results might be incorrect.\n",
      "  plt.tight_layout()\n"
     ]
    },
    {
     "name": "stdout",
     "output_type": "stream",
     "text": [
      "Old data, using hopkins formats\n",
      "Combining behavior_ZS059_2021-04-10_15-55-11\n",
      "Processing 2 files in /root/capsule/scratch/ZS059/behavior_ZS059_2021-04-10_15-55-11/ephys/curated/figures/go_cue\n",
      "Combined PDF saved as: /root/capsule/scratch/ZS059/behavior_ZS059_2021-04-10_15-55-11/ephys/curated/behavior_ZS059_2021-04-10_15-55-11_unit_beh_go_cue.pdf\n",
      "Old data, using hopkins formats\n",
      "Old data, using hopkins formats\n",
      "Old data, using hopkins formats\n",
      "Old data, using hopkins formats\n",
      "Old data, using hopkins formats\n",
      "Old data, using hopkins formats\n",
      "Plotting unit TT4_SS_01\n"
     ]
    },
    {
     "name": "stderr",
     "output_type": "stream",
     "text": [
      "/opt/conda/lib/python3.10/site-packages/aind_dynamic_foraging_basic_analysis/plot/plot_foraging_session.py:497: UserWarning: This figure includes Axes that are not compatible with tight_layout, so results might be incorrect.\n",
      "  plt.tight_layout()\n"
     ]
    },
    {
     "name": "stdout",
     "output_type": "stream",
     "text": [
      "Old data, using hopkins formats\n",
      "Combining behavior_ZS059_2021-04-10_15-55-11\n",
      "Processing 2 files in /root/capsule/scratch/ZS059/behavior_ZS059_2021-04-10_15-55-11/ephys/curated/figures/response\n",
      "Combined PDF saved as: /root/capsule/scratch/ZS059/behavior_ZS059_2021-04-10_15-55-11/ephys/curated/behavior_ZS059_2021-04-10_15-55-11_unit_beh_response.pdf\n",
      "Processed behavior_ZS059_2021-04-10_15-55-11\n",
      "Old data, using hopkins formats\n",
      "Old data, using hopkins formats\n",
      "Old data, using hopkins formats\n",
      "Old data, using hopkins formats\n",
      "Old data, using hopkins formats\n",
      "Old data, using hopkins formats\n",
      "Old data, using hopkins formats\n",
      "Old data, using hopkins formats\n",
      "Old data, using hopkins formats\n",
      "Plotting unit TT4_SS_01\n"
     ]
    },
    {
     "name": "stderr",
     "output_type": "stream",
     "text": [
      "/opt/conda/lib/python3.10/site-packages/aind_dynamic_foraging_basic_analysis/plot/plot_foraging_session.py:497: UserWarning: This figure includes Axes that are not compatible with tight_layout, so results might be incorrect.\n",
      "  plt.tight_layout()\n"
     ]
    },
    {
     "name": "stdout",
     "output_type": "stream",
     "text": [
      "Old data, using hopkins formats\n",
      "Combining behavior_ZS059_2021-04-13_15-43-53\n",
      "Processing 2 files in /root/capsule/scratch/ZS059/behavior_ZS059_2021-04-13_15-43-53/ephys/curated/figures/go_cue\n",
      "Combined PDF saved as: /root/capsule/scratch/ZS059/behavior_ZS059_2021-04-13_15-43-53/ephys/curated/behavior_ZS059_2021-04-13_15-43-53_unit_beh_go_cue.pdf\n",
      "Old data, using hopkins formats\n",
      "Old data, using hopkins formats\n",
      "Old data, using hopkins formats\n",
      "Old data, using hopkins formats\n",
      "Old data, using hopkins formats\n",
      "Old data, using hopkins formats\n",
      "Plotting unit TT4_SS_01\n"
     ]
    },
    {
     "name": "stderr",
     "output_type": "stream",
     "text": [
      "/opt/conda/lib/python3.10/site-packages/aind_dynamic_foraging_basic_analysis/plot/plot_foraging_session.py:497: UserWarning: This figure includes Axes that are not compatible with tight_layout, so results might be incorrect.\n",
      "  plt.tight_layout()\n"
     ]
    },
    {
     "name": "stdout",
     "output_type": "stream",
     "text": [
      "Old data, using hopkins formats\n",
      "Combining behavior_ZS059_2021-04-13_15-43-53\n",
      "Processing 2 files in /root/capsule/scratch/ZS059/behavior_ZS059_2021-04-13_15-43-53/ephys/curated/figures/response\n",
      "Combined PDF saved as: /root/capsule/scratch/ZS059/behavior_ZS059_2021-04-13_15-43-53/ephys/curated/behavior_ZS059_2021-04-13_15-43-53_unit_beh_response.pdf\n",
      "Processed behavior_ZS059_2021-04-13_15-43-53\n",
      "Old data, using hopkins formats\n",
      "Old data, using hopkins formats\n",
      "Old data, using hopkins formats\n",
      "Old data, using hopkins formats\n",
      "Old data, using hopkins formats\n",
      "Old data, using hopkins formats\n",
      "Old data, using hopkins formats\n",
      "Old data, using hopkins formats\n",
      "Old data, using hopkins formats\n",
      "Plotting unit TT4_SS_01\n"
     ]
    },
    {
     "name": "stderr",
     "output_type": "stream",
     "text": [
      "/opt/conda/lib/python3.10/site-packages/aind_dynamic_foraging_basic_analysis/plot/plot_foraging_session.py:497: UserWarning: This figure includes Axes that are not compatible with tight_layout, so results might be incorrect.\n",
      "  plt.tight_layout()\n"
     ]
    },
    {
     "name": "stdout",
     "output_type": "stream",
     "text": [
      "Old data, using hopkins formats\n",
      "Combining behavior_ZS059_2021-04-15_15-29-28\n",
      "Processing 2 files in /root/capsule/scratch/ZS059/behavior_ZS059_2021-04-15_15-29-28/ephys/curated/figures/go_cue\n",
      "Combined PDF saved as: /root/capsule/scratch/ZS059/behavior_ZS059_2021-04-15_15-29-28/ephys/curated/behavior_ZS059_2021-04-15_15-29-28_unit_beh_go_cue.pdf\n",
      "Old data, using hopkins formats\n",
      "Old data, using hopkins formats\n",
      "Old data, using hopkins formats\n",
      "Old data, using hopkins formats\n",
      "Old data, using hopkins formats\n",
      "Old data, using hopkins formats\n",
      "Plotting unit TT4_SS_01\n"
     ]
    },
    {
     "name": "stderr",
     "output_type": "stream",
     "text": [
      "/opt/conda/lib/python3.10/site-packages/aind_dynamic_foraging_basic_analysis/plot/plot_foraging_session.py:497: UserWarning: This figure includes Axes that are not compatible with tight_layout, so results might be incorrect.\n",
      "  plt.tight_layout()\n"
     ]
    },
    {
     "name": "stdout",
     "output_type": "stream",
     "text": [
      "Old data, using hopkins formats\n",
      "Combining behavior_ZS059_2021-04-15_15-29-28\n",
      "Processing 2 files in /root/capsule/scratch/ZS059/behavior_ZS059_2021-04-15_15-29-28/ephys/curated/figures/response\n",
      "Combined PDF saved as: /root/capsule/scratch/ZS059/behavior_ZS059_2021-04-15_15-29-28/ephys/curated/behavior_ZS059_2021-04-15_15-29-28_unit_beh_response.pdf\n",
      "Processed behavior_ZS059_2021-04-15_15-29-28\n",
      "Old data, using hopkins formats\n",
      "Old data, using hopkins formats\n",
      "Old data, using hopkins formats\n",
      "No unit table found for behavior_ZS059_2021-04-16_14-50-15 in curated data.\n",
      "Old data, using hopkins formats\n",
      "Old data, using hopkins formats\n",
      "Old data, using hopkins formats\n",
      "No unit table found for behavior_ZS059_2021-04-14_14-51-04 in curated data.\n",
      "Old data, using hopkins formats\n",
      "Old data, using hopkins formats\n",
      "Old data, using hopkins formats\n",
      "Old data, using hopkins formats\n",
      "Old data, using hopkins formats\n",
      "Old data, using hopkins formats\n",
      "Old data, using hopkins formats\n",
      "Old data, using hopkins formats\n",
      "Old data, using hopkins formats\n",
      "Old data, using hopkins formats\n",
      "Plotting unit TT4_SS_01\n",
      "Plotting unit TT3_SS_01\n"
     ]
    },
    {
     "name": "stderr",
     "output_type": "stream",
     "text": [
      "/opt/conda/lib/python3.10/site-packages/aind_dynamic_foraging_basic_analysis/plot/plot_foraging_session.py:497: UserWarning: This figure includes Axes that are not compatible with tight_layout, so results might be incorrect.\n",
      "  plt.tight_layout()\n",
      "/opt/conda/lib/python3.10/site-packages/aind_dynamic_foraging_basic_analysis/plot/plot_foraging_session.py:497: UserWarning: This figure includes Axes that are not compatible with tight_layout, so results might be incorrect.\n",
      "  plt.tight_layout()\n"
     ]
    },
    {
     "name": "stdout",
     "output_type": "stream",
     "text": [
      "Old data, using hopkins formats\n",
      "Combining behavior_ZS059_2021-04-20_14-50-03\n",
      "Processing 3 files in /root/capsule/scratch/ZS059/behavior_ZS059_2021-04-20_14-50-03/ephys/curated/figures/go_cue\n",
      "Combined PDF saved as: /root/capsule/scratch/ZS059/behavior_ZS059_2021-04-20_14-50-03/ephys/curated/behavior_ZS059_2021-04-20_14-50-03_unit_beh_go_cue.pdf\n",
      "Old data, using hopkins formats\n",
      "Old data, using hopkins formats\n",
      "Old data, using hopkins formats\n",
      "Old data, using hopkins formats\n",
      "Old data, using hopkins formats\n",
      "Old data, using hopkins formats\n",
      "Old data, using hopkins formats\n",
      "Plotting unit TT4_SS_01\n",
      "Plotting unit TT3_SS_01\n"
     ]
    },
    {
     "name": "stderr",
     "output_type": "stream",
     "text": [
      "/opt/conda/lib/python3.10/site-packages/aind_dynamic_foraging_basic_analysis/plot/plot_foraging_session.py:497: UserWarning: This figure includes Axes that are not compatible with tight_layout, so results might be incorrect.\n",
      "  plt.tight_layout()\n",
      "/opt/conda/lib/python3.10/site-packages/aind_dynamic_foraging_basic_analysis/plot/plot_foraging_session.py:497: UserWarning: This figure includes Axes that are not compatible with tight_layout, so results might be incorrect.\n",
      "  plt.tight_layout()\n"
     ]
    },
    {
     "name": "stdout",
     "output_type": "stream",
     "text": [
      "Old data, using hopkins formats\n",
      "Combining behavior_ZS059_2021-04-20_14-50-03\n",
      "Processing 3 files in /root/capsule/scratch/ZS059/behavior_ZS059_2021-04-20_14-50-03/ephys/curated/figures/response\n",
      "Combined PDF saved as: /root/capsule/scratch/ZS059/behavior_ZS059_2021-04-20_14-50-03/ephys/curated/behavior_ZS059_2021-04-20_14-50-03_unit_beh_response.pdf\n",
      "Processed behavior_ZS059_2021-04-20_14-50-03\n",
      "Old data, using hopkins formats\n",
      "Old data, using hopkins formats\n",
      "Old data, using hopkins formats\n",
      "No unit table found for behavior_ZS059_2021-04-17_15-44-53 in curated data.\n",
      "Old data, using hopkins formats\n",
      "Old data, using hopkins formats\n",
      "Old data, using hopkins formats\n",
      "Old data, using hopkins formats\n",
      "Old data, using hopkins formats\n",
      "Old data, using hopkins formats\n",
      "Old data, using hopkins formats\n",
      "Old data, using hopkins formats\n",
      "Old data, using hopkins formats\n",
      "Plotting unit TT4_SS_01\n"
     ]
    },
    {
     "name": "stderr",
     "output_type": "stream",
     "text": [
      "/opt/conda/lib/python3.10/site-packages/aind_dynamic_foraging_basic_analysis/plot/plot_foraging_session.py:497: UserWarning: This figure includes Axes that are not compatible with tight_layout, so results might be incorrect.\n",
      "  plt.tight_layout()\n"
     ]
    },
    {
     "name": "stdout",
     "output_type": "stream",
     "text": [
      "Old data, using hopkins formats\n",
      "Combining behavior_ZS059_2021-04-21_15-58-55\n",
      "Processing 2 files in /root/capsule/scratch/ZS059/behavior_ZS059_2021-04-21_15-58-55/ephys/curated/figures/go_cue\n",
      "Combined PDF saved as: /root/capsule/scratch/ZS059/behavior_ZS059_2021-04-21_15-58-55/ephys/curated/behavior_ZS059_2021-04-21_15-58-55_unit_beh_go_cue.pdf\n",
      "Old data, using hopkins formats\n",
      "Old data, using hopkins formats\n",
      "Old data, using hopkins formats\n",
      "Old data, using hopkins formats\n",
      "Old data, using hopkins formats\n",
      "Old data, using hopkins formats\n",
      "Plotting unit TT4_SS_01\n"
     ]
    },
    {
     "name": "stderr",
     "output_type": "stream",
     "text": [
      "/opt/conda/lib/python3.10/site-packages/aind_dynamic_foraging_basic_analysis/plot/plot_foraging_session.py:497: UserWarning: This figure includes Axes that are not compatible with tight_layout, so results might be incorrect.\n",
      "  plt.tight_layout()\n"
     ]
    },
    {
     "name": "stdout",
     "output_type": "stream",
     "text": [
      "Old data, using hopkins formats\n",
      "Combining behavior_ZS059_2021-04-21_15-58-55\n",
      "Processing 2 files in /root/capsule/scratch/ZS059/behavior_ZS059_2021-04-21_15-58-55/ephys/curated/figures/response\n",
      "Combined PDF saved as: /root/capsule/scratch/ZS059/behavior_ZS059_2021-04-21_15-58-55/ephys/curated/behavior_ZS059_2021-04-21_15-58-55_unit_beh_response.pdf\n",
      "Processed behavior_ZS059_2021-04-21_15-58-55\n",
      "Old data, using hopkins formats\n",
      "No raw session directory found for behavior_ZS059_2021-04-18_17-26-19.\n",
      "Old data, using hopkins formats\n",
      "No raw session directory found for behavior_ZS059_2021-04-18_17-26-19.\n",
      "Old data, using hopkins formats\n",
      "No raw session directory found for behavior_ZS059_2021-04-18_17-26-19.\n",
      "No unit table found for behavior_ZS059_2021-04-18_17-26-19 in curated data.\n",
      "Old data, using hopkins formats\n",
      "Old data, using hopkins formats\n",
      "Old data, using hopkins formats\n",
      "No unit table found for behavior_ZS059_2021-04-19_14-42-16 in curated data.\n",
      "Old data, using hopkins formats\n",
      "Old data, using hopkins formats\n",
      "Old data, using hopkins formats\n",
      "No unit table found for behavior_ZS059_2021-04-24_15-38-10 in curated data.\n",
      "Old data, using hopkins formats\n",
      "Old data, using hopkins formats\n",
      "Old data, using hopkins formats\n",
      "Old data, using hopkins formats\n",
      "Old data, using hopkins formats\n",
      "Old data, using hopkins formats\n",
      "Old data, using hopkins formats\n",
      "Old data, using hopkins formats\n",
      "Old data, using hopkins formats\n",
      "Plotting unit TT3_SS_01\n"
     ]
    },
    {
     "name": "stderr",
     "output_type": "stream",
     "text": [
      "/opt/conda/lib/python3.10/site-packages/aind_dynamic_foraging_basic_analysis/plot/plot_foraging_session.py:497: UserWarning: This figure includes Axes that are not compatible with tight_layout, so results might be incorrect.\n",
      "  plt.tight_layout()\n"
     ]
    },
    {
     "name": "stdout",
     "output_type": "stream",
     "text": [
      "Old data, using hopkins formats\n",
      "Combining behavior_ZS059_2021-04-23_14-57-50\n",
      "Processing 2 files in /root/capsule/scratch/ZS059/behavior_ZS059_2021-04-23_14-57-50/ephys/curated/figures/go_cue\n",
      "Combined PDF saved as: /root/capsule/scratch/ZS059/behavior_ZS059_2021-04-23_14-57-50/ephys/curated/behavior_ZS059_2021-04-23_14-57-50_unit_beh_go_cue.pdf\n",
      "Old data, using hopkins formats\n",
      "Old data, using hopkins formats\n",
      "Old data, using hopkins formats\n",
      "Old data, using hopkins formats\n",
      "Old data, using hopkins formats\n",
      "Old data, using hopkins formats\n",
      "Plotting unit TT3_SS_01\n"
     ]
    },
    {
     "name": "stderr",
     "output_type": "stream",
     "text": [
      "/opt/conda/lib/python3.10/site-packages/aind_dynamic_foraging_basic_analysis/plot/plot_foraging_session.py:497: UserWarning: This figure includes Axes that are not compatible with tight_layout, so results might be incorrect.\n",
      "  plt.tight_layout()\n"
     ]
    },
    {
     "name": "stdout",
     "output_type": "stream",
     "text": [
      "Old data, using hopkins formats\n",
      "Combining behavior_ZS059_2021-04-23_14-57-50\n",
      "Processing 2 files in /root/capsule/scratch/ZS059/behavior_ZS059_2021-04-23_14-57-50/ephys/curated/figures/response\n",
      "Combined PDF saved as: /root/capsule/scratch/ZS059/behavior_ZS059_2021-04-23_14-57-50/ephys/curated/behavior_ZS059_2021-04-23_14-57-50_unit_beh_response.pdf\n",
      "Processed behavior_ZS059_2021-04-23_14-57-50\n",
      "Old data, using hopkins formats\n",
      "Old data, using hopkins formats\n",
      "Old data, using hopkins formats\n",
      "Old data, using hopkins formats\n",
      "Old data, using hopkins formats\n",
      "Old data, using hopkins formats\n",
      "Old data, using hopkins formats\n",
      "Old data, using hopkins formats\n",
      "Old data, using hopkins formats\n",
      "Plotting unit TT4_SS_02\n"
     ]
    },
    {
     "name": "stderr",
     "output_type": "stream",
     "text": [
      "/opt/conda/lib/python3.10/site-packages/aind_dynamic_foraging_basic_analysis/plot/plot_foraging_session.py:497: UserWarning: This figure includes Axes that are not compatible with tight_layout, so results might be incorrect.\n",
      "  plt.tight_layout()\n"
     ]
    },
    {
     "name": "stdout",
     "output_type": "stream",
     "text": [
      "Old data, using hopkins formats\n",
      "Combining behavior_ZS059_2021-04-22_15-11-25\n",
      "Processing 2 files in /root/capsule/scratch/ZS059/behavior_ZS059_2021-04-22_15-11-25/ephys/curated/figures/go_cue\n",
      "Combined PDF saved as: /root/capsule/scratch/ZS059/behavior_ZS059_2021-04-22_15-11-25/ephys/curated/behavior_ZS059_2021-04-22_15-11-25_unit_beh_go_cue.pdf\n",
      "Old data, using hopkins formats\n",
      "Old data, using hopkins formats\n",
      "Old data, using hopkins formats\n",
      "Old data, using hopkins formats\n",
      "Old data, using hopkins formats\n",
      "Old data, using hopkins formats\n",
      "Plotting unit TT4_SS_02\n"
     ]
    },
    {
     "name": "stderr",
     "output_type": "stream",
     "text": [
      "/opt/conda/lib/python3.10/site-packages/aind_dynamic_foraging_basic_analysis/plot/plot_foraging_session.py:497: UserWarning: This figure includes Axes that are not compatible with tight_layout, so results might be incorrect.\n",
      "  plt.tight_layout()\n"
     ]
    },
    {
     "name": "stdout",
     "output_type": "stream",
     "text": [
      "Old data, using hopkins formats\n",
      "Combining behavior_ZS059_2021-04-22_15-11-25\n",
      "Processing 2 files in /root/capsule/scratch/ZS059/behavior_ZS059_2021-04-22_15-11-25/ephys/curated/figures/response\n",
      "Combined PDF saved as: /root/capsule/scratch/ZS059/behavior_ZS059_2021-04-22_15-11-25/ephys/curated/behavior_ZS059_2021-04-22_15-11-25_unit_beh_response.pdf\n",
      "Processed behavior_ZS059_2021-04-22_15-11-25\n",
      "Old data, using hopkins formats\n",
      "Old data, using hopkins formats\n",
      "Old data, using hopkins formats\n",
      "Old data, using hopkins formats\n",
      "Old data, using hopkins formats\n",
      "Old data, using hopkins formats\n",
      "Old data, using hopkins formats\n",
      "Old data, using hopkins formats\n",
      "Old data, using hopkins formats\n",
      "Plotting unit TT5_SS_01\n"
     ]
    },
    {
     "name": "stderr",
     "output_type": "stream",
     "text": [
      "/opt/conda/lib/python3.10/site-packages/aind_dynamic_foraging_basic_analysis/plot/plot_foraging_session.py:497: UserWarning: This figure includes Axes that are not compatible with tight_layout, so results might be incorrect.\n",
      "  plt.tight_layout()\n"
     ]
    },
    {
     "name": "stdout",
     "output_type": "stream",
     "text": [
      "Old data, using hopkins formats\n",
      "Combining behavior_ZS059_2021-04-25_16-22-31\n",
      "Processing 2 files in /root/capsule/scratch/ZS059/behavior_ZS059_2021-04-25_16-22-31/ephys/curated/figures/go_cue\n",
      "Combined PDF saved as: /root/capsule/scratch/ZS059/behavior_ZS059_2021-04-25_16-22-31/ephys/curated/behavior_ZS059_2021-04-25_16-22-31_unit_beh_go_cue.pdf\n",
      "Old data, using hopkins formats\n",
      "Old data, using hopkins formats\n",
      "Old data, using hopkins formats\n",
      "Old data, using hopkins formats\n",
      "Old data, using hopkins formats\n",
      "Old data, using hopkins formats\n",
      "Plotting unit TT5_SS_01\n"
     ]
    },
    {
     "name": "stderr",
     "output_type": "stream",
     "text": [
      "/opt/conda/lib/python3.10/site-packages/aind_dynamic_foraging_basic_analysis/plot/plot_foraging_session.py:497: UserWarning: This figure includes Axes that are not compatible with tight_layout, so results might be incorrect.\n",
      "  plt.tight_layout()\n"
     ]
    },
    {
     "name": "stdout",
     "output_type": "stream",
     "text": [
      "Old data, using hopkins formats\n",
      "Combining behavior_ZS059_2021-04-25_16-22-31\n",
      "Processing 2 files in /root/capsule/scratch/ZS059/behavior_ZS059_2021-04-25_16-22-31/ephys/curated/figures/response\n",
      "Combined PDF saved as: /root/capsule/scratch/ZS059/behavior_ZS059_2021-04-25_16-22-31/ephys/curated/behavior_ZS059_2021-04-25_16-22-31_unit_beh_response.pdf\n",
      "Processed behavior_ZS059_2021-04-25_16-22-31\n",
      "Old data, using hopkins formats\n",
      "Old data, using hopkins formats\n",
      "Old data, using hopkins formats\n",
      "No unit table found for behavior_ZS059_2021-04-26_14-44-03 in curated data.\n",
      "Old data, using hopkins formats\n",
      "Old data, using hopkins formats\n",
      "Old data, using hopkins formats\n",
      "No unit table found for behavior_ZS059_2021-04-27_15-12-43 in curated data.\n",
      "Old data, using hopkins formats\n",
      "Old data, using hopkins formats\n",
      "Old data, using hopkins formats\n",
      "No unit table found for behavior_ZS059_2021-04-28_14-00-12 in curated data.\n",
      "Old data, using hopkins formats\n",
      "Old data, using hopkins formats\n",
      "Old data, using hopkins formats\n",
      "No unit table found for behavior_ZS059_2021-04-29_14-02-45 in curated data.\n",
      "Old data, using hopkins formats\n",
      "Old data, using hopkins formats\n",
      "Old data, using hopkins formats\n",
      "Old data, using hopkins formats\n",
      "Old data, using hopkins formats\n",
      "Old data, using hopkins formats\n",
      "Old data, using hopkins formats\n",
      "Old data, using hopkins formats\n",
      "Old data, using hopkins formats\n",
      "Old data, using hopkins formats\n",
      "Plotting unit TT4_SS_01\n",
      "Plotting unit TT4_SS_02\n"
     ]
    },
    {
     "name": "stderr",
     "output_type": "stream",
     "text": [
      "/opt/conda/lib/python3.10/site-packages/aind_dynamic_foraging_basic_analysis/plot/plot_foraging_session.py:497: UserWarning: This figure includes Axes that are not compatible with tight_layout, so results might be incorrect.\n",
      "  plt.tight_layout()\n",
      "/opt/conda/lib/python3.10/site-packages/aind_dynamic_foraging_basic_analysis/plot/plot_foraging_session.py:497: UserWarning: This figure includes Axes that are not compatible with tight_layout, so results might be incorrect.\n",
      "  plt.tight_layout()\n"
     ]
    },
    {
     "name": "stdout",
     "output_type": "stream",
     "text": [
      "Old data, using hopkins formats\n",
      "Combining behavior_ZS059_2021-03-27_16-03-00\n",
      "Processing 3 files in /root/capsule/scratch/ZS059/behavior_ZS059_2021-03-27_16-03-00/ephys/curated/figures/go_cue\n",
      "Combined PDF saved as: /root/capsule/scratch/ZS059/behavior_ZS059_2021-03-27_16-03-00/ephys/curated/behavior_ZS059_2021-03-27_16-03-00_unit_beh_go_cue.pdf\n",
      "Old data, using hopkins formats\n",
      "Old data, using hopkins formats\n",
      "Old data, using hopkins formats\n",
      "Old data, using hopkins formats\n",
      "Old data, using hopkins formats\n",
      "Old data, using hopkins formats\n",
      "Old data, using hopkins formats\n",
      "Plotting unit TT4_SS_02\n",
      "Plotting unit TT4_SS_01\n"
     ]
    },
    {
     "name": "stderr",
     "output_type": "stream",
     "text": [
      "/opt/conda/lib/python3.10/site-packages/aind_dynamic_foraging_basic_analysis/plot/plot_foraging_session.py:497: UserWarning: This figure includes Axes that are not compatible with tight_layout, so results might be incorrect.\n",
      "  plt.tight_layout()\n",
      "/opt/conda/lib/python3.10/site-packages/aind_dynamic_foraging_basic_analysis/plot/plot_foraging_session.py:497: UserWarning: This figure includes Axes that are not compatible with tight_layout, so results might be incorrect.\n",
      "  plt.tight_layout()\n"
     ]
    },
    {
     "name": "stdout",
     "output_type": "stream",
     "text": [
      "Old data, using hopkins formats\n",
      "Combining behavior_ZS059_2021-03-27_16-03-00\n",
      "Processing 3 files in /root/capsule/scratch/ZS059/behavior_ZS059_2021-03-27_16-03-00/ephys/curated/figures/response\n",
      "Combined PDF saved as: /root/capsule/scratch/ZS059/behavior_ZS059_2021-03-27_16-03-00/ephys/curated/behavior_ZS059_2021-03-27_16-03-00_unit_beh_response.pdf\n",
      "Processed behavior_ZS059_2021-03-27_16-03-00\n",
      "Old data, using hopkins formats\n",
      "Old data, using hopkins formats\n",
      "Old data, using hopkins formats\n",
      "No unit table found for behavior_ZS059_2021-03-24_14-22-04 in curated data.\n",
      "Old data, using hopkins formats\n",
      "Old data, using hopkins formats\n",
      "Old data, using hopkins formats\n",
      "Old data, using hopkins formats\n",
      "Old data, using hopkins formats\n",
      "Old data, using hopkins formats\n",
      "Old data, using hopkins formats\n",
      "Old data, using hopkins formats\n",
      "Old data, using hopkins formats\n",
      "Plotting unit TT4_SS_02\n"
     ]
    },
    {
     "name": "stderr",
     "output_type": "stream",
     "text": [
      "/opt/conda/lib/python3.10/site-packages/aind_dynamic_foraging_basic_analysis/plot/plot_foraging_session.py:497: UserWarning: This figure includes Axes that are not compatible with tight_layout, so results might be incorrect.\n",
      "  plt.tight_layout()\n"
     ]
    },
    {
     "name": "stdout",
     "output_type": "stream",
     "text": [
      "Old data, using hopkins formats\n",
      "Combining behavior_ZS059_2021-03-28_14-18-58\n",
      "Processing 2 files in /root/capsule/scratch/ZS059/behavior_ZS059_2021-03-28_14-18-58/ephys/curated/figures/go_cue\n",
      "Combined PDF saved as: /root/capsule/scratch/ZS059/behavior_ZS059_2021-03-28_14-18-58/ephys/curated/behavior_ZS059_2021-03-28_14-18-58_unit_beh_go_cue.pdf\n",
      "Old data, using hopkins formats\n",
      "Old data, using hopkins formats\n",
      "Old data, using hopkins formats\n",
      "Old data, using hopkins formats\n",
      "Old data, using hopkins formats\n",
      "Old data, using hopkins formats\n",
      "Plotting unit TT4_SS_02\n"
     ]
    },
    {
     "name": "stderr",
     "output_type": "stream",
     "text": [
      "/opt/conda/lib/python3.10/site-packages/aind_dynamic_foraging_basic_analysis/plot/plot_foraging_session.py:497: UserWarning: This figure includes Axes that are not compatible with tight_layout, so results might be incorrect.\n",
      "  plt.tight_layout()\n"
     ]
    },
    {
     "name": "stdout",
     "output_type": "stream",
     "text": [
      "Old data, using hopkins formats\n",
      "Combining behavior_ZS059_2021-03-28_14-18-58\n",
      "Processing 2 files in /root/capsule/scratch/ZS059/behavior_ZS059_2021-03-28_14-18-58/ephys/curated/figures/response\n",
      "Combined PDF saved as: /root/capsule/scratch/ZS059/behavior_ZS059_2021-03-28_14-18-58/ephys/curated/behavior_ZS059_2021-03-28_14-18-58_unit_beh_response.pdf\n",
      "Processed behavior_ZS059_2021-03-28_14-18-58\n",
      "Old data, using hopkins formats\n",
      "Old data, using hopkins formats\n",
      "Old data, using hopkins formats\n",
      "No unit table found for behavior_ZS059_2021-03-26_13-52-11 in curated data.\n",
      "Old data, using hopkins formats\n",
      "Old data, using hopkins formats\n",
      "Old data, using hopkins formats\n",
      "No unit table found for behavior_ZS059_2021-03-25_14-40-45 in curated data.\n",
      "Old data, using hopkins formats\n",
      "No raw session directory found for behavior_ZS060_2021-04-14_18-15-27.\n",
      "Old data, using hopkins formats\n",
      "No raw session directory found for behavior_ZS060_2021-04-14_18-15-27.\n",
      "Old data, using hopkins formats\n",
      "No raw session directory found for behavior_ZS060_2021-04-14_18-15-27.\n",
      "No unit table found for behavior_ZS060_2021-04-14_18-15-27 in curated data.\n",
      "Old data, using hopkins formats\n",
      "Old data, using hopkins formats\n",
      "Old data, using hopkins formats\n",
      "No unit table found for behavior_ZS060_2021-04-09_17-07-51 in curated data.\n",
      "Old data, using hopkins formats\n",
      "Old data, using hopkins formats\n",
      "Old data, using hopkins formats\n",
      "Old data, using hopkins formats\n",
      "Old data, using hopkins formats\n",
      "Old data, using hopkins formats\n",
      "Old data, using hopkins formats\n",
      "Old data, using hopkins formats\n",
      "Old data, using hopkins formats\n",
      "Plotting unit TT2_SS_01\n"
     ]
    },
    {
     "name": "stderr",
     "output_type": "stream",
     "text": [
      "/opt/conda/lib/python3.10/site-packages/aind_dynamic_foraging_basic_analysis/plot/plot_foraging_session.py:497: UserWarning: This figure includes Axes that are not compatible with tight_layout, so results might be incorrect.\n",
      "  plt.tight_layout()\n"
     ]
    },
    {
     "name": "stdout",
     "output_type": "stream",
     "text": [
      "Old data, using hopkins formats\n",
      "Combining behavior_ZS060_2021-04-15_19-06-02\n",
      "Processing 2 files in /root/capsule/scratch/ZS060/behavior_ZS060_2021-04-15_19-06-02/ephys/curated/figures/go_cue\n",
      "Combined PDF saved as: /root/capsule/scratch/ZS060/behavior_ZS060_2021-04-15_19-06-02/ephys/curated/behavior_ZS060_2021-04-15_19-06-02_unit_beh_go_cue.pdf\n",
      "Old data, using hopkins formats\n",
      "Old data, using hopkins formats\n",
      "Old data, using hopkins formats\n",
      "Old data, using hopkins formats\n",
      "Old data, using hopkins formats\n",
      "Old data, using hopkins formats\n",
      "Plotting unit TT2_SS_01\n"
     ]
    },
    {
     "name": "stderr",
     "output_type": "stream",
     "text": [
      "/opt/conda/lib/python3.10/site-packages/aind_dynamic_foraging_basic_analysis/plot/plot_foraging_session.py:497: UserWarning: This figure includes Axes that are not compatible with tight_layout, so results might be incorrect.\n",
      "  plt.tight_layout()\n"
     ]
    },
    {
     "name": "stdout",
     "output_type": "stream",
     "text": [
      "Old data, using hopkins formats\n",
      "Combining behavior_ZS060_2021-04-15_19-06-02\n",
      "Processing 2 files in /root/capsule/scratch/ZS060/behavior_ZS060_2021-04-15_19-06-02/ephys/curated/figures/response\n",
      "Combined PDF saved as: /root/capsule/scratch/ZS060/behavior_ZS060_2021-04-15_19-06-02/ephys/curated/behavior_ZS060_2021-04-15_19-06-02_unit_beh_response.pdf\n",
      "Processed behavior_ZS060_2021-04-15_19-06-02\n",
      "Old data, using hopkins formats\n",
      "No raw session directory found for behavior_ZS060_2021-04-21_19-23-52.\n",
      "Old data, using hopkins formats\n",
      "No raw session directory found for behavior_ZS060_2021-04-21_19-23-52.\n",
      "Old data, using hopkins formats\n",
      "No raw session directory found for behavior_ZS060_2021-04-21_19-23-52.\n",
      "No unit table found for behavior_ZS060_2021-04-21_19-23-52 in curated data.\n",
      "Old data, using hopkins formats\n",
      "Old data, using hopkins formats\n",
      "Old data, using hopkins formats\n",
      "No unit table found for behavior_ZS060_2021-04-22_18-30-00 in curated data.\n",
      "Old data, using hopkins formats\n",
      "No raw session directory found for behavior_ZS060_2021-04-11_16-41-30.\n",
      "Old data, using hopkins formats\n",
      "No raw session directory found for behavior_ZS060_2021-04-11_16-41-30.\n",
      "Old data, using hopkins formats\n",
      "No raw session directory found for behavior_ZS060_2021-04-11_16-41-30.\n",
      "No unit table found for behavior_ZS060_2021-04-11_16-41-30 in curated data.\n",
      "Old data, using hopkins formats\n",
      "No raw session directory found for behavior_ZS060_2021-04-12_15-57-59.\n",
      "Old data, using hopkins formats\n",
      "No raw session directory found for behavior_ZS060_2021-04-12_15-57-59.\n",
      "Old data, using hopkins formats\n",
      "No raw session directory found for behavior_ZS060_2021-04-12_15-57-59.\n",
      "No unit table found for behavior_ZS060_2021-04-12_15-57-59 in curated data.\n",
      "Old data, using hopkins formats\n",
      "No raw session directory found for behavior_ZS060_2021-04-10_16-58-41.\n",
      "Old data, using hopkins formats\n",
      "No raw session directory found for behavior_ZS060_2021-04-10_16-58-41.\n",
      "Old data, using hopkins formats\n",
      "No raw session directory found for behavior_ZS060_2021-04-10_16-58-41.\n",
      "No unit table found for behavior_ZS060_2021-04-10_16-58-41 in curated data.\n",
      "Old data, using hopkins formats\n",
      "Old data, using hopkins formats\n",
      "Old data, using hopkins formats\n",
      "No unit table found for behavior_ZS060_2021-04-16_16-09-11 in curated data.\n",
      "Old data, using hopkins formats\n",
      "No raw session directory found for behavior_ZS060_2021-04-27_16-21-43.\n",
      "Old data, using hopkins formats\n",
      "No raw session directory found for behavior_ZS060_2021-04-27_16-21-43.\n",
      "Old data, using hopkins formats\n",
      "No raw session directory found for behavior_ZS060_2021-04-27_16-21-43.\n",
      "No unit table found for behavior_ZS060_2021-04-27_16-21-43 in curated data.\n",
      "Old data, using hopkins formats\n",
      "Old data, using hopkins formats\n",
      "Old data, using hopkins formats\n",
      "No unit table found for behavior_ZS060_2021-04-23_18-34-53 in curated data.\n",
      "Old data, using hopkins formats\n",
      "Old data, using hopkins formats\n",
      "Old data, using hopkins formats\n",
      "No unit table found for behavior_ZS060_2021-04-28_15-16-45 in curated data.\n",
      "Old data, using hopkins formats\n",
      "Old data, using hopkins formats\n",
      "Old data, using hopkins formats\n",
      "No unit table found for behavior_ZS060_2021-04-24_18-50-00 in curated data.\n",
      "Old data, using hopkins formats\n",
      "Old data, using hopkins formats\n",
      "Old data, using hopkins formats\n",
      "No unit table found for behavior_ZS060_2021-04-25_19-51-06 in curated data.\n",
      "Old data, using hopkins formats\n",
      "Old data, using hopkins formats\n",
      "Old data, using hopkins formats\n",
      "No unit table found for behavior_ZS060_2021-04-26_19-24-52 in curated data.\n",
      "Old data, using hopkins formats\n",
      "Old data, using hopkins formats\n",
      "Old data, using hopkins formats\n",
      "No unit table found for behavior_ZS060_2021-04-29_15-15-00 in curated data.\n",
      "Old data, using hopkins formats\n",
      "Old data, using hopkins formats\n",
      "Old data, using hopkins formats\n",
      "No unit table found for behavior_ZS060_2021-03-20_16-20-00 in curated data.\n",
      "Old data, using hopkins formats\n",
      "Old data, using hopkins formats\n",
      "Old data, using hopkins formats\n",
      "No unit table found for behavior_ZS060_2021-03-21_16-15-00 in curated data.\n",
      "Old data, using hopkins formats\n",
      "Old data, using hopkins formats\n",
      "Old data, using hopkins formats\n",
      "No unit table found for behavior_ZS060_2021-03-22_16-25-00 in curated data.\n",
      "Old data, using hopkins formats\n",
      "Old data, using hopkins formats\n",
      "Old data, using hopkins formats\n",
      "No unit table found for behavior_ZS060_2021-03-25_16-00-00 in curated data.\n",
      "Old data, using hopkins formats\n",
      "Old data, using hopkins formats\n",
      "Old data, using hopkins formats\n",
      "No unit table found for behavior_ZS060_2021-03-23_15-15-00 in curated data.\n",
      "Old data, using hopkins formats\n",
      "Old data, using hopkins formats\n",
      "Old data, using hopkins formats\n",
      "No unit table found for behavior_ZS060_2021-03-27_17-11-43 in curated data.\n",
      "Old data, using hopkins formats\n",
      "Old data, using hopkins formats\n",
      "Old data, using hopkins formats\n",
      "No unit table found for behavior_ZS060_2021-03-24_15-40-00 in curated data.\n",
      "Old data, using hopkins formats\n",
      "Old data, using hopkins formats\n",
      "Old data, using hopkins formats\n",
      "Old data, using hopkins formats\n",
      "Old data, using hopkins formats\n",
      "Old data, using hopkins formats\n",
      "Old data, using hopkins formats\n",
      "Old data, using hopkins formats\n",
      "Old data, using hopkins formats\n",
      "Plotting unit TT6_SS_01\n"
     ]
    },
    {
     "name": "stderr",
     "output_type": "stream",
     "text": [
      "/opt/conda/lib/python3.10/site-packages/aind_dynamic_foraging_basic_analysis/plot/plot_foraging_session.py:497: UserWarning: This figure includes Axes that are not compatible with tight_layout, so results might be incorrect.\n",
      "  plt.tight_layout()\n"
     ]
    },
    {
     "name": "stdout",
     "output_type": "stream",
     "text": [
      "Failed to fit model for unit TT6_SS_01\n",
      "Old data, using hopkins formats\n",
      "Combining behavior_ZS060_2021-03-29_16-21-37\n",
      "Processing 2 files in /root/capsule/scratch/ZS060/behavior_ZS060_2021-03-29_16-21-37/ephys/curated/figures/go_cue\n",
      "Combined PDF saved as: /root/capsule/scratch/ZS060/behavior_ZS060_2021-03-29_16-21-37/ephys/curated/behavior_ZS060_2021-03-29_16-21-37_unit_beh_go_cue.pdf\n",
      "Old data, using hopkins formats\n",
      "Old data, using hopkins formats\n",
      "Old data, using hopkins formats\n",
      "Old data, using hopkins formats\n",
      "Old data, using hopkins formats\n",
      "Old data, using hopkins formats\n",
      "Plotting unit TT6_SS_01\n"
     ]
    },
    {
     "name": "stderr",
     "output_type": "stream",
     "text": [
      "/opt/conda/lib/python3.10/site-packages/aind_dynamic_foraging_basic_analysis/plot/plot_foraging_session.py:497: UserWarning: This figure includes Axes that are not compatible with tight_layout, so results might be incorrect.\n",
      "  plt.tight_layout()\n"
     ]
    },
    {
     "name": "stdout",
     "output_type": "stream",
     "text": [
      "Failed to fit model for unit TT6_SS_01\n",
      "Old data, using hopkins formats\n",
      "Combining behavior_ZS060_2021-03-29_16-21-37\n",
      "Processing 2 files in /root/capsule/scratch/ZS060/behavior_ZS060_2021-03-29_16-21-37/ephys/curated/figures/response\n",
      "Combined PDF saved as: /root/capsule/scratch/ZS060/behavior_ZS060_2021-03-29_16-21-37/ephys/curated/behavior_ZS060_2021-03-29_16-21-37_unit_beh_response.pdf\n",
      "Processed behavior_ZS060_2021-03-29_16-21-37\n",
      "Old data, using hopkins formats\n",
      "Old data, using hopkins formats\n",
      "Old data, using hopkins formats\n",
      "No unit table found for behavior_ZS060_2021-03-26_14-50-00 in curated data.\n",
      "Old data, using hopkins formats\n",
      "Old data, using hopkins formats\n",
      "Old data, using hopkins formats\n",
      "Old data, using hopkins formats\n",
      "Old data, using hopkins formats\n",
      "Old data, using hopkins formats\n",
      "Old data, using hopkins formats\n",
      "Old data, using hopkins formats\n",
      "Old data, using hopkins formats\n",
      "Plotting unit TT6_SS_01\n"
     ]
    },
    {
     "name": "stderr",
     "output_type": "stream",
     "text": [
      "/opt/conda/lib/python3.10/site-packages/aind_dynamic_foraging_basic_analysis/plot/plot_foraging_session.py:497: UserWarning: This figure includes Axes that are not compatible with tight_layout, so results might be incorrect.\n",
      "  plt.tight_layout()\n"
     ]
    },
    {
     "name": "stdout",
     "output_type": "stream",
     "text": [
      "Failed to fit model for unit TT6_SS_01\n",
      "Old data, using hopkins formats\n",
      "Combining behavior_ZS060_2021-03-28_15-27-56\n",
      "Processing 2 files in /root/capsule/scratch/ZS060/behavior_ZS060_2021-03-28_15-27-56/ephys/curated/figures/go_cue\n",
      "Combined PDF saved as: /root/capsule/scratch/ZS060/behavior_ZS060_2021-03-28_15-27-56/ephys/curated/behavior_ZS060_2021-03-28_15-27-56_unit_beh_go_cue.pdf\n",
      "Old data, using hopkins formats\n",
      "Old data, using hopkins formats\n",
      "Old data, using hopkins formats\n",
      "Old data, using hopkins formats\n",
      "Old data, using hopkins formats\n",
      "Old data, using hopkins formats\n",
      "Plotting unit TT6_SS_01\n"
     ]
    },
    {
     "name": "stderr",
     "output_type": "stream",
     "text": [
      "/opt/conda/lib/python3.10/site-packages/aind_dynamic_foraging_basic_analysis/plot/plot_foraging_session.py:497: UserWarning: This figure includes Axes that are not compatible with tight_layout, so results might be incorrect.\n",
      "  plt.tight_layout()\n"
     ]
    },
    {
     "name": "stdout",
     "output_type": "stream",
     "text": [
      "Failed to fit model for unit TT6_SS_01\n",
      "Old data, using hopkins formats\n",
      "Combining behavior_ZS060_2021-03-28_15-27-56\n",
      "Processing 2 files in /root/capsule/scratch/ZS060/behavior_ZS060_2021-03-28_15-27-56/ephys/curated/figures/response\n",
      "Combined PDF saved as: /root/capsule/scratch/ZS060/behavior_ZS060_2021-03-28_15-27-56/ephys/curated/behavior_ZS060_2021-03-28_15-27-56_unit_beh_response.pdf\n",
      "Processed behavior_ZS060_2021-03-28_15-27-56\n",
      "Old data, using hopkins formats\n",
      "Old data, using hopkins formats\n",
      "Old data, using hopkins formats\n",
      "No unit table found for behavior_ZS060_2021-03-30_16-13-03 in curated data.\n",
      "Old data, using hopkins formats\n",
      "Old data, using hopkins formats\n",
      "Old data, using hopkins formats\n",
      "No unit table found for behavior_ZS060_2021-03-31_15-45-00 in curated data.\n",
      "Old data, using hopkins formats\n",
      "Old data, using hopkins formats\n",
      "Old data, using hopkins formats\n",
      "No unit table found for behavior_ZS060_2021-04-01_15-30-00 in curated data.\n",
      "Old data, using hopkins formats\n",
      "Old data, using hopkins formats\n",
      "Old data, using hopkins formats\n",
      "No unit table found for behavior_ZS060_2021-04-02_16-30-00 in curated data.\n",
      "Old data, using hopkins formats\n",
      "Old data, using hopkins formats\n",
      "Old data, using hopkins formats\n",
      "No unit table found for behavior_ZS060_2021-04-03_17-45-00 in curated data.\n",
      "Old data, using hopkins formats\n",
      "Old data, using hopkins formats\n",
      "Old data, using hopkins formats\n",
      "No unit table found for behavior_ZS060_2021-04-04_16-30-00 in curated data.\n",
      "Old data, using hopkins formats\n",
      "Old data, using hopkins formats\n",
      "Old data, using hopkins formats\n",
      "Old data, using hopkins formats\n",
      "Old data, using hopkins formats\n",
      "Old data, using hopkins formats\n",
      "Old data, using hopkins formats\n",
      "Old data, using hopkins formats\n",
      "Old data, using hopkins formats\n",
      "Old data, using hopkins formats\n",
      "Plotting unit TT6_SS_01\n",
      "Plotting unit TT7_SS_01\n"
     ]
    },
    {
     "name": "stderr",
     "output_type": "stream",
     "text": [
      "/opt/conda/lib/python3.10/site-packages/aind_dynamic_foraging_basic_analysis/plot/plot_foraging_session.py:497: UserWarning: This figure includes Axes that are not compatible with tight_layout, so results might be incorrect.\n",
      "  plt.tight_layout()\n",
      "/opt/conda/lib/python3.10/site-packages/aind_dynamic_foraging_basic_analysis/plot/plot_foraging_session.py:497: UserWarning: This figure includes Axes that are not compatible with tight_layout, so results might be incorrect.\n",
      "  plt.tight_layout()\n"
     ]
    },
    {
     "name": "stdout",
     "output_type": "stream",
     "text": [
      "Old data, using hopkins formats\n",
      "Combining behavior_ZS060_2021-04-07_15-21-40\n",
      "Processing 3 files in /root/capsule/scratch/ZS060/behavior_ZS060_2021-04-07_15-21-40/ephys/curated/figures/go_cue\n",
      "Combined PDF saved as: /root/capsule/scratch/ZS060/behavior_ZS060_2021-04-07_15-21-40/ephys/curated/behavior_ZS060_2021-04-07_15-21-40_unit_beh_go_cue.pdf\n",
      "Old data, using hopkins formats\n",
      "Old data, using hopkins formats\n",
      "Old data, using hopkins formats\n",
      "Old data, using hopkins formats\n",
      "Old data, using hopkins formats\n",
      "Old data, using hopkins formats\n",
      "Old data, using hopkins formats\n",
      "Plotting unit TT7_SS_01\n",
      "Plotting unit TT6_SS_01\n"
     ]
    },
    {
     "name": "stderr",
     "output_type": "stream",
     "text": [
      "/opt/conda/lib/python3.10/site-packages/aind_dynamic_foraging_basic_analysis/plot/plot_foraging_session.py:497: UserWarning: This figure includes Axes that are not compatible with tight_layout, so results might be incorrect.\n",
      "  plt.tight_layout()\n",
      "/opt/conda/lib/python3.10/site-packages/aind_dynamic_foraging_basic_analysis/plot/plot_foraging_session.py:497: UserWarning: This figure includes Axes that are not compatible with tight_layout, so results might be incorrect.\n",
      "  plt.tight_layout()\n"
     ]
    },
    {
     "name": "stdout",
     "output_type": "stream",
     "text": [
      "Old data, using hopkins formats\n",
      "Combining behavior_ZS060_2021-04-07_15-21-40\n",
      "Processing 3 files in /root/capsule/scratch/ZS060/behavior_ZS060_2021-04-07_15-21-40/ephys/curated/figures/response\n",
      "Combined PDF saved as: /root/capsule/scratch/ZS060/behavior_ZS060_2021-04-07_15-21-40/ephys/curated/behavior_ZS060_2021-04-07_15-21-40_unit_beh_response.pdf\n",
      "Processed behavior_ZS060_2021-04-07_15-21-40\n",
      "Old data, using hopkins formats\n",
      "Old data, using hopkins formats\n",
      "Old data, using hopkins formats\n",
      "Old data, using hopkins formats\n",
      "Old data, using hopkins formats\n",
      "Old data, using hopkins formats\n",
      "Old data, using hopkins formats\n",
      "Old data, using hopkins formats\n",
      "Old data, using hopkins formats\n",
      "Plotting unit TT6_SS_01\n"
     ]
    },
    {
     "name": "stderr",
     "output_type": "stream",
     "text": [
      "/opt/conda/lib/python3.10/site-packages/aind_dynamic_foraging_basic_analysis/plot/plot_foraging_session.py:497: UserWarning: This figure includes Axes that are not compatible with tight_layout, so results might be incorrect.\n",
      "  plt.tight_layout()\n"
     ]
    },
    {
     "name": "stdout",
     "output_type": "stream",
     "text": [
      "Old data, using hopkins formats\n",
      "Combining behavior_ZS060_2021-04-08_16-55-35\n",
      "Processing 2 files in /root/capsule/scratch/ZS060/behavior_ZS060_2021-04-08_16-55-35/ephys/curated/figures/go_cue\n",
      "Combined PDF saved as: /root/capsule/scratch/ZS060/behavior_ZS060_2021-04-08_16-55-35/ephys/curated/behavior_ZS060_2021-04-08_16-55-35_unit_beh_go_cue.pdf\n",
      "Old data, using hopkins formats\n",
      "Old data, using hopkins formats\n",
      "Old data, using hopkins formats\n",
      "Old data, using hopkins formats\n",
      "Old data, using hopkins formats\n",
      "Old data, using hopkins formats\n",
      "Plotting unit TT6_SS_01\n"
     ]
    },
    {
     "name": "stderr",
     "output_type": "stream",
     "text": [
      "/opt/conda/lib/python3.10/site-packages/aind_dynamic_foraging_basic_analysis/plot/plot_foraging_session.py:497: UserWarning: This figure includes Axes that are not compatible with tight_layout, so results might be incorrect.\n",
      "  plt.tight_layout()\n"
     ]
    },
    {
     "name": "stdout",
     "output_type": "stream",
     "text": [
      "Old data, using hopkins formats\n",
      "Combining behavior_ZS060_2021-04-08_16-55-35\n",
      "Processing 2 files in /root/capsule/scratch/ZS060/behavior_ZS060_2021-04-08_16-55-35/ephys/curated/figures/response\n",
      "Combined PDF saved as: /root/capsule/scratch/ZS060/behavior_ZS060_2021-04-08_16-55-35/ephys/curated/behavior_ZS060_2021-04-08_16-55-35_unit_beh_response.pdf\n",
      "Processed behavior_ZS060_2021-04-08_16-55-35\n",
      "Old data, using hopkins formats\n",
      "Old data, using hopkins formats\n",
      "Old data, using hopkins formats\n",
      "No unit table found for behavior_ZS061_2021-03-16_15-30-00 in curated data.\n",
      "Old data, using hopkins formats\n",
      "Old data, using hopkins formats\n",
      "Old data, using hopkins formats\n",
      "No unit table found for behavior_ZS061_2021-03-17_16-00-53 in curated data.\n",
      "Old data, using hopkins formats\n",
      "Old data, using hopkins formats\n",
      "Old data, using hopkins formats\n",
      "No unit table found for behavior_ZS061_2021-03-21_17-37-00 in curated data.\n",
      "Old data, using hopkins formats\n",
      "Old data, using hopkins formats\n",
      "Old data, using hopkins formats\n",
      "No unit table found for behavior_ZS061_2021-03-18_17-39-19 in curated data.\n",
      "Old data, using hopkins formats\n",
      "Old data, using hopkins formats\n",
      "Old data, using hopkins formats\n",
      "Old data, using hopkins formats\n",
      "Old data, using hopkins formats\n",
      "Old data, using hopkins formats\n",
      "Old data, using hopkins formats\n",
      "Old data, using hopkins formats\n",
      "Old data, using hopkins formats\n",
      "Old data, using hopkins formats\n",
      "Old data, using hopkins formats\n",
      "Old data, using hopkins formats\n",
      "Old data, using hopkins formats\n",
      "Plotting unit TT1_SS_04\n",
      "Old data, using hopkins formats\n",
      "Plotting unit TT1_SS_02\n",
      "Plotting unit TT3_SS_01\n",
      "Plotting unit TT3_SS_03\n",
      "Plotting unit TT1_SS_05\n",
      "Plotting unit TT4_SS_01\n"
     ]
    },
    {
     "name": "stderr",
     "output_type": "stream",
     "text": [
      "/opt/conda/lib/python3.10/site-packages/aind_dynamic_foraging_basic_analysis/plot/plot_foraging_session.py:497: UserWarning: This figure includes Axes that are not compatible with tight_layout, so results might be incorrect.\n",
      "  plt.tight_layout()\n",
      "/opt/conda/lib/python3.10/site-packages/aind_dynamic_foraging_basic_analysis/plot/plot_foraging_session.py:497: UserWarning: This figure includes Axes that are not compatible with tight_layout, so results might be incorrect.\n",
      "  plt.tight_layout()\n",
      "/opt/conda/lib/python3.10/site-packages/aind_dynamic_foraging_basic_analysis/plot/plot_foraging_session.py:497: UserWarning: This figure includes Axes that are not compatible with tight_layout, so results might be incorrect.\n",
      "  plt.tight_layout()\n",
      "/opt/conda/lib/python3.10/site-packages/aind_dynamic_foraging_basic_analysis/plot/plot_foraging_session.py:497: UserWarning: This figure includes Axes that are not compatible with tight_layout, so results might be incorrect.\n",
      "  plt.tight_layout()\n",
      "/opt/conda/lib/python3.10/site-packages/aind_dynamic_foraging_basic_analysis/plot/plot_foraging_session.py:497: UserWarning: This figure includes Axes that are not compatible with tight_layout, so results might be incorrect.\n",
      "  plt.tight_layout()\n",
      "/opt/conda/lib/python3.10/site-packages/aind_dynamic_foraging_basic_analysis/plot/plot_foraging_session.py:497: UserWarning: This figure includes Axes that are not compatible with tight_layout, so results might be incorrect.\n",
      "  plt.tight_layout()\n"
     ]
    },
    {
     "name": "stdout",
     "output_type": "stream",
     "text": [
      "Old data, using hopkins formats\n",
      "Combining behavior_ZS061_2021-03-23_16-08-12\n",
      "Processing 7 files in /root/capsule/scratch/ZS061/behavior_ZS061_2021-03-23_16-08-12/ephys/curated/figures/go_cue\n",
      "Combined PDF saved as: /root/capsule/scratch/ZS061/behavior_ZS061_2021-03-23_16-08-12/ephys/curated/behavior_ZS061_2021-03-23_16-08-12_unit_beh_go_cue.pdf\n",
      "Old data, using hopkins formats\n",
      "Old data, using hopkins formats\n",
      "Old data, using hopkins formats\n",
      "Old data, using hopkins formats\n",
      "Old data, using hopkins formats\n",
      "Old data, using hopkins formats\n",
      "Old data, using hopkins formats\n",
      "Old data, using hopkins formats\n",
      "Old data, using hopkins formats\n",
      "Plotting unit TT1_SS_02\n",
      "Old data, using hopkins formats\n",
      "Plotting unit TT1_SS_04\n",
      "Old data, using hopkins formats\n",
      "Plotting unit TT1_SS_05\n",
      "Plotting unit TT3_SS_03\n",
      "Plotting unit TT4_SS_01\n",
      "Plotting unit TT3_SS_01\n"
     ]
    },
    {
     "name": "stderr",
     "output_type": "stream",
     "text": [
      "/opt/conda/lib/python3.10/site-packages/aind_dynamic_foraging_basic_analysis/plot/plot_foraging_session.py:497: UserWarning: This figure includes Axes that are not compatible with tight_layout, so results might be incorrect.\n",
      "  plt.tight_layout()\n",
      "/opt/conda/lib/python3.10/site-packages/aind_dynamic_foraging_basic_analysis/plot/plot_foraging_session.py:497: UserWarning: This figure includes Axes that are not compatible with tight_layout, so results might be incorrect.\n",
      "  plt.tight_layout()\n",
      "/opt/conda/lib/python3.10/site-packages/aind_dynamic_foraging_basic_analysis/plot/plot_foraging_session.py:497: UserWarning: This figure includes Axes that are not compatible with tight_layout, so results might be incorrect.\n",
      "  plt.tight_layout()\n",
      "/opt/conda/lib/python3.10/site-packages/aind_dynamic_foraging_basic_analysis/plot/plot_foraging_session.py:497: UserWarning: This figure includes Axes that are not compatible with tight_layout, so results might be incorrect.\n",
      "  plt.tight_layout()\n",
      "/opt/conda/lib/python3.10/site-packages/aind_dynamic_foraging_basic_analysis/plot/plot_foraging_session.py:497: UserWarning: This figure includes Axes that are not compatible with tight_layout, so results might be incorrect.\n",
      "  plt.tight_layout()\n",
      "/opt/conda/lib/python3.10/site-packages/aind_dynamic_foraging_basic_analysis/plot/plot_foraging_session.py:497: UserWarning: This figure includes Axes that are not compatible with tight_layout, so results might be incorrect.\n",
      "  plt.tight_layout()\n"
     ]
    },
    {
     "name": "stdout",
     "output_type": "stream",
     "text": [
      "Old data, using hopkins formats\n",
      "Combining behavior_ZS061_2021-03-23_16-08-12\n",
      "Processing 7 files in /root/capsule/scratch/ZS061/behavior_ZS061_2021-03-23_16-08-12/ephys/curated/figures/response\n",
      "Combined PDF saved as: /root/capsule/scratch/ZS061/behavior_ZS061_2021-03-23_16-08-12/ephys/curated/behavior_ZS061_2021-03-23_16-08-12_unit_beh_response.pdf\n",
      "Processed behavior_ZS061_2021-03-23_16-08-12\n",
      "Old data, using hopkins formats\n",
      "Old data, using hopkins formats\n",
      "Old data, using hopkins formats\n",
      "No unit table found for behavior_ZS061_2021-03-19_17-52-45 in curated data.\n",
      "Old data, using hopkins formats\n",
      "Old data, using hopkins formats\n",
      "Old data, using hopkins formats\n",
      "Old data, using hopkins formats\n",
      "Old data, using hopkins formats\n",
      "Old data, using hopkins formats\n",
      "Old data, using hopkins formats\n",
      "Old data, using hopkins formats\n",
      "Old data, using hopkins formats\n",
      "Old data, using hopkins formats\n",
      "Old data, using hopkins formats\n",
      "Plotting unit TT3_SS_03\n",
      "Plotting unit TT4_SS_01\n",
      "Plotting unit TT3_SS_01\n"
     ]
    },
    {
     "name": "stderr",
     "output_type": "stream",
     "text": [
      "/opt/conda/lib/python3.10/site-packages/aind_dynamic_foraging_basic_analysis/plot/plot_foraging_session.py:497: UserWarning: This figure includes Axes that are not compatible with tight_layout, so results might be incorrect.\n",
      "  plt.tight_layout()\n",
      "/opt/conda/lib/python3.10/site-packages/aind_dynamic_foraging_basic_analysis/plot/plot_foraging_session.py:497: UserWarning: This figure includes Axes that are not compatible with tight_layout, so results might be incorrect.\n",
      "  plt.tight_layout()\n",
      "/opt/conda/lib/python3.10/site-packages/aind_dynamic_foraging_basic_analysis/plot/plot_foraging_session.py:497: UserWarning: This figure includes Axes that are not compatible with tight_layout, so results might be incorrect.\n",
      "  plt.tight_layout()\n"
     ]
    },
    {
     "name": "stdout",
     "output_type": "stream",
     "text": [
      "Old data, using hopkins formats\n",
      "Combining behavior_ZS061_2021-03-20_18-03-26\n",
      "Processing 4 files in /root/capsule/scratch/ZS061/behavior_ZS061_2021-03-20_18-03-26/ephys/curated/figures/go_cue\n",
      "Combined PDF saved as: /root/capsule/scratch/ZS061/behavior_ZS061_2021-03-20_18-03-26/ephys/curated/behavior_ZS061_2021-03-20_18-03-26_unit_beh_go_cue.pdf\n",
      "Old data, using hopkins formats\n",
      "Old data, using hopkins formats\n",
      "Old data, using hopkins formats\n",
      "Old data, using hopkins formats\n",
      "Old data, using hopkins formats\n",
      "Old data, using hopkins formats\n",
      "Old data, using hopkins formats\n",
      "Old data, using hopkins formats\n",
      "Plotting unit TT3_SS_01\n",
      "Plotting unit TT3_SS_03\n",
      "Plotting unit TT4_SS_01\n"
     ]
    },
    {
     "name": "stderr",
     "output_type": "stream",
     "text": [
      "/opt/conda/lib/python3.10/site-packages/aind_dynamic_foraging_basic_analysis/plot/plot_foraging_session.py:497: UserWarning: This figure includes Axes that are not compatible with tight_layout, so results might be incorrect.\n",
      "  plt.tight_layout()\n",
      "/opt/conda/lib/python3.10/site-packages/aind_dynamic_foraging_basic_analysis/plot/plot_foraging_session.py:497: UserWarning: This figure includes Axes that are not compatible with tight_layout, so results might be incorrect.\n",
      "  plt.tight_layout()\n",
      "/opt/conda/lib/python3.10/site-packages/aind_dynamic_foraging_basic_analysis/plot/plot_foraging_session.py:497: UserWarning: This figure includes Axes that are not compatible with tight_layout, so results might be incorrect.\n",
      "  plt.tight_layout()\n"
     ]
    },
    {
     "name": "stdout",
     "output_type": "stream",
     "text": [
      "Old data, using hopkins formats\n",
      "Combining behavior_ZS061_2021-03-20_18-03-26\n",
      "Processing 4 files in /root/capsule/scratch/ZS061/behavior_ZS061_2021-03-20_18-03-26/ephys/curated/figures/response\n",
      "Combined PDF saved as: /root/capsule/scratch/ZS061/behavior_ZS061_2021-03-20_18-03-26/ephys/curated/behavior_ZS061_2021-03-20_18-03-26_unit_beh_response.pdf\n",
      "Processed behavior_ZS061_2021-03-20_18-03-26\n",
      "Old data, using hopkins formats\n",
      "Old data, using hopkins formats\n",
      "Old data, using hopkins formats\n",
      "Old data, using hopkins formats\n",
      "Old data, using hopkins formats\n",
      "Old data, using hopkins formats\n",
      "Old data, using hopkins formats\n",
      "Old data, using hopkins formats\n",
      "Old data, using hopkins formats\n",
      "Old data, using hopkins formats\n",
      "Old data, using hopkins formats\n",
      "Old data, using hopkins formats\n",
      "Plotting unit TT3_SS_01\n",
      "Plotting unit TT3_SS_02\n",
      "Plotting unit TT3_SS_03\n",
      "Plotting unit TT4_SS_01\n"
     ]
    },
    {
     "name": "stderr",
     "output_type": "stream",
     "text": [
      "/opt/conda/lib/python3.10/site-packages/aind_dynamic_foraging_basic_analysis/plot/plot_foraging_session.py:497: UserWarning: This figure includes Axes that are not compatible with tight_layout, so results might be incorrect.\n",
      "  plt.tight_layout()\n",
      "/opt/conda/lib/python3.10/site-packages/aind_dynamic_foraging_basic_analysis/plot/plot_foraging_session.py:497: UserWarning: This figure includes Axes that are not compatible with tight_layout, so results might be incorrect.\n",
      "  plt.tight_layout()\n",
      "/opt/conda/lib/python3.10/site-packages/aind_dynamic_foraging_basic_analysis/plot/plot_foraging_session.py:497: UserWarning: This figure includes Axes that are not compatible with tight_layout, so results might be incorrect.\n",
      "  plt.tight_layout()\n",
      "/opt/conda/lib/python3.10/site-packages/aind_dynamic_foraging_basic_analysis/plot/plot_foraging_session.py:497: UserWarning: This figure includes Axes that are not compatible with tight_layout, so results might be incorrect.\n",
      "  plt.tight_layout()\n"
     ]
    },
    {
     "name": "stdout",
     "output_type": "stream",
     "text": [
      "Old data, using hopkins formats\n",
      "Combining behavior_ZS061_2021-03-22_17-35-53\n",
      "Processing 5 files in /root/capsule/scratch/ZS061/behavior_ZS061_2021-03-22_17-35-53/ephys/curated/figures/go_cue\n",
      "Combined PDF saved as: /root/capsule/scratch/ZS061/behavior_ZS061_2021-03-22_17-35-53/ephys/curated/behavior_ZS061_2021-03-22_17-35-53_unit_beh_go_cue.pdf\n",
      "Old data, using hopkins formats\n",
      "Old data, using hopkins formats\n",
      "Old data, using hopkins formats\n",
      "Old data, using hopkins formats\n",
      "Old data, using hopkins formats\n",
      "Old data, using hopkins formats\n",
      "Old data, using hopkins formats\n",
      "Old data, using hopkins formats\n",
      "Old data, using hopkins formats\n",
      "Plotting unit TT3_SS_02\n",
      "Plotting unit TT3_SS_03\n",
      "Plotting unit TT4_SS_01\n",
      "Plotting unit TT3_SS_01\n"
     ]
    },
    {
     "name": "stderr",
     "output_type": "stream",
     "text": [
      "/opt/conda/lib/python3.10/site-packages/aind_dynamic_foraging_basic_analysis/plot/plot_foraging_session.py:497: UserWarning: This figure includes Axes that are not compatible with tight_layout, so results might be incorrect.\n",
      "  plt.tight_layout()\n",
      "/opt/conda/lib/python3.10/site-packages/aind_dynamic_foraging_basic_analysis/plot/plot_foraging_session.py:497: UserWarning: This figure includes Axes that are not compatible with tight_layout, so results might be incorrect.\n",
      "  plt.tight_layout()\n",
      "/opt/conda/lib/python3.10/site-packages/aind_dynamic_foraging_basic_analysis/plot/plot_foraging_session.py:497: UserWarning: This figure includes Axes that are not compatible with tight_layout, so results might be incorrect.\n",
      "  plt.tight_layout()\n",
      "/opt/conda/lib/python3.10/site-packages/aind_dynamic_foraging_basic_analysis/plot/plot_foraging_session.py:497: UserWarning: This figure includes Axes that are not compatible with tight_layout, so results might be incorrect.\n",
      "  plt.tight_layout()\n"
     ]
    },
    {
     "name": "stdout",
     "output_type": "stream",
     "text": [
      "Old data, using hopkins formats\n",
      "Combining behavior_ZS061_2021-03-22_17-35-53\n",
      "Processing 5 files in /root/capsule/scratch/ZS061/behavior_ZS061_2021-03-22_17-35-53/ephys/curated/figures/response\n",
      "Combined PDF saved as: /root/capsule/scratch/ZS061/behavior_ZS061_2021-03-22_17-35-53/ephys/curated/behavior_ZS061_2021-03-22_17-35-53_unit_beh_response.pdf\n",
      "Processed behavior_ZS061_2021-03-22_17-35-53\n",
      "Old data, using hopkins formats\n",
      "Old data, using hopkins formats\n",
      "Old data, using hopkins formats\n",
      "Old data, using hopkins formats\n",
      "Old data, using hopkins formats\n",
      "Old data, using hopkins formats\n",
      "Old data, using hopkins formats\n",
      "Old data, using hopkins formats\n",
      "Old data, using hopkins formats\n",
      "Old data, using hopkins formats\n",
      "Old data, using hopkins formats\n",
      "Plotting unit TT1_SS_02\n",
      "Old data, using hopkins formats\n",
      "Plotting unit TT1_SS_03\n",
      "Old data, using hopkins formats\n",
      "Old data, using hopkins formats\n",
      "Old data, using hopkins formats\n",
      "Plotting unit TT3_SS_01\n",
      "Plotting unit TT1_SS_04\n",
      "Plotting unit TT4_SS_01\n",
      "Plotting unit TT5_SS_01\n",
      "Plotting unit TT3_SS_02\n"
     ]
    },
    {
     "name": "stderr",
     "output_type": "stream",
     "text": [
      "/opt/conda/lib/python3.10/site-packages/aind_dynamic_foraging_basic_analysis/plot/plot_foraging_session.py:497: UserWarning: This figure includes Axes that are not compatible with tight_layout, so results might be incorrect.\n",
      "  plt.tight_layout()\n",
      "/opt/conda/lib/python3.10/site-packages/aind_dynamic_foraging_basic_analysis/plot/plot_foraging_session.py:497: UserWarning: This figure includes Axes that are not compatible with tight_layout, so results might be incorrect.\n",
      "  plt.tight_layout()\n",
      "/opt/conda/lib/python3.10/site-packages/aind_dynamic_foraging_basic_analysis/plot/plot_foraging_session.py:497: UserWarning: This figure includes Axes that are not compatible with tight_layout, so results might be incorrect.\n",
      "  plt.tight_layout()\n",
      "/opt/conda/lib/python3.10/site-packages/aind_dynamic_foraging_basic_analysis/plot/plot_foraging_session.py:497: UserWarning: This figure includes Axes that are not compatible with tight_layout, so results might be incorrect.\n",
      "  plt.tight_layout()\n",
      "/opt/conda/lib/python3.10/site-packages/aind_dynamic_foraging_basic_analysis/plot/plot_foraging_session.py:497: UserWarning: This figure includes Axes that are not compatible with tight_layout, so results might be incorrect.\n",
      "  plt.tight_layout()\n",
      "/opt/conda/lib/python3.10/site-packages/aind_dynamic_foraging_basic_analysis/plot/plot_foraging_session.py:497: UserWarning: This figure includes Axes that are not compatible with tight_layout, so results might be incorrect.\n",
      "  plt.tight_layout()\n",
      "/opt/conda/lib/python3.10/site-packages/aind_dynamic_foraging_basic_analysis/plot/plot_foraging_session.py:497: UserWarning: This figure includes Axes that are not compatible with tight_layout, so results might be incorrect.\n",
      "  plt.tight_layout()\n"
     ]
    },
    {
     "name": "stdout",
     "output_type": "stream",
     "text": [
      "Old data, using hopkins formats\n",
      "Combining behavior_ZS061_2021-03-26_17-28-33\n",
      "Processing 8 files in /root/capsule/scratch/ZS061/behavior_ZS061_2021-03-26_17-28-33/ephys/curated/figures/go_cue\n",
      "Combined PDF saved as: /root/capsule/scratch/ZS061/behavior_ZS061_2021-03-26_17-28-33/ephys/curated/behavior_ZS061_2021-03-26_17-28-33_unit_beh_go_cue.pdf\n",
      "Old data, using hopkins formats\n",
      "Old data, using hopkins formats\n",
      "Old data, using hopkins formats\n",
      "Old data, using hopkins formats\n",
      "Old data, using hopkins formats\n",
      "Old data, using hopkins formats\n",
      "Old data, using hopkins formats\n",
      "Old data, using hopkins formats\n",
      "Old data, using hopkins formats\n",
      "Plotting unit TT1_SS_02\n",
      "Old data, using hopkins formats\n",
      "Old data, using hopkins formats\n",
      "Plotting unit TT1_SS_03\n",
      "Plotting unit TT1_SS_04\n",
      "Old data, using hopkins formats\n",
      "Plotting unit TT3_SS_01\n",
      "Plotting unit TT3_SS_02\n",
      "Plotting unit TT4_SS_01\n",
      "Plotting unit TT5_SS_01\n"
     ]
    },
    {
     "name": "stderr",
     "output_type": "stream",
     "text": [
      "/opt/conda/lib/python3.10/site-packages/aind_dynamic_foraging_basic_analysis/plot/plot_foraging_session.py:497: UserWarning: This figure includes Axes that are not compatible with tight_layout, so results might be incorrect.\n",
      "  plt.tight_layout()\n",
      "/opt/conda/lib/python3.10/site-packages/aind_dynamic_foraging_basic_analysis/plot/plot_foraging_session.py:497: UserWarning: This figure includes Axes that are not compatible with tight_layout, so results might be incorrect.\n",
      "  plt.tight_layout()\n",
      "/opt/conda/lib/python3.10/site-packages/aind_dynamic_foraging_basic_analysis/plot/plot_foraging_session.py:497: UserWarning: This figure includes Axes that are not compatible with tight_layout, so results might be incorrect.\n",
      "  plt.tight_layout()\n",
      "/opt/conda/lib/python3.10/site-packages/aind_dynamic_foraging_basic_analysis/plot/plot_foraging_session.py:497: UserWarning: This figure includes Axes that are not compatible with tight_layout, so results might be incorrect.\n",
      "  plt.tight_layout()\n",
      "/opt/conda/lib/python3.10/site-packages/aind_dynamic_foraging_basic_analysis/plot/plot_foraging_session.py:497: UserWarning: This figure includes Axes that are not compatible with tight_layout, so results might be incorrect.\n",
      "  plt.tight_layout()\n",
      "/opt/conda/lib/python3.10/site-packages/aind_dynamic_foraging_basic_analysis/plot/plot_foraging_session.py:497: UserWarning: This figure includes Axes that are not compatible with tight_layout, so results might be incorrect.\n",
      "  plt.tight_layout()\n",
      "/opt/conda/lib/python3.10/site-packages/aind_dynamic_foraging_basic_analysis/plot/plot_foraging_session.py:497: UserWarning: This figure includes Axes that are not compatible with tight_layout, so results might be incorrect.\n",
      "  plt.tight_layout()\n"
     ]
    },
    {
     "name": "stdout",
     "output_type": "stream",
     "text": [
      "Old data, using hopkins formats\n",
      "Combining behavior_ZS061_2021-03-26_17-28-33\n",
      "Processing 8 files in /root/capsule/scratch/ZS061/behavior_ZS061_2021-03-26_17-28-33/ephys/curated/figures/response\n",
      "Combined PDF saved as: /root/capsule/scratch/ZS061/behavior_ZS061_2021-03-26_17-28-33/ephys/curated/behavior_ZS061_2021-03-26_17-28-33_unit_beh_response.pdf\n",
      "Processed behavior_ZS061_2021-03-26_17-28-33\n",
      "Old data, using hopkins formats\n",
      "Old data, using hopkins formats\n",
      "Old data, using hopkins formats\n",
      "Old data, using hopkins formats\n",
      "Old data, using hopkins formats\n",
      "Old data, using hopkins formats\n",
      "Old data, using hopkins formats\n",
      "Old data, using hopkins formats\n",
      "Old data, using hopkins formats\n",
      "Old data, using hopkins formats\n",
      "Old data, using hopkins formats\n",
      "Old data, using hopkins formats\n",
      "Old data, using hopkins formats\n",
      "Old data, using hopkins formats\n",
      "Plotting unit TT3_SS_01\n",
      "Plotting unit TT1_SS_01\n",
      "Plotting unit TT3_SS_02\n",
      "Plotting unit TT3_SS_03\n",
      "Plotting unit TT1_SS_02\n",
      "Plotting unit TT4_SS_02\n"
     ]
    },
    {
     "name": "stderr",
     "output_type": "stream",
     "text": [
      "/opt/conda/lib/python3.10/site-packages/aind_dynamic_foraging_basic_analysis/plot/plot_foraging_session.py:497: UserWarning: This figure includes Axes that are not compatible with tight_layout, so results might be incorrect.\n",
      "  plt.tight_layout()\n",
      "/opt/conda/lib/python3.10/site-packages/aind_dynamic_foraging_basic_analysis/plot/plot_foraging_session.py:497: UserWarning: This figure includes Axes that are not compatible with tight_layout, so results might be incorrect.\n",
      "  plt.tight_layout()\n",
      "/opt/conda/lib/python3.10/site-packages/aind_dynamic_foraging_basic_analysis/plot/plot_foraging_session.py:497: UserWarning: This figure includes Axes that are not compatible with tight_layout, so results might be incorrect.\n",
      "  plt.tight_layout()\n",
      "/opt/conda/lib/python3.10/site-packages/aind_dynamic_foraging_basic_analysis/plot/plot_foraging_session.py:497: UserWarning: This figure includes Axes that are not compatible with tight_layout, so results might be incorrect.\n",
      "  plt.tight_layout()\n",
      "/opt/conda/lib/python3.10/site-packages/aind_dynamic_foraging_basic_analysis/plot/plot_foraging_session.py:497: UserWarning: This figure includes Axes that are not compatible with tight_layout, so results might be incorrect.\n",
      "  plt.tight_layout()\n",
      "/opt/conda/lib/python3.10/site-packages/aind_dynamic_foraging_basic_analysis/plot/plot_foraging_session.py:497: UserWarning: This figure includes Axes that are not compatible with tight_layout, so results might be incorrect.\n",
      "  plt.tight_layout()\n"
     ]
    },
    {
     "name": "stdout",
     "output_type": "stream",
     "text": [
      "Old data, using hopkins formats\n",
      "Combining behavior_ZS061_2021-03-24_17-24-09\n",
      "Processing 7 files in /root/capsule/scratch/ZS061/behavior_ZS061_2021-03-24_17-24-09/ephys/curated/figures/go_cue\n",
      "Combined PDF saved as: /root/capsule/scratch/ZS061/behavior_ZS061_2021-03-24_17-24-09/ephys/curated/behavior_ZS061_2021-03-24_17-24-09_unit_beh_go_cue.pdf\n",
      "Old data, using hopkins formats\n",
      "Old data, using hopkins formats\n",
      "Old data, using hopkins formats\n",
      "Old data, using hopkins formats\n",
      "Old data, using hopkins formats\n",
      "Old data, using hopkins formats\n",
      "Old data, using hopkins formats\n",
      "Old data, using hopkins formats\n",
      "Old data, using hopkins formats\n",
      "Plotting unit TT1_SS_01\n",
      "Old data, using hopkins formats\n",
      "Plotting unit TT1_SS_02\n",
      "Old data, using hopkins formats\n",
      "Plotting unit TT3_SS_01\n",
      "Plotting unit TT3_SS_02\n",
      "Plotting unit TT4_SS_02\n",
      "Plotting unit TT3_SS_03\n"
     ]
    },
    {
     "name": "stderr",
     "output_type": "stream",
     "text": [
      "/opt/conda/lib/python3.10/site-packages/aind_dynamic_foraging_basic_analysis/plot/plot_foraging_session.py:497: UserWarning: This figure includes Axes that are not compatible with tight_layout, so results might be incorrect.\n",
      "  plt.tight_layout()\n",
      "/opt/conda/lib/python3.10/site-packages/aind_dynamic_foraging_basic_analysis/plot/plot_foraging_session.py:497: UserWarning: This figure includes Axes that are not compatible with tight_layout, so results might be incorrect.\n",
      "  plt.tight_layout()\n",
      "/opt/conda/lib/python3.10/site-packages/aind_dynamic_foraging_basic_analysis/plot/plot_foraging_session.py:497: UserWarning: This figure includes Axes that are not compatible with tight_layout, so results might be incorrect.\n",
      "  plt.tight_layout()\n",
      "/opt/conda/lib/python3.10/site-packages/aind_dynamic_foraging_basic_analysis/plot/plot_foraging_session.py:497: UserWarning: This figure includes Axes that are not compatible with tight_layout, so results might be incorrect.\n",
      "  plt.tight_layout()\n",
      "/opt/conda/lib/python3.10/site-packages/aind_dynamic_foraging_basic_analysis/plot/plot_foraging_session.py:497: UserWarning: This figure includes Axes that are not compatible with tight_layout, so results might be incorrect.\n",
      "  plt.tight_layout()\n",
      "/opt/conda/lib/python3.10/site-packages/aind_dynamic_foraging_basic_analysis/plot/plot_foraging_session.py:497: UserWarning: This figure includes Axes that are not compatible with tight_layout, so results might be incorrect.\n",
      "  plt.tight_layout()\n"
     ]
    },
    {
     "name": "stdout",
     "output_type": "stream",
     "text": [
      "Old data, using hopkins formats\n",
      "Combining behavior_ZS061_2021-03-24_17-24-09\n",
      "Processing 7 files in /root/capsule/scratch/ZS061/behavior_ZS061_2021-03-24_17-24-09/ephys/curated/figures/response\n",
      "Combined PDF saved as: /root/capsule/scratch/ZS061/behavior_ZS061_2021-03-24_17-24-09/ephys/curated/behavior_ZS061_2021-03-24_17-24-09_unit_beh_response.pdf\n",
      "Processed behavior_ZS061_2021-03-24_17-24-09\n",
      "Old data, using hopkins formats\n",
      "Old data, using hopkins formats\n",
      "Old data, using hopkins formats\n",
      "Old data, using hopkins formats\n",
      "Old data, using hopkins formats\n",
      "Old data, using hopkins formats\n",
      "Old data, using hopkins formats\n",
      "Old data, using hopkins formats\n",
      "Old data, using hopkins formats\n",
      "Plotting unit TT4_SS_01\n"
     ]
    },
    {
     "name": "stderr",
     "output_type": "stream",
     "text": [
      "/opt/conda/lib/python3.10/site-packages/aind_dynamic_foraging_basic_analysis/plot/plot_foraging_session.py:497: UserWarning: This figure includes Axes that are not compatible with tight_layout, so results might be incorrect.\n",
      "  plt.tight_layout()\n"
     ]
    },
    {
     "name": "stdout",
     "output_type": "stream",
     "text": [
      "Old data, using hopkins formats\n",
      "Combining behavior_ZS061_2021-04-28_16-35-50\n",
      "Processing 2 files in /root/capsule/scratch/ZS061/behavior_ZS061_2021-04-28_16-35-50/ephys/curated/figures/go_cue\n",
      "Combined PDF saved as: /root/capsule/scratch/ZS061/behavior_ZS061_2021-04-28_16-35-50/ephys/curated/behavior_ZS061_2021-04-28_16-35-50_unit_beh_go_cue.pdf\n",
      "Old data, using hopkins formats\n",
      "Old data, using hopkins formats\n",
      "Old data, using hopkins formats\n",
      "Old data, using hopkins formats\n",
      "Old data, using hopkins formats\n",
      "Old data, using hopkins formats\n",
      "Plotting unit TT4_SS_01\n"
     ]
    },
    {
     "name": "stderr",
     "output_type": "stream",
     "text": [
      "/opt/conda/lib/python3.10/site-packages/aind_dynamic_foraging_basic_analysis/plot/plot_foraging_session.py:497: UserWarning: This figure includes Axes that are not compatible with tight_layout, so results might be incorrect.\n",
      "  plt.tight_layout()\n"
     ]
    },
    {
     "name": "stdout",
     "output_type": "stream",
     "text": [
      "Old data, using hopkins formats\n",
      "Combining behavior_ZS061_2021-04-28_16-35-50\n",
      "Processing 2 files in /root/capsule/scratch/ZS061/behavior_ZS061_2021-04-28_16-35-50/ephys/curated/figures/response\n",
      "Combined PDF saved as: /root/capsule/scratch/ZS061/behavior_ZS061_2021-04-28_16-35-50/ephys/curated/behavior_ZS061_2021-04-28_16-35-50_unit_beh_response.pdf\n",
      "Processed behavior_ZS061_2021-04-28_16-35-50\n",
      "Old data, using hopkins formats\n",
      "Old data, using hopkins formats\n",
      "Old data, using hopkins formats\n",
      "Old data, using hopkins formats\n",
      "Old data, using hopkins formats\n",
      "Old data, using hopkins formats\n",
      "Old data, using hopkins formats\n",
      "Old data, using hopkins formats\n",
      "Old data, using hopkins formats\n",
      "Plotting unit TT4_SS_01\n"
     ]
    },
    {
     "name": "stderr",
     "output_type": "stream",
     "text": [
      "/opt/conda/lib/python3.10/site-packages/aind_dynamic_foraging_basic_analysis/plot/plot_foraging_session.py:497: UserWarning: This figure includes Axes that are not compatible with tight_layout, so results might be incorrect.\n",
      "  plt.tight_layout()\n"
     ]
    },
    {
     "name": "stdout",
     "output_type": "stream",
     "text": [
      "Old data, using hopkins formats\n",
      "Combining behavior_ZS061_2021-04-29_16-18-51\n",
      "Processing 2 files in /root/capsule/scratch/ZS061/behavior_ZS061_2021-04-29_16-18-51/ephys/curated/figures/go_cue\n",
      "Combined PDF saved as: /root/capsule/scratch/ZS061/behavior_ZS061_2021-04-29_16-18-51/ephys/curated/behavior_ZS061_2021-04-29_16-18-51_unit_beh_go_cue.pdf\n",
      "Old data, using hopkins formats\n",
      "Old data, using hopkins formats\n",
      "Old data, using hopkins formats\n",
      "Old data, using hopkins formats\n",
      "Old data, using hopkins formats\n",
      "Old data, using hopkins formats\n",
      "Plotting unit TT4_SS_01\n"
     ]
    },
    {
     "name": "stderr",
     "output_type": "stream",
     "text": [
      "/opt/conda/lib/python3.10/site-packages/aind_dynamic_foraging_basic_analysis/plot/plot_foraging_session.py:497: UserWarning: This figure includes Axes that are not compatible with tight_layout, so results might be incorrect.\n",
      "  plt.tight_layout()\n"
     ]
    },
    {
     "name": "stdout",
     "output_type": "stream",
     "text": [
      "Old data, using hopkins formats\n",
      "Combining behavior_ZS061_2021-04-29_16-18-51\n",
      "Processing 2 files in /root/capsule/scratch/ZS061/behavior_ZS061_2021-04-29_16-18-51/ephys/curated/figures/response\n",
      "Combined PDF saved as: /root/capsule/scratch/ZS061/behavior_ZS061_2021-04-29_16-18-51/ephys/curated/behavior_ZS061_2021-04-29_16-18-51_unit_beh_response.pdf\n",
      "Processed behavior_ZS061_2021-04-29_16-18-51\n",
      "Old data, using hopkins formats\n",
      "Old data, using hopkins formats\n",
      "Old data, using hopkins formats\n",
      "Old data, using hopkins formats\n",
      "Old data, using hopkins formats\n",
      "Old data, using hopkins formats\n",
      "Old data, using hopkins formats\n",
      "Old data, using hopkins formats\n",
      "Old data, using hopkins formats\n",
      "Plotting unit TT4_SS_04\n"
     ]
    },
    {
     "name": "stderr",
     "output_type": "stream",
     "text": [
      "/opt/conda/lib/python3.10/site-packages/aind_dynamic_foraging_basic_analysis/plot/plot_foraging_session.py:497: UserWarning: This figure includes Axes that are not compatible with tight_layout, so results might be incorrect.\n",
      "  plt.tight_layout()\n"
     ]
    },
    {
     "name": "stdout",
     "output_type": "stream",
     "text": [
      "Old data, using hopkins formats\n",
      "Combining behavior_ZS061_2021-04-19_18-31-40\n",
      "Processing 2 files in /root/capsule/scratch/ZS061/behavior_ZS061_2021-04-19_18-31-40/ephys/curated/figures/go_cue\n",
      "Combined PDF saved as: /root/capsule/scratch/ZS061/behavior_ZS061_2021-04-19_18-31-40/ephys/curated/behavior_ZS061_2021-04-19_18-31-40_unit_beh_go_cue.pdf\n",
      "Old data, using hopkins formats\n",
      "Old data, using hopkins formats\n",
      "Old data, using hopkins formats\n",
      "Old data, using hopkins formats\n",
      "Old data, using hopkins formats\n",
      "Old data, using hopkins formats\n",
      "Plotting unit TT4_SS_04\n"
     ]
    },
    {
     "name": "stderr",
     "output_type": "stream",
     "text": [
      "/opt/conda/lib/python3.10/site-packages/aind_dynamic_foraging_basic_analysis/plot/plot_foraging_session.py:497: UserWarning: This figure includes Axes that are not compatible with tight_layout, so results might be incorrect.\n",
      "  plt.tight_layout()\n"
     ]
    },
    {
     "name": "stdout",
     "output_type": "stream",
     "text": [
      "Old data, using hopkins formats\n",
      "Combining behavior_ZS061_2021-04-19_18-31-40\n",
      "Processing 2 files in /root/capsule/scratch/ZS061/behavior_ZS061_2021-04-19_18-31-40/ephys/curated/figures/response\n",
      "Combined PDF saved as: /root/capsule/scratch/ZS061/behavior_ZS061_2021-04-19_18-31-40/ephys/curated/behavior_ZS061_2021-04-19_18-31-40_unit_beh_response.pdf\n",
      "Processed behavior_ZS061_2021-04-19_18-31-40\n",
      "Old data, using hopkins formats\n",
      "Old data, using hopkins formats\n",
      "Old data, using hopkins formats\n",
      "Old data, using hopkins formats\n",
      "Old data, using hopkins formats\n",
      "Old data, using hopkins formats\n",
      "Old data, using hopkins formats\n",
      "Old data, using hopkins formats\n",
      "Old data, using hopkins formats\n",
      "Plotting unit TT4_SS_01\n"
     ]
    },
    {
     "name": "stderr",
     "output_type": "stream",
     "text": [
      "/opt/conda/lib/python3.10/site-packages/aind_dynamic_foraging_basic_analysis/plot/plot_foraging_session.py:497: UserWarning: This figure includes Axes that are not compatible with tight_layout, so results might be incorrect.\n",
      "  plt.tight_layout()\n"
     ]
    },
    {
     "name": "stdout",
     "output_type": "stream",
     "text": [
      "Old data, using hopkins formats\n",
      "Combining behavior_ZS061_2021-04-24_16-48-52\n",
      "Processing 2 files in /root/capsule/scratch/ZS061/behavior_ZS061_2021-04-24_16-48-52/ephys/curated/figures/go_cue\n",
      "Combined PDF saved as: /root/capsule/scratch/ZS061/behavior_ZS061_2021-04-24_16-48-52/ephys/curated/behavior_ZS061_2021-04-24_16-48-52_unit_beh_go_cue.pdf\n",
      "Old data, using hopkins formats\n",
      "Old data, using hopkins formats\n",
      "Old data, using hopkins formats\n",
      "Old data, using hopkins formats\n",
      "Old data, using hopkins formats\n",
      "Old data, using hopkins formats\n",
      "Plotting unit TT4_SS_01\n"
     ]
    },
    {
     "name": "stderr",
     "output_type": "stream",
     "text": [
      "/opt/conda/lib/python3.10/site-packages/aind_dynamic_foraging_basic_analysis/plot/plot_foraging_session.py:497: UserWarning: This figure includes Axes that are not compatible with tight_layout, so results might be incorrect.\n",
      "  plt.tight_layout()\n"
     ]
    },
    {
     "name": "stdout",
     "output_type": "stream",
     "text": [
      "Old data, using hopkins formats\n",
      "Combining behavior_ZS061_2021-04-24_16-48-52\n",
      "Processing 2 files in /root/capsule/scratch/ZS061/behavior_ZS061_2021-04-24_16-48-52/ephys/curated/figures/response\n",
      "Combined PDF saved as: /root/capsule/scratch/ZS061/behavior_ZS061_2021-04-24_16-48-52/ephys/curated/behavior_ZS061_2021-04-24_16-48-52_unit_beh_response.pdf\n",
      "Processed behavior_ZS061_2021-04-24_16-48-52\n",
      "Old data, using hopkins formats\n",
      "Old data, using hopkins formats\n",
      "Old data, using hopkins formats\n",
      "Old data, using hopkins formats\n",
      "Old data, using hopkins formats\n",
      "Old data, using hopkins formats\n",
      "Old data, using hopkins formats\n",
      "Old data, using hopkins formats\n",
      "Old data, using hopkins formats\n",
      "Plotting unit TT4_SS_01\n"
     ]
    },
    {
     "name": "stderr",
     "output_type": "stream",
     "text": [
      "/opt/conda/lib/python3.10/site-packages/aind_dynamic_foraging_basic_analysis/plot/plot_foraging_session.py:497: UserWarning: This figure includes Axes that are not compatible with tight_layout, so results might be incorrect.\n",
      "  plt.tight_layout()\n"
     ]
    },
    {
     "name": "stdout",
     "output_type": "stream",
     "text": [
      "Old data, using hopkins formats\n",
      "Combining behavior_ZS061_2021-04-21_17-03-09\n",
      "Processing 2 files in /root/capsule/scratch/ZS061/behavior_ZS061_2021-04-21_17-03-09/ephys/curated/figures/go_cue\n",
      "Combined PDF saved as: /root/capsule/scratch/ZS061/behavior_ZS061_2021-04-21_17-03-09/ephys/curated/behavior_ZS061_2021-04-21_17-03-09_unit_beh_go_cue.pdf\n",
      "Old data, using hopkins formats\n",
      "Old data, using hopkins formats\n",
      "Old data, using hopkins formats\n",
      "Old data, using hopkins formats\n",
      "Old data, using hopkins formats\n",
      "Old data, using hopkins formats\n",
      "Plotting unit TT4_SS_01\n"
     ]
    },
    {
     "name": "stderr",
     "output_type": "stream",
     "text": [
      "/opt/conda/lib/python3.10/site-packages/aind_dynamic_foraging_basic_analysis/plot/plot_foraging_session.py:497: UserWarning: This figure includes Axes that are not compatible with tight_layout, so results might be incorrect.\n",
      "  plt.tight_layout()\n"
     ]
    },
    {
     "name": "stdout",
     "output_type": "stream",
     "text": [
      "Old data, using hopkins formats\n",
      "Combining behavior_ZS061_2021-04-21_17-03-09\n",
      "Processing 2 files in /root/capsule/scratch/ZS061/behavior_ZS061_2021-04-21_17-03-09/ephys/curated/figures/response\n",
      "Combined PDF saved as: /root/capsule/scratch/ZS061/behavior_ZS061_2021-04-21_17-03-09/ephys/curated/behavior_ZS061_2021-04-21_17-03-09_unit_beh_response.pdf\n",
      "Processed behavior_ZS061_2021-04-21_17-03-09\n",
      "Old data, using hopkins formats\n",
      "Old data, using hopkins formats\n",
      "Old data, using hopkins formats\n",
      "Old data, using hopkins formats\n",
      "Old data, using hopkins formats\n",
      "Old data, using hopkins formats\n",
      "Old data, using hopkins formats\n",
      "Old data, using hopkins formats\n",
      "Old data, using hopkins formats\n",
      "Plotting unit TT4_SS_01\n"
     ]
    },
    {
     "name": "stderr",
     "output_type": "stream",
     "text": [
      "/opt/conda/lib/python3.10/site-packages/aind_dynamic_foraging_basic_analysis/plot/plot_foraging_session.py:497: UserWarning: This figure includes Axes that are not compatible with tight_layout, so results might be incorrect.\n",
      "  plt.tight_layout()\n"
     ]
    },
    {
     "name": "stdout",
     "output_type": "stream",
     "text": [
      "Old data, using hopkins formats\n",
      "Combining behavior_ZS061_2021-04-20_15-49-57\n",
      "Processing 2 files in /root/capsule/scratch/ZS061/behavior_ZS061_2021-04-20_15-49-57/ephys/curated/figures/go_cue\n",
      "Combined PDF saved as: /root/capsule/scratch/ZS061/behavior_ZS061_2021-04-20_15-49-57/ephys/curated/behavior_ZS061_2021-04-20_15-49-57_unit_beh_go_cue.pdf\n",
      "Old data, using hopkins formats\n",
      "Old data, using hopkins formats\n",
      "Old data, using hopkins formats\n",
      "Old data, using hopkins formats\n",
      "Old data, using hopkins formats\n",
      "Old data, using hopkins formats\n",
      "Plotting unit TT4_SS_01\n"
     ]
    },
    {
     "name": "stderr",
     "output_type": "stream",
     "text": [
      "/opt/conda/lib/python3.10/site-packages/aind_dynamic_foraging_basic_analysis/plot/plot_foraging_session.py:497: UserWarning: This figure includes Axes that are not compatible with tight_layout, so results might be incorrect.\n",
      "  plt.tight_layout()\n"
     ]
    },
    {
     "name": "stdout",
     "output_type": "stream",
     "text": [
      "Old data, using hopkins formats\n",
      "Combining behavior_ZS061_2021-04-20_15-49-57\n",
      "Processing 2 files in /root/capsule/scratch/ZS061/behavior_ZS061_2021-04-20_15-49-57/ephys/curated/figures/response\n",
      "Combined PDF saved as: /root/capsule/scratch/ZS061/behavior_ZS061_2021-04-20_15-49-57/ephys/curated/behavior_ZS061_2021-04-20_15-49-57_unit_beh_response.pdf\n",
      "Processed behavior_ZS061_2021-04-20_15-49-57\n",
      "Old data, using hopkins formats\n",
      "Old data, using hopkins formats\n",
      "Old data, using hopkins formats\n",
      "Old data, using hopkins formats\n",
      "Old data, using hopkins formats\n",
      "Old data, using hopkins formats\n",
      "Old data, using hopkins formats\n",
      "Old data, using hopkins formats\n",
      "Old data, using hopkins formats\n",
      "Plotting unit TT4_SS_01\n"
     ]
    },
    {
     "name": "stderr",
     "output_type": "stream",
     "text": [
      "/opt/conda/lib/python3.10/site-packages/aind_dynamic_foraging_basic_analysis/plot/plot_foraging_session.py:497: UserWarning: This figure includes Axes that are not compatible with tight_layout, so results might be incorrect.\n",
      "  plt.tight_layout()\n"
     ]
    },
    {
     "name": "stdout",
     "output_type": "stream",
     "text": [
      "Old data, using hopkins formats\n",
      "Combining behavior_ZS061_2021-04-26_18-08-01\n",
      "Processing 2 files in /root/capsule/scratch/ZS061/behavior_ZS061_2021-04-26_18-08-01/ephys/curated/figures/go_cue\n",
      "Combined PDF saved as: /root/capsule/scratch/ZS061/behavior_ZS061_2021-04-26_18-08-01/ephys/curated/behavior_ZS061_2021-04-26_18-08-01_unit_beh_go_cue.pdf\n",
      "Old data, using hopkins formats\n",
      "Old data, using hopkins formats\n",
      "Old data, using hopkins formats\n",
      "Old data, using hopkins formats\n",
      "Old data, using hopkins formats\n",
      "Old data, using hopkins formats\n",
      "Plotting unit TT4_SS_01\n"
     ]
    },
    {
     "name": "stderr",
     "output_type": "stream",
     "text": [
      "/opt/conda/lib/python3.10/site-packages/aind_dynamic_foraging_basic_analysis/plot/plot_foraging_session.py:497: UserWarning: This figure includes Axes that are not compatible with tight_layout, so results might be incorrect.\n",
      "  plt.tight_layout()\n"
     ]
    },
    {
     "name": "stdout",
     "output_type": "stream",
     "text": [
      "Old data, using hopkins formats\n",
      "Combining behavior_ZS061_2021-04-26_18-08-01\n",
      "Processing 2 files in /root/capsule/scratch/ZS061/behavior_ZS061_2021-04-26_18-08-01/ephys/curated/figures/response\n",
      "Combined PDF saved as: /root/capsule/scratch/ZS061/behavior_ZS061_2021-04-26_18-08-01/ephys/curated/behavior_ZS061_2021-04-26_18-08-01_unit_beh_response.pdf\n",
      "Processed behavior_ZS061_2021-04-26_18-08-01\n",
      "Old data, using hopkins formats\n",
      "Old data, using hopkins formats\n",
      "Old data, using hopkins formats\n",
      "No unit table found for behavior_ZS061_2021-04-22_16-25-00 in curated data.\n",
      "Old data, using hopkins formats\n",
      "Old data, using hopkins formats\n",
      "Old data, using hopkins formats\n",
      "Old data, using hopkins formats\n",
      "Old data, using hopkins formats\n",
      "Old data, using hopkins formats\n",
      "Old data, using hopkins formats\n",
      "Old data, using hopkins formats\n",
      "Old data, using hopkins formats\n",
      "Plotting unit TT4_SS_01\n"
     ]
    },
    {
     "name": "stderr",
     "output_type": "stream",
     "text": [
      "/opt/conda/lib/python3.10/site-packages/aind_dynamic_foraging_basic_analysis/plot/plot_foraging_session.py:497: UserWarning: This figure includes Axes that are not compatible with tight_layout, so results might be incorrect.\n",
      "  plt.tight_layout()\n"
     ]
    },
    {
     "name": "stdout",
     "output_type": "stream",
     "text": [
      "Old data, using hopkins formats\n",
      "Combining behavior_ZS061_2021-04-23_16-13-13\n",
      "Processing 2 files in /root/capsule/scratch/ZS061/behavior_ZS061_2021-04-23_16-13-13/ephys/curated/figures/go_cue\n",
      "Combined PDF saved as: /root/capsule/scratch/ZS061/behavior_ZS061_2021-04-23_16-13-13/ephys/curated/behavior_ZS061_2021-04-23_16-13-13_unit_beh_go_cue.pdf\n",
      "Old data, using hopkins formats\n",
      "Old data, using hopkins formats\n",
      "Old data, using hopkins formats\n",
      "Old data, using hopkins formats\n",
      "Old data, using hopkins formats\n",
      "Old data, using hopkins formats\n",
      "Plotting unit TT4_SS_01\n"
     ]
    },
    {
     "name": "stderr",
     "output_type": "stream",
     "text": [
      "/opt/conda/lib/python3.10/site-packages/aind_dynamic_foraging_basic_analysis/plot/plot_foraging_session.py:497: UserWarning: This figure includes Axes that are not compatible with tight_layout, so results might be incorrect.\n",
      "  plt.tight_layout()\n"
     ]
    },
    {
     "name": "stdout",
     "output_type": "stream",
     "text": [
      "Old data, using hopkins formats\n",
      "Combining behavior_ZS061_2021-04-23_16-13-13\n",
      "Processing 2 files in /root/capsule/scratch/ZS061/behavior_ZS061_2021-04-23_16-13-13/ephys/curated/figures/response\n",
      "Combined PDF saved as: /root/capsule/scratch/ZS061/behavior_ZS061_2021-04-23_16-13-13/ephys/curated/behavior_ZS061_2021-04-23_16-13-13_unit_beh_response.pdf\n",
      "Processed behavior_ZS061_2021-04-23_16-13-13\n",
      "Old data, using hopkins formats\n",
      "Old data, using hopkins formats\n",
      "Old data, using hopkins formats\n",
      "Old data, using hopkins formats\n",
      "Old data, using hopkins formats\n",
      "Old data, using hopkins formats\n",
      "Old data, using hopkins formats\n",
      "Old data, using hopkins formats\n",
      "Old data, using hopkins formats\n",
      "Plotting unit TT4_SS_01\n"
     ]
    },
    {
     "name": "stderr",
     "output_type": "stream",
     "text": [
      "/opt/conda/lib/python3.10/site-packages/aind_dynamic_foraging_basic_analysis/plot/plot_foraging_session.py:497: UserWarning: This figure includes Axes that are not compatible with tight_layout, so results might be incorrect.\n",
      "  plt.tight_layout()\n"
     ]
    },
    {
     "name": "stdout",
     "output_type": "stream",
     "text": [
      "Old data, using hopkins formats\n",
      "Combining behavior_ZS061_2021-04-30_17-06-18\n",
      "Processing 2 files in /root/capsule/scratch/ZS061/behavior_ZS061_2021-04-30_17-06-18/ephys/curated/figures/go_cue\n",
      "Combined PDF saved as: /root/capsule/scratch/ZS061/behavior_ZS061_2021-04-30_17-06-18/ephys/curated/behavior_ZS061_2021-04-30_17-06-18_unit_beh_go_cue.pdf\n",
      "Old data, using hopkins formats\n",
      "Old data, using hopkins formats\n",
      "Old data, using hopkins formats\n",
      "Old data, using hopkins formats\n",
      "Old data, using hopkins formats\n",
      "Old data, using hopkins formats\n",
      "Plotting unit TT4_SS_01\n"
     ]
    },
    {
     "name": "stderr",
     "output_type": "stream",
     "text": [
      "/opt/conda/lib/python3.10/site-packages/aind_dynamic_foraging_basic_analysis/plot/plot_foraging_session.py:497: UserWarning: This figure includes Axes that are not compatible with tight_layout, so results might be incorrect.\n",
      "  plt.tight_layout()\n"
     ]
    },
    {
     "name": "stdout",
     "output_type": "stream",
     "text": [
      "Old data, using hopkins formats\n",
      "Combining behavior_ZS061_2021-04-30_17-06-18\n",
      "Processing 2 files in /root/capsule/scratch/ZS061/behavior_ZS061_2021-04-30_17-06-18/ephys/curated/figures/response\n",
      "Combined PDF saved as: /root/capsule/scratch/ZS061/behavior_ZS061_2021-04-30_17-06-18/ephys/curated/behavior_ZS061_2021-04-30_17-06-18_unit_beh_response.pdf\n",
      "Processed behavior_ZS061_2021-04-30_17-06-18\n",
      "Old data, using hopkins formats\n",
      "Old data, using hopkins formats\n",
      "Old data, using hopkins formats\n",
      "Old data, using hopkins formats\n",
      "Old data, using hopkins formats\n",
      "Old data, using hopkins formats\n",
      "Old data, using hopkins formats\n",
      "Old data, using hopkins formats\n",
      "Old data, using hopkins formats\n",
      "Plotting unit TT4_SS_01\n"
     ]
    },
    {
     "name": "stderr",
     "output_type": "stream",
     "text": [
      "/opt/conda/lib/python3.10/site-packages/aind_dynamic_foraging_basic_analysis/plot/plot_foraging_session.py:497: UserWarning: This figure includes Axes that are not compatible with tight_layout, so results might be incorrect.\n",
      "  plt.tight_layout()\n"
     ]
    },
    {
     "name": "stdout",
     "output_type": "stream",
     "text": [
      "Old data, using hopkins formats\n",
      "Combining behavior_ZS061_2021-04-25_17-45-36\n",
      "Processing 2 files in /root/capsule/scratch/ZS061/behavior_ZS061_2021-04-25_17-45-36/ephys/curated/figures/go_cue\n",
      "Combined PDF saved as: /root/capsule/scratch/ZS061/behavior_ZS061_2021-04-25_17-45-36/ephys/curated/behavior_ZS061_2021-04-25_17-45-36_unit_beh_go_cue.pdf\n",
      "Old data, using hopkins formats\n",
      "Old data, using hopkins formats\n",
      "Old data, using hopkins formats\n",
      "Old data, using hopkins formats\n",
      "Old data, using hopkins formats\n",
      "Old data, using hopkins formats\n",
      "Plotting unit TT4_SS_01\n"
     ]
    },
    {
     "name": "stderr",
     "output_type": "stream",
     "text": [
      "/opt/conda/lib/python3.10/site-packages/aind_dynamic_foraging_basic_analysis/plot/plot_foraging_session.py:497: UserWarning: This figure includes Axes that are not compatible with tight_layout, so results might be incorrect.\n",
      "  plt.tight_layout()\n"
     ]
    },
    {
     "name": "stdout",
     "output_type": "stream",
     "text": [
      "Old data, using hopkins formats\n",
      "Combining behavior_ZS061_2021-04-25_17-45-36\n",
      "Processing 2 files in /root/capsule/scratch/ZS061/behavior_ZS061_2021-04-25_17-45-36/ephys/curated/figures/response\n",
      "Combined PDF saved as: /root/capsule/scratch/ZS061/behavior_ZS061_2021-04-25_17-45-36/ephys/curated/behavior_ZS061_2021-04-25_17-45-36_unit_beh_response.pdf\n",
      "Processed behavior_ZS061_2021-04-25_17-45-36\n",
      "Old data, using hopkins formats\n",
      "Old data, using hopkins formats\n",
      "Old data, using hopkins formats\n",
      "Old data, using hopkins formats\n",
      "Old data, using hopkins formats\n",
      "Old data, using hopkins formats\n",
      "Old data, using hopkins formats\n",
      "Old data, using hopkins formats\n",
      "Old data, using hopkins formats\n",
      "Plotting unit TT4_SS_01\n"
     ]
    },
    {
     "name": "stderr",
     "output_type": "stream",
     "text": [
      "/opt/conda/lib/python3.10/site-packages/aind_dynamic_foraging_basic_analysis/plot/plot_foraging_session.py:497: UserWarning: This figure includes Axes that are not compatible with tight_layout, so results might be incorrect.\n",
      "  plt.tight_layout()\n"
     ]
    },
    {
     "name": "stdout",
     "output_type": "stream",
     "text": [
      "Old data, using hopkins formats\n",
      "Combining behavior_ZS061_2021-05-01_18-28-14\n",
      "Processing 2 files in /root/capsule/scratch/ZS061/behavior_ZS061_2021-05-01_18-28-14/ephys/curated/figures/go_cue\n",
      "Combined PDF saved as: /root/capsule/scratch/ZS061/behavior_ZS061_2021-05-01_18-28-14/ephys/curated/behavior_ZS061_2021-05-01_18-28-14_unit_beh_go_cue.pdf\n",
      "Old data, using hopkins formats\n",
      "Old data, using hopkins formats\n",
      "Old data, using hopkins formats\n",
      "Old data, using hopkins formats\n",
      "Old data, using hopkins formats\n",
      "Old data, using hopkins formats\n",
      "Plotting unit TT4_SS_01\n"
     ]
    },
    {
     "name": "stderr",
     "output_type": "stream",
     "text": [
      "/opt/conda/lib/python3.10/site-packages/aind_dynamic_foraging_basic_analysis/plot/plot_foraging_session.py:497: UserWarning: This figure includes Axes that are not compatible with tight_layout, so results might be incorrect.\n",
      "  plt.tight_layout()\n"
     ]
    },
    {
     "name": "stdout",
     "output_type": "stream",
     "text": [
      "Old data, using hopkins formats\n",
      "Combining behavior_ZS061_2021-05-01_18-28-14\n",
      "Processing 2 files in /root/capsule/scratch/ZS061/behavior_ZS061_2021-05-01_18-28-14/ephys/curated/figures/response\n",
      "Combined PDF saved as: /root/capsule/scratch/ZS061/behavior_ZS061_2021-05-01_18-28-14/ephys/curated/behavior_ZS061_2021-05-01_18-28-14_unit_beh_response.pdf\n",
      "Processed behavior_ZS061_2021-05-01_18-28-14\n",
      "Old data, using hopkins formats\n",
      "Old data, using hopkins formats\n",
      "Old data, using hopkins formats\n",
      "No unit table found for behavior_ZS061_2021-04-27_18-19-52 in curated data.\n",
      "Old data, using hopkins formats\n",
      "Old data, using hopkins formats\n",
      "Old data, using hopkins formats\n",
      "Old data, using hopkins formats\n",
      "Old data, using hopkins formats\n",
      "Old data, using hopkins formats\n",
      "Old data, using hopkins formats\n",
      "Old data, using hopkins formats\n",
      "Old data, using hopkins formats\n",
      "Old data, using hopkins formats\n",
      "Old data, using hopkins formats\n",
      "Old data, using hopkins formats\n",
      "Plotting unit TT1_SS_01\n",
      "Old data, using hopkins formats\n",
      "Plotting unit TT1_SS_02\n",
      "Old data, using hopkins formats\n",
      "Plotting unit TT1_SS_03\n",
      "Old data, using hopkins formats\n",
      "Old data, using hopkins formats\n",
      "Plotting unit TT3_SS_03\n",
      "Plotting unit TT3_SS_01\n",
      "Plotting unit TT3_SS_02\n",
      "Plotting unit TT5_SS_01\n",
      "Plotting unit TT4_SS_04\n"
     ]
    },
    {
     "name": "stderr",
     "output_type": "stream",
     "text": [
      "/opt/conda/lib/python3.10/site-packages/aind_dynamic_foraging_basic_analysis/plot/plot_foraging_session.py:497: UserWarning: This figure includes Axes that are not compatible with tight_layout, so results might be incorrect.\n",
      "  plt.tight_layout()\n",
      "/opt/conda/lib/python3.10/site-packages/aind_dynamic_foraging_basic_analysis/plot/plot_foraging_session.py:497: UserWarning: This figure includes Axes that are not compatible with tight_layout, so results might be incorrect.\n",
      "  plt.tight_layout()\n",
      "/opt/conda/lib/python3.10/site-packages/aind_dynamic_foraging_basic_analysis/plot/plot_foraging_session.py:497: UserWarning: This figure includes Axes that are not compatible with tight_layout, so results might be incorrect.\n",
      "  plt.tight_layout()\n",
      "/opt/conda/lib/python3.10/site-packages/aind_dynamic_foraging_basic_analysis/plot/plot_foraging_session.py:497: UserWarning: This figure includes Axes that are not compatible with tight_layout, so results might be incorrect.\n",
      "  plt.tight_layout()\n",
      "/opt/conda/lib/python3.10/site-packages/aind_dynamic_foraging_basic_analysis/plot/plot_foraging_session.py:497: UserWarning: This figure includes Axes that are not compatible with tight_layout, so results might be incorrect.\n",
      "  plt.tight_layout()\n",
      "/opt/conda/lib/python3.10/site-packages/aind_dynamic_foraging_basic_analysis/plot/plot_foraging_session.py:497: UserWarning: This figure includes Axes that are not compatible with tight_layout, so results might be incorrect.\n",
      "  plt.tight_layout()\n",
      "/opt/conda/lib/python3.10/site-packages/aind_dynamic_foraging_basic_analysis/plot/plot_foraging_session.py:497: UserWarning: This figure includes Axes that are not compatible with tight_layout, so results might be incorrect.\n",
      "  plt.tight_layout()\n",
      "/opt/conda/lib/python3.10/site-packages/aind_dynamic_foraging_basic_analysis/plot/plot_foraging_session.py:497: UserWarning: This figure includes Axes that are not compatible with tight_layout, so results might be incorrect.\n",
      "  plt.tight_layout()\n"
     ]
    },
    {
     "name": "stdout",
     "output_type": "stream",
     "text": [
      "Old data, using hopkins formats\n",
      "Combining behavior_ZS061_2021-03-25_17-12-27\n",
      "Processing 9 files in /root/capsule/scratch/ZS061/behavior_ZS061_2021-03-25_17-12-27/ephys/curated/figures/go_cue\n",
      "Combined PDF saved as: /root/capsule/scratch/ZS061/behavior_ZS061_2021-03-25_17-12-27/ephys/curated/behavior_ZS061_2021-03-25_17-12-27_unit_beh_go_cue.pdf\n",
      "Old data, using hopkins formats\n",
      "Old data, using hopkins formats\n",
      "Old data, using hopkins formats\n",
      "Old data, using hopkins formats\n",
      "Old data, using hopkins formats\n",
      "Old data, using hopkins formats\n",
      "Old data, using hopkins formats\n",
      "Old data, using hopkins formats\n",
      "Old data, using hopkins formats\n",
      "Plotting unit TT1_SS_01\n",
      "Old data, using hopkins formats\n",
      "Plotting unit TT1_SS_02\n",
      "Plotting unit TT1_SS_03\n",
      "Old data, using hopkins formats\n",
      "Plotting unit TT3_SS_01\n",
      "Old data, using hopkins formats\n",
      "Old data, using hopkins formats\n",
      "Plotting unit TT3_SS_02\n",
      "Plotting unit TT3_SS_03\n",
      "Plotting unit TT4_SS_04\n",
      "Plotting unit TT5_SS_01\n"
     ]
    },
    {
     "name": "stderr",
     "output_type": "stream",
     "text": [
      "/opt/conda/lib/python3.10/site-packages/aind_dynamic_foraging_basic_analysis/plot/plot_foraging_session.py:497: UserWarning: This figure includes Axes that are not compatible with tight_layout, so results might be incorrect.\n",
      "  plt.tight_layout()\n",
      "/opt/conda/lib/python3.10/site-packages/aind_dynamic_foraging_basic_analysis/plot/plot_foraging_session.py:497: UserWarning: This figure includes Axes that are not compatible with tight_layout, so results might be incorrect.\n",
      "  plt.tight_layout()\n",
      "/opt/conda/lib/python3.10/site-packages/aind_dynamic_foraging_basic_analysis/plot/plot_foraging_session.py:497: UserWarning: This figure includes Axes that are not compatible with tight_layout, so results might be incorrect.\n",
      "  plt.tight_layout()\n",
      "/opt/conda/lib/python3.10/site-packages/aind_dynamic_foraging_basic_analysis/plot/plot_foraging_session.py:497: UserWarning: This figure includes Axes that are not compatible with tight_layout, so results might be incorrect.\n",
      "  plt.tight_layout()\n",
      "/opt/conda/lib/python3.10/site-packages/aind_dynamic_foraging_basic_analysis/plot/plot_foraging_session.py:497: UserWarning: This figure includes Axes that are not compatible with tight_layout, so results might be incorrect.\n",
      "  plt.tight_layout()\n",
      "/opt/conda/lib/python3.10/site-packages/aind_dynamic_foraging_basic_analysis/plot/plot_foraging_session.py:497: UserWarning: This figure includes Axes that are not compatible with tight_layout, so results might be incorrect.\n",
      "  plt.tight_layout()\n",
      "/opt/conda/lib/python3.10/site-packages/aind_dynamic_foraging_basic_analysis/plot/plot_foraging_session.py:497: UserWarning: This figure includes Axes that are not compatible with tight_layout, so results might be incorrect.\n",
      "  plt.tight_layout()\n",
      "/opt/conda/lib/python3.10/site-packages/aind_dynamic_foraging_basic_analysis/plot/plot_foraging_session.py:497: UserWarning: This figure includes Axes that are not compatible with tight_layout, so results might be incorrect.\n",
      "  plt.tight_layout()\n"
     ]
    },
    {
     "name": "stdout",
     "output_type": "stream",
     "text": [
      "Old data, using hopkins formats\n",
      "Combining behavior_ZS061_2021-03-25_17-12-27\n",
      "Processing 9 files in /root/capsule/scratch/ZS061/behavior_ZS061_2021-03-25_17-12-27/ephys/curated/figures/response\n",
      "Combined PDF saved as: /root/capsule/scratch/ZS061/behavior_ZS061_2021-03-25_17-12-27/ephys/curated/behavior_ZS061_2021-03-25_17-12-27_unit_beh_response.pdf\n",
      "Processed behavior_ZS061_2021-03-25_17-12-27\n",
      "Old data, using hopkins formats\n",
      "Old data, using hopkins formats\n",
      "Old data, using hopkins formats\n",
      "Old data, using hopkins formats\n",
      "Old data, using hopkins formats\n",
      "Old data, using hopkins formats\n",
      "Old data, using hopkins formats\n",
      "Old data, using hopkins formats\n",
      "Old data, using hopkins formats\n",
      "Old data, using hopkins formats\n",
      "Old data, using hopkins formats\n",
      "Old data, using hopkins formats\n",
      "Plotting unit TT1_SS_01\n",
      "Old data, using hopkins formats\n",
      "Old data, using hopkins formats\n",
      "Plotting unit TT3_SS_01\n",
      "Old data, using hopkins formats\n",
      "Plotting unit TT3_SS_02\n",
      "Plotting unit TT3_SS_04\n",
      "Plotting unit TT4_SS_01\n",
      "Plotting unit TT5_SS_01\n",
      "Plotting unit TT1_SS_03\n"
     ]
    },
    {
     "name": "stderr",
     "output_type": "stream",
     "text": [
      "/opt/conda/lib/python3.10/site-packages/aind_dynamic_foraging_basic_analysis/plot/plot_foraging_session.py:497: UserWarning: This figure includes Axes that are not compatible with tight_layout, so results might be incorrect.\n",
      "  plt.tight_layout()\n",
      "/opt/conda/lib/python3.10/site-packages/aind_dynamic_foraging_basic_analysis/plot/plot_foraging_session.py:497: UserWarning: This figure includes Axes that are not compatible with tight_layout, so results might be incorrect.\n",
      "  plt.tight_layout()\n",
      "/opt/conda/lib/python3.10/site-packages/aind_dynamic_foraging_basic_analysis/plot/plot_foraging_session.py:497: UserWarning: This figure includes Axes that are not compatible with tight_layout, so results might be incorrect.\n",
      "  plt.tight_layout()\n",
      "/opt/conda/lib/python3.10/site-packages/aind_dynamic_foraging_basic_analysis/plot/plot_foraging_session.py:497: UserWarning: This figure includes Axes that are not compatible with tight_layout, so results might be incorrect.\n",
      "  plt.tight_layout()\n",
      "/opt/conda/lib/python3.10/site-packages/aind_dynamic_foraging_basic_analysis/plot/plot_foraging_session.py:497: UserWarning: This figure includes Axes that are not compatible with tight_layout, so results might be incorrect.\n",
      "  plt.tight_layout()\n",
      "/opt/conda/lib/python3.10/site-packages/aind_dynamic_foraging_basic_analysis/plot/plot_foraging_session.py:497: UserWarning: This figure includes Axes that are not compatible with tight_layout, so results might be incorrect.\n",
      "  plt.tight_layout()\n",
      "/opt/conda/lib/python3.10/site-packages/aind_dynamic_foraging_basic_analysis/plot/plot_foraging_session.py:497: UserWarning: This figure includes Axes that are not compatible with tight_layout, so results might be incorrect.\n",
      "  plt.tight_layout()\n",
      "/root/capsule/code/beh_ephys_analysis/unit_beh_analysis.py:411: RuntimeWarning: divide by zero encountered in log10\n",
      "  ax.plot(slide_times_LM, -np.log10(PvCurrU[:, regress]), lw = 1, color = colors[regress,], label = regressors[regress])\n"
     ]
    },
    {
     "name": "stdout",
     "output_type": "stream",
     "text": [
      "Old data, using hopkins formats\n",
      "Combining behavior_ZS061_2021-03-27_18-20-45\n",
      "Processing 8 files in /root/capsule/scratch/ZS061/behavior_ZS061_2021-03-27_18-20-45/ephys/curated/figures/go_cue\n",
      "Combined PDF saved as: /root/capsule/scratch/ZS061/behavior_ZS061_2021-03-27_18-20-45/ephys/curated/behavior_ZS061_2021-03-27_18-20-45_unit_beh_go_cue.pdf\n",
      "Old data, using hopkins formats\n",
      "Old data, using hopkins formats\n",
      "Old data, using hopkins formats\n",
      "Old data, using hopkins formats\n",
      "Old data, using hopkins formats\n",
      "Old data, using hopkins formats\n",
      "Old data, using hopkins formats\n",
      "Old data, using hopkins formats\n",
      "Old data, using hopkins formats\n",
      "Plotting unit TT1_SS_01\n",
      "Old data, using hopkins formats\n",
      "Plotting unit TT1_SS_03\n",
      "Old data, using hopkins formats\n",
      "Plotting unit TT3_SS_01\n",
      "Old data, using hopkins formats\n",
      "Plotting unit TT3_SS_02\n",
      "Plotting unit TT3_SS_04\n",
      "Plotting unit TT4_SS_01\n",
      "Plotting unit TT5_SS_01\n"
     ]
    },
    {
     "name": "stderr",
     "output_type": "stream",
     "text": [
      "/opt/conda/lib/python3.10/site-packages/aind_dynamic_foraging_basic_analysis/plot/plot_foraging_session.py:497: UserWarning: This figure includes Axes that are not compatible with tight_layout, so results might be incorrect.\n",
      "  plt.tight_layout()\n",
      "/opt/conda/lib/python3.10/site-packages/aind_dynamic_foraging_basic_analysis/plot/plot_foraging_session.py:497: UserWarning: This figure includes Axes that are not compatible with tight_layout, so results might be incorrect.\n",
      "  plt.tight_layout()\n",
      "/opt/conda/lib/python3.10/site-packages/aind_dynamic_foraging_basic_analysis/plot/plot_foraging_session.py:497: UserWarning: This figure includes Axes that are not compatible with tight_layout, so results might be incorrect.\n",
      "  plt.tight_layout()\n",
      "/opt/conda/lib/python3.10/site-packages/aind_dynamic_foraging_basic_analysis/plot/plot_foraging_session.py:497: UserWarning: This figure includes Axes that are not compatible with tight_layout, so results might be incorrect.\n",
      "  plt.tight_layout()\n",
      "/opt/conda/lib/python3.10/site-packages/aind_dynamic_foraging_basic_analysis/plot/plot_foraging_session.py:497: UserWarning: This figure includes Axes that are not compatible with tight_layout, so results might be incorrect.\n",
      "  plt.tight_layout()\n",
      "/opt/conda/lib/python3.10/site-packages/aind_dynamic_foraging_basic_analysis/plot/plot_foraging_session.py:497: UserWarning: This figure includes Axes that are not compatible with tight_layout, so results might be incorrect.\n",
      "  plt.tight_layout()\n",
      "/opt/conda/lib/python3.10/site-packages/aind_dynamic_foraging_basic_analysis/plot/plot_foraging_session.py:497: UserWarning: This figure includes Axes that are not compatible with tight_layout, so results might be incorrect.\n",
      "  plt.tight_layout()\n",
      "/root/capsule/code/beh_ephys_analysis/unit_beh_analysis.py:411: RuntimeWarning: divide by zero encountered in log10\n",
      "  ax.plot(slide_times_LM, -np.log10(PvCurrU[:, regress]), lw = 1, color = colors[regress,], label = regressors[regress])\n"
     ]
    },
    {
     "name": "stdout",
     "output_type": "stream",
     "text": [
      "Old data, using hopkins formats\n",
      "Combining behavior_ZS061_2021-03-27_18-20-45\n",
      "Processing 8 files in /root/capsule/scratch/ZS061/behavior_ZS061_2021-03-27_18-20-45/ephys/curated/figures/response\n",
      "Combined PDF saved as: /root/capsule/scratch/ZS061/behavior_ZS061_2021-03-27_18-20-45/ephys/curated/behavior_ZS061_2021-03-27_18-20-45_unit_beh_response.pdf\n",
      "Processed behavior_ZS061_2021-03-27_18-20-45\n",
      "Old data, using hopkins formats\n",
      "Old data, using hopkins formats\n",
      "Old data, using hopkins formats\n",
      "Old data, using hopkins formats\n",
      "Old data, using hopkins formats\n",
      "Old data, using hopkins formats\n",
      "Old data, using hopkins formats\n",
      "Old data, using hopkins formats\n",
      "Old data, using hopkins formats\n",
      "Old data, using hopkins formats\n",
      "Old data, using hopkins formats\n",
      "Old data, using hopkins formats\n",
      "Old data, using hopkins formats\n",
      "Plotting unit TT1_SS_01\n",
      "Plotting unit TT1_SS_03\n",
      "Old data, using hopkins formats\n",
      "Plotting unit TT3_SS_01\n",
      "Old data, using hopkins formats\n",
      "Plotting unit TT3_SS_02\n",
      "Plotting unit TT4_SS_01\n",
      "Plotting unit TT5_SS_01\n",
      "Plotting unit TT3_SS_03\n"
     ]
    },
    {
     "name": "stderr",
     "output_type": "stream",
     "text": [
      "/opt/conda/lib/python3.10/site-packages/aind_dynamic_foraging_basic_analysis/plot/plot_foraging_session.py:497: UserWarning: This figure includes Axes that are not compatible with tight_layout, so results might be incorrect.\n",
      "  plt.tight_layout()\n",
      "/opt/conda/lib/python3.10/site-packages/aind_dynamic_foraging_basic_analysis/plot/plot_foraging_session.py:497: UserWarning: This figure includes Axes that are not compatible with tight_layout, so results might be incorrect.\n",
      "  plt.tight_layout()\n",
      "/opt/conda/lib/python3.10/site-packages/aind_dynamic_foraging_basic_analysis/plot/plot_foraging_session.py:497: UserWarning: This figure includes Axes that are not compatible with tight_layout, so results might be incorrect.\n",
      "  plt.tight_layout()\n",
      "/opt/conda/lib/python3.10/site-packages/aind_dynamic_foraging_basic_analysis/plot/plot_foraging_session.py:497: UserWarning: This figure includes Axes that are not compatible with tight_layout, so results might be incorrect.\n",
      "  plt.tight_layout()\n",
      "/opt/conda/lib/python3.10/site-packages/aind_dynamic_foraging_basic_analysis/plot/plot_foraging_session.py:497: UserWarning: This figure includes Axes that are not compatible with tight_layout, so results might be incorrect.\n",
      "  plt.tight_layout()\n",
      "/opt/conda/lib/python3.10/site-packages/aind_dynamic_foraging_basic_analysis/plot/plot_foraging_session.py:497: UserWarning: This figure includes Axes that are not compatible with tight_layout, so results might be incorrect.\n",
      "  plt.tight_layout()\n",
      "/opt/conda/lib/python3.10/site-packages/aind_dynamic_foraging_basic_analysis/plot/plot_foraging_session.py:497: UserWarning: This figure includes Axes that are not compatible with tight_layout, so results might be incorrect.\n",
      "  plt.tight_layout()\n"
     ]
    },
    {
     "name": "stdout",
     "output_type": "stream",
     "text": [
      "Old data, using hopkins formats\n",
      "Combining behavior_ZS061_2021-03-29_17-48-18\n",
      "Processing 8 files in /root/capsule/scratch/ZS061/behavior_ZS061_2021-03-29_17-48-18/ephys/curated/figures/go_cue\n",
      "Combined PDF saved as: /root/capsule/scratch/ZS061/behavior_ZS061_2021-03-29_17-48-18/ephys/curated/behavior_ZS061_2021-03-29_17-48-18_unit_beh_go_cue.pdf\n",
      "Old data, using hopkins formats\n",
      "Old data, using hopkins formats\n",
      "Old data, using hopkins formats\n",
      "Old data, using hopkins formats\n",
      "Old data, using hopkins formats\n",
      "Old data, using hopkins formats\n",
      "Old data, using hopkins formats\n",
      "Old data, using hopkins formats\n",
      "Old data, using hopkins formats\n",
      "Plotting unit TT1_SS_01\n",
      "Plotting unit TT1_SS_03\n",
      "Old data, using hopkins formats\n",
      "Plotting unit TT3_SS_02\n",
      "Old data, using hopkins formats\n",
      "Plotting unit TT3_SS_01\n",
      "Plotting unit TT3_SS_03\n",
      "Old data, using hopkins formats\n",
      "Plotting unit TT4_SS_01\n",
      "Plotting unit TT5_SS_01\n"
     ]
    },
    {
     "name": "stderr",
     "output_type": "stream",
     "text": [
      "/opt/conda/lib/python3.10/site-packages/aind_dynamic_foraging_basic_analysis/plot/plot_foraging_session.py:497: UserWarning: This figure includes Axes that are not compatible with tight_layout, so results might be incorrect.\n",
      "  plt.tight_layout()\n",
      "/opt/conda/lib/python3.10/site-packages/aind_dynamic_foraging_basic_analysis/plot/plot_foraging_session.py:497: UserWarning: This figure includes Axes that are not compatible with tight_layout, so results might be incorrect.\n",
      "  plt.tight_layout()\n",
      "/opt/conda/lib/python3.10/site-packages/aind_dynamic_foraging_basic_analysis/plot/plot_foraging_session.py:497: UserWarning: This figure includes Axes that are not compatible with tight_layout, so results might be incorrect.\n",
      "  plt.tight_layout()\n",
      "/opt/conda/lib/python3.10/site-packages/aind_dynamic_foraging_basic_analysis/plot/plot_foraging_session.py:497: UserWarning: This figure includes Axes that are not compatible with tight_layout, so results might be incorrect.\n",
      "  plt.tight_layout()\n",
      "/opt/conda/lib/python3.10/site-packages/aind_dynamic_foraging_basic_analysis/plot/plot_foraging_session.py:497: UserWarning: This figure includes Axes that are not compatible with tight_layout, so results might be incorrect.\n",
      "  plt.tight_layout()\n",
      "/opt/conda/lib/python3.10/site-packages/aind_dynamic_foraging_basic_analysis/plot/plot_foraging_session.py:497: UserWarning: This figure includes Axes that are not compatible with tight_layout, so results might be incorrect.\n",
      "  plt.tight_layout()\n",
      "/opt/conda/lib/python3.10/site-packages/aind_dynamic_foraging_basic_analysis/plot/plot_foraging_session.py:497: UserWarning: This figure includes Axes that are not compatible with tight_layout, so results might be incorrect.\n",
      "  plt.tight_layout()\n"
     ]
    },
    {
     "name": "stdout",
     "output_type": "stream",
     "text": [
      "Old data, using hopkins formats\n",
      "Combining behavior_ZS061_2021-03-29_17-48-18\n",
      "Processing 8 files in /root/capsule/scratch/ZS061/behavior_ZS061_2021-03-29_17-48-18/ephys/curated/figures/response\n",
      "Combined PDF saved as: /root/capsule/scratch/ZS061/behavior_ZS061_2021-03-29_17-48-18/ephys/curated/behavior_ZS061_2021-03-29_17-48-18_unit_beh_response.pdf\n",
      "Processed behavior_ZS061_2021-03-29_17-48-18\n",
      "Old data, using hopkins formats\n",
      "Old data, using hopkins formats\n",
      "Old data, using hopkins formats\n",
      "Old data, using hopkins formats\n",
      "Old data, using hopkins formats\n",
      "Old data, using hopkins formats\n",
      "Old data, using hopkins formats\n",
      "Old data, using hopkins formats\n",
      "Old data, using hopkins formats\n",
      "Old data, using hopkins formats\n",
      "Old data, using hopkins formats\n",
      "Old data, using hopkins formats\n",
      "Old data, using hopkins formats\n",
      "Plotting unit TT1_SS_01\n",
      "Plotting unit TT1_SS_03\n",
      "Old data, using hopkins formats\n",
      "Plotting unit TT3_SS_01\n",
      "Old data, using hopkins formats\n",
      "Plotting unit TT3_SS_02\n",
      "Plotting unit TT3_SS_03\n",
      "Plotting unit TT4_SS_01\n",
      "Plotting unit TT5_SS_01\n"
     ]
    },
    {
     "name": "stderr",
     "output_type": "stream",
     "text": [
      "/opt/conda/lib/python3.10/site-packages/aind_dynamic_foraging_basic_analysis/plot/plot_foraging_session.py:497: UserWarning: This figure includes Axes that are not compatible with tight_layout, so results might be incorrect.\n",
      "  plt.tight_layout()\n",
      "/opt/conda/lib/python3.10/site-packages/aind_dynamic_foraging_basic_analysis/plot/plot_foraging_session.py:497: UserWarning: This figure includes Axes that are not compatible with tight_layout, so results might be incorrect.\n",
      "  plt.tight_layout()\n",
      "/opt/conda/lib/python3.10/site-packages/aind_dynamic_foraging_basic_analysis/plot/plot_foraging_session.py:497: UserWarning: This figure includes Axes that are not compatible with tight_layout, so results might be incorrect.\n",
      "  plt.tight_layout()\n",
      "/opt/conda/lib/python3.10/site-packages/aind_dynamic_foraging_basic_analysis/plot/plot_foraging_session.py:497: UserWarning: This figure includes Axes that are not compatible with tight_layout, so results might be incorrect.\n",
      "  plt.tight_layout()\n",
      "/opt/conda/lib/python3.10/site-packages/aind_dynamic_foraging_basic_analysis/plot/plot_foraging_session.py:497: UserWarning: This figure includes Axes that are not compatible with tight_layout, so results might be incorrect.\n",
      "  plt.tight_layout()\n",
      "/opt/conda/lib/python3.10/site-packages/aind_dynamic_foraging_basic_analysis/plot/plot_foraging_session.py:497: UserWarning: This figure includes Axes that are not compatible with tight_layout, so results might be incorrect.\n",
      "  plt.tight_layout()\n",
      "/opt/conda/lib/python3.10/site-packages/aind_dynamic_foraging_basic_analysis/plot/plot_foraging_session.py:497: UserWarning: This figure includes Axes that are not compatible with tight_layout, so results might be incorrect.\n",
      "  plt.tight_layout()\n"
     ]
    },
    {
     "name": "stdout",
     "output_type": "stream",
     "text": [
      "Old data, using hopkins formats\n",
      "Combining behavior_ZS061_2021-03-28_16-35-51\n",
      "Processing 8 files in /root/capsule/scratch/ZS061/behavior_ZS061_2021-03-28_16-35-51/ephys/curated/figures/go_cue\n",
      "Combined PDF saved as: /root/capsule/scratch/ZS061/behavior_ZS061_2021-03-28_16-35-51/ephys/curated/behavior_ZS061_2021-03-28_16-35-51_unit_beh_go_cue.pdf\n",
      "Old data, using hopkins formats\n",
      "Old data, using hopkins formats\n",
      "Old data, using hopkins formats\n",
      "Old data, using hopkins formats\n",
      "Old data, using hopkins formats\n",
      "Old data, using hopkins formats\n",
      "Old data, using hopkins formats\n",
      "Old data, using hopkins formats\n",
      "Old data, using hopkins formats\n",
      "Plotting unit TT1_SS_01\n",
      "Old data, using hopkins formats\n",
      "Plotting unit TT1_SS_03\n",
      "Old data, using hopkins formats\n",
      "Plotting unit TT3_SS_01\n",
      "Old data, using hopkins formats\n",
      "Plotting unit TT3_SS_02\n",
      "Plotting unit TT3_SS_03\n",
      "Plotting unit TT4_SS_01\n",
      "Plotting unit TT5_SS_01\n"
     ]
    },
    {
     "name": "stderr",
     "output_type": "stream",
     "text": [
      "/opt/conda/lib/python3.10/site-packages/aind_dynamic_foraging_basic_analysis/plot/plot_foraging_session.py:497: UserWarning: This figure includes Axes that are not compatible with tight_layout, so results might be incorrect.\n",
      "  plt.tight_layout()\n",
      "/opt/conda/lib/python3.10/site-packages/aind_dynamic_foraging_basic_analysis/plot/plot_foraging_session.py:497: UserWarning: This figure includes Axes that are not compatible with tight_layout, so results might be incorrect.\n",
      "  plt.tight_layout()\n",
      "/opt/conda/lib/python3.10/site-packages/aind_dynamic_foraging_basic_analysis/plot/plot_foraging_session.py:497: UserWarning: This figure includes Axes that are not compatible with tight_layout, so results might be incorrect.\n",
      "  plt.tight_layout()\n",
      "/opt/conda/lib/python3.10/site-packages/aind_dynamic_foraging_basic_analysis/plot/plot_foraging_session.py:497: UserWarning: This figure includes Axes that are not compatible with tight_layout, so results might be incorrect.\n",
      "  plt.tight_layout()\n",
      "/opt/conda/lib/python3.10/site-packages/aind_dynamic_foraging_basic_analysis/plot/plot_foraging_session.py:497: UserWarning: This figure includes Axes that are not compatible with tight_layout, so results might be incorrect.\n",
      "  plt.tight_layout()\n",
      "/opt/conda/lib/python3.10/site-packages/aind_dynamic_foraging_basic_analysis/plot/plot_foraging_session.py:497: UserWarning: This figure includes Axes that are not compatible with tight_layout, so results might be incorrect.\n",
      "  plt.tight_layout()\n",
      "/opt/conda/lib/python3.10/site-packages/aind_dynamic_foraging_basic_analysis/plot/plot_foraging_session.py:497: UserWarning: This figure includes Axes that are not compatible with tight_layout, so results might be incorrect.\n",
      "  plt.tight_layout()\n"
     ]
    },
    {
     "name": "stdout",
     "output_type": "stream",
     "text": [
      "Old data, using hopkins formats\n",
      "Combining behavior_ZS061_2021-03-28_16-35-51\n",
      "Processing 8 files in /root/capsule/scratch/ZS061/behavior_ZS061_2021-03-28_16-35-51/ephys/curated/figures/response\n",
      "Combined PDF saved as: /root/capsule/scratch/ZS061/behavior_ZS061_2021-03-28_16-35-51/ephys/curated/behavior_ZS061_2021-03-28_16-35-51_unit_beh_response.pdf\n",
      "Processed behavior_ZS061_2021-03-28_16-35-51\n",
      "Old data, using hopkins formats\n",
      "Old data, using hopkins formats\n",
      "Old data, using hopkins formats\n",
      "Old data, using hopkins formats\n",
      "Old data, using hopkins formats\n",
      "Old data, using hopkins formats\n",
      "Old data, using hopkins formats\n",
      "Old data, using hopkins formats\n",
      "Old data, using hopkins formats\n",
      "Old data, using hopkins formats\n",
      "Old data, using hopkins formats\n",
      "Old data, using hopkins formats\n",
      "Plotting unit TT1_SS_01\n",
      "Old data, using hopkins formats\n",
      "Plotting unit TT1_SS_02\n",
      "Old data, using hopkins formats\n",
      "Plotting unit TT1_SS_03\n",
      "Old data, using hopkins formats\n",
      "Old data, using hopkins formats\n",
      "Plotting unit TT3_SS_01\n",
      "Plotting unit TT3_SS_02\n",
      "Plotting unit TT4_SS_01\n",
      "Plotting unit TT5_SS_01\n",
      "Plotting unit TT3_SS_03\n"
     ]
    },
    {
     "name": "stderr",
     "output_type": "stream",
     "text": [
      "/opt/conda/lib/python3.10/site-packages/aind_dynamic_foraging_basic_analysis/plot/plot_foraging_session.py:497: UserWarning: This figure includes Axes that are not compatible with tight_layout, so results might be incorrect.\n",
      "  plt.tight_layout()\n",
      "/opt/conda/lib/python3.10/site-packages/aind_dynamic_foraging_basic_analysis/plot/plot_foraging_session.py:497: UserWarning: This figure includes Axes that are not compatible with tight_layout, so results might be incorrect.\n",
      "  plt.tight_layout()\n",
      "/opt/conda/lib/python3.10/site-packages/aind_dynamic_foraging_basic_analysis/plot/plot_foraging_session.py:497: UserWarning: This figure includes Axes that are not compatible with tight_layout, so results might be incorrect.\n",
      "  plt.tight_layout()\n",
      "/opt/conda/lib/python3.10/site-packages/aind_dynamic_foraging_basic_analysis/plot/plot_foraging_session.py:497: UserWarning: This figure includes Axes that are not compatible with tight_layout, so results might be incorrect.\n",
      "  plt.tight_layout()\n",
      "/opt/conda/lib/python3.10/site-packages/aind_dynamic_foraging_basic_analysis/plot/plot_foraging_session.py:497: UserWarning: This figure includes Axes that are not compatible with tight_layout, so results might be incorrect.\n",
      "  plt.tight_layout()\n",
      "/opt/conda/lib/python3.10/site-packages/aind_dynamic_foraging_basic_analysis/plot/plot_foraging_session.py:497: UserWarning: This figure includes Axes that are not compatible with tight_layout, so results might be incorrect.\n",
      "  plt.tight_layout()\n",
      "/opt/conda/lib/python3.10/site-packages/aind_dynamic_foraging_basic_analysis/plot/plot_foraging_session.py:497: UserWarning: This figure includes Axes that are not compatible with tight_layout, so results might be incorrect.\n",
      "  plt.tight_layout()\n",
      "/opt/conda/lib/python3.10/site-packages/aind_dynamic_foraging_basic_analysis/plot/plot_foraging_session.py:497: UserWarning: This figure includes Axes that are not compatible with tight_layout, so results might be incorrect.\n",
      "  plt.tight_layout()\n"
     ]
    },
    {
     "name": "stdout",
     "output_type": "stream",
     "text": [
      "Old data, using hopkins formats\n",
      "Combining behavior_ZS061_2021-03-30_16-57-26\n",
      "Processing 9 files in /root/capsule/scratch/ZS061/behavior_ZS061_2021-03-30_16-57-26/ephys/curated/figures/go_cue\n",
      "Combined PDF saved as: /root/capsule/scratch/ZS061/behavior_ZS061_2021-03-30_16-57-26/ephys/curated/behavior_ZS061_2021-03-30_16-57-26_unit_beh_go_cue.pdf\n",
      "Old data, using hopkins formats\n",
      "Old data, using hopkins formats\n",
      "Old data, using hopkins formats\n",
      "Old data, using hopkins formats\n",
      "Old data, using hopkins formats\n",
      "Old data, using hopkins formats\n",
      "Old data, using hopkins formats\n",
      "Old data, using hopkins formats\n",
      "Old data, using hopkins formats\n",
      "Plotting unit TT1_SS_01\n",
      "Old data, using hopkins formats\n",
      "Plotting unit TT1_SS_02\n",
      "Old data, using hopkins formats\n",
      "Plotting unit TT1_SS_03\n",
      "Old data, using hopkins formats\n",
      "Old data, using hopkins formats\n",
      "Plotting unit TT3_SS_02\n",
      "Plotting unit TT3_SS_03\n",
      "Plotting unit TT5_SS_01\n",
      "Plotting unit TT4_SS_01\n",
      "Plotting unit TT3_SS_01\n"
     ]
    },
    {
     "name": "stderr",
     "output_type": "stream",
     "text": [
      "/opt/conda/lib/python3.10/site-packages/aind_dynamic_foraging_basic_analysis/plot/plot_foraging_session.py:497: UserWarning: This figure includes Axes that are not compatible with tight_layout, so results might be incorrect.\n",
      "  plt.tight_layout()\n",
      "/opt/conda/lib/python3.10/site-packages/aind_dynamic_foraging_basic_analysis/plot/plot_foraging_session.py:497: UserWarning: This figure includes Axes that are not compatible with tight_layout, so results might be incorrect.\n",
      "  plt.tight_layout()\n",
      "/opt/conda/lib/python3.10/site-packages/aind_dynamic_foraging_basic_analysis/plot/plot_foraging_session.py:497: UserWarning: This figure includes Axes that are not compatible with tight_layout, so results might be incorrect.\n",
      "  plt.tight_layout()\n",
      "/opt/conda/lib/python3.10/site-packages/aind_dynamic_foraging_basic_analysis/plot/plot_foraging_session.py:497: UserWarning: This figure includes Axes that are not compatible with tight_layout, so results might be incorrect.\n",
      "  plt.tight_layout()\n",
      "/opt/conda/lib/python3.10/site-packages/aind_dynamic_foraging_basic_analysis/plot/plot_foraging_session.py:497: UserWarning: This figure includes Axes that are not compatible with tight_layout, so results might be incorrect.\n",
      "  plt.tight_layout()\n",
      "/opt/conda/lib/python3.10/site-packages/aind_dynamic_foraging_basic_analysis/plot/plot_foraging_session.py:497: UserWarning: This figure includes Axes that are not compatible with tight_layout, so results might be incorrect.\n",
      "  plt.tight_layout()\n",
      "/opt/conda/lib/python3.10/site-packages/aind_dynamic_foraging_basic_analysis/plot/plot_foraging_session.py:497: UserWarning: This figure includes Axes that are not compatible with tight_layout, so results might be incorrect.\n",
      "  plt.tight_layout()\n",
      "/opt/conda/lib/python3.10/site-packages/aind_dynamic_foraging_basic_analysis/plot/plot_foraging_session.py:497: UserWarning: This figure includes Axes that are not compatible with tight_layout, so results might be incorrect.\n",
      "  plt.tight_layout()\n"
     ]
    },
    {
     "name": "stdout",
     "output_type": "stream",
     "text": [
      "Old data, using hopkins formats\n",
      "Combining behavior_ZS061_2021-03-30_16-57-26\n",
      "Processing 9 files in /root/capsule/scratch/ZS061/behavior_ZS061_2021-03-30_16-57-26/ephys/curated/figures/response\n",
      "Combined PDF saved as: /root/capsule/scratch/ZS061/behavior_ZS061_2021-03-30_16-57-26/ephys/curated/behavior_ZS061_2021-03-30_16-57-26_unit_beh_response.pdf\n",
      "Processed behavior_ZS061_2021-03-30_16-57-26\n",
      "Old data, using hopkins formats\n",
      "Old data, using hopkins formats\n",
      "Old data, using hopkins formats\n",
      "Old data, using hopkins formats\n",
      "Old data, using hopkins formats\n",
      "Old data, using hopkins formats\n",
      "Old data, using hopkins formats\n",
      "Old data, using hopkins formats\n",
      "Old data, using hopkins formats\n",
      "Old data, using hopkins formats\n",
      "Old data, using hopkins formats\n",
      "Old data, using hopkins formats\n",
      "Plotting unit TT1_SS_01\n",
      "Old data, using hopkins formats\n",
      "Plotting unit TT1_SS_02\n",
      "Old data, using hopkins formats\n",
      "Plotting unit TT1_SS_03\n",
      "Plotting unit TT5_SS_01\n",
      "Plotting unit TT3_SS_01\n",
      "Plotting unit TT4_SS_01\n"
     ]
    },
    {
     "name": "stderr",
     "output_type": "stream",
     "text": [
      "/opt/conda/lib/python3.10/site-packages/aind_dynamic_foraging_basic_analysis/plot/plot_foraging_session.py:497: UserWarning: This figure includes Axes that are not compatible with tight_layout, so results might be incorrect.\n",
      "  plt.tight_layout()\n",
      "/opt/conda/lib/python3.10/site-packages/aind_dynamic_foraging_basic_analysis/plot/plot_foraging_session.py:497: UserWarning: This figure includes Axes that are not compatible with tight_layout, so results might be incorrect.\n",
      "  plt.tight_layout()\n",
      "/opt/conda/lib/python3.10/site-packages/aind_dynamic_foraging_basic_analysis/plot/plot_foraging_session.py:497: UserWarning: This figure includes Axes that are not compatible with tight_layout, so results might be incorrect.\n",
      "  plt.tight_layout()\n",
      "/opt/conda/lib/python3.10/site-packages/aind_dynamic_foraging_basic_analysis/plot/plot_foraging_session.py:497: UserWarning: This figure includes Axes that are not compatible with tight_layout, so results might be incorrect.\n",
      "  plt.tight_layout()\n",
      "/opt/conda/lib/python3.10/site-packages/aind_dynamic_foraging_basic_analysis/plot/plot_foraging_session.py:497: UserWarning: This figure includes Axes that are not compatible with tight_layout, so results might be incorrect.\n",
      "  plt.tight_layout()\n",
      "/opt/conda/lib/python3.10/site-packages/aind_dynamic_foraging_basic_analysis/plot/plot_foraging_session.py:497: UserWarning: This figure includes Axes that are not compatible with tight_layout, so results might be incorrect.\n",
      "  plt.tight_layout()\n"
     ]
    },
    {
     "name": "stdout",
     "output_type": "stream",
     "text": [
      "Old data, using hopkins formats\n",
      "Combining behavior_ZS061_2021-03-31_17-15-48\n",
      "Processing 7 files in /root/capsule/scratch/ZS061/behavior_ZS061_2021-03-31_17-15-48/ephys/curated/figures/go_cue\n",
      "Combined PDF saved as: /root/capsule/scratch/ZS061/behavior_ZS061_2021-03-31_17-15-48/ephys/curated/behavior_ZS061_2021-03-31_17-15-48_unit_beh_go_cue.pdf\n",
      "Old data, using hopkins formats\n",
      "Old data, using hopkins formats\n",
      "Old data, using hopkins formats\n",
      "Old data, using hopkins formats\n",
      "Old data, using hopkins formats\n",
      "Old data, using hopkins formats\n",
      "Old data, using hopkins formats\n",
      "Old data, using hopkins formats\n",
      "Old data, using hopkins formats\n",
      "Old data, using hopkins formats\n",
      "Plotting unit TT1_SS_01\n",
      "Plotting unit TT1_SS_02\n",
      "Old data, using hopkins formats\n",
      "Plotting unit TT1_SS_03\n",
      "Plotting unit TT4_SS_01\n",
      "Plotting unit TT5_SS_01\n",
      "Plotting unit TT3_SS_01\n"
     ]
    },
    {
     "name": "stderr",
     "output_type": "stream",
     "text": [
      "/opt/conda/lib/python3.10/site-packages/aind_dynamic_foraging_basic_analysis/plot/plot_foraging_session.py:497: UserWarning: This figure includes Axes that are not compatible with tight_layout, so results might be incorrect.\n",
      "  plt.tight_layout()\n",
      "/opt/conda/lib/python3.10/site-packages/aind_dynamic_foraging_basic_analysis/plot/plot_foraging_session.py:497: UserWarning: This figure includes Axes that are not compatible with tight_layout, so results might be incorrect.\n",
      "  plt.tight_layout()\n",
      "/opt/conda/lib/python3.10/site-packages/aind_dynamic_foraging_basic_analysis/plot/plot_foraging_session.py:497: UserWarning: This figure includes Axes that are not compatible with tight_layout, so results might be incorrect.\n",
      "  plt.tight_layout()\n",
      "/opt/conda/lib/python3.10/site-packages/aind_dynamic_foraging_basic_analysis/plot/plot_foraging_session.py:497: UserWarning: This figure includes Axes that are not compatible with tight_layout, so results might be incorrect.\n",
      "  plt.tight_layout()\n",
      "/opt/conda/lib/python3.10/site-packages/aind_dynamic_foraging_basic_analysis/plot/plot_foraging_session.py:497: UserWarning: This figure includes Axes that are not compatible with tight_layout, so results might be incorrect.\n",
      "  plt.tight_layout()\n",
      "/opt/conda/lib/python3.10/site-packages/aind_dynamic_foraging_basic_analysis/plot/plot_foraging_session.py:497: UserWarning: This figure includes Axes that are not compatible with tight_layout, so results might be incorrect.\n",
      "  plt.tight_layout()\n"
     ]
    },
    {
     "name": "stdout",
     "output_type": "stream",
     "text": [
      "Old data, using hopkins formats\n",
      "Combining behavior_ZS061_2021-03-31_17-15-48\n",
      "Processing 7 files in /root/capsule/scratch/ZS061/behavior_ZS061_2021-03-31_17-15-48/ephys/curated/figures/response\n",
      "Combined PDF saved as: /root/capsule/scratch/ZS061/behavior_ZS061_2021-03-31_17-15-48/ephys/curated/behavior_ZS061_2021-03-31_17-15-48_unit_beh_response.pdf\n",
      "Processed behavior_ZS061_2021-03-31_17-15-48\n",
      "Old data, using hopkins formats\n",
      "Old data, using hopkins formats\n",
      "Old data, using hopkins formats\n",
      "Old data, using hopkins formats\n",
      "Old data, using hopkins formats\n",
      "Old data, using hopkins formats\n",
      "Old data, using hopkins formats\n",
      "Old data, using hopkins formats\n",
      "Old data, using hopkins formats\n",
      "Old data, using hopkins formats\n",
      "Old data, using hopkins formats\n",
      "Plotting unit TT1_SS_01\n",
      "Old data, using hopkins formats\n",
      "Old data, using hopkins formats\n",
      "Plotting unit TT1_SS_03\n",
      "Plotting unit TT1_SS_02\n",
      "Plotting unit TT3_SS_02\n",
      "Old data, using hopkins formats\n",
      "Plotting unit TT4_SS_01\n",
      "Old data, using hopkins formats\n",
      "Plotting unit TT5_SS_01\n",
      "Old data, using hopkins formats\n",
      "Plotting unit TT5_SS_02\n",
      "Plotting unit TT5_SS_03\n"
     ]
    },
    {
     "name": "stderr",
     "output_type": "stream",
     "text": [
      "/opt/conda/lib/python3.10/site-packages/aind_dynamic_foraging_basic_analysis/plot/plot_foraging_session.py:497: UserWarning: This figure includes Axes that are not compatible with tight_layout, so results might be incorrect.\n",
      "  plt.tight_layout()\n",
      "/opt/conda/lib/python3.10/site-packages/aind_dynamic_foraging_basic_analysis/plot/plot_foraging_session.py:497: UserWarning: This figure includes Axes that are not compatible with tight_layout, so results might be incorrect.\n",
      "  plt.tight_layout()\n",
      "/opt/conda/lib/python3.10/site-packages/aind_dynamic_foraging_basic_analysis/plot/plot_foraging_session.py:497: UserWarning: This figure includes Axes that are not compatible with tight_layout, so results might be incorrect.\n",
      "  plt.tight_layout()\n",
      "/opt/conda/lib/python3.10/site-packages/aind_dynamic_foraging_basic_analysis/plot/plot_foraging_session.py:497: UserWarning: This figure includes Axes that are not compatible with tight_layout, so results might be incorrect.\n",
      "  plt.tight_layout()\n",
      "/opt/conda/lib/python3.10/site-packages/aind_dynamic_foraging_basic_analysis/plot/plot_foraging_session.py:497: UserWarning: This figure includes Axes that are not compatible with tight_layout, so results might be incorrect.\n",
      "  plt.tight_layout()\n",
      "/opt/conda/lib/python3.10/site-packages/aind_dynamic_foraging_basic_analysis/plot/plot_foraging_session.py:497: UserWarning: This figure includes Axes that are not compatible with tight_layout, so results might be incorrect.\n",
      "  plt.tight_layout()\n",
      "/opt/conda/lib/python3.10/site-packages/aind_dynamic_foraging_basic_analysis/plot/plot_foraging_session.py:497: UserWarning: This figure includes Axes that are not compatible with tight_layout, so results might be incorrect.\n",
      "  plt.tight_layout()\n",
      "/opt/conda/lib/python3.10/site-packages/aind_dynamic_foraging_basic_analysis/plot/plot_foraging_session.py:497: UserWarning: This figure includes Axes that are not compatible with tight_layout, so results might be incorrect.\n",
      "  plt.tight_layout()\n"
     ]
    },
    {
     "name": "stdout",
     "output_type": "stream",
     "text": [
      "Old data, using hopkins formats\n",
      "Combining behavior_ZS061_2021-04-01_16-38-03\n",
      "Processing 9 files in /root/capsule/scratch/ZS061/behavior_ZS061_2021-04-01_16-38-03/ephys/curated/figures/go_cue\n",
      "Combined PDF saved as: /root/capsule/scratch/ZS061/behavior_ZS061_2021-04-01_16-38-03/ephys/curated/behavior_ZS061_2021-04-01_16-38-03_unit_beh_go_cue.pdf\n",
      "Old data, using hopkins formats\n",
      "Old data, using hopkins formats\n",
      "Old data, using hopkins formats\n",
      "Old data, using hopkins formats\n",
      "Old data, using hopkins formats\n",
      "Old data, using hopkins formats\n",
      "Old data, using hopkins formats\n",
      "Old data, using hopkins formats\n",
      "Old data, using hopkins formats\n",
      "Plotting unit TT1_SS_01\n",
      "Old data, using hopkins formats\n",
      "Plotting unit TT1_SS_02\n",
      "Old data, using hopkins formats\n",
      "Plotting unit TT1_SS_03\n",
      "Old data, using hopkins formats\n",
      "Plotting unit TT3_SS_02\n",
      "Old data, using hopkins formats\n",
      "Plotting unit TT4_SS_01\n",
      "Plotting unit TT5_SS_01\n",
      "Plotting unit TT5_SS_02\n",
      "Plotting unit TT5_SS_03\n"
     ]
    },
    {
     "name": "stderr",
     "output_type": "stream",
     "text": [
      "/opt/conda/lib/python3.10/site-packages/aind_dynamic_foraging_basic_analysis/plot/plot_foraging_session.py:497: UserWarning: This figure includes Axes that are not compatible with tight_layout, so results might be incorrect.\n",
      "  plt.tight_layout()\n",
      "/opt/conda/lib/python3.10/site-packages/aind_dynamic_foraging_basic_analysis/plot/plot_foraging_session.py:497: UserWarning: This figure includes Axes that are not compatible with tight_layout, so results might be incorrect.\n",
      "  plt.tight_layout()\n",
      "/opt/conda/lib/python3.10/site-packages/aind_dynamic_foraging_basic_analysis/plot/plot_foraging_session.py:497: UserWarning: This figure includes Axes that are not compatible with tight_layout, so results might be incorrect.\n",
      "  plt.tight_layout()\n",
      "/opt/conda/lib/python3.10/site-packages/aind_dynamic_foraging_basic_analysis/plot/plot_foraging_session.py:497: UserWarning: This figure includes Axes that are not compatible with tight_layout, so results might be incorrect.\n",
      "  plt.tight_layout()\n",
      "/opt/conda/lib/python3.10/site-packages/aind_dynamic_foraging_basic_analysis/plot/plot_foraging_session.py:497: UserWarning: This figure includes Axes that are not compatible with tight_layout, so results might be incorrect.\n",
      "  plt.tight_layout()\n",
      "/opt/conda/lib/python3.10/site-packages/aind_dynamic_foraging_basic_analysis/plot/plot_foraging_session.py:497: UserWarning: This figure includes Axes that are not compatible with tight_layout, so results might be incorrect.\n",
      "  plt.tight_layout()\n",
      "/opt/conda/lib/python3.10/site-packages/aind_dynamic_foraging_basic_analysis/plot/plot_foraging_session.py:497: UserWarning: This figure includes Axes that are not compatible with tight_layout, so results might be incorrect.\n",
      "  plt.tight_layout()\n",
      "/opt/conda/lib/python3.10/site-packages/aind_dynamic_foraging_basic_analysis/plot/plot_foraging_session.py:497: UserWarning: This figure includes Axes that are not compatible with tight_layout, so results might be incorrect.\n",
      "  plt.tight_layout()\n"
     ]
    },
    {
     "name": "stdout",
     "output_type": "stream",
     "text": [
      "Old data, using hopkins formats\n",
      "Combining behavior_ZS061_2021-04-01_16-38-03\n",
      "Processing 9 files in /root/capsule/scratch/ZS061/behavior_ZS061_2021-04-01_16-38-03/ephys/curated/figures/response\n",
      "Combined PDF saved as: /root/capsule/scratch/ZS061/behavior_ZS061_2021-04-01_16-38-03/ephys/curated/behavior_ZS061_2021-04-01_16-38-03_unit_beh_response.pdf\n",
      "Processed behavior_ZS061_2021-04-01_16-38-03\n",
      "Old data, using hopkins formats\n",
      "Old data, using hopkins formats\n",
      "Old data, using hopkins formats\n",
      "Old data, using hopkins formats\n",
      "Old data, using hopkins formats\n",
      "Old data, using hopkins formats\n",
      "Old data, using hopkins formats\n",
      "Old data, using hopkins formats\n",
      "Old data, using hopkins formats\n",
      "Old data, using hopkins formats\n",
      "Old data, using hopkins formats\n",
      "Old data, using hopkins formats\n",
      "Plotting unit TT1_SS_01\n",
      "Old data, using hopkins formats\n",
      "Plotting unit TT1_SS_02\n",
      "Old data, using hopkins formats\n",
      "Plotting unit TT4_SS_01\n",
      "Plotting unit TT4_SS_02\n",
      "Old data, using hopkins formats\n",
      "Plotting unit TT5_SS_01\n",
      "Plotting unit TT5_SS_03\n",
      "Plotting unit TT5_SS_02\n"
     ]
    },
    {
     "name": "stderr",
     "output_type": "stream",
     "text": [
      "/opt/conda/lib/python3.10/site-packages/aind_dynamic_foraging_basic_analysis/plot/plot_foraging_session.py:497: UserWarning: This figure includes Axes that are not compatible with tight_layout, so results might be incorrect.\n",
      "  plt.tight_layout()\n",
      "/opt/conda/lib/python3.10/site-packages/aind_dynamic_foraging_basic_analysis/plot/plot_foraging_session.py:497: UserWarning: This figure includes Axes that are not compatible with tight_layout, so results might be incorrect.\n",
      "  plt.tight_layout()\n",
      "/opt/conda/lib/python3.10/site-packages/aind_dynamic_foraging_basic_analysis/plot/plot_foraging_session.py:497: UserWarning: This figure includes Axes that are not compatible with tight_layout, so results might be incorrect.\n",
      "  plt.tight_layout()\n",
      "/opt/conda/lib/python3.10/site-packages/aind_dynamic_foraging_basic_analysis/plot/plot_foraging_session.py:497: UserWarning: This figure includes Axes that are not compatible with tight_layout, so results might be incorrect.\n",
      "  plt.tight_layout()\n",
      "/opt/conda/lib/python3.10/site-packages/aind_dynamic_foraging_basic_analysis/plot/plot_foraging_session.py:497: UserWarning: This figure includes Axes that are not compatible with tight_layout, so results might be incorrect.\n",
      "  plt.tight_layout()\n",
      "/opt/conda/lib/python3.10/site-packages/aind_dynamic_foraging_basic_analysis/plot/plot_foraging_session.py:497: UserWarning: This figure includes Axes that are not compatible with tight_layout, so results might be incorrect.\n",
      "  plt.tight_layout()\n",
      "/opt/conda/lib/python3.10/site-packages/aind_dynamic_foraging_basic_analysis/plot/plot_foraging_session.py:497: UserWarning: This figure includes Axes that are not compatible with tight_layout, so results might be incorrect.\n",
      "  plt.tight_layout()\n"
     ]
    },
    {
     "name": "stdout",
     "output_type": "stream",
     "text": [
      "Old data, using hopkins formats\n",
      "Combining behavior_ZS061_2021-04-02_17-53-41\n",
      "Processing 8 files in /root/capsule/scratch/ZS061/behavior_ZS061_2021-04-02_17-53-41/ephys/curated/figures/go_cue\n",
      "Combined PDF saved as: /root/capsule/scratch/ZS061/behavior_ZS061_2021-04-02_17-53-41/ephys/curated/behavior_ZS061_2021-04-02_17-53-41_unit_beh_go_cue.pdf\n",
      "Old data, using hopkins formats\n",
      "Old data, using hopkins formats\n",
      "Old data, using hopkins formats\n",
      "Old data, using hopkins formats\n",
      "Old data, using hopkins formats\n",
      "Old data, using hopkins formats\n",
      "Old data, using hopkins formats\n",
      "Old data, using hopkins formats\n",
      "Old data, using hopkins formats\n",
      "Plotting unit TT1_SS_01\n",
      "Old data, using hopkins formats\n",
      "Old data, using hopkins formats\n",
      "Old data, using hopkins formats\n",
      "Plotting unit TT4_SS_01\n",
      "Plotting unit TT1_SS_02\n",
      "Plotting unit TT5_SS_01\n",
      "Plotting unit TT5_SS_02\n",
      "Plotting unit TT5_SS_03\n",
      "Plotting unit TT4_SS_02\n"
     ]
    },
    {
     "name": "stderr",
     "output_type": "stream",
     "text": [
      "/opt/conda/lib/python3.10/site-packages/aind_dynamic_foraging_basic_analysis/plot/plot_foraging_session.py:497: UserWarning: This figure includes Axes that are not compatible with tight_layout, so results might be incorrect.\n",
      "  plt.tight_layout()\n",
      "/opt/conda/lib/python3.10/site-packages/aind_dynamic_foraging_basic_analysis/plot/plot_foraging_session.py:497: UserWarning: This figure includes Axes that are not compatible with tight_layout, so results might be incorrect.\n",
      "  plt.tight_layout()\n",
      "/opt/conda/lib/python3.10/site-packages/aind_dynamic_foraging_basic_analysis/plot/plot_foraging_session.py:497: UserWarning: This figure includes Axes that are not compatible with tight_layout, so results might be incorrect.\n",
      "  plt.tight_layout()\n",
      "/opt/conda/lib/python3.10/site-packages/aind_dynamic_foraging_basic_analysis/plot/plot_foraging_session.py:497: UserWarning: This figure includes Axes that are not compatible with tight_layout, so results might be incorrect.\n",
      "  plt.tight_layout()\n",
      "/opt/conda/lib/python3.10/site-packages/aind_dynamic_foraging_basic_analysis/plot/plot_foraging_session.py:497: UserWarning: This figure includes Axes that are not compatible with tight_layout, so results might be incorrect.\n",
      "  plt.tight_layout()\n",
      "/opt/conda/lib/python3.10/site-packages/aind_dynamic_foraging_basic_analysis/plot/plot_foraging_session.py:497: UserWarning: This figure includes Axes that are not compatible with tight_layout, so results might be incorrect.\n",
      "  plt.tight_layout()\n",
      "/opt/conda/lib/python3.10/site-packages/aind_dynamic_foraging_basic_analysis/plot/plot_foraging_session.py:497: UserWarning: This figure includes Axes that are not compatible with tight_layout, so results might be incorrect.\n",
      "  plt.tight_layout()\n"
     ]
    },
    {
     "name": "stdout",
     "output_type": "stream",
     "text": [
      "Old data, using hopkins formats\n",
      "Combining behavior_ZS061_2021-04-02_17-53-41\n",
      "Processing 8 files in /root/capsule/scratch/ZS061/behavior_ZS061_2021-04-02_17-53-41/ephys/curated/figures/response\n",
      "Combined PDF saved as: /root/capsule/scratch/ZS061/behavior_ZS061_2021-04-02_17-53-41/ephys/curated/behavior_ZS061_2021-04-02_17-53-41_unit_beh_response.pdf\n",
      "Processed behavior_ZS061_2021-04-02_17-53-41\n",
      "Old data, using hopkins formats\n",
      "No raw session directory found for behavior_ZS061_2021-04-03_18-50-29.\n",
      "Old data, using hopkins formats\n",
      "No raw session directory found for behavior_ZS061_2021-04-03_18-50-29.\n",
      "Old data, using hopkins formats\n",
      "No raw session directory found for behavior_ZS061_2021-04-03_18-50-29.\n",
      "No unit table found for behavior_ZS061_2021-04-03_18-50-29 in curated data.\n",
      "Old data, using hopkins formats\n",
      "Old data, using hopkins formats\n",
      "Old data, using hopkins formats\n",
      "Old data, using hopkins formats\n",
      "Old data, using hopkins formats\n",
      "Old data, using hopkins formats\n",
      "Old data, using hopkins formats\n",
      "Old data, using hopkins formats\n",
      "Old data, using hopkins formats\n",
      "Old data, using hopkins formats\n",
      "Old data, using hopkins formats\n",
      "Old data, using hopkins formats\n",
      "Plotting unit TT1_SS_03\n",
      "Plotting unit TT4_SS_01\n",
      "Plotting unit TT5_SS_01\n",
      "Plotting unit TT5_SS_02\n"
     ]
    },
    {
     "name": "stderr",
     "output_type": "stream",
     "text": [
      "/opt/conda/lib/python3.10/site-packages/aind_dynamic_foraging_basic_analysis/plot/plot_foraging_session.py:497: UserWarning: This figure includes Axes that are not compatible with tight_layout, so results might be incorrect.\n",
      "  plt.tight_layout()\n",
      "/opt/conda/lib/python3.10/site-packages/aind_dynamic_foraging_basic_analysis/plot/plot_foraging_session.py:497: UserWarning: This figure includes Axes that are not compatible with tight_layout, so results might be incorrect.\n",
      "  plt.tight_layout()\n",
      "/opt/conda/lib/python3.10/site-packages/aind_dynamic_foraging_basic_analysis/plot/plot_foraging_session.py:497: UserWarning: This figure includes Axes that are not compatible with tight_layout, so results might be incorrect.\n",
      "  plt.tight_layout()\n",
      "/opt/conda/lib/python3.10/site-packages/aind_dynamic_foraging_basic_analysis/plot/plot_foraging_session.py:497: UserWarning: This figure includes Axes that are not compatible with tight_layout, so results might be incorrect.\n",
      "  plt.tight_layout()\n",
      "/root/capsule/code/beh_ephys_analysis/unit_beh_analysis.py:411: RuntimeWarning: divide by zero encountered in log10\n",
      "  ax.plot(slide_times_LM, -np.log10(PvCurrU[:, regress]), lw = 1, color = colors[regress,], label = regressors[regress])\n"
     ]
    },
    {
     "name": "stdout",
     "output_type": "stream",
     "text": [
      "Old data, using hopkins formats\n",
      "Combining behavior_ZS061_2021-04-04_17-43-18\n",
      "Processing 5 files in /root/capsule/scratch/ZS061/behavior_ZS061_2021-04-04_17-43-18/ephys/curated/figures/go_cue\n",
      "Combined PDF saved as: /root/capsule/scratch/ZS061/behavior_ZS061_2021-04-04_17-43-18/ephys/curated/behavior_ZS061_2021-04-04_17-43-18_unit_beh_go_cue.pdf\n",
      "Old data, using hopkins formats\n",
      "Old data, using hopkins formats\n",
      "Old data, using hopkins formats\n",
      "Old data, using hopkins formats\n",
      "Old data, using hopkins formats\n",
      "Old data, using hopkins formats\n",
      "Old data, using hopkins formats\n",
      "Old data, using hopkins formats\n",
      "Old data, using hopkins formats\n",
      "Plotting unit TT1_SS_03\n",
      "Plotting unit TT4_SS_01\n",
      "Plotting unit TT5_SS_01\n",
      "Plotting unit TT5_SS_02\n"
     ]
    },
    {
     "name": "stderr",
     "output_type": "stream",
     "text": [
      "/opt/conda/lib/python3.10/site-packages/aind_dynamic_foraging_basic_analysis/plot/plot_foraging_session.py:497: UserWarning: This figure includes Axes that are not compatible with tight_layout, so results might be incorrect.\n",
      "  plt.tight_layout()\n",
      "/opt/conda/lib/python3.10/site-packages/aind_dynamic_foraging_basic_analysis/plot/plot_foraging_session.py:497: UserWarning: This figure includes Axes that are not compatible with tight_layout, so results might be incorrect.\n",
      "  plt.tight_layout()\n",
      "/opt/conda/lib/python3.10/site-packages/aind_dynamic_foraging_basic_analysis/plot/plot_foraging_session.py:497: UserWarning: This figure includes Axes that are not compatible with tight_layout, so results might be incorrect.\n",
      "  plt.tight_layout()\n",
      "/opt/conda/lib/python3.10/site-packages/aind_dynamic_foraging_basic_analysis/plot/plot_foraging_session.py:497: UserWarning: This figure includes Axes that are not compatible with tight_layout, so results might be incorrect.\n",
      "  plt.tight_layout()\n",
      "/root/capsule/code/beh_ephys_analysis/unit_beh_analysis.py:411: RuntimeWarning: divide by zero encountered in log10\n",
      "  ax.plot(slide_times_LM, -np.log10(PvCurrU[:, regress]), lw = 1, color = colors[regress,], label = regressors[regress])\n"
     ]
    },
    {
     "name": "stdout",
     "output_type": "stream",
     "text": [
      "Old data, using hopkins formats\n",
      "Combining behavior_ZS061_2021-04-04_17-43-18\n",
      "Processing 5 files in /root/capsule/scratch/ZS061/behavior_ZS061_2021-04-04_17-43-18/ephys/curated/figures/response\n",
      "Combined PDF saved as: /root/capsule/scratch/ZS061/behavior_ZS061_2021-04-04_17-43-18/ephys/curated/behavior_ZS061_2021-04-04_17-43-18_unit_beh_response.pdf\n",
      "Processed behavior_ZS061_2021-04-04_17-43-18\n",
      "Old data, using hopkins formats\n",
      "Old data, using hopkins formats\n",
      "Old data, using hopkins formats\n",
      "Old data, using hopkins formats\n",
      "Old data, using hopkins formats\n",
      "Old data, using hopkins formats\n",
      "Old data, using hopkins formats\n",
      "Old data, using hopkins formats\n",
      "Old data, using hopkins formats\n",
      "Old data, using hopkins formats\n",
      "Old data, using hopkins formats\n",
      "Old data, using hopkins formats\n",
      "Plotting unit TT1_SS_01\n",
      "Old data, using hopkins formats\n",
      "Plotting unit TT4_SS_01\n",
      "Plotting unit TT4_SS_02\n",
      "Plotting unit TT5_SS_01\n",
      "Plotting unit TT5_SS_02\n"
     ]
    },
    {
     "name": "stderr",
     "output_type": "stream",
     "text": [
      "/opt/conda/lib/python3.10/site-packages/aind_dynamic_foraging_basic_analysis/plot/plot_foraging_session.py:497: UserWarning: This figure includes Axes that are not compatible with tight_layout, so results might be incorrect.\n",
      "  plt.tight_layout()\n",
      "/opt/conda/lib/python3.10/site-packages/aind_dynamic_foraging_basic_analysis/plot/plot_foraging_session.py:497: UserWarning: This figure includes Axes that are not compatible with tight_layout, so results might be incorrect.\n",
      "  plt.tight_layout()\n",
      "/opt/conda/lib/python3.10/site-packages/aind_dynamic_foraging_basic_analysis/plot/plot_foraging_session.py:497: UserWarning: This figure includes Axes that are not compatible with tight_layout, so results might be incorrect.\n",
      "  plt.tight_layout()\n",
      "/opt/conda/lib/python3.10/site-packages/aind_dynamic_foraging_basic_analysis/plot/plot_foraging_session.py:497: UserWarning: This figure includes Axes that are not compatible with tight_layout, so results might be incorrect.\n",
      "  plt.tight_layout()\n",
      "/opt/conda/lib/python3.10/site-packages/aind_dynamic_foraging_basic_analysis/plot/plot_foraging_session.py:497: UserWarning: This figure includes Axes that are not compatible with tight_layout, so results might be incorrect.\n",
      "  plt.tight_layout()\n"
     ]
    },
    {
     "name": "stdout",
     "output_type": "stream",
     "text": [
      "Old data, using hopkins formats\n",
      "Combining behavior_ZS061_2021-04-06_16-13-38\n",
      "Processing 6 files in /root/capsule/scratch/ZS061/behavior_ZS061_2021-04-06_16-13-38/ephys/curated/figures/go_cue\n",
      "Combined PDF saved as: /root/capsule/scratch/ZS061/behavior_ZS061_2021-04-06_16-13-38/ephys/curated/behavior_ZS061_2021-04-06_16-13-38_unit_beh_go_cue.pdf\n",
      "Old data, using hopkins formats\n",
      "Old data, using hopkins formats\n",
      "Old data, using hopkins formats\n",
      "Old data, using hopkins formats\n",
      "Old data, using hopkins formats\n",
      "Old data, using hopkins formats\n",
      "Old data, using hopkins formats\n",
      "Old data, using hopkins formats\n",
      "Old data, using hopkins formats\n",
      "Old data, using hopkins formats\n",
      "Plotting unit TT4_SS_01\n",
      "Plotting unit TT5_SS_01\n",
      "Plotting unit TT4_SS_02\n",
      "Plotting unit TT5_SS_02\n",
      "Plotting unit TT1_SS_01\n"
     ]
    },
    {
     "name": "stderr",
     "output_type": "stream",
     "text": [
      "/opt/conda/lib/python3.10/site-packages/aind_dynamic_foraging_basic_analysis/plot/plot_foraging_session.py:497: UserWarning: This figure includes Axes that are not compatible with tight_layout, so results might be incorrect.\n",
      "  plt.tight_layout()\n",
      "/opt/conda/lib/python3.10/site-packages/aind_dynamic_foraging_basic_analysis/plot/plot_foraging_session.py:497: UserWarning: This figure includes Axes that are not compatible with tight_layout, so results might be incorrect.\n",
      "  plt.tight_layout()\n",
      "/opt/conda/lib/python3.10/site-packages/aind_dynamic_foraging_basic_analysis/plot/plot_foraging_session.py:497: UserWarning: This figure includes Axes that are not compatible with tight_layout, so results might be incorrect.\n",
      "  plt.tight_layout()\n",
      "/opt/conda/lib/python3.10/site-packages/aind_dynamic_foraging_basic_analysis/plot/plot_foraging_session.py:497: UserWarning: This figure includes Axes that are not compatible with tight_layout, so results might be incorrect.\n",
      "  plt.tight_layout()\n",
      "/opt/conda/lib/python3.10/site-packages/aind_dynamic_foraging_basic_analysis/plot/plot_foraging_session.py:497: UserWarning: This figure includes Axes that are not compatible with tight_layout, so results might be incorrect.\n",
      "  plt.tight_layout()\n"
     ]
    },
    {
     "name": "stdout",
     "output_type": "stream",
     "text": [
      "Old data, using hopkins formats\n",
      "Combining behavior_ZS061_2021-04-06_16-13-38\n",
      "Processing 6 files in /root/capsule/scratch/ZS061/behavior_ZS061_2021-04-06_16-13-38/ephys/curated/figures/response\n",
      "Combined PDF saved as: /root/capsule/scratch/ZS061/behavior_ZS061_2021-04-06_16-13-38/ephys/curated/behavior_ZS061_2021-04-06_16-13-38_unit_beh_response.pdf\n",
      "Processed behavior_ZS061_2021-04-06_16-13-38\n",
      "Old data, using hopkins formats\n",
      "Old data, using hopkins formats\n",
      "Old data, using hopkins formats\n",
      "Old data, using hopkins formats\n",
      "Old data, using hopkins formats\n",
      "Old data, using hopkins formats\n",
      "Old data, using hopkins formats\n",
      "Old data, using hopkins formats\n",
      "Old data, using hopkins formats\n",
      "Old data, using hopkins formats\n",
      "Old data, using hopkins formats\n",
      "Old data, using hopkins formats\n",
      "Plotting unit TT1_SS_01\n",
      "Plotting unit TT4_SS_01\n",
      "Plotting unit TT4_SS_02\n",
      "Plotting unit TT5_SS_01\n"
     ]
    },
    {
     "name": "stderr",
     "output_type": "stream",
     "text": [
      "/opt/conda/lib/python3.10/site-packages/aind_dynamic_foraging_basic_analysis/plot/plot_foraging_session.py:497: UserWarning: This figure includes Axes that are not compatible with tight_layout, so results might be incorrect.\n",
      "  plt.tight_layout()\n",
      "/opt/conda/lib/python3.10/site-packages/aind_dynamic_foraging_basic_analysis/plot/plot_foraging_session.py:497: UserWarning: This figure includes Axes that are not compatible with tight_layout, so results might be incorrect.\n",
      "  plt.tight_layout()\n",
      "/opt/conda/lib/python3.10/site-packages/aind_dynamic_foraging_basic_analysis/plot/plot_foraging_session.py:497: UserWarning: This figure includes Axes that are not compatible with tight_layout, so results might be incorrect.\n",
      "  plt.tight_layout()\n",
      "/opt/conda/lib/python3.10/site-packages/aind_dynamic_foraging_basic_analysis/plot/plot_foraging_session.py:497: UserWarning: This figure includes Axes that are not compatible with tight_layout, so results might be incorrect.\n",
      "  plt.tight_layout()\n"
     ]
    },
    {
     "name": "stdout",
     "output_type": "stream",
     "text": [
      "Old data, using hopkins formats\n",
      "Combining behavior_ZS061_2021-04-05_18-01-32\n",
      "Processing 5 files in /root/capsule/scratch/ZS061/behavior_ZS061_2021-04-05_18-01-32/ephys/curated/figures/go_cue\n",
      "Combined PDF saved as: /root/capsule/scratch/ZS061/behavior_ZS061_2021-04-05_18-01-32/ephys/curated/behavior_ZS061_2021-04-05_18-01-32_unit_beh_go_cue.pdf\n",
      "Old data, using hopkins formats\n",
      "Old data, using hopkins formats\n",
      "Old data, using hopkins formats\n",
      "Old data, using hopkins formats\n",
      "Old data, using hopkins formats\n",
      "Old data, using hopkins formats\n",
      "Old data, using hopkins formats\n",
      "Old data, using hopkins formats\n",
      "Old data, using hopkins formats\n",
      "Plotting unit TT1_SS_01\n",
      "Plotting unit TT4_SS_02\n",
      "Plotting unit TT4_SS_01\n",
      "Plotting unit TT5_SS_01\n"
     ]
    },
    {
     "name": "stderr",
     "output_type": "stream",
     "text": [
      "/opt/conda/lib/python3.10/site-packages/aind_dynamic_foraging_basic_analysis/plot/plot_foraging_session.py:497: UserWarning: This figure includes Axes that are not compatible with tight_layout, so results might be incorrect.\n",
      "  plt.tight_layout()\n",
      "/opt/conda/lib/python3.10/site-packages/aind_dynamic_foraging_basic_analysis/plot/plot_foraging_session.py:497: UserWarning: This figure includes Axes that are not compatible with tight_layout, so results might be incorrect.\n",
      "  plt.tight_layout()\n",
      "/opt/conda/lib/python3.10/site-packages/aind_dynamic_foraging_basic_analysis/plot/plot_foraging_session.py:497: UserWarning: This figure includes Axes that are not compatible with tight_layout, so results might be incorrect.\n",
      "  plt.tight_layout()\n",
      "/opt/conda/lib/python3.10/site-packages/aind_dynamic_foraging_basic_analysis/plot/plot_foraging_session.py:497: UserWarning: This figure includes Axes that are not compatible with tight_layout, so results might be incorrect.\n",
      "  plt.tight_layout()\n"
     ]
    },
    {
     "name": "stdout",
     "output_type": "stream",
     "text": [
      "Old data, using hopkins formats\n",
      "Combining behavior_ZS061_2021-04-05_18-01-32\n",
      "Processing 5 files in /root/capsule/scratch/ZS061/behavior_ZS061_2021-04-05_18-01-32/ephys/curated/figures/response\n",
      "Combined PDF saved as: /root/capsule/scratch/ZS061/behavior_ZS061_2021-04-05_18-01-32/ephys/curated/behavior_ZS061_2021-04-05_18-01-32_unit_beh_response.pdf\n",
      "Processed behavior_ZS061_2021-04-05_18-01-32\n",
      "Old data, using hopkins formats\n",
      "Old data, using hopkins formats\n",
      "Old data, using hopkins formats\n",
      "Old data, using hopkins formats\n",
      "Old data, using hopkins formats\n",
      "Old data, using hopkins formats\n",
      "Old data, using hopkins formats\n",
      "Old data, using hopkins formats\n",
      "Old data, using hopkins formats\n",
      "Old data, using hopkins formats\n",
      "Plotting unit TT1_SS_01\n",
      "Plotting unit TT3_SS_01\n"
     ]
    },
    {
     "name": "stderr",
     "output_type": "stream",
     "text": [
      "/opt/conda/lib/python3.10/site-packages/aind_dynamic_foraging_basic_analysis/plot/plot_foraging_session.py:497: UserWarning: This figure includes Axes that are not compatible with tight_layout, so results might be incorrect.\n",
      "  plt.tight_layout()\n",
      "/opt/conda/lib/python3.10/site-packages/aind_dynamic_foraging_basic_analysis/plot/plot_foraging_session.py:497: UserWarning: This figure includes Axes that are not compatible with tight_layout, so results might be incorrect.\n",
      "  plt.tight_layout()\n"
     ]
    },
    {
     "name": "stdout",
     "output_type": "stream",
     "text": [
      "Old data, using hopkins formats\n",
      "Combining behavior_ZS061_2021-04-07_16-47-22\n",
      "Processing 3 files in /root/capsule/scratch/ZS061/behavior_ZS061_2021-04-07_16-47-22/ephys/curated/figures/go_cue\n",
      "Combined PDF saved as: /root/capsule/scratch/ZS061/behavior_ZS061_2021-04-07_16-47-22/ephys/curated/behavior_ZS061_2021-04-07_16-47-22_unit_beh_go_cue.pdf\n",
      "Old data, using hopkins formats\n",
      "Old data, using hopkins formats\n",
      "Old data, using hopkins formats\n",
      "Old data, using hopkins formats\n",
      "Old data, using hopkins formats\n",
      "Old data, using hopkins formats\n",
      "Old data, using hopkins formats\n",
      "Plotting unit TT1_SS_01\n",
      "Plotting unit TT3_SS_01\n"
     ]
    },
    {
     "name": "stderr",
     "output_type": "stream",
     "text": [
      "/opt/conda/lib/python3.10/site-packages/aind_dynamic_foraging_basic_analysis/plot/plot_foraging_session.py:497: UserWarning: This figure includes Axes that are not compatible with tight_layout, so results might be incorrect.\n",
      "  plt.tight_layout()\n",
      "/opt/conda/lib/python3.10/site-packages/aind_dynamic_foraging_basic_analysis/plot/plot_foraging_session.py:497: UserWarning: This figure includes Axes that are not compatible with tight_layout, so results might be incorrect.\n",
      "  plt.tight_layout()\n"
     ]
    },
    {
     "name": "stdout",
     "output_type": "stream",
     "text": [
      "Old data, using hopkins formats\n",
      "Combining behavior_ZS061_2021-04-07_16-47-22\n",
      "Processing 3 files in /root/capsule/scratch/ZS061/behavior_ZS061_2021-04-07_16-47-22/ephys/curated/figures/response\n",
      "Combined PDF saved as: /root/capsule/scratch/ZS061/behavior_ZS061_2021-04-07_16-47-22/ephys/curated/behavior_ZS061_2021-04-07_16-47-22_unit_beh_response.pdf\n",
      "Processed behavior_ZS061_2021-04-07_16-47-22\n",
      "Old data, using hopkins formats\n",
      "Old data, using hopkins formats\n",
      "Old data, using hopkins formats\n",
      "Old data, using hopkins formats\n",
      "Old data, using hopkins formats\n",
      "Old data, using hopkins formats\n",
      "Old data, using hopkins formats\n",
      "Old data, using hopkins formats\n",
      "Old data, using hopkins formats\n",
      "Old data, using hopkins formats\n",
      "Plotting unit TT4_SS_01\n",
      "Plotting unit TT4_SS_02\n"
     ]
    },
    {
     "name": "stderr",
     "output_type": "stream",
     "text": [
      "/opt/conda/lib/python3.10/site-packages/aind_dynamic_foraging_basic_analysis/plot/plot_foraging_session.py:497: UserWarning: This figure includes Axes that are not compatible with tight_layout, so results might be incorrect.\n",
      "  plt.tight_layout()\n",
      "/opt/conda/lib/python3.10/site-packages/aind_dynamic_foraging_basic_analysis/plot/plot_foraging_session.py:497: UserWarning: This figure includes Axes that are not compatible with tight_layout, so results might be incorrect.\n",
      "  plt.tight_layout()\n"
     ]
    },
    {
     "name": "stdout",
     "output_type": "stream",
     "text": [
      "Old data, using hopkins formats\n",
      "Combining behavior_ZS061_2021-04-08_18-01-30\n",
      "Processing 3 files in /root/capsule/scratch/ZS061/behavior_ZS061_2021-04-08_18-01-30/ephys/curated/figures/go_cue\n",
      "Combined PDF saved as: /root/capsule/scratch/ZS061/behavior_ZS061_2021-04-08_18-01-30/ephys/curated/behavior_ZS061_2021-04-08_18-01-30_unit_beh_go_cue.pdf\n",
      "Old data, using hopkins formats\n",
      "Old data, using hopkins formats\n",
      "Old data, using hopkins formats\n",
      "Old data, using hopkins formats\n",
      "Old data, using hopkins formats\n",
      "Old data, using hopkins formats\n",
      "Old data, using hopkins formats\n",
      "Plotting unit TT4_SS_01\n",
      "Plotting unit TT4_SS_02\n"
     ]
    },
    {
     "name": "stderr",
     "output_type": "stream",
     "text": [
      "/opt/conda/lib/python3.10/site-packages/aind_dynamic_foraging_basic_analysis/plot/plot_foraging_session.py:497: UserWarning: This figure includes Axes that are not compatible with tight_layout, so results might be incorrect.\n",
      "  plt.tight_layout()\n",
      "/opt/conda/lib/python3.10/site-packages/aind_dynamic_foraging_basic_analysis/plot/plot_foraging_session.py:497: UserWarning: This figure includes Axes that are not compatible with tight_layout, so results might be incorrect.\n",
      "  plt.tight_layout()\n"
     ]
    },
    {
     "name": "stdout",
     "output_type": "stream",
     "text": [
      "Old data, using hopkins formats\n",
      "Combining behavior_ZS061_2021-04-08_18-01-30\n",
      "Processing 3 files in /root/capsule/scratch/ZS061/behavior_ZS061_2021-04-08_18-01-30/ephys/curated/figures/response\n",
      "Combined PDF saved as: /root/capsule/scratch/ZS061/behavior_ZS061_2021-04-08_18-01-30/ephys/curated/behavior_ZS061_2021-04-08_18-01-30_unit_beh_response.pdf\n",
      "Processed behavior_ZS061_2021-04-08_18-01-30\n",
      "Old data, using hopkins formats\n",
      "Old data, using hopkins formats\n",
      "Old data, using hopkins formats\n",
      "Old data, using hopkins formats\n",
      "Old data, using hopkins formats\n",
      "Old data, using hopkins formats\n",
      "Old data, using hopkins formats\n",
      "Old data, using hopkins formats\n",
      "Old data, using hopkins formats\n",
      "Plotting unit TT3_SS_04\n"
     ]
    },
    {
     "name": "stderr",
     "output_type": "stream",
     "text": [
      "/opt/conda/lib/python3.10/site-packages/aind_dynamic_foraging_basic_analysis/plot/plot_foraging_session.py:497: UserWarning: This figure includes Axes that are not compatible with tight_layout, so results might be incorrect.\n",
      "  plt.tight_layout()\n"
     ]
    },
    {
     "name": "stdout",
     "output_type": "stream",
     "text": [
      "Old data, using hopkins formats\n",
      "Combining behavior_ZS061_2021-04-11_17-44-56\n",
      "Processing 2 files in /root/capsule/scratch/ZS061/behavior_ZS061_2021-04-11_17-44-56/ephys/curated/figures/go_cue\n",
      "Combined PDF saved as: /root/capsule/scratch/ZS061/behavior_ZS061_2021-04-11_17-44-56/ephys/curated/behavior_ZS061_2021-04-11_17-44-56_unit_beh_go_cue.pdf\n",
      "Old data, using hopkins formats\n",
      "Old data, using hopkins formats\n",
      "Old data, using hopkins formats\n",
      "Old data, using hopkins formats\n",
      "Old data, using hopkins formats\n",
      "Old data, using hopkins formats\n",
      "Plotting unit TT3_SS_04\n"
     ]
    },
    {
     "name": "stderr",
     "output_type": "stream",
     "text": [
      "/opt/conda/lib/python3.10/site-packages/aind_dynamic_foraging_basic_analysis/plot/plot_foraging_session.py:497: UserWarning: This figure includes Axes that are not compatible with tight_layout, so results might be incorrect.\n",
      "  plt.tight_layout()\n"
     ]
    },
    {
     "name": "stdout",
     "output_type": "stream",
     "text": [
      "Old data, using hopkins formats\n",
      "Combining behavior_ZS061_2021-04-11_17-44-56\n",
      "Processing 2 files in /root/capsule/scratch/ZS061/behavior_ZS061_2021-04-11_17-44-56/ephys/curated/figures/response\n",
      "Combined PDF saved as: /root/capsule/scratch/ZS061/behavior_ZS061_2021-04-11_17-44-56/ephys/curated/behavior_ZS061_2021-04-11_17-44-56_unit_beh_response.pdf\n",
      "Processed behavior_ZS061_2021-04-11_17-44-56\n",
      "Old data, using hopkins formats\n",
      "Old data, using hopkins formats\n",
      "Old data, using hopkins formats\n",
      "Old data, using hopkins formats\n",
      "Old data, using hopkins formats\n",
      "Old data, using hopkins formats\n",
      "Old data, using hopkins formats\n",
      "Old data, using hopkins formats\n",
      "Old data, using hopkins formats\n",
      "Plotting unit TT4_SS_01\n"
     ]
    },
    {
     "name": "stderr",
     "output_type": "stream",
     "text": [
      "/opt/conda/lib/python3.10/site-packages/aind_dynamic_foraging_basic_analysis/plot/plot_foraging_session.py:497: UserWarning: This figure includes Axes that are not compatible with tight_layout, so results might be incorrect.\n",
      "  plt.tight_layout()\n"
     ]
    },
    {
     "name": "stdout",
     "output_type": "stream",
     "text": [
      "Old data, using hopkins formats\n",
      "Combining behavior_ZS061_2021-04-09_18-19-29\n",
      "Processing 2 files in /root/capsule/scratch/ZS061/behavior_ZS061_2021-04-09_18-19-29/ephys/curated/figures/go_cue\n",
      "Combined PDF saved as: /root/capsule/scratch/ZS061/behavior_ZS061_2021-04-09_18-19-29/ephys/curated/behavior_ZS061_2021-04-09_18-19-29_unit_beh_go_cue.pdf\n",
      "Old data, using hopkins formats\n",
      "Old data, using hopkins formats\n",
      "Old data, using hopkins formats\n",
      "Old data, using hopkins formats\n",
      "Old data, using hopkins formats\n",
      "Old data, using hopkins formats\n",
      "Plotting unit TT4_SS_01\n"
     ]
    },
    {
     "name": "stderr",
     "output_type": "stream",
     "text": [
      "/opt/conda/lib/python3.10/site-packages/aind_dynamic_foraging_basic_analysis/plot/plot_foraging_session.py:497: UserWarning: This figure includes Axes that are not compatible with tight_layout, so results might be incorrect.\n",
      "  plt.tight_layout()\n"
     ]
    },
    {
     "name": "stdout",
     "output_type": "stream",
     "text": [
      "Old data, using hopkins formats\n",
      "Combining behavior_ZS061_2021-04-09_18-19-29\n",
      "Processing 2 files in /root/capsule/scratch/ZS061/behavior_ZS061_2021-04-09_18-19-29/ephys/curated/figures/response\n",
      "Combined PDF saved as: /root/capsule/scratch/ZS061/behavior_ZS061_2021-04-09_18-19-29/ephys/curated/behavior_ZS061_2021-04-09_18-19-29_unit_beh_response.pdf\n",
      "Processed behavior_ZS061_2021-04-09_18-19-29\n",
      "Old data, using hopkins formats\n",
      "Old data, using hopkins formats\n",
      "Old data, using hopkins formats\n",
      "Old data, using hopkins formats\n",
      "Old data, using hopkins formats\n",
      "Old data, using hopkins formats\n",
      "Old data, using hopkins formats\n",
      "Old data, using hopkins formats\n",
      "Old data, using hopkins formats\n",
      "Old data, using hopkins formats\n",
      "Plotting unit TT3_SS_02\n",
      "Plotting unit TT4_SS_01\n"
     ]
    },
    {
     "name": "stderr",
     "output_type": "stream",
     "text": [
      "/opt/conda/lib/python3.10/site-packages/aind_dynamic_foraging_basic_analysis/plot/plot_foraging_session.py:497: UserWarning: This figure includes Axes that are not compatible with tight_layout, so results might be incorrect.\n",
      "  plt.tight_layout()\n",
      "/opt/conda/lib/python3.10/site-packages/aind_dynamic_foraging_basic_analysis/plot/plot_foraging_session.py:497: UserWarning: This figure includes Axes that are not compatible with tight_layout, so results might be incorrect.\n",
      "  plt.tight_layout()\n"
     ]
    },
    {
     "name": "stdout",
     "output_type": "stream",
     "text": [
      "Old data, using hopkins formats\n",
      "Combining behavior_ZS061_2021-04-10_18-01-14\n",
      "Processing 3 files in /root/capsule/scratch/ZS061/behavior_ZS061_2021-04-10_18-01-14/ephys/curated/figures/go_cue\n",
      "Combined PDF saved as: /root/capsule/scratch/ZS061/behavior_ZS061_2021-04-10_18-01-14/ephys/curated/behavior_ZS061_2021-04-10_18-01-14_unit_beh_go_cue.pdf\n",
      "Old data, using hopkins formats\n",
      "Old data, using hopkins formats\n",
      "Old data, using hopkins formats\n",
      "Old data, using hopkins formats\n",
      "Old data, using hopkins formats\n",
      "Old data, using hopkins formats\n",
      "Old data, using hopkins formats\n",
      "Plotting unit TT3_SS_02\n",
      "Plotting unit TT4_SS_01\n"
     ]
    },
    {
     "name": "stderr",
     "output_type": "stream",
     "text": [
      "/opt/conda/lib/python3.10/site-packages/aind_dynamic_foraging_basic_analysis/plot/plot_foraging_session.py:497: UserWarning: This figure includes Axes that are not compatible with tight_layout, so results might be incorrect.\n",
      "  plt.tight_layout()\n",
      "/opt/conda/lib/python3.10/site-packages/aind_dynamic_foraging_basic_analysis/plot/plot_foraging_session.py:497: UserWarning: This figure includes Axes that are not compatible with tight_layout, so results might be incorrect.\n",
      "  plt.tight_layout()\n"
     ]
    },
    {
     "name": "stdout",
     "output_type": "stream",
     "text": [
      "Old data, using hopkins formats\n",
      "Combining behavior_ZS061_2021-04-10_18-01-14\n",
      "Processing 3 files in /root/capsule/scratch/ZS061/behavior_ZS061_2021-04-10_18-01-14/ephys/curated/figures/response\n",
      "Combined PDF saved as: /root/capsule/scratch/ZS061/behavior_ZS061_2021-04-10_18-01-14/ephys/curated/behavior_ZS061_2021-04-10_18-01-14_unit_beh_response.pdf\n",
      "Processed behavior_ZS061_2021-04-10_18-01-14\n",
      "Old data, using hopkins formats\n",
      "Old data, using hopkins formats\n",
      "Old data, using hopkins formats\n",
      "Old data, using hopkins formats\n",
      "Old data, using hopkins formats\n",
      "Old data, using hopkins formats\n",
      "Old data, using hopkins formats\n",
      "Old data, using hopkins formats\n",
      "Old data, using hopkins formats\n",
      "Plotting unit TT4_SS_01\n"
     ]
    },
    {
     "name": "stderr",
     "output_type": "stream",
     "text": [
      "/opt/conda/lib/python3.10/site-packages/aind_dynamic_foraging_basic_analysis/plot/plot_foraging_session.py:497: UserWarning: This figure includes Axes that are not compatible with tight_layout, so results might be incorrect.\n",
      "  plt.tight_layout()\n"
     ]
    },
    {
     "name": "stdout",
     "output_type": "stream",
     "text": [
      "Old data, using hopkins formats\n",
      "Combining behavior_ZS061_2021-04-15_16-45-44\n",
      "Processing 2 files in /root/capsule/scratch/ZS061/behavior_ZS061_2021-04-15_16-45-44/ephys/curated/figures/go_cue\n",
      "Combined PDF saved as: /root/capsule/scratch/ZS061/behavior_ZS061_2021-04-15_16-45-44/ephys/curated/behavior_ZS061_2021-04-15_16-45-44_unit_beh_go_cue.pdf\n",
      "Old data, using hopkins formats\n",
      "Old data, using hopkins formats\n",
      "Old data, using hopkins formats\n",
      "Old data, using hopkins formats\n",
      "Old data, using hopkins formats\n",
      "Old data, using hopkins formats\n",
      "Plotting unit TT4_SS_01\n"
     ]
    },
    {
     "name": "stderr",
     "output_type": "stream",
     "text": [
      "/opt/conda/lib/python3.10/site-packages/aind_dynamic_foraging_basic_analysis/plot/plot_foraging_session.py:497: UserWarning: This figure includes Axes that are not compatible with tight_layout, so results might be incorrect.\n",
      "  plt.tight_layout()\n"
     ]
    },
    {
     "name": "stdout",
     "output_type": "stream",
     "text": [
      "Old data, using hopkins formats\n",
      "Combining behavior_ZS061_2021-04-15_16-45-44\n",
      "Processing 2 files in /root/capsule/scratch/ZS061/behavior_ZS061_2021-04-15_16-45-44/ephys/curated/figures/response\n",
      "Combined PDF saved as: /root/capsule/scratch/ZS061/behavior_ZS061_2021-04-15_16-45-44/ephys/curated/behavior_ZS061_2021-04-15_16-45-44_unit_beh_response.pdf\n",
      "Processed behavior_ZS061_2021-04-15_16-45-44\n",
      "Old data, using hopkins formats\n",
      "Old data, using hopkins formats\n",
      "Old data, using hopkins formats\n",
      "Old data, using hopkins formats\n",
      "Old data, using hopkins formats\n",
      "Old data, using hopkins formats\n",
      "Old data, using hopkins formats\n",
      "Old data, using hopkins formats\n",
      "Old data, using hopkins formats\n",
      "Plotting unit TT4_SS_02\n"
     ]
    },
    {
     "name": "stderr",
     "output_type": "stream",
     "text": [
      "/opt/conda/lib/python3.10/site-packages/aind_dynamic_foraging_basic_analysis/plot/plot_foraging_session.py:497: UserWarning: This figure includes Axes that are not compatible with tight_layout, so results might be incorrect.\n",
      "  plt.tight_layout()\n"
     ]
    },
    {
     "name": "stdout",
     "output_type": "stream",
     "text": [
      "Old data, using hopkins formats\n",
      "Combining behavior_ZS061_2021-04-16_17-08-59\n",
      "Processing 2 files in /root/capsule/scratch/ZS061/behavior_ZS061_2021-04-16_17-08-59/ephys/curated/figures/go_cue\n",
      "Combined PDF saved as: /root/capsule/scratch/ZS061/behavior_ZS061_2021-04-16_17-08-59/ephys/curated/behavior_ZS061_2021-04-16_17-08-59_unit_beh_go_cue.pdf\n",
      "Old data, using hopkins formats\n",
      "Old data, using hopkins formats\n",
      "Old data, using hopkins formats\n",
      "Old data, using hopkins formats\n",
      "Old data, using hopkins formats\n",
      "Old data, using hopkins formats\n",
      "Plotting unit TT4_SS_02\n"
     ]
    },
    {
     "name": "stderr",
     "output_type": "stream",
     "text": [
      "/opt/conda/lib/python3.10/site-packages/aind_dynamic_foraging_basic_analysis/plot/plot_foraging_session.py:497: UserWarning: This figure includes Axes that are not compatible with tight_layout, so results might be incorrect.\n",
      "  plt.tight_layout()\n"
     ]
    },
    {
     "name": "stdout",
     "output_type": "stream",
     "text": [
      "Old data, using hopkins formats\n",
      "Combining behavior_ZS061_2021-04-16_17-08-59\n",
      "Processing 2 files in /root/capsule/scratch/ZS061/behavior_ZS061_2021-04-16_17-08-59/ephys/curated/figures/response\n",
      "Combined PDF saved as: /root/capsule/scratch/ZS061/behavior_ZS061_2021-04-16_17-08-59/ephys/curated/behavior_ZS061_2021-04-16_17-08-59_unit_beh_response.pdf\n",
      "Processed behavior_ZS061_2021-04-16_17-08-59\n",
      "Old data, using hopkins formats\n",
      "Old data, using hopkins formats\n",
      "Old data, using hopkins formats\n",
      "Old data, using hopkins formats\n",
      "Old data, using hopkins formats\n",
      "Old data, using hopkins formats\n",
      "Old data, using hopkins formats\n",
      "Old data, using hopkins formats\n",
      "Old data, using hopkins formats\n",
      "Plotting unit TT3_SS_01\n"
     ]
    },
    {
     "name": "stderr",
     "output_type": "stream",
     "text": [
      "/opt/conda/lib/python3.10/site-packages/aind_dynamic_foraging_basic_analysis/plot/plot_foraging_session.py:497: UserWarning: This figure includes Axes that are not compatible with tight_layout, so results might be incorrect.\n",
      "  plt.tight_layout()\n"
     ]
    },
    {
     "name": "stdout",
     "output_type": "stream",
     "text": [
      "Old data, using hopkins formats\n",
      "Combining behavior_ZS061_2021-04-12_17-26-54\n",
      "Processing 2 files in /root/capsule/scratch/ZS061/behavior_ZS061_2021-04-12_17-26-54/ephys/curated/figures/go_cue\n",
      "Combined PDF saved as: /root/capsule/scratch/ZS061/behavior_ZS061_2021-04-12_17-26-54/ephys/curated/behavior_ZS061_2021-04-12_17-26-54_unit_beh_go_cue.pdf\n",
      "Old data, using hopkins formats\n",
      "Old data, using hopkins formats\n",
      "Old data, using hopkins formats\n",
      "Old data, using hopkins formats\n",
      "Old data, using hopkins formats\n",
      "Old data, using hopkins formats\n",
      "Plotting unit TT3_SS_01\n"
     ]
    },
    {
     "name": "stderr",
     "output_type": "stream",
     "text": [
      "/opt/conda/lib/python3.10/site-packages/aind_dynamic_foraging_basic_analysis/plot/plot_foraging_session.py:497: UserWarning: This figure includes Axes that are not compatible with tight_layout, so results might be incorrect.\n",
      "  plt.tight_layout()\n"
     ]
    },
    {
     "name": "stdout",
     "output_type": "stream",
     "text": [
      "Old data, using hopkins formats\n",
      "Combining behavior_ZS061_2021-04-12_17-26-54\n",
      "Processing 2 files in /root/capsule/scratch/ZS061/behavior_ZS061_2021-04-12_17-26-54/ephys/curated/figures/response\n",
      "Combined PDF saved as: /root/capsule/scratch/ZS061/behavior_ZS061_2021-04-12_17-26-54/ephys/curated/behavior_ZS061_2021-04-12_17-26-54_unit_beh_response.pdf\n",
      "Processed behavior_ZS061_2021-04-12_17-26-54\n",
      "Old data, using hopkins formats\n",
      "Old data, using hopkins formats\n",
      "Old data, using hopkins formats\n",
      "No unit table found for behavior_ZS061_2021-04-13_18-14-05 in curated data.\n",
      "Old data, using hopkins formats\n",
      "Old data, using hopkins formats\n",
      "Old data, using hopkins formats\n",
      "Old data, using hopkins formats\n",
      "Old data, using hopkins formats\n",
      "Old data, using hopkins formats\n",
      "Old data, using hopkins formats\n",
      "Old data, using hopkins formats\n",
      "Old data, using hopkins formats\n",
      "Plotting unit TT4_SS_01\n"
     ]
    },
    {
     "name": "stderr",
     "output_type": "stream",
     "text": [
      "/opt/conda/lib/python3.10/site-packages/aind_dynamic_foraging_basic_analysis/plot/plot_foraging_session.py:497: UserWarning: This figure includes Axes that are not compatible with tight_layout, so results might be incorrect.\n",
      "  plt.tight_layout()\n"
     ]
    },
    {
     "name": "stdout",
     "output_type": "stream",
     "text": [
      "Old data, using hopkins formats\n",
      "Combining behavior_ZS061_2021-04-14_16-04-22\n",
      "Processing 2 files in /root/capsule/scratch/ZS061/behavior_ZS061_2021-04-14_16-04-22/ephys/curated/figures/go_cue\n",
      "Combined PDF saved as: /root/capsule/scratch/ZS061/behavior_ZS061_2021-04-14_16-04-22/ephys/curated/behavior_ZS061_2021-04-14_16-04-22_unit_beh_go_cue.pdf\n",
      "Old data, using hopkins formats\n",
      "Old data, using hopkins formats\n",
      "Old data, using hopkins formats\n",
      "Old data, using hopkins formats\n",
      "Old data, using hopkins formats\n",
      "Old data, using hopkins formats\n",
      "Plotting unit TT4_SS_01\n"
     ]
    },
    {
     "name": "stderr",
     "output_type": "stream",
     "text": [
      "/opt/conda/lib/python3.10/site-packages/aind_dynamic_foraging_basic_analysis/plot/plot_foraging_session.py:497: UserWarning: This figure includes Axes that are not compatible with tight_layout, so results might be incorrect.\n",
      "  plt.tight_layout()\n"
     ]
    },
    {
     "name": "stdout",
     "output_type": "stream",
     "text": [
      "Old data, using hopkins formats\n",
      "Combining behavior_ZS061_2021-04-14_16-04-22\n",
      "Processing 2 files in /root/capsule/scratch/ZS061/behavior_ZS061_2021-04-14_16-04-22/ephys/curated/figures/response\n",
      "Combined PDF saved as: /root/capsule/scratch/ZS061/behavior_ZS061_2021-04-14_16-04-22/ephys/curated/behavior_ZS061_2021-04-14_16-04-22_unit_beh_response.pdf\n",
      "Processed behavior_ZS061_2021-04-14_16-04-22\n",
      "Old data, using hopkins formats\n",
      "Old data, using hopkins formats\n",
      "Old data, using hopkins formats\n",
      "Old data, using hopkins formats\n",
      "Old data, using hopkins formats\n",
      "Old data, using hopkins formats\n",
      "Old data, using hopkins formats\n",
      "Old data, using hopkins formats\n",
      "Old data, using hopkins formats\n",
      "Old data, using hopkins formats\n",
      "Plotting unit TT3_SS_02\n",
      "Plotting unit TT4_SS_02\n"
     ]
    },
    {
     "name": "stderr",
     "output_type": "stream",
     "text": [
      "/opt/conda/lib/python3.10/site-packages/aind_dynamic_foraging_basic_analysis/plot/plot_foraging_session.py:497: UserWarning: This figure includes Axes that are not compatible with tight_layout, so results might be incorrect.\n",
      "  plt.tight_layout()\n",
      "/opt/conda/lib/python3.10/site-packages/aind_dynamic_foraging_basic_analysis/plot/plot_foraging_session.py:497: UserWarning: This figure includes Axes that are not compatible with tight_layout, so results might be incorrect.\n",
      "  plt.tight_layout()\n"
     ]
    },
    {
     "name": "stdout",
     "output_type": "stream",
     "text": [
      "Old data, using hopkins formats\n",
      "Combining behavior_ZS061_2021-04-17_16-50-25\n",
      "Processing 3 files in /root/capsule/scratch/ZS061/behavior_ZS061_2021-04-17_16-50-25/ephys/curated/figures/go_cue\n",
      "Combined PDF saved as: /root/capsule/scratch/ZS061/behavior_ZS061_2021-04-17_16-50-25/ephys/curated/behavior_ZS061_2021-04-17_16-50-25_unit_beh_go_cue.pdf\n",
      "Old data, using hopkins formats\n",
      "Old data, using hopkins formats\n",
      "Old data, using hopkins formats\n",
      "Old data, using hopkins formats\n",
      "Old data, using hopkins formats\n",
      "Old data, using hopkins formats\n",
      "Old data, using hopkins formats\n",
      "Plotting unit TT3_SS_02\n",
      "Plotting unit TT4_SS_02\n"
     ]
    },
    {
     "name": "stderr",
     "output_type": "stream",
     "text": [
      "/opt/conda/lib/python3.10/site-packages/aind_dynamic_foraging_basic_analysis/plot/plot_foraging_session.py:497: UserWarning: This figure includes Axes that are not compatible with tight_layout, so results might be incorrect.\n",
      "  plt.tight_layout()\n",
      "/opt/conda/lib/python3.10/site-packages/aind_dynamic_foraging_basic_analysis/plot/plot_foraging_session.py:497: UserWarning: This figure includes Axes that are not compatible with tight_layout, so results might be incorrect.\n",
      "  plt.tight_layout()\n"
     ]
    },
    {
     "name": "stdout",
     "output_type": "stream",
     "text": [
      "Old data, using hopkins formats\n",
      "Combining behavior_ZS061_2021-04-17_16-50-25\n",
      "Processing 3 files in /root/capsule/scratch/ZS061/behavior_ZS061_2021-04-17_16-50-25/ephys/curated/figures/response\n",
      "Combined PDF saved as: /root/capsule/scratch/ZS061/behavior_ZS061_2021-04-17_16-50-25/ephys/curated/behavior_ZS061_2021-04-17_16-50-25_unit_beh_response.pdf\n",
      "Processed behavior_ZS061_2021-04-17_16-50-25\n",
      "Old data, using hopkins formats\n",
      "Old data, using hopkins formats\n",
      "Old data, using hopkins formats\n",
      "Old data, using hopkins formats\n",
      "Old data, using hopkins formats\n",
      "Old data, using hopkins formats\n",
      "Old data, using hopkins formats\n",
      "Old data, using hopkins formats\n",
      "Old data, using hopkins formats\n",
      "Plotting unit TT3_SS_01\n"
     ]
    },
    {
     "name": "stderr",
     "output_type": "stream",
     "text": [
      "/opt/conda/lib/python3.10/site-packages/aind_dynamic_foraging_basic_analysis/plot/plot_foraging_session.py:497: UserWarning: This figure includes Axes that are not compatible with tight_layout, so results might be incorrect.\n",
      "  plt.tight_layout()\n"
     ]
    },
    {
     "name": "stdout",
     "output_type": "stream",
     "text": [
      "Old data, using hopkins formats\n",
      "Combining behavior_ZS061_2021-04-18_18-32-58\n",
      "Processing 2 files in /root/capsule/scratch/ZS061/behavior_ZS061_2021-04-18_18-32-58/ephys/curated/figures/go_cue\n",
      "Combined PDF saved as: /root/capsule/scratch/ZS061/behavior_ZS061_2021-04-18_18-32-58/ephys/curated/behavior_ZS061_2021-04-18_18-32-58_unit_beh_go_cue.pdf\n",
      "Old data, using hopkins formats\n",
      "Old data, using hopkins formats\n",
      "Old data, using hopkins formats\n",
      "Old data, using hopkins formats\n",
      "Old data, using hopkins formats\n",
      "Old data, using hopkins formats\n",
      "Plotting unit TT3_SS_01\n"
     ]
    },
    {
     "name": "stderr",
     "output_type": "stream",
     "text": [
      "/opt/conda/lib/python3.10/site-packages/aind_dynamic_foraging_basic_analysis/plot/plot_foraging_session.py:497: UserWarning: This figure includes Axes that are not compatible with tight_layout, so results might be incorrect.\n",
      "  plt.tight_layout()\n"
     ]
    },
    {
     "name": "stdout",
     "output_type": "stream",
     "text": [
      "Old data, using hopkins formats\n",
      "Combining behavior_ZS061_2021-04-18_18-32-58\n",
      "Processing 2 files in /root/capsule/scratch/ZS061/behavior_ZS061_2021-04-18_18-32-58/ephys/curated/figures/response\n",
      "Combined PDF saved as: /root/capsule/scratch/ZS061/behavior_ZS061_2021-04-18_18-32-58/ephys/curated/behavior_ZS061_2021-04-18_18-32-58_unit_beh_response.pdf\n",
      "Processed behavior_ZS061_2021-04-18_18-32-58\n",
      "Old data, using hopkins formats\n",
      "Old data, using hopkins formats\n",
      "Old data, using hopkins formats\n",
      "Old data, using hopkins formats\n",
      "Old data, using hopkins formats\n",
      "Old data, using hopkins formats\n",
      "Old data, using hopkins formats\n",
      "Old data, using hopkins formats\n",
      "Old data, using hopkins formats\n",
      "Old data, using hopkins formats\n",
      "Plotting unit TT6_SS_01\n",
      "Plotting unit TT6_SS_02\n"
     ]
    },
    {
     "name": "stderr",
     "output_type": "stream",
     "text": [
      "/opt/conda/lib/python3.10/site-packages/aind_dynamic_foraging_basic_analysis/plot/plot_foraging_session.py:497: UserWarning: This figure includes Axes that are not compatible with tight_layout, so results might be incorrect.\n",
      "  plt.tight_layout()\n",
      "/opt/conda/lib/python3.10/site-packages/aind_dynamic_foraging_basic_analysis/plot/plot_foraging_session.py:497: UserWarning: This figure includes Axes that are not compatible with tight_layout, so results might be incorrect.\n",
      "  plt.tight_layout()\n"
     ]
    },
    {
     "name": "stdout",
     "output_type": "stream",
     "text": [
      "Old data, using hopkins formats\n",
      "Combining behavior_ZS062_2021-05-07_17-38-21\n",
      "Processing 3 files in /root/capsule/scratch/ZS062/behavior_ZS062_2021-05-07_17-38-21/ephys/curated/figures/go_cue\n",
      "Combined PDF saved as: /root/capsule/scratch/ZS062/behavior_ZS062_2021-05-07_17-38-21/ephys/curated/behavior_ZS062_2021-05-07_17-38-21_unit_beh_go_cue.pdf\n",
      "Old data, using hopkins formats\n",
      "Old data, using hopkins formats\n",
      "Old data, using hopkins formats\n",
      "Old data, using hopkins formats\n",
      "Old data, using hopkins formats\n",
      "Old data, using hopkins formats\n",
      "Old data, using hopkins formats\n",
      "Plotting unit TT6_SS_01\n",
      "Plotting unit TT6_SS_02\n"
     ]
    },
    {
     "name": "stderr",
     "output_type": "stream",
     "text": [
      "/opt/conda/lib/python3.10/site-packages/aind_dynamic_foraging_basic_analysis/plot/plot_foraging_session.py:497: UserWarning: This figure includes Axes that are not compatible with tight_layout, so results might be incorrect.\n",
      "  plt.tight_layout()\n",
      "/opt/conda/lib/python3.10/site-packages/aind_dynamic_foraging_basic_analysis/plot/plot_foraging_session.py:497: UserWarning: This figure includes Axes that are not compatible with tight_layout, so results might be incorrect.\n",
      "  plt.tight_layout()\n"
     ]
    },
    {
     "name": "stdout",
     "output_type": "stream",
     "text": [
      "Old data, using hopkins formats\n",
      "Combining behavior_ZS062_2021-05-07_17-38-21\n",
      "Processing 3 files in /root/capsule/scratch/ZS062/behavior_ZS062_2021-05-07_17-38-21/ephys/curated/figures/response\n",
      "Combined PDF saved as: /root/capsule/scratch/ZS062/behavior_ZS062_2021-05-07_17-38-21/ephys/curated/behavior_ZS062_2021-05-07_17-38-21_unit_beh_response.pdf\n",
      "Processed behavior_ZS062_2021-05-07_17-38-21\n",
      "Old data, using hopkins formats\n",
      "Old data, using hopkins formats\n",
      "Old data, using hopkins formats\n",
      "Old data, using hopkins formats\n",
      "Old data, using hopkins formats\n",
      "Old data, using hopkins formats\n",
      "Old data, using hopkins formats\n",
      "Old data, using hopkins formats\n",
      "Old data, using hopkins formats\n",
      "Plotting unit TT7_SS_01\n"
     ]
    },
    {
     "name": "stderr",
     "output_type": "stream",
     "text": [
      "/opt/conda/lib/python3.10/site-packages/aind_dynamic_foraging_basic_analysis/plot/plot_foraging_session.py:497: UserWarning: This figure includes Axes that are not compatible with tight_layout, so results might be incorrect.\n",
      "  plt.tight_layout()\n"
     ]
    },
    {
     "name": "stdout",
     "output_type": "stream",
     "text": [
      "Old data, using hopkins formats\n",
      "Combining behavior_ZS062_2021-05-11_20-10-59\n",
      "Processing 2 files in /root/capsule/scratch/ZS062/behavior_ZS062_2021-05-11_20-10-59/ephys/curated/figures/go_cue\n",
      "Combined PDF saved as: /root/capsule/scratch/ZS062/behavior_ZS062_2021-05-11_20-10-59/ephys/curated/behavior_ZS062_2021-05-11_20-10-59_unit_beh_go_cue.pdf\n",
      "Old data, using hopkins formats\n",
      "Old data, using hopkins formats\n",
      "Old data, using hopkins formats\n",
      "Old data, using hopkins formats\n",
      "Old data, using hopkins formats\n",
      "Old data, using hopkins formats\n",
      "Plotting unit TT7_SS_01\n"
     ]
    },
    {
     "name": "stderr",
     "output_type": "stream",
     "text": [
      "/opt/conda/lib/python3.10/site-packages/aind_dynamic_foraging_basic_analysis/plot/plot_foraging_session.py:497: UserWarning: This figure includes Axes that are not compatible with tight_layout, so results might be incorrect.\n",
      "  plt.tight_layout()\n"
     ]
    },
    {
     "name": "stdout",
     "output_type": "stream",
     "text": [
      "Old data, using hopkins formats\n",
      "Combining behavior_ZS062_2021-05-11_20-10-59\n",
      "Processing 2 files in /root/capsule/scratch/ZS062/behavior_ZS062_2021-05-11_20-10-59/ephys/curated/figures/response\n",
      "Combined PDF saved as: /root/capsule/scratch/ZS062/behavior_ZS062_2021-05-11_20-10-59/ephys/curated/behavior_ZS062_2021-05-11_20-10-59_unit_beh_response.pdf\n",
      "Processed behavior_ZS062_2021-05-11_20-10-59\n",
      "Old data, using hopkins formats\n",
      "Old data, using hopkins formats\n",
      "Old data, using hopkins formats\n",
      "Old data, using hopkins formats\n",
      "Old data, using hopkins formats\n",
      "Old data, using hopkins formats\n",
      "Old data, using hopkins formats\n",
      "Old data, using hopkins formats\n",
      "Old data, using hopkins formats\n",
      "Plotting unit TT7_SS_01\n"
     ]
    },
    {
     "name": "stderr",
     "output_type": "stream",
     "text": [
      "/opt/conda/lib/python3.10/site-packages/aind_dynamic_foraging_basic_analysis/plot/plot_foraging_session.py:497: UserWarning: This figure includes Axes that are not compatible with tight_layout, so results might be incorrect.\n",
      "  plt.tight_layout()\n"
     ]
    },
    {
     "name": "stdout",
     "output_type": "stream",
     "text": [
      "Old data, using hopkins formats\n",
      "Combining behavior_ZS062_2021-05-09_17-15-10\n",
      "Processing 2 files in /root/capsule/scratch/ZS062/behavior_ZS062_2021-05-09_17-15-10/ephys/curated/figures/go_cue\n",
      "Combined PDF saved as: /root/capsule/scratch/ZS062/behavior_ZS062_2021-05-09_17-15-10/ephys/curated/behavior_ZS062_2021-05-09_17-15-10_unit_beh_go_cue.pdf\n",
      "Old data, using hopkins formats\n",
      "Old data, using hopkins formats\n",
      "Old data, using hopkins formats\n",
      "Old data, using hopkins formats\n",
      "Old data, using hopkins formats\n",
      "Old data, using hopkins formats\n",
      "Plotting unit TT7_SS_01\n"
     ]
    },
    {
     "name": "stderr",
     "output_type": "stream",
     "text": [
      "/opt/conda/lib/python3.10/site-packages/aind_dynamic_foraging_basic_analysis/plot/plot_foraging_session.py:497: UserWarning: This figure includes Axes that are not compatible with tight_layout, so results might be incorrect.\n",
      "  plt.tight_layout()\n"
     ]
    },
    {
     "name": "stdout",
     "output_type": "stream",
     "text": [
      "Old data, using hopkins formats\n",
      "Combining behavior_ZS062_2021-05-09_17-15-10\n",
      "Processing 2 files in /root/capsule/scratch/ZS062/behavior_ZS062_2021-05-09_17-15-10/ephys/curated/figures/response\n",
      "Combined PDF saved as: /root/capsule/scratch/ZS062/behavior_ZS062_2021-05-09_17-15-10/ephys/curated/behavior_ZS062_2021-05-09_17-15-10_unit_beh_response.pdf\n",
      "Processed behavior_ZS062_2021-05-09_17-15-10\n",
      "Old data, using hopkins formats\n",
      "Old data, using hopkins formats\n",
      "Old data, using hopkins formats\n",
      "Old data, using hopkins formats\n",
      "Old data, using hopkins formats\n",
      "Old data, using hopkins formats\n",
      "Old data, using hopkins formats\n",
      "Old data, using hopkins formats\n",
      "Old data, using hopkins formats\n",
      "Old data, using hopkins formats\n",
      "Old data, using hopkins formats\n",
      "Old data, using hopkins formats\n",
      "Plotting unit TT2_SS_01\n",
      "Plotting unit TT6_SS_02\n",
      "Plotting unit TT6_SS_03\n",
      "Plotting unit TT7_SS_01\n"
     ]
    },
    {
     "name": "stderr",
     "output_type": "stream",
     "text": [
      "/opt/conda/lib/python3.10/site-packages/aind_dynamic_foraging_basic_analysis/plot/plot_foraging_session.py:497: UserWarning: This figure includes Axes that are not compatible with tight_layout, so results might be incorrect.\n",
      "  plt.tight_layout()\n",
      "/opt/conda/lib/python3.10/site-packages/aind_dynamic_foraging_basic_analysis/plot/plot_foraging_session.py:497: UserWarning: This figure includes Axes that are not compatible with tight_layout, so results might be incorrect.\n",
      "  plt.tight_layout()\n",
      "/opt/conda/lib/python3.10/site-packages/aind_dynamic_foraging_basic_analysis/plot/plot_foraging_session.py:497: UserWarning: This figure includes Axes that are not compatible with tight_layout, so results might be incorrect.\n",
      "  plt.tight_layout()\n",
      "/opt/conda/lib/python3.10/site-packages/aind_dynamic_foraging_basic_analysis/plot/plot_foraging_session.py:497: UserWarning: This figure includes Axes that are not compatible with tight_layout, so results might be incorrect.\n",
      "  plt.tight_layout()\n",
      "/root/capsule/code/beh_ephys_analysis/unit_beh_analysis.py:411: RuntimeWarning: divide by zero encountered in log10\n",
      "  ax.plot(slide_times_LM, -np.log10(PvCurrU[:, regress]), lw = 1, color = colors[regress,], label = regressors[regress])\n"
     ]
    },
    {
     "name": "stdout",
     "output_type": "stream",
     "text": [
      "Old data, using hopkins formats\n",
      "Combining behavior_ZS062_2021-05-10_19-15-51\n",
      "Processing 5 files in /root/capsule/scratch/ZS062/behavior_ZS062_2021-05-10_19-15-51/ephys/curated/figures/go_cue\n",
      "Combined PDF saved as: /root/capsule/scratch/ZS062/behavior_ZS062_2021-05-10_19-15-51/ephys/curated/behavior_ZS062_2021-05-10_19-15-51_unit_beh_go_cue.pdf\n",
      "Old data, using hopkins formats\n",
      "Old data, using hopkins formats\n",
      "Old data, using hopkins formats\n",
      "Old data, using hopkins formats\n",
      "Old data, using hopkins formats\n",
      "Old data, using hopkins formats\n",
      "Old data, using hopkins formats\n",
      "Old data, using hopkins formats\n",
      "Plotting unit TT2_SS_01\n",
      "Old data, using hopkins formats\n",
      "Plotting unit TT6_SS_02\n",
      "Plotting unit TT6_SS_03\n",
      "Plotting unit TT7_SS_01\n"
     ]
    },
    {
     "name": "stderr",
     "output_type": "stream",
     "text": [
      "/opt/conda/lib/python3.10/site-packages/aind_dynamic_foraging_basic_analysis/plot/plot_foraging_session.py:497: UserWarning: This figure includes Axes that are not compatible with tight_layout, so results might be incorrect.\n",
      "  plt.tight_layout()\n",
      "/opt/conda/lib/python3.10/site-packages/aind_dynamic_foraging_basic_analysis/plot/plot_foraging_session.py:497: UserWarning: This figure includes Axes that are not compatible with tight_layout, so results might be incorrect.\n",
      "  plt.tight_layout()\n",
      "/opt/conda/lib/python3.10/site-packages/aind_dynamic_foraging_basic_analysis/plot/plot_foraging_session.py:497: UserWarning: This figure includes Axes that are not compatible with tight_layout, so results might be incorrect.\n",
      "  plt.tight_layout()\n",
      "/opt/conda/lib/python3.10/site-packages/aind_dynamic_foraging_basic_analysis/plot/plot_foraging_session.py:497: UserWarning: This figure includes Axes that are not compatible with tight_layout, so results might be incorrect.\n",
      "  plt.tight_layout()\n",
      "/root/capsule/code/beh_ephys_analysis/unit_beh_analysis.py:411: RuntimeWarning: divide by zero encountered in log10\n",
      "  ax.plot(slide_times_LM, -np.log10(PvCurrU[:, regress]), lw = 1, color = colors[regress,], label = regressors[regress])\n"
     ]
    },
    {
     "name": "stdout",
     "output_type": "stream",
     "text": [
      "Old data, using hopkins formats\n",
      "Combining behavior_ZS062_2021-05-10_19-15-51\n",
      "Processing 5 files in /root/capsule/scratch/ZS062/behavior_ZS062_2021-05-10_19-15-51/ephys/curated/figures/response\n",
      "Combined PDF saved as: /root/capsule/scratch/ZS062/behavior_ZS062_2021-05-10_19-15-51/ephys/curated/behavior_ZS062_2021-05-10_19-15-51_unit_beh_response.pdf\n",
      "Processed behavior_ZS062_2021-05-10_19-15-51\n",
      "Old data, using hopkins formats\n",
      "Old data, using hopkins formats\n",
      "Old data, using hopkins formats\n",
      "Old data, using hopkins formats\n",
      "Old data, using hopkins formats\n",
      "Old data, using hopkins formats\n",
      "Old data, using hopkins formats\n",
      "Old data, using hopkins formats\n",
      "Old data, using hopkins formats\n",
      "Old data, using hopkins formats\n",
      "Old data, using hopkins formats\n",
      "Plotting unit TT6_SS_01\n",
      "Plotting unit TT6_SS_03\n",
      "Plotting unit TT8_SS_01\n"
     ]
    },
    {
     "name": "stderr",
     "output_type": "stream",
     "text": [
      "/opt/conda/lib/python3.10/site-packages/aind_dynamic_foraging_basic_analysis/plot/plot_foraging_session.py:497: UserWarning: This figure includes Axes that are not compatible with tight_layout, so results might be incorrect.\n",
      "  plt.tight_layout()\n",
      "/opt/conda/lib/python3.10/site-packages/aind_dynamic_foraging_basic_analysis/plot/plot_foraging_session.py:497: UserWarning: This figure includes Axes that are not compatible with tight_layout, so results might be incorrect.\n",
      "  plt.tight_layout()\n",
      "/opt/conda/lib/python3.10/site-packages/aind_dynamic_foraging_basic_analysis/plot/plot_foraging_session.py:497: UserWarning: This figure includes Axes that are not compatible with tight_layout, so results might be incorrect.\n",
      "  plt.tight_layout()\n"
     ]
    },
    {
     "name": "stdout",
     "output_type": "stream",
     "text": [
      "Old data, using hopkins formats\n",
      "Combining behavior_ZS062_2021-05-03_13-58-20\n",
      "Processing 4 files in /root/capsule/scratch/ZS062/behavior_ZS062_2021-05-03_13-58-20/ephys/curated/figures/go_cue\n",
      "Combined PDF saved as: /root/capsule/scratch/ZS062/behavior_ZS062_2021-05-03_13-58-20/ephys/curated/behavior_ZS062_2021-05-03_13-58-20_unit_beh_go_cue.pdf\n",
      "Old data, using hopkins formats\n",
      "Old data, using hopkins formats\n",
      "Old data, using hopkins formats\n",
      "Old data, using hopkins formats\n",
      "Old data, using hopkins formats\n",
      "Old data, using hopkins formats\n",
      "Old data, using hopkins formats\n",
      "Old data, using hopkins formats\n",
      "Plotting unit TT6_SS_01\n",
      "Plotting unit TT6_SS_03\n",
      "Plotting unit TT8_SS_01\n"
     ]
    },
    {
     "name": "stderr",
     "output_type": "stream",
     "text": [
      "/opt/conda/lib/python3.10/site-packages/aind_dynamic_foraging_basic_analysis/plot/plot_foraging_session.py:497: UserWarning: This figure includes Axes that are not compatible with tight_layout, so results might be incorrect.\n",
      "  plt.tight_layout()\n",
      "/opt/conda/lib/python3.10/site-packages/aind_dynamic_foraging_basic_analysis/plot/plot_foraging_session.py:497: UserWarning: This figure includes Axes that are not compatible with tight_layout, so results might be incorrect.\n",
      "  plt.tight_layout()\n",
      "/opt/conda/lib/python3.10/site-packages/aind_dynamic_foraging_basic_analysis/plot/plot_foraging_session.py:497: UserWarning: This figure includes Axes that are not compatible with tight_layout, so results might be incorrect.\n",
      "  plt.tight_layout()\n"
     ]
    },
    {
     "name": "stdout",
     "output_type": "stream",
     "text": [
      "Old data, using hopkins formats\n",
      "Combining behavior_ZS062_2021-05-03_13-58-20\n",
      "Processing 4 files in /root/capsule/scratch/ZS062/behavior_ZS062_2021-05-03_13-58-20/ephys/curated/figures/response\n",
      "Combined PDF saved as: /root/capsule/scratch/ZS062/behavior_ZS062_2021-05-03_13-58-20/ephys/curated/behavior_ZS062_2021-05-03_13-58-20_unit_beh_response.pdf\n",
      "Processed behavior_ZS062_2021-05-03_13-58-20\n",
      "Old data, using hopkins formats\n",
      "Old data, using hopkins formats\n",
      "Old data, using hopkins formats\n",
      "Old data, using hopkins formats\n",
      "Old data, using hopkins formats\n",
      "Old data, using hopkins formats\n",
      "Old data, using hopkins formats\n",
      "Old data, using hopkins formats\n",
      "Old data, using hopkins formats\n",
      "Old data, using hopkins formats\n",
      "Old data, using hopkins formats\n",
      "Plotting unit TT6_SS_01\n",
      "Plotting unit TT6_SS_02\n",
      "Plotting unit TT8_SS_01\n"
     ]
    },
    {
     "name": "stderr",
     "output_type": "stream",
     "text": [
      "/opt/conda/lib/python3.10/site-packages/aind_dynamic_foraging_basic_analysis/plot/plot_foraging_session.py:497: UserWarning: This figure includes Axes that are not compatible with tight_layout, so results might be incorrect.\n",
      "  plt.tight_layout()\n",
      "/opt/conda/lib/python3.10/site-packages/aind_dynamic_foraging_basic_analysis/plot/plot_foraging_session.py:497: UserWarning: This figure includes Axes that are not compatible with tight_layout, so results might be incorrect.\n",
      "  plt.tight_layout()\n",
      "/opt/conda/lib/python3.10/site-packages/aind_dynamic_foraging_basic_analysis/plot/plot_foraging_session.py:497: UserWarning: This figure includes Axes that are not compatible with tight_layout, so results might be incorrect.\n",
      "  plt.tight_layout()\n"
     ]
    },
    {
     "name": "stdout",
     "output_type": "stream",
     "text": [
      "Old data, using hopkins formats\n",
      "Combining behavior_ZS062_2021-05-05_16-34-46\n",
      "Processing 4 files in /root/capsule/scratch/ZS062/behavior_ZS062_2021-05-05_16-34-46/ephys/curated/figures/go_cue\n",
      "Combined PDF saved as: /root/capsule/scratch/ZS062/behavior_ZS062_2021-05-05_16-34-46/ephys/curated/behavior_ZS062_2021-05-05_16-34-46_unit_beh_go_cue.pdf\n",
      "Old data, using hopkins formats\n",
      "Old data, using hopkins formats\n",
      "Old data, using hopkins formats\n",
      "Old data, using hopkins formats\n",
      "Old data, using hopkins formats\n",
      "Old data, using hopkins formats\n",
      "Old data, using hopkins formats\n",
      "Old data, using hopkins formats\n",
      "Plotting unit TT6_SS_01\n",
      "Plotting unit TT6_SS_02\n",
      "Plotting unit TT8_SS_01\n"
     ]
    },
    {
     "name": "stderr",
     "output_type": "stream",
     "text": [
      "/opt/conda/lib/python3.10/site-packages/aind_dynamic_foraging_basic_analysis/plot/plot_foraging_session.py:497: UserWarning: This figure includes Axes that are not compatible with tight_layout, so results might be incorrect.\n",
      "  plt.tight_layout()\n",
      "/opt/conda/lib/python3.10/site-packages/aind_dynamic_foraging_basic_analysis/plot/plot_foraging_session.py:497: UserWarning: This figure includes Axes that are not compatible with tight_layout, so results might be incorrect.\n",
      "  plt.tight_layout()\n",
      "/opt/conda/lib/python3.10/site-packages/aind_dynamic_foraging_basic_analysis/plot/plot_foraging_session.py:497: UserWarning: This figure includes Axes that are not compatible with tight_layout, so results might be incorrect.\n",
      "  plt.tight_layout()\n"
     ]
    },
    {
     "name": "stdout",
     "output_type": "stream",
     "text": [
      "Old data, using hopkins formats\n",
      "Combining behavior_ZS062_2021-05-05_16-34-46\n",
      "Processing 4 files in /root/capsule/scratch/ZS062/behavior_ZS062_2021-05-05_16-34-46/ephys/curated/figures/response\n",
      "Combined PDF saved as: /root/capsule/scratch/ZS062/behavior_ZS062_2021-05-05_16-34-46/ephys/curated/behavior_ZS062_2021-05-05_16-34-46_unit_beh_response.pdf\n",
      "Processed behavior_ZS062_2021-05-05_16-34-46\n",
      "Old data, using hopkins formats\n",
      "Old data, using hopkins formats\n",
      "Old data, using hopkins formats\n",
      "Old data, using hopkins formats\n",
      "Old data, using hopkins formats\n",
      "Old data, using hopkins formats\n",
      "Old data, using hopkins formats\n",
      "Old data, using hopkins formats\n",
      "Old data, using hopkins formats\n",
      "Old data, using hopkins formats\n",
      "Plotting unit TT6_SS_01\n",
      "Plotting unit TT6_SS_02\n"
     ]
    },
    {
     "name": "stderr",
     "output_type": "stream",
     "text": [
      "/opt/conda/lib/python3.10/site-packages/aind_dynamic_foraging_basic_analysis/plot/plot_foraging_session.py:497: UserWarning: This figure includes Axes that are not compatible with tight_layout, so results might be incorrect.\n",
      "  plt.tight_layout()\n",
      "/opt/conda/lib/python3.10/site-packages/aind_dynamic_foraging_basic_analysis/plot/plot_foraging_session.py:497: UserWarning: This figure includes Axes that are not compatible with tight_layout, so results might be incorrect.\n",
      "  plt.tight_layout()\n"
     ]
    },
    {
     "name": "stdout",
     "output_type": "stream",
     "text": [
      "Old data, using hopkins formats\n",
      "Combining behavior_ZS062_2021-05-08_18-43-47\n",
      "Processing 3 files in /root/capsule/scratch/ZS062/behavior_ZS062_2021-05-08_18-43-47/ephys/curated/figures/go_cue\n",
      "Combined PDF saved as: /root/capsule/scratch/ZS062/behavior_ZS062_2021-05-08_18-43-47/ephys/curated/behavior_ZS062_2021-05-08_18-43-47_unit_beh_go_cue.pdf\n",
      "Old data, using hopkins formats\n",
      "Old data, using hopkins formats\n",
      "Old data, using hopkins formats\n",
      "Old data, using hopkins formats\n",
      "Old data, using hopkins formats\n",
      "Old data, using hopkins formats\n",
      "Old data, using hopkins formats\n",
      "Plotting unit TT6_SS_02\n",
      "Plotting unit TT6_SS_01\n"
     ]
    },
    {
     "name": "stderr",
     "output_type": "stream",
     "text": [
      "/opt/conda/lib/python3.10/site-packages/aind_dynamic_foraging_basic_analysis/plot/plot_foraging_session.py:497: UserWarning: This figure includes Axes that are not compatible with tight_layout, so results might be incorrect.\n",
      "  plt.tight_layout()\n",
      "/opt/conda/lib/python3.10/site-packages/aind_dynamic_foraging_basic_analysis/plot/plot_foraging_session.py:497: UserWarning: This figure includes Axes that are not compatible with tight_layout, so results might be incorrect.\n",
      "  plt.tight_layout()\n"
     ]
    },
    {
     "name": "stdout",
     "output_type": "stream",
     "text": [
      "Old data, using hopkins formats\n",
      "Combining behavior_ZS062_2021-05-08_18-43-47\n",
      "Processing 3 files in /root/capsule/scratch/ZS062/behavior_ZS062_2021-05-08_18-43-47/ephys/curated/figures/response\n",
      "Combined PDF saved as: /root/capsule/scratch/ZS062/behavior_ZS062_2021-05-08_18-43-47/ephys/curated/behavior_ZS062_2021-05-08_18-43-47_unit_beh_response.pdf\n",
      "Processed behavior_ZS062_2021-05-08_18-43-47\n",
      "Old data, using hopkins formats\n",
      "No raw session directory found for behavior_ZS062_2021-04-07_17-58-07.\n",
      "Old data, using hopkins formats\n",
      "No raw session directory found for behavior_ZS062_2021-04-07_17-58-07.\n",
      "Old data, using hopkins formats\n",
      "No raw session directory found for behavior_ZS062_2021-04-07_17-58-07.\n",
      "Old data, using hopkins formats\n",
      "No raw session directory found for behavior_ZS062_2021-04-07_17-58-07.\n",
      "Old data, using hopkins formats\n",
      "No raw session directory found for behavior_ZS062_2021-04-07_17-58-07.\n",
      "Old data, using hopkins formats\n",
      "No raw session directory found for behavior_ZS062_2021-04-07_17-58-07.\n",
      "Old data, using hopkins formats\n",
      "No raw session directory found for behavior_ZS062_2021-04-07_17-58-07.\n",
      "Old data, using hopkins formats\n",
      "No raw session directory found for behavior_ZS062_2021-04-07_17-58-07.\n",
      "Old data, using hopkins formats\n",
      "Old data, using hopkins formats\n",
      "No raw session directory found for behavior_ZS062_2021-04-07_17-58-07.\n",
      "Plotting unit TT1_SS_02\n",
      "No raw session directory found for behavior_ZS062_2021-04-07_17-58-07.\n",
      "Plotting unit TT6_SS_03\n"
     ]
    },
    {
     "name": "stderr",
     "output_type": "stream",
     "text": [
      "/opt/conda/lib/python3.10/site-packages/aind_dynamic_foraging_basic_analysis/plot/plot_foraging_session.py:497: UserWarning: This figure includes Axes that are not compatible with tight_layout, so results might be incorrect.\n",
      "  plt.tight_layout()\n",
      "/opt/conda/lib/python3.10/site-packages/aind_dynamic_foraging_basic_analysis/plot/plot_foraging_session.py:497: UserWarning: This figure includes Axes that are not compatible with tight_layout, so results might be incorrect.\n",
      "  plt.tight_layout()\n"
     ]
    },
    {
     "name": "stdout",
     "output_type": "stream",
     "text": [
      "Old data, using hopkins formats\n",
      "No raw session directory found for behavior_ZS062_2021-04-07_17-58-07.\n",
      "Combining behavior_ZS062_2021-04-07_17-58-07\n",
      "Processing 3 files in /root/capsule/scratch/ZS062/behavior_ZS062_2021-04-07_17-58-07/ephys/curated/figures/go_cue\n",
      "Combined PDF saved as: /root/capsule/scratch/ZS062/behavior_ZS062_2021-04-07_17-58-07/ephys/curated/behavior_ZS062_2021-04-07_17-58-07_unit_beh_go_cue.pdf\n",
      "Old data, using hopkins formats\n",
      "No raw session directory found for behavior_ZS062_2021-04-07_17-58-07.\n",
      "Old data, using hopkins formats\n",
      "No raw session directory found for behavior_ZS062_2021-04-07_17-58-07.\n",
      "Old data, using hopkins formats\n",
      "No raw session directory found for behavior_ZS062_2021-04-07_17-58-07.\n",
      "Old data, using hopkins formats\n",
      "No raw session directory found for behavior_ZS062_2021-04-07_17-58-07.\n",
      "Old data, using hopkins formats\n",
      "No raw session directory found for behavior_ZS062_2021-04-07_17-58-07.\n",
      "Old data, using hopkins formats\n",
      "Old data, using hopkins formats\n",
      "No raw session directory found for behavior_ZS062_2021-04-07_17-58-07.\n",
      "Plotting unit TT1_SS_02\n",
      "No raw session directory found for behavior_ZS062_2021-04-07_17-58-07.\n",
      "Plotting unit TT6_SS_03\n"
     ]
    },
    {
     "name": "stderr",
     "output_type": "stream",
     "text": [
      "/opt/conda/lib/python3.10/site-packages/aind_dynamic_foraging_basic_analysis/plot/plot_foraging_session.py:497: UserWarning: This figure includes Axes that are not compatible with tight_layout, so results might be incorrect.\n",
      "  plt.tight_layout()\n",
      "/opt/conda/lib/python3.10/site-packages/aind_dynamic_foraging_basic_analysis/plot/plot_foraging_session.py:497: UserWarning: This figure includes Axes that are not compatible with tight_layout, so results might be incorrect.\n",
      "  plt.tight_layout()\n"
     ]
    },
    {
     "name": "stdout",
     "output_type": "stream",
     "text": [
      "Old data, using hopkins formats\n",
      "No raw session directory found for behavior_ZS062_2021-04-07_17-58-07.\n",
      "Combining behavior_ZS062_2021-04-07_17-58-07\n",
      "Processing 3 files in /root/capsule/scratch/ZS062/behavior_ZS062_2021-04-07_17-58-07/ephys/curated/figures/response\n",
      "Combined PDF saved as: /root/capsule/scratch/ZS062/behavior_ZS062_2021-04-07_17-58-07/ephys/curated/behavior_ZS062_2021-04-07_17-58-07_unit_beh_response.pdf\n",
      "Processed behavior_ZS062_2021-04-07_17-58-07\n",
      "Old data, using hopkins formats\n",
      "Old data, using hopkins formats\n",
      "Old data, using hopkins formats\n",
      "Old data, using hopkins formats\n",
      "Old data, using hopkins formats\n",
      "Old data, using hopkins formats\n",
      "Old data, using hopkins formats\n",
      "Old data, using hopkins formats\n",
      "Old data, using hopkins formats\n",
      "Plotting unit TT1_SS_01\n"
     ]
    },
    {
     "name": "stderr",
     "output_type": "stream",
     "text": [
      "/opt/conda/lib/python3.10/site-packages/aind_dynamic_foraging_basic_analysis/plot/plot_foraging_session.py:497: UserWarning: This figure includes Axes that are not compatible with tight_layout, so results might be incorrect.\n",
      "  plt.tight_layout()\n"
     ]
    },
    {
     "name": "stdout",
     "output_type": "stream",
     "text": [
      "Old data, using hopkins formats\n",
      "Combining behavior_ZS062_2021-04-15_17-52-49\n",
      "Processing 2 files in /root/capsule/scratch/ZS062/behavior_ZS062_2021-04-15_17-52-49/ephys/curated/figures/go_cue\n",
      "Combined PDF saved as: /root/capsule/scratch/ZS062/behavior_ZS062_2021-04-15_17-52-49/ephys/curated/behavior_ZS062_2021-04-15_17-52-49_unit_beh_go_cue.pdf\n",
      "Old data, using hopkins formats\n",
      "Old data, using hopkins formats\n",
      "Old data, using hopkins formats\n",
      "Old data, using hopkins formats\n",
      "Old data, using hopkins formats\n",
      "Old data, using hopkins formats\n",
      "Plotting unit TT1_SS_01\n"
     ]
    },
    {
     "name": "stderr",
     "output_type": "stream",
     "text": [
      "/opt/conda/lib/python3.10/site-packages/aind_dynamic_foraging_basic_analysis/plot/plot_foraging_session.py:497: UserWarning: This figure includes Axes that are not compatible with tight_layout, so results might be incorrect.\n",
      "  plt.tight_layout()\n"
     ]
    },
    {
     "name": "stdout",
     "output_type": "stream",
     "text": [
      "Old data, using hopkins formats\n",
      "Combining behavior_ZS062_2021-04-15_17-52-49\n",
      "Processing 2 files in /root/capsule/scratch/ZS062/behavior_ZS062_2021-04-15_17-52-49/ephys/curated/figures/response\n",
      "Combined PDF saved as: /root/capsule/scratch/ZS062/behavior_ZS062_2021-04-15_17-52-49/ephys/curated/behavior_ZS062_2021-04-15_17-52-49_unit_beh_response.pdf\n",
      "Processed behavior_ZS062_2021-04-15_17-52-49\n",
      "Old data, using hopkins formats\n",
      "Old data, using hopkins formats\n",
      "Old data, using hopkins formats\n",
      "Old data, using hopkins formats\n",
      "Old data, using hopkins formats\n",
      "Old data, using hopkins formats\n",
      "Old data, using hopkins formats\n",
      "Old data, using hopkins formats\n",
      "Old data, using hopkins formats\n",
      "Old data, using hopkins formats\n",
      "Plotting unit TT1_SS_01\n",
      "Plotting unit TT7_SS_01\n"
     ]
    },
    {
     "name": "stderr",
     "output_type": "stream",
     "text": [
      "/opt/conda/lib/python3.10/site-packages/aind_dynamic_foraging_basic_analysis/plot/plot_foraging_session.py:497: UserWarning: This figure includes Axes that are not compatible with tight_layout, so results might be incorrect.\n",
      "  plt.tight_layout()\n",
      "/opt/conda/lib/python3.10/site-packages/aind_dynamic_foraging_basic_analysis/plot/plot_foraging_session.py:497: UserWarning: This figure includes Axes that are not compatible with tight_layout, so results might be incorrect.\n",
      "  plt.tight_layout()\n"
     ]
    },
    {
     "name": "stdout",
     "output_type": "stream",
     "text": [
      "Old data, using hopkins formats\n",
      "Combining behavior_ZS062_2021-04-21_18-15-30\n",
      "Processing 3 files in /root/capsule/scratch/ZS062/behavior_ZS062_2021-04-21_18-15-30/ephys/curated/figures/go_cue\n",
      "Combined PDF saved as: /root/capsule/scratch/ZS062/behavior_ZS062_2021-04-21_18-15-30/ephys/curated/behavior_ZS062_2021-04-21_18-15-30_unit_beh_go_cue.pdf\n",
      "Old data, using hopkins formats\n",
      "Old data, using hopkins formats\n",
      "Old data, using hopkins formats\n",
      "Old data, using hopkins formats\n",
      "Old data, using hopkins formats\n",
      "Old data, using hopkins formats\n",
      "Old data, using hopkins formats\n",
      "Plotting unit TT1_SS_01\n",
      "Plotting unit TT7_SS_01\n"
     ]
    },
    {
     "name": "stderr",
     "output_type": "stream",
     "text": [
      "/opt/conda/lib/python3.10/site-packages/aind_dynamic_foraging_basic_analysis/plot/plot_foraging_session.py:497: UserWarning: This figure includes Axes that are not compatible with tight_layout, so results might be incorrect.\n",
      "  plt.tight_layout()\n",
      "/opt/conda/lib/python3.10/site-packages/aind_dynamic_foraging_basic_analysis/plot/plot_foraging_session.py:497: UserWarning: This figure includes Axes that are not compatible with tight_layout, so results might be incorrect.\n",
      "  plt.tight_layout()\n"
     ]
    },
    {
     "name": "stdout",
     "output_type": "stream",
     "text": [
      "Old data, using hopkins formats\n",
      "Combining behavior_ZS062_2021-04-21_18-15-30\n",
      "Processing 3 files in /root/capsule/scratch/ZS062/behavior_ZS062_2021-04-21_18-15-30/ephys/curated/figures/response\n",
      "Combined PDF saved as: /root/capsule/scratch/ZS062/behavior_ZS062_2021-04-21_18-15-30/ephys/curated/behavior_ZS062_2021-04-21_18-15-30_unit_beh_response.pdf\n",
      "Processed behavior_ZS062_2021-04-21_18-15-30\n",
      "Old data, using hopkins formats\n",
      "Old data, using hopkins formats\n",
      "Old data, using hopkins formats\n",
      "Old data, using hopkins formats\n",
      "Old data, using hopkins formats\n",
      "Old data, using hopkins formats\n",
      "Old data, using hopkins formats\n",
      "Old data, using hopkins formats\n",
      "Old data, using hopkins formats\n",
      "Plotting unit TT1_SS_01\n"
     ]
    },
    {
     "name": "stderr",
     "output_type": "stream",
     "text": [
      "/opt/conda/lib/python3.10/site-packages/aind_dynamic_foraging_basic_analysis/plot/plot_foraging_session.py:497: UserWarning: This figure includes Axes that are not compatible with tight_layout, so results might be incorrect.\n",
      "  plt.tight_layout()\n"
     ]
    },
    {
     "name": "stdout",
     "output_type": "stream",
     "text": [
      "Old data, using hopkins formats\n",
      "Combining behavior_ZS062_2021-04-23_17-27-03\n",
      "Processing 2 files in /root/capsule/scratch/ZS062/behavior_ZS062_2021-04-23_17-27-03/ephys/curated/figures/go_cue\n",
      "Combined PDF saved as: /root/capsule/scratch/ZS062/behavior_ZS062_2021-04-23_17-27-03/ephys/curated/behavior_ZS062_2021-04-23_17-27-03_unit_beh_go_cue.pdf\n",
      "Old data, using hopkins formats\n",
      "Old data, using hopkins formats\n",
      "Old data, using hopkins formats\n",
      "Old data, using hopkins formats\n",
      "Old data, using hopkins formats\n",
      "Old data, using hopkins formats\n",
      "Plotting unit TT1_SS_01\n"
     ]
    },
    {
     "name": "stderr",
     "output_type": "stream",
     "text": [
      "/opt/conda/lib/python3.10/site-packages/aind_dynamic_foraging_basic_analysis/plot/plot_foraging_session.py:497: UserWarning: This figure includes Axes that are not compatible with tight_layout, so results might be incorrect.\n",
      "  plt.tight_layout()\n"
     ]
    },
    {
     "name": "stdout",
     "output_type": "stream",
     "text": [
      "Old data, using hopkins formats\n",
      "Combining behavior_ZS062_2021-04-23_17-27-03\n",
      "Processing 2 files in /root/capsule/scratch/ZS062/behavior_ZS062_2021-04-23_17-27-03/ephys/curated/figures/response\n",
      "Combined PDF saved as: /root/capsule/scratch/ZS062/behavior_ZS062_2021-04-23_17-27-03/ephys/curated/behavior_ZS062_2021-04-23_17-27-03_unit_beh_response.pdf\n",
      "Processed behavior_ZS062_2021-04-23_17-27-03\n",
      "Old data, using hopkins formats\n",
      "Old data, using hopkins formats\n",
      "Old data, using hopkins formats\n",
      "Old data, using hopkins formats\n",
      "Old data, using hopkins formats\n",
      "Old data, using hopkins formats\n",
      "Old data, using hopkins formats\n",
      "Old data, using hopkins formats\n",
      "Old data, using hopkins formats\n",
      "Plotting unit TT1_SS_01\n"
     ]
    },
    {
     "name": "stderr",
     "output_type": "stream",
     "text": [
      "/opt/conda/lib/python3.10/site-packages/aind_dynamic_foraging_basic_analysis/plot/plot_foraging_session.py:497: UserWarning: This figure includes Axes that are not compatible with tight_layout, so results might be incorrect.\n",
      "  plt.tight_layout()\n"
     ]
    },
    {
     "name": "stdout",
     "output_type": "stream",
     "text": [
      "Old data, using hopkins formats\n",
      "Combining behavior_ZS062_2021-04-24_17-54-39\n",
      "Processing 2 files in /root/capsule/scratch/ZS062/behavior_ZS062_2021-04-24_17-54-39/ephys/curated/figures/go_cue\n",
      "Combined PDF saved as: /root/capsule/scratch/ZS062/behavior_ZS062_2021-04-24_17-54-39/ephys/curated/behavior_ZS062_2021-04-24_17-54-39_unit_beh_go_cue.pdf\n",
      "Old data, using hopkins formats\n",
      "Old data, using hopkins formats\n",
      "Old data, using hopkins formats\n",
      "Old data, using hopkins formats\n",
      "Old data, using hopkins formats\n",
      "Old data, using hopkins formats\n",
      "Plotting unit TT1_SS_01\n"
     ]
    },
    {
     "name": "stderr",
     "output_type": "stream",
     "text": [
      "/opt/conda/lib/python3.10/site-packages/aind_dynamic_foraging_basic_analysis/plot/plot_foraging_session.py:497: UserWarning: This figure includes Axes that are not compatible with tight_layout, so results might be incorrect.\n",
      "  plt.tight_layout()\n"
     ]
    },
    {
     "name": "stdout",
     "output_type": "stream",
     "text": [
      "Old data, using hopkins formats\n",
      "Combining behavior_ZS062_2021-04-24_17-54-39\n",
      "Processing 2 files in /root/capsule/scratch/ZS062/behavior_ZS062_2021-04-24_17-54-39/ephys/curated/figures/response\n",
      "Combined PDF saved as: /root/capsule/scratch/ZS062/behavior_ZS062_2021-04-24_17-54-39/ephys/curated/behavior_ZS062_2021-04-24_17-54-39_unit_beh_response.pdf\n",
      "Processed behavior_ZS062_2021-04-24_17-54-39\n",
      "Old data, using hopkins formats\n",
      "Old data, using hopkins formats\n",
      "Old data, using hopkins formats\n",
      "Old data, using hopkins formats\n",
      "Old data, using hopkins formats\n",
      "Old data, using hopkins formats\n",
      "Old data, using hopkins formats\n",
      "Old data, using hopkins formats\n",
      "Old data, using hopkins formats\n",
      "Plotting unit TT1_SS_01\n"
     ]
    },
    {
     "name": "stderr",
     "output_type": "stream",
     "text": [
      "/opt/conda/lib/python3.10/site-packages/aind_dynamic_foraging_basic_analysis/plot/plot_foraging_session.py:497: UserWarning: This figure includes Axes that are not compatible with tight_layout, so results might be incorrect.\n",
      "  plt.tight_layout()\n"
     ]
    },
    {
     "name": "stdout",
     "output_type": "stream",
     "text": [
      "Old data, using hopkins formats\n",
      "Combining behavior_ZS062_2021-04-25_18-53-35\n",
      "Processing 2 files in /root/capsule/scratch/ZS062/behavior_ZS062_2021-04-25_18-53-35/ephys/curated/figures/go_cue\n",
      "Combined PDF saved as: /root/capsule/scratch/ZS062/behavior_ZS062_2021-04-25_18-53-35/ephys/curated/behavior_ZS062_2021-04-25_18-53-35_unit_beh_go_cue.pdf\n",
      "Old data, using hopkins formats\n",
      "Old data, using hopkins formats\n",
      "Old data, using hopkins formats\n",
      "Old data, using hopkins formats\n",
      "Old data, using hopkins formats\n",
      "Old data, using hopkins formats\n",
      "Plotting unit TT1_SS_01\n"
     ]
    },
    {
     "name": "stderr",
     "output_type": "stream",
     "text": [
      "/opt/conda/lib/python3.10/site-packages/aind_dynamic_foraging_basic_analysis/plot/plot_foraging_session.py:497: UserWarning: This figure includes Axes that are not compatible with tight_layout, so results might be incorrect.\n",
      "  plt.tight_layout()\n"
     ]
    },
    {
     "name": "stdout",
     "output_type": "stream",
     "text": [
      "Old data, using hopkins formats\n",
      "Combining behavior_ZS062_2021-04-25_18-53-35\n",
      "Processing 2 files in /root/capsule/scratch/ZS062/behavior_ZS062_2021-04-25_18-53-35/ephys/curated/figures/response\n",
      "Combined PDF saved as: /root/capsule/scratch/ZS062/behavior_ZS062_2021-04-25_18-53-35/ephys/curated/behavior_ZS062_2021-04-25_18-53-35_unit_beh_response.pdf\n",
      "Processed behavior_ZS062_2021-04-25_18-53-35\n",
      "Old data, using hopkins formats\n",
      "Old data, using hopkins formats\n",
      "Old data, using hopkins formats\n",
      "Old data, using hopkins formats\n",
      "Old data, using hopkins formats\n",
      "Old data, using hopkins formats\n",
      "Old data, using hopkins formats\n",
      "Old data, using hopkins formats\n",
      "Old data, using hopkins formats\n",
      "Old data, using hopkins formats\n",
      "Old data, using hopkins formats\n",
      "Plotting unit TT6_SS_01\n",
      "Plotting unit TT6_SS_02\n",
      "Plotting unit TT8_SS_01\n"
     ]
    },
    {
     "name": "stderr",
     "output_type": "stream",
     "text": [
      "/opt/conda/lib/python3.10/site-packages/aind_dynamic_foraging_basic_analysis/plot/plot_foraging_session.py:497: UserWarning: This figure includes Axes that are not compatible with tight_layout, so results might be incorrect.\n",
      "  plt.tight_layout()\n",
      "/opt/conda/lib/python3.10/site-packages/aind_dynamic_foraging_basic_analysis/plot/plot_foraging_session.py:497: UserWarning: This figure includes Axes that are not compatible with tight_layout, so results might be incorrect.\n",
      "  plt.tight_layout()\n",
      "/opt/conda/lib/python3.10/site-packages/aind_dynamic_foraging_basic_analysis/plot/plot_foraging_session.py:497: UserWarning: This figure includes Axes that are not compatible with tight_layout, so results might be incorrect.\n",
      "  plt.tight_layout()\n"
     ]
    },
    {
     "name": "stdout",
     "output_type": "stream",
     "text": [
      "Old data, using hopkins formats\n",
      "Combining behavior_ZS062_2021-05-01_19-48-01\n",
      "Processing 4 files in /root/capsule/scratch/ZS062/behavior_ZS062_2021-05-01_19-48-01/ephys/curated/figures/go_cue\n",
      "Combined PDF saved as: /root/capsule/scratch/ZS062/behavior_ZS062_2021-05-01_19-48-01/ephys/curated/behavior_ZS062_2021-05-01_19-48-01_unit_beh_go_cue.pdf\n",
      "Old data, using hopkins formats\n",
      "Old data, using hopkins formats\n",
      "Old data, using hopkins formats\n",
      "Old data, using hopkins formats\n",
      "Old data, using hopkins formats\n",
      "Old data, using hopkins formats\n",
      "Old data, using hopkins formats\n",
      "Old data, using hopkins formats\n",
      "Plotting unit TT6_SS_01\n",
      "Plotting unit TT6_SS_02\n",
      "Plotting unit TT8_SS_01\n"
     ]
    },
    {
     "name": "stderr",
     "output_type": "stream",
     "text": [
      "/opt/conda/lib/python3.10/site-packages/aind_dynamic_foraging_basic_analysis/plot/plot_foraging_session.py:497: UserWarning: This figure includes Axes that are not compatible with tight_layout, so results might be incorrect.\n",
      "  plt.tight_layout()\n",
      "/opt/conda/lib/python3.10/site-packages/aind_dynamic_foraging_basic_analysis/plot/plot_foraging_session.py:497: UserWarning: This figure includes Axes that are not compatible with tight_layout, so results might be incorrect.\n",
      "  plt.tight_layout()\n",
      "/opt/conda/lib/python3.10/site-packages/aind_dynamic_foraging_basic_analysis/plot/plot_foraging_session.py:497: UserWarning: This figure includes Axes that are not compatible with tight_layout, so results might be incorrect.\n",
      "  plt.tight_layout()\n"
     ]
    },
    {
     "name": "stdout",
     "output_type": "stream",
     "text": [
      "Old data, using hopkins formats\n",
      "Combining behavior_ZS062_2021-05-01_19-48-01\n",
      "Processing 4 files in /root/capsule/scratch/ZS062/behavior_ZS062_2021-05-01_19-48-01/ephys/curated/figures/response\n",
      "Combined PDF saved as: /root/capsule/scratch/ZS062/behavior_ZS062_2021-05-01_19-48-01/ephys/curated/behavior_ZS062_2021-05-01_19-48-01_unit_beh_response.pdf\n",
      "Processed behavior_ZS062_2021-05-01_19-48-01\n",
      "Old data, using hopkins formats\n",
      "Old data, using hopkins formats\n",
      "Old data, using hopkins formats\n",
      "Old data, using hopkins formats\n",
      "Old data, using hopkins formats\n",
      "Old data, using hopkins formats\n",
      "Old data, using hopkins formats\n",
      "Old data, using hopkins formats\n",
      "Old data, using hopkins formats\n",
      "Old data, using hopkins formats\n",
      "Plotting unit TT6_SS_01\n",
      "Plotting unit TT6_SS_03\n"
     ]
    },
    {
     "name": "stderr",
     "output_type": "stream",
     "text": [
      "/opt/conda/lib/python3.10/site-packages/aind_dynamic_foraging_basic_analysis/plot/plot_foraging_session.py:497: UserWarning: This figure includes Axes that are not compatible with tight_layout, so results might be incorrect.\n",
      "  plt.tight_layout()\n",
      "/opt/conda/lib/python3.10/site-packages/aind_dynamic_foraging_basic_analysis/plot/plot_foraging_session.py:497: UserWarning: This figure includes Axes that are not compatible with tight_layout, so results might be incorrect.\n",
      "  plt.tight_layout()\n"
     ]
    },
    {
     "name": "stdout",
     "output_type": "stream",
     "text": [
      "Old data, using hopkins formats\n",
      "Combining behavior_ZS062_2021-05-02_19-20-50\n",
      "Processing 3 files in /root/capsule/scratch/ZS062/behavior_ZS062_2021-05-02_19-20-50/ephys/curated/figures/go_cue\n",
      "Combined PDF saved as: /root/capsule/scratch/ZS062/behavior_ZS062_2021-05-02_19-20-50/ephys/curated/behavior_ZS062_2021-05-02_19-20-50_unit_beh_go_cue.pdf\n",
      "Old data, using hopkins formats\n",
      "Old data, using hopkins formats\n",
      "Old data, using hopkins formats\n",
      "Old data, using hopkins formats\n",
      "Old data, using hopkins formats\n",
      "Old data, using hopkins formats\n",
      "Old data, using hopkins formats\n",
      "Plotting unit TT6_SS_01\n",
      "Plotting unit TT6_SS_03\n"
     ]
    },
    {
     "name": "stderr",
     "output_type": "stream",
     "text": [
      "/opt/conda/lib/python3.10/site-packages/aind_dynamic_foraging_basic_analysis/plot/plot_foraging_session.py:497: UserWarning: This figure includes Axes that are not compatible with tight_layout, so results might be incorrect.\n",
      "  plt.tight_layout()\n",
      "/opt/conda/lib/python3.10/site-packages/aind_dynamic_foraging_basic_analysis/plot/plot_foraging_session.py:497: UserWarning: This figure includes Axes that are not compatible with tight_layout, so results might be incorrect.\n",
      "  plt.tight_layout()\n"
     ]
    },
    {
     "name": "stdout",
     "output_type": "stream",
     "text": [
      "Old data, using hopkins formats\n",
      "Combining behavior_ZS062_2021-05-02_19-20-50\n",
      "Processing 3 files in /root/capsule/scratch/ZS062/behavior_ZS062_2021-05-02_19-20-50/ephys/curated/figures/response\n",
      "Combined PDF saved as: /root/capsule/scratch/ZS062/behavior_ZS062_2021-05-02_19-20-50/ephys/curated/behavior_ZS062_2021-05-02_19-20-50_unit_beh_response.pdf\n",
      "Processed behavior_ZS062_2021-05-02_19-20-50\n",
      "Old data, using hopkins formats\n",
      "Old data, using hopkins formats\n",
      "Old data, using hopkins formats\n",
      "Old data, using hopkins formats\n",
      "Old data, using hopkins formats\n",
      "Old data, using hopkins formats\n",
      "Old data, using hopkins formats\n",
      "Old data, using hopkins formats\n",
      "Old data, using hopkins formats\n",
      "Old data, using hopkins formats\n",
      "Plotting unit TT6_SS_01\n",
      "Plotting unit TT6_SS_02\n"
     ]
    },
    {
     "name": "stderr",
     "output_type": "stream",
     "text": [
      "/opt/conda/lib/python3.10/site-packages/aind_dynamic_foraging_basic_analysis/plot/plot_foraging_session.py:497: UserWarning: This figure includes Axes that are not compatible with tight_layout, so results might be incorrect.\n",
      "  plt.tight_layout()\n",
      "/opt/conda/lib/python3.10/site-packages/aind_dynamic_foraging_basic_analysis/plot/plot_foraging_session.py:497: UserWarning: This figure includes Axes that are not compatible with tight_layout, so results might be incorrect.\n",
      "  plt.tight_layout()\n"
     ]
    },
    {
     "name": "stdout",
     "output_type": "stream",
     "text": [
      "Old data, using hopkins formats\n",
      "Combining behavior_ZS062_2021-05-06_15-46-14\n",
      "Processing 3 files in /root/capsule/scratch/ZS062/behavior_ZS062_2021-05-06_15-46-14/ephys/curated/figures/go_cue\n",
      "Combined PDF saved as: /root/capsule/scratch/ZS062/behavior_ZS062_2021-05-06_15-46-14/ephys/curated/behavior_ZS062_2021-05-06_15-46-14_unit_beh_go_cue.pdf\n",
      "Old data, using hopkins formats\n",
      "Old data, using hopkins formats\n",
      "Old data, using hopkins formats\n",
      "Old data, using hopkins formats\n",
      "Old data, using hopkins formats\n",
      "Old data, using hopkins formats\n",
      "Old data, using hopkins formats\n",
      "Plotting unit TT6_SS_01\n",
      "Plotting unit TT6_SS_02\n"
     ]
    },
    {
     "name": "stderr",
     "output_type": "stream",
     "text": [
      "/opt/conda/lib/python3.10/site-packages/aind_dynamic_foraging_basic_analysis/plot/plot_foraging_session.py:497: UserWarning: This figure includes Axes that are not compatible with tight_layout, so results might be incorrect.\n",
      "  plt.tight_layout()\n",
      "/opt/conda/lib/python3.10/site-packages/aind_dynamic_foraging_basic_analysis/plot/plot_foraging_session.py:497: UserWarning: This figure includes Axes that are not compatible with tight_layout, so results might be incorrect.\n",
      "  plt.tight_layout()\n"
     ]
    },
    {
     "name": "stdout",
     "output_type": "stream",
     "text": [
      "Old data, using hopkins formats\n",
      "Combining behavior_ZS062_2021-05-06_15-46-14\n",
      "Processing 3 files in /root/capsule/scratch/ZS062/behavior_ZS062_2021-05-06_15-46-14/ephys/curated/figures/response\n",
      "Combined PDF saved as: /root/capsule/scratch/ZS062/behavior_ZS062_2021-05-06_15-46-14/ephys/curated/behavior_ZS062_2021-05-06_15-46-14_unit_beh_response.pdf\n",
      "Processed behavior_ZS062_2021-05-06_15-46-14\n",
      "Old data, using hopkins formats\n",
      "Old data, using hopkins formats\n",
      "Old data, using hopkins formats\n",
      "Old data, using hopkins formats\n",
      "Old data, using hopkins formats\n",
      "Old data, using hopkins formats\n",
      "Old data, using hopkins formats\n",
      "Old data, using hopkins formats\n",
      "Old data, using hopkins formats\n",
      "Old data, using hopkins formats\n",
      "Old data, using hopkins formats\n",
      "Plotting unit TT6_SS_02\n",
      "Plotting unit TT6_SS_03\n",
      "Plotting unit TT8_SS_01\n"
     ]
    },
    {
     "name": "stderr",
     "output_type": "stream",
     "text": [
      "/opt/conda/lib/python3.10/site-packages/aind_dynamic_foraging_basic_analysis/plot/plot_foraging_session.py:497: UserWarning: This figure includes Axes that are not compatible with tight_layout, so results might be incorrect.\n",
      "  plt.tight_layout()\n",
      "/opt/conda/lib/python3.10/site-packages/aind_dynamic_foraging_basic_analysis/plot/plot_foraging_session.py:497: UserWarning: This figure includes Axes that are not compatible with tight_layout, so results might be incorrect.\n",
      "  plt.tight_layout()\n",
      "/opt/conda/lib/python3.10/site-packages/aind_dynamic_foraging_basic_analysis/plot/plot_foraging_session.py:497: UserWarning: This figure includes Axes that are not compatible with tight_layout, so results might be incorrect.\n",
      "  plt.tight_layout()\n"
     ]
    },
    {
     "name": "stdout",
     "output_type": "stream",
     "text": [
      "Old data, using hopkins formats\n",
      "Combining behavior_ZS062_2021-05-04_14-29-20\n",
      "Processing 4 files in /root/capsule/scratch/ZS062/behavior_ZS062_2021-05-04_14-29-20/ephys/curated/figures/go_cue\n",
      "Combined PDF saved as: /root/capsule/scratch/ZS062/behavior_ZS062_2021-05-04_14-29-20/ephys/curated/behavior_ZS062_2021-05-04_14-29-20_unit_beh_go_cue.pdf\n",
      "Old data, using hopkins formats\n",
      "Old data, using hopkins formats\n",
      "Old data, using hopkins formats\n",
      "Old data, using hopkins formats\n",
      "Old data, using hopkins formats\n",
      "Old data, using hopkins formats\n",
      "Old data, using hopkins formats\n",
      "Old data, using hopkins formats\n",
      "Plotting unit TT6_SS_02\n",
      "Plotting unit TT6_SS_03\n",
      "Plotting unit TT8_SS_01\n"
     ]
    },
    {
     "name": "stderr",
     "output_type": "stream",
     "text": [
      "/opt/conda/lib/python3.10/site-packages/aind_dynamic_foraging_basic_analysis/plot/plot_foraging_session.py:497: UserWarning: This figure includes Axes that are not compatible with tight_layout, so results might be incorrect.\n",
      "  plt.tight_layout()\n",
      "/opt/conda/lib/python3.10/site-packages/aind_dynamic_foraging_basic_analysis/plot/plot_foraging_session.py:497: UserWarning: This figure includes Axes that are not compatible with tight_layout, so results might be incorrect.\n",
      "  plt.tight_layout()\n",
      "/opt/conda/lib/python3.10/site-packages/aind_dynamic_foraging_basic_analysis/plot/plot_foraging_session.py:497: UserWarning: This figure includes Axes that are not compatible with tight_layout, so results might be incorrect.\n",
      "  plt.tight_layout()\n"
     ]
    },
    {
     "name": "stdout",
     "output_type": "stream",
     "text": [
      "Old data, using hopkins formats\n",
      "Combining behavior_ZS062_2021-05-04_14-29-20\n",
      "Processing 4 files in /root/capsule/scratch/ZS062/behavior_ZS062_2021-05-04_14-29-20/ephys/curated/figures/response\n",
      "Combined PDF saved as: /root/capsule/scratch/ZS062/behavior_ZS062_2021-05-04_14-29-20/ephys/curated/behavior_ZS062_2021-05-04_14-29-20_unit_beh_response.pdf\n",
      "Processed behavior_ZS062_2021-05-04_14-29-20\n",
      "Old data, using hopkins formats\n",
      "Old data, using hopkins formats\n",
      "Old data, using hopkins formats\n",
      "Old data, using hopkins formats\n",
      "Old data, using hopkins formats\n",
      "Old data, using hopkins formats\n",
      "Old data, using hopkins formats\n",
      "Old data, using hopkins formats\n",
      "Old data, using hopkins formats\n",
      "Old data, using hopkins formats\n",
      "Plotting unit TT6_SS_01\n",
      "Plotting unit TT6_SS_03\n"
     ]
    },
    {
     "name": "stderr",
     "output_type": "stream",
     "text": [
      "/opt/conda/lib/python3.10/site-packages/aind_dynamic_foraging_basic_analysis/plot/plot_foraging_session.py:497: UserWarning: This figure includes Axes that are not compatible with tight_layout, so results might be incorrect.\n",
      "  plt.tight_layout()\n",
      "/opt/conda/lib/python3.10/site-packages/aind_dynamic_foraging_basic_analysis/plot/plot_foraging_session.py:497: UserWarning: This figure includes Axes that are not compatible with tight_layout, so results might be incorrect.\n",
      "  plt.tight_layout()\n"
     ]
    },
    {
     "name": "stdout",
     "output_type": "stream",
     "text": [
      "Old data, using hopkins formats\n",
      "Combining behavior_ZS062_2021-04-29_17-36-37\n",
      "Processing 3 files in /root/capsule/scratch/ZS062/behavior_ZS062_2021-04-29_17-36-37/ephys/curated/figures/go_cue\n",
      "Combined PDF saved as: /root/capsule/scratch/ZS062/behavior_ZS062_2021-04-29_17-36-37/ephys/curated/behavior_ZS062_2021-04-29_17-36-37_unit_beh_go_cue.pdf\n",
      "Old data, using hopkins formats\n",
      "Old data, using hopkins formats\n",
      "Old data, using hopkins formats\n",
      "Old data, using hopkins formats\n",
      "Old data, using hopkins formats\n",
      "Old data, using hopkins formats\n",
      "Old data, using hopkins formats\n",
      "Plotting unit TT6_SS_01\n",
      "Plotting unit TT6_SS_03\n"
     ]
    },
    {
     "name": "stderr",
     "output_type": "stream",
     "text": [
      "/opt/conda/lib/python3.10/site-packages/aind_dynamic_foraging_basic_analysis/plot/plot_foraging_session.py:497: UserWarning: This figure includes Axes that are not compatible with tight_layout, so results might be incorrect.\n",
      "  plt.tight_layout()\n",
      "/opt/conda/lib/python3.10/site-packages/aind_dynamic_foraging_basic_analysis/plot/plot_foraging_session.py:497: UserWarning: This figure includes Axes that are not compatible with tight_layout, so results might be incorrect.\n",
      "  plt.tight_layout()\n"
     ]
    },
    {
     "name": "stdout",
     "output_type": "stream",
     "text": [
      "Old data, using hopkins formats\n",
      "Combining behavior_ZS062_2021-04-29_17-36-37\n",
      "Processing 3 files in /root/capsule/scratch/ZS062/behavior_ZS062_2021-04-29_17-36-37/ephys/curated/figures/response\n",
      "Combined PDF saved as: /root/capsule/scratch/ZS062/behavior_ZS062_2021-04-29_17-36-37/ephys/curated/behavior_ZS062_2021-04-29_17-36-37_unit_beh_response.pdf\n",
      "Processed behavior_ZS062_2021-04-29_17-36-37\n",
      "Old data, using hopkins formats\n",
      "Old data, using hopkins formats\n",
      "Old data, using hopkins formats\n",
      "Old data, using hopkins formats\n",
      "Old data, using hopkins formats\n",
      "Old data, using hopkins formats\n",
      "Old data, using hopkins formats\n",
      "Old data, using hopkins formats\n",
      "Old data, using hopkins formats\n",
      "Old data, using hopkins formats\n",
      "Plotting unit TT6_SS_01\n",
      "Plotting unit TT6_SS_02\n"
     ]
    },
    {
     "name": "stderr",
     "output_type": "stream",
     "text": [
      "/opt/conda/lib/python3.10/site-packages/aind_dynamic_foraging_basic_analysis/plot/plot_foraging_session.py:497: UserWarning: This figure includes Axes that are not compatible with tight_layout, so results might be incorrect.\n",
      "  plt.tight_layout()\n",
      "/opt/conda/lib/python3.10/site-packages/aind_dynamic_foraging_basic_analysis/plot/plot_foraging_session.py:497: UserWarning: This figure includes Axes that are not compatible with tight_layout, so results might be incorrect.\n",
      "  plt.tight_layout()\n"
     ]
    },
    {
     "name": "stdout",
     "output_type": "stream",
     "text": [
      "Old data, using hopkins formats\n",
      "Combining behavior_ZS062_2021-04-30_18-11-39\n",
      "Processing 3 files in /root/capsule/scratch/ZS062/behavior_ZS062_2021-04-30_18-11-39/ephys/curated/figures/go_cue\n",
      "Combined PDF saved as: /root/capsule/scratch/ZS062/behavior_ZS062_2021-04-30_18-11-39/ephys/curated/behavior_ZS062_2021-04-30_18-11-39_unit_beh_go_cue.pdf\n",
      "Old data, using hopkins formats\n",
      "Old data, using hopkins formats\n",
      "Old data, using hopkins formats\n",
      "Old data, using hopkins formats\n",
      "Old data, using hopkins formats\n",
      "Old data, using hopkins formats\n",
      "Old data, using hopkins formats\n",
      "Plotting unit TT6_SS_01\n",
      "Plotting unit TT6_SS_02\n"
     ]
    },
    {
     "name": "stderr",
     "output_type": "stream",
     "text": [
      "/opt/conda/lib/python3.10/site-packages/aind_dynamic_foraging_basic_analysis/plot/plot_foraging_session.py:497: UserWarning: This figure includes Axes that are not compatible with tight_layout, so results might be incorrect.\n",
      "  plt.tight_layout()\n",
      "/opt/conda/lib/python3.10/site-packages/aind_dynamic_foraging_basic_analysis/plot/plot_foraging_session.py:497: UserWarning: This figure includes Axes that are not compatible with tight_layout, so results might be incorrect.\n",
      "  plt.tight_layout()\n"
     ]
    },
    {
     "name": "stdout",
     "output_type": "stream",
     "text": [
      "Old data, using hopkins formats\n",
      "Combining behavior_ZS062_2021-04-30_18-11-39\n",
      "Processing 3 files in /root/capsule/scratch/ZS062/behavior_ZS062_2021-04-30_18-11-39/ephys/curated/figures/response\n",
      "Combined PDF saved as: /root/capsule/scratch/ZS062/behavior_ZS062_2021-04-30_18-11-39/ephys/curated/behavior_ZS062_2021-04-30_18-11-39_unit_beh_response.pdf\n",
      "Processed behavior_ZS062_2021-04-30_18-11-39\n",
      "Old data, using hopkins formats\n",
      "No raw session directory found for behavior_ZS062_2021-03-27_19-15-29.\n",
      "Old data, using hopkins formats\n",
      "No raw session directory found for behavior_ZS062_2021-03-27_19-15-29.\n",
      "Old data, using hopkins formats\n",
      "No raw session directory found for behavior_ZS062_2021-03-27_19-15-29.\n",
      "Old data, using hopkins formats\n",
      "No raw session directory found for behavior_ZS062_2021-03-27_19-15-29.\n",
      "Old data, using hopkins formats\n",
      "No raw session directory found for behavior_ZS062_2021-03-27_19-15-29.\n",
      "Old data, using hopkins formats\n",
      "No raw session directory found for behavior_ZS062_2021-03-27_19-15-29.\n",
      "Old data, using hopkins formats\n",
      "No raw session directory found for behavior_ZS062_2021-03-27_19-15-29.\n",
      "Old data, using hopkins formats\n",
      "No raw session directory found for behavior_ZS062_2021-03-27_19-15-29.\n",
      "Old data, using hopkins formats\n",
      "Old data, using hopkins formats\n",
      "No raw session directory found for behavior_ZS062_2021-03-27_19-15-29.\n",
      "Plotting unit TT4_SS_01\n",
      "No raw session directory found for behavior_ZS062_2021-03-27_19-15-29.\n",
      "Plotting unit TT8_SS_01\n"
     ]
    },
    {
     "name": "stderr",
     "output_type": "stream",
     "text": [
      "/opt/conda/lib/python3.10/site-packages/aind_dynamic_foraging_basic_analysis/plot/plot_foraging_session.py:497: UserWarning: This figure includes Axes that are not compatible with tight_layout, so results might be incorrect.\n",
      "  plt.tight_layout()\n",
      "/opt/conda/lib/python3.10/site-packages/aind_dynamic_foraging_basic_analysis/plot/plot_foraging_session.py:497: UserWarning: This figure includes Axes that are not compatible with tight_layout, so results might be incorrect.\n",
      "  plt.tight_layout()\n"
     ]
    },
    {
     "name": "stdout",
     "output_type": "stream",
     "text": [
      "Failed to fit model for unit TT8_SS_01\n",
      "Failed to fit model for unit TT4_SS_01\n",
      "Old data, using hopkins formats\n",
      "No raw session directory found for behavior_ZS062_2021-03-27_19-15-29.\n",
      "Combining behavior_ZS062_2021-03-27_19-15-29\n",
      "Processing 3 files in /root/capsule/scratch/ZS062/behavior_ZS062_2021-03-27_19-15-29/ephys/curated/figures/go_cue\n",
      "Combined PDF saved as: /root/capsule/scratch/ZS062/behavior_ZS062_2021-03-27_19-15-29/ephys/curated/behavior_ZS062_2021-03-27_19-15-29_unit_beh_go_cue.pdf\n",
      "Old data, using hopkins formats\n",
      "No raw session directory found for behavior_ZS062_2021-03-27_19-15-29.\n",
      "Old data, using hopkins formats\n",
      "No raw session directory found for behavior_ZS062_2021-03-27_19-15-29.\n",
      "Old data, using hopkins formats\n",
      "No raw session directory found for behavior_ZS062_2021-03-27_19-15-29.\n",
      "Old data, using hopkins formats\n",
      "No raw session directory found for behavior_ZS062_2021-03-27_19-15-29.\n",
      "Old data, using hopkins formats\n",
      "No raw session directory found for behavior_ZS062_2021-03-27_19-15-29.\n",
      "Old data, using hopkins formats\n",
      "Old data, using hopkins formats\n",
      "No raw session directory found for behavior_ZS062_2021-03-27_19-15-29.\n",
      "Plotting unit TT4_SS_01\n",
      "No raw session directory found for behavior_ZS062_2021-03-27_19-15-29.\n",
      "Plotting unit TT8_SS_01\n"
     ]
    },
    {
     "name": "stderr",
     "output_type": "stream",
     "text": [
      "/opt/conda/lib/python3.10/site-packages/aind_dynamic_foraging_basic_analysis/plot/plot_foraging_session.py:497: UserWarning: This figure includes Axes that are not compatible with tight_layout, so results might be incorrect.\n",
      "  plt.tight_layout()\n",
      "/opt/conda/lib/python3.10/site-packages/aind_dynamic_foraging_basic_analysis/plot/plot_foraging_session.py:497: UserWarning: This figure includes Axes that are not compatible with tight_layout, so results might be incorrect.\n",
      "  plt.tight_layout()\n"
     ]
    },
    {
     "name": "stdout",
     "output_type": "stream",
     "text": [
      "Failed to fit model for unit TT8_SS_01\n",
      "Failed to fit model for unit TT4_SS_01\n",
      "Old data, using hopkins formats\n",
      "No raw session directory found for behavior_ZS062_2021-03-27_19-15-29.\n",
      "Combining behavior_ZS062_2021-03-27_19-15-29\n",
      "Processing 3 files in /root/capsule/scratch/ZS062/behavior_ZS062_2021-03-27_19-15-29/ephys/curated/figures/response\n",
      "Combined PDF saved as: /root/capsule/scratch/ZS062/behavior_ZS062_2021-03-27_19-15-29/ephys/curated/behavior_ZS062_2021-03-27_19-15-29_unit_beh_response.pdf\n",
      "Processed behavior_ZS062_2021-03-27_19-15-29\n",
      "Old data, using hopkins formats\n",
      "No raw session directory found for behavior_ZS062_2021-03-28_17-40-42.\n",
      "Old data, using hopkins formats\n",
      "No raw session directory found for behavior_ZS062_2021-03-28_17-40-42.\n",
      "Old data, using hopkins formats\n",
      "No raw session directory found for behavior_ZS062_2021-03-28_17-40-42.\n",
      "Old data, using hopkins formats\n",
      "No raw session directory found for behavior_ZS062_2021-03-28_17-40-42.\n",
      "Old data, using hopkins formats\n",
      "No raw session directory found for behavior_ZS062_2021-03-28_17-40-42.\n",
      "Old data, using hopkins formats\n",
      "No raw session directory found for behavior_ZS062_2021-03-28_17-40-42.\n",
      "Old data, using hopkins formats\n",
      "No raw session directory found for behavior_ZS062_2021-03-28_17-40-42.\n",
      "Old data, using hopkins formats\n",
      "No raw session directory found for behavior_ZS062_2021-03-28_17-40-42.\n",
      "Old data, using hopkins formats\n",
      "Old data, using hopkins formats\n",
      "No raw session directory found for behavior_ZS062_2021-03-28_17-40-42.\n",
      "Plotting unit TT5_SS_01\n",
      "No raw session directory found for behavior_ZS062_2021-03-28_17-40-42.\n",
      "Plotting unit TT8_SS_01\n"
     ]
    },
    {
     "name": "stderr",
     "output_type": "stream",
     "text": [
      "/opt/conda/lib/python3.10/site-packages/aind_dynamic_foraging_basic_analysis/plot/plot_foraging_session.py:497: UserWarning: This figure includes Axes that are not compatible with tight_layout, so results might be incorrect.\n",
      "  plt.tight_layout()\n",
      "/opt/conda/lib/python3.10/site-packages/aind_dynamic_foraging_basic_analysis/plot/plot_foraging_session.py:497: UserWarning: This figure includes Axes that are not compatible with tight_layout, so results might be incorrect.\n",
      "  plt.tight_layout()\n"
     ]
    },
    {
     "name": "stdout",
     "output_type": "stream",
     "text": [
      "Old data, using hopkins formats\n",
      "No raw session directory found for behavior_ZS062_2021-03-28_17-40-42.\n",
      "Combining behavior_ZS062_2021-03-28_17-40-42\n",
      "Processing 3 files in /root/capsule/scratch/ZS062/behavior_ZS062_2021-03-28_17-40-42/ephys/curated/figures/go_cue\n",
      "Combined PDF saved as: /root/capsule/scratch/ZS062/behavior_ZS062_2021-03-28_17-40-42/ephys/curated/behavior_ZS062_2021-03-28_17-40-42_unit_beh_go_cue.pdf\n",
      "Old data, using hopkins formats\n",
      "No raw session directory found for behavior_ZS062_2021-03-28_17-40-42.\n",
      "Old data, using hopkins formats\n",
      "No raw session directory found for behavior_ZS062_2021-03-28_17-40-42.\n",
      "Old data, using hopkins formats\n",
      "No raw session directory found for behavior_ZS062_2021-03-28_17-40-42.\n",
      "Old data, using hopkins formats\n",
      "No raw session directory found for behavior_ZS062_2021-03-28_17-40-42.\n",
      "Old data, using hopkins formats\n",
      "No raw session directory found for behavior_ZS062_2021-03-28_17-40-42.\n",
      "Old data, using hopkins formats\n",
      "Old data, using hopkins formats\n",
      "No raw session directory found for behavior_ZS062_2021-03-28_17-40-42.\n",
      "Plotting unit TT5_SS_01\n",
      "No raw session directory found for behavior_ZS062_2021-03-28_17-40-42.\n",
      "Plotting unit TT8_SS_01\n"
     ]
    },
    {
     "name": "stderr",
     "output_type": "stream",
     "text": [
      "/opt/conda/lib/python3.10/site-packages/aind_dynamic_foraging_basic_analysis/plot/plot_foraging_session.py:497: UserWarning: This figure includes Axes that are not compatible with tight_layout, so results might be incorrect.\n",
      "  plt.tight_layout()\n",
      "/opt/conda/lib/python3.10/site-packages/aind_dynamic_foraging_basic_analysis/plot/plot_foraging_session.py:497: UserWarning: This figure includes Axes that are not compatible with tight_layout, so results might be incorrect.\n",
      "  plt.tight_layout()\n"
     ]
    },
    {
     "name": "stdout",
     "output_type": "stream",
     "text": [
      "Old data, using hopkins formats\n",
      "No raw session directory found for behavior_ZS062_2021-03-28_17-40-42.\n",
      "Combining behavior_ZS062_2021-03-28_17-40-42\n",
      "Processing 3 files in /root/capsule/scratch/ZS062/behavior_ZS062_2021-03-28_17-40-42/ephys/curated/figures/response\n",
      "Combined PDF saved as: /root/capsule/scratch/ZS062/behavior_ZS062_2021-03-28_17-40-42/ephys/curated/behavior_ZS062_2021-03-28_17-40-42_unit_beh_response.pdf\n",
      "Processed behavior_ZS062_2021-03-28_17-40-42\n",
      "Old data, using hopkins formats\n",
      "Old data, using hopkins formats\n",
      "Old data, using hopkins formats\n",
      "No unit table found for behavior_ZS062_2021-03-29_18-50-00 in curated data.\n",
      "Old data, using hopkins formats\n",
      "No raw session directory found for behavior_ZS062_2021-03-26_18-45-54.\n",
      "Old data, using hopkins formats\n",
      "No raw session directory found for behavior_ZS062_2021-03-26_18-45-54.\n",
      "Old data, using hopkins formats\n",
      "No raw session directory found for behavior_ZS062_2021-03-26_18-45-54.\n",
      "Old data, using hopkins formats\n",
      "No raw session directory found for behavior_ZS062_2021-03-26_18-45-54.\n",
      "Old data, using hopkins formats\n",
      "No raw session directory found for behavior_ZS062_2021-03-26_18-45-54.\n",
      "Old data, using hopkins formats\n",
      "No raw session directory found for behavior_ZS062_2021-03-26_18-45-54.\n",
      "Old data, using hopkins formats\n",
      "No raw session directory found for behavior_ZS062_2021-03-26_18-45-54.\n",
      "Old data, using hopkins formats\n",
      "No raw session directory found for behavior_ZS062_2021-03-26_18-45-54.\n",
      "Old data, using hopkins formats\n",
      "Old data, using hopkins formats\n",
      "Old data, using hopkins formats\n",
      "No raw session directory found for behavior_ZS062_2021-03-26_18-45-54.\n",
      "Plotting unit TT5_SS_02\n",
      "No raw session directory found for behavior_ZS062_2021-03-26_18-45-54.\n",
      "Plotting unit TT8_SS_01\n",
      "No raw session directory found for behavior_ZS062_2021-03-26_18-45-54.\n",
      "Plotting unit TT5_SS_03\n"
     ]
    },
    {
     "name": "stderr",
     "output_type": "stream",
     "text": [
      "/opt/conda/lib/python3.10/site-packages/aind_dynamic_foraging_basic_analysis/plot/plot_foraging_session.py:497: UserWarning: This figure includes Axes that are not compatible with tight_layout, so results might be incorrect.\n",
      "  plt.tight_layout()\n",
      "/opt/conda/lib/python3.10/site-packages/aind_dynamic_foraging_basic_analysis/plot/plot_foraging_session.py:497: UserWarning: This figure includes Axes that are not compatible with tight_layout, so results might be incorrect.\n",
      "  plt.tight_layout()\n",
      "/opt/conda/lib/python3.10/site-packages/aind_dynamic_foraging_basic_analysis/plot/plot_foraging_session.py:497: UserWarning: This figure includes Axes that are not compatible with tight_layout, so results might be incorrect.\n",
      "  plt.tight_layout()\n"
     ]
    },
    {
     "name": "stdout",
     "output_type": "stream",
     "text": [
      "Old data, using hopkins formats\n",
      "No raw session directory found for behavior_ZS062_2021-03-26_18-45-54.\n",
      "Combining behavior_ZS062_2021-03-26_18-45-54\n",
      "Processing 4 files in /root/capsule/scratch/ZS062/behavior_ZS062_2021-03-26_18-45-54/ephys/curated/figures/go_cue\n",
      "Combined PDF saved as: /root/capsule/scratch/ZS062/behavior_ZS062_2021-03-26_18-45-54/ephys/curated/behavior_ZS062_2021-03-26_18-45-54_unit_beh_go_cue.pdf\n",
      "Old data, using hopkins formats\n",
      "No raw session directory found for behavior_ZS062_2021-03-26_18-45-54.\n",
      "Old data, using hopkins formats\n",
      "No raw session directory found for behavior_ZS062_2021-03-26_18-45-54.\n",
      "Old data, using hopkins formats\n",
      "No raw session directory found for behavior_ZS062_2021-03-26_18-45-54.\n",
      "Old data, using hopkins formats\n",
      "No raw session directory found for behavior_ZS062_2021-03-26_18-45-54.\n",
      "Old data, using hopkins formats\n",
      "No raw session directory found for behavior_ZS062_2021-03-26_18-45-54.\n",
      "Old data, using hopkins formats\n",
      "Old data, using hopkins formats\n",
      "Old data, using hopkins formats\n",
      "No raw session directory found for behavior_ZS062_2021-03-26_18-45-54.\n",
      "Plotting unit TT5_SS_02\n",
      "No raw session directory found for behavior_ZS062_2021-03-26_18-45-54.\n",
      "Plotting unit TT8_SS_01\n",
      "No raw session directory found for behavior_ZS062_2021-03-26_18-45-54.\n",
      "Plotting unit TT5_SS_03\n"
     ]
    },
    {
     "name": "stderr",
     "output_type": "stream",
     "text": [
      "/opt/conda/lib/python3.10/site-packages/aind_dynamic_foraging_basic_analysis/plot/plot_foraging_session.py:497: UserWarning: This figure includes Axes that are not compatible with tight_layout, so results might be incorrect.\n",
      "  plt.tight_layout()\n",
      "/opt/conda/lib/python3.10/site-packages/aind_dynamic_foraging_basic_analysis/plot/plot_foraging_session.py:497: UserWarning: This figure includes Axes that are not compatible with tight_layout, so results might be incorrect.\n",
      "  plt.tight_layout()\n",
      "/opt/conda/lib/python3.10/site-packages/aind_dynamic_foraging_basic_analysis/plot/plot_foraging_session.py:497: UserWarning: This figure includes Axes that are not compatible with tight_layout, so results might be incorrect.\n",
      "  plt.tight_layout()\n"
     ]
    },
    {
     "name": "stdout",
     "output_type": "stream",
     "text": [
      "Old data, using hopkins formats\n",
      "No raw session directory found for behavior_ZS062_2021-03-26_18-45-54.\n",
      "Combining behavior_ZS062_2021-03-26_18-45-54\n",
      "Processing 4 files in /root/capsule/scratch/ZS062/behavior_ZS062_2021-03-26_18-45-54/ephys/curated/figures/response\n",
      "Combined PDF saved as: /root/capsule/scratch/ZS062/behavior_ZS062_2021-03-26_18-45-54/ephys/curated/behavior_ZS062_2021-03-26_18-45-54_unit_beh_response.pdf\n",
      "Processed behavior_ZS062_2021-03-26_18-45-54\n",
      "Old data, using hopkins formats\n",
      "No raw session directory found for behavior_ZS062_2021-03-25_18-44-20.\n",
      "Old data, using hopkins formats\n",
      "No raw session directory found for behavior_ZS062_2021-03-25_18-44-20.\n",
      "Old data, using hopkins formats\n",
      "No raw session directory found for behavior_ZS062_2021-03-25_18-44-20.\n",
      "Old data, using hopkins formats\n",
      "No raw session directory found for behavior_ZS062_2021-03-25_18-44-20.\n",
      "Old data, using hopkins formats\n",
      "No raw session directory found for behavior_ZS062_2021-03-25_18-44-20.\n",
      "Old data, using hopkins formats\n",
      "No raw session directory found for behavior_ZS062_2021-03-25_18-44-20.\n",
      "Old data, using hopkins formats\n",
      "No raw session directory found for behavior_ZS062_2021-03-25_18-44-20.\n",
      "Old data, using hopkins formats\n",
      "No raw session directory found for behavior_ZS062_2021-03-25_18-44-20.\n",
      "Old data, using hopkins formats\n",
      "Old data, using hopkins formats\n",
      "Old data, using hopkins formats\n",
      "Old data, using hopkins formats\n",
      "No raw session directory found for behavior_ZS062_2021-03-25_18-44-20.\n",
      "Old data, using hopkins formats\n",
      "Plotting unit TT4_SS_01\n",
      "No raw session directory found for behavior_ZS062_2021-03-25_18-44-20.\n",
      "Plotting unit TT5_SS_03\n",
      "No raw session directory found for behavior_ZS062_2021-03-25_18-44-20.\n",
      "Plotting unit TT8_SS_01\n",
      "No raw session directory found for behavior_ZS062_2021-03-25_18-44-20.\n",
      "No raw session directory found for behavior_ZS062_2021-03-25_18-44-20.\n",
      "Plotting unit TT5_SS_02\n",
      "Plotting unit TT5_SS_01\n"
     ]
    },
    {
     "name": "stderr",
     "output_type": "stream",
     "text": [
      "/opt/conda/lib/python3.10/site-packages/aind_dynamic_foraging_basic_analysis/plot/plot_foraging_session.py:497: UserWarning: This figure includes Axes that are not compatible with tight_layout, so results might be incorrect.\n",
      "  plt.tight_layout()\n",
      "/opt/conda/lib/python3.10/site-packages/aind_dynamic_foraging_basic_analysis/plot/plot_foraging_session.py:497: UserWarning: This figure includes Axes that are not compatible with tight_layout, so results might be incorrect.\n",
      "  plt.tight_layout()\n",
      "/opt/conda/lib/python3.10/site-packages/aind_dynamic_foraging_basic_analysis/plot/plot_foraging_session.py:497: UserWarning: This figure includes Axes that are not compatible with tight_layout, so results might be incorrect.\n",
      "  plt.tight_layout()\n",
      "/opt/conda/lib/python3.10/site-packages/aind_dynamic_foraging_basic_analysis/plot/plot_foraging_session.py:497: UserWarning: This figure includes Axes that are not compatible with tight_layout, so results might be incorrect.\n",
      "  plt.tight_layout()\n",
      "/opt/conda/lib/python3.10/site-packages/aind_dynamic_foraging_basic_analysis/plot/plot_foraging_session.py:497: UserWarning: This figure includes Axes that are not compatible with tight_layout, so results might be incorrect.\n",
      "  plt.tight_layout()\n"
     ]
    },
    {
     "name": "stdout",
     "output_type": "stream",
     "text": [
      "Failed to fit model for unit TT5_SS_03\n",
      "Failed to fit model for unit TT5_SS_01\n",
      "Failed to fit model for unit TT5_SS_02\n",
      "Failed to fit model for unit TT8_SS_01\n",
      "Failed to fit model for unit TT4_SS_01\n",
      "Old data, using hopkins formats\n",
      "No raw session directory found for behavior_ZS062_2021-03-25_18-44-20.\n",
      "Combining behavior_ZS062_2021-03-25_18-44-20\n",
      "Processing 6 files in /root/capsule/scratch/ZS062/behavior_ZS062_2021-03-25_18-44-20/ephys/curated/figures/go_cue\n",
      "Combined PDF saved as: /root/capsule/scratch/ZS062/behavior_ZS062_2021-03-25_18-44-20/ephys/curated/behavior_ZS062_2021-03-25_18-44-20_unit_beh_go_cue.pdf\n",
      "Old data, using hopkins formats\n",
      "No raw session directory found for behavior_ZS062_2021-03-25_18-44-20.\n",
      "Old data, using hopkins formats\n",
      "No raw session directory found for behavior_ZS062_2021-03-25_18-44-20.\n",
      "Old data, using hopkins formats\n",
      "No raw session directory found for behavior_ZS062_2021-03-25_18-44-20.\n",
      "Old data, using hopkins formats\n",
      "No raw session directory found for behavior_ZS062_2021-03-25_18-44-20.\n",
      "Old data, using hopkins formats\n",
      "No raw session directory found for behavior_ZS062_2021-03-25_18-44-20.\n",
      "Old data, using hopkins formats\n",
      "Old data, using hopkins formats\n",
      "Old data, using hopkins formats\n",
      "Old data, using hopkins formats\n",
      "No raw session directory found for behavior_ZS062_2021-03-25_18-44-20.\n",
      "Old data, using hopkins formats\n",
      "Plotting unit TT4_SS_01\n",
      "No raw session directory found for behavior_ZS062_2021-03-25_18-44-20.\n",
      "Plotting unit TT5_SS_03\n",
      "No raw session directory found for behavior_ZS062_2021-03-25_18-44-20.\n",
      "Plotting unit TT8_SS_01\n",
      "No raw session directory found for behavior_ZS062_2021-03-25_18-44-20.\n",
      "No raw session directory found for behavior_ZS062_2021-03-25_18-44-20.\n",
      "Plotting unit TT5_SS_01\n",
      "Plotting unit TT5_SS_02\n"
     ]
    },
    {
     "name": "stderr",
     "output_type": "stream",
     "text": [
      "/opt/conda/lib/python3.10/site-packages/aind_dynamic_foraging_basic_analysis/plot/plot_foraging_session.py:497: UserWarning: This figure includes Axes that are not compatible with tight_layout, so results might be incorrect.\n",
      "  plt.tight_layout()\n",
      "/opt/conda/lib/python3.10/site-packages/aind_dynamic_foraging_basic_analysis/plot/plot_foraging_session.py:497: UserWarning: This figure includes Axes that are not compatible with tight_layout, so results might be incorrect.\n",
      "  plt.tight_layout()\n",
      "/opt/conda/lib/python3.10/site-packages/aind_dynamic_foraging_basic_analysis/plot/plot_foraging_session.py:497: UserWarning: This figure includes Axes that are not compatible with tight_layout, so results might be incorrect.\n",
      "  plt.tight_layout()\n",
      "/opt/conda/lib/python3.10/site-packages/aind_dynamic_foraging_basic_analysis/plot/plot_foraging_session.py:497: UserWarning: This figure includes Axes that are not compatible with tight_layout, so results might be incorrect.\n",
      "  plt.tight_layout()\n"
     ]
    },
    {
     "name": "stdout",
     "output_type": "stream",
     "text": [
      "Failed to fit model for unit TT5_SS_03\n"
     ]
    },
    {
     "name": "stderr",
     "output_type": "stream",
     "text": [
      "/opt/conda/lib/python3.10/site-packages/aind_dynamic_foraging_basic_analysis/plot/plot_foraging_session.py:497: UserWarning: This figure includes Axes that are not compatible with tight_layout, so results might be incorrect.\n",
      "  plt.tight_layout()\n"
     ]
    },
    {
     "name": "stdout",
     "output_type": "stream",
     "text": [
      "Failed to fit model for unit TT5_SS_01\n",
      "Failed to fit model for unit TT5_SS_02\n",
      "Failed to fit model for unit TT8_SS_01\n",
      "Failed to fit model for unit TT4_SS_01\n",
      "Old data, using hopkins formats\n",
      "No raw session directory found for behavior_ZS062_2021-03-25_18-44-20.\n",
      "Combining behavior_ZS062_2021-03-25_18-44-20\n",
      "Processing 6 files in /root/capsule/scratch/ZS062/behavior_ZS062_2021-03-25_18-44-20/ephys/curated/figures/response\n",
      "Combined PDF saved as: /root/capsule/scratch/ZS062/behavior_ZS062_2021-03-25_18-44-20/ephys/curated/behavior_ZS062_2021-03-25_18-44-20_unit_beh_response.pdf\n",
      "Processed behavior_ZS062_2021-03-25_18-44-20\n",
      "Old data, using hopkins formats\n",
      "No raw session directory found for behavior_ZS062_2021-03-30_18-30-24.\n",
      "Old data, using hopkins formats\n",
      "No raw session directory found for behavior_ZS062_2021-03-30_18-30-24.\n",
      "Old data, using hopkins formats\n",
      "No raw session directory found for behavior_ZS062_2021-03-30_18-30-24.\n",
      "No unit table found for behavior_ZS062_2021-03-30_18-30-24 in curated data.\n",
      "Old data, using hopkins formats\n",
      "No raw session directory found for behavior_ZS062_2021-04-06_18-46-42.\n",
      "Old data, using hopkins formats\n",
      "No raw session directory found for behavior_ZS062_2021-04-06_18-46-42.\n",
      "Old data, using hopkins formats\n",
      "No raw session directory found for behavior_ZS062_2021-04-06_18-46-42.\n",
      "Old data, using hopkins formats\n",
      "No raw session directory found for behavior_ZS062_2021-04-06_18-46-42.\n",
      "Old data, using hopkins formats\n",
      "No raw session directory found for behavior_ZS062_2021-04-06_18-46-42.\n",
      "Old data, using hopkins formats\n",
      "No raw session directory found for behavior_ZS062_2021-04-06_18-46-42.\n",
      "Old data, using hopkins formats\n",
      "No raw session directory found for behavior_ZS062_2021-04-06_18-46-42.\n",
      "Old data, using hopkins formats\n",
      "No raw session directory found for behavior_ZS062_2021-04-06_18-46-42.\n",
      "Old data, using hopkins formats\n",
      "No raw session directory found for behavior_ZS062_2021-04-06_18-46-42.\n",
      "Plotting unit TT1_SS_02\n"
     ]
    },
    {
     "name": "stderr",
     "output_type": "stream",
     "text": [
      "/opt/conda/lib/python3.10/site-packages/aind_dynamic_foraging_basic_analysis/plot/plot_foraging_session.py:497: UserWarning: This figure includes Axes that are not compatible with tight_layout, so results might be incorrect.\n",
      "  plt.tight_layout()\n"
     ]
    },
    {
     "name": "stdout",
     "output_type": "stream",
     "text": [
      "Old data, using hopkins formats\n",
      "No raw session directory found for behavior_ZS062_2021-04-06_18-46-42.\n",
      "Combining behavior_ZS062_2021-04-06_18-46-42\n",
      "Processing 2 files in /root/capsule/scratch/ZS062/behavior_ZS062_2021-04-06_18-46-42/ephys/curated/figures/go_cue\n",
      "Combined PDF saved as: /root/capsule/scratch/ZS062/behavior_ZS062_2021-04-06_18-46-42/ephys/curated/behavior_ZS062_2021-04-06_18-46-42_unit_beh_go_cue.pdf\n",
      "Old data, using hopkins formats\n",
      "No raw session directory found for behavior_ZS062_2021-04-06_18-46-42.\n",
      "Old data, using hopkins formats\n",
      "No raw session directory found for behavior_ZS062_2021-04-06_18-46-42.\n",
      "Old data, using hopkins formats\n",
      "No raw session directory found for behavior_ZS062_2021-04-06_18-46-42.\n",
      "Old data, using hopkins formats\n",
      "No raw session directory found for behavior_ZS062_2021-04-06_18-46-42.\n",
      "Old data, using hopkins formats\n",
      "No raw session directory found for behavior_ZS062_2021-04-06_18-46-42.\n",
      "Old data, using hopkins formats\n",
      "No raw session directory found for behavior_ZS062_2021-04-06_18-46-42.\n",
      "Plotting unit TT1_SS_02\n"
     ]
    },
    {
     "name": "stderr",
     "output_type": "stream",
     "text": [
      "/opt/conda/lib/python3.10/site-packages/aind_dynamic_foraging_basic_analysis/plot/plot_foraging_session.py:497: UserWarning: This figure includes Axes that are not compatible with tight_layout, so results might be incorrect.\n",
      "  plt.tight_layout()\n"
     ]
    },
    {
     "name": "stdout",
     "output_type": "stream",
     "text": [
      "Old data, using hopkins formats\n",
      "No raw session directory found for behavior_ZS062_2021-04-06_18-46-42.\n",
      "Combining behavior_ZS062_2021-04-06_18-46-42\n",
      "Processing 2 files in /root/capsule/scratch/ZS062/behavior_ZS062_2021-04-06_18-46-42/ephys/curated/figures/response\n",
      "Combined PDF saved as: /root/capsule/scratch/ZS062/behavior_ZS062_2021-04-06_18-46-42/ephys/curated/behavior_ZS062_2021-04-06_18-46-42_unit_beh_response.pdf\n",
      "Processed behavior_ZS062_2021-04-06_18-46-42\n",
      "Old data, using hopkins formats\n",
      "No raw session directory found for behavior_ZS062_2021-04-05_19-25-39.\n",
      "Old data, using hopkins formats\n",
      "No raw session directory found for behavior_ZS062_2021-04-05_19-25-39.\n",
      "Old data, using hopkins formats\n",
      "No raw session directory found for behavior_ZS062_2021-04-05_19-25-39.\n",
      "Old data, using hopkins formats\n",
      "No raw session directory found for behavior_ZS062_2021-04-05_19-25-39.\n",
      "Old data, using hopkins formats\n",
      "No raw session directory found for behavior_ZS062_2021-04-05_19-25-39.\n",
      "Old data, using hopkins formats\n",
      "No raw session directory found for behavior_ZS062_2021-04-05_19-25-39.\n",
      "Old data, using hopkins formats\n",
      "No raw session directory found for behavior_ZS062_2021-04-05_19-25-39.\n",
      "Old data, using hopkins formats\n",
      "No raw session directory found for behavior_ZS062_2021-04-05_19-25-39.\n",
      "Old data, using hopkins formats\n",
      "No raw session directory found for behavior_ZS062_2021-04-05_19-25-39.\n",
      "Plotting unit TT1_SS_01\n"
     ]
    },
    {
     "name": "stderr",
     "output_type": "stream",
     "text": [
      "/opt/conda/lib/python3.10/site-packages/aind_dynamic_foraging_basic_analysis/plot/plot_foraging_session.py:497: UserWarning: This figure includes Axes that are not compatible with tight_layout, so results might be incorrect.\n",
      "  plt.tight_layout()\n"
     ]
    },
    {
     "name": "stdout",
     "output_type": "stream",
     "text": [
      "Failed to fit model for unit TT1_SS_01\n",
      "Old data, using hopkins formats\n",
      "No raw session directory found for behavior_ZS062_2021-04-05_19-25-39.\n",
      "Combining behavior_ZS062_2021-04-05_19-25-39\n",
      "Processing 2 files in /root/capsule/scratch/ZS062/behavior_ZS062_2021-04-05_19-25-39/ephys/curated/figures/go_cue\n",
      "Combined PDF saved as: /root/capsule/scratch/ZS062/behavior_ZS062_2021-04-05_19-25-39/ephys/curated/behavior_ZS062_2021-04-05_19-25-39_unit_beh_go_cue.pdf\n",
      "Old data, using hopkins formats\n",
      "No raw session directory found for behavior_ZS062_2021-04-05_19-25-39.\n",
      "Old data, using hopkins formats\n",
      "No raw session directory found for behavior_ZS062_2021-04-05_19-25-39.\n",
      "Old data, using hopkins formats\n",
      "No raw session directory found for behavior_ZS062_2021-04-05_19-25-39.\n",
      "Old data, using hopkins formats\n",
      "No raw session directory found for behavior_ZS062_2021-04-05_19-25-39.\n",
      "Old data, using hopkins formats\n",
      "No raw session directory found for behavior_ZS062_2021-04-05_19-25-39.\n",
      "Old data, using hopkins formats\n",
      "No raw session directory found for behavior_ZS062_2021-04-05_19-25-39.\n",
      "Plotting unit TT1_SS_01\n"
     ]
    },
    {
     "name": "stderr",
     "output_type": "stream",
     "text": [
      "/opt/conda/lib/python3.10/site-packages/aind_dynamic_foraging_basic_analysis/plot/plot_foraging_session.py:497: UserWarning: This figure includes Axes that are not compatible with tight_layout, so results might be incorrect.\n",
      "  plt.tight_layout()\n"
     ]
    },
    {
     "name": "stdout",
     "output_type": "stream",
     "text": [
      "Failed to fit model for unit TT1_SS_01\n",
      "Old data, using hopkins formats\n",
      "No raw session directory found for behavior_ZS062_2021-04-05_19-25-39.\n",
      "Combining behavior_ZS062_2021-04-05_19-25-39\n",
      "Processing 2 files in /root/capsule/scratch/ZS062/behavior_ZS062_2021-04-05_19-25-39/ephys/curated/figures/response\n",
      "Combined PDF saved as: /root/capsule/scratch/ZS062/behavior_ZS062_2021-04-05_19-25-39/ephys/curated/behavior_ZS062_2021-04-05_19-25-39_unit_beh_response.pdf\n",
      "Processed behavior_ZS062_2021-04-05_19-25-39\n",
      "Old data, using hopkins formats\n",
      "No raw session directory found for behavior_ZS062_2021-04-01_17-49-36.\n",
      "Old data, using hopkins formats\n",
      "No raw session directory found for behavior_ZS062_2021-04-01_17-49-36.\n",
      "Old data, using hopkins formats\n",
      "No raw session directory found for behavior_ZS062_2021-04-01_17-49-36.\n",
      "Old data, using hopkins formats\n",
      "No raw session directory found for behavior_ZS062_2021-04-01_17-49-36.\n",
      "Old data, using hopkins formats\n",
      "No raw session directory found for behavior_ZS062_2021-04-01_17-49-36.\n",
      "Old data, using hopkins formats\n",
      "No raw session directory found for behavior_ZS062_2021-04-01_17-49-36.\n",
      "Old data, using hopkins formats\n",
      "No raw session directory found for behavior_ZS062_2021-04-01_17-49-36.\n",
      "Old data, using hopkins formats\n",
      "No raw session directory found for behavior_ZS062_2021-04-01_17-49-36.\n",
      "Old data, using hopkins formats\n",
      "No raw session directory found for behavior_ZS062_2021-04-01_17-49-36.\n",
      "Plotting unit TT7_SS_01\n"
     ]
    },
    {
     "name": "stderr",
     "output_type": "stream",
     "text": [
      "/opt/conda/lib/python3.10/site-packages/aind_dynamic_foraging_basic_analysis/plot/plot_foraging_session.py:497: UserWarning: This figure includes Axes that are not compatible with tight_layout, so results might be incorrect.\n",
      "  plt.tight_layout()\n"
     ]
    },
    {
     "name": "stdout",
     "output_type": "stream",
     "text": [
      "Old data, using hopkins formats\n",
      "No raw session directory found for behavior_ZS062_2021-04-01_17-49-36.\n",
      "Combining behavior_ZS062_2021-04-01_17-49-36\n",
      "Processing 2 files in /root/capsule/scratch/ZS062/behavior_ZS062_2021-04-01_17-49-36/ephys/curated/figures/go_cue\n",
      "Combined PDF saved as: /root/capsule/scratch/ZS062/behavior_ZS062_2021-04-01_17-49-36/ephys/curated/behavior_ZS062_2021-04-01_17-49-36_unit_beh_go_cue.pdf\n",
      "Old data, using hopkins formats\n",
      "No raw session directory found for behavior_ZS062_2021-04-01_17-49-36.\n",
      "Old data, using hopkins formats\n",
      "No raw session directory found for behavior_ZS062_2021-04-01_17-49-36.\n",
      "Old data, using hopkins formats\n",
      "No raw session directory found for behavior_ZS062_2021-04-01_17-49-36.\n",
      "Old data, using hopkins formats\n",
      "No raw session directory found for behavior_ZS062_2021-04-01_17-49-36.\n",
      "Old data, using hopkins formats\n",
      "No raw session directory found for behavior_ZS062_2021-04-01_17-49-36.\n",
      "Old data, using hopkins formats\n",
      "No raw session directory found for behavior_ZS062_2021-04-01_17-49-36.\n",
      "Plotting unit TT7_SS_01\n"
     ]
    },
    {
     "name": "stderr",
     "output_type": "stream",
     "text": [
      "/opt/conda/lib/python3.10/site-packages/aind_dynamic_foraging_basic_analysis/plot/plot_foraging_session.py:497: UserWarning: This figure includes Axes that are not compatible with tight_layout, so results might be incorrect.\n",
      "  plt.tight_layout()\n"
     ]
    },
    {
     "name": "stdout",
     "output_type": "stream",
     "text": [
      "Old data, using hopkins formats\n",
      "No raw session directory found for behavior_ZS062_2021-04-01_17-49-36.\n",
      "Combining behavior_ZS062_2021-04-01_17-49-36\n",
      "Processing 2 files in /root/capsule/scratch/ZS062/behavior_ZS062_2021-04-01_17-49-36/ephys/curated/figures/response\n",
      "Combined PDF saved as: /root/capsule/scratch/ZS062/behavior_ZS062_2021-04-01_17-49-36/ephys/curated/behavior_ZS062_2021-04-01_17-49-36_unit_beh_response.pdf\n",
      "Processed behavior_ZS062_2021-04-01_17-49-36\n",
      "Old data, using hopkins formats\n",
      "No raw session directory found for behavior_ZS062_2021-04-03_20-26-34.\n",
      "Old data, using hopkins formats\n",
      "No raw session directory found for behavior_ZS062_2021-04-03_20-26-34.\n",
      "Old data, using hopkins formats\n",
      "No raw session directory found for behavior_ZS062_2021-04-03_20-26-34.\n",
      "Old data, using hopkins formats\n",
      "No raw session directory found for behavior_ZS062_2021-04-03_20-26-34.\n",
      "Old data, using hopkins formats\n",
      "No raw session directory found for behavior_ZS062_2021-04-03_20-26-34.\n",
      "Old data, using hopkins formats\n",
      "No raw session directory found for behavior_ZS062_2021-04-03_20-26-34.\n",
      "Old data, using hopkins formats\n",
      "No raw session directory found for behavior_ZS062_2021-04-03_20-26-34.\n",
      "Old data, using hopkins formats\n",
      "No raw session directory found for behavior_ZS062_2021-04-03_20-26-34.\n",
      "Old data, using hopkins formats\n",
      "No raw session directory found for behavior_ZS062_2021-04-03_20-26-34.\n",
      "Plotting unit TT1_SS_02\n"
     ]
    },
    {
     "name": "stderr",
     "output_type": "stream",
     "text": [
      "/opt/conda/lib/python3.10/site-packages/aind_dynamic_foraging_basic_analysis/plot/plot_foraging_session.py:497: UserWarning: This figure includes Axes that are not compatible with tight_layout, so results might be incorrect.\n",
      "  plt.tight_layout()\n"
     ]
    },
    {
     "name": "stdout",
     "output_type": "stream",
     "text": [
      "Old data, using hopkins formats\n",
      "No raw session directory found for behavior_ZS062_2021-04-03_20-26-34.\n",
      "Combining behavior_ZS062_2021-04-03_20-26-34\n",
      "Processing 2 files in /root/capsule/scratch/ZS062/behavior_ZS062_2021-04-03_20-26-34/ephys/curated/figures/go_cue\n",
      "Combined PDF saved as: /root/capsule/scratch/ZS062/behavior_ZS062_2021-04-03_20-26-34/ephys/curated/behavior_ZS062_2021-04-03_20-26-34_unit_beh_go_cue.pdf\n",
      "Old data, using hopkins formats\n",
      "No raw session directory found for behavior_ZS062_2021-04-03_20-26-34.\n",
      "Old data, using hopkins formats\n",
      "No raw session directory found for behavior_ZS062_2021-04-03_20-26-34.\n",
      "Old data, using hopkins formats\n",
      "No raw session directory found for behavior_ZS062_2021-04-03_20-26-34.\n",
      "Old data, using hopkins formats\n",
      "No raw session directory found for behavior_ZS062_2021-04-03_20-26-34.\n",
      "Old data, using hopkins formats\n",
      "No raw session directory found for behavior_ZS062_2021-04-03_20-26-34.\n",
      "Old data, using hopkins formats\n",
      "No raw session directory found for behavior_ZS062_2021-04-03_20-26-34.\n",
      "Plotting unit TT1_SS_02\n"
     ]
    },
    {
     "name": "stderr",
     "output_type": "stream",
     "text": [
      "/opt/conda/lib/python3.10/site-packages/aind_dynamic_foraging_basic_analysis/plot/plot_foraging_session.py:497: UserWarning: This figure includes Axes that are not compatible with tight_layout, so results might be incorrect.\n",
      "  plt.tight_layout()\n"
     ]
    },
    {
     "name": "stdout",
     "output_type": "stream",
     "text": [
      "Old data, using hopkins formats\n",
      "No raw session directory found for behavior_ZS062_2021-04-03_20-26-34.\n",
      "Combining behavior_ZS062_2021-04-03_20-26-34\n",
      "Processing 2 files in /root/capsule/scratch/ZS062/behavior_ZS062_2021-04-03_20-26-34/ephys/curated/figures/response\n",
      "Combined PDF saved as: /root/capsule/scratch/ZS062/behavior_ZS062_2021-04-03_20-26-34/ephys/curated/behavior_ZS062_2021-04-03_20-26-34_unit_beh_response.pdf\n",
      "Processed behavior_ZS062_2021-04-03_20-26-34\n",
      "Old data, using hopkins formats\n",
      "Old data, using hopkins formats\n",
      "Old data, using hopkins formats\n",
      "Old data, using hopkins formats\n",
      "Old data, using hopkins formats\n",
      "Old data, using hopkins formats\n",
      "Old data, using hopkins formats\n",
      "Old data, using hopkins formats\n",
      "Old data, using hopkins formats\n",
      "Old data, using hopkins formats\n",
      "Plotting unit TT1_SS_01\n",
      "Plotting unit TT7_SS_01\n"
     ]
    },
    {
     "name": "stderr",
     "output_type": "stream",
     "text": [
      "/opt/conda/lib/python3.10/site-packages/aind_dynamic_foraging_basic_analysis/plot/plot_foraging_session.py:497: UserWarning: This figure includes Axes that are not compatible with tight_layout, so results might be incorrect.\n",
      "  plt.tight_layout()\n",
      "/opt/conda/lib/python3.10/site-packages/aind_dynamic_foraging_basic_analysis/plot/plot_foraging_session.py:497: UserWarning: This figure includes Axes that are not compatible with tight_layout, so results might be incorrect.\n",
      "  plt.tight_layout()\n"
     ]
    },
    {
     "name": "stdout",
     "output_type": "stream",
     "text": [
      "Old data, using hopkins formats\n",
      "Combining behavior_ZS062_2021-04-20_18-23-52\n",
      "Processing 3 files in /root/capsule/scratch/ZS062/behavior_ZS062_2021-04-20_18-23-52/ephys/curated/figures/go_cue\n",
      "Combined PDF saved as: /root/capsule/scratch/ZS062/behavior_ZS062_2021-04-20_18-23-52/ephys/curated/behavior_ZS062_2021-04-20_18-23-52_unit_beh_go_cue.pdf\n",
      "Old data, using hopkins formats\n",
      "Old data, using hopkins formats\n",
      "Old data, using hopkins formats\n",
      "Old data, using hopkins formats\n",
      "Old data, using hopkins formats\n",
      "Old data, using hopkins formats\n",
      "Old data, using hopkins formats\n",
      "Plotting unit TT1_SS_01\n",
      "Plotting unit TT7_SS_01\n"
     ]
    },
    {
     "name": "stderr",
     "output_type": "stream",
     "text": [
      "/opt/conda/lib/python3.10/site-packages/aind_dynamic_foraging_basic_analysis/plot/plot_foraging_session.py:497: UserWarning: This figure includes Axes that are not compatible with tight_layout, so results might be incorrect.\n",
      "  plt.tight_layout()\n",
      "/opt/conda/lib/python3.10/site-packages/aind_dynamic_foraging_basic_analysis/plot/plot_foraging_session.py:497: UserWarning: This figure includes Axes that are not compatible with tight_layout, so results might be incorrect.\n",
      "  plt.tight_layout()\n"
     ]
    },
    {
     "name": "stdout",
     "output_type": "stream",
     "text": [
      "Old data, using hopkins formats\n",
      "Combining behavior_ZS062_2021-04-20_18-23-52\n",
      "Processing 3 files in /root/capsule/scratch/ZS062/behavior_ZS062_2021-04-20_18-23-52/ephys/curated/figures/response\n",
      "Combined PDF saved as: /root/capsule/scratch/ZS062/behavior_ZS062_2021-04-20_18-23-52/ephys/curated/behavior_ZS062_2021-04-20_18-23-52_unit_beh_response.pdf\n",
      "Processed behavior_ZS062_2021-04-20_18-23-52\n",
      "Old data, using hopkins formats\n",
      "Old data, using hopkins formats\n",
      "Old data, using hopkins formats\n",
      "Old data, using hopkins formats\n",
      "Old data, using hopkins formats\n",
      "Old data, using hopkins formats\n",
      "Old data, using hopkins formats\n",
      "Old data, using hopkins formats\n",
      "Old data, using hopkins formats\n",
      "Plotting unit TT1_SS_01\n"
     ]
    },
    {
     "name": "stderr",
     "output_type": "stream",
     "text": [
      "/opt/conda/lib/python3.10/site-packages/aind_dynamic_foraging_basic_analysis/plot/plot_foraging_session.py:497: UserWarning: This figure includes Axes that are not compatible with tight_layout, so results might be incorrect.\n",
      "  plt.tight_layout()\n"
     ]
    },
    {
     "name": "stdout",
     "output_type": "stream",
     "text": [
      "Old data, using hopkins formats\n",
      "Combining behavior_ZS062_2021-04-22_17-18-06\n",
      "Processing 2 files in /root/capsule/scratch/ZS062/behavior_ZS062_2021-04-22_17-18-06/ephys/curated/figures/go_cue\n",
      "Combined PDF saved as: /root/capsule/scratch/ZS062/behavior_ZS062_2021-04-22_17-18-06/ephys/curated/behavior_ZS062_2021-04-22_17-18-06_unit_beh_go_cue.pdf\n",
      "Old data, using hopkins formats\n",
      "Old data, using hopkins formats\n",
      "Old data, using hopkins formats\n",
      "Old data, using hopkins formats\n",
      "Old data, using hopkins formats\n",
      "Old data, using hopkins formats\n",
      "Plotting unit TT1_SS_01\n"
     ]
    },
    {
     "name": "stderr",
     "output_type": "stream",
     "text": [
      "/opt/conda/lib/python3.10/site-packages/aind_dynamic_foraging_basic_analysis/plot/plot_foraging_session.py:497: UserWarning: This figure includes Axes that are not compatible with tight_layout, so results might be incorrect.\n",
      "  plt.tight_layout()\n"
     ]
    },
    {
     "name": "stdout",
     "output_type": "stream",
     "text": [
      "Old data, using hopkins formats\n",
      "Combining behavior_ZS062_2021-04-22_17-18-06\n",
      "Processing 2 files in /root/capsule/scratch/ZS062/behavior_ZS062_2021-04-22_17-18-06/ephys/curated/figures/response\n",
      "Combined PDF saved as: /root/capsule/scratch/ZS062/behavior_ZS062_2021-04-22_17-18-06/ephys/curated/behavior_ZS062_2021-04-22_17-18-06_unit_beh_response.pdf\n",
      "Processed behavior_ZS062_2021-04-22_17-18-06\n",
      "Old data, using hopkins formats\n",
      "Old data, using hopkins formats\n",
      "Old data, using hopkins formats\n",
      "No unit table found for behavior_ZS062_2021-04-26_20-26-29 in curated data.\n",
      "Old data, using hopkins formats\n",
      "Old data, using hopkins formats\n",
      "Old data, using hopkins formats\n",
      "Old data, using hopkins formats\n",
      "Old data, using hopkins formats\n",
      "Old data, using hopkins formats\n",
      "Old data, using hopkins formats\n",
      "Old data, using hopkins formats\n",
      "Old data, using hopkins formats\n",
      "Plotting unit TT6_SS_01\n"
     ]
    },
    {
     "name": "stderr",
     "output_type": "stream",
     "text": [
      "/opt/conda/lib/python3.10/site-packages/aind_dynamic_foraging_basic_analysis/plot/plot_foraging_session.py:497: UserWarning: This figure includes Axes that are not compatible with tight_layout, so results might be incorrect.\n",
      "  plt.tight_layout()\n"
     ]
    },
    {
     "name": "stdout",
     "output_type": "stream",
     "text": [
      "Old data, using hopkins formats\n",
      "Combining behavior_ZS062_2021-04-27_19-23-36\n",
      "Processing 2 files in /root/capsule/scratch/ZS062/behavior_ZS062_2021-04-27_19-23-36/ephys/curated/figures/go_cue\n",
      "Combined PDF saved as: /root/capsule/scratch/ZS062/behavior_ZS062_2021-04-27_19-23-36/ephys/curated/behavior_ZS062_2021-04-27_19-23-36_unit_beh_go_cue.pdf\n",
      "Old data, using hopkins formats\n",
      "Old data, using hopkins formats\n",
      "Old data, using hopkins formats\n",
      "Old data, using hopkins formats\n",
      "Old data, using hopkins formats\n",
      "Old data, using hopkins formats\n",
      "Plotting unit TT6_SS_01\n"
     ]
    },
    {
     "name": "stderr",
     "output_type": "stream",
     "text": [
      "/opt/conda/lib/python3.10/site-packages/aind_dynamic_foraging_basic_analysis/plot/plot_foraging_session.py:497: UserWarning: This figure includes Axes that are not compatible with tight_layout, so results might be incorrect.\n",
      "  plt.tight_layout()\n"
     ]
    },
    {
     "name": "stdout",
     "output_type": "stream",
     "text": [
      "Old data, using hopkins formats\n",
      "Combining behavior_ZS062_2021-04-27_19-23-36\n",
      "Processing 2 files in /root/capsule/scratch/ZS062/behavior_ZS062_2021-04-27_19-23-36/ephys/curated/figures/response\n",
      "Combined PDF saved as: /root/capsule/scratch/ZS062/behavior_ZS062_2021-04-27_19-23-36/ephys/curated/behavior_ZS062_2021-04-27_19-23-36_unit_beh_response.pdf\n",
      "Processed behavior_ZS062_2021-04-27_19-23-36\n",
      "Old data, using hopkins formats\n",
      "Old data, using hopkins formats\n",
      "Old data, using hopkins formats\n",
      "Old data, using hopkins formats\n",
      "Old data, using hopkins formats\n",
      "Old data, using hopkins formats\n",
      "Old data, using hopkins formats\n",
      "Old data, using hopkins formats\n",
      "Old data, using hopkins formats\n",
      "Old data, using hopkins formats\n",
      "Plotting unit TT6_SS_01\n",
      "Plotting unit TT6_SS_03\n"
     ]
    },
    {
     "name": "stderr",
     "output_type": "stream",
     "text": [
      "/opt/conda/lib/python3.10/site-packages/aind_dynamic_foraging_basic_analysis/plot/plot_foraging_session.py:497: UserWarning: This figure includes Axes that are not compatible with tight_layout, so results might be incorrect.\n",
      "  plt.tight_layout()\n",
      "/opt/conda/lib/python3.10/site-packages/aind_dynamic_foraging_basic_analysis/plot/plot_foraging_session.py:497: UserWarning: This figure includes Axes that are not compatible with tight_layout, so results might be incorrect.\n",
      "  plt.tight_layout()\n"
     ]
    },
    {
     "name": "stdout",
     "output_type": "stream",
     "text": [
      "Old data, using hopkins formats\n",
      "Combining behavior_ZS062_2021-04-28_17-53-01\n",
      "Processing 3 files in /root/capsule/scratch/ZS062/behavior_ZS062_2021-04-28_17-53-01/ephys/curated/figures/go_cue\n",
      "Combined PDF saved as: /root/capsule/scratch/ZS062/behavior_ZS062_2021-04-28_17-53-01/ephys/curated/behavior_ZS062_2021-04-28_17-53-01_unit_beh_go_cue.pdf\n",
      "Old data, using hopkins formats\n",
      "Old data, using hopkins formats\n",
      "Old data, using hopkins formats\n",
      "Old data, using hopkins formats\n",
      "Old data, using hopkins formats\n",
      "Old data, using hopkins formats\n",
      "Old data, using hopkins formats\n",
      "Plotting unit TT6_SS_01\n",
      "Plotting unit TT6_SS_03\n"
     ]
    },
    {
     "name": "stderr",
     "output_type": "stream",
     "text": [
      "/opt/conda/lib/python3.10/site-packages/aind_dynamic_foraging_basic_analysis/plot/plot_foraging_session.py:497: UserWarning: This figure includes Axes that are not compatible with tight_layout, so results might be incorrect.\n",
      "  plt.tight_layout()\n",
      "/opt/conda/lib/python3.10/site-packages/aind_dynamic_foraging_basic_analysis/plot/plot_foraging_session.py:497: UserWarning: This figure includes Axes that are not compatible with tight_layout, so results might be incorrect.\n",
      "  plt.tight_layout()\n"
     ]
    },
    {
     "name": "stdout",
     "output_type": "stream",
     "text": [
      "Old data, using hopkins formats\n",
      "Combining behavior_ZS062_2021-04-28_17-53-01\n",
      "Processing 3 files in /root/capsule/scratch/ZS062/behavior_ZS062_2021-04-28_17-53-01/ephys/curated/figures/response\n",
      "Combined PDF saved as: /root/capsule/scratch/ZS062/behavior_ZS062_2021-04-28_17-53-01/ephys/curated/behavior_ZS062_2021-04-28_17-53-01_unit_beh_response.pdf\n",
      "Processed behavior_ZS062_2021-04-28_17-53-01\n",
      "Old data, using hopkins formats\n",
      "No raw session directory found for behavior_ZS062_2021-03-24_18-52-34.\n",
      "Old data, using hopkins formats\n",
      "No raw session directory found for behavior_ZS062_2021-03-24_18-52-34.\n",
      "Old data, using hopkins formats\n",
      "No raw session directory found for behavior_ZS062_2021-03-24_18-52-34.\n",
      "No unit table found for behavior_ZS062_2021-03-24_18-52-34 in curated data.\n",
      "Old data, using hopkins formats\n",
      "No raw session directory found for behavior_ZS062_2021-03-31_18-40-52.\n",
      "Old data, using hopkins formats\n",
      "No raw session directory found for behavior_ZS062_2021-03-31_18-40-52.\n",
      "Old data, using hopkins formats\n",
      "No raw session directory found for behavior_ZS062_2021-03-31_18-40-52.\n",
      "No unit table found for behavior_ZS062_2021-03-31_18-40-52 in curated data.\n",
      "Old data, using hopkins formats\n",
      "No raw session directory found for behavior_ZS062_2021-04-02_19-08-52.\n",
      "Old data, using hopkins formats\n",
      "No raw session directory found for behavior_ZS062_2021-04-02_19-08-52.\n",
      "Old data, using hopkins formats\n",
      "No raw session directory found for behavior_ZS062_2021-04-02_19-08-52.\n",
      "Old data, using hopkins formats\n",
      "No raw session directory found for behavior_ZS062_2021-04-02_19-08-52.\n",
      "Old data, using hopkins formats\n",
      "No raw session directory found for behavior_ZS062_2021-04-02_19-08-52.\n",
      "Old data, using hopkins formats\n",
      "No raw session directory found for behavior_ZS062_2021-04-02_19-08-52.\n",
      "Old data, using hopkins formats\n",
      "No raw session directory found for behavior_ZS062_2021-04-02_19-08-52.\n",
      "Old data, using hopkins formats\n",
      "No raw session directory found for behavior_ZS062_2021-04-02_19-08-52.\n",
      "Old data, using hopkins formats\n",
      "Old data, using hopkins formats\n",
      "No raw session directory found for behavior_ZS062_2021-04-02_19-08-52.\n",
      "Plotting unit TT1_SS_02\n",
      "No raw session directory found for behavior_ZS062_2021-04-02_19-08-52.\n",
      "Plotting unit TT7_SS_01\n"
     ]
    },
    {
     "name": "stderr",
     "output_type": "stream",
     "text": [
      "/opt/conda/lib/python3.10/site-packages/aind_dynamic_foraging_basic_analysis/plot/plot_foraging_session.py:497: UserWarning: This figure includes Axes that are not compatible with tight_layout, so results might be incorrect.\n",
      "  plt.tight_layout()\n",
      "/opt/conda/lib/python3.10/site-packages/aind_dynamic_foraging_basic_analysis/plot/plot_foraging_session.py:497: UserWarning: This figure includes Axes that are not compatible with tight_layout, so results might be incorrect.\n",
      "  plt.tight_layout()\n"
     ]
    },
    {
     "name": "stdout",
     "output_type": "stream",
     "text": [
      "Old data, using hopkins formats\n",
      "No raw session directory found for behavior_ZS062_2021-04-02_19-08-52.\n",
      "Combining behavior_ZS062_2021-04-02_19-08-52\n",
      "Processing 3 files in /root/capsule/scratch/ZS062/behavior_ZS062_2021-04-02_19-08-52/ephys/curated/figures/go_cue\n",
      "Combined PDF saved as: /root/capsule/scratch/ZS062/behavior_ZS062_2021-04-02_19-08-52/ephys/curated/behavior_ZS062_2021-04-02_19-08-52_unit_beh_go_cue.pdf\n",
      "Old data, using hopkins formats\n",
      "No raw session directory found for behavior_ZS062_2021-04-02_19-08-52.\n",
      "Old data, using hopkins formats\n",
      "No raw session directory found for behavior_ZS062_2021-04-02_19-08-52.\n",
      "Old data, using hopkins formats\n",
      "No raw session directory found for behavior_ZS062_2021-04-02_19-08-52.\n",
      "Old data, using hopkins formats\n",
      "No raw session directory found for behavior_ZS062_2021-04-02_19-08-52.\n",
      "Old data, using hopkins formats\n",
      "No raw session directory found for behavior_ZS062_2021-04-02_19-08-52.\n",
      "Old data, using hopkins formats\n",
      "Old data, using hopkins formats\n",
      "No raw session directory found for behavior_ZS062_2021-04-02_19-08-52.\n",
      "No raw session directory found for behavior_ZS062_2021-04-02_19-08-52.\n",
      "Plotting unit TT1_SS_02\n",
      "Plotting unit TT7_SS_01\n"
     ]
    },
    {
     "name": "stderr",
     "output_type": "stream",
     "text": [
      "/opt/conda/lib/python3.10/site-packages/aind_dynamic_foraging_basic_analysis/plot/plot_foraging_session.py:497: UserWarning: This figure includes Axes that are not compatible with tight_layout, so results might be incorrect.\n",
      "  plt.tight_layout()\n",
      "/opt/conda/lib/python3.10/site-packages/aind_dynamic_foraging_basic_analysis/plot/plot_foraging_session.py:497: UserWarning: This figure includes Axes that are not compatible with tight_layout, so results might be incorrect.\n",
      "  plt.tight_layout()\n"
     ]
    },
    {
     "name": "stdout",
     "output_type": "stream",
     "text": [
      "Old data, using hopkins formats\n",
      "No raw session directory found for behavior_ZS062_2021-04-02_19-08-52.\n",
      "Combining behavior_ZS062_2021-04-02_19-08-52\n",
      "Processing 3 files in /root/capsule/scratch/ZS062/behavior_ZS062_2021-04-02_19-08-52/ephys/curated/figures/response\n",
      "Combined PDF saved as: /root/capsule/scratch/ZS062/behavior_ZS062_2021-04-02_19-08-52/ephys/curated/behavior_ZS062_2021-04-02_19-08-52_unit_beh_response.pdf\n",
      "Processed behavior_ZS062_2021-04-02_19-08-52\n",
      "Old data, using hopkins formats\n",
      "No raw session directory found for behavior_ZS062_2021-04-04_18-59-47.\n",
      "Old data, using hopkins formats\n",
      "No raw session directory found for behavior_ZS062_2021-04-04_18-59-47.\n",
      "Old data, using hopkins formats\n",
      "No raw session directory found for behavior_ZS062_2021-04-04_18-59-47.\n",
      "Old data, using hopkins formats\n",
      "No raw session directory found for behavior_ZS062_2021-04-04_18-59-47.\n",
      "Old data, using hopkins formats\n",
      "No raw session directory found for behavior_ZS062_2021-04-04_18-59-47.\n",
      "Old data, using hopkins formats\n",
      "No raw session directory found for behavior_ZS062_2021-04-04_18-59-47.\n",
      "Old data, using hopkins formats\n",
      "No raw session directory found for behavior_ZS062_2021-04-04_18-59-47.\n",
      "Old data, using hopkins formats\n",
      "No raw session directory found for behavior_ZS062_2021-04-04_18-59-47.\n",
      "Old data, using hopkins formats\n",
      "No raw session directory found for behavior_ZS062_2021-04-04_18-59-47.\n",
      "Plotting unit TT1_SS_01\n"
     ]
    },
    {
     "name": "stderr",
     "output_type": "stream",
     "text": [
      "/opt/conda/lib/python3.10/site-packages/aind_dynamic_foraging_basic_analysis/plot/plot_foraging_session.py:497: UserWarning: This figure includes Axes that are not compatible with tight_layout, so results might be incorrect.\n",
      "  plt.tight_layout()\n"
     ]
    },
    {
     "name": "stdout",
     "output_type": "stream",
     "text": [
      "Old data, using hopkins formats\n",
      "No raw session directory found for behavior_ZS062_2021-04-04_18-59-47.\n",
      "Combining behavior_ZS062_2021-04-04_18-59-47\n",
      "Processing 2 files in /root/capsule/scratch/ZS062/behavior_ZS062_2021-04-04_18-59-47/ephys/curated/figures/go_cue\n",
      "Combined PDF saved as: /root/capsule/scratch/ZS062/behavior_ZS062_2021-04-04_18-59-47/ephys/curated/behavior_ZS062_2021-04-04_18-59-47_unit_beh_go_cue.pdf\n",
      "Old data, using hopkins formats\n",
      "No raw session directory found for behavior_ZS062_2021-04-04_18-59-47.\n",
      "Old data, using hopkins formats\n",
      "No raw session directory found for behavior_ZS062_2021-04-04_18-59-47.\n",
      "Old data, using hopkins formats\n",
      "No raw session directory found for behavior_ZS062_2021-04-04_18-59-47.\n",
      "Old data, using hopkins formats\n",
      "No raw session directory found for behavior_ZS062_2021-04-04_18-59-47.\n",
      "Old data, using hopkins formats\n",
      "No raw session directory found for behavior_ZS062_2021-04-04_18-59-47.\n",
      "Old data, using hopkins formats\n",
      "No raw session directory found for behavior_ZS062_2021-04-04_18-59-47.\n",
      "Plotting unit TT1_SS_01\n"
     ]
    },
    {
     "name": "stderr",
     "output_type": "stream",
     "text": [
      "/opt/conda/lib/python3.10/site-packages/aind_dynamic_foraging_basic_analysis/plot/plot_foraging_session.py:497: UserWarning: This figure includes Axes that are not compatible with tight_layout, so results might be incorrect.\n",
      "  plt.tight_layout()\n"
     ]
    },
    {
     "name": "stdout",
     "output_type": "stream",
     "text": [
      "Old data, using hopkins formats\n",
      "No raw session directory found for behavior_ZS062_2021-04-04_18-59-47.\n",
      "Combining behavior_ZS062_2021-04-04_18-59-47\n",
      "Processing 2 files in /root/capsule/scratch/ZS062/behavior_ZS062_2021-04-04_18-59-47/ephys/curated/figures/response\n",
      "Combined PDF saved as: /root/capsule/scratch/ZS062/behavior_ZS062_2021-04-04_18-59-47/ephys/curated/behavior_ZS062_2021-04-04_18-59-47_unit_beh_response.pdf\n",
      "Processed behavior_ZS062_2021-04-04_18-59-47\n",
      "Old data, using hopkins formats\n",
      "No raw session directory found for behavior_ZS062_2021-04-08_19-07-10.\n",
      "Old data, using hopkins formats\n",
      "No raw session directory found for behavior_ZS062_2021-04-08_19-07-10.\n",
      "Old data, using hopkins formats\n",
      "No raw session directory found for behavior_ZS062_2021-04-08_19-07-10.\n",
      "Old data, using hopkins formats\n",
      "No raw session directory found for behavior_ZS062_2021-04-08_19-07-10.\n",
      "Old data, using hopkins formats\n",
      "No raw session directory found for behavior_ZS062_2021-04-08_19-07-10.\n",
      "Old data, using hopkins formats\n",
      "No raw session directory found for behavior_ZS062_2021-04-08_19-07-10.\n",
      "Old data, using hopkins formats\n",
      "No raw session directory found for behavior_ZS062_2021-04-08_19-07-10.\n",
      "Old data, using hopkins formats\n",
      "No raw session directory found for behavior_ZS062_2021-04-08_19-07-10.\n",
      "Old data, using hopkins formats\n",
      "Old data, using hopkins formats\n",
      "No raw session directory found for behavior_ZS062_2021-04-08_19-07-10.\n",
      "Plotting unit TT1_SS_01\n",
      "No raw session directory found for behavior_ZS062_2021-04-08_19-07-10.\n",
      "Plotting unit TT7_SS_01\n"
     ]
    },
    {
     "name": "stderr",
     "output_type": "stream",
     "text": [
      "/opt/conda/lib/python3.10/site-packages/aind_dynamic_foraging_basic_analysis/plot/plot_foraging_session.py:497: UserWarning: This figure includes Axes that are not compatible with tight_layout, so results might be incorrect.\n",
      "  plt.tight_layout()\n",
      "/opt/conda/lib/python3.10/site-packages/aind_dynamic_foraging_basic_analysis/plot/plot_foraging_session.py:497: UserWarning: This figure includes Axes that are not compatible with tight_layout, so results might be incorrect.\n",
      "  plt.tight_layout()\n"
     ]
    },
    {
     "name": "stdout",
     "output_type": "stream",
     "text": [
      "Old data, using hopkins formats\n",
      "No raw session directory found for behavior_ZS062_2021-04-08_19-07-10.\n",
      "Combining behavior_ZS062_2021-04-08_19-07-10\n",
      "Processing 3 files in /root/capsule/scratch/ZS062/behavior_ZS062_2021-04-08_19-07-10/ephys/curated/figures/go_cue\n",
      "Combined PDF saved as: /root/capsule/scratch/ZS062/behavior_ZS062_2021-04-08_19-07-10/ephys/curated/behavior_ZS062_2021-04-08_19-07-10_unit_beh_go_cue.pdf\n",
      "Old data, using hopkins formats\n",
      "No raw session directory found for behavior_ZS062_2021-04-08_19-07-10.\n",
      "Old data, using hopkins formats\n",
      "No raw session directory found for behavior_ZS062_2021-04-08_19-07-10.\n",
      "Old data, using hopkins formats\n",
      "No raw session directory found for behavior_ZS062_2021-04-08_19-07-10.\n",
      "Old data, using hopkins formats\n",
      "No raw session directory found for behavior_ZS062_2021-04-08_19-07-10.\n",
      "Old data, using hopkins formats\n",
      "No raw session directory found for behavior_ZS062_2021-04-08_19-07-10.\n",
      "Old data, using hopkins formats\n",
      "Old data, using hopkins formats\n",
      "No raw session directory found for behavior_ZS062_2021-04-08_19-07-10.\n",
      "Plotting unit TT1_SS_01\n",
      "No raw session directory found for behavior_ZS062_2021-04-08_19-07-10.\n",
      "Plotting unit TT7_SS_01\n"
     ]
    },
    {
     "name": "stderr",
     "output_type": "stream",
     "text": [
      "/opt/conda/lib/python3.10/site-packages/aind_dynamic_foraging_basic_analysis/plot/plot_foraging_session.py:497: UserWarning: This figure includes Axes that are not compatible with tight_layout, so results might be incorrect.\n",
      "  plt.tight_layout()\n",
      "/opt/conda/lib/python3.10/site-packages/aind_dynamic_foraging_basic_analysis/plot/plot_foraging_session.py:497: UserWarning: This figure includes Axes that are not compatible with tight_layout, so results might be incorrect.\n",
      "  plt.tight_layout()\n"
     ]
    },
    {
     "name": "stdout",
     "output_type": "stream",
     "text": [
      "Old data, using hopkins formats\n",
      "No raw session directory found for behavior_ZS062_2021-04-08_19-07-10.\n",
      "Combining behavior_ZS062_2021-04-08_19-07-10\n",
      "Processing 3 files in /root/capsule/scratch/ZS062/behavior_ZS062_2021-04-08_19-07-10/ephys/curated/figures/response\n",
      "Combined PDF saved as: /root/capsule/scratch/ZS062/behavior_ZS062_2021-04-08_19-07-10/ephys/curated/behavior_ZS062_2021-04-08_19-07-10_unit_beh_response.pdf\n",
      "Processed behavior_ZS062_2021-04-08_19-07-10\n",
      "Old data, using hopkins formats\n",
      "Old data, using hopkins formats\n",
      "Old data, using hopkins formats\n",
      "Old data, using hopkins formats\n",
      "Old data, using hopkins formats\n",
      "Old data, using hopkins formats\n",
      "Old data, using hopkins formats\n",
      "Old data, using hopkins formats\n",
      "Old data, using hopkins formats\n",
      "Old data, using hopkins formats\n",
      "Plotting unit TT1_SS_01\n",
      "Plotting unit TT7_SS_01\n"
     ]
    },
    {
     "name": "stderr",
     "output_type": "stream",
     "text": [
      "/opt/conda/lib/python3.10/site-packages/aind_dynamic_foraging_basic_analysis/plot/plot_foraging_session.py:497: UserWarning: This figure includes Axes that are not compatible with tight_layout, so results might be incorrect.\n",
      "  plt.tight_layout()\n",
      "/opt/conda/lib/python3.10/site-packages/aind_dynamic_foraging_basic_analysis/plot/plot_foraging_session.py:497: UserWarning: This figure includes Axes that are not compatible with tight_layout, so results might be incorrect.\n",
      "  plt.tight_layout()\n"
     ]
    },
    {
     "name": "stdout",
     "output_type": "stream",
     "text": [
      "Old data, using hopkins formats\n",
      "Combining behavior_ZS062_2021-04-12_18-46-29\n",
      "Processing 3 files in /root/capsule/scratch/ZS062/behavior_ZS062_2021-04-12_18-46-29/ephys/curated/figures/go_cue\n",
      "Combined PDF saved as: /root/capsule/scratch/ZS062/behavior_ZS062_2021-04-12_18-46-29/ephys/curated/behavior_ZS062_2021-04-12_18-46-29_unit_beh_go_cue.pdf\n",
      "Old data, using hopkins formats\n",
      "Old data, using hopkins formats\n",
      "Old data, using hopkins formats\n",
      "Old data, using hopkins formats\n",
      "Old data, using hopkins formats\n",
      "Old data, using hopkins formats\n",
      "Old data, using hopkins formats\n",
      "Plotting unit TT1_SS_01\n",
      "Plotting unit TT7_SS_01\n"
     ]
    },
    {
     "name": "stderr",
     "output_type": "stream",
     "text": [
      "/opt/conda/lib/python3.10/site-packages/aind_dynamic_foraging_basic_analysis/plot/plot_foraging_session.py:497: UserWarning: This figure includes Axes that are not compatible with tight_layout, so results might be incorrect.\n",
      "  plt.tight_layout()\n",
      "/opt/conda/lib/python3.10/site-packages/aind_dynamic_foraging_basic_analysis/plot/plot_foraging_session.py:497: UserWarning: This figure includes Axes that are not compatible with tight_layout, so results might be incorrect.\n",
      "  plt.tight_layout()\n"
     ]
    },
    {
     "name": "stdout",
     "output_type": "stream",
     "text": [
      "Old data, using hopkins formats\n",
      "Combining behavior_ZS062_2021-04-12_18-46-29\n",
      "Processing 3 files in /root/capsule/scratch/ZS062/behavior_ZS062_2021-04-12_18-46-29/ephys/curated/figures/response\n",
      "Combined PDF saved as: /root/capsule/scratch/ZS062/behavior_ZS062_2021-04-12_18-46-29/ephys/curated/behavior_ZS062_2021-04-12_18-46-29_unit_beh_response.pdf\n",
      "Processed behavior_ZS062_2021-04-12_18-46-29\n",
      "Old data, using hopkins formats\n",
      "Old data, using hopkins formats\n",
      "Old data, using hopkins formats\n",
      "Old data, using hopkins formats\n",
      "Old data, using hopkins formats\n",
      "Old data, using hopkins formats\n",
      "Old data, using hopkins formats\n",
      "Old data, using hopkins formats\n",
      "Old data, using hopkins formats\n",
      "Plotting unit TT1_SS_02\n"
     ]
    },
    {
     "name": "stderr",
     "output_type": "stream",
     "text": [
      "/opt/conda/lib/python3.10/site-packages/aind_dynamic_foraging_basic_analysis/plot/plot_foraging_session.py:497: UserWarning: This figure includes Axes that are not compatible with tight_layout, so results might be incorrect.\n",
      "  plt.tight_layout()\n"
     ]
    },
    {
     "name": "stdout",
     "output_type": "stream",
     "text": [
      "Old data, using hopkins formats\n",
      "Combining behavior_ZS062_2021-04-11_18-58-53\n",
      "Processing 2 files in /root/capsule/scratch/ZS062/behavior_ZS062_2021-04-11_18-58-53/ephys/curated/figures/go_cue\n",
      "Combined PDF saved as: /root/capsule/scratch/ZS062/behavior_ZS062_2021-04-11_18-58-53/ephys/curated/behavior_ZS062_2021-04-11_18-58-53_unit_beh_go_cue.pdf\n",
      "Old data, using hopkins formats\n",
      "Old data, using hopkins formats\n",
      "Old data, using hopkins formats\n",
      "Old data, using hopkins formats\n",
      "Old data, using hopkins formats\n",
      "Old data, using hopkins formats\n",
      "Plotting unit TT1_SS_02\n"
     ]
    },
    {
     "name": "stderr",
     "output_type": "stream",
     "text": [
      "/opt/conda/lib/python3.10/site-packages/aind_dynamic_foraging_basic_analysis/plot/plot_foraging_session.py:497: UserWarning: This figure includes Axes that are not compatible with tight_layout, so results might be incorrect.\n",
      "  plt.tight_layout()\n"
     ]
    },
    {
     "name": "stdout",
     "output_type": "stream",
     "text": [
      "Old data, using hopkins formats\n",
      "Combining behavior_ZS062_2021-04-11_18-58-53\n",
      "Processing 2 files in /root/capsule/scratch/ZS062/behavior_ZS062_2021-04-11_18-58-53/ephys/curated/figures/response\n",
      "Combined PDF saved as: /root/capsule/scratch/ZS062/behavior_ZS062_2021-04-11_18-58-53/ephys/curated/behavior_ZS062_2021-04-11_18-58-53_unit_beh_response.pdf\n",
      "Processed behavior_ZS062_2021-04-11_18-58-53\n",
      "Old data, using hopkins formats\n",
      "Old data, using hopkins formats\n",
      "Old data, using hopkins formats\n",
      "Old data, using hopkins formats\n",
      "Old data, using hopkins formats\n",
      "Old data, using hopkins formats\n",
      "Old data, using hopkins formats\n",
      "Old data, using hopkins formats\n",
      "Old data, using hopkins formats\n",
      "Old data, using hopkins formats\n",
      "Plotting unit TT1_SS_01\n",
      "Plotting unit TT7_SS_01\n"
     ]
    },
    {
     "name": "stderr",
     "output_type": "stream",
     "text": [
      "/opt/conda/lib/python3.10/site-packages/aind_dynamic_foraging_basic_analysis/plot/plot_foraging_session.py:497: UserWarning: This figure includes Axes that are not compatible with tight_layout, so results might be incorrect.\n",
      "  plt.tight_layout()\n",
      "/opt/conda/lib/python3.10/site-packages/aind_dynamic_foraging_basic_analysis/plot/plot_foraging_session.py:497: UserWarning: This figure includes Axes that are not compatible with tight_layout, so results might be incorrect.\n",
      "  plt.tight_layout()\n"
     ]
    },
    {
     "name": "stdout",
     "output_type": "stream",
     "text": [
      "Old data, using hopkins formats\n",
      "Combining behavior_ZS062_2021-04-16_18-17-09\n",
      "Processing 3 files in /root/capsule/scratch/ZS062/behavior_ZS062_2021-04-16_18-17-09/ephys/curated/figures/go_cue\n",
      "Combined PDF saved as: /root/capsule/scratch/ZS062/behavior_ZS062_2021-04-16_18-17-09/ephys/curated/behavior_ZS062_2021-04-16_18-17-09_unit_beh_go_cue.pdf\n",
      "Old data, using hopkins formats\n",
      "Old data, using hopkins formats\n",
      "Old data, using hopkins formats\n",
      "Old data, using hopkins formats\n",
      "Old data, using hopkins formats\n",
      "Old data, using hopkins formats\n",
      "Old data, using hopkins formats\n",
      "Plotting unit TT7_SS_01\n",
      "Plotting unit TT1_SS_01\n"
     ]
    },
    {
     "name": "stderr",
     "output_type": "stream",
     "text": [
      "/opt/conda/lib/python3.10/site-packages/aind_dynamic_foraging_basic_analysis/plot/plot_foraging_session.py:497: UserWarning: This figure includes Axes that are not compatible with tight_layout, so results might be incorrect.\n",
      "  plt.tight_layout()\n",
      "/opt/conda/lib/python3.10/site-packages/aind_dynamic_foraging_basic_analysis/plot/plot_foraging_session.py:497: UserWarning: This figure includes Axes that are not compatible with tight_layout, so results might be incorrect.\n",
      "  plt.tight_layout()\n"
     ]
    },
    {
     "name": "stdout",
     "output_type": "stream",
     "text": [
      "Old data, using hopkins formats\n",
      "Combining behavior_ZS062_2021-04-16_18-17-09\n",
      "Processing 3 files in /root/capsule/scratch/ZS062/behavior_ZS062_2021-04-16_18-17-09/ephys/curated/figures/response\n",
      "Combined PDF saved as: /root/capsule/scratch/ZS062/behavior_ZS062_2021-04-16_18-17-09/ephys/curated/behavior_ZS062_2021-04-16_18-17-09_unit_beh_response.pdf\n",
      "Processed behavior_ZS062_2021-04-16_18-17-09\n",
      "Old data, using hopkins formats\n",
      "Old data, using hopkins formats\n",
      "Old data, using hopkins formats\n",
      "Old data, using hopkins formats\n",
      "Old data, using hopkins formats\n",
      "Old data, using hopkins formats\n",
      "Old data, using hopkins formats\n",
      "Old data, using hopkins formats\n",
      "Old data, using hopkins formats\n",
      "Plotting unit TT7_SS_01\n"
     ]
    },
    {
     "name": "stderr",
     "output_type": "stream",
     "text": [
      "/opt/conda/lib/python3.10/site-packages/aind_dynamic_foraging_basic_analysis/plot/plot_foraging_session.py:497: UserWarning: This figure includes Axes that are not compatible with tight_layout, so results might be incorrect.\n",
      "  plt.tight_layout()\n"
     ]
    },
    {
     "name": "stdout",
     "output_type": "stream",
     "text": [
      "Old data, using hopkins formats\n",
      "Combining behavior_ZS062_2021-04-13_19-35-13\n",
      "Processing 2 files in /root/capsule/scratch/ZS062/behavior_ZS062_2021-04-13_19-35-13/ephys/curated/figures/go_cue\n",
      "Combined PDF saved as: /root/capsule/scratch/ZS062/behavior_ZS062_2021-04-13_19-35-13/ephys/curated/behavior_ZS062_2021-04-13_19-35-13_unit_beh_go_cue.pdf\n",
      "Old data, using hopkins formats\n",
      "Old data, using hopkins formats\n",
      "Old data, using hopkins formats\n",
      "Old data, using hopkins formats\n",
      "Old data, using hopkins formats\n",
      "Old data, using hopkins formats\n",
      "Plotting unit TT7_SS_01\n"
     ]
    },
    {
     "name": "stderr",
     "output_type": "stream",
     "text": [
      "/opt/conda/lib/python3.10/site-packages/aind_dynamic_foraging_basic_analysis/plot/plot_foraging_session.py:497: UserWarning: This figure includes Axes that are not compatible with tight_layout, so results might be incorrect.\n",
      "  plt.tight_layout()\n"
     ]
    },
    {
     "name": "stdout",
     "output_type": "stream",
     "text": [
      "Old data, using hopkins formats\n",
      "Combining behavior_ZS062_2021-04-13_19-35-13\n",
      "Processing 2 files in /root/capsule/scratch/ZS062/behavior_ZS062_2021-04-13_19-35-13/ephys/curated/figures/response\n",
      "Combined PDF saved as: /root/capsule/scratch/ZS062/behavior_ZS062_2021-04-13_19-35-13/ephys/curated/behavior_ZS062_2021-04-13_19-35-13_unit_beh_response.pdf\n",
      "Processed behavior_ZS062_2021-04-13_19-35-13\n",
      "Old data, using hopkins formats\n",
      "Old data, using hopkins formats\n",
      "Old data, using hopkins formats\n",
      "Old data, using hopkins formats\n",
      "Old data, using hopkins formats\n",
      "Old data, using hopkins formats\n",
      "Old data, using hopkins formats\n",
      "Old data, using hopkins formats\n",
      "Old data, using hopkins formats\n",
      "Plotting unit TT1_SS_01\n"
     ]
    },
    {
     "name": "stderr",
     "output_type": "stream",
     "text": [
      "/opt/conda/lib/python3.10/site-packages/aind_dynamic_foraging_basic_analysis/plot/plot_foraging_session.py:497: UserWarning: This figure includes Axes that are not compatible with tight_layout, so results might be incorrect.\n",
      "  plt.tight_layout()\n"
     ]
    },
    {
     "name": "stdout",
     "output_type": "stream",
     "text": [
      "Old data, using hopkins formats\n",
      "Combining behavior_ZS062_2021-04-14_17-07-51\n",
      "Processing 2 files in /root/capsule/scratch/ZS062/behavior_ZS062_2021-04-14_17-07-51/ephys/curated/figures/go_cue\n",
      "Combined PDF saved as: /root/capsule/scratch/ZS062/behavior_ZS062_2021-04-14_17-07-51/ephys/curated/behavior_ZS062_2021-04-14_17-07-51_unit_beh_go_cue.pdf\n",
      "Old data, using hopkins formats\n",
      "Old data, using hopkins formats\n",
      "Old data, using hopkins formats\n",
      "Old data, using hopkins formats\n",
      "Old data, using hopkins formats\n",
      "Old data, using hopkins formats\n",
      "Plotting unit TT1_SS_01\n"
     ]
    },
    {
     "name": "stderr",
     "output_type": "stream",
     "text": [
      "/opt/conda/lib/python3.10/site-packages/aind_dynamic_foraging_basic_analysis/plot/plot_foraging_session.py:497: UserWarning: This figure includes Axes that are not compatible with tight_layout, so results might be incorrect.\n",
      "  plt.tight_layout()\n"
     ]
    },
    {
     "name": "stdout",
     "output_type": "stream",
     "text": [
      "Old data, using hopkins formats\n",
      "Combining behavior_ZS062_2021-04-14_17-07-51\n",
      "Processing 2 files in /root/capsule/scratch/ZS062/behavior_ZS062_2021-04-14_17-07-51/ephys/curated/figures/response\n",
      "Combined PDF saved as: /root/capsule/scratch/ZS062/behavior_ZS062_2021-04-14_17-07-51/ephys/curated/behavior_ZS062_2021-04-14_17-07-51_unit_beh_response.pdf\n",
      "Processed behavior_ZS062_2021-04-14_17-07-51\n",
      "Old data, using hopkins formats\n",
      "No raw session directory found for behavior_ZS062_2021-04-09_19-27-26.\n",
      "Old data, using hopkins formats\n",
      "No raw session directory found for behavior_ZS062_2021-04-09_19-27-26.\n",
      "Old data, using hopkins formats\n",
      "No raw session directory found for behavior_ZS062_2021-04-09_19-27-26.\n",
      "Old data, using hopkins formats\n",
      "No raw session directory found for behavior_ZS062_2021-04-09_19-27-26.\n",
      "Old data, using hopkins formats\n",
      "No raw session directory found for behavior_ZS062_2021-04-09_19-27-26.\n",
      "Old data, using hopkins formats\n",
      "No raw session directory found for behavior_ZS062_2021-04-09_19-27-26.\n",
      "Old data, using hopkins formats\n",
      "No raw session directory found for behavior_ZS062_2021-04-09_19-27-26.\n",
      "Old data, using hopkins formats\n",
      "No raw session directory found for behavior_ZS062_2021-04-09_19-27-26.\n",
      "Old data, using hopkins formats\n",
      "No raw session directory found for behavior_ZS062_2021-04-09_19-27-26.\n",
      "Plotting unit TT1_SS_02\n"
     ]
    },
    {
     "name": "stderr",
     "output_type": "stream",
     "text": [
      "/opt/conda/lib/python3.10/site-packages/aind_dynamic_foraging_basic_analysis/plot/plot_foraging_session.py:497: UserWarning: This figure includes Axes that are not compatible with tight_layout, so results might be incorrect.\n",
      "  plt.tight_layout()\n"
     ]
    },
    {
     "name": "stdout",
     "output_type": "stream",
     "text": [
      "Old data, using hopkins formats\n",
      "No raw session directory found for behavior_ZS062_2021-04-09_19-27-26.\n",
      "Combining behavior_ZS062_2021-04-09_19-27-26\n",
      "Processing 2 files in /root/capsule/scratch/ZS062/behavior_ZS062_2021-04-09_19-27-26/ephys/curated/figures/go_cue\n",
      "Combined PDF saved as: /root/capsule/scratch/ZS062/behavior_ZS062_2021-04-09_19-27-26/ephys/curated/behavior_ZS062_2021-04-09_19-27-26_unit_beh_go_cue.pdf\n",
      "Old data, using hopkins formats\n",
      "No raw session directory found for behavior_ZS062_2021-04-09_19-27-26.\n",
      "Old data, using hopkins formats\n",
      "No raw session directory found for behavior_ZS062_2021-04-09_19-27-26.\n",
      "Old data, using hopkins formats\n",
      "No raw session directory found for behavior_ZS062_2021-04-09_19-27-26.\n",
      "Old data, using hopkins formats\n",
      "No raw session directory found for behavior_ZS062_2021-04-09_19-27-26.\n",
      "Old data, using hopkins formats\n",
      "No raw session directory found for behavior_ZS062_2021-04-09_19-27-26.\n",
      "Old data, using hopkins formats\n",
      "No raw session directory found for behavior_ZS062_2021-04-09_19-27-26.\n",
      "Plotting unit TT1_SS_02\n"
     ]
    },
    {
     "name": "stderr",
     "output_type": "stream",
     "text": [
      "/opt/conda/lib/python3.10/site-packages/aind_dynamic_foraging_basic_analysis/plot/plot_foraging_session.py:497: UserWarning: This figure includes Axes that are not compatible with tight_layout, so results might be incorrect.\n",
      "  plt.tight_layout()\n"
     ]
    },
    {
     "name": "stdout",
     "output_type": "stream",
     "text": [
      "Old data, using hopkins formats\n",
      "No raw session directory found for behavior_ZS062_2021-04-09_19-27-26.\n",
      "Combining behavior_ZS062_2021-04-09_19-27-26\n",
      "Processing 2 files in /root/capsule/scratch/ZS062/behavior_ZS062_2021-04-09_19-27-26/ephys/curated/figures/response\n",
      "Combined PDF saved as: /root/capsule/scratch/ZS062/behavior_ZS062_2021-04-09_19-27-26/ephys/curated/behavior_ZS062_2021-04-09_19-27-26_unit_beh_response.pdf\n",
      "Processed behavior_ZS062_2021-04-09_19-27-26\n",
      "Old data, using hopkins formats\n",
      "Old data, using hopkins formats\n",
      "Old data, using hopkins formats\n",
      "Old data, using hopkins formats\n",
      "Old data, using hopkins formats\n",
      "Old data, using hopkins formats\n",
      "Old data, using hopkins formats\n",
      "Old data, using hopkins formats\n",
      "Old data, using hopkins formats\n",
      "Old data, using hopkins formats\n",
      "Plotting unit TT1_SS_01\n",
      "Plotting unit TT7_SS_01\n"
     ]
    },
    {
     "name": "stderr",
     "output_type": "stream",
     "text": [
      "/opt/conda/lib/python3.10/site-packages/aind_dynamic_foraging_basic_analysis/plot/plot_foraging_session.py:497: UserWarning: This figure includes Axes that are not compatible with tight_layout, so results might be incorrect.\n",
      "  plt.tight_layout()\n",
      "/opt/conda/lib/python3.10/site-packages/aind_dynamic_foraging_basic_analysis/plot/plot_foraging_session.py:497: UserWarning: This figure includes Axes that are not compatible with tight_layout, so results might be incorrect.\n",
      "  plt.tight_layout()\n"
     ]
    },
    {
     "name": "stdout",
     "output_type": "stream",
     "text": [
      "Old data, using hopkins formats\n",
      "Combining behavior_ZS062_2021-04-17_18-06-40\n",
      "Processing 3 files in /root/capsule/scratch/ZS062/behavior_ZS062_2021-04-17_18-06-40/ephys/curated/figures/go_cue\n",
      "Combined PDF saved as: /root/capsule/scratch/ZS062/behavior_ZS062_2021-04-17_18-06-40/ephys/curated/behavior_ZS062_2021-04-17_18-06-40_unit_beh_go_cue.pdf\n",
      "Old data, using hopkins formats\n",
      "Old data, using hopkins formats\n",
      "Old data, using hopkins formats\n",
      "Old data, using hopkins formats\n",
      "Old data, using hopkins formats\n",
      "Old data, using hopkins formats\n",
      "Old data, using hopkins formats\n",
      "Plotting unit TT1_SS_01\n",
      "Plotting unit TT7_SS_01\n"
     ]
    },
    {
     "name": "stderr",
     "output_type": "stream",
     "text": [
      "/opt/conda/lib/python3.10/site-packages/aind_dynamic_foraging_basic_analysis/plot/plot_foraging_session.py:497: UserWarning: This figure includes Axes that are not compatible with tight_layout, so results might be incorrect.\n",
      "  plt.tight_layout()\n",
      "/opt/conda/lib/python3.10/site-packages/aind_dynamic_foraging_basic_analysis/plot/plot_foraging_session.py:497: UserWarning: This figure includes Axes that are not compatible with tight_layout, so results might be incorrect.\n",
      "  plt.tight_layout()\n"
     ]
    },
    {
     "name": "stdout",
     "output_type": "stream",
     "text": [
      "Old data, using hopkins formats\n",
      "Combining behavior_ZS062_2021-04-17_18-06-40\n",
      "Processing 3 files in /root/capsule/scratch/ZS062/behavior_ZS062_2021-04-17_18-06-40/ephys/curated/figures/response\n",
      "Combined PDF saved as: /root/capsule/scratch/ZS062/behavior_ZS062_2021-04-17_18-06-40/ephys/curated/behavior_ZS062_2021-04-17_18-06-40_unit_beh_response.pdf\n",
      "Processed behavior_ZS062_2021-04-17_18-06-40\n",
      "Old data, using hopkins formats\n",
      "Old data, using hopkins formats\n",
      "Old data, using hopkins formats\n",
      "Old data, using hopkins formats\n",
      "Old data, using hopkins formats\n",
      "Old data, using hopkins formats\n",
      "Old data, using hopkins formats\n",
      "Old data, using hopkins formats\n",
      "Old data, using hopkins formats\n",
      "Old data, using hopkins formats\n",
      "Plotting unit TT1_SS_01\n",
      "Plotting unit TT7_SS_01\n"
     ]
    },
    {
     "name": "stderr",
     "output_type": "stream",
     "text": [
      "/opt/conda/lib/python3.10/site-packages/aind_dynamic_foraging_basic_analysis/plot/plot_foraging_session.py:497: UserWarning: This figure includes Axes that are not compatible with tight_layout, so results might be incorrect.\n",
      "  plt.tight_layout()\n",
      "/opt/conda/lib/python3.10/site-packages/aind_dynamic_foraging_basic_analysis/plot/plot_foraging_session.py:497: UserWarning: This figure includes Axes that are not compatible with tight_layout, so results might be incorrect.\n",
      "  plt.tight_layout()\n"
     ]
    },
    {
     "name": "stdout",
     "output_type": "stream",
     "text": [
      "Old data, using hopkins formats\n",
      "Combining behavior_ZS062_2021-04-18_19-52-39\n",
      "Processing 3 files in /root/capsule/scratch/ZS062/behavior_ZS062_2021-04-18_19-52-39/ephys/curated/figures/go_cue\n",
      "Combined PDF saved as: /root/capsule/scratch/ZS062/behavior_ZS062_2021-04-18_19-52-39/ephys/curated/behavior_ZS062_2021-04-18_19-52-39_unit_beh_go_cue.pdf\n",
      "Old data, using hopkins formats\n",
      "Old data, using hopkins formats\n",
      "Old data, using hopkins formats\n",
      "Old data, using hopkins formats\n",
      "Old data, using hopkins formats\n",
      "Old data, using hopkins formats\n",
      "Old data, using hopkins formats\n",
      "Plotting unit TT1_SS_01\n",
      "Plotting unit TT7_SS_01\n"
     ]
    },
    {
     "name": "stderr",
     "output_type": "stream",
     "text": [
      "/opt/conda/lib/python3.10/site-packages/aind_dynamic_foraging_basic_analysis/plot/plot_foraging_session.py:497: UserWarning: This figure includes Axes that are not compatible with tight_layout, so results might be incorrect.\n",
      "  plt.tight_layout()\n",
      "/opt/conda/lib/python3.10/site-packages/aind_dynamic_foraging_basic_analysis/plot/plot_foraging_session.py:497: UserWarning: This figure includes Axes that are not compatible with tight_layout, so results might be incorrect.\n",
      "  plt.tight_layout()\n"
     ]
    },
    {
     "name": "stdout",
     "output_type": "stream",
     "text": [
      "Old data, using hopkins formats\n",
      "Combining behavior_ZS062_2021-04-18_19-52-39\n",
      "Processing 3 files in /root/capsule/scratch/ZS062/behavior_ZS062_2021-04-18_19-52-39/ephys/curated/figures/response\n",
      "Combined PDF saved as: /root/capsule/scratch/ZS062/behavior_ZS062_2021-04-18_19-52-39/ephys/curated/behavior_ZS062_2021-04-18_19-52-39_unit_beh_response.pdf\n",
      "Processed behavior_ZS062_2021-04-18_19-52-39\n",
      "Old data, using hopkins formats\n",
      "No raw session directory found for behavior_ZS062_2021-04-10_19-16-30.\n",
      "Old data, using hopkins formats\n",
      "No raw session directory found for behavior_ZS062_2021-04-10_19-16-30.\n",
      "Old data, using hopkins formats\n",
      "No raw session directory found for behavior_ZS062_2021-04-10_19-16-30.\n",
      "Old data, using hopkins formats\n",
      "No raw session directory found for behavior_ZS062_2021-04-10_19-16-30.\n",
      "Old data, using hopkins formats\n",
      "No raw session directory found for behavior_ZS062_2021-04-10_19-16-30.\n",
      "Old data, using hopkins formats\n",
      "No raw session directory found for behavior_ZS062_2021-04-10_19-16-30.\n",
      "Old data, using hopkins formats\n",
      "No raw session directory found for behavior_ZS062_2021-04-10_19-16-30.\n",
      "Old data, using hopkins formats\n",
      "No raw session directory found for behavior_ZS062_2021-04-10_19-16-30.\n",
      "Old data, using hopkins formats\n",
      "Old data, using hopkins formats\n",
      "No raw session directory found for behavior_ZS062_2021-04-10_19-16-30.\n",
      "Plotting unit TT1_SS_02\n",
      "No raw session directory found for behavior_ZS062_2021-04-10_19-16-30.\n",
      "Plotting unit TT7_SS_01\n"
     ]
    },
    {
     "name": "stderr",
     "output_type": "stream",
     "text": [
      "/opt/conda/lib/python3.10/site-packages/aind_dynamic_foraging_basic_analysis/plot/plot_foraging_session.py:497: UserWarning: This figure includes Axes that are not compatible with tight_layout, so results might be incorrect.\n",
      "  plt.tight_layout()\n",
      "/opt/conda/lib/python3.10/site-packages/aind_dynamic_foraging_basic_analysis/plot/plot_foraging_session.py:497: UserWarning: This figure includes Axes that are not compatible with tight_layout, so results might be incorrect.\n",
      "  plt.tight_layout()\n"
     ]
    },
    {
     "name": "stdout",
     "output_type": "stream",
     "text": [
      "Old data, using hopkins formats\n",
      "No raw session directory found for behavior_ZS062_2021-04-10_19-16-30.\n",
      "Combining behavior_ZS062_2021-04-10_19-16-30\n",
      "Processing 3 files in /root/capsule/scratch/ZS062/behavior_ZS062_2021-04-10_19-16-30/ephys/curated/figures/go_cue\n",
      "Combined PDF saved as: /root/capsule/scratch/ZS062/behavior_ZS062_2021-04-10_19-16-30/ephys/curated/behavior_ZS062_2021-04-10_19-16-30_unit_beh_go_cue.pdf\n",
      "Old data, using hopkins formats\n",
      "No raw session directory found for behavior_ZS062_2021-04-10_19-16-30.\n",
      "Old data, using hopkins formats\n",
      "No raw session directory found for behavior_ZS062_2021-04-10_19-16-30.\n",
      "Old data, using hopkins formats\n",
      "No raw session directory found for behavior_ZS062_2021-04-10_19-16-30.\n",
      "Old data, using hopkins formats\n",
      "No raw session directory found for behavior_ZS062_2021-04-10_19-16-30.\n",
      "Old data, using hopkins formats\n",
      "No raw session directory found for behavior_ZS062_2021-04-10_19-16-30.\n",
      "Old data, using hopkins formats\n",
      "Old data, using hopkins formats\n",
      "No raw session directory found for behavior_ZS062_2021-04-10_19-16-30.\n",
      "Plotting unit TT1_SS_02\n",
      "No raw session directory found for behavior_ZS062_2021-04-10_19-16-30.\n",
      "Plotting unit TT7_SS_01\n"
     ]
    },
    {
     "name": "stderr",
     "output_type": "stream",
     "text": [
      "/opt/conda/lib/python3.10/site-packages/aind_dynamic_foraging_basic_analysis/plot/plot_foraging_session.py:497: UserWarning: This figure includes Axes that are not compatible with tight_layout, so results might be incorrect.\n",
      "  plt.tight_layout()\n",
      "/opt/conda/lib/python3.10/site-packages/aind_dynamic_foraging_basic_analysis/plot/plot_foraging_session.py:497: UserWarning: This figure includes Axes that are not compatible with tight_layout, so results might be incorrect.\n",
      "  plt.tight_layout()\n"
     ]
    },
    {
     "name": "stdout",
     "output_type": "stream",
     "text": [
      "Old data, using hopkins formats\n",
      "No raw session directory found for behavior_ZS062_2021-04-10_19-16-30.\n",
      "Combining behavior_ZS062_2021-04-10_19-16-30\n",
      "Processing 3 files in /root/capsule/scratch/ZS062/behavior_ZS062_2021-04-10_19-16-30/ephys/curated/figures/response\n",
      "Combined PDF saved as: /root/capsule/scratch/ZS062/behavior_ZS062_2021-04-10_19-16-30/ephys/curated/behavior_ZS062_2021-04-10_19-16-30_unit_beh_response.pdf\n",
      "Processed behavior_ZS062_2021-04-10_19-16-30\n",
      "Old data, using hopkins formats\n",
      "Old data, using hopkins formats\n",
      "Old data, using hopkins formats\n",
      "Old data, using hopkins formats\n",
      "Old data, using hopkins formats\n",
      "Old data, using hopkins formats\n",
      "Old data, using hopkins formats\n",
      "Old data, using hopkins formats\n",
      "Old data, using hopkins formats\n",
      "Old data, using hopkins formats\n",
      "Plotting unit TT1_SS_01\n",
      "Plotting unit TT7_SS_01\n"
     ]
    },
    {
     "name": "stderr",
     "output_type": "stream",
     "text": [
      "/opt/conda/lib/python3.10/site-packages/aind_dynamic_foraging_basic_analysis/plot/plot_foraging_session.py:497: UserWarning: This figure includes Axes that are not compatible with tight_layout, so results might be incorrect.\n",
      "  plt.tight_layout()\n",
      "/opt/conda/lib/python3.10/site-packages/aind_dynamic_foraging_basic_analysis/plot/plot_foraging_session.py:497: UserWarning: This figure includes Axes that are not compatible with tight_layout, so results might be incorrect.\n",
      "  plt.tight_layout()\n"
     ]
    },
    {
     "name": "stdout",
     "output_type": "stream",
     "text": [
      "Old data, using hopkins formats\n",
      "Combining behavior_ZS062_2021-04-19_19-36-48\n",
      "Processing 3 files in /root/capsule/scratch/ZS062/behavior_ZS062_2021-04-19_19-36-48/ephys/curated/figures/go_cue\n",
      "Combined PDF saved as: /root/capsule/scratch/ZS062/behavior_ZS062_2021-04-19_19-36-48/ephys/curated/behavior_ZS062_2021-04-19_19-36-48_unit_beh_go_cue.pdf\n",
      "Old data, using hopkins formats\n",
      "Old data, using hopkins formats\n",
      "Old data, using hopkins formats\n",
      "Old data, using hopkins formats\n",
      "Old data, using hopkins formats\n",
      "Old data, using hopkins formats\n",
      "Old data, using hopkins formats\n",
      "Plotting unit TT1_SS_01\n",
      "Plotting unit TT7_SS_01\n"
     ]
    },
    {
     "name": "stderr",
     "output_type": "stream",
     "text": [
      "/opt/conda/lib/python3.10/site-packages/aind_dynamic_foraging_basic_analysis/plot/plot_foraging_session.py:497: UserWarning: This figure includes Axes that are not compatible with tight_layout, so results might be incorrect.\n",
      "  plt.tight_layout()\n",
      "/opt/conda/lib/python3.10/site-packages/aind_dynamic_foraging_basic_analysis/plot/plot_foraging_session.py:497: UserWarning: This figure includes Axes that are not compatible with tight_layout, so results might be incorrect.\n",
      "  plt.tight_layout()\n"
     ]
    },
    {
     "name": "stdout",
     "output_type": "stream",
     "text": [
      "Old data, using hopkins formats\n",
      "Combining behavior_ZS062_2021-04-19_19-36-48\n",
      "Processing 3 files in /root/capsule/scratch/ZS062/behavior_ZS062_2021-04-19_19-36-48/ephys/curated/figures/response\n",
      "Combined PDF saved as: /root/capsule/scratch/ZS062/behavior_ZS062_2021-04-19_19-36-48/ephys/curated/behavior_ZS062_2021-04-19_19-36-48_unit_beh_response.pdf\n",
      "Processed behavior_ZS062_2021-04-19_19-36-48\n"
     ]
    }
   ],
   "source": [
    "for session_id  in session_ids:\n",
    "    session_dir = session_dirs(session_id);\n",
    "    if os.path.exists(session_dir['nwb_dir_raw']):\n",
    "        process(session_id)"
   ]
  },
  {
   "cell_type": "code",
   "execution_count": 4,
   "metadata": {},
   "outputs": [
    {
     "name": "stdout",
     "output_type": "stream",
     "text": [
      "Old data, using hopkins formats\n",
      "Old data, using hopkins formats\n",
      "Old data, using hopkins formats\n",
      "Old data, using hopkins formats\n",
      "Old data, using hopkins formats\n",
      "Old data, using hopkins formats\n",
      "Old data, using hopkins formats\n",
      "Old data, using hopkins formats\n",
      "Old data, using hopkins formats\n",
      "Old data, using hopkins formats\n",
      "Old data, using hopkins formats\n",
      "Old data, using hopkins formats\n",
      "Old data, using hopkins formats\n",
      "Old data, using hopkins formats\n",
      "Old data, using hopkins formats\n",
      "Old data, using hopkins formats\n",
      "Old data, using hopkins formats\n",
      "Old data, using hopkins formats\n",
      "No unit table found for behavior_ZS059_2021-04-02_15-05-16 in curated data.\n",
      "Old data, using hopkins formats\n",
      "Old data, using hopkins formats\n",
      "Old data, using hopkins formats\n",
      "Old data, using hopkins formats\n",
      "Old data, using hopkins formats\n",
      "Old data, using hopkins formats\n",
      "Old data, using hopkins formats\n",
      "No unit table found for behavior_ZS059_2021-04-05_14-33-48 in curated data.\n",
      "Old data, using hopkins formats\n",
      "Old data, using hopkins formats\n",
      "Old data, using hopkins formats\n",
      "Old data, using hopkins formats\n",
      "Old data, using hopkins formats\n",
      "Old data, using hopkins formats\n",
      "Old data, using hopkins formats\n",
      "Old data, using hopkins formats\n",
      "Old data, using hopkins formats\n",
      "Old data, using hopkins formats\n",
      "Old data, using hopkins formats\n",
      "Old data, using hopkins formats\n",
      "Old data, using hopkins formats\n",
      "Old data, using hopkins formats\n",
      "Old data, using hopkins formats\n",
      "Old data, using hopkins formats\n",
      "Old data, using hopkins formats\n",
      "Old data, using hopkins formats\n",
      "Old data, using hopkins formats\n",
      "Old data, using hopkins formats\n",
      "Old data, using hopkins formats\n",
      "Old data, using hopkins formats\n",
      "No unit table found for behavior_ZS059_2021-04-04_15-23-14 in curated data.\n",
      "Old data, using hopkins formats\n",
      "Old data, using hopkins formats\n",
      "Old data, using hopkins formats\n",
      "No unit table found for behavior_ZS059_2021-04-03_16-30-45 in curated data.\n",
      "Old data, using hopkins formats\n",
      "No unit table found for behavior_ZS059_2021-04-07_13-58-21 in curated data.\n",
      "Old data, using hopkins formats\n",
      "Old data, using hopkins formats\n",
      "Old data, using hopkins formats\n",
      "Old data, using hopkins formats\n",
      "Old data, using hopkins formats\n",
      "Old data, using hopkins formats\n",
      "Old data, using hopkins formats\n",
      "Old data, using hopkins formats\n",
      "Old data, using hopkins formats\n",
      "Old data, using hopkins formats\n",
      "Old data, using hopkins formats\n",
      "Old data, using hopkins formats\n",
      "Old data, using hopkins formats\n",
      "Old data, using hopkins formats\n",
      "No unit table found for behavior_ZS059_2021-04-17_15-44-53 in curated data.\n",
      "Old data, using hopkins formats\n",
      "Old data, using hopkins formats\n",
      "Old data, using hopkins formats\n",
      "No unit table found for behavior_ZS059_2021-04-14_14-51-04 in curated data.\n",
      "Old data, using hopkins formats\n",
      "Old data, using hopkins formats\n",
      "No unit table found for behavior_ZS059_2021-04-16_14-50-15 in curated data.\n",
      "Old data, using hopkins formats\n",
      "Old data, using hopkins formats\n",
      "Old data, using hopkins formats\n",
      "Old data, using hopkins formats\n",
      "Old data, using hopkins formats\n",
      "No raw session directory found for behavior_ZS059_2021-04-18_17-26-19.\n",
      "Old data, using hopkins formats\n",
      "Old data, using hopkins formats\n",
      "No unit table found for behavior_ZS059_2021-04-19_14-42-16 in curated data.\n",
      "Old data, using hopkins formats\n",
      "Old data, using hopkins formats\n",
      "Old data, using hopkins formats\n",
      "Old data, using hopkins formats\n",
      "No raw session directory found for behavior_ZS059_2021-04-18_17-26-19.\n",
      "No unit table found for behavior_ZS059_2021-04-18_17-26-19 in curated data.\n",
      "Old data, using hopkins formats\n",
      "Old data, using hopkins formats\n",
      "Old data, using hopkins formats\n",
      "Old data, using hopkins formats\n",
      "Old data, using hopkins formats\n",
      "Old data, using hopkins formats\n",
      "Old data, using hopkins formats\n",
      "Old data, using hopkins formats\n",
      "Old data, using hopkins formats\n",
      "Old data, using hopkins formats\n",
      "Old data, using hopkins formats\n",
      "Old data, using hopkins formats\n",
      "Old data, using hopkins formats\n",
      "Old data, using hopkins formats\n",
      "Old data, using hopkins formats\n",
      "No unit table found for behavior_ZS059_2021-04-24_15-38-10 in curated data.\n",
      "Old data, using hopkins formats\n",
      "Old data, using hopkins formats\n",
      "Old data, using hopkins formats\n",
      "Old data, using hopkins formats\n",
      "Old data, using hopkins formats\n",
      "Old data, using hopkins formats\n",
      "Old data, using hopkins formats\n",
      "Old data, using hopkins formats\n",
      "Old data, using hopkins formats\n",
      "Old data, using hopkins formats\n",
      "Old data, using hopkins formats\n",
      "Old data, using hopkins formats\n",
      "Old data, using hopkins formats\n",
      "Old data, using hopkins formats\n",
      "Old data, using hopkins formats\n",
      "Old data, using hopkins formats\n",
      "Old data, using hopkins formats\n",
      "Old data, using hopkins formats\n",
      "Old data, using hopkins formats\n",
      "Plotting unit TT4_SS_01\n",
      "Old data, using hopkins formatsOld data, using hopkins formats\n",
      "\n",
      "Old data, using hopkins formats\n",
      "Plotting unit TT4_SS_02\n",
      "Plotting unit TT4_SS_01\n",
      "Old data, using hopkins formats\n",
      "Old data, using hopkins formats\n",
      "Old data, using hopkins formats\n",
      "Old data, using hopkins formats\n",
      "Plotting unit TT4_SS_01\n",
      "Old data, using hopkins formats\n",
      "Old data, using hopkins formats\n",
      "Old data, using hopkins formats\n",
      "Old data, using hopkins formats\n",
      "Old data, using hopkins formats\n",
      "Old data, using hopkins formats\n",
      "Old data, using hopkins formats\n",
      "Old data, using hopkins formatsOld data, using hopkins formats\n",
      "\n",
      "Old data, using hopkins formats\n",
      "Plotting unit TT4_SS_02\n",
      "Plotting unit TT4_SS_01\n",
      "Plotting unit TT4_SS_01\n",
      "Old data, using hopkins formats\n",
      "Old data, using hopkins formats\n",
      "Old data, using hopkins formats\n",
      "Plotting unit TT4_SS_01\n",
      "Plotting unit TT4_SS_04\n",
      "Plotting unit TT4_SS_01\n",
      "Old data, using hopkins formats\n",
      "Plotting unit TT4_SS_01\n",
      "Old data, using hopkins formats\n",
      "Old data, using hopkins formats\n",
      "Old data, using hopkins formats\n",
      "Old data, using hopkins formats\n",
      "Plotting unit TT4_SS_01\n",
      "Plotting unit TT4_SS_01\n",
      "Old data, using hopkins formats\n",
      "Old data, using hopkins formats\n",
      "Old data, using hopkins formats\n",
      "Old data, using hopkins formatsOld data, using hopkins formats\n",
      "\n",
      "Plotting unit TT4_SS_01\n",
      "Old data, using hopkins formats\n",
      "Old data, using hopkins formats\n",
      "Plotting unit TT4_SS_01\n",
      "Plotting unit TT3_SS_01\n",
      "Old data, using hopkins formats\n",
      "Old data, using hopkins formats\n",
      "Old data, using hopkins formats\n",
      "Plotting unit TT4_SS_01\n"
     ]
    },
    {
     "name": "stderr",
     "output_type": "stream",
     "text": [
      "/opt/conda/lib/python3.10/site-packages/aind_dynamic_foraging_basic_analysis/plot/plot_foraging_session.py:497: UserWarning: This figure includes Axes that are not compatible with tight_layout, so results might be incorrect.\n",
      "  plt.tight_layout()\n"
     ]
    },
    {
     "name": "stdout",
     "output_type": "stream",
     "text": [
      "Old data, using hopkins formats\n",
      "Plotting unit TT3_SS_01\n",
      "Old data, using hopkins formats\n",
      "Old data, using hopkins formats\n",
      "Plotting unit TT4_SS_02\n"
     ]
    },
    {
     "name": "stderr",
     "output_type": "stream",
     "text": [
      "/opt/conda/lib/python3.10/site-packages/aind_dynamic_foraging_basic_analysis/plot/plot_foraging_session.py:497: UserWarning: This figure includes Axes that are not compatible with tight_layout, so results might be incorrect.\n",
      "  plt.tight_layout()\n",
      "/opt/conda/lib/python3.10/site-packages/aind_dynamic_foraging_basic_analysis/plot/plot_foraging_session.py:497: UserWarning: This figure includes Axes that are not compatible with tight_layout, so results might be incorrect.\n",
      "  plt.tight_layout()\n",
      "/opt/conda/lib/python3.10/site-packages/aind_dynamic_foraging_basic_analysis/plot/plot_foraging_session.py:497: UserWarning: This figure includes Axes that are not compatible with tight_layout, so results might be incorrect.\n",
      "  plt.tight_layout()\n",
      "/opt/conda/lib/python3.10/site-packages/aind_dynamic_foraging_basic_analysis/plot/plot_foraging_session.py:497: UserWarning: This figure includes Axes that are not compatible with tight_layout, so results might be incorrect.\n",
      "  plt.tight_layout()\n",
      "/opt/conda/lib/python3.10/site-packages/aind_dynamic_foraging_basic_analysis/plot/plot_foraging_session.py:497: UserWarning: This figure includes Axes that are not compatible with tight_layout, so results might be incorrect.\n",
      "  plt.tight_layout()\n",
      "/opt/conda/lib/python3.10/site-packages/aind_dynamic_foraging_basic_analysis/plot/plot_foraging_session.py:497: UserWarning: This figure includes Axes that are not compatible with tight_layout, so results might be incorrect.\n",
      "  plt.tight_layout()\n",
      "/opt/conda/lib/python3.10/site-packages/aind_dynamic_foraging_basic_analysis/plot/plot_foraging_session.py:497: UserWarning: This figure includes Axes that are not compatible with tight_layout, so results might be incorrect.\n",
      "  plt.tight_layout()\n",
      "/opt/conda/lib/python3.10/site-packages/aind_dynamic_foraging_basic_analysis/plot/plot_foraging_session.py:497: UserWarning: This figure includes Axes that are not compatible with tight_layout, so results might be incorrect.\n",
      "  plt.tight_layout()\n",
      "/opt/conda/lib/python3.10/site-packages/aind_dynamic_foraging_basic_analysis/plot/plot_foraging_session.py:497: UserWarning: This figure includes Axes that are not compatible with tight_layout, so results might be incorrect.\n",
      "  plt.tight_layout()\n",
      "/opt/conda/lib/python3.10/site-packages/aind_dynamic_foraging_basic_analysis/plot/plot_foraging_session.py:497: UserWarning: This figure includes Axes that are not compatible with tight_layout, so results might be incorrect.\n",
      "  plt.tight_layout()\n",
      "/opt/conda/lib/python3.10/site-packages/aind_dynamic_foraging_basic_analysis/plot/plot_foraging_session.py:497: UserWarning: This figure includes Axes that are not compatible with tight_layout, so results might be incorrect.\n",
      "  plt.tight_layout()\n",
      "/opt/conda/lib/python3.10/site-packages/aind_dynamic_foraging_basic_analysis/plot/plot_foraging_session.py:497: UserWarning: This figure includes Axes that are not compatible with tight_layout, so results might be incorrect.\n",
      "  plt.tight_layout()\n",
      "/opt/conda/lib/python3.10/site-packages/aind_dynamic_foraging_basic_analysis/plot/plot_foraging_session.py:497: UserWarning: This figure includes Axes that are not compatible with tight_layout, so results might be incorrect.\n",
      "  plt.tight_layout()\n",
      "/opt/conda/lib/python3.10/site-packages/aind_dynamic_foraging_basic_analysis/plot/plot_foraging_session.py:497: UserWarning: This figure includes Axes that are not compatible with tight_layout, so results might be incorrect.\n",
      "  plt.tight_layout()\n",
      "/opt/conda/lib/python3.10/site-packages/aind_dynamic_foraging_basic_analysis/plot/plot_foraging_session.py:497: UserWarning: This figure includes Axes that are not compatible with tight_layout, so results might be incorrect.\n",
      "  plt.tight_layout()\n",
      "/opt/conda/lib/python3.10/site-packages/aind_dynamic_foraging_basic_analysis/plot/plot_foraging_session.py:497: UserWarning: This figure includes Axes that are not compatible with tight_layout, so results might be incorrect.\n",
      "  plt.tight_layout()\n"
     ]
    },
    {
     "name": "stdout",
     "output_type": "stream",
     "text": [
      "Old data, using hopkins formats\n",
      "Combining behavior_ZS059_2021-04-12_14-57-43\n",
      "Processing 2 files in /root/capsule/scratch/ZS059/behavior_ZS059_2021-04-12_14-57-43/ephys/curated/figures/go_cue\n"
     ]
    },
    {
     "name": "stderr",
     "output_type": "stream",
     "text": [
      "/opt/conda/lib/python3.10/site-packages/aind_dynamic_foraging_basic_analysis/plot/plot_foraging_session.py:497: UserWarning: This figure includes Axes that are not compatible with tight_layout, so results might be incorrect.\n",
      "  plt.tight_layout()\n",
      "/opt/conda/lib/python3.10/site-packages/aind_dynamic_foraging_basic_analysis/plot/plot_foraging_session.py:497: UserWarning: This figure includes Axes that are not compatible with tight_layout, so results might be incorrect.\n",
      "  plt.tight_layout()\n"
     ]
    },
    {
     "name": "stdout",
     "output_type": "stream",
     "text": [
      "Combined PDF saved as: /root/capsule/scratch/ZS059/behavior_ZS059_2021-04-12_14-57-43/ephys/curated/behavior_ZS059_2021-04-12_14-57-43_unit_beh_go_cue.pdf\n",
      "Old data, using hopkins formats\n",
      "Old data, using hopkins formats\n",
      "Old data, using hopkins formats\n",
      "Old data, using hopkins formats\n",
      "Old data, using hopkins formats\n",
      "Old data, using hopkins formats\n",
      "Plotting unit TT4_SS_01\n",
      "Old data, using hopkins formats\n",
      "Combining behavior_ZS059_2021-04-10_15-55-11\n",
      "Processing 2 files in /root/capsule/scratch/ZS059/behavior_ZS059_2021-04-10_15-55-11/ephys/curated/figures/go_cue\n",
      "Old data, using hopkins formats\n",
      "Combining behavior_ZS059_2021-04-09_15-53-45\n",
      "Processing 2 files in /root/capsule/scratch/ZS059/behavior_ZS059_2021-04-09_15-53-45/ephys/curated/figures/go_cue\n"
     ]
    },
    {
     "name": "stderr",
     "output_type": "stream",
     "text": [
      "/opt/conda/lib/python3.10/site-packages/aind_dynamic_foraging_basic_analysis/plot/plot_foraging_session.py:497: UserWarning: This figure includes Axes that are not compatible with tight_layout, so results might be incorrect.\n",
      "  plt.tight_layout()\n"
     ]
    },
    {
     "name": "stdout",
     "output_type": "stream",
     "text": [
      "Old data, using hopkins formats\n",
      "Combining behavior_ZS059_2021-04-11_15-41-45\n",
      "Processing 2 files in /root/capsule/scratch/ZS059/behavior_ZS059_2021-04-11_15-41-45/ephys/curated/figures/go_cue\n",
      "Old data, using hopkins formats\n",
      "Combining behavior_ZS059_2021-04-08_15-53-36\n",
      "Processing 2 files in /root/capsule/scratch/ZS059/behavior_ZS059_2021-04-08_15-53-36/ephys/curated/figures/go_cue\n",
      "Old data, using hopkins formats\n",
      "Combining behavior_ZS059_2021-03-29_14-41-57\n",
      "Processing 2 files in /root/capsule/scratch/ZS059/behavior_ZS059_2021-03-29_14-41-57/ephys/curated/figures/go_cue\n",
      "Old data, using hopkins formats\n",
      "Combining behavior_ZS059_2021-03-31_14-32-51\n",
      "Processing 2 files in /root/capsule/scratch/ZS059/behavior_ZS059_2021-03-31_14-32-51/ephys/curated/figures/go_cue\n",
      "Old data, using hopkins formats\n",
      "Combining behavior_ZS059_2021-04-22_15-11-25\n",
      "Processing 2 files in /root/capsule/scratch/ZS059/behavior_ZS059_2021-04-22_15-11-25/ephys/curated/figures/go_cue\n",
      "Old data, using hopkins formats\n",
      "Combining behavior_ZS059_2021-04-21_15-58-55\n",
      "Processing 2 files in /root/capsule/scratch/ZS059/behavior_ZS059_2021-04-21_15-58-55/ephys/curated/figures/go_cue\n",
      "Old data, using hopkins formats\n",
      "Combining behavior_ZS059_2021-04-01_14-17-46\n",
      "Processing 2 files in /root/capsule/scratch/ZS059/behavior_ZS059_2021-04-01_14-17-46/ephys/curated/figures/go_cue\n",
      "Old data, using hopkins formats\n",
      "Combining behavior_ZS059_2021-04-15_15-29-28\n",
      "Processing 2 files in /root/capsule/scratch/ZS059/behavior_ZS059_2021-04-15_15-29-28/ephys/curated/figures/go_cue\n",
      "Old data, using hopkins formats\n",
      "Combining behavior_ZS059_2021-04-13_15-43-53\n",
      "Processing 2 files in /root/capsule/scratch/ZS059/behavior_ZS059_2021-04-13_15-43-53/ephys/curated/figures/go_cue\n",
      "Combined PDF saved as: /root/capsule/scratch/ZS059/behavior_ZS059_2021-04-09_15-53-45/ephys/curated/behavior_ZS059_2021-04-09_15-53-45_unit_beh_go_cue.pdf\n",
      "Old data, using hopkins formats\n",
      "Old data, using hopkins formats\n",
      "Combined PDF saved as: /root/capsule/scratch/ZS059/behavior_ZS059_2021-04-10_15-55-11/ephys/curated/behavior_ZS059_2021-04-10_15-55-11_unit_beh_go_cue.pdf\n",
      "Old data, using hopkins formats\n",
      "Old data, using hopkins formats\n",
      "Old data, using hopkins formats\n",
      "Combining behavior_ZS059_2021-04-23_14-57-50\n",
      "Processing 2 files in /root/capsule/scratch/ZS059/behavior_ZS059_2021-04-23_14-57-50/ephys/curated/figures/go_cue\n",
      "Combined PDF saved as: /root/capsule/scratch/ZS059/behavior_ZS059_2021-04-11_15-41-45/ephys/curated/behavior_ZS059_2021-04-11_15-41-45_unit_beh_go_cue.pdf\n",
      "Old data, using hopkins formats\n",
      "Old data, using hopkins formats\n",
      "Old data, using hopkins formats\n",
      "Combining behavior_ZS059_2021-04-12_14-57-43\n",
      "Processing 2 files in /root/capsule/scratch/ZS059/behavior_ZS059_2021-04-12_14-57-43/ephys/curated/figures/response\n",
      "Old data, using hopkins formats\n",
      "Combined PDF saved as: /root/capsule/scratch/ZS059/behavior_ZS059_2021-04-08_15-53-36/ephys/curated/behavior_ZS059_2021-04-08_15-53-36_unit_beh_go_cue.pdf\n",
      "Old data, using hopkins formats\n",
      "Old data, using hopkins formats\n",
      "Old data, using hopkins formats\n",
      "Old data, using hopkins formats\n",
      "Old data, using hopkins formats\n",
      "Combined PDF saved as: /root/capsule/scratch/ZS059/behavior_ZS059_2021-03-29_14-41-57/ephys/curated/behavior_ZS059_2021-03-29_14-41-57_unit_beh_go_cue.pdf\n",
      "Old data, using hopkins formats\n",
      "Old data, using hopkins formats\n",
      "Old data, using hopkins formats\n",
      "Old data, using hopkins formats\n",
      "Old data, using hopkins formats\n",
      "Old data, using hopkins formats\n",
      "Old data, using hopkins formats\n",
      "Old data, using hopkins formats\n",
      "Plotting unit TT4_SS_01\n",
      "Old data, using hopkins formats\n",
      "Old data, using hopkins formats\n",
      "Plotting unit TT4_SS_01\n",
      "Old data, using hopkins formats\n",
      "Old data, using hopkins formats\n",
      "Combined PDF saved as: /root/capsule/scratch/ZS059/behavior_ZS059_2021-03-31_14-32-51/ephys/curated/behavior_ZS059_2021-03-31_14-32-51_unit_beh_go_cue.pdf\n",
      "Old data, using hopkins formats\n",
      "Old data, using hopkins formats\n",
      "Old data, using hopkins formats\n",
      "Old data, using hopkins formats\n",
      "Old data, using hopkins formats\n",
      "Plotting unit TT4_SS_01\n",
      "Old data, using hopkins formats\n",
      "Plotting unit TT4_SS_01\n",
      "Combined PDF saved as: /root/capsule/scratch/ZS059/behavior_ZS059_2021-04-22_15-11-25/ephys/curated/behavior_ZS059_2021-04-22_15-11-25_unit_beh_go_cue.pdf\n",
      "Old data, using hopkins formats\n",
      "Old data, using hopkins formats\n",
      "Old data, using hopkins formats\n",
      "Old data, using hopkins formats\n",
      "Old data, using hopkins formats\n",
      "Old data, using hopkins formats\n",
      "Plotting unit TT4_SS_01\n",
      "Combined PDF saved as: /root/capsule/scratch/ZS059/behavior_ZS059_2021-04-01_14-17-46/ephys/curated/behavior_ZS059_2021-04-01_14-17-46_unit_beh_go_cue.pdf\n",
      "Old data, using hopkins formats\n",
      "Old data, using hopkins formats\n",
      "Combined PDF saved as: /root/capsule/scratch/ZS059/behavior_ZS059_2021-04-21_15-58-55/ephys/curated/behavior_ZS059_2021-04-21_15-58-55_unit_beh_go_cue.pdf\n",
      "Old data, using hopkins formats\n",
      "Old data, using hopkins formats\n"
     ]
    },
    {
     "name": "stderr",
     "output_type": "stream",
     "text": [
      "/opt/conda/lib/python3.10/site-packages/aind_dynamic_foraging_basic_analysis/plot/plot_foraging_session.py:497: UserWarning: This figure includes Axes that are not compatible with tight_layout, so results might be incorrect.\n",
      "  plt.tight_layout()\n",
      "/opt/conda/lib/python3.10/site-packages/aind_dynamic_foraging_basic_analysis/plot/plot_foraging_session.py:497: UserWarning: This figure includes Axes that are not compatible with tight_layout, so results might be incorrect.\n",
      "  plt.tight_layout()\n"
     ]
    },
    {
     "name": "stdout",
     "output_type": "stream",
     "text": [
      "Old data, using hopkins formats\n",
      "Old data, using hopkins formats\n",
      "Combined PDF saved as: /root/capsule/scratch/ZS059/behavior_ZS059_2021-04-15_15-29-28/ephys/curated/behavior_ZS059_2021-04-15_15-29-28_unit_beh_go_cue.pdf\n",
      "Old data, using hopkins formats\n",
      "Old data, using hopkins formats\n",
      "Old data, using hopkins formats\n",
      "Old data, using hopkins formats\n",
      "Plotting unit TT4_SS_02\n",
      "Old data, using hopkins formats\n",
      "Old data, using hopkins formats\n",
      "Old data, using hopkins formats\n"
     ]
    },
    {
     "name": "stderr",
     "output_type": "stream",
     "text": [
      "/opt/conda/lib/python3.10/site-packages/aind_dynamic_foraging_basic_analysis/plot/plot_foraging_session.py:497: UserWarning: This figure includes Axes that are not compatible with tight_layout, so results might be incorrect.\n",
      "  plt.tight_layout()\n",
      "/opt/conda/lib/python3.10/site-packages/aind_dynamic_foraging_basic_analysis/plot/plot_foraging_session.py:497: UserWarning: This figure includes Axes that are not compatible with tight_layout, so results might be incorrect.\n",
      "  plt.tight_layout()\n"
     ]
    },
    {
     "name": "stdout",
     "output_type": "stream",
     "text": [
      "Old data, using hopkins formats\n",
      "Combined PDF saved as: /root/capsule/scratch/ZS059/behavior_ZS059_2021-04-13_15-43-53/ephys/curated/behavior_ZS059_2021-04-13_15-43-53_unit_beh_go_cue.pdf\n",
      "Old data, using hopkins formats\n",
      "Combined PDF saved as: /root/capsule/scratch/ZS059/behavior_ZS059_2021-04-12_14-57-43/ephys/curated/behavior_ZS059_2021-04-12_14-57-43_unit_beh_response.pdf\n",
      "Old data, using hopkins formats\n",
      "Processed behavior_ZS059_2021-04-12_14-57-43\n",
      "Old data, using hopkins formats\n",
      "Old data, using hopkins formats\n",
      "Old data, using hopkins formats\n",
      "Old data, using hopkins formats\n",
      "Old data, using hopkins formats\n",
      "Plotting unit TT4_SS_02\n",
      "Old data, using hopkins formats\n",
      "Old data, using hopkins formats\n",
      "Old data, using hopkins formats\n",
      "Old data, using hopkins formats\n",
      "Old data, using hopkins formats\n",
      "Plotting unit TT4_SS_01\n",
      "Old data, using hopkins formats\n",
      "Combined PDF saved as: /root/capsule/scratch/ZS059/behavior_ZS059_2021-04-23_14-57-50/ephys/curated/behavior_ZS059_2021-04-23_14-57-50_unit_beh_go_cue.pdf\n",
      "Old data, using hopkins formats\n",
      "Old data, using hopkins formats\n",
      "Old data, using hopkins formats\n",
      "Old data, using hopkins formats\n",
      "Old data, using hopkins formats\n",
      "Plotting unit TT4_SS_01\n"
     ]
    },
    {
     "name": "stderr",
     "output_type": "stream",
     "text": [
      "/opt/conda/lib/python3.10/site-packages/aind_dynamic_foraging_basic_analysis/plot/plot_foraging_session.py:497: UserWarning: This figure includes Axes that are not compatible with tight_layout, so results might be incorrect.\n",
      "  plt.tight_layout()\n"
     ]
    },
    {
     "name": "stdout",
     "output_type": "stream",
     "text": [
      "Old data, using hopkins formats\n",
      "Old data, using hopkins formats\n",
      "Plotting unit TT4_SS_01\n",
      "Old data, using hopkins formats\n",
      "Old data, using hopkins formats\n",
      "Old data, using hopkins formats\n",
      "Old data, using hopkins formats\n",
      "Old data, using hopkins formats\n"
     ]
    },
    {
     "name": "stderr",
     "output_type": "stream",
     "text": [
      "/opt/conda/lib/python3.10/site-packages/aind_dynamic_foraging_basic_analysis/plot/plot_foraging_session.py:497: UserWarning: This figure includes Axes that are not compatible with tight_layout, so results might be incorrect.\n",
      "  plt.tight_layout()\n"
     ]
    },
    {
     "name": "stdout",
     "output_type": "stream",
     "text": [
      "Old data, using hopkins formats\n",
      "Plotting unit TT4_SS_01\n"
     ]
    },
    {
     "name": "stderr",
     "output_type": "stream",
     "text": [
      "/opt/conda/lib/python3.10/site-packages/aind_dynamic_foraging_basic_analysis/plot/plot_foraging_session.py:497: UserWarning: This figure includes Axes that are not compatible with tight_layout, so results might be incorrect.\n",
      "  plt.tight_layout()\n"
     ]
    },
    {
     "name": "stdout",
     "output_type": "stream",
     "text": [
      "Old data, using hopkins formats\n",
      "Old data, using hopkins formats\n",
      "Old data, using hopkins formats\n",
      "Plotting unit TT5_SS_01\n",
      "Old data, using hopkins formats\n",
      "Plotting unit TT3_SS_01\n"
     ]
    },
    {
     "name": "stderr",
     "output_type": "stream",
     "text": [
      "/opt/conda/lib/python3.10/site-packages/aind_dynamic_foraging_basic_analysis/plot/plot_foraging_session.py:497: UserWarning: This figure includes Axes that are not compatible with tight_layout, so results might be incorrect.\n",
      "  plt.tight_layout()\n",
      "/opt/conda/lib/python3.10/site-packages/aind_dynamic_foraging_basic_analysis/plot/plot_foraging_session.py:497: UserWarning: This figure includes Axes that are not compatible with tight_layout, so results might be incorrect.\n",
      "  plt.tight_layout()\n",
      "/opt/conda/lib/python3.10/site-packages/aind_dynamic_foraging_basic_analysis/plot/plot_foraging_session.py:497: UserWarning: This figure includes Axes that are not compatible with tight_layout, so results might be incorrect.\n",
      "  plt.tight_layout()\n",
      "/opt/conda/lib/python3.10/site-packages/aind_dynamic_foraging_basic_analysis/plot/plot_foraging_session.py:497: UserWarning: This figure includes Axes that are not compatible with tight_layout, so results might be incorrect.\n",
      "  plt.tight_layout()\n",
      "/opt/conda/lib/python3.10/site-packages/aind_dynamic_foraging_basic_analysis/plot/plot_foraging_session.py:497: UserWarning: This figure includes Axes that are not compatible with tight_layout, so results might be incorrect.\n",
      "  plt.tight_layout()\n",
      "/opt/conda/lib/python3.10/site-packages/aind_dynamic_foraging_basic_analysis/plot/plot_foraging_session.py:497: UserWarning: This figure includes Axes that are not compatible with tight_layout, so results might be incorrect.\n",
      "  plt.tight_layout()\n"
     ]
    },
    {
     "name": "stdout",
     "output_type": "stream",
     "text": [
      "Old data, using hopkins formats\n",
      "Combining behavior_ZS059_2021-04-20_14-50-03\n",
      "Processing 3 files in /root/capsule/scratch/ZS059/behavior_ZS059_2021-04-20_14-50-03/ephys/curated/figures/go_cue\n",
      "Old data, using hopkins formats\n",
      "Combining behavior_ZS059_2021-04-10_15-55-11\n",
      "Processing 2 files in /root/capsule/scratch/ZS059/behavior_ZS059_2021-04-10_15-55-11/ephys/curated/figures/response\n",
      "Old data, using hopkins formats\n",
      "Combining behavior_ZS059_2021-04-09_15-53-45\n",
      "Processing 2 files in /root/capsule/scratch/ZS059/behavior_ZS059_2021-04-09_15-53-45/ephys/curated/figures/response\n",
      "Old data, using hopkins formats\n",
      "Combining behavior_ZS059_2021-04-11_15-41-45\n",
      "Processing 2 files in /root/capsule/scratch/ZS059/behavior_ZS059_2021-04-11_15-41-45/ephys/curated/figures/response\n",
      "Old data, using hopkins formats\n",
      "Combining behavior_ZS059_2021-04-08_15-53-36\n",
      "Processing 2 files in /root/capsule/scratch/ZS059/behavior_ZS059_2021-04-08_15-53-36/ephys/curated/figures/response\n",
      "Old data, using hopkins formats\n",
      "Combining behavior_ZS059_2021-03-29_14-41-57\n",
      "Processing 2 files in /root/capsule/scratch/ZS059/behavior_ZS059_2021-03-29_14-41-57/ephys/curated/figures/response\n",
      "Old data, using hopkins formats\n",
      "Combining behavior_ZS059_2021-03-30_14-57-13\n",
      "Processing 3 files in /root/capsule/scratch/ZS059/behavior_ZS059_2021-03-30_14-57-13/ephys/curated/figures/go_cue\n",
      "Old data, using hopkins formats\n",
      "Combining behavior_ZS059_2021-04-22_15-11-25\n",
      "Processing 2 files in /root/capsule/scratch/ZS059/behavior_ZS059_2021-04-22_15-11-25/ephys/curated/figures/response\n",
      "Old data, using hopkins formats\n",
      "Combining behavior_ZS059_2021-04-25_16-22-31\n",
      "Processing 2 files in /root/capsule/scratch/ZS059/behavior_ZS059_2021-04-25_16-22-31/ephys/curated/figures/go_cue\n",
      "Combined PDF saved as: /root/capsule/scratch/ZS059/behavior_ZS059_2021-04-10_15-55-11/ephys/curated/behavior_ZS059_2021-04-10_15-55-11_unit_beh_response.pdf\n",
      "Processed behavior_ZS059_2021-04-10_15-55-11\n",
      "Old data, using hopkins formats\n",
      "Combined PDF saved as: /root/capsule/scratch/ZS059/behavior_ZS059_2021-04-09_15-53-45/ephys/curated/behavior_ZS059_2021-04-09_15-53-45_unit_beh_response.pdf\n",
      "Old data, using hopkins formats\n",
      "No unit table found for behavior_ZS059_2021-04-26_14-44-03 in curated data.\n",
      "Old data, using hopkins formats\n",
      "Processed behavior_ZS059_2021-04-09_15-53-45\n",
      "Old data, using hopkins formats\n",
      "No unit table found for behavior_ZS059_2021-04-27_15-12-43 in curated data.\n",
      "Old data, using hopkins formats\n",
      "Old data, using hopkins formats\n",
      "Old data, using hopkins formats\n",
      "Combining behavior_ZS059_2021-03-31_14-32-51\n",
      "Old data, using hopkins formats\n",
      "No unit table found for behavior_ZS059_2021-04-28_14-00-12 in curated data.\n",
      "Old data, using hopkins formats\n",
      "Processing 2 files in /root/capsule/scratch/ZS059/behavior_ZS059_2021-03-31_14-32-51/ephys/curated/figures/response\n",
      "Old data, using hopkins formats\n",
      "No unit table found for behavior_ZS059_2021-04-29_14-02-45 in curated data.\n",
      "Old data, using hopkins formats\n",
      "Old data, using hopkins formats\n",
      "Old data, using hopkins formats\n",
      "Old data, using hopkins formats\n",
      "Old data, using hopkins formats\n",
      "No unit table found for behavior_ZS059_2021-03-24_14-22-04 in curated data.\n",
      "Old data, using hopkins formats\n",
      "Combined PDF saved as: /root/capsule/scratch/ZS059/behavior_ZS059_2021-04-11_15-41-45/ephys/curated/behavior_ZS059_2021-04-11_15-41-45_unit_beh_response.pdf\n",
      "Processed behavior_ZS059_2021-04-11_15-41-45\n",
      "Old data, using hopkins formats\n",
      "Combining behavior_ZS059_2021-04-21_15-58-55\n",
      "Processing 2 files in /root/capsule/scratch/ZS059/behavior_ZS059_2021-04-21_15-58-55/ephys/curated/figures/response\n",
      "Old data, using hopkins formats\n",
      "Old data, using hopkins formats\n",
      "Old data, using hopkins formats\n",
      "Old data, using hopkins formats\n",
      "Combined PDF saved as: /root/capsule/scratch/ZS059/behavior_ZS059_2021-04-08_15-53-36/ephys/curated/behavior_ZS059_2021-04-08_15-53-36_unit_beh_response.pdf\n",
      "Processed behavior_ZS059_2021-04-08_15-53-36\n",
      "Old data, using hopkins formats\n",
      "Old data, using hopkins formats\n",
      "Old data, using hopkins formats\n",
      "No unit table found for behavior_ZS059_2021-03-26_13-52-11 in curated data.\n",
      "Old data, using hopkins formats\n",
      "Old data, using hopkins formats\n",
      "Old data, using hopkins formats\n",
      "Combining behavior_ZS059_2021-04-01_14-17-46\n",
      "Processing 2 files in /root/capsule/scratch/ZS059/behavior_ZS059_2021-04-01_14-17-46/ephys/curated/figures/response\n",
      "Old data, using hopkins formats\n",
      "No unit table found for behavior_ZS059_2021-03-25_14-40-45 in curated data.\n",
      "Old data, using hopkins formats\n",
      "No raw session directory found for behavior_ZS060_2021-04-14_18-15-27.\n",
      "Combined PDF saved as: /root/capsule/scratch/ZS059/behavior_ZS059_2021-03-29_14-41-57/ephys/curated/behavior_ZS059_2021-03-29_14-41-57_unit_beh_response.pdf\n",
      "Old data, using hopkins formats\n",
      "Processed behavior_ZS059_2021-03-29_14-41-57\n",
      "No raw session directory found for behavior_ZS060_2021-04-14_18-15-27.\n",
      "No unit table found for behavior_ZS060_2021-04-14_18-15-27 in curated data.\n",
      "Old data, using hopkins formats\n",
      "Old data, using hopkins formats\n",
      "No unit table found for behavior_ZS060_2021-04-09_17-07-51 in curated data.\n",
      "Old data, using hopkins formats\n",
      "Old data, using hopkins formats\n",
      "Old data, using hopkins formats\n",
      "Old data, using hopkins formats\n",
      "No raw session directory found for behavior_ZS060_2021-04-21_19-23-52.\n",
      "Old data, using hopkins formats\n",
      "Old data, using hopkins formats\n",
      "No raw session directory found for behavior_ZS060_2021-04-21_19-23-52.\n",
      "Old data, using hopkins formats\n",
      "No unit table found for behavior_ZS060_2021-04-21_19-23-52 in curated data.\n",
      "Old data, using hopkins formats\n",
      "Old data, using hopkins formats\n",
      "Old data, using hopkins formats\n",
      "Old data, using hopkins formatsOld data, using hopkins formats\n",
      "\n",
      "Plotting unit TT4_SS_01Plotting unit TT4_SS_02\n",
      "\n",
      "Old data, using hopkins formats\n",
      "No unit table found for behavior_ZS060_2021-04-22_18-30-00 in curated data.\n",
      "Old data, using hopkins formats\n",
      "No raw session directory found for behavior_ZS060_2021-04-11_16-41-30.\n",
      "Old data, using hopkins formats\n",
      "No raw session directory found for behavior_ZS060_2021-04-11_16-41-30.\n",
      "No unit table found for behavior_ZS060_2021-04-11_16-41-30 in curated data.\n",
      "Old data, using hopkins formats\n",
      "No raw session directory found for behavior_ZS060_2021-04-12_15-57-59.\n",
      "Old data, using hopkins formats\n",
      "No raw session directory found for behavior_ZS060_2021-04-10_16-58-41.\n",
      "No raw session directory found for behavior_ZS060_2021-04-12_15-57-59.\n",
      "No unit table found for behavior_ZS060_2021-04-12_15-57-59 in curated data.\n",
      "Old data, using hopkins formats\n",
      "Old data, using hopkins formats\n",
      "Old data, using hopkins formats\n",
      "No raw session directory found for behavior_ZS060_2021-04-10_16-58-41.\n",
      "No unit table found for behavior_ZS060_2021-04-10_16-58-41 in curated data.\n",
      "Old data, using hopkins formats\n",
      "Old data, using hopkins formats\n",
      "Plotting unit TT4_SS_02\n",
      "Combined PDF saved as: /root/capsule/scratch/ZS059/behavior_ZS059_2021-04-22_15-11-25/ephys/curated/behavior_ZS059_2021-04-22_15-11-25_unit_beh_response.pdf\n",
      "Old data, using hopkins formats\n",
      "No unit table found for behavior_ZS060_2021-04-16_16-09-11 in curated data.\n",
      "Old data, using hopkins formats\n",
      "Old data, using hopkins formats\n",
      "Processed behavior_ZS059_2021-04-22_15-11-25\n",
      "No raw session directory found for behavior_ZS060_2021-04-27_16-21-43.\n",
      "Old data, using hopkins formats\n",
      "Old data, using hopkins formats\n",
      "Combining behavior_ZS059_2021-04-15_15-29-28\n",
      "Old data, using hopkins formats\n",
      "Processing 2 files in /root/capsule/scratch/ZS059/behavior_ZS059_2021-04-15_15-29-28/ephys/curated/figures/response\n",
      "Old data, using hopkins formats\n",
      "Old data, using hopkins formats\n",
      "Combining behavior_ZS059_2021-04-13_15-43-53\n",
      "Processing 2 files in /root/capsule/scratch/ZS059/behavior_ZS059_2021-04-13_15-43-53/ephys/curated/figures/response\n",
      "No raw session directory found for behavior_ZS060_2021-04-27_16-21-43.\n",
      "No unit table found for behavior_ZS060_2021-04-27_16-21-43 in curated data.\n",
      "Old data, using hopkins formats\n",
      "Combined PDF saved as: /root/capsule/scratch/ZS059/behavior_ZS059_2021-04-25_16-22-31/ephys/curated/behavior_ZS059_2021-04-25_16-22-31_unit_beh_go_cue.pdf\n",
      "Old data, using hopkins formats\n",
      "Old data, using hopkins formats\n",
      "Old data, using hopkins formats\n",
      "No unit table found for behavior_ZS060_2021-04-23_18-34-53 in curated data.\n",
      "Old data, using hopkins formats\n",
      "Old data, using hopkins formats\n",
      "No unit table found for behavior_ZS060_2021-04-28_15-16-45 in curated data.\n",
      "Old data, using hopkins formats\n",
      "Old data, using hopkins formats\n",
      "No unit table found for behavior_ZS060_2021-04-24_18-50-00 in curated data.\n",
      "Old data, using hopkins formats\n",
      "Old data, using hopkins formats\n",
      "No unit table found for behavior_ZS060_2021-04-25_19-51-06 in curated data.\n",
      "Old data, using hopkins formats\n",
      "Old data, using hopkins formats\n",
      "Old data, using hopkins formats\n",
      "No unit table found for behavior_ZS060_2021-04-26_19-24-52 in curated data.\n",
      "Old data, using hopkins formats\n",
      "No unit table found for behavior_ZS060_2021-04-29_15-15-00 in curated data.\n",
      "Old data, using hopkins formats\n",
      "Old data, using hopkins formats\n",
      "Old data, using hopkins formats\n",
      "Old data, using hopkins formats\n",
      "No unit table found for behavior_ZS060_2021-03-20_16-20-00 in curated data.\n",
      "Old data, using hopkins formats\n",
      "No unit table found for behavior_ZS060_2021-03-22_16-25-00 in curated data.\n",
      "Old data, using hopkins formats\n",
      "No unit table found for behavior_ZS060_2021-03-21_16-15-00 in curated data.\n",
      "Old data, using hopkins formats\n",
      "Old data, using hopkins formats\n",
      "Old data, using hopkins formats\n",
      "Plotting unit TT2_SS_01\n",
      "Old data, using hopkins formats\n",
      "No unit table found for behavior_ZS060_2021-03-25_16-00-00 in curated data.\n",
      "Old data, using hopkins formats\n",
      "Old data, using hopkins formats\n",
      "No unit table found for behavior_ZS060_2021-03-23_15-15-00 in curated data.\n",
      "Old data, using hopkins formats\n",
      "Old data, using hopkins formats\n",
      "No unit table found for behavior_ZS060_2021-03-27_17-11-43 in curated data.\n",
      "Old data, using hopkins formats\n",
      "Combined PDF saved as: /root/capsule/scratch/ZS059/behavior_ZS059_2021-04-20_14-50-03/ephys/curated/behavior_ZS059_2021-04-20_14-50-03_unit_beh_go_cue.pdf\n",
      "Old data, using hopkins formats\n",
      "Old data, using hopkins formats\n",
      "Old data, using hopkins formats\n",
      "Old data, using hopkins formats\n",
      "Old data, using hopkins formats\n",
      "No unit table found for behavior_ZS060_2021-03-24_15-40-00 in curated data.\n",
      "Old data, using hopkins formats\n",
      "Old data, using hopkins formats\n",
      "Old data, using hopkins formats\n",
      "Old data, using hopkins formats\n",
      "Old data, using hopkins formats\n",
      "No unit table found for behavior_ZS060_2021-03-26_14-50-00 in curated data.\n",
      "Old data, using hopkins formats\n"
     ]
    },
    {
     "name": "stderr",
     "output_type": "stream",
     "text": [
      "/opt/conda/lib/python3.10/site-packages/aind_dynamic_foraging_basic_analysis/plot/plot_foraging_session.py:497: UserWarning: This figure includes Axes that are not compatible with tight_layout, so results might be incorrect.\n",
      "  plt.tight_layout()\n"
     ]
    },
    {
     "name": "stdout",
     "output_type": "stream",
     "text": [
      "Old data, using hopkins formats\n",
      "Old data, using hopkins formats\n",
      "Old data, using hopkins formats\n",
      "Old data, using hopkins formats\n",
      "No unit table found for behavior_ZS060_2021-03-30_16-13-03 in curated data.\n",
      "Old data, using hopkins formats\n",
      "Old data, using hopkins formats\n",
      "No unit table found for behavior_ZS060_2021-03-31_15-45-00 in curated data.\n",
      "Old data, using hopkins formats\n",
      "Old data, using hopkins formats\n",
      "Combined PDF saved as: /root/capsule/scratch/ZS059/behavior_ZS059_2021-03-31_14-32-51/ephys/curated/behavior_ZS059_2021-03-31_14-32-51_unit_beh_response.pdf\n",
      "No unit table found for behavior_ZS060_2021-04-01_15-30-00 in curated data.\n",
      "Old data, using hopkins formats\n",
      "Old data, using hopkins formats\n",
      "Processed behavior_ZS059_2021-03-31_14-32-51\n",
      "Old data, using hopkins formats\n",
      "Old data, using hopkins formats\n",
      "Old data, using hopkins formats\n",
      "Plotting unit TT5_SS_01\n",
      "Old data, using hopkins formats\n",
      "Old data, using hopkins formats\n",
      "Old data, using hopkins formats\n",
      "No unit table found for behavior_ZS060_2021-04-02_16-30-00 in curated data.\n",
      "Old data, using hopkins formats\n",
      "Old data, using hopkins formats\n",
      "Old data, using hopkins formats\n",
      "Old data, using hopkins formats\n",
      "Combining behavior_ZS059_2021-04-23_14-57-50\n",
      "Processing 2 files in /root/capsule/scratch/ZS059/behavior_ZS059_2021-04-23_14-57-50/ephys/curated/figures/response\n",
      "No unit table found for behavior_ZS060_2021-04-03_17-45-00 in curated data.\n",
      "Old data, using hopkins formats\n",
      "Old data, using hopkins formats\n",
      "Old data, using hopkins formats\n",
      "Old data, using hopkins formats\n",
      "No unit table found for behavior_ZS060_2021-04-04_16-30-00 in curated data.\n",
      "Old data, using hopkins formats\n"
     ]
    },
    {
     "name": "stderr",
     "output_type": "stream",
     "text": [
      "/opt/conda/lib/python3.10/site-packages/aind_dynamic_foraging_basic_analysis/plot/plot_foraging_session.py:497: UserWarning: This figure includes Axes that are not compatible with tight_layout, so results might be incorrect.\n",
      "  plt.tight_layout()\n"
     ]
    },
    {
     "name": "stdout",
     "output_type": "stream",
     "text": [
      "Old data, using hopkins formats\n",
      "Old data, using hopkins formats\n",
      "Old data, using hopkins formats\n",
      "Old data, using hopkins formats\n",
      "Old data, using hopkins formats\n",
      "Old data, using hopkins formats\n",
      "Old data, using hopkins formats\n",
      "Combined PDF saved as: /root/capsule/scratch/ZS059/behavior_ZS059_2021-04-21_15-58-55/ephys/curated/behavior_ZS059_2021-04-21_15-58-55_unit_beh_response.pdf\n",
      "Old data, using hopkins formats\n",
      "Old data, using hopkins formatsOld data, using hopkins formats\n",
      "\n",
      "Processed behavior_ZS059_2021-04-21_15-58-55\n",
      "Old data, using hopkins formats\n",
      "Plotting unit TT4_SS_01\n",
      "Old data, using hopkins formats\n",
      "Plotting unit TT3_SS_01\n",
      "Plotting unit TT6_SS_01\n",
      "Combined PDF saved as: /root/capsule/scratch/ZS059/behavior_ZS059_2021-04-01_14-17-46/ephys/curated/behavior_ZS059_2021-04-01_14-17-46_unit_beh_response.pdf\n",
      "Processed behavior_ZS059_2021-04-01_14-17-46\n",
      "Old data, using hopkins formats\n",
      "No unit table found for behavior_ZS061_2021-03-16_15-30-00 in curated data.\n",
      "Old data, using hopkins formats\n",
      "Old data, using hopkins formats\n",
      "Old data, using hopkins formats\n",
      "Old data, using hopkins formats\n",
      "Plotting unit TT6_SS_01\n",
      "Old data, using hopkins formats\n",
      "No unit table found for behavior_ZS061_2021-03-17_16-00-53 in curated data.\n",
      "Old data, using hopkins formats\n",
      "Old data, using hopkins formats\n",
      "No unit table found for behavior_ZS061_2021-03-21_17-37-00 in curated data.\n",
      "Old data, using hopkins formats\n",
      "Old data, using hopkins formats\n",
      "Old data, using hopkins formats\n",
      "Old data, using hopkins formats\n",
      "Old data, using hopkins formats\n",
      "Old data, using hopkins formats\n",
      "No unit table found for behavior_ZS061_2021-03-18_17-39-19 in curated data.\n",
      "Old data, using hopkins formats\n"
     ]
    },
    {
     "name": "stderr",
     "output_type": "stream",
     "text": [
      "/opt/conda/lib/python3.10/site-packages/aind_dynamic_foraging_basic_analysis/plot/plot_foraging_session.py:497: UserWarning: This figure includes Axes that are not compatible with tight_layout, so results might be incorrect.\n",
      "  plt.tight_layout()\n"
     ]
    },
    {
     "name": "stdout",
     "output_type": "stream",
     "text": [
      "Old data, using hopkins formats\n",
      "Old data, using hopkins formats\n",
      "Old data, using hopkins formats\n",
      "Old data, using hopkins formats\n",
      "No unit table found for behavior_ZS061_2021-03-19_17-52-45 in curated data.\n",
      "Old data, using hopkins formats\n"
     ]
    },
    {
     "name": "stderr",
     "output_type": "stream",
     "text": [
      "/opt/conda/lib/python3.10/site-packages/aind_dynamic_foraging_basic_analysis/plot/plot_foraging_session.py:497: UserWarning: This figure includes Axes that are not compatible with tight_layout, so results might be incorrect.\n",
      "  plt.tight_layout()\n"
     ]
    },
    {
     "name": "stdout",
     "output_type": "stream",
     "text": [
      "Old data, using hopkins formats\n",
      "Old data, using hopkins formats\n",
      "Old data, using hopkins formats\n",
      "Old data, using hopkins formats\n",
      "Old data, using hopkins formatsOld data, using hopkins formats\n",
      "\n",
      "Old data, using hopkins formats\n",
      "Plotting unit TT7_SS_01Plotting unit TT6_SS_01\n",
      "\n",
      "Old data, using hopkins formats\n",
      "Plotting unit TT6_SS_01\n",
      "Old data, using hopkins formats\n",
      "Old data, using hopkins formats\n",
      "Combined PDF saved as: /root/capsule/scratch/ZS059/behavior_ZS059_2021-03-30_14-57-13/ephys/curated/behavior_ZS059_2021-03-30_14-57-13_unit_beh_go_cue.pdf\n",
      "Old data, using hopkins formats\n",
      "Old data, using hopkins formats\n",
      "Combined PDF saved as: /root/capsule/scratch/ZS059/behavior_ZS059_2021-04-15_15-29-28/ephys/curated/behavior_ZS059_2021-04-15_15-29-28_unit_beh_response.pdf\n",
      "Old data, using hopkins formats\n",
      "Processed behavior_ZS059_2021-04-15_15-29-28\n",
      "Old data, using hopkins formats\n",
      "Old data, using hopkins formats\n"
     ]
    },
    {
     "name": "stderr",
     "output_type": "stream",
     "text": [
      "/opt/conda/lib/python3.10/site-packages/aind_dynamic_foraging_basic_analysis/plot/plot_foraging_session.py:497: UserWarning: This figure includes Axes that are not compatible with tight_layout, so results might be incorrect.\n",
      "  plt.tight_layout()\n",
      "/opt/conda/lib/python3.10/site-packages/aind_dynamic_foraging_basic_analysis/plot/plot_foraging_session.py:497: UserWarning: This figure includes Axes that are not compatible with tight_layout, so results might be incorrect.\n",
      "  plt.tight_layout()\n"
     ]
    },
    {
     "name": "stdout",
     "output_type": "stream",
     "text": [
      "Combined PDF saved as: /root/capsule/scratch/ZS059/behavior_ZS059_2021-04-13_15-43-53/ephys/curated/behavior_ZS059_2021-04-13_15-43-53_unit_beh_response.pdf\n",
      "Processed behavior_ZS059_2021-04-13_15-43-53\n",
      "Old data, using hopkins formats\n",
      "Old data, using hopkins formats\n",
      "Old data, using hopkins formats\n",
      "Old data, using hopkins formats\n",
      "Old data, using hopkins formats\n",
      "Old data, using hopkins formats\n",
      "Old data, using hopkins formatsOld data, using hopkins formats\n",
      "Old data, using hopkins formats\n",
      "\n",
      "Old data, using hopkins formatsOld data, using hopkins formats\n",
      "\n",
      "Old data, using hopkins formats\n",
      "Old data, using hopkins formats\n",
      "Old data, using hopkins formats\n",
      "Plotting unit TT4_SS_01\n",
      "Old data, using hopkins formats\n",
      "Plotting unit TT3_SS_01\n",
      "Old data, using hopkins formatsOld data, using hopkins formats\n",
      "Old data, using hopkins formats\n",
      "\n",
      "Plotting unit TT1_SS_02\n",
      "Plotting unit TT3_SS_03\n",
      "Plotting unit TT1_SS_05\n",
      "Plotting unit TT1_SS_04\n",
      "Old data, using hopkins formats\n",
      "Plotting unit TT3_SS_03\n",
      "Plotting unit TT3_SS_01Plotting unit TT4_SS_01\n",
      "\n",
      "Old data, using hopkins formats\n",
      "Old data, using hopkins formats\n",
      "Old data, using hopkins formats\n"
     ]
    },
    {
     "name": "stderr",
     "output_type": "stream",
     "text": [
      "/opt/conda/lib/python3.10/site-packages/aind_dynamic_foraging_basic_analysis/plot/plot_foraging_session.py:497: UserWarning: This figure includes Axes that are not compatible with tight_layout, so results might be incorrect.\n",
      "  plt.tight_layout()\n"
     ]
    },
    {
     "name": "stdout",
     "output_type": "stream",
     "text": [
      "Old data, using hopkins formats\n",
      "Old data, using hopkins formats\n",
      "Old data, using hopkins formats\n",
      "Old data, using hopkins formatsOld data, using hopkins formats\n",
      "\n"
     ]
    },
    {
     "name": "stderr",
     "output_type": "stream",
     "text": [
      "/opt/conda/lib/python3.10/site-packages/aind_dynamic_foraging_basic_analysis/plot/plot_foraging_session.py:497: UserWarning: This figure includes Axes that are not compatible with tight_layout, so results might be incorrect.\n",
      "  plt.tight_layout()\n",
      "/opt/conda/lib/python3.10/site-packages/aind_dynamic_foraging_basic_analysis/plot/plot_foraging_session.py:497: UserWarning: This figure includes Axes that are not compatible with tight_layout, so results might be incorrect.\n",
      "  plt.tight_layout()\n"
     ]
    },
    {
     "name": "stdout",
     "output_type": "stream",
     "text": [
      "Plotting unit TT4_SS_04\n",
      "Plotting unit TT4_SS_01\n",
      "Old data, using hopkins formats\n",
      "Old data, using hopkins formatsOld data, using hopkins formats\n",
      "Old data, using hopkins formats\n",
      "\n",
      "Old data, using hopkins formats\n",
      "Plotting unit TT3_SS_02\n",
      "Plotting unit TT4_SS_01\n",
      "Plotting unit TT3_SS_03\n",
      "Plotting unit TT3_SS_01\n",
      "Old data, using hopkins formats\n",
      "Combined PDF saved as: /root/capsule/scratch/ZS059/behavior_ZS059_2021-04-23_14-57-50/ephys/curated/behavior_ZS059_2021-04-23_14-57-50_unit_beh_response.pdf\n",
      "Processed behavior_ZS059_2021-04-23_14-57-50\n",
      "Old data, using hopkins formats\n",
      "Old data, using hopkins formatsOld data, using hopkins formats\n",
      "\n",
      "Old data, using hopkins formatsOld data, using hopkins formats\n",
      "\n",
      "Old data, using hopkins formatsOld data, using hopkins formats\n",
      "Old data, using hopkins formats\n",
      "\n",
      "Old data, using hopkins formats\n"
     ]
    },
    {
     "name": "stderr",
     "output_type": "stream",
     "text": [
      "/opt/conda/lib/python3.10/site-packages/aind_dynamic_foraging_basic_analysis/plot/plot_foraging_session.py:497: UserWarning: This figure includes Axes that are not compatible with tight_layout, so results might be incorrect.\n",
      "  plt.tight_layout()\n"
     ]
    },
    {
     "name": "stdout",
     "output_type": "stream",
     "text": [
      "Old data, using hopkins formats\n",
      "Old data, using hopkins formats\n",
      "Old data, using hopkins formats\n"
     ]
    },
    {
     "ename": "KeyError",
     "evalue": "'pe'",
     "output_type": "error",
     "traceback": [
      "\u001b[0;31m---------------------------------------------------------------------------\u001b[0m",
      "\u001b[0;31m_RemoteTraceback\u001b[0m                          Traceback (most recent call last)",
      "\u001b[0;31m_RemoteTraceback\u001b[0m: \n\"\"\"\njoblib.externals.loky.process_executor._RemoteTraceback: \n\"\"\"\nTraceback (most recent call last):\n  File \"/opt/conda/lib/python3.10/site-packages/pandas/core/indexes/base.py\", line 3812, in get_loc\n    return self._engine.get_loc(casted_key)\n  File \"pandas/_libs/index.pyx\", line 167, in pandas._libs.index.IndexEngine.get_loc\n  File \"pandas/_libs/index.pyx\", line 196, in pandas._libs.index.IndexEngine.get_loc\n  File \"pandas/_libs/hashtable_class_helper.pxi\", line 7088, in pandas._libs.hashtable.PyObjectHashTable.get_item\n  File \"pandas/_libs/hashtable_class_helper.pxi\", line 7096, in pandas._libs.hashtable.PyObjectHashTable.get_item\nKeyError: 'pe'\n\nThe above exception was the direct cause of the following exception:\n\nTraceback (most recent call last):\n  File \"/opt/conda/lib/python3.10/site-packages/joblib/_utils.py\", line 72, in __call__\n    return self.func(**kwargs)\n  File \"/opt/conda/lib/python3.10/site-packages/joblib/parallel.py\", line 607, in __call__\n    return [func(*args, **kwargs) for func, args, kwargs in self.items]\n  File \"/opt/conda/lib/python3.10/site-packages/joblib/parallel.py\", line 607, in <listcomp>\n    return [func(*args, **kwargs) for func, args, kwargs in self.items]\n  File \"/root/capsule/code/beh_ephys_analysis/unit_beh_analysis.py\", line 439, in process\n    fig = plot_unit(unit_id)\n  File \"/root/capsule/code/beh_ephys_analysis/unit_beh_analysis.py\", line 212, in plot_unit\n    bins = np.quantile(session_df_curr[target_var].values, np.linspace(0, 1, bin_counts+1))\n  File \"/opt/conda/lib/python3.10/site-packages/pandas/core/frame.py\", line 4107, in __getitem__\n    indexer = self.columns.get_loc(key)\n  File \"/opt/conda/lib/python3.10/site-packages/pandas/core/indexes/base.py\", line 3819, in get_loc\n    raise KeyError(key) from err\nKeyError: 'pe'\n\"\"\"\n\nThe above exception was the direct cause of the following exception:\n\nTraceback (most recent call last):\n  File \"/opt/conda/lib/python3.10/site-packages/joblib/externals/loky/process_executor.py\", line 490, in _process_worker\n    r = call_item()\n  File \"/opt/conda/lib/python3.10/site-packages/joblib/externals/loky/process_executor.py\", line 291, in __call__\n    return self.fn(*self.args, **self.kwargs)\n  File \"/opt/conda/lib/python3.10/site-packages/joblib/parallel.py\", line 607, in __call__\n    return [func(*args, **kwargs) for func, args, kwargs in self.items]\n  File \"/opt/conda/lib/python3.10/site-packages/joblib/parallel.py\", line 607, in <listcomp>\n    return [func(*args, **kwargs) for func, args, kwargs in self.items]\n  File \"/tmp/ipykernel_2639/647997291.py\", line 8, in process\n  File \"/root/capsule/code/beh_ephys_analysis/unit_beh_analysis.py\", line 452, in plot_unit_beh_session\n    Parallel(n_jobs=8)(\n  File \"/opt/conda/lib/python3.10/site-packages/joblib/parallel.py\", line 2072, in __call__\n    return output if self.return_generator else list(output)\n  File \"/opt/conda/lib/python3.10/site-packages/joblib/parallel.py\", line 1682, in _get_outputs\n    yield from self._retrieve()\n  File \"/opt/conda/lib/python3.10/site-packages/joblib/parallel.py\", line 1784, in _retrieve\n    self._raise_error_fast()\n  File \"/opt/conda/lib/python3.10/site-packages/joblib/parallel.py\", line 1859, in _raise_error_fast\n    error_job.get_result(self.timeout)\n  File \"/opt/conda/lib/python3.10/site-packages/joblib/parallel.py\", line 758, in get_result\n    return self._return_or_raise()\n  File \"/opt/conda/lib/python3.10/site-packages/joblib/parallel.py\", line 773, in _return_or_raise\n    raise self._result\nKeyError: 'pe'\n\"\"\"",
      "\nThe above exception was the direct cause of the following exception:\n",
      "\u001b[0;31mKeyError\u001b[0m                                  Traceback (most recent call last)",
      "\u001b[1;32m/root/capsule/code/beh_ephys_analysis/preprocessing_hopkins.ipynb Cell 16\u001b[0m line \u001b[0;36m2\n\u001b[1;32m      <a href='vscode-notebook-cell://codeocean.allenneuraldynamics.org/root/capsule/code/beh_ephys_analysis/preprocessing_hopkins.ipynb#X44sdnNjb2RlLXJlbW90ZQ%3D%3D?line=0'>1</a>\u001b[0m \u001b[39m# Parallel(n_jobs=5)(delayed(process)(session, data_type) for session in session_list[82:94])\u001b[39;00m\n\u001b[0;32m----> <a href='vscode-notebook-cell://codeocean.allenneuraldynamics.org/root/capsule/code/beh_ephys_analysis/preprocessing_hopkins.ipynb#X44sdnNjb2RlLXJlbW90ZQ%3D%3D?line=1'>2</a>\u001b[0m Parallel(n_jobs\u001b[39m=\u001b[39;49m\u001b[39m-\u001b[39;49m\u001b[39m1\u001b[39;49m)(delayed(process)(session_id) \u001b[39mfor\u001b[39;49;00m session_id \u001b[39min\u001b[39;49;00m session_ids)\n",
      "File \u001b[0;32m/opt/conda/lib/python3.10/site-packages/joblib/parallel.py:2072\u001b[0m, in \u001b[0;36mParallel.__call__\u001b[0;34m(self, iterable)\u001b[0m\n\u001b[1;32m   2066\u001b[0m \u001b[39m# The first item from the output is blank, but it makes the interpreter\u001b[39;00m\n\u001b[1;32m   2067\u001b[0m \u001b[39m# progress until it enters the Try/Except block of the generator and\u001b[39;00m\n\u001b[1;32m   2068\u001b[0m \u001b[39m# reaches the first `yield` statement. This starts the asynchronous\u001b[39;00m\n\u001b[1;32m   2069\u001b[0m \u001b[39m# dispatch of the tasks to the workers.\u001b[39;00m\n\u001b[1;32m   2070\u001b[0m \u001b[39mnext\u001b[39m(output)\n\u001b[0;32m-> 2072\u001b[0m \u001b[39mreturn\u001b[39;00m output \u001b[39mif\u001b[39;00m \u001b[39mself\u001b[39m\u001b[39m.\u001b[39mreturn_generator \u001b[39melse\u001b[39;00m \u001b[39mlist\u001b[39;49m(output)\n",
      "File \u001b[0;32m/opt/conda/lib/python3.10/site-packages/joblib/parallel.py:1682\u001b[0m, in \u001b[0;36mParallel._get_outputs\u001b[0;34m(self, iterator, pre_dispatch)\u001b[0m\n\u001b[1;32m   1679\u001b[0m     \u001b[39myield\u001b[39;00m\n\u001b[1;32m   1681\u001b[0m     \u001b[39mwith\u001b[39;00m \u001b[39mself\u001b[39m\u001b[39m.\u001b[39m_backend\u001b[39m.\u001b[39mretrieval_context():\n\u001b[0;32m-> 1682\u001b[0m         \u001b[39myield from\u001b[39;00m \u001b[39mself\u001b[39m\u001b[39m.\u001b[39m_retrieve()\n\u001b[1;32m   1684\u001b[0m \u001b[39mexcept\u001b[39;00m \u001b[39mGeneratorExit\u001b[39;00m:\n\u001b[1;32m   1685\u001b[0m     \u001b[39m# The generator has been garbage collected before being fully\u001b[39;00m\n\u001b[1;32m   1686\u001b[0m     \u001b[39m# consumed. This aborts the remaining tasks if possible and warn\u001b[39;00m\n\u001b[1;32m   1687\u001b[0m     \u001b[39m# the user if necessary.\u001b[39;00m\n\u001b[1;32m   1688\u001b[0m     \u001b[39mself\u001b[39m\u001b[39m.\u001b[39m_exception \u001b[39m=\u001b[39m \u001b[39mTrue\u001b[39;00m\n",
      "File \u001b[0;32m/opt/conda/lib/python3.10/site-packages/joblib/parallel.py:1784\u001b[0m, in \u001b[0;36mParallel._retrieve\u001b[0;34m(self)\u001b[0m\n\u001b[1;32m   1778\u001b[0m \u001b[39mwhile\u001b[39;00m \u001b[39mself\u001b[39m\u001b[39m.\u001b[39m_wait_retrieval():\n\u001b[1;32m   1779\u001b[0m     \u001b[39m# If the callback thread of a worker has signaled that its task\u001b[39;00m\n\u001b[1;32m   1780\u001b[0m     \u001b[39m# triggered an exception, or if the retrieval loop has raised an\u001b[39;00m\n\u001b[1;32m   1781\u001b[0m     \u001b[39m# exception (e.g. `GeneratorExit`), exit the loop and surface the\u001b[39;00m\n\u001b[1;32m   1782\u001b[0m     \u001b[39m# worker traceback.\u001b[39;00m\n\u001b[1;32m   1783\u001b[0m     \u001b[39mif\u001b[39;00m \u001b[39mself\u001b[39m\u001b[39m.\u001b[39m_aborting:\n\u001b[0;32m-> 1784\u001b[0m         \u001b[39mself\u001b[39;49m\u001b[39m.\u001b[39;49m_raise_error_fast()\n\u001b[1;32m   1785\u001b[0m         \u001b[39mbreak\u001b[39;00m\n\u001b[1;32m   1787\u001b[0m     nb_jobs \u001b[39m=\u001b[39m \u001b[39mlen\u001b[39m(\u001b[39mself\u001b[39m\u001b[39m.\u001b[39m_jobs)\n",
      "File \u001b[0;32m/opt/conda/lib/python3.10/site-packages/joblib/parallel.py:1859\u001b[0m, in \u001b[0;36mParallel._raise_error_fast\u001b[0;34m(self)\u001b[0m\n\u001b[1;32m   1855\u001b[0m \u001b[39m# If this error job exists, immediately raise the error by\u001b[39;00m\n\u001b[1;32m   1856\u001b[0m \u001b[39m# calling get_result. This job might not exists if abort has been\u001b[39;00m\n\u001b[1;32m   1857\u001b[0m \u001b[39m# called directly or if the generator is gc'ed.\u001b[39;00m\n\u001b[1;32m   1858\u001b[0m \u001b[39mif\u001b[39;00m error_job \u001b[39mis\u001b[39;00m \u001b[39mnot\u001b[39;00m \u001b[39mNone\u001b[39;00m:\n\u001b[0;32m-> 1859\u001b[0m     error_job\u001b[39m.\u001b[39;49mget_result(\u001b[39mself\u001b[39;49m\u001b[39m.\u001b[39;49mtimeout)\n",
      "File \u001b[0;32m/opt/conda/lib/python3.10/site-packages/joblib/parallel.py:758\u001b[0m, in \u001b[0;36mBatchCompletionCallBack.get_result\u001b[0;34m(self, timeout)\u001b[0m\n\u001b[1;32m    752\u001b[0m backend \u001b[39m=\u001b[39m \u001b[39mself\u001b[39m\u001b[39m.\u001b[39mparallel\u001b[39m.\u001b[39m_backend\n\u001b[1;32m    754\u001b[0m \u001b[39mif\u001b[39;00m backend\u001b[39m.\u001b[39msupports_retrieve_callback:\n\u001b[1;32m    755\u001b[0m     \u001b[39m# We assume that the result has already been retrieved by the\u001b[39;00m\n\u001b[1;32m    756\u001b[0m     \u001b[39m# callback thread, and is stored internally. It's just waiting to\u001b[39;00m\n\u001b[1;32m    757\u001b[0m     \u001b[39m# be returned.\u001b[39;00m\n\u001b[0;32m--> 758\u001b[0m     \u001b[39mreturn\u001b[39;00m \u001b[39mself\u001b[39;49m\u001b[39m.\u001b[39;49m_return_or_raise()\n\u001b[1;32m    760\u001b[0m \u001b[39m# For other backends, the main thread needs to run the retrieval step.\u001b[39;00m\n\u001b[1;32m    761\u001b[0m \u001b[39mtry\u001b[39;00m:\n",
      "File \u001b[0;32m/opt/conda/lib/python3.10/site-packages/joblib/parallel.py:773\u001b[0m, in \u001b[0;36mBatchCompletionCallBack._return_or_raise\u001b[0;34m(self)\u001b[0m\n\u001b[1;32m    771\u001b[0m \u001b[39mtry\u001b[39;00m:\n\u001b[1;32m    772\u001b[0m     \u001b[39mif\u001b[39;00m \u001b[39mself\u001b[39m\u001b[39m.\u001b[39mstatus \u001b[39m==\u001b[39m TASK_ERROR:\n\u001b[0;32m--> 773\u001b[0m         \u001b[39mraise\u001b[39;00m \u001b[39mself\u001b[39m\u001b[39m.\u001b[39m_result\n\u001b[1;32m    774\u001b[0m     \u001b[39mreturn\u001b[39;00m \u001b[39mself\u001b[39m\u001b[39m.\u001b[39m_result\n\u001b[1;32m    775\u001b[0m \u001b[39mfinally\u001b[39;00m:\n",
      "\u001b[0;31mKeyError\u001b[0m: 'pe'"
     ]
    }
   ],
   "source": [
    "# Parallel(n_jobs=5)(delayed(process)(session, data_type) for session in session_list[82:94])\n",
    "Parallel(n_jobs=-1)(delayed(process)(session_id) for session_id in session_ids)"
   ]
  },
  {
   "cell_type": "code",
   "execution_count": null,
   "metadata": {},
   "outputs": [],
   "source": []
  }
 ],
 "metadata": {
  "kernelspec": {
   "display_name": "base",
   "language": "python",
   "name": "python3"
  },
  "language_info": {
   "codemirror_mode": {
    "name": "ipython",
    "version": 3
   },
   "file_extension": ".py",
   "mimetype": "text/x-python",
   "name": "python",
   "nbconvert_exporter": "python",
   "pygments_lexer": "ipython3",
   "version": "3.10.18"
  }
 },
 "nbformat": 4,
 "nbformat_minor": 2
}
