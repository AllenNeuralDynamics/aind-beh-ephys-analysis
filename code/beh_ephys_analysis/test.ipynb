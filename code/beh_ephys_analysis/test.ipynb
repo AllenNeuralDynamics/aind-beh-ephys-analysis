{
 "cells": [
  {
   "cell_type": "code",
   "execution_count": 7,
   "metadata": {},
   "outputs": [],
   "source": [
    "import pickle\n",
    "from behavior_and_time_alignment import beh_and_time_alignment\n",
    "from session_preprocessing import ephys_opto_preprocessing, session_crosscorr, ephys_opto_crosscorr\n",
    "from opto_tagging import opto_plotting_session, opto_plotting_unit, opto_tagged_spike_stability\n",
    "from opto_waveforms_preprocessing import opto_wf_preprocessing\n",
    "from drift_analysis import plot_session_opto_drift\n",
    "import matplotlib.pyplot as plt\n",
    "from utils.beh_functions import session_dirs\n",
    "import numpy as np\n",
    "import pandas as pd\n",
    "import os\n",
    "from utils.plot_utils import combine_pdf_big\n",
    "from utils.beh_functions import get_unit_tbl\n",
    "from utils.opto_utils import opto_metrics\n",
    "import spikeinterface as si\n",
    "from joblib import Parallel, delayed\n"
   ]
  },
  {
   "cell_type": "code",
   "execution_count": 16,
   "metadata": {},
   "outputs": [],
   "source": [
    "session = 'behavior_751004_2024-12-21_13-28-28'\n",
    "data_type = 'curated'"
   ]
  },
  {
   "cell_type": "code",
   "execution_count": 17,
   "metadata": {},
   "outputs": [
    {
     "data": {
      "text/html": [
       "<div>\n",
       "<style scoped>\n",
       "    .dataframe tbody tr th:only-of-type {\n",
       "        vertical-align: middle;\n",
       "    }\n",
       "\n",
       "    .dataframe tbody tr th {\n",
       "        vertical-align: top;\n",
       "    }\n",
       "\n",
       "    .dataframe thead th {\n",
       "        text-align: right;\n",
       "    }\n",
       "</style>\n",
       "<table border=\"1\" class=\"dataframe\">\n",
       "  <thead>\n",
       "    <tr style=\"text-align: right;\">\n",
       "      <th></th>\n",
       "      <th>unit_id</th>\n",
       "      <th>resp_p</th>\n",
       "      <th>resp_p_bl</th>\n",
       "      <th>resp_lat</th>\n",
       "      <th>powers</th>\n",
       "      <th>sites</th>\n",
       "      <th>num_pulses</th>\n",
       "      <th>durations</th>\n",
       "      <th>freqs</th>\n",
       "      <th>stim_times</th>\n",
       "      <th>opto_pass</th>\n",
       "      <th>euclidean_norm</th>\n",
       "      <th>correlation</th>\n",
       "    </tr>\n",
       "  </thead>\n",
       "  <tbody>\n",
       "    <tr>\n",
       "      <th>380</th>\n",
       "      <td>84</td>\n",
       "      <td>0.4</td>\n",
       "      <td>0.310543</td>\n",
       "      <td>0.011824</td>\n",
       "      <td>10</td>\n",
       "      <td>surface_LC</td>\n",
       "      <td>5</td>\n",
       "      <td>4</td>\n",
       "      <td>5</td>\n",
       "      <td>post</td>\n",
       "      <td>True</td>\n",
       "      <td>0.02895</td>\n",
       "      <td>0.970476</td>\n",
       "    </tr>\n",
       "  </tbody>\n",
       "</table>\n",
       "</div>"
      ],
      "text/plain": [
       "     unit_id  resp_p  resp_p_bl  resp_lat  powers       sites  num_pulses  \\\n",
       "380       84     0.4   0.310543  0.011824      10  surface_LC           5   \n",
       "\n",
       "     durations  freqs stim_times  opto_pass  euclidean_norm  correlation  \n",
       "380          4      5       post       True         0.02895     0.970476  "
      ]
     },
     "execution_count": 17,
     "metadata": {},
     "output_type": "execute_result"
    }
   ],
   "source": [
    "op = opto_metrics(session, data_type)\n",
    "op.load_unit(84)"
   ]
  }
 ],
 "metadata": {
  "kernelspec": {
   "display_name": "base",
   "language": "python",
   "name": "python3"
  },
  "language_info": {
   "codemirror_mode": {
    "name": "ipython",
    "version": 3
   },
   "file_extension": ".py",
   "mimetype": "text/x-python",
   "name": "python",
   "nbconvert_exporter": "python",
   "pygments_lexer": "ipython3",
   "version": "3.10.16"
  }
 },
 "nbformat": 4,
 "nbformat_minor": 2
}
