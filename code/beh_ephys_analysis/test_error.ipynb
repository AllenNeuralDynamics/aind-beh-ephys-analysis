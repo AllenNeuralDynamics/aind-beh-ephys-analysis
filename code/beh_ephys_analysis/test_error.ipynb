{
 "cells": [
  {
   "cell_type": "code",
   "execution_count": 1,
   "metadata": {},
   "outputs": [
    {
     "ename": "OSError",
     "evalue": "[Errno 19] No such device",
     "output_type": "error",
     "traceback": [
      "\u001b[0;31m---------------------------------------------------------------------------\u001b[0m",
      "\u001b[0;31mOSError\u001b[0m                                   Traceback (most recent call last)",
      "\u001b[1;32m/root/capsule/code/beh_ephys_analysis/test_error.ipynb Cell 1\u001b[0m line \u001b[0;36m5\n\u001b[1;32m      <a href='vscode-notebook-cell://codeocean.allenneuraldynamics.org/root/capsule/code/beh_ephys_analysis/test_error.ipynb#W0sdnNjb2RlLXJlbW90ZQ%3D%3D?line=2'>3</a>\u001b[0m session \u001b[39m=\u001b[39m Session(\u001b[39m'\u001b[39m\u001b[39m/root/capsule/data/behavior_717121_2024-06-15_10-00-58_raw_data/ecephys/ecephys_clipped\u001b[39m\u001b[39m'\u001b[39m)\n\u001b[1;32m      <a href='vscode-notebook-cell://codeocean.allenneuraldynamics.org/root/capsule/code/beh_ephys_analysis/test_error.ipynb#W0sdnNjb2RlLXJlbW90ZQ%3D%3D?line=3'>4</a>\u001b[0m recording \u001b[39m=\u001b[39m session\u001b[39m.\u001b[39mrecordnodes[\u001b[39m0\u001b[39m]\u001b[39m.\u001b[39mrecordings[\u001b[39m0\u001b[39m]\n\u001b[0;32m----> <a href='vscode-notebook-cell://codeocean.allenneuraldynamics.org/root/capsule/code/beh_ephys_analysis/test_error.ipynb#W0sdnNjb2RlLXJlbW90ZQ%3D%3D?line=4'>5</a>\u001b[0m stream \u001b[39m=\u001b[39m recording\u001b[39m.\u001b[39;49mcontinuous\n",
      "File \u001b[0;32m/opt/conda/lib/python3.9/site-packages/open_ephys/analysis/recording.py:81\u001b[0m, in \u001b[0;36mRecording.continuous\u001b[0;34m(self)\u001b[0m\n\u001b[1;32m     78\u001b[0m \u001b[39m@property\u001b[39m\n\u001b[1;32m     79\u001b[0m \u001b[39mdef\u001b[39;00m \u001b[39mcontinuous\u001b[39m(\u001b[39mself\u001b[39m):\n\u001b[1;32m     80\u001b[0m     \u001b[39mif\u001b[39;00m \u001b[39mself\u001b[39m\u001b[39m.\u001b[39m_continuous \u001b[39mis\u001b[39;00m \u001b[39mNone\u001b[39;00m:\n\u001b[0;32m---> 81\u001b[0m         \u001b[39mself\u001b[39;49m\u001b[39m.\u001b[39;49mload_continuous()\n\u001b[1;32m     82\u001b[0m     \u001b[39mreturn\u001b[39;00m \u001b[39mself\u001b[39m\u001b[39m.\u001b[39m_continuous\n",
      "File \u001b[0;32m/opt/conda/lib/python3.9/site-packages/open_ephys/analysis/formats/BinaryRecording.py:159\u001b[0m, in \u001b[0;36mBinaryRecording.load_continuous\u001b[0;34m(self)\u001b[0m\n\u001b[1;32m    156\u001b[0m \u001b[39mfor\u001b[39;00m info \u001b[39min\u001b[39;00m \u001b[39mself\u001b[39m\u001b[39m.\u001b[39minfo[\u001b[39m'\u001b[39m\u001b[39mcontinuous\u001b[39m\u001b[39m'\u001b[39m]:\n\u001b[1;32m    158\u001b[0m     \u001b[39mtry\u001b[39;00m:\n\u001b[0;32m--> 159\u001b[0m         c \u001b[39m=\u001b[39m \u001b[39mself\u001b[39;49m\u001b[39m.\u001b[39;49mContinuous(info, \u001b[39mself\u001b[39;49m\u001b[39m.\u001b[39;49mdirectory, \u001b[39mself\u001b[39;49m\u001b[39m.\u001b[39;49m_version, \u001b[39mself\u001b[39;49m\u001b[39m.\u001b[39;49mmmap_timestamps)\n\u001b[1;32m    160\u001b[0m     \u001b[39mexcept\u001b[39;00m \u001b[39mFileNotFoundError\u001b[39;00m \u001b[39mas\u001b[39;00m e:\n\u001b[1;32m    161\u001b[0m         \u001b[39mprint\u001b[39m(info[\u001b[39m\"\u001b[39m\u001b[39mfolder_name\u001b[39m\u001b[39m\"\u001b[39m] \u001b[39m+\u001b[39m \u001b[39m\"\u001b[39m\u001b[39m missing file: \u001b[39m\u001b[39m'\u001b[39m\u001b[39m\"\u001b[39m \u001b[39m+\u001b[39m os\u001b[39m.\u001b[39mpath\u001b[39m.\u001b[39mbasename(e\u001b[39m.\u001b[39mfilename) \u001b[39m+\u001b[39m \u001b[39m\"\u001b[39m\u001b[39m'\u001b[39m\u001b[39m\"\u001b[39m)\n",
      "File \u001b[0;32m/opt/conda/lib/python3.9/site-packages/open_ephys/analysis/formats/BinaryRecording.py:95\u001b[0m, in \u001b[0;36mBinaryRecording.Continuous.__init__\u001b[0;34m(self, info, base_directory, version, mmap_timestamps)\u001b[0m\n\u001b[1;32m     92\u001b[0m \u001b[39mself\u001b[39m\u001b[39m.\u001b[39mmetadata[\u001b[39m'\u001b[39m\u001b[39mchannel_names\u001b[39m\u001b[39m'\u001b[39m] \u001b[39m=\u001b[39m [ch[\u001b[39m'\u001b[39m\u001b[39mchannel_name\u001b[39m\u001b[39m'\u001b[39m] \u001b[39mfor\u001b[39;00m ch \u001b[39min\u001b[39;00m info[\u001b[39m'\u001b[39m\u001b[39mchannels\u001b[39m\u001b[39m'\u001b[39m]]\n\u001b[1;32m     93\u001b[0m \u001b[39mself\u001b[39m\u001b[39m.\u001b[39mmetadata[\u001b[39m'\u001b[39m\u001b[39mbit_volts\u001b[39m\u001b[39m'\u001b[39m] \u001b[39m=\u001b[39m [ch[\u001b[39m'\u001b[39m\u001b[39mbit_volts\u001b[39m\u001b[39m'\u001b[39m] \u001b[39mfor\u001b[39;00m ch \u001b[39min\u001b[39;00m info[\u001b[39m'\u001b[39m\u001b[39mchannels\u001b[39m\u001b[39m'\u001b[39m]]\n\u001b[0;32m---> 95\u001b[0m data \u001b[39m=\u001b[39m np\u001b[39m.\u001b[39;49mmemmap(os\u001b[39m.\u001b[39;49mpath\u001b[39m.\u001b[39;49mjoin(directory, \u001b[39m'\u001b[39;49m\u001b[39mcontinuous.dat\u001b[39;49m\u001b[39m'\u001b[39;49m), mode\u001b[39m=\u001b[39;49m\u001b[39m'\u001b[39;49m\u001b[39mr\u001b[39;49m\u001b[39m'\u001b[39;49m, dtype\u001b[39m=\u001b[39;49m\u001b[39m'\u001b[39;49m\u001b[39mint16\u001b[39;49m\u001b[39m'\u001b[39;49m)\n\u001b[1;32m     96\u001b[0m \u001b[39mself\u001b[39m\u001b[39m.\u001b[39msamples \u001b[39m=\u001b[39m data\u001b[39m.\u001b[39mreshape((\u001b[39mlen\u001b[39m(data) \u001b[39m/\u001b[39m\u001b[39m/\u001b[39m \u001b[39mself\u001b[39m\u001b[39m.\u001b[39mmetadata[\u001b[39m'\u001b[39m\u001b[39mnum_channels\u001b[39m\u001b[39m'\u001b[39m], \n\u001b[1;32m     97\u001b[0m                              \u001b[39mself\u001b[39m\u001b[39m.\u001b[39mmetadata[\u001b[39m'\u001b[39m\u001b[39mnum_channels\u001b[39m\u001b[39m'\u001b[39m]))\n\u001b[1;32m     99\u001b[0m \u001b[39mtry\u001b[39;00m:\n",
      "File \u001b[0;32m/opt/conda/lib/python3.9/site-packages/numpy/core/memmap.py:268\u001b[0m, in \u001b[0;36mmemmap.__new__\u001b[0;34m(subtype, filename, dtype, mode, offset, shape, order)\u001b[0m\n\u001b[1;32m    266\u001b[0m \u001b[39mbytes\u001b[39m \u001b[39m-\u001b[39m\u001b[39m=\u001b[39m start\n\u001b[1;32m    267\u001b[0m array_offset \u001b[39m=\u001b[39m offset \u001b[39m-\u001b[39m start\n\u001b[0;32m--> 268\u001b[0m mm \u001b[39m=\u001b[39m mmap\u001b[39m.\u001b[39;49mmmap(fid\u001b[39m.\u001b[39;49mfileno(), \u001b[39mbytes\u001b[39;49m, access\u001b[39m=\u001b[39;49macc, offset\u001b[39m=\u001b[39;49mstart)\n\u001b[1;32m    270\u001b[0m \u001b[39mself\u001b[39m \u001b[39m=\u001b[39m ndarray\u001b[39m.\u001b[39m\u001b[39m__new__\u001b[39m(subtype, shape, dtype\u001b[39m=\u001b[39mdescr, buffer\u001b[39m=\u001b[39mmm,\n\u001b[1;32m    271\u001b[0m                        offset\u001b[39m=\u001b[39marray_offset, order\u001b[39m=\u001b[39morder)\n\u001b[1;32m    272\u001b[0m \u001b[39mself\u001b[39m\u001b[39m.\u001b[39m_mmap \u001b[39m=\u001b[39m mm\n",
      "\u001b[0;31mOSError\u001b[0m: [Errno 19] No such device"
     ]
    }
   ],
   "source": [
    "from open_ephys.analysis import Session\n",
    "\n",
    "session = Session('/root/capsule/data/behavior_717121_2024-06-15_10-00-58_raw_data/ecephys/ecephys_clipped')\n",
    "recording = session.recordnodes[0].recordings[0]\n",
    "stream = recording.continuous"
   ]
  }
 ],
 "metadata": {
  "kernelspec": {
   "display_name": "base",
   "language": "python",
   "name": "python3"
  },
  "language_info": {
   "codemirror_mode": {
    "name": "ipython",
    "version": 3
   },
   "file_extension": ".py",
   "mimetype": "text/x-python",
   "name": "python",
   "nbconvert_exporter": "python",
   "pygments_lexer": "ipython3",
   "version": "3.9.12"
  }
 },
 "nbformat": 4,
 "nbformat_minor": 2
}
