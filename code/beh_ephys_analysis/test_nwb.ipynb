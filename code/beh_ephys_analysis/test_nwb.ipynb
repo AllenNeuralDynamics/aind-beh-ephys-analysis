{
 "cells": [
  {
   "cell_type": "code",
   "execution_count": 1,
   "metadata": {},
   "outputs": [],
   "source": [
    "import sys\n",
    "import os\n",
    "sys.path.append('/root/capsule/code/beh_ephys_analysis')\n",
    "import numpy as np\n",
    "import pandas as pd\n",
    "import matplotlib.pyplot as plt\n",
    "from utils.beh_functions import *\n",
    "from aind_dynamic_foraging_data_utils.nwb_utils import load_nwb_from_filename\n",
    "from aind_dynamic_foraging_basic_analysis.plot.plot_foraging_session import plot_foraging_session, plot_foraging_session_nwb\n",
    "from aind_dynamic_foraging_basic_analysis.licks.lick_analysis import plot_lick_analysis, cal_metrics, plot_met, load_data\n",
    "from harp.clock import decode_harp_clock, align_timestamps_to_anchor_points\n",
    "from open_ephys.analysis import Session\n",
    "import datetime\n",
    "from aind_ephys_rig_qc.temporal_alignment import search_harp_line\n",
    "from matplotlib.gridspec import GridSpec\n",
    "import json"
   ]
  },
  {
   "cell_type": "code",
   "execution_count": null,
   "metadata": {},
   "outputs": [],
   "source": [
    "nwb_file = '/root/capsule/scratch/behavior_758017_2025-02-04_11-57-33.nwb'\n",
    "print('Plotting session.')\n",
    "nwb = load_nwb_from_filename(nwb_file)\n",
    "fig = plot_session_in_time_all(nwb)\n",
    "\n",
    "fig, _ = plot_lick_analysis(nwb)\n",
    "\n",
    "fig, _ = plot_session_glm(nwb, tMax=5)"
   ]
  },
  {
   "cell_type": "code",
   "execution_count": 5,
   "metadata": {},
   "outputs": [],
   "source": [
    "df_trial = nwb.trials.to_dataframe()"
   ]
  },
  {
   "cell_type": "code",
   "execution_count": 11,
   "metadata": {},
   "outputs": [
    {
     "data": {
      "text/plain": [
       "array(['ITI_beta', 'ITI_duration', 'ITI_max', 'ITI_min',\n",
       "       'animal_response', 'auto_train_curriculum_name',\n",
       "       'auto_train_curriculum_schema_version',\n",
       "       'auto_train_curriculum_version', 'auto_train_engaged',\n",
       "       'auto_train_stage', 'auto_train_stage_overridden', 'auto_waterL',\n",
       "       'auto_waterR', 'bait_left', 'bait_right',\n",
       "       'base_reward_probability_sum', 'block_beta', 'block_max',\n",
       "       'block_min', 'delay_beta', 'delay_duration', 'delay_max',\n",
       "       'delay_min', 'delay_start_time', 'end_key', 'laser_on_trial',\n",
       "       'left_valve_open_time', 'min_reward_each_block',\n",
       "       'response_duration', 'reward_consumption_duration',\n",
       "       'reward_outcome_time', 'reward_probabilityL',\n",
       "       'reward_probabilityR', 'reward_random_number_left',\n",
       "       'reward_random_number_right', 'reward_size_left',\n",
       "       'reward_size_right', 'rewarded_historyL', 'rewarded_historyR',\n",
       "       'right_valve_open_time', 'start_key', 'start_time', 'stop_time'],\n",
       "      dtype=object)"
      ]
     },
     "execution_count": 11,
     "metadata": {},
     "output_type": "execute_result"
    }
   ],
   "source": [
    "np.sort(df_trial.columns)"
   ]
  },
  {
   "cell_type": "code",
   "execution_count": null,
   "metadata": {},
   "outputs": [],
   "source": []
  }
 ],
 "metadata": {
  "kernelspec": {
   "display_name": "base",
   "language": "python",
   "name": "python3"
  },
  "language_info": {
   "codemirror_mode": {
    "name": "ipython",
    "version": 3
   },
   "file_extension": ".py",
   "mimetype": "text/x-python",
   "name": "python",
   "nbconvert_exporter": "python",
   "pygments_lexer": "ipython3",
   "version": "3.10.9"
  }
 },
 "nbformat": 4,
 "nbformat_minor": 2
}
