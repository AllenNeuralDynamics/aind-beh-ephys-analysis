{
 "cells": [
  {
   "cell_type": "code",
   "execution_count": 1,
   "metadata": {},
   "outputs": [],
   "source": [
    "import sys\n",
    "import os\n",
    "sys.path.append('/root/capsule/code/beh_ephys_analysis')\n",
    "import numpy as np\n",
    "import pandas as pd\n",
    "import matplotlib.pyplot as plt\n",
    "from utils.beh_functions import *\n",
    "from aind_dynamic_foraging_data_utils.nwb_utils import load_nwb_from_filename\n",
    "from aind_dynamic_foraging_basic_analysis.plot.plot_foraging_session import plot_foraging_session, plot_foraging_session_nwb\n",
    "from aind_dynamic_foraging_basic_analysis.licks.lick_analysis import plot_lick_analysis, cal_metrics, plot_met, load_data\n",
    "from harp.clock import decode_harp_clock, align_timestamps_to_anchor_points\n",
    "from open_ephys.analysis import Session\n",
    "import datetime\n",
    "from aind_ephys_rig_qc.temporal_alignment import search_harp_line\n",
    "from matplotlib.gridspec import GridSpec\n",
    "import json"
   ]
  },
  {
   "cell_type": "code",
   "execution_count": 2,
   "metadata": {},
   "outputs": [
    {
     "name": "stdout",
     "output_type": "stream",
     "text": [
      "Plotting session.\n"
     ]
    },
    {
     "ename": "KeyError",
     "evalue": "'left_lick_time'",
     "output_type": "error",
     "traceback": [
      "\u001b[0;31m---------------------------------------------------------------------------\u001b[0m",
      "\u001b[0;31mKeyError\u001b[0m                                  Traceback (most recent call last)",
      "\u001b[1;32m/root/capsule/code/beh_ephys_analysis/test_nwb.ipynb Cell 2\u001b[0m line \u001b[0;36m4\n\u001b[1;32m      <a href='vscode-notebook-cell://codeocean.allenneuraldynamics.org/root/capsule/code/beh_ephys_analysis/test_nwb.ipynb#W1sdnNjb2RlLXJlbW90ZQ%3D%3D?line=1'>2</a>\u001b[0m \u001b[39mprint\u001b[39m(\u001b[39m'\u001b[39m\u001b[39mPlotting session.\u001b[39m\u001b[39m'\u001b[39m)\n\u001b[1;32m      <a href='vscode-notebook-cell://codeocean.allenneuraldynamics.org/root/capsule/code/beh_ephys_analysis/test_nwb.ipynb#W1sdnNjb2RlLXJlbW90ZQ%3D%3D?line=2'>3</a>\u001b[0m nwb \u001b[39m=\u001b[39m load_nwb_from_filename(nwb_file)\n\u001b[0;32m----> <a href='vscode-notebook-cell://codeocean.allenneuraldynamics.org/root/capsule/code/beh_ephys_analysis/test_nwb.ipynb#W1sdnNjb2RlLXJlbW90ZQ%3D%3D?line=3'>4</a>\u001b[0m fig \u001b[39m=\u001b[39m plot_session_in_time_all(nwb)\n\u001b[1;32m      <a href='vscode-notebook-cell://codeocean.allenneuraldynamics.org/root/capsule/code/beh_ephys_analysis/test_nwb.ipynb#W1sdnNjb2RlLXJlbW90ZQ%3D%3D?line=5'>6</a>\u001b[0m fig, _ \u001b[39m=\u001b[39m plot_lick_analysis(nwb)\n\u001b[1;32m      <a href='vscode-notebook-cell://codeocean.allenneuraldynamics.org/root/capsule/code/beh_ephys_analysis/test_nwb.ipynb#W1sdnNjb2RlLXJlbW90ZQ%3D%3D?line=7'>8</a>\u001b[0m fig, _ \u001b[39m=\u001b[39m plot_session_glm(nwb, tMax\u001b[39m=\u001b[39m\u001b[39m5\u001b[39m)\n",
      "File \u001b[0;32m~/capsule/code/beh_ephys_analysis/utils/beh_functions.py:938\u001b[0m, in \u001b[0;36mplot_session_in_time_all\u001b[0;34m(nwb, bin_size, in_time, ax_ori)\u001b[0m\n\u001b[1;32m    936\u001b[0m ax_choice_reward\u001b[39m.\u001b[39mset_frame_on(\u001b[39mFalse\u001b[39;00m)\n\u001b[1;32m    937\u001b[0m \u001b[39m# plot licks\u001b[39;00m\n\u001b[0;32m--> 938\u001b[0m data \u001b[39m=\u001b[39m load_data(nwb)   \n\u001b[1;32m    939\u001b[0m ax \u001b[39m=\u001b[39m fig\u001b[39m.\u001b[39madd_subplot(gs[\u001b[39m2\u001b[39m]) \n\u001b[1;32m    940\u001b[0m \u001b[39m# ax = plt.subplot(gs[2])\u001b[39;00m\n",
      "File \u001b[0;32m/opt/conda/lib/python3.10/site-packages/aind_dynamic_foraging_basic_analysis/licks/lick_analysis.py:227\u001b[0m, in \u001b[0;36mload_data\u001b[0;34m(nwb)\u001b[0m\n\u001b[1;32m    225\u001b[0m session_id \u001b[39m=\u001b[39m session_id\u001b[39m.\u001b[39msplit(\u001b[39m\"\u001b[39m\u001b[39m.\u001b[39m\u001b[39m\"\u001b[39m)[\u001b[39m0\u001b[39m]\n\u001b[1;32m    226\u001b[0m tbl_trials \u001b[39m=\u001b[39m nwb\u001b[39m.\u001b[39mtrials\u001b[39m.\u001b[39mto_dataframe()\n\u001b[0;32m--> 227\u001b[0m left_licks \u001b[39m=\u001b[39m nwb\u001b[39m.\u001b[39;49macquisition[\u001b[39m\"\u001b[39;49m\u001b[39mleft_lick_time\u001b[39;49m\u001b[39m\"\u001b[39;49m]\u001b[39m.\u001b[39mtimestamps[:]\n\u001b[1;32m    228\u001b[0m right_licks \u001b[39m=\u001b[39m nwb\u001b[39m.\u001b[39macquisition[\u001b[39m\"\u001b[39m\u001b[39mright_lick_time\u001b[39m\u001b[39m\"\u001b[39m]\u001b[39m.\u001b[39mtimestamps[:]\n\u001b[1;32m    229\u001b[0m all_licks \u001b[39m=\u001b[39m np\u001b[39m.\u001b[39msort(np\u001b[39m.\u001b[39mconcatenate((right_licks, left_licks)))\n",
      "File \u001b[0;32m/opt/conda/lib/python3.10/site-packages/hdmf/utils.py:1031\u001b[0m, in \u001b[0;36mLabelledDict.__getitem__\u001b[0;34m(self, args)\u001b[0m\n\u001b[1;32m   1029\u001b[0m         \u001b[39mreturn\u001b[39;00m \u001b[39msuper\u001b[39m()\u001b[39m.\u001b[39m\u001b[39m__getitem__\u001b[39m(val)\n\u001b[1;32m   1030\u001b[0m \u001b[39melse\u001b[39;00m:\n\u001b[0;32m-> 1031\u001b[0m     \u001b[39mreturn\u001b[39;00m \u001b[39msuper\u001b[39;49m()\u001b[39m.\u001b[39;49m\u001b[39m__getitem__\u001b[39;49m(key)\n",
      "\u001b[0;31mKeyError\u001b[0m: 'left_lick_time'"
     ]
    }
   ],
   "source": [
    "nwb_file = '/root/capsule/scratch/758017/behavior_758017_2025-02-04_11-57-38/behavior/behavior_758017_2025-02-04_11-57-33.nwb'\n",
    "print('Plotting session.')\n",
    "nwb = load_nwb_from_filename(nwb_file)\n",
    "fig = plot_session_in_time_all(nwb)\n",
    "\n",
    "fig, _ = plot_lick_analysis(nwb)\n",
    "\n",
    "fig, _ = plot_session_glm(nwb, tMax=5)"
   ]
  },
  {
   "cell_type": "code",
   "execution_count": 7,
   "metadata": {},
   "outputs": [
    {
     "data": {
      "text/plain": [
       "array(['ITI_beta', 'ITI_duration', 'ITI_max', 'ITI_min',\n",
       "       'animal_response', 'auto_train_curriculum_name',\n",
       "       'auto_train_curriculum_schema_version',\n",
       "       'auto_train_curriculum_version', 'auto_train_engaged',\n",
       "       'auto_train_stage', 'auto_train_stage_overridden', 'auto_waterL',\n",
       "       'auto_waterR', 'bait_left', 'bait_right',\n",
       "       'base_reward_probability_sum', 'block_beta', 'block_max',\n",
       "       'block_min', 'delay_beta', 'delay_duration', 'delay_max',\n",
       "       'delay_min', 'delay_start_time', 'end_key', 'goCue_start_time',\n",
       "       'laser_on_trial', 'left_valve_open_time', 'min_reward_each_block',\n",
       "       'response_duration', 'reward_consumption_duration',\n",
       "       'reward_outcome_time', 'reward_probabilityL',\n",
       "       'reward_probabilityR', 'reward_random_number_left',\n",
       "       'reward_random_number_right', 'reward_size_left',\n",
       "       'reward_size_right', 'rewarded_historyL', 'rewarded_historyR',\n",
       "       'right_valve_open_time', 'start_key', 'start_time', 'stop_time'],\n",
       "      dtype=object)"
      ]
     },
     "execution_count": 7,
     "metadata": {},
     "output_type": "execute_result"
    }
   ],
   "source": [
    "nwb_file = '/root/capsule/scratch/758017/behavior_758017_2025-02-04_11-57-38/behavior/behavior_758017_2025-02-04_11-57-33.nwb'\n",
    "nwb = load_nwb_from_filename(nwb_file)\n",
    "df_trial = nwb.trials.to_dataframe()\n",
    "np.sort(df_trial.columns)"
   ]
  }
 ],
 "metadata": {
  "kernelspec": {
   "display_name": "base",
   "language": "python",
   "name": "python3"
  },
  "language_info": {
   "codemirror_mode": {
    "name": "ipython",
    "version": 3
   },
   "file_extension": ".py",
   "mimetype": "text/x-python",
   "name": "python",
   "nbconvert_exporter": "python",
   "pygments_lexer": "ipython3",
   "version": "3.10.16"
  }
 },
 "nbformat": 4,
 "nbformat_minor": 2
}
