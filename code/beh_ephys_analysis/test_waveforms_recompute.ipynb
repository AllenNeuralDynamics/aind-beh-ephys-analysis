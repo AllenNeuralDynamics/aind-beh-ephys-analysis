{
 "cells": [
  {
   "cell_type": "code",
   "execution_count": 56,
   "metadata": {},
   "outputs": [],
   "source": [
    "import os\n",
    "import sys\n",
    "sys.path.append('/root/capsule/code/beh_ephys_analysis')\n",
    "import pandas as pd\n",
    "import xarray as xr\n",
    "import numpy as np\n",
    "import matplotlib.pyplot as plt\n",
    "import matplotlib.gridspec as gridspec\n",
    "import matplotlib.patches as patches\n",
    "import json\n",
    "from harp.clock import decode_harp_clock, align_timestamps_to_anchor_points\n",
    "from sklearn.decomposition import PCA\n",
    "from sklearn.cluster import KMeans\n",
    "import re\n",
    "from utils.beh_functions import parseSessionID, session_dirs\n",
    "from utils.plot_utils import shiftedColorMap, template_reorder\n",
    "from open_ephys.analysis import Session##\n",
    "import spikeinterface as si\n",
    "import spikeinterface.extractors as se\n",
    "import spikeinterface.postprocessing as spost\n",
    "import spikeinterface.widgets as sw\n",
    "from aind_dynamic_foraging_basic_analysis.licks.lick_analysis import load_nwb\n",
    "from aind_ephys_utils import align\n",
    "from matplotlib.colors import LinearSegmentedColormap\n",
    "from matplotlib import colormaps\n",
    "from aind_dynamic_foraging_data_utils.nwb_utils import load_nwb_from_filename\n",
    "from spikeinterface.core.sorting_tools import random_spikes_selection\n",
    "import pickle\n",
    "import datetime\n",
    "import spikeinterface.extractors as se\n",
    "import spikeinterface.preprocessing as spre\n",
    "import spikeinterface.postprocessing as spost\n",
    "from tqdm import tqdm"
   ]
  },
  {
   "cell_type": "code",
   "execution_count": 2,
   "metadata": {},
   "outputs": [],
   "source": [
    "session = 'behavior_751004_2024-12-23_14-20-03'\n",
    "data_type = 'curated'\n",
    "target = 'soma'"
   ]
  },
  {
   "cell_type": "code",
   "execution_count": 3,
   "metadata": {},
   "outputs": [],
   "source": [
    "# opto info\n",
    "session_dir = session_dirs(session)\n",
    "opto_df = pd.read_csv(os.path.join(session_dir[f'opto_dir_{data_type}'], f'{session}_opto_session_{target}.csv'), index_col=0)\n",
    "with open(os.path.join(session_dir[f'opto_dir_{data_type}'], f'{session}_opto_info_{target}.json')) as f:\n",
    "    opto_info = json.load(f)\n",
    "powers = opto_info['powers']\n",
    "sites = opto_info['sites']\n",
    "num_pulses = opto_info['num_pulses']\n",
    "duration = opto_info['durations']\n",
    "pulse_offset = np.array([1/freq for freq in opto_info['freqs']])\n",
    "total_duration = (pulse_offset) * num_pulses\n",
    "session_rec = Session(session_dir['session_dir'])\n",
    "recording = session_rec.recordnodes[0].recordings[0]\n",
    "timestamps = recording.continuous[0].timestamps\n",
    "laser_onset_samples = np.searchsorted(timestamps, opto_df['time'].values)\n",
    "opto_df['laser_onset_samples'] = laser_onset_samples"
   ]
  },
  {
   "cell_type": "code",
   "execution_count": 4,
   "metadata": {},
   "outputs": [
    {
     "name": "stdout",
     "output_type": "stream",
     "text": [
      "Total 177 units\n"
     ]
    }
   ],
   "source": [
    "# recording info\n",
    "sorting = si.load_extractor(session_dir[f'curated_dir_{data_type}'])\n",
    "max_spikes_per_unit_spontaneous = 500\n",
    "spike_vector = sorting.to_spike_vector()\n",
    "unit_ids = sorting.unit_ids\n",
    "num_units = len(sorting.unit_ids)\n",
    "print(f\"Total {len(sorting.unit_ids)} units\")\n",
    "max_spikes_per_unit_spontaneous = 500"
   ]
  },
  {
   "cell_type": "code",
   "execution_count": 61,
   "metadata": {},
   "outputs": [
    {
     "name": "stdout",
     "output_type": "stream",
     "text": [
      "# of responding units:  66\n",
      "emission_location:surface_LC, power:10 , duration: 4, freq: 5 #spikes: 488\n",
      "# of responding units:  88\n",
      "emission_location:surface_LC, power:20 , duration: 4, freq: 5 #spikes: 926\n",
      "# of responding units:  131\n",
      "emission_location:surface_LC, power:30 , duration: 4, freq: 5 #spikes: 2772\n",
      "# of responding units:  84\n",
      "emission_location:surface_LC, power:40 , duration: 4, freq: 5 #spikes: 961\n",
      "# of responding units:  90\n",
      "emission_location:surface_LC, power:50 , duration: 4, freq: 5 #spikes: 976\n"
     ]
    }
   ],
   "source": [
    "# Spike indices\n",
    "spike_indices = spike_vector[\"sample_index\"]\n",
    "\n",
    "response_window = opto_info['resp_win']+0.005 # to take care of potential late responses\n",
    "response_window_samples = int(response_window * sorting.sampling_frequency)\n",
    "\n",
    "num_cases = len(opto_info['powers']) * len(opto_info['sites']) * len(opto_info['durations'])\n",
    "\n",
    "unit_index_offset = num_units\n",
    "all_unit_ids = [f\"{u} spont\" for u in unit_ids]\n",
    "\n",
    "all_spikes_in_responses = []\n",
    "spike_indices_removed = []\n",
    "\n",
    "for power_ind, curr_power in enumerate(opto_info['powers']):\n",
    "    for site_ind, curr_site in enumerate(opto_info['sites']):                                                             \n",
    "        for duration_ind, curr_duration in enumerate(opto_info['durations']):\n",
    "            spikes_in_response = []\n",
    "            onset_offset_indices = []\n",
    "            for freq_ind, curr_freq in enumerate(opto_info['freqs']):\n",
    "                for num_pulse_ind, curr_num_pulses in enumerate(opto_info['num_pulses']):\n",
    "                    onset_samples = opto_df.query('site == @curr_site and power == @curr_power and duration == @curr_duration and freq == @curr_freq and num_pulses == @curr_num_pulses')['laser_onset_samples'].values\n",
    "                    pulse_offset = 1/curr_freq * sorting.sampling_frequency\n",
    "                    pulse_offset_samples = int(pulse_offset * sorting.sampling_frequency)\n",
    "                    for pulse_ind in range(curr_num_pulses):\n",
    "                        for onset_sample in onset_samples:\n",
    "                            # response window\n",
    "                            onset_response = onset_sample + pulse_ind * pulse_offset_samples\n",
    "                            onset_offset_indices.append(onset_response)\n",
    "                            offset_response = onset_response + response_window_samples\n",
    "                            onset_offset_indices.append(offset_response)\n",
    "                start_stop_indices = np.searchsorted(spike_indices, np.array(onset_offset_indices))\n",
    "                for i, (start, stop) in enumerate(zip(start_stop_indices[::2], start_stop_indices[1::2])):\n",
    "                    sv = spike_vector[start:stop]\n",
    "                    if len(sv) > 0:\n",
    "                        spike_indices_removed.append(np.arange(start, stop))\n",
    "                    sv_copy = sv.copy()\n",
    "                    sv_copy[\"unit_index\"] = sv_copy[\"unit_index\"] + unit_index_offset\n",
    "                    spikes_in_response.append(sv_copy)\n",
    "                    # num_cases += 1\n",
    "                    \n",
    "            spikes_in_response = np.concatenate(spikes_in_response)\n",
    "            print('# of responding units: ', len(np.unique(spikes_in_response['unit_index'])))\n",
    "            unit_index_offset += num_units\n",
    "            all_spikes_in_responses.append(spikes_in_response)\n",
    "            new_unit_ids = [f\"{u} emission_location:{curr_site}, power:{curr_power}, duration:{curr_duration}, freq:{curr_freq}\" for u in unit_ids]\n",
    "            print(f\"emission_location:{curr_site}, power:{curr_power} , duration: {curr_duration}, freq: {curr_freq} #spikes: {len(spikes_in_response)}\")\n",
    "            all_unit_ids += new_unit_ids\n",
    "                            \n",
    "\n",
    "\n",
    "\n",
    "            \n",
    "all_spikes_in_responses = np.concatenate(all_spikes_in_responses)\n",
    "spike_indices_removed = np.concatenate(spike_indices_removed)\n",
    "\n",
    "# select random spontaneous spikes\n",
    "all_spikes_not_in_responses = np.delete(spike_vector, spike_indices_removed)\n",
    "sorting_no_responses = si.NumpySorting(\n",
    "    all_spikes_not_in_responses, \n",
    "    unit_ids=unit_ids, \n",
    "    sampling_frequency=sorting.sampling_frequency\n",
    ")\n",
    "random_spike_indices = random_spikes_selection(sorting_no_responses, method=\"uniform\",\n",
    "                                               max_spikes_per_unit=max_spikes_per_unit_spontaneous)\n",
    "selected_spikes_no_responses = all_spikes_not_in_responses[random_spike_indices]\n",
    "\n",
    "all_spikes = np.concatenate([selected_spikes_no_responses, all_spikes_in_responses])\n",
    "\n",
    "# sort by segment+index\n",
    "all_spikes = all_spikes[\n",
    "    np.lexsort((all_spikes[\"sample_index\"], all_spikes[\"segment_index\"]))\n",
    "]\n",
    "\n",
    "sorting_all = si.NumpySorting(\n",
    "    all_spikes, \n",
    "    unit_ids=all_unit_ids, \n",
    "    sampling_frequency=sorting.sampling_frequency\n",
    ")"
   ]
  },
  {
   "cell_type": "code",
   "execution_count": 62,
   "metadata": {},
   "outputs": [
    {
     "name": "stdout",
     "output_type": "stream",
     "text": [
      "original: 6634213\n",
      "sampled: 82055\n"
     ]
    }
   ],
   "source": [
    "print(\"original:\", len(spike_vector))\n",
    "print(\"sampled:\", len(sorting_all.to_spike_vector()))"
   ]
  },
  {
   "cell_type": "code",
   "execution_count": 63,
   "metadata": {},
   "outputs": [],
   "source": [
    "def load_and_preprocess_recording(session_folder, stream_name):\n",
    "    ephys_path = os.path.dirname(session_folder)\n",
    "    compressed_folder = os.path.join(ephys_path, 'ecephys_compressed')\n",
    "    recording_zarr = [os.path.join(compressed_folder, f) for f in os.listdir(compressed_folder) if stream_name in f][0]\n",
    "    recording = si.read_zarr(recording_zarr)\n",
    "    # preprocess\n",
    "    recording_processed = spre.phase_shift(recording)\n",
    "    recording_processed = spre.highpass_filter(recording_processed)    \n",
    "    recording_processed = spre.common_reference(recording_processed)\n",
    "    return recording_processed"
   ]
  },
  {
   "cell_type": "code",
   "execution_count": 32,
   "metadata": {},
   "outputs": [],
   "source": [
    "recording_processed = load_and_preprocess_recording(session_dir['session_dir'], 'ProbeA')"
   ]
  },
  {
   "cell_type": "code",
   "execution_count": 66,
   "metadata": {},
   "outputs": [],
   "source": [
    "we = si.load_sorting_analyzer_or_waveforms(session_dir[f'postprocessed_dir_{data_type}'])"
   ]
  },
  {
   "cell_type": "code",
   "execution_count": 67,
   "metadata": {},
   "outputs": [
    {
     "name": "stdout",
     "output_type": "stream",
     "text": [
      "Num good channels: 379\n"
     ]
    }
   ],
   "source": [
    "# filter good channels\n",
    "good_channel_ids = recording_processed.channel_ids[\n",
    "    np.in1d(recording_processed.channel_ids, we.channel_ids)\n",
    "]\n",
    "\n",
    "recording_processed_good = recording_processed.select_channels(good_channel_ids)\n",
    "print(f\"Num good channels: {recording_processed_good.get_num_channels()}\")"
   ]
  },
  {
   "cell_type": "code",
   "execution_count": 68,
   "metadata": {},
   "outputs": [],
   "source": [
    "num_cases = len(sorting_all.unit_ids) // num_units - 1"
   ]
  },
  {
   "cell_type": "code",
   "execution_count": 70,
   "metadata": {},
   "outputs": [],
   "source": [
    "sparsity_mask_all = np.tile(we.sparsity.mask, (num_cases + 1, 1))\n",
    "sparsity_all = si.ChannelSparsity(\n",
    "    sparsity_mask_all,\n",
    "    unit_ids=sorting_all.unit_ids,\n",
    "    channel_ids=recording_processed_good.channel_ids\n",
    ")\n",
    "si.set_global_job_kwargs(n_jobs=-1, progress_bar=True)"
   ]
  },
  {
   "cell_type": "code",
   "execution_count": 71,
   "metadata": {},
   "outputs": [],
   "source": [
    "si.set_global_job_kwargs(n_jobs=-1, progress_bar=True)"
   ]
  },
  {
   "cell_type": "code",
   "execution_count": 72,
   "metadata": {},
   "outputs": [],
   "source": [
    "# create analyzer\n",
    "analyzer_all = si.create_sorting_analyzer(\n",
    "    # sorting_all.select_units(ROI_unit_ids),\n",
    "    sorting_all,\n",
    "    recording_processed_good,\n",
    "    sparsity=sparsity_all\n",
    ")"
   ]
  },
  {
   "cell_type": "code",
   "execution_count": 73,
   "metadata": {},
   "outputs": [
    {
     "name": "stdout",
     "output_type": "stream",
     "text": [
      "['0 spont', '1 spont', '2 spont', '3 spont', '4 spont', '5 spont', '6 spont', '7 spont', '8 spont', '9 spont', '10 spont', '15 spont', '16 spont', '17 spont', '18 spont', '19 spont', '21 spont', '22 spont', '26 spont', '27 spont', '28 spont', '29 spont', '30 spont', '31 spont', '32 spont', '33 spont', '34 spont', '35 spont', '36 spont', '37 spont', '38 spont', '39 spont', '41 spont', '42 spont', '43 spont', '44 spont', '45 spont', '46 spont', '47 spont', '48 spont', '50 spont', '51 spont', '52 spont', '56 spont', '57 spont', '58 spont', '59 spont', '60 spont', '61 spont', '62 spont', '63 spont', '64 spont', '65 spont', '66 spont', '67 spont', '68 spont', '69 spont', '70 spont', '71 spont', '72 spont', '73 spont', '74 spont', '75 spont', '76 spont', '77 spont', '78 spont', '79 spont', '80 spont', '81 spont', '82 spont', '83 spont', '84 spont', '85 spont', '86 spont', '87 spont', '88 spont', '89 spont', '90 spont', '91 spont', '92 spont', '93 spont', '94 spont', '95 spont', '96 spont', '97 spont', '98 spont', '99 spont', '100 spont', '101 spont', '102 spont', '103 spont', '104 spont', '105 spont', '106 spont', '107 spont', '108 spont', '109 spont', '110 spont', '111 spont', '112 spont', '113 spont', '114 spont', '115 spont', '116 spont', '117 spont', '118 spont', '119 spont', '120 spont', '121 spont', '122 spont', '123 spont', '124 spont', '125 spont', '126 spont', '127 spont', '128 spont', '129 spont', '130 spont', '131 spont', '132 spont', '133 spont', '134 spont', '135 spont', '136 spont', '137 spont', '138 spont', '139 spont', '140 spont', '141 spont', '144 spont', '145 spont', '146 spont', '148 spont', '149 spont', '150 spont', '151 spont', '152 spont', '153 spont', '154 spont', '156 spont', '158 spont', '159 spont', '160 spont', '161 spont', '162 spont', '163 spont', '164 spont', '165 spont', '166 spont', '167 spont', '168 spont', '169 spont', '170 spont', '171 spont', '172 spont', '173 spont', '174 spont', '175 spont', '176 spont', '177 spont', '178 spont', '179 spont', '180 spont', '182 spont', '183 spont', '185 spont', '186 spont', '187 spont', '188 spont', '189 spont', '190 spont', '191 spont', '192 spont', '193 spont', '194 spont', '195 spont', '196 spont', '3 emission_location:surface_LC, power:10, duration:4, freq:5', '7 emission_location:surface_LC, power:10, duration:4, freq:5', '21 emission_location:surface_LC, power:10, duration:4, freq:5', '28 emission_location:surface_LC, power:10, duration:4, freq:5', '31 emission_location:surface_LC, power:10, duration:4, freq:5', '32 emission_location:surface_LC, power:10, duration:4, freq:5', '37 emission_location:surface_LC, power:10, duration:4, freq:5', '41 emission_location:surface_LC, power:10, duration:4, freq:5', '43 emission_location:surface_LC, power:10, duration:4, freq:5', '64 emission_location:surface_LC, power:10, duration:4, freq:5', '84 emission_location:surface_LC, power:10, duration:4, freq:5', '91 emission_location:surface_LC, power:10, duration:4, freq:5', '97 emission_location:surface_LC, power:10, duration:4, freq:5', '98 emission_location:surface_LC, power:10, duration:4, freq:5', '100 emission_location:surface_LC, power:10, duration:4, freq:5', '118 emission_location:surface_LC, power:10, duration:4, freq:5', '119 emission_location:surface_LC, power:10, duration:4, freq:5', '121 emission_location:surface_LC, power:10, duration:4, freq:5', '125 emission_location:surface_LC, power:10, duration:4, freq:5', '127 emission_location:surface_LC, power:10, duration:4, freq:5', '129 emission_location:surface_LC, power:10, duration:4, freq:5', '145 emission_location:surface_LC, power:10, duration:4, freq:5', '146 emission_location:surface_LC, power:10, duration:4, freq:5', '161 emission_location:surface_LC, power:10, duration:4, freq:5', '191 emission_location:surface_LC, power:10, duration:4, freq:5', '192 emission_location:surface_LC, power:10, duration:4, freq:5', '194 emission_location:surface_LC, power:10, duration:4, freq:5', '195 emission_location:surface_LC, power:10, duration:4, freq:5', '196 emission_location:surface_LC, power:10, duration:4, freq:5', '3 emission_location:surface_LC, power:20, duration:4, freq:5', '7 emission_location:surface_LC, power:20, duration:4, freq:5', '17 emission_location:surface_LC, power:20, duration:4, freq:5', '19 emission_location:surface_LC, power:20, duration:4, freq:5', '21 emission_location:surface_LC, power:20, duration:4, freq:5', '22 emission_location:surface_LC, power:20, duration:4, freq:5', '26 emission_location:surface_LC, power:20, duration:4, freq:5', '28 emission_location:surface_LC, power:20, duration:4, freq:5', '29 emission_location:surface_LC, power:20, duration:4, freq:5', '31 emission_location:surface_LC, power:20, duration:4, freq:5', '32 emission_location:surface_LC, power:20, duration:4, freq:5', '37 emission_location:surface_LC, power:20, duration:4, freq:5', '41 emission_location:surface_LC, power:20, duration:4, freq:5', '43 emission_location:surface_LC, power:20, duration:4, freq:5', '52 emission_location:surface_LC, power:20, duration:4, freq:5', '56 emission_location:surface_LC, power:20, duration:4, freq:5', '57 emission_location:surface_LC, power:20, duration:4, freq:5', '58 emission_location:surface_LC, power:20, duration:4, freq:5', '60 emission_location:surface_LC, power:20, duration:4, freq:5', '61 emission_location:surface_LC, power:20, duration:4, freq:5', '64 emission_location:surface_LC, power:20, duration:4, freq:5', '65 emission_location:surface_LC, power:20, duration:4, freq:5', '84 emission_location:surface_LC, power:20, duration:4, freq:5', '91 emission_location:surface_LC, power:20, duration:4, freq:5', '97 emission_location:surface_LC, power:20, duration:4, freq:5', '98 emission_location:surface_LC, power:20, duration:4, freq:5', '99 emission_location:surface_LC, power:20, duration:4, freq:5', '118 emission_location:surface_LC, power:20, duration:4, freq:5', '119 emission_location:surface_LC, power:20, duration:4, freq:5', '121 emission_location:surface_LC, power:20, duration:4, freq:5', '125 emission_location:surface_LC, power:20, duration:4, freq:5', '127 emission_location:surface_LC, power:20, duration:4, freq:5', '129 emission_location:surface_LC, power:20, duration:4, freq:5', '145 emission_location:surface_LC, power:20, duration:4, freq:5', '146 emission_location:surface_LC, power:20, duration:4, freq:5', '160 emission_location:surface_LC, power:20, duration:4, freq:5', '161 emission_location:surface_LC, power:20, duration:4, freq:5', '182 emission_location:surface_LC, power:20, duration:4, freq:5', '191 emission_location:surface_LC, power:20, duration:4, freq:5', '192 emission_location:surface_LC, power:20, duration:4, freq:5', '193 emission_location:surface_LC, power:20, duration:4, freq:5', '194 emission_location:surface_LC, power:20, duration:4, freq:5', '195 emission_location:surface_LC, power:20, duration:4, freq:5', '196 emission_location:surface_LC, power:20, duration:4, freq:5', '3 emission_location:surface_LC, power:30, duration:4, freq:5', '5 emission_location:surface_LC, power:30, duration:4, freq:5', '6 emission_location:surface_LC, power:30, duration:4, freq:5', '7 emission_location:surface_LC, power:30, duration:4, freq:5', '8 emission_location:surface_LC, power:30, duration:4, freq:5', '15 emission_location:surface_LC, power:30, duration:4, freq:5', '17 emission_location:surface_LC, power:30, duration:4, freq:5', '19 emission_location:surface_LC, power:30, duration:4, freq:5', '21 emission_location:surface_LC, power:30, duration:4, freq:5', '22 emission_location:surface_LC, power:30, duration:4, freq:5', '26 emission_location:surface_LC, power:30, duration:4, freq:5', '28 emission_location:surface_LC, power:30, duration:4, freq:5', '29 emission_location:surface_LC, power:30, duration:4, freq:5', '31 emission_location:surface_LC, power:30, duration:4, freq:5', '32 emission_location:surface_LC, power:30, duration:4, freq:5', '33 emission_location:surface_LC, power:30, duration:4, freq:5', '34 emission_location:surface_LC, power:30, duration:4, freq:5', '36 emission_location:surface_LC, power:30, duration:4, freq:5', '37 emission_location:surface_LC, power:30, duration:4, freq:5', '41 emission_location:surface_LC, power:30, duration:4, freq:5', '43 emission_location:surface_LC, power:30, duration:4, freq:5', '44 emission_location:surface_LC, power:30, duration:4, freq:5', '48 emission_location:surface_LC, power:30, duration:4, freq:5', '52 emission_location:surface_LC, power:30, duration:4, freq:5', '57 emission_location:surface_LC, power:30, duration:4, freq:5', '58 emission_location:surface_LC, power:30, duration:4, freq:5', '59 emission_location:surface_LC, power:30, duration:4, freq:5', '60 emission_location:surface_LC, power:30, duration:4, freq:5', '61 emission_location:surface_LC, power:30, duration:4, freq:5', '62 emission_location:surface_LC, power:30, duration:4, freq:5', '64 emission_location:surface_LC, power:30, duration:4, freq:5', '65 emission_location:surface_LC, power:30, duration:4, freq:5', '70 emission_location:surface_LC, power:30, duration:4, freq:5', '71 emission_location:surface_LC, power:30, duration:4, freq:5', '84 emission_location:surface_LC, power:30, duration:4, freq:5', '87 emission_location:surface_LC, power:30, duration:4, freq:5', '91 emission_location:surface_LC, power:30, duration:4, freq:5', '93 emission_location:surface_LC, power:30, duration:4, freq:5', '97 emission_location:surface_LC, power:30, duration:4, freq:5', '98 emission_location:surface_LC, power:30, duration:4, freq:5', '99 emission_location:surface_LC, power:30, duration:4, freq:5', '100 emission_location:surface_LC, power:30, duration:4, freq:5', '102 emission_location:surface_LC, power:30, duration:4, freq:5', '111 emission_location:surface_LC, power:30, duration:4, freq:5', '113 emission_location:surface_LC, power:30, duration:4, freq:5', '115 emission_location:surface_LC, power:30, duration:4, freq:5', '118 emission_location:surface_LC, power:30, duration:4, freq:5', '119 emission_location:surface_LC, power:30, duration:4, freq:5', '121 emission_location:surface_LC, power:30, duration:4, freq:5', '125 emission_location:surface_LC, power:30, duration:4, freq:5', '127 emission_location:surface_LC, power:30, duration:4, freq:5', '128 emission_location:surface_LC, power:30, duration:4, freq:5', '129 emission_location:surface_LC, power:30, duration:4, freq:5', '130 emission_location:surface_LC, power:30, duration:4, freq:5', '134 emission_location:surface_LC, power:30, duration:4, freq:5', '139 emission_location:surface_LC, power:30, duration:4, freq:5', '145 emission_location:surface_LC, power:30, duration:4, freq:5', '146 emission_location:surface_LC, power:30, duration:4, freq:5', '148 emission_location:surface_LC, power:30, duration:4, freq:5', '151 emission_location:surface_LC, power:30, duration:4, freq:5', '152 emission_location:surface_LC, power:30, duration:4, freq:5', '154 emission_location:surface_LC, power:30, duration:4, freq:5', '158 emission_location:surface_LC, power:30, duration:4, freq:5', '160 emission_location:surface_LC, power:30, duration:4, freq:5', '161 emission_location:surface_LC, power:30, duration:4, freq:5', '162 emission_location:surface_LC, power:30, duration:4, freq:5', '163 emission_location:surface_LC, power:30, duration:4, freq:5', '174 emission_location:surface_LC, power:30, duration:4, freq:5', '179 emission_location:surface_LC, power:30, duration:4, freq:5', '182 emission_location:surface_LC, power:30, duration:4, freq:5', '185 emission_location:surface_LC, power:30, duration:4, freq:5', '190 emission_location:surface_LC, power:30, duration:4, freq:5', '191 emission_location:surface_LC, power:30, duration:4, freq:5', '192 emission_location:surface_LC, power:30, duration:4, freq:5', '193 emission_location:surface_LC, power:30, duration:4, freq:5', '194 emission_location:surface_LC, power:30, duration:4, freq:5', '195 emission_location:surface_LC, power:30, duration:4, freq:5', '196 emission_location:surface_LC, power:30, duration:4, freq:5', '3 emission_location:surface_LC, power:40, duration:4, freq:5', '6 emission_location:surface_LC, power:40, duration:4, freq:5', '7 emission_location:surface_LC, power:40, duration:4, freq:5', '17 emission_location:surface_LC, power:40, duration:4, freq:5', '19 emission_location:surface_LC, power:40, duration:4, freq:5', '21 emission_location:surface_LC, power:40, duration:4, freq:5', '22 emission_location:surface_LC, power:40, duration:4, freq:5', '28 emission_location:surface_LC, power:40, duration:4, freq:5', '31 emission_location:surface_LC, power:40, duration:4, freq:5', '32 emission_location:surface_LC, power:40, duration:4, freq:5', '37 emission_location:surface_LC, power:40, duration:4, freq:5', '41 emission_location:surface_LC, power:40, duration:4, freq:5', '43 emission_location:surface_LC, power:40, duration:4, freq:5', '57 emission_location:surface_LC, power:40, duration:4, freq:5', '58 emission_location:surface_LC, power:40, duration:4, freq:5', '60 emission_location:surface_LC, power:40, duration:4, freq:5', '61 emission_location:surface_LC, power:40, duration:4, freq:5', '62 emission_location:surface_LC, power:40, duration:4, freq:5', '64 emission_location:surface_LC, power:40, duration:4, freq:5', '65 emission_location:surface_LC, power:40, duration:4, freq:5', '66 emission_location:surface_LC, power:40, duration:4, freq:5', '84 emission_location:surface_LC, power:40, duration:4, freq:5', '91 emission_location:surface_LC, power:40, duration:4, freq:5', '97 emission_location:surface_LC, power:40, duration:4, freq:5', '99 emission_location:surface_LC, power:40, duration:4, freq:5', '113 emission_location:surface_LC, power:40, duration:4, freq:5', '118 emission_location:surface_LC, power:40, duration:4, freq:5', '119 emission_location:surface_LC, power:40, duration:4, freq:5', '121 emission_location:surface_LC, power:40, duration:4, freq:5', '125 emission_location:surface_LC, power:40, duration:4, freq:5', '127 emission_location:surface_LC, power:40, duration:4, freq:5', '145 emission_location:surface_LC, power:40, duration:4, freq:5', '146 emission_location:surface_LC, power:40, duration:4, freq:5', '151 emission_location:surface_LC, power:40, duration:4, freq:5', '153 emission_location:surface_LC, power:40, duration:4, freq:5', '161 emission_location:surface_LC, power:40, duration:4, freq:5', '162 emission_location:surface_LC, power:40, duration:4, freq:5', '163 emission_location:surface_LC, power:40, duration:4, freq:5', '182 emission_location:surface_LC, power:40, duration:4, freq:5', '191 emission_location:surface_LC, power:40, duration:4, freq:5', '192 emission_location:surface_LC, power:40, duration:4, freq:5', '193 emission_location:surface_LC, power:40, duration:4, freq:5', '194 emission_location:surface_LC, power:40, duration:4, freq:5', '195 emission_location:surface_LC, power:40, duration:4, freq:5', '196 emission_location:surface_LC, power:40, duration:4, freq:5', '3 emission_location:surface_LC, power:50, duration:4, freq:5', '5 emission_location:surface_LC, power:50, duration:4, freq:5', '6 emission_location:surface_LC, power:50, duration:4, freq:5', '7 emission_location:surface_LC, power:50, duration:4, freq:5', '17 emission_location:surface_LC, power:50, duration:4, freq:5', '19 emission_location:surface_LC, power:50, duration:4, freq:5', '21 emission_location:surface_LC, power:50, duration:4, freq:5', '22 emission_location:surface_LC, power:50, duration:4, freq:5', '26 emission_location:surface_LC, power:50, duration:4, freq:5', '28 emission_location:surface_LC, power:50, duration:4, freq:5', '29 emission_location:surface_LC, power:50, duration:4, freq:5', '31 emission_location:surface_LC, power:50, duration:4, freq:5', '32 emission_location:surface_LC, power:50, duration:4, freq:5', '37 emission_location:surface_LC, power:50, duration:4, freq:5', '41 emission_location:surface_LC, power:50, duration:4, freq:5', '43 emission_location:surface_LC, power:50, duration:4, freq:5', '57 emission_location:surface_LC, power:50, duration:4, freq:5', '58 emission_location:surface_LC, power:50, duration:4, freq:5', '59 emission_location:surface_LC, power:50, duration:4, freq:5', '60 emission_location:surface_LC, power:50, duration:4, freq:5', '61 emission_location:surface_LC, power:50, duration:4, freq:5', '64 emission_location:surface_LC, power:50, duration:4, freq:5', '65 emission_location:surface_LC, power:50, duration:4, freq:5', '70 emission_location:surface_LC, power:50, duration:4, freq:5', '84 emission_location:surface_LC, power:50, duration:4, freq:5', '91 emission_location:surface_LC, power:50, duration:4, freq:5', '97 emission_location:surface_LC, power:50, duration:4, freq:5', '99 emission_location:surface_LC, power:50, duration:4, freq:5', '118 emission_location:surface_LC, power:50, duration:4, freq:5', '119 emission_location:surface_LC, power:50, duration:4, freq:5', '121 emission_location:surface_LC, power:50, duration:4, freq:5', '125 emission_location:surface_LC, power:50, duration:4, freq:5', '127 emission_location:surface_LC, power:50, duration:4, freq:5', '129 emission_location:surface_LC, power:50, duration:4, freq:5', '132 emission_location:surface_LC, power:50, duration:4, freq:5', '145 emission_location:surface_LC, power:50, duration:4, freq:5', '146 emission_location:surface_LC, power:50, duration:4, freq:5', '151 emission_location:surface_LC, power:50, duration:4, freq:5', '153 emission_location:surface_LC, power:50, duration:4, freq:5', '161 emission_location:surface_LC, power:50, duration:4, freq:5', '163 emission_location:surface_LC, power:50, duration:4, freq:5', '182 emission_location:surface_LC, power:50, duration:4, freq:5', '191 emission_location:surface_LC, power:50, duration:4, freq:5', '192 emission_location:surface_LC, power:50, duration:4, freq:5', '193 emission_location:surface_LC, power:50, duration:4, freq:5', '194 emission_location:surface_LC, power:50, duration:4, freq:5', '195 emission_location:surface_LC, power:50, duration:4, freq:5', '196 emission_location:surface_LC, power:50, duration:4, freq:5']\n",
      "Number of units with at least 5 spikes: 421\n"
     ]
    }
   ],
   "source": [
    "min_spikes_per_unit = 5\n",
    "keep_unit_ids = []\n",
    "count_spikes = sorting_all.count_num_spikes_per_unit()\n",
    "for unit_id, count in count_spikes.items():\n",
    "    if count >= min_spikes_per_unit:\n",
    "        keep_unit_ids.append(unit_id)\n",
    "print(keep_unit_ids)\n",
    "\n",
    "analyzer = analyzer_all.select_units(keep_unit_ids)\n",
    "print(f\"Number of units with at least {min_spikes_per_unit} spikes: {len(analyzer.unit_ids)}\")"
   ]
  },
  {
   "cell_type": "code",
   "execution_count": 74,
   "metadata": {},
   "outputs": [
    {
     "data": {
      "application/json": {
       "ascii": false,
       "bar_format": null,
       "colour": null,
       "elapsed": 0.014041900634765625,
       "initial": 0,
       "n": 0,
       "ncols": null,
       "nrows": null,
       "postfix": null,
       "prefix": "compute_waveforms",
       "rate": null,
       "total": 6698,
       "unit": "it",
       "unit_divisor": 1000,
       "unit_scale": false
      },
      "application/vnd.jupyter.widget-view+json": {
       "model_id": "c590162c60df4a3eb8ac98b3ab732171",
       "version_major": 2,
       "version_minor": 0
      },
      "text/plain": [
       "compute_waveforms:   0%|          | 0/6698 [00:00<?, ?it/s]"
      ]
     },
     "metadata": {},
     "output_type": "display_data"
    }
   ],
   "source": [
    "_ = analyzer.compute(\"random_spikes\", method=\"all\")\n",
    "_ = analyzer.compute([\"waveforms\", \"templates\"])"
   ]
  },
  {
   "cell_type": "code",
   "execution_count": 76,
   "metadata": {},
   "outputs": [],
   "source": [
    "analyzer_saved_zarr = analyzer.save_as(format='zarr', folder = f'{session_dir[f\"ephys_processed_dir_{data_type}\"]}/opto_waveforms.zarr')\n",
    "\n",
    "# load_sorting_analyzer = False\n",
    "# if load_sorting_analyzer:\n",
    "#     # Load\n",
    "#     # analyzer_loaded = si.load_sorting_analyzer(f'{results_folder}/analyzer_saved')\n",
    "#     analyzer_loaded_zarr = si.load_sorting_analyzer(f'{results_folder}/analyzer_saved.zarr')\n",
    "#     print(analyzer_loaded_zarr)"
   ]
  },
  {
   "cell_type": "code",
   "execution_count": 60,
   "metadata": {},
   "outputs": [
    {
     "name": "stdout",
     "output_type": "stream",
     "text": [
      "0 spont\n",
      "1 spont\n",
      "2 spont\n",
      "0 spont\n",
      "196 emission_location:surface_LC, power:50, duration:4, freq:5\n"
     ]
    },
    {
     "ename": "ValueError",
     "evalue": "too many values to unpack (expected 3)",
     "output_type": "error",
     "traceback": [
      "\u001b[0;31m---------------------------------------------------------------------------\u001b[0m",
      "\u001b[0;31mValueError\u001b[0m                                Traceback (most recent call last)",
      "\u001b[1;32m/root/capsule/code/beh_ephys_analysis/test_waveforms_recompute.ipynb Cell 18\u001b[0m line \u001b[0;36m2\n\u001b[1;32m     <a href='vscode-notebook-cell://codeocean.allenneuraldynamics.org/root/capsule/code/beh_ephys_analysis/test_waveforms_recompute.ipynb#X30sdnNjb2RlLXJlbW90ZQ%3D%3D?line=22'>23</a>\u001b[0m \u001b[39melse\u001b[39;00m:\n\u001b[1;32m     <a href='vscode-notebook-cell://codeocean.allenneuraldynamics.org/root/capsule/code/beh_ephys_analysis/test_waveforms_recompute.ipynb#X30sdnNjb2RlLXJlbW90ZQ%3D%3D?line=23'>24</a>\u001b[0m     split_strs \u001b[39m=\u001b[39m case\u001b[39m.\u001b[39msplit(\u001b[39m\"\u001b[39m\u001b[39m,\u001b[39m\u001b[39m\"\u001b[39m)\n\u001b[0;32m---> <a href='vscode-notebook-cell://codeocean.allenneuraldynamics.org/root/capsule/code/beh_ephys_analysis/test_waveforms_recompute.ipynb#X30sdnNjb2RlLXJlbW90ZQ%3D%3D?line=24'>25</a>\u001b[0m     site_str, power_str, duration_str \u001b[39m=\u001b[39m split_strs\n\u001b[1;32m     <a href='vscode-notebook-cell://codeocean.allenneuraldynamics.org/root/capsule/code/beh_ephys_analysis/test_waveforms_recompute.ipynb#X30sdnNjb2RlLXJlbW90ZQ%3D%3D?line=26'>27</a>\u001b[0m     site \u001b[39m=\u001b[39m site_str\u001b[39m.\u001b[39msplit(\u001b[39m\"\u001b[39m\u001b[39m:\u001b[39m\u001b[39m\"\u001b[39m)[\u001b[39m1\u001b[39m]\n\u001b[1;32m     <a href='vscode-notebook-cell://codeocean.allenneuraldynamics.org/root/capsule/code/beh_ephys_analysis/test_waveforms_recompute.ipynb#X30sdnNjb2RlLXJlbW90ZQ%3D%3D?line=27'>28</a>\u001b[0m     power \u001b[39m=\u001b[39m power_str\u001b[39m.\u001b[39msplit(\u001b[39m\"\u001b[39m\u001b[39m:\u001b[39m\u001b[39m\"\u001b[39m)[\u001b[39m1\u001b[39m]\n",
      "\u001b[0;31mValueError\u001b[0m: too many values to unpack (expected 3)"
     ]
    }
   ],
   "source": [
    "columns=[\"unit_id\", \"spont\", \"power\", \"site\", \"template\", \"peak_channel\", \"peak_waveform\"]\n",
    "waveform_metrics = pd.DataFrame(columns=columns)\n",
    "\n",
    "template_ext = analyzer.get_extension(\"templates\")\n",
    "extreme_channel_indices = si.get_template_extremum_channel(analyzer, mode = \"at_index\", outputs = \"index\")\n",
    "extreme_channels = si.get_template_extremum_channel(analyzer) \n",
    "\n",
    "for ind_id, unit_id in enumerate(analyzer.unit_ids):\n",
    "    print(unit_id)\n",
    "    unit_id_name, case = unit_id.split(\" \", 1)\n",
    "    # print(unit_id_name, case)\n",
    "    unit_template = template_ext.get_unit_template(unit_id)       \n",
    "    peak_waveform = unit_template[:,extreme_channel_indices[unit_id]]\n",
    "    # plt.figure()\n",
    "    # plt.plot(list(unit_waveform[:,extreme_channel_indices[\"14 spont\"]]))\n",
    "    # plt.show()\n",
    "\n",
    "    new_row = dict(unit_id=unit_id_name, template=unit_template, peak_channel=extreme_channels[unit_id], peak_waveform=peak_waveform)    \n",
    "    if \"spont\" in case:                \n",
    "        new_row[\"spont\"] = 1\n",
    "        new_row[\"power\"] = np.nan\n",
    "        new_row[\"site\"] = np.nan\n",
    "    else:\n",
    "        split_strs = case.split(\",\")\n",
    "        site_str, power_str, duration_str, freq_str = split_strs\n",
    "\n",
    "        site = site_str.split(\":\")[1]\n",
    "        power = power_str.split(\":\")[1]\n",
    "        duration = duration_str.split(\":\")[1]\n",
    "        # site = site_str.split(\":\")[1]\n",
    "        new_row[\"spont\"] = 0\n",
    "        new_row[\"site\"] = site\n",
    "        new_row[\"power\"] = power\n",
    "        # new_row[\"site\"] = power\n",
    "    waveform_metrics = pd.concat([waveform_metrics, pd.DataFrame([new_row])])\n"
   ]
  },
  {
   "cell_type": "code",
   "execution_count": null,
   "metadata": {},
   "outputs": [],
   "source": [
    "# calculate correlation and Euclidean distance, normalized by power\n"
   ]
  },
  {
   "cell_type": "code",
   "execution_count": null,
   "metadata": {},
   "outputs": [],
   "source": [
    "\n",
    "\n",
    "waveform_metrics.to_csv(f\"{session_dir[f'ephys_processed_dir_{data_type}']}/{session_id}_opto_waveform_metrics.csv\", index=False)\n",
    "print(f\"Saved waveform metrics to {session_dir[f'ephys_processed_dir_{data_type}']}/{session_id}_opto_waveform_metrics.csv\")"
   ]
  }
 ],
 "metadata": {
  "kernelspec": {
   "display_name": "base",
   "language": "python",
   "name": "python3"
  },
  "language_info": {
   "codemirror_mode": {
    "name": "ipython",
    "version": 3
   },
   "file_extension": ".py",
   "mimetype": "text/x-python",
   "name": "python",
   "nbconvert_exporter": "python",
   "pygments_lexer": "ipython3",
   "version": "3.9.12"
  }
 },
 "nbformat": 4,
 "nbformat_minor": 2
}
