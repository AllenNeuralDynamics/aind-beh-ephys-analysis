{
 "cells": [
  {
   "cell_type": "code",
   "execution_count": 33,
   "metadata": {},
   "outputs": [],
   "source": [
    "import pickle\n",
    "import sys\n",
    "import os\n",
    "import json\n",
    "import pandas as pd\n",
    "import ast\n",
    "import numpy as np\n",
    "# add utils to path\n",
    "sys.path.append('/root/capsule/code/beh_ephys_analysis')\n",
    "from utils.beh_functions import parseSessionID"
   ]
  },
  {
   "cell_type": "code",
   "execution_count": 34,
   "metadata": {},
   "outputs": [],
   "source": [
    "# Load the CCF summary CSV file\n",
    "anti_file_path = '/root/capsule/code/data_management/antidromic_unit_summary_manual_072725.csv'\n",
    "anti_df = pd.read_csv(anti_file_path)\n",
    "anti_df['found'] = 0\n",
    "# load the combined pickle file\n",
    "combined_pickle_path = '/root/capsule/scratch/combined/combine_unit_tbl/combined_unit_tbl.pkl'\n",
    "with open(combined_pickle_path, 'rb') as f:\n",
    "    combined_unit_tbl = pickle.load(f)"
   ]
  },
  {
   "cell_type": "code",
   "execution_count": 35,
   "metadata": {},
   "outputs": [],
   "source": [
    "anti_df['session'] = anti_df['session'].ffill()"
   ]
  },
  {
   "cell_type": "code",
   "execution_count": 36,
   "metadata": {},
   "outputs": [],
   "source": [
    "skipping_ani_ids = []"
   ]
  },
  {
   "cell_type": "code",
   "execution_count": 37,
   "metadata": {},
   "outputs": [],
   "source": [
    "combined_unit_tbl['anti_resp'] = 0\n",
    "for ind, row in anti_df.iterrows():\n",
    "    session = row['session']\n",
    "    unit = row['unit_id']\n",
    "    anti = row['tier']\n",
    "    proj = row['projection']\n",
    "    aniID, date_obj, raw_id = parseSessionID(session)\n",
    "    if aniID not in skipping_ani_ids:\n",
    "        if combined_unit_tbl[(combined_unit_tbl['session'] == session) & (combined_unit_tbl['unit'] == unit)].empty:\n",
    "            print(f\"Skipping {session} {unit} as it does not exist in combined_unit_tbl\")\n",
    "            continue\n",
    "        curr_optp_resp = combined_unit_tbl[(combined_unit_tbl['session'] == session) & (combined_unit_tbl['unit'] == unit)]['anti_resp'].values[0]\n",
    "        combined_unit_tbl.loc[(combined_unit_tbl['session'] == session) & (combined_unit_tbl['unit'] == unit), 'anti_resp'] = max(curr_optp_resp, anti)\n",
    "        combined_unit_tbl.loc[(combined_unit_tbl['session'] == session) & (combined_unit_tbl['unit'] == unit), 'proj'] = proj\n",
    "        anti_df.at[ind, 'found'] = 1"
   ]
  },
  {
   "cell_type": "code",
   "execution_count": 38,
   "metadata": {},
   "outputs": [],
   "source": [
    "# update the existing pickle file with the new CCF coordinates\n",
    "with open(combined_pickle_path, 'wb') as f:\n",
    "    pickle.dump(combined_unit_tbl, f)"
   ]
  },
  {
   "cell_type": "code",
   "execution_count": 39,
   "metadata": {},
   "outputs": [],
   "source": [
    "anti_df.to_csv(anti_file_path, index=False)"
   ]
  }
 ],
 "metadata": {
  "kernelspec": {
   "display_name": "base",
   "language": "python",
   "name": "python3"
  },
  "language_info": {
   "codemirror_mode": {
    "name": "ipython",
    "version": 3
   },
   "file_extension": ".py",
   "mimetype": "text/x-python",
   "name": "python",
   "nbconvert_exporter": "python",
   "pygments_lexer": "ipython3",
   "version": "3.10.18"
  }
 },
 "nbformat": 4,
 "nbformat_minor": 2
}
