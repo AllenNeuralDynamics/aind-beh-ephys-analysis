{
 "cells": [
  {
   "cell_type": "code",
   "execution_count": 1,
   "metadata": {},
   "outputs": [],
   "source": [
    "from codeocean.data_asset import DataAssetParams, DataAssetSearchParams,DataAssetAttachParams, Source, AWSS3Source\n",
    "import pandas as pd\n",
    "import os, sys\n",
    "from codeocean import CodeOcean\n",
    "from codeocean.data_asset import DataAssetParams, DataAssetSearchParams,DataAssetAttachParams, Source, AWSS3Source\n",
    "client = CodeOcean(domain=\"https://codeocean.allenneuraldynamics.org\", token=os.getenv(\"API_SECRET\"))"
   ]
  },
  {
   "cell_type": "code",
   "execution_count": 2,
   "metadata": {},
   "outputs": [],
   "source": [
    "computations = client.capsules.list_computations(capsule_id=os.getenv(\"CO_CAPSULE_ID\"))"
   ]
  },
  {
   "cell_type": "code",
   "execution_count": 23,
   "metadata": {},
   "outputs": [],
   "source": [
    "ids = list(set([data_asset.id for computation in computations for data_asset in computation.data_assets]))"
   ]
  },
  {
   "cell_type": "code",
   "execution_count": 25,
   "metadata": {},
   "outputs": [
    {
     "name": "stdout",
     "output_type": "stream",
     "text": [
      "Removed all 13 data assets.\n"
     ]
    }
   ],
   "source": [
    "results_rm = client.capsules.detach_data_assets(\n",
    "    capsule_id=os.getenv(\"CO_CAPSULE_ID\"),\n",
    "    data_assets = ids\n",
    ")\n",
    "print(f'Removed all {len(ids)} data assets.')"
   ]
  }
 ],
 "metadata": {
  "kernelspec": {
   "display_name": "base",
   "language": "python",
   "name": "python3"
  },
  "language_info": {
   "codemirror_mode": {
    "name": "ipython",
    "version": 3
   },
   "file_extension": ".py",
   "mimetype": "text/x-python",
   "name": "python",
   "nbconvert_exporter": "python",
   "pygments_lexer": "ipython3",
   "version": "3.11.9"
  }
 },
 "nbformat": 4,
 "nbformat_minor": 2
}
