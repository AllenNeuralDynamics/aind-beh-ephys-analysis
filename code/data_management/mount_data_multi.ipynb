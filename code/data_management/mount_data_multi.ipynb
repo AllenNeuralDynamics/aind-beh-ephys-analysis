{
 "cells": [
  {
   "cell_type": "code",
   "execution_count": 1,
   "id": "e0e92be7",
   "metadata": {},
   "outputs": [],
   "source": [
    "from codeocean.data_asset import DataAssetParams, DataAssetSearchParams,DataAssetAttachParams, Source, AWSS3Source\n",
    "import pandas as pd\n",
    "import os, sys\n",
    "from codeocean import CodeOcean\n",
    "from codeocean.data_asset import DataAssetParams, DataAssetSearchParams,DataAssetAttachParams, Source, AWSS3Source\n",
    "client = CodeOcean(domain=\"https://codeocean.allenneuraldynamics.org\", token=os.getenv(\"API_SECRET\"))"
   ]
  },
  {
   "cell_type": "code",
   "execution_count": 3,
   "id": "8305cec8",
   "metadata": {},
   "outputs": [],
   "source": [
    "# load and parse data ids\n",
    "datalist_dir = '.../session_assets.csv'\n",
    "data_df = pd.read_excel(datalist_dir, sheet_name='Sheet1')"
   ]
  },
  {
   "cell_type": "code",
   "execution_count": 13,
   "id": "57945165",
   "metadata": {},
   "outputs": [
    {
     "data": {
      "text/plain": [
       "['2d28ccd9-48ab-429e-92ef-7723135ee306',\n",
       " 'f7ceca5c-5010-4436-8a91-b0c780b04fd8']"
      ]
     },
     "execution_count": 13,
     "metadata": {},
     "output_type": "execute_result"
    }
   ],
   "source": [
    "col_to_attach = ['raw_data', 'sorted_curated']\n",
    "curr_ids = list(data_df[col_to_attach[0]].values)\n",
    "curr_ids"
   ]
  },
  {
   "cell_type": "code",
   "execution_count": 22,
   "id": "1a82bd20",
   "metadata": {},
   "outputs": [],
   "source": [
    "# Lists of strings for id and mount\n",
    "all_ids = []\n",
    "all_mounts = []\n",
    "\n",
    "for curr_col in col_to_attach:\n",
    "    session_ids = list(data_df['session_id'].values)\n",
    "    curr_ids = list(data_df[curr_col].values)\n",
    "    curr_mount = [session_curr + '_' + curr_col for session_curr in session_ids]\n",
    "    all_ids.extend(curr_ids)\n",
    "    all_mounts.extend(curr_mount)\n",
    "\n",
    "\n",
    "# Generate the list of DataAssetAttachParams objects\n",
    "data_assets = [DataAssetAttachParams(id, mount) for id, mount in zip(all_ids, all_mounts)]\n",
    "data_assets_id = all_ids"
   ]
  },
  {
   "cell_type": "code",
   "execution_count": 32,
   "id": "ac5f0c8e",
   "metadata": {},
   "outputs": [],
   "source": [
    "# Attach the generated list\n",
    "results = client.capsules.attach_data_assets(\n",
    "    capsule_id=os.getenv(\"CO_CAPSULE_ID\"),\n",
    "    attach_params=data_assets,\n",
    ")"
   ]
  },
  {
   "cell_type": "code",
   "execution_count": 29,
   "id": "a0c43294",
   "metadata": {},
   "outputs": [],
   "source": [
    "# Remove the generated list\n",
    "results_rm = client.capsules.detach_data_assets(\n",
    "    capsule_id=os.getenv(\"CO_CAPSULE_ID\"),\n",
    "    data_assets = list(data_assets_id)\n",
    ")"
   ]
  },
  {
   "cell_type": "code",
   "execution_count": 8,
   "id": "b7cc94e5",
   "metadata": {},
   "outputs": [
    {
     "name": "stdout",
     "output_type": "stream",
     "text": [
      "['/root/capsule/data/716325_2024-05-29_10-33-32', '/root/capsule/data/716325_2024-05-31_10-31-14', '/root/capsule/data/716325_2024-06-01_09-25-37', '/root/capsule/data/717121_2024-06-11_10-23-31', '/root/capsule/data/717121_2024-06-13_12-21-20', '/root/capsule/data/717121_2024-06-14_10-23-49', '/root/capsule/data/717121_2024-06-15_10-00-58', '/root/capsule/data/717121_2024-06-16_11-45-02', '/root/capsule/data/717259_2024-06-25_10-09-25', '/root/capsule/data/717259_2024-06-26_10-23-07', '/root/capsule/data/717259_2024-06-28_11-17-36']\n"
     ]
    }
   ],
   "source": [
    "directory = '/root/capsule/data'\n",
    "recording_dirs = [os.path.join(directory, f) for f in os.listdir(directory) if os.path.isdir(os.path.join(directory, f))]\n",
    "print(recording_dirs)"
   ]
  },
  {
   "cell_type": "code",
   "execution_count": 10,
   "id": "5c915a09",
   "metadata": {},
   "outputs": [
    {
     "name": "stdout",
     "output_type": "stream",
     "text": [
      "/root/capsule/data/716325_2024-05-29_10-33-32\n"
     ]
    },
    {
     "ename": "NameError",
     "evalue": "name 'Session' is not defined",
     "output_type": "error",
     "traceback": [
      "\u001b[0;31m---------------------------------------------------------------------------\u001b[0m",
      "\u001b[0;31mNameError\u001b[0m                                 Traceback (most recent call last)",
      "Cell \u001b[0;32mIn[10], line 15\u001b[0m\n\u001b[1;32m     11\u001b[0m \u001b[39mprint\u001b[39m(rec_dir)\n\u001b[1;32m     13\u001b[0m AP_key \u001b[39m=\u001b[39m \u001b[39m'\u001b[39m\u001b[39mProbeA\u001b[39m\u001b[39m'\u001b[39m\n\u001b[0;32m---> 15\u001b[0m session \u001b[39m=\u001b[39m Session(rec_dir)\n\u001b[1;32m     16\u001b[0m recording \u001b[39m=\u001b[39m session\u001b[39m.\u001b[39mrecordnodes[\u001b[39m0\u001b[39m]\u001b[39m.\u001b[39mrecordings[\u001b[39m0\u001b[39m]\n\u001b[1;32m     17\u001b[0m events \u001b[39m=\u001b[39m recording\u001b[39m.\u001b[39mevents\n",
      "\u001b[0;31mNameError\u001b[0m: name 'Session' is not defined"
     ]
    }
   ],
   "source": [
    "AP_start = [None]*len(recording_dirs)\n",
    "LFP_start = [None]*len(recording_dirs)\n",
    "NI_start = [None]*len(recording_dirs)\n",
    "AP_count = [None]*len(recording_dirs)\n",
    "LFP_count = [None]*len(recording_dirs)\n",
    "NI_count = [None]*len(recording_dirs)\n",
    "session_id = [None]*len(recording_dirs)\n",
    "local_sync_line = 1\n",
    "for rec_ind, rec_dir in enumerate(recording_dirs):\n",
    "    session_id[rec_ind] = os.path.basename(os.path.normpath(rec_dir))\n",
    "    print(rec_dir)\n",
    "\n",
    "    AP_key = 'ProbeA'\n",
    "\n",
    "    session = Session(rec_dir)\n",
    "    recording = session.recordnodes[0].recordings[0]\n",
    "    events = recording.events\n",
    "    for stream_ind in range(len(recording.continuous)):\n",
    "        stream = recording.continuous[stream_ind]\n",
    "        stream_name = stream.metadata['stream_name']\n",
    "        print(stream_name)\n",
    "        stream_source_node_id =stream.metadata['source_node_id']\n",
    "        stream_freq = stream.metadata['sample_rate']\n",
    "        stream_events = events[\n",
    "                (events.stream_name == stream_name)\n",
    "                & (events.processor_id == stream_source_node_id)\n",
    "                & (events.line == local_sync_line)\n",
    "                & (events.state == 1)\n",
    "            ].sort_values(by='sample_number')\n",
    "        sample_numbers = stream.sample_numbers\n",
    "\n",
    "        if len(stream_events) == 0:\n",
    "            stream_start_time = None\n",
    "        else:\n",
    "            stream_start_time = (stream_events.sample_number.values[0] - np.min(sample_numbers))/stream_freq\n",
    "\n",
    "        if AP_key in stream.metadata['stream_name']:\n",
    "            AP_start[rec_ind] = stream_start_time\n",
    "            AP_count[rec_ind] = len(stream_events)\n",
    "        if 'LFP' in stream.metadata['stream_name']:\n",
    "            LFP_start[rec_ind] = stream_start_time\n",
    "            LFP_count[rec_ind] = len(stream_events)\n",
    "        if 'PXIe' in stream.metadata['stream_name']:\n",
    "            NI_start[rec_ind] = stream_start_time\n",
    "            NI_count[rec_ind] = len(stream_events)\n",
    "\n",
    "\n",
    "import pandas as pd\n",
    "sum_new = pd.DataFrame({\n",
    "    'AP_start': AP_start,\n",
    "    'LFP_start': LFP_start,\n",
    "    'NI_start': NI_start,\n",
    "    'AP_count': AP_count,\n",
    "    'LFP_count': LFP_count,\n",
    "    'NI_count': NI_count,\n",
    "    'session_id': session_id\n",
    "})"
   ]
  },
  {
   "cell_type": "code",
   "execution_count": 5,
   "id": "ff5f3da3",
   "metadata": {},
   "outputs": [
    {
     "name": "stdout",
     "output_type": "stream",
     "text": [
      "mouseid: 608551\n",
      "sessiondate: 2022-05-28\n",
      "1 data asset(s) found\n",
      "attaching single-plane-ophys_608551_2022-05-28_14-56-19\n",
      "done\n"
     ]
    }
   ],
   "source": [
    "# but it can mount a data asset\n",
    "import os\n",
    "mouse_id = '608551'\n",
    "session_date = '2022-05-28'\n",
    "os.system('sh /code/mount_raw_data_asset.sh {} {}'.format(mouse_id,session_date))\n",
    "print('done')"
   ]
  },
  {
   "cell_type": "markdown",
   "id": "dbe78a74",
   "metadata": {},
   "source": [
    "now check /data if the needed data asset was attached"
   ]
  },
  {
   "cell_type": "code",
   "execution_count": null,
   "id": "582ef572",
   "metadata": {},
   "outputs": [],
   "source": []
  }
 ],
 "metadata": {
  "kernelspec": {
   "display_name": "codeocean",
   "language": "python",
   "name": "python3"
  },
  "language_info": {
   "codemirror_mode": {
    "name": "ipython",
    "version": 3
   },
   "file_extension": ".py",
   "mimetype": "text/x-python",
   "name": "python",
   "nbconvert_exporter": "python",
   "pygments_lexer": "ipython3",
   "version": "3.11.9"
  },
  "vscode": {
   "interpreter": {
    "hash": "71b257f583d2d8687f3765ffd7878856813ec18d2decf10adf15cbff4f2d9d8d"
   }
  }
 },
 "nbformat": 4,
 "nbformat_minor": 5
}
